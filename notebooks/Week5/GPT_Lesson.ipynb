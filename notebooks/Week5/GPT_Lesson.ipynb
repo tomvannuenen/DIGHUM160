{
 "cells": [
  {
   "cell_type": "markdown",
   "id": "2c7cfced-157b-4977-b7d6-bf274f3008cc",
   "metadata": {},
   "source": [
    "<img src=\"../../Img/backdrop-wh.png\" alt=\"Drawing\" style=\"width: 300px;\"/>  \n",
    "\n",
    "# GPT Finetuning\n",
    "\n",
    "* * * \n",
    "\n",
    "<div class=\"alert alert-success\">  \n",
    "    \n",
    "### Learning Objectives \n",
    "    \n",
    "* Understand GPT-2 as a large language model.\n",
    "* Reviewing output from pretrained GPT-2 model using the `transformers` library.\n",
    "* Understand the hyperparameters for GPT-2's output generation.\n",
    "* Learn how to finetune GPT-2 on AITA data.\n",
    "* Evaluate differently finetuned GPT-2 models through manual interpretation.\n",
    "\n",
    "</div>\n",
    "\n",
    "### Icons Used in This Notebook\n",
    "🔔 **Question**: A quick question to help you understand what's going on.<br>\n",
    "⚠️ **Warning:** Heads-up about tricky stuff or common mistakes.<br>\n",
    "\n",
    "### Sections\n",
    "1. [What is a Large Language Model?](#llm)\n",
    "2. [What is GPT-2?](#gpt2)\n",
    "3. [Finetuning GPT-2](#ft)\n",
    "4. [Evaluation: Perplexity](#perp)\n",
    "5. [Evaluation: Interpretation](#int)"
   ]
  },
  {
   "cell_type": "markdown",
   "id": "f67bd9f1-97eb-4582-a5cf-fa875f88d302",
   "metadata": {},
   "source": [
    "<a id='llm'></a>\n",
    "# What is a Large Language Model?\n",
    "\n",
    "Large Language Models (LLMs) are machine learning systems trained to predict the next word in a sequence of text. They’re called “large” because they’re built using massive amounts of text data and contain billions of parameters—tunable weights that determine the model’s behavior.\n",
    "\n",
    "LLMs learn patterns in language by analyzing word sequences, grammar, facts, and even writing styles from their training data. Rather than memorizing specific phrases, they build a statistical understanding of how language works. This allows them to generate surprisingly fluent and coherent text, answer questions, summarize content, and more."
   ]
  },
  {
   "cell_type": "markdown",
   "id": "d82fec67-5411-4c42-a594-1e98b0a488e7",
   "metadata": {},
   "source": [
    "<a id='gpt2'></a>\n",
    "# What is GPT-2?\n",
    "\n",
    "**GPT-2 (Generative Pre-trained Transformer 2)**, developed by OpenAI, is a well-known example of an LLM. It’s trained on a broad dataset from the internet and can generate human-like text on a wide variety of topics.\n",
    "\n",
    "\"GPT\" Stands for Generative Pre-trained Transformer. *Generative*, because it generates text. Pre-trained, because it has been trained on a massive amount of data, and \"pre\" insinuates one could further train, or **finetune**, this model. A *transformer* is a specific kind of neural network. You can build different models from transformer architecture; the training goal of GPT is to take in a piece of text, and produce a prediction of what comes next in the passage.\n",
    "\n",
    "GPT-2 is a model from 2019. It was trained on a dataset of 8 million web pages. In this notebook, we are using GPT-2 Small, the base model, which has only (!) 117 million parameters (for comparison, GPT-2 XL has 1.5 billion parameters, and GPT4 has 175 *billion*). A \"parameter\" is an adjustable internal value that the model learns and uses to make predictions or generate text based on its input. More parameters usually means a \"smarter\", more capable model.\n",
    "\n",
    "We use this smaller model to make it possible to finetune it on a local computer (although you still need a pretty recent machine to run the code in this notebook). \n",
    "\n",
    "## What is fine-tuning?\n",
    "Fine-tuning GPT-2 on a specific dataset, like our r/amitheasshole dataset, customizes the model's responses to reflect the themes, style, language, or idioms found within that corpus. This process tailors the model's generative capabilities, making it more likely to produce outputs that are stylistically and thematically aligned with the fine-tuning material.\n",
    "\n",
    "The model's adaptation will be more pronounced when generating text related to or prompted by the domain we train it on. This might include specific narrative styles, dialogue structures, and  conventions unique to Am I The Asshole.\n",
    "\n",
    "## Weight Adjustment\n",
    "Fine-tuning adjusts the weights of the neural network to minimize the loss on the new data. The changes in weights help the model better predict or generate sequences that resemble the fine-tuning data."
   ]
  },
  {
   "cell_type": "markdown",
   "id": "d6478974-310b-49b4-bb6e-7cace9efa711",
   "metadata": {},
   "source": [
    "## Importing packages\n",
    "\n",
    "⚠️ **Warning:** I recommend running this code in a new **environment**, since the PyTorch and Transformers packages might clash with other installed packages. \n",
    "\n",
    "I highly recommend following the **\"How to create Conda Environments & Install Dependencies\"** page on bCourses if you want to know how to create environments. "
   ]
  },
  {
   "cell_type": "code",
   "execution_count": 8,
   "id": "be00427a-62a9-49fa-8ee6-cecf08d68dd5",
   "metadata": {
    "collapsed": true,
    "jupyter": {
     "outputs_hidden": true
    }
   },
   "outputs": [
    {
     "name": "stdout",
     "output_type": "stream",
     "text": [
      "Channels:\n",
      " - defaults\n",
      " - anaconda\n",
      " - conda-forge\n",
      "Platform: osx-arm64\n",
      "Collecting package metadata (repodata.json): done\n",
      "Solving environment: failed\n",
      "\n",
      "PackagesNotFoundError: The following packages are not available from current channels:\n",
      "\n",
      "  - torch\n",
      "\n",
      "Current channels:\n",
      "\n",
      "  - defaults\n",
      "  - https://conda.anaconda.org/anaconda\n",
      "  - https://conda.anaconda.org/conda-forge\n",
      "\n",
      "To search for alternate channels that may provide the conda package you're\n",
      "looking for, navigate to\n",
      "\n",
      "    https://anaconda.org\n",
      "\n",
      "and use the search bar at the top of the page.\n",
      "\n",
      "\n",
      "\n",
      "Note: you may need to restart the kernel to use updated packages.\n"
     ]
    }
   ],
   "source": [
    "# Uncomment the following to install PyTorch and Transformers libraries\n",
    "\n",
    "#%pip install pytorch\n",
    "#%pip install transformers "
   ]
  },
  {
   "cell_type": "markdown",
   "id": "306cb272-72fd-48a4-b3ed-e50476d5b1e2",
   "metadata": {},
   "source": [
    "After importing, check which versions of the packages we have."
   ]
  },
  {
   "cell_type": "code",
   "execution_count": 16,
   "id": "642a7038-81fc-4ed4-9792-c0365f88eb15",
   "metadata": {},
   "outputs": [
    {
     "name": "stdout",
     "output_type": "stream",
     "text": [
      "2.1.1\n",
      "4.51.3\n"
     ]
    }
   ],
   "source": [
    "import torch\n",
    "import transformers\n",
    "print(torch.__version__)\n",
    "print(transformers.__version__)"
   ]
  },
  {
   "cell_type": "markdown",
   "id": "aaba1192-ac81-4f0e-b796-d0d665bab905",
   "metadata": {},
   "source": [
    "Let's generate some text. We will use DistilGPT2 (short for Distilled-GPT2), a model pre-trained with the supervision of the smallest version of Generative Pre-trained Transformer 2 (GPT-2). \n",
    "\n",
    "Our input text will be a typical title from an r/aita post. By looking at how the model completes this sentence, we get a sense of its internal logic, and whether it \"understands\" what an r/aita post looks like."
   ]
  },
  {
   "cell_type": "code",
   "execution_count": 2,
   "id": "00216452-6fd2-48e8-a6fc-e77a96e5fc08",
   "metadata": {},
   "outputs": [
    {
     "name": "stderr",
     "output_type": "stream",
     "text": [
      "The attention mask and the pad token id were not set. As a consequence, you may observe unexpected behavior. Please pass your input's `attention_mask` to obtain reliable results.\n",
      "Setting `pad_token_id` to `eos_token_id`:50256 for open-end generation.\n",
      "The attention mask is not set and cannot be inferred from input because pad token is same as eos token. As a consequence, you may observe unexpected behavior. Please pass your input's `attention_mask` to obtain reliable results.\n"
     ]
    },
    {
     "name": "stdout",
     "output_type": "stream",
     "text": [
      "AITA for pretending to get fired when customers get a temper with me?\n",
      "The BJP government has said it will not allow the firing of an employee after its election results in August. The decision is expected to be taken by next month's general elections and would have triggered protests across India, including at least 12 people who were injured during Election Day last year.\n"
     ]
    }
   ],
   "source": [
    "import torch\n",
    "from transformers import GPT2Tokenizer, GPT2LMHeadModel\n",
    "\n",
    "# Set the seed for PyTorch (controls randomness for reproducibility)\n",
    "seed = 1\n",
    "torch.manual_seed(seed)\n",
    "\n",
    "# Load pretrained model and tokenizer\n",
    "tokenizer = GPT2Tokenizer.from_pretrained('gpt2')\n",
    "model = GPT2LMHeadModel.from_pretrained('distilgpt2')\n",
    "\n",
    "# Encode input context to get token IDs\n",
    "input_text = \"AITA for pretending to get fired when customers get a temper with me?\"\n",
    "input_ids = tokenizer.encode(input_text, return_tensors='pt')\n",
    "\n",
    "# Generate text using the model\n",
    "output = model.generate(input_ids, \n",
    "                        do_sample=True, \n",
    "                        max_length=150, \n",
    "                        repetition_penalty=1.1,\n",
    "                        temperature=.5, \n",
    "                        top_k=30, \n",
    "                        top_p=0.95\n",
    "                        )\n",
    "\n",
    "# Decode the generated IDs to text\n",
    "generated_text = tokenizer.decode(output[0], skip_special_tokens=True)\n",
    "\n",
    "print(generated_text)\n"
   ]
  },
  {
   "cell_type": "markdown",
   "id": "267d9ceb-31d3-49a3-99fe-63708cc6612b",
   "metadata": {},
   "source": [
    "🔔 **Question**: Does this output make sense? "
   ]
  },
  {
   "cell_type": "markdown",
   "id": "0fee6e46-6775-428a-b368-1efce6703a59",
   "metadata": {},
   "source": [
    "### On Predicting Text\n",
    "\n",
    "What is happening here? The model tokenizes our `input_text` into subwords (or tokens), and then maps each token onto an embedding vector (i.e., a long list of numbers), which it has learned during training. The model then uses these embeddings to predict the most-likely words to appear after our input text ends. It then draws on probability distribution to generate text, word by word.\n",
    "\n",
    "A few things to note about the arguments we pass into `model.generate`:\n",
    "\n",
    "- When `do_sample=True`, the model generates text by **sampling** from the probability distribution of the next token given the context. This distribution is determined by the model's predictions. Instead of simply picking the most probable next token (deterministic), the model randomly selects the next token based on this probability distribution, which can introduce variety and creativity in the generated text.\n",
    "- `max_length` tells the model how many tokens its response should be.\n",
    "- Parameters like `temperature`, `top_k`, and `top_p` modify this distribution to control diversity and coherence of the output:\n",
    "    - `temperature`: Controls the randomness of the generated output. Higher temperature makes the output distribution more uniform, so you are likely to get more diverse generations\n",
    "    - `top-p`: Samples tokens with the highest probability scores until the sum of the scores reaches the specified threshold value. \n",
    "    - `top-k`: Samples tokens with the highest probabilities until the specified number of tokens is reached.\n",
    " \n"
   ]
  },
  {
   "cell_type": "markdown",
   "id": "167c9dd8-87bb-4960-b3b8-2487aaa257fd",
   "metadata": {},
   "source": [
    "### Visualizing Embeddings \n",
    "\n",
    "As we have seen last week, visualizing the embedding space of a model can provide valuable insights into the structure and potential biases of the learned representations. \n",
    "\n",
    "Let's do this for the `distilgpt2` model using principal component analysis (PCA)."
   ]
  },
  {
   "cell_type": "code",
   "execution_count": 3,
   "id": "06834ec6-9d29-44cb-bb8a-2b700e3d7e92",
   "metadata": {},
   "outputs": [],
   "source": [
    "model = GPT2LMHeadModel.from_pretrained('distilgpt2')\n",
    "embeddings = model.transformer.wte.weight.detach().numpy()\n",
    "\n",
    "tokenizer = GPT2Tokenizer.from_pretrained('gpt2')\n",
    "words = [\"mother\", \"father\", \"wife\", \"husband\", \"sibling\", \"friend\", \"asshole\", \"selfish\", \"dishonest\", \"belittles\", \"dismissive\", \"inconsiderate\", \"overreacts\"]\n",
    "word_indices = [tokenizer.encode(word)[0] for word in words]\n",
    "selected_embeddings = embeddings[word_indices]"
   ]
  },
  {
   "cell_type": "code",
   "execution_count": 4,
   "id": "ace20470-c867-4b07-ad2b-8e81eb895074",
   "metadata": {},
   "outputs": [
    {
     "data": {
      "text/plain": [
       "array([[-0.08683544, -0.0742779 ,  0.08279706, ...,  0.1882141 ,\n",
       "         0.08212308, -0.00772696],\n",
       "       [-0.04411615, -0.2743945 ,  0.09602286, ...,  0.1457259 ,\n",
       "         0.1467388 , -0.01477893],\n",
       "       [ 0.02956365, -0.10193486,  0.04898852, ..., -0.08164124,\n",
       "         0.27095503, -0.17627896],\n",
       "       ...,\n",
       "       [ 0.09597927, -0.07860076,  0.2188769 , ...,  0.27255607,\n",
       "         0.14034851, -0.02970902],\n",
       "       [-0.01643876, -0.17959502,  0.17055063, ...,  0.0508506 ,\n",
       "         0.04920006, -0.05104805],\n",
       "       [-0.07287488, -0.13610548,  0.06346617, ...,  0.15324672,\n",
       "        -0.18826947,  0.02226485]], dtype=float32)"
      ]
     },
     "execution_count": 4,
     "metadata": {},
     "output_type": "execute_result"
    }
   ],
   "source": [
    "selected_embeddings"
   ]
  },
  {
   "cell_type": "code",
   "execution_count": 5,
   "id": "efa3c3b8-ab5c-4038-b06e-b5aabbba0395",
   "metadata": {},
   "outputs": [],
   "source": [
    "from sklearn.decomposition import PCA\n",
    "from sklearn.manifold import TSNE\n",
    "\n",
    "# Using PCA\n",
    "pca = PCA(n_components=2)\n",
    "reduced_embeddings_pca = pca.fit_transform(selected_embeddings)"
   ]
  },
  {
   "cell_type": "code",
   "execution_count": 9,
   "id": "256f18ee-2d96-4fb9-afaa-3a7b96b544e3",
   "metadata": {
    "scrolled": true
   },
   "outputs": [
    {
     "name": "stdout",
     "output_type": "stream",
     "text": [
      "Channels:\n",
      " - defaults\n",
      " - anaconda\n",
      " - conda-forge\n",
      "Platform: osx-arm64\n",
      "Collecting package metadata (repodata.json): done\n",
      "Solving environment: done\n",
      "\n",
      "## Package Plan ##\n",
      "\n",
      "  environment location: /Users/tomvannuenen/anaconda3/envs/dlab\n",
      "\n",
      "  added / updated specs:\n",
      "    - adjusttext\n",
      "\n",
      "\n",
      "The following packages will be downloaded:\n",
      "\n",
      "    package                    |            build\n",
      "    ---------------------------|-----------------\n",
      "    adjusttext-1.3.0           |     pyhd8ed1ab_0          18 KB  conda-forge\n",
      "    ------------------------------------------------------------\n",
      "                                           Total:          18 KB\n",
      "\n",
      "The following NEW packages will be INSTALLED:\n",
      "\n",
      "  adjusttext         conda-forge/noarch::adjusttext-1.3.0-pyhd8ed1ab_0 \n",
      "\n",
      "\n",
      "\n",
      "Downloading and Extracting Packages:\n",
      "                                                                                \n",
      "Preparing transaction: done\n",
      "Verifying transaction: done\n",
      "Executing transaction: done\n",
      "\n",
      "Note: you may need to restart the kernel to use updated packages.\n"
     ]
    }
   ],
   "source": [
    "# Uncomment the following line to install adjustText \n",
    "\n",
    "#%conda install adjustText"
   ]
  },
  {
   "cell_type": "code",
   "execution_count": 10,
   "id": "16c25d86-ba20-483d-a8b6-41300c9bba37",
   "metadata": {
    "scrolled": true
   },
   "outputs": [
    {
     "data": {
      "image/png": "[encoded data removed]",
      "text/plain": [
       "<Figure size 576x432 with 1 Axes>"
      ]
     },
     "metadata": {
      "needs_background": "light"
     },
     "output_type": "display_data"
    }
   ],
   "source": [
    "import matplotlib.pyplot as plt\n",
    "from adjustText import adjust_text\n",
    "\n",
    "# Function to plot\n",
    "def plot_embeddings(embeddings, labels, title='PCA of GPT-2 Embeddings'):\n",
    "    plt.figure(figsize=(8, 6))\n",
    "    texts = []\n",
    "    points = plt.scatter(embeddings[:, 0], embeddings[:, 1])  # scatter plot of embeddings\n",
    "\n",
    "    # Generate text annotations\n",
    "    for i, label in enumerate(labels):\n",
    "        x, y = embeddings[i]\n",
    "        text = plt.text(x, y, label, ha='right', va='bottom', fontsize=9)\n",
    "        texts.append(text)\n",
    "\n",
    "    # Use adjust_text to avoid overlapping\n",
    "    adjust_text(texts, x=embeddings[:, 0], y=embeddings[:, 1], arrowprops=dict(arrowstyle='->', color='red', lw=0.5))\n",
    "\n",
    "    plt.title(title)\n",
    "    plt.grid(True)\n",
    "    plt.show()\n",
    "\n",
    "# Example usage (assuming 'reduced_embeddings_pca' and 'words' are defined)\n",
    "plot_embeddings(reduced_embeddings_pca, words, title='PCA of GPT-2 Embeddings')\n"
   ]
  },
  {
   "cell_type": "markdown",
   "id": "becc72ec-a07e-4a86-a3d7-649fb706d0c5",
   "metadata": {},
   "source": [
    "<a id=\"ft\"></a>\n",
    "\n",
    "# Finetuning GPT-2 - OPTIONAL\n",
    "\n",
    "### ⚠️ Warning\n",
    "Even though we are only training a small model, the following blocks of code operation will take long on a consumer-grade PC (for reference: around 4 hours on an Apple M2 Pro with 16GB memory). I have run this code and saved the model, so you don't have to run it yourself. Please move on to \"Getting the Model From Google Drive\". \n",
    "\n",
    "If you do choose to run the model yourself, you may want to run this notebook in Google Colab using a GPU. See Modules in bCourses for the link.\n",
    "\n",
    "\n",
    "## Tokenizing our Data\n",
    "\n",
    "Time to start the finetuning process. We first load in our r/aita dataset and initialize a tokenizer.\n",
    "\n",
    "The tokenizer performs several critical tasks to convert raw text into a format that the GPT-2 model can understand:\n",
    "\n",
    "- Splitting Text into Tokens: The tokenizer breaks down input text into tokens. For GPT-2, these tokens are usually subwords or characters, allowing the model to handle a wide range of words and vocabularies efficiently.\n",
    "- Converting Tokens to IDs: Each token is mapped to a unique integer ID based on the GPT-2 vocabulary. This conversion is necessary because neural networks operate on numerical data, not raw text.\n",
    "- Adding Special Tokens: GPT-2 requires certain special tokens for its operation (e.g., end-of-text token). The tokenizer takes care of adding these tokens where appropriate.\n",
    "- Padding & Truncation: To process batches of data efficiently, all input sequences must be of the same length. The tokenizer can pad shorter sequences with a special padding token or truncate longer ones to a maximum length.\n",
    "- Creating Attention Masks: The tokenizer generates attention masks to differentiate real tokens from padding tokens. This helps the model pay attention to relevant tokens and ignore padded areas."
   ]
  },
  {
   "cell_type": "code",
   "execution_count": 7,
   "id": "6891802e-b0f1-4050-ab95-cafcd43c18ce",
   "metadata": {},
   "outputs": [],
   "source": [
    "import pandas as pd\n",
    "import numpy as np\n",
    "\n",
    "df = pd.read_csv('../../data/aita_pp.csv')"
   ]
  },
  {
   "cell_type": "code",
   "execution_count": 8,
   "id": "ecaa3aaa-1268-4246-b5bd-dd040c7f13d1",
   "metadata": {},
   "outputs": [],
   "source": [
    "texts = df['selftext'].tolist()"
   ]
  },
  {
   "cell_type": "code",
   "execution_count": 32,
   "id": "591e161d-5e48-43e0-82eb-014543986a95",
   "metadata": {
    "scrolled": true
   },
   "outputs": [
    {
     "data": {
      "text/plain": [
       "['Just recently, our local Walmart and Target have begun to ask for receipts as patrons are leaving the store. At first I would oblige. I thought \"Whatever, it will only take a few seconds, NBD\". But as it happens more and more, I\\'m starting to realize not everyone is being asked to do this. Often times I\\'m having my groceries checked against my receipt as I watch multiple people walk right past us.\\n\\nI thought maybe they were just looking over receipts whenever possible. But one time the \"greeter\" wasn\\'t busy with anyone else. I watched 4 or 5 shoppers walk right out without a word from her, but as I was about to leave, she asks me aside.\\n\\nAt this point I start thinking, I\\'m a young male shopping alone, maybe I\\'m being profiled. So, after she asks politely to see my receipt I respond with \"No thanks.\" and continue out of the store. She looked a little puzzled, but...\\n\\nWow, nothing happened. That\\'s an awful lot more convenient than being \"nice\". So, that\\'s been my default response for the past few weeks. A greeter asks me to provide my receipt and I say \"No Thanks/No/Nope/Nah/Maybe next time/etc.\" with no issues. That is, until last night.\\n\\nI was on my way home from work, when my roommate asks me to pick up a jar of peanut butter. So, I get to the store, find the peanut butter, ring myself up, pay, and make my way to the doors. As I\\'m leaving, an older man says \"Hold up! Let me see your receipt.\", to which I respond \"Nah.\", and continue on my way. He stands up from his chair, raising his voice just a little, and says \"You need to pay for that!\", and I respond \"I did, have a good night!\"\\n\\nThis is when it gets a little weird. He\\'s clearly unconvinced, and begins to yell \"YOU HAVE TO SHOW ME YOUR RECEIPT!\" while following me out into the parking lot. I stop, turn around, and say \"I paid for this, it\\'s my property now, transaction complete\". He just gets even angrier, demanding that I show him my receipt, yelling \"You have to pay for that\" and \"You have to show me your receipt\" non stop.\\n\\nEventually I make it to my car, which he proceeds to stand in front of. Now, he\\'s saying he\\'s going to call the police, yadda yadda. I roll down my window and tell him \"That\\'s fine, you can call them, I don\\'t mind. Can you get away from my car?\", and he responds \"Like hell I will!\" while slamming his hands onto the hood of my car.\\n\\nAt this point I just want to go home. I look around my car and there are no people or cars anywhere nearby. So I quickly reverse my car away from him, and high tail it out of there.\\n\\nAfter recounting this story to my roommates, they said I was a total prick about it. They think that since it would have only taken a second to confirm that I paid for the peanut butter, that means I should have just shown him my receipt and been done with it. \\n\\nBut I think that\\'s bullshit. These stores shouldn\\'t operate on the assumption that I\\'m a thief by default.\\n\\nSo, what does reddit think. AITA?',\n",
       " 'Please excuse any mistakes. I’m on mobile. \\n\\nMy fiancé (33M) and I (27F) live in a duplex that I inherited from my late aunt. My aunt was wheelchair bound, so her unit was renovated to be wheelchair accessible. The unit that my fiancé and I live in do not have the same accommodations.  \\n\\nMy brother’s (35M) partner (34M) is disabled and uses a wheelchair. While they are currently renting a wheelchair friendly apartment, their landlord has decided to raise their rent next year by a significant amount. They can technically afford it, but it would put a serious strain on their finances. \\n\\nI told my brother that they can move in my aunt’s place when their lease is over. We agreed that I would only charge a token amount for rent and my brother would help me with the maintenance and upkeep. \\n\\nA few days ago my fiancé told me that his father has been diagnosed with cancer. While it’s thankfully not terminal, he does need to undergo chemo for a while. My fiancé asked me if his parents move in next door since we live near the hospital and they currently live 2 hours away.\\n\\nI told my fiancé that I was fine with his parents moving into our unit with us, but I’m not going back on my agreement with my brother and BIL.\\n\\nMy fiancé argued that this wasn’t a feasible solution. His parents need their own space. Our place also doesn’t have the accommodations his father might need. He argued that my brother and BIL can wait another year or so to move in, but his dad needs to start treatments soon. They can renew their lease and I can help them with rent. \\n\\nHowever, my ILs are well off and can afford to rent a place that fit their needs. Additionally, my fiancé has two siblings with good paying jobs that can help pay his parent’s expenses. My brother and BIL only have me to help. \\n\\nMy fiancé is still mad at me. He thinks I’m being unfair putting my brother and BIL over his sick dad. Now I’m wondering if I’m wrong. AITA',\n",
       " \"My brother was recently diagnosed with late stage colon cancer and has been in hospital multiple times to get assessments and diagnostic testing. The definitive treatment is a surgery and lengthy hospital stay which costs about $25k out-of-pocket after insurance deductions, and quoted at 70% cure rate. He and my SIL are unable to afford this as they have combined debts of $40k including student loans and not eligible to take more credit. They can at most put together $5000 in time to have the surgery soon enough that it's still effective.\\n\\nThey came to me asking for a loan of $20k. This is my brother here, and they have a 4-year-old daughter and I wouldn't wish for anyone to see their dad die. But $20k is not something we can readily hand out. Debt can destroy lives, and if my wife and I have a mortgage to pay off. If we are out $20k (which will probably get turned into a gift because that's just how loans to family and friends work) and either me or my wife lose our jobs, we'll be in trouble. We have no other family able to help pitch in a significant amount. I told them we can't come up with that much money without going into significant debt (i.e. taking out another loan), and both of them were begging me to consider the loan option. AITA?\",\n",
       " 'I am a woman in my 20s who has very short hair. It isn\\'t just short, it is straight up a men\\'s cut, as I am very masculine/butch looking in general. For the past couple years I have been getting my hair cut at a barber, since it\\'s cheaper and they never try to push me to have a more feminine pixie cut. \\n\\nMy barber moved away recently, so I have been looking for someone new. At the recommendation of my male friend, I found a place that looked good. I walked in and requested a haircut, and the barber looked at me strangely. He said they don\\'t do women\\'s haircuts. I clarified that I just wanted a men\\'s barber haircut, but still he refused, telling me to go to a salon. I was shocked, since this is a big diverse city and short hair on women isn\\'t THAT uncommon. \\n\\nAfter he kicked me out, I felt embarrassed and shocked. I went on the LGBT Facebook page for my city and made a post that said \"gender non-conforming women, don\\'t bother with this barber. He doesn\\'t serve us.\"\\n\\nThe post went kind of viral in the group, getting thousands of comments and likes. One of my friends saw the post and told me it was too much, and that I could seriously hurt a small business. I thought it was appropriate but as the post gets bigger I\\'m having doubts. AITA?',\n",
       " 'my wife (27f) and me (36m) were having thanksgiving dinner at my parents\\' house last thursday. My wife has this weird habit of eating with a teaspoon all the time, instead of a regular spoon so when she and my mom were setting the table, she took a teaspoon for herself. Anyways, when she was eating with it, my dad pointed it out to her and asked \"why on earth are you eating with that tiny spoon? Y\\'know eating in tiny mouths isn\\'t gonna help you lose those extra pounds you have.\" I saw it as a harmless joke at the time and laughed along with it, so did my wife at the time but when we were going back hone she seemed annoyed with me and at first I didn\\'t get why until she told me it was because I let my dad joke about her weight and didn\\'t defend her. She has had some trouble with her weight lately but I didn\\'t think she\\'d get so angry over the joke\\n\\nAt the time she seemed chill about the joke and it really seemed harmless, if someone joked about me that way I wouldn\\'t take it to heart. Personally I don\\'t think her reaction was reasonable and I dont get why she\\'s still annoyed at me for it.\\n\\nEdit: yeah i get it, I\\'m the asshole. But how\\'s it reasonable for my wife to still be mad at me 6 days later when I\\'ve apologised multiple times and I wasn\\'t even the one who made the joke',\n",
       " '28f/29m been together for like 4 years I think. \\n\\nI love this guy to death but when I say he is lazy, that is seriously a huge fucking understatement and doesnt even shed an ounce of light on the actual problem. Hes also a gaming junkie-like the worst of their kind. For example, when a game is being released, he waits up until midnight to purchase the game (no matter how expensive) and will binge on it for weeks straight while hardly sleeping. During this time you will be lucky to get so much as a \"hello\" out of him without him getting pissed for you disrupting him. BUT still expects people to literally cater to his every need so that he doesnt have to get up to do anything. I dont entertain this because I\\'m not his fucking mother.\\n\\nAnyways, a year and a half ago I had to give him an ultimatum. You either get a fucking job and start supporting yourself OR you can leave and go mooch off someone else. He chose to get a job. Lasted a month before he quit. Found another job 2 months later, lasted 2 weeks and quit. He was unemployed for 11 months when he finally landed this job in September. Assassins Creed was just released, what, 2 weeks ago and he started calling out every. single. day. Started staying up until 4am playing his game, would sleep until 8-10am and then be right back at it while asking me to cook and cater to him.\\n\\nYesterday I unplugged and hid his xbox. I knew he was going to call out and jump on his game. As I suspected, that\\'s exactly what he tried doing. He picked a fight with me. Said he hated working and I was forcing him to waste away his life. Claimed he was depressed, though that\\'s the first I\\'ve heard of it. He then tells me to get off my lazy ass and do something for once. I told him to leave. He takes my car because his is \"on its last leg\"- his words. Hes not in work clothes so I know he wasnt going to work. I texted him and said \"If you arent going to work, bring my car back. And if you plan on flaking on this job like the rest of them, you will not be using my car or my internet. Make your choice.\" He texted back saying \"You trying to mother me all the time is a fucking turn off. You holding things against me all the time also makes you a fucking asshole.\"\\n\\nAITA?',\n",
       " 'So about 5 months ago I (29F) got a new place with two of my friends, let\\'s call them Todd(33M) and Jess(32F). The three of us split rent and utilities equally. We all have a similar cleanliness level and a general rule of clean up after yourself. Everyone does their own laundry, keeps their bedrooms tidy, and the common spaces like the livingroom and kitchen get cleaned regularly by all of us. It\\'s a pretty decent situation that keeps everyone happy. \\n\\nNow Todd is very vocal about hating cooking all around. He likes to eat but cant stand the act of actually making food. So Jess and I made a deal with him, we will cook dinner if he does the dinner dishes. He agreed and loves that he can come home from work, crack a cold one, and put his feet up. \\n\\nThe issues in question occurred a few days ago. I made dinner for everyone, we ate dinner and watched TV together, the night came to a close and everyone went to bed. The next morning Todd left for work, Jess left for work, and I got up to start my job (I work from home) only to realize the dishes had never been done. I figured he was just tired and didn\\'t have the energy to do them, no biggie. So I put all the dishes nicely into the sink, and wiped down the counters while I was waiting for coffee to brew. \\n\\nThe day proceeds like normal, everyone gets home from work. Jess and I discuss what we will cook for dinner and realize that we need some of the dishes from the previous night. We ask Todd if he will wash them and he grumbles saying how he\\'s had a long day and doesn\\'t want to be on his feet any longer. I press him and say I\\'ve worked a full day and so had Jess but we are making dinner so he should do his part and wash the dishes for us. \\n\\nIt turned into a big argument about how his work is harder than ours because he works outside on his feet all day while Jess gets to be in AC and I get to be home all day so I\\'m practically not working. \\n\\nEveryone is still mad and I have refused to cook dinner for everyone if Todd doesn\\'t do the dishes anymore. \\n\\nSo reddit, AITA for disrupting the balance of the house?\\n\\nAlso obligatory \"sorry I\\'m on mobile\" for any typos.\\n\\nEDIT: Thank you everyone for your kind words and support in the issue. We have a \"family meeting\" planned for this evening after everyone gets off work. Yes we call it a family meeting because we are all close and basically each others chosen family. I will be sure to bring up my feelings in the matter and if for whatever reason he doesn\\'t understand, I\\'ll show him this post and he can read all of your sides as well!',\n",
       " 'I am an atheist, and my mom has known this since I was 15, she normally respects this but 4 years ago on my 30th birthday, my mom, as always had a family dinner to celebrate.\\n\\nWhen it came time to eat my mom asked my grandfather to say a prayer, and this made me feel very disrespected, so I just walked out the door and left.\\n\\nMy mom called me soon after and started yelling at me, I explained to her that I felt very disrespected. She called me an asshole and then I hung up on her.\\n\\nSo am I the asshole?\\n\\nEdit: since some have asked the party was at my house, my mom did all the cooking and planning but it was at my house, one that my mom knows is a secular home\\n\\nEdit: The town I grew up in was a small conservative town, that ostracized me when they found out I was atheist\\n\\nFinal Edit: Thank you all for your honest opinions.  I should have handled this situation differently, and used it to remind my family on my feelings on prayer inside my home. And for those that have asked, I am in therapy, and I am a lot better now than I was 4 years ago.',\n",
       " 'Throwaway\\n\\nTL;DR: Got the most basic pulled pork burrito for my partner on the way home bc he asked for a pulled pork burrito.\\n\\nYesterday, I was coming home late because I had dinner with my boss and co-workers. On my way home, I texted my partner asking if he\\'d like me to pick anything up for him. He said, \"Can you get ABC Burrito for me. Pulled pork.\" I texted back, \"Heard.\" I then called the restaurant and asked for pulled pork burrito, and they said it would be ready in 20 min.\\n\\nI got there, picked it up, and went home. When I got home, I gave him the burrito, and he asked what was in the burrito, as he was opening it up, and I said I don\\'t know, whatever comes in a pulled pork burrito. At this point he asked if I put anything like jalapeños, guac, etc., and I said no, because he had only said pulled pork.\\n\\nHe was flabbergasted and asked why I didn\\'t put anything on it, and I said because he literally only said pulled pork and didn\\'t specify what extras he wanted. At this point, he said, \"But isn\\'t it common sense to put things in a burrito, I mean it\\'s like a blank canvas.\" I was pissed, but I went to shower and accidentally turned a 25 minute nap to a 10 hour sleep, so I didn\\'t get to talk to him about it.\\n\\nThis morning, when I had some time away from my desk, I texted him saying that I love him, but sometimes he can be really mean, citing last night\\'s comment. At this point he was irate because he said I had made him feel like a crazy person for expecting toppings/extras on his burrito, that he said reminded him of jail food. He said that if I had asked him to bring home a salmon bowl and I hadn\\'t specified toppings, he would have known that I\\'d get avocado and hot sauce in it because that\\'s how he shows effort as my partner. I said I\\'d appreciate if he had done that, but if he brought home just a plain salmon bowl, I would not have been upset because I didn\\'t specify what I wanted in the bowl. He said he found it hard to believe that I\\'d be okay with such a plain bowl, and I said that if I ever asked him to pick up some food for me, I\\'d always tell him exactly what I wanted, so we both knew what to expect.\\n\\nWhy I\\'m posting: I said the average person would just get the pulled pork burrito from the restaurant and go home like I did, but he disagreed. This is what he said instead, verbatim (with only typos fixed): Go ahead and ask 10 people if their partner asked for a pulled pork burrito and they have eaten there together before, ordered together, and have had enough time with that person to know their preference, would they opt to get just a meat and rice/bean burrito for them with no sauce or anything?\\n\\nMore:\\nWe have only been to \"ABC Burrito\" exactly 1 time, back in June.\\nWe\\'ve been dating for 2 months.\\n\\nAITA?',\n",
       " 'I\\'ve started biking to my job, to the gym, to pretty much everywhere to get in shape. \\n\\nIt\\'s been mostly great, I\\'ve lost a bunch of weight and gotten a lot stronger too. \\n\\nBut the one stressful thing is how drivers around here aren\\'t great... Lots of dumb driving, speeding, road rage, texting, etc... And I\\'ve had a couple close calls.\\n\\nJust a month ago for example, I was driving on a 2 lane road, in the right lane. People in the right lane are allowed to turn right or go straight. People in the left lane are allowed to turn left or go straight.\\n\\nWell, a guy in a SUV took a right turn from the left lane, and nearly hit me from the side. And that\\'s just one example of dumb driving.\\n\\nI always try to avoid those situations from the start, and evade them if I see them happening. But sometimes something takes me by surprise.\\n\\nI can\\'t really honk because I\\'m on a bike, and nobody in a car is going to hear a bike Bell. I also don\\'t want to scream angrily because I\\'m afraid someone might react bad to that and hurt me. \\n\\nSo if a close call happens, I just scream as loud and high as I can. No words, just AAAAAA. Like \"girl getting murdered in a horror movie\" like banshee style shriek. \\n\\nI\\'ve got a real high voice and great projection. I was a soprano in my school\\'s choir and I can belt it. And every time I\\'ve done that, whoever was driving slams the breaks or slows way down to look around. \\n\\nI never thought there was much trouble with that; I gotta do something to keep myself safe. But then yesterday I was going to work and someone in a pickup truck ran a stop sign and had a close call with me. So I swerved and shrieked, and kept shrieking till the driver had fully stopped. He seemed spooked. \\n\\nThen I saw some of my coworkers on the sidewalk, they were going to get coffee together, and they waved me over and asked if I was OK, what had just happened.\\n\\nI was like \"yeah I\\'m good, just didn\\'t wanna get run over and needed that truck to see or hear me\" and they were like \"girl everyone in a half mile radius heard you\"\\n\\nI was kinda joking around and went \"Thank the finest vocal training at (my hometown) Junior high\" \\n\\nAnd a couple of my coworkers said it wasn\\'t that funny, I\\'d given them a scare and probably everyone else in earshot too.\\n\\nAITA for screaming when I have close calls on my bike? It\\'s more to draw drivers attention than out of genuine horror or pain.',\n",
       " \"AITA for refusing to show my receipt when leaving a store?\\n\\n \\n\\nSo I am 24 years old. I have recently got a new wallet. \\n\\nOn mobile. I came down on Thursday.\\n\\nI am in the process of looking for my first grandchild. She is 22, and has been dating my fiancé for 3 years. \\n\\nI've been saving up a few thousand for my grandchild. There's also the money I saved but I wouldn't be able to save it for now. I want an education and an awesome job. This doesn't count, especially given we never had any money before. I have no intention of ever moving out. \\n\\nI would still want the money and I would only send it to our current boyfriends. I'd rather not have the money go out or my fiancée get rid of it by now. I don't know and am not in the moment to move. \\n\\nI had a nice time with him, told him about the situation, and then he got really angry.\\n\\nHe was visibly upset and told me he should have told my sister the truth, not my child. \\n\\nSo AITA?\",\n",
       " 'AITA for not wanting my fiancé’s parents to move in next door and telling me that my parents didn’t want him to be there for over a decade, and for some reason?\\n\\nLast night, my fiancé and I went to dinner and my parents were there. He asked what was going on and he said ‘I don’t like your children having to wait forever for them to leave. I can’t have my parents feel comfortable with this, but I think that’s a different situation. I told him I don’t really like how your parents were. I told him that I would have it if we’re friends with them (which he was really just not). He said that was not a possibility and I didn’t want them to get back into the living room or anywhere else. I told him that I think that isn’t fair because I feel like a part of all the people I support with the most ifnot everything. I said that if I want to have kids then I’m not going to care what happens when I’m going to have them stay there for about a decade.\\n\\nMy parents also told me that I don’t want them to get all the things I buy for myself and that everyone else has to be there for long periods of time. Since then my fiancé and I have been pressuring him to give up some of that money on a lot of the things I sell for myself just so everyone can go in there, which really pisses me off for the record. He asked how much money he wanted in the house and how much he gave me and that he needed to get myself to stay somewhere else. I told him that I would rather take my kids somewhere longer than he always had to be there for him to see, but he did not want to be there for nearly a year. \\n\\nMy parents told him that we had to convince him to give up on all of the stuff I sell for myself and that we needed time that was not something for him to choose between. I said that if he wants to be there for many years, there should be no need to do anything for the kids, and for those being at risk of losing their own job or being homeless. He didn',\n",
       " 'AITA for not wanting to pay for brother\\'s life-saving surgery?\\n\\nI\\'ve been getting a lot of messages from people who were saying \"you weren\\'t really a child\", \"you need some help to make it so we can go through it\" etc.\\n\\nI also feel like my brother\\'s life is so incredibly expensive and over budget, there\\'s always a need for him to be in this particular surgery (you will be at once with every family member we serve), or he could probably go in the same room, he would need space to finish each day to himself, etc. He is constantly saying that this surgery was horrible and that we need to give a helping hand to this situation and that he will never come to anything like this again. I\\'ve never really appreciated that. I have already decided to pay for my son to go to the surgery to save for his life, but he seems to still believe that I should pay for him to go to the doctor\\'s office, but I\\'ve said before he needs help to have a complete say in making that decision?\\n\\nAm I the asshole if I refused to pay for my son to go to the doctor\\'s office, just because he\\'s doing this? I\\'m tired of having to pay for his life saving surgery like that. AITA for not wanting to afford surgery?',\n",
       " 'AITA for shaming a barber online that refused to serve me?',\n",
       " \"AITA for not defending my wife at the dinner table?\\n\\nEdit: I'm not super good at baking, my wife is a big baker. I think my daughter loves baked goods and has a passion for baking. My daughter has a passion for baking and she loves baking. She loves baking. I'd love a dish that's super good for her and my wife. I'm not a big bread baker and she likes doing it.\\n\\nUpdate: I've done two very basic baking tasks at a very important time in my career and this really isn't my fault for not being open. It's her idea of baking and baking together. I just want her to know it's not something she wants to bake but she needs it. Not to mention that she won't want to bake, she says she doesn't, and when it comes to baking, I just don't. She just wants to know it's not really my point of view.\\n\\nUPDATE: I really appreciate everyone's reaction, I think it's fair to say I don't like my daughter's recipe. She's baking the food. We have a really big wedding with her (a couple of others) and I love her so I wanted to thank everyone very greatly in advance. I had an 8th birthday a couple months ago and got really excited about it and wanted to talk to her about this.\",\n",
       " \"AITA for telling my BF that if he doesnt go to work, hes no longer using ANYTHING of mine (including my car AND wifi)?\\n\\nI am in no hurry to tell my BF what to do and will tell him a complete lie, if he doesnt, he wont even be comfortable at work\\n\\nAITA if he doesnt go to work because I dont, im in denial?\\n\\n&#x200B;\\n\\nEdit- I'm not sure if he's being taken advantage of. He thinks thats the worst idea.\",\n",
       " 'AITA for refusing to cook dinner if my roommate won\\'t do the dishes? Am I the asshole?\\n\\nUpdate: It wasn\\'t my fault that my roommate left me my meal. He was going to cook when I said \"no, my roommate had it.\" I refused because I was tired and I would be cooking without him at the time. Because my roommate had it.\\n\\nYesterday my roommate did the dishes. After I left I asked him \"Why\\'d he cook me the way I did?\" He said \"I\\'ve been going along with the cook since he left him. If it goes bad it won\\'t be fun at all.\" I said \"So that\\'s why he left me the dinner.\" When he asked if he was not getting the taste the way, I said \"not sure, it\\'s a different subject and you don\\'t really have to have a conversation\" I told him that he understood and that I didn\\'t want him talking to me after talking to him and that it was better to have my food in the cup. He told me that he didn\\'t need to know that I wanted the dish to be just for his taste. \\n\\nEdit 2: the fact I didn\\'t do dishes while I was eating didn\\'t mean I didn\\'t want the meals to be my fault. I was fine with it because I was tired and I don\\'t want to be \"the one who dishes the same kind of soup every other night.\" I tried to explain that he agreed, maybe not at all, but that had to be up for conversation. I said \"Just because you don\\'t have friends then makes you feel as though you are talking to him.\" He said \"you\\'re being selfish and being childish\" and then I said \"You think it\\'s disrespectful for me when my roommates aren\\'t going to cook your food?\"\\n\\nHe was confused and said \"Well, you do you have the right to do that\" then he said \"yeah, I was thinking maybe you just don\\'t know if one of your roommates would just like things like that?\" I said \"so yeah, I\\'m just an asshole.\" He said \"no, I love to cook and he does love his food.\" He said \"well, but I\\'m more than welcome to eat with the other person.\" He said \"You aren\\'t going to be a asshole if you\\'re not comfortable with me having my food in the cup anymore than anyone else because I feel like you are the one who is eating my food. It doesn\\'t matter.\" I told him that I felt like he was being ridiculous in a way and that I wanted to compromise and clarify his point of view. He looked confused and said \"I wanted to talk to him. Why didn\\'t he just want to talk with me?\" and I went on to say \"well, maybe he has to think about us in a different way.\" He said \"We have different ways of talking and',\n",
       " 'AITA for walking out on my own birthday party when my mom called for a prayer?\\n\\nI told the whole family and all of them except my mom told me to take a hike from here to get a few things ready. I said \"I don\\'t want to do that but when would I do something like that?\" the mom said. \\n\\nI got really frustrated and told her she would not go. My mom is really pissed at me and says I am being an asshole for not helping her cause it\\'s something I didn\\'t have to contribute to. I know she wants me to help her get a job but I\\'m not going as an asshole. My mom is pissed, too.',\n",
       " \"AITA for bringing home a basic burrito for my [26F] partner [25M]?\\n\\nI was so happy and thankful everyone who came over this past weekend to celebrate. It's a great holiday holiday, but the reason I love it so much is because it's been a treat to a very many people and everyone is giving up.\\n\\nWe're not sharing food with everyone but to the people who are giving it up. It's been going on for hours and we don't eat it up every weekend.\\n\\nThis is the first time we've been getting food, and we've been complaining since she got pregnant about it. Now I think that this just makes me want to throw a bowl of chili sauce at all times or something, even some other snacks. I also like having a snack instead and all that stuff comes up when I'm hungry. I honestly, don't want to throw anything, but I really like having a good meal at the end of the day, eating something that isn't going on again. I'm just not sure who is eating it anymore, I can't put anything on the plate and take it out there in my backpack, I'm just not feeling well.\\n\\nI think I'm having a good holiday, but I can't stop feeling really bad this just because I don't want to and the others don't want me doing it. To me being a little grossed out makes me uncomfortable.\\n\\nEDIT: a bunch of the posts have been really helpful & helpful. I haven't seen another post, I just like to share something that was really helpful, but you guys are just making me feel good. Thank you all for all the responses.\\n\\nEDIT: if I thought everyone was saying that I was insensitive for not eating it then that would be very helpful too, but I'm a bit scared if it turns out I'm just getting fed up to being the asshole/the asshole. I still do have time to do the math (think about this all the time) and maybe I can try to get that out there.\",\n",
       " 'AITA for screaming really loud when drivers come close to hitting me on my bike?\\n\\nI didn’t hear a single word last night! Sorry that sounds too loud! I just went in silent and hear a couple of loud screams.\\n\\nSomeone else in the crowd shouted at me, “What is the point of yelling”. I just thought “what is your point of yelling at me if I don’t hear something with yours?” (I don’t like loud music and I want to get my hands dirty in front of people, it’s always a lot of cursing at me on so much pavement).\\n\\nSo I just finished doing my shopping and I took my bike through the garage a few times. I drove to my room to grab my stuff because the window was so low, I wasn’t able to hear anyone who was listening, so I didn’t go to the back door.\\n\\nThis morning I came back to my wife’s and told her I was leaving my home. She was mad at me, I explained everything a little bit better (I’m driving with her, I don’t want to be involved in any accidents) But she just told the police she was not leaving. Later that night it was all quiet in my area but now that I’m in my car and my friends are doing some driving down the road, we’re doing some texting.\\n\\nThey were called to the police station and they tried to talk to me but I’ve told the police I’m leaving my house. After having just finished texting them they said you are leaving.\\n\\nMy wife is starting crying, but if I leave, I’d be gone to the police station in another city. If she didn’t come, then I won’t be available for my next trip.\\n\\nAITA for yelling louder than I did?']"
      ]
     },
     "execution_count": 32,
     "metadata": {},
     "output_type": "execute_result"
    }
   ],
   "source": [
    "texts"
   ]
  },
  {
   "cell_type": "markdown",
   "id": "445ca2cc-ee7c-4c26-a888-0a292434ec40",
   "metadata": {},
   "source": [
    "## Commence Tokenization\n",
    "\n",
    "We will tokenize the entire texts with truncation and padding to a fixed maximum length. This method is straightforward and treats each text as an individual sequence for the model to learn from. The main characteristics include:\n",
    "\n",
    "- `truncation`: Texts longer than `max_length=512` are cut off, potentially losing important information at the end.\n",
    "- `padding`: Texts shorter than `max_length=512` are padded to ensure uniform sequence length, usually with the pad_token. This is not relevant to us as all texts we are feeding into the model are much longer than 512 tokens.\n",
    "\n",
    "During fine-tuning, the prediction task involves predicting the next token in the sequence based on the preceding tokens. So, for each input sequence (i.e., for each Irish drama text) consisting of its first 512 tokens, the model  predicts the next token for each token position within that sequence. The model predicts tokens from the second to the 512th position within each sequence. "
   ]
  },
  {
   "cell_type": "code",
   "execution_count": 9,
   "id": "644bfca0-7def-4af7-9734-5d3e46048413",
   "metadata": {},
   "outputs": [],
   "source": [
    "from transformers import GPT2Tokenizer, GPT2LMHeadModel, Trainer, TrainingArguments\n",
    "\n",
    "# Initialize tokenizer with padding token set\n",
    "tokenizer = GPT2Tokenizer.from_pretrained('distilgpt2')\n",
    "tokenizer.pad_token = tokenizer.eos_token\n",
    "\n",
    "# Tokenize texts\n",
    "encodings = tokenizer(texts, truncation=True, padding=True, max_length=512, return_tensors=\"pt\")"
   ]
  },
  {
   "cell_type": "code",
   "execution_count": 10,
   "id": "96a14f61-3ae6-4d64-b67f-40ee6015bde3",
   "metadata": {},
   "outputs": [],
   "source": [
    "import torch\n",
    "from torch.utils.data import Dataset\n",
    "\n",
    "class TextDataset(Dataset):\n",
    "    def __init__(self, encodings):\n",
    "        self.encodings = encodings\n",
    "    \n",
    "    def __len__(self):\n",
    "        return len(self.encodings.input_ids)\n",
    "    \n",
    "    def __getitem__(self, idx):\n",
    "        item = {key: torch.tensor(val[idx]) for key, val in self.encodings.items()}\n",
    "        # For language modeling, the labels are the input_ids shifted by one\n",
    "        item[\"labels\"] = item[\"input_ids\"].clone()\n",
    "        return item\n",
    "\n",
    "# Initialize the dataset\n",
    "train_dataset = TextDataset(encodings)"
   ]
  },
  {
   "cell_type": "markdown",
   "id": "53ec4274-17b5-4a3a-89ab-ab7243820c53",
   "metadata": {},
   "source": [
    "## Commence Finetuning\n",
    "\n",
    "In the following cell, we initialize the fine-tuning process using Hugging Face's `Trainer` class.\n",
    "\n",
    "The first parameter, `model`, is the pre-trained distilGPT-2 model that we intend to fine-tune. It has been previously loaded and is now set to be further trained on our specific dataset to adjust its weights based on the new data, enhancing its ability to generate or understand text similar to your training corpus.\n",
    "\n",
    "`TrainingArguments` further specifies various configuration settings for the training process:\n",
    "- `output_dir`: The directory where the training outputs (like the fine-tuned model checkpoints) will be saved.\n",
    "- `num_train_epochs`: The number of times the training process should iterate over the entire dataset. Here, it's set to 3, meaning the model will see the dataset three times.\n",
    "- `per_device_train_batch_size`: The number of training examples processed per device (e.g., GPU) per training step. A batch size of 4 is specified, balancing the computational load and memory usage.\n",
    "- `logging_dir`: Directory where training logs will be saved, enabling monitoring of the training process through metrics like loss over time.\n",
    "\n",
    "Finally, `trainer.train()` starts the training process based on the specified model, training arguments, and dataset. The Trainer handles various training aspects, including feeding the input data to the model, performing backpropagation to adjust the model's weights, saving checkpoints, and logging training progress.\n",
    "\n",
    "⚠️ **Warning:** Even though we are using a small model, the following operation will take *long* on a consumer-grade PC (for reference: around 4 hours on an Apple M2 Pro with 16GB memory).\n",
    "I have run this code and saved the model, so you don't have to run it yourself. If you choose to do so, be patient!"
   ]
  },
  {
   "cell_type": "code",
   "execution_count": null,
   "id": "c32e74a3-1e2e-45f2-95e4-391f4034ac7d",
   "metadata": {
    "scrolled": true
   },
   "outputs": [],
   "source": [
    "# Initialize the model\n",
    "model = GPT2LMHeadModel.from_pretrained('distilgpt2')\n",
    "\n",
    "# Define training arguments\n",
    "training_args = TrainingArguments(\n",
    "    output_dir='../../results',\n",
    "    num_train_epochs=3,\n",
    "    per_device_train_batch_size=4,\n",
    "    logging_dir='../../logs'\n",
    ")\n",
    "\n",
    "# Initialize Trainer\n",
    "trainer = Trainer(\n",
    "    model=model,\n",
    "    args=training_args,\n",
    "    train_dataset=train_dataset,\n",
    ")\n",
    "\n",
    "# Start training\n",
    "trainer.train()"
   ]
  },
  {
   "cell_type": "markdown",
   "id": "45da43c6-536d-42df-8698-62a5a4af7749",
   "metadata": {},
   "source": [
    "If you did run the previous code, make sure to save the model and finetuned tokenizer:"
   ]
  },
  {
   "cell_type": "code",
   "execution_count": 26,
   "id": "0d8368f6-c45c-4f6a-805b-b010a8c7e8d1",
   "metadata": {},
   "outputs": [
    {
     "data": {
      "text/plain": [
       "('../../models/finetuned_tokenizer/tokenizer_config.json',\n",
       " '../../models/finetuned_tokenizer/special_tokens_map.json',\n",
       " '../../models/finetuned_tokenizer/vocab.json',\n",
       " '../../models/finetuned_tokenizer/merges.txt',\n",
       " '../../models/finetuned_tokenizer/added_tokens.json')"
      ]
     },
     "execution_count": 26,
     "metadata": {},
     "output_type": "execute_result"
    }
   ],
   "source": [
    "model_save_path = '../../models/finetuned_model'\n",
    "tokenizer_save_path = '../../models/finetuned_tokenizer'\n",
    "\n",
    "# Save the model\n",
    "model.save_pretrained(model_save_path)\n",
    "\n",
    "# Save the tokenizer\n",
    "tokenizer.save_pretrained(tokenizer_save_path)\n"
   ]
  },
  {
   "cell_type": "markdown",
   "id": "20975efe-2479-4036-bc7e-e92db30f7188",
   "metadata": {},
   "source": [
    "## Getting the Model From Google Drive\n",
    "\n",
    "To save us time, I saved the model we created on Google Drive. A link to the folder you need to download is in bCourses under Modules (look for \"Finetuned GPT2 Model on Google Drive\"). \n",
    "\n",
    "Download **the entire \"models\" folder**\n",
    "\n",
    "<img src=\"../../img/download-models.png\" alt=\"Downloading the entire models folder from Google Drive\" width=\"500\"/>\n",
    "\n",
    "Next, extract/unzip this folder, and put in the top level of your local \"DIGHUM160-main\" repo. \n",
    "\n",
    "The result should be that you have the \"models\" folder inside your \"DIGHUM160-main\" folder, like so:\n",
    "\n",
    "<img src=\"../../img/ex.png\" alt=\"Making sure 'models' and 'tokenizer' folders are present in DIGHUM160 folder\" width=\"500\"/>\n"
   ]
  },
  {
   "cell_type": "markdown",
   "id": "63102fee-7a30-44db-956d-66f7fca13724",
   "metadata": {},
   "source": [
    "<a id=\"int\"></a>\n",
    "# Interpreting Model Output\n",
    "\n",
    "Let's have a look at the ways DistilGPT2's behavior has been altered due to the finetuning on r/aita."
   ]
  },
  {
   "cell_type": "code",
   "execution_count": 11,
   "id": "a73eb5f3-527a-45f0-8802-a5b95181ca65",
   "metadata": {
    "scrolled": true
   },
   "outputs": [
    {
     "name": "stdout",
     "output_type": "stream",
     "text": [
      "Generated text from finetuned model: AITA for pretending to get fired when customers get a temper with me?\n",
      "I(20F) am in college and I was at my girlfriend’s house earlier today so the heat won't go away. She tells me she is going to try and deal with it because we are both 20-24, as well as her boyfriend of around two years (my ex married 3 months before his wife left us). The reason why he has such high drama can be explained either by telling him that whatever happened during our relationship or simply being blunt about what you would think were your reasons then giving him some money will just stop working out - even if something like this happens after work but not having any control over myself isn \n",
      "\n"
     ]
    }
   ],
   "source": [
    "import torch\n",
    "from transformers import GPT2Tokenizer, GPT2LMHeadModel\n",
    "\n",
    "# Set the seed for PyTorch (controls randomness for reproducibility)\n",
    "seed = 1\n",
    "torch.manual_seed(seed)\n",
    "\n",
    "def generate_text(model, prompt, do_sample=True, max_length=50, temperature=1, top_k=50, top_p=0.95, repetition_penalty=1.1):\n",
    "    \"\"\"\n",
    "    Generates text based on a given prompt using the specified model.\n",
    "    \n",
    "    Parameters:\n",
    "    - model: The fine-tuned model to use for text generation.\n",
    "    - prompt: The initial text to start generating from.\n",
    "    - max_length: Maximum length of the generated text.\n",
    "    - temperature: Sampling temperature for generating text.\n",
    "    - top_k: The number of highest probability vocabulary tokens to keep for top-k filtering.\n",
    "    - top_p: Nucleus sampling's cumulative probability cutoff to keep for top-p filtering.\n",
    "    \n",
    "    Returns:\n",
    "    - generated_text: The generated text as a string.\n",
    "    \"\"\"\n",
    "    # Encode the prompt text to tensor\n",
    "    input_ids = tokenizer.encode(prompt, return_tensors='pt')\n",
    "    \n",
    "    # Generate a sequence of tokens following the prompt\n",
    "    output_ids = model.generate(input_ids, max_length=max_length, \n",
    "                                temperature=temperature, \n",
    "                                do_sample=do_sample, \n",
    "                                top_k=top_k, \n",
    "                                top_p=top_p, \n",
    "                                repetition_penalty=repetition_penalty, \n",
    "                                pad_token_id=tokenizer.eos_token_id)\n",
    "    \n",
    "    # Decode the generated tokens to a string\n",
    "    generated_text = tokenizer.decode(output_ids[0], skip_special_tokens=True)\n",
    "    \n",
    "    return generated_text\n",
    "\n",
    "# Load the fine-tuned model\n",
    "ft_model = GPT2LMHeadModel.from_pretrained('../../models/finetuned_model')\n",
    "\n",
    "# Load the tokenizer\n",
    "tokenizer = GPT2Tokenizer.from_pretrained('../../models/finetuned_tokenizer')\n",
    "\n",
    "# Prompt to generate text from - play around with this!\n",
    "prompt = \"AITA for pretending to get fired when customers get a temper with me?\"\n",
    "\n",
    "# Generate texts\n",
    "generated_text = generate_text(ft_model, prompt, max_length=150)\n",
    "print(\"Generated text from finetuned model:\", generated_text, '\\n')\n"
   ]
  },
  {
   "cell_type": "markdown",
   "id": "646ce8f6-9ee3-48e4-8a6a-eaaad5690712",
   "metadata": {},
   "source": [
    "Note how these embeddings look slightly differently from the ones in the pretrained model."
   ]
  },
  {
   "cell_type": "markdown",
   "id": "7c2dfad6-93a0-452c-ab00-46681e5cb0e5",
   "metadata": {},
   "source": [
    "# Create Posts Using Finetuned Model\n",
    "\n",
    "What can we do with this finetuned model? Well, for one, we could generate Am I The Asshole posts!\n",
    "\n",
    "We will ask the model to generate text based on the title of the original post. We will also ask it to create a post that is the same length as the original post."
   ]
  },
  {
   "cell_type": "code",
   "execution_count": 12,
   "id": "233fcbf4-8845-4327-9ddf-5280d862ca3f",
   "metadata": {
    "scrolled": true
   },
   "outputs": [
    {
     "name": "stderr",
     "output_type": "stream",
     "text": [
      "Device set to use cpu\n",
      "Truncation was not explicitly activated but `max_length` is provided a specific value, please use `truncation=True` to explicitly truncate examples to max length. Defaulting to 'longest_first' truncation strategy. If you encode pairs of sequences (GLUE-style) with the tokenizer you can select this strategy more precisely by providing a specific strategy to `truncation`.\n"
     ]
    }
   ],
   "source": [
    "import pandas as pd\n",
    "import random\n",
    "from transformers import GPT2Tokenizer, GPT2LMHeadModel, pipeline\n",
    "\n",
    "# Load your data\n",
    "df = pd.read_csv('../../data/aita_pp.csv')\n",
    "\n",
    "# Randomly select 10 entries\n",
    "sample_df = df.sample(n=10, random_state=1)  # Use a fixed seed for reproducibility, if needed\n",
    "\n",
    "original_texts = sample_df['selftext'].tolist()  # Adjust column name if different\n",
    "titles = sample_df['title'].tolist()\n",
    "\n",
    "# Load tokenizer and model\n",
    "tokenizer = GPT2Tokenizer.from_pretrained('../../models/finetuned_tokenizer')\n",
    "model = GPT2LMHeadModel.from_pretrained('../../models/finetuned_model')\n",
    "\n",
    "# Initialize the generation pipeline\n",
    "generator = pipeline('text-generation', model=model, tokenizer=tokenizer, device=-1)  # CPU usage\n",
    "\n",
    "# Prepare to generate texts\n",
    "generated_texts = []\n",
    "for title, original_text in zip(titles, original_texts):\n",
    "    # Calculate the length of the original post in tokens\n",
    "    target_length = len(tokenizer.encode(original_text))\n",
    "\n",
    "    # Generate a new post of the same length starting from the title\n",
    "    # Ensure to set max_length to the length of the original post\n",
    "    prompt = title\n",
    "    generated = generator(prompt, max_length=target_length, num_return_sequences=1)[0]['generated_text']\n",
    "    generated_texts.append(generated)"
   ]
  },
  {
   "cell_type": "markdown",
   "id": "b9418715-da75-4cb7-9fe3-eb5e124c4637",
   "metadata": {},
   "source": [
    "Let's save the original and generated posts in a new DataFrame so we can easily compare them."
   ]
  },
  {
   "cell_type": "code",
   "execution_count": 13,
   "id": "515b75c2-4026-4d19-afeb-c0530bd63fe3",
   "metadata": {
    "scrolled": true
   },
   "outputs": [],
   "source": [
    "df = pd.DataFrame({\n",
    "    'original_text': original_texts,\n",
    "    'generated_text': generated_texts,\n",
    "    'title': titles  # Assuming you have a list of titles\n",
    "})"
   ]
  },
  {
   "cell_type": "code",
   "execution_count": 14,
   "id": "d4ba762c-ec76-46ea-beca-39bb4b4b85a1",
   "metadata": {},
   "outputs": [
    {
     "data": {
      "text/html": [
       "<div>\n",
       "<style scoped>\n",
       "    .dataframe tbody tr th:only-of-type {\n",
       "        vertical-align: middle;\n",
       "    }\n",
       "\n",
       "    .dataframe tbody tr th {\n",
       "        vertical-align: top;\n",
       "    }\n",
       "\n",
       "    .dataframe thead th {\n",
       "        text-align: right;\n",
       "    }\n",
       "</style>\n",
       "<table border=\"1\" class=\"dataframe\">\n",
       "  <thead>\n",
       "    <tr style=\"text-align: right;\">\n",
       "      <th></th>\n",
       "      <th>original_text</th>\n",
       "      <th>generated_text</th>\n",
       "      <th>title</th>\n",
       "    </tr>\n",
       "  </thead>\n",
       "  <tbody>\n",
       "    <tr>\n",
       "      <th>0</th>\n",
       "      <td>Just recently, our local Walmart and Target ha...</td>\n",
       "      <td>AITA for refusing to show my receipt when leav...</td>\n",
       "      <td>AITA for refusing to show my receipt when leav...</td>\n",
       "    </tr>\n",
       "    <tr>\n",
       "      <th>1</th>\n",
       "      <td>Please excuse any mistakes. I’m on mobile. \\n\\...</td>\n",
       "      <td>AITA for not wanting my fiancé’s parents to mo...</td>\n",
       "      <td>AITA for not wanting my fiancé’s parents to mo...</td>\n",
       "    </tr>\n",
       "    <tr>\n",
       "      <th>2</th>\n",
       "      <td>My brother was recently diagnosed with late st...</td>\n",
       "      <td>AITA for not wanting to pay for brother's life...</td>\n",
       "      <td>AITA for not wanting to pay for brother's life...</td>\n",
       "    </tr>\n",
       "    <tr>\n",
       "      <th>3</th>\n",
       "      <td>I am a woman in my 20s who has very short hair...</td>\n",
       "      <td>AITA for shaming a barber online that refused ...</td>\n",
       "      <td>AITA for shaming a barber online that refused ...</td>\n",
       "    </tr>\n",
       "    <tr>\n",
       "      <th>4</th>\n",
       "      <td>my wife (27f) and me (36m) were having thanksg...</td>\n",
       "      <td>AITA for not defending my wife at the dinner t...</td>\n",
       "      <td>AITA for not defending my wife at the dinner t...</td>\n",
       "    </tr>\n",
       "    <tr>\n",
       "      <th>5</th>\n",
       "      <td>28f/29m been together for like 4 years I think...</td>\n",
       "      <td>AITA for telling my BF that if he doesnt go to...</td>\n",
       "      <td>AITA for telling my BF that if he doesnt go to...</td>\n",
       "    </tr>\n",
       "    <tr>\n",
       "      <th>6</th>\n",
       "      <td>So about 5 months ago I (29F) got a new place ...</td>\n",
       "      <td>AITA for refusing to cook dinner if my roommat...</td>\n",
       "      <td>AITA for refusing to cook dinner if my roommat...</td>\n",
       "    </tr>\n",
       "    <tr>\n",
       "      <th>7</th>\n",
       "      <td>I am an atheist, and my mom has known this sin...</td>\n",
       "      <td>AITA for walking out on my own birthday party ...</td>\n",
       "      <td>AITA for walking out on my own birthday party ...</td>\n",
       "    </tr>\n",
       "    <tr>\n",
       "      <th>8</th>\n",
       "      <td>Throwaway\\n\\nTL;DR: Got the most basic pulled ...</td>\n",
       "      <td>AITA for bringing home a basic burrito for my ...</td>\n",
       "      <td>AITA for bringing home a basic burrito for my ...</td>\n",
       "    </tr>\n",
       "    <tr>\n",
       "      <th>9</th>\n",
       "      <td>I've started biking to my job, to the gym, to ...</td>\n",
       "      <td>AITA for screaming really loud when drivers co...</td>\n",
       "      <td>AITA for screaming really loud when drivers co...</td>\n",
       "    </tr>\n",
       "  </tbody>\n",
       "</table>\n",
       "</div>"
      ],
      "text/plain": [
       "                                       original_text  \\\n",
       "0  Just recently, our local Walmart and Target ha...   \n",
       "1  Please excuse any mistakes. I’m on mobile. \\n\\...   \n",
       "2  My brother was recently diagnosed with late st...   \n",
       "3  I am a woman in my 20s who has very short hair...   \n",
       "4  my wife (27f) and me (36m) were having thanksg...   \n",
       "5  28f/29m been together for like 4 years I think...   \n",
       "6  So about 5 months ago I (29F) got a new place ...   \n",
       "7  I am an atheist, and my mom has known this sin...   \n",
       "8  Throwaway\\n\\nTL;DR: Got the most basic pulled ...   \n",
       "9  I've started biking to my job, to the gym, to ...   \n",
       "\n",
       "                                      generated_text  \\\n",
       "0  AITA for refusing to show my receipt when leav...   \n",
       "1  AITA for not wanting my fiancé’s parents to mo...   \n",
       "2  AITA for not wanting to pay for brother's life...   \n",
       "3  AITA for shaming a barber online that refused ...   \n",
       "4  AITA for not defending my wife at the dinner t...   \n",
       "5  AITA for telling my BF that if he doesnt go to...   \n",
       "6  AITA for refusing to cook dinner if my roommat...   \n",
       "7  AITA for walking out on my own birthday party ...   \n",
       "8  AITA for bringing home a basic burrito for my ...   \n",
       "9  AITA for screaming really loud when drivers co...   \n",
       "\n",
       "                                               title  \n",
       "0  AITA for refusing to show my receipt when leav...  \n",
       "1  AITA for not wanting my fiancé’s parents to mo...  \n",
       "2  AITA for not wanting to pay for brother's life...  \n",
       "3  AITA for shaming a barber online that refused ...  \n",
       "4  AITA for not defending my wife at the dinner t...  \n",
       "5  AITA for telling my BF that if he doesnt go to...  \n",
       "6  AITA for refusing to cook dinner if my roommat...  \n",
       "7  AITA for walking out on my own birthday party ...  \n",
       "8  AITA for bringing home a basic burrito for my ...  \n",
       "9  AITA for screaming really loud when drivers co...  "
      ]
     },
     "execution_count": 14,
     "metadata": {},
     "output_type": "execute_result"
    }
   ],
   "source": [
    "df"
   ]
  },
  {
   "cell_type": "markdown",
   "id": "eee8e0a7-3ce1-4dae-a26a-f3aa8c4c2ce5",
   "metadata": {},
   "source": [
    "## Back to TF-IDF\n",
    "\n",
    "We can use the TF-IDF algorithm to check the similarity between original texts and the ones we generated!"
   ]
  },
  {
   "cell_type": "code",
   "execution_count": 23,
   "id": "d9533349-ed85-4f5c-a275-6601895f78b3",
   "metadata": {},
   "outputs": [
    {
     "name": "stdout",
     "output_type": "stream",
     "text": [
      "Text 1 Similarity between original and generated: 0.3612\n",
      "Text 2 Similarity between original and generated: 0.3322\n",
      "Text 3 Similarity between original and generated: 0.3156\n",
      "Text 4 Similarity between original and generated: 0.2309\n",
      "Text 5 Similarity between original and generated: 0.3346\n",
      "Text 6 Similarity between original and generated: 0.3400\n",
      "Text 7 Similarity between original and generated: 0.4303\n",
      "Text 8 Similarity between original and generated: 0.4939\n",
      "Text 9 Similarity between original and generated: 0.2839\n",
      "Text 10 Similarity between original and generated: 0.4111\n"
     ]
    }
   ],
   "source": [
    "import pandas as pd\n",
    "from sklearn.feature_extraction.text import TfidfVectorizer\n",
    "from sklearn.metrics.pairwise import cosine_similarity\n",
    "\n",
    "# Combine original and generated texts into one list for TF-IDF analysis\n",
    "texts = df['original_text'].tolist() + df['generated_text'].tolist()\n",
    "\n",
    "# Initialize a TF-IDF Vectorizer\n",
    "vectorizer = TfidfVectorizer()\n",
    "\n",
    "# Fit and transform the data\n",
    "tfidf_matrix = vectorizer.fit_transform(texts)\n",
    "\n",
    "# Calculate cosine similarity between original and generated texts\n",
    "# Assuming the first half are originals and the second half are generated\n",
    "similarity_matrix = cosine_similarity(tfidf_matrix[:len(df)], tfidf_matrix[len(df):])\n",
    "\n",
    "# Display similarity results\n",
    "for i, similarity in enumerate(similarity_matrix.diagonal()):\n",
    "    print(f\"Text {i+1} Similarity between original and generated: {similarity:.4f}\")\n"
   ]
  },
  {
   "cell_type": "markdown",
   "id": "a6f28b23-097b-425e-ab99-aacc09ab02ba",
   "metadata": {},
   "source": [
    "These results, with values primarily between 0.3 and 0.5, suggest that the generated texts share some vocabulary and thematic elements with the original texts but also diverge in significant ways."
   ]
  },
  {
   "cell_type": "markdown",
   "id": "58567cd8-0240-4281-bafa-0c7559d7bae7",
   "metadata": {},
   "source": [
    "## Back to Word Embeddings\n",
    "\n",
    "Finally, let's project the reduced embeddings for both the original and our generated posts in 2D space."
   ]
  },
  {
   "cell_type": "code",
   "execution_count": 15,
   "id": "85f7ee4b-e655-41a7-b1e3-5d3cab839f76",
   "metadata": {},
   "outputs": [
    {
     "name": "stderr",
     "output_type": "stream",
     "text": [
      "/Users/tomvannuenen/anaconda3/envs/dlab/lib/python3.10/site-packages/spacy/util.py:922: UserWarning: [W095] Model 'en_core_web_sm' (3.6.0) was trained with spaCy v3.6.0 and may not be 100% compatible with the current version (3.8.7). If you see errors or degraded performance, download a newer compatible model or retrain your custom model with the current spaCy version. For more details and available updates, run: python -m spacy validate\n",
      "  warnings.warn(warn_msg)\n"
     ]
    },
    {
     "data": {
      "image/png": "[encoded data removed]",
      "text/plain": [
       "<Figure size 720x576 with 1 Axes>"
      ]
     },
     "metadata": {
      "needs_background": "light"
     },
     "output_type": "display_data"
    }
   ],
   "source": [
    "import spacy\n",
    "import numpy as np\n",
    "import matplotlib.pyplot as plt\n",
    "from sklearn.decomposition import PCA\n",
    "\n",
    "# Load the medium model with word vectors\n",
    "nlp = spacy.load(\"en_core_web_sm\")\n",
    "\n",
    "# Sample data (assuming df is already loaded)\n",
    "original_texts = df['original_text'].tolist()[:10]  # Limiting for simplicity\n",
    "generated_texts = df['generated_text'].tolist()[:10]\n",
    "\n",
    "# Function to compute average embeddings for a text\n",
    "def get_average_embedding(text, nlp_model):\n",
    "    doc = nlp_model(text)\n",
    "    vectors = [word.vector for word in doc if not word.is_stop and word.has_vector]\n",
    "    if vectors:\n",
    "        return np.mean(vectors, axis=0)\n",
    "    else:\n",
    "        return np.zeros((nlp_model.vocab.vectors_length,))\n",
    "\n",
    "# Compute average embeddings for each set of texts\n",
    "original_embeddings = np.array([get_average_embedding(text, nlp) for text in original_texts])\n",
    "generated_embeddings = np.array([get_average_embedding(text, nlp) for text in generated_texts])\n",
    "\n",
    "# Perform PCA to reduce dimensionality for visualization\n",
    "pca = PCA(n_components=2)\n",
    "original_pca = pca.fit_transform(original_embeddings)\n",
    "generated_pca = pca.transform(generated_embeddings)\n",
    "\n",
    "# Plotting the embeddings\n",
    "plt.figure(figsize=(10, 8))\n",
    "plt.scatter(original_pca[:, 0], original_pca[:, 1], color='blue', label='Original', alpha=0.5)\n",
    "plt.scatter(generated_pca[:, 0], generated_pca[:, 1], color='red', label='Generated', alpha=0.5)\n",
    "plt.title('Comparison of Word Embeddings')\n",
    "plt.xlabel('PCA Component 1')\n",
    "plt.ylabel('PCA Component 2')\n",
    "plt.legend()\n",
    "plt.grid(True)\n",
    "plt.show()\n"
   ]
  },
  {
   "cell_type": "markdown",
   "id": "42d53193-b1cb-45fb-8d7f-b07a5488fd03",
   "metadata": {},
   "source": [
    "Let's compare original posts to the ones we created with GPT-2. Here we are selecting an index from our new DataFrame and printing the text for both the original and our generated text.\n",
    "\n",
    "**🔔 Question:** What do you make of this specific generated post? Can you tell why the model seems to have created the output that it did?"
   ]
  },
  {
   "cell_type": "markdown",
   "id": "935ae8e9-850f-483f-a30b-14f7ec321539",
   "metadata": {},
   "source": [
    "## Back to Close Reading\n",
    "\n",
    "Finally, let's read these generated r/amitheasshole posts. Change the `index` number to see different real vs. generated posts."
   ]
  },
  {
   "cell_type": "code",
   "execution_count": 20,
   "id": "a4948456-a988-4793-ab55-d08ec3047bd3",
   "metadata": {
    "scrolled": true
   },
   "outputs": [
    {
     "name": "stdout",
     "output_type": "stream",
     "text": [
      "Title: AITA for not wanting to pay for brother's life-saving surgery?\n",
      "\n",
      "\n",
      "Original Text: My brother was recently diagnosed with late stage colon cancer and has been in hospital multiple times to get assessments and diagnostic testing. The definitive treatment is a surgery and lengthy hospital stay which costs about $25k out-of-pocket after insurance deductions, and quoted at 70% cure rate. He and my SIL are unable to afford this as they have combined debts of $40k including student loans and not eligible to take more credit. They can at most put together $5000 in time to have the surgery soon enough that it's still effective.\n",
      "\n",
      "They came to me asking for a loan of $20k. This is my brother here, and they have a 4-year-old daughter and I wouldn't wish for anyone to see their dad die. But $20k is not something we can readily hand out. Debt can destroy lives, and if my wife and I have a mortgage to pay off. If we are out $20k (which will probably get turned into a gift because that's just how loans to family and friends work) and either me or my wife lose our jobs, we'll be in trouble. We have no other family able to help pitch in a significant amount. I told them we can't come up with that much money without going into significant debt (i.e. taking out another loan), and both of them were begging me to consider the loan option. AITA?\n",
      "\n",
      "\n",
      "Generated Text: AITA for not wanting to pay for brother's life-saving surgery?\n",
      "\n",
      "I've been getting a lot of messages from people who were saying \"you weren't really a child\", \"you need some help to make it so we can go through it\" etc.\n",
      "\n",
      "I also feel like my brother's life is so incredibly expensive and over budget, there's always a need for him to be in this particular surgery (you will be at once with every family member we serve), or he could probably go in the same room, he would need space to finish each day to himself, etc. He is constantly saying that this surgery was horrible and that we need to give a helping hand to this situation and that he will never come to anything like this again. I've never really appreciated that. I have already decided to pay for my son to go to the surgery to save for his life, but he seems to still believe that I should pay for him to go to the doctor's office, but I've said before he needs help to have a complete say in making that decision?\n",
      "\n",
      "Am I the asshole if I refused to pay for my son to go to the doctor's office, just because he's doing this? I'm tired of having to pay for his life saving surgery like that. AITA for not wanting to afford surgery?\n"
     ]
    }
   ],
   "source": [
    "index = 2\n",
    "print(f\"Title: {df.loc[index]['title']}\")\n",
    "print(\"\\n\")\n",
    "print(f\"Original Text: {df.loc[index, 'original_text']}\")\n",
    "print(\"\\n\")\n",
    "print(f\"Generated Text: {df.loc[index, 'generated_text']}\")"
   ]
  },
  {
   "cell_type": "markdown",
   "id": "9cea0221-1396-450c-ad1b-623a5b7658d0",
   "metadata": {},
   "source": [
    "# 💭 Reflection: Defamilarized posts\n",
    "\n",
    "Ask yourself the following questions:\n",
    "- What did the model \"learn\" about the subreddit's linguistic patterns? What phrases, structures, or rhetorical moves show up consistently? What does this tell us about how r/AmITheAsshole functions as a discourse community?\n",
    "- Pinpoint some moments where the generated text feels \"almost right but wrong.\" What makes these moments jarring? Is it factual inconsistencies, emotional register mismatches, or something else?\n"
   ]
  },
  {
   "cell_type": "markdown",
   "id": "620ce696-918e-447c-9353-fc1241cb59e2",
   "metadata": {
    "tags": []
   },
   "source": [
    "<div class=\"alert alert-success\">\n",
    "\n",
    "## ❗ Key Points\n",
    "\n",
    "* The GPT model is trained to take in a piece of text, and produce a prediction of what comes next in the passage.\n",
    "* Fine-tuning GPT-2 on a specific dataset, like our r/amitheasshole dataset, customizes the model's responses to reflect the themes, style, language, or idioms found within that corpus.\n",
    "* We can evaluate a fine-tuned model with different metrics, and through manual interpretation. \n",
    "    \n",
    "</div>"
   ]
  }
 ],
 "metadata": {
  "kernelspec": {
   "display_name": "dlab",
   "language": "python",
   "name": "dlab"
  },
  "language_info": {
   "codemirror_mode": {
    "name": "ipython",
    "version": 3
   },
   "file_extension": ".py",
   "mimetype": "text/x-python",
   "name": "python",
   "nbconvert_exporter": "python",
   "pygments_lexer": "ipython3",
   "version": "3.10.13"
  }
 },
 "nbformat": 4,
 "nbformat_minor": 5
}
