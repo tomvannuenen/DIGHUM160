{
 "cells": [
  {
   "cell_type": "markdown",
   "id": "2c7cfced-157b-4977-b7d6-bf274f3008cc",
   "metadata": {},
   "source": [
    "<img src=\"../../img/backdrop-wh.png\" alt=\"Drawing\" style=\"width: 300px;\"/>  \n",
    "\n",
    "# GPT Finetuning\n",
    "\n",
    "* * * \n",
    "\n",
    "<div class=\"alert alert-success\">  \n",
    "    \n",
    "### Learning Objectives \n",
    "    \n",
    "* Understand GPT-2 as a large language model.\n",
    "* Reviewing output from pretrained GPT-2 model using the `transformers` library.\n",
    "* Understand the hyperparameters for GPT-2's output generation.\n",
    "* Learn how to finetune GPT-2 on AITA data.\n",
    "* Evaluate differently finetuned GPT-2 models through manual interpretation.\n",
    "\n",
    "</div>\n",
    "\n",
    "### Icons Used in This Notebook\n",
    "🔔 **Question**: A quick question to help you understand what's going on.<br>\n",
    "⚠️ **Warning:** Heads-up about tricky stuff or common mistakes.<br>\n",
    "\n",
    "### Sections\n",
    "1. [What is a Large Language Model?](#llm)\n",
    "2. [What is GPT-2?](#gpt2)\n",
    "3. [Finetuning GPT-2](#ft)\n",
    "4. [Evaluation: Perplexity](#perp)\n",
    "5. [Evaluation: Interpretation](#int)"
   ]
  },
  {
   "cell_type": "markdown",
   "id": "f67bd9f1-97eb-4582-a5cf-fa875f88d302",
   "metadata": {},
   "source": [
    "<a id='llm'></a>\n",
    "# What is a Large Language Model?\n",
    "\n",
    "Large Language Models (LLMs) are machine learning systems trained to predict the next word in a sequence of text. They’re called “large” because they’re built using massive amounts of text data and contain billions of parameters—tunable weights that determine the model’s behavior.\n",
    "\n",
    "LLMs learn patterns in language by analyzing word sequences, grammar, facts, and even writing styles from their training data. Rather than memorizing specific phrases, they build a statistical understanding of how language works. This allows them to generate surprisingly fluent and coherent text, answer questions, summarize content, and more."
   ]
  },
  {
   "cell_type": "markdown",
   "id": "d82fec67-5411-4c42-a594-1e98b0a488e7",
   "metadata": {},
   "source": [
    "<a id='gpt2'></a>\n",
    "# What is GPT-2?\n",
    "\n",
    "**GPT-2 (Generative Pre-trained Transformer 2)**, developed by OpenAI, is a well-known example of an LLM. It’s trained on a broad dataset from the internet and can generate human-like text on a wide variety of topics.\n",
    "\n",
    "\"GPT\" Stands for Generative Pre-trained Transformer. *Generative*, because it generates text. Pre-trained, because it has been trained on a massive amount of data, and \"pre\" insinuates one could further train, or **finetune**, this model. A *transformer* is a specific kind of neural network. You can build different models from transformer architecture; the training goal of GPT is to take in a piece of text, and produce a prediction of what comes next in the passage.\n",
    "\n",
    "GPT-2 is a model from 2019. It was trained on a dataset of 8 million web pages. In this notebook, we are using GPT-2 Small, the base model, which has only (!) 117 million parameters (for comparison, GPT-2 XL has 1.5 billion parameters, and GPT4 has 175 *billion*). A \"parameter\" is an adjustable internal value that the model learns and uses to make predictions or generate text based on its input. More parameters usually means a \"smarter\", more capable model.\n",
    "\n",
    "We use this smaller model to make it possible to finetune it on a local computer (although you still need a pretty recent machine to run the code in this notebook). \n",
    "\n",
    "## What is fine-tuning?\n",
    "Fine-tuning GPT-2 on a specific dataset, like our r/amitheasshole dataset, customizes the model's responses to reflect the themes, style, language, or idioms found within that corpus. This process tailors the model's generative capabilities, making it more likely to produce outputs that are stylistically and thematically aligned with the fine-tuning material.\n",
    "\n",
    "The model's adaptation will be more pronounced when generating text related to or prompted by the domain we train it on. This might include specific narrative styles, dialogue structures, and  conventions unique to Am I The Asshole.\n",
    "\n",
    "## Weight Adjustment\n",
    "Fine-tuning adjusts the weights of the neural network to minimize the loss on the new data. The changes in weights help the model better predict or generate sequences that resemble the fine-tuning data."
   ]
  },
  {
   "cell_type": "markdown",
   "id": "2747f900-cecd-407e-ab41-538d03981955",
   "metadata": {},
   "source": [
    "### Note on package installation\n",
    "The below cell makes sure all the Python packages needed for this lesson are installed.\n",
    "If you’re working on Datahub, you might not have everything yet.\n",
    "Running this cell will check for each package and install it if it’s missing, so your notebook runs smoothly.\n",
    "\n",
    "- If you are running this notebook on **DataHub**, you may need to **uncomment and run** the `%pip install ...` line below if you get an error about a missing package. Restart your kernel after running this cell!\n",
    "- If you are working **locally** (on your own computer), you should already have all required packages installed via your Conda environment (see the ***\"Local Python and Jupyter Setup\"*** page on bCourses). Only use the `pip install` line if you see an ImportError and know what you’re doing."
   ]
  },
  {
   "cell_type": "code",
   "execution_count": 10,
   "id": "be00427a-62a9-49fa-8ee6-cecf08d68dd5",
   "metadata": {
    "scrolled": true
   },
   "outputs": [
    {
     "name": "stdout",
     "output_type": "stream",
     "text": [
      "Requirement already satisfied: torch in /Users/tomvannuenen/anaconda3/envs/testenv/lib/python3.10/site-packages (2.7.0)\n",
      "Requirement already satisfied: transformers in /Users/tomvannuenen/anaconda3/envs/testenv/lib/python3.10/site-packages (4.52.4)\n",
      "Collecting adjustText\n",
      "  Using cached adjustText-1.3.0-py3-none-any.whl.metadata (3.1 kB)\n",
      "Requirement already satisfied: filelock in /Users/tomvannuenen/anaconda3/envs/testenv/lib/python3.10/site-packages (from torch) (3.18.0)\n",
      "Requirement already satisfied: typing-extensions>=4.10.0 in /Users/tomvannuenen/anaconda3/envs/testenv/lib/python3.10/site-packages (from torch) (4.12.2)\n",
      "Requirement already satisfied: sympy>=1.13.3 in /Users/tomvannuenen/anaconda3/envs/testenv/lib/python3.10/site-packages (from torch) (1.14.0)\n",
      "Requirement already satisfied: networkx in /Users/tomvannuenen/anaconda3/envs/testenv/lib/python3.10/site-packages (from torch) (3.4.2)\n",
      "Requirement already satisfied: jinja2 in /Users/tomvannuenen/anaconda3/envs/testenv/lib/python3.10/site-packages (from torch) (3.1.6)\n",
      "Requirement already satisfied: fsspec in /Users/tomvannuenen/anaconda3/envs/testenv/lib/python3.10/site-packages (from torch) (2025.5.1)\n",
      "Requirement already satisfied: huggingface-hub<1.0,>=0.30.0 in /Users/tomvannuenen/anaconda3/envs/testenv/lib/python3.10/site-packages (from transformers) (0.32.3)\n",
      "Requirement already satisfied: numpy>=1.17 in /Users/tomvannuenen/anaconda3/envs/testenv/lib/python3.10/site-packages (from transformers) (1.26.4)\n",
      "Requirement already satisfied: packaging>=20.0 in /Users/tomvannuenen/anaconda3/envs/testenv/lib/python3.10/site-packages (from transformers) (24.2)\n",
      "Requirement already satisfied: pyyaml>=5.1 in /Users/tomvannuenen/anaconda3/envs/testenv/lib/python3.10/site-packages (from transformers) (6.0.2)\n",
      "Requirement already satisfied: regex!=2019.12.17 in /Users/tomvannuenen/anaconda3/envs/testenv/lib/python3.10/site-packages (from transformers) (2024.11.6)\n",
      "Requirement already satisfied: requests in /Users/tomvannuenen/anaconda3/envs/testenv/lib/python3.10/site-packages (from transformers) (2.32.3)\n",
      "Requirement already satisfied: tokenizers<0.22,>=0.21 in /Users/tomvannuenen/anaconda3/envs/testenv/lib/python3.10/site-packages (from transformers) (0.21.1)\n",
      "Requirement already satisfied: safetensors>=0.4.3 in /Users/tomvannuenen/anaconda3/envs/testenv/lib/python3.10/site-packages (from transformers) (0.5.3)\n",
      "Requirement already satisfied: tqdm>=4.27 in /Users/tomvannuenen/anaconda3/envs/testenv/lib/python3.10/site-packages (from transformers) (4.67.1)\n",
      "Requirement already satisfied: hf-xet<2.0.0,>=1.1.2 in /Users/tomvannuenen/anaconda3/envs/testenv/lib/python3.10/site-packages (from huggingface-hub<1.0,>=0.30.0->transformers) (1.1.2)\n",
      "Requirement already satisfied: matplotlib in /Users/tomvannuenen/anaconda3/envs/testenv/lib/python3.10/site-packages (from adjustText) (3.10.3)\n",
      "Requirement already satisfied: scipy in /Users/tomvannuenen/anaconda3/envs/testenv/lib/python3.10/site-packages (from adjustText) (1.13.1)\n",
      "Requirement already satisfied: mpmath<1.4,>=1.1.0 in /Users/tomvannuenen/anaconda3/envs/testenv/lib/python3.10/site-packages (from sympy>=1.13.3->torch) (1.3.0)\n",
      "Requirement already satisfied: MarkupSafe>=2.0 in /Users/tomvannuenen/anaconda3/envs/testenv/lib/python3.10/site-packages (from jinja2->torch) (3.0.2)\n",
      "Requirement already satisfied: contourpy>=1.0.1 in /Users/tomvannuenen/anaconda3/envs/testenv/lib/python3.10/site-packages (from matplotlib->adjustText) (1.3.1)\n",
      "Requirement already satisfied: cycler>=0.10 in /Users/tomvannuenen/anaconda3/envs/testenv/lib/python3.10/site-packages (from matplotlib->adjustText) (0.12.1)\n",
      "Requirement already satisfied: fonttools>=4.22.0 in /Users/tomvannuenen/anaconda3/envs/testenv/lib/python3.10/site-packages (from matplotlib->adjustText) (4.58.1)\n",
      "Requirement already satisfied: kiwisolver>=1.3.1 in /Users/tomvannuenen/anaconda3/envs/testenv/lib/python3.10/site-packages (from matplotlib->adjustText) (1.4.8)\n",
      "Requirement already satisfied: pillow>=8 in /Users/tomvannuenen/anaconda3/envs/testenv/lib/python3.10/site-packages (from matplotlib->adjustText) (11.1.0)\n",
      "Requirement already satisfied: pyparsing>=2.3.1 in /Users/tomvannuenen/anaconda3/envs/testenv/lib/python3.10/site-packages (from matplotlib->adjustText) (3.2.3)\n",
      "Requirement already satisfied: python-dateutil>=2.7 in /Users/tomvannuenen/anaconda3/envs/testenv/lib/python3.10/site-packages (from matplotlib->adjustText) (2.9.0.post0)\n",
      "Requirement already satisfied: six>=1.5 in /Users/tomvannuenen/anaconda3/envs/testenv/lib/python3.10/site-packages (from python-dateutil>=2.7->matplotlib->adjustText) (1.17.0)\n",
      "Requirement already satisfied: charset-normalizer<4,>=2 in /Users/tomvannuenen/anaconda3/envs/testenv/lib/python3.10/site-packages (from requests->transformers) (3.3.2)\n",
      "Requirement already satisfied: idna<4,>=2.5 in /Users/tomvannuenen/anaconda3/envs/testenv/lib/python3.10/site-packages (from requests->transformers) (3.7)\n",
      "Requirement already satisfied: urllib3<3,>=1.21.1 in /Users/tomvannuenen/anaconda3/envs/testenv/lib/python3.10/site-packages (from requests->transformers) (2.3.0)\n",
      "Requirement already satisfied: certifi>=2017.4.17 in /Users/tomvannuenen/anaconda3/envs/testenv/lib/python3.10/site-packages (from requests->transformers) (2025.4.26)\n",
      "Using cached adjustText-1.3.0-py3-none-any.whl (13 kB)\n",
      "Installing collected packages: adjustText\n",
      "Successfully installed adjustText-1.3.0\n",
      "Note: you may need to restart the kernel to use updated packages.\n"
     ]
    }
   ],
   "source": [
    "# Package install - restart your kernel after running this!\n",
    "#%pip install torch transformers adjustText "
   ]
  },
  {
   "cell_type": "markdown",
   "id": "306cb272-72fd-48a4-b3ed-e50476d5b1e2",
   "metadata": {},
   "source": [
    "After importing, check which versions of the packages we have."
   ]
  },
  {
   "cell_type": "code",
   "execution_count": 1,
   "id": "642a7038-81fc-4ed4-9792-c0365f88eb15",
   "metadata": {},
   "outputs": [
    {
     "name": "stdout",
     "output_type": "stream",
     "text": [
      "2.3.1\n",
      "4.42.3\n"
     ]
    }
   ],
   "source": [
    "import torch\n",
    "import transformers\n",
    "print(torch.__version__)\n",
    "print(transformers.__version__)"
   ]
  },
  {
   "cell_type": "markdown",
   "id": "aaba1192-ac81-4f0e-b796-d0d665bab905",
   "metadata": {},
   "source": [
    "Let's generate some text. We will use DistilGPT2 (short for Distilled-GPT2), a model pre-trained with the supervision of the smallest version of Generative Pre-trained Transformer 2 (GPT-2). \n",
    "\n",
    "Our input text will be a typical title from an r/aita post. By looking at how the model completes this sentence, we get a sense of its internal logic, and whether it \"understands\" what an r/aita post looks like."
   ]
  },
  {
   "cell_type": "code",
   "execution_count": 2,
   "id": "00216452-6fd2-48e8-a6fc-e77a96e5fc08",
   "metadata": {},
   "outputs": [
    {
     "data": {
      "application/vnd.jupyter.widget-view+json": {
       "model_id": "e1a1683f555a4ea599c18e44661ba13e",
       "version_major": 2,
       "version_minor": 0
      },
      "text/plain": [
       "config.json:   0%|          | 0.00/762 [00:00<?, ?B/s]"
      ]
     },
     "metadata": {},
     "output_type": "display_data"
    },
    {
     "data": {
      "application/vnd.jupyter.widget-view+json": {
       "model_id": "721b766ec4a3464a831733bb5058a7cf",
       "version_major": 2,
       "version_minor": 0
      },
      "text/plain": [
       "model.safetensors:   0%|          | 0.00/353M [00:00<?, ?B/s]"
      ]
     },
     "metadata": {},
     "output_type": "display_data"
    },
    {
     "data": {
      "application/vnd.jupyter.widget-view+json": {
       "model_id": "47a11fda7b9d4503bda750af57ef761d",
       "version_major": 2,
       "version_minor": 0
      },
      "text/plain": [
       "generation_config.json:   0%|          | 0.00/124 [00:00<?, ?B/s]"
      ]
     },
     "metadata": {},
     "output_type": "display_data"
    },
    {
     "name": "stderr",
     "output_type": "stream",
     "text": [
      "The attention mask and the pad token id were not set. As a consequence, you may observe unexpected behavior. Please pass your input's `attention_mask` to obtain reliable results.\n",
      "Setting `pad_token_id` to `eos_token_id`:50256 for open-end generation.\n",
      "The attention mask is not set and cannot be inferred from input because pad token is same as eos token.As a consequence, you may observe unexpected behavior. Please pass your input's `attention_mask` to obtain reliable results.\n"
     ]
    },
    {
     "name": "stdout",
     "output_type": "stream",
     "text": [
      "AITA for pretending to get fired when customers get a temper with me?\n",
      "The BJP government has said it will not allow the firing of an employee after its election results in August. The decision is expected to be taken by next month's general elections and would have triggered protests across India, including at least 12 people who were injured during Election Day last year.\n"
     ]
    }
   ],
   "source": [
    "import torch\n",
    "from transformers import GPT2Tokenizer, GPT2LMHeadModel\n",
    "\n",
    "# Set the seed for PyTorch (controls randomness for reproducibility)\n",
    "seed = 1\n",
    "torch.manual_seed(seed)\n",
    "\n",
    "# Load pretrained model and tokenizer\n",
    "tokenizer = GPT2Tokenizer.from_pretrained('gpt2')\n",
    "model = GPT2LMHeadModel.from_pretrained('distilgpt2')\n",
    "\n",
    "# Encode input context to get token IDs\n",
    "input_text = \"AITA for pretending to get fired when customers get a temper with me?\"\n",
    "input_ids = tokenizer.encode(input_text, return_tensors='pt')\n",
    "\n",
    "# Generate text using the model\n",
    "output = model.generate(input_ids, \n",
    "                        do_sample=True, \n",
    "                        max_length=150, \n",
    "                        repetition_penalty=1.1,\n",
    "                        temperature=.5, \n",
    "                        top_k=30, \n",
    "                        top_p=0.95\n",
    "                        )\n",
    "\n",
    "# Decode the generated IDs to text\n",
    "generated_text = tokenizer.decode(output[0], skip_special_tokens=True)\n",
    "\n",
    "print(generated_text)\n"
   ]
  },
  {
   "cell_type": "markdown",
   "id": "267d9ceb-31d3-49a3-99fe-63708cc6612b",
   "metadata": {},
   "source": [
    "🔔 **Question**: Does this output make sense? "
   ]
  },
  {
   "cell_type": "markdown",
   "id": "0fee6e46-6775-428a-b368-1efce6703a59",
   "metadata": {},
   "source": [
    "### On Predicting Text\n",
    "\n",
    "What is happening here? The model tokenizes our `input_text` into subwords (or tokens), and then maps each token onto an embedding vector (i.e., a long list of numbers), which it has learned during training. The model then uses these embeddings to predict the most-likely words to appear after our input text ends. It then draws on probability distribution to generate text, word by word.\n",
    "\n",
    "A few things to note about the arguments we pass into `model.generate`:\n",
    "\n",
    "- When `do_sample=True`, the model generates text by **sampling** from the probability distribution of the next token given the context. This distribution is determined by the model's predictions. Instead of simply picking the most probable next token (deterministic), the model randomly selects the next token based on this probability distribution, which can introduce variety and creativity in the generated text.\n",
    "- `max_length` tells the model how many tokens its response should be.\n",
    "- Parameters like `temperature`, `top_k`, and `top_p` modify this distribution to control diversity and coherence of the output:\n",
    "    - `temperature`: Controls the randomness of the generated output. Higher temperature makes the output distribution more uniform, so you are likely to get more diverse generations\n",
    "    - `top-p`: Samples tokens with the highest probability scores until the sum of the scores reaches the specified threshold value. \n",
    "    - `top-k`: Samples tokens with the highest probabilities until the specified number of tokens is reached.\n",
    " \n"
   ]
  },
  {
   "cell_type": "markdown",
   "id": "167c9dd8-87bb-4960-b3b8-2487aaa257fd",
   "metadata": {},
   "source": [
    "### Visualizing Embeddings \n",
    "\n",
    "As we have seen last week, visualizing the embedding space of a model can provide valuable insights into the structure and potential biases of the learned representations. \n",
    "\n",
    "Let's do this for the `distilgpt2` model using principal component analysis (PCA)."
   ]
  },
  {
   "cell_type": "code",
   "execution_count": 3,
   "id": "06834ec6-9d29-44cb-bb8a-2b700e3d7e92",
   "metadata": {},
   "outputs": [],
   "source": [
    "model = GPT2LMHeadModel.from_pretrained('distilgpt2')\n",
    "embeddings = model.transformer.wte.weight.detach().numpy()\n",
    "\n",
    "tokenizer = GPT2Tokenizer.from_pretrained('gpt2')\n",
    "words = [\"mother\", \"father\", \"wife\", \"husband\", \"sibling\", \"friend\", \"asshole\", \"selfish\", \"dishonest\", \"belittles\", \"dismissive\", \"inconsiderate\", \"overreacts\"]\n",
    "word_indices = [tokenizer.encode(word)[0] for word in words]\n",
    "selected_embeddings = embeddings[word_indices]"
   ]
  },
  {
   "cell_type": "code",
   "execution_count": 4,
   "id": "ace20470-c867-4b07-ad2b-8e81eb895074",
   "metadata": {},
   "outputs": [
    {
     "data": {
      "text/plain": [
       "array([[-0.08683544, -0.0742779 ,  0.08279706, ...,  0.1882141 ,\n",
       "         0.08212308, -0.00772696],\n",
       "       [-0.04411615, -0.2743945 ,  0.09602286, ...,  0.1457259 ,\n",
       "         0.1467388 , -0.01477893],\n",
       "       [ 0.02956365, -0.10193486,  0.04898852, ..., -0.08164124,\n",
       "         0.27095503, -0.17627896],\n",
       "       ...,\n",
       "       [ 0.09597927, -0.07860076,  0.2188769 , ...,  0.27255607,\n",
       "         0.14034851, -0.02970902],\n",
       "       [-0.01643876, -0.17959502,  0.17055063, ...,  0.0508506 ,\n",
       "         0.04920006, -0.05104805],\n",
       "       [-0.07287488, -0.13610548,  0.06346617, ...,  0.15324672,\n",
       "        -0.18826947,  0.02226485]], dtype=float32)"
      ]
     },
     "execution_count": 4,
     "metadata": {},
     "output_type": "execute_result"
    }
   ],
   "source": [
    "selected_embeddings"
   ]
  },
  {
   "cell_type": "code",
   "execution_count": 5,
   "id": "efa3c3b8-ab5c-4038-b06e-b5aabbba0395",
   "metadata": {},
   "outputs": [],
   "source": [
    "from sklearn.decomposition import PCA\n",
    "from sklearn.manifold import TSNE\n",
    "\n",
    "# Using PCA\n",
    "pca = PCA(n_components=2)\n",
    "reduced_embeddings_pca = pca.fit_transform(selected_embeddings)"
   ]
  },
  {
   "cell_type": "code",
   "execution_count": 6,
   "id": "16c25d86-ba20-483d-a8b6-41300c9bba37",
   "metadata": {
    "scrolled": true
   },
   "outputs": [
    {
     "data": {
      "text/plain": [
       "<Figure size 640x480 with 0 Axes>"
      ]
     },
     "metadata": {},
     "output_type": "display_data"
    },
    {
     "data": {
      "image/png": "[encoded data removed]",
      "text/plain": [
       "<Figure size 800x600 with 1 Axes>"
      ]
     },
     "metadata": {},
     "output_type": "display_data"
    }
   ],
   "source": [
    "import matplotlib.pyplot as plt\n",
    "from adjustText import adjust_text\n",
    "\n",
    "# Function to plot\n",
    "def plot_embeddings(embeddings, labels, title='PCA of GPT-2 Embeddings'):\n",
    "    plt.figure(figsize=(8, 6))\n",
    "    texts = []\n",
    "    points = plt.scatter(embeddings[:, 0], embeddings[:, 1])  # scatter plot of embeddings\n",
    "\n",
    "    # Generate text annotations\n",
    "    for i, label in enumerate(labels):\n",
    "        x, y = embeddings[i]\n",
    "        text = plt.text(x, y, label, ha='right', va='bottom', fontsize=9)\n",
    "        texts.append(text)\n",
    "\n",
    "    # Use adjust_text to avoid overlapping\n",
    "    adjust_text(texts, x=embeddings[:, 0], y=embeddings[:, 1], arrowprops=dict(arrowstyle='->', color='red', lw=0.5))\n",
    "\n",
    "    plt.title(title)\n",
    "    plt.grid(True)\n",
    "    plt.show()\n",
    "\n",
    "# Save plot\n",
    "plt.savefig('gpt2_embeddings_pca.png', dpi=300, bbox_inches='tight')\n",
    "\n",
    "# Example usage (assuming 'reduced_embeddings_pca' and 'words' are defined)\n",
    "plot_embeddings(reduced_embeddings_pca, words, title='PCA of GPT-2 Embeddings')\n"
   ]
  },
  {
   "cell_type": "markdown",
   "id": "becc72ec-a07e-4a86-a3d7-649fb706d0c5",
   "metadata": {},
   "source": [
    "<a id=\"ft\"></a>\n",
    "\n",
    "# Finetuning GPT-2 - OPTIONAL\n",
    "\n",
    "### ⚠️ Warning\n",
    "Even though we are only training a small model, the following blocks of code operation will take long on a consumer-grade PC (for reference: around 4 hours on an Apple M2 Pro with 16GB memory). I have run this code and saved the model, so you don't have to run it yourself. Please move on to \"Interpreting Model Output\". \n",
    "\n",
    "If you do choose to run the model yourself, you may want to run this notebook in DataHub or, even faster, on Google Colab using a GPU. See Modules in bCourses for the link.\n",
    "\n",
    "\n",
    "## Tokenizing our Data\n",
    "\n",
    "Time to start the finetuning process. We first load in our r/aita dataset and initialize a tokenizer.\n",
    "\n",
    "The tokenizer performs several critical tasks to convert raw text into a format that the GPT-2 model can understand:\n",
    "\n",
    "- Splitting Text into Tokens: The tokenizer breaks down input text into tokens. For GPT-2, these tokens are usually subwords or characters, allowing the model to handle a wide range of words and vocabularies efficiently.\n",
    "- Converting Tokens to IDs: Each token is mapped to a unique integer ID based on the GPT-2 vocabulary. This conversion is necessary because neural networks operate on numerical data, not raw text.\n",
    "- Adding Special Tokens: GPT-2 requires certain special tokens for its operation (e.g., end-of-text token). The tokenizer takes care of adding these tokens where appropriate.\n",
    "- Padding & Truncation: To process batches of data efficiently, all input sequences must be of the same length. The tokenizer can pad shorter sequences with a special padding token or truncate longer ones to a maximum length.\n",
    "- Creating Attention Masks: The tokenizer generates attention masks to differentiate real tokens from padding tokens. This helps the model pay attention to relevant tokens and ignore padded areas."
   ]
  },
  {
   "cell_type": "code",
   "execution_count": null,
   "id": "6891802e-b0f1-4050-ab95-cafcd43c18ce",
   "metadata": {},
   "outputs": [],
   "source": [
    "import pandas as pd\n",
    "import numpy as np\n",
    "\n",
    "df = pd.read_csv('../../data/aita_pp.csv')"
   ]
  },
  {
   "cell_type": "code",
   "execution_count": null,
   "id": "ecaa3aaa-1268-4246-b5bd-dd040c7f13d1",
   "metadata": {},
   "outputs": [],
   "source": [
    "texts = df['selftext'].tolist()"
   ]
  },
  {
   "cell_type": "code",
   "execution_count": null,
   "id": "591e161d-5e48-43e0-82eb-014543986a95",
   "metadata": {
    "scrolled": true
   },
   "outputs": [],
   "source": [
    "texts"
   ]
  },
  {
   "cell_type": "markdown",
   "id": "445ca2cc-ee7c-4c26-a888-0a292434ec40",
   "metadata": {},
   "source": [
    "## Commence Tokenization\n",
    "\n",
    "We will tokenize the entire texts with truncation and padding to a fixed maximum length. This method is straightforward and treats each text as an individual sequence for the model to learn from. The main characteristics include:\n",
    "\n",
    "- `truncation`: Texts longer than `max_length=512` are cut off, potentially losing important information at the end.\n",
    "- `padding`: Texts shorter than `max_length=512` are padded to ensure uniform sequence length, usually with the pad_token. This is not relevant to us as all texts we are feeding into the model are much longer than 512 tokens.\n",
    "\n",
    "During fine-tuning, the prediction task involves predicting the next token in the sequence based on the preceding tokens. So, for each input sequence (i.e., for each Irish drama text) consisting of its first 512 tokens, the model  predicts the next token for each token position within that sequence. The model predicts tokens from the second to the 512th position within each sequence. "
   ]
  },
  {
   "cell_type": "code",
   "execution_count": 11,
   "id": "644bfca0-7def-4af7-9734-5d3e46048413",
   "metadata": {},
   "outputs": [],
   "source": [
    "from transformers import GPT2Tokenizer, GPT2LMHeadModel, Trainer, TrainingArguments\n",
    "\n",
    "# Initialize tokenizer with padding token set\n",
    "tokenizer = GPT2Tokenizer.from_pretrained('distilgpt2')\n",
    "tokenizer.pad_token = tokenizer.eos_token\n",
    "\n",
    "# Tokenize texts\n",
    "encodings = tokenizer(texts, truncation=True, padding=True, max_length=512, return_tensors=\"pt\")"
   ]
  },
  {
   "cell_type": "code",
   "execution_count": 12,
   "id": "96a14f61-3ae6-4d64-b67f-40ee6015bde3",
   "metadata": {},
   "outputs": [],
   "source": [
    "import torch\n",
    "from torch.utils.data import Dataset\n",
    "\n",
    "class TextDataset(Dataset):\n",
    "    def __init__(self, encodings):\n",
    "        self.encodings = encodings\n",
    "    \n",
    "    def __len__(self):\n",
    "        return len(self.encodings.input_ids)\n",
    "    \n",
    "    def __getitem__(self, idx):\n",
    "        item = {key: torch.tensor(val[idx]) for key, val in self.encodings.items()}\n",
    "        # For language modeling, the labels are the input_ids shifted by one\n",
    "        item[\"labels\"] = item[\"input_ids\"].clone()\n",
    "        return item\n",
    "\n",
    "# Initialize the dataset\n",
    "train_dataset = TextDataset(encodings)"
   ]
  },
  {
   "cell_type": "markdown",
   "id": "53ec4274-17b5-4a3a-89ab-ab7243820c53",
   "metadata": {},
   "source": [
    "## Commence Finetuning\n",
    "\n",
    "In the following cell, we initialize the fine-tuning process using Hugging Face's `Trainer` class.\n",
    "\n",
    "The first parameter, `model`, is the pre-trained distilGPT-2 model that we intend to fine-tune. It has been previously loaded and is now set to be further trained on our specific dataset to adjust its weights based on the new data, enhancing its ability to generate or understand text similar to your training corpus.\n",
    "\n",
    "`TrainingArguments` further specifies various configuration settings for the training process:\n",
    "- `output_dir`: The directory where the training outputs (like the fine-tuned model checkpoints) will be saved.\n",
    "- `num_train_epochs`: The number of times the training process should iterate over the entire dataset. Here, it's set to 3, meaning the model will see the dataset three times.\n",
    "- `per_device_train_batch_size`: The number of training examples processed per device (e.g., GPU) per training step. A batch size of 4 is specified, balancing the computational load and memory usage.\n",
    "- `logging_dir`: Directory where training logs will be saved, enabling monitoring of the training process through metrics like loss over time.\n",
    "\n",
    "Finally, `trainer.train()` starts the training process based on the specified model, training arguments, and dataset. The Trainer handles various training aspects, including feeding the input data to the model, performing backpropagation to adjust the model's weights, saving checkpoints, and logging training progress.\n",
    "\n",
    "⚠️ **Warning:** Even though we are using a small model, the following operation will take *long* on a consumer-grade PC (for reference: around 4 hours on an Apple M2 Pro with 16GB memory).\n",
    "I have run this code and saved the model, so you don't have to run it yourself. If you choose to do so, be patient!"
   ]
  },
  {
   "cell_type": "code",
   "execution_count": null,
   "id": "c32e74a3-1e2e-45f2-95e4-391f4034ac7d",
   "metadata": {
    "scrolled": true
   },
   "outputs": [],
   "source": [
    "# Initialize the model\n",
    "model = GPT2LMHeadModel.from_pretrained('distilgpt2')\n",
    "\n",
    "# Define training arguments\n",
    "training_args = TrainingArguments(\n",
    "    output_dir='../../results',\n",
    "    num_train_epochs=3,\n",
    "    per_device_train_batch_size=4,\n",
    "    logging_dir='../../logs'\n",
    ")\n",
    "\n",
    "# Initialize Trainer\n",
    "trainer = Trainer(\n",
    "    model=model,\n",
    "    args=training_args,\n",
    "    train_dataset=train_dataset,\n",
    ")\n",
    "\n",
    "# Start training\n",
    "trainer.train()"
   ]
  },
  {
   "cell_type": "markdown",
   "id": "45da43c6-536d-42df-8698-62a5a4af7749",
   "metadata": {},
   "source": [
    "If you did run the previous code, make sure to save the model and finetuned tokenizer:"
   ]
  },
  {
   "cell_type": "code",
   "execution_count": null,
   "id": "0d8368f6-c45c-4f6a-805b-b010a8c7e8d1",
   "metadata": {},
   "outputs": [],
   "source": [
    "model_save_path = 'ft_model'\n",
    "tokenizer_save_path = 'ft_tokenizer'\n",
    "\n",
    "# Save the model\n",
    "model.save_pretrained(model_save_path)\n",
    "\n",
    "# Save the tokenizer\n",
    "tokenizer.save_pretrained(tokenizer_save_path)\n"
   ]
  },
  {
   "cell_type": "markdown",
   "id": "63102fee-7a30-44db-956d-66f7fca13724",
   "metadata": {},
   "source": [
    "<a id=\"int\"></a>\n",
    "# Interpreting Model Output\n",
    "\n",
    "Let's have a look at the ways DistilGPT2's behavior has been altered due to the finetuning on r/aita.\n",
    "\n",
    "I uploaded my finetuned model to [HuggingFace](https://huggingface.co/tvannuenen/finetuned_model) so we can download it from there:"
   ]
  },
  {
   "cell_type": "code",
   "execution_count": 7,
   "id": "299ec149-be0f-4720-aa73-3f6e18c6620d",
   "metadata": {},
   "outputs": [
    {
     "data": {
      "application/vnd.jupyter.widget-view+json": {
       "model_id": "8adbc677b6004732bfc4aeadf2b2e2da",
       "version_major": 2,
       "version_minor": 0
      },
      "text/plain": [
       "tokenizer_config.json:   0%|          | 0.00/525 [00:00<?, ?B/s]"
      ]
     },
     "metadata": {},
     "output_type": "display_data"
    },
    {
     "data": {
      "application/vnd.jupyter.widget-view+json": {
       "model_id": "c4d13bf8f12044868043f438bf0c986c",
       "version_major": 2,
       "version_minor": 0
      },
      "text/plain": [
       "vocab.json:   0%|          | 0.00/999k [00:00<?, ?B/s]"
      ]
     },
     "metadata": {},
     "output_type": "display_data"
    },
    {
     "data": {
      "application/vnd.jupyter.widget-view+json": {
       "model_id": "f78e4f521a8e40af8bd3111a7d0afe11",
       "version_major": 2,
       "version_minor": 0
      },
      "text/plain": [
       "merges.txt:   0%|          | 0.00/456k [00:00<?, ?B/s]"
      ]
     },
     "metadata": {},
     "output_type": "display_data"
    },
    {
     "data": {
      "application/vnd.jupyter.widget-view+json": {
       "model_id": "9719a029e7354269b5f8a98531e74d17",
       "version_major": 2,
       "version_minor": 0
      },
      "text/plain": [
       "special_tokens_map.json:   0%|          | 0.00/470 [00:00<?, ?B/s]"
      ]
     },
     "metadata": {},
     "output_type": "display_data"
    },
    {
     "data": {
      "application/vnd.jupyter.widget-view+json": {
       "model_id": "5d73359130e549b69850ac8ada5c37ea",
       "version_major": 2,
       "version_minor": 0
      },
      "text/plain": [
       "config.json:   0%|          | 0.00/1.01k [00:00<?, ?B/s]"
      ]
     },
     "metadata": {},
     "output_type": "display_data"
    },
    {
     "data": {
      "application/vnd.jupyter.widget-view+json": {
       "model_id": "0b123e75e496417a8e017a41745b53a2",
       "version_major": 2,
       "version_minor": 0
      },
      "text/plain": [
       "model.safetensors:   0%|          | 0.00/328M [00:00<?, ?B/s]"
      ]
     },
     "metadata": {},
     "output_type": "display_data"
    },
    {
     "data": {
      "application/vnd.jupyter.widget-view+json": {
       "model_id": "3017b4919062454a8ee262116d60516a",
       "version_major": 2,
       "version_minor": 0
      },
      "text/plain": [
       "generation_config.json:   0%|          | 0.00/119 [00:00<?, ?B/s]"
      ]
     },
     "metadata": {},
     "output_type": "display_data"
    }
   ],
   "source": [
    "from transformers import GPT2Tokenizer, GPT2LMHeadModel\n",
    "\n",
    "# Replace with your actual Hugging Face username and repo name\n",
    "model_id = \"tvannuenen/finetuned_model\"\n",
    "\n",
    "# Load the tokenizer and model from the Hugging Face Hub\n",
    "ft_tokenizer = GPT2Tokenizer.from_pretrained(model_id)\n",
    "ft_model = GPT2LMHeadModel.from_pretrained(model_id)"
   ]
  },
  {
   "cell_type": "code",
   "execution_count": 8,
   "id": "a73eb5f3-527a-45f0-8802-a5b95181ca65",
   "metadata": {
    "scrolled": true
   },
   "outputs": [
    {
     "name": "stdout",
     "output_type": "stream",
     "text": [
      "Generated text from finetuned model: AITA for pretending to get fired when customers get a temper with me?\n",
      "I(20F) am in college and I was at my girlfriend’s house earlier today so the heat won't go away. She tells me she is going to try and deal with it because we are both 20-24, as well as her boyfriend of around two years (my ex married 3 months before his wife left us). The reason why he has such high drama can be explained either by telling him that whatever happened during our relationship or simply being blunt about what you would think were your reasons then giving him some money will just stop working out - even if something like this happens after work but not having any control over myself isn \n",
      "\n"
     ]
    }
   ],
   "source": [
    "import torch\n",
    "from transformers import GPT2Tokenizer, GPT2LMHeadModel\n",
    "\n",
    "# Set the seed for PyTorch (controls randomness for reproducibility)\n",
    "seed = 1\n",
    "torch.manual_seed(seed)\n",
    "\n",
    "def generate_text(model, prompt, do_sample=True, max_length=50, temperature=1, top_k=50, top_p=0.95, repetition_penalty=1.1):\n",
    "    \"\"\"\n",
    "    Generates text based on a given prompt using the specified model.\n",
    "    \n",
    "    Parameters:\n",
    "    - model: The fine-tuned model to use for text generation.\n",
    "    - prompt: The initial text to start generating from.\n",
    "    - max_length: Maximum length of the generated text.\n",
    "    - temperature: Sampling temperature for generating text.\n",
    "    - top_k: The number of highest probability vocabulary tokens to keep for top-k filtering.\n",
    "    - top_p: Nucleus sampling's cumulative probability cutoff to keep for top-p filtering.\n",
    "    \n",
    "    Returns:\n",
    "    - generated_text: The generated text as a string.\n",
    "    \"\"\"\n",
    "    # Encode the prompt text to tensor\n",
    "    input_ids = ft_tokenizer.encode(prompt, return_tensors='pt')\n",
    "    \n",
    "    # Generate a sequence of tokens following the prompt\n",
    "    output_ids = ft_model.generate(input_ids, max_length=max_length, \n",
    "                                temperature=temperature, \n",
    "                                do_sample=do_sample, \n",
    "                                top_k=top_k, \n",
    "                                top_p=top_p, \n",
    "                                repetition_penalty=repetition_penalty, \n",
    "                                pad_token_id=ft_tokenizer.eos_token_id)\n",
    "    \n",
    "    # Decode the generated tokens to a string\n",
    "    generated_text = ft_tokenizer.decode(output_ids[0], skip_special_tokens=True)\n",
    "    \n",
    "    return generated_text\n",
    "\n",
    "# Prompt to generate text from - play around with this!\n",
    "prompt = \"AITA for pretending to get fired when customers get a temper with me?\"\n",
    "\n",
    "# Generate texts\n",
    "generated_text = generate_text(ft_model, prompt, max_length=150)\n",
    "print(\"Generated text from finetuned model:\", generated_text, '\\n')\n"
   ]
  },
  {
   "cell_type": "markdown",
   "id": "addbb4a6-6843-4b51-b1af-087f79b6e8f3",
   "metadata": {},
   "source": [
    "## Visualizing the Finetuned Model"
   ]
  },
  {
   "cell_type": "code",
   "execution_count": 9,
   "id": "00d80879-dbd1-4214-a66b-53d221766e7a",
   "metadata": {},
   "outputs": [],
   "source": [
    "embeddings = ft_model.transformer.wte.weight.detach().numpy()\n",
    "\n",
    "words = [\"mother\", \"father\", \"wife\", \"husband\", \"sibling\", \"friend\", \"asshole\", \"selfish\", \"dishonest\", \"belittles\", \"dismissive\", \"inconsiderate\", \"overreacts\"]\n",
    "word_indices = [ft_tokenizer.encode(word)[0] for word in words]\n",
    "selected_embeddings = embeddings[word_indices]"
   ]
  },
  {
   "cell_type": "code",
   "execution_count": 10,
   "id": "db5e5119-6eb4-45b5-86de-9bb8a300239b",
   "metadata": {},
   "outputs": [],
   "source": [
    "from sklearn.decomposition import PCA\n",
    "from sklearn.manifold import TSNE\n",
    "\n",
    "# Using PCA\n",
    "pca = PCA(n_components=2)\n",
    "reduced_embeddings_pca = pca.fit_transform(selected_embeddings)"
   ]
  },
  {
   "cell_type": "code",
   "execution_count": 11,
   "id": "f832e237-cec0-44ee-bdb0-562430c5e313",
   "metadata": {
    "scrolled": true
   },
   "outputs": [
    {
     "data": {
      "image/png": "[encoded data removed]",
      "text/plain": [
       "<Figure size 800x600 with 1 Axes>"
      ]
     },
     "metadata": {},
     "output_type": "display_data"
    }
   ],
   "source": [
    "import matplotlib.pyplot as plt\n",
    "from adjustText import adjust_text\n",
    "\n",
    "# Function to plot\n",
    "def plot_embeddings(embeddings, labels, title='PCA of GPT-2 Embeddings'):\n",
    "    plt.figure(figsize=(8, 6))\n",
    "    texts = []\n",
    "    points = plt.scatter(embeddings[:, 0], embeddings[:, 1])  # scatter plot of embeddings\n",
    "\n",
    "    # Generate text annotations\n",
    "    for i, label in enumerate(labels):\n",
    "        x, y = embeddings[i]\n",
    "        text = plt.text(x, y, label, ha='right', va='bottom', fontsize=9)\n",
    "        texts.append(text)\n",
    "\n",
    "    # Use adjust_text to avoid overlapping\n",
    "    adjust_text(texts, x=embeddings[:, 0], y=embeddings[:, 1], arrowprops=dict(arrowstyle='->', color='red', lw=0.5))\n",
    "\n",
    "    plt.title(title)\n",
    "    plt.grid(True)\n",
    "    plt.savefig('finetuned_gpt2_embeddings_pca.png', dpi=300, bbox_inches='tight')\n",
    "    plt.show()\n",
    "\n",
    "\n",
    "# Example usage (assuming 'reduced_embeddings_pca' and 'words' are defined)\n",
    "plot_embeddings(reduced_embeddings_pca, words, title='PCA of GPT-2 Embeddings')\n"
   ]
  },
  {
   "cell_type": "markdown",
   "id": "39f1c986-fcc6-4a22-8f76-08a493798629",
   "metadata": {},
   "source": [
    "Note how some embeddings, like \"selfish\", have shifted due to the finetuning."
   ]
  },
  {
   "cell_type": "markdown",
   "id": "7c2dfad6-93a0-452c-ab00-46681e5cb0e5",
   "metadata": {},
   "source": [
    "# Create Posts Using Finetuned Model\n",
    "\n",
    "What can we do with this finetuned model? Well, for one, we could generate Am I The Asshole posts!\n",
    "\n",
    "We will ask the model to generate text based on the title of the original post. We will also ask it to create a post that is the same length as the original post."
   ]
  },
  {
   "cell_type": "code",
   "execution_count": 12,
   "id": "233fcbf4-8845-4327-9ddf-5280d862ca3f",
   "metadata": {
    "scrolled": true
   },
   "outputs": [
    {
     "name": "stderr",
     "output_type": "stream",
     "text": [
      "Truncation was not explicitly activated but `max_length` is provided a specific value, please use `truncation=True` to explicitly truncate examples to max length. Defaulting to 'longest_first' truncation strategy. If you encode pairs of sequences (GLUE-style) with the tokenizer you can select this strategy more precisely by providing a specific strategy to `truncation`.\n"
     ]
    }
   ],
   "source": [
    "import pandas as pd\n",
    "import random\n",
    "from transformers import GPT2Tokenizer, GPT2LMHeadModel, pipeline\n",
    "\n",
    "# Load your data\n",
    "df = pd.read_csv('../../data/aita_pp.csv')\n",
    "\n",
    "# Randomly select 10 entries\n",
    "sample_df = df.sample(n=10, random_state=1)  # Use a fixed seed for reproducibility, if needed\n",
    "\n",
    "original_texts = sample_df['selftext'].tolist()  # Adjust column name if different\n",
    "titles = sample_df['title'].tolist()\n",
    "\n",
    "# Initialize the generation pipeline\n",
    "generator = pipeline('text-generation', model=ft_model, tokenizer=ft_tokenizer, device=-1)  # CPU usage\n",
    "\n",
    "# Prepare to generate texts\n",
    "generated_texts = []\n",
    "for title, original_text in zip(titles, original_texts):\n",
    "    # Calculate the length of the original post in tokens\n",
    "    target_length = len(ft_tokenizer.encode(original_text))\n",
    "\n",
    "    # Generate a new post of the same length starting from the title\n",
    "    # Ensure to set max_length to the length of the original post\n",
    "    prompt = title\n",
    "    generated = generator(prompt, max_length=target_length, num_return_sequences=1)[0]['generated_text']\n",
    "    generated_texts.append(generated)"
   ]
  },
  {
   "cell_type": "markdown",
   "id": "b9418715-da75-4cb7-9fe3-eb5e124c4637",
   "metadata": {},
   "source": [
    "Let's save the original and generated posts in a new DataFrame so we can easily compare them."
   ]
  },
  {
   "cell_type": "code",
   "execution_count": 13,
   "id": "515b75c2-4026-4d19-afeb-c0530bd63fe3",
   "metadata": {
    "scrolled": true
   },
   "outputs": [],
   "source": [
    "df = pd.DataFrame({\n",
    "    'original_text': original_texts,\n",
    "    'generated_text': generated_texts,\n",
    "    'title': titles  # Assuming you have a list of titles\n",
    "})"
   ]
  },
  {
   "cell_type": "code",
   "execution_count": 14,
   "id": "d4ba762c-ec76-46ea-beca-39bb4b4b85a1",
   "metadata": {},
   "outputs": [
    {
     "data": {
      "text/html": [
       "<div>\n",
       "<style scoped>\n",
       "    .dataframe tbody tr th:only-of-type {\n",
       "        vertical-align: middle;\n",
       "    }\n",
       "\n",
       "    .dataframe tbody tr th {\n",
       "        vertical-align: top;\n",
       "    }\n",
       "\n",
       "    .dataframe thead th {\n",
       "        text-align: right;\n",
       "    }\n",
       "</style>\n",
       "<table border=\"1\" class=\"dataframe\">\n",
       "  <thead>\n",
       "    <tr style=\"text-align: right;\">\n",
       "      <th></th>\n",
       "      <th>original_text</th>\n",
       "      <th>generated_text</th>\n",
       "      <th>title</th>\n",
       "    </tr>\n",
       "  </thead>\n",
       "  <tbody>\n",
       "    <tr>\n",
       "      <th>0</th>\n",
       "      <td>Just recently, our local Walmart and Target ha...</td>\n",
       "      <td>AITA for refusing to show my receipt when leav...</td>\n",
       "      <td>AITA for refusing to show my receipt when leav...</td>\n",
       "    </tr>\n",
       "    <tr>\n",
       "      <th>1</th>\n",
       "      <td>Please excuse any mistakes. I’m on mobile. \\n\\...</td>\n",
       "      <td>AITA for not wanting my fiancé’s parents to mo...</td>\n",
       "      <td>AITA for not wanting my fiancé’s parents to mo...</td>\n",
       "    </tr>\n",
       "    <tr>\n",
       "      <th>2</th>\n",
       "      <td>My brother was recently diagnosed with late st...</td>\n",
       "      <td>AITA for not wanting to pay for brother's life...</td>\n",
       "      <td>AITA for not wanting to pay for brother's life...</td>\n",
       "    </tr>\n",
       "    <tr>\n",
       "      <th>3</th>\n",
       "      <td>I am a woman in my 20s who has very short hair...</td>\n",
       "      <td>AITA for shaming a barber online that refused ...</td>\n",
       "      <td>AITA for shaming a barber online that refused ...</td>\n",
       "    </tr>\n",
       "    <tr>\n",
       "      <th>4</th>\n",
       "      <td>my wife (27f) and me (36m) were having thanksg...</td>\n",
       "      <td>AITA for not defending my wife at the dinner t...</td>\n",
       "      <td>AITA for not defending my wife at the dinner t...</td>\n",
       "    </tr>\n",
       "    <tr>\n",
       "      <th>5</th>\n",
       "      <td>28f/29m been together for like 4 years I think...</td>\n",
       "      <td>AITA for telling my BF that if he doesnt go to...</td>\n",
       "      <td>AITA for telling my BF that if he doesnt go to...</td>\n",
       "    </tr>\n",
       "    <tr>\n",
       "      <th>6</th>\n",
       "      <td>So about 5 months ago I (29F) got a new place ...</td>\n",
       "      <td>AITA for refusing to cook dinner if my roommat...</td>\n",
       "      <td>AITA for refusing to cook dinner if my roommat...</td>\n",
       "    </tr>\n",
       "    <tr>\n",
       "      <th>7</th>\n",
       "      <td>I am an atheist, and my mom has known this sin...</td>\n",
       "      <td>AITA for walking out on my own birthday party ...</td>\n",
       "      <td>AITA for walking out on my own birthday party ...</td>\n",
       "    </tr>\n",
       "    <tr>\n",
       "      <th>8</th>\n",
       "      <td>Throwaway\\n\\nTL;DR: Got the most basic pulled ...</td>\n",
       "      <td>AITA for bringing home a basic burrito for my ...</td>\n",
       "      <td>AITA for bringing home a basic burrito for my ...</td>\n",
       "    </tr>\n",
       "    <tr>\n",
       "      <th>9</th>\n",
       "      <td>I've started biking to my job, to the gym, to ...</td>\n",
       "      <td>AITA for screaming really loud when drivers co...</td>\n",
       "      <td>AITA for screaming really loud when drivers co...</td>\n",
       "    </tr>\n",
       "  </tbody>\n",
       "</table>\n",
       "</div>"
      ],
      "text/plain": [
       "                                       original_text  \\\n",
       "0  Just recently, our local Walmart and Target ha...   \n",
       "1  Please excuse any mistakes. I’m on mobile. \\n\\...   \n",
       "2  My brother was recently diagnosed with late st...   \n",
       "3  I am a woman in my 20s who has very short hair...   \n",
       "4  my wife (27f) and me (36m) were having thanksg...   \n",
       "5  28f/29m been together for like 4 years I think...   \n",
       "6  So about 5 months ago I (29F) got a new place ...   \n",
       "7  I am an atheist, and my mom has known this sin...   \n",
       "8  Throwaway\\n\\nTL;DR: Got the most basic pulled ...   \n",
       "9  I've started biking to my job, to the gym, to ...   \n",
       "\n",
       "                                      generated_text  \\\n",
       "0  AITA for refusing to show my receipt when leav...   \n",
       "1  AITA for not wanting my fiancé’s parents to mo...   \n",
       "2  AITA for not wanting to pay for brother's life...   \n",
       "3  AITA for shaming a barber online that refused ...   \n",
       "4  AITA for not defending my wife at the dinner t...   \n",
       "5  AITA for telling my BF that if he doesnt go to...   \n",
       "6  AITA for refusing to cook dinner if my roommat...   \n",
       "7  AITA for walking out on my own birthday party ...   \n",
       "8  AITA for bringing home a basic burrito for my ...   \n",
       "9  AITA for screaming really loud when drivers co...   \n",
       "\n",
       "                                               title  \n",
       "0  AITA for refusing to show my receipt when leav...  \n",
       "1  AITA for not wanting my fiancé’s parents to mo...  \n",
       "2  AITA for not wanting to pay for brother's life...  \n",
       "3  AITA for shaming a barber online that refused ...  \n",
       "4  AITA for not defending my wife at the dinner t...  \n",
       "5  AITA for telling my BF that if he doesnt go to...  \n",
       "6  AITA for refusing to cook dinner if my roommat...  \n",
       "7  AITA for walking out on my own birthday party ...  \n",
       "8  AITA for bringing home a basic burrito for my ...  \n",
       "9  AITA for screaming really loud when drivers co...  "
      ]
     },
     "execution_count": 14,
     "metadata": {},
     "output_type": "execute_result"
    }
   ],
   "source": [
    "df"
   ]
  },
  {
   "cell_type": "markdown",
   "id": "eee8e0a7-3ce1-4dae-a26a-f3aa8c4c2ce5",
   "metadata": {},
   "source": [
    "## Back to TF-IDF\n",
    "\n",
    "We can use the TF-IDF algorithm to check the similarity between original texts and the ones we generated!"
   ]
  },
  {
   "cell_type": "code",
   "execution_count": 15,
   "id": "d9533349-ed85-4f5c-a275-6601895f78b3",
   "metadata": {},
   "outputs": [
    {
     "name": "stdout",
     "output_type": "stream",
     "text": [
      "Text 1 Similarity between original and generated: 0.3612\n",
      "Text 2 Similarity between original and generated: 0.3322\n",
      "Text 3 Similarity between original and generated: 0.3156\n",
      "Text 4 Similarity between original and generated: 0.2309\n",
      "Text 5 Similarity between original and generated: 0.3346\n",
      "Text 6 Similarity between original and generated: 0.3400\n",
      "Text 7 Similarity between original and generated: 0.4303\n",
      "Text 8 Similarity between original and generated: 0.4939\n",
      "Text 9 Similarity between original and generated: 0.2839\n",
      "Text 10 Similarity between original and generated: 0.4111\n"
     ]
    }
   ],
   "source": [
    "import pandas as pd\n",
    "from sklearn.feature_extraction.text import TfidfVectorizer\n",
    "from sklearn.metrics.pairwise import cosine_similarity\n",
    "\n",
    "# Combine original and generated texts into one list for TF-IDF analysis\n",
    "texts = df['original_text'].tolist() + df['generated_text'].tolist()\n",
    "\n",
    "# Initialize a TF-IDF Vectorizer\n",
    "vectorizer = TfidfVectorizer()\n",
    "\n",
    "# Fit and transform the data\n",
    "tfidf_matrix = vectorizer.fit_transform(texts)\n",
    "\n",
    "# Calculate cosine similarity between original and generated texts\n",
    "# Assuming the first half are originals and the second half are generated\n",
    "similarity_matrix = cosine_similarity(tfidf_matrix[:len(df)], tfidf_matrix[len(df):])\n",
    "\n",
    "# Display similarity results\n",
    "for i, similarity in enumerate(similarity_matrix.diagonal()):\n",
    "    print(f\"Text {i+1} Similarity between original and generated: {similarity:.4f}\")\n"
   ]
  },
  {
   "cell_type": "markdown",
   "id": "a6f28b23-097b-425e-ab99-aacc09ab02ba",
   "metadata": {},
   "source": [
    "These results, with values primarily between 0.3 and 0.5, suggest that the generated texts share some vocabulary and thematic elements with the original texts but also diverge in significant ways."
   ]
  },
  {
   "cell_type": "markdown",
   "id": "58567cd8-0240-4281-bafa-0c7559d7bae7",
   "metadata": {},
   "source": [
    "## Back to Word Embeddings\n",
    "\n",
    "Finally, let's project the reduced embeddings for both the original and our generated posts in 2D space."
   ]
  },
  {
   "cell_type": "code",
   "execution_count": 16,
   "id": "85f7ee4b-e655-41a7-b1e3-5d3cab839f76",
   "metadata": {},
   "outputs": [
    {
     "data": {
      "image/png": "[encoded data removed]",
      "text/plain": [
       "<Figure size 1000x800 with 1 Axes>"
      ]
     },
     "metadata": {},
     "output_type": "display_data"
    }
   ],
   "source": [
    "import spacy\n",
    "import numpy as np\n",
    "import matplotlib.pyplot as plt\n",
    "from sklearn.decomposition import PCA\n",
    "\n",
    "# Load the medium model with word vectors\n",
    "nlp = spacy.load(\"en_core_web_sm\")\n",
    "\n",
    "# Sample data (assuming df is already loaded)\n",
    "original_texts = df['original_text'].tolist()[:10]  # Limiting for simplicity\n",
    "generated_texts = df['generated_text'].tolist()[:10]\n",
    "\n",
    "# Function to compute average embeddings for a text\n",
    "def get_average_embedding(text, nlp_model):\n",
    "    doc = nlp_model(text)\n",
    "    vectors = [word.vector for word in doc if not word.is_stop and word.has_vector]\n",
    "    if vectors:\n",
    "        return np.mean(vectors, axis=0)\n",
    "    else:\n",
    "        return np.zeros((nlp_model.vocab.vectors_length,))\n",
    "\n",
    "# Compute average embeddings for each set of texts\n",
    "original_embeddings = np.array([get_average_embedding(text, nlp) for text in original_texts])\n",
    "generated_embeddings = np.array([get_average_embedding(text, nlp) for text in generated_texts])\n",
    "\n",
    "# Perform PCA to reduce dimensionality for visualization\n",
    "pca = PCA(n_components=2)\n",
    "original_pca = pca.fit_transform(original_embeddings)\n",
    "generated_pca = pca.transform(generated_embeddings)\n",
    "\n",
    "# Plotting the embeddings\n",
    "plt.figure(figsize=(10, 8))\n",
    "plt.scatter(original_pca[:, 0], original_pca[:, 1], color='blue', label='Original', alpha=0.5)\n",
    "plt.scatter(generated_pca[:, 0], generated_pca[:, 1], color='red', label='Generated', alpha=0.5)\n",
    "plt.title('Comparison of Word Embeddings')\n",
    "plt.xlabel('PCA Component 1')\n",
    "plt.ylabel('PCA Component 2')\n",
    "plt.legend()\n",
    "plt.grid(True)\n",
    "plt.savefig('finetuned_gpt2_original_vs_generated_embeddings_pca.png', dpi=300, bbox_inches='tight')\n",
    "plt.show()\n"
   ]
  },
  {
   "cell_type": "markdown",
   "id": "42d53193-b1cb-45fb-8d7f-b07a5488fd03",
   "metadata": {},
   "source": [
    "Let's compare original posts to the ones we created with GPT-2. Here we are selecting an index from our new DataFrame and printing the text for both the original and our generated text.\n",
    "\n",
    "**🔔 Question:** What do you make of this specific generated post? Can you tell why the model seems to have created the output that it did?"
   ]
  },
  {
   "cell_type": "markdown",
   "id": "935ae8e9-850f-483f-a30b-14f7ec321539",
   "metadata": {
    "tags": []
   },
   "source": [
    "## Back to Close Reading\n",
    "\n",
    "Finally, let's read these generated r/amitheasshole posts. Change the `index` number to see different real vs. generated posts."
   ]
  },
  {
   "cell_type": "code",
   "execution_count": 17,
   "id": "a4948456-a988-4793-ab55-d08ec3047bd3",
   "metadata": {
    "scrolled": true
   },
   "outputs": [
    {
     "name": "stdout",
     "output_type": "stream",
     "text": [
      "Title: AITA for not wanting to pay for brother's life-saving surgery?\n",
      "\n",
      "\n",
      "Original Text: My brother was recently diagnosed with late stage colon cancer and has been in hospital multiple times to get assessments and diagnostic testing. The definitive treatment is a surgery and lengthy hospital stay which costs about $25k out-of-pocket after insurance deductions, and quoted at 70% cure rate. He and my SIL are unable to afford this as they have combined debts of $40k including student loans and not eligible to take more credit. They can at most put together $5000 in time to have the surgery soon enough that it's still effective.\n",
      "\n",
      "They came to me asking for a loan of $20k. This is my brother here, and they have a 4-year-old daughter and I wouldn't wish for anyone to see their dad die. But $20k is not something we can readily hand out. Debt can destroy lives, and if my wife and I have a mortgage to pay off. If we are out $20k (which will probably get turned into a gift because that's just how loans to family and friends work) and either me or my wife lose our jobs, we'll be in trouble. We have no other family able to help pitch in a significant amount. I told them we can't come up with that much money without going into significant debt (i.e. taking out another loan), and both of them were begging me to consider the loan option. AITA?\n",
      "\n",
      "\n",
      "Generated Text: AITA for not wanting to pay for brother's life-saving surgery?\n",
      "\n",
      "I've been getting a lot of messages from people who were saying \"you weren't really a child\", \"you need some help to make it so we can go through it\" etc.\n",
      "\n",
      "I also feel like my brother's life is so incredibly expensive and over budget, there's always a need for him to be in this particular surgery (you will be at once with every family member we serve), or he could probably go in the same room, he would need space to finish each day to himself, etc. He is constantly saying that this surgery was horrible and that we need to give a helping hand to this situation and that he will never come to anything like this again. I've never really appreciated that. I have already decided to pay for my son to go to the surgery to save for his life, but he seems to still believe that I should pay for him to go to the doctor's office, but I've said before he needs help to have a complete say in making that decision?\n",
      "\n",
      "Am I the asshole if I refused to pay for my son to go to the doctor's office, just because he's doing this? I'm tired of having to pay for his life saving surgery like that. AITA for not wanting to afford surgery?\n"
     ]
    }
   ],
   "source": [
    "index = 2\n",
    "print(f\"Title: {df.loc[index]['title']}\")\n",
    "print(\"\\n\")\n",
    "print(f\"Original Text: {df.loc[index, 'original_text']}\")\n",
    "print(\"\\n\")\n",
    "print(f\"Generated Text: {df.loc[index, 'generated_text']}\")"
   ]
  },
  {
   "cell_type": "markdown",
   "id": "9cea0221-1396-450c-ad1b-623a5b7658d0",
   "metadata": {},
   "source": [
    "# 💭 Reflection: Defamilarized posts\n",
    "\n",
    "Ask yourself the following questions:\n",
    "- What did the model \"learn\" about the subreddit's linguistic patterns? What phrases, structures, or rhetorical moves show up consistently? What does this tell us about how r/AmITheAsshole functions as a discourse community?\n",
    "- Pinpoint some moments where the generated text feels \"almost right but wrong.\" What makes these moments jarring? Is it factual inconsistencies, emotional register mismatches, or something else?\n"
   ]
  },
  {
   "cell_type": "markdown",
   "id": "620ce696-918e-447c-9353-fc1241cb59e2",
   "metadata": {
    "tags": []
   },
   "source": [
    "<div class=\"alert alert-success\">\n",
    "\n",
    "## ❗ Key Points\n",
    "\n",
    "* The GPT model is trained to take in a piece of text, and produce a prediction of what comes next in the passage.\n",
    "* Fine-tuning GPT-2 on a specific dataset, like our r/amitheasshole dataset, customizes the model's responses to reflect the themes, style, language, or idioms found within that corpus.\n",
    "* We can evaluate a fine-tuned model with different metrics, and through manual interpretation. \n",
    "    \n",
    "</div>"
   ]
  }
 ],
 "metadata": {
  "kernelspec": {
   "display_name": "dlab",
   "language": "python",
   "name": "dlab"
  },
  "language_info": {
   "codemirror_mode": {
    "name": "ipython",
    "version": 3
   },
   "file_extension": ".py",
   "mimetype": "text/x-python",
   "name": "python",
   "nbconvert_exporter": "python",
   "pygments_lexer": "ipython3",
   "version": "3.10.14"
  }
 },
 "nbformat": 4,
 "nbformat_minor": 5
}
