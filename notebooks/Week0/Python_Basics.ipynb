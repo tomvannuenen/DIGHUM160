{
 "cells": [
  {
   "cell_type": "markdown",
   "metadata": {
    "id": "IRQJkLmpWt86",
    "tags": []
   },
   "source": [
    "<img src=\"../../img/backdrop-wh.png\" alt=\"Drawing\" style=\"width: 300px;\"/>"
   ]
  },
  {
   "cell_type": "markdown",
   "metadata": {
    "tags": []
   },
   "source": [
    "# Python Basics\n",
    "\n",
    "* * * \n",
    "\n",
    "<div class=\"alert alert-success\">  \n",
    "    \n",
    "### Learning Objectives \n",
    "    \n",
    "* Learn what Jupyter notebooks are and how to run them. \n",
    "* Learn the basics of Python: variables, structures, functions, loops and conditionals.\n",
    "* Understand the `Pandas` package and the `DataFrame` object, which can be used for exploratory analysis.\n",
    "</div>\n",
    "\n",
    "\n",
    "### Icons Used in This Notebook\n",
    "🔔 **Question**: A quick question to help you understand what's going on.<br>\n",
    "🥊 **Challenge**: Interactive exercise. We'll work through these in the workshop!<br>\n",
    "💡 **Tip**: How to do something a bit more efficiently or effectively.<br>\n",
    "⚠️ **Warning:** Heads-up about tricky stuff or common mistakes.<br>\n",
    "\n",
    "### Sections\n",
    "\n",
    "1. [Python and Jupyter](#Python)\n",
    "2. [Variables and Data Types](#var)\n",
    "3. [Loops](#loops)\n",
    "4. [Conditionals](#cond)\n",
    "5. [Data Frames: Spreadsheets in Python](#df)"
   ]
  },
  {
   "cell_type": "markdown",
   "metadata": {},
   "source": [
    "<a id='python'></a>\n",
    "\n",
    "# Python and Jupyter\n",
    "\n",
    "Jupyter Notebooks are a format allowing you to run Python. \n",
    "\n",
    "In Jupyter Notebooks, we can write 1) code and 2) markdown cells. Right now, you're reading a markdown cell. \n",
    "\n",
    "Code cells run Python under the hood, using a \"kernel\" (the computational engine). Markdown is text, which we can use to organize our work and research narrative. This text is essential to introduce the reader/audience to the problem or topic being investigated, our research question/hypothesis, materials and methods, results, discussion, and conclusions. \n",
    "\n",
    "Jupyter Notebooks can be exported into slideshows and .html and .pdf files for presentation. [Click here to check out the Jupyter Notebooks beginner guide](https://jupyter-notebook.readthedocs.io/en/stable/examples/Notebook/What%20is%20the%20Jupyter%20Notebook.html)\n",
    "\n",
    "### Run a cell\n",
    "\n",
    "Every cell has to be <i class=\"fa-step-forward fa\"></i> `Run` to work. Press **Shift + enter** after clicking on a cell to run a cell and advance to the next.\n",
    "\n",
    "You can insert cells using the `Insert` menu, and move them up and down relative to one another using the <i class=\"fa-arrow-up fa\"></i> and <i class=\"fa-arrow-down fa\"></i> buttons.\n",
    "\n",
    "Sometimes the kernel breaks or stops functioning. In such cases, you'll want to Restart it. Do this by clicking the `Kernel` menu and clicking the `Restart` button."
   ]
  },
  {
   "cell_type": "markdown",
   "metadata": {
    "id": "6AOcazd7Wt9F"
   },
   "source": [
    "## Hello, World!\n",
    "\n",
    "Even if programming is a [comparatively young art](https://en.wikipedia.org/wiki/History_of_programming_languages), it still has its traditions. One of these traditions is the `Hello, World!` program which is the first program that most people ever write whilst learning how to program.\n",
    "\n",
    "In the cell below, you will now write your own `Hello, World!` program. Click on the block below this one, then run it using the button marked <i class=\"fa-step-forward fa\"></i> `Run` and see what appears!"
   ]
  },
  {
   "cell_type": "code",
   "execution_count": null,
   "metadata": {
    "colab": {
     "base_uri": "https://localhost:8080/"
    },
    "executionInfo": {
     "elapsed": 8,
     "status": "ok",
     "timestamp": 1647446180706,
     "user": {
      "displayName": "Tom van Nuenen",
      "photoUrl": "https://lh3.googleusercontent.com/a-/AOh14GhuBmxDvW5I_LJfZtwlPqMFD8QGLVPP3skvpkTnuQ=s64",
      "userId": "10012302451096885058"
     },
     "user_tz": 300
    },
    "id": "jNo9B2EkWt9F",
    "outputId": "5f7415be-2abf-4f99-afdd-00f076f3d5e9",
    "scrolled": true
   },
   "outputs": [],
   "source": [
    "print(\"Hello, World!\")"
   ]
  },
  {
   "cell_type": "markdown",
   "metadata": {
    "id": "Nn9yXxHCWt9L"
   },
   "source": [
    "Now, write your own line of code here. Use the `print()` function to print out any line of text (don't forget to use quotation marks!)"
   ]
  },
  {
   "cell_type": "code",
   "execution_count": null,
   "metadata": {
    "id": "XTsLW-FgWt9N"
   },
   "outputs": [],
   "source": [
    "# Your code here\n",
    "\n"
   ]
  },
  {
   "cell_type": "markdown",
   "metadata": {
    "id": "tswS8mefWt9S"
   },
   "source": [
    "## Comments\n",
    "\n",
    "You'll also find that a lot of cells have comments in them. A comment is a note we leave for ourselves when writing code, explaining what we're thinking or doing. Python ignores these comments entirely, so we can write in human languages.\n",
    "\n",
    "A comment is anything that starts with the hash (`#`) symbol, a comment can take up an entire line, or just the rest of a line containing code. See the two comments below."
   ]
  },
  {
   "cell_type": "code",
   "execution_count": null,
   "metadata": {
    "colab": {
     "base_uri": "https://localhost:8080/"
    },
    "executionInfo": {
     "elapsed": 288,
     "status": "ok",
     "timestamp": 1647446296299,
     "user": {
      "displayName": "Tom van Nuenen",
      "photoUrl": "https://lh3.googleusercontent.com/a-/AOh14GhuBmxDvW5I_LJfZtwlPqMFD8QGLVPP3skvpkTnuQ=s64",
      "userId": "10012302451096885058"
     },
     "user_tz": 300
    },
    "id": "kNfbGqqRWt9T",
    "outputId": "53b90fda-8dbe-4bc8-9442-d081300a03a0"
   },
   "outputs": [],
   "source": [
    "# here's a dog\n",
    "print('Woof!')\n",
    "print('Meow!')  # and that was a cat\n",
    "# but let's hide the mouse\n",
    "# print(\"Peep!\")"
   ]
  },
  {
   "cell_type": "markdown",
   "metadata": {
    "id": "UjHukylgWt9X"
   },
   "source": [
    "<a id='var'></a>\n",
    "\n",
    "# Variables and Data Types\n",
    "\n",
    "In python, we call something we literally write into the code a **literal**. This is as opposed to a variable, which is simply a name or placeholder for something that can take any value.\n",
    "\n",
    "In python, we create a variable by **assigning** it a value. We do this using the **assignment operator**, otherwise known as the equals (`=`) symbol. For example, to assign the value `\"woof\"` to the variable `dog` we would write `dog = \"woof\"`.\n",
    "\n",
    "In the cell below, we write code which assigns a text value to a variable, then print the variable."
   ]
  },
  {
   "cell_type": "code",
   "execution_count": null,
   "metadata": {
    "colab": {
     "base_uri": "https://localhost:8080/",
     "height": 35
    },
    "executionInfo": {
     "elapsed": 8,
     "status": "ok",
     "timestamp": 1647446354495,
     "user": {
      "displayName": "Tom van Nuenen",
      "photoUrl": "https://lh3.googleusercontent.com/a-/AOh14GhuBmxDvW5I_LJfZtwlPqMFD8QGLVPP3skvpkTnuQ=s64",
      "userId": "10012302451096885058"
     },
     "user_tz": 300
    },
    "id": "ZpU-Pbx5Wt9Y",
    "outputId": "cd5d91ae-1ccd-406b-e887-c4f53254edfd"
   },
   "outputs": [],
   "source": [
    "# YOUR CODE HERE\n",
    "dog = 'woof'\n",
    "dog"
   ]
  },
  {
   "cell_type": "markdown",
   "metadata": {},
   "source": [
    "In the code cell below, type `cat` and see what happens."
   ]
  },
  {
   "cell_type": "code",
   "execution_count": null,
   "metadata": {},
   "outputs": [],
   "source": [
    "# YOUR CODE HERE\n"
   ]
  },
  {
   "cell_type": "markdown",
   "metadata": {
    "id": "qNCdeXyOWt9i"
   },
   "source": [
    "Don't worry when you see something like this - it's called a **traceback** and shows where there's an error in your code and how to fix it. \n",
    "\n",
    "Python is raising a `NameError`. That means it's trying to find something, but it can't find the name in its memory. \n",
    "\n",
    "This is because the variable `cat` does not exist in memory yet."
   ]
  },
  {
   "cell_type": "markdown",
   "metadata": {},
   "source": [
    "## 🥊 Challenge: Overwriting Variables\n",
    "\n",
    "Cells are run in the order that the user clicks on them. The `dog` variable right now refers to the value `\"woof\"`, but if we would execute a cell that overwrites this **from anywhere in the notebook**, this value will be overwritten.\n",
    "\n",
    "Create a new cell anywhere in this notebook and assign `dog` to another string, e.g. `\"grrr\"`. Then call `dog` again. You'll see the variable has been overwritten.\n",
    "\n",
    "Keep this in mind when you are running notebooks, especially when running cells out of order. If you are getting `NameError`s, this might be simply because some variables are defined somewhere in the notebook that you haven't run!"
   ]
  },
  {
   "cell_type": "markdown",
   "metadata": {
    "id": "1LOilZ35Wt9b"
   },
   "source": [
    "## Data Types\n",
    "\n",
    "Variables in python have **types**. So far we have only come across one type: **strings** (which are what we call text, i.e., strings of characters). You can tell that it is a string as it is in between quotation marks--single or double, you choose.\n",
    "\n",
    "Try to change the output below to something else,"
   ]
  },
  {
   "cell_type": "code",
   "execution_count": null,
   "metadata": {
    "id": "br7IeauLWt9c",
    "scrolled": true
   },
   "outputs": [],
   "source": [
    "print(\"woof\")"
   ]
  },
  {
   "cell_type": "markdown",
   "metadata": {
    "id": "lQV_SJCYWt9j"
   },
   "source": [
    "Other types are integers (whole numbers), floats (numbers with a decimal point), lists (a mutable, or changeable, ordered sequence of elements).\n",
    "\n",
    "* `str` - strings, or text\n",
    "* `int` - whole numbers\n",
    "* `float` - numbers with a decimal point e.g., 1.0 or 1.5\n",
    "* `list` - mutable, or changeable, ordered sequence of elements"
   ]
  },
  {
   "cell_type": "markdown",
   "metadata": {
    "id": "tzDc85KgWt9k"
   },
   "source": [
    "To find out a variable's type, we can use the `type()` function. Try the example below."
   ]
  },
  {
   "cell_type": "code",
   "execution_count": null,
   "metadata": {
    "id": "JSdLdiM2Wt9k",
    "scrolled": true
   },
   "outputs": [],
   "source": [
    "print(type(\"Hello, World!\"))"
   ]
  },
  {
   "cell_type": "markdown",
   "metadata": {
    "id": "Nb2freRXWt9n"
   },
   "source": [
    "In the code cell below, type `cat` and see what happens.In the cell below there are some variables. Using `print()` statements, print out the type of one of the variables."
   ]
  },
  {
   "cell_type": "code",
   "execution_count": null,
   "metadata": {
    "id": "89WqaZaWWt9o"
   },
   "outputs": [],
   "source": [
    "lumberjack = 'okay'\n",
    "my_age = 30\n",
    "i_deserve = 10000.00\n",
    "my_list = [1,2,3]\n",
    "\n",
    "# Put your answer below!\n",
    "\n"
   ]
  },
  {
   "cell_type": "markdown",
   "metadata": {
    "id": "R9eKdd4DWt9r"
   },
   "source": [
    "Variables are fundamental to programming and you will use them throughout the course and during the rest of your programming career.\n",
    "\n",
    "In the next line we are `print`ing multiple items. We can swap out strings for the variables."
   ]
  },
  {
   "cell_type": "code",
   "execution_count": null,
   "metadata": {
    "id": "KkLYEOuHWt9s",
    "scrolled": true
   },
   "outputs": [],
   "source": [
    "pronoun = 'He'\n",
    "occupation = 'lumberjack'\n",
    "judgement = 'okay!'\n",
    "print(pronoun, \"is a\", occupation, 'and', pronoun, 'is', judgement)"
   ]
  },
  {
   "cell_type": "markdown",
   "metadata": {
    "id": "1dwLuVN-Wt9y"
   },
   "source": [
    "## Using Methods on Datatypes\n",
    "\n",
    "**Functions** are blocks of code which only run when they're called. `print()` is one such function, and it is built into python.\n",
    "\n",
    "**Methods** are functions that only work on certain data types. Two much-used methods to work with strings are `lower()`, which turns a given string into lowercase, and `split()`, which splits a string into a list."
   ]
  },
  {
   "cell_type": "code",
   "execution_count": null,
   "metadata": {
    "colab": {
     "base_uri": "https://localhost:8080/",
     "height": 35
    },
    "executionInfo": {
     "elapsed": 198,
     "status": "ok",
     "timestamp": 1647446501227,
     "user": {
      "displayName": "Tom van Nuenen",
      "photoUrl": "https://lh3.googleusercontent.com/a-/AOh14GhuBmxDvW5I_LJfZtwlPqMFD8QGLVPP3skvpkTnuQ=s64",
      "userId": "10012302451096885058"
     },
     "user_tz": 300
    },
    "id": "u6-LWHuXWt9z",
    "outputId": "39dbf7e5-2e48-4700-8549-aea38341673b"
   },
   "outputs": [],
   "source": [
    "\"I am a string\".lower()"
   ]
  },
  {
   "cell_type": "code",
   "execution_count": null,
   "metadata": {
    "id": "Y8n5SjBSWt92"
   },
   "outputs": [],
   "source": [
    "\"I-am-a-string\".split('-')"
   ]
  },
  {
   "cell_type": "code",
   "execution_count": null,
   "metadata": {
    "id": "EEZmqf9HWt95"
   },
   "outputs": [],
   "source": [
    "\"I am a string\".lower()"
   ]
  },
  {
   "cell_type": "code",
   "execution_count": null,
   "metadata": {
    "id": "CF2L0rPGWt99"
   },
   "outputs": [],
   "source": [
    "\"I-am-a-string\".split('-')"
   ]
  },
  {
   "cell_type": "markdown",
   "metadata": {
    "id": "yDkDzYPGWt-B"
   },
   "source": [
    "## Methods for Lists\n",
    "\n",
    "One data type you'll use very often is a `list`. It's useful because you can store multiple items in it! Here's an example:"
   ]
  },
  {
   "cell_type": "code",
   "execution_count": null,
   "metadata": {
    "id": "UJysNDDBWt-B"
   },
   "outputs": [],
   "source": [
    "shopping_list = ['bread', 'eggs, 'milk']\n",
    "print(shopping_list)"
   ]
  },
  {
   "cell_type": "markdown",
   "metadata": {},
   "source": [
    "Note the **square brackets** when creating the list. The items in the list are separated by commas."
   ]
  },
  {
   "cell_type": "markdown",
   "metadata": {
    "id": "7nGntGGMWt-F"
   },
   "source": [
    "There are methods that only work on lists, such as `append()`, `count()`, `pop()` or `index()`: "
   ]
  },
  {
   "cell_type": "code",
   "execution_count": null,
   "metadata": {
    "id": "MPD3SovFWt-G"
   },
   "outputs": [],
   "source": [
    "shopping_list.append('cereal')"
   ]
  },
  {
   "cell_type": "code",
   "execution_count": null,
   "metadata": {
    "id": "lasIzTwMWt-I"
   },
   "outputs": [],
   "source": [
    "shopping_list.count('cereal')"
   ]
  },
  {
   "cell_type": "markdown",
   "metadata": {},
   "source": [
    "### Indexing Lists\n",
    "\n",
    "**Indexing** a list means to retrieve a certain item from it. We (confusingly) also use **square brackets** to index a list. \n",
    "\n",
    "Python is zero-indexed, meaning indexing starts at 0. "
   ]
  },
  {
   "cell_type": "code",
   "execution_count": null,
   "metadata": {
    "id": "HhSJ-NdgWt-S"
   },
   "outputs": [],
   "source": [
    "shopping_list[1] # note that this is the second element from the list, as python starts counting at 0"
   ]
  },
  {
   "cell_type": "markdown",
   "metadata": {},
   "source": [
    "We can use indexing to retrieve multiple items from our list using the colon:"
   ]
  },
  {
   "cell_type": "code",
   "execution_count": null,
   "metadata": {},
   "outputs": [],
   "source": [
    "shopping_list[1:3]"
   ]
  },
  {
   "cell_type": "markdown",
   "metadata": {
    "id": "9tCYwHzRWt-c"
   },
   "source": [
    "## `SyntaxError`\n",
    "So far the text we have used has been quite simple and not contained any special characters like quotation marks. But what if our text is more complicated?"
   ]
  },
  {
   "cell_type": "code",
   "execution_count": null,
   "metadata": {
    "colab": {
     "base_uri": "https://localhost:8080/",
     "height": 131
    },
    "executionInfo": {
     "elapsed": 245,
     "status": "error",
     "timestamp": 1647446675696,
     "user": {
      "displayName": "Tom van Nuenen",
      "photoUrl": "https://lh3.googleusercontent.com/a-/AOh14GhuBmxDvW5I_LJfZtwlPqMFD8QGLVPP3skvpkTnuQ=s64",
      "userId": "10012302451096885058"
     },
     "user_tz": 300
    },
    "id": "EiRmPHI_Wt-c",
    "outputId": "fb302f57-563a-4d98-ee0a-e2c3090d5275"
   },
   "outputs": [],
   "source": [
    "print('Oh, I'm a lumberjack, and I'm okay,')"
   ]
  },
  {
   "cell_type": "markdown",
   "metadata": {
    "id": "Ekzpyl0tWt-h"
   },
   "source": [
    "This error is a `SyntaxError`, it means that there is a problem in the way your code is written. Think of it like a spelling or grammar error in an essay."
   ]
  },
  {
   "cell_type": "markdown",
   "metadata": {
    "id": "aGeViOqDWt-h"
   },
   "source": [
    "Luckily, whenever you encounter an error, it's generally quite easy to find help. In this case, [there's a handy online tutorial which can assist](https://www.digitalocean.com/community/tutorials/how-to-format-text-in-python-3). Read through this then print out the lyrics which are commented out below."
   ]
  },
  {
   "cell_type": "code",
   "execution_count": null,
   "metadata": {
    "id": "RUYvwZzCWt-j"
   },
   "outputs": [],
   "source": [
    "# Oh, I'm a lumberjack, and I'm okay, \n",
    "# I sleep all night and I work all day. \n",
    "\n",
    "# He's a lumberjack, and he's okay, \n",
    "# He sleeps all night and he works all day. "
   ]
  },
  {
   "cell_type": "markdown",
   "metadata": {
    "id": "kxzj1lzkWt-p"
   },
   "source": [
    "## Operators\n",
    "\n",
    "We can do things with variables, and sometimes change their values using operators. So far, we've only covered one operator, the assignment operator (=). Python actually has lots of different operators.\n",
    "\n",
    "Here are some basic operators:\n",
    "\n",
    "| Symbol  | Name              | Example  | Used For                                                           |\n",
    "|---------|-------------------|----------|--------------------------------------------------------------------|\n",
    "| `=`     | Assignment        | `a = 1`  | Assigning the value on the right to the variable on the left       |\n",
    "| `+`     | Addition          | `1 + 2`  | Returns the sum of the right and left hand sides                   |\n",
    "| `-`     | Subtraction       | `3 - 1`  | Returns the left hand side minus the right hand side               |\n",
    "| `*`     | Multiplication    | `2 * 3`  | Returns the product of the left and right hand sides               |\n",
    "| `**`    | Power             | `2 ** 2` | Returns the left hand side to the power of the right hand side     |\n",
    "| `+=`    | In place addition | `a += 1` | Sums the left and right hand sides, assigns sum to left hand side  |\n",
    "\n",
    "Most of these operators will not change the value of a variable, but rather return a new value. For example, check out the code below."
   ]
  },
  {
   "cell_type": "code",
   "execution_count": null,
   "metadata": {
    "id": "P3N5nElSWt-q"
   },
   "outputs": [],
   "source": [
    "a = 10 # note: we don't put integers in quotes!\n",
    "b = 20 \n",
    "print('a * b =', a * b)\n",
    "print('a = ', a)\n",
    "print('b = ', b)"
   ]
  },
  {
   "cell_type": "markdown",
   "metadata": {
    "id": "B71ebKc_Wt-t"
   },
   "source": [
    "If you want to keep the value returned by an operator like + or *, we need to use it in conjunction with the assignment operator to assign the value to a new variable, or to an old variable. Check out the examples below."
   ]
  },
  {
   "cell_type": "code",
   "execution_count": null,
   "metadata": {
    "id": "RLvjqBPiWt-v"
   },
   "outputs": [],
   "source": [
    "c = 20\n",
    "d = c + 10\n",
    "print('d is', d)\n",
    "print('and c is still', c)\n",
    "f = 100\n",
    "print('f is currently', f)\n",
    "f = f * d\n",
    "print('but we multiplied it by d and assigned the product to f, now f is', f)"
   ]
  },
  {
   "cell_type": "markdown",
   "metadata": {
    "id": "WO9-SEH0Wt-9"
   },
   "source": [
    "### What's `'Woof!' * 2`?\n",
    "\n",
    "So far, we've only used operators on integers. However, you can also use some operators on strings, too.\n",
    "\n",
    "🔔 **Question**: In the cells below, try using the addition and and multiplication operators on strings. What do you expect to happen?"
   ]
  },
  {
   "cell_type": "code",
   "execution_count": null,
   "metadata": {
    "id": "i7V6oQlHWt--"
   },
   "outputs": [],
   "source": [
    "# here is a variable\n",
    "dog = \"Woof!\"\n",
    "\n",
    "# multiply it by two and print the result\n",
    "\n"
   ]
  },
  {
   "cell_type": "markdown",
   "metadata": {
    "id": "L7HBd3y6Wt_K"
   },
   "source": [
    "## `TypeError`"
   ]
  },
  {
   "cell_type": "markdown",
   "metadata": {},
   "source": [
    "In the following code cell, we try to multiply the following strings: `\"2\" * \"2\"`."
   ]
  },
  {
   "cell_type": "code",
   "execution_count": null,
   "metadata": {},
   "outputs": [],
   "source": [
    "\"2\" * \"2\""
   ]
  },
  {
   "cell_type": "markdown",
   "metadata": {
    "id": "HE5wGejOWt_N"
   },
   "source": [
    "We run into a `TypeError`. The program is complaining that it *\"can't multiply sequence by non-int of type 'str'\"*. What this means is that we've tried to multiply strings. \n",
    "\n",
    "In this case we've tried to multiply two strings together, in the same way you can't multiply `\"dog\"` by `\"cat\"`, python can't multiply `\"2\"` by `\"2\"`.\n",
    "\n",
    "🔔 **Question**: Why **can't** python multiply the values `\"2\"` and `\"2\"` together? Why **can** python multiply the value `\"2\"` by `2`?"
   ]
  },
  {
   "cell_type": "markdown",
   "metadata": {
    "id": "m52YvgfnWt_N"
   },
   "source": [
    "## Casting: Converting between Types\n",
    "\n",
    "Luckily, python has several functions which allow us to convert between different types. The term we use for this is **casting**. So, to fix the error we got above, we need to **cast** the **string** values from the **`input()` function** into **integers** so that we can multiply them together.\n",
    "\n",
    "It's easy to see how the string `\"100\"` can be converted to the integer `100`, or how the integer `123` can be converted to the string `\"123\"`, but how would you convert the string `\"woof\"` into an integer? Hint - you can't.\n",
    "\n",
    "If a casting function can't convert a value, we says it **raises** a `TypeError` (like was raised before when we tried to multiply two strings together).\n",
    "\n",
    "Here are some examples of casting: \n",
    "\n",
    "* `int('22')` (string to integer) will return `22`\n",
    "* `int('twenty two')` (invalid string) will raise `TypeError`\n",
    "* `str(100)` (integer) will return `100`\n",
    "* `str(100.0)` (float) will return `100.0`"
   ]
  },
  {
   "cell_type": "markdown",
   "metadata": {
    "id": "Od-t2e7PWt_V"
   },
   "source": [
    "<a id='loops'></a>\n",
    "\n",
    "# Loops\n",
    "\n",
    "A **[for loop](https://www.w3schools.com/python/python_for_loops.asp)** executes some statements once *for* each value in an iterable (like a list or a string). It says: \"*for* each thing in this group, *do* these operations\"."
   ]
  },
  {
   "cell_type": "markdown",
   "metadata": {
    "id": "s39dQl1pWt_Z"
   },
   "source": [
    "## Looping Over lists \n",
    "\n",
    "One very common thing to do is loop over a list. It works like this:"
   ]
  },
  {
   "cell_type": "code",
   "execution_count": null,
   "metadata": {},
   "outputs": [],
   "source": [
    "tokens = ['Hermeneutics','is','a','fancy','word']\n",
    "\n",
    "for token in tokens:\n",
    "    up = token.upper()\n",
    "    print(up)"
   ]
  },
  {
   "cell_type": "markdown",
   "metadata": {},
   "source": [
    "Let's look at the syntax of this `for` loop a bit more closely:\n",
    "\n",
    "<img src=\"../../img/for.svg\" alt=\"For loop in Python\" width=\"700\"/>\n",
    "\n",
    "Pay attention to the **loop variable** (`token`). It stands for each item in the list (`tokens`) we are iterating through. Loop variables can have any name; if we'd change it to `x`, it would still work. However, loop variables only exist inside the loop."
   ]
  },
  {
   "cell_type": "markdown",
   "metadata": {
    "id": "tKrOtl_1Wt_X"
   },
   "source": [
    "## 🥊 Challenge: Looping Over Lists\n",
    "\n",
    "Create a list with some integers, then write some code that will loop over each integer in your list and multiply it by 10. In the body of the loop, `print` each multiplication. "
   ]
  },
  {
   "cell_type": "code",
   "execution_count": null,
   "metadata": {
    "id": "T5dAAWClWt_X"
   },
   "outputs": [],
   "source": [
    "# YOUR CODE HERE\n",
    "\n"
   ]
  },
  {
   "cell_type": "markdown",
   "metadata": {
    "id": "IYVVWQqWWt_9"
   },
   "source": [
    "<a id='cond'></a>\n",
    "\n",
    "# Conditionals\n",
    "\n",
    "Conditionals, such as `if`, `else` and so on, are what's called **Booleans**. In Python, there is a special type, called `bool`, which can only ever have one of two values: `True` or `False`. Never both, never maybe, just `True` or `False`.\n",
    "\n",
    "Let's imagine we have a variable which was somehow set to whether a shop had eggs, let's call it `shop_has_eggs`, it can be either `True` or `False`. This is called **conditional execution**. In Python, we write out two blocks of code, and then execute only one block, depending on some **condition**.\n",
    "\n",
    "This is where two keywords come in: `if`, and `else` (you can think of `else` as simply meaning \"otherwise\"). We use these like below. Run the code and change the value of `shop_has_eggs` to see how the execution differs."
   ]
  },
  {
   "cell_type": "code",
   "execution_count": null,
   "metadata": {
    "id": "oGQdndrKWt_-"
   },
   "outputs": [],
   "source": [
    "# first, define our shop has eggs variable\n",
    "shop_has_eggs = True  # change this to False and see what happens when you run it again\n",
    "\n",
    "# everything above will always execute\n",
    "print('I am going to the shops')\n",
    "\n",
    "# now for the conditional execution\n",
    "if shop_has_eggs:\n",
    "    # when shop_has_eggs is True, this block executes\n",
    "    print('The shop has eggs, therefore I will buy 6 eggs.')\n",
    "else:\n",
    "    # when it's False, this block executes\n",
    "    print('The shop has no eggs, therefore I will buy 1 loaf of bread.')\n",
    "    \n",
    "# everything below will always execute\n",
    "print('Now I am walking home.')"
   ]
  },
  {
   "cell_type": "markdown",
   "metadata": {
    "id": "yGUhjrttWuAA"
   },
   "source": [
    "Here we can see that `if` takes a boolean value. If the value is `True`, it will execute the block of code below it, if it is `False`, it will skip the block below it and not execute it. \n",
    "\n",
    "Furtermore, `if` can be combined with `else`, so that if the condition passed to `if` is `False`, then the block below `if` won't execute, but the block below `else` will.\n",
    "\n",
    "**⚠️ Warning:** You can use `if` on its own without `else`, but you can never use `else` on its own without `if`. This is because `if` must take a condition, but `else` can't."
   ]
  },
  {
   "cell_type": "markdown",
   "metadata": {
    "id": "0nWb1mWNWuAG"
   },
   "source": [
    "## Comparison Operations\n",
    "\n",
    "In a real life database management system, it would be much more probable that there was a variable called something like `egg_count`, which tells us the *number* of eggs in stock, rather than simply *whether* there are eggs or not. If that number is 0, there are no eggs, if it's 1 or more, then there are eggs.\n",
    "\n",
    "So, we need a way to **compare** values (in this case an integer number of eggs) to evaluate to `True` or `False`. This is where the python [comparison operators](https://www.tutorialspoint.com/python/python_basic_operators.htm) come in.\n",
    "\n",
    "Comparison operators are like arithmetic operators, in that they take the value on the left, and compare it to the value on the right, and then, depending on the result of the comparison, return `True` or `False`. We can either assign the boolean value to a variable, or, more commonly, just pass the condition to `if`. \n",
    "\n",
    "Probably the simplest of all these operators to understand is `==`, the **equality** operator. Note the two equals signs, this is intentional, as it means python can understand the different between **assignment** and **equality**.\n",
    "\n",
    "The code below is an example which uses both the assignment operator and the equality operator."
   ]
  },
  {
   "cell_type": "code",
   "execution_count": null,
   "metadata": {
    "id": "C7vYtbhUWuAH"
   },
   "outputs": [],
   "source": [
    "# add comments in this cell\n",
    "test_var = 10\n",
    "\n",
    "if test_var == 10:\n",
    "    print('test_var is equal to ten')"
   ]
  },
  {
   "cell_type": "markdown",
   "metadata": {
    "id": "CbdxLtBMWuAL"
   },
   "source": [
    "The equality operator is just one of the python comparison operators:\n",
    "\n",
    "\n",
    "| Symbol | Name                     | Example: `True`    | Example: `False`   |\n",
    "|:------:|:------------------------:|:------------------:|:------------------:|\n",
    "| `==`   | Equality                 | 'woof' == 'woof'   | 23 == 20           |\n",
    "| `!=`   | Inequality               | 'woof' != 'meow'   | 23 != 23           |\n",
    "| `>`    | Greater than             | 123 > 12.3         | 100 > 1000         |\n",
    "| `<`    | Less than                | 1000 < 10000       | 1 < 0.1            |\n",
    "| `>=`   | Greater than or equal to | 10 >= 10           | 100 >= 1000        |\n",
    "| `<=`   | Less than or equal to    | 10 <= 100          | 101 <= 100.0       |\n",
    "| `is`   | Identity                 | 10 is 10           | 10 is 10.0         |\n",
    "\n",
    "\n",
    "Take a moment to go over these in your head so you are confident you understand them. "
   ]
  },
  {
   "cell_type": "markdown",
   "metadata": {
    "id": "cNnX6zWXWuAP"
   },
   "source": [
    "## 🥊 Challenge: Creating a Calculator\n",
    "\n",
    "With what you've learned, do the following:\n",
    "\n",
    "1. Create a list with integers between 1 and 20.\n",
    "3. Multiply the values smaller than 10 by 2.\n",
    "4. Else, divide 10 by 2.\n",
    "4. Print the values of the calculation."
   ]
  },
  {
   "cell_type": "code",
   "execution_count": null,
   "metadata": {
    "id": "R2JbMAKZWuAP"
   },
   "outputs": [],
   "source": [
    "# YOUR CODE HERE\n",
    "\n",
    "\n",
    "\n",
    "\n"
   ]
  },
  {
   "cell_type": "markdown",
   "metadata": {},
   "source": [
    "<a id='df'></a>\n",
    "\n",
    "# Data Frames: Spreadsheets in Python\n",
    "\n",
    "**Tabular data** is everywhere. Think of an Excel sheet: each column corresponds to a different feature of each datapoint, while rows correspond to different samples.\n",
    "\n",
    "In scientific programming, tabular data is often called a **data frame**. In Python, the `pandas` package contains an object called `DataFrame` that implements this data structure."
   ]
  },
  {
   "cell_type": "code",
   "execution_count": null,
   "metadata": {
    "scrolled": true
   },
   "outputs": [],
   "source": [
    "%pip install gdown"
   ]
  },
  {
   "cell_type": "code",
   "execution_count": null,
   "metadata": {},
   "outputs": [],
   "source": [
    "import gdown\n",
    "\n",
    "gdown.download(\"https://drive.google.com/uc?id=1x4qElA3OKHH9SWkr78NdYxmAdyIqdpB-\", \"../../data/aita_top_submissions.csv\", quiet=False)"
   ]
  },
  {
   "cell_type": "markdown",
   "metadata": {
    "tags": []
   },
   "source": [
    "## Importing Packages\n",
    "\n",
    "Now let's discuss packages. A **package** is a collection of code that someone else wrote and put in a sharable format. Usually it's designed to add specific functionalities to Python. The package we will use in this notebook is called Pandas. Let's try and use it by importing a CSV file."
   ]
  },
  {
   "cell_type": "code",
   "execution_count": null,
   "metadata": {},
   "outputs": [],
   "source": [
    "# read the file\n",
    "df = pd.read_csv('../../data/aita_top_submissions.csv')"
   ]
  },
  {
   "cell_type": "markdown",
   "metadata": {},
   "source": [
    "## `NameError`\n",
    "\n",
    "We've encountered another error: a `NameError`. What does this mean?\n",
    "\n",
    "Before we can use a package like Pandas, we have to **import** it into the current session.\n",
    "Importing is done with the `import` keyword. We simply run `import [PACKAGE_NAME]`, and everything inside the package becomes available to use.\n",
    "\n",
    "For many packages, like `pandas`, we use an **alias**, or nickname, when importing them. This is just done to save some typing when we refer to the package in our code.\n",
    "\n",
    "Let's import the `pandas` module, and add the alias `pd`."
   ]
  },
  {
   "cell_type": "code",
   "execution_count": null,
   "metadata": {},
   "outputs": [],
   "source": [
    "import pandas as pd"
   ]
  },
  {
   "cell_type": "markdown",
   "metadata": {},
   "source": [
    "## Reading CSV Files"
   ]
  },
  {
   "cell_type": "markdown",
   "metadata": {},
   "source": [
    "The red text in the cell below is part of the command we use to load a file using the read_csv() function. This function takes the location of the file (called a file path) as its main input.\n",
    "\n",
    "Let’s break it down:\n",
    "- `../` means “go up one folder level” from where this notebook is currently located (which is in the “lessons” folder). We use it twice to go back up to the main “DIGHUM160” folder.\n",
    "- `data/` means “go into a folder named data” inside that main folder.\n",
    "- `aita_top_submissions.csv` is the name of the file we’re opening from the data folder.\n",
    "\n",
    "So we’re telling Python:\n",
    "Go up two levels, then go into the data folder, and open the aita_top_submissions.csv file."
   ]
  },
  {
   "cell_type": "code",
   "execution_count": null,
   "metadata": {},
   "outputs": [],
   "source": [
    "df = pd.read_csv('../../data/aita_top_submissions.csv')"
   ]
  },
  {
   "cell_type": "markdown",
   "metadata": {},
   "source": [
    "The `.head()` method will show the first five rows of a Data Frame by default. \n",
    "\n",
    "💡 **Tip**: Put an integer in between the parentheses to specify a different number of rows. "
   ]
  },
  {
   "cell_type": "code",
   "execution_count": null,
   "metadata": {},
   "outputs": [],
   "source": [
    "df.head()"
   ]
  },
  {
   "cell_type": "markdown",
   "metadata": {},
   "source": [
    "### More on .csv Files\n",
    "As data scientists, we'll often be working with these **Comma Separated Values (.csv)** files. \n",
    "\n",
    "Comma separated values files are common because they are relatively small and look good in spreadsheet software. A comma separated values file is just a text file that contains data but that has commas (or other separators) to indicate column breaks.\n",
    "\n",
    "As you see, `pandas` comes with a function [`read_csv()`](https://pandas.pydata.org/docs/reference/api/pandas.read_csv.html)\n",
    "that makes it really easy to import .csv files.\n",
    "\n",
    "Let's have a look at our .csv file in our browser!"
   ]
  },
  {
   "cell_type": "markdown",
   "metadata": {
    "tags": []
   },
   "source": [
    "## Selecting Columns\n",
    "Now that we have our `DataFrame`, we can select a single column by selecting the name of that column. This uses bracket notation (like we do when accessing lists).\n",
    "\n",
    "Check it out:"
   ]
  },
  {
   "cell_type": "code",
   "execution_count": null,
   "metadata": {},
   "outputs": [],
   "source": [
    "df['author']"
   ]
  },
  {
   "cell_type": "markdown",
   "metadata": {},
   "source": [
    "The data type of this column is a `Series`. It's like a list. You can index a `Series` object just like you can with a list!"
   ]
  },
  {
   "cell_type": "code",
   "execution_count": null,
   "metadata": {},
   "outputs": [],
   "source": [
    "aita_author = df['author']\n",
    "aita_author[0]"
   ]
  },
  {
   "cell_type": "markdown",
   "metadata": {},
   "source": [
    "Now let's try to retrieve another column."
   ]
  },
  {
   "cell_type": "code",
   "execution_count": null,
   "metadata": {},
   "outputs": [],
   "source": [
    "df['time']"
   ]
  },
  {
   "cell_type": "markdown",
   "metadata": {},
   "source": [
    "## `KeyError`\n",
    "\n",
    "We've encountered a `KeyError`. What does this mean?\n",
    "\n",
    "We are trying to access a column using a label that does not exist in the DataFrame. \n",
    "\n",
    "In the case of `df['time']`, the error `KeyError: 'time'` indicates that there is no column labeled 'time' in the DataFrame.\n"
   ]
  },
  {
   "cell_type": "markdown",
   "metadata": {},
   "source": [
    "## Using Methods on Columns\n",
    "\n",
    "`DataFrame` objects come with their own methods, many of which operate on a single column of the DataFrame. \n",
    "\n",
    "For example, we can identify the number of unique values in each column by using the `nunique()` method:"
   ]
  },
  {
   "cell_type": "code",
   "execution_count": null,
   "metadata": {},
   "outputs": [],
   "source": [
    "df['author'].nunique()"
   ]
  },
  {
   "cell_type": "markdown",
   "metadata": {},
   "source": [
    "Usually, a package provides **documentation** that explains all of its functionalities. Let's have a look at the documentation for a method called `value_counts()` [online](https://pandas.pydata.org/pandas-docs/stable/reference/api/pandas.Series.value_counts.html). \n",
    "\n",
    "🔔 **Question**: What does `value_counts()` do in the code below?"
   ]
  },
  {
   "cell_type": "code",
   "execution_count": null,
   "metadata": {
    "tags": []
   },
   "outputs": [],
   "source": [
    "df['flair_text'].value_counts()"
   ]
  },
  {
   "cell_type": "markdown",
   "metadata": {},
   "source": [
    "## 🥊 Challenge: Putting Methods in Order\n",
    "\n",
    "In the following code we want to to find the top-3 most frequently occurring flairs in our data. Put the following code fragments in the right order to get this information!"
   ]
  },
  {
   "cell_type": "code",
   "execution_count": null,
   "metadata": {},
   "outputs": [],
   "source": [
    ".head(3)\n",
    ".value_counts()\n",
    "df['flair_text']"
   ]
  },
  {
   "cell_type": "markdown",
   "metadata": {},
   "source": [
    "## Attributes \n",
    "\n",
    "Packages like Pandas don't only come with methods, but also with so-called **attributes**.\n",
    "\n",
    "Attributes are like variables: they give you more information about the data that you have. Methods are like functions: they allow you to do something with data.\n",
    "\n",
    "For instance, we can easily check the column names of our data frame using the `columns` **attribute**."
   ]
  },
  {
   "cell_type": "code",
   "execution_count": null,
   "metadata": {},
   "outputs": [],
   "source": [
    "df.columns"
   ]
  },
  {
   "cell_type": "markdown",
   "metadata": {},
   "source": [
    "🔔 **Question**: Here's another popular attribute: `shape`. What do you think it does?"
   ]
  },
  {
   "cell_type": "code",
   "execution_count": null,
   "metadata": {},
   "outputs": [],
   "source": [
    "df.shape"
   ]
  },
  {
   "cell_type": "markdown",
   "metadata": {},
   "source": [
    "## Jupyter Autocomplete\n",
    "\n",
    "Jupyter Notebooks allow for tab completion, just like many text editors. If you begin typing the name of something (such as a variable) that already exists, you can simply hit **Tab** and Jupyter will autocomplete it for you. If there is more than one possibility, it will show them to you and you can choose from there. "
   ]
  },
  {
   "cell_type": "markdown",
   "metadata": {},
   "source": [
    "🔔 **Question:** Below we are selecting a column in our `DataFrame`. See what happens when you hit `TAB`! What are you seeing?"
   ]
  },
  {
   "cell_type": "code",
   "execution_count": null,
   "metadata": {},
   "outputs": [],
   "source": [
    "# YOUR CODE HERE\n",
    "\n",
    "df['flair_text']."
   ]
  },
  {
   "cell_type": "markdown",
   "metadata": {},
   "source": [
    "## Selecting Rows\n",
    "\n",
    "Accessing rows in a Dataframe can be done using the `.loc` method. `loc` is **label-based**: that means it works based off of the **index label** of our DataFrame. In our current DataFrame, the index label is the leftmost column, consisting of  of numbers that explicitly identify each row."
   ]
  },
  {
   "cell_type": "code",
   "execution_count": null,
   "metadata": {
    "scrolled": true
   },
   "outputs": [],
   "source": [
    "df.head()"
   ]
  },
  {
   "cell_type": "markdown",
   "metadata": {},
   "source": [
    "When you use `.loc`, you are specifying the exact label of the index you want to access. For example, if your DataFrame's index labels are 0, 1, 2, 3, and so forth, using `df.loc[0]` will fetch the row where the index label is 0.\n",
    " "
   ]
  },
  {
   "cell_type": "code",
   "execution_count": null,
   "metadata": {
    "scrolled": true
   },
   "outputs": [],
   "source": [
    "df.loc[0]"
   ]
  },
  {
   "cell_type": "markdown",
   "metadata": {},
   "source": [
    "However, if we try to access an index label that does not exist, we will get a `KeyError` again:"
   ]
  },
  {
   "cell_type": "code",
   "execution_count": null,
   "metadata": {},
   "outputs": [],
   "source": [
    "df.loc[912039]"
   ]
  },
  {
   "cell_type": "markdown",
   "metadata": {},
   "source": [
    "## Conditional Selection\n",
    "\n",
    "What if we wanted to get some rows in our dataset based on some condition? For example, what if we just wanted a select only the rows for which the flair is \"Not the A-hole\"? Or only posts that have a certain number of comments?\n",
    "\n",
    "We can use so-called **value comparison operators** for this. For instance, to get only the rows that have a specific flair, we can use `==`."
   ]
  },
  {
   "cell_type": "code",
   "execution_count": null,
   "metadata": {},
   "outputs": [],
   "source": [
    "df['flair_text'] == 'Not the A-hole'"
   ]
  },
  {
   "cell_type": "markdown",
   "metadata": {},
   "source": [
    "💡 **Tip**: Fancy terminology alert: the above Series is called a **Boolean mask**. It's like a list of True/False labels that we can use to filter our Data Frame for a certain condition!\n",
    "\n",
    "Here, we create a subset of our Data Frame with the fancy Boolean mask we just created. "
   ]
  },
  {
   "cell_type": "code",
   "execution_count": null,
   "metadata": {},
   "outputs": [],
   "source": [
    "# Getting only the data points with this flair\n",
    "df[df['flair_text'] == 'Not the A-hole']"
   ]
  },
  {
   "cell_type": "markdown",
   "metadata": {},
   "source": [
    "Note that the output of this operation is a **new data frame**! We can assign it to a new variable so we can work with this subsetted data frame. Let's do it again:"
   ]
  },
  {
   "cell_type": "code",
   "execution_count": null,
   "metadata": {},
   "outputs": [],
   "source": [
    "# Creating a new data frame with data from 2002\n",
    "nta_df = df[df['flair_text'] == 'Not the A-hole']\n",
    "nta_df.head()"
   ]
  },
  {
   "cell_type": "markdown",
   "metadata": {
    "tags": []
   },
   "source": [
    "## 🥊 Challenge: Subsetting Data Frames\n",
    "\n",
    "Besides `==` we can use [other operators](https://www.w3schools.com/python/gloss_python_comparison_operators.asp) to compare values. For instance:\n",
    "- `<` less than\n",
    "- `>` greater than\n",
    "\n",
    "Fill in the code below to subset our data frame to include only posts with more than 500 comments (`num_comments`)."
   ]
  },
  {
   "cell_type": "code",
   "execution_count": null,
   "metadata": {},
   "outputs": [],
   "source": [
    "# YOUR CODE HERE\n",
    "df[df[...] < ...]"
   ]
  },
  {
   "cell_type": "markdown",
   "metadata": {},
   "source": [
    "## 🥊 Challenge: Subsetting and Calculating the Mean\n",
    "\n",
    "Let's make use of subsetting to do some calculation! Calculate the **average score** for a flair of your choice. \n",
    "\n",
    "This means you will have to:\n",
    "1. Subset the `flair_css_class` column using a Boolean mask and '==', picking one of the values this column can hold.\n",
    "2. Take the `score` column from that subset.\n",
    "3. Apply a Pandas method to get the mean from that column.\n",
    "\n",
    "You might not know how to get the mean of a column – yet! If that's the case, **use your search engine**.\n",
    "\n",
    "1. Enter the name of the computer language or package, and your question (for instance: \"Pandas calculate mean\").\n",
    "2. Read and compare the results you find.\n",
    "3. Try 'em out!"
   ]
  },
  {
   "cell_type": "code",
   "execution_count": null,
   "metadata": {},
   "outputs": [],
   "source": [
    "# YOUR CODE HERE\n"
   ]
  },
  {
   "cell_type": "markdown",
   "metadata": {},
   "source": [
    "# 🎉 Well Done!\n",
    "\n",
    "This workshop series took us through the basics of data analysis in Python:\n",
    "\n",
    "- Using Jupyter notebooks.\n",
    "- Variables, data types, functions.\n",
    "- Looking through documentation.\n",
    "- Googling errors and debugging.\n",
    "- Manipulating data with Pandas."
   ]
  },
  {
   "cell_type": "markdown",
   "metadata": {
    "jp-MarkdownHeadingCollapsed": true,
    "tags": []
   },
   "source": [
    "<div class=\"alert alert-success\">\n",
    "\n",
    "## ❗ Key Points\n",
    "\n",
    "* Jupyter notebooks use a Kernel to run Python. It can be reset in the `Kernel` tab when the notebook gets stuck.\n",
    "* Quitting a notebook means to lose all the variables you had saved to memory.\n",
    "* Variables in Python are assigned using `=`.\n",
    "* Lists are a key data structure in Python: they can be recognized by square brackets.\n",
    "* For-loops allow you to loop over iterables like lists or `Series`.\n",
    "* If-statements exectute based on some condition. \n",
    "* Import a library into Python using `import <libraryname>`.\n",
    "* Data frames allow you to work with tabular data (think Excel in Python).\n",
    "    \n",
    "</div>"
   ]
  }
 ],
 "metadata": {
  "colab": {
   "collapsed_sections": [
    "s39dQl1pWt_Z"
   ],
   "name": "Week 1 OPTIONAL - Python Basics I.ipynb",
   "provenance": []
  },
  "kernelspec": {
   "display_name": "dlab",
   "language": "python",
   "name": "dlab"
  },
  "language_info": {
   "codemirror_mode": {
    "name": "ipython",
    "version": 3
   },
   "file_extension": ".py",
   "mimetype": "text/x-python",
   "name": "python",
   "nbconvert_exporter": "python",
   "pygments_lexer": "ipython3",
   "version": "3.10.13"
  }
 },
 "nbformat": 4,
 "nbformat_minor": 4
}
