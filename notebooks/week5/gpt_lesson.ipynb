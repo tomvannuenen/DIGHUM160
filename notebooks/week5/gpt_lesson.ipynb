{
 "cells": [
  {
   "cell_type": "markdown",
   "id": "2c7cfced-157b-4977-b7d6-bf274f3008cc",
   "metadata": {},
   "source": [
    "<img src=\"../../img/backdrop-wh.png\" alt=\"Drawing\" style=\"width: 300px;\"/>  \n",
    "\n",
    "# GPT Finetuning\n",
    "\n",
    "* * * \n",
    "\n",
    "<div class=\"alert alert-success\">  \n",
    "    \n",
    "### Learning Objectives \n",
    "    \n",
    "* Understand GPT-2 as a large language model.\n",
    "* Reviewing output from pretrained GPT-2 model using the `transformers` library.\n",
    "* Understand the hyperparameters for GPT-2's output generation.\n",
    "* Learn how to finetune GPT-2 on AITA data.\n",
    "* Evaluate differently finetuned GPT-2 models through manual interpretation.\n",
    "\n",
    "</div>\n",
    "\n",
    "### Icons Used in This Notebook\n",
    "🔔 **Question**: A quick question to help you understand what's going on.<br>\n",
    "⚠️ **Warning:** Heads-up about tricky stuff or common mistakes.<br>\n",
    "\n",
    "### Sections\n",
    "1. [What is a Large Language Model?](#llm)\n",
    "2. [What is GPT-2?](#gpt2)\n",
    "3. [Finetuning GPT-2](#ft)\n",
    "4. [Evaluation: Perplexity](#perp)\n",
    "5. [Evaluation: Interpretation](#int)"
   ]
  },
  {
   "cell_type": "markdown",
   "id": "f67bd9f1-97eb-4582-a5cf-fa875f88d302",
   "metadata": {},
   "source": [
    "<a id='llm'></a>\n",
    "# What is a Large Language Model?\n",
    "\n",
    "Large Language Models (LLMs) are machine learning systems trained to predict the next word in a sequence of text. They’re called “large” because they’re built using massive amounts of text data and contain billions of parameters—tunable weights that determine the model’s behavior.\n",
    "\n",
    "LLMs learn patterns in language by analyzing word sequences, grammar, facts, and even writing styles from their training data. Rather than memorizing specific phrases, they build a statistical understanding of how language works. This allows them to generate surprisingly fluent and coherent text, answer questions, summarize content, and more."
   ]
  },
  {
   "cell_type": "markdown",
   "id": "d82fec67-5411-4c42-a594-1e98b0a488e7",
   "metadata": {},
   "source": [
    "<a id='gpt2'></a>\n",
    "# What is GPT-2?\n",
    "\n",
    "**GPT-2 (Generative Pre-trained Transformer 2)**, developed by OpenAI, is a well-known example of an LLM. It’s trained on a broad dataset from the internet and can generate human-like text on a wide variety of topics.\n",
    "\n",
    "\"GPT\" Stands for Generative Pre-trained Transformer. *Generative*, because it generates text. Pre-trained, because it has been trained on a massive amount of data, and \"pre\" insinuates one could further train, or **finetune**, this model. A *transformer* is a specific kind of neural network. You can build different models from transformer architecture; the training goal of GPT is to take in a piece of text, and produce a prediction of what comes next in the passage.\n",
    "\n",
    "GPT-2 is a model from 2019. It was trained on a dataset of 8 million web pages. In this notebook, we are using GPT-2 Small, the base model, which has only (!) 117 million parameters (for comparison, GPT-2 XL has 1.5 billion parameters, and GPT4 has 175 *billion*). A \"parameter\" is an adjustable internal value that the model learns and uses to make predictions or generate text based on its input. More parameters usually means a \"smarter\", more capable model.\n",
    "\n",
    "We use this smaller model to make it possible to finetune it on a local computer (although you still need a pretty recent machine to run the code in this notebook). \n",
    "\n",
    "## What is fine-tuning?\n",
    "Fine-tuning GPT-2 on a specific dataset, like our r/amitheasshole dataset, customizes the model's responses to reflect the themes, style, language, or idioms found within that corpus. This process tailors the model's generative capabilities, making it more likely to produce outputs that are stylistically and thematically aligned with the fine-tuning material.\n",
    "\n",
    "The model's adaptation will be more pronounced when generating text related to or prompted by the domain we train it on. This might include specific narrative styles, dialogue structures, and  conventions unique to Am I The Asshole.\n",
    "\n",
    "## Weight Adjustment\n",
    "Fine-tuning adjusts the weights of the neural network to minimize the loss on the new data. The changes in weights help the model better predict or generate sequences that resemble the fine-tuning data."
   ]
  },
  {
   "cell_type": "markdown",
   "id": "2747f900-cecd-407e-ab41-538d03981955",
   "metadata": {},
   "source": [
    "### Note on package installation\n",
    "\n",
    "- If you are running this notebook on **DataHub**, you may need to **uncomment and run** the `%pip install ...` line below if you get an error about a missing package. Restart your kernel after running this cell!\n",
    "- If you are working **locally** (on your own computer), you should already have all required packages installed via your Conda environment (see the ***\"Local Python and Jupyter Setup\"*** page on bCourses). Only use the `pip install` line if you see an ImportError and know what you’re doing."
   ]
  },
  {
   "cell_type": "code",
   "execution_count": 1,
   "id": "be00427a-62a9-49fa-8ee6-cecf08d68dd5",
   "metadata": {
    "scrolled": true
   },
   "outputs": [
    {
     "name": "stdout",
     "output_type": "stream",
     "text": [
      "Requirement already satisfied: torch in /Users/tomvannuenen/anaconda3/envs/dlab/lib/python3.10/site-packages (2.1.1)\n",
      "Requirement already satisfied: transformers in /Users/tomvannuenen/anaconda3/envs/dlab/lib/python3.10/site-packages (4.51.3)\n",
      "Requirement already satisfied: adjustText in /Users/tomvannuenen/anaconda3/envs/dlab/lib/python3.10/site-packages (1.1.1)\n",
      "Requirement already satisfied: gdown in /Users/tomvannuenen/anaconda3/envs/dlab/lib/python3.10/site-packages (5.2.0)\n",
      "Requirement already satisfied: plotly in /Users/tomvannuenen/anaconda3/envs/dlab/lib/python3.10/site-packages (6.1.2)\n",
      "Requirement already satisfied: filelock in /Users/tomvannuenen/anaconda3/envs/dlab/lib/python3.10/site-packages (from torch) (3.13.1)\n",
      "Requirement already satisfied: typing-extensions in /Users/tomvannuenen/anaconda3/envs/dlab/lib/python3.10/site-packages (from torch) (4.13.2)\n",
      "Requirement already satisfied: sympy in /Users/tomvannuenen/anaconda3/envs/dlab/lib/python3.10/site-packages (from torch) (1.12)\n",
      "Requirement already satisfied: networkx in /Users/tomvannuenen/anaconda3/envs/dlab/lib/python3.10/site-packages (from torch) (3.4.2)\n",
      "Requirement already satisfied: jinja2 in /Users/tomvannuenen/anaconda3/envs/dlab/lib/python3.10/site-packages (from torch) (3.1.2)\n",
      "Requirement already satisfied: fsspec in /Users/tomvannuenen/anaconda3/envs/dlab/lib/python3.10/site-packages (from torch) (2023.12.1)\n",
      "Requirement already satisfied: huggingface-hub<1.0,>=0.30.0 in /Users/tomvannuenen/anaconda3/envs/dlab/lib/python3.10/site-packages (from transformers) (0.31.2)\n",
      "Requirement already satisfied: numpy>=1.17 in /Users/tomvannuenen/anaconda3/envs/dlab/lib/python3.10/site-packages (from transformers) (1.26.4)\n",
      "Requirement already satisfied: packaging>=20.0 in /Users/tomvannuenen/anaconda3/envs/dlab/lib/python3.10/site-packages (from transformers) (25.0)\n",
      "Requirement already satisfied: pyyaml>=5.1 in /Users/tomvannuenen/anaconda3/envs/dlab/lib/python3.10/site-packages (from transformers) (6.0.1)\n",
      "Requirement already satisfied: regex!=2019.12.17 in /Users/tomvannuenen/anaconda3/envs/dlab/lib/python3.10/site-packages (from transformers) (2023.6.3)\n",
      "Requirement already satisfied: requests in /Users/tomvannuenen/anaconda3/envs/dlab/lib/python3.10/site-packages (from transformers) (2.32.3)\n",
      "Requirement already satisfied: tokenizers<0.22,>=0.21 in /Users/tomvannuenen/anaconda3/envs/dlab/lib/python3.10/site-packages (from transformers) (0.21.1)\n",
      "Requirement already satisfied: safetensors>=0.4.3 in /Users/tomvannuenen/anaconda3/envs/dlab/lib/python3.10/site-packages (from transformers) (0.5.3)\n",
      "Requirement already satisfied: tqdm>=4.27 in /Users/tomvannuenen/anaconda3/envs/dlab/lib/python3.10/site-packages (from transformers) (4.65.0)\n",
      "Requirement already satisfied: matplotlib in /Users/tomvannuenen/anaconda3/envs/dlab/lib/python3.10/site-packages (from adjustText) (3.10.3)\n",
      "Requirement already satisfied: scipy in /Users/tomvannuenen/anaconda3/envs/dlab/lib/python3.10/site-packages (from adjustText) (1.15.2)\n",
      "Requirement already satisfied: beautifulsoup4 in /Users/tomvannuenen/anaconda3/envs/dlab/lib/python3.10/site-packages (from gdown) (4.12.2)\n",
      "Requirement already satisfied: narwhals>=1.15.1 in /Users/tomvannuenen/anaconda3/envs/dlab/lib/python3.10/site-packages (from plotly) (1.41.0)\n",
      "Requirement already satisfied: soupsieve>1.2 in /Users/tomvannuenen/anaconda3/envs/dlab/lib/python3.10/site-packages (from beautifulsoup4->gdown) (2.4.1)\n",
      "Requirement already satisfied: MarkupSafe>=2.0 in /Users/tomvannuenen/anaconda3/envs/dlab/lib/python3.10/site-packages (from jinja2->torch) (2.1.3)\n",
      "Requirement already satisfied: contourpy>=1.0.1 in /Users/tomvannuenen/anaconda3/envs/dlab/lib/python3.10/site-packages (from matplotlib->adjustText) (1.1.0)\n",
      "Requirement already satisfied: cycler>=0.10 in /Users/tomvannuenen/anaconda3/envs/dlab/lib/python3.10/site-packages (from matplotlib->adjustText) (0.11.0)\n",
      "Requirement already satisfied: fonttools>=4.22.0 in /Users/tomvannuenen/anaconda3/envs/dlab/lib/python3.10/site-packages (from matplotlib->adjustText) (4.42.0)\n",
      "Requirement already satisfied: kiwisolver>=1.3.1 in /Users/tomvannuenen/anaconda3/envs/dlab/lib/python3.10/site-packages (from matplotlib->adjustText) (1.4.4)\n",
      "Requirement already satisfied: pillow>=8 in /Users/tomvannuenen/anaconda3/envs/dlab/lib/python3.10/site-packages (from matplotlib->adjustText) (10.0.0)\n",
      "Requirement already satisfied: pyparsing>=2.3.1 in /Users/tomvannuenen/anaconda3/envs/dlab/lib/python3.10/site-packages (from matplotlib->adjustText) (3.0.9)\n",
      "Requirement already satisfied: python-dateutil>=2.7 in /Users/tomvannuenen/anaconda3/envs/dlab/lib/python3.10/site-packages (from matplotlib->adjustText) (2.8.2)\n",
      "Requirement already satisfied: six>=1.5 in /Users/tomvannuenen/anaconda3/envs/dlab/lib/python3.10/site-packages (from python-dateutil>=2.7->matplotlib->adjustText) (1.16.0)\n",
      "Requirement already satisfied: charset-normalizer<4,>=2 in /Users/tomvannuenen/anaconda3/envs/dlab/lib/python3.10/site-packages (from requests->transformers) (3.2.0)\n",
      "Requirement already satisfied: idna<4,>=2.5 in /Users/tomvannuenen/anaconda3/envs/dlab/lib/python3.10/site-packages (from requests->transformers) (3.4)\n",
      "Requirement already satisfied: urllib3<3,>=1.21.1 in /Users/tomvannuenen/anaconda3/envs/dlab/lib/python3.10/site-packages (from requests->transformers) (2.4.0)\n",
      "Requirement already satisfied: certifi>=2017.4.17 in /Users/tomvannuenen/anaconda3/envs/dlab/lib/python3.10/site-packages (from requests->transformers) (2023.7.22)\n",
      "Requirement already satisfied: PySocks!=1.5.7,>=1.5.6 in /Users/tomvannuenen/anaconda3/envs/dlab/lib/python3.10/site-packages (from requests[socks]->gdown) (1.7.1)\n",
      "Requirement already satisfied: mpmath>=0.19 in /Users/tomvannuenen/anaconda3/envs/dlab/lib/python3.10/site-packages (from sympy->torch) (1.3.0)\n",
      "Note: you may need to restart the kernel to use updated packages.\n"
     ]
    }
   ],
   "source": [
    "# Package install - restart your kernel after running this!\n",
    "#%pip install torch transformers adjustText gdown plotly"
   ]
  },
  {
   "cell_type": "markdown",
   "id": "306cb272-72fd-48a4-b3ed-e50476d5b1e2",
   "metadata": {},
   "source": [
    "After importing, check which versions of the packages we have."
   ]
  },
  {
   "cell_type": "code",
   "execution_count": 2,
   "id": "642a7038-81fc-4ed4-9792-c0365f88eb15",
   "metadata": {},
   "outputs": [
    {
     "name": "stdout",
     "output_type": "stream",
     "text": [
      "2.1.1\n",
      "4.51.3\n"
     ]
    }
   ],
   "source": [
    "import torch\n",
    "import transformers\n",
    "print(torch.__version__)\n",
    "print(transformers.__version__)"
   ]
  },
  {
   "cell_type": "markdown",
   "id": "aaba1192-ac81-4f0e-b796-d0d665bab905",
   "metadata": {},
   "source": [
    "Let's generate some text. We will use DistilGPT2 (short for Distilled-GPT2), a model pre-trained with the supervision of the smallest version of Generative Pre-trained Transformer 2 (GPT-2). \n",
    "\n",
    "Our input text will be a typical title from an r/aita post. By looking at how the model completes this sentence, we get a sense of its internal logic, and whether it \"understands\" what an r/aita post looks like."
   ]
  },
  {
   "cell_type": "code",
   "execution_count": 3,
   "id": "00216452-6fd2-48e8-a6fc-e77a96e5fc08",
   "metadata": {},
   "outputs": [
    {
     "name": "stderr",
     "output_type": "stream",
     "text": [
      "The attention mask and the pad token id were not set. As a consequence, you may observe unexpected behavior. Please pass your input's `attention_mask` to obtain reliable results.\n",
      "Setting `pad_token_id` to `eos_token_id`:50256 for open-end generation.\n",
      "The attention mask is not set and cannot be inferred from input because pad token is same as eos token. As a consequence, you may observe unexpected behavior. Please pass your input's `attention_mask` to obtain reliable results.\n"
     ]
    },
    {
     "name": "stdout",
     "output_type": "stream",
     "text": [
      "AITA for pretending to get fired when customers get a temper with me?\n",
      "The BJP government has said it will not allow the firing of an employee after its election results in August. The decision is expected to be taken by next month's general elections and would have triggered protests across India, including at least 12 people who were injured during Election Day last year.\n"
     ]
    }
   ],
   "source": [
    "import torch\n",
    "from transformers import GPT2Tokenizer, GPT2LMHeadModel\n",
    "\n",
    "# Set the seed for PyTorch (controls randomness for reproducibility)\n",
    "seed = 1\n",
    "torch.manual_seed(seed)\n",
    "\n",
    "# Load pretrained model and tokenizer\n",
    "tokenizer = GPT2Tokenizer.from_pretrained('gpt2')\n",
    "model = GPT2LMHeadModel.from_pretrained('distilgpt2')\n",
    "\n",
    "# Encode input context to get token IDs\n",
    "input_text = \"AITA for pretending to get fired when customers get a temper with me?\"\n",
    "input_ids = tokenizer.encode(input_text, return_tensors='pt')\n",
    "\n",
    "# Generate text using the model\n",
    "output = model.generate(input_ids, \n",
    "                        do_sample=True, \n",
    "                        max_length=150, \n",
    "                        repetition_penalty=1.1,\n",
    "                        temperature=.5, \n",
    "                        top_k=30, \n",
    "                        top_p=0.95\n",
    "                        )\n",
    "\n",
    "# Decode the generated IDs to text\n",
    "generated_text = tokenizer.decode(output[0], skip_special_tokens=True)\n",
    "\n",
    "print(generated_text)\n"
   ]
  },
  {
   "cell_type": "markdown",
   "id": "267d9ceb-31d3-49a3-99fe-63708cc6612b",
   "metadata": {},
   "source": [
    "🔔 **Question**: Does this output make sense? "
   ]
  },
  {
   "cell_type": "markdown",
   "id": "0fee6e46-6775-428a-b368-1efce6703a59",
   "metadata": {},
   "source": [
    "### On Predicting Text\n",
    "\n",
    "What is happening here? The model tokenizes our `input_text` into subwords (or tokens), and then maps each token onto an embedding vector (i.e., a long list of numbers), which it has learned during training. The model then uses these embeddings to predict the most-likely words to appear after our input text ends. It then draws on probability distribution to generate text, word by word.\n",
    "\n",
    "A few things to note about the arguments we pass into `model.generate`:\n",
    "\n",
    "- When `do_sample=True`, the model generates text by **sampling** from the probability distribution of the next token given the context. This distribution is determined by the model's predictions. Instead of simply picking the most probable next token (deterministic), the model randomly selects the next token based on this probability distribution, which can introduce variety and creativity in the generated text.\n",
    "- `max_length` tells the model how many tokens its response should be.\n",
    "- Parameters like `temperature`, `top_k`, and `top_p` modify this distribution to control diversity and coherence of the output:\n",
    "    - `temperature`: Controls the randomness of the generated output. Higher temperature makes the output distribution more uniform, so you are likely to get more diverse generations\n",
    "    - `top-p`: Samples tokens with the highest probability scores until the sum of the scores reaches the specified threshold value. \n",
    "    - `top-k`: Samples tokens with the highest probabilities until the specified number of tokens is reached.\n",
    " \n"
   ]
  },
  {
   "cell_type": "markdown",
   "id": "167c9dd8-87bb-4960-b3b8-2487aaa257fd",
   "metadata": {},
   "source": [
    "### Visualizing Embeddings \n",
    "\n",
    "As we have seen last week, visualizing the embedding space of a model can provide valuable insights into the structure and potential biases of the learned representations. \n",
    "\n",
    "Let's do this for the `distilgpt2` model using principal component analysis (PCA)."
   ]
  },
  {
   "cell_type": "code",
   "execution_count": 17,
   "id": "06834ec6-9d29-44cb-bb8a-2b700e3d7e92",
   "metadata": {},
   "outputs": [],
   "source": [
    "model = GPT2LMHeadModel.from_pretrained('distilgpt2')\n",
    "embeddings = model.transformer.wte.weight.detach().numpy()\n",
    "\n",
    "tokenizer = GPT2Tokenizer.from_pretrained('gpt2')\n",
    "words = [\"mother\", \"father\", \"wife\", \"husband\", \"sibling\", \"friend\", \"asshole\", \"selfish\", \"dishonest\", \"belittles\", \"dismissive\", \"inconsiderate\", \"overreacts\"]\n",
    "word_indices = [tokenizer.encode(word)[0] for word in words]\n",
    "selected_embeddings = embeddings[word_indices]"
   ]
  },
  {
   "cell_type": "code",
   "execution_count": 18,
   "id": "ace20470-c867-4b07-ad2b-8e81eb895074",
   "metadata": {},
   "outputs": [
    {
     "data": {
      "text/plain": [
       "array([[-0.08683544, -0.0742779 ,  0.08279706, ...,  0.1882141 ,\n",
       "         0.08212308, -0.00772696],\n",
       "       [-0.04411615, -0.2743945 ,  0.09602286, ...,  0.1457259 ,\n",
       "         0.1467388 , -0.01477893],\n",
       "       [ 0.02956365, -0.10193486,  0.04898852, ..., -0.08164124,\n",
       "         0.27095503, -0.17627896],\n",
       "       ...,\n",
       "       [ 0.09597927, -0.07860076,  0.2188769 , ...,  0.27255607,\n",
       "         0.14034851, -0.02970902],\n",
       "       [-0.01643876, -0.17959502,  0.17055063, ...,  0.0508506 ,\n",
       "         0.04920006, -0.05104805],\n",
       "       [-0.07287488, -0.13610548,  0.06346617, ...,  0.15324672,\n",
       "        -0.18826947,  0.02226485]], dtype=float32)"
      ]
     },
     "execution_count": 18,
     "metadata": {},
     "output_type": "execute_result"
    }
   ],
   "source": [
    "selected_embeddings"
   ]
  },
  {
   "cell_type": "code",
   "execution_count": 19,
   "id": "efa3c3b8-ab5c-4038-b06e-b5aabbba0395",
   "metadata": {},
   "outputs": [],
   "source": [
    "from sklearn.decomposition import PCA\n",
    "from sklearn.manifold import TSNE\n",
    "\n",
    "# Using PCA\n",
    "pca = PCA(n_components=2)\n",
    "reduced_embeddings_pca = pca.fit_transform(selected_embeddings)"
   ]
  },
  {
   "cell_type": "code",
   "execution_count": 20,
   "id": "16c25d86-ba20-483d-a8b6-41300c9bba37",
   "metadata": {
    "scrolled": true
   },
   "outputs": [
    {
     "data": {
      "application/vnd.plotly.v1+json": {
       "config": {
        "plotlyServerURL": "https://plot.ly"
       },
       "data": [
        {
         "hovertemplate": "x=%{x}<br>y=%{y}<br>label=%{text}<extra></extra>",
         "legendgroup": "",
         "marker": {
          "color": "#636efa",
          "opacity": 0.7,
          "size": 6,
          "symbol": "circle"
         },
         "mode": "markers+text",
         "name": "",
         "orientation": "v",
         "showlegend": false,
         "text": [
          "mother",
          "father",
          "wife",
          "husband",
          "sibling",
          "friend",
          "asshole",
          "selfish",
          "dishonest",
          "belittles",
          "dismissive",
          "inconsiderate",
          "overreacts"
         ],
         "textposition": "top center",
         "type": "scatter",
         "x": {
          "_inputArray": {
           "0": -1.6300534009933472,
           "1": -1.4740015268325806,
           "10": 2.187507390975952,
           "11": 0.7701607346534729,
           "12": 0.5339668393135071,
           "2": -2.1533966064453125,
           "3": -1.9911760091781616,
           "4": 1.5149155855178833,
           "5": -1.1254637241363525,
           "6": 0.9190948009490967,
           "7": 0.12829165160655975,
           "8": 2.187507390975952,
           "9": 0.13264866173267365,
           "bdata": "l6XQvxWsvL9A0QnA297+v8HowT8yD5C/zElrP+NeAz4fAAxADdUHPh8ADEBBKUU/DbIIPw==",
           "dtype": "f4",
           "shape": "13"
          },
          "bdata": "l6XQvxWsvL9A0QnA297+v8HowT8yD5C/zElrP+NeAz4fAAxADdUHPh8ADEBBKUU/DbIIPw==",
          "dtype": "f4"
         },
         "xaxis": "x",
         "y": {
          "_inputArray": {
           "0": 0.8730594515800476,
           "1": 0.8356195688247681,
           "10": 1.657361626625061,
           "11": -1.451274037361145,
           "12": -1.728092074394226,
           "2": 0.6880537867546082,
           "3": 0.3118937015533447,
           "4": 0.5612220168113708,
           "5": -0.2272937297821045,
           "6": -1.4495530128479004,
           "7": -0.5799703001976013,
           "8": 1.657361626625061,
           "9": -1.1483889818191528,
           "bdata": "04BfPyrrVT9LJDA/iLCfPj+sDz+wv2i+9Iq5v+94FL9tJNQ/af6Sv20k1D9Zw7m/HzLdvw==",
           "dtype": "f4",
           "shape": "13"
          },
          "bdata": "04BfPyrrVT9LJDA/iLCfPj+sDz+wv2i+9Iq5v+94FL9tJNQ/af6Sv20k1D9Zw7m/HzLdvw==",
          "dtype": "f4"
         },
         "yaxis": "y"
        }
       ],
       "layout": {
        "autosize": true,
        "hovermode": "closest",
        "legend": {
         "tracegroupgap": 0
        },
        "showlegend": false,
        "template": {
         "data": {
          "bar": [
           {
            "error_x": {
             "color": "#2a3f5f"
            },
            "error_y": {
             "color": "#2a3f5f"
            },
            "marker": {
             "line": {
              "color": "#E5ECF6",
              "width": 0.5
             },
             "pattern": {
              "fillmode": "overlay",
              "size": 10,
              "solidity": 0.2
             }
            },
            "type": "bar"
           }
          ],
          "barpolar": [
           {
            "marker": {
             "line": {
              "color": "#E5ECF6",
              "width": 0.5
             },
             "pattern": {
              "fillmode": "overlay",
              "size": 10,
              "solidity": 0.2
             }
            },
            "type": "barpolar"
           }
          ],
          "carpet": [
           {
            "aaxis": {
             "endlinecolor": "#2a3f5f",
             "gridcolor": "white",
             "linecolor": "white",
             "minorgridcolor": "white",
             "startlinecolor": "#2a3f5f"
            },
            "baxis": {
             "endlinecolor": "#2a3f5f",
             "gridcolor": "white",
             "linecolor": "white",
             "minorgridcolor": "white",
             "startlinecolor": "#2a3f5f"
            },
            "type": "carpet"
           }
          ],
          "choropleth": [
           {
            "colorbar": {
             "outlinewidth": 0,
             "ticks": ""
            },
            "type": "choropleth"
           }
          ],
          "contour": [
           {
            "colorbar": {
             "outlinewidth": 0,
             "ticks": ""
            },
            "colorscale": [
             [
              0,
              "#0d0887"
             ],
             [
              0.1111111111111111,
              "#46039f"
             ],
             [
              0.2222222222222222,
              "#7201a8"
             ],
             [
              0.3333333333333333,
              "#9c179e"
             ],
             [
              0.4444444444444444,
              "#bd3786"
             ],
             [
              0.5555555555555556,
              "#d8576b"
             ],
             [
              0.6666666666666666,
              "#ed7953"
             ],
             [
              0.7777777777777778,
              "#fb9f3a"
             ],
             [
              0.8888888888888888,
              "#fdca26"
             ],
             [
              1,
              "#f0f921"
             ]
            ],
            "type": "contour"
           }
          ],
          "contourcarpet": [
           {
            "colorbar": {
             "outlinewidth": 0,
             "ticks": ""
            },
            "type": "contourcarpet"
           }
          ],
          "heatmap": [
           {
            "colorbar": {
             "outlinewidth": 0,
             "ticks": ""
            },
            "colorscale": [
             [
              0,
              "#0d0887"
             ],
             [
              0.1111111111111111,
              "#46039f"
             ],
             [
              0.2222222222222222,
              "#7201a8"
             ],
             [
              0.3333333333333333,
              "#9c179e"
             ],
             [
              0.4444444444444444,
              "#bd3786"
             ],
             [
              0.5555555555555556,
              "#d8576b"
             ],
             [
              0.6666666666666666,
              "#ed7953"
             ],
             [
              0.7777777777777778,
              "#fb9f3a"
             ],
             [
              0.8888888888888888,
              "#fdca26"
             ],
             [
              1,
              "#f0f921"
             ]
            ],
            "type": "heatmap"
           }
          ],
          "histogram": [
           {
            "marker": {
             "pattern": {
              "fillmode": "overlay",
              "size": 10,
              "solidity": 0.2
             }
            },
            "type": "histogram"
           }
          ],
          "histogram2d": [
           {
            "colorbar": {
             "outlinewidth": 0,
             "ticks": ""
            },
            "colorscale": [
             [
              0,
              "#0d0887"
             ],
             [
              0.1111111111111111,
              "#46039f"
             ],
             [
              0.2222222222222222,
              "#7201a8"
             ],
             [
              0.3333333333333333,
              "#9c179e"
             ],
             [
              0.4444444444444444,
              "#bd3786"
             ],
             [
              0.5555555555555556,
              "#d8576b"
             ],
             [
              0.6666666666666666,
              "#ed7953"
             ],
             [
              0.7777777777777778,
              "#fb9f3a"
             ],
             [
              0.8888888888888888,
              "#fdca26"
             ],
             [
              1,
              "#f0f921"
             ]
            ],
            "type": "histogram2d"
           }
          ],
          "histogram2dcontour": [
           {
            "colorbar": {
             "outlinewidth": 0,
             "ticks": ""
            },
            "colorscale": [
             [
              0,
              "#0d0887"
             ],
             [
              0.1111111111111111,
              "#46039f"
             ],
             [
              0.2222222222222222,
              "#7201a8"
             ],
             [
              0.3333333333333333,
              "#9c179e"
             ],
             [
              0.4444444444444444,
              "#bd3786"
             ],
             [
              0.5555555555555556,
              "#d8576b"
             ],
             [
              0.6666666666666666,
              "#ed7953"
             ],
             [
              0.7777777777777778,
              "#fb9f3a"
             ],
             [
              0.8888888888888888,
              "#fdca26"
             ],
             [
              1,
              "#f0f921"
             ]
            ],
            "type": "histogram2dcontour"
           }
          ],
          "mesh3d": [
           {
            "colorbar": {
             "outlinewidth": 0,
             "ticks": ""
            },
            "type": "mesh3d"
           }
          ],
          "parcoords": [
           {
            "line": {
             "colorbar": {
              "outlinewidth": 0,
              "ticks": ""
             }
            },
            "type": "parcoords"
           }
          ],
          "pie": [
           {
            "automargin": true,
            "type": "pie"
           }
          ],
          "scatter": [
           {
            "fillpattern": {
             "fillmode": "overlay",
             "size": 10,
             "solidity": 0.2
            },
            "type": "scatter"
           }
          ],
          "scatter3d": [
           {
            "line": {
             "colorbar": {
              "outlinewidth": 0,
              "ticks": ""
             }
            },
            "marker": {
             "colorbar": {
              "outlinewidth": 0,
              "ticks": ""
             }
            },
            "type": "scatter3d"
           }
          ],
          "scattercarpet": [
           {
            "marker": {
             "colorbar": {
              "outlinewidth": 0,
              "ticks": ""
             }
            },
            "type": "scattercarpet"
           }
          ],
          "scattergeo": [
           {
            "marker": {
             "colorbar": {
              "outlinewidth": 0,
              "ticks": ""
             }
            },
            "type": "scattergeo"
           }
          ],
          "scattergl": [
           {
            "marker": {
             "colorbar": {
              "outlinewidth": 0,
              "ticks": ""
             }
            },
            "type": "scattergl"
           }
          ],
          "scattermap": [
           {
            "marker": {
             "colorbar": {
              "outlinewidth": 0,
              "ticks": ""
             }
            },
            "type": "scattermap"
           }
          ],
          "scattermapbox": [
           {
            "marker": {
             "colorbar": {
              "outlinewidth": 0,
              "ticks": ""
             }
            },
            "type": "scattermapbox"
           }
          ],
          "scatterpolar": [
           {
            "marker": {
             "colorbar": {
              "outlinewidth": 0,
              "ticks": ""
             }
            },
            "type": "scatterpolar"
           }
          ],
          "scatterpolargl": [
           {
            "marker": {
             "colorbar": {
              "outlinewidth": 0,
              "ticks": ""
             }
            },
            "type": "scatterpolargl"
           }
          ],
          "scatterternary": [
           {
            "marker": {
             "colorbar": {
              "outlinewidth": 0,
              "ticks": ""
             }
            },
            "type": "scatterternary"
           }
          ],
          "surface": [
           {
            "colorbar": {
             "outlinewidth": 0,
             "ticks": ""
            },
            "colorscale": [
             [
              0,
              "#0d0887"
             ],
             [
              0.1111111111111111,
              "#46039f"
             ],
             [
              0.2222222222222222,
              "#7201a8"
             ],
             [
              0.3333333333333333,
              "#9c179e"
             ],
             [
              0.4444444444444444,
              "#bd3786"
             ],
             [
              0.5555555555555556,
              "#d8576b"
             ],
             [
              0.6666666666666666,
              "#ed7953"
             ],
             [
              0.7777777777777778,
              "#fb9f3a"
             ],
             [
              0.8888888888888888,
              "#fdca26"
             ],
             [
              1,
              "#f0f921"
             ]
            ],
            "type": "surface"
           }
          ],
          "table": [
           {
            "cells": {
             "fill": {
              "color": "#EBF0F8"
             },
             "line": {
              "color": "white"
             }
            },
            "header": {
             "fill": {
              "color": "#C8D4E3"
             },
             "line": {
              "color": "white"
             }
            },
            "type": "table"
           }
          ]
         },
         "layout": {
          "annotationdefaults": {
           "arrowcolor": "#2a3f5f",
           "arrowhead": 0,
           "arrowwidth": 1
          },
          "autotypenumbers": "strict",
          "coloraxis": {
           "colorbar": {
            "outlinewidth": 0,
            "ticks": ""
           }
          },
          "colorscale": {
           "diverging": [
            [
             0,
             "#8e0152"
            ],
            [
             0.1,
             "#c51b7d"
            ],
            [
             0.2,
             "#de77ae"
            ],
            [
             0.3,
             "#f1b6da"
            ],
            [
             0.4,
             "#fde0ef"
            ],
            [
             0.5,
             "#f7f7f7"
            ],
            [
             0.6,
             "#e6f5d0"
            ],
            [
             0.7,
             "#b8e186"
            ],
            [
             0.8,
             "#7fbc41"
            ],
            [
             0.9,
             "#4d9221"
            ],
            [
             1,
             "#276419"
            ]
           ],
           "sequential": [
            [
             0,
             "#0d0887"
            ],
            [
             0.1111111111111111,
             "#46039f"
            ],
            [
             0.2222222222222222,
             "#7201a8"
            ],
            [
             0.3333333333333333,
             "#9c179e"
            ],
            [
             0.4444444444444444,
             "#bd3786"
            ],
            [
             0.5555555555555556,
             "#d8576b"
            ],
            [
             0.6666666666666666,
             "#ed7953"
            ],
            [
             0.7777777777777778,
             "#fb9f3a"
            ],
            [
             0.8888888888888888,
             "#fdca26"
            ],
            [
             1,
             "#f0f921"
            ]
           ],
           "sequentialminus": [
            [
             0,
             "#0d0887"
            ],
            [
             0.1111111111111111,
             "#46039f"
            ],
            [
             0.2222222222222222,
             "#7201a8"
            ],
            [
             0.3333333333333333,
             "#9c179e"
            ],
            [
             0.4444444444444444,
             "#bd3786"
            ],
            [
             0.5555555555555556,
             "#d8576b"
            ],
            [
             0.6666666666666666,
             "#ed7953"
            ],
            [
             0.7777777777777778,
             "#fb9f3a"
            ],
            [
             0.8888888888888888,
             "#fdca26"
            ],
            [
             1,
             "#f0f921"
            ]
           ]
          },
          "colorway": [
           "#636efa",
           "#EF553B",
           "#00cc96",
           "#ab63fa",
           "#FFA15A",
           "#19d3f3",
           "#FF6692",
           "#B6E880",
           "#FF97FF",
           "#FECB52"
          ],
          "font": {
           "color": "#2a3f5f"
          },
          "geo": {
           "bgcolor": "white",
           "lakecolor": "white",
           "landcolor": "#E5ECF6",
           "showlakes": true,
           "showland": true,
           "subunitcolor": "white"
          },
          "hoverlabel": {
           "align": "left"
          },
          "hovermode": "closest",
          "mapbox": {
           "style": "light"
          },
          "paper_bgcolor": "white",
          "plot_bgcolor": "#E5ECF6",
          "polar": {
           "angularaxis": {
            "gridcolor": "white",
            "linecolor": "white",
            "ticks": ""
           },
           "bgcolor": "#E5ECF6",
           "radialaxis": {
            "gridcolor": "white",
            "linecolor": "white",
            "ticks": ""
           }
          },
          "scene": {
           "xaxis": {
            "backgroundcolor": "#E5ECF6",
            "gridcolor": "white",
            "gridwidth": 2,
            "linecolor": "white",
            "showbackground": true,
            "ticks": "",
            "zerolinecolor": "white"
           },
           "yaxis": {
            "backgroundcolor": "#E5ECF6",
            "gridcolor": "white",
            "gridwidth": 2,
            "linecolor": "white",
            "showbackground": true,
            "ticks": "",
            "zerolinecolor": "white"
           },
           "zaxis": {
            "backgroundcolor": "#E5ECF6",
            "gridcolor": "white",
            "gridwidth": 2,
            "linecolor": "white",
            "showbackground": true,
            "ticks": "",
            "zerolinecolor": "white"
           }
          },
          "shapedefaults": {
           "line": {
            "color": "#2a3f5f"
           }
          },
          "ternary": {
           "aaxis": {
            "gridcolor": "white",
            "linecolor": "white",
            "ticks": ""
           },
           "baxis": {
            "gridcolor": "white",
            "linecolor": "white",
            "ticks": ""
           },
           "bgcolor": "#E5ECF6",
           "caxis": {
            "gridcolor": "white",
            "linecolor": "white",
            "ticks": ""
           }
          },
          "title": {
           "x": 0.05
          },
          "xaxis": {
           "automargin": true,
           "gridcolor": "white",
           "linecolor": "white",
           "ticks": "",
           "title": {
            "standoff": 15
           },
           "zerolinecolor": "white",
           "zerolinewidth": 2
          },
          "yaxis": {
           "automargin": true,
           "gridcolor": "white",
           "linecolor": "white",
           "ticks": "",
           "title": {
            "standoff": 15
           },
           "zerolinecolor": "white",
           "zerolinewidth": 2
          }
         }
        },
        "title": {
         "text": "PCA of GPT-2 Embeddings"
        },
        "xaxis": {
         "anchor": "y",
         "autorange": true,
         "domain": [
          0,
          1
         ],
         "range": [
          -2.4128499096892413,
          2.446960694219881
         ],
         "title": {
          "text": "PCA 1"
         },
         "type": "linear"
        },
        "yaxis": {
         "anchor": "x",
         "autorange": true,
         "domain": [
          0,
          1
         ],
         "range": [
          -2.007474175934653,
          1.9367437281654878
         ],
         "title": {
          "text": "PCA 2"
         },
         "type": "linear"
        }
       }
      },
      "image/png": "[encoded data removed]"
     },
     "metadata": {},
     "output_type": "display_data"
    }
   ],
   "source": [
    "import plotly.express as px\n",
    "import pandas as pd\n",
    "\n",
    "# Create a DataFrame from the PCA embeddings and labels\n",
    "df_plot = pd.DataFrame({\n",
    "    'x': reduced_embeddings_pca[:, 0],\n",
    "    'y': reduced_embeddings_pca[:, 1],\n",
    "    'label': words\n",
    "})\n",
    "\n",
    "# Create interactive scatter plot with hover labels\n",
    "fig = px.scatter(\n",
    "    df_plot,\n",
    "    x='x',\n",
    "    y='y',\n",
    "    text='label',  # show text labels directly (optional)\n",
    "    title='PCA of GPT-2 Embeddings',\n",
    ")\n",
    "\n",
    "# Make it look nicer\n",
    "fig.update_traces(textposition='top center', marker=dict(size=6, opacity=0.7))\n",
    "fig.update_layout(\n",
    "    xaxis_title='PCA 1',\n",
    "    yaxis_title='PCA 2',\n",
    "    hovermode='closest',\n",
    "    showlegend=False\n",
    ")\n",
    "\n",
    "fig.show()"
   ]
  },
  {
   "cell_type": "code",
   "execution_count": 21,
   "id": "2ee5b316-5e11-48bd-9a56-124ade77cbf9",
   "metadata": {},
   "outputs": [],
   "source": [
    "# Save for comparison\n",
    "reduced_embeddings_pca_original = reduced_embeddings_pca\n",
    "words_original = words"
   ]
  },
  {
   "cell_type": "markdown",
   "id": "becc72ec-a07e-4a86-a3d7-649fb706d0c5",
   "metadata": {},
   "source": [
    "<a id=\"ft\"></a>\n",
    "\n",
    "# Finetuning GPT-2 - OPTIONAL\n",
    "\n",
    "### ⚠️ Warning\n",
    "Even though we are only training a small model, the following blocks of code operation will take long on a consumer-grade PC (for reference: around 4 hours on an Apple M2 Pro with 16GB memory). I have run this code and saved the model, so you don't have to run it yourself. Please move on to \"Interpreting Model Output\". \n",
    "\n",
    "If you do choose to run the model yourself, you may want to run this notebook in DataHub or, even faster, on Google Colab using a GPU. See Modules in bCourses for the link.\n",
    "\n",
    "\n",
    "## Tokenizing our Data\n",
    "\n",
    "Time to start the finetuning process. We first load in our r/aita dataset and initialize a tokenizer.\n",
    "\n",
    "The tokenizer performs several critical tasks to convert raw text into a format that the GPT-2 model can understand:\n",
    "\n",
    "- Splitting Text into Tokens: The tokenizer breaks down input text into tokens. For GPT-2, these tokens are usually subwords or characters, allowing the model to handle a wide range of words and vocabularies efficiently.\n",
    "- Converting Tokens to IDs: Each token is mapped to a unique integer ID based on the GPT-2 vocabulary. This conversion is necessary because neural networks operate on numerical data, not raw text.\n",
    "- Adding Special Tokens: GPT-2 requires certain special tokens for its operation (e.g., end-of-text token). The tokenizer takes care of adding these tokens where appropriate.\n",
    "- Padding & Truncation: To process batches of data efficiently, all input sequences must be of the same length. The tokenizer can pad shorter sequences with a special padding token or truncate longer ones to a maximum length.\n",
    "- Creating Attention Masks: The tokenizer generates attention masks to differentiate real tokens from padding tokens. This helps the model pay attention to relevant tokens and ignore padded areas."
   ]
  },
  {
   "cell_type": "code",
   "execution_count": null,
   "id": "6891802e-b0f1-4050-ab95-cafcd43c18ce",
   "metadata": {},
   "outputs": [],
   "source": [
    "import pandas as pd\n",
    "import numpy as np\n",
    "\n",
    "df = pd.read_csv('../../data/aita_pp.csv')"
   ]
  },
  {
   "cell_type": "code",
   "execution_count": null,
   "id": "ecaa3aaa-1268-4246-b5bd-dd040c7f13d1",
   "metadata": {},
   "outputs": [],
   "source": [
    "texts = df['selftext'].tolist()"
   ]
  },
  {
   "cell_type": "code",
   "execution_count": null,
   "id": "591e161d-5e48-43e0-82eb-014543986a95",
   "metadata": {
    "scrolled": true
   },
   "outputs": [],
   "source": [
    "texts"
   ]
  },
  {
   "cell_type": "markdown",
   "id": "445ca2cc-ee7c-4c26-a888-0a292434ec40",
   "metadata": {},
   "source": [
    "## Commence Tokenization\n",
    "\n",
    "We will tokenize the entire texts with truncation and padding to a fixed maximum length. This method is straightforward and treats each text as an individual sequence for the model to learn from. The main characteristics include:\n",
    "\n",
    "- `truncation`: Texts longer than `max_length=512` are cut off, potentially losing important information at the end.\n",
    "- `padding`: Texts shorter than `max_length=512` are padded to ensure uniform sequence length, usually with the pad_token. This is not relevant to us as all texts we are feeding into the model are much longer than 512 tokens.\n",
    "\n",
    "During fine-tuning, the prediction task involves predicting the next token in the sequence based on the preceding tokens. So, for each input sequence (i.e., for each Irish drama text) consisting of its first 512 tokens, the model  predicts the next token for each token position within that sequence. The model predicts tokens from the second to the 512th position within each sequence. "
   ]
  },
  {
   "cell_type": "code",
   "execution_count": 11,
   "id": "644bfca0-7def-4af7-9734-5d3e46048413",
   "metadata": {},
   "outputs": [],
   "source": [
    "from transformers import GPT2Tokenizer, GPT2LMHeadModel, Trainer, TrainingArguments\n",
    "\n",
    "# Initialize tokenizer with padding token set\n",
    "tokenizer = GPT2Tokenizer.from_pretrained('distilgpt2')\n",
    "tokenizer.pad_token = tokenizer.eos_token\n",
    "\n",
    "# Tokenize texts\n",
    "encodings = tokenizer(texts, truncation=True, padding=True, max_length=512, return_tensors=\"pt\")"
   ]
  },
  {
   "cell_type": "code",
   "execution_count": 12,
   "id": "96a14f61-3ae6-4d64-b67f-40ee6015bde3",
   "metadata": {},
   "outputs": [],
   "source": [
    "import torch\n",
    "from torch.utils.data import Dataset\n",
    "\n",
    "class TextDataset(Dataset):\n",
    "    def __init__(self, encodings):\n",
    "        self.encodings = encodings\n",
    "    \n",
    "    def __len__(self):\n",
    "        return len(self.encodings.input_ids)\n",
    "    \n",
    "    def __getitem__(self, idx):\n",
    "        item = {key: torch.tensor(val[idx]) for key, val in self.encodings.items()}\n",
    "        # For language modeling, the labels are the input_ids shifted by one\n",
    "        item[\"labels\"] = item[\"input_ids\"].clone()\n",
    "        return item\n",
    "\n",
    "# Initialize the dataset\n",
    "train_dataset = TextDataset(encodings)"
   ]
  },
  {
   "cell_type": "markdown",
   "id": "53ec4274-17b5-4a3a-89ab-ab7243820c53",
   "metadata": {},
   "source": [
    "## Commence Finetuning\n",
    "\n",
    "In the following cell, we initialize the fine-tuning process using Hugging Face's `Trainer` class.\n",
    "\n",
    "The first parameter, `model`, is the pre-trained distilGPT-2 model that we intend to fine-tune. It has been previously loaded and is now set to be further trained on our specific dataset to adjust its weights based on the new data, enhancing its ability to generate or understand text similar to your training corpus.\n",
    "\n",
    "`TrainingArguments` further specifies various configuration settings for the training process:\n",
    "- `output_dir`: The directory where the training outputs (like the fine-tuned model checkpoints) will be saved.\n",
    "- `num_train_epochs`: The number of times the training process should iterate over the entire dataset. Here, it's set to 3, meaning the model will see the dataset three times.\n",
    "- `per_device_train_batch_size`: The number of training examples processed per device (e.g., GPU) per training step. A batch size of 4 is specified, balancing the computational load and memory usage.\n",
    "- `logging_dir`: Directory where training logs will be saved, enabling monitoring of the training process through metrics like loss over time.\n",
    "\n",
    "Finally, `trainer.train()` starts the training process based on the specified model, training arguments, and dataset. The Trainer handles various training aspects, including feeding the input data to the model, performing backpropagation to adjust the model's weights, saving checkpoints, and logging training progress.\n",
    "\n",
    "⚠️ **Warning:** Even though we are using a small model, the following operation will take *long* on a consumer-grade PC (for reference: around 4 hours on an Apple M2 Pro with 16GB memory).\n",
    "I have run this code and saved the model, so you don't have to run it yourself. If you choose to do so, be patient!"
   ]
  },
  {
   "cell_type": "code",
   "execution_count": null,
   "id": "c32e74a3-1e2e-45f2-95e4-391f4034ac7d",
   "metadata": {
    "scrolled": true
   },
   "outputs": [],
   "source": [
    "# Initialize the model\n",
    "model = GPT2LMHeadModel.from_pretrained('distilgpt2')\n",
    "\n",
    "# Define training arguments\n",
    "training_args = TrainingArguments(\n",
    "    output_dir='../../results',\n",
    "    num_train_epochs=3,\n",
    "    per_device_train_batch_size=4,\n",
    "    logging_dir='../../logs'\n",
    ")\n",
    "\n",
    "# Initialize Trainer\n",
    "trainer = Trainer(\n",
    "    model=model,\n",
    "    args=training_args,\n",
    "    train_dataset=train_dataset,\n",
    ")\n",
    "\n",
    "# Start training\n",
    "trainer.train()"
   ]
  },
  {
   "cell_type": "markdown",
   "id": "45da43c6-536d-42df-8698-62a5a4af7749",
   "metadata": {},
   "source": [
    "If you did run the previous code, make sure to save the model and finetuned tokenizer:"
   ]
  },
  {
   "cell_type": "code",
   "execution_count": null,
   "id": "0d8368f6-c45c-4f6a-805b-b010a8c7e8d1",
   "metadata": {},
   "outputs": [],
   "source": [
    "model_save_path = 'ft_model'\n",
    "tokenizer_save_path = 'ft_tokenizer'\n",
    "\n",
    "# Save the model\n",
    "model.save_pretrained(model_save_path)\n",
    "\n",
    "# Save the tokenizer\n",
    "tokenizer.save_pretrained(tokenizer_save_path)\n"
   ]
  },
  {
   "cell_type": "markdown",
   "id": "63102fee-7a30-44db-956d-66f7fca13724",
   "metadata": {},
   "source": [
    "<a id=\"int\"></a>\n",
    "# Interpreting Model Output\n",
    "\n",
    "Let's have a look at the ways DistilGPT2's behavior has been altered due to the finetuning on r/aita.\n",
    "\n",
    "I uploaded my finetuned model to [HuggingFace](https://huggingface.co/tvannuenen/finetuned_model) so we can download it from there:"
   ]
  },
  {
   "cell_type": "code",
   "execution_count": 22,
   "id": "299ec149-be0f-4720-aa73-3f6e18c6620d",
   "metadata": {},
   "outputs": [],
   "source": [
    "from transformers import GPT2Tokenizer, GPT2LMHeadModel\n",
    "\n",
    "model_id = \"tvannuenen/finetuned_model\"\n",
    "\n",
    "# Load the tokenizer and model from the Hugging Face Hub\n",
    "ft_tokenizer = GPT2Tokenizer.from_pretrained(model_id)\n",
    "ft_model = GPT2LMHeadModel.from_pretrained(model_id)"
   ]
  },
  {
   "cell_type": "code",
   "execution_count": 23,
   "id": "a73eb5f3-527a-45f0-8802-a5b95181ca65",
   "metadata": {
    "scrolled": true
   },
   "outputs": [
    {
     "name": "stdout",
     "output_type": "stream",
     "text": [
      "Generated text from finetuned model: AITA for pretending to get fired when customers get a temper with me?\n",
      "I(20F) am in college and I was at my girlfriend’s house earlier today so the heat won't go away. She tells me she is going to try and deal with it because we are both 20-24, as well as her boyfriend of around two years (my ex married 3 months before his wife left us). The reason why he has such high drama can be explained either by telling him that whatever happened during our relationship or simply being blunt about what you would think were your reasons then giving him some money will just stop working out - even if something like this happens after work but not having any control over myself isn \n",
      "\n"
     ]
    }
   ],
   "source": [
    "import torch\n",
    "from transformers import GPT2Tokenizer, GPT2LMHeadModel\n",
    "\n",
    "# Set the seed for PyTorch (controls randomness for reproducibility)\n",
    "seed = 1\n",
    "torch.manual_seed(seed)\n",
    "\n",
    "def generate_text(model, prompt, do_sample=True, max_length=50, temperature=1, top_k=50, top_p=0.95, repetition_penalty=1.1):\n",
    "    \"\"\"\n",
    "    Generates text based on a given prompt using the specified model.\n",
    "    \n",
    "    Parameters:\n",
    "    - model: The fine-tuned model to use for text generation.\n",
    "    - prompt: The initial text to start generating from.\n",
    "    - max_length: Maximum length of the generated text.\n",
    "    - temperature: Sampling temperature for generating text.\n",
    "    - top_k: The number of highest probability vocabulary tokens to keep for top-k filtering.\n",
    "    - top_p: Nucleus sampling's cumulative probability cutoff to keep for top-p filtering.\n",
    "    \n",
    "    Returns:\n",
    "    - generated_text: The generated text as a string.\n",
    "    \"\"\"\n",
    "    # Encode the prompt text to tensor\n",
    "    input_ids = ft_tokenizer.encode(prompt, return_tensors='pt')\n",
    "    \n",
    "    # Generate a sequence of tokens following the prompt\n",
    "    output_ids = ft_model.generate(input_ids, max_length=max_length, \n",
    "                                temperature=temperature, \n",
    "                                do_sample=do_sample, \n",
    "                                top_k=top_k, \n",
    "                                top_p=top_p, \n",
    "                                repetition_penalty=repetition_penalty, \n",
    "                                pad_token_id=ft_tokenizer.eos_token_id)\n",
    "    \n",
    "    # Decode the generated tokens to a string\n",
    "    generated_text = ft_tokenizer.decode(output_ids[0], skip_special_tokens=True)\n",
    "    \n",
    "    return generated_text\n",
    "\n",
    "# Prompt to generate text from - play around with this!\n",
    "prompt = \"AITA for pretending to get fired when customers get a temper with me?\"\n",
    "\n",
    "# Generate texts\n",
    "generated_text = generate_text(ft_model, prompt, max_length=150)\n",
    "print(\"Generated text from finetuned model:\", generated_text, '\\n')\n"
   ]
  },
  {
   "cell_type": "markdown",
   "id": "addbb4a6-6843-4b51-b1af-087f79b6e8f3",
   "metadata": {},
   "source": [
    "## Visualizing the Finetuned Model"
   ]
  },
  {
   "cell_type": "code",
   "execution_count": 24,
   "id": "00d80879-dbd1-4214-a66b-53d221766e7a",
   "metadata": {},
   "outputs": [],
   "source": [
    "embeddings = ft_model.transformer.wte.weight.detach().numpy()\n",
    "\n",
    "words = [\"mother\", \"father\", \"wife\", \"husband\", \"sibling\", \"friend\", \"asshole\", \"selfish\", \"dishonest\", \"belittles\", \"dismissive\", \"inconsiderate\", \"overreacts\"]\n",
    "word_indices = [ft_tokenizer.encode(word)[0] for word in words]\n",
    "selected_embeddings = embeddings[word_indices]"
   ]
  },
  {
   "cell_type": "code",
   "execution_count": 25,
   "id": "db5e5119-6eb4-45b5-86de-9bb8a300239b",
   "metadata": {},
   "outputs": [],
   "source": [
    "from sklearn.decomposition import PCA\n",
    "from sklearn.manifold import TSNE\n",
    "\n",
    "# Using PCA\n",
    "pca = PCA(n_components=2)\n",
    "reduced_embeddings_pca = pca.fit_transform(selected_embeddings)"
   ]
  },
  {
   "cell_type": "code",
   "execution_count": 26,
   "id": "f832e237-cec0-44ee-bdb0-562430c5e313",
   "metadata": {},
   "outputs": [
    {
     "data": {
      "application/vnd.plotly.v1+json": {
       "config": {
        "plotlyServerURL": "https://plot.ly"
       },
       "data": [
        {
         "marker": {
          "opacity": 0.8,
          "size": 6
         },
         "mode": "markers+text",
         "showlegend": false,
         "text": [
          "mother",
          "father",
          "wife",
          "husband",
          "sibling",
          "friend",
          "asshole",
          "selfish",
          "dishonest",
          "belittles",
          "dismissive",
          "inconsiderate",
          "overreacts"
         ],
         "textposition": "top center",
         "type": "scatter",
         "x": {
          "_inputArray": {
           "0": -1.6300534009933472,
           "1": -1.4740015268325806,
           "10": 2.187507390975952,
           "11": 0.7701607346534729,
           "12": 0.5339668393135071,
           "2": -2.1533966064453125,
           "3": -1.9911760091781616,
           "4": 1.5149155855178833,
           "5": -1.1254637241363525,
           "6": 0.9190948009490967,
           "7": 0.12829165160655975,
           "8": 2.187507390975952,
           "9": 0.13264866173267365,
           "bdata": "l6XQvxWsvL9A0QnA297+v8HowT8yD5C/zElrP+NeAz4fAAxADdUHPh8ADEBBKUU/DbIIPw==",
           "dtype": "f4",
           "shape": "13"
          },
          "bdata": "l6XQvxWsvL9A0QnA297+v8HowT8yD5C/zElrP+NeAz4fAAxADdUHPh8ADEBBKUU/DbIIPw==",
          "dtype": "f4"
         },
         "xaxis": "x",
         "y": {
          "_inputArray": {
           "0": 0.8730594515800476,
           "1": 0.8356195688247681,
           "10": 1.657361626625061,
           "11": -1.451274037361145,
           "12": -1.728092074394226,
           "2": 0.6880537867546082,
           "3": 0.3118937015533447,
           "4": 0.5612220168113708,
           "5": -0.2272937297821045,
           "6": -1.4495530128479004,
           "7": -0.5799703001976013,
           "8": 1.657361626625061,
           "9": -1.1483889818191528,
           "bdata": "04BfPyrrVT9LJDA/iLCfPj+sDz+wv2i+9Iq5v+94FL9tJNQ/af6Sv20k1D9Zw7m/HzLdvw==",
           "dtype": "f4",
           "shape": "13"
          },
          "bdata": "04BfPyrrVT9LJDA/iLCfPj+sDz+wv2i+9Iq5v+94FL9tJNQ/af6Sv20k1D9Zw7m/HzLdvw==",
          "dtype": "f4"
         },
         "yaxis": "y"
        },
        {
         "marker": {
          "opacity": 0.8,
          "size": 6
         },
         "mode": "markers+text",
         "showlegend": false,
         "text": [
          "mother",
          "father",
          "wife",
          "husband",
          "sibling",
          "friend",
          "asshole",
          "selfish",
          "dishonest",
          "belittles",
          "dismissive",
          "inconsiderate",
          "overreacts"
         ],
         "textposition": "top center",
         "type": "scatter",
         "x": {
          "_inputArray": {
           "0": -1.598929524421692,
           "1": -1.4461371898651123,
           "10": 2.2208447456359863,
           "11": 0.7098703980445862,
           "12": 0.4821654260158539,
           "2": -2.117764949798584,
           "3": -1.962119698524475,
           "4": 1.5532885789871216,
           "5": -1.132002592086792,
           "6": 0.8664370775222778,
           "7": 0.09269372373819351,
           "8": 2.2208447456359863,
           "9": 0.11081069707870483,
           "bdata": "uanMvwYbub92iQfAvSb7vynSxj925ZC/0s5dPzXWvT1SIg5AuPDiPVIiDkARujU/Y972Pg==",
           "dtype": "f4",
           "shape": "13"
          },
          "bdata": "uanMvwYbub92iQfAvSb7vynSxj925ZC/0s5dPzXWvT1SIg5AuPDiPVIiDkARujU/Y972Pg==",
          "dtype": "f4"
         },
         "xaxis": "x2",
         "y": {
          "_inputArray": {
           "0": -0.8663516044616699,
           "1": -0.7989838719367981,
           "10": -1.6048791408538818,
           "11": 1.5104928016662598,
           "12": 1.736743688583374,
           "2": -0.728727400302887,
           "3": -0.368251234292984,
           "4": -0.574833333492279,
           "5": 0.1654224842786789,
           "6": 1.5273834466934204,
           "7": 0.5010718703269958,
           "8": -1.6048791408538818,
           "9": 1.1057902574539185,
           "bdata": "OMldvzWKTL/hjTq/bYu8vkcoE7+DZCk+TYHDPz9GAD+ubM2/iYqNP65szb/UV8E/nk3ePw==",
           "dtype": "f4",
           "shape": "13"
          },
          "bdata": "OMldvzWKTL/hjTq/bYu8vkcoE7+DZCk+TYHDPz9GAD+ubM2/iYqNP65szb/UV8E/nk3ePw==",
          "dtype": "f4"
         },
         "yaxis": "y2"
        }
       ],
       "layout": {
        "annotations": [
         {
          "font": {
           "size": 16
          },
          "showarrow": false,
          "text": "Original GPT-2",
          "x": 0.225,
          "xanchor": "center",
          "xref": "paper",
          "y": 1,
          "yanchor": "bottom",
          "yref": "paper"
         },
         {
          "font": {
           "size": 16
          },
          "showarrow": false,
          "text": "Finetuned GPT-2",
          "x": 0.775,
          "xanchor": "center",
          "xref": "paper",
          "y": 1,
          "yanchor": "bottom",
          "yref": "paper"
         }
        ],
        "height": 500,
        "template": {
         "data": {
          "bar": [
           {
            "error_x": {
             "color": "#2a3f5f"
            },
            "error_y": {
             "color": "#2a3f5f"
            },
            "marker": {
             "line": {
              "color": "#E5ECF6",
              "width": 0.5
             },
             "pattern": {
              "fillmode": "overlay",
              "size": 10,
              "solidity": 0.2
             }
            },
            "type": "bar"
           }
          ],
          "barpolar": [
           {
            "marker": {
             "line": {
              "color": "#E5ECF6",
              "width": 0.5
             },
             "pattern": {
              "fillmode": "overlay",
              "size": 10,
              "solidity": 0.2
             }
            },
            "type": "barpolar"
           }
          ],
          "carpet": [
           {
            "aaxis": {
             "endlinecolor": "#2a3f5f",
             "gridcolor": "white",
             "linecolor": "white",
             "minorgridcolor": "white",
             "startlinecolor": "#2a3f5f"
            },
            "baxis": {
             "endlinecolor": "#2a3f5f",
             "gridcolor": "white",
             "linecolor": "white",
             "minorgridcolor": "white",
             "startlinecolor": "#2a3f5f"
            },
            "type": "carpet"
           }
          ],
          "choropleth": [
           {
            "colorbar": {
             "outlinewidth": 0,
             "ticks": ""
            },
            "type": "choropleth"
           }
          ],
          "contour": [
           {
            "colorbar": {
             "outlinewidth": 0,
             "ticks": ""
            },
            "colorscale": [
             [
              0,
              "#0d0887"
             ],
             [
              0.1111111111111111,
              "#46039f"
             ],
             [
              0.2222222222222222,
              "#7201a8"
             ],
             [
              0.3333333333333333,
              "#9c179e"
             ],
             [
              0.4444444444444444,
              "#bd3786"
             ],
             [
              0.5555555555555556,
              "#d8576b"
             ],
             [
              0.6666666666666666,
              "#ed7953"
             ],
             [
              0.7777777777777778,
              "#fb9f3a"
             ],
             [
              0.8888888888888888,
              "#fdca26"
             ],
             [
              1,
              "#f0f921"
             ]
            ],
            "type": "contour"
           }
          ],
          "contourcarpet": [
           {
            "colorbar": {
             "outlinewidth": 0,
             "ticks": ""
            },
            "type": "contourcarpet"
           }
          ],
          "heatmap": [
           {
            "colorbar": {
             "outlinewidth": 0,
             "ticks": ""
            },
            "colorscale": [
             [
              0,
              "#0d0887"
             ],
             [
              0.1111111111111111,
              "#46039f"
             ],
             [
              0.2222222222222222,
              "#7201a8"
             ],
             [
              0.3333333333333333,
              "#9c179e"
             ],
             [
              0.4444444444444444,
              "#bd3786"
             ],
             [
              0.5555555555555556,
              "#d8576b"
             ],
             [
              0.6666666666666666,
              "#ed7953"
             ],
             [
              0.7777777777777778,
              "#fb9f3a"
             ],
             [
              0.8888888888888888,
              "#fdca26"
             ],
             [
              1,
              "#f0f921"
             ]
            ],
            "type": "heatmap"
           }
          ],
          "histogram": [
           {
            "marker": {
             "pattern": {
              "fillmode": "overlay",
              "size": 10,
              "solidity": 0.2
             }
            },
            "type": "histogram"
           }
          ],
          "histogram2d": [
           {
            "colorbar": {
             "outlinewidth": 0,
             "ticks": ""
            },
            "colorscale": [
             [
              0,
              "#0d0887"
             ],
             [
              0.1111111111111111,
              "#46039f"
             ],
             [
              0.2222222222222222,
              "#7201a8"
             ],
             [
              0.3333333333333333,
              "#9c179e"
             ],
             [
              0.4444444444444444,
              "#bd3786"
             ],
             [
              0.5555555555555556,
              "#d8576b"
             ],
             [
              0.6666666666666666,
              "#ed7953"
             ],
             [
              0.7777777777777778,
              "#fb9f3a"
             ],
             [
              0.8888888888888888,
              "#fdca26"
             ],
             [
              1,
              "#f0f921"
             ]
            ],
            "type": "histogram2d"
           }
          ],
          "histogram2dcontour": [
           {
            "colorbar": {
             "outlinewidth": 0,
             "ticks": ""
            },
            "colorscale": [
             [
              0,
              "#0d0887"
             ],
             [
              0.1111111111111111,
              "#46039f"
             ],
             [
              0.2222222222222222,
              "#7201a8"
             ],
             [
              0.3333333333333333,
              "#9c179e"
             ],
             [
              0.4444444444444444,
              "#bd3786"
             ],
             [
              0.5555555555555556,
              "#d8576b"
             ],
             [
              0.6666666666666666,
              "#ed7953"
             ],
             [
              0.7777777777777778,
              "#fb9f3a"
             ],
             [
              0.8888888888888888,
              "#fdca26"
             ],
             [
              1,
              "#f0f921"
             ]
            ],
            "type": "histogram2dcontour"
           }
          ],
          "mesh3d": [
           {
            "colorbar": {
             "outlinewidth": 0,
             "ticks": ""
            },
            "type": "mesh3d"
           }
          ],
          "parcoords": [
           {
            "line": {
             "colorbar": {
              "outlinewidth": 0,
              "ticks": ""
             }
            },
            "type": "parcoords"
           }
          ],
          "pie": [
           {
            "automargin": true,
            "type": "pie"
           }
          ],
          "scatter": [
           {
            "fillpattern": {
             "fillmode": "overlay",
             "size": 10,
             "solidity": 0.2
            },
            "type": "scatter"
           }
          ],
          "scatter3d": [
           {
            "line": {
             "colorbar": {
              "outlinewidth": 0,
              "ticks": ""
             }
            },
            "marker": {
             "colorbar": {
              "outlinewidth": 0,
              "ticks": ""
             }
            },
            "type": "scatter3d"
           }
          ],
          "scattercarpet": [
           {
            "marker": {
             "colorbar": {
              "outlinewidth": 0,
              "ticks": ""
             }
            },
            "type": "scattercarpet"
           }
          ],
          "scattergeo": [
           {
            "marker": {
             "colorbar": {
              "outlinewidth": 0,
              "ticks": ""
             }
            },
            "type": "scattergeo"
           }
          ],
          "scattergl": [
           {
            "marker": {
             "colorbar": {
              "outlinewidth": 0,
              "ticks": ""
             }
            },
            "type": "scattergl"
           }
          ],
          "scattermap": [
           {
            "marker": {
             "colorbar": {
              "outlinewidth": 0,
              "ticks": ""
             }
            },
            "type": "scattermap"
           }
          ],
          "scattermapbox": [
           {
            "marker": {
             "colorbar": {
              "outlinewidth": 0,
              "ticks": ""
             }
            },
            "type": "scattermapbox"
           }
          ],
          "scatterpolar": [
           {
            "marker": {
             "colorbar": {
              "outlinewidth": 0,
              "ticks": ""
             }
            },
            "type": "scatterpolar"
           }
          ],
          "scatterpolargl": [
           {
            "marker": {
             "colorbar": {
              "outlinewidth": 0,
              "ticks": ""
             }
            },
            "type": "scatterpolargl"
           }
          ],
          "scatterternary": [
           {
            "marker": {
             "colorbar": {
              "outlinewidth": 0,
              "ticks": ""
             }
            },
            "type": "scatterternary"
           }
          ],
          "surface": [
           {
            "colorbar": {
             "outlinewidth": 0,
             "ticks": ""
            },
            "colorscale": [
             [
              0,
              "#0d0887"
             ],
             [
              0.1111111111111111,
              "#46039f"
             ],
             [
              0.2222222222222222,
              "#7201a8"
             ],
             [
              0.3333333333333333,
              "#9c179e"
             ],
             [
              0.4444444444444444,
              "#bd3786"
             ],
             [
              0.5555555555555556,
              "#d8576b"
             ],
             [
              0.6666666666666666,
              "#ed7953"
             ],
             [
              0.7777777777777778,
              "#fb9f3a"
             ],
             [
              0.8888888888888888,
              "#fdca26"
             ],
             [
              1,
              "#f0f921"
             ]
            ],
            "type": "surface"
           }
          ],
          "table": [
           {
            "cells": {
             "fill": {
              "color": "#EBF0F8"
             },
             "line": {
              "color": "white"
             }
            },
            "header": {
             "fill": {
              "color": "#C8D4E3"
             },
             "line": {
              "color": "white"
             }
            },
            "type": "table"
           }
          ]
         },
         "layout": {
          "annotationdefaults": {
           "arrowcolor": "#2a3f5f",
           "arrowhead": 0,
           "arrowwidth": 1
          },
          "autotypenumbers": "strict",
          "coloraxis": {
           "colorbar": {
            "outlinewidth": 0,
            "ticks": ""
           }
          },
          "colorscale": {
           "diverging": [
            [
             0,
             "#8e0152"
            ],
            [
             0.1,
             "#c51b7d"
            ],
            [
             0.2,
             "#de77ae"
            ],
            [
             0.3,
             "#f1b6da"
            ],
            [
             0.4,
             "#fde0ef"
            ],
            [
             0.5,
             "#f7f7f7"
            ],
            [
             0.6,
             "#e6f5d0"
            ],
            [
             0.7,
             "#b8e186"
            ],
            [
             0.8,
             "#7fbc41"
            ],
            [
             0.9,
             "#4d9221"
            ],
            [
             1,
             "#276419"
            ]
           ],
           "sequential": [
            [
             0,
             "#0d0887"
            ],
            [
             0.1111111111111111,
             "#46039f"
            ],
            [
             0.2222222222222222,
             "#7201a8"
            ],
            [
             0.3333333333333333,
             "#9c179e"
            ],
            [
             0.4444444444444444,
             "#bd3786"
            ],
            [
             0.5555555555555556,
             "#d8576b"
            ],
            [
             0.6666666666666666,
             "#ed7953"
            ],
            [
             0.7777777777777778,
             "#fb9f3a"
            ],
            [
             0.8888888888888888,
             "#fdca26"
            ],
            [
             1,
             "#f0f921"
            ]
           ],
           "sequentialminus": [
            [
             0,
             "#0d0887"
            ],
            [
             0.1111111111111111,
             "#46039f"
            ],
            [
             0.2222222222222222,
             "#7201a8"
            ],
            [
             0.3333333333333333,
             "#9c179e"
            ],
            [
             0.4444444444444444,
             "#bd3786"
            ],
            [
             0.5555555555555556,
             "#d8576b"
            ],
            [
             0.6666666666666666,
             "#ed7953"
            ],
            [
             0.7777777777777778,
             "#fb9f3a"
            ],
            [
             0.8888888888888888,
             "#fdca26"
            ],
            [
             1,
             "#f0f921"
            ]
           ]
          },
          "colorway": [
           "#636efa",
           "#EF553B",
           "#00cc96",
           "#ab63fa",
           "#FFA15A",
           "#19d3f3",
           "#FF6692",
           "#B6E880",
           "#FF97FF",
           "#FECB52"
          ],
          "font": {
           "color": "#2a3f5f"
          },
          "geo": {
           "bgcolor": "white",
           "lakecolor": "white",
           "landcolor": "#E5ECF6",
           "showlakes": true,
           "showland": true,
           "subunitcolor": "white"
          },
          "hoverlabel": {
           "align": "left"
          },
          "hovermode": "closest",
          "mapbox": {
           "style": "light"
          },
          "paper_bgcolor": "white",
          "plot_bgcolor": "#E5ECF6",
          "polar": {
           "angularaxis": {
            "gridcolor": "white",
            "linecolor": "white",
            "ticks": ""
           },
           "bgcolor": "#E5ECF6",
           "radialaxis": {
            "gridcolor": "white",
            "linecolor": "white",
            "ticks": ""
           }
          },
          "scene": {
           "xaxis": {
            "backgroundcolor": "#E5ECF6",
            "gridcolor": "white",
            "gridwidth": 2,
            "linecolor": "white",
            "showbackground": true,
            "ticks": "",
            "zerolinecolor": "white"
           },
           "yaxis": {
            "backgroundcolor": "#E5ECF6",
            "gridcolor": "white",
            "gridwidth": 2,
            "linecolor": "white",
            "showbackground": true,
            "ticks": "",
            "zerolinecolor": "white"
           },
           "zaxis": {
            "backgroundcolor": "#E5ECF6",
            "gridcolor": "white",
            "gridwidth": 2,
            "linecolor": "white",
            "showbackground": true,
            "ticks": "",
            "zerolinecolor": "white"
           }
          },
          "shapedefaults": {
           "line": {
            "color": "#2a3f5f"
           }
          },
          "ternary": {
           "aaxis": {
            "gridcolor": "white",
            "linecolor": "white",
            "ticks": ""
           },
           "baxis": {
            "gridcolor": "white",
            "linecolor": "white",
            "ticks": ""
           },
           "bgcolor": "#E5ECF6",
           "caxis": {
            "gridcolor": "white",
            "linecolor": "white",
            "ticks": ""
           }
          },
          "title": {
           "x": 0.05
          },
          "xaxis": {
           "automargin": true,
           "gridcolor": "white",
           "linecolor": "white",
           "ticks": "",
           "title": {
            "standoff": 15
           },
           "zerolinecolor": "white",
           "zerolinewidth": 2
          },
          "yaxis": {
           "automargin": true,
           "gridcolor": "white",
           "linecolor": "white",
           "ticks": "",
           "title": {
            "standoff": 15
           },
           "zerolinecolor": "white",
           "zerolinewidth": 2
          }
         }
        },
        "title": {
         "text": "PCA of Token Embeddings: Original vs Finetuned GPT-2"
        },
        "width": 1000,
        "xaxis": {
         "anchor": "y",
         "autorange": true,
         "domain": [
          0,
          0.45
         ],
         "range": [
          -2.448922532329267,
          2.4830333168599066
         ],
         "type": "linear"
        },
        "xaxis2": {
         "anchor": "y2",
         "autorange": true,
         "domain": [
          0.55,
          1
         ],
         "range": [
          -2.413134681092822,
          2.5162144769302244
         ],
         "type": "linear"
        },
        "yaxis": {
         "anchor": "x",
         "autorange": true,
         "domain": [
          0,
          1
         ],
         "range": [
          -1.9664618091362258,
          1.8957313613670608
         ],
         "type": "linear"
        },
        "yaxis2": {
         "anchor": "x2",
         "autorange": true,
         "domain": [
          0,
          1
         ],
         "range": [
          -1.8401627447090896,
          1.9720272924385818
         ],
         "type": "linear"
        }
       }
      },
      "image/png": "[encoded data removed]"
     },
     "metadata": {},
     "output_type": "display_data"
    }
   ],
   "source": [
    "import pandas as pd\n",
    "from plotly.subplots import make_subplots\n",
    "import plotly.graph_objects as go\n",
    "\n",
    "# Create DataFrames for both\n",
    "df_original = pd.DataFrame({\n",
    "    'x': reduced_embeddings_pca_original[:, 0],\n",
    "    'y': reduced_embeddings_pca_original[:, 1],\n",
    "    'label': words_original\n",
    "})\n",
    "\n",
    "df_finetuned = pd.DataFrame({\n",
    "    'x': reduced_embeddings_pca[:, 0],\n",
    "    'y': reduced_embeddings_pca[:, 1],\n",
    "    'label': words\n",
    "})\n",
    "\n",
    "# Create subplots\n",
    "fig = make_subplots(rows=1, cols=2, subplot_titles=(\"Original GPT-2\", \"Finetuned GPT-2\"))\n",
    "\n",
    "fig.add_trace(\n",
    "    go.Scatter(\n",
    "        x=df_original['x'], y=df_original['y'],\n",
    "        mode='markers+text',\n",
    "        text=df_original['label'],\n",
    "        textposition='top center',\n",
    "        marker=dict(size=6, opacity=0.8),\n",
    "        showlegend=False\n",
    "    ),\n",
    "    row=1, col=1\n",
    ")\n",
    "\n",
    "fig.add_trace(\n",
    "    go.Scatter(\n",
    "        x=df_finetuned['x'], y=df_finetuned['y'],\n",
    "        mode='markers+text',\n",
    "        text=df_finetuned['label'],\n",
    "        textposition='top center',\n",
    "        marker=dict(size=6, opacity=0.8),\n",
    "        showlegend=False\n",
    "    ),\n",
    "    row=1, col=2\n",
    ")\n",
    "\n",
    "fig.update_layout(\n",
    "    title_text='PCA of Token Embeddings: Original vs Finetuned GPT-2',\n",
    "    height=500, width=1000\n",
    ")\n",
    "\n",
    "fig.show()"
   ]
  },
  {
   "cell_type": "markdown",
   "id": "39f1c986-fcc6-4a22-8f76-08a493798629",
   "metadata": {},
   "source": [
    "### Comparing Plots\n",
    "Note that in the left plot (Original GPT-2), words are distributed according to general pretraining on web data. You see loose clustering but no obvious ideological coherence.\n",
    "\n",
    "In the right plot (Finetuned GPT-2) the positions have shifted. For example, negatively valenced words like asshole, dismissive, inconsiderate, and belittles now form a clearer cluster."
   ]
  },
  {
   "cell_type": "markdown",
   "id": "7c2dfad6-93a0-452c-ab00-46681e5cb0e5",
   "metadata": {},
   "source": [
    "# Create Posts Using Finetuned Model\n",
    "\n",
    "What can we do with this finetuned model? Well, for one, we could generate Am I The Asshole posts!\n",
    "\n",
    "We will ask the model to generate text based on the title of the original post. We will also ask it to create a post that is the same length as the original post."
   ]
  },
  {
   "cell_type": "code",
   "execution_count": 28,
   "id": "53cd8270-dc75-4105-8580-ac3f1fab6ae8",
   "metadata": {},
   "outputs": [
    {
     "name": "stderr",
     "output_type": "stream",
     "text": [
      "Downloading...\n",
      "From: https://drive.google.com/uc?id=1Glac4spXraWRcC_loxu1Cu4Bw-szS2ou\n",
      "To: /Users/tomvannuenen/Library/CloudStorage/Dropbox/GitHub/DEV/DIGHUM160/data/aita_pp.csv\n",
      "100%|██████████████████████████████████████| 56.6M/56.6M [00:00<00:00, 68.5MB/s]\n"
     ]
    },
    {
     "data": {
      "text/plain": [
       "'../../data/aita_pp.csv'"
      ]
     },
     "execution_count": 28,
     "metadata": {},
     "output_type": "execute_result"
    }
   ],
   "source": [
    "import gdown\n",
    "\n",
    "gdown.download(\"https://drive.google.com/uc?id=1Glac4spXraWRcC_loxu1Cu4Bw-szS2ou\", \"../../data/aita_pp.csv\", quiet=False)"
   ]
  },
  {
   "cell_type": "code",
   "execution_count": 30,
   "id": "233fcbf4-8845-4327-9ddf-5280d862ca3f",
   "metadata": {
    "scrolled": true
   },
   "outputs": [
    {
     "name": "stderr",
     "output_type": "stream",
     "text": [
      "Device set to use cpu\n",
      "Truncation was not explicitly activated but `max_length` is provided a specific value, please use `truncation=True` to explicitly truncate examples to max length. Defaulting to 'longest_first' truncation strategy. If you encode pairs of sequences (GLUE-style) with the tokenizer you can select this strategy more precisely by providing a specific strategy to `truncation`.\n"
     ]
    }
   ],
   "source": [
    "import pandas as pd\n",
    "import random\n",
    "from transformers import GPT2Tokenizer, GPT2LMHeadModel, pipeline\n",
    "\n",
    "# Load your data\n",
    "df = pd.read_csv('../../data/aita_pp.csv')\n",
    "\n",
    "# Randomly select 10 entries\n",
    "sample_df = df.sample(n=10, random_state=1).reset_index()  # Keep original index as a column\n",
    "\n",
    "original_texts = [f\"{t}\\n\\n{s}\" for t, s in zip(sample_df['title'], sample_df['selftext'])]\n",
    "titles = sample_df['title'].tolist()\n",
    "\n",
    "# Initialize the generation pipeline\n",
    "generator = pipeline('text-generation', model=ft_model, tokenizer=ft_tokenizer, device=-1)  # CPU usage\n",
    "\n",
    "# Prepare to generate texts\n",
    "generated_texts = []\n",
    "for title, original_text in zip(titles, original_texts):\n",
    "    # Calculate the length of the original post in tokens\n",
    "    target_length = len(ft_tokenizer.encode(original_text))\n",
    "\n",
    "    # Generate a new post of the same length starting from the title\n",
    "    # Ensure to set max_length to the length of the original post\n",
    "    prompt = title\n",
    "    generated = generator(prompt, max_length=target_length, num_return_sequences=1)[0]['generated_text']\n",
    "    generated_texts.append(generated)"
   ]
  },
  {
   "cell_type": "markdown",
   "id": "b9418715-da75-4cb7-9fe3-eb5e124c4637",
   "metadata": {},
   "source": [
    "Let's save the original and generated posts in a new DataFrame so we can easily compare them."
   ]
  },
  {
   "cell_type": "code",
   "execution_count": 31,
   "id": "515b75c2-4026-4d19-afeb-c0530bd63fe3",
   "metadata": {
    "scrolled": true
   },
   "outputs": [],
   "source": [
    "df = pd.DataFrame({\n",
    "    'original_text': original_texts,\n",
    "    'generated_text': generated_texts,\n",
    "    'title': titles  # Assuming you have a list of titles\n",
    "})"
   ]
  },
  {
   "cell_type": "code",
   "execution_count": 32,
   "id": "d4ba762c-ec76-46ea-beca-39bb4b4b85a1",
   "metadata": {},
   "outputs": [
    {
     "data": {
      "text/html": [
       "<div>\n",
       "<style scoped>\n",
       "    .dataframe tbody tr th:only-of-type {\n",
       "        vertical-align: middle;\n",
       "    }\n",
       "\n",
       "    .dataframe tbody tr th {\n",
       "        vertical-align: top;\n",
       "    }\n",
       "\n",
       "    .dataframe thead th {\n",
       "        text-align: right;\n",
       "    }\n",
       "</style>\n",
       "<table border=\"1\" class=\"dataframe\">\n",
       "  <thead>\n",
       "    <tr style=\"text-align: right;\">\n",
       "      <th></th>\n",
       "      <th>original_text</th>\n",
       "      <th>generated_text</th>\n",
       "      <th>title</th>\n",
       "    </tr>\n",
       "  </thead>\n",
       "  <tbody>\n",
       "    <tr>\n",
       "      <th>0</th>\n",
       "      <td>AITA for refusing to show my receipt when leav...</td>\n",
       "      <td>AITA for refusing to show my receipt when leav...</td>\n",
       "      <td>AITA for refusing to show my receipt when leav...</td>\n",
       "    </tr>\n",
       "    <tr>\n",
       "      <th>1</th>\n",
       "      <td>AITA for not wanting my fiancé’s parents to mo...</td>\n",
       "      <td>AITA for not wanting my fiancé’s parents to mo...</td>\n",
       "      <td>AITA for not wanting my fiancé’s parents to mo...</td>\n",
       "    </tr>\n",
       "    <tr>\n",
       "      <th>2</th>\n",
       "      <td>AITA for not wanting to pay for brother's life...</td>\n",
       "      <td>AITA for not wanting to pay for brother's life...</td>\n",
       "      <td>AITA for not wanting to pay for brother's life...</td>\n",
       "    </tr>\n",
       "    <tr>\n",
       "      <th>3</th>\n",
       "      <td>AITA for shaming a barber online that refused ...</td>\n",
       "      <td>AITA for shaming a barber online that refused ...</td>\n",
       "      <td>AITA for shaming a barber online that refused ...</td>\n",
       "    </tr>\n",
       "    <tr>\n",
       "      <th>4</th>\n",
       "      <td>AITA for not defending my wife at the dinner t...</td>\n",
       "      <td>AITA for not defending my wife at the dinner t...</td>\n",
       "      <td>AITA for not defending my wife at the dinner t...</td>\n",
       "    </tr>\n",
       "    <tr>\n",
       "      <th>5</th>\n",
       "      <td>AITA for telling my BF that if he doesnt go to...</td>\n",
       "      <td>AITA for telling my BF that if he doesnt go to...</td>\n",
       "      <td>AITA for telling my BF that if he doesnt go to...</td>\n",
       "    </tr>\n",
       "    <tr>\n",
       "      <th>6</th>\n",
       "      <td>AITA for refusing to cook dinner if my roommat...</td>\n",
       "      <td>AITA for refusing to cook dinner if my roommat...</td>\n",
       "      <td>AITA for refusing to cook dinner if my roommat...</td>\n",
       "    </tr>\n",
       "    <tr>\n",
       "      <th>7</th>\n",
       "      <td>AITA for walking out on my own birthday party ...</td>\n",
       "      <td>AITA for walking out on my own birthday party ...</td>\n",
       "      <td>AITA for walking out on my own birthday party ...</td>\n",
       "    </tr>\n",
       "    <tr>\n",
       "      <th>8</th>\n",
       "      <td>AITA for bringing home a basic burrito for my ...</td>\n",
       "      <td>AITA for bringing home a basic burrito for my ...</td>\n",
       "      <td>AITA for bringing home a basic burrito for my ...</td>\n",
       "    </tr>\n",
       "    <tr>\n",
       "      <th>9</th>\n",
       "      <td>AITA for screaming really loud when drivers co...</td>\n",
       "      <td>AITA for screaming really loud when drivers co...</td>\n",
       "      <td>AITA for screaming really loud when drivers co...</td>\n",
       "    </tr>\n",
       "  </tbody>\n",
       "</table>\n",
       "</div>"
      ],
      "text/plain": [
       "                                       original_text  \\\n",
       "0  AITA for refusing to show my receipt when leav...   \n",
       "1  AITA for not wanting my fiancé’s parents to mo...   \n",
       "2  AITA for not wanting to pay for brother's life...   \n",
       "3  AITA for shaming a barber online that refused ...   \n",
       "4  AITA for not defending my wife at the dinner t...   \n",
       "5  AITA for telling my BF that if he doesnt go to...   \n",
       "6  AITA for refusing to cook dinner if my roommat...   \n",
       "7  AITA for walking out on my own birthday party ...   \n",
       "8  AITA for bringing home a basic burrito for my ...   \n",
       "9  AITA for screaming really loud when drivers co...   \n",
       "\n",
       "                                      generated_text  \\\n",
       "0  AITA for refusing to show my receipt when leav...   \n",
       "1  AITA for not wanting my fiancé’s parents to mo...   \n",
       "2  AITA for not wanting to pay for brother's life...   \n",
       "3  AITA for shaming a barber online that refused ...   \n",
       "4  AITA for not defending my wife at the dinner t...   \n",
       "5  AITA for telling my BF that if he doesnt go to...   \n",
       "6  AITA for refusing to cook dinner if my roommat...   \n",
       "7  AITA for walking out on my own birthday party ...   \n",
       "8  AITA for bringing home a basic burrito for my ...   \n",
       "9  AITA for screaming really loud when drivers co...   \n",
       "\n",
       "                                               title  \n",
       "0  AITA for refusing to show my receipt when leav...  \n",
       "1  AITA for not wanting my fiancé’s parents to mo...  \n",
       "2  AITA for not wanting to pay for brother's life...  \n",
       "3  AITA for shaming a barber online that refused ...  \n",
       "4  AITA for not defending my wife at the dinner t...  \n",
       "5  AITA for telling my BF that if he doesnt go to...  \n",
       "6  AITA for refusing to cook dinner if my roommat...  \n",
       "7  AITA for walking out on my own birthday party ...  \n",
       "8  AITA for bringing home a basic burrito for my ...  \n",
       "9  AITA for screaming really loud when drivers co...  "
      ]
     },
     "execution_count": 32,
     "metadata": {},
     "output_type": "execute_result"
    }
   ],
   "source": [
    "df"
   ]
  },
  {
   "cell_type": "markdown",
   "id": "eee8e0a7-3ce1-4dae-a26a-f3aa8c4c2ce5",
   "metadata": {},
   "source": [
    "## Back to TF-IDF\n",
    "\n",
    "We can use the TF-IDF algorithm to check the similarity between original texts and the ones we generated!"
   ]
  },
  {
   "cell_type": "code",
   "execution_count": 33,
   "id": "d9533349-ed85-4f5c-a275-6601895f78b3",
   "metadata": {},
   "outputs": [
    {
     "name": "stdout",
     "output_type": "stream",
     "text": [
      "Text 1 Similarity between original and generated: 0.3640\n",
      "Text 2 Similarity between original and generated: 0.3478\n",
      "Text 3 Similarity between original and generated: 0.2970\n",
      "Text 4 Similarity between original and generated: 0.3702\n",
      "Text 5 Similarity between original and generated: 0.4821\n",
      "Text 6 Similarity between original and generated: 0.4953\n",
      "Text 7 Similarity between original and generated: 0.3019\n",
      "Text 8 Similarity between original and generated: 0.4168\n",
      "Text 9 Similarity between original and generated: 0.3615\n",
      "Text 10 Similarity between original and generated: 0.4199\n"
     ]
    }
   ],
   "source": [
    "import pandas as pd\n",
    "from sklearn.feature_extraction.text import TfidfVectorizer\n",
    "from sklearn.metrics.pairwise import cosine_similarity\n",
    "\n",
    "# Combine original and generated texts into one list for TF-IDF analysis\n",
    "texts = df['original_text'].tolist() + df['generated_text'].tolist()\n",
    "\n",
    "# Initialize a TF-IDF Vectorizer\n",
    "vectorizer = TfidfVectorizer()\n",
    "\n",
    "# Fit and transform the data\n",
    "tfidf_matrix = vectorizer.fit_transform(texts)\n",
    "\n",
    "# Calculate cosine similarity between original and generated texts\n",
    "# Assuming the first half are originals and the second half are generated\n",
    "similarity_matrix = cosine_similarity(tfidf_matrix[:len(df)], tfidf_matrix[len(df):])\n",
    "\n",
    "# Display similarity results\n",
    "for i, similarity in enumerate(similarity_matrix.diagonal()):\n",
    "    print(f\"Text {i+1} Similarity between original and generated: {similarity:.4f}\")\n"
   ]
  },
  {
   "cell_type": "markdown",
   "id": "a6f28b23-097b-425e-ab99-aacc09ab02ba",
   "metadata": {},
   "source": [
    "These results, with values primarily between 0.3 and 0.5, suggest that the generated texts share some vocabulary and thematic elements with the original texts but also diverge in significant ways."
   ]
  },
  {
   "cell_type": "markdown",
   "id": "58567cd8-0240-4281-bafa-0c7559d7bae7",
   "metadata": {},
   "source": [
    "## Back to Word Embeddings\n",
    "\n",
    "Finally, let's project the reduced embeddings for both the original and our generated posts in 2D space."
   ]
  },
  {
   "cell_type": "code",
   "execution_count": 34,
   "id": "85f7ee4b-e655-41a7-b1e3-5d3cab839f76",
   "metadata": {},
   "outputs": [],
   "source": [
    "import spacy\n",
    "import numpy as np\n",
    "import matplotlib.pyplot as plt\n",
    "from sklearn.decomposition import PCA\n",
    "\n",
    "# Load the medium model with word vectors\n",
    "nlp = spacy.load(\"en_core_web_sm\")\n",
    "\n",
    "# Sample data\n",
    "original_texts = [f\"[Post {i}] {title}\\n\\n{body}\" \n",
    "                  for i, title, body in zip(sample_df['index'], sample_df['title'], sample_df['selftext'])]\n",
    "generated_texts = [f\"[Post {i}] {gen}\" \n",
    "                   for i, gen in zip(sample_df['index'], generated_texts)]\n",
    "\n",
    "# Function to compute average embeddings for a text\n",
    "def get_average_embedding(text, nlp_model):\n",
    "    doc = nlp_model(text)\n",
    "    vectors = [word.vector for word in doc if not word.is_stop and word.has_vector]\n",
    "    if vectors:\n",
    "        return np.mean(vectors, axis=0)\n",
    "    else:\n",
    "        return np.zeros((nlp_model.vocab.vectors_length,))\n",
    "\n",
    "# Compute average embeddings for each set of texts\n",
    "original_embeddings = np.array([get_average_embedding(text, nlp) for text in original_texts])\n",
    "generated_embeddings = np.array([get_average_embedding(text, nlp) for text in generated_texts])\n",
    "\n",
    "# Perform PCA to reduce dimensionality for visualization\n",
    "pca = PCA(n_components=2)\n",
    "original_pca = pca.fit_transform(original_embeddings)\n",
    "generated_pca = pca.transform(generated_embeddings)"
   ]
  },
  {
   "cell_type": "markdown",
   "id": "e9cff9eb-0096-4c8d-aa3a-d5568697c126",
   "metadata": {},
   "source": [
    "Plot it with `bokeh`:"
   ]
  },
  {
   "cell_type": "code",
   "execution_count": 35,
   "id": "629d6027-3d65-4aa7-b17d-67fe1ae6bb6c",
   "metadata": {},
   "outputs": [
    {
     "data": {
      "text/html": [
       "<style>\n",
       "        .bk-notebook-logo {\n",
       "            display: block;\n",
       "            width: 20px;\n",
       "            height: 20px;\n",
       "            background-image: url(data:image/png;base64,iVBORw0KGgoAAAANSUhEUgAAABQAAAAUCAYAAACNiR0NAAAABHNCSVQICAgIfAhkiAAAAAlwSFlzAAALEgAACxIB0t1+/AAAABx0RVh0U29mdHdhcmUAQWRvYmUgRmlyZXdvcmtzIENTNui8sowAAAOkSURBVDiNjZRtaJVlGMd/1/08zzln5zjP1LWcU9N0NkN8m2CYjpgQYQXqSs0I84OLIC0hkEKoPtiH3gmKoiJDU7QpLgoLjLIQCpEsNJ1vqUOdO7ppbuec5+V+rj4ctwzd8IIbbi6u+8f1539dt3A78eXC7QizUF7gyV1fD1Yqg4JWz84yffhm0qkFqBogB9rM8tZdtwVsPUhWhGcFJngGeWrPzHm5oaMmkfEg1usvLFyc8jLRqDOMru7AyC8saQr7GG7f5fvDeH7Ej8CM66nIF+8yngt6HWaKh7k49Soy9nXurCi1o3qUbS3zWfrYeQDTB/Qj6kX6Ybhw4B+bOYoLKCC9H3Nu/leUTZ1JdRWkkn2ldcCamzrcf47KKXdAJllSlxAOkRgyHsGC/zRday5Qld9DyoM4/q/rUoy/CXh3jzOu3bHUVZeU+DEn8FInkPBFlu3+nW3Nw0mk6vCDiWg8CeJaxEwuHS3+z5RgY+YBR6V1Z1nxSOfoaPa4LASWxxdNp+VWTk7+4vzaou8v8PN+xo+KY2xsw6une2frhw05CTYOmQvsEhjhWjn0bmXPjpE1+kplmmkP3suftwTubK9Vq22qKmrBhpY4jvd5afdRA3wGjFAgcnTK2s4hY0/GPNIb0nErGMCRxWOOX64Z8RAC4oCXdklmEvcL8o0BfkNK4lUg9HTl+oPlQxdNo3Mg4Nv175e/1LDGzZen30MEjRUtmXSfiTVu1kK8W4txyV6BMKlbgk3lMwYCiusNy9fVfvvwMxv8Ynl6vxoByANLTWplvuj/nF9m2+PDtt1eiHPBr1oIfhCChQMBw6Aw0UulqTKZdfVvfG7VcfIqLG9bcldL/+pdWTLxLUy8Qq38heUIjh4XlzZxzQm19lLFlr8vdQ97rjZVOLf8nclzckbcD4wxXMidpX30sFd37Fv/GtwwhzhxGVAprjbg0gCAEeIgwCZyTV2Z1REEW8O4py0wsjeloKoMr6iCY6dP92H6Vw/oTyICIthibxjm/DfN9lVz8IqtqKYLUXfoKVMVQVVJOElGjrnnUt9T9wbgp8AyYKaGlqingHZU/uG2NTZSVqwHQTWkx9hxjkpWDaCg6Ckj5qebgBVbT3V3NNXMSiWSDdGV3hrtzla7J+duwPOToIg42ChPQOQjspnSlp1V+Gjdged7+8UN5CRAV7a5EdFNwCjEaBR27b3W890TE7g24NAP/mMDXRWrGoFPQI9ls/MWO2dWFAar/xcOIImbbpA3zgAAAABJRU5ErkJggg==);\n",
       "        }\n",
       "    </style>\n",
       "    <div>\n",
       "        <a href=\"https://bokeh.org\" target=\"_blank\" class=\"bk-notebook-logo\"></a>\n",
       "        <span id=\"b34eee61-f23a-4bf4-8c8d-a998a41b1d45\">Loading BokehJS ...</span>\n",
       "    </div>\n"
      ]
     },
     "metadata": {},
     "output_type": "display_data"
    },
    {
     "data": {
      "application/javascript": [
       "(function(root) {\n",
       "  function now() {\n",
       "    return new Date();\n",
       "  }\n",
       "\n",
       "  const force = true;\n",
       "\n",
       "  if (typeof root._bokeh_onload_callbacks === \"undefined\" || force === true) {\n",
       "    root._bokeh_onload_callbacks = [];\n",
       "    root._bokeh_is_loading = undefined;\n",
       "  }\n",
       "\n",
       "const JS_MIME_TYPE = 'application/javascript';\n",
       "  const HTML_MIME_TYPE = 'text/html';\n",
       "  const EXEC_MIME_TYPE = 'application/vnd.bokehjs_exec.v0+json';\n",
       "  const CLASS_NAME = 'output_bokeh rendered_html';\n",
       "\n",
       "  /**\n",
       "   * Render data to the DOM node\n",
       "   */\n",
       "  function render(props, node) {\n",
       "    const script = document.createElement(\"script\");\n",
       "    node.appendChild(script);\n",
       "  }\n",
       "\n",
       "  /**\n",
       "   * Handle when an output is cleared or removed\n",
       "   */\n",
       "  function handleClearOutput(event, handle) {\n",
       "    const cell = handle.cell;\n",
       "\n",
       "    const id = cell.output_area._bokeh_element_id;\n",
       "    const server_id = cell.output_area._bokeh_server_id;\n",
       "    // Clean up Bokeh references\n",
       "    if (id != null && id in Bokeh.index) {\n",
       "      Bokeh.index[id].model.document.clear();\n",
       "      delete Bokeh.index[id];\n",
       "    }\n",
       "\n",
       "    if (server_id !== undefined) {\n",
       "      // Clean up Bokeh references\n",
       "      const cmd_clean = \"from bokeh.io.state import curstate; print(curstate().uuid_to_server['\" + server_id + \"'].get_sessions()[0].document.roots[0]._id)\";\n",
       "      cell.notebook.kernel.execute(cmd_clean, {\n",
       "        iopub: {\n",
       "          output: function(msg) {\n",
       "            const id = msg.content.text.trim();\n",
       "            if (id in Bokeh.index) {\n",
       "              Bokeh.index[id].model.document.clear();\n",
       "              delete Bokeh.index[id];\n",
       "            }\n",
       "          }\n",
       "        }\n",
       "      });\n",
       "      // Destroy server and session\n",
       "      const cmd_destroy = \"import bokeh.io.notebook as ion; ion.destroy_server('\" + server_id + \"')\";\n",
       "      cell.notebook.kernel.execute(cmd_destroy);\n",
       "    }\n",
       "  }\n",
       "\n",
       "  /**\n",
       "   * Handle when a new output is added\n",
       "   */\n",
       "  function handleAddOutput(event, handle) {\n",
       "    const output_area = handle.output_area;\n",
       "    const output = handle.output;\n",
       "\n",
       "    // limit handleAddOutput to display_data with EXEC_MIME_TYPE content only\n",
       "    if ((output.output_type != \"display_data\") || (!Object.prototype.hasOwnProperty.call(output.data, EXEC_MIME_TYPE))) {\n",
       "      return\n",
       "    }\n",
       "\n",
       "    const toinsert = output_area.element.find(\".\" + CLASS_NAME.split(' ')[0]);\n",
       "\n",
       "    if (output.metadata[EXEC_MIME_TYPE][\"id\"] !== undefined) {\n",
       "      toinsert[toinsert.length - 1].firstChild.textContent = output.data[JS_MIME_TYPE];\n",
       "      // store reference to embed id on output_area\n",
       "      output_area._bokeh_element_id = output.metadata[EXEC_MIME_TYPE][\"id\"];\n",
       "    }\n",
       "    if (output.metadata[EXEC_MIME_TYPE][\"server_id\"] !== undefined) {\n",
       "      const bk_div = document.createElement(\"div\");\n",
       "      bk_div.innerHTML = output.data[HTML_MIME_TYPE];\n",
       "      const script_attrs = bk_div.children[0].attributes;\n",
       "      for (let i = 0; i < script_attrs.length; i++) {\n",
       "        toinsert[toinsert.length - 1].firstChild.setAttribute(script_attrs[i].name, script_attrs[i].value);\n",
       "        toinsert[toinsert.length - 1].firstChild.textContent = bk_div.children[0].textContent\n",
       "      }\n",
       "      // store reference to server id on output_area\n",
       "      output_area._bokeh_server_id = output.metadata[EXEC_MIME_TYPE][\"server_id\"];\n",
       "    }\n",
       "  }\n",
       "\n",
       "  function register_renderer(events, OutputArea) {\n",
       "\n",
       "    function append_mime(data, metadata, element) {\n",
       "      // create a DOM node to render to\n",
       "      const toinsert = this.create_output_subarea(\n",
       "        metadata,\n",
       "        CLASS_NAME,\n",
       "        EXEC_MIME_TYPE\n",
       "      );\n",
       "      this.keyboard_manager.register_events(toinsert);\n",
       "      // Render to node\n",
       "      const props = {data: data, metadata: metadata[EXEC_MIME_TYPE]};\n",
       "      render(props, toinsert[toinsert.length - 1]);\n",
       "      element.append(toinsert);\n",
       "      return toinsert\n",
       "    }\n",
       "\n",
       "    /* Handle when an output is cleared or removed */\n",
       "    events.on('clear_output.CodeCell', handleClearOutput);\n",
       "    events.on('delete.Cell', handleClearOutput);\n",
       "\n",
       "    /* Handle when a new output is added */\n",
       "    events.on('output_added.OutputArea', handleAddOutput);\n",
       "\n",
       "    /**\n",
       "     * Register the mime type and append_mime function with output_area\n",
       "     */\n",
       "    OutputArea.prototype.register_mime_type(EXEC_MIME_TYPE, append_mime, {\n",
       "      /* Is output safe? */\n",
       "      safe: true,\n",
       "      /* Index of renderer in `output_area.display_order` */\n",
       "      index: 0\n",
       "    });\n",
       "  }\n",
       "\n",
       "  // register the mime type if in Jupyter Notebook environment and previously unregistered\n",
       "  if (root.Jupyter !== undefined) {\n",
       "    const events = require('base/js/events');\n",
       "    const OutputArea = require('notebook/js/outputarea').OutputArea;\n",
       "\n",
       "    if (OutputArea.prototype.mime_types().indexOf(EXEC_MIME_TYPE) == -1) {\n",
       "      register_renderer(events, OutputArea);\n",
       "    }\n",
       "  }\n",
       "  if (typeof (root._bokeh_timeout) === \"undefined\" || force === true) {\n",
       "    root._bokeh_timeout = Date.now() + 5000;\n",
       "    root._bokeh_failed_load = false;\n",
       "  }\n",
       "\n",
       "  const NB_LOAD_WARNING = {'data': {'text/html':\n",
       "     \"<div style='background-color: #fdd'>\\n\"+\n",
       "     \"<p>\\n\"+\n",
       "     \"BokehJS does not appear to have successfully loaded. If loading BokehJS from CDN, this \\n\"+\n",
       "     \"may be due to a slow or bad network connection. Possible fixes:\\n\"+\n",
       "     \"</p>\\n\"+\n",
       "     \"<ul>\\n\"+\n",
       "     \"<li>re-rerun `output_notebook()` to attempt to load from CDN again, or</li>\\n\"+\n",
       "     \"<li>use INLINE resources instead, as so:</li>\\n\"+\n",
       "     \"</ul>\\n\"+\n",
       "     \"<code>\\n\"+\n",
       "     \"from bokeh.resources import INLINE\\n\"+\n",
       "     \"output_notebook(resources=INLINE)\\n\"+\n",
       "     \"</code>\\n\"+\n",
       "     \"</div>\"}};\n",
       "\n",
       "  function display_loaded() {\n",
       "    const el = document.getElementById(\"b34eee61-f23a-4bf4-8c8d-a998a41b1d45\");\n",
       "    if (el != null) {\n",
       "      el.textContent = \"BokehJS is loading...\";\n",
       "    }\n",
       "    if (root.Bokeh !== undefined) {\n",
       "      if (el != null) {\n",
       "        el.textContent = \"BokehJS \" + root.Bokeh.version + \" successfully loaded.\";\n",
       "      }\n",
       "    } else if (Date.now() < root._bokeh_timeout) {\n",
       "      setTimeout(display_loaded, 100)\n",
       "    }\n",
       "  }\n",
       "\n",
       "  function run_callbacks() {\n",
       "    try {\n",
       "      root._bokeh_onload_callbacks.forEach(function(callback) {\n",
       "        if (callback != null)\n",
       "          callback();\n",
       "      });\n",
       "    } finally {\n",
       "      delete root._bokeh_onload_callbacks\n",
       "    }\n",
       "    console.debug(\"Bokeh: all callbacks have finished\");\n",
       "  }\n",
       "\n",
       "  function load_libs(css_urls, js_urls, callback) {\n",
       "    if (css_urls == null) css_urls = [];\n",
       "    if (js_urls == null) js_urls = [];\n",
       "\n",
       "    root._bokeh_onload_callbacks.push(callback);\n",
       "    if (root._bokeh_is_loading > 0) {\n",
       "      console.debug(\"Bokeh: BokehJS is being loaded, scheduling callback at\", now());\n",
       "      return null;\n",
       "    }\n",
       "    if (js_urls == null || js_urls.length === 0) {\n",
       "      run_callbacks();\n",
       "      return null;\n",
       "    }\n",
       "    console.debug(\"Bokeh: BokehJS not loaded, scheduling load and callback at\", now());\n",
       "    root._bokeh_is_loading = css_urls.length + js_urls.length;\n",
       "\n",
       "    function on_load() {\n",
       "      root._bokeh_is_loading--;\n",
       "      if (root._bokeh_is_loading === 0) {\n",
       "        console.debug(\"Bokeh: all BokehJS libraries/stylesheets loaded\");\n",
       "        run_callbacks()\n",
       "      }\n",
       "    }\n",
       "\n",
       "    function on_error(url) {\n",
       "      console.error(\"failed to load \" + url);\n",
       "    }\n",
       "\n",
       "    for (let i = 0; i < css_urls.length; i++) {\n",
       "      const url = css_urls[i];\n",
       "      const element = document.createElement(\"link\");\n",
       "      element.onload = on_load;\n",
       "      element.onerror = on_error.bind(null, url);\n",
       "      element.rel = \"stylesheet\";\n",
       "      element.type = \"text/css\";\n",
       "      element.href = url;\n",
       "      console.debug(\"Bokeh: injecting link tag for BokehJS stylesheet: \", url);\n",
       "      document.body.appendChild(element);\n",
       "    }\n",
       "\n",
       "    for (let i = 0; i < js_urls.length; i++) {\n",
       "      const url = js_urls[i];\n",
       "      const element = document.createElement('script');\n",
       "      element.onload = on_load;\n",
       "      element.onerror = on_error.bind(null, url);\n",
       "      element.async = false;\n",
       "      element.src = url;\n",
       "      console.debug(\"Bokeh: injecting script tag for BokehJS library: \", url);\n",
       "      document.head.appendChild(element);\n",
       "    }\n",
       "  };\n",
       "\n",
       "  function inject_raw_css(css) {\n",
       "    const element = document.createElement(\"style\");\n",
       "    element.appendChild(document.createTextNode(css));\n",
       "    document.body.appendChild(element);\n",
       "  }\n",
       "\n",
       "  const js_urls = [\"https://cdn.bokeh.org/bokeh/release/bokeh-3.2.1.min.js\", \"https://cdn.bokeh.org/bokeh/release/bokeh-gl-3.2.1.min.js\", \"https://cdn.bokeh.org/bokeh/release/bokeh-widgets-3.2.1.min.js\", \"https://cdn.bokeh.org/bokeh/release/bokeh-tables-3.2.1.min.js\", \"https://cdn.bokeh.org/bokeh/release/bokeh-mathjax-3.2.1.min.js\"];\n",
       "  const css_urls = [];\n",
       "\n",
       "  const inline_js = [    function(Bokeh) {\n",
       "      Bokeh.set_log_level(\"info\");\n",
       "    },\n",
       "function(Bokeh) {\n",
       "    }\n",
       "  ];\n",
       "\n",
       "  function run_inline_js() {\n",
       "    if (root.Bokeh !== undefined || force === true) {\n",
       "          for (let i = 0; i < inline_js.length; i++) {\n",
       "      inline_js[i].call(root, root.Bokeh);\n",
       "    }\n",
       "if (force === true) {\n",
       "        display_loaded();\n",
       "      }} else if (Date.now() < root._bokeh_timeout) {\n",
       "      setTimeout(run_inline_js, 100);\n",
       "    } else if (!root._bokeh_failed_load) {\n",
       "      console.log(\"Bokeh: BokehJS failed to load within specified timeout.\");\n",
       "      root._bokeh_failed_load = true;\n",
       "    } else if (force !== true) {\n",
       "      const cell = $(document.getElementById(\"b34eee61-f23a-4bf4-8c8d-a998a41b1d45\")).parents('.cell').data().cell;\n",
       "      cell.output_area.append_execute_result(NB_LOAD_WARNING)\n",
       "    }\n",
       "  }\n",
       "\n",
       "  if (root._bokeh_is_loading === 0) {\n",
       "    console.debug(\"Bokeh: BokehJS loaded, going straight to plotting\");\n",
       "    run_inline_js();\n",
       "  } else {\n",
       "    load_libs(css_urls, js_urls, function() {\n",
       "      console.debug(\"Bokeh: BokehJS plotting callback run at\", now());\n",
       "      run_inline_js();\n",
       "    });\n",
       "  }\n",
       "}(window));"
      ],
      "application/vnd.bokehjs_load.v0+json": "(function(root) {\n  function now() {\n    return new Date();\n  }\n\n  const force = true;\n\n  if (typeof root._bokeh_onload_callbacks === \"undefined\" || force === true) {\n    root._bokeh_onload_callbacks = [];\n    root._bokeh_is_loading = undefined;\n  }\n\n\n  if (typeof (root._bokeh_timeout) === \"undefined\" || force === true) {\n    root._bokeh_timeout = Date.now() + 5000;\n    root._bokeh_failed_load = false;\n  }\n\n  const NB_LOAD_WARNING = {'data': {'text/html':\n     \"<div style='background-color: #fdd'>\\n\"+\n     \"<p>\\n\"+\n     \"BokehJS does not appear to have successfully loaded. If loading BokehJS from CDN, this \\n\"+\n     \"may be due to a slow or bad network connection. Possible fixes:\\n\"+\n     \"</p>\\n\"+\n     \"<ul>\\n\"+\n     \"<li>re-rerun `output_notebook()` to attempt to load from CDN again, or</li>\\n\"+\n     \"<li>use INLINE resources instead, as so:</li>\\n\"+\n     \"</ul>\\n\"+\n     \"<code>\\n\"+\n     \"from bokeh.resources import INLINE\\n\"+\n     \"output_notebook(resources=INLINE)\\n\"+\n     \"</code>\\n\"+\n     \"</div>\"}};\n\n  function display_loaded() {\n    const el = document.getElementById(\"b34eee61-f23a-4bf4-8c8d-a998a41b1d45\");\n    if (el != null) {\n      el.textContent = \"BokehJS is loading...\";\n    }\n    if (root.Bokeh !== undefined) {\n      if (el != null) {\n        el.textContent = \"BokehJS \" + root.Bokeh.version + \" successfully loaded.\";\n      }\n    } else if (Date.now() < root._bokeh_timeout) {\n      setTimeout(display_loaded, 100)\n    }\n  }\n\n  function run_callbacks() {\n    try {\n      root._bokeh_onload_callbacks.forEach(function(callback) {\n        if (callback != null)\n          callback();\n      });\n    } finally {\n      delete root._bokeh_onload_callbacks\n    }\n    console.debug(\"Bokeh: all callbacks have finished\");\n  }\n\n  function load_libs(css_urls, js_urls, callback) {\n    if (css_urls == null) css_urls = [];\n    if (js_urls == null) js_urls = [];\n\n    root._bokeh_onload_callbacks.push(callback);\n    if (root._bokeh_is_loading > 0) {\n      console.debug(\"Bokeh: BokehJS is being loaded, scheduling callback at\", now());\n      return null;\n    }\n    if (js_urls == null || js_urls.length === 0) {\n      run_callbacks();\n      return null;\n    }\n    console.debug(\"Bokeh: BokehJS not loaded, scheduling load and callback at\", now());\n    root._bokeh_is_loading = css_urls.length + js_urls.length;\n\n    function on_load() {\n      root._bokeh_is_loading--;\n      if (root._bokeh_is_loading === 0) {\n        console.debug(\"Bokeh: all BokehJS libraries/stylesheets loaded\");\n        run_callbacks()\n      }\n    }\n\n    function on_error(url) {\n      console.error(\"failed to load \" + url);\n    }\n\n    for (let i = 0; i < css_urls.length; i++) {\n      const url = css_urls[i];\n      const element = document.createElement(\"link\");\n      element.onload = on_load;\n      element.onerror = on_error.bind(null, url);\n      element.rel = \"stylesheet\";\n      element.type = \"text/css\";\n      element.href = url;\n      console.debug(\"Bokeh: injecting link tag for BokehJS stylesheet: \", url);\n      document.body.appendChild(element);\n    }\n\n    for (let i = 0; i < js_urls.length; i++) {\n      const url = js_urls[i];\n      const element = document.createElement('script');\n      element.onload = on_load;\n      element.onerror = on_error.bind(null, url);\n      element.async = false;\n      element.src = url;\n      console.debug(\"Bokeh: injecting script tag for BokehJS library: \", url);\n      document.head.appendChild(element);\n    }\n  };\n\n  function inject_raw_css(css) {\n    const element = document.createElement(\"style\");\n    element.appendChild(document.createTextNode(css));\n    document.body.appendChild(element);\n  }\n\n  const js_urls = [\"https://cdn.bokeh.org/bokeh/release/bokeh-3.2.1.min.js\", \"https://cdn.bokeh.org/bokeh/release/bokeh-gl-3.2.1.min.js\", \"https://cdn.bokeh.org/bokeh/release/bokeh-widgets-3.2.1.min.js\", \"https://cdn.bokeh.org/bokeh/release/bokeh-tables-3.2.1.min.js\", \"https://cdn.bokeh.org/bokeh/release/bokeh-mathjax-3.2.1.min.js\"];\n  const css_urls = [];\n\n  const inline_js = [    function(Bokeh) {\n      Bokeh.set_log_level(\"info\");\n    },\nfunction(Bokeh) {\n    }\n  ];\n\n  function run_inline_js() {\n    if (root.Bokeh !== undefined || force === true) {\n          for (let i = 0; i < inline_js.length; i++) {\n      inline_js[i].call(root, root.Bokeh);\n    }\nif (force === true) {\n        display_loaded();\n      }} else if (Date.now() < root._bokeh_timeout) {\n      setTimeout(run_inline_js, 100);\n    } else if (!root._bokeh_failed_load) {\n      console.log(\"Bokeh: BokehJS failed to load within specified timeout.\");\n      root._bokeh_failed_load = true;\n    } else if (force !== true) {\n      const cell = $(document.getElementById(\"b34eee61-f23a-4bf4-8c8d-a998a41b1d45\")).parents('.cell').data().cell;\n      cell.output_area.append_execute_result(NB_LOAD_WARNING)\n    }\n  }\n\n  if (root._bokeh_is_loading === 0) {\n    console.debug(\"Bokeh: BokehJS loaded, going straight to plotting\");\n    run_inline_js();\n  } else {\n    load_libs(css_urls, js_urls, function() {\n      console.debug(\"Bokeh: BokehJS plotting callback run at\", now());\n      run_inline_js();\n    });\n  }\n}(window));"
     },
     "metadata": {},
     "output_type": "display_data"
    },
    {
     "data": {
      "text/html": [
       "\n",
       "  <div id=\"f6346d9b-ddf5-43ae-829c-30765e1c309f\" data-root-id=\"p1007\" style=\"display: contents;\"></div>\n"
      ]
     },
     "metadata": {},
     "output_type": "display_data"
    },
    {
     "data": {
      "application/javascript": [
       "(function(root) {\n",
       "  function embed_document(root) {\n",
       "  const docs_json = {\"d38c6379-ede4-4a50-adcd-09f34afe3db4\":{\"version\":\"3.2.1\",\"title\":\"Bokeh Application\",\"roots\":[{\"type\":\"object\",\"name\":\"Figure\",\"id\":\"p1007\",\"attributes\":{\"width\":1000,\"x_range\":{\"type\":\"object\",\"name\":\"DataRange1d\",\"id\":\"p1008\"},\"y_range\":{\"type\":\"object\",\"name\":\"DataRange1d\",\"id\":\"p1009\"},\"x_scale\":{\"type\":\"object\",\"name\":\"LinearScale\",\"id\":\"p1017\"},\"y_scale\":{\"type\":\"object\",\"name\":\"LinearScale\",\"id\":\"p1018\"},\"title\":{\"type\":\"object\",\"name\":\"Title\",\"id\":\"p1010\",\"attributes\":{\"text\":\"Original vs Generated Embeddings (PCA)\"}},\"renderers\":[{\"type\":\"object\",\"name\":\"GlyphRenderer\",\"id\":\"p1039\",\"attributes\":{\"data_source\":{\"type\":\"object\",\"name\":\"ColumnDataSource\",\"id\":\"p1001\",\"attributes\":{\"selected\":{\"type\":\"object\",\"name\":\"Selection\",\"id\":\"p1002\",\"attributes\":{\"indices\":[],\"line_indices\":[]}},\"selection_policy\":{\"type\":\"object\",\"name\":\"UnionRenderers\",\"id\":\"p1003\"},\"data\":{\"type\":\"map\",\"entries\":[[\"x\",{\"type\":\"ndarray\",\"array\":{\"type\":\"bytes\",\"data\":\"opH9Pt+Web5b/1+/qRsRPouAKL66ccE9c3a3vGz6KT5Wx98+tOnrvA==\"},\"shape\":[10],\"dtype\":\"float32\",\"order\":\"little\"}],[\"y\",{\"type\":\"ndarray\",\"array\":{\"type\":\"bytes\",\"data\":\"w5D0vi/ZjD6WsLC+I93ePbtLlD5fyo2+Mct0PVX1pz4kg408RYisPA==\"},\"shape\":[10],\"dtype\":\"float32\",\"order\":\"little\"}],[\"text\",[\"[Post 1159] AITA for refusing to show my receipt when leaving a store?\\n\\nJust recently, our local Walmart and Target have begun to ask for receipts as patrons are leaving the store. At first I would oblige. I thought \\\"Whatever, it will only take a few seconds, NBD\\\". But as it happens more and more, I'm starting to realize not everyone is being asked to do this. Often times I'm having my groceries checked against my receipt as I watch multiple people walk right past us.\\n\\nI thought maybe they were ...\",\"[Post 15340] AITA for not wanting my fianc\\u00e9\\u2019s parents to move in next door\\n\\nPlease excuse any mistakes. I\\u2019m on mobile. \\n\\nMy fianc\\u00e9 (33M) and I (27F) live in a duplex that I inherited from my late aunt. My aunt was wheelchair bound, so her unit was renovated to be wheelchair accessible. The unit that my fianc\\u00e9 and I live in do not have the same accommodations.  \\n\\nMy brother\\u2019s (35M) partner (34M) is disabled and uses a wheelchair. While they are currently renting a wheelchair friendly apartment, t...\",\"[Post 4119] AITA for not wanting to pay for brother's life-saving surgery?\\n\\nMy brother was recently diagnosed with late stage colon cancer and has been in hospital multiple times to get assessments and diagnostic testing. The definitive treatment is a surgery and lengthy hospital stay which costs about $25k out-of-pocket after insurance deductions, and quoted at 70% cure rate. He and my SIL are unable to afford this as they have combined debts of $40k including student loans and not eligible to ...\",\"[Post 3315] AITA for shaming a barber online that refused to serve me?\\n\\nI am a woman in my 20s who has very short hair. It isn't just short, it is straight up a men's cut, as I am very masculine/butch looking in general. For the past couple years I have been getting my hair cut at a barber, since it's cheaper and they never try to push me to have a more feminine pixie cut. \\n\\nMy barber moved away recently, so I have been looking for someone new. At the recommendation of my male friend, I found a ...\",\"[Post 15962] AITA for not defending my wife at the dinner table?\\n\\nmy wife (27f) and me (36m) were having thanksgiving dinner at my parents' house last thursday. My wife has this weird habit of eating with a teaspoon all the time, instead of a regular spoon so when she and my mom were setting the table, she took a teaspoon for herself. Anyways, when she was eating with it, my dad pointed it out to her and asked \\\"why on earth are you eating with that tiny spoon? Y'know eating in tiny mouths isn't ...\",\"[Post 9118] AITA for telling my BF that if he doesnt go to work, hes no longer using ANYTHING of mine (including my car AND wifi)?\\n\\n28f/29m been together for like 4 years I think. \\n\\nI love this guy to death but when I say he is lazy, that is seriously a huge fucking understatement and doesnt even shed an ounce of light on the actual problem. Hes also a gaming junkie-like the worst of their kind. For example, when a game is being released, he waits up until midnight to purchase the game (no matte...\",\"[Post 14190] AITA for refusing to cook dinner if my roommate won't do the dishes?\\n\\nSo about 5 months ago I (29F) got a new place with two of my friends, let's call them Todd(33M) and Jess(32F). The three of us split rent and utilities equally. We all have a similar cleanliness level and a general rule of clean up after yourself. Everyone does their own laundry, keeps their bedrooms tidy, and the common spaces like the livingroom and kitchen get cleaned regularly by all of us. It's a pretty decen...\",\"[Post 1289] AITA for walking out on my own birthday party when my mom called for a prayer?\\n\\nI am an atheist, and my mom has known this since I was 15, she normally respects this but 4 years ago on my 30th birthday, my mom, as always had a family dinner to celebrate.\\n\\nWhen it came time to eat my mom asked my grandfather to say a prayer, and this made me feel very disrespected, so I just walked out the door and left.\\n\\nMy mom called me soon after and started yelling at me, I explained to her that I...\",\"[Post 13358] AITA for bringing home a basic burrito for my [26F] partner [25M]?\\n\\nThrowaway\\n\\nTL;DR: Got the most basic pulled pork burrito for my partner on the way home bc he asked for a pulled pork burrito.\\n\\nYesterday, I was coming home late because I had dinner with my boss and co-workers. On my way home, I texted my partner asking if he'd like me to pick anything up for him. He said, \\\"Can you get ABC Burrito for me. Pulled pork.\\\" I texted back, \\\"Heard.\\\" I then called the restaurant and asked ...\",\"[Post 3552] AITA for screaming really loud when drivers come close to hitting me on my bike?\\n\\nI've started biking to my job, to the gym, to pretty much everywhere to get in shape. \\n\\nIt's been mostly great, I've lost a bunch of weight and gotten a lot stronger too. \\n\\nBut the one stressful thing is how drivers around here aren't great... Lots of dumb driving, speeding, road rage, texting, etc... And I've had a couple close calls.\\n\\nJust a month ago for example, I was driving on a 2 lane road, in th...\"]]]}}},\"view\":{\"type\":\"object\",\"name\":\"CDSView\",\"id\":\"p1040\",\"attributes\":{\"filter\":{\"type\":\"object\",\"name\":\"AllIndices\",\"id\":\"p1041\"}}},\"glyph\":{\"type\":\"object\",\"name\":\"Circle\",\"id\":\"p1036\",\"attributes\":{\"x\":{\"type\":\"field\",\"field\":\"x\"},\"y\":{\"type\":\"field\",\"field\":\"y\"},\"size\":{\"type\":\"value\",\"value\":10},\"line_color\":{\"type\":\"value\",\"value\":\"blue\"},\"line_alpha\":{\"type\":\"value\",\"value\":0.5},\"fill_color\":{\"type\":\"value\",\"value\":\"blue\"},\"fill_alpha\":{\"type\":\"value\",\"value\":0.5},\"hatch_color\":{\"type\":\"value\",\"value\":\"blue\"},\"hatch_alpha\":{\"type\":\"value\",\"value\":0.5}}},\"nonselection_glyph\":{\"type\":\"object\",\"name\":\"Circle\",\"id\":\"p1037\",\"attributes\":{\"x\":{\"type\":\"field\",\"field\":\"x\"},\"y\":{\"type\":\"field\",\"field\":\"y\"},\"size\":{\"type\":\"value\",\"value\":10},\"line_color\":{\"type\":\"value\",\"value\":\"blue\"},\"line_alpha\":{\"type\":\"value\",\"value\":0.1},\"fill_color\":{\"type\":\"value\",\"value\":\"blue\"},\"fill_alpha\":{\"type\":\"value\",\"value\":0.1},\"hatch_color\":{\"type\":\"value\",\"value\":\"blue\"},\"hatch_alpha\":{\"type\":\"value\",\"value\":0.1}}},\"muted_glyph\":{\"type\":\"object\",\"name\":\"Circle\",\"id\":\"p1038\",\"attributes\":{\"x\":{\"type\":\"field\",\"field\":\"x\"},\"y\":{\"type\":\"field\",\"field\":\"y\"},\"size\":{\"type\":\"value\",\"value\":10},\"line_color\":{\"type\":\"value\",\"value\":\"blue\"},\"line_alpha\":{\"type\":\"value\",\"value\":0.2},\"fill_color\":{\"type\":\"value\",\"value\":\"blue\"},\"fill_alpha\":{\"type\":\"value\",\"value\":0.2},\"hatch_color\":{\"type\":\"value\",\"value\":\"blue\"},\"hatch_alpha\":{\"type\":\"value\",\"value\":0.2}}}}},{\"type\":\"object\",\"name\":\"GlyphRenderer\",\"id\":\"p1050\",\"attributes\":{\"data_source\":{\"type\":\"object\",\"name\":\"ColumnDataSource\",\"id\":\"p1004\",\"attributes\":{\"selected\":{\"type\":\"object\",\"name\":\"Selection\",\"id\":\"p1005\",\"attributes\":{\"indices\":[],\"line_indices\":[]}},\"selection_policy\":{\"type\":\"object\",\"name\":\"UnionRenderers\",\"id\":\"p1006\"},\"data\":{\"type\":\"map\",\"entries\":[[\"x\",{\"type\":\"ndarray\",\"array\":{\"type\":\"bytes\",\"data\":\"wEE5PURMkT4mY8G+5u7rvf3Dp71y+sI+z4h7Poxlwj4k5Mo+rhsFPQ==\"},\"shape\":[10],\"dtype\":\"float32\",\"order\":\"little\"}],[\"y\",{\"type\":\"ndarray\",\"array\":{\"type\":\"bytes\",\"data\":\"8FWSPByCCD0V7aO+gC9su4RBRT1gfbq7IkSKvT1Zcz52asc98yphPg==\"},\"shape\":[10],\"dtype\":\"float32\",\"order\":\"little\"}],[\"text\",[\"[Post 1159] AITA for refusing to show my receipt when leaving a store?\\n\\n \\n\\nSo I am 24 years old. I have recently got a new wallet. \\n\\nOn mobile. I came down on Thursday.\\n\\nI am in the process of looking for my first grandchild. She is 22, and has been dating my fianc\\u00e9 for 3 years. \\n\\nI've been saving up a few thousand for my grandchild. There's also the money I saved but I wouldn't be able to save it for now. I want an education and an awesome job. This doesn't count, especially given we never had ...\",\"[Post 15340] AITA for not wanting my fianc\\u00e9\\u2019s parents to move in next door and telling me that my parents didn\\u2019t want him to be there for over a decade, and for some reason?\\n\\nLast night, my fianc\\u00e9 and I went to dinner and my parents were there. He asked what was going on and he said \\u2018I don\\u2019t like your children having to wait forever for them to leave. I can\\u2019t have my parents feel comfortable with this, but I think that\\u2019s a different situation. I told him I don\\u2019t really like how your parents were...\",\"[Post 4119] AITA for not wanting to pay for brother's life-saving surgery?\\n\\nAlso, to those who say I make it difficult for me to pay for him to get a car after paying for it. My ex husband, 30M, and my 2 year old son have all expressed themselves to me and my parents that a child should feel like an equal father than a \\\"parent!\\\"\",\"[Post 3315] AITA for shaming a barber online that refused to serve me?\\n\\nI really thought it would be a smart decision for my barber. For example, I ordered the most expensive bottle of coffee and it took me hours to order, and my bartender started helping me find coffee with the money (which was in savings).\\n\\nSome time ago I was working on a new game project that I would be able to make to go to events and to get in contact with friends and family. It was a bit like working on an online game but...\",\"[Post 15962] AITA for not defending my wife at the dinner table?\\n\\nSo I\\u2019m just curious to see if that can really be avoided. I am 19. My wife, however, has been adamant that I should defend my wife. She\\u2019s one of the most supportive people I\\u2019ve ever have, including my wife. She\\u2019s also incredibly close to her husband.\\n\\nFor background, she\\u2019s an ex-wife (who is also a high school teacher) who has known her husband for 7 years now. She hasn\\u2019t been around my wife in much in the past. She has never met ...\",\"[Post 9118] AITA for telling my BF that if he doesnt go to work, hes no longer using ANYTHING of mine (including my car AND wifi)? \\nI was on a camping trip in the UK since February. When he found out, I was on a camping trip in America and he had been talking to me about plans and that's pretty shit. I told him to pick up his phone to go down the road when the time comes and he will get it, but he couldn't get it. And he was so pissed at me because he thought his phones and his phone needed to b...\",\"[Post 14190] AITA for refusing to cook dinner if my roommate won't do the dishes?\\n\\nI\\u2019m a 21, female. This happened 10 years ago. When we were both 10, we both refused to make a meal and my roommate was also upset.\\n\\nNow I know I\\u2019m a shitty cook, but for context, my roommate hates eating dinner when my roommates aren\\u2019t. My roommate doesn\\u2019t cook. I just don\\u2019t do it.\\n\\nAnyway, after he was able to cook, his roommate was left with very limited kitchen supplies. The one she had left for college ended u...\",\"[Post 1289] AITA for walking out on my own birthday party when my mom called for a prayer?\\n\\nWhen the reception was over, she asked my dad if I would give the prayer to my dad. He was very rude and said it wasn't his fault I didn't. He apologized for it and said he didn't think it was my fault, I'm sorry, if I wanted to have his attention I would talk with his mother, but then he was going to come over while my dad left. My father wasn't the one to hear the prayer, and I wasn't being a dad. He ap...\",\"[Post 13358] AITA for bringing home a basic burrito for my [26F] partner [25M]?\\n\\nMy sister [28M] has always known the burrito as her favorite food. She has always wanted to incorporate the burrito into her meals, just in case. We often buy snacks that are different from what we typically buy, but when we buy something we always bring it to my meal and they'll always be the same (for example, the Mexican-American burrito was a popular way to go to see Mexican restaurants). \\n\\nMy sister has brought...\",\"[Post 3552] AITA for screaming really loud when drivers come close to hitting me on my bike? It really pisses me off. I don't want to hurt my ride on my bike but, the sound is too loud and I have a car key.\\n\\nI've worked with a friend on the other side of the bike line and she just happened to drive over to grab my bike and I've made a call about it. I yelled at her that I won't let her drive my car. She was getting annoyed with me and said I wasn't giving her my shit and being a \\\"real\\\" person. S...\"]]]}}},\"view\":{\"type\":\"object\",\"name\":\"CDSView\",\"id\":\"p1051\",\"attributes\":{\"filter\":{\"type\":\"object\",\"name\":\"AllIndices\",\"id\":\"p1052\"}}},\"glyph\":{\"type\":\"object\",\"name\":\"Circle\",\"id\":\"p1047\",\"attributes\":{\"x\":{\"type\":\"field\",\"field\":\"x\"},\"y\":{\"type\":\"field\",\"field\":\"y\"},\"size\":{\"type\":\"value\",\"value\":10},\"line_color\":{\"type\":\"value\",\"value\":\"red\"},\"line_alpha\":{\"type\":\"value\",\"value\":0.5},\"fill_color\":{\"type\":\"value\",\"value\":\"red\"},\"fill_alpha\":{\"type\":\"value\",\"value\":0.5},\"hatch_color\":{\"type\":\"value\",\"value\":\"red\"},\"hatch_alpha\":{\"type\":\"value\",\"value\":0.5}}},\"nonselection_glyph\":{\"type\":\"object\",\"name\":\"Circle\",\"id\":\"p1048\",\"attributes\":{\"x\":{\"type\":\"field\",\"field\":\"x\"},\"y\":{\"type\":\"field\",\"field\":\"y\"},\"size\":{\"type\":\"value\",\"value\":10},\"line_color\":{\"type\":\"value\",\"value\":\"red\"},\"line_alpha\":{\"type\":\"value\",\"value\":0.1},\"fill_color\":{\"type\":\"value\",\"value\":\"red\"},\"fill_alpha\":{\"type\":\"value\",\"value\":0.1},\"hatch_color\":{\"type\":\"value\",\"value\":\"red\"},\"hatch_alpha\":{\"type\":\"value\",\"value\":0.1}}},\"muted_glyph\":{\"type\":\"object\",\"name\":\"Circle\",\"id\":\"p1049\",\"attributes\":{\"x\":{\"type\":\"field\",\"field\":\"x\"},\"y\":{\"type\":\"field\",\"field\":\"y\"},\"size\":{\"type\":\"value\",\"value\":10},\"line_color\":{\"type\":\"value\",\"value\":\"red\"},\"line_alpha\":{\"type\":\"value\",\"value\":0.2},\"fill_color\":{\"type\":\"value\",\"value\":\"red\"},\"fill_alpha\":{\"type\":\"value\",\"value\":0.2},\"hatch_color\":{\"type\":\"value\",\"value\":\"red\"},\"hatch_alpha\":{\"type\":\"value\",\"value\":0.2}}}}}],\"toolbar\":{\"type\":\"object\",\"name\":\"Toolbar\",\"id\":\"p1016\",\"attributes\":{\"tools\":[{\"type\":\"object\",\"name\":\"PanTool\",\"id\":\"p1029\"},{\"type\":\"object\",\"name\":\"WheelZoomTool\",\"id\":\"p1030\"},{\"type\":\"object\",\"name\":\"ResetTool\",\"id\":\"p1031\"},{\"type\":\"object\",\"name\":\"SaveTool\",\"id\":\"p1032\"},{\"type\":\"object\",\"name\":\"HoverTool\",\"id\":\"p1054\",\"attributes\":{\"renderers\":\"auto\",\"tooltips\":\"\\n    <div style=\\\"width:400px; white-space:normal;\\\">\\n        <strong>Post:</strong><br>@text{safe}\\n    </div>\\n\"}}]}},\"left\":[{\"type\":\"object\",\"name\":\"LinearAxis\",\"id\":\"p1024\",\"attributes\":{\"ticker\":{\"type\":\"object\",\"name\":\"BasicTicker\",\"id\":\"p1025\",\"attributes\":{\"mantissas\":[1,2,5]}},\"formatter\":{\"type\":\"object\",\"name\":\"BasicTickFormatter\",\"id\":\"p1026\"},\"axis_label\":\"PCA Component 2\",\"major_label_policy\":{\"type\":\"object\",\"name\":\"AllLabels\",\"id\":\"p1027\"}}}],\"below\":[{\"type\":\"object\",\"name\":\"LinearAxis\",\"id\":\"p1019\",\"attributes\":{\"ticker\":{\"type\":\"object\",\"name\":\"BasicTicker\",\"id\":\"p1020\",\"attributes\":{\"mantissas\":[1,2,5]}},\"formatter\":{\"type\":\"object\",\"name\":\"BasicTickFormatter\",\"id\":\"p1021\"},\"axis_label\":\"PCA Component 1\",\"major_label_policy\":{\"type\":\"object\",\"name\":\"AllLabels\",\"id\":\"p1022\"}}}],\"center\":[{\"type\":\"object\",\"name\":\"Grid\",\"id\":\"p1023\",\"attributes\":{\"axis\":{\"id\":\"p1019\"}}},{\"type\":\"object\",\"name\":\"Grid\",\"id\":\"p1028\",\"attributes\":{\"dimension\":1,\"axis\":{\"id\":\"p1024\"}}},{\"type\":\"object\",\"name\":\"Legend\",\"id\":\"p1042\",\"attributes\":{\"location\":\"top_left\",\"items\":[{\"type\":\"object\",\"name\":\"LegendItem\",\"id\":\"p1043\",\"attributes\":{\"label\":{\"type\":\"value\",\"value\":\"Original\"},\"renderers\":[{\"id\":\"p1039\"}]}},{\"type\":\"object\",\"name\":\"LegendItem\",\"id\":\"p1053\",\"attributes\":{\"label\":{\"type\":\"value\",\"value\":\"Generated\"},\"renderers\":[{\"id\":\"p1050\"}]}}]}}]}}]}};\n",
       "  const render_items = [{\"docid\":\"d38c6379-ede4-4a50-adcd-09f34afe3db4\",\"roots\":{\"p1007\":\"f6346d9b-ddf5-43ae-829c-30765e1c309f\"},\"root_ids\":[\"p1007\"]}];\n",
       "  root.Bokeh.embed.embed_items_notebook(docs_json, render_items);\n",
       "  }\n",
       "  if (root.Bokeh !== undefined) {\n",
       "    embed_document(root);\n",
       "  } else {\n",
       "    let attempts = 0;\n",
       "    const timer = setInterval(function(root) {\n",
       "      if (root.Bokeh !== undefined) {\n",
       "        clearInterval(timer);\n",
       "        embed_document(root);\n",
       "      } else {\n",
       "        attempts++;\n",
       "        if (attempts > 100) {\n",
       "          clearInterval(timer);\n",
       "          console.log(\"Bokeh: ERROR: Unable to run BokehJS code because BokehJS library is missing\");\n",
       "        }\n",
       "      }\n",
       "    }, 10, root)\n",
       "  }\n",
       "})(window);"
      ],
      "application/vnd.bokehjs_exec.v0+json": ""
     },
     "metadata": {
      "application/vnd.bokehjs_exec.v0+json": {
       "id": "p1007"
      }
     },
     "output_type": "display_data"
    }
   ],
   "source": [
    "from bokeh.plotting import figure, show, output_notebook\n",
    "from bokeh.models import ColumnDataSource, HoverTool\n",
    "from bokeh.io import output_file\n",
    "import numpy as np\n",
    "\n",
    "output_notebook()  # For Jupyter inline display\n",
    "\n",
    "# Optional: truncate text if full posts are too long\n",
    "def truncate_text(text, maxlen=500):\n",
    "    return text if len(text) <= maxlen else text[:maxlen] + \"...\"\n",
    "\n",
    "# Truncate if desired\n",
    "original_texts_display = [truncate_text(t) for t in original_texts]\n",
    "generated_texts_display = [truncate_text(t) for t in generated_texts]\n",
    "\n",
    "# Create ColumnDataSources\n",
    "source_original = ColumnDataSource(data=dict(\n",
    "    x=original_pca[:, 0],\n",
    "    y=original_pca[:, 1],\n",
    "    text=original_texts_display,\n",
    "))\n",
    "\n",
    "source_generated = ColumnDataSource(data=dict(\n",
    "    x=generated_pca[:, 0],\n",
    "    y=generated_pca[:, 1],\n",
    "    text=generated_texts_display,\n",
    "))\n",
    "\n",
    "# Create plot\n",
    "p = figure(\n",
    "    title=\"Original vs Generated Embeddings (PCA)\",\n",
    "    width=1000,\n",
    "    height=600,\n",
    "    tools=\"pan,wheel_zoom,reset,save\",\n",
    "    toolbar_location='right'\n",
    ")\n",
    "\n",
    "# Add points\n",
    "p.circle('x', 'y', size=10, source=source_original, color='blue', alpha=0.5, legend_label='Original')\n",
    "p.circle('x', 'y', size=10, source=source_generated, color='red', alpha=0.5, legend_label='Generated')\n",
    "\n",
    "# Add hover tool\n",
    "hover = HoverTool(tooltips=\"\"\"\n",
    "    <div style=\"width:400px; white-space:normal;\">\n",
    "        <strong>Post:</strong><br>@text{safe}\n",
    "    </div>\n",
    "\"\"\")\n",
    "p.add_tools(hover)\n",
    "\n",
    "# Final layout settings\n",
    "p.legend.location = \"top_left\"\n",
    "p.xaxis.axis_label = 'PCA Component 1'\n",
    "p.yaxis.axis_label = 'PCA Component 2'\n",
    "\n",
    "# Show or export\n",
    "output_file(\"outputs_lesson/original_vs_generated_embeddings_pca.html\")\n",
    "show(p)"
   ]
  },
  {
   "cell_type": "markdown",
   "id": "42d53193-b1cb-45fb-8d7f-b07a5488fd03",
   "metadata": {},
   "source": [
    "Let's compare original posts to the ones we created with GPT-2. Here we are selecting an index from our new DataFrame and printing the text for both the original and our generated text.\n",
    "\n",
    "**🔔 Question:** What do you make of this specific generated post? Can you tell why the model seems to have created the output that it did?"
   ]
  },
  {
   "cell_type": "markdown",
   "id": "935ae8e9-850f-483f-a30b-14f7ec321539",
   "metadata": {
    "tags": []
   },
   "source": [
    "## Back to Close Reading\n",
    "\n",
    "Finally, let's read these generated r/amitheasshole posts. Change the `index` number to see different real vs. generated posts."
   ]
  },
  {
   "cell_type": "code",
   "execution_count": 57,
   "id": "a4948456-a988-4793-ab55-d08ec3047bd3",
   "metadata": {
    "scrolled": true
   },
   "outputs": [
    {
     "name": "stdout",
     "output_type": "stream",
     "text": [
      "Title: AITA for not wanting my fiancé’s parents to move in next door\n",
      "\n",
      "\n",
      "Original Text: AITA for not wanting my fiancé’s parents to move in next door\n",
      "\n",
      "Please excuse any mistakes. I’m on mobile. \n",
      "\n",
      "My fiancé (33M) and I (27F) live in a duplex that I inherited from my late aunt. My aunt was wheelchair bound, so her unit was renovated to be wheelchair accessible. The unit that my fiancé and I live in do not have the same accommodations.  \n",
      "\n",
      "My brother’s (35M) partner (34M) is disabled and uses a wheelchair. While they are currently renting a wheelchair friendly apartment, their landlord has decided to raise their rent next year by a significant amount. They can technically afford it, but it would put a serious strain on their finances. \n",
      "\n",
      "I told my brother that they can move in my aunt’s place when their lease is over. We agreed that I would only charge a token amount for rent and my brother would help me with the maintenance and upkeep. \n",
      "\n",
      "A few days ago my fiancé told me that his father has been diagnosed with cancer. While it’s thankfully not terminal, he does need to undergo chemo for a while. My fiancé asked me if his parents move in next door since we live near the hospital and they currently live 2 hours away.\n",
      "\n",
      "I told my fiancé that I was fine with his parents moving into our unit with us, but I’m not going back on my agreement with my brother and BIL.\n",
      "\n",
      "My fiancé argued that this wasn’t a feasible solution. His parents need their own space. Our place also doesn’t have the accommodations his father might need. He argued that my brother and BIL can wait another year or so to move in, but his dad needs to start treatments soon. They can renew their lease and I can help them with rent. \n",
      "\n",
      "However, my ILs are well off and can afford to rent a place that fit their needs. Additionally, my fiancé has two siblings with good paying jobs that can help pay his parent’s expenses. My brother and BIL only have me to help. \n",
      "\n",
      "My fiancé is still mad at me. He thinks I’m being unfair putting my brother and BIL over his sick dad. Now I’m wondering if I’m wrong. AITA\n",
      "\n",
      "\n",
      "Generated Text: AITA for not wanting my fiancé’s parents to move in next door to a community college. I went to the university to become a certified medical student at an excellent program that I managed and had the support of a private university. I got a job at the university, which really improved my career and I ended up graduating one day later. \n",
      "\n",
      "Since then my parents have had a really negative reaction on their way to my wedding. I’ve gone down on them for not wanting to invite to the wedding. They always had a plan but always said that it’s not fair to invite parents. They got me a scholarship and I’m going to stay until the wedding, then there’s a few less than a week left. It’s not that simple, I’m just happy. I’ve been through the ups and downs since I was there, but it has been a constant reminder that the wedding was for my future and I’ve talked to my fiancé about it before. \n",
      "\n",
      "My parents are upset: they didn’t make it through my college and asked why there would be such a huge difference. They said that it’s important to me to put my future in the best interests of my future and that I’m doing better than my family, but since I didn’t do what I planned for, I had more responsibilities than I did. They said that it’s unfair for me to get involved with the wedding. \n",
      "\n",
      "AITA?\n"
     ]
    }
   ],
   "source": [
    "index = 2\n",
    "print(f\"Title: {df.loc[index]['title']}\")\n",
    "print(\"\\n\")\n",
    "print(f\"Original Text: {df.loc[index, 'original_text']}\")\n",
    "print(\"\\n\")\n",
    "print(f\"Generated Text: {df.loc[index, 'generated_text']}\")"
   ]
  },
  {
   "cell_type": "markdown",
   "id": "9cea0221-1396-450c-ad1b-623a5b7658d0",
   "metadata": {},
   "source": [
    "# 💭 Reflection: Defamilarized posts\n",
    "\n",
    "Ask yourself the following questions:\n",
    "- What did the model \"learn\" about the subreddit's linguistic patterns? What phrases, structures, or rhetorical moves show up consistently? What does this tell us about how r/AmITheAsshole functions as a discourse community?\n",
    "- Pinpoint some moments where the generated text feels \"almost right but wrong.\" What makes these moments jarring? Is it factual inconsistencies, emotional register mismatches, or something else?\n"
   ]
  },
  {
   "cell_type": "markdown",
   "id": "620ce696-918e-447c-9353-fc1241cb59e2",
   "metadata": {
    "tags": []
   },
   "source": [
    "<div class=\"alert alert-success\">\n",
    "\n",
    "## ❗ Key Points\n",
    "\n",
    "* The GPT model is trained to take in a piece of text, and produce a prediction of what comes next in the passage.\n",
    "* Fine-tuning GPT-2 on a specific dataset, like our r/amitheasshole dataset, customizes the model's responses to reflect the themes, style, language, or idioms found within that corpus.\n",
    "* We can evaluate a fine-tuned model with different metrics, and through manual interpretation. \n",
    "    \n",
    "</div>"
   ]
  }
 ],
 "metadata": {
  "kernelspec": {
   "display_name": "dlab",
   "language": "python",
   "name": "dlab"
  },
  "language_info": {
   "codemirror_mode": {
    "name": "ipython",
    "version": 3
   },
   "file_extension": ".py",
   "mimetype": "text/x-python",
   "name": "python",
   "nbconvert_exporter": "python",
   "pygments_lexer": "ipython3",
   "version": "3.10.13"
  }
 },
 "nbformat": 4,
 "nbformat_minor": 5
}
