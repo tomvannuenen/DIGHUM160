{
 "cells": [
  {
   "cell_type": "markdown",
   "metadata": {
    "id": "WClw_VPOmwXd"
   },
   "source": [
    "<img src=\"../../Img/backdrop-wh.png\" alt=\"Drawing\" style=\"width: 300px;\"/>\n",
    "\n",
    "# Topic Modeling\n",
    "\n",
    "* * * \n",
    "\n",
    "<div class=\"alert alert-success\">  \n",
    "    \n",
    "### Learning Objectives \n",
    "    \n",
    "* Understand topic modeling and how it can be used to find themes and topics across posts.\n",
    "* Visualize topic models to facilitate exploration.\n",
    "* Evaluate and improve topic models using several methods.\n",
    "* Give names to topics, and use them to classify text.\n",
    "</div>\n",
    "\n",
    "### Icons Used in This Notebook\n",
    "🔔 **Question**: A quick question to help you understand what's going on.<br>\n",
    "💡 **Tip**: How to do something a bit more efficiently or effectively.<br>\n",
    "⚠️ **Warning:** Heads-up about tricky stuff or common mistakes.<br>\n",
    "💭 **Reflection**: Reflecting on ethical implications, biases, and social impact in data science.<br>\n",
    "\n",
    "### Sections\n",
    "1. [Topic Modeling](#topic)\n",
    "2. [Visualizing a Topic Model](#vis)\n",
    "3. [Tweaking the Data](#data)\n",
    "4. [Tweaking Hyperparameters](#hyper)\n",
    "5. [Calculating Topic Coherence](#coh)\n",
    "6. [Changing Amount of Topics](#topics)\n",
    "7. [Using Topic Models](#use)"
   ]
  },
  {
   "cell_type": "markdown",
   "metadata": {
    "id": "m6EAS2bBZWyR"
   },
   "source": [
    "<a id='topic'></a>\n",
    "\n",
    "# Topic modeling\n",
    "\n",
    "This notebook introduces topic modeling. Topic modeling is a type of statistical modeling for the discovery of abstract \"topics\" that occur in a collection of documents. It is frequently used in NLP to aid the discovery of hidden semantic structures in a collection of texts.\n",
    "\n",
    "Before you start, please read [this post](https://tomvannuenen.medium.com/analyzing-reddit-communities-with-python-part-5-topic-modeling-a5b0d119add) for an explainer of how topic modeling (and LDA, which is just one form of topic modeling) works.\n",
    "\n",
    "We'll use the `Gensim` package to create our topic models, which also allows us to run tests to optimize our topic amount."
   ]
  },
  {
   "cell_type": "markdown",
   "metadata": {
    "id": "ib68CU9JeGgc"
   },
   "source": [
    "## Loading the data"
   ]
  },
  {
   "cell_type": "code",
   "execution_count": 75,
   "metadata": {
    "colab": {
     "base_uri": "https://localhost:8080/"
    },
    "executionInfo": {
     "elapsed": 2574,
     "status": "ok",
     "timestamp": 1639939141559,
     "user": {
      "displayName": "Tom van Nuenen",
      "photoUrl": "https://lh3.googleusercontent.com/a-/AOh14GhuBmxDvW5I_LJfZtwlPqMFD8QGLVPP3skvpkTnuQ=s64",
      "userId": "10012302451096885058"
     },
     "user_tz": -60
    },
    "id": "jlWzV3rveIdK",
    "outputId": "f6f0d10b-b6ff-4236-aaa4-6ec1cc29e980"
   },
   "outputs": [],
   "source": [
    "import pandas as pd\n",
    "import numpy as np\n",
    "\n",
    "df = pd.read_csv('../../data/aita_pp.csv')"
   ]
  },
  {
   "cell_type": "markdown",
   "metadata": {},
   "source": [
    "Let's split up the lemmas--we need them split up to use in our topic model. All we need to do is run `.split()` on our \"pp_text\" column to tokenize the data again."
   ]
  },
  {
   "cell_type": "code",
   "execution_count": 2,
   "metadata": {
    "id": "JitcKXJqffVc"
   },
   "outputs": [],
   "source": [
    "lemmas_split = [lemma.split() for lemma in df['pp_text']]"
   ]
  },
  {
   "cell_type": "code",
   "execution_count": 3,
   "metadata": {
    "colab": {
     "base_uri": "https://localhost:8080/",
     "height": 123
    },
    "executionInfo": {
     "elapsed": 12,
     "status": "ok",
     "timestamp": 1639908506458,
     "user": {
      "displayName": "Tom van Nuenen",
      "photoUrl": "https://lh3.googleusercontent.com/a-/AOh14GhuBmxDvW5I_LJfZtwlPqMFD8QGLVPP3skvpkTnuQ=s64",
      "userId": "10012302451096885058"
     },
     "user_tz": -60
    },
    "id": "BBoCdE99fo61",
    "outputId": "881ec95c-f21a-4d8f-87fc-eb10642118ed"
   },
   "outputs": [
    {
     "data": {
      "text/plain": [
       "['girlfriend',\n",
       " 'recently',\n",
       " 'went',\n",
       " 'beach',\n",
       " 'friends',\n",
       " 'tiny',\n",
       " 'bikini',\n",
       " 'basically',\n",
       " 'thong',\n",
       " 'hate']"
      ]
     },
     "execution_count": 3,
     "metadata": {},
     "output_type": "execute_result"
    }
   ],
   "source": [
    "lemmas_split[0][:10]"
   ]
  },
  {
   "cell_type": "markdown",
   "metadata": {
    "id": "BNmgAQEoZWzx"
   },
   "source": [
    "## Creating a `Dictionary` with Gensim\n",
    "\n",
    "Now, let's create our gensim dictionary - a mapping of each word to a unique id – a Document-Term matrix – much like the `CountVectorizer` we saw last week. We'll use gensim's `Dictionary` class for this."
   ]
  },
  {
   "cell_type": "code",
   "execution_count": 4,
   "metadata": {
    "id": "v5U9p6rrZWzy"
   },
   "outputs": [],
   "source": [
    "from gensim import corpora, models, similarities\n",
    "from gensim.models.coherencemodel import CoherenceModel\n",
    "\n",
    "# Create Dictionary \n",
    "dictionary = corpora.Dictionary(lemmas_split)\n",
    "\n",
    "# filter extremes and assign new ids\n",
    "dictionary.filter_extremes(no_below=10, no_above=0.4)\n",
    "dictionary.compactify() \n",
    "\n",
    "# SAVE DICT\n",
    "dictionary.save('../../data/aita_lda.dict')\n",
    "\n",
    "# Create Document-Term Matrix of our whole corpus \n",
    "corpus = [dictionary.doc2bow(text) for text in lemmas_split]"
   ]
  },
  {
   "cell_type": "markdown",
   "metadata": {
    "id": "8U9L6iKDe22R"
   },
   "source": [
    "Topic modeling uses a **bag-of-words** model to represent documents in a corpus. In the bag-of-words model, a document is represented by word counts. Additional information, such as word order, is discarded.\n",
    "\n",
    "Let's view some of the corpus we have now:"
   ]
  },
  {
   "cell_type": "code",
   "execution_count": 5,
   "metadata": {
    "colab": {
     "base_uri": "https://localhost:8080/"
    },
    "executionInfo": {
     "elapsed": 172,
     "status": "ok",
     "timestamp": 1639858040767,
     "user": {
      "displayName": "Tom van Nuenen",
      "photoUrl": "https://lh3.googleusercontent.com/a-/AOh14GhuBmxDvW5I_LJfZtwlPqMFD8QGLVPP3skvpkTnuQ=s64",
      "userId": "10012302451096885058"
     },
     "user_tz": -60
    },
    "id": "1137g7AVdZDG",
    "outputId": "c5bc67b6-c8b9-4e42-ae44-cf9742c9485e"
   },
   "outputs": [
    {
     "data": {
      "text/plain": [
       "[(0, 1),\n",
       " (1, 1),\n",
       " (2, 2),\n",
       " (3, 1),\n",
       " (4, 1),\n",
       " (5, 1),\n",
       " (6, 6),\n",
       " (7, 1),\n",
       " (8, 1),\n",
       " (9, 1)]"
      ]
     },
     "execution_count": 5,
     "metadata": {},
     "output_type": "execute_result"
    }
   ],
   "source": [
    "corpus[0][:10]"
   ]
  },
  {
   "cell_type": "markdown",
   "metadata": {
    "id": "eXRXTfMgZW0A"
   },
   "source": [
    "Observe the first 10 tuples above. Each consists of words with a unique id. This a mapping of (word_id, word_frequency). For example, (0, 1) above demonstrates that word id 0 occurs once in the first document. Word id 6 occurs 6 times, and so on. This is used as the input by the LDA model.\n",
    "\n",
    "If you want to see what word a given id corresponds to, pass the id as a key to the dictionary."
   ]
  },
  {
   "cell_type": "code",
   "execution_count": 6,
   "metadata": {
    "colab": {
     "base_uri": "https://localhost:8080/",
     "height": 35
    },
    "executionInfo": {
     "elapsed": 357,
     "status": "ok",
     "timestamp": 1639822605042,
     "user": {
      "displayName": "Tom van Nuenen",
      "photoUrl": "https://lh3.googleusercontent.com/a-/AOh14GhuBmxDvW5I_LJfZtwlPqMFD8QGLVPP3skvpkTnuQ=s64",
      "userId": "10012302451096885058"
     },
     "user_tz": -60
    },
    "id": "0pKC0MBiZW0A",
    "outputId": "d65a3087-d363-4614-d561-16f65bd6f267"
   },
   "outputs": [
    {
     "data": {
      "text/plain": [
       "'ass'"
      ]
     },
     "execution_count": 6,
     "metadata": {},
     "output_type": "execute_result"
    }
   ],
   "source": [
    "dictionary[6]"
   ]
  },
  {
   "cell_type": "markdown",
   "metadata": {
    "id": "QNr34ffPZW0D"
   },
   "source": [
    "And if you want to see the associated id for some word:"
   ]
  },
  {
   "cell_type": "code",
   "execution_count": 7,
   "metadata": {
    "colab": {
     "base_uri": "https://localhost:8080/"
    },
    "executionInfo": {
     "elapsed": 525,
     "status": "ok",
     "timestamp": 1639779996499,
     "user": {
      "displayName": "Tom van Nuenen",
      "photoUrl": "https://lh3.googleusercontent.com/a-/AOh14GhuBmxDvW5I_LJfZtwlPqMFD8QGLVPP3skvpkTnuQ=s64",
      "userId": "10012302451096885058"
     },
     "user_tz": -60
    },
    "id": "dNhZ-fZ4ZW0D",
    "outputId": "5f3719d7-001b-42f3-8a18-1f7725bd0b24"
   },
   "outputs": [
    {
     "data": {
      "text/plain": [
       "2083"
      ]
     },
     "execution_count": 7,
     "metadata": {},
     "output_type": "execute_result"
    }
   ],
   "source": [
    "dictionary.token2id['father']"
   ]
  },
  {
   "cell_type": "markdown",
   "metadata": {
    "id": "uep-_3ImZW0S"
   },
   "source": [
    "## Running a model\n",
    "\n",
    "Let's run our first Gensim LDA topic model! Check out the comments to learn about the function arguments we're using.\n",
    "\n",
    "Note that topic modeling essentially adds a third latent layer on top of the documents and tokens (which is the representation we saw last week when running SKLearn's `CountVectorizer()`. That third layer consists of topics. Topic modeling assumes that documents are made of topics, and topics is made up of tokens. It also assumes a Dirichlet probability distribution, which encourages docs to only consist of a handful of topics and topics only of a handful of words."
   ]
  },
  {
   "cell_type": "code",
   "execution_count": 51,
   "metadata": {
    "colab": {
     "base_uri": "https://localhost:8080/"
    },
    "executionInfo": {
     "elapsed": 28047,
     "status": "ok",
     "timestamp": 1639913487603,
     "user": {
      "displayName": "Tom van Nuenen",
      "photoUrl": "https://lh3.googleusercontent.com/a-/AOh14GhuBmxDvW5I_LJfZtwlPqMFD8QGLVPP3skvpkTnuQ=s64",
      "userId": "10012302451096885058"
     },
     "user_tz": -60
    },
    "id": "GV46eCt2ydXL",
    "outputId": "5af4d56d-7564-40a8-d4ec-739f9778ce9c"
   },
   "outputs": [
    {
     "name": "stdout",
     "output_type": "stream",
     "text": [
      "CPU times: user 2 µs, sys: 9 µs, total: 11 µs\n",
      "Wall time: 17.9 µs\n"
     ]
    }
   ],
   "source": [
    "from gensim.models.ldamodel import LdaModel\n",
    "\n",
    "%time\n",
    "lda_model = LdaModel(corpus=corpus,   # stream of document vectors or sparse matrix of shape\n",
    "            id2word=dictionary,       # mapping from word IDs to words (for determining vocab size)\n",
    "            num_topics=10,            # amount of topics\n",
    "            random_state=100,         # seed to generate random state; useful for reproducibility\n",
    "            passes=2,                 # amount of iterations/epochs \n",
    "            per_word_topics=False)    # computing most-likely topics for each word "
   ]
  },
  {
   "cell_type": "markdown",
   "metadata": {
    "id": "EAi5A0nFh1NS"
   },
   "source": [
    "The most challenging part about topic modeling is creating a *good*, i.e. interpretable, topic model. This is a heavily iterative process. The first thing we should do is visualize the model."
   ]
  },
  {
   "cell_type": "markdown",
   "metadata": {},
   "source": [
    "<a id='vis'></a>\n",
    "\n",
    "# Visualizing a Topic Model\n",
    "\n",
    "One of the best ways to visualize a topic model is through the pyLDAvis package. `pyLDAvis` was designed to help users interpret the topics in a topic model."
   ]
  },
  {
   "cell_type": "code",
   "execution_count": 52,
   "metadata": {
    "colab": {
     "base_uri": "https://localhost:8080/",
     "height": 992
    },
    "executionInfo": {
     "elapsed": 33843,
     "status": "ok",
     "timestamp": 1639933951198,
     "user": {
      "displayName": "Tom van Nuenen",
      "photoUrl": "https://lh3.googleusercontent.com/a-/AOh14GhuBmxDvW5I_LJfZtwlPqMFD8QGLVPP3skvpkTnuQ=s64",
      "userId": "10012302451096885058"
     },
     "user_tz": -60
    },
    "id": "RiccfvG7IuRZ",
    "outputId": "e02afe24-c09f-4b39-ee1e-5d93d3f0fbfb",
    "tags": []
   },
   "outputs": [],
   "source": [
    "#%pip install pyLDAvis"
   ]
  },
  {
   "cell_type": "markdown",
   "metadata": {
    "id": "JWRO12UXZW0d"
   },
   "source": [
    "PyLDAvis allows us to visualize our topics. A \"good\" topic model produces non-overlapping, fairly large bubbles, which should be scattered throughout the chart instead of being clustered in one quadrant. A model with too many topics will typically have many overlaps, small sized bubbles clustered in one region of the chart."
   ]
  },
  {
   "cell_type": "code",
   "execution_count": 53,
   "metadata": {
    "colab": {
     "base_uri": "https://localhost:8080/",
     "height": 916
    },
    "executionInfo": {
     "elapsed": 10987,
     "status": "ok",
     "timestamp": 1639940889440,
     "user": {
      "displayName": "Tom van Nuenen",
      "photoUrl": "https://lh3.googleusercontent.com/a-/AOh14GhuBmxDvW5I_LJfZtwlPqMFD8QGLVPP3skvpkTnuQ=s64",
      "userId": "10012302451096885058"
     },
     "user_tz": -60
    },
    "id": "Aze6E-0ZZW0e",
    "outputId": "81b759c9-9655-421f-d6e7-0648a7a42802"
   },
   "outputs": [
    {
     "data": {
      "text/html": [
       "\n",
       "<link rel=\"stylesheet\" type=\"text/css\" href=\"https://cdn.jsdelivr.net/gh/bmabey/pyLDAvis@3.4.0/pyLDAvis/js/ldavis.v1.0.0.css\">\n",
       "\n",
       "\n",
       "<div id=\"ldavis_el24566138730969443829209627\" style=\"background-color:white;\"></div>\n",
       "<script type=\"text/javascript\">\n",
       "\n",
       "var ldavis_el24566138730969443829209627_data = {\"mdsDat\": {\"x\": [0.040321451972165585, 0.06122587870993515, -0.10051495212677458, -0.12693461367826475, -0.0017556977970109783, -0.008203280816277869, -0.042553487718304694, 0.17841470145453198], \"y\": [-0.06803865213452137, -0.0020910000004143504, 0.06291694120391882, 0.011151440706605438, 0.09739847392703137, 0.04946499879246392, -0.17239198705046554, 0.02158978455538164], \"topics\": [1, 2, 3, 4, 5, 6, 7, 8], \"cluster\": [1, 1, 1, 1, 1, 1, 1, 1], \"Freq\": [17.174235674656686, 15.799578812015728, 14.230888035730608, 13.816610715776111, 13.315888458121444, 11.229085261426771, 9.267510347551863, 5.166202694720789]}, \"tinfo\": {\"Term\": [\"daughter\", \"son\", \"wife\", \"money\", \"wedding\", \"baby\", \"dog\", \"husband\", \"food\", \"kids\", \"family\", \"dad\", \"sister\", \"mom\", \"cat\", \"pay\", \"eat\", \"$\", \"parents\", \"child\", \"people\", \"mil\", \"pregnant\", \"car\", \"dress\", \"house\", \"brother\", \"hair\", \"dinner\", \"ring\", \"hoa\", \"jen\", \"driveway\", \"windows\", \"parked\", \"ableist\", \"parking_lot\", \"dishwasher\", \"porch\", \"livingroom\", \"bins\", \"errands\", \"ambulance\", \"slacking\", \"10:30\", \"carpet\", \"contractor\", \"footage\", \"wakes\", \"vacuum\", \"sweep\", \"doordash\", \"wipe\", \"usable\", \"menstrual\", \"washes\", \"closes\", \"previous_owner\", \"garage\", \"doorbell\", \"parking\", \"neighbor\", \"keys\", \"migraine\", \"opened_door\", \"neighbors\", \"noise\", \"downstairs\", \"pm\", \"door\", \"lights\", \"toilet\", \"bathroom\", \"neighbours\", \"jeff\", \"chair\", \"cops\", \"yard\", \"bed\", \"wake\", \"cleaning\", \"sleep\", \"drive\", \"upstairs\", \"minutes\", \"clean\", \"laundry\", \"car\", \"morning\", \"room\", \"home\", \"floor\", \"driving\", \"living_room\", \"night\", \"hours\", \"work\", \"house\", \"bedroom\", \"leave\", \"day\", \"phone\", \"hour\", \"went\", \"came\", \"left\", \"outside\", \"apartment\", \"come\", \"away\", \"days\", \"called\", \"started\", \"let\", \"stay\", \"right\", \"need\", \"saying\", \"tell\", \"mom\", \"kate\", \"emily\", \"shaving\", \"hairdresser\", \"tim\", \"airline\", \"curly_hair\", \"bald\", \"shave\", \"congratulated\", \"constructive_criticism\", \"professor\", \"lax\", \"presentation\", \"label\", \"curtains\", \"chloe\", \"ink\", \"writer\", \"guidance_counselor\", \"decor\", \"religions\", \"dairy_free\", \"hospitalized\", \"haircut\", \"realtor\", \"acne\", \"daugher\", \"interviewing\", \"fooling\", \"\\ufe0f\", \"coach\", \"interviews\", \"interview\", \"hair\", \"students\", \"software\", \"campaign\", \"principal\", \"art\", \"perform\", \"class\", \"makeup\", \"team\", \"data\", \"seats\", \"student\", \"hr\", \"company\", \"portfolio\", \"email\", \"coworker\", \"coworkers\", \"teacher\", \"co_worker\", \"department\", \"project\", \"gym\", \"hired\", \"boss\", \"colleagues\", \"reported\", \"employees\", \"people\", \"office\", \"fired\", \"manager\", \"job\", \"work\", \"women\", \"look\", \"school\", \"body\", \"friend\", \"working\", \"good\", \"friends\", \"person\", \"lot\", \"new\", \"feel\", \"pretty\", \"started\", \"saying\", \"comments\", \"way\", \"thing\", \"things\", \"thought\", \"day\", \"bit\", \"getting\", \"different\", \"trying\", \"went\", \"need\", \"wanted\", \"ava\", \"jacob\", \"6f\", \"custody_agreement\", \"tyler\", \"miscarriages\", \"stepkids\", \"dolls\", \"ellie\", \"classist\", \"undermining\", \"maria\", \"f33\", \"diagnosed_adhd\", \"pagan\", \"blended\", \"gender_reveal\", \"apologises\", \"nannies\", \"enrolled\", \"doting\", \"smartphone\", \"neglectful\", \"conversion\", \"grandbaby\", \"coping_mechanism\", \"favoring\", \"independently\", \"nomatter\", \"balloons\", \"daughter\", \"mil\", \"formula\", \"grandson\", \"stepdaughter\", \"inlaws\", \"son\", \"fil\", \"emma\", \"daycare\", \"daughters\", \"lily\", \"bil\", \"stepson\", \"parenting\", \"husband\", \"wife\", \"sons\", \"kids\", \"oldest\", \"dil\", \"youngest\", \"children\", \"sil\", \"child\", \"niece\", \"nephew\", \"year_old\", \"nieces\", \"school\", \"parent\", \"mother\", \"kid\", \"ex\", \"help\", \"custody\", \"father\", \"baby\", \"family\", \"life\", \"years\", \"care\", \"sister\", \"parents\", \"things\", \"wants\", \"having\", \"mom\", \"wanted\", \"year\", \"feel\", \"home\", \"saying\", \"rachel\", \"inheritance\", \"hyphenate\", \"josh\", \"olivia\", \"lisa\", \"charlie\", \"settlement\", \"stepchildren\", \"appreciation\", \"25k\", \"luke\", \"reassure\", \"ios_app&utm_name\", \"35k\", \"dress_shopping\", \"shaky\", \"holiday_season\", \"17th\", \"align\", \"renewed\", \"=_iossmf\", \"lavish\", \"converting\", \"appreciating\", \"11th\", \"jan\", \"estate\", \"100,000\", \"surviving\", \"assets\", \"ski\", \"honeymoon\", \"properties\", \"lucy\", \"sd\", \"beth\", \"mistress\", \"hawaii\", \"propose\", \"wealth\", \"lawsuit\", \"adam\", \"fund\", \"funeral\", \"anna\", \"loans\", \"vacation\", \"travel\", \"retirement\", \"vacations\", \"money\", \"grandparents\", \"child_support\", \"birthday\", \"trip\", \"stepsister\", \"died\", \"dad\", \"college\", \"father\", \"year\", \"years\", \"family\", \"pay\", \"parents\", \"married\", \"brother\", \"marriage\", \"siblings\", \"christmas\", \"financially\", \"relationship\", \"paying\", \"paid\", \"ex\", \"mom\", \"afford\", \"wanted\", \"life\", \"spend\", \"mother\", \"job\", \"house\", \"sister\", \"live\", \"ago\", \"wife\", \"kids\", \"wedding\", \"day\", \"decided\", \"work\", \"home\", \"glitter\", \"moh\", \"liz\", \"susan\", \"jill\", \"bridesmaids\", \"bridesmaid\", \"leo\", \"joe\", \"daniel\", \"dress\", \"maya\", \"noah\", \"nickname\", \"russian\", \"gown\", \"nicknames\", \"asl\", \"themed\", \"doubts\", \"groomsman\", \"lucas\", \"bridezilla\", \"i\\u2018m\", \"seamstress\", \"sparkly\", \"flower_girl\", \"billy\", \"groomsmen\", \"dye\", \"dresses\", \"michael\", \"bride\", \"maid_honor\", \"girly\", \"gay\", \"fianc\\u00e9e\", \"wedding\", \"john\", \"pastor\", \"homophobic\", \"necklace\", \"ss\", \"cousin\", \"reception\", \"groom\", \"party\", \"dance\", \"invite\", \"jack\", \"fiancee\", \"invited\", \"song\", \"fianc\\u00e9\", \"mom\", \"alex\", \"wear\", \"james\", \"dad\", \"aunt\", \"family\", \"friends\", \"brother\", \"names\", \"sister\", \"friend\", \"girlfriend\", \"married\", \"met\", \"people\", \"parents\", \"called\", \"thought\", \"wanted\", \"saying\", \"upset\", \"went\", \"feel\", \"started\", \"came\", \"m\", \"day\", \"getting\", \"tell\", \"years\", \"way\", \"things\", \"amp\", \"ella\", \"pam\", \"jackie\", \"blinds\", \"harry\", \"hannah\", \"bladder\", \"fertility_issues\", \"neighbourhood\", \"samples\", \"tony\", \"annie\", \"setting_boundaries\", \"fireworks\", \"essay\", \"trimester\", \"physically_mentally\", \"pregnancy_test\", \"julie\", \"protests\", \"reset\", \"2yo\", \"bathe\", \"changed_password\", \"disliking\", \"brad\", \"open_forum\", \"\\ud83d\\ude05\", \"separate_rooms\", \"tampon\", \"mission\", \"condoms\", \"matt\", \"grace\", \"henry\", \"abortion\", \"amy\", \"pregnancy\", \"baby\", \"mattress\", \"pregnant\", \"w/\", \"foster\", \"bf\", \"alice\", \"s\", \"adoption\", \"nt\", \"birth_control\", \"mum\", \"sister\", \"babies\", \"l\", \"sex\", \"thank\", \"update\", \"parents\", \"months\", \"house\", \"child\", \"post\", \"room\", \"boyfriend\", \"weeks\", \"comments\", \"m\", \"found\", \"telling\", \"things\", \"having\", \"feel\", \"tell\", \"friends\", \"friend\", \"need\", \"wanted\", \"started\", \"lot\", \"right\", \"saying\", \"way\", \"help\", \"family\", \"vegan\", \"vegetarian\", \"meat\", \"eat_meat\", \"potatoes\", \"chicken\", \"sauce\", \"peppers\", \"pasta\", \"vegetables\", \"leftovers\", \"bacon\", \"salsa\", \"homemade\", \"rice\", \"mashed_potatoes\", \"recipe\", \"recipes\", \"salad\", \"spicy\", \"dairy\", \"steak\", \"mini_fridge\", \"spices\", \"garlic\", \"veggies\", \"chili\", \"stock\", \"wfh\", \"ingredients\", \"dish\", \"cheese\", \"cook\", \"meals\", \"cooking\", \"daisy\", \"cooked\", \"eat\", \"meal\", \"food\", \"cookies\", \"cooks\", \"eating\", \"$\", \"foods\", \"snacks\", \"soup\", \"cake\", \"buy\", \"rent\", \"fridge\", \"ate\", \"buying\", \"diet\", \"groceries\", \"bill\", \"dinner\", \"pay\", \"money\", \"restaurant\", \"dishes\", \"expensive\", \"bought\", \"order\", \"car\", \"gift\", \"month\", \"paid\", \"house\", \"things\", \"making\", \"work\", \"home\", \"wanted\", \"good\", \"job\", \"people\", \"day\", \"lot\", \"went\", \"need\", \"feel\", \"marie\", \"leash\", \"samantha\", \"leah\", \"service_dog\", \"checkup\", \"teddy\", \"vet\", \"amanda\", \"tina\", \"ears_pierced\", \"bark\", \"betty\", \"pup\", \"progressive\", \"aspergers\", \"jerry\", \"rehome\", \"earrings\", \"dog\", \"jennifer\", \"bench\", \"influencer\", \"slang\", \"forest\", \"puppy\", \"breed\", \"golden_retriever\", \"diamonds\", \"peeved\", \"cat\", \"rob\", \"trail\", \"pearl\", \"spanish\", \"breasts\", \"dogs\", \"german\", \"pet\", \"ring\", \"animal\", \"cats\", \"accent\", \"j\", \"pets\", \"animals\", \"diamond\", \"piercings\", \"english\", \"engagement_ring\", \"bar\", \"joke\", \"language\", \"disabled\", \"autistic\", \"park\", \"uncomfortable\", \"people\", \"wearing\", \"little\", \"wear\", \"friends\", \"friend\", \"feel\", \"went\", \"look\", \"bit\", \"getting\", \"pretty\", \"boyfriend\", \"thought\", \"started\", \"thing\", \"way\", \"asshole\", \"trying\", \"point\", \"guy\", \"left\", \"came\"], \"Freq\": [8462.0, 7171.0, 11337.0, 8061.0, 6101.0, 6385.0, 3083.0, 12154.0, 4166.0, 11048.0, 13757.0, 8018.0, 11174.0, 11821.0, 1915.0, 5143.0, 2528.0, 2941.0, 11165.0, 4233.0, 9794.0, 2400.0, 2699.0, 3743.0, 1763.0, 9819.0, 7199.0, 2178.0, 3583.0, 1130.0, 260.7273560373269, 241.9029824017571, 177.85045270032674, 197.7165826237853, 116.20387160528614, 74.80911922981618, 117.12923984805037, 71.78874411281745, 210.48807192909788, 73.40081947141088, 69.99191610767221, 64.15366739375563, 72.8535496681015, 58.534880357192115, 57.488132543341955, 118.29945209134382, 55.6256921704211, 77.59214039297696, 176.99534087490665, 51.96032365123531, 48.650428997478166, 48.27898776447132, 90.89904118025414, 50.45513313419566, 46.83724202437543, 47.257892533214, 46.289437217730935, 45.63350106691688, 212.56295826553432, 73.1045489647334, 166.30300690171467, 570.4695334983115, 199.53921212997747, 94.70303623370964, 110.81363027177564, 619.1531161560704, 395.9296924665209, 247.57664313090632, 749.86332190192, 1276.7010720693047, 207.18859053613093, 270.94093372709085, 1314.6652617192124, 262.7970798673546, 181.2776730339194, 246.56977788526274, 154.58919161238435, 410.21249449198604, 1611.471345343622, 531.3987142695117, 651.4391223682228, 1539.9640129850623, 957.1628401398586, 253.73864607952882, 1263.7414160239928, 978.8456318003489, 307.11646934033365, 2386.939640057058, 1391.7247152863847, 2823.5051854259723, 5220.802666546327, 434.16396503717806, 489.40988757215945, 464.04503749462793, 2186.8370087447493, 1542.857840509068, 3863.6402698064435, 3722.442101361406, 700.8548102083174, 1787.459688600926, 3012.583879976303, 1418.695060733038, 795.1909224021279, 2673.0185648520105, 2032.126310704818, 1896.0354054375166, 840.7679999214367, 839.4986410807043, 1520.2787141888641, 1316.6576362010821, 1271.131036522214, 1497.7287096996838, 1583.5980466392955, 1366.7324481500082, 1069.5139817487113, 1311.1121335904295, 1252.8038740273837, 1374.6273765404733, 1262.5681592256376, 1405.9972364230189, 516.5162258950423, 243.61637641341915, 199.2647252146778, 98.99585625800722, 99.73658313933144, 123.30893342323513, 87.50720181293535, 88.71329823234275, 101.44587090039904, 71.23506342871453, 70.61323624194635, 96.09520705440205, 67.02363553717527, 71.7042384876835, 66.11043230125073, 62.283275760704235, 79.60813285055103, 75.06717222044041, 57.600105352105054, 54.16273563082182, 52.664481761969505, 53.58172392406085, 50.96827484469337, 49.555924267303254, 50.60991147989115, 47.52378626233976, 47.918038226109026, 43.2106291864812, 48.77505675167557, 44.499148114247255, 90.624410525082, 211.8568183477416, 84.76206141480768, 266.59666883193734, 2015.1530011848643, 507.50174861297324, 78.52313317975775, 106.29704744506469, 263.86231581701395, 478.14074439925577, 72.28457534874072, 1110.6297626266605, 407.48283641613796, 489.7510943282278, 154.44736959201532, 305.96584794142495, 433.13505101094097, 435.51679968266933, 1050.4647818637743, 114.74536469988315, 447.08826226221623, 461.3111276494318, 355.5321790398439, 818.4561168848464, 145.23034726632022, 243.57625100119924, 314.7913075381101, 272.69433105767837, 300.56726497643393, 489.1314134552392, 159.89447041128645, 199.85120164943078, 251.02362493055006, 3668.5893546357247, 801.771576739245, 257.4631751526717, 463.9438174423979, 1945.2804715281309, 2859.5340718093853, 628.5581079654278, 1115.3342388781923, 1323.401204938124, 494.5339947541743, 1517.1874211011532, 947.8458566133124, 1350.4605489356618, 1685.9953753442273, 989.0411174568669, 1457.897446292554, 1164.7874191556068, 1628.6004078639785, 1106.9268588800494, 1436.751983232112, 1400.6630616456303, 867.3757529860154, 1235.8101700370885, 1065.5332644359826, 1266.4846573955829, 1067.0761748239229, 1192.5854604233298, 886.6635535630661, 1005.0449260264157, 806.045694244843, 904.8597480850658, 990.3791994886496, 864.0028640106212, 868.0398417507274, 283.8772740454429, 177.72638568609185, 73.84986071796641, 70.03919169700784, 59.8230293606741, 55.55571532104544, 48.94854630099667, 199.8666377719835, 52.148507395277825, 48.70036836882455, 47.751156217662434, 46.573500445712824, 44.65732531767811, 40.319931164392244, 41.442967956407244, 50.22724558624008, 224.81237952590783, 38.09082232419265, 36.40280289160564, 40.92935028240582, 44.10636875437322, 35.80069159293065, 35.16450684392493, 36.058496743011915, 33.512983090717704, 34.02436363053137, 34.97476861524405, 32.35979868752886, 32.463019921845074, 31.2456784405605, 7958.333903240803, 2165.5170829424555, 112.16697407826334, 100.31191785660366, 193.51008719412988, 89.32230122295647, 6274.0039368174275, 387.7511208508839, 243.12344396422435, 244.65186135369558, 735.4056309152121, 104.81512501390655, 711.0125230039531, 148.23273979354417, 227.91561141674862, 8184.232922139581, 7617.560168963468, 348.295477573145, 7161.972558388898, 492.8286235434823, 95.81708338537224, 500.1432068424314, 2083.7303454316184, 1298.816107727075, 2739.150353513954, 737.3131408615922, 542.341946824094, 1352.6636671227218, 324.7592354731134, 2387.61146554168, 650.6332447380141, 2229.7039224637806, 1377.0497551399822, 1360.2512950486655, 1754.5419224647467, 364.1466175941037, 1049.0471823916353, 1517.088450539541, 2292.425359112858, 1236.578751268331, 1745.02426243251, 1129.4322810673802, 1805.7464917698485, 1706.7449267048917, 1389.732363631132, 1003.4709593478563, 1117.5281495711379, 1489.1902218060104, 1305.8909908955238, 1124.8005403821985, 1219.1802364879093, 1162.9498618230477, 1059.9498090107168, 349.60168780495746, 273.9580315231789, 74.77223486677379, 353.01087616269706, 97.36794056869287, 109.91230009894352, 58.855923948663424, 103.64147367936317, 51.91099389453475, 52.49128627822492, 49.73914940116698, 53.70850744736259, 42.46030241051012, 43.22143725659622, 43.0169223401596, 36.410412979044835, 58.737952151928695, 35.16507772015987, 33.900704661075935, 33.544058175190024, 34.69721950946632, 32.868698813463915, 31.829116449399322, 28.793227383546466, 28.798066148519542, 35.53665316042627, 68.02870925292754, 75.41511393542064, 25.72205593375649, 25.55218444467183, 66.09724998873584, 100.71453780427733, 211.65183075859082, 90.96157548348425, 294.9777330589927, 93.41549712321013, 96.79265778211834, 65.40592114957909, 64.89145904295502, 160.51137857097933, 50.224144072498795, 94.9674605477985, 298.5756798412667, 195.2516433431727, 329.88483649509044, 192.18262837185765, 199.10448055654572, 583.5149612274555, 337.24011423004924, 141.97865580377666, 178.23857232102245, 4495.161809694312, 594.3192911115507, 312.94038231066935, 1481.425954359352, 880.3927204364086, 150.0422524109797, 599.8256059769803, 3487.896165823175, 1208.0293526890055, 1446.2092232113596, 2592.953693990782, 3499.430042137177, 4836.101092079002, 2221.6913779487077, 4044.593196233937, 1792.2083317988004, 2698.141850828509, 571.4933480534436, 779.916442443222, 1191.869004727347, 385.75019514206195, 1335.5540118406027, 729.007079553912, 903.8283700671161, 1189.3637979472644, 2887.061718393394, 727.3041892592694, 2222.914908814124, 1427.8441910501747, 894.3630801999998, 1448.6909305881431, 1491.8615352986305, 2033.412596824272, 2172.811341173884, 1324.188678074732, 1160.1433193751714, 1596.6641883299742, 1464.8505685980404, 1197.5741770811153, 1259.7012037699465, 1057.3586332301331, 1116.7872042694573, 1107.8124910693962, 188.260381893678, 249.47251689267955, 149.7083508401407, 131.66289270450025, 119.59282824095934, 268.77440458967686, 339.2941233889124, 106.38379814529152, 281.4709775535787, 97.22091888988375, 1744.196791269438, 76.99192656199416, 75.50575212900654, 120.21621497532568, 82.96109380767169, 144.36706909297507, 78.14363584160559, 66.86311303839223, 61.945420725550896, 58.50721029257192, 59.345998880561226, 59.754552521410474, 83.68425731489353, 53.03289855012134, 47.48610624350447, 47.72761546890365, 46.081367139056496, 47.511512287029866, 48.296957164038574, 52.95568829665375, 363.06692736823175, 123.72814184969344, 349.1310218572828, 74.37182408638863, 83.64508556624976, 542.8014840889758, 486.4129137434927, 4888.949520554177, 639.7841994043013, 123.55182621687878, 251.11323157157202, 262.28643404684175, 136.3055061165217, 1167.5051760658441, 197.22833465927354, 112.47134446803855, 1498.2879798027177, 283.2488275638585, 573.7886636233164, 290.22889106083505, 346.22174121718075, 1071.395152572487, 264.0126765612009, 902.2199308407337, 5014.711839337045, 265.3751862968872, 944.010541806487, 400.1148145905498, 3173.0446530344498, 748.7909994188205, 4585.396316428249, 2731.2751825254045, 2246.246964438118, 613.948771933732, 2645.9151184607263, 1827.9613848801855, 1094.8932753554213, 1293.492330422586, 925.4471014409095, 2004.4322678217875, 2062.2853483995345, 1452.024536731128, 1339.0129813487144, 1601.0994171051007, 1302.5653968979702, 1092.818643756072, 1368.935134064689, 1373.1046502548263, 1299.4862579766311, 1177.525617269126, 1176.9022904042445, 1234.4058700351404, 1095.405210767391, 1060.354398503221, 1095.9698313260083, 1065.791574059512, 1074.3277994172386, 561.9748468210385, 566.2128716720327, 166.36284330856952, 156.9977027293996, 129.25067029141752, 115.65361379088027, 118.10201797087862, 65.82285845094988, 57.72801100638479, 54.46194066006179, 51.005058221400624, 48.79211829822735, 131.91658698580707, 54.67014553137914, 44.20614049982167, 41.83519062355857, 45.779947184085344, 49.1291227743593, 42.637616921758394, 50.74267356335647, 35.41240121372119, 62.55759589697424, 36.312848064571526, 31.649884770489344, 31.543551890335824, 29.673927321008282, 83.2752409654858, 29.04992215753258, 30.630782599972346, 29.031355555298624, 41.04192411358332, 65.03780690065005, 60.528551344164825, 154.06944104534008, 126.58228694539581, 85.17966191141923, 179.1816423694428, 492.22318931463803, 783.0037389997968, 4584.310659249353, 72.64874706076964, 1914.9173419956333, 149.44211798236952, 120.5060224214986, 1430.223238954059, 124.2932198059151, 786.5722193937328, 272.9500626526029, 1246.2439158855318, 72.88588460174282, 728.5419173448577, 3736.650759170878, 256.6136741156777, 241.60056484264226, 267.36844833012805, 845.1879400966336, 575.2904958749942, 2012.370449371843, 989.2929019156494, 1730.0882213776786, 1024.55903862126, 665.1863019454357, 1063.2436371420104, 1008.6414904164433, 721.1470976998165, 730.2234525148036, 1178.2684206526258, 868.9478826063848, 880.8914386588888, 1224.4194438400657, 976.0974985225441, 1251.0843230298465, 1001.4110565140908, 1146.9965863069187, 941.9096492017582, 868.4140472636836, 968.0133435079341, 917.5929646663127, 867.9617989480663, 819.102651916087, 830.6359648550365, 805.5871319556118, 796.1289221581349, 788.7892054910745, 631.1567068366044, 235.32010962613506, 509.481419544043, 136.1391934687892, 141.1149831027695, 210.27636015872406, 140.54541086577257, 109.68204340582639, 104.16730126591864, 109.378524726349, 112.51332088731961, 127.19732721440752, 88.38951457262857, 141.06974399776794, 136.060656001501, 82.84377174076714, 295.83024596225994, 131.67321283309326, 151.63957516071264, 87.65089094325751, 94.42270280836769, 130.2976821304388, 73.75974159891815, 70.43527453771482, 69.5012774998753, 71.4097248594478, 73.22936666539954, 76.11888949458223, 74.92540452196222, 129.83352891312308, 330.4654714218193, 133.17546064986254, 1060.3383340420446, 693.9453940313248, 949.2695692075897, 364.4690637353363, 303.9407841371003, 2332.569778615347, 696.4621644928362, 3728.473697916752, 184.41303287404452, 155.96873131383418, 1069.9118810625791, 2326.3387823929884, 264.90860339205517, 285.5258492953979, 231.34466374898733, 543.8975686851186, 1426.8328001284099, 968.7140984590163, 300.4601112083377, 351.68742129870094, 494.24746046549564, 238.65780317303754, 260.6398176340554, 414.4564890078838, 1684.0935899596248, 2082.8821102016095, 2774.9385096885126, 566.7248877281178, 322.73696558368925, 602.287110069269, 696.1517766124152, 508.4770161727879, 972.930192564717, 576.5849173335884, 876.3424176211419, 627.1873801436594, 1201.0630941490929, 1070.5393236388952, 798.8331637594756, 1066.7497152430826, 1056.4862480612194, 883.5221969256586, 750.5025135623605, 702.0381460948829, 752.5427971979295, 727.237137122615, 691.8047748228734, 645.1537811642993, 635.2045114716992, 633.1035598153176, 249.6389789131549, 134.63089689754167, 128.29064178721683, 157.1364326468401, 81.94663027330776, 64.6159943900783, 67.02048279320415, 332.0298959789202, 189.57635008895107, 60.2373080083862, 64.783731800519, 57.01801066196936, 73.65434307762625, 52.74459236353782, 50.49001242710791, 64.38584074441721, 47.49637581925548, 48.61764814565374, 79.35771367488428, 3021.3296395352504, 50.737069225465035, 77.24833029371953, 41.75324598061464, 41.027651439244714, 39.01559889335291, 184.69348254767078, 45.8702951844941, 35.77210488626478, 84.862852167301, 33.709867165387706, 1830.9146717098022, 158.0755630504589, 84.80890409966608, 213.90540883495038, 194.59119096926295, 108.6958063680942, 813.7113201144152, 139.79882844388905, 267.8576707346915, 962.332333331594, 267.89889664146335, 448.26077873927494, 130.926206308805, 332.24470604820385, 134.0490355642954, 234.05478977401074, 96.79000075161406, 112.32108465798483, 267.1590601818815, 141.81745111980405, 275.31998459606893, 407.2838732588407, 201.2985504355102, 166.3491486033067, 204.03963522716793, 246.4746715640837, 463.6182121181841, 990.4792481786084, 300.74694525141933, 606.9902356394163, 336.39092264748933, 607.0759260625067, 529.0795366919339, 591.5278925479751, 552.2607605404058, 400.1664182222364, 389.9768765707048, 444.3934011127719, 384.94272349002165, 370.767913515288, 386.6218894480715, 400.0950626282875, 368.80839546360187, 381.6814967683659, 366.32300155026104, 342.60809732204626, 325.47107454315693, 309.7666055691235, 329.9207116926046, 324.0464845322686], \"Total\": [8462.0, 7171.0, 11337.0, 8061.0, 6101.0, 6385.0, 3083.0, 12154.0, 4166.0, 11048.0, 13757.0, 8018.0, 11174.0, 11821.0, 1915.0, 5143.0, 2528.0, 2941.0, 11165.0, 4233.0, 9794.0, 2400.0, 2699.0, 3743.0, 1763.0, 9819.0, 7199.0, 2178.0, 3583.0, 1130.0, 261.6384618590162, 242.78947457198007, 179.02679814509858, 199.41650160044824, 117.2447457072721, 75.70692801777354, 118.57033125224956, 72.70578543154639, 213.29910609683634, 74.38245608292617, 70.95492911565537, 65.06054325292473, 73.89059795341082, 59.4549083087795, 58.39521253500813, 120.20337000555917, 56.52570287091921, 78.84980977935155, 179.91314589156977, 52.854547261897594, 49.543906812404096, 49.16592714163709, 92.57120619163398, 51.394390966772235, 47.72491513526316, 48.159892042355665, 47.17631853370952, 46.52093348822006, 216.78043718245513, 74.55679754058927, 169.66294507609155, 589.3903752359446, 205.26159326708665, 96.74363899360056, 113.55307940471813, 649.4772753099538, 416.3335703043288, 259.97699391055255, 812.6575109062528, 1411.6429455945154, 216.78880442794141, 286.4778061348658, 1471.8919877672586, 279.5270197567898, 190.39105654263446, 264.42593010869115, 161.90895408254897, 453.28934303843414, 2001.3215260507516, 610.516128441283, 764.4141389631001, 2024.6180442411041, 1208.4400314531547, 280.0831169837157, 1695.2875041137827, 1276.3281887538526, 347.43309089195645, 3743.587013099187, 2003.3854147733248, 4727.738717457614, 10145.109697036001, 533.1169217706614, 620.6857655328155, 603.8247012462864, 4593.07081889802, 2937.6837331812267, 10248.53571854579, 9819.669673597478, 1062.1840399924474, 3907.401027361943, 8972.011558946046, 3115.9203788787327, 1351.2061033596235, 8751.389540698907, 6277.7835837593, 6106.473836616629, 1618.9636703771725, 1624.057393694044, 5617.774624057916, 4509.648537848033, 4321.748995572496, 6466.9143817467575, 7918.129283855205, 5543.667242148938, 3031.1759488843472, 5819.329035967637, 5248.2917912808925, 7505.12308562008, 5791.17249392108, 11821.111033977308, 517.3724549345768, 244.5884945952801, 200.2899230034531, 99.85464908325702, 100.61004800032305, 124.42695732534142, 88.37008291101365, 89.59927896987497, 102.6078264280673, 72.09631966541859, 71.5019589029994, 97.31714561168637, 67.88624431985647, 72.66646552444588, 67.01228638203312, 63.14109841780944, 80.78324992372373, 76.179516267416, 58.50843454328743, 55.01917565021593, 53.534209759320674, 54.48585005229436, 51.839248411463444, 50.41472381672358, 51.543640094710355, 48.408304273032414, 48.821733472124095, 44.083442529236315, 49.79174926433847, 45.43373461543015, 92.67741971725532, 218.5995364088154, 86.69647770240654, 275.970104869891, 2178.096352815303, 535.8021123588577, 80.45739658204482, 109.90567799252122, 281.0007244816002, 525.29772686656, 74.29302196638035, 1292.178407936374, 455.2481933816035, 553.4103059367815, 164.25545100660707, 341.2644941225952, 498.3556719355272, 501.37631186244795, 1355.2804388563618, 121.16656413431726, 541.8597509782641, 574.7781490449487, 429.46651021333236, 1120.0225250389606, 157.9694632840168, 285.782233720948, 386.77972869321906, 332.0087996176082, 377.036385768948, 678.8295986017648, 178.44906547019923, 235.28914931319693, 313.5747442146889, 9794.45270844412, 1398.0324581018174, 328.4229774274401, 735.1509714867227, 5399.548576277805, 10248.53571854579, 1188.2092238280813, 3296.97928002351, 4571.1738042863335, 886.501389139643, 6239.369695190242, 2865.961044721108, 5520.616749930562, 8533.674794832823, 3214.137764733859, 6861.6654252267535, 4634.054545247227, 8960.42142433332, 4327.828746892691, 7918.129283855205, 7505.12308562008, 2655.8308176979017, 6533.964169473589, 5148.057368196207, 8146.0341673365, 5578.842879611347, 8972.011558946046, 3545.5473776315384, 6195.715708012574, 2866.8419788604683, 4767.577934387312, 8751.389540698907, 5248.2917912808925, 9074.070131400365, 284.77292324632765, 178.62830802892606, 74.74372353633868, 70.96260787319203, 60.71327503977516, 56.48919898118081, 49.838762765151365, 203.57586569196226, 53.1220165058002, 49.61023470318635, 48.648337253347826, 47.46528996466594, 45.56121464558732, 41.227293198087324, 42.38445777034946, 51.377752406194276, 230.1692424428132, 39.017571952888524, 37.29535673733087, 41.961976876384895, 45.222329575906535, 36.70874712195353, 36.06526698542667, 36.985346753630395, 34.405838149877596, 34.933658163692336, 35.93163141133317, 33.251966616420255, 33.38232535929601, 32.14051022651477, 8462.340905691053, 2400.3499875410726, 117.14151798585058, 104.54264575425846, 205.29738120444867, 93.47316913508593, 7171.833016898893, 418.74696484002254, 260.5222480184386, 264.53069154421235, 838.9831837513425, 111.14519786256282, 836.833987900084, 162.2252530394655, 257.6287917668817, 12154.664478050772, 11337.946370577809, 411.88083209642684, 11048.087742436948, 602.8612060620139, 102.97904790199168, 631.7092683617103, 3062.0997210134074, 1822.8397734284013, 4233.290673846356, 993.5797580593998, 741.5432447267385, 2182.463853244951, 416.4139951226926, 4571.1738042863335, 989.3646403634976, 5055.410430272438, 2756.3126122192466, 2910.9269315714946, 5517.769292047877, 534.1760977367818, 2961.673233262454, 6385.798356623571, 13757.452277459215, 4650.737146187907, 9001.589658450386, 4140.34098942897, 11174.031183484647, 11165.025379124412, 8146.0341673365, 3829.427235633114, 5294.865831730296, 11821.111033977308, 9074.070131400365, 6175.413545276742, 8960.42142433332, 10145.109697036001, 7505.12308562008, 350.568657230995, 277.23435041619547, 75.66864209699911, 357.67201614906486, 98.71348670224337, 111.51632044886281, 59.839054597118434, 105.41438427070423, 52.82601383254789, 53.42195306636658, 50.66178461085728, 54.80932928227415, 43.35759557388556, 44.13651193945386, 43.96510854030069, 37.3242196614112, 60.21578094975225, 36.08770596622264, 34.79739739984991, 34.47402333971887, 35.66885928615258, 33.82275882774278, 32.76060813746955, 29.688092206244487, 29.695485274178736, 36.69855875428907, 70.291640306286, 78.00264542311756, 26.63279859696129, 26.46958316843709, 68.74458372580698, 105.2955779030093, 225.35247661201691, 95.26331127525053, 317.3519987283171, 98.31874883036282, 102.69572139794869, 68.72605278373484, 68.35537433625367, 177.45940529988934, 52.414488345549245, 103.1660193110802, 360.98390388244394, 227.6558397991643, 404.87776725695994, 224.771609228605, 234.10412637556172, 768.5497505483186, 421.08510226589055, 161.7318709416198, 209.77383792086115, 8061.4819963838845, 827.2864543332286, 406.4934230829374, 2444.154415997607, 1364.8410700603456, 176.65156387428254, 940.5883922217093, 8018.2148662257, 2256.660812305457, 2961.673233262454, 6175.413545276742, 9001.589658450386, 13757.452277459215, 5143.456953710146, 11165.025379124412, 3965.892461366975, 7199.207596330731, 956.0955616592241, 1445.9324422070072, 2559.721841073421, 580.0763657117078, 3272.4369977084166, 1416.323017976266, 1923.1072526978269, 2910.9269315714946, 11821.111033977308, 1421.7805917885917, 9074.070131400365, 4650.737146187907, 2109.6563285908837, 5055.410430272438, 5399.548576277805, 9819.669673597478, 11174.031183484647, 4415.282947805766, 4208.5400223908555, 11337.946370577809, 11048.087742436948, 6101.494004327435, 8972.011558946046, 4461.3562002477365, 10248.53571854579, 10145.109697036001, 189.14942996379165, 250.87501023219139, 150.60950037138554, 132.54175371008836, 120.53216383473757, 270.90149755540017, 342.0574020923321, 107.27080763172472, 283.92433379958123, 98.10201883465169, 1763.675098444799, 77.8715676468655, 76.40717865903385, 121.68876445583227, 83.99250802243169, 146.17081977966222, 79.1337587458466, 67.74686224807931, 62.82479521861996, 59.38730744109435, 60.279374048683216, 60.708985865488636, 85.0476738313573, 53.91578019645285, 48.365973324593625, 48.62394810915737, 46.9774913656214, 48.447655463199226, 49.257769544577755, 54.02395257514465, 370.53662776218937, 126.36185555314795, 360.8278822671411, 75.9471304927718, 85.53545342494377, 579.0193763049654, 529.0179684742852, 6101.494004327435, 725.5699749163638, 129.85601119046257, 274.9997416079861, 288.0394551013435, 144.27584551283857, 1440.6757992995717, 217.99083852096777, 118.69377773793342, 2226.697054282345, 337.3168720994966, 752.436518495848, 347.7986246691873, 427.18129902683137, 1610.8157712524128, 316.7926573944827, 1395.0593864612617, 11821.111033977308, 322.16653425188485, 1565.6749562578027, 546.4896504449285, 8018.2148662257, 1245.153080048956, 13757.452277459215, 8533.674794832823, 7199.207596330731, 1091.5443965045442, 11174.031183484647, 6239.369695190242, 2855.077619006052, 3965.892461366975, 2386.125583516301, 9794.45270844412, 11165.025379124412, 6466.9143817467575, 5578.842879611347, 9074.070131400365, 7505.12308562008, 5081.183178456488, 8751.389540698907, 8960.42142433332, 7918.129283855205, 6277.7835837593, 6281.056090747634, 8972.011558946046, 6195.715708012574, 5791.17249392108, 9001.589658450386, 6533.964169473589, 8146.0341673365, 563.0000043506024, 568.2721879310282, 167.23196912528954, 157.88823494380233, 130.12186523666077, 116.6343905506233, 119.54948541702903, 66.6915781611866, 58.621211005128224, 55.32384091472073, 51.87570270511034, 49.698172317480974, 134.5032868733577, 55.76099772030479, 45.12766511039844, 42.71284342976815, 46.75096496370859, 50.19512850255565, 43.59317764687255, 51.94413735360777, 36.27869235382163, 64.23387276798947, 37.30346141022464, 32.518787977090376, 32.44390464913406, 30.535663808538963, 85.73197693338713, 29.907639465234805, 31.537923019654034, 29.907499295279187, 42.329182843103816, 67.43300509258444, 62.73717058792651, 162.08444454880274, 132.9203918330316, 88.72755540800078, 191.92439014572335, 561.6041730793371, 915.908772922567, 6385.798356623571, 76.8806201510008, 2699.92309553754, 171.35227441188994, 135.8499100268743, 2222.603113907797, 143.31965039967784, 1177.3163483782364, 351.25358783521193, 2439.0085918148866, 78.90461943195697, 1353.7445077477073, 11174.031183484647, 379.013700832142, 351.4561855477851, 458.53825959535567, 2288.0159435018486, 1454.1597559159375, 11165.025379124412, 3837.8334307229916, 9819.669673597478, 4233.290673846356, 2124.669772830161, 4727.738717457614, 4343.709981382818, 2476.6471483539435, 2655.8308176979017, 6281.056090747634, 3684.027199577694, 4051.9644155022715, 8146.0341673365, 5294.865831730296, 8960.42142433332, 5791.17249392108, 8533.674794832823, 6239.369695190242, 5248.2917912808925, 9074.070131400365, 7918.129283855205, 6861.6654252267535, 5819.329035967637, 7505.12308562008, 6533.964169473589, 5517.769292047877, 13757.452277459215, 632.8634387521776, 236.3577686784546, 512.0130944729109, 137.05089407137768, 142.14544026730232, 211.96645400128534, 141.8561704314215, 110.7070582413274, 105.16426321384903, 110.45166305773749, 113.62519690769889, 128.48720214515362, 89.28738101717448, 142.52738780284398, 137.4907763495768, 83.73981485902905, 299.11345568340676, 133.15051750373158, 153.35737059386975, 88.66320252488667, 95.51463681069092, 131.81802968545747, 74.65583085518654, 71.32678006091761, 70.39214740129935, 72.3553877330336, 74.24056637182048, 77.17325320112576, 75.99388661816188, 131.7371623672688, 336.5283959837969, 135.47328011704414, 1102.3592603548916, 720.9883922256838, 997.9011029260265, 377.39448567600573, 313.7525349540706, 2528.7663962452443, 737.5448238859033, 4166.442886963061, 189.9230180211888, 160.01533524250104, 1241.499350291235, 2941.885243049108, 287.5749568772844, 312.6454907648588, 250.20075416941484, 647.3922035667505, 1994.9560534390898, 1449.5136936893311, 359.0339061529527, 436.37164238879944, 667.1986820643936, 271.85427077127173, 306.5880175320126, 564.4622497208088, 3583.5308879455456, 5143.456953710146, 8061.4819963838845, 975.4367571569334, 426.6741673881274, 1235.179807765259, 1760.8674803522845, 1029.5468855752208, 3743.587013099187, 1358.052581832386, 3432.9053269297883, 1923.1072526978269, 9819.669673597478, 8146.0341673365, 4116.821434049129, 10248.53571854579, 10145.109697036001, 9074.070131400365, 5520.616749930562, 5399.548576277805, 9794.45270844412, 8972.011558946046, 6861.6654252267535, 8751.389540698907, 5248.2917912808925, 8960.42142433332, 250.51397617054457, 135.543911067705, 129.16496665307656, 158.32651483571854, 82.81688535464608, 65.49382771804694, 67.93162224858779, 336.9438896095378, 192.42769828673104, 61.14751650726314, 65.77208132647428, 57.88830320888592, 74.8166560607066, 53.635634777604686, 51.36916420872297, 65.53938001731079, 48.373100430863545, 49.54200220364452, 80.90266918122964, 3083.17735826073, 51.803658072418976, 78.88613689042934, 42.63906511729331, 41.90350021705264, 39.88876852061078, 188.8499504969933, 46.91691901330869, 36.64669268948904, 87.0205189476393, 34.58673929490225, 1915.3833655781286, 162.33676635424243, 87.28764748757195, 222.91200072878158, 203.811542027007, 112.89634805375579, 893.4928256226173, 146.78677134791522, 289.46035824316425, 1130.6817210369065, 296.8614335209639, 524.225209615559, 140.33210002079, 404.3042846366115, 149.39023340168188, 288.78091176999703, 106.66966641751897, 130.13105576198313, 435.55516951069865, 197.61960292361016, 568.8648973589072, 1072.09787033045, 363.24857128655475, 267.0498631866261, 381.69028654221484, 549.9187145471653, 1902.9904270162854, 9794.45270844412, 883.3840942039399, 5195.116463048825, 1565.6749562578027, 8533.674794832823, 6239.369695190242, 8960.42142433332, 8751.389540698907, 3296.97928002351, 3545.5473776315384, 6195.715708012574, 4327.828746892691, 4343.709981382818, 5578.842879611347, 7918.129283855205, 5148.057368196207, 6533.964169473589, 4993.668935838583, 4767.577934387312, 3850.2958483089606, 2157.5113773090125, 6106.473836616629, 6277.7835837593], \"Category\": [\"Default\", \"Default\", \"Default\", \"Default\", \"Default\", \"Default\", \"Default\", \"Default\", \"Default\", \"Default\", \"Default\", \"Default\", \"Default\", \"Default\", \"Default\", \"Default\", \"Default\", \"Default\", \"Default\", \"Default\", \"Default\", \"Default\", \"Default\", \"Default\", \"Default\", \"Default\", \"Default\", \"Default\", \"Default\", \"Default\", \"Topic1\", \"Topic1\", \"Topic1\", \"Topic1\", \"Topic1\", \"Topic1\", \"Topic1\", \"Topic1\", \"Topic1\", \"Topic1\", \"Topic1\", \"Topic1\", \"Topic1\", \"Topic1\", \"Topic1\", \"Topic1\", \"Topic1\", \"Topic1\", \"Topic1\", \"Topic1\", \"Topic1\", \"Topic1\", \"Topic1\", \"Topic1\", \"Topic1\", \"Topic1\", \"Topic1\", \"Topic1\", \"Topic1\", \"Topic1\", \"Topic1\", \"Topic1\", \"Topic1\", \"Topic1\", \"Topic1\", \"Topic1\", \"Topic1\", \"Topic1\", \"Topic1\", \"Topic1\", \"Topic1\", \"Topic1\", \"Topic1\", \"Topic1\", \"Topic1\", \"Topic1\", \"Topic1\", \"Topic1\", \"Topic1\", \"Topic1\", \"Topic1\", \"Topic1\", \"Topic1\", \"Topic1\", \"Topic1\", \"Topic1\", \"Topic1\", \"Topic1\", \"Topic1\", \"Topic1\", \"Topic1\", \"Topic1\", \"Topic1\", \"Topic1\", \"Topic1\", \"Topic1\", \"Topic1\", \"Topic1\", \"Topic1\", \"Topic1\", \"Topic1\", \"Topic1\", \"Topic1\", \"Topic1\", \"Topic1\", \"Topic1\", \"Topic1\", \"Topic1\", \"Topic1\", \"Topic1\", \"Topic1\", \"Topic1\", \"Topic1\", \"Topic1\", \"Topic1\", \"Topic1\", \"Topic1\", \"Topic1\", \"Topic1\", \"Topic1\", \"Topic2\", \"Topic2\", \"Topic2\", \"Topic2\", \"Topic2\", \"Topic2\", \"Topic2\", \"Topic2\", \"Topic2\", \"Topic2\", \"Topic2\", \"Topic2\", \"Topic2\", \"Topic2\", \"Topic2\", \"Topic2\", \"Topic2\", \"Topic2\", \"Topic2\", \"Topic2\", \"Topic2\", \"Topic2\", \"Topic2\", \"Topic2\", \"Topic2\", \"Topic2\", \"Topic2\", \"Topic2\", \"Topic2\", \"Topic2\", \"Topic2\", \"Topic2\", \"Topic2\", \"Topic2\", \"Topic2\", \"Topic2\", \"Topic2\", \"Topic2\", \"Topic2\", \"Topic2\", \"Topic2\", \"Topic2\", \"Topic2\", \"Topic2\", \"Topic2\", \"Topic2\", \"Topic2\", \"Topic2\", \"Topic2\", \"Topic2\", \"Topic2\", \"Topic2\", \"Topic2\", \"Topic2\", \"Topic2\", \"Topic2\", \"Topic2\", \"Topic2\", \"Topic2\", \"Topic2\", \"Topic2\", \"Topic2\", \"Topic2\", \"Topic2\", \"Topic2\", \"Topic2\", \"Topic2\", \"Topic2\", \"Topic2\", \"Topic2\", \"Topic2\", \"Topic2\", \"Topic2\", \"Topic2\", \"Topic2\", \"Topic2\", \"Topic2\", \"Topic2\", \"Topic2\", \"Topic2\", \"Topic2\", \"Topic2\", \"Topic2\", \"Topic2\", \"Topic2\", \"Topic2\", \"Topic2\", \"Topic2\", \"Topic2\", \"Topic2\", \"Topic2\", \"Topic2\", \"Topic2\", \"Topic2\", \"Topic2\", \"Topic2\", \"Topic2\", \"Topic3\", \"Topic3\", \"Topic3\", \"Topic3\", \"Topic3\", \"Topic3\", \"Topic3\", \"Topic3\", \"Topic3\", \"Topic3\", \"Topic3\", \"Topic3\", \"Topic3\", \"Topic3\", \"Topic3\", \"Topic3\", \"Topic3\", \"Topic3\", \"Topic3\", \"Topic3\", \"Topic3\", \"Topic3\", \"Topic3\", \"Topic3\", \"Topic3\", \"Topic3\", \"Topic3\", \"Topic3\", \"Topic3\", \"Topic3\", \"Topic3\", \"Topic3\", \"Topic3\", \"Topic3\", \"Topic3\", \"Topic3\", \"Topic3\", \"Topic3\", \"Topic3\", \"Topic3\", \"Topic3\", \"Topic3\", \"Topic3\", \"Topic3\", \"Topic3\", \"Topic3\", \"Topic3\", \"Topic3\", \"Topic3\", \"Topic3\", \"Topic3\", \"Topic3\", \"Topic3\", \"Topic3\", \"Topic3\", \"Topic3\", \"Topic3\", \"Topic3\", \"Topic3\", \"Topic3\", \"Topic3\", \"Topic3\", \"Topic3\", \"Topic3\", \"Topic3\", \"Topic3\", \"Topic3\", \"Topic3\", \"Topic3\", \"Topic3\", \"Topic3\", \"Topic3\", \"Topic3\", \"Topic3\", \"Topic3\", \"Topic3\", \"Topic3\", \"Topic3\", \"Topic3\", \"Topic3\", \"Topic3\", \"Topic3\", \"Topic3\", \"Topic4\", \"Topic4\", \"Topic4\", \"Topic4\", \"Topic4\", \"Topic4\", \"Topic4\", \"Topic4\", \"Topic4\", \"Topic4\", \"Topic4\", \"Topic4\", \"Topic4\", \"Topic4\", \"Topic4\", \"Topic4\", \"Topic4\", \"Topic4\", \"Topic4\", \"Topic4\", \"Topic4\", \"Topic4\", \"Topic4\", \"Topic4\", \"Topic4\", \"Topic4\", \"Topic4\", \"Topic4\", \"Topic4\", \"Topic4\", \"Topic4\", \"Topic4\", \"Topic4\", \"Topic4\", \"Topic4\", \"Topic4\", \"Topic4\", \"Topic4\", \"Topic4\", \"Topic4\", \"Topic4\", \"Topic4\", \"Topic4\", \"Topic4\", \"Topic4\", \"Topic4\", \"Topic4\", \"Topic4\", \"Topic4\", \"Topic4\", \"Topic4\", \"Topic4\", \"Topic4\", \"Topic4\", \"Topic4\", \"Topic4\", \"Topic4\", \"Topic4\", \"Topic4\", \"Topic4\", \"Topic4\", \"Topic4\", \"Topic4\", \"Topic4\", \"Topic4\", \"Topic4\", \"Topic4\", \"Topic4\", \"Topic4\", \"Topic4\", \"Topic4\", \"Topic4\", \"Topic4\", \"Topic4\", \"Topic4\", \"Topic4\", \"Topic4\", \"Topic4\", \"Topic4\", \"Topic4\", \"Topic4\", \"Topic4\", \"Topic4\", \"Topic4\", \"Topic4\", \"Topic4\", \"Topic4\", \"Topic4\", \"Topic4\", \"Topic4\", \"Topic4\", \"Topic4\", \"Topic4\", \"Topic4\", \"Topic5\", \"Topic5\", \"Topic5\", \"Topic5\", \"Topic5\", \"Topic5\", \"Topic5\", \"Topic5\", \"Topic5\", \"Topic5\", \"Topic5\", \"Topic5\", \"Topic5\", \"Topic5\", \"Topic5\", \"Topic5\", \"Topic5\", \"Topic5\", \"Topic5\", \"Topic5\", \"Topic5\", \"Topic5\", \"Topic5\", \"Topic5\", \"Topic5\", \"Topic5\", \"Topic5\", \"Topic5\", \"Topic5\", \"Topic5\", \"Topic5\", \"Topic5\", \"Topic5\", \"Topic5\", \"Topic5\", \"Topic5\", \"Topic5\", \"Topic5\", \"Topic5\", \"Topic5\", \"Topic5\", \"Topic5\", \"Topic5\", \"Topic5\", \"Topic5\", \"Topic5\", \"Topic5\", \"Topic5\", \"Topic5\", \"Topic5\", \"Topic5\", \"Topic5\", \"Topic5\", \"Topic5\", \"Topic5\", \"Topic5\", \"Topic5\", \"Topic5\", \"Topic5\", \"Topic5\", \"Topic5\", \"Topic5\", \"Topic5\", \"Topic5\", \"Topic5\", \"Topic5\", \"Topic5\", \"Topic5\", \"Topic5\", \"Topic5\", \"Topic5\", \"Topic5\", \"Topic5\", \"Topic5\", \"Topic5\", \"Topic5\", \"Topic5\", \"Topic5\", \"Topic5\", \"Topic5\", \"Topic5\", \"Topic5\", \"Topic5\", \"Topic5\", \"Topic5\", \"Topic5\", \"Topic5\", \"Topic6\", \"Topic6\", \"Topic6\", \"Topic6\", \"Topic6\", \"Topic6\", \"Topic6\", \"Topic6\", \"Topic6\", \"Topic6\", \"Topic6\", \"Topic6\", \"Topic6\", \"Topic6\", \"Topic6\", \"Topic6\", \"Topic6\", \"Topic6\", \"Topic6\", \"Topic6\", \"Topic6\", \"Topic6\", \"Topic6\", \"Topic6\", \"Topic6\", \"Topic6\", \"Topic6\", \"Topic6\", \"Topic6\", \"Topic6\", \"Topic6\", \"Topic6\", \"Topic6\", \"Topic6\", \"Topic6\", \"Topic6\", \"Topic6\", \"Topic6\", \"Topic6\", \"Topic6\", \"Topic6\", \"Topic6\", \"Topic6\", \"Topic6\", \"Topic6\", \"Topic6\", \"Topic6\", \"Topic6\", \"Topic6\", \"Topic6\", \"Topic6\", \"Topic6\", \"Topic6\", \"Topic6\", \"Topic6\", \"Topic6\", \"Topic6\", \"Topic6\", \"Topic6\", \"Topic6\", \"Topic6\", \"Topic6\", \"Topic6\", \"Topic6\", \"Topic6\", \"Topic6\", \"Topic6\", \"Topic6\", \"Topic6\", \"Topic6\", \"Topic6\", \"Topic6\", \"Topic6\", \"Topic6\", \"Topic6\", \"Topic6\", \"Topic6\", \"Topic6\", \"Topic6\", \"Topic6\", \"Topic6\", \"Topic6\", \"Topic6\", \"Topic6\", \"Topic7\", \"Topic7\", \"Topic7\", \"Topic7\", \"Topic7\", \"Topic7\", \"Topic7\", \"Topic7\", \"Topic7\", \"Topic7\", \"Topic7\", \"Topic7\", \"Topic7\", \"Topic7\", \"Topic7\", \"Topic7\", \"Topic7\", \"Topic7\", \"Topic7\", \"Topic7\", \"Topic7\", \"Topic7\", \"Topic7\", \"Topic7\", \"Topic7\", \"Topic7\", \"Topic7\", \"Topic7\", \"Topic7\", \"Topic7\", \"Topic7\", \"Topic7\", \"Topic7\", \"Topic7\", \"Topic7\", \"Topic7\", \"Topic7\", \"Topic7\", \"Topic7\", \"Topic7\", \"Topic7\", \"Topic7\", \"Topic7\", \"Topic7\", \"Topic7\", \"Topic7\", \"Topic7\", \"Topic7\", \"Topic7\", \"Topic7\", \"Topic7\", \"Topic7\", \"Topic7\", \"Topic7\", \"Topic7\", \"Topic7\", \"Topic7\", \"Topic7\", \"Topic7\", \"Topic7\", \"Topic7\", \"Topic7\", \"Topic7\", \"Topic7\", \"Topic7\", \"Topic7\", \"Topic7\", \"Topic7\", \"Topic7\", \"Topic7\", \"Topic7\", \"Topic7\", \"Topic7\", \"Topic7\", \"Topic7\", \"Topic7\", \"Topic7\", \"Topic7\", \"Topic7\", \"Topic7\", \"Topic7\", \"Topic7\", \"Topic8\", \"Topic8\", \"Topic8\", \"Topic8\", \"Topic8\", \"Topic8\", \"Topic8\", \"Topic8\", \"Topic8\", \"Topic8\", \"Topic8\", \"Topic8\", \"Topic8\", \"Topic8\", \"Topic8\", \"Topic8\", \"Topic8\", \"Topic8\", \"Topic8\", \"Topic8\", \"Topic8\", \"Topic8\", \"Topic8\", \"Topic8\", \"Topic8\", \"Topic8\", \"Topic8\", \"Topic8\", \"Topic8\", \"Topic8\", \"Topic8\", \"Topic8\", \"Topic8\", \"Topic8\", \"Topic8\", \"Topic8\", \"Topic8\", \"Topic8\", \"Topic8\", \"Topic8\", \"Topic8\", \"Topic8\", \"Topic8\", \"Topic8\", \"Topic8\", \"Topic8\", \"Topic8\", \"Topic8\", \"Topic8\", \"Topic8\", \"Topic8\", \"Topic8\", \"Topic8\", \"Topic8\", \"Topic8\", \"Topic8\", \"Topic8\", \"Topic8\", \"Topic8\", \"Topic8\", \"Topic8\", \"Topic8\", \"Topic8\", \"Topic8\", \"Topic8\", \"Topic8\", \"Topic8\", \"Topic8\", \"Topic8\", \"Topic8\", \"Topic8\", \"Topic8\", \"Topic8\", \"Topic8\", \"Topic8\", \"Topic8\", \"Topic8\", \"Topic8\", \"Topic8\", \"Topic8\"], \"logprob\": [30.0, 29.0, 28.0, 27.0, 26.0, 25.0, 24.0, 23.0, 22.0, 21.0, 20.0, 19.0, 18.0, 17.0, 16.0, 15.0, 14.0, 13.0, 12.0, 11.0, 10.0, 9.0, 8.0, 7.0, 6.0, 5.0, 4.0, 3.0, 2.0, 1.0, -7.2819, -7.3568, -7.6644, -7.5585, -8.09, -8.5304, -8.0821, -8.5716, -7.4959, -8.5494, -8.597, -8.6841, -8.5569, -8.7757, -8.7938, -8.0721, -8.8267, -8.4939, -7.6692, -8.8949, -8.9607, -8.9684, -8.3356, -8.9243, -8.9987, -8.9897, -9.0104, -9.0247, -7.4861, -8.5535, -7.7315, -6.4989, -7.5493, -8.2946, -8.1375, -6.417, -6.8641, -7.3336, -6.2255, -5.6933, -7.5117, -7.2434, -5.664, -7.274, -7.6453, -7.3377, -7.8046, -6.8287, -5.4604, -6.5698, -6.3662, -5.5058, -5.9814, -7.309, -5.7035, -5.959, -7.1181, -5.0676, -5.6071, -4.8996, -4.2849, -6.7719, -6.6521, -6.7054, -5.1551, -5.504, -4.586, -4.6232, -6.293, -5.3568, -4.8348, -5.5879, -6.1668, -4.9544, -5.2285, -5.2978, -6.111, -6.1125, -5.5187, -5.6625, -5.6977, -5.5336, -5.4779, -5.6252, -5.8704, -5.6667, -5.7122, -5.6194, -5.7044, -5.5968, -6.5148, -7.2663, -7.4673, -8.1668, -8.1594, -7.9472, -8.2902, -8.2765, -8.1424, -8.4959, -8.5047, -8.1966, -8.5569, -8.4894, -8.5706, -8.6302, -8.3848, -8.4435, -8.7084, -8.7699, -8.798, -8.7807, -8.8307, -8.8588, -8.8378, -8.9007, -8.8924, -8.9958, -8.8747, -8.9665, -8.2552, -7.406, -8.3221, -7.1762, -5.1535, -6.5324, -8.3985, -8.0957, -7.1865, -6.592, -8.4813, -5.7492, -6.7519, -6.568, -7.7221, -7.0384, -6.6909, -6.6854, -5.8049, -8.0192, -6.6592, -6.6279, -6.8883, -6.0545, -7.7836, -7.2665, -7.01, -7.1536, -7.0563, -6.5693, -7.6874, -7.4643, -7.2364, -4.5544, -6.0751, -7.211, -6.6222, -5.1888, -4.8035, -6.3185, -5.745, -5.574, -6.5583, -5.4373, -5.9077, -5.5537, -5.3318, -5.8652, -5.4772, -5.7016, -5.3664, -5.7526, -5.4918, -5.5172, -5.9965, -5.6424, -5.7907, -5.6179, -5.7892, -5.678, -5.9745, -5.8491, -6.0698, -5.9541, -5.8638, -6.0003, -5.9957, -7.0088, -7.4771, -8.3553, -8.4083, -8.566, -8.64, -8.7666, -7.3597, -8.7033, -8.7717, -8.7914, -8.8163, -8.8583, -8.9605, -8.933, -8.7408, -7.2421, -9.0174, -9.0627, -8.9455, -8.8708, -9.0794, -9.0973, -9.0722, -9.1454, -9.1303, -9.1027, -9.1804, -9.1773, -9.2155, -3.6754, -4.9769, -7.9374, -8.0491, -7.392, -8.1651, -3.9132, -6.697, -7.1638, -7.1575, -6.0569, -8.0052, -6.0907, -7.6586, -7.2284, -3.6474, -3.7191, -6.8043, -3.7808, -6.4572, -8.0949, -6.4425, -5.0154, -5.4881, -4.742, -6.0543, -6.3615, -5.4475, -6.8743, -4.8793, -6.1794, -4.9477, -5.4297, -5.4419, -5.1874, -6.7598, -5.7017, -5.3328, -4.92, -5.5373, -5.1928, -5.6279, -5.1586, -5.215, -5.4205, -5.7461, -5.6385, -5.3514, -5.4827, -5.632, -5.5514, -5.5986, -5.6914, -6.771, -7.0148, -8.3134, -6.7613, -8.0493, -7.9281, -8.5527, -7.9869, -8.6783, -8.6672, -8.721, -8.6442, -8.8792, -8.8615, -8.8662, -9.033, -8.5547, -9.0678, -9.1044, -9.115, -9.0812, -9.1353, -9.1674, -9.2677, -9.2675, -9.0572, -8.4079, -8.3048, -9.3805, -9.3871, -8.4367, -8.0155, -7.2729, -8.1174, -6.9409, -8.0908, -8.0552, -8.4472, -8.4551, -7.5494, -8.7113, -8.0743, -6.9288, -7.3535, -6.8291, -7.3694, -7.334, -6.2587, -6.807, -7.6721, -7.4447, -4.2171, -6.2404, -6.8818, -5.3271, -5.8474, -7.6169, -6.2312, -4.4708, -5.5311, -5.3511, -4.7673, -4.4675, -4.1439, -4.9218, -4.3227, -5.1366, -4.7275, -6.2796, -5.9686, -5.5445, -6.6726, -5.4307, -6.0361, -5.8212, -5.5466, -4.6598, -6.0385, -4.9212, -5.3639, -5.8317, -5.3494, -5.32, -5.0103, -4.944, -5.4393, -5.5715, -5.2521, -5.3383, -5.5398, -5.4892, -5.6643, -5.6096, -5.6177, -7.3531, -7.0715, -7.5822, -7.7107, -7.8068, -6.997, -6.764, -7.9238, -6.9509, -8.0139, -5.1268, -8.2472, -8.2667, -7.8016, -8.1725, -7.6185, -8.2323, -8.3883, -8.4646, -8.5217, -8.5075, -8.5007, -8.1638, -8.62, -8.7305, -8.7254, -8.7605, -8.7299, -8.7135, -8.6214, -6.6963, -7.7728, -6.7355, -8.2818, -8.1643, -6.2942, -6.4038, -4.0962, -6.1298, -7.7742, -7.065, -7.0215, -7.676, -5.5283, -7.3065, -7.8682, -5.2788, -6.9446, -6.2386, -6.9202, -6.7438, -5.6142, -7.0149, -5.786, -4.0708, -7.0098, -5.7408, -6.5991, -4.5285, -5.9724, -4.1603, -4.6784, -4.8739, -6.171, -4.7101, -5.0799, -5.5925, -5.4258, -5.7606, -4.9878, -4.9593, -5.3102, -5.3912, -5.2125, -5.4188, -5.5944, -5.3691, -5.3661, -5.4212, -5.5197, -5.5203, -5.4726, -5.592, -5.6245, -5.5915, -5.6194, -5.6114, -6.089, -6.0815, -7.3063, -7.3642, -7.5587, -7.6698, -7.6489, -8.2335, -8.3647, -8.4229, -8.4885, -8.5329, -7.5383, -8.4191, -8.6316, -8.6867, -8.5966, -8.526, -8.6677, -8.4937, -8.8534, -8.2844, -8.8283, -8.9657, -8.9691, -9.0302, -7.9983, -9.0514, -8.9984, -9.0521, -8.7059, -8.2455, -8.3173, -7.383, -7.5796, -7.9757, -7.232, -6.2215, -5.7573, -3.9901, -8.1348, -4.863, -7.4135, -7.6287, -5.1549, -7.5978, -5.7528, -6.8112, -5.2926, -8.1316, -5.8294, -4.1945, -6.8729, -6.9332, -6.8318, -5.6809, -6.0656, -4.8134, -5.5235, -4.9645, -5.4884, -5.9204, -5.4514, -5.5041, -5.8396, -5.8271, -5.3486, -5.6532, -5.6395, -5.3102, -5.5369, -5.2887, -5.5113, -5.3755, -5.5725, -5.6538, -5.5452, -5.5987, -5.6543, -5.7122, -5.6983, -5.7289, -5.7407, -5.7499, -5.7809, -6.7675, -5.9951, -7.3148, -7.2789, -6.88, -7.2829, -7.5309, -7.5825, -7.5336, -7.5054, -7.3827, -7.7467, -7.2792, -7.3154, -7.8115, -6.5387, -7.3481, -7.2069, -7.7551, -7.6807, -7.3586, -7.9276, -7.9738, -7.9871, -7.96, -7.9349, -7.8962, -7.912, -7.3622, -6.428, -7.3368, -5.2621, -5.6861, -5.3728, -6.33, -6.5116, -4.4737, -5.6824, -4.0047, -7.0113, -7.1788, -5.2531, -4.4764, -6.6491, -6.5741, -6.7845, -5.9297, -4.9652, -5.3525, -6.5231, -6.3657, -6.0254, -6.7534, -6.6653, -6.2015, -4.7995, -4.5869, -4.3001, -5.8886, -6.4516, -5.8277, -5.6829, -5.997, -5.3481, -5.8713, -5.4527, -5.7872, -5.1375, -5.2525, -5.5453, -5.2561, -5.2658, -5.4445, -5.6077, -5.6745, -5.605, -5.6392, -5.6892, -5.759, -5.7745, -5.7778, -6.1241, -6.7415, -6.7898, -6.587, -7.238, -7.4756, -7.4391, -5.8389, -6.3993, -7.5458, -7.473, -7.6007, -7.3447, -7.6786, -7.7223, -7.4792, -7.7834, -7.7601, -7.2701, -3.6306, -7.7174, -7.2971, -7.9123, -7.9298, -7.9801, -6.4254, -7.8183, -8.0669, -7.203, -8.1263, -4.1315, -6.581, -7.2037, -6.2785, -6.3732, -6.9555, -4.9425, -6.7039, -6.0536, -4.7747, -6.0535, -5.5387, -6.7694, -5.8382, -6.7459, -6.1885, -7.0715, -6.9227, -6.0562, -6.6895, -6.0261, -5.6346, -6.3393, -6.53, -6.3258, -6.1368, -5.505, -4.7459, -5.9378, -5.2356, -5.8258, -5.2354, -5.3729, -5.2614, -5.3301, -5.6522, -5.678, -5.5474, -5.691, -5.7285, -5.6866, -5.6524, -5.7338, -5.6995, -5.7406, -5.8075, -5.8588, -5.9083, -5.8452, -5.8632], \"loglift\": [30.0, 29.0, 28.0, 27.0, 26.0, 25.0, 24.0, 23.0, 22.0, 21.0, 20.0, 19.0, 18.0, 17.0, 16.0, 15.0, 14.0, 13.0, 12.0, 11.0, 10.0, 9.0, 8.0, 7.0, 6.0, 5.0, 4.0, 3.0, 2.0, 1.0, 1.7583, 1.7581, 1.7552, 1.7532, 1.7528, 1.7498, 1.7495, 1.7491, 1.7485, 1.7485, 1.7481, 1.7477, 1.7476, 1.7462, 1.7461, 1.7458, 1.7457, 1.7457, 1.7454, 1.7447, 1.7436, 1.7436, 1.7435, 1.7433, 1.743, 1.7429, 1.7428, 1.7425, 1.7421, 1.7421, 1.7418, 1.7291, 1.7335, 1.7404, 1.7373, 1.7139, 1.7115, 1.7129, 1.6813, 1.6613, 1.7165, 1.706, 1.6488, 1.7, 1.7127, 1.6918, 1.7155, 1.6619, 1.5451, 1.623, 1.6018, 1.4881, 1.5286, 1.663, 1.468, 1.4964, 1.6384, 1.3117, 1.3975, 1.2463, 1.0974, 1.5564, 1.5241, 1.4985, 1.0197, 1.1178, 0.7862, 0.7918, 1.346, 0.9797, 0.6704, 0.975, 1.2316, 0.5758, 0.6338, 0.5922, 1.1065, 1.1019, 0.4547, 0.5306, 0.538, 0.299, 0.1523, 0.3615, 0.72, 0.2715, 0.3292, 0.0644, 0.2386, -0.3674, 1.8435, 1.8412, 1.8401, 1.8365, 1.8365, 1.8362, 1.8354, 1.8352, 1.8338, 1.8332, 1.8327, 1.8326, 1.8324, 1.8319, 1.8316, 1.8315, 1.8305, 1.8305, 1.8295, 1.8295, 1.8288, 1.8285, 1.8282, 1.828, 1.8269, 1.8267, 1.8265, 1.8252, 1.8246, 1.8244, 1.8228, 1.8139, 1.8226, 1.8106, 1.7674, 1.7909, 1.8209, 1.8118, 1.7823, 1.7511, 1.8178, 1.6938, 1.7343, 1.723, 1.7836, 1.736, 1.7049, 1.7044, 1.5904, 1.7907, 1.6529, 1.6253, 1.6563, 1.5315, 1.7611, 1.6854, 1.6392, 1.6484, 1.6185, 1.5174, 1.7354, 1.6819, 1.6227, 0.8632, 1.2892, 1.6018, 1.3849, 0.8243, 0.5687, 1.2084, 0.7613, 0.6056, 1.2615, 0.4312, 0.7387, 0.4371, 0.2235, 0.6666, 0.2962, 0.4643, 0.1401, 0.4817, 0.1384, 0.1665, 0.7261, 0.1799, 0.27, -0.0161, 0.1911, -0.1728, 0.4592, 0.0264, 0.5764, 0.1834, -0.3337, 0.0411, -0.5018, 1.9466, 1.9447, 1.9377, 1.9367, 1.935, 1.9331, 1.9317, 1.9314, 1.9313, 1.9312, 1.9311, 1.9308, 1.9297, 1.9275, 1.9273, 1.9271, 1.9262, 1.9257, 1.9255, 1.9248, 1.9248, 1.9247, 1.9245, 1.9244, 1.9235, 1.9234, 1.9228, 1.9226, 1.9218, 1.9215, 1.8883, 1.8468, 1.9064, 1.9084, 1.8906, 1.9043, 1.816, 1.8729, 1.8806, 1.8716, 1.818, 1.8911, 1.7868, 1.8596, 1.8272, 1.5543, 1.5521, 1.7821, 1.5163, 1.7482, 1.8777, 1.7162, 1.5648, 1.6108, 1.5144, 1.6515, 1.6369, 1.4714, 1.7012, 1.3003, 1.5306, 1.1312, 1.2558, 1.189, 0.804, 1.5666, 0.9119, 0.5125, 0.1578, 0.6251, 0.3091, 0.6507, 0.1271, 0.0716, 0.1813, 0.6105, 0.3941, -0.1219, 0.0112, 0.2468, -0.0449, -0.2163, -0.0076, 1.9765, 1.9674, 1.9674, 1.9662, 1.9656, 1.9648, 1.9627, 1.9623, 1.9618, 1.9617, 1.9609, 1.959, 1.9584, 1.9583, 1.9575, 1.9545, 1.9545, 1.9534, 1.9532, 1.952, 1.9517, 1.9507, 1.9505, 1.9487, 1.9486, 1.9471, 1.9466, 1.9456, 1.9445, 1.944, 1.94, 1.9348, 1.9166, 1.9331, 1.9062, 1.9281, 1.9201, 1.9298, 1.9273, 1.8789, 1.9366, 1.8965, 1.7895, 1.8258, 1.7745, 1.8227, 1.8174, 1.7039, 1.7573, 1.849, 1.8164, 1.3952, 1.6486, 1.7177, 1.4786, 1.5409, 1.816, 1.5294, 1.1469, 1.3544, 1.2625, 1.1115, 1.0345, 0.9338, 1.1398, 0.9639, 1.185, 0.9979, 1.4647, 1.362, 1.2149, 1.5713, 1.0831, 1.3152, 1.2242, 1.0842, 0.5697, 1.309, 0.5727, 0.7984, 1.1211, 0.7295, 0.693, 0.4046, 0.3417, 0.775, 0.6907, 0.0191, -0.0412, 0.3511, 0.0161, 0.5396, -0.2374, -0.2353, 2.0115, 2.0106, 2.0102, 2.0096, 2.0084, 2.0083, 2.0081, 2.0079, 2.0075, 2.0072, 2.0051, 2.0049, 2.0043, 2.004, 2.0039, 2.0038, 2.0036, 2.0031, 2.0021, 2.0013, 2.0006, 2.0004, 2.0001, 1.9997, 1.9979, 1.9976, 1.997, 1.9967, 1.9965, 1.9962, 1.9958, 1.9951, 1.9833, 1.9953, 1.9939, 1.9516, 1.9322, 1.7947, 1.8904, 1.9664, 1.9253, 1.9226, 1.9594, 1.806, 1.9161, 1.9624, 1.62, 1.8415, 1.7452, 1.8353, 1.8061, 1.6084, 1.834, 1.5804, 1.1587, 1.8223, 1.5103, 1.7044, 1.0892, 1.5077, 0.9175, 0.877, 0.8515, 1.4408, 0.5756, 0.7885, 1.0578, 0.8958, 1.0691, 0.4298, 0.3272, 0.5225, 0.5892, 0.2815, 0.265, 0.4794, 0.161, 0.1405, 0.209, 0.3426, 0.3416, 0.0327, 0.2835, 0.3185, -0.0895, 0.2029, -0.0096, 2.1848, 2.183, 2.1815, 2.181, 2.1799, 2.1782, 2.1745, 2.1736, 2.1713, 2.171, 2.1697, 2.1683, 2.1672, 2.1669, 2.166, 2.1659, 2.1657, 2.1652, 2.1645, 2.1633, 2.1625, 2.1602, 2.1597, 2.1596, 2.1585, 2.158, 2.1576, 2.1576, 2.1575, 2.1569, 2.1558, 2.1505, 2.1508, 2.1359, 2.1378, 2.1459, 2.118, 2.0548, 2.0299, 1.8552, 2.13, 1.8431, 2.0499, 2.0668, 1.7458, 2.0442, 1.7834, 1.9344, 1.5152, 2.1073, 1.5671, 1.0913, 1.7967, 1.8119, 1.6472, 1.1908, 1.2594, 0.4732, 0.831, 0.4504, 0.7679, 1.0254, 0.6945, 0.7265, 0.9528, 0.8955, 0.5132, 0.7422, 0.6606, 0.2916, 0.4957, 0.2179, 0.4317, 0.1798, 0.2959, 0.3877, -0.0513, 0.0315, 0.1191, 0.2259, -0.0145, 0.0935, 0.2507, -0.6722, 2.376, 2.3743, 2.3737, 2.372, 2.3714, 2.3707, 2.3694, 2.3694, 2.3691, 2.3689, 2.3688, 2.3686, 2.3685, 2.3684, 2.3682, 2.3679, 2.3676, 2.3675, 2.3674, 2.3672, 2.3672, 2.3671, 2.3666, 2.3661, 2.3659, 2.3655, 2.3649, 2.3649, 2.3645, 2.3641, 2.3605, 2.3615, 2.3398, 2.3404, 2.3287, 2.3438, 2.3469, 2.2979, 2.3213, 2.2676, 2.3492, 2.353, 2.2299, 2.1439, 2.2966, 2.2879, 2.3003, 2.2045, 2.0435, 1.9756, 2.2006, 2.1629, 2.0786, 2.2484, 2.2163, 2.0697, 1.6235, 1.4747, 1.3122, 1.8356, 2.0995, 1.6604, 1.4507, 1.6732, 1.0312, 1.522, 1.0133, 1.2582, 0.2775, 0.3493, 0.739, 0.1161, 0.1166, 0.0494, 0.3832, 0.3386, -0.1875, -0.134, 0.0843, -0.2288, 0.2669, -0.2713, 2.9595, 2.9563, 2.9562, 2.9555, 2.9525, 2.9495, 2.9495, 2.9483, 2.9481, 2.948, 2.9479, 2.9479, 2.9474, 2.9463, 2.9458, 2.9453, 2.9447, 2.9442, 2.9438, 2.9428, 2.9422, 2.9421, 2.942, 2.9419, 2.9409, 2.9408, 2.9405, 2.9389, 2.9379, 2.9374, 2.9179, 2.9364, 2.9342, 2.9218, 2.9167, 2.9251, 2.8695, 2.9143, 2.8855, 2.8018, 2.8604, 2.8065, 2.8937, 2.7667, 2.8547, 2.7529, 2.8658, 2.8159, 2.4743, 2.6312, 2.2373, 1.9952, 2.3727, 2.4897, 2.3367, 2.1605, 1.5509, 0.6716, 1.8855, 0.8161, 1.4252, 0.3199, 0.4955, 0.2452, 0.2001, 0.8542, 0.7557, 0.3281, 0.5433, 0.5021, 0.2937, -0.0222, 0.3269, 0.1228, 0.3506, 0.33, 0.4924, 1.0221, 0.0448, -0.0009]}, \"token.table\": {\"Topic\": [1, 2, 3, 4, 5, 6, 7, 8, 4, 1, 4, 4, 4, 6, 4, 3, 4, 1, 3, 4, 6, 2, 5, 8, 2, 1, 4, 5, 6, 8, 3, 4, 5, 6, 1, 2, 3, 4, 5, 6, 7, 8, 1, 2, 3, 4, 5, 6, 7, 8, 2, 1, 2, 3, 4, 5, 6, 7, 6, 7, 4, 5, 8, 1, 6, 3, 4, 5, 6, 7, 1, 2, 6, 7, 8, 1, 2, 6, 7, 8, 1, 2, 4, 6, 8, 1, 2, 3, 4, 5, 6, 7, 8, 3, 4, 4, 1, 2, 3, 5, 6, 7, 5, 8, 2, 3, 4, 1, 2, 3, 4, 5, 6, 7, 8, 1, 2, 4, 5, 6, 7, 8, 1, 2, 3, 4, 5, 6, 7, 1, 2, 3, 4, 5, 6, 7, 8, 3, 1, 2, 3, 4, 5, 6, 7, 8, 1, 3, 4, 5, 6, 7, 1, 2, 3, 4, 5, 6, 7, 8, 7, 2, 3, 1, 2, 4, 5, 6, 7, 8, 8, 6, 1, 2, 3, 5, 6, 7, 8, 1, 2, 3, 4, 5, 6, 7, 8, 1, 2, 3, 4, 5, 6, 7, 8, 2, 8, 4, 5, 8, 1, 2, 3, 4, 5, 6, 7, 8, 1, 2, 3, 4, 5, 6, 7, 8, 1, 2, 3, 4, 6, 7, 8, 5, 1, 2, 3, 6, 1, 2, 3, 4, 5, 6, 7, 8, 1, 2, 3, 4, 5, 6, 7, 8, 6, 3, 6, 1, 2, 3, 4, 5, 6, 7, 8, 1, 2, 3, 4, 5, 6, 7, 8, 1, 2, 3, 4, 5, 6, 7, 8, 1, 2, 3, 4, 5, 6, 7, 8, 5, 6, 2, 6, 8, 8, 2, 4, 5, 8, 4, 5, 4, 5, 4, 5, 1, 2, 3, 4, 5, 6, 7, 8, 1, 2, 3, 4, 5, 6, 7, 8, 1, 2, 3, 4, 5, 6, 7, 8, 1, 2, 3, 4, 5, 6, 7, 8, 1, 2, 3, 4, 5, 6, 7, 8, 1, 2, 3, 4, 5, 6, 7, 8, 2, 4, 6, 1, 2, 3, 4, 5, 6, 7, 8, 1, 2, 3, 4, 5, 6, 7, 8, 1, 6, 1, 2, 4, 6, 8, 1, 2, 4, 6, 8, 1, 2, 3, 6, 7, 8, 6, 4, 8, 2, 7, 7, 1, 2, 3, 4, 5, 6, 7, 8, 3, 4, 6, 7, 1, 2, 3, 4, 5, 6, 7, 8, 7, 2, 1, 2, 3, 4, 5, 6, 7, 8, 1, 2, 3, 4, 5, 6, 7, 8, 3, 1, 2, 3, 4, 5, 6, 7, 8, 1, 2, 3, 4, 5, 6, 7, 8, 1, 1, 2, 3, 4, 7, 2, 3, 1, 2, 3, 4, 7, 8, 1, 2, 3, 4, 5, 6, 7, 8, 1, 2, 3, 4, 5, 6, 7, 8, 1, 2, 3, 4, 5, 6, 7, 8, 1, 2, 3, 4, 5, 6, 7, 8, 1, 6, 2, 2, 1, 3, 4, 1, 2, 3, 4, 5, 6, 7, 1, 2, 4, 7, 1, 7, 1, 2, 3, 4, 6, 7, 1, 7, 3, 1, 2, 3, 6, 8, 1, 2, 3, 4, 5, 6, 7, 8, 1, 2, 3, 4, 5, 6, 7, 8, 1, 2, 4, 5, 7, 8, 2, 2, 1, 3, 4, 5, 6, 7, 3, 1, 2, 3, 4, 5, 6, 7, 8, 7, 2, 2, 3, 7, 8, 1, 2, 3, 4, 5, 6, 8, 5, 1, 2, 3, 6, 7, 2, 1, 2, 3, 4, 5, 6, 7, 8, 1, 2, 3, 4, 5, 6, 7, 1, 2, 3, 4, 5, 6, 7, 8, 1, 3, 4, 6, 7, 1, 2, 3, 4, 5, 6, 7, 8, 1, 2, 3, 4, 5, 6, 7, 8, 2, 1, 2, 6, 3, 4, 5, 8, 5, 8, 1, 2, 3, 4, 5, 6, 7, 8, 2, 3, 7, 1, 2, 3, 4, 5, 6, 7, 8, 3, 4, 1, 2, 3, 4, 5, 6, 7, 8, 1, 2, 3, 4, 6, 7, 8, 1, 2, 5, 7, 1, 2, 6, 7, 1, 6, 1, 2, 3, 4, 6, 7, 8, 1, 2, 4, 6, 7, 8, 2, 3, 5, 1, 2, 3, 4, 5, 6, 7, 8, 1, 8, 1, 3, 5, 1, 3, 5, 6, 7, 1, 2, 5, 6, 8, 4, 2, 5, 6, 1, 2, 3, 4, 5, 6, 7, 8, 1, 1, 2, 3, 4, 5, 6, 7, 8, 5, 4, 8, 8, 1, 2, 3, 4, 5, 6, 7, 8, 7, 1, 2, 3, 4, 5, 6, 7, 8, 5, 6, 3, 1, 2, 3, 4, 5, 6, 7, 8, 2, 2, 3, 5, 1, 2, 4, 7, 4, 5, 8, 1, 2, 3, 4, 5, 6, 7, 8, 3, 1, 6, 3, 4, 1, 2, 3, 4, 5, 6, 7, 8, 1, 2, 3, 4, 5, 6, 7, 8, 3, 1, 2, 3, 4, 5, 6, 7, 8, 1, 2, 3, 4, 5, 6, 7, 8, 3, 1, 2, 3, 4, 5, 6, 7, 8, 6, 1, 2, 4, 5, 6, 1, 2, 3, 4, 5, 6, 7, 8, 2, 4, 5, 8, 1, 2, 3, 4, 5, 6, 7, 1, 2, 3, 4, 5, 6, 7, 1, 2, 3, 4, 5, 6, 8, 6, 1, 2, 3, 4, 5, 6, 7, 8, 5, 1, 2, 3, 4, 5, 6, 7, 8, 2, 3, 5, 6, 7, 2, 1, 8, 1, 3, 6, 1, 3, 4, 5, 6, 8, 1, 2, 3, 4, 5, 6, 7, 8, 1, 2, 7, 1, 2, 3, 4, 5, 6, 7, 8, 1, 2, 3, 4, 5, 6, 7, 8, 3, 4, 7, 3, 4, 5, 6, 1, 7, 7, 1, 2, 3, 4, 5, 6, 3, 5, 3, 6, 8, 1, 2, 3, 4, 5, 6, 7, 8, 1, 2, 3, 4, 5, 6, 7, 8, 1, 2, 3, 4, 5, 6, 7, 8, 5, 6, 5, 8, 1, 2, 3, 4, 5, 6, 7, 8, 5, 8, 4, 5, 6, 7, 3, 1, 3, 4, 5, 6, 7, 3, 4, 5, 1, 2, 3, 4, 6, 7, 2, 4, 5, 8, 5, 5, 2, 1, 2, 3, 4, 5, 6, 7, 8, 1, 2, 3, 4, 5, 6, 7, 8, 1, 2, 3, 5, 6, 7, 8, 2, 2, 2, 6, 6, 1, 2, 3, 4, 5, 6, 7, 8, 1, 4, 1, 2, 3, 4, 5, 6, 7, 8, 4, 6, 1, 2, 3, 4, 5, 6, 7, 1, 4, 1, 2, 3, 4, 5, 6, 7, 8, 7, 1, 2, 4, 5, 6, 4, 5, 6, 2, 1, 2, 3, 4, 5, 6, 7, 8, 1, 2, 3, 4, 5, 6, 7, 8, 1, 2, 3, 4, 5, 6, 7, 8, 1, 2, 4, 7, 8, 1, 2, 3, 4, 5, 6, 7, 8, 4, 3, 8, 2, 7, 3, 4, 7, 2, 3, 4, 5, 1, 2, 2, 2, 7, 1, 2, 3, 4, 5, 6, 7, 8, 1, 2, 3, 4, 5, 6, 7, 8, 4, 5, 1, 2, 3, 4, 5, 6, 8, 1, 3, 4, 5, 6, 8, 6, 3, 1, 3, 5, 6, 2, 4, 1, 4, 5, 1, 8, 8, 5, 1, 2, 3, 4, 5, 6, 7, 8, 1, 4, 5, 7, 1, 2, 4, 5, 8, 1, 2, 3, 4, 5, 6, 7, 8, 1, 4, 6, 2, 1, 2, 6, 7, 1, 2, 3, 4, 5, 6, 7, 8, 1, 2, 3, 4, 5, 6, 7, 8, 1, 2, 3, 4, 5, 6, 2, 1, 2, 3, 4, 5, 6, 7, 8, 1, 2, 6, 7, 4, 1, 2, 4, 2, 8, 8, 1, 2, 3, 4, 5, 6, 7, 8, 1, 2, 3, 4, 5, 6, 7, 8, 7, 5, 1, 2, 3, 4, 5, 6, 7, 8, 1, 2, 3, 4, 5, 6, 7, 8, 1, 2, 5, 6, 7, 3, 5, 6, 3, 4, 1, 2, 3, 4, 5, 6, 7, 8, 1, 2, 3, 4, 5, 6, 7, 8, 1, 2, 3, 4, 5, 6, 7, 8, 1, 5, 2, 3, 4, 7, 1, 2, 3, 4, 5, 6, 7, 8, 1, 2, 3, 4, 5, 6, 7, 8, 5, 1, 4, 8, 4, 1, 2, 3, 4, 5, 6, 7, 8, 4, 5, 1, 2, 4, 5, 6, 7, 1, 2, 3, 4, 5, 6, 7, 8, 1, 2, 7, 8, 3, 8, 1, 2, 3, 4, 5, 6, 7, 8, 1, 2, 3, 4, 5, 6, 7, 8, 7, 5, 6, 2, 6, 8, 5, 1, 2, 3, 4, 5, 6, 7, 8, 1, 2, 3, 4, 5, 6, 7, 2, 7, 1, 1, 2, 3, 4, 5, 6, 7, 8, 5, 6, 1, 2, 1, 2, 3, 4, 5, 6, 7, 8, 7, 1, 2, 3, 4, 5, 6, 7, 8, 3, 1, 6, 8, 4, 5, 4, 5, 1, 2, 3, 4, 5, 6, 7, 8, 1, 2, 3, 4, 5, 6, 7, 8, 1, 2, 3, 4, 5, 6, 7, 8, 1, 2, 3, 4, 5, 6, 7, 8, 1, 2, 3, 4, 5, 6, 7, 8, 1, 2, 3, 4, 5, 6, 7, 8, 1, 2, 3, 4, 5, 6, 7, 8, 1, 2, 3, 4, 5, 6, 7, 8, 3, 4, 5, 1, 2, 3, 4, 5, 6, 7, 8, 3, 1, 2, 8, 1, 2, 4, 5, 7, 8, 6, 1, 6, 8, 1, 2, 3, 4, 5, 6, 7, 8, 1, 2, 3, 4, 5, 6, 7, 8, 2, 5, 5, 1, 3, 4, 5, 6, 7, 8, 1, 3, 4, 5, 6, 7, 1, 2, 3, 4, 5, 6, 7, 8, 5, 1, 2, 6, 8, 3, 1, 2, 3, 4, 5, 6, 7, 8, 1, 2, 3, 4, 5, 6, 7, 8, 1, 2, 3, 4, 5, 6, 7, 4, 6, 1, 2, 8, 1, 2, 3, 4, 5, 6, 7, 8, 1, 2, 3, 4, 5, 6, 7, 8, 3, 1, 2, 3, 4, 5, 6, 7, 8, 6, 1, 2, 3, 4, 5, 6, 7, 8, 1, 3, 4, 5, 6, 7, 1, 2, 3, 4, 5, 6, 7, 8, 1, 2, 3, 4, 5, 6, 7, 8, 1, 1, 8, 1, 1, 2, 3, 4, 5, 6, 7, 8, 7, 2, 3, 5, 6, 1, 2, 3, 4, 5, 6, 7, 8, 1, 2, 3, 4, 5, 6, 7, 8, 4, 8, 8, 1, 2, 3, 4, 5, 6, 7, 8, 7, 1, 2, 5, 1, 2, 3, 4, 5, 6, 7, 8, 1, 2, 4, 6, 7, 8, 1, 4, 6, 7, 8, 1, 2, 3, 4, 5, 6, 7, 8, 6, 2, 5, 8, 1, 2, 3, 4, 5, 6, 7, 8, 1, 2, 3, 4, 5, 6, 7, 8, 1, 6, 2, 7, 1, 2, 3, 4, 5, 6, 7, 8, 7, 1, 2, 3, 4, 5, 6, 6, 1, 2, 3, 4, 5, 6, 7, 8, 2, 1, 2, 3, 4, 5, 6, 7, 8, 1, 2, 3, 2, 8, 1, 2, 3, 4, 5, 6, 8, 1, 2, 4, 7, 2, 4, 5, 8, 6, 8, 1, 4, 7, 8, 4, 2, 4, 2, 4, 5, 8, 4, 5, 7, 5, 7, 8, 1, 2, 3, 4, 5, 6, 7, 8, 2, 4, 1, 2, 3, 4, 6, 7, 1, 2, 3, 6, 8, 3, 6, 1, 2, 3, 4, 5, 6, 7, 8, 2, 3, 4, 6, 7, 2, 7, 1, 2, 3, 4, 5, 6, 7, 8, 1, 2, 3, 4, 5, 8, 3, 4, 8, 1, 2, 3, 4, 5, 6, 7, 8, 5, 1, 2, 3, 4, 5, 6, 7, 8, 2, 7, 7, 8, 6, 7, 1, 2, 3, 4, 5, 6, 7, 8, 1, 2, 3, 4, 5, 6, 7, 8, 3, 4, 5, 1, 2, 4, 5, 8, 6, 8, 6, 4, 7, 1, 2, 3, 4, 5, 6, 7, 8, 4, 7, 2, 2, 1, 2, 3, 4, 5, 6, 7, 1, 2, 3, 4, 5, 6, 7, 1, 2, 3, 4, 5, 6, 7, 8, 1, 4, 1, 8, 1, 2, 3, 4, 5, 6, 7, 8, 3, 1, 2, 3, 5, 7, 2, 4, 1, 2, 3, 4, 5, 6, 7, 8, 1, 2, 4, 5, 8, 1, 2, 3, 4, 5, 6, 7, 1, 2, 7, 2, 3, 5, 7, 8, 5, 1, 2, 3, 4, 5, 6, 7, 8, 7, 7, 3, 5, 1, 2, 3, 4, 5, 6, 7, 8, 1, 2, 3, 4, 5, 6, 7, 8, 7, 4, 3, 4, 3, 1, 3, 4, 5, 1, 3, 4, 6, 7, 7, 1, 2, 3, 4, 7, 8, 1, 2, 3, 8, 4, 5, 1, 1, 6, 1, 2, 3, 4, 5, 6, 7, 1, 2, 3, 4, 5, 7, 8, 8, 1, 2, 3, 4, 5, 6, 7, 8, 1, 2, 3, 4, 5, 6, 7, 8, 1, 2, 3, 4, 5, 6, 7, 8, 5, 1, 2, 3, 4, 5, 6, 7, 8, 1, 2, 3, 4, 5, 6, 7, 8, 1, 2, 3, 4, 5, 6, 7, 8, 2, 8, 1, 2, 3, 6, 7, 8, 6, 1, 8, 1, 2, 3, 4, 5, 6, 7, 6, 1, 2, 3, 4, 5, 6, 7, 8, 1, 2, 3, 4, 5, 6, 7, 8, 3, 1, 2, 3, 4, 5, 6, 7, 8, 3, 1, 2, 3, 4, 5, 6, 7, 8, 1, 2, 3, 4, 5, 6, 7, 8, 1, 2, 3, 5, 6, 7, 8, 1, 1, 2, 3, 4, 5, 6, 7, 8, 1, 2, 3, 4, 5, 6, 7, 1, 7, 7, 7, 7, 1, 8, 4, 5, 6, 7, 1, 2, 3, 4, 5, 6, 7, 1, 6, 8, 1, 2, 3, 4, 5, 6, 7, 8, 1, 2, 3, 4, 5, 6, 7, 8, 1, 1, 2, 3, 4, 5, 6, 7, 8, 2, 4, 7, 1, 2, 3, 4, 5, 6, 7, 8, 1, 2, 3, 5, 6, 7, 8, 1, 2, 3, 4, 5, 6, 7, 8, 1, 2, 3, 4, 5, 6, 7, 8, 1, 2, 3, 4, 5, 6, 7, 8, 7, 1, 2, 3, 4, 5, 6, 7, 8, 1, 7, 1, 2, 1, 2, 3, 4, 5, 6, 7, 8, 1, 2, 3, 4, 5, 6, 7, 8, 1, 2, 3, 4, 5, 6, 7, 8, 2, 1, 6, 7, 8, 1, 2, 3, 4, 5, 6, 7, 8, 1, 2, 3, 4, 5, 6, 7, 8, 1, 2, 3, 4, 5, 6, 7, 8, 1, 2, 3, 4, 5, 6, 7, 2, 6, 6], \"Freq\": [0.028553119194050704, 0.03535148090691992, 0.005438689370295372, 0.1335878076578801, 0.0010197542569303822, 0.0006798361712869215, 0.7906494672066897, 0.004758853199008451, 0.9762398760063656, 0.9761074157548156, 0.9809649539927117, 0.9770845678288184, 0.9869372029441802, 0.9650578964806904, 0.9780483075706268, 0.9900496857642221, 0.9756744021996242, 0.9906623074494904, 0.046893466709293834, 0.010420770379843075, 0.9326589489959551, 0.007125953362429918, 0.05700762689943934, 0.9334998904783193, 0.9831686952985133, 0.016621239715868128, 0.828291779174095, 0.04155309928967032, 0.11080826477245419, 0.0027702066193113547, 0.10249005632047561, 0.10818394833827982, 0.011387784035608401, 0.7772162604302735, 0.028133736127091337, 0.030947109739800468, 0.08299452157491943, 0.511330654109885, 0.004220060419063701, 0.009143464241304683, 0.3312747428965005, 0.0021100302095318504, 0.11571708892133505, 0.09005498295931413, 0.16561562829193127, 0.27563002699948386, 0.1542102478643664, 0.134013220023887, 0.031127184083562402, 0.03374091709821268, 0.9885317671024428, 0.049663755539209584, 0.024831877769604792, 0.018623908327203592, 0.015519923606002994, 0.8225559511181587, 0.003103984721200599, 0.06518367914521257, 0.8651988729682161, 0.12559338478570878, 0.9862498399143123, 0.010393514124041835, 0.9873838417839743, 0.9879470734020538, 0.9982237933519098, 0.016025521944845987, 0.02136736259312798, 0.08368883682308459, 0.8760618663182472, 0.0017806135494273319, 0.010105724965409306, 0.0067371499769395375, 0.0067371499769395375, 0.07410864974633492, 0.9027780969098981, 0.06925665507950621, 0.024239829277827175, 0.010388498261925932, 0.08310798609540745, 0.8103028644302227, 0.04893856496267907, 0.0934281694742055, 0.8542004066213074, 0.9813886565038765, 0.014869525098543585, 0.5166073583715103, 0.02093522072065715, 0.006157417859016809, 0.11206500503410592, 0.00677315964491849, 0.17363918362427402, 0.13977338539968157, 0.023398187864263873, 0.9739201620716639, 0.976579427217393, 0.973382607996378, 0.02094050561691142, 0.9099601531712417, 0.01903682328810129, 0.0019036823288101292, 0.0019036823288101292, 0.04188101123382284, 0.9889756924041085, 0.9765121364147143, 0.014546600558213814, 0.014546600558213814, 0.9600756368421117, 0.1896401247594863, 0.17261857185076787, 0.09892526043419876, 0.11594681334291718, 0.1155463062156532, 0.14177952305144276, 0.09231689283434338, 0.07329280428930515, 0.13978910193630337, 0.013749747731439674, 0.0022916246219066125, 0.00916649848762645, 0.013749747731439674, 0.8066518669111276, 0.013749747731439674, 0.036943248775637615, 0.004015570519091045, 0.05300553085200179, 0.1798975592552788, 0.6015324637598385, 0.11886088736509492, 0.006424912830545672, 0.13099625995976194, 0.02095940159356191, 0.19387446474044767, 0.005239850398390478, 0.06811805517907621, 0.03667895278873334, 0.010479700796780955, 0.5344647406358287, 0.9972858260626869, 0.2920404969360343, 0.058319400678949904, 0.18094536484419438, 0.14568762831205356, 0.06718927150464571, 0.13371330269736423, 0.05255398464224763, 0.06962848598171205, 0.007915281145281457, 0.28231169418170526, 0.002638427048427152, 0.02374584343584437, 0.6780757514457781, 0.002638427048427152, 0.015503151598470656, 0.000469792472680929, 0.23755839368565643, 0.011118421853448652, 0.012997591744172369, 0.7178428982564595, 0.0026621573451919307, 0.001879169890723716, 0.9884252896761383, 0.9933115648165376, 0.9645148686664629, 0.10019953817617554, 0.1828202100056536, 0.06152603221344111, 0.14766247731225868, 0.010547319808018476, 0.010547319808018476, 0.48341882453418017, 0.984654875689126, 0.9840465155879775, 0.8934079476815068, 0.042122656088405645, 0.005435181430762019, 0.002038193036535757, 0.03261108858457211, 0.005435181430762019, 0.019023135007667065, 0.8049681068383945, 0.016489104609352587, 0.029480520362175838, 0.004996698366470481, 0.004497028529823433, 0.11992076079529154, 0.008994057059646865, 0.009993396732940961, 0.6599609611955611, 0.005648738612230196, 0.030126605931894375, 0.034833888108752875, 0.0009414564353716992, 0.22030080587697762, 0.04424845246246987, 0.003765825741486797, 0.012676498551183617, 0.9760903884411385, 0.9445378899878641, 0.04868752010246722, 0.9890845688152119, 0.07288750698957244, 0.011248072066292043, 0.0008998457653033634, 0.06478889510184216, 0.07153773834161739, 0.6433897221919048, 0.09898303418336997, 0.035993830612134535, 0.022704622750418874, 0.002389960289517776, 0.8496308829235695, 0.06213896752746218, 0.029874503618972204, 0.002389960289517776, 0.028679523474213313, 0.001194980144758888, 0.0974378712255847, 0.024802367221057924, 0.0017715976586469946, 0.056691125076703826, 0.005314792975940983, 0.7334414306798557, 0.07972189463911475, 0.9907600180252424, 0.9865417508331401, 0.012673529220457686, 0.06336764610228843, 0.925167633093411, 0.014319880843418146, 0.017592996464770867, 0.04582361869893807, 0.6059355294029222, 0.13215204321211604, 0.008182789053381798, 0.17183857012101775, 0.0036822550740218092, 0.14750895822166937, 0.25017293679277386, 0.064306008555527, 0.064306008555527, 0.14525260704428247, 0.1269197537280138, 0.09138222268416994, 0.10999711989761196, 0.9896302024895088, 0.9731838715850838, 0.9913783495600808, 0.05640149086345529, 0.5583747595482074, 0.041737103238956914, 0.0033840894518073175, 0.018048477076305695, 0.21996581436747564, 0.023688626162651223, 0.0778340573915683, 0.24306541780126062, 0.7203575109382815, 0.0058924949770002575, 0.016204361186750706, 0.0014731237442500644, 0.0029462474885001287, 0.007365618721250322, 0.0029462474885001287, 0.18683972739060367, 0.06076550404496837, 0.0454321525569857, 0.18286441404186743, 0.05508648497534516, 0.05565438688230748, 0.39525972724577557, 0.0187407629297566, 0.1547064612693293, 0.09346848701688644, 0.011050461519237807, 0.13444728181739332, 0.18808806377536016, 0.23228990985231138, 0.10083546136304498, 0.08541085882577555, 0.02332851838414947, 0.9681335129422031, 0.008857682442693792, 0.026573047328081374, 0.9654873862536233, 0.9804565382256112, 0.0027714044538820976, 0.02494264008493888, 0.9672201544048521, 0.0027714044538820976, 0.0058469718467315515, 0.991061728020998, 0.003691378634019906, 0.9929808525513547, 0.011758111126977083, 0.987681334666075, 0.09542716900539831, 0.005417262869302088, 0.07445263840886972, 0.3747634672147957, 0.31197877960134585, 0.08862086437473672, 0.048477557471446886, 0.0008334250568157058, 0.05664285175866413, 0.03408596389016957, 0.019549302819361958, 0.11629328856646087, 0.02105309534392826, 0.02305815204335, 0.7153039775187054, 0.014035396895952174, 0.04196650975593148, 0.05845335287433314, 0.01049162743898287, 0.11241029398910218, 0.016486843118401654, 0.01049162743898287, 0.7404091364082197, 0.011990431358837567, 0.009267952204156193, 0.003089317401385398, 0.016991245707619687, 0.04325044361939557, 0.08650088723879114, 0.001544658700692699, 0.8402943331768282, 0.001544658700692699, 0.23164061120527468, 0.10406817846538709, 0.1510766870143881, 0.1537054522950888, 0.22452748162220218, 0.0787083251692155, 0.026442286058813064, 0.029689584346737477, 0.3236811165738188, 0.0890441654354157, 0.10752202445242505, 0.09493796529428937, 0.1876458441554914, 0.08585832767386237, 0.059734458029125026, 0.05161057173716402, 0.9644633647336492, 0.01819742197610659, 0.009098710988053295, 0.6376237527397245, 0.011486309747720216, 0.021102755117904583, 0.054760313913549866, 0.005609593132607548, 0.004006852237576819, 0.25991114847748303, 0.005342469650102426, 0.13839439830269326, 0.09081377619862595, 0.2726828545964061, 0.18186907839778016, 0.058449292127839045, 0.15119527633069108, 0.0666611761457999, 0.03985179008716298, 0.9816696486508052, 0.008319234310600044, 0.0396787407501895, 0.0015662660822443222, 0.0005220886940814407, 0.0015662660822443222, 0.955944398863118, 0.11826977959619253, 0.00572273127078351, 0.00190757709026117, 0.01716819381235053, 0.8545945364370041, 0.9340990117666286, 0.045381328506880744, 0.003781777375573395, 0.00756355475114679, 0.003781777375573395, 0.00756355475114679, 0.986317779751399, 0.9859781441607395, 0.9924599350007013, 0.007381529399273681, 0.9817434101033996, 0.9907228055941653, 0.010393805526238935, 0.007322908438941068, 0.6470143940083737, 0.06189038745169547, 0.017008045406572803, 0.24212842419079336, 0.011102474084846135, 0.0033071199401669337, 0.15744412176366748, 0.7700001580004363, 0.0541214168562607, 0.014760386415343827, 0.02220698415971093, 0.007184612522259419, 0.6805787498358468, 0.13389505155119827, 0.015675518230384187, 0.12409785265720814, 0.009797198893990116, 0.006531465929326744, 0.9832899123424339, 0.9903043028788359, 0.03203473076028185, 0.017580035173325403, 0.12970159283431187, 0.46567559836897515, 0.14728162800763728, 0.007813348965922402, 0.1980683962861329, 0.0019533372414806006, 0.010060530279840515, 0.8597883954540625, 0.11530915474586437, 0.001547773889206233, 0.008512756390634282, 0.0007738869446031165, 0.001547773889206233, 0.003869434723015583, 0.9876994191453169, 0.7670440946351346, 0.01802044348989591, 0.0611128083570383, 0.017236945946856957, 0.001566995086077905, 0.05484482801272668, 0.07208177395958364, 0.008618472973428479, 0.8516325991602638, 0.00523276558623818, 0.003924574189678635, 0.00523276558623818, 0.001308191396559545, 0.05363584725894135, 0.07718329239701316, 0.001308191396559545, 0.9750654868741191, 0.03798202434360663, 0.9178989216371602, 0.02532134956240442, 0.01266067478120221, 0.006330337390601105, 0.9698099249557729, 0.027447450706295458, 0.033623039628649626, 0.8966143900973234, 0.005603839938108271, 0.011207679876216542, 0.04483071950486617, 0.011207679876216542, 0.029246752387467954, 0.13648484447485046, 0.19497834924978635, 0.5353041952130498, 0.03855253723802594, 0.028803619775536624, 0.031462415447124616, 0.005317591343175992, 0.27056977214619027, 0.07583073877255068, 0.12531652604665652, 0.1525515096903191, 0.18352462834389616, 0.11214405029743411, 0.042543536541407544, 0.03755935652818825, 0.03162852070253931, 0.32645151725120936, 0.07530600167271265, 0.03577035079453851, 0.15249465338724313, 0.2748669061054012, 0.05760909127962518, 0.045560131011991155, 0.08411543229842351, 0.7747474027486375, 0.005902837354275334, 0.10846463638480926, 0.0007378546692844168, 0.0014757093385688335, 0.023611349417101336, 0.0007378546692844168, 0.015939513858032443, 0.9723103453399791, 0.9847936805858282, 0.9929797880967097, 0.9906997552578922, 0.9733584557096608, 0.9768226196057234, 0.02812150368294626, 0.0027214358402851218, 0.0018142905601900813, 0.0018142905601900813, 0.0018142905601900813, 0.0018142905601900813, 0.9615739969007431, 0.022310576713028666, 0.0031872252447183807, 0.006374450489436761, 0.9689164743943878, 0.021061164895524877, 0.9688135851941443, 0.034071512598098, 0.004008413246835059, 0.003006309935126294, 0.0010021033117087648, 0.006012619870252588, 0.9509960428116176, 0.018748203073496308, 0.974906559821808, 0.9732733926885815, 0.9573281532099426, 0.012352621331741195, 0.006176310665870597, 0.012352621331741195, 0.006176310665870597, 0.022905916803797183, 0.007635305601265728, 0.02151767942174887, 0.08607071768699548, 0.8107306311162155, 0.013188255129458985, 0.03470593455120786, 0.0034705934551207854, 0.1183065155016571, 0.8020485830332931, 0.001739801698553781, 0.01565821528698403, 0.0052194050956613424, 0.022617422081199153, 0.008699008492768905, 0.026097025478306713, 0.12806586472290798, 0.828935415297368, 0.004656940535378472, 0.002328470267689236, 0.009313881070756943, 0.02794164321227083, 0.9958121244337146, 0.9819278022333615, 0.0018720418308434974, 0.681423226427033, 0.25459768899471563, 0.013104292815904481, 0.046801045771087436, 0.0018720418308434974, 0.9864349986275563, 0.06946683386425496, 0.004365061373875985, 0.04439890997428145, 0.4350095449165553, 0.39572399255167146, 0.04028328067891266, 0.007857110472976773, 0.00286846890283279, 0.9841423591057262, 0.9838105598136362, 0.007949241745348418, 0.005299494496898945, 0.964507998435608, 0.018548230739146306, 0.008893714629000548, 0.06225600240300384, 0.03557485851600219, 0.026681143887001647, 0.8389737466690518, 0.005929143086000366, 0.02075200080100128, 0.9887666039114943, 0.018264234042858807, 0.9375640142000855, 0.0060880780142862695, 0.030440390071431348, 0.0060880780142862695, 0.9754229146574075, 0.009926331370496871, 0.005908530577676709, 0.9404017267430249, 0.01583486194817358, 0.017725591733030125, 0.004608653850587833, 0.004844995073694901, 0.000709023669321205, 0.016686866043490706, 0.003575757009319437, 0.876060467283262, 0.0798585732081341, 0.01311110903417127, 0.005959595015532395, 0.0023838380062129578, 0.33582212642110565, 0.1329690663194089, 0.08325892082196014, 0.14043673391655928, 0.1375388330579636, 0.060633002579847814, 0.08102976631534808, 0.02831026223397306, 0.04158307656395899, 0.9261685234699956, 0.011340839062897906, 0.003780279687632635, 0.01512111875053054, 0.29409389608283637, 0.12888300560042473, 0.09440622313280664, 0.18094526100454605, 0.07774630140348782, 0.15063345896925764, 0.06409442109751823, 0.009024124270047692, 0.10333180748365282, 0.117453074016126, 0.12753969296789253, 0.23692347182260529, 0.1344882526902206, 0.14255754785163383, 0.10064204242984841, 0.036984269489810664, 0.9900211516762388, 0.13996671339289057, 0.8537969516966326, 0.0034991678348222648, 0.970231050770409, 0.03749894542974831, 0.05624841814462247, 0.9093494266713966, 0.011491542593554345, 0.9767811204521194, 0.045716064918079835, 0.006378985802522767, 0.12545338744961443, 0.6378985802522767, 0.13821135905465995, 0.037210750514716145, 0.0021263286008409224, 0.006378985802522767, 0.11403168290146992, 0.0036784413839183847, 0.8791474907564939, 0.07883238827479148, 0.2811455971216015, 0.15592069716297255, 0.08685515345319947, 0.16080411944548176, 0.09557555038625162, 0.09034331222642034, 0.0505783022117025, 0.9322284674001468, 0.05826427921250917, 0.11636567760660994, 0.020929078706224808, 0.023440568150971786, 0.07115886760116436, 0.2614739566364353, 0.022603405002722794, 0.4699275805504344, 0.013952719137483206, 0.11608318997091507, 0.08612623772035635, 0.14229552319015396, 0.014978476125279364, 0.007489238062639682, 0.011233857093959524, 0.6216067591990937, 0.008914552340315567, 0.002971517446771855, 0.002971517446771855, 0.9806007574347122, 0.23671458860110597, 0.002343708798030752, 0.002343708798030752, 0.757017941763933, 0.990292582256595, 0.9824577644063146, 0.015568355116319864, 0.00032434073158999713, 0.00032434073158999713, 0.001946044389539983, 0.00032434073158999713, 0.001946044389539983, 0.9798333501333814, 0.07162900267878765, 0.001119203166856057, 0.004476812667424228, 0.002238406333712114, 0.010072828501704514, 0.9110313778208304, 0.004912173634143523, 0.9824347268287046, 0.009824347268287046, 0.9046196872837343, 0.010625916452040732, 0.010625916452040732, 0.0021251832904081464, 0.0021251832904081464, 0.02266862176435356, 0.002833577720544195, 0.04462884909857107, 0.9791193078036682, 0.013412593257584496, 0.9762858709390694, 0.9729706632239095, 0.9934782791511719, 0.9539305623532467, 0.003846494203037285, 0.011539482609111857, 0.026925459421260997, 0.003846494203037285, 0.000566997856284185, 0.007370972131694405, 0.9888442613596187, 0.00113399571256837, 0.00226799142513674, 0.9645211695402092, 0.016192731164625388, 0.9796602354598359, 0.0026987885274375643, 0.7919300710761816, 0.022342854669860926, 0.022342854669860926, 0.09350898435904757, 0.007447618223286975, 0.01158518390289085, 0.050478301291167274, 0.00165502627184155, 0.9942645561684772, 0.7878382704333933, 0.058000363467489074, 0.02255569690402353, 0.030611302941174787, 0.016111212074302522, 0.014500090866872269, 0.06605596950464034, 0.0048333636222907565, 0.981046322485931, 0.012360531613115327, 0.9764819974361107, 0.9882612605393787, 0.03559047610472582, 0.01225894176940556, 0.0023726984069817217, 0.0007908994689939072, 0.012654391503902514, 0.008304444424436026, 0.9225842305813927, 0.00553629628295735, 0.9923320889039194, 0.053967003675260014, 0.03866292800615643, 0.0032219106671797022, 0.0008054776667949256, 0.01449859800230866, 0.013693120335513734, 0.8618611034705703, 0.012082165001923884, 0.00175972011518074, 0.9960015851922989, 0.9788785031216259, 0.011072975966876494, 0.8249367095322988, 0.03321892790062948, 0.047982895856464806, 0.047982895856464806, 0.031373431906150065, 0.0018454959944794156, 0.0018454959944794156, 0.9975939399919285, 0.06141510032904212, 0.9327418362473272, 0.0038384437705651325, 0.1275612935607276, 0.8004471170935656, 0.00637806467803638, 0.0637806467803638, 0.27325224421624655, 0.005060226744745307, 0.7185521977538336, 0.006887761206852833, 0.24107164223984917, 0.10102049770050822, 0.002295920402284278, 0.016071442815989944, 0.006887761206852833, 0.011479602011421388, 0.6130107474099021, 0.9770750344003389, 0.9836991331473849, 0.9833107943061608, 0.012820078018836412, 0.9615058514127308, 0.005496530959422685, 0.007214196884242274, 0.46720513155092824, 0.4084609569220983, 0.06286657284839696, 0.04740757952502066, 0.0006870663699278356, 0.0006870663699278356, 0.04533752871277716, 0.06395829943409634, 0.050195121074860426, 0.3003611277221487, 0.03238394908055511, 0.0032383949080555113, 0.48737843366235445, 0.017001573267291435, 0.9876821842887001, 0.02929321446095743, 0.012138875471414122, 0.16660061425437822, 0.35151857353148913, 0.3332739163858308, 0.057350735011651145, 0.04346735049045296, 0.0062511574283929, 0.013168231917685009, 0.004051763666980002, 0.35419167388850187, 0.4882375218710903, 0.08441174306208339, 0.05098469280949836, 0.004389410639228336, 0.0006752939444966671, 0.9740721093159348, 0.139167561540531, 0.1817994849635325, 0.13604270851476127, 0.11349912597170814, 0.15322940015649486, 0.13961396911564097, 0.07064399876115167, 0.06606832111627454, 0.9894029653349556, 0.004681852891398178, 0.002340926445699089, 0.17791040987313075, 0.8099605502118847, 0.002340926445699089, 0.0107522304394864, 0.0014336307252648534, 0.0014336307252648534, 0.3089474212945759, 0.6465674570944488, 0.0014336307252648534, 0.024371722329502507, 0.00430089217579456, 0.0018902949608385722, 0.07183120851186574, 0.918683350967546, 0.005670884882515717, 0.0023880770106167537, 0.007164231031850262, 0.9265738801193005, 0.007164231031850262, 0.04059730918048482, 0.007164231031850262, 0.009552308042467015, 0.0017239109522641542, 0.0051717328567924626, 0.09653901332679264, 0.6654296275739635, 0.0017239109522641542, 0.04309777380660386, 0.18618238284452865, 0.18573609093315338, 0.7825274650790233, 0.012179415798895305, 0.003044853949723826, 0.003044853949723826, 0.003044853949723826, 0.009134561849171477, 0.9750116672856934, 0.8140803307434687, 0.030012178091925117, 0.0093788056537266, 0.0037515222614906397, 0.06940316183757683, 0.007503044522981279, 0.011254566784471919, 0.05439707279161427, 0.9791923464364312, 0.06336340306645384, 0.009840528506532603, 0.002880154684838811, 0.004320232027258216, 0.00792042538330673, 0.004080219136854982, 0.8947680554232572, 0.012960696081774649, 0.003477354255248052, 0.06606973084971299, 0.006954708510496104, 0.003477354255248052, 0.9214988776407338, 0.9684433906310835, 0.9892224244835898, 0.9777188277910472, 0.008536682955745794, 0.9561084910435289, 0.034146731822983174, 0.007361064867854358, 0.05888851894283487, 0.022083194603563075, 0.007361064867854358, 0.8906888490103774, 0.014722129735708717, 0.12703489269939364, 0.0906616541914476, 0.1397926703850165, 0.18240907669656523, 0.16286524705050467, 0.23588316614481428, 0.04044486968420866, 0.021172482116565607, 0.1559741267894162, 0.005570504528193436, 0.8355756792290153, 0.1333468027453744, 0.24313353337107327, 0.012661535356832425, 0.03429833628306505, 0.2929783118011351, 0.15097678868526765, 0.04776123463716535, 0.08478420511094117, 0.10769100324240835, 0.19757021922383078, 0.01910079818118886, 0.11015184227188668, 0.3200262566431091, 0.13440868413388726, 0.039842155715363266, 0.07112996623301618, 0.057103740503509456, 0.8565561075526419, 0.08345931304359075, 0.11855429930173542, 0.815060807699431, 0.05433738717996207, 0.009879524941811284, 0.9825609855225391, 0.013838887120035762, 0.9944291030210549, 0.0017270579205510164, 0.03454115841102033, 0.0017270579205510164, 0.006908231682204066, 0.9377924508592019, 0.01554352128495915, 0.9775415586029158, 0.02172314574673146, 0.03406301503933865, 0.00681260300786773, 0.9537644211014823, 0.1809314779485884, 0.16220886292447043, 0.09684111219371369, 0.14413185531497721, 0.1767350297535275, 0.10136036409608701, 0.06585195629172531, 0.07166242302334813, 0.005890788108664984, 0.03608107716557303, 0.011781576217329968, 0.3041119361098298, 0.2047048867761082, 0.008836182162997476, 0.42487309233746196, 0.002945394054332492, 0.15796418177836027, 0.06409633096549873, 0.005253797620122847, 0.05463949524927761, 0.38352722626896785, 0.18038038495755107, 0.09877139525830952, 0.05569025477330218, 0.9820489240021261, 0.01169105861907293, 0.9939231645370981, 0.9823533137091379, 0.09853971478944674, 0.24453789515763438, 0.14762843300257186, 0.1420131183730262, 0.11140059668292232, 0.08006351826642548, 0.13603552538028402, 0.03985061995161449, 0.9851487473154046, 0.006841310745245865, 0.015046600242589615, 0.015046600242589615, 0.9554591154044406, 0.007523300121294808, 0.9882043812416458, 0.002417542302940217, 0.058021015270565204, 0.7180100639732444, 0.17768935926610593, 0.038680676847043474, 0.0036263134544103253, 0.9565474384019651, 0.00956547438401965, 0.0191309487680393, 0.10763630054965956, 0.013046824309049642, 0.009785118231787232, 0.009785118231787232, 0.009785118231787232, 0.8513052861654892, 0.016850082945509104, 0.025275124418263656, 0.9436046449485098, 0.008425041472754552, 0.9787759234584957, 0.9744655603327819, 0.9814759919942216, 0.1993036998656868, 0.307761992350735, 0.012977915340091234, 0.0639625827475925, 0.17149388127977702, 0.0917724013335023, 0.008806442552204766, 0.14368406269386724, 0.08734708246709368, 0.8222673625350542, 0.0030119683609342645, 0.0030119683609342645, 0.0030119683609342645, 0.0030119683609342645, 0.02108377852653985, 0.05722739885775103, 0.0059685146541826875, 0.9251197713983165, 0.0036729320948816536, 0.06014426305368708, 0.0022955825593010334, 0.0004591165118602067, 0.0018364660474408268, 0.9894528191312948, 0.9914410686822962, 0.00836473696655123, 0.9870389620530452, 0.9945608619582237, 0.14938999875309608, 0.10085241382320266, 0.2111479375549449, 0.13843599125919018, 0.1133173189024749, 0.1843295054146925, 0.05741410824392062, 0.04494920316464838, 0.029258855202249384, 0.950912794073105, 0.15930350717395908, 0.09206619072169649, 0.3180633163712152, 0.15404776006583074, 0.025372572246136826, 0.14426119648517796, 0.09587207655861701, 0.01087395953405864, 0.03381136768848116, 0.957988751173633, 0.07691565348754302, 0.7983314379224293, 0.029174903046999077, 0.08752470914099723, 0.0026522639133635525, 0.0026522639133635525, 0.0026522639133635525, 0.9975597553414748, 0.9698593762861869, 0.5146321879127014, 0.05046766523870965, 0.11463651303245961, 0.1092151818056451, 0.020502489003225797, 0.07215299014596771, 0.10408955955483866, 0.014292600507056444, 0.9892835487523508, 0.0036363670531207497, 0.018181835265603748, 0.029090936424965998, 0.9127281303333081, 0.03272730347808675, 0.9407484807233537, 0.0532499140032087, 0.004437492833600724, 0.9917737560512826, 0.5883632393484022, 0.14801590927003827, 0.050325409151813015, 0.06734723871786742, 0.050325409151813015, 0.03700397731750957, 0.03848413641020995, 0.02072222729780536, 0.5252437430795454, 0.13514048347542418, 0.10824854847653625, 0.10688693151456724, 0.011914148417228832, 0.040848508859070286, 0.06569801841500471, 0.00578687208836829, 0.37903515329110143, 0.007230385782823267, 0.07322038560352012, 0.20703344079548877, 0.02158932092899342, 0.1761770056941444, 0.12230553979113724, 0.013238734531929926, 0.09972549324132698, 0.8696063010643712, 0.003989019729653079, 0.021939608513091936, 0.0019945098648265396, 0.09486070159173206, 0.018511411845741295, 0.6733217535357634, 0.03628236721765294, 0.07421019326603844, 0.054464687297247724, 0.04212374606675352, 0.006170470615247098, 0.9911635509972284, 0.9623490955929801, 0.9850122155461114, 0.007590872476910572, 0.9868134219983744, 0.007214113247501685, 0.9883335149077308, 0.0036070566237508426, 0.9845166217218353, 0.9521448863189674, 0.010698257149651318, 0.03209477144895396, 0.028988647171662614, 0.9674960993542397, 0.9840987859226401, 0.9804319881572369, 0.011534493978320433, 0.007974094627935193, 0.003987047313967596, 0.014619173484547852, 0.14884976638812358, 0.7628550527391333, 0.022593268112483043, 0.029238346969095705, 0.009303110399257724, 0.042214635102020295, 0.013657676062418331, 0.023590531380540753, 0.1533384539735149, 0.6648805028568197, 0.03911061781510704, 0.024211334837923405, 0.03848981435772439, 0.9742500734762883, 0.9830146166277104, 0.002473384621433828, 0.01236692310716914, 0.009893538485735312, 0.017313692350036797, 0.12614261569312524, 0.009893538485735312, 0.8211636943160309, 0.08625681032676552, 0.02875227010892184, 0.023001816087137472, 0.8338158331587334, 0.023001816087137472, 0.002875227010892184, 0.9943742803628245, 0.9964825954191745, 0.07502429362865252, 0.17383677792004854, 0.7319443280844149, 0.016468747381899334, 0.014226442798071575, 0.967398110268867, 0.9506749071454861, 0.015757042659869935, 0.03151408531973987, 0.9967483163206649, 0.9844864609503927, 0.971614380334665, 0.9955848810988972, 0.12001003247695582, 0.3602152980982702, 0.10074916306707403, 0.2763193957648427, 0.0020372073414298055, 0.008889632035330062, 0.13001086851670215, 0.0016668060066243864, 0.0035220651453773877, 0.0035220651453773877, 0.989700305851046, 0.0035220651453773877, 0.01653872185295875, 0.026186309600518026, 0.0702895678750747, 0.8820651654911335, 0.004134680463239688, 0.012125758626862158, 0.18655013272095627, 0.0037310026544191254, 0.009327506636047813, 0.3516470001790026, 0.05223403716186775, 0.004663753318023906, 0.379629520087146, 0.008387572593181871, 0.9869377084644002, 0.9818239862723951, 0.9992801028910132, 0.9743664015106798, 0.009743664015106799, 0.009743664015106799, 0.004871832007553399, 0.16761523999558978, 0.037005962076948395, 0.4995804880388033, 0.029387087531694313, 0.07256070995480077, 0.10013377973762506, 0.04353642597288046, 0.049704086319038526, 0.1090686486287993, 0.005249777278398638, 0.6482569804808801, 0.13260213298024148, 0.03919230278528639, 0.036567414146087066, 0.026882480201455096, 0.002172321632440816, 0.03414365856528208, 0.12519341473936763, 0.01707182928264104, 0.10243097569584624, 0.031298353684841906, 0.6885637810665219, 0.98489401814673, 0.005505871620957502, 0.25602303037452384, 0.1183762398505863, 0.005505871620957502, 0.04955284458861752, 0.005505871620957502, 0.005505871620957502, 0.553340097906229, 0.8836233739620093, 0.0028782520324495417, 0.020147764227146793, 0.0892258130059358, 0.9767828443758461, 0.048465570673259385, 0.02907934240395563, 0.9208458427919283, 0.9869451561397211, 0.9916216507570135, 0.9959871965961398, 0.4573372396348275, 0.06526077006540627, 0.09929874033481426, 0.12309972706455066, 0.05579156029121007, 0.11618976317527234, 0.03019910144203114, 0.053232314406292176, 0.31049015368425836, 0.08400920297469648, 0.10366047852433309, 0.16834592720855357, 0.1426355083644457, 0.06845194316456751, 0.0682881825349872, 0.05404100776150066, 0.9944977265191738, 0.9881532761822063, 0.24658767207501045, 0.11490588669479272, 0.18976607975340964, 0.09776921599462741, 0.13023869732125642, 0.10426311225995322, 0.07269556097017499, 0.04383379979094919, 0.02257706610791063, 0.09331853991269728, 0.26597934071890905, 0.3070480990675846, 0.09138336281773352, 0.16384499404026573, 0.023652164494001614, 0.03225295158272948, 0.9548463563246637, 0.0046127843300708396, 0.0046127843300708396, 0.01383835299021252, 0.018451137320283358, 0.9447101810897696, 0.008997239819902568, 0.04498619909951284, 0.008967297306572829, 0.9864027037230112, 0.14975602674813188, 0.15687809999964972, 0.12146022220831774, 0.06948833631886324, 0.16400017325116753, 0.1108733565641696, 0.11048837963165513, 0.11684049901814401, 0.25977950078375317, 0.03170804717500039, 0.08651767157750107, 0.2998675318550037, 0.021516174868750265, 0.16420238715625202, 0.10418358357500128, 0.031934533226250394, 0.7684349431918072, 0.014904988122254879, 0.00993665874816992, 0.0016561097913616533, 0.06293217207174283, 0.10599102664714581, 0.01987331749633984, 0.016561097913616533, 0.981414218409447, 0.9959531080716517, 0.00427160347612049, 0.042716034761204905, 0.8500490917479776, 0.10251848342689177, 0.1383084215187268, 0.33818835524864116, 0.06703105516587417, 0.030330794192703243, 0.18107484133043836, 0.08674607139113127, 0.036700260973170924, 0.12132317677081297, 0.08831675146562161, 0.21248485748659457, 0.12854022243016214, 0.15316981153526124, 0.14588295085327926, 0.1264999014392072, 0.10085015183863061, 0.044158375732810805, 0.988321566315413, 0.0031510751594669905, 0.9295671720427623, 0.0661725783488068, 0.9852337313214323, 0.1423327521811045, 0.07721631410272448, 0.14089987212559002, 0.14281037886627598, 0.18738886948228187, 0.18754807837733906, 0.09106748797269773, 0.03072731674603263, 0.01316705441682453, 0.9743620268450153, 0.015376227960409229, 0.8940178256980795, 0.006589811983032527, 0.07029132781901362, 0.0021966039943441757, 0.010983019971720877, 0.12558232322734023, 0.18582297344084192, 0.10420660863545253, 0.08768901099626658, 0.14695803781922792, 0.10444951448308762, 0.1940817722604349, 0.05125313385100346, 0.3006185240469228, 0.6311628740170686, 0.04760926851421854, 0.019043707405687418, 0.9901972585648942, 0.9979483133899297, 0.004183682217976552, 0.006275523326964828, 0.17466873260052104, 0.5972206366161528, 0.1600258448376031, 0.0522960277247069, 0.003137761663482414, 0.002091841108988276, 0.005043001088614073, 0.01109460239495096, 0.17020128674072496, 0.45185289753982094, 0.3260300203788998, 0.018911254082302775, 0.014876853211411514, 0.0015129003265842219, 0.9911653153249206, 0.043187364583233266, 0.950122020831132, 0.026014358313861296, 0.9495240784559373, 0.026014358313861296, 0.9888076267988091, 0.017626047365510458, 0.009490948581428708, 0.0027116995946939166, 0.005423399189387833, 0.0162701975681635, 0.0013558497973469583, 0.943671458953483, 0.0027116995946939166, 0.006934924409205883, 0.0013869848818411766, 0.019417788345776472, 0.0027739697636823533, 0.0013869848818411766, 0.005547939527364707, 0.9625675079977766, 0.0019530750498274747, 0.9941152003621847, 0.9848105516121174, 0.03939440599831188, 0.07292156003942837, 0.08549424280484705, 0.26318815922276445, 0.38765771860040943, 0.09219967361307035, 0.017601755871586158, 0.041070763700367705, 0.9813087933632428, 0.015827561183278112, 0.9819767065644917, 0.010336596911205176, 0.005415876879403428, 0.00041660591380026366, 0.9023684092913711, 0.012081571500207645, 0.07373924674264666, 0.0008332118276005273, 0.0045826650518029, 0.00041660591380026366, 0.9912152761857452, 0.7455962466146769, 0.09909823530954566, 0.021235336137759787, 0.008848056724066578, 0.0230049474825731, 0.03539222689626631, 0.022415077034301994, 0.04483015406860399, 0.9913399554250399, 0.014829533380975918, 0.9639196697634347, 0.014829533380975918, 0.945783983906949, 0.04365156848801303, 0.003986048666523118, 0.9925261179642563, 0.11893975075259403, 0.005329448291190202, 0.12596108739019382, 0.244224082804224, 0.4242410028622041, 0.05980825304557893, 0.0192875271490693, 0.002199454850332464, 0.010419920312131148, 0.029895247562185794, 0.05023890150491804, 0.5575897833693989, 0.0016126067149726778, 0.005706146837595629, 0.3442295103114754, 0.00037214001114754103, 0.11739327526413966, 0.07952447679183655, 0.09030251943395359, 0.2761509303980258, 0.02854724807912081, 0.1424449419458171, 0.2551774420133656, 0.010195445742543148, 0.10031701660576542, 0.07999304960511684, 0.15112693410738687, 0.24779605920021536, 0.08129586800259431, 0.2576974790210441, 0.06904937506630607, 0.012246492936288246, 0.6948238665087314, 0.09983101530297864, 0.022961133519685088, 0.024458598749229767, 0.04841804242194464, 0.05440790334012336, 0.0444248018098255, 0.010482256606812757, 0.028682142033754892, 0.02235228999871933, 0.44111156369154075, 0.28662361246145407, 0.13332250848793653, 0.07615603229652161, 0.009494778052553344, 0.0021758866370434745, 0.016251220133555705, 0.08347217614053613, 0.03102505661860635, 0.2046176353179514, 0.09233647803156651, 0.5385063398800959, 0.03102505661860635, 0.002216075472757596, 0.025651728037507662, 0.09436171385226033, 0.14566516992727566, 0.042142124633048304, 0.5625057505367752, 0.05588412179599884, 0.003664532576786809, 0.06962611895894938, 0.9652676137017807, 0.08332191849049245, 0.9095976101878759, 0.23874434765262817, 0.16462499311402293, 0.13166188685392344, 0.09850824240734937, 0.03791709910843815, 0.16538714585992118, 0.12099174841134787, 0.04210893921087855, 0.9704628005150462, 0.9671009638931035, 0.0033933367154143986, 0.02714669372331519, 0.9530741467506942, 0.001539699752424385, 0.010777898266970695, 0.023095496286365775, 0.001539699752424385, 0.007698498762121924, 0.9760710591883637, 0.9408750546864143, 0.010732415072468604, 0.04650713198069728, 0.0795638021377185, 0.002697078038566729, 0.7309081484515836, 0.009439773134983552, 0.03236493646280075, 0.0647298729256015, 0.0728211070413017, 0.006742695096416823, 0.1847194485179139, 0.2513997167329085, 0.09020178677627104, 0.16961388613911252, 0.07488043064920108, 0.07229090566997798, 0.12839728021981164, 0.0287005685197226, 0.008217685539596028, 0.9861222647515234, 0.9856728814122442, 0.022142158011520963, 0.7417622933859523, 0.031200313561688633, 0.07850401476811979, 0.11574309869658686, 0.009058155550167667, 0.0010064617277964075, 0.0024014562711931887, 0.7804732881377863, 0.15849611389875046, 0.03602184406789783, 0.007204368813579566, 0.014408737627159132, 0.47615203122966654, 0.08120928561896004, 0.03178701260152324, 0.054212096834104696, 0.12671261187730495, 0.10428752764472349, 0.07358911136517023, 0.05225262345455874, 0.994670937126852, 0.9511603873560676, 0.00720576051027324, 0.0024019201700910798, 0.038430722721457276, 0.9585911003976518, 0.1476009560639231, 0.04100026557331197, 0.019270124819456627, 0.12341079937566903, 0.05330034524530556, 0.5108633090434671, 0.07544048865489403, 0.029520191212784617, 0.3769583438109411, 0.5736633619286049, 0.007152909749733228, 0.005722327799786583, 0.0014305819499466456, 0.0021458729249199684, 0.02360460217411965, 0.01001407364962652, 0.011611296148453675, 0.0016587565926362393, 0.817767000169666, 0.09786663896553813, 0.0547389675569959, 0.004976269777908718, 0.009952539555817435, 0.9826418176534288, 0.9696519189924747, 0.9775164229970495, 0.00880645426123468, 0.00880645426123468, 0.2389400652332183, 0.09421620458382998, 0.037880742049168754, 0.04176594636190401, 0.053421559300109785, 0.008741709703654328, 0.49342094771737766, 0.031081634501882057, 0.5194681112294947, 0.09759329556986938, 0.0401491405825412, 0.016059656233016483, 0.05620879681555769, 0.06300326676029543, 0.05867951315909868, 0.14824298061245983, 0.9673357206112951, 0.0681189256689802, 0.09411851561897265, 0.03275948333699048, 0.4700725862958634, 0.0015599753969995466, 0.005199917989998489, 0.32603485797290527, 0.0015599753969995466, 0.9926331721635918, 0.05862348181221688, 0.007075247804922727, 0.6579980458578136, 0.12230071205652142, 0.044472986202371424, 0.07580622648131494, 0.031333240278943505, 0.0030322490592525975, 0.011644661217503141, 0.8849942525302388, 0.011644661217503141, 0.011644661217503141, 0.07763107478335428, 0.003881553739167714, 0.052754022494321526, 0.014509595321018825, 0.15288814328999464, 0.3622920560093898, 0.18468386143173343, 0.18020559127092514, 0.05132097604286288, 0.0013434810482424837, 0.4818894010876066, 0.005455351710425735, 0.018184505701419117, 0.018184505701419117, 0.007273802280567647, 0.007273802280567647, 0.014547604561135293, 0.4473388402549103, 0.9893833561601141, 0.9784104591933803, 0.011788077821606992, 0.9867561198854308, 0.06556796746069041, 0.014371061361247214, 0.024700261714643647, 0.0767953591491648, 0.6727453099733852, 0.015269252696325165, 0.05434057577221603, 0.07634626348162582, 0.9889290983622305, 0.02310251156259402, 0.015401674375062681, 0.9549038112538862, 0.007700837187531341, 0.07174163278139775, 0.04160625857782959, 0.03907877558011097, 0.4320051708408287, 0.0025274829977186197, 0.006415918378824189, 0.40498054494214497, 0.0019442176905527845, 0.03177241309281191, 0.05295402182135319, 0.05154191457278377, 0.514713092103553, 0.004942375369992964, 0.0035302681214235457, 0.3381996860323757, 0.0021181608728541275, 0.03588860166274157, 0.9600200944783369, 0.983035715223125, 0.0754508722435184, 0.37459979737681864, 0.04737375469687759, 0.04737375469687759, 0.20460561295806612, 0.07269420979348457, 0.07688025277316557, 0.10107762316790692, 0.9936132505681246, 0.013460214344929026, 0.9691354328348898, 0.013460214344929026, 0.09271537868404821, 0.3077030520755828, 0.07186997475172864, 0.09582663300230486, 0.16178522454934588, 0.1676966077540335, 0.04075743156916213, 0.0616028355014817, 0.04836586289387216, 0.00345470449241944, 0.00690940898483888, 0.010364113477258319, 0.00690940898483888, 0.9258608039684099, 0.07363265823692165, 0.006693878021538332, 0.006693878021538332, 0.013387756043076664, 0.8969796548861365, 0.455403164220335, 0.14698706780332166, 0.05134919399242678, 0.03722816564450942, 0.06065623540355414, 0.2185550069302665, 0.024069934683950054, 0.005776784324148013, 0.9761903487806631, 0.061476485787008754, 0.06916104651038485, 0.8606708010181225, 0.9228980104590692, 0.01722742952856929, 0.01722742952856929, 0.006152653403060461, 0.0012305306806120922, 0.018457960209181383, 0.0159968988479572, 0.0012305306806120922, 0.21608729115333103, 0.21452896934212912, 0.09609651169078423, 0.08856462293664168, 0.12232826217934965, 0.09635623199265121, 0.0815521747862331, 0.08440909810676993, 0.9845329586363172, 0.009376504367964925, 0.9491067178608662, 0.04951861136665389, 0.039064894253868006, 0.26827698463499716, 0.06636325409392035, 0.054126058303552056, 0.16520214316997192, 0.31298981540749665, 0.06495126996426247, 0.02871034396971022, 0.9919417727002123, 0.0010918117934487154, 0.0010918117934487154, 0.13101741521384583, 0.009826306141038438, 0.0010918117934487154, 0.8548886342703441, 0.9863928789115215, 0.01814866507901195, 0.0037038091997983573, 0.17852360343028081, 0.06185361363663257, 0.024445140718669156, 0.7092794617613855, 0.00259266643985885, 0.0007407618399596714, 0.9908284306985913, 0.1522703504553296, 0.25578646123528054, 0.08087196154683667, 0.10628886374727103, 0.15666054265358645, 0.08549321649237018, 0.07370901638125969, 0.08895915770152032, 0.9888021703530095, 0.9394993571174463, 0.056939354976814925, 0.986465431107669, 0.9733465741595524, 0.14219979983393646, 0.8144170354125452, 0.002585450906071572, 0.023269058154644147, 0.007756352718214716, 0.002585450906071572, 0.005170901812143144, 0.010497220667782945, 0.010497220667782945, 0.955247080768248, 0.02099444133556589, 0.011270183153269291, 0.9072497438381779, 0.03944564103644252, 0.045080732613077164, 0.9647536261409121, 0.9881490210707808, 0.005295209224933956, 0.005295209224933956, 0.010590418449867913, 0.979613706612782, 0.9983779005359846, 0.9915654084735235, 0.9686884026681765, 0.01376204624173433, 0.07339757995591643, 0.903707703207221, 0.004587348747244777, 0.003343213021678432, 0.003343213021678432, 0.9895910544168158, 0.007510297509523196, 0.9913592712570619, 0.989059743661215, 0.013140054347909992, 0.04033691102149114, 0.1399568579382041, 0.4082584327629709, 0.21237994818133593, 0.16134764408596455, 0.013751219666417434, 0.011000975733133947, 0.9910830050035366, 0.9812480886818759, 0.06277967596731356, 0.00896852513818765, 0.004139319294548146, 0.22628278810196534, 0.02966512161092838, 0.6685000660695256, 0.10625224356063323, 0.8500179484850658, 0.021250448712126647, 0.004250089742425329, 0.017000358969701316, 0.015568110047045825, 0.980790932963887, 0.19170899458929705, 0.06663681630109256, 0.001025181789247578, 0.04408281693764585, 0.041007271569903116, 0.002050363578495156, 0.5812780745033767, 0.07278790703657803, 0.006183073219754992, 0.024732292879019967, 0.8779963972052088, 0.024732292879019967, 0.06183073219754992, 0.0072732151679575415, 0.9891572628422256, 0.2252837039969862, 0.13901946341232785, 0.143143650213188, 0.1142743426071669, 0.13163029539412008, 0.1407378745793529, 0.05997254972917481, 0.046053419276271775, 0.0008844221865397601, 0.0008844221865397601, 0.0008844221865397601, 0.129125639234805, 0.017688443730795204, 0.8508141434512493, 0.012320067997632213, 0.012320067997632213, 0.9732853718129448, 0.5973257340918858, 0.04822601535869333, 0.0653589418677028, 0.026862736625237072, 0.01290257428456269, 0.2248432207293465, 0.02030569067734456, 0.004230352224446783, 0.9881833743770739, 0.09003527399072979, 0.050963362636262145, 0.01783717692269175, 0.028879238827215215, 0.09343283149981393, 0.6684694399123051, 0.03737313259992557, 0.012740840659065536, 0.00652071691192633, 0.991148970612802, 0.9855816017615429, 0.9909807846255592, 0.9831192126670879, 0.9939645175192756, 0.18320818783565576, 0.18667248811472997, 0.14123685753148735, 0.08740696088741104, 0.1736147409089887, 0.11072436661194905, 0.07474894063694755, 0.042504299577872134, 0.0568781698381718, 0.28942237959962036, 0.5224041137444395, 0.0660661818889534, 0.016844688759766264, 0.007875438900669942, 0.03631452381975585, 0.004156481642020247, 0.04068400022971731, 0.9459030053409275, 0.9717575553493711, 0.07032668330089531, 0.8966652120864151, 0.0029302784708706378, 0.011721113883482551, 0.01465139235435319, 0.9696564635404862, 0.9901362463566707, 0.986352508896596, 0.9865826255070457, 0.009486371399106209, 0.023989274111405934, 0.3314881513576093, 0.008723372404147613, 0.015265901707258323, 0.02835096031347974, 0.5822851079768532, 0.0021808431010369033, 0.006542529303110709, 0.9798095959136232, 0.016606942303620732, 0.9843303724088293, 0.9935597209080216, 0.012448714389813122, 0.0013831904877570135, 0.17773997767677624, 0.5394442902252353, 0.2233852637727577, 0.030430190730654297, 0.015215095365327148, 0.009326107674305549, 0.001097189138153594, 0.7126243452307592, 0.014263458795996721, 0.18652215348611098, 0.0718658885490604, 0.004937351121691172, 0.025237087257891262, 0.009307294591562735, 0.16162475031117596, 0.19446876103332522, 0.23679905278149035, 0.3344361527756725, 0.03731867158347751, 0.0008054389550390828, 0.03798829998050356, 0.959204574507715, 0.9923486837046837, 0.9784385501838112, 0.7606372986650154, 0.03457442266659161, 0.023214255218997223, 0.01333584874282819, 0.0014817609714253546, 0.15015177843776925, 0.007408804857126773, 0.009384486152360578, 0.9806926910472065, 0.05437468475368394, 0.02558808694291009, 0.0031985108678637612, 0.0031985108678637612, 0.9147741082090357, 0.9818861081273159, 0.012428938077560962, 0.03165160140582233, 0.0036252935530897822, 0.8748112212340498, 0.013106830538093828, 0.05549487823575897, 0.003206990450810192, 0.01728986156088973, 0.0008366062045591805, 0.025253110554384107, 0.06628941520525829, 0.0031566388192980134, 0.8333526482946756, 0.0726026928438543, 0.03399041399606188, 0.00242788671400442, 0.8449045764735381, 0.0606971678501105, 0.0485577342800884, 0.00485577342800884, 0.00485577342800884, 0.043964695616191984, 0.027977533573940352, 0.9232586079400316, 0.004906493469675483, 0.014719480409026448, 0.019625973878701932, 0.004906493469675483, 0.9567662265867192, 0.9871678846860266, 0.16211171239840483, 0.020382466763542127, 0.13461908281037127, 0.42376570433968985, 0.060673389435660294, 0.023226531893338707, 0.16400775581826924, 0.011376260519186304, 0.9813985706380625, 0.9925199800368082, 0.04851817000356512, 0.9426387314978366, 0.20004725146755584, 0.1814822603275743, 0.1300812304366051, 0.09307754061337667, 0.16405390129820394, 0.11593647528233349, 0.06478803030483342, 0.05051698269382723, 0.3529983142000792, 0.021443822825238455, 0.16033381373947522, 0.22631480704790125, 0.04585679034935608, 0.14515818527853724, 0.04189793075085052, 0.006268194364300472, 0.9862080347445973, 0.9843635025128669, 0.9449706511687161, 0.04870982737983073, 0.9831704737715148, 0.028304306456966015, 0.0056608612913932035, 0.8491291937089804, 0.11321722582786406, 0.006164268393877764, 0.9123117222939091, 0.036985610363266586, 0.006164268393877764, 0.03082134196938882, 0.9847971524788767, 0.008026396056584832, 0.8688573731253081, 0.06621776746682487, 0.03812538126877795, 0.016052792113169664, 0.002006599014146208, 0.00933180344882853, 0.9481112304009787, 0.039193574485079825, 0.001866360689765706, 0.9822595178228182, 0.995912580791157, 0.9890217213902089, 0.023624363449362404, 0.9685989014238586, 0.0008928391863951259, 0.7303424544712129, 0.26428039917295726, 0.0008928391863951259, 0.0008928391863951259, 0.0008928391863951259, 0.0008928391863951259, 0.0722791020891638, 0.8854190005922565, 0.023490708178978234, 0.0036139551044581902, 0.0072279102089163804, 0.005420932656687285, 0.0018069775522290951, 0.9862858825131744, 0.21809055097663815, 0.11983756324448684, 0.10326060925101316, 0.11724741418300658, 0.18303720034460527, 0.17284928070278288, 0.042823797816473684, 0.042651121212375, 0.12413731919154807, 0.14955708833017523, 0.15202502708149823, 0.12339693756615117, 0.1572076984592766, 0.21742540399155835, 0.046397248524872835, 0.030108852766140885, 0.06905546285581307, 0.20804050835042417, 0.08566373873252761, 0.04414304904074127, 0.10882791298162946, 0.3693156083111522, 0.07648548101118537, 0.038024210559846436, 0.986871501677804, 0.13733335692172385, 0.20706839954534317, 0.10081472735838003, 0.09673551873694268, 0.17307499436669865, 0.11829705002168292, 0.09498728647061239, 0.07167752291954187, 0.12963363255144303, 0.15541304811565043, 0.17063517921070626, 0.10729147239579659, 0.1318432967426608, 0.15025716500280897, 0.13147501937745784, 0.02344699225125532, 0.11400213516038425, 0.1912582990819654, 0.08711483913199174, 0.12601179405306623, 0.24001392921345047, 0.11722861068379135, 0.05502933253811001, 0.06936922375325268, 0.9939365101950742, 0.9812336367393296, 0.9459720585559802, 0.00698134360557919, 0.003490671802789595, 0.024434702619527165, 0.003490671802789595, 0.017453359013947976, 0.9859517506394214, 0.022912749484796928, 0.9737918531038695, 0.03562225288732342, 0.06886968891549196, 0.03799706974647832, 0.8003132815351996, 0.0071244505774646855, 0.0071244505774646855, 0.04512152032394301, 0.9839369098735921, 0.16265630106674941, 0.05788219722645587, 0.04103041828710796, 0.6447637159402679, 0.03516892996037825, 0.024178639347760048, 0.015386406857665486, 0.018317151021030337, 0.1508103296674058, 0.1898238502767764, 0.16465383698040825, 0.0776075409971351, 0.14242032523528306, 0.1384350731300248, 0.06418353390573876, 0.07194428800545227, 0.988251744955154, 0.09038405950873869, 0.24487774262251297, 0.02890187949407342, 0.012086240515703431, 0.20126217902236582, 0.16132503644873708, 0.017341127696444053, 0.24382676518636487, 0.9866729822651192, 0.08527261155146988, 0.18773728188347805, 0.06326677631238088, 0.07839578803925458, 0.10659076443933736, 0.39541735195238054, 0.05088849399039332, 0.032321070507411974, 0.11749232000357657, 0.1133594243250588, 0.1828314326353813, 0.14602898064096115, 0.21510737983904385, 0.11237540154445932, 0.08757802747335271, 0.025387787739466292, 0.9068736549899501, 0.0035703687204328744, 0.007140737440865749, 0.03213331848389587, 0.042844424645194494, 0.0035703687204328744, 0.007140737440865749, 0.9728688103790598, 0.12751289025867527, 0.02732419076971613, 0.046841469890941935, 0.7598727337863914, 0.013011519414150538, 0.01821612717981075, 0.005204607765660215, 0.0026023038828301075, 0.0047670386827610885, 0.0047670386827610885, 0.06197150287589415, 0.8485328855314738, 0.014301116048283265, 0.023835193413805442, 0.03813630946208871, 0.9838320957009951, 0.99705554367961, 0.9868570285177268, 0.9942554514452973, 0.9812676322316936, 0.008903559591113237, 0.9853272614165316, 0.06419523777991197, 0.01167186141452945, 0.869553675382444, 0.05252337636538252, 0.8697558922082916, 0.006551833462962648, 0.016379583657406622, 0.011465708560184635, 0.001637958365740662, 0.0818979182870331, 0.013103666925925296, 0.9838080431691997, 0.005558237532029377, 0.005558237532029377, 0.10226943219104098, 0.0956571844200685, 0.14392659314816758, 0.24498377991453027, 0.17643681135544895, 0.1066775973716893, 0.09742045049232784, 0.032730626466313764, 0.08460795311245378, 0.08460795311245378, 0.26191906472775045, 0.19167357279179345, 0.12012240256706401, 0.12247262348685439, 0.12195035217134542, 0.012534511572215376, 0.9759158089196802, 0.16284141945114483, 0.18916540830978856, 0.11830490341704414, 0.09733754019824072, 0.16314751234485, 0.12335543616317927, 0.08754256759967562, 0.058463742697685464, 0.019078694299319906, 0.9539347149659952, 0.019078694299319906, 0.015328852201457951, 0.12199211543660286, 0.0006387021750607479, 0.0006387021750607479, 0.6029348532573461, 0.04343174790413086, 0.0006387021750607479, 0.21460393082041132, 0.021508197990729977, 0.1845176985520519, 0.0011320104205647355, 0.40186369930048116, 0.049808458504848364, 0.0011320104205647355, 0.34073513658998544, 0.0001638942854472623, 0.001147259998130836, 0.0001638942854472623, 0.19634535396582023, 0.8012791615516653, 0.0004916828563417869, 0.0003277885708945246, 0.0003277885708945246, 0.14939552460911257, 0.10094292203318415, 0.1445502643515197, 0.1611049035649619, 0.05168277608099029, 0.2911193871437031, 0.08842599970106932, 0.012516922332114835, 0.30543720943617464, 0.11312489238376838, 0.08250118414250583, 0.12146642485247049, 0.1564323006801807, 0.08421519766347202, 0.07370258140154606, 0.0630756975715557, 0.9869214924727333, 0.09560814318305483, 0.02046225942663166, 0.6719029841037931, 0.14085443234625328, 0.03695554611964942, 0.012083316989002318, 0.019668464879908882, 0.0026459818224092665, 0.9928967683763386, 0.005014630143314841, 0.9830270528356152, 0.010802495086105661, 0.017673655092782237, 0.5293680501600013, 0.017673655092782237, 0.01094083410505567, 0.14980526697691612, 0.18262776929208313, 0.0016832052469316417, 0.09089308333430865, 0.3770294709523908, 0.27906425645026856, 0.08693924912489136, 0.10899117987935314, 0.004293296253081055, 0.03024822360125289, 0.10411243413721558, 0.00936719182490412, 0.23308062795564072, 0.33077909476339434, 0.12945046852027353, 0.15910893165834158, 0.0038381540531617487, 0.0122123083509692, 0.12491446827562781, 0.006629538819097566, 0.9913100641427816, 0.9044995350028256, 0.00220609642683616, 0.00441219285367232, 0.08383166421977409, 0.04631268787152672, 0.12047776145599957, 0.18217403445967678, 0.4198909078701706, 0.08274749476346208, 0.03594900946670955, 0.09554016029440826, 0.017002909882903167, 0.18052990862331544, 0.022451689143508775, 0.6199415390034158, 0.03299023710882922, 0.047652564712753316, 0.03711401674743287, 0.04032140091079127, 0.019702502717773008, 0.0496578956562824, 0.08220770198131762, 0.19385464859108006, 0.3887091205846356, 0.12175627212368123, 0.08376298282961282, 0.04521423608972469, 0.034771636108314075, 0.018996080318911708, 0.00633202677297057, 0.7915033466213212, 0.0823163480486174, 0.07598432127564683, 0.007915033466213212, 0.014247060239183781, 0.9819004486489495, 0.010790114820318128, 0.9829436130172933], \"Term\": [\"$\", \"$\", \"$\", \"$\", \"$\", \"$\", \"$\", \"$\", \"100,000\", \"10:30\", \"11th\", \"17th\", \"25k\", \"2yo\", \"35k\", \"6f\", \"=_iossmf\", \"ableist\", \"abortion\", \"abortion\", \"abortion\", \"accent\", \"accent\", \"accent\", \"acne\", \"adam\", \"adam\", \"adam\", \"adam\", \"adam\", \"adoption\", \"adoption\", \"adoption\", \"adoption\", \"afford\", \"afford\", \"afford\", \"afford\", \"afford\", \"afford\", \"afford\", \"afford\", \"ago\", \"ago\", \"ago\", \"ago\", \"ago\", \"ago\", \"ago\", \"ago\", \"airline\", \"alex\", \"alex\", \"alex\", \"alex\", \"alex\", \"alex\", \"alex\", \"alice\", \"alice\", \"align\", \"amanda\", \"amanda\", \"ambulance\", \"amp\", \"amy\", \"amy\", \"amy\", \"amy\", \"amy\", \"animal\", \"animal\", \"animal\", \"animal\", \"animal\", \"animals\", \"animals\", \"animals\", \"animals\", \"animals\", \"anna\", \"anna\", \"anna\", \"annie\", \"annie\", \"apartment\", \"apartment\", \"apartment\", \"apartment\", \"apartment\", \"apartment\", \"apartment\", \"apartment\", \"apologises\", \"appreciating\", \"appreciation\", \"art\", \"art\", \"art\", \"art\", \"art\", \"art\", \"asl\", \"aspergers\", \"assets\", \"assets\", \"assets\", \"asshole\", \"asshole\", \"asshole\", \"asshole\", \"asshole\", \"asshole\", \"asshole\", \"asshole\", \"ate\", \"ate\", \"ate\", \"ate\", \"ate\", \"ate\", \"ate\", \"aunt\", \"aunt\", \"aunt\", \"aunt\", \"aunt\", \"aunt\", \"aunt\", \"autistic\", \"autistic\", \"autistic\", \"autistic\", \"autistic\", \"autistic\", \"autistic\", \"autistic\", \"ava\", \"away\", \"away\", \"away\", \"away\", \"away\", \"away\", \"away\", \"away\", \"babies\", \"babies\", \"babies\", \"babies\", \"babies\", \"babies\", \"baby\", \"baby\", \"baby\", \"baby\", \"baby\", \"baby\", \"baby\", \"baby\", \"bacon\", \"bald\", \"balloons\", \"bar\", \"bar\", \"bar\", \"bar\", \"bar\", \"bar\", \"bar\", \"bark\", \"bathe\", \"bathroom\", \"bathroom\", \"bathroom\", \"bathroom\", \"bathroom\", \"bathroom\", \"bathroom\", \"bed\", \"bed\", \"bed\", \"bed\", \"bed\", \"bed\", \"bed\", \"bed\", \"bedroom\", \"bedroom\", \"bedroom\", \"bedroom\", \"bedroom\", \"bedroom\", \"bedroom\", \"bedroom\", \"bench\", \"bench\", \"beth\", \"beth\", \"betty\", \"bf\", \"bf\", \"bf\", \"bf\", \"bf\", \"bf\", \"bf\", \"bf\", \"bil\", \"bil\", \"bil\", \"bil\", \"bil\", \"bil\", \"bil\", \"bil\", \"bill\", \"bill\", \"bill\", \"bill\", \"bill\", \"bill\", \"bill\", \"billy\", \"bins\", \"birth_control\", \"birth_control\", \"birth_control\", \"birthday\", \"birthday\", \"birthday\", \"birthday\", \"birthday\", \"birthday\", \"birthday\", \"birthday\", \"bit\", \"bit\", \"bit\", \"bit\", \"bit\", \"bit\", \"bit\", \"bit\", \"bladder\", \"blended\", \"blinds\", \"body\", \"body\", \"body\", \"body\", \"body\", \"body\", \"body\", \"body\", \"boss\", \"boss\", \"boss\", \"boss\", \"boss\", \"boss\", \"boss\", \"boss\", \"bought\", \"bought\", \"bought\", \"bought\", \"bought\", \"bought\", \"bought\", \"bought\", \"boyfriend\", \"boyfriend\", \"boyfriend\", \"boyfriend\", \"boyfriend\", \"boyfriend\", \"boyfriend\", \"boyfriend\", \"brad\", \"brad\", \"breasts\", \"breasts\", \"breasts\", \"breed\", \"bride\", \"bride\", \"bride\", \"bride\", \"bridesmaid\", \"bridesmaid\", \"bridesmaids\", \"bridesmaids\", \"bridezilla\", \"bridezilla\", \"brother\", \"brother\", \"brother\", \"brother\", \"brother\", \"brother\", \"brother\", \"brother\", \"buy\", \"buy\", \"buy\", \"buy\", \"buy\", \"buy\", \"buy\", \"buy\", \"buying\", \"buying\", \"buying\", \"buying\", \"buying\", \"buying\", \"buying\", \"buying\", \"cake\", \"cake\", \"cake\", \"cake\", \"cake\", \"cake\", \"cake\", \"cake\", \"called\", \"called\", \"called\", \"called\", \"called\", \"called\", \"called\", \"called\", \"came\", \"came\", \"came\", \"came\", \"came\", \"came\", \"came\", \"came\", \"campaign\", \"campaign\", \"campaign\", \"car\", \"car\", \"car\", \"car\", \"car\", \"car\", \"car\", \"car\", \"care\", \"care\", \"care\", \"care\", \"care\", \"care\", \"care\", \"care\", \"carpet\", \"carpet\", \"cat\", \"cat\", \"cat\", \"cat\", \"cat\", \"cats\", \"cats\", \"cats\", \"cats\", \"cats\", \"chair\", \"chair\", \"chair\", \"chair\", \"chair\", \"chair\", \"changed_password\", \"charlie\", \"checkup\", \"cheese\", \"cheese\", \"chicken\", \"child\", \"child\", \"child\", \"child\", \"child\", \"child\", \"child\", \"child\", \"child_support\", \"child_support\", \"child_support\", \"child_support\", \"children\", \"children\", \"children\", \"children\", \"children\", \"children\", \"children\", \"children\", \"chili\", \"chloe\", \"christmas\", \"christmas\", \"christmas\", \"christmas\", \"christmas\", \"christmas\", \"christmas\", \"christmas\", \"class\", \"class\", \"class\", \"class\", \"class\", \"class\", \"class\", \"class\", \"classist\", \"clean\", \"clean\", \"clean\", \"clean\", \"clean\", \"clean\", \"clean\", \"clean\", \"cleaning\", \"cleaning\", \"cleaning\", \"cleaning\", \"cleaning\", \"cleaning\", \"cleaning\", \"cleaning\", \"closes\", \"co_worker\", \"co_worker\", \"co_worker\", \"co_worker\", \"co_worker\", \"coach\", \"coach\", \"colleagues\", \"colleagues\", \"colleagues\", \"colleagues\", \"colleagues\", \"colleagues\", \"college\", \"college\", \"college\", \"college\", \"college\", \"college\", \"college\", \"college\", \"come\", \"come\", \"come\", \"come\", \"come\", \"come\", \"come\", \"come\", \"comments\", \"comments\", \"comments\", \"comments\", \"comments\", \"comments\", \"comments\", \"comments\", \"company\", \"company\", \"company\", \"company\", \"company\", \"company\", \"company\", \"company\", \"condoms\", \"condoms\", \"congratulated\", \"constructive_criticism\", \"contractor\", \"conversion\", \"converting\", \"cook\", \"cook\", \"cook\", \"cook\", \"cook\", \"cook\", \"cook\", \"cooked\", \"cooked\", \"cooked\", \"cooked\", \"cookies\", \"cookies\", \"cooking\", \"cooking\", \"cooking\", \"cooking\", \"cooking\", \"cooking\", \"cooks\", \"cooks\", \"coping_mechanism\", \"cops\", \"cops\", \"cops\", \"cops\", \"cops\", \"cousin\", \"cousin\", \"cousin\", \"cousin\", \"cousin\", \"cousin\", \"cousin\", \"cousin\", \"coworker\", \"coworker\", \"coworker\", \"coworker\", \"coworker\", \"coworker\", \"coworker\", \"coworker\", \"coworkers\", \"coworkers\", \"coworkers\", \"coworkers\", \"coworkers\", \"coworkers\", \"curly_hair\", \"curtains\", \"custody\", \"custody\", \"custody\", \"custody\", \"custody\", \"custody\", \"custody_agreement\", \"dad\", \"dad\", \"dad\", \"dad\", \"dad\", \"dad\", \"dad\", \"dad\", \"dairy\", \"dairy_free\", \"daisy\", \"daisy\", \"daisy\", \"daisy\", \"dance\", \"dance\", \"dance\", \"dance\", \"dance\", \"dance\", \"dance\", \"daniel\", \"data\", \"data\", \"data\", \"data\", \"data\", \"daugher\", \"daughter\", \"daughter\", \"daughter\", \"daughter\", \"daughter\", \"daughter\", \"daughter\", \"daughter\", \"daughters\", \"daughters\", \"daughters\", \"daughters\", \"daughters\", \"daughters\", \"daughters\", \"day\", \"day\", \"day\", \"day\", \"day\", \"day\", \"day\", \"day\", \"daycare\", \"daycare\", \"daycare\", \"daycare\", \"daycare\", \"days\", \"days\", \"days\", \"days\", \"days\", \"days\", \"days\", \"days\", \"decided\", \"decided\", \"decided\", \"decided\", \"decided\", \"decided\", \"decided\", \"decided\", \"decor\", \"department\", \"department\", \"department\", \"diagnosed_adhd\", \"diamond\", \"diamond\", \"diamond\", \"diamonds\", \"diamonds\", \"died\", \"died\", \"died\", \"died\", \"died\", \"died\", \"died\", \"died\", \"diet\", \"diet\", \"diet\", \"different\", \"different\", \"different\", \"different\", \"different\", \"different\", \"different\", \"different\", \"dil\", \"dil\", \"dinner\", \"dinner\", \"dinner\", \"dinner\", \"dinner\", \"dinner\", \"dinner\", \"dinner\", \"disabled\", \"disabled\", \"disabled\", \"disabled\", \"disabled\", \"disabled\", \"disabled\", \"dish\", \"dish\", \"dish\", \"dish\", \"dishes\", \"dishes\", \"dishes\", \"dishes\", \"dishwasher\", \"disliking\", \"dog\", \"dog\", \"dog\", \"dog\", \"dog\", \"dog\", \"dog\", \"dogs\", \"dogs\", \"dogs\", \"dogs\", \"dogs\", \"dogs\", \"dolls\", \"dolls\", \"dolls\", \"door\", \"door\", \"door\", \"door\", \"door\", \"door\", \"door\", \"door\", \"doorbell\", \"doorbell\", \"doordash\", \"doting\", \"doubts\", \"downstairs\", \"downstairs\", \"downstairs\", \"downstairs\", \"downstairs\", \"dress\", \"dress\", \"dress\", \"dress\", \"dress\", \"dress_shopping\", \"dresses\", \"dresses\", \"dresses\", \"drive\", \"drive\", \"drive\", \"drive\", \"drive\", \"drive\", \"drive\", \"drive\", \"driveway\", \"driving\", \"driving\", \"driving\", \"driving\", \"driving\", \"driving\", \"driving\", \"driving\", \"dye\", \"earrings\", \"earrings\", \"ears_pierced\", \"eat\", \"eat\", \"eat\", \"eat\", \"eat\", \"eat\", \"eat\", \"eat\", \"eat_meat\", \"eating\", \"eating\", \"eating\", \"eating\", \"eating\", \"eating\", \"eating\", \"eating\", \"ella\", \"ella\", \"ellie\", \"email\", \"email\", \"email\", \"email\", \"email\", \"email\", \"email\", \"email\", \"emily\", \"emma\", \"emma\", \"emma\", \"employees\", \"employees\", \"employees\", \"employees\", \"engagement_ring\", \"engagement_ring\", \"engagement_ring\", \"english\", \"english\", \"english\", \"english\", \"english\", \"english\", \"english\", \"english\", \"enrolled\", \"errands\", \"essay\", \"estate\", \"estate\", \"ex\", \"ex\", \"ex\", \"ex\", \"ex\", \"ex\", \"ex\", \"ex\", \"expensive\", \"expensive\", \"expensive\", \"expensive\", \"expensive\", \"expensive\", \"expensive\", \"expensive\", \"f33\", \"family\", \"family\", \"family\", \"family\", \"family\", \"family\", \"family\", \"family\", \"father\", \"father\", \"father\", \"father\", \"father\", \"father\", \"father\", \"father\", \"favoring\", \"feel\", \"feel\", \"feel\", \"feel\", \"feel\", \"feel\", \"feel\", \"feel\", \"fertility_issues\", \"fiancee\", \"fiancee\", \"fiancee\", \"fiancee\", \"fiancee\", \"fianc\\u00e9\", \"fianc\\u00e9\", \"fianc\\u00e9\", \"fianc\\u00e9\", \"fianc\\u00e9\", \"fianc\\u00e9\", \"fianc\\u00e9\", \"fianc\\u00e9\", \"fianc\\u00e9e\", \"fianc\\u00e9e\", \"fianc\\u00e9e\", \"fianc\\u00e9e\", \"fil\", \"fil\", \"fil\", \"fil\", \"fil\", \"fil\", \"fil\", \"financially\", \"financially\", \"financially\", \"financially\", \"financially\", \"financially\", \"financially\", \"fired\", \"fired\", \"fired\", \"fired\", \"fired\", \"fired\", \"fired\", \"fireworks\", \"floor\", \"floor\", \"floor\", \"floor\", \"floor\", \"floor\", \"floor\", \"floor\", \"flower_girl\", \"food\", \"food\", \"food\", \"food\", \"food\", \"food\", \"food\", \"food\", \"foods\", \"foods\", \"foods\", \"foods\", \"foods\", \"fooling\", \"footage\", \"forest\", \"formula\", \"formula\", \"formula\", \"foster\", \"foster\", \"foster\", \"foster\", \"foster\", \"foster\", \"found\", \"found\", \"found\", \"found\", \"found\", \"found\", \"found\", \"found\", \"fridge\", \"fridge\", \"fridge\", \"friend\", \"friend\", \"friend\", \"friend\", \"friend\", \"friend\", \"friend\", \"friend\", \"friends\", \"friends\", \"friends\", \"friends\", \"friends\", \"friends\", \"friends\", \"friends\", \"fund\", \"fund\", \"fund\", \"funeral\", \"funeral\", \"funeral\", \"funeral\", \"garage\", \"garage\", \"garlic\", \"gay\", \"gay\", \"gay\", \"gay\", \"gay\", \"gay\", \"gender_reveal\", \"gender_reveal\", \"german\", \"german\", \"german\", \"getting\", \"getting\", \"getting\", \"getting\", \"getting\", \"getting\", \"getting\", \"getting\", \"gift\", \"gift\", \"gift\", \"gift\", \"gift\", \"gift\", \"gift\", \"gift\", \"girlfriend\", \"girlfriend\", \"girlfriend\", \"girlfriend\", \"girlfriend\", \"girlfriend\", \"girlfriend\", \"girlfriend\", \"girly\", \"girly\", \"glitter\", \"golden_retriever\", \"good\", \"good\", \"good\", \"good\", \"good\", \"good\", \"good\", \"good\", \"gown\", \"gown\", \"grace\", \"grace\", \"grace\", \"grace\", \"grandbaby\", \"grandparents\", \"grandparents\", \"grandparents\", \"grandparents\", \"grandparents\", \"grandparents\", \"grandson\", \"grandson\", \"grandson\", \"groceries\", \"groceries\", \"groceries\", \"groceries\", \"groceries\", \"groceries\", \"groom\", \"groom\", \"groom\", \"groom\", \"groomsman\", \"groomsmen\", \"guidance_counselor\", \"guy\", \"guy\", \"guy\", \"guy\", \"guy\", \"guy\", \"guy\", \"guy\", \"gym\", \"gym\", \"gym\", \"gym\", \"gym\", \"gym\", \"gym\", \"gym\", \"hair\", \"hair\", \"hair\", \"hair\", \"hair\", \"hair\", \"hair\", \"haircut\", \"hairdresser\", \"hannah\", \"hannah\", \"harry\", \"having\", \"having\", \"having\", \"having\", \"having\", \"having\", \"having\", \"having\", \"hawaii\", \"hawaii\", \"help\", \"help\", \"help\", \"help\", \"help\", \"help\", \"help\", \"help\", \"henry\", \"henry\", \"hired\", \"hired\", \"hired\", \"hired\", \"hired\", \"hired\", \"hired\", \"hoa\", \"holiday_season\", \"home\", \"home\", \"home\", \"home\", \"home\", \"home\", \"home\", \"home\", \"homemade\", \"homophobic\", \"homophobic\", \"homophobic\", \"homophobic\", \"homophobic\", \"honeymoon\", \"honeymoon\", \"honeymoon\", \"hospitalized\", \"hour\", \"hour\", \"hour\", \"hour\", \"hour\", \"hour\", \"hour\", \"hour\", \"hours\", \"hours\", \"hours\", \"hours\", \"hours\", \"hours\", \"hours\", \"hours\", \"house\", \"house\", \"house\", \"house\", \"house\", \"house\", \"house\", \"house\", \"hr\", \"hr\", \"hr\", \"hr\", \"hr\", \"husband\", \"husband\", \"husband\", \"husband\", \"husband\", \"husband\", \"husband\", \"husband\", \"hyphenate\", \"independently\", \"influencer\", \"ingredients\", \"ingredients\", \"inheritance\", \"inheritance\", \"inheritance\", \"ink\", \"inlaws\", \"inlaws\", \"inlaws\", \"interview\", \"interview\", \"interviewing\", \"interviews\", \"interviews\", \"invite\", \"invite\", \"invite\", \"invite\", \"invite\", \"invite\", \"invite\", \"invite\", \"invited\", \"invited\", \"invited\", \"invited\", \"invited\", \"invited\", \"invited\", \"invited\", \"ios_app&utm_name\", \"i\\u2018m\", \"j\", \"j\", \"j\", \"j\", \"j\", \"j\", \"j\", \"jack\", \"jack\", \"jack\", \"jack\", \"jack\", \"jack\", \"jackie\", \"jacob\", \"james\", \"james\", \"james\", \"james\", \"jan\", \"jan\", \"jeff\", \"jeff\", \"jeff\", \"jen\", \"jennifer\", \"jerry\", \"jill\", \"job\", \"job\", \"job\", \"job\", \"job\", \"job\", \"job\", \"job\", \"joe\", \"joe\", \"joe\", \"joe\", \"john\", \"john\", \"john\", \"john\", \"john\", \"joke\", \"joke\", \"joke\", \"joke\", \"joke\", \"joke\", \"joke\", \"joke\", \"josh\", \"josh\", \"julie\", \"kate\", \"keys\", \"keys\", \"keys\", \"keys\", \"kid\", \"kid\", \"kid\", \"kid\", \"kid\", \"kid\", \"kid\", \"kid\", \"kids\", \"kids\", \"kids\", \"kids\", \"kids\", \"kids\", \"kids\", \"kids\", \"l\", \"l\", \"l\", \"l\", \"l\", \"l\", \"label\", \"language\", \"language\", \"language\", \"language\", \"language\", \"language\", \"language\", \"language\", \"laundry\", \"laundry\", \"laundry\", \"laundry\", \"lavish\", \"lawsuit\", \"lawsuit\", \"lawsuit\", \"lax\", \"leah\", \"leash\", \"leave\", \"leave\", \"leave\", \"leave\", \"leave\", \"leave\", \"leave\", \"leave\", \"left\", \"left\", \"left\", \"left\", \"left\", \"left\", \"left\", \"left\", \"leftovers\", \"leo\", \"let\", \"let\", \"let\", \"let\", \"let\", \"let\", \"let\", \"let\", \"life\", \"life\", \"life\", \"life\", \"life\", \"life\", \"life\", \"life\", \"lights\", \"lights\", \"lights\", \"lights\", \"lights\", \"lily\", \"lily\", \"lily\", \"lisa\", \"lisa\", \"little\", \"little\", \"little\", \"little\", \"little\", \"little\", \"little\", \"little\", \"live\", \"live\", \"live\", \"live\", \"live\", \"live\", \"live\", \"live\", \"living_room\", \"living_room\", \"living_room\", \"living_room\", \"living_room\", \"living_room\", \"living_room\", \"living_room\", \"livingroom\", \"liz\", \"loans\", \"loans\", \"loans\", \"loans\", \"look\", \"look\", \"look\", \"look\", \"look\", \"look\", \"look\", \"look\", \"lot\", \"lot\", \"lot\", \"lot\", \"lot\", \"lot\", \"lot\", \"lot\", \"lucas\", \"lucy\", \"lucy\", \"lucy\", \"luke\", \"m\", \"m\", \"m\", \"m\", \"m\", \"m\", \"m\", \"m\", \"maid_honor\", \"maid_honor\", \"makeup\", \"makeup\", \"makeup\", \"makeup\", \"makeup\", \"makeup\", \"making\", \"making\", \"making\", \"making\", \"making\", \"making\", \"making\", \"making\", \"manager\", \"manager\", \"manager\", \"manager\", \"maria\", \"marie\", \"marriage\", \"marriage\", \"marriage\", \"marriage\", \"marriage\", \"marriage\", \"marriage\", \"marriage\", \"married\", \"married\", \"married\", \"married\", \"married\", \"married\", \"married\", \"married\", \"mashed_potatoes\", \"matt\", \"matt\", \"mattress\", \"mattress\", \"mattress\", \"maya\", \"meal\", \"meal\", \"meal\", \"meal\", \"meal\", \"meal\", \"meal\", \"meal\", \"meals\", \"meals\", \"meals\", \"meals\", \"meals\", \"meals\", \"meals\", \"meat\", \"meat\", \"menstrual\", \"met\", \"met\", \"met\", \"met\", \"met\", \"met\", \"met\", \"met\", \"michael\", \"michael\", \"migraine\", \"migraine\", \"mil\", \"mil\", \"mil\", \"mil\", \"mil\", \"mil\", \"mil\", \"mil\", \"mini_fridge\", \"minutes\", \"minutes\", \"minutes\", \"minutes\", \"minutes\", \"minutes\", \"minutes\", \"minutes\", \"miscarriages\", \"mission\", \"mission\", \"mission\", \"mistress\", \"mistress\", \"moh\", \"moh\", \"mom\", \"mom\", \"mom\", \"mom\", \"mom\", \"mom\", \"mom\", \"mom\", \"money\", \"money\", \"money\", \"money\", \"money\", \"money\", \"money\", \"money\", \"month\", \"month\", \"month\", \"month\", \"month\", \"month\", \"month\", \"month\", \"months\", \"months\", \"months\", \"months\", \"months\", \"months\", \"months\", \"months\", \"morning\", \"morning\", \"morning\", \"morning\", \"morning\", \"morning\", \"morning\", \"morning\", \"mother\", \"mother\", \"mother\", \"mother\", \"mother\", \"mother\", \"mother\", \"mother\", \"mum\", \"mum\", \"mum\", \"mum\", \"mum\", \"mum\", \"mum\", \"mum\", \"names\", \"names\", \"names\", \"names\", \"names\", \"names\", \"names\", \"names\", \"nannies\", \"necklace\", \"necklace\", \"need\", \"need\", \"need\", \"need\", \"need\", \"need\", \"need\", \"need\", \"neglectful\", \"neighbor\", \"neighbor\", \"neighbor\", \"neighbors\", \"neighbors\", \"neighbors\", \"neighbors\", \"neighbors\", \"neighbors\", \"neighbourhood\", \"neighbours\", \"neighbours\", \"neighbours\", \"nephew\", \"nephew\", \"nephew\", \"nephew\", \"nephew\", \"nephew\", \"nephew\", \"nephew\", \"new\", \"new\", \"new\", \"new\", \"new\", \"new\", \"new\", \"new\", \"nickname\", \"nickname\", \"nicknames\", \"niece\", \"niece\", \"niece\", \"niece\", \"niece\", \"niece\", \"niece\", \"nieces\", \"nieces\", \"nieces\", \"nieces\", \"nieces\", \"nieces\", \"night\", \"night\", \"night\", \"night\", \"night\", \"night\", \"night\", \"night\", \"noah\", \"noise\", \"noise\", \"noise\", \"noise\", \"nomatter\", \"nt\", \"nt\", \"nt\", \"nt\", \"nt\", \"nt\", \"nt\", \"nt\", \"office\", \"office\", \"office\", \"office\", \"office\", \"office\", \"office\", \"office\", \"oldest\", \"oldest\", \"oldest\", \"oldest\", \"oldest\", \"oldest\", \"oldest\", \"olivia\", \"open_forum\", \"opened_door\", \"opened_door\", \"opened_door\", \"order\", \"order\", \"order\", \"order\", \"order\", \"order\", \"order\", \"order\", \"outside\", \"outside\", \"outside\", \"outside\", \"outside\", \"outside\", \"outside\", \"outside\", \"pagan\", \"paid\", \"paid\", \"paid\", \"paid\", \"paid\", \"paid\", \"paid\", \"paid\", \"pam\", \"parent\", \"parent\", \"parent\", \"parent\", \"parent\", \"parent\", \"parent\", \"parent\", \"parenting\", \"parenting\", \"parenting\", \"parenting\", \"parenting\", \"parenting\", \"parents\", \"parents\", \"parents\", \"parents\", \"parents\", \"parents\", \"parents\", \"parents\", \"park\", \"park\", \"park\", \"park\", \"park\", \"park\", \"park\", \"park\", \"parked\", \"parking\", \"parking\", \"parking_lot\", \"party\", \"party\", \"party\", \"party\", \"party\", \"party\", \"party\", \"party\", \"pasta\", \"pastor\", \"pastor\", \"pastor\", \"pastor\", \"pay\", \"pay\", \"pay\", \"pay\", \"pay\", \"pay\", \"pay\", \"pay\", \"paying\", \"paying\", \"paying\", \"paying\", \"paying\", \"paying\", \"paying\", \"paying\", \"pearl\", \"pearl\", \"peeved\", \"people\", \"people\", \"people\", \"people\", \"people\", \"people\", \"people\", \"people\", \"peppers\", \"perform\", \"perform\", \"perform\", \"person\", \"person\", \"person\", \"person\", \"person\", \"person\", \"person\", \"person\", \"pet\", \"pet\", \"pet\", \"pet\", \"pet\", \"pet\", \"pets\", \"pets\", \"pets\", \"pets\", \"pets\", \"phone\", \"phone\", \"phone\", \"phone\", \"phone\", \"phone\", \"phone\", \"phone\", \"physically_mentally\", \"piercings\", \"piercings\", \"piercings\", \"pm\", \"pm\", \"pm\", \"pm\", \"pm\", \"pm\", \"pm\", \"pm\", \"point\", \"point\", \"point\", \"point\", \"point\", \"point\", \"point\", \"point\", \"porch\", \"porch\", \"portfolio\", \"portfolio\", \"post\", \"post\", \"post\", \"post\", \"post\", \"post\", \"post\", \"post\", \"potatoes\", \"pregnancy\", \"pregnancy\", \"pregnancy\", \"pregnancy\", \"pregnancy\", \"pregnancy\", \"pregnancy_test\", \"pregnant\", \"pregnant\", \"pregnant\", \"pregnant\", \"pregnant\", \"pregnant\", \"pregnant\", \"pregnant\", \"presentation\", \"pretty\", \"pretty\", \"pretty\", \"pretty\", \"pretty\", \"pretty\", \"pretty\", \"pretty\", \"previous_owner\", \"principal\", \"principal\", \"professor\", \"progressive\", \"project\", \"project\", \"project\", \"project\", \"project\", \"project\", \"project\", \"properties\", \"properties\", \"properties\", \"properties\", \"propose\", \"propose\", \"propose\", \"propose\", \"protests\", \"pup\", \"puppy\", \"puppy\", \"puppy\", \"puppy\", \"rachel\", \"realtor\", \"reassure\", \"reception\", \"reception\", \"reception\", \"reception\", \"recipe\", \"recipe\", \"recipe\", \"recipes\", \"recipes\", \"rehome\", \"relationship\", \"relationship\", \"relationship\", \"relationship\", \"relationship\", \"relationship\", \"relationship\", \"relationship\", \"religions\", \"renewed\", \"rent\", \"rent\", \"rent\", \"rent\", \"rent\", \"rent\", \"reported\", \"reported\", \"reported\", \"reported\", \"reported\", \"reset\", \"reset\", \"restaurant\", \"restaurant\", \"restaurant\", \"restaurant\", \"restaurant\", \"restaurant\", \"restaurant\", \"restaurant\", \"retirement\", \"retirement\", \"retirement\", \"retirement\", \"retirement\", \"rice\", \"rice\", \"right\", \"right\", \"right\", \"right\", \"right\", \"right\", \"right\", \"right\", \"ring\", \"ring\", \"ring\", \"ring\", \"ring\", \"ring\", \"rob\", \"rob\", \"rob\", \"room\", \"room\", \"room\", \"room\", \"room\", \"room\", \"room\", \"room\", \"russian\", \"s\", \"s\", \"s\", \"s\", \"s\", \"s\", \"s\", \"s\", \"salad\", \"salad\", \"salsa\", \"samantha\", \"samples\", \"sauce\", \"saying\", \"saying\", \"saying\", \"saying\", \"saying\", \"saying\", \"saying\", \"saying\", \"school\", \"school\", \"school\", \"school\", \"school\", \"school\", \"school\", \"school\", \"sd\", \"sd\", \"seamstress\", \"seats\", \"seats\", \"seats\", \"seats\", \"seats\", \"separate_rooms\", \"service_dog\", \"setting_boundaries\", \"settlement\", \"settlement\", \"sex\", \"sex\", \"sex\", \"sex\", \"sex\", \"sex\", \"sex\", \"sex\", \"shaky\", \"shaky\", \"shave\", \"shaving\", \"siblings\", \"siblings\", \"siblings\", \"siblings\", \"siblings\", \"siblings\", \"siblings\", \"sil\", \"sil\", \"sil\", \"sil\", \"sil\", \"sil\", \"sil\", \"sister\", \"sister\", \"sister\", \"sister\", \"sister\", \"sister\", \"sister\", \"sister\", \"ski\", \"ski\", \"slacking\", \"slang\", \"sleep\", \"sleep\", \"sleep\", \"sleep\", \"sleep\", \"sleep\", \"sleep\", \"sleep\", \"smartphone\", \"snacks\", \"snacks\", \"snacks\", \"snacks\", \"snacks\", \"software\", \"software\", \"son\", \"son\", \"son\", \"son\", \"son\", \"son\", \"son\", \"son\", \"song\", \"song\", \"song\", \"song\", \"song\", \"sons\", \"sons\", \"sons\", \"sons\", \"sons\", \"sons\", \"sons\", \"soup\", \"soup\", \"soup\", \"spanish\", \"spanish\", \"spanish\", \"spanish\", \"spanish\", \"sparkly\", \"spend\", \"spend\", \"spend\", \"spend\", \"spend\", \"spend\", \"spend\", \"spend\", \"spices\", \"spicy\", \"ss\", \"ss\", \"started\", \"started\", \"started\", \"started\", \"started\", \"started\", \"started\", \"started\", \"stay\", \"stay\", \"stay\", \"stay\", \"stay\", \"stay\", \"stay\", \"stay\", \"steak\", \"stepchildren\", \"stepdaughter\", \"stepdaughter\", \"stepkids\", \"stepsister\", \"stepsister\", \"stepsister\", \"stepsister\", \"stepson\", \"stepson\", \"stepson\", \"stepson\", \"stepson\", \"stock\", \"student\", \"student\", \"student\", \"student\", \"student\", \"student\", \"students\", \"students\", \"students\", \"students\", \"surviving\", \"susan\", \"sweep\", \"tampon\", \"tampon\", \"teacher\", \"teacher\", \"teacher\", \"teacher\", \"teacher\", \"teacher\", \"teacher\", \"team\", \"team\", \"team\", \"team\", \"team\", \"team\", \"team\", \"teddy\", \"tell\", \"tell\", \"tell\", \"tell\", \"tell\", \"tell\", \"tell\", \"tell\", \"telling\", \"telling\", \"telling\", \"telling\", \"telling\", \"telling\", \"telling\", \"telling\", \"thank\", \"thank\", \"thank\", \"thank\", \"thank\", \"thank\", \"thank\", \"thank\", \"themed\", \"thing\", \"thing\", \"thing\", \"thing\", \"thing\", \"thing\", \"thing\", \"thing\", \"things\", \"things\", \"things\", \"things\", \"things\", \"things\", \"things\", \"things\", \"thought\", \"thought\", \"thought\", \"thought\", \"thought\", \"thought\", \"thought\", \"thought\", \"tim\", \"tina\", \"toilet\", \"toilet\", \"toilet\", \"toilet\", \"toilet\", \"toilet\", \"tony\", \"trail\", \"trail\", \"travel\", \"travel\", \"travel\", \"travel\", \"travel\", \"travel\", \"travel\", \"trimester\", \"trip\", \"trip\", \"trip\", \"trip\", \"trip\", \"trip\", \"trip\", \"trip\", \"trying\", \"trying\", \"trying\", \"trying\", \"trying\", \"trying\", \"trying\", \"trying\", \"tyler\", \"uncomfortable\", \"uncomfortable\", \"uncomfortable\", \"uncomfortable\", \"uncomfortable\", \"uncomfortable\", \"uncomfortable\", \"uncomfortable\", \"undermining\", \"update\", \"update\", \"update\", \"update\", \"update\", \"update\", \"update\", \"update\", \"upset\", \"upset\", \"upset\", \"upset\", \"upset\", \"upset\", \"upset\", \"upset\", \"upstairs\", \"upstairs\", \"upstairs\", \"upstairs\", \"upstairs\", \"upstairs\", \"upstairs\", \"usable\", \"vacation\", \"vacation\", \"vacation\", \"vacation\", \"vacation\", \"vacation\", \"vacation\", \"vacation\", \"vacations\", \"vacations\", \"vacations\", \"vacations\", \"vacations\", \"vacations\", \"vacations\", \"vacuum\", \"vegan\", \"vegetables\", \"vegetarian\", \"veggies\", \"vet\", \"vet\", \"w/\", \"w/\", \"w/\", \"w/\", \"wake\", \"wake\", \"wake\", \"wake\", \"wake\", \"wake\", \"wake\", \"wakes\", \"wakes\", \"wakes\", \"wanted\", \"wanted\", \"wanted\", \"wanted\", \"wanted\", \"wanted\", \"wanted\", \"wanted\", \"wants\", \"wants\", \"wants\", \"wants\", \"wants\", \"wants\", \"wants\", \"wants\", \"washes\", \"way\", \"way\", \"way\", \"way\", \"way\", \"way\", \"way\", \"way\", \"wealth\", \"wealth\", \"wealth\", \"wear\", \"wear\", \"wear\", \"wear\", \"wear\", \"wear\", \"wear\", \"wear\", \"wearing\", \"wearing\", \"wearing\", \"wearing\", \"wearing\", \"wearing\", \"wearing\", \"wedding\", \"wedding\", \"wedding\", \"wedding\", \"wedding\", \"wedding\", \"wedding\", \"wedding\", \"weeks\", \"weeks\", \"weeks\", \"weeks\", \"weeks\", \"weeks\", \"weeks\", \"weeks\", \"went\", \"went\", \"went\", \"went\", \"went\", \"went\", \"went\", \"went\", \"wfh\", \"wife\", \"wife\", \"wife\", \"wife\", \"wife\", \"wife\", \"wife\", \"wife\", \"windows\", \"windows\", \"wipe\", \"wipe\", \"women\", \"women\", \"women\", \"women\", \"women\", \"women\", \"women\", \"women\", \"work\", \"work\", \"work\", \"work\", \"work\", \"work\", \"work\", \"work\", \"working\", \"working\", \"working\", \"working\", \"working\", \"working\", \"working\", \"working\", \"writer\", \"yard\", \"yard\", \"yard\", \"yard\", \"year\", \"year\", \"year\", \"year\", \"year\", \"year\", \"year\", \"year\", \"year_old\", \"year_old\", \"year_old\", \"year_old\", \"year_old\", \"year_old\", \"year_old\", \"year_old\", \"years\", \"years\", \"years\", \"years\", \"years\", \"years\", \"years\", \"years\", \"youngest\", \"youngest\", \"youngest\", \"youngest\", \"youngest\", \"youngest\", \"youngest\", \"\\ufe0f\", \"\\ufe0f\", \"\\ud83d\\ude05\"]}, \"R\": 30, \"lambda.step\": 0.01, \"plot.opts\": {\"xlab\": \"PC1\", \"ylab\": \"PC2\"}, \"topic.order\": [4, 8, 1, 5, 7, 3, 2, 6]};\n",
       "\n",
       "function LDAvis_load_lib(url, callback){\n",
       "  var s = document.createElement('script');\n",
       "  s.src = url;\n",
       "  s.async = true;\n",
       "  s.onreadystatechange = s.onload = callback;\n",
       "  s.onerror = function(){console.warn(\"failed to load library \" + url);};\n",
       "  document.getElementsByTagName(\"head\")[0].appendChild(s);\n",
       "}\n",
       "\n",
       "if(typeof(LDAvis) !== \"undefined\"){\n",
       "   // already loaded: just create the visualization\n",
       "   !function(LDAvis){\n",
       "       new LDAvis(\"#\" + \"ldavis_el24566138730969443829209627\", ldavis_el24566138730969443829209627_data);\n",
       "   }(LDAvis);\n",
       "}else if(typeof define === \"function\" && define.amd){\n",
       "   // require.js is available: use it to load d3/LDAvis\n",
       "   require.config({paths: {d3: \"https://d3js.org/d3.v5\"}});\n",
       "   require([\"d3\"], function(d3){\n",
       "      window.d3 = d3;\n",
       "      LDAvis_load_lib(\"https://cdn.jsdelivr.net/gh/bmabey/pyLDAvis@3.4.0/pyLDAvis/js/ldavis.v3.0.0.js\", function(){\n",
       "        new LDAvis(\"#\" + \"ldavis_el24566138730969443829209627\", ldavis_el24566138730969443829209627_data);\n",
       "      });\n",
       "    });\n",
       "}else{\n",
       "    // require.js not available: dynamically load d3 & LDAvis\n",
       "    LDAvis_load_lib(\"https://d3js.org/d3.v5.js\", function(){\n",
       "         LDAvis_load_lib(\"https://cdn.jsdelivr.net/gh/bmabey/pyLDAvis@3.4.0/pyLDAvis/js/ldavis.v3.0.0.js\", function(){\n",
       "                 new LDAvis(\"#\" + \"ldavis_el24566138730969443829209627\", ldavis_el24566138730969443829209627_data);\n",
       "            })\n",
       "         });\n",
       "}\n",
       "</script>"
      ],
      "text/plain": [
       "PreparedData(topic_coordinates=              x         y  topics  cluster       Freq\n",
       "topic                                                \n",
       "3      0.040321 -0.068039       1        1  17.174236\n",
       "7      0.061226 -0.002091       2        1  15.799579\n",
       "0     -0.100515  0.062917       3        1  14.230888\n",
       "4     -0.126935  0.011151       4        1  13.816611\n",
       "6     -0.001756  0.097398       5        1  13.315888\n",
       "2     -0.008203  0.049465       6        1  11.229085\n",
       "1     -0.042553 -0.172392       7        1   9.267510\n",
       "5      0.178415  0.021590       8        1   5.166203, topic_info=          Term          Freq         Total Category  logprob  loglift\n",
       "40    daughter   8462.000000   8462.000000  Default  30.0000  30.0000\n",
       "262        son   7171.000000   7171.000000  Default  29.0000  29.0000\n",
       "275       wife  11337.000000  11337.000000  Default  28.0000  28.0000\n",
       "500      money   8061.000000   8061.000000  Default  27.0000  27.0000\n",
       "2120   wedding   6101.000000   6101.000000  Default  26.0000  26.0000\n",
       "...        ...           ...           ...      ...      ...      ...\n",
       "179     trying    342.608097   4767.577934   Topic8  -5.8075   0.3300\n",
       "118      point    325.471075   3850.295848   Topic8  -5.8588   0.4924\n",
       "60         guy    309.766606   2157.511377   Topic8  -5.9083   1.0221\n",
       "78        left    329.920712   6106.473837   Topic8  -5.8452   0.0448\n",
       "25        came    324.046485   6277.783584   Topic8  -5.8632  -0.0009\n",
       "\n",
       "[727 rows x 6 columns], token_table=       Topic      Freq      Term\n",
       "term                            \n",
       "2523       1  0.028553         $\n",
       "2523       2  0.035351         $\n",
       "2523       3  0.005439         $\n",
       "2523       4  0.133588         $\n",
       "2523       5  0.001020         $\n",
       "...      ...       ...       ...\n",
       "280        6  0.007915  youngest\n",
       "280        7  0.014247  youngest\n",
       "6118       2  0.981900         ️\n",
       "6118       6  0.010790         ️\n",
       "11783      6  0.982944         😅\n",
       "\n",
       "[2428 rows x 3 columns], R=30, lambda_step=0.01, plot_opts={'xlab': 'PC1', 'ylab': 'PC2'}, topic_order=[4, 8, 1, 5, 7, 3, 2, 6])"
      ]
     },
     "execution_count": 53,
     "metadata": {},
     "output_type": "execute_result"
    }
   ],
   "source": [
    "import pyLDAvis\n",
    "import pyLDAvis.gensim_models as gensimvis\n",
    "pyLDAvis.enable_notebook()\n",
    "\n",
    "# feed the LDA model into the pyLDAvis instance\n",
    "lda_viz = gensimvis.prepare(lda_model, corpus, dictionary)\n",
    "lda_viz"
   ]
  },
  {
   "cell_type": "markdown",
   "metadata": {
    "id": "jOGnQ-WiZW0h"
   },
   "source": [
    "On the left, there is a 2D plot of the \"distance\" between all of the topics (labeled as the Intertopic Distance Map). This plot uses a multidimensional scaling (MDS) algorithm. \n",
    "- Similar topics should appear close together on the plot; dissimilar topics should appear far apart. \n",
    "- The relative size of a topic's circle in the plot corresponds to the relative frequency of the topic in the corpus.\n",
    "\n",
    "### Exploring topics and words\n",
    "- You can scrutinize a topic more closely by clicking on its circle, or entering its number in the \"selected topic\" box in the upper-left (Note that, though the data used by gensim and pyLDAvis are the same, they don't use the same ID numbers for topics.)\n",
    "- If you roll your mouse over a term in the bar chart on the right, the topic circles will resize in the plot on the left. This shows the strength of the relationship between the topics and the selected term.\n",
    "\n",
    "### Salience\n",
    "On the right, there is a bar chart with the top terms. When no topic is selected in the plot on the left, the bar chart shows the top-30 most **salient** terms in the corpus. A term's saliency is a measure of both how frequent the term is in the corpus and how \"distinctive\" it is in distinguishing between different topics.\n",
    "\n",
    "### Probability Vs Exclusivity \n",
    "When you select a particular topic, this bar chart changes to show the top-30 most \"relevant\" terms for the selected topic. The relevance metric is controlled by the parameter λ, which can be adjusted with a slider above the bar chart:\n",
    "\n",
    "* Setting λ close to 1.0 (the default) will rank the terms according to their probability within the topic.\n",
    "* Setting λ close to 0.0 will rank the terms according to their \"distinctiveness\" or \"exclusivity\" within the topic. This means that terms that occur only in this topic, and do not occur in other topics.\n",
    "\n",
    "You can move the slider between 0.0 and 1.0 to weigh term probability and exclusivity.\n",
    "\n",
    "### Exploring the graph\n",
    "The interactive visualization pyLDAvis produces is helpful for **individual** topics: you can manually select each topic to view its top most frequent and/or \"relevant\" terms, using different values of the λ parameter. This can help when you're trying to assign a name or \"meaning\" to each topic. \n",
    "\n",
    "It also helps you to see the **relationships** between topics: exploring the Intertopic Distance Plot can help you learn about how topics relate to each other, including potential higher-level structure between groups of topics.\n",
    "\n",
    "### Getting insights about the model\n",
    "As you can see, this model probably has too many topics: they are overlapping, and most of them appear in one corner of the graph. So we have our first hint that we might want to alter our model. Let's start by tweaking our data."
   ]
  },
  {
   "cell_type": "markdown",
   "metadata": {
    "id": "BwWnkvExc11X"
   },
   "source": [
    "<a id='data'></a>\n",
    "\n",
    "# Tweaking the data\n",
    "\n",
    "Remember we used the lemmas of our dataset? What if we tweaked it some more -- for instance, by POS tagging?\n",
    "\n",
    "POS - Part of Speech - tagging is the process of marking up a word in a corpus to a corresponding part of a speech tag (noun, adjective, verb, etc.). Often it is a process of converting a sentence to a list of tuples where each tuple takes the form of (word, tag).\n",
    "\n",
    "Let's do this with spaCy."
   ]
  },
  {
   "cell_type": "code",
   "execution_count": 11,
   "metadata": {
    "id": "WZtZ7YtScsMX"
   },
   "outputs": [],
   "source": [
    "import warnings\n",
    "warnings.simplefilter(\"ignore\", DeprecationWarning)\n",
    "\n",
    "import spacy\n",
    "#!spacy download en_core_web_sm\n",
    "nlp = spacy.load('en_core_web_sm')\n",
    "\n",
    "def POS(text, allowed_postags = ['NOUN', 'ADJ']):\n",
    "    parsed = nlp(text)\n",
    "    return [token.lemma_ for token in parsed if token.pos_ in allowed_postags]"
   ]
  },
  {
   "cell_type": "code",
   "execution_count": 12,
   "metadata": {},
   "outputs": [],
   "source": [
    "# turn our POS tagged lemmas into a string so we can save them in our DF\n",
    "str_pos_lemmas = [' '.join(t) for t in lemmas_split]"
   ]
  },
  {
   "cell_type": "code",
   "execution_count": 13,
   "metadata": {},
   "outputs": [
    {
     "name": "stderr",
     "output_type": "stream",
     "text": [
      "100%|█████████████████████████████████████| 16309/16309 [06:40<00:00, 40.70it/s]\n"
     ]
    }
   ],
   "source": [
    "# This will take a long time\n",
    "from tqdm import tqdm\n",
    "\n",
    "pos_lemmas_split = [POS(text) for text in tqdm(df['pp_text'])]"
   ]
  },
  {
   "cell_type": "markdown",
   "metadata": {},
   "source": [
    "Next, we need to create new dictionary and corpus objects for Gensim."
   ]
  },
  {
   "cell_type": "code",
   "execution_count": 14,
   "metadata": {},
   "outputs": [
    {
     "name": "stderr",
     "output_type": "stream",
     "text": [
      "100%|██████████████████████████████████| 16309/16309 [00:00<00:00, 20805.16it/s]\n",
      "100%|██████████████████████████████████| 16309/16309 [00:00<00:00, 20805.93it/s]\n"
     ]
    }
   ],
   "source": [
    "# Create Dictionary \n",
    "pos_dictionary = corpora.Dictionary(tqdm(pos_lemmas_split))\n",
    "\n",
    "# filter extremes and assign new ids\n",
    "pos_dictionary.filter_extremes(no_below=10, no_above=0.4)\n",
    "pos_dictionary.compactify() \n",
    "\n",
    "# SAVE DICT\n",
    "pos_dictionary.save('../../data/aita_pos_lda.dict')\n",
    "\n",
    "# Create Document-Term Matrix of our whole corpus \n",
    "pos_corpus = [pos_dictionary.doc2bow(text) for text in tqdm(pos_lemmas_split)]\n"
   ]
  },
  {
   "cell_type": "markdown",
   "metadata": {
    "id": "1sP9L4KPXyXm"
   },
   "source": [
    "<a id='hyper'></a>\n",
    "\n",
    "# Tweaking hyperparameters\n",
    "\n",
    "Next, let's change some hyperparameters. This can also determine how interpretable our topic models become.\n",
    "\n",
    "`passes` controls how often we train the model on the entire corpus. Another word for passes might be “epochs”. It defaults to `1` but we might want to set it to a higher number.\n",
    " \n",
    "Gensim's designer suggests the following way to choose the amount of passes. First, enable `logging`, and set `eval_every = 1` in `LdaModel`. This will yield a **perplexity** score for every update. Perplexity is a measure of how well a probability model predicts a sample. It captures how surprised a model is of new data it has not seen before, and is measured as the normalized log-likelihood of a held-out test set. \n"
   ]
  },
  {
   "cell_type": "code",
   "execution_count": 15,
   "metadata": {
    "id": "ufxXZDJMYKB2"
   },
   "outputs": [],
   "source": [
    "import logging\n",
    "for handler in logging.root.handlers[:]:\n",
    "    logging.root.removeHandler(handler)\n",
    "\n",
    "logging.basicConfig(filename='../../data/gensim.log', filemode='w', format=\"%(asctime)s:%(levelname)s:%(message)s\", level=logging.INFO)\n",
    "\n",
    "lda_model_tweak = LdaModel(corpus=pos_corpus,\n",
    "                           id2word=pos_dictionary,\n",
    "                           num_topics=20, \n",
    "                           random_state=100,\n",
    "                           eval_every=1,           # show perplexity after every update for visualization\n",
    "                           passes=5,               # number of model training cycles, aka epochs\n",
    "                           per_word_topics=False)"
   ]
  },
  {
   "cell_type": "markdown",
   "metadata": {
    "id": "Jgq0gBoOTNha"
   },
   "source": [
    "Using regular expressions we can now search through our newly created \"gensim.log\" file and find  / plot the relevant information.\n",
    "This shows how topic/word assignments reach a steady state and no longer change much, (i.e. converge). Adding \"passes\" when running the topic model can increase the log-likelihood. The higher the value of the log-likelihood, the better our model fits the dataset."
   ]
  },
  {
   "cell_type": "code",
   "execution_count": 16,
   "metadata": {},
   "outputs": [
    {
     "data": {
      "image/png": "[encoded data removed]",
      "text/plain": [
       "<Figure size 432x288 with 1 Axes>"
      ]
     },
     "metadata": {
      "needs_background": "light"
     },
     "output_type": "display_data"
    }
   ],
   "source": [
    "import matplotlib.pyplot as plt\n",
    "%matplotlib inline\n",
    "import re\n",
    "\n",
    "p = re.compile(r\"(-*\\d+\\.\\d+) per-word .* (\\d+\\.\\d+) perplexity\")\n",
    "matches = [p.findall(l) for l in open('../../data/gensim.log')]\n",
    "matches = [m for m in matches if len(m) > 0]\n",
    "tuples = [t[0] for t in matches]\n",
    "likelihood = [float(t[0]) for t in tuples]\n",
    "perplexity = [float(t[1]) for t in tuples]\n",
    "iter = list(range(0,len(tuples)*10,10))\n",
    "plt.plot(iter,likelihood,c=\"black\")\n",
    "plt.ylabel(\"log likelihood\")\n",
    "plt.xlabel(\"iteration\")\n",
    "plt.title(\"Topic Model Convergence\")\n",
    "plt.grid()"
   ]
  },
  {
   "cell_type": "markdown",
   "metadata": {},
   "source": [
    " Note that the graph contains about 5 \"peaks\", which refers to the number of `passes` we set above. As you can see, the model converges quite rapidly, so we do not need to set `passes` very high."
   ]
  },
  {
   "cell_type": "markdown",
   "metadata": {
    "id": "osn95IYrZW0i"
   },
   "source": [
    "<a id='coh'></a>\n",
    "\n",
    "# Calculating Topic Coherence\n",
    "\n",
    "We can also apply statistical measures to help us determine the optimal number of topics in our topic model.\n",
    "\n",
    "**Topic Coherence** measures the score of a single topic by measuring the degree of semantic similarity between high scoring words in the topic. This helps to distinguish between topics that are semantically interpretable topics, and topics that are artifacts of statistical inference. \n",
    "\n",
    "A set of statements or facts is said to be coherent if the statements support each other. An example of a coherent fact set is “the game is a team sport”, “the game is played with a ball”, “the game demands great physical efforts”\n",
    "\n",
    "A good model will generate topics with *high* topic coherence scores. Good topics are topics that can be described by a short label, therefore this is what the topic coherence measure should capture.\n",
    "\n",
    "💡**Tip**: There are different ways to measure coherence. For instance, the c_v measure used here is calculated based on a combination of confirmation measures, such as how often word pairs occur together."
   ]
  },
  {
   "cell_type": "code",
   "execution_count": 17,
   "metadata": {
    "colab": {
     "base_uri": "https://localhost:8080/"
    },
    "executionInfo": {
     "elapsed": 43064,
     "status": "ok",
     "timestamp": 1639913530642,
     "user": {
      "displayName": "Tom van Nuenen",
      "photoUrl": "https://lh3.googleusercontent.com/a-/AOh14GhuBmxDvW5I_LJfZtwlPqMFD8QGLVPP3skvpkTnuQ=s64",
      "userId": "10012302451096885058"
     },
     "user_tz": -60
    },
    "id": "wQFU0eNUZW0i",
    "outputId": "9de0d9f7-993b-4228-b6a7-0bbc8e25ffd5",
    "scrolled": true
   },
   "outputs": [
    {
     "name": "stderr",
     "output_type": "stream",
     "text": [
      "100%|███████████████████████████████████| 16309/16309 [00:07<00:00, 2329.65it/s]\n"
     ]
    },
    {
     "name": "stdout",
     "output_type": "stream",
     "text": [
      "\n",
      "Coherence Score:  0.4220153375618997\n"
     ]
    }
   ],
   "source": [
    "#import logging\n",
    "#logging.getLogger().setLevel(logging.CRITICAL)\n",
    "import warnings\n",
    "warnings.simplefilter(\"ignore\", DeprecationWarning)\n",
    "\n",
    "# Compute Coherence Score\n",
    "coherence_model = CoherenceModel(model=lda_model_tweak, corpus=pos_corpus, texts=tqdm(pos_lemmas_split), dictionary=pos_dictionary, coherence='c_v') \n",
    "coherence = coherence_model.get_coherence()\n",
    "print('\\nCoherence Score: ', coherence)"
   ]
  },
  {
   "cell_type": "markdown",
   "metadata": {
    "id": "Xg-5r0htZW0k"
   },
   "source": [
    "There's no hard or fast rule on what makes a good coherence score.\n",
    "In general, a coherence score of <.4 means you probably are not using the right number of topics. .6 to .7 is good. Anything more is suspiciously great. As you can see, our coherence score here is very low, so we should definitely try to improve upon our model."
   ]
  },
  {
   "cell_type": "markdown",
   "metadata": {
    "id": "RjFdiMk6ZW0v"
   },
   "source": [
    "<a id='topics'></a>\n",
    "# Changing number of topics\n",
    "\n",
    "The final and most important thing we can do to find optimal scores is to play around with the amount of topics our model creates. One way to do this is to build many LDA models with different values of number of topics (k), and then pick the one that gives the highest coherence value. Choosing a ‘k’ at the end of a rapid growth of topic coherence usually yields meaningful and interpretable topics. If you see the same keywords being repeated in multiple topics, it’s probably a sign that the ‘k’ is too large.\n",
    "\n",
    "This `compute_coherence_values()` function trains multiple LDA models, provides the models, and tells you their corresponding coherence scores.\n",
    "\n",
    "Also note the docstring I create here: these are documentation for the functions we create. It describes what a function does, and can be called using `help(function_X)`."
   ]
  },
  {
   "cell_type": "code",
   "execution_count": 30,
   "metadata": {
    "id": "oOZRa_4LZW0w"
   },
   "outputs": [],
   "source": [
    "from gensim.models.ldamodel import LdaModel\n",
    "from gensim.models.coherencemodel import CoherenceModel\n",
    "from tqdm import tqdm\n",
    "\n",
    "def compute_coherence_values(dictionary, corpus, texts, start=5, limit=20, step=3):\n",
    "    \"\"\"\n",
    "    Compute c_v coherence for various number of topics\n",
    "    \"\"\"\n",
    "    coherence_values = []\n",
    "    model_list = []\n",
    "    \n",
    "    for num_topics in tqdm(range(start, limit, step), desc=\"Training LDA models\"):\n",
    "        # Train LDA model\n",
    "        model = LdaModel(\n",
    "            corpus=corpus, \n",
    "            id2word=dictionary, \n",
    "            num_topics=num_topics, \n",
    "            random_state=100,\n",
    "            passes=5,\n",
    "            alpha='auto'\n",
    "        )\n",
    "        \n",
    "        # Calculate coherence\n",
    "        coherence_model = CoherenceModel(\n",
    "            model=model, \n",
    "            texts=texts, \n",
    "            dictionary=dictionary, \n",
    "            coherence='c_v'\n",
    "        )\n",
    "        \n",
    "        model_list.append(model)\n",
    "        coherence_values.append(coherence_model.get_coherence())\n",
    "    \n",
    "    return model_list, coherence_values"
   ]
  },
  {
   "cell_type": "markdown",
   "metadata": {
    "id": "eX4Mc6JZo4sG"
   },
   "source": [
    "Using our new function, let's run a bunch of topic models with different amounts of topics."
   ]
  },
  {
   "cell_type": "code",
   "execution_count": 31,
   "metadata": {
    "colab": {
     "base_uri": "https://localhost:8080/"
    },
    "executionInfo": {
     "elapsed": 242071,
     "status": "ok",
     "timestamp": 1639940656827,
     "user": {
      "displayName": "Tom van Nuenen",
      "photoUrl": "https://lh3.googleusercontent.com/a-/AOh14GhuBmxDvW5I_LJfZtwlPqMFD8QGLVPP3skvpkTnuQ=s64",
      "userId": "10012302451096885058"
     },
     "user_tz": -60
    },
    "id": "LYWcr2NhZW0z",
    "outputId": "0f0f4a01-b509-4c46-d11d-015179e38522"
   },
   "outputs": [
    {
     "name": "stderr",
     "output_type": "stream",
     "text": [
      "Training LDA models: 100%|████████████████████████| 5/5 [01:49<00:00, 21.96s/it]\n"
     ]
    }
   ],
   "source": [
    "# Run the function\n",
    "model_list, coherence_values = compute_coherence_values(\n",
    "    dictionary=pos_dictionary, \n",
    "    corpus=pos_corpus, \n",
    "    texts=pos_lemmas_split\n",
    ")"
   ]
  },
  {
   "cell_type": "markdown",
   "metadata": {
    "id": "ks6jTrgtpC1m"
   },
   "source": [
    "Now, from all those models, let's visualize the output of the coherence scores."
   ]
  },
  {
   "cell_type": "code",
   "execution_count": 20,
   "metadata": {
    "colab": {
     "base_uri": "https://localhost:8080/",
     "height": 279
    },
    "executionInfo": {
     "elapsed": 901,
     "status": "ok",
     "timestamp": 1639940737397,
     "user": {
      "displayName": "Tom van Nuenen",
      "photoUrl": "https://lh3.googleusercontent.com/a-/AOh14GhuBmxDvW5I_LJfZtwlPqMFD8QGLVPP3skvpkTnuQ=s64",
      "userId": "10012302451096885058"
     },
     "user_tz": -60
    },
    "id": "td7Zi7YpZW03",
    "outputId": "dee7e449-79a6-461b-c582-dba9eeb9cef6"
   },
   "outputs": [
    {
     "data": {
      "image/png": "[encoded data removed]",
      "text/plain": [
       "<Figure size 432x288 with 1 Axes>"
      ]
     },
     "metadata": {
      "needs_background": "light"
     },
     "output_type": "display_data"
    }
   ],
   "source": [
    "import matplotlib.pyplot as plt\n",
    "%matplotlib inline\n",
    "\n",
    "# Show graph\n",
    "start=5; limit=20; step=3\n",
    "x = range(start, limit, step) # range uses start, stop, and incrementation\n",
    "plt.plot(x, coherence_values)\n",
    "plt.xlabel(\"Num Topics\")\n",
    "plt.ylabel(\"Coherence score\")\n",
    "plt.legend((\"coherence_values\"), loc='best')\n",
    "plt.show()"
   ]
  },
  {
   "cell_type": "code",
   "execution_count": 34,
   "metadata": {
    "colab": {
     "base_uri": "https://localhost:8080/"
    },
    "executionInfo": {
     "elapsed": 548,
     "status": "ok",
     "timestamp": 1639940764419,
     "user": {
      "displayName": "Tom van Nuenen",
      "photoUrl": "https://lh3.googleusercontent.com/a-/AOh14GhuBmxDvW5I_LJfZtwlPqMFD8QGLVPP3skvpkTnuQ=s64",
      "userId": "10012302451096885058"
     },
     "user_tz": -60
    },
    "id": "2zX73ICjZW05",
    "outputId": "e1593fa6-dcd7-4bf9-eb75-5b838e238b10",
    "scrolled": true
   },
   "outputs": [
    {
     "name": "stdout",
     "output_type": "stream",
     "text": [
      "model_list[0]: Num Topics = 5, Coherence Value = 0.3978\n",
      "model_list[1]: Num Topics = 8, Coherence Value = 0.3937\n",
      "model_list[2]: Num Topics = 11, Coherence Value = 0.4439\n",
      "model_list[3]: Num Topics = 14, Coherence Value = 0.4478\n",
      "model_list[4]: Num Topics = 17, Coherence Value = 0.4307\n"
     ]
    }
   ],
   "source": [
    "# Print these coherence scores\n",
    "c = 0\n",
    "for m, cv in zip(x, coherence_values):\n",
    "    print(f\"model_list[{c}]: Num Topics = {m}, Coherence Value = {round(cv, 4)}\")\n",
    "    c += 1"
   ]
  },
  {
   "cell_type": "markdown",
   "metadata": {
    "id": "DPwvgE04ZW0_"
   },
   "source": [
    "If the coherence score seems to keep increasing, it generally makes sense to pick the model that gave the highest CV before dropping again. Following this \"elbow method\", we have a few options.\n",
    "\n",
    "However, these methods are only heuristics, and the scores we have here are not that far apart. At this point you should *go back* to pyLDAvis using the models from our `model_list`, and compare them to see which topic model looks better (i.e., non-overlapping bubbles spread across the chart with distinct top words). Based on these combined insights, I will pick the model with 8 topics.\n",
    "\n",
    "Note that this is **not** the model with the highest coherence value! While these metrics can be useful, they should never be followed blindly. What matters more is the **interpretability** of topic models."
   ]
  },
  {
   "cell_type": "code",
   "execution_count": 48,
   "metadata": {
    "id": "UzmroqZHm3M3"
   },
   "outputs": [],
   "source": [
    "from gensim import corpora, models, similarities\n",
    "\n",
    "# SAVE MODEL\n",
    "optimal_lda_model = model_list[1]\n",
    "optimal_lda_model.save('../../data/aita_pos_lda_optimal.model')\n"
   ]
  },
  {
   "cell_type": "code",
   "execution_count": 49,
   "metadata": {
    "scrolled": true
   },
   "outputs": [
    {
     "data": {
      "text/html": [
       "\n",
       "<link rel=\"stylesheet\" type=\"text/css\" href=\"https://cdn.jsdelivr.net/gh/bmabey/pyLDAvis@3.4.0/pyLDAvis/js/ldavis.v1.0.0.css\">\n",
       "\n",
       "\n",
       "<div id=\"ldavis_el24566142456256649174307983\" style=\"background-color:white;\"></div>\n",
       "<script type=\"text/javascript\">\n",
       "\n",
       "var ldavis_el24566142456256649174307983_data = {\"mdsDat\": {\"x\": [0.03230086158511986, -0.020440860269540017, -0.06250502976976573, 0.10502514634125398, 0.0887479505658906, -0.22774147181666857, -0.07596523408404403, 0.16057863744775352], \"y\": [-0.15902091239844804, 0.10167498715336121, -0.10405551397777331, 0.03577286372391559, 0.005259055339117061, 0.1386011151106544, -0.13096889588324437, 0.11273730093241716], \"topics\": [1, 2, 3, 4, 5, 6, 7, 8], \"cluster\": [1, 1, 1, 1, 1, 1, 1, 1], \"Freq\": [20.847554756970897, 19.401479040810546, 16.620759973782107, 11.353856470438286, 9.771749138252964, 8.294376896536699, 7.3933998043425335, 6.316823918865983]}, \"tinfo\": {\"Term\": [\"husband\", \"baby\", \"wife\", \"daughter\", \"wedding\", \"friend\", \"money\", \"school\", \"child\", \"sister\", \"mom\", \"son\", \"dog\", \"parent\", \"kid\", \"food\", \"dad\", \"brother\", \"family\", \"room\", \"pregnant\", \"house\", \"cat\", \"mother\", \"hair\", \"class\", \"job\", \"mil\", \"birthday\", \"dress\", \"funeral\", \"glitter\", \"stepmother\", \"stepson\", \"affair\", \"stepbrother\", \"nephews\", \"biological\", \"heritage\", \"russian\", \"computer_science\", \"bff\", \"dil\", \"organ\", \"upbringing\", \"reconcile\", \"45f\", \"pursue\", \"stepdaughter\", \"kyle\", \"previous_marriage\", \"39f\", \"prison\", \"adoptive\", \"reunion\", \"deceased\", \"daughter\", \"childless\", \"ofc\", \"stepkid\", \"grandmother\", \"divorce\", \"grief\", \"mistress\", \"wife\", \"son\", \"father\", \"stepsister\", \"granddaughter\", \"mother\", \"death\", \"therapy\", \"relationship\", \"ex\", \"marriage\", \"eld\", \"brother\", \"life\", \"contact\", \"family\", \"step\", \"child\", \"young\", \"custody\", \"aunt\", \"married\", \"dad\", \"mom\", \"old\", \"love\", \"parent\", \"kid\", \"sibling\", \"talk\", \"good\", \"decision\", \"lot\", \"happy\", \"way\", \"bad\", \"right\", \"husband\", \"reason\", \"month\", \"people\", \"close\", \"asshole\", \"cook\", \"cooking\", \"dish\", \"eat\", \"recipe\", \"tip\", \"pizza\", \"customer\", \"soup\", \"cookie\", \"waitress\", \"snack\", \"sandwich\", \"potato\", \"pepper\", \"sauce\", \"burger\", \"steak\", \"rice\", \"ingredient\", \"salad\", \"dessert\", \"bread\", \"tiktok\", \"vegetable\", \"hungry\", \"tomato\", \"pasta\", \"fry\", \"meal\", \"food\", \"manager\", \"chicken\", \"beer\", \"restaurant\", \"employee\", \"meat\", \"plate\", \"table\", \"lunch\", \"coworker\", \"fridge\", \"breakfast\", \"driver\", \"drink\", \"boss\", \"dinner\", \"order\", \"phone\", \"game\", \"shift\", \"work\", \"night\", \"coffee\", \"minute\", \"morning\", \"people\", \"guy\", \"store\", \"home\", \"hour\", \"way\", \"today\", \"friend\", \"point\", \"asshole\", \"bad\", \"week\", \"good\", \"job\", \"lot\", \"boyfriend\", \"aita\", \"bit\", \"car\", \"little\", \"mortgage\", \"loan\", \"debt\", \"babysitter\", \"payment\", \"hoa\", \"sis\", \"ava\", \"saving\", \"babysitting\", \"asthma\", \"paying_rent\", \"taxis\", \"expense\", \"luxury\", \"settlement\", \"nieces_nephew\", \"mia\", \"paycheck\", \"ps5\", \"jill\", \"10k\", \"income\", \"15f\", \"leah\", \"materialistic\", \"babysat\", \"renovation\", \"rental\", \"pay_bill\", \"money\", \"rent\", \"fund\", \"finance\", \"niece\", \"insurance\", \"inheritance\", \"pay\", \"sister\", \"investment\", \"selling\", \"babysit\", \"salary\", \"financial\", \"parent\", \"mom\", \"dad\", \"cost\", \"kid\", \"job\", \"vacation\", \"mum\", \"bill\", \"car\", \"house\", \"college\", \"month\", \"expensive\", \"live\", \"brother\", \"family\", \"help\", \"home\", \"week\", \"work\", \"old\", \"half\", \"new\", \"able\", \"care\", \"school\", \"good\", \"lot\", \"place\", \"aita\", \"hair\", \"shirt\", \"necklace\", \"homophobic\", \"kate\", \"diamond\", \"jewish\", \"pearl\", \"lauren\", \"jean\", \"piercing\", \"doll\", \"sweater\", \"colour\", \"boob\", \"ally\", \"emma\", \"earring\", \"trim\", \"shave\", \"tea\", \"feminine\", \"shaving\", \"nipple\", \"bisexual\", \"bra\", \"scar\", \"feminist\", \"bracelet\", \"annie\", \"gay\", \"black\", \"religion\", \"pink\", \"makeup\", \"ring\", \"religious\", \"clothing\", \"attractive\", \"church\", \"skin\", \"racist\", \"white\", \"gift\", \"clothe\", \"wear\", \"body\", \"color\", \"sex\", \"woman\", \"girl\", \"joke\", \"cute\", \"man\", \"comment\", \"beautiful\", \"people\", \"uncomfortable\", \"short\", \"guy\", \"weird\", \"little\", \"lot\", \"name\", \"wrong\", \"friend\", \"way\", \"love\", \"bit\", \"post\", \"good\", \"bad\", \"stuff\", \"asshole\", \"big\", \"aita\", \"wedding\", \"flight\", \"bride\", \"bridesmaid\", \"invitation\", \"venue\", \"jane\", \"reception\", \"moh\", \"bachelorette\", \"gown\", \"groom\", \"flag\", \"stripper\", \"fianc\\u00e9e\", \"airline\", \"photographer\", \"propose\", \"balcony\", \"groomsman\", \"bridal\", \"registry\", \"curtain\", \"proposal\", \"skirt\", \"bride_groom\", \"bridezilla\", \"album\", \"spoon\", \"performer\", \"fiance\", \"dress\", \"ceremony\", \"fiancee\", \"dance\", \"party\", \"airport\", \"seat\", \"friendship\", \"song\", \"anniversary\", \"fianc\\u00e9\", \"invite\", \"birthday\", \"photo\", \"friend\", \"cake\", \"guest\", \"date\", \"event\", \"group\", \"trip\", \"bf\", \"planning\", \"boyfriend\", \"people\", \"plan\", \"close\", \"family\", \"night\", \"couple\", \"sister\", \"good\", \"girl\", \"guy\", \"weekend\", \"big\", \"week\", \"upset\", \"lot\", \"idea\", \"dog\", \"cat\", \"neighbor\", \"pad\", \"pet\", \"yard\", \"vet\", \"porch\", \"daisy\", \"garage\", \"puppy\", \"lizard\", \"tampon\", \"carpet\", \"poop\", \"hallway\", \"olivia\", \"leash\", \"duck\", \"wifi\", \"checkup\", \"electric\", \"seizure\", \"parking\", \"h\", \"kitten\", \"doorbell\", \"dental\", \"bark\", \"rabbit\", \"stair\", \"towel\", \"drawer\", \"wipe\", \"neighbour\", \"fence\", \"bathroom\", \"driveway\", \"toilet\", \"animal\", \"door\", \"window\", \"bedroom\", \"roommate\", \"room\", \"tree\", \"clean\", \"bed\", \"noise\", \"apartment\", \"floor\", \"house\", \"space\", \"bag\", \"home\", \"property\", \"park\", \"car\", \"water\", \"use\", \"sleep\", \"live\", \"place\", \"issue\", \"work\", \"hour\", \"new\", \"stuff\", \"week\", \"small\", \"problem\", \"pregnancy\", \"diaper\", \"baby\", \"miscarriage\", \"jess\", \"newborn\", \"gender_reveal\", \"formula\", \"abortion\", \"grace\", \"nursery\", \"triplet\", \"infertile\", \"ancestry\", \"pediatrician\", \"maiden\", \"infant\", \"syndrome\", \"villain\", \"birth_control\", \"breastfeed\", \"ultrasound\", \"menstrual\", \"progressive\", \"crib\", \"unappreciated\", \"procedure\", \"setting_boundarie\", \"c_section\", \"abrasive\", \"mil\", \"infertility\", \"doctor\", \"pregnant\", \"surgery\", \"husband\", \"hub\", \"hospital\", \"labor\", \"appointment\", \"birth\", \"pain\", \"sil\", \"nurse\", \"child\", \"sleep\", \"medical\", \"medication\", \"toddler\", \"week\", \"month\", \"kid\", \"shower\", \"law\", \"help\", \"hour\", \"care\", \"work\", \"night\", \"home\", \"able\", \"bad\", \"family\", \"son\", \"wife\", \"old\", \"aita\", \"teacher\", \"student\", \"principal\", \"classmate\", \"coach\", \"class\", \"spanish\", \"exam\", \"assignment\", \"deaf\", \"drawing\", \"english\", \"german\", \"professor\", \"campaign\", \"academic\", \"classroom\", \"virtual\", \"snake\", \"presentation\", \"ableist\", \"jenny\", \"substitute\", \"aid\", \"tyler\", \"kayla\", \"essay\", \"internship\", \"ethnic\", \"pronounce\", \"semester\", \"politic\", \"grade\", \"campus\", \"team\", \"accent\", \"school\", \"email\", \"language\", \"datum\", \"art\", \"project\", \"mark\", \"volunteer\", \"degree\", \"interview\", \"weight\", \"book\", \"test\", \"study\", \"office\", \"university\", \"college\", \"company\", \"meeting\", \"vegan\", \"career\", \"people\", \"work\", \"job\", \"friend\", \"lot\", \"laptop\", \"local\", \"week\", \"good\", \"different\", \"new\", \"bad\", \"way\", \"hour\"], \"Freq\": [8911.0, 5813.0, 12067.0, 9486.0, 5624.0, 13291.0, 7734.0, 4827.0, 7428.0, 10295.0, 11198.0, 7269.0, 3530.0, 11363.0, 12878.0, 4852.0, 6781.0, 7569.0, 14023.0, 4845.0, 2303.0, 4968.0, 1922.0, 5437.0, 2066.0, 1622.0, 5780.0, 1731.0, 2540.0, 1903.0, 404.91310800460104, 171.83662591673854, 154.33114686599694, 138.0585744111327, 269.5560701073421, 101.12260273417998, 103.40847307954225, 323.76686367488287, 76.51212134448001, 76.12877924651772, 76.30203746909842, 72.36283683429204, 71.54138840612578, 68.98117748621836, 70.36788312387304, 64.51765543504112, 64.09824045722975, 61.84850697741748, 226.9560164370726, 58.341495877414104, 58.875723785830324, 56.486776240181406, 79.22881870560256, 50.42239217429881, 86.58131773564577, 64.58554049983226, 9313.331048104112, 46.92423368420832, 46.35668428108175, 45.921054573889116, 690.9859501123634, 603.7512480377649, 187.50044594096076, 71.43670027172233, 11236.507195131098, 6765.355278202004, 1731.1776117009028, 218.4441115621634, 107.87766351104635, 4611.922626897262, 462.43658433464424, 894.880405840769, 2658.362395550504, 488.2501926222493, 859.2673799324555, 179.13301325095637, 5130.755906896813, 3497.283647476856, 901.3349220166389, 8000.888630128217, 814.905988109621, 3918.244399378331, 1653.4167680008286, 435.5166708061914, 821.8460127284682, 916.4410878381856, 2757.235810565262, 4015.7416249935704, 1997.7029576825596, 1383.7556710112547, 3346.8307115811126, 3635.2930658142377, 846.6444615242266, 1499.490597927428, 2181.607557787478, 828.2634924751108, 1823.848057149356, 1163.7600040627274, 1568.6972911345395, 1458.1185578288494, 1240.0613113420625, 1507.7626693399015, 1023.2867899651015, 1113.2656806690215, 1165.1442631882887, 963.9215492203258, 1008.5863988754801, 803.3590362674512, 703.0190973383287, 839.7564116420958, 672.842391405644, 471.00978838786733, 411.2219505183853, 384.8403881711456, 293.3628365525018, 263.5078265754623, 239.92501904233671, 233.6397862308814, 456.82100716090866, 194.29201338846627, 188.29455554360501, 174.15523366871204, 164.90220154380202, 161.349506861514, 155.9001511111165, 148.7557827330994, 146.24523723116405, 145.36735474872015, 150.92508672807742, 129.0331445227948, 131.08598785647823, 153.78104905904254, 300.1031514475529, 114.35696449962296, 113.48829434691933, 112.85607632607417, 1525.2572586794245, 4784.485982366464, 727.9727275591034, 312.7047778633796, 265.5710521697351, 1106.2018715295972, 536.5666043135038, 568.0240972974711, 425.22359885407224, 1031.3566733529142, 978.7305776848377, 833.1512202573341, 374.3653457603682, 417.2561876264682, 251.46644991932337, 892.4082878222972, 594.7948613109093, 2872.720000113864, 1051.452806732628, 2109.345361215686, 813.4575430897263, 455.59716141466714, 4448.916524344116, 2347.7913354640405, 419.5143363102418, 1224.7369673367728, 1099.212214246625, 2740.1776795341398, 1562.2917489711033, 681.2544604228107, 2300.3520546571244, 1475.0554278645525, 1749.3641120839181, 1032.754089199266, 2113.3926774409265, 1201.7608144851597, 1323.2394843310813, 1384.40374934737, 1491.5394873172036, 1486.520469963221, 1342.6306888379543, 1309.5650523433098, 1087.1894163725938, 1120.6359319115875, 1006.8389579654163, 1032.3803838626384, 980.9948912736846, 409.32429035931426, 411.55459153841343, 415.06100351852166, 276.33137775631974, 466.48338597935066, 177.77253555398067, 172.44591684553592, 153.30535910627228, 540.6936053513256, 142.10012778896512, 129.20198154365912, 122.6903187847156, 110.86656094565443, 507.6495902175543, 103.1746433326605, 95.3779815522317, 80.75892938615105, 74.30334463674811, 75.36624017181676, 69.82716238634445, 69.51995763973034, 68.59905757830572, 628.3517923262743, 62.175202755747904, 61.96297773719339, 60.85243629911292, 56.09144689751524, 54.84245087038288, 180.6159859114532, 48.98500254883262, 7382.641532914399, 1212.2744372581926, 284.4866471249417, 272.7663671369613, 1038.7781980186398, 494.41594815789296, 262.30174484034586, 2053.4336336318993, 8017.827928677419, 136.9882907377804, 124.38234549081675, 273.95423189213517, 206.3871201169631, 432.06051437640525, 7226.52957265641, 6689.151675643159, 4015.8084867445523, 831.094057877076, 7004.892378730051, 3201.4916441909654, 675.6439909748453, 752.6864379005856, 667.0671762947798, 1899.494120099673, 2172.9829237174195, 1163.8997601823087, 2618.469704275298, 728.0700641800627, 1032.04451579427, 2282.76388545612, 3311.119927787253, 1436.1709796203043, 2237.4922235828103, 1883.5370456657147, 2046.534310026609, 1261.4531231934654, 773.6318145239582, 1120.2593538331, 948.5706701613409, 1018.1869098544809, 1077.6085707139, 1134.8984029948772, 1093.9412909925888, 904.5327244979235, 927.6617346417707, 2065.668730647434, 464.17540250320377, 245.38351017912186, 275.7024622381345, 212.49471736051538, 197.41296348021615, 183.37704356250424, 163.13784825425245, 146.00563665258855, 143.4019815514682, 136.16409718222795, 301.9890294718957, 113.23776044273374, 111.5250115682298, 150.19033360397893, 92.94048875692799, 90.39041676004524, 87.59105008814481, 84.16141983959052, 83.74154476662956, 163.2779924650603, 79.41445696777316, 78.68652209231617, 81.52503271825339, 77.25999800782398, 154.06735612485477, 75.61439405154526, 72.97872847774798, 72.84117527856047, 71.94539860605008, 499.95724018283306, 536.6717436529475, 348.2268781467015, 156.0954950689073, 348.301722305153, 1170.3136386859924, 484.82474839143634, 262.8468137087299, 173.43761140943622, 379.1152788039241, 243.5053547305115, 292.5275077723233, 592.338382007109, 1715.254809109836, 879.8971822295732, 428.9679494629094, 652.4442104097268, 351.6274333091614, 391.173682897027, 1687.7370849874005, 1976.8728601558194, 831.2753076854924, 280.268546260758, 1042.9508554037793, 1289.1370380245594, 407.75963381460235, 2146.3453546492874, 757.0492530946544, 554.6142367430537, 1009.353765281965, 595.3942014335985, 1027.257196412073, 1158.8716001799974, 510.08881716600126, 770.8462915802533, 1184.6640385394242, 882.8540840478727, 667.9936910839251, 669.9559068209279, 587.6538985927193, 817.6968325092367, 743.3429328133838, 642.0190291730712, 677.0661018738265, 554.6421147161841, 549.5076808154681, 5621.736753250063, 511.1539693430873, 328.1026817683705, 313.38205422790094, 242.1868565531654, 238.48595957150866, 230.85933421120876, 209.08604354655034, 168.70159655500044, 134.7736354723158, 132.42301122016895, 116.53476352546264, 107.74378533474278, 105.56786058240125, 454.85576412638204, 92.1987195504837, 82.01188134762585, 80.77954277713786, 75.60537208513404, 72.47760463071062, 68.61636179210706, 68.55975170213136, 68.50759448759506, 66.75410012618279, 66.58557537441149, 65.28400200053889, 55.917650202728815, 54.97730664569996, 54.51562602783915, 54.246537565372435, 692.2852560651207, 1783.6313659311008, 285.63630733169373, 369.27652266229643, 279.98224227934253, 1819.2134961425365, 136.33997498503132, 572.5180648702722, 240.59446313217384, 282.44889533968933, 209.23073729933787, 394.76926983698803, 371.6335686523986, 1839.2663679246803, 511.33451191874644, 7364.772686341933, 490.0474808975516, 637.892316988076, 1107.4454492611903, 681.6227999559825, 737.3108130435406, 856.893058185275, 803.6952680534163, 543.2069381936153, 1316.0594033289083, 1743.5434620959904, 734.8469544977327, 749.0681543035026, 1520.7249059452179, 831.6975457388028, 697.2231914826261, 980.3061028935915, 806.0815576502074, 646.3762937634003, 624.2288345384463, 536.152397946024, 583.9031993755997, 621.8288828705765, 559.9562421521665, 588.3100641210519, 545.084569689503, 3529.188173756154, 1921.3962106366373, 1045.4658529850058, 450.4889982566883, 390.8243563181109, 403.2654426649417, 294.9191254428915, 196.93276096983655, 192.10940779433946, 228.6320990569321, 188.3417939417884, 170.1343817516094, 146.1610989537024, 133.51446174443478, 120.14205915760868, 109.7726183398963, 90.23582828939213, 80.60984713900503, 82.0322907339636, 76.52159167128195, 71.611252552659, 68.41891875545518, 65.93939409045925, 152.7798894356612, 57.38695437174769, 55.53282760992533, 54.26828488583448, 53.09273473556412, 52.01835471195649, 56.62155953545622, 181.03287823938444, 130.6978590623981, 119.30712109037854, 146.8924948770905, 363.1430835540235, 210.40456066038325, 1357.0912152205804, 173.2278275901942, 294.88287431165634, 483.335637925828, 1303.0017480843767, 476.8259602341172, 902.2162374005121, 800.4489853626098, 2826.8523839063832, 380.3219986791643, 828.365614942377, 1261.720598681945, 323.89439347771275, 990.6157110870996, 414.66109238970625, 1818.3465838162026, 542.6441658105066, 461.1157789785857, 1934.1999280946677, 428.7384632741753, 330.83218433063365, 1049.3113959878162, 380.93170293332327, 575.4428380211315, 552.191990192824, 509.04188293125696, 564.4863708710803, 584.6919799170126, 662.1634506597006, 552.8870631056685, 501.24786575591594, 486.7939431341748, 520.1971682485188, 461.65554466560945, 470.6944635440036, 829.7131218305118, 294.42613509405965, 5792.387387808858, 181.24400167741132, 178.3981843472005, 190.48045144964422, 121.12333681836213, 119.77748470848341, 182.27491074636703, 108.71944189068664, 93.35188094329342, 77.08548347060355, 68.04353315747527, 64.08978223878961, 62.12403918782037, 59.51635395039711, 76.11479085327248, 49.531251049861496, 49.48807759465342, 46.673537793580465, 45.29978258242578, 44.18013193391457, 42.95402128993047, 43.08147535241774, 41.885990844851335, 41.69563467058985, 102.0398580451337, 41.279458793809134, 35.30373147883498, 35.974876882363034, 1637.0012483760954, 81.36383619603853, 904.4397841185089, 1926.8796371406486, 440.33498627245643, 6290.9491092671515, 136.9999131230157, 644.5434859070745, 130.01549884155628, 407.0704744094987, 448.2216221856436, 486.615990541428, 940.5029353930256, 278.7753891704945, 2866.7717583763892, 938.0026124901713, 318.09398768909347, 217.8095796320023, 164.19059365591232, 1188.584293802951, 1103.253470601724, 1448.2506183484538, 314.9076094304889, 385.3274125526161, 683.273545763705, 705.7041793331618, 597.7125353251629, 866.9813282802255, 587.9569362335147, 686.9450514203069, 451.669390460717, 515.5378273174751, 508.0601806040084, 434.1715297112399, 454.70859667883735, 399.92014719863835, 390.69245385313576, 1395.911969996336, 980.0717499924492, 276.642536096888, 199.47058890648623, 183.99023462252413, 1614.8760146516208, 177.7614597114037, 149.37460004026462, 135.68107211726988, 133.27405791119403, 132.17552729023538, 268.8696781137104, 125.84121023200103, 120.75447653136091, 93.2516327022263, 88.14469016204112, 80.38419469695991, 78.46598806987568, 75.78760974886131, 75.20695915258739, 75.13400661037414, 66.1511454998895, 58.17912324454529, 79.80736233967001, 54.84676771623051, 52.385490723159535, 52.319973939063324, 70.3781504604976, 49.43149211400223, 47.38795418722023, 176.72609197810664, 83.23646939798732, 600.0406812994571, 152.9070595745939, 478.7257128314046, 136.92590926235707, 3320.4873284696273, 572.7542773351206, 350.91486607231235, 127.95476289226784, 404.27401229821237, 374.6537473898642, 205.33257566077114, 129.30563486046685, 381.77328050525716, 235.3569078764655, 438.661994074906, 439.1880990516674, 430.53225619662913, 238.56647303592374, 537.262409366898, 273.8039012220998, 594.5796780657165, 445.47223614714875, 338.35640890679, 289.46521357537875, 271.14252022301434, 962.5532133522753, 851.2481438541874, 689.1721923617392, 779.2723409304865, 577.5441098815957, 284.92082491217286, 286.42649750365, 532.37192493877, 521.4519986588357, 389.32279203603605, 415.30028360466474, 355.6252500523051, 349.3353103284036, 314.6626713084567], \"Total\": [8911.0, 5813.0, 12067.0, 9486.0, 5624.0, 13291.0, 7734.0, 4827.0, 7428.0, 10295.0, 11198.0, 7269.0, 3530.0, 11363.0, 12878.0, 4852.0, 6781.0, 7569.0, 14023.0, 4845.0, 2303.0, 4968.0, 1922.0, 5437.0, 2066.0, 1622.0, 5780.0, 1731.0, 2540.0, 1903.0, 405.9188273559422, 172.7102942375957, 155.2493043220609, 138.9294015301775, 271.57457027694477, 101.99325488071887, 104.33528809695922, 327.1928246055568, 77.38532944558543, 77.00077403997959, 77.17706184951771, 73.23862777559334, 72.41186751176544, 69.85945681169017, 71.2800293270948, 65.3892459644773, 64.9746427967132, 62.72271437846605, 230.33222631460794, 59.21238379861475, 59.7581629029845, 57.363601934079334, 80.59572673162859, 51.29254828662861, 88.09678967384046, 65.71805834585827, 9486.966976674841, 47.80051863258848, 47.2297967013552, 46.79158490865014, 708.966312697227, 620.8880358777217, 192.47834024999972, 72.88999856666902, 12067.007000539323, 7269.461670573356, 1872.12338325195, 226.7947860101501, 110.53329898279088, 5437.819242414799, 515.111911907825, 1044.2538090952812, 3591.7910829849347, 575.9116889205576, 1068.0327668202754, 195.31327530724923, 7569.082276515202, 5309.304952274518, 1188.0925491466164, 14023.286099197023, 1167.522781875309, 7428.491934927171, 2720.306914347175, 571.5420070593669, 1217.4617024703741, 1485.4996465273655, 6781.702806523666, 11198.54355720482, 4841.808325044824, 3103.35144058525, 11363.983198358414, 12878.837952794202, 1552.16747375708, 3875.046162168816, 7379.371512351905, 1541.2093506311232, 7167.375670884566, 3116.718786095679, 6211.5553608343025, 5698.458239168372, 3987.949279888796, 8911.348334844814, 3334.186811243494, 6744.160035785108, 9625.86191906812, 2743.6106584525905, 5068.184971531079, 804.2431200006909, 703.8928704333382, 841.0716610637031, 674.0541885939224, 471.9086228266039, 412.0974662511043, 385.70735966570095, 294.23292405832524, 264.38167497928566, 240.7920913303259, 234.50568290134441, 458.619366374262, 195.15776197157038, 189.1601890301482, 175.02142669877796, 165.76774002098037, 162.21585347759785, 156.76620304764052, 149.62133462126428, 147.11083618928265, 146.2348922863338, 151.86856322525307, 129.89914268068466, 131.991325691246, 154.89300166881438, 302.35054857986995, 115.22494737114427, 114.35392914514102, 113.72362280044766, 1537.7102558495199, 4852.121185413872, 748.1353139018958, 319.1777493290829, 270.41249894610706, 1175.8252643278238, 559.5496250202224, 599.3573260790529, 443.7913851483802, 1146.0122387045058, 1089.9895336772186, 923.233795631087, 396.88938343133754, 445.78697768315044, 260.3101770024144, 1045.9300556433118, 676.9592734220461, 3899.1353387057648, 1325.8738765842163, 3187.519570127069, 1046.0845538088688, 519.7426145869716, 9489.437102888649, 4896.08140069001, 477.703828866537, 2197.0756467399005, 2054.0872544178683, 9625.86191906812, 3906.211961343755, 1003.1165866942819, 8497.70112440193, 4254.215540322224, 6211.5553608343025, 2293.874090406772, 13291.728370109391, 3960.653283096347, 5068.184971531079, 5698.458239168372, 7122.192233609821, 7379.371512351905, 5780.821327076614, 7167.375670884566, 4095.5066270066604, 4977.090713998623, 3209.286878277646, 4004.8891186087026, 4885.348810375219, 410.21066182723126, 412.46144212328113, 416.35957406416463, 277.22711397204625, 468.4942329316901, 178.66312125783153, 173.33596379169342, 154.1927278559079, 543.9624884131258, 142.98647355634267, 130.10140812300415, 123.57653496395294, 111.7701188468832, 511.99805361988535, 104.0935698088797, 96.3369806568434, 81.6461011076187, 75.19058566132303, 76.30020400426365, 70.71344812841768, 70.40737194446653, 69.48557468502156, 637.1852013205499, 63.06318106627541, 62.85025555822345, 61.74379846990391, 56.977825042305156, 55.72985031384924, 183.83203786876092, 49.90687799310975, 7734.1430705332505, 1276.0828302544178, 295.8147901032906, 285.5196377401175, 1134.1221227036697, 530.8888246034727, 276.65875598468125, 2362.353682578156, 10295.156894893855, 143.21720167717027, 130.34016500831933, 306.25383509943595, 225.94455741427257, 504.78937097147343, 11363.983198358414, 11198.54355720482, 6781.702806523666, 1110.331661258728, 12878.837952794202, 5780.821327076614, 911.2018531812497, 1104.7665479924779, 982.7715418437167, 4004.8891186087026, 4968.6886643681955, 2172.138561420965, 6744.160035785108, 1223.5563181069767, 2107.541092449141, 7569.082276515202, 14023.286099197023, 3837.302526926051, 8497.70112440193, 7122.192233609821, 9489.437102888649, 4841.808325044824, 1553.125686108138, 4489.711703272219, 2792.2870664712746, 3639.723306996237, 4827.064674919804, 7379.371512351905, 7167.375670884566, 3432.4520791748746, 4977.090713998623, 2066.5435265870906, 465.23468004540507, 246.23872659602534, 276.7985289724064, 213.3500608113387, 198.27255256803224, 184.23396118919024, 164.0022034841924, 146.8636178821527, 144.2584768717464, 137.0193569438326, 303.90567788462613, 114.09403571841067, 112.38014807586491, 151.52139386675432, 93.79573141261059, 91.27201216164272, 88.4473455721633, 85.01948686850986, 84.59627666891433, 164.96552184677637, 80.26930501528567, 79.54146618602296, 82.41893175652031, 78.11558912047734, 155.803893750753, 76.46986374743722, 73.83509585186196, 73.69649213013251, 72.8008718618611, 515.1304757361663, 561.4579527526702, 361.7765947275045, 160.67414065166795, 371.6211188065056, 1319.569336913536, 527.2389662797101, 280.4985439417836, 181.34645796797096, 426.7845041192948, 266.82810887714305, 327.90622588060955, 724.8454270065902, 2574.6246655930227, 1241.5822890162233, 541.9075035965717, 923.2996007773792, 433.5312479245853, 496.8273412113739, 3320.784344558235, 4244.6498467366455, 1416.8098283838244, 352.0095712464839, 2377.7632551066736, 3557.2127257049497, 631.6721236826039, 9625.86191906812, 1821.6588247617433, 1158.9157385367296, 3906.211961343755, 1403.5417095379767, 4885.348810375219, 7167.375670884566, 1112.6944392698492, 3430.131792839774, 13291.728370109391, 6211.5553608343025, 3103.35144058525, 3209.286878277646, 2100.3414772993206, 7379.371512351905, 5698.458239168372, 3398.691883945746, 5068.184971531079, 3195.2745141244336, 4977.090713998623, 5624.839974722128, 512.0884187008596, 328.9839027064176, 314.2635667164723, 243.07696480442294, 239.36719863969896, 231.74120612108234, 209.9678838745462, 169.58279178842545, 135.65485219895555, 133.30542980885966, 117.41702724736128, 108.62786959647755, 106.44955514199356, 459.0246154877849, 93.0809625932832, 82.89373483636726, 81.66748870502298, 76.4889936014303, 73.35881258437463, 69.49768153996239, 69.44168614149886, 69.39328139162, 67.64174721113356, 67.47116462652748, 66.16543679962786, 56.79883870637832, 55.86045393845314, 55.39852234497621, 55.13006686259852, 711.0254512338003, 1903.180285032512, 295.92330017994584, 386.7006597383749, 296.0398871762705, 2061.1283483419534, 141.53021479594648, 653.6293477131111, 263.98925008088565, 313.4344182935241, 229.34702765355922, 463.88439345824753, 435.019390454238, 2540.2148923395857, 629.6678443737181, 13291.728370109391, 617.20375862976, 861.5322283292514, 1662.4934375114926, 1078.6408448908044, 1203.712145467531, 1541.2612856761345, 1630.4451949383717, 979.3917005050367, 4095.5066270066604, 9625.86191906812, 2186.052904076705, 2743.6106584525905, 14023.286099197023, 4896.08140069001, 3321.506449708949, 10295.156894893855, 7379.371512351905, 4244.6498467366455, 3906.211961343755, 2020.0503465011657, 3195.2745141244336, 7122.192233609821, 2927.0674514269854, 7167.375670884566, 2326.709860814291, 3530.362851537124, 1922.2720729912958, 1046.3581277812605, 451.3654265283565, 391.75771190955567, 404.4048114605435, 295.79559428307897, 197.81351310949134, 192.9860683170708, 229.7595658917463, 189.29177723161595, 171.01632918915868, 147.0373202807408, 134.40156393645702, 121.02073434973967, 110.74345091363041, 91.11151326168165, 81.4855478106806, 82.96583594962691, 77.39781902515713, 72.49141395333162, 69.2952949407104, 66.84750093010244, 154.94159121022443, 58.26393861930579, 56.40810378035518, 55.14405567829891, 53.969203120172665, 52.89387066577925, 57.60342889444849, 184.72837466082856, 133.22667624313718, 121.5452947470893, 150.63197309301637, 377.0583625024749, 218.31836514809612, 1488.949696992567, 180.67103117803921, 316.68421067154344, 544.0308518410031, 1595.027134906986, 566.9452729550554, 1159.0225639549499, 1037.405205824527, 4845.978358284972, 474.6097861109854, 1208.3332659981625, 2021.589966021553, 400.9328496216791, 1709.2826814000462, 601.1870125196997, 4968.6886643681955, 941.518200793897, 767.5041477714676, 8497.70112440193, 718.9219746404855, 476.21577522457926, 4004.8891186087026, 694.1176359618405, 2036.536802723134, 1903.0346145433907, 2107.541092449141, 3432.4520791748746, 4044.3427360162923, 9489.437102888649, 4254.215540322224, 4489.711703272219, 3398.691883945746, 7122.192233609821, 2432.783583650475, 3548.99431074091, 830.6485828709133, 295.4375427666516, 5813.673009071986, 182.12268836606185, 179.27595625251735, 191.5167059057483, 122.00183280759471, 120.6564719531066, 183.7225734843261, 109.640886285136, 94.28129049856788, 77.96512704170576, 68.92108294964972, 64.96856483944325, 63.00317071480893, 60.39535949603712, 77.2719243327153, 50.411392590992065, 50.3697601213189, 47.55245686521552, 46.177691736467004, 45.0573894711199, 43.83824714513001, 43.97081051206366, 42.76353900454596, 42.575501889229834, 104.20898931689709, 42.16162934367954, 36.18086433384611, 36.87418876360171, 1731.345587526484, 84.38739861552855, 1033.2784895389946, 2303.5207992050546, 499.9083149964837, 8911.348334844814, 150.73487481681758, 800.1928024990269, 145.34056969741852, 510.30728729483087, 568.6126504662108, 659.647778154575, 1403.960158856128, 391.19820514234686, 7428.491934927171, 1903.0346145433907, 504.2031460150058, 329.3394881092036, 232.2145498953964, 7122.192233609821, 6744.160035785108, 12878.837952794202, 775.5695958832604, 1196.9922468123934, 3837.302526926051, 4254.215540322224, 3639.723306996237, 9489.437102888649, 4896.08140069001, 8497.70112440193, 2792.2870664712746, 5698.458239168372, 14023.286099197023, 7269.461670573356, 12067.007000539323, 4841.808325044824, 4977.090713998623, 1396.8099002091456, 980.9886469353988, 277.5038133255489, 200.34434491030845, 184.85315901806115, 1622.5843903231826, 178.6238533971892, 150.26651548321746, 136.54320450627338, 134.13547845115966, 133.04099588826622, 270.7147316988625, 126.70518242072022, 121.61560444323023, 94.1147820175515, 89.0080225189691, 81.24560249700735, 79.32843495599431, 76.65134018643366, 76.06823281851821, 75.99854465071158, 67.01296088613944, 59.041957725018584, 80.99951434330082, 55.70873951356916, 53.24695244614445, 53.1823689329108, 71.58744934135704, 50.29516986055278, 48.25869610562662, 180.19196627946434, 85.18580440288751, 656.7270478642878, 161.970029333995, 541.8655563400017, 145.37628935279184, 4827.064674919804, 719.1552848470117, 426.0223670783962, 138.3342585640492, 517.6728966256056, 489.5335162654949, 246.58639365617321, 143.7529051680269, 530.9904457936248, 305.85220421277586, 685.114589973665, 729.5386839997154, 765.4987529418945, 351.47616303006043, 1340.140712985129, 489.20034009318283, 2172.138561420965, 1300.756171743848, 811.8488251211726, 625.170619898413, 554.8115701679674, 9625.86191906812, 9489.437102888649, 5780.821327076614, 13291.728370109391, 7167.375670884566, 658.5591430485646, 672.3401500644578, 7122.192233609821, 7379.371512351905, 2825.5358362356574, 4489.711703272219, 5698.458239168372, 6211.5553608343025, 4254.215540322224], \"Category\": [\"Default\", \"Default\", \"Default\", \"Default\", \"Default\", \"Default\", \"Default\", \"Default\", \"Default\", \"Default\", \"Default\", \"Default\", \"Default\", \"Default\", \"Default\", \"Default\", \"Default\", \"Default\", \"Default\", \"Default\", \"Default\", \"Default\", \"Default\", \"Default\", \"Default\", \"Default\", \"Default\", \"Default\", \"Default\", \"Default\", \"Topic1\", \"Topic1\", \"Topic1\", \"Topic1\", \"Topic1\", \"Topic1\", \"Topic1\", \"Topic1\", \"Topic1\", \"Topic1\", \"Topic1\", \"Topic1\", \"Topic1\", \"Topic1\", \"Topic1\", \"Topic1\", \"Topic1\", \"Topic1\", \"Topic1\", \"Topic1\", \"Topic1\", \"Topic1\", \"Topic1\", \"Topic1\", \"Topic1\", \"Topic1\", \"Topic1\", \"Topic1\", \"Topic1\", \"Topic1\", \"Topic1\", \"Topic1\", \"Topic1\", \"Topic1\", \"Topic1\", \"Topic1\", \"Topic1\", \"Topic1\", \"Topic1\", \"Topic1\", \"Topic1\", \"Topic1\", \"Topic1\", \"Topic1\", \"Topic1\", \"Topic1\", \"Topic1\", \"Topic1\", \"Topic1\", \"Topic1\", \"Topic1\", \"Topic1\", \"Topic1\", \"Topic1\", \"Topic1\", \"Topic1\", \"Topic1\", \"Topic1\", \"Topic1\", \"Topic1\", \"Topic1\", \"Topic1\", \"Topic1\", \"Topic1\", \"Topic1\", \"Topic1\", \"Topic1\", \"Topic1\", \"Topic1\", \"Topic1\", \"Topic1\", \"Topic1\", \"Topic1\", \"Topic1\", \"Topic1\", \"Topic1\", \"Topic1\", \"Topic2\", \"Topic2\", \"Topic2\", \"Topic2\", \"Topic2\", \"Topic2\", \"Topic2\", \"Topic2\", \"Topic2\", \"Topic2\", \"Topic2\", \"Topic2\", \"Topic2\", \"Topic2\", \"Topic2\", \"Topic2\", \"Topic2\", \"Topic2\", \"Topic2\", \"Topic2\", \"Topic2\", \"Topic2\", \"Topic2\", \"Topic2\", \"Topic2\", \"Topic2\", \"Topic2\", \"Topic2\", \"Topic2\", \"Topic2\", \"Topic2\", \"Topic2\", \"Topic2\", \"Topic2\", \"Topic2\", \"Topic2\", \"Topic2\", \"Topic2\", \"Topic2\", \"Topic2\", \"Topic2\", \"Topic2\", \"Topic2\", \"Topic2\", \"Topic2\", \"Topic2\", \"Topic2\", \"Topic2\", \"Topic2\", \"Topic2\", \"Topic2\", \"Topic2\", \"Topic2\", \"Topic2\", \"Topic2\", \"Topic2\", \"Topic2\", \"Topic2\", \"Topic2\", \"Topic2\", \"Topic2\", \"Topic2\", \"Topic2\", \"Topic2\", \"Topic2\", \"Topic2\", \"Topic2\", \"Topic2\", \"Topic2\", \"Topic2\", \"Topic2\", \"Topic2\", \"Topic2\", \"Topic2\", \"Topic2\", \"Topic2\", \"Topic3\", \"Topic3\", \"Topic3\", \"Topic3\", \"Topic3\", \"Topic3\", \"Topic3\", \"Topic3\", \"Topic3\", \"Topic3\", \"Topic3\", \"Topic3\", \"Topic3\", \"Topic3\", \"Topic3\", \"Topic3\", \"Topic3\", \"Topic3\", \"Topic3\", \"Topic3\", \"Topic3\", \"Topic3\", \"Topic3\", \"Topic3\", \"Topic3\", \"Topic3\", \"Topic3\", \"Topic3\", \"Topic3\", \"Topic3\", \"Topic3\", \"Topic3\", \"Topic3\", \"Topic3\", \"Topic3\", \"Topic3\", \"Topic3\", \"Topic3\", \"Topic3\", \"Topic3\", \"Topic3\", \"Topic3\", \"Topic3\", \"Topic3\", \"Topic3\", \"Topic3\", \"Topic3\", \"Topic3\", \"Topic3\", \"Topic3\", \"Topic3\", \"Topic3\", \"Topic3\", \"Topic3\", \"Topic3\", \"Topic3\", \"Topic3\", \"Topic3\", \"Topic3\", \"Topic3\", \"Topic3\", \"Topic3\", \"Topic3\", \"Topic3\", \"Topic3\", \"Topic3\", \"Topic3\", \"Topic3\", \"Topic3\", \"Topic3\", \"Topic3\", \"Topic3\", \"Topic3\", \"Topic3\", \"Topic3\", \"Topic4\", \"Topic4\", \"Topic4\", \"Topic4\", \"Topic4\", \"Topic4\", \"Topic4\", \"Topic4\", \"Topic4\", \"Topic4\", \"Topic4\", \"Topic4\", \"Topic4\", \"Topic4\", \"Topic4\", \"Topic4\", \"Topic4\", \"Topic4\", \"Topic4\", \"Topic4\", \"Topic4\", \"Topic4\", \"Topic4\", \"Topic4\", \"Topic4\", \"Topic4\", \"Topic4\", \"Topic4\", \"Topic4\", \"Topic4\", \"Topic4\", \"Topic4\", \"Topic4\", \"Topic4\", \"Topic4\", \"Topic4\", \"Topic4\", \"Topic4\", \"Topic4\", \"Topic4\", \"Topic4\", \"Topic4\", \"Topic4\", \"Topic4\", \"Topic4\", \"Topic4\", \"Topic4\", \"Topic4\", \"Topic4\", \"Topic4\", \"Topic4\", \"Topic4\", \"Topic4\", \"Topic4\", \"Topic4\", \"Topic4\", \"Topic4\", \"Topic4\", \"Topic4\", \"Topic4\", \"Topic4\", \"Topic4\", \"Topic4\", \"Topic4\", \"Topic4\", \"Topic4\", \"Topic4\", \"Topic4\", \"Topic4\", \"Topic4\", \"Topic4\", \"Topic4\", \"Topic4\", \"Topic4\", \"Topic4\", \"Topic4\", \"Topic5\", \"Topic5\", \"Topic5\", \"Topic5\", \"Topic5\", \"Topic5\", \"Topic5\", \"Topic5\", \"Topic5\", \"Topic5\", \"Topic5\", \"Topic5\", \"Topic5\", \"Topic5\", \"Topic5\", \"Topic5\", \"Topic5\", \"Topic5\", \"Topic5\", \"Topic5\", \"Topic5\", \"Topic5\", \"Topic5\", \"Topic5\", \"Topic5\", \"Topic5\", \"Topic5\", \"Topic5\", \"Topic5\", \"Topic5\", \"Topic5\", \"Topic5\", \"Topic5\", \"Topic5\", \"Topic5\", \"Topic5\", \"Topic5\", \"Topic5\", \"Topic5\", \"Topic5\", \"Topic5\", \"Topic5\", \"Topic5\", \"Topic5\", \"Topic5\", \"Topic5\", \"Topic5\", \"Topic5\", \"Topic5\", \"Topic5\", \"Topic5\", \"Topic5\", \"Topic5\", \"Topic5\", \"Topic5\", \"Topic5\", \"Topic5\", \"Topic5\", \"Topic5\", \"Topic5\", \"Topic5\", \"Topic5\", \"Topic5\", \"Topic5\", \"Topic5\", \"Topic5\", \"Topic5\", \"Topic5\", \"Topic5\", \"Topic5\", \"Topic5\", \"Topic6\", \"Topic6\", \"Topic6\", \"Topic6\", \"Topic6\", \"Topic6\", \"Topic6\", \"Topic6\", \"Topic6\", \"Topic6\", \"Topic6\", \"Topic6\", \"Topic6\", \"Topic6\", \"Topic6\", \"Topic6\", \"Topic6\", \"Topic6\", \"Topic6\", \"Topic6\", \"Topic6\", \"Topic6\", \"Topic6\", \"Topic6\", \"Topic6\", \"Topic6\", \"Topic6\", \"Topic6\", \"Topic6\", \"Topic6\", \"Topic6\", \"Topic6\", \"Topic6\", \"Topic6\", \"Topic6\", \"Topic6\", \"Topic6\", \"Topic6\", \"Topic6\", \"Topic6\", \"Topic6\", \"Topic6\", \"Topic6\", \"Topic6\", \"Topic6\", \"Topic6\", \"Topic6\", \"Topic6\", \"Topic6\", \"Topic6\", \"Topic6\", \"Topic6\", \"Topic6\", \"Topic6\", \"Topic6\", \"Topic6\", \"Topic6\", \"Topic6\", \"Topic6\", \"Topic6\", \"Topic6\", \"Topic6\", \"Topic6\", \"Topic6\", \"Topic6\", \"Topic6\", \"Topic6\", \"Topic6\", \"Topic6\", \"Topic6\", \"Topic6\", \"Topic7\", \"Topic7\", \"Topic7\", \"Topic7\", \"Topic7\", \"Topic7\", \"Topic7\", \"Topic7\", \"Topic7\", \"Topic7\", \"Topic7\", \"Topic7\", \"Topic7\", \"Topic7\", \"Topic7\", \"Topic7\", \"Topic7\", \"Topic7\", \"Topic7\", \"Topic7\", \"Topic7\", \"Topic7\", \"Topic7\", \"Topic7\", \"Topic7\", \"Topic7\", \"Topic7\", \"Topic7\", \"Topic7\", \"Topic7\", \"Topic7\", \"Topic7\", \"Topic7\", \"Topic7\", \"Topic7\", \"Topic7\", \"Topic7\", \"Topic7\", \"Topic7\", \"Topic7\", \"Topic7\", \"Topic7\", \"Topic7\", \"Topic7\", \"Topic7\", \"Topic7\", \"Topic7\", \"Topic7\", \"Topic7\", \"Topic7\", \"Topic7\", \"Topic7\", \"Topic7\", \"Topic7\", \"Topic7\", \"Topic7\", \"Topic7\", \"Topic7\", \"Topic7\", \"Topic7\", \"Topic7\", \"Topic7\", \"Topic7\", \"Topic7\", \"Topic7\", \"Topic7\", \"Topic7\", \"Topic8\", \"Topic8\", \"Topic8\", \"Topic8\", \"Topic8\", \"Topic8\", \"Topic8\", \"Topic8\", \"Topic8\", \"Topic8\", \"Topic8\", \"Topic8\", \"Topic8\", \"Topic8\", \"Topic8\", \"Topic8\", \"Topic8\", \"Topic8\", \"Topic8\", \"Topic8\", \"Topic8\", \"Topic8\", \"Topic8\", \"Topic8\", \"Topic8\", \"Topic8\", \"Topic8\", \"Topic8\", \"Topic8\", \"Topic8\", \"Topic8\", \"Topic8\", \"Topic8\", \"Topic8\", \"Topic8\", \"Topic8\", \"Topic8\", \"Topic8\", \"Topic8\", \"Topic8\", \"Topic8\", \"Topic8\", \"Topic8\", \"Topic8\", \"Topic8\", \"Topic8\", \"Topic8\", \"Topic8\", \"Topic8\", \"Topic8\", \"Topic8\", \"Topic8\", \"Topic8\", \"Topic8\", \"Topic8\", \"Topic8\", \"Topic8\", \"Topic8\", \"Topic8\", \"Topic8\", \"Topic8\", \"Topic8\", \"Topic8\", \"Topic8\", \"Topic8\", \"Topic8\", \"Topic8\", \"Topic8\", \"Topic8\", \"Topic8\", \"Topic8\"], \"logprob\": [30.0, 29.0, 28.0, 27.0, 26.0, 25.0, 24.0, 23.0, 22.0, 21.0, 20.0, 19.0, 18.0, 17.0, 16.0, 15.0, 14.0, 13.0, 12.0, 11.0, 10.0, 9.0, 8.0, 7.0, 6.0, 5.0, 4.0, 3.0, 2.0, 1.0, -6.4596, -7.3167, -7.4241, -7.5356, -6.8665, -7.8469, -7.8245, -6.6832, -8.1258, -8.1308, -8.1285, -8.1815, -8.193, -8.2294, -8.2095, -8.2963, -8.3028, -8.3385, -7.0385, -8.3969, -8.3878, -8.4292, -8.0909, -8.5428, -8.0022, -8.2952, -3.324, -8.6147, -8.6269, -8.6363, -5.9251, -6.0601, -7.2295, -8.1944, -3.1363, -3.6437, -5.0067, -7.0767, -7.7822, -4.0268, -6.3267, -5.6665, -4.5778, -6.2724, -5.7072, -7.2751, -3.9202, -4.3035, -5.6594, -3.4759, -5.7602, -4.1898, -5.0526, -6.3867, -5.7517, -5.6427, -4.5413, -4.1653, -4.8635, -5.2307, -4.3475, -4.2648, -5.722, -5.1504, -4.7754, -5.7439, -4.9545, -5.4038, -5.1052, -5.1783, -5.3403, -5.1449, -5.5325, -5.4482, -5.4026, -5.5922, -5.5469, -5.7025, -5.836, -5.6582, -5.8798, -6.2365, -6.3722, -6.4385, -6.7099, -6.8173, -6.911, -6.9376, -6.2671, -7.122, -7.1533, -7.2314, -7.286, -7.3078, -7.3421, -7.389, -7.4061, -7.4121, -7.3746, -7.5313, -7.5155, -7.3558, -6.6872, -7.652, -7.6596, -7.6652, -5.0614, -3.9182, -5.8011, -6.6461, -6.8095, -5.3827, -6.1062, -6.0492, -6.3387, -5.4527, -5.5051, -5.6661, -6.4661, -6.3576, -6.864, -5.5974, -6.0031, -4.4283, -5.4334, -4.7372, -5.6901, -6.2697, -3.9909, -4.6301, -6.3522, -5.2809, -5.389, -4.4756, -5.0374, -5.8674, -4.6505, -5.0949, -4.9243, -5.4514, -4.7353, -5.2998, -5.2035, -5.1583, -5.0838, -5.0872, -5.189, -5.2139, -5.4, -5.3697, -5.4768, -5.4517, -5.5028, -6.2221, -6.2167, -6.2082, -6.615, -6.0914, -7.0561, -7.0866, -7.2042, -5.9438, -7.2801, -7.3753, -7.427, -7.5283, -6.0069, -7.6002, -7.6788, -7.8452, -7.9285, -7.9143, -7.9906, -7.995, -8.0084, -5.7935, -8.1067, -8.1101, -8.1282, -8.2097, -8.2322, -7.0403, -8.3451, -3.3298, -5.1364, -6.586, -6.628, -5.2908, -6.0333, -6.6672, -4.6094, -3.2472, -7.3168, -7.4133, -6.6237, -6.9069, -6.1681, -3.3511, -3.4284, -3.9387, -5.5139, -3.3823, -4.1653, -5.721, -5.613, -5.7338, -4.6873, -4.5528, -5.1771, -4.3663, -5.6463, -5.2974, -4.5035, -4.1316, -4.9669, -4.5235, -4.6957, -4.6127, -5.0966, -5.5856, -5.2153, -5.3817, -5.3109, -5.2542, -5.2024, -5.2391, -5.4292, -5.404, -4.2223, -5.7153, -6.3527, -6.2362, -6.4966, -6.5703, -6.644, -6.761, -6.8719, -6.8899, -6.9417, -6.1452, -7.1261, -7.1413, -6.8437, -7.3236, -7.3514, -7.3829, -7.4228, -7.4278, -6.7601, -7.4809, -7.4901, -7.4546, -7.5084, -6.8182, -7.5299, -7.5654, -7.5673, -7.5796, -5.641, -5.5702, -6.0027, -6.8051, -6.0025, -4.7905, -5.6718, -6.284, -6.6997, -5.9177, -6.3604, -6.177, -5.4715, -4.4082, -5.0757, -5.7942, -5.3748, -5.993, -5.8864, -4.4244, -4.2663, -5.1326, -6.2198, -4.9057, -4.6938, -5.8449, -4.184, -5.2261, -5.5373, -4.9385, -5.4663, -4.9209, -4.8004, -5.621, -5.2081, -4.7783, -5.0724, -5.3513, -5.3483, -5.4794, -5.1491, -5.2444, -5.3909, -5.3378, -5.5372, -5.5465, -3.0711, -5.4688, -5.9122, -5.9581, -6.2158, -6.2312, -6.2637, -6.3627, -6.5774, -6.8019, -6.8195, -6.9473, -7.0257, -7.0461, -5.5855, -7.1815, -7.2986, -7.3138, -7.38, -7.4222, -7.477, -7.4778, -7.4785, -7.5045, -7.507, -7.5267, -7.6816, -7.6986, -7.707, -7.712, -5.1655, -4.2191, -6.0508, -5.7939, -6.0708, -4.1993, -6.7903, -5.3554, -6.2224, -6.062, -6.3621, -5.7272, -5.7876, -4.1884, -5.4685, -2.801, -5.511, -5.2473, -4.6957, -5.181, -5.1025, -4.9522, -5.0163, -5.408, -4.5231, -4.2418, -5.1058, -5.0867, -4.3786, -4.982, -5.1584, -4.8176, -5.0133, -5.2341, -5.269, -5.4211, -5.3358, -5.2728, -5.3776, -5.3282, -5.4046, -3.3728, -3.9808, -4.5894, -5.4312, -5.5733, -5.542, -5.8549, -6.2587, -6.2835, -6.1095, -6.3033, -6.405, -6.5569, -6.6474, -6.7529, -6.8432, -7.0391, -7.152, -7.1345, -7.204, -7.2703, -7.3159, -7.3528, -6.5126, -7.4918, -7.5246, -7.5476, -7.5695, -7.59, -7.5052, -6.3429, -6.6687, -6.7599, -6.5519, -5.6468, -6.1925, -4.3285, -6.387, -5.855, -5.3609, -4.3691, -5.3744, -4.7367, -4.8564, -3.5947, -5.6006, -4.8221, -4.4013, -5.7612, -4.6432, -5.5141, -4.0359, -5.2451, -5.4079, -3.9741, -5.4807, -5.74, -4.5857, -5.599, -5.1864, -5.2277, -5.309, -5.2057, -5.1705, -5.0461, -5.2264, -5.3245, -5.3537, -5.2874, -5.4068, -5.3874, -4.7055, -5.7416, -2.7623, -6.2267, -6.2426, -6.177, -6.6298, -6.6409, -6.2211, -6.7378, -6.8902, -7.0817, -7.2064, -7.2663, -7.2975, -7.3403, -7.0943, -7.524, -7.5249, -7.5834, -7.6133, -7.6383, -7.6665, -7.6635, -7.6916, -7.6962, -6.8012, -7.7062, -7.8626, -7.8438, -4.026, -7.0277, -4.6193, -3.8629, -5.339, -2.6797, -6.5066, -4.958, -6.5589, -5.4176, -5.3213, -5.2391, -4.5802, -5.7962, -3.4656, -4.5828, -5.6642, -6.043, -6.3256, -4.3461, -4.4206, -4.1485, -5.6743, -5.4725, -4.8997, -4.8674, -5.0335, -4.6616, -5.0499, -4.8943, -5.3136, -5.1814, -5.196, -5.3531, -5.3069, -5.4353, -5.4587, -4.0279, -4.3816, -5.6465, -5.9735, -6.0543, -3.8822, -6.0888, -6.2628, -6.3589, -6.3768, -6.3851, -5.675, -6.4342, -6.4755, -6.7339, -6.7902, -6.8824, -6.9065, -6.9413, -6.949, -6.9499, -7.0773, -7.2057, -6.8896, -7.2647, -7.3106, -7.3118, -7.0153, -7.3686, -7.4108, -6.0946, -6.8475, -4.8722, -6.2394, -5.0981, -6.3498, -3.1613, -4.9188, -5.4087, -6.4175, -5.2671, -5.3432, -5.9446, -6.407, -5.3244, -5.8081, -5.1855, -5.1843, -5.2042, -5.7946, -4.9827, -5.6568, -4.8814, -5.1701, -5.4451, -5.6012, -5.6666, -4.3996, -4.5225, -4.7337, -4.6109, -4.9104, -5.617, -5.6117, -4.9919, -5.0126, -5.3048, -5.2402, -5.3953, -5.4132, -5.5177], \"loglift\": [30.0, 29.0, 28.0, 27.0, 26.0, 25.0, 24.0, 23.0, 22.0, 21.0, 20.0, 19.0, 18.0, 17.0, 16.0, 15.0, 14.0, 13.0, 12.0, 11.0, 10.0, 9.0, 8.0, 7.0, 6.0, 5.0, 4.0, 3.0, 2.0, 1.0, 1.5655, 1.5629, 1.562, 1.5616, 1.5605, 1.5594, 1.559, 1.5574, 1.5566, 1.5565, 1.5565, 1.5559, 1.5558, 1.5553, 1.5551, 1.5545, 1.5544, 1.5539, 1.5532, 1.5531, 1.5531, 1.5525, 1.5508, 1.5508, 1.5506, 1.5506, 1.5495, 1.5494, 1.5493, 1.5492, 1.5422, 1.5399, 1.5417, 1.5478, 1.4966, 1.4961, 1.4897, 1.5304, 1.5436, 1.4032, 1.4601, 1.4136, 1.267, 1.4028, 1.3504, 1.4815, 1.1791, 1.1505, 1.2917, 1.0068, 1.2084, 0.9283, 1.07, 1.2961, 1.175, 1.0849, 0.6679, 0.5424, 0.6826, 0.7603, 0.3455, 0.303, 0.9618, 0.6185, 0.3493, 0.9469, 0.1993, 0.5828, 0.1918, 0.2049, 0.3998, -0.2088, 0.3867, -0.2334, -0.5437, 0.5219, -0.0465, 1.6387, 1.6386, 1.6383, 1.638, 1.6379, 1.6377, 1.6376, 1.6369, 1.6365, 1.6362, 1.6361, 1.6359, 1.6354, 1.6352, 1.6349, 1.6346, 1.6345, 1.6343, 1.634, 1.6339, 1.6339, 1.6336, 1.6331, 1.6329, 1.6326, 1.6324, 1.6323, 1.6322, 1.6322, 1.6317, 1.6258, 1.6125, 1.6193, 1.6218, 1.5788, 1.5979, 1.5861, 1.5971, 1.5344, 1.5322, 1.5372, 1.5814, 1.5737, 1.6053, 1.4811, 1.5104, 1.3343, 1.4079, 1.227, 1.3883, 1.5081, 0.8823, 0.9049, 1.5099, 1.0554, 1.0146, 0.3834, 0.7234, 1.2529, 0.3331, 0.5806, 0.3727, 0.8418, -0.199, 0.4472, 0.2969, 0.2249, 0.0764, 0.0376, 0.1799, -0.06, 0.3135, 0.1489, 0.4806, 0.2842, 0.0344, 1.7924, 1.7923, 1.7914, 1.7913, 1.7902, 1.7895, 1.7894, 1.7887, 1.7885, 1.7883, 1.7876, 1.7873, 1.7864, 1.786, 1.7857, 1.7845, 1.7836, 1.7826, 1.7822, 1.7819, 1.7818, 1.7817, 1.7806, 1.7803, 1.7803, 1.78, 1.7788, 1.7785, 1.7769, 1.7759, 1.748, 1.7432, 1.7555, 1.7488, 1.7067, 1.7233, 1.7412, 1.6544, 1.5445, 1.7501, 1.7477, 1.6831, 1.704, 1.6389, 1.3418, 1.2792, 1.2705, 1.5048, 1.1855, 1.2036, 1.4954, 1.4108, 1.407, 1.0486, 0.9675, 1.1706, 0.8484, 1.2754, 1.0805, 0.5958, 0.3511, 0.8117, 0.4601, 0.4645, 0.2605, 0.4495, 1.0976, 0.4063, 0.7149, 0.5206, 0.295, -0.0776, -0.0852, 0.4609, 0.1146, 2.1752, 2.1733, 2.1721, 2.1716, 2.1716, 2.1713, 2.171, 2.1703, 2.1698, 2.1697, 2.1694, 2.1693, 2.1681, 2.168, 2.1668, 2.1665, 2.1659, 2.1659, 2.1655, 2.1655, 2.1653, 2.1649, 2.1648, 2.1647, 2.1646, 2.1644, 2.1644, 2.1639, 2.1639, 2.1638, 2.1457, 2.1305, 2.1374, 2.1467, 2.1108, 2.0556, 2.0917, 2.1106, 2.131, 2.0572, 2.0841, 2.0614, 1.9737, 1.7695, 1.8313, 1.9419, 1.8284, 1.9662, 1.9365, 1.4988, 1.4115, 1.6424, 1.9477, 1.3515, 1.1606, 1.7379, 0.6749, 1.2975, 1.4386, 0.8224, 1.3181, 0.6163, 0.3535, 1.3957, 0.6827, -0.2421, 0.2246, 0.6397, 0.609, 0.9019, -0.0243, 0.1388, 0.5091, 0.1626, 0.4245, -0.028, 2.3251, 2.3238, 2.323, 2.3229, 2.322, 2.322, 2.3219, 2.3215, 2.3205, 2.3192, 2.319, 2.3181, 2.3175, 2.3174, 2.3166, 2.3162, 2.315, 2.3147, 2.3141, 2.3136, 2.3129, 2.3129, 2.3128, 2.3125, 2.3125, 2.3123, 2.31, 2.3097, 2.3096, 2.3095, 2.299, 2.2608, 2.2903, 2.2796, 2.2699, 2.2008, 2.2883, 2.1932, 2.2329, 2.2216, 2.2339, 2.1643, 2.1682, 2.0028, 2.1175, 1.7352, 2.095, 2.0251, 1.9194, 1.8667, 1.8355, 1.7386, 1.6183, 1.7362, 1.1904, 0.6171, 1.2355, 1.0275, 0.1041, 0.553, 0.7646, -0.0259, 0.1114, 0.4436, 0.4919, 0.9992, 0.626, -0.1126, 0.6718, -0.1744, 0.8744, 2.4893, 2.4891, 2.4887, 2.4876, 2.4872, 2.4868, 2.4866, 2.4851, 2.485, 2.4847, 2.4846, 2.4844, 2.4836, 2.483, 2.4823, 2.4808, 2.4799, 2.4788, 2.4783, 2.4782, 2.4774, 2.4769, 2.4759, 2.4755, 2.4744, 2.474, 2.4736, 2.4732, 2.4729, 2.4724, 2.4694, 2.4704, 2.471, 2.4645, 2.452, 2.4527, 2.3969, 2.4475, 2.4183, 2.3713, 2.2874, 2.3165, 2.2391, 2.2303, 1.9506, 2.2681, 2.112, 2.0182, 2.2762, 1.9441, 2.1181, 1.4844, 1.9386, 1.9801, 1.0095, 1.9727, 2.1253, 1.1502, 1.8896, 1.2257, 1.2523, 1.0688, 0.6845, 0.5556, -0.1728, 0.4491, 0.2971, 0.5463, -0.1272, 0.8276, 0.4694, 2.6035, 2.6012, 2.6009, 2.5997, 2.5997, 2.5992, 2.5974, 2.5973, 2.5967, 2.5961, 2.5947, 2.5932, 2.5918, 2.591, 2.5905, 2.5899, 2.5895, 2.587, 2.5869, 2.5859, 2.5854, 2.5849, 2.5842, 2.5841, 2.5838, 2.5837, 2.5835, 2.5834, 2.58, 2.5799, 2.5485, 2.5681, 2.4714, 2.426, 2.4777, 2.2564, 2.509, 2.3883, 2.4932, 2.3786, 2.3667, 2.3004, 2.2039, 2.2658, 1.6524, 1.8971, 2.144, 2.1911, 2.2579, 0.8141, 0.7942, 0.4194, 1.7033, 1.4711, 0.879, 0.8081, 0.798, 0.2117, 0.485, 0.0893, 0.7829, 0.2018, -0.7133, -0.2134, -0.674, 0.1108, 0.0599, 2.7613, 2.761, 2.7588, 2.7576, 2.7573, 2.7572, 2.7571, 2.756, 2.7556, 2.7555, 2.7554, 2.7551, 2.7551, 2.7548, 2.7527, 2.7522, 2.7513, 2.751, 2.7506, 2.7506, 2.7505, 2.749, 2.7472, 2.7471, 2.7464, 2.7456, 2.7456, 2.7449, 2.7446, 2.7437, 2.7425, 2.7388, 2.6717, 2.7044, 2.6381, 2.7021, 2.3878, 2.5343, 2.568, 2.684, 2.5147, 2.4945, 2.5789, 2.656, 2.432, 2.5, 2.3161, 2.2545, 2.1864, 2.3745, 1.8479, 2.1816, 1.4663, 1.6904, 1.8867, 1.992, 2.046, 0.4593, 0.3507, 0.6351, -0.0746, 0.2434, 1.9241, 1.9087, 0.1683, 0.1121, 0.7799, 0.3814, -0.0121, -0.1162, 0.1578]}, \"token.table\": {\"Topic\": [3, 3, 1, 1, 1, 2, 3, 4, 5, 6, 7, 8, 8, 7, 7, 8, 5, 8, 1, 1, 3, 8, 5, 2, 5, 1, 2, 3, 4, 5, 6, 7, 8, 5, 4, 7, 6, 8, 4, 1, 3, 5, 1, 2, 3, 4, 5, 6, 2, 3, 4, 5, 6, 7, 8, 1, 3, 4, 5, 8, 1, 2, 3, 4, 5, 6, 7, 8, 8, 3, 2, 4, 5, 1, 2, 3, 4, 5, 7, 8, 3, 1, 3, 7, 3, 3, 7, 3, 3, 5, 1, 2, 3, 4, 5, 6, 7, 8, 1, 2, 3, 4, 5, 6, 7, 5, 6, 1, 2, 4, 5, 6, 7, 8, 1, 2, 3, 4, 5, 6, 7, 1, 2, 3, 4, 5, 6, 7, 1, 2, 3, 4, 5, 6, 7, 2, 5, 1, 2, 3, 4, 5, 6, 7, 1, 1, 2, 3, 4, 5, 6, 7, 8, 2, 3, 6, 1, 7, 1, 7, 7, 1, 2, 3, 4, 5, 4, 1, 2, 3, 4, 5, 6, 7, 8, 2, 4, 5, 8, 1, 2, 4, 5, 6, 7, 8, 4, 5, 1, 2, 3, 4, 5, 6, 8, 1, 2, 7, 8, 1, 2, 3, 4, 5, 6, 7, 8, 4, 5, 4, 2, 2, 3, 7, 7, 5, 5, 5, 5, 5, 1, 2, 3, 4, 5, 6, 7, 2, 7, 2, 5, 8, 3, 8, 1, 2, 3, 5, 6, 7, 1, 2, 3, 4, 5, 6, 7, 8, 1, 2, 3, 7, 8, 6, 6, 1, 5, 6, 2, 6, 1, 3, 4, 6, 7, 8, 1, 1, 4, 5, 3, 8, 8, 8, 1, 2, 3, 4, 5, 6, 7, 1, 2, 3, 4, 5, 6, 7, 8, 1, 2, 3, 4, 5, 6, 7, 3, 4, 5, 6, 8, 2, 4, 5, 7, 1, 2, 3, 4, 5, 6, 8, 4, 5, 4, 1, 2, 3, 4, 5, 6, 7, 8, 1, 2, 3, 4, 6, 7, 8, 1, 1, 2, 3, 4, 5, 6, 7, 8, 2, 2, 2, 1, 2, 3, 4, 5, 6, 8, 1, 2, 3, 4, 5, 6, 7, 8, 2, 4, 5, 7, 8, 7, 5, 1, 3, 2, 2, 3, 4, 5, 6, 1, 2, 3, 4, 5, 6, 1, 3, 5, 1, 2, 3, 4, 5, 7, 8, 2, 6, 8, 1, 3, 4, 6, 7, 8, 8, 1, 2, 3, 4, 5, 6, 7, 1, 3, 1, 1, 2, 3, 4, 5, 6, 7, 8, 1, 2, 3, 6, 8, 6, 2, 4, 7, 1, 2, 3, 4, 5, 6, 7, 8, 1, 1, 2, 3, 4, 5, 7, 8, 2, 6, 1, 3, 7, 1, 2, 3, 4, 6, 7, 8, 6, 3, 4, 1, 2, 3, 4, 5, 6, 7, 6, 2, 3, 6, 8, 4, 5, 2, 5, 2, 6, 2, 3, 6, 6, 4, 2, 1, 3, 6, 1, 2, 4, 5, 8, 4, 2, 8, 2, 8, 8, 8, 1, 2, 3, 4, 5, 7, 8, 1, 2, 3, 4, 5, 8, 1, 3, 6, 1, 2, 3, 4, 5, 6, 8, 1, 2, 3, 4, 5, 6, 7, 8, 1, 3, 5, 7, 4, 4, 5, 6, 1, 3, 5, 1, 5, 1, 2, 3, 4, 5, 1, 5, 1, 3, 4, 1, 3, 4, 5, 8, 5, 5, 2, 3, 4, 5, 6, 7, 1, 2, 3, 5, 6, 7, 8, 7, 2, 6, 1, 2, 3, 4, 5, 6, 7, 8, 1, 2, 4, 5, 2, 1, 3, 1, 1, 2, 3, 4, 5, 7, 8, 6, 1, 4, 7, 8, 1, 3, 4, 5, 7, 1, 2, 3, 4, 5, 6, 7, 8, 1, 1, 2, 3, 4, 5, 6, 7, 8, 5, 7, 1, 3, 8, 1, 3, 1, 3, 4, 7, 1, 3, 4, 7, 5, 5, 1, 2, 4, 5, 6, 7, 8, 2, 3, 5, 6, 7, 1, 2, 3, 4, 5, 6, 7, 8, 6, 4, 1, 2, 3, 4, 5, 6, 7, 8, 6, 1, 2, 3, 4, 5, 6, 7, 8, 1, 2, 3, 4, 5, 6, 7, 8, 1, 3, 1, 2, 3, 4, 5, 6, 7, 8, 4, 1, 2, 3, 6, 7, 8, 1, 2, 3, 4, 5, 6, 7, 8, 1, 2, 3, 4, 5, 6, 7, 2, 4, 7, 2, 7, 1, 2, 3, 4, 5, 6, 7, 1, 2, 3, 4, 5, 6, 7, 8, 1, 2, 3, 7, 7, 7, 1, 7, 2, 1, 3, 1, 3, 6, 8, 1, 2, 8, 1, 3, 5, 1, 2, 3, 5, 1, 2, 3, 4, 5, 6, 7, 8, 5, 4, 8, 7, 4, 3, 1, 2, 3, 4, 5, 6, 7, 8, 1, 2, 3, 4, 5, 7, 8, 4, 8, 1, 2, 3, 4, 5, 6, 7, 8, 6, 1, 2, 3, 4, 7, 1, 2, 4, 8, 1, 3, 4, 6, 8, 4, 1, 2, 3, 4, 5, 6, 7, 8, 3, 6, 1, 2, 3, 4, 5, 6, 7, 8, 1, 2, 3, 4, 5, 6, 7, 8, 1, 2, 3, 4, 5, 6, 7, 8, 6, 3, 1, 2, 3, 4, 5, 6, 7, 8, 1, 2, 3, 4, 5, 6, 7, 8, 1, 2, 3, 4, 5, 6, 7, 8, 1, 2, 3, 4, 5, 8, 3, 7, 4, 5, 1, 2, 3, 4, 5, 6, 7, 2, 8, 1, 2, 4, 5, 6, 7, 8, 1, 3, 4, 5, 7, 1, 2, 3, 4, 5, 7, 3, 2, 3, 5, 7, 8, 2, 8, 1, 2, 3, 6, 7, 8, 2, 3, 6, 7, 8, 1, 2, 3, 5, 7, 8, 7, 3, 4, 7, 1, 2, 3, 4, 5, 6, 7, 8, 7, 1, 3, 5, 1, 2, 3, 4, 5, 6, 7, 8, 1, 2, 3, 4, 5, 6, 8, 1, 2, 3, 4, 5, 6, 7, 8, 1, 2, 3, 4, 5, 6, 7, 8, 3, 1, 2, 3, 4, 5, 6, 7, 8, 1, 2, 3, 4, 5, 7, 1, 2, 3, 4, 5, 6, 7, 8, 4, 6, 2, 3, 6, 1, 1, 2, 3, 4, 5, 6, 7, 8, 7, 1, 3, 4, 3, 1, 2, 3, 4, 5, 6, 7, 8, 4, 2, 5, 6, 7, 8, 2, 3, 6, 7, 8, 7, 1, 1, 2, 3, 4, 6, 7, 8, 1, 2, 3, 4, 5, 6, 7, 8, 6, 1, 2, 3, 4, 5, 7, 8, 1, 6, 1, 2, 3, 4, 6, 7, 1, 2, 3, 4, 5, 6, 7, 8, 1, 2, 3, 4, 5, 6, 7, 8, 2, 6, 1, 2, 3, 4, 5, 7, 2, 1, 2, 3, 4, 5, 6, 8, 3, 3, 3, 1, 3, 4, 7, 1, 2, 3, 4, 5, 6, 7, 8, 2, 5, 6, 1, 2, 3, 4, 5, 6, 7, 8, 1, 4, 5, 6, 5, 4, 4, 5, 2, 1, 2, 3, 4, 5, 6, 7, 8, 1, 2, 3, 4, 5, 6, 7, 8, 1, 2, 3, 4, 5, 6, 7, 8, 2, 7, 1, 2, 3, 4, 5, 6, 7, 8, 3, 8, 6, 6, 1, 2, 3, 4, 5, 6, 7, 8, 2, 7, 1, 3, 7, 8, 1, 8, 1, 2, 1, 2, 3, 4, 5, 6, 7, 8, 6, 7, 8, 8, 7, 1, 2, 3, 4, 6, 7, 8, 8, 1, 3, 6, 5, 5, 3, 6, 1, 6, 1, 2, 4, 5, 8, 1, 2, 3, 4, 5, 6, 7, 8, 5, 2, 1, 5, 1, 2, 3, 4, 5, 6, 7, 4, 8, 1, 4, 5, 7, 8, 3, 3, 6, 2, 3, 1, 2, 3, 5, 1, 3, 2, 1, 2, 3, 4, 5, 6, 7, 8, 2, 4, 5, 1, 2, 3, 4, 5, 6, 7, 8, 2, 3, 5, 6, 1, 2, 1, 2, 3, 2, 2, 1, 3, 4, 1, 2, 3, 4, 5, 6, 7, 8, 2, 5, 6, 7, 6, 2, 3, 3, 8, 7, 3, 1, 2, 4, 5, 7, 4, 4, 2, 3, 6, 7, 4, 1, 2, 3, 4, 5, 6, 7, 8, 2, 3, 4, 5, 6, 7, 1, 3, 1, 4, 5, 7, 3, 1, 2, 3, 4, 5, 7, 8, 2, 4, 5, 6, 7, 5, 1, 2, 3, 5, 6, 7, 1, 2, 3, 4, 5, 6, 7, 8, 2, 8, 8, 1, 2, 3, 4, 6, 7, 2, 5, 2, 1, 2, 3, 4, 5, 6, 7, 8, 5, 2, 4, 6, 7, 2, 1, 2, 3, 4, 5, 6, 7, 8, 1, 1, 6, 1, 1, 1, 8, 1, 2, 3, 4, 5, 6, 7, 8, 5, 8, 1, 2, 3, 8, 1, 2, 3, 4, 5, 6, 7, 8, 8, 1, 3, 4, 6, 7, 4, 7, 1, 2, 3, 4, 5, 6, 7, 1, 2, 3, 4, 5, 6, 7, 8, 6, 3, 3, 4, 8, 2, 4, 8, 1, 2, 3, 6, 7, 8, 1, 2, 3, 6, 7, 8, 2, 2, 1, 2, 3, 4, 5, 6, 7, 8, 3, 4, 6, 7, 2, 6, 7, 2, 4, 6, 1, 4, 6, 8, 4, 1, 2, 3, 4, 5, 6, 7, 8, 7, 8, 7, 7, 1, 2, 3, 4, 5, 6, 7, 8, 1, 3, 5, 8, 1, 1, 2, 3, 4, 5, 6, 7, 8, 1, 2, 3, 4, 5, 6, 7, 8, 1, 2, 3, 4, 5, 6, 7, 2, 8, 2, 5, 6, 7, 8, 6, 8, 2, 2, 3, 4, 6, 7, 1, 2, 3, 4, 5, 6, 7, 8, 4, 5, 1, 5, 1, 2, 3, 4, 5, 6, 7, 8, 1, 2, 3, 4, 5, 6, 7, 8, 1, 2, 3, 5, 6, 7, 8, 1, 2, 3, 4, 5, 6, 7, 8, 2, 4, 5, 8, 1, 2, 3, 4, 5, 6, 7, 6, 2, 5, 6, 2, 6, 1, 2, 3, 4, 5, 6, 7, 8, 1, 2, 3, 4, 5, 6, 7, 8, 1, 2, 3, 4, 5, 6, 7, 8, 6, 1, 2, 3, 4, 5, 6, 7, 8], \"Freq\": [0.9930118634375167, 0.9831410174954848, 0.9762287951226224, 0.9849996436338623, 0.1457586524276468, 0.11997333799327194, 0.33986476941974647, 0.010385751647178764, 0.11102010381466955, 0.055510051907334775, 0.1618744739491311, 0.05586818127447887, 0.9868610029928747, 0.9906240509717602, 0.9762926645191822, 0.9886749251309984, 0.05502960651709856, 0.9423820116053129, 0.9748004665432939, 0.9942020702625468, 0.0036822298898612845, 0.9876602427631286, 0.9883868563112475, 0.028262516281537947, 0.9609255535722901, 0.1659604068852478, 0.22523198077283632, 0.18645430700909196, 0.1105063241971989, 0.10488054769261423, 0.07333601514905018, 0.07855995047473595, 0.055454082688048904, 0.9845963668787728, 0.9915163366112031, 0.9850917925948209, 0.8878172963270843, 0.11028786289777445, 0.9889991446341365, 0.04360204752731972, 0.04360204752731972, 0.9112827933209822, 0.0011700814743889126, 0.07956554025844606, 0.32294248693133987, 0.0029252036859722815, 0.01287089621827804, 0.5797753705597062, 0.001959603605312123, 0.01959603605312123, 0.08818216223904554, 0.01959603605312123, 0.07250533339654856, 0.7975586673620342, 0.001959603605312123, 0.0057951652859463436, 0.027044104667749605, 0.14874257567262283, 0.03670271347766018, 0.7804155918407744, 0.19908507792587235, 0.2610401963289684, 0.1254887111604111, 0.13357839222578352, 0.08977572889620607, 0.08188335712511102, 0.060968571931709174, 0.04834077709795711, 0.9960217389928884, 0.9915342336497787, 0.011028613530203252, 0.9539750703625813, 0.027571533825508133, 0.6751752423358078, 0.000821381073401226, 0.30391099715845366, 0.0073924296606110345, 0.009856572880814712, 0.001642762146802452, 0.000821381073401226, 0.9922646944995844, 0.0006880331923997398, 0.0027521327695989592, 0.9962720625948233, 0.982838498282812, 0.8946826736423934, 0.10448848743268828, 0.9955736148803612, 0.9931009309355828, 0.9951726592278828, 0.2558586794544588, 0.24287271081273729, 0.1112581637682626, 0.1303861446053929, 0.05141741637870811, 0.05527810975867937, 0.09055080836659858, 0.06247303833044398, 0.0026058491094897913, 0.2514644390657649, 0.01563509465693875, 0.07817547328469374, 0.04820820852556114, 0.6006482197373969, 0.0013029245547448956, 0.993607006990073, 0.9831006758528346, 0.0006716143614655587, 0.05843044944750361, 0.0013432287229311174, 0.014103901590776733, 0.9113806885087632, 0.009402601060517822, 0.00537291489172447, 0.10290148569649486, 0.0015830997799460749, 0.0031661995598921498, 0.6459047102179986, 0.21530157007266618, 0.004749299339838225, 0.025329596479137198, 0.001978640608249514, 0.16224852987646016, 0.07320970250523202, 0.0004946601520623785, 0.004946601520623785, 0.6242611119027217, 0.1335582410568422, 0.005176775833876875, 0.019844307363194688, 0.17342199043487533, 0.0008627959723128126, 0.0034511838892512504, 0.778241967026157, 0.018118715418569065, 0.9836823410038215, 0.014792215654192803, 0.0006133294164713083, 0.18951878968963426, 0.2778382256615026, 0.02821315315768018, 0.49311685084293183, 0.007359952997655699, 0.0036799764988278494, 0.9830877801344318, 0.15335145629397334, 0.1749458450374104, 0.17338103425890047, 0.17369399641460245, 0.18276989892996007, 0.08575163066234429, 0.0322351020373046, 0.024411048144754942, 0.30627667487737037, 0.6786928310405516, 0.014245426738482342, 0.9902417645943005, 0.009168905227725004, 0.21103997581061712, 0.7878825763596372, 0.9883821593744058, 0.059443789757852396, 0.003149339854720657, 0.19053506121059974, 0.022832713946724762, 0.723954499103911, 0.985718738947782, 0.1355441306741188, 0.3137768726180175, 0.08755839245845375, 0.20876912080841284, 0.11684838851217137, 0.04829733391836417, 0.06013797062093087, 0.029289996053717623, 0.010686463644487873, 0.9564384961816647, 0.028497236385300995, 0.0035621545481626243, 0.0021661441186761965, 0.058485891204257304, 0.70616298268844, 0.0021661441186761965, 0.04982131472955252, 0.121304070645867, 0.058485891204257304, 0.9899592141549846, 0.006599728094366563, 0.10006323393267584, 0.05482916927817854, 0.03289750156690713, 0.1315900062676285, 0.056199898510133, 0.021931667711271415, 0.6017501328280095, 0.005908774954481235, 0.8789302744790837, 0.03249826224964679, 0.08124565562411698, 0.07813441147667799, 0.2654128289848406, 0.1721398752845562, 0.07886692158427186, 0.3213277671978383, 0.08252947212224114, 0.0007325101075938563, 0.0004883400717292374, 0.9884220239473683, 0.006418324830827067, 0.9905491820573677, 0.993078147691129, 0.9354243638233614, 0.004486447788121638, 0.05832382124558128, 0.9744965221911045, 0.9928388756439852, 0.9970092679358369, 0.9823860181992419, 0.9959792771091015, 0.9859356507180029, 0.6778893150521159, 0.001717513368871079, 0.3016217708563595, 0.008059101192395062, 0.009512381735285977, 0.001189047716910747, 0.000132116412990083, 0.9925047185491906, 0.967362185630777, 0.2041465208827142, 0.7939031367661108, 0.9881550804915682, 0.04939185374538253, 0.944619202880441, 0.005493285668703556, 0.25768503682282135, 0.474170431130366, 0.0002496948031228889, 0.26192984847591044, 0.0002496948031228889, 0.24809578196899282, 0.07637943232267996, 0.2796915903039144, 0.12363577174534526, 0.025001900508503153, 0.07912689391702096, 0.16429820334159215, 0.0035717000726433077, 0.3370513703299056, 0.010814482470478256, 0.15861240956701442, 0.003604827490159419, 0.48845412491660123, 0.9970122078590776, 0.9993382450855064, 0.03379254014104051, 0.9664666480337586, 0.9932210736895272, 0.9806447995135354, 0.018798302866074163, 0.5274287209734195, 0.07996239414451536, 0.0029615701535005688, 0.0025577196780232187, 0.38594643773118775, 0.001076934601272934, 0.9832529299788242, 0.06794998346962926, 0.8880359908617065, 0.0421758518087354, 0.004314105350542511, 0.9953257344465936, 0.9932898285154478, 0.9846686779502529, 0.028137932602487585, 0.19613794196439877, 0.06372414148210424, 0.003310345012057363, 0.0016551725060286815, 0.6852414174958742, 0.02151724257837286, 0.35136180748900453, 0.11408324247308964, 0.0936721831168819, 0.04884074917378278, 0.2729979188892784, 0.06524249329930686, 0.05102764839051933, 0.00291586562231539, 0.0024162715806594435, 0.004027119301099073, 0.11275934043077404, 0.7087729969934368, 0.010470510182857589, 0.15786307660308366, 0.003221695440879258, 0.014260323578828218, 0.9376162753079553, 0.014260323578828218, 0.035650808947070546, 0.9953846662800185, 0.8792058481016309, 0.0020933472573848354, 0.04814698691985122, 0.06908045949369958, 0.16527490758469393, 0.001841503148575977, 0.5358774162356094, 0.0055245094457279315, 0.01749427991147178, 0.00046037578714399425, 0.27392359335067656, 0.8119368596499231, 0.18683774327171526, 0.9966173022337692, 0.1748560032705762, 0.18188397767855757, 0.0579105091217664, 0.3623623604755189, 0.06887414919821731, 0.015742662673878246, 0.07140421998509061, 0.06718743534030179, 0.08302862776750135, 0.5350733789461197, 0.02152594053231516, 0.003843917952199136, 0.012300537447037236, 0.0015375671808796545, 0.3421086977457231, 0.9847485532448387, 0.7583584297765108, 0.054709542658682796, 0.09763549151395699, 0.004208426358360215, 0.03955920776858602, 0.021042131791801075, 0.010100223260064517, 0.013466964346752689, 0.9984542982466673, 0.996710476137527, 0.998731525107239, 0.0036025271903580578, 0.07385180740234018, 0.7484250237968865, 0.02251579493973786, 0.04683285347465475, 0.09186444335413047, 0.011708213368663687, 0.16107149213781596, 0.19298472235577577, 0.13668496715994102, 0.11500805606849664, 0.20984454209356584, 0.0957396906538794, 0.06804141537036712, 0.020472638253030816, 0.9022633312839174, 0.0649889554346159, 0.002166298514487197, 0.017330388115897575, 0.01299779108692318, 0.9821450931723683, 0.9943325724950155, 0.7628485651356717, 0.2362031107644855, 0.995809700555194, 0.06533913245187005, 0.008522495537200442, 0.7954329168053745, 0.04261247768600221, 0.08522495537200442, 0.40653506628864666, 0.0005898223667590086, 0.5921816562260447, 0.0002949111833795043, 0.0002949111833795043, 0.9948904689044666, 0.04391300146746588, 0.010133769569415203, 0.945818493145419, 0.07639127898760326, 0.1557900886440098, 0.04932350296837376, 0.023458739216665567, 0.6658672900730458, 0.028270788286750812, 0.0006015061337606556, 0.05060207119091167, 0.021686601938962144, 0.9252950160623847, 0.9816625295415736, 0.005692019391736817, 0.00221356309678654, 0.005797427158250462, 0.0027406019293547638, 0.001791932030731961, 0.991534838774418, 0.8968924797116148, 0.03882651427323008, 0.013589279995630527, 0.013589279995630527, 0.0058239771409845115, 0.025237234277599552, 0.0038826514273230077, 0.0024017701580362634, 0.9967346155850493, 0.9890736524490833, 0.5372404467056568, 0.008434934549726497, 0.11419603698091257, 0.04087699051021302, 0.0382816260333741, 0.014923345741823801, 0.19854538247817755, 0.04736540170231033, 0.07533092227340459, 0.018832730568351146, 0.18267748651300614, 0.0037665461136702294, 0.7194103077110139, 0.9820415521419772, 0.9942808227930305, 0.9935818016586254, 0.995134190620496, 0.18580546502621445, 0.2123491028871022, 0.10121973904285206, 0.1914681077698705, 0.11112936384425016, 0.012740946173226133, 0.047778548149598, 0.13767300170513794, 0.9943121545415395, 0.0787354049890205, 0.7368300277962733, 0.04129120587372085, 0.020517369378246383, 0.10976792617361815, 0.01256688874417591, 0.0002564671172280798, 0.9987258385779545, 0.001188959331640422, 0.9728001911748101, 0.024158945145069787, 0.0016105963430046524, 0.0019355866015291928, 0.005806759804587578, 0.002903379902293789, 0.0009677933007645964, 0.002903379902293789, 0.8748851438911951, 0.10936064298639939, 0.9996139627583803, 0.003290494626361134, 0.9937293771610625, 0.0068964343986796595, 0.145452070953971, 0.024450994686227884, 0.0006269485816981508, 0.0056425372352833575, 0.8169140019526906, 0.0006269485816981508, 0.9792533272312588, 0.008227385536238106, 0.008227385536238106, 0.9790588788123347, 0.9921753751066288, 0.06252691924977939, 0.9373783524504742, 0.8528294938913145, 0.14628129211364474, 0.9642342949875217, 0.030732567170917026, 0.02767460819478489, 0.011069843277913955, 0.9575414435395572, 0.9883586305306039, 0.9949422385796947, 0.9984360477069041, 0.916476361980072, 0.07679969513799485, 0.9813076062116675, 0.11124162150462215, 0.06535445263396551, 0.001390520268807777, 0.023638844569732205, 0.7967681140268561, 0.9860635025840124, 0.9597004018733684, 0.039317334899840045, 0.003693925312909751, 0.993665909172723, 0.9777676520125994, 0.9742486233937824, 0.17522051097474742, 0.038937891327721644, 0.06767776349818286, 0.040792076629041725, 0.6322771877501467, 0.020396038314520862, 0.024104408917161018, 0.8473521364267981, 0.003472754657486877, 0.0764006024647113, 0.01562739595869095, 0.055564074519790035, 0.9915715388811361, 0.005859397274637381, 0.9921912718385966, 0.001953132424879127, 0.002451869158455612, 0.07600794391212397, 0.5949869157852284, 0.15119859810476274, 0.07273878503418316, 0.09235373830182805, 0.009807476633822448, 0.5705510066187796, 0.008557195449850463, 0.23610728445379067, 0.0367246304722749, 0.10846245232685461, 0.0012122693553954821, 0.03622546073770029, 0.0022106088245447027, 0.9246185457035352, 0.06409833939019308, 0.001602458484754827, 0.009614750908528962, 0.984186919083902, 0.988689716696008, 0.032063266850003914, 0.9618980055001174, 0.007032097080806034, 0.01828345241009569, 0.9732422359835551, 0.04396165243550779, 0.9542264558060222, 0.004311419026387256, 0.021557095131936276, 0.11640831371245589, 0.008622838052774511, 0.8515052577114829, 0.006535597218053403, 0.9912322447380995, 0.03502386063231871, 0.9561513952623008, 0.007004772126463742, 0.1129183839396277, 0.8558024888055995, 0.019810242796425914, 0.005943072838927774, 0.0039620485592851825, 0.9942199953031399, 0.9978745492748676, 0.20958536591119595, 0.003326751839860253, 0.0016633759199301266, 0.0881589237562967, 0.6903010067710025, 0.008316879599650632, 0.00020609542956308147, 0.9859605350297818, 0.010923057766843318, 0.00041219085912616295, 0.0012365725773784888, 0.00020609542956308147, 0.0010304771478154074, 0.994559165020491, 0.9423280531380164, 0.055431061949295084, 0.06447618971263606, 0.15897104884807467, 0.058984052199190985, 0.08915319114290984, 0.5541040107742877, 0.005266433232070623, 0.010457631703683095, 0.05860787839690022, 0.0719726276512337, 0.011364099102826375, 0.003788033034275458, 0.9129159612603854, 0.9936370053764695, 0.037185429424130875, 0.9600601778593789, 0.9977364258713319, 0.0028678370109536415, 0.7771838299684368, 0.13861212219609267, 0.017207022065721847, 0.03728188114239734, 0.0028678370109536415, 0.02294269608762913, 0.9966940837096455, 0.02717758055372822, 0.970627876918865, 0.9917883790387423, 0.9944344626853645, 0.04699714160942742, 0.19109581546973795, 0.6661165112410581, 0.09515950160586543, 0.0003884061290035324, 0.1884725546007176, 0.055363812913960794, 0.06761452896300744, 0.46576280055702335, 0.15219158784007947, 0.004947404558268837, 0.012015125355795747, 0.053714678061204515, 0.9958873659457812, 0.2956891378009192, 0.20150767548577767, 0.15380713629882828, 0.11084954845149034, 0.1092233937064807, 0.02452783407056204, 0.033878223854367465, 0.07060221851250179, 0.9902072270369523, 0.9941546779960416, 0.021317836756577585, 0.06395351026973276, 0.9136215752818965, 0.9770811239137511, 0.018094094887291686, 0.9746584395119212, 0.015515546793966908, 0.007052521269984958, 0.0014105042539969915, 0.9767332768758135, 0.005195389770616029, 0.005195389770616029, 0.010390779541232058, 0.996448323917427, 0.9814771731370137, 0.004153817022472563, 0.0855686306629348, 0.054830384696637834, 0.6122726291124558, 0.002492290213483538, 0.004984580426967076, 0.23593680687644158, 0.20196574693141078, 0.00464289073405542, 0.7405410720818395, 0.05223252075812348, 0.001160722683513855, 0.12416120906894099, 0.39987589394986767, 0.015616152068464744, 0.2583065153619824, 0.15974555558560655, 0.019456189462349515, 0.004352042379736076, 0.018432179490646912, 0.978306673917733, 0.9997369875930036, 0.17384298155326558, 0.15581482050329729, 0.4983498804526947, 0.07082491841058969, 0.03670018499457829, 0.03283700762672794, 0.008370217630342416, 0.023179064207102078, 0.9932867279509807, 0.3734696903656635, 0.10491803157179723, 0.12834009978201497, 0.1353988052700258, 0.15336641923950786, 0.023742918459672767, 0.06577430113828267, 0.015079961724386758, 0.17772901542540873, 0.15531743870021056, 0.37422121136493686, 0.010945188633236314, 0.014332985114952316, 0.04899274912020064, 0.1779896151547715, 0.04039295805122926, 0.9950206395922062, 0.9962884267712161, 0.11226565703287696, 0.27066143729100317, 0.2632476674869452, 0.012120925235205793, 0.027772217043772498, 0.22759096509600005, 0.08084539452996485, 0.005413228745820063, 0.997115125664248, 0.06998313384613092, 0.05748614565932182, 0.013746687005490001, 0.051237651565917273, 0.8060557380491864, 0.0024993976373618183, 0.0213905475962573, 0.34671491982944525, 0.18616828237621738, 0.006581706952694554, 0.06934298396588905, 0.12998871231571743, 0.16595303959294125, 0.07404420321781373, 0.12800158008710172, 0.0392457674795359, 0.43733873196426415, 0.009257975918249495, 0.01066679834059181, 0.36589130911690393, 0.009459236264298397, 0.03317082397869976, 0.05307331836591962, 0.9088805770163736, 0.9922257505702887, 0.003307419168567629, 0.16922242777823823, 0.0070696372347672475, 0.06194348815224636, 0.043764420977130576, 0.007967368947118643, 0.004039792705581284, 0.7059537753003294, 0.25357695428063154, 0.09369453564945368, 0.14011201202624723, 0.15601429559977836, 0.2342363391236342, 0.022349155292530235, 0.054153722439592496, 0.045557893480927016, 0.007847012124006692, 0.0015694024248013383, 0.9855847227752405, 0.0031388048496026767, 0.9835396317136004, 0.9866356866399993, 0.023700221037883374, 0.9598589520342766, 0.992448984601968, 0.0506038565458423, 0.9470150296436202, 0.005650900642409899, 0.9305149724501633, 0.06215990706650889, 0.9778250327960777, 0.013078212106711751, 0.21252094673406596, 0.7683449612693154, 0.03491200736675915, 0.9565890018492008, 0.9955694493499643, 0.1379248863765573, 0.0022987481062759552, 0.0022987481062759552, 0.8551342955346554, 0.20497768218738335, 0.1792627498019939, 0.11003023953363762, 0.10805216781168459, 0.08110094060007447, 0.14464649466781576, 0.09519470161898985, 0.07689753819092428, 0.9968015782195633, 0.9912762362459624, 0.9848841049142636, 0.9928827251618721, 0.993302205623625, 0.994214072572005, 0.0783625672494334, 0.23231992895361825, 0.5537275447360626, 0.005881517188699196, 0.0005189573990028703, 0.0027677727946819747, 0.0072654035860401835, 0.11918721597099254, 0.016233653620427262, 0.20327357576882832, 0.0014116220539501967, 0.5865289634163068, 0.15104355977267106, 0.032467307240854525, 0.008469732323701181, 0.9936720861189137, 0.9765817124011811, 0.2822459614232003, 0.005978800283242482, 0.5439155322612154, 0.016694052738923812, 0.00023294027077568112, 0.02779753897923128, 0.11243250402772875, 0.010637605698756105, 0.9927651569011383, 0.9795248270574928, 0.06192352223977731, 0.03440195679987629, 0.013760782719950513, 0.8944508767967834, 0.007041883787871502, 0.13144849737360137, 0.03755671353531467, 0.8239004031809657, 0.009110799027442154, 0.078960258237832, 0.08807105726527414, 0.3902458916754389, 0.43276295380350227, 0.9941195927581894, 0.4051822401452988, 0.0033417091970746296, 0.11695982189761203, 0.04929021065685078, 0.06599875664222393, 0.010860554890492546, 0.32163951021843307, 0.026733673576597037, 0.9864717247261503, 0.994041301510193, 0.6586549522837029, 0.03804641131292765, 0.12901877103641307, 0.052360902697989535, 0.031454211332964936, 0.025427057065570458, 0.0284406341992677, 0.03635127417522295, 0.1752177855104383, 0.20080449484315419, 0.14737944575644343, 0.2102204038775936, 0.09354500932040924, 0.09395439666973268, 0.04523730210024166, 0.03377445631918495, 0.13522868001060226, 0.07734131523413391, 0.48967016761733867, 0.016132544281966584, 0.025147789616006735, 0.24151367763297032, 0.009964218527097007, 0.004744865965284289, 0.9940571219486618, 0.9988812478545734, 0.03420887477535734, 0.2885444220182315, 0.023797478104596412, 0.016360766196910032, 0.12047473290451934, 0.08775320051069926, 0.0029746847630745515, 0.42537992111966083, 0.254486451353385, 0.1827726158294596, 0.15263606237971664, 0.1617049326307967, 0.08203839550207805, 0.03850781829689378, 0.04729764638640214, 0.08064318469421958, 0.4459694709081986, 0.08216923055028226, 0.09119173429697992, 0.21525116081407275, 0.07346895908025237, 0.02706751124009298, 0.05767957752353147, 0.007411342363358792, 0.0009174400020396275, 0.8981737619967953, 0.009174400020396274, 0.004587200010198137, 0.07981728017744759, 0.006422080014277392, 0.9894943577121281, 0.9934538100387817, 0.9364376306643526, 0.06189099283126469, 0.2586464395389983, 0.15182335719281037, 0.005887886428530042, 0.43864753892548813, 0.13415969790722024, 0.0016822532652942977, 0.008831829642795063, 0.9730859999150686, 0.02539647527250866, 0.016221495195624557, 0.0608306069835921, 0.05271985938577982, 0.016221495195624557, 0.004055373798906139, 0.016221495195624557, 0.8313516287757586, 0.8042824402826111, 0.03277053016285377, 0.05992325515493261, 0.07677667066725741, 0.025280123268487192, 0.6166275449080867, 0.0013463483513277003, 0.11040056480887142, 0.012790309337613152, 0.18579607248322264, 0.07270281097169581, 0.9879534708207747, 0.9917342972766362, 0.0026012702879387177, 0.0006503175719846794, 0.0026012702879387177, 0.0019509527159540384, 0.9476817505774227, 0.05172206737306356, 0.01586662055409291, 0.0059499827077848415, 0.13684960227905135, 0.023799930831139366, 0.6306981670251932, 0.1864327915105917, 0.04858208802065867, 0.003036380501291167, 0.23076491809812869, 0.6619309492814744, 0.05769122952453217, 0.20570332164374863, 0.28576748875059693, 0.009854051336227479, 0.04311147459599522, 0.03695269251085305, 0.416333668955611, 0.9808786345321945, 0.9841657615664051, 0.054293031199100276, 0.9455073624779485, 0.002275752319870815, 0.5575593183683497, 0.021847222270759824, 0.010923611135379912, 0.10741550949790248, 0.1365451391922489, 0.11242216460161826, 0.050976851965106255, 0.9938355381411608, 0.9740705363721426, 0.013719303329185107, 0.9965633789709479, 0.35861806309769817, 0.005625731567518672, 0.5973098167481332, 0.009822705911540539, 0.010715679176226041, 0.0007143786117484028, 0.01571632945846486, 0.0014287572234968056, 0.02223905071724268, 0.009567963680674177, 0.9545983223569926, 0.008792182841700595, 0.0027152329364075367, 0.0016808584844427608, 0.00038789041948679095, 0.16503167097078417, 0.0857037788150164, 0.38818770404448605, 0.03692083205006762, 0.07932789215576777, 0.06805888317663067, 0.16354890663142402, 0.013048326186369278, 0.003407839654788088, 0.5350308258017298, 0.06036744531338899, 0.009736684727965966, 0.06523578767737197, 0.16990514850300611, 0.13728725466432012, 0.019473369455931932, 0.9970486826894296, 0.8481341130331369, 0.0011033834948392933, 0.07135213266627431, 0.025010025883023985, 0.005884711972476231, 0.0011033834948392933, 0.047261593028949736, 0.00018389724913988223, 0.08056000623998437, 0.017198203579322505, 0.681591962906834, 0.1810337218876053, 0.03439640715864501, 0.004525843047190133, 0.21838879698136782, 0.050328282431920154, 0.01348078993712147, 0.45834685786213, 0.028759018532525802, 0.0008987193291414313, 0.14559253132091188, 0.08447961693929454, 0.9949694078866093, 0.9987020430718684, 0.00530421865391428, 0.02917320259652854, 0.9627156856854419, 0.9872019513118291, 0.16237122741504445, 0.19622640789115797, 0.24945922456083647, 0.10824748494336296, 0.050114576362668035, 0.11158845670087417, 0.029400551466098584, 0.09243355195780993, 0.9920805555913502, 0.010580871107066335, 0.9161270900201602, 0.07318435849054215, 0.9920865650796102, 0.02042449702447898, 0.4795671901347665, 0.09476966619358249, 0.024305151459129988, 0.16993181524366513, 0.09048052181844189, 0.12009604250393642, 0.0006127349107343695, 0.9949170445722604, 0.14715681205885847, 0.03990693208375823, 0.8081153746961042, 0.0024941832552348893, 0.0024941832552348893, 0.0025562489470935226, 0.09969370893664738, 0.0025562489470935226, 0.7131934562390928, 0.1814936752436401, 0.9864099176857646, 0.9739614229311322, 0.0007461902995040913, 0.41712037742278707, 0.008954283594049097, 0.0007461902995040913, 0.11491330612363007, 0.057456653061815036, 0.40070419083369707, 0.4126557405556741, 0.04543756903015431, 0.2604398843046572, 0.09170127567903869, 0.015283545946506449, 0.0801353490168176, 0.08261376187300783, 0.011978995471586136, 0.9878005180477107, 0.03921941665670723, 0.7926847481961403, 0.12520044548102693, 0.0015084391021810474, 0.03318566024798304, 0.0007542195510905237, 0.006787975959814713, 0.9876973447702739, 0.9969748978364191, 0.0879257111458183, 0.05002669772089662, 0.0015159605369968673, 0.004547881610990602, 0.11672896134875879, 0.7382727815174744, 0.2945270106069403, 0.0012319623987144203, 0.6359565896792225, 0.02446325334590063, 0.018039449409746867, 0.0007039785135510972, 0.008887728733582604, 0.016191505811675236, 0.027298549683427247, 0.17639062872368377, 0.06089676467841463, 0.0020998884371867116, 0.027298549683427247, 0.6950630727088015, 0.004199776874373423, 0.008399553748746846, 0.006454044986818304, 0.9874688829832006, 0.022317872653104826, 0.039784033859882516, 0.016495818917512263, 0.036387835847453524, 0.8825263120869061, 0.0024258557231635683, 0.9881601869278791, 0.003809759760518943, 0.07704180849049419, 0.8690485320383767, 0.003386453120461283, 0.004233066400576604, 0.04106074408559306, 0.001269919920172981, 0.9818285969874742, 0.9829593639855669, 0.995334591926201, 0.0021344979931605845, 0.9946760648128324, 0.9938890852506809, 0.9840774566830947, 0.12102812296654923, 0.2846498342732574, 0.036152606688720286, 0.22294107458044177, 0.18117858064692005, 0.027633889020688494, 0.026491134211562278, 0.10004298919895872, 0.9941639905579338, 0.979501804969419, 0.9980658660020697, 0.06494077775709092, 0.661642996568622, 0.18760669129826268, 0.021960649483074225, 0.02384299086733773, 0.008784259793229691, 0.02541160868755732, 0.005647024152790515, 0.05240858381901738, 0.12387483448131381, 0.8115389797429662, 0.011116972325246112, 0.989218306568868, 0.9925604895062348, 0.9709091915306943, 0.02489510747514601, 0.9981660716396129, 0.13721968701547713, 0.25695915912452405, 0.263659908171989, 0.036708451303503434, 0.0926451390040801, 0.16431402012044394, 0.02388962703878795, 0.02476363778410946, 0.12168049524508052, 0.05809557479746326, 0.3398819848387024, 0.0013723364125385023, 0.33622242107193306, 0.013265918654538855, 0.08920186681500264, 0.039797755963616566, 0.13886170357566818, 0.03675750977002981, 0.22156610055823525, 0.0010210419380563837, 0.5544257723646163, 0.0020420838761127675, 0.029610216203635128, 0.01429458713278937, 0.9576571655574221, 0.04055959760007905, 0.1850704789354744, 0.30348528742215586, 0.06918050645064118, 0.13028153769536807, 0.1052856612770707, 0.08937919446542693, 0.05074920363714919, 0.06665567044879296, 0.011739045102755447, 0.974340743528702, 0.9915656242277473, 0.99588747453749, 0.2152031014410069, 0.24376988481813172, 0.07474974983680992, 0.27995447709582316, 0.0880809154128015, 0.012855052519706166, 0.04094572284054556, 0.04475462729082887, 0.9938666321063822, 0.9992191850027943, 0.1315377747422838, 0.0316906189973159, 0.8365455179154484, 0.9859569129065116, 0.9873128144147377, 0.9981844814328449, 0.9802008518771459, 0.012407605719963872, 0.1924488855710261, 0.24992995827452438, 0.08340390941291907, 0.0690336412370445, 0.10425488676614884, 0.13271365315366515, 0.10763612633694285, 0.06058054231005946, 0.009596101128656219, 0.9788023151229344, 0.009596101128656219, 0.9949381130320527, 0.9779214778904903, 0.02042761050619581, 0.05515454836672868, 0.010213805253097905, 0.02451313260743497, 0.10213805253097905, 0.02042761050619581, 0.7660353939823428, 0.9739177348913108, 0.002781943062736605, 0.4005998010340711, 0.5967267869570018, 0.9905125571471352, 0.9918267511881761, 0.9899107150435934, 0.99317573509791, 0.9884776291072924, 0.9895244275205526, 0.045744785600568286, 0.0030496523733712193, 0.8935481453977672, 0.015248261866856096, 0.04269513322719707, 0.3068214404034756, 0.16225845479792794, 0.13886444467918788, 0.09777496536806748, 0.09897465819466954, 0.04888748268403374, 0.0806793425889882, 0.06568318225646251, 0.995390324192987, 0.9980745788852904, 0.9940472480033069, 0.9936394669248259, 0.740020769189918, 0.03758570498142924, 0.05429046275095335, 0.06988157000250919, 0.08714315303101743, 0.0013920631474603424, 0.009744442032222397, 0.9619196074917968, 0.03593377844078551, 0.06828023401612796, 0.9198864860506127, 0.0018966731671146654, 0.0018966731671146654, 0.009483365835573326, 0.9869037811919644, 0.9497816060720436, 0.04936983595919039, 0.010879496431562245, 0.9845944270563832, 0.0008504665024115325, 0.940615951667155, 0.01956072955546525, 0.03742052610610743, 0.9875501743264301, 0.011351151429039428, 0.9958472859312674, 0.3109367529455082, 0.1737735240251913, 0.13039283188037443, 0.11961034770565115, 0.05090335552253079, 0.114845994233099, 0.065447171386111, 0.03435349609156019, 0.006062584038753089, 0.8866529156676392, 0.10685304368302317, 0.06231971702549659, 0.08543166506144234, 0.14775138208693894, 0.014444967522466098, 0.02496915814597711, 0.5833703312287379, 0.07841553797910167, 0.003095350183385592, 0.19664447301270416, 0.01735098291288566, 0.014459152427404717, 0.7711547961282516, 0.9870030651969813, 0.9915554197289944, 0.004425864519349699, 0.07966556134829458, 0.911728090986038, 0.9940675586772765, 0.9953685800332248, 0.003676724117198777, 0.9945538737022692, 0.9938555697053538, 0.08328042549102137, 0.00020716523753985415, 0.22332412606796276, 0.001450156662778979, 0.0004143304750797083, 0.002693148088018104, 0.0008286609501594166, 0.6877885886323157, 0.07190619601834201, 0.8766436237980846, 0.018359028770640516, 0.033658219412840945, 0.9873218756376755, 0.03836116058070711, 0.9513567824015364, 0.016648910947268444, 0.9822857458888381, 0.9724481866151199, 0.9861218335085072, 0.03220434680786387, 0.12680461555596398, 0.7869937251171732, 0.0040255433509829835, 0.05031929188728729, 0.9929515022127039, 0.9931926552025502, 0.8773573441969416, 0.06734102422564245, 0.0038480585271795683, 0.050024760853334384, 0.9973461134812981, 0.08628755022885617, 0.0742072931968163, 0.08456179922427905, 0.47889590377015173, 0.17861522897373228, 0.05090965463502514, 0.02416051406407973, 0.022434763059502604, 0.02320874889312884, 0.0012893749385071577, 0.08380937100296525, 0.03223437346267894, 0.4538599783545195, 0.40615310562975465, 0.5456885383313725, 0.4542035649629488, 0.05698167394235727, 0.2692384093776381, 0.0035613546213973295, 0.6702469397469774, 0.9922926335512294, 0.06779886961666323, 0.00019426610205347633, 0.7788128031323865, 0.023506198348470637, 0.0951903900062034, 0.034190833961411836, 0.00019426610205347633, 0.04122504201783622, 0.914446386577458, 0.03747731092530565, 0.0037477310925305655, 0.0037477310925305655, 0.9930168001525465, 0.000525476516484666, 0.1791874921212711, 0.02732477885720263, 0.009458577296723987, 0.2900630370995356, 0.49289697246261666, 0.05508093728539898, 0.2367658199730583, 0.14263496446293616, 0.10851766748765172, 0.20881429955957226, 0.18990591810339053, 0.021785743851687658, 0.0365836076000038, 0.996469040574836, 0.0021804574192009537, 0.9915025597093352, 0.9306053606946705, 0.0002751235360516395, 0.008528829617600823, 0.0004126853040774592, 0.0004126853040774592, 0.05970180732320576, 0.09571380247049222, 0.8997097432226269, 0.9985563485846152, 0.08921760612717886, 0.1210810368868856, 0.11470835073494424, 0.0010621143586568911, 0.08921760612717886, 0.5767280967506919, 0.00849691486925513, 0.9965074463162431, 0.9928062639921235, 0.0054133535350811965, 0.0054133535350811965, 0.9798169898496966, 0.0054133535350811965, 0.9951124474998755, 0.6980591836425867, 0.035973602101826554, 0.2192676699539904, 0.000856514335757775, 0.023982401401217702, 0.012847715036366626, 0.0025695430072733253, 0.0051390860145466505, 0.9902615630623762, 0.9855329565995837, 0.013024664624664102, 0.9830827506656267, 0.9919529151675343, 0.9612213924099804, 0.03527417953798093, 0.9933102603196947, 0.6788841985398725, 0.008972037866165714, 0.11065513368271049, 0.016947182636090796, 0.18143454351579558, 0.000996893096240635, 0.00199378619248127, 0.995776824605853, 0.9989921932955215, 0.04552229050773944, 0.002845143156733715, 0.2731337430464366, 0.6799892144593579, 0.07708848255341946, 0.2821673846134705, 0.24833083692780927, 0.18889620534082174, 0.047665397609366236, 0.14329042367753925, 0.004413462741607985, 0.007944232934894373, 0.9823522497361726, 0.008001467229102072, 0.07001283825464313, 0.03000550210913277, 0.01000183403637759, 0.8801613952012279, 0.9904111050895702, 0.9918392932659119, 0.009598501332267449, 0.8996413521425218, 0.02006959369474103, 0.002617773090618395, 0.04450214254051272, 0.006108137211442922, 0.016579229573916502, 0.3868341013932665, 0.24954541430773097, 0.07974098554404226, 0.10064396233714072, 0.07716037112514122, 0.01522562507151616, 0.04877361251722973, 0.04154789214430681, 0.9929451905219694, 0.9931097966538069, 0.006061872740467685, 0.9880852566962326, 0.9994201786449077, 0.11257404957056291, 0.0018454762224682443, 0.8839831105622891, 0.07054224424595358, 0.02220774355891131, 0.0026126757128130955, 0.005225351425626191, 0.3370351669528893, 0.5630316161112221, 0.8570713290243188, 0.0028728647900256496, 0.0038304863867008663, 0.010533837563427382, 0.06703351176726516, 0.05841491739718821, 0.9924894633336367, 0.9973368769745466, 0.04228654066309237, 0.45032986087602495, 0.11072970441675735, 0.09765139287147104, 0.05449296477202625, 0.11639697275304807, 0.07149476978089844, 0.05623673964473109, 0.11627178405557467, 0.06459543558643037, 0.10765905931071729, 0.7062434290783054, 0.04420807709456798, 0.9315273387783967, 0.02210403854728399, 0.989369078493057, 0.015012008528607458, 0.9832865586237886, 0.0863867564467209, 0.10745669704348211, 0.8006577426769255, 0.0021069940596761196, 0.9880087859141448, 0.09667406907884235, 0.03698269756707392, 0.27964109914752383, 0.0012976385111254007, 0.5560381020172341, 0.027250408733633415, 0.0006488192555627004, 0.0006488192555627004, 0.9876210418897993, 0.9872777679093506, 0.9765323849532462, 0.9864827925992009, 0.09112573537018455, 0.15754871115206606, 0.006038452343807409, 0.4155553112965645, 0.240989143539223, 0.0691677268472485, 0.014821655752981824, 0.005489502130734009, 0.12060498565630941, 0.29435793109336533, 0.022485675291854298, 0.560097729997098, 0.9820422446626543, 0.2302645945761912, 0.18175187583758712, 0.149979461452445, 0.10727460340789917, 0.19131776403956538, 0.02083997072573837, 0.1120575475088883, 0.006149499558414602, 0.06678003550839298, 0.12521256657823684, 0.24011351002650122, 0.12570359625109268, 0.02798869135278235, 0.28234206189210265, 0.030443839717061504, 0.1006610829354453, 0.07352926222228923, 0.019754130149271732, 0.7418773322726495, 0.0010974516749595407, 0.13608400769498305, 0.0021949033499190813, 0.024143936849109895, 0.5358537163093745, 0.46227380302510224, 0.9942347190693369, 0.9942882790646813, 0.9973103240938823, 0.9728059034226143, 0.983253987593084, 0.0973893361225359, 0.8973731685576523, 0.9978436219750071, 0.40483051494667416, 0.0028813559782681435, 0.03745762771748586, 0.5488983138600814, 0.005762711956536287, 0.25259374003055823, 0.2815719893648479, 0.1102783377443801, 0.14215441201209872, 0.06825987620966009, 0.042662422631037554, 0.04620420866078407, 0.05618560565370606, 0.7916480158565459, 0.20667733747303763, 0.0003555656710213879, 0.9994951012411213, 0.10755115487970472, 0.20948606146281912, 0.2645252947694043, 0.016567932474941458, 0.08733266101197955, 0.07301122785567422, 0.1669429806161474, 0.07469610234465132, 0.08613646699518021, 0.24850865765276128, 0.2564292523189848, 0.003465260166472767, 0.26533992131848616, 0.07079031482937224, 0.06683001749626051, 0.0019801486665558666, 0.01167687875441028, 0.2627297719742313, 0.001459609844301285, 0.013136488598711566, 0.001459609844301285, 0.07006127252646169, 0.6407687216482642, 0.1795457864112598, 0.2436692815581383, 0.021374498382292835, 0.4239275512488079, 0.08051061057330301, 0.030636781014619727, 0.01353718230878546, 0.005699866235278089, 0.013796044821993588, 0.8167258534620204, 0.10622954512935064, 0.06208220169897115, 0.9312168294505649, 0.004060658951951382, 0.00754122376790971, 0.0005800941359930547, 0.0004143529542807533, 0.018645882942633897, 0.03770611883954855, 0.9948600744805506, 0.1340517394278105, 0.022929902796862325, 0.8413510487771791, 0.01991609044480535, 0.9758884317954621, 0.17254959688634233, 0.12045347077580618, 0.00662494089266934, 0.5083136466739021, 0.06926074569608855, 0.032823570786407186, 0.08251062748142723, 0.007227208246548371, 0.04710500687800862, 0.4688370818797771, 0.21571353261584708, 0.008957327929822668, 0.008641186944064221, 0.06976177752403066, 0.09136474488419122, 0.08967865962681283, 0.25713297717630856, 0.24897002551991784, 0.08221258453936396, 0.22477270453847384, 0.05451685570518107, 0.03527561251511716, 0.05772372957019172, 0.03964862233104078, 0.9965262246621897, 0.6076520231161823, 0.01911549014037597, 0.2477661606656424, 0.04889154208980777, 0.013969012025659363, 0.0099253506498106, 0.028673235210563957, 0.024261968255092577], \"Term\": [\"10k\", \"15f\", \"39f\", \"45f\", \"able\", \"able\", \"able\", \"able\", \"able\", \"able\", \"able\", \"able\", \"ableist\", \"abortion\", \"abrasive\", \"academic\", \"accent\", \"accent\", \"adoptive\", \"affair\", \"affair\", \"aid\", \"airline\", \"airport\", \"airport\", \"aita\", \"aita\", \"aita\", \"aita\", \"aita\", \"aita\", \"aita\", \"aita\", \"album\", \"ally\", \"ancestry\", \"animal\", \"animal\", \"annie\", \"anniversary\", \"anniversary\", \"anniversary\", \"apartment\", \"apartment\", \"apartment\", \"apartment\", \"apartment\", \"apartment\", \"appointment\", \"appointment\", \"appointment\", \"appointment\", \"appointment\", \"appointment\", \"appointment\", \"art\", \"art\", \"art\", \"art\", \"art\", \"asshole\", \"asshole\", \"asshole\", \"asshole\", \"asshole\", \"asshole\", \"asshole\", \"asshole\", \"assignment\", \"asthma\", \"attractive\", \"attractive\", \"attractive\", \"aunt\", \"aunt\", \"aunt\", \"aunt\", \"aunt\", \"aunt\", \"aunt\", \"ava\", \"baby\", \"baby\", \"baby\", \"babysat\", \"babysit\", \"babysit\", \"babysitter\", \"babysitting\", \"bachelorette\", \"bad\", \"bad\", \"bad\", \"bad\", \"bad\", \"bad\", \"bad\", \"bad\", \"bag\", \"bag\", \"bag\", \"bag\", \"bag\", \"bag\", \"bag\", \"balcony\", \"bark\", \"bathroom\", \"bathroom\", \"bathroom\", \"bathroom\", \"bathroom\", \"bathroom\", \"bathroom\", \"beautiful\", \"beautiful\", \"beautiful\", \"beautiful\", \"beautiful\", \"beautiful\", \"beautiful\", \"bed\", \"bed\", \"bed\", \"bed\", \"bed\", \"bed\", \"bed\", \"bedroom\", \"bedroom\", \"bedroom\", \"bedroom\", \"bedroom\", \"bedroom\", \"bedroom\", \"beer\", \"beer\", \"bf\", \"bf\", \"bf\", \"bf\", \"bf\", \"bf\", \"bf\", \"bff\", \"big\", \"big\", \"big\", \"big\", \"big\", \"big\", \"big\", \"big\", \"bill\", \"bill\", \"bill\", \"biological\", \"biological\", \"birth\", \"birth\", \"birth_control\", \"birthday\", \"birthday\", \"birthday\", \"birthday\", \"birthday\", \"bisexual\", \"bit\", \"bit\", \"bit\", \"bit\", \"bit\", \"bit\", \"bit\", \"bit\", \"black\", \"black\", \"black\", \"black\", \"body\", \"body\", \"body\", \"body\", \"body\", \"body\", \"body\", \"boob\", \"boob\", \"book\", \"book\", \"book\", \"book\", \"book\", \"book\", \"book\", \"boss\", \"boss\", \"boss\", \"boss\", \"boyfriend\", \"boyfriend\", \"boyfriend\", \"boyfriend\", \"boyfriend\", \"boyfriend\", \"boyfriend\", \"boyfriend\", \"bra\", \"bra\", \"bracelet\", \"bread\", \"breakfast\", \"breakfast\", \"breakfast\", \"breastfeed\", \"bridal\", \"bride\", \"bride_groom\", \"bridesmaid\", \"bridezilla\", \"brother\", \"brother\", \"brother\", \"brother\", \"brother\", \"brother\", \"brother\", \"burger\", \"c_section\", \"cake\", \"cake\", \"campaign\", \"campus\", \"campus\", \"car\", \"car\", \"car\", \"car\", \"car\", \"car\", \"care\", \"care\", \"care\", \"care\", \"care\", \"care\", \"care\", \"care\", \"career\", \"career\", \"career\", \"career\", \"career\", \"carpet\", \"cat\", \"ceremony\", \"ceremony\", \"checkup\", \"chicken\", \"chicken\", \"child\", \"child\", \"child\", \"child\", \"child\", \"child\", \"childless\", \"church\", \"church\", \"church\", \"class\", \"class\", \"classmate\", \"classroom\", \"clean\", \"clean\", \"clean\", \"clean\", \"clean\", \"clean\", \"clean\", \"close\", \"close\", \"close\", \"close\", \"close\", \"close\", \"close\", \"close\", \"clothe\", \"clothe\", \"clothe\", \"clothe\", \"clothe\", \"clothe\", \"clothe\", \"clothing\", \"clothing\", \"clothing\", \"clothing\", \"coach\", \"coffee\", \"coffee\", \"coffee\", \"coffee\", \"college\", \"college\", \"college\", \"college\", \"college\", \"college\", \"college\", \"color\", \"color\", \"colour\", \"comment\", \"comment\", \"comment\", \"comment\", \"comment\", \"comment\", \"comment\", \"comment\", \"company\", \"company\", \"company\", \"company\", \"company\", \"company\", \"company\", \"computer_science\", \"contact\", \"contact\", \"contact\", \"contact\", \"contact\", \"contact\", \"contact\", \"contact\", \"cook\", \"cookie\", \"cooking\", \"cost\", \"cost\", \"cost\", \"cost\", \"cost\", \"cost\", \"cost\", \"couple\", \"couple\", \"couple\", \"couple\", \"couple\", \"couple\", \"couple\", \"couple\", \"coworker\", \"coworker\", \"coworker\", \"coworker\", \"coworker\", \"crib\", \"curtain\", \"custody\", \"custody\", \"customer\", \"cute\", \"cute\", \"cute\", \"cute\", \"cute\", \"dad\", \"dad\", \"dad\", \"dad\", \"dad\", \"daisy\", \"dance\", \"dance\", \"dance\", \"date\", \"date\", \"date\", \"date\", \"date\", \"date\", \"date\", \"datum\", \"datum\", \"datum\", \"daughter\", \"daughter\", \"daughter\", \"daughter\", \"daughter\", \"daughter\", \"deaf\", \"death\", \"death\", \"death\", \"death\", \"death\", \"death\", \"death\", \"debt\", \"debt\", \"deceased\", \"decision\", \"decision\", \"decision\", \"decision\", \"decision\", \"decision\", \"decision\", \"decision\", \"degree\", \"degree\", \"degree\", \"degree\", \"degree\", \"dental\", \"dessert\", \"diamond\", \"diaper\", \"different\", \"different\", \"different\", \"different\", \"different\", \"different\", \"different\", \"different\", \"dil\", \"dinner\", \"dinner\", \"dinner\", \"dinner\", \"dinner\", \"dinner\", \"dinner\", \"dish\", \"dish\", \"divorce\", \"divorce\", \"divorce\", \"doctor\", \"doctor\", \"doctor\", \"doctor\", \"doctor\", \"doctor\", \"doctor\", \"dog\", \"doll\", \"doll\", \"door\", \"door\", \"door\", \"door\", \"door\", \"door\", \"door\", \"doorbell\", \"drawer\", \"drawer\", \"drawer\", \"drawing\", \"dress\", \"dress\", \"drink\", \"drink\", \"driver\", \"driver\", \"driveway\", \"driveway\", \"driveway\", \"duck\", \"earring\", \"eat\", \"eld\", \"eld\", \"electric\", \"email\", \"email\", \"email\", \"email\", \"email\", \"emma\", \"employee\", \"employee\", \"english\", \"english\", \"essay\", \"ethnic\", \"event\", \"event\", \"event\", \"event\", \"event\", \"event\", \"event\", \"ex\", \"ex\", \"ex\", \"ex\", \"ex\", \"exam\", \"expense\", \"expense\", \"expense\", \"expensive\", \"expensive\", \"expensive\", \"expensive\", \"expensive\", \"expensive\", \"expensive\", \"family\", \"family\", \"family\", \"family\", \"family\", \"family\", \"family\", \"family\", \"father\", \"father\", \"father\", \"father\", \"feminine\", \"feminist\", \"fence\", \"fence\", \"fiance\", \"fiance\", \"fiance\", \"fiancee\", \"fiancee\", \"fianc\\u00e9\", \"fianc\\u00e9\", \"fianc\\u00e9\", \"fianc\\u00e9\", \"fianc\\u00e9\", \"fianc\\u00e9e\", \"fianc\\u00e9e\", \"finance\", \"finance\", \"finance\", \"financial\", \"financial\", \"financial\", \"financial\", \"financial\", \"flag\", \"flight\", \"floor\", \"floor\", \"floor\", \"floor\", \"floor\", \"floor\", \"food\", \"food\", \"food\", \"food\", \"food\", \"food\", \"food\", \"formula\", \"fridge\", \"fridge\", \"friend\", \"friend\", \"friend\", \"friend\", \"friend\", \"friend\", \"friend\", \"friend\", \"friendship\", \"friendship\", \"friendship\", \"friendship\", \"fry\", \"fund\", \"fund\", \"funeral\", \"game\", \"game\", \"game\", \"game\", \"game\", \"game\", \"game\", \"garage\", \"gay\", \"gay\", \"gender_reveal\", \"german\", \"gift\", \"gift\", \"gift\", \"gift\", \"gift\", \"girl\", \"girl\", \"girl\", \"girl\", \"girl\", \"girl\", \"girl\", \"girl\", \"glitter\", \"good\", \"good\", \"good\", \"good\", \"good\", \"good\", \"good\", \"good\", \"gown\", \"grace\", \"grade\", \"grade\", \"grade\", \"granddaughter\", \"granddaughter\", \"grandmother\", \"grandmother\", \"grandmother\", \"grandmother\", \"grief\", \"grief\", \"grief\", \"grief\", \"groom\", \"groomsman\", \"group\", \"group\", \"group\", \"group\", \"group\", \"group\", \"group\", \"guest\", \"guest\", \"guest\", \"guest\", \"guest\", \"guy\", \"guy\", \"guy\", \"guy\", \"guy\", \"guy\", \"guy\", \"guy\", \"h\", \"hair\", \"half\", \"half\", \"half\", \"half\", \"half\", \"half\", \"half\", \"half\", \"hallway\", \"happy\", \"happy\", \"happy\", \"happy\", \"happy\", \"happy\", \"happy\", \"happy\", \"help\", \"help\", \"help\", \"help\", \"help\", \"help\", \"help\", \"help\", \"heritage\", \"hoa\", \"home\", \"home\", \"home\", \"home\", \"home\", \"home\", \"home\", \"home\", \"homophobic\", \"hospital\", \"hospital\", \"hospital\", \"hospital\", \"hospital\", \"hospital\", \"hour\", \"hour\", \"hour\", \"hour\", \"hour\", \"hour\", \"hour\", \"hour\", \"house\", \"house\", \"house\", \"house\", \"house\", \"house\", \"house\", \"hub\", \"hub\", \"hub\", \"hungry\", \"hungry\", \"husband\", \"husband\", \"husband\", \"husband\", \"husband\", \"husband\", \"husband\", \"idea\", \"idea\", \"idea\", \"idea\", \"idea\", \"idea\", \"idea\", \"idea\", \"income\", \"income\", \"income\", \"income\", \"infant\", \"infertile\", \"infertility\", \"infertility\", \"ingredient\", \"inheritance\", \"inheritance\", \"insurance\", \"insurance\", \"insurance\", \"internship\", \"interview\", \"interview\", \"interview\", \"investment\", \"investment\", \"invitation\", \"invite\", \"invite\", \"invite\", \"invite\", \"issue\", \"issue\", \"issue\", \"issue\", \"issue\", \"issue\", \"issue\", \"issue\", \"jane\", \"jean\", \"jenny\", \"jess\", \"jewish\", \"jill\", \"job\", \"job\", \"job\", \"job\", \"job\", \"job\", \"job\", \"job\", \"joke\", \"joke\", \"joke\", \"joke\", \"joke\", \"joke\", \"joke\", \"kate\", \"kayla\", \"kid\", \"kid\", \"kid\", \"kid\", \"kid\", \"kid\", \"kid\", \"kid\", \"kitten\", \"kyle\", \"labor\", \"labor\", \"labor\", \"labor\", \"language\", \"language\", \"language\", \"language\", \"laptop\", \"laptop\", \"laptop\", \"laptop\", \"laptop\", \"lauren\", \"law\", \"law\", \"law\", \"law\", \"law\", \"law\", \"law\", \"law\", \"leah\", \"leash\", \"life\", \"life\", \"life\", \"life\", \"life\", \"life\", \"life\", \"life\", \"little\", \"little\", \"little\", \"little\", \"little\", \"little\", \"little\", \"little\", \"live\", \"live\", \"live\", \"live\", \"live\", \"live\", \"live\", \"live\", \"lizard\", \"loan\", \"local\", \"local\", \"local\", \"local\", \"local\", \"local\", \"local\", \"local\", \"lot\", \"lot\", \"lot\", \"lot\", \"lot\", \"lot\", \"lot\", \"lot\", \"love\", \"love\", \"love\", \"love\", \"love\", \"love\", \"love\", \"love\", \"lunch\", \"lunch\", \"lunch\", \"lunch\", \"lunch\", \"lunch\", \"luxury\", \"maiden\", \"makeup\", \"makeup\", \"man\", \"man\", \"man\", \"man\", \"man\", \"man\", \"man\", \"manager\", \"manager\", \"mark\", \"mark\", \"mark\", \"mark\", \"mark\", \"mark\", \"mark\", \"marriage\", \"marriage\", \"marriage\", \"marriage\", \"marriage\", \"married\", \"married\", \"married\", \"married\", \"married\", \"married\", \"materialistic\", \"meal\", \"meal\", \"meal\", \"meal\", \"meal\", \"meat\", \"meat\", \"medical\", \"medical\", \"medical\", \"medical\", \"medical\", \"medical\", \"medication\", \"medication\", \"medication\", \"medication\", \"medication\", \"meeting\", \"meeting\", \"meeting\", \"meeting\", \"meeting\", \"meeting\", \"menstrual\", \"mia\", \"mil\", \"mil\", \"minute\", \"minute\", \"minute\", \"minute\", \"minute\", \"minute\", \"minute\", \"minute\", \"miscarriage\", \"mistress\", \"mistress\", \"moh\", \"mom\", \"mom\", \"mom\", \"mom\", \"mom\", \"mom\", \"mom\", \"mom\", \"money\", \"money\", \"money\", \"money\", \"money\", \"money\", \"money\", \"month\", \"month\", \"month\", \"month\", \"month\", \"month\", \"month\", \"month\", \"morning\", \"morning\", \"morning\", \"morning\", \"morning\", \"morning\", \"morning\", \"morning\", \"mortgage\", \"mother\", \"mother\", \"mother\", \"mother\", \"mother\", \"mother\", \"mother\", \"mother\", \"mum\", \"mum\", \"mum\", \"mum\", \"mum\", \"mum\", \"name\", \"name\", \"name\", \"name\", \"name\", \"name\", \"name\", \"name\", \"necklace\", \"neighbor\", \"neighbour\", \"neighbour\", \"neighbour\", \"nephews\", \"new\", \"new\", \"new\", \"new\", \"new\", \"new\", \"new\", \"new\", \"newborn\", \"niece\", \"niece\", \"niece\", \"nieces_nephew\", \"night\", \"night\", \"night\", \"night\", \"night\", \"night\", \"night\", \"night\", \"nipple\", \"noise\", \"noise\", \"noise\", \"noise\", \"noise\", \"nurse\", \"nurse\", \"nurse\", \"nurse\", \"nurse\", \"nursery\", \"ofc\", \"office\", \"office\", \"office\", \"office\", \"office\", \"office\", \"office\", \"old\", \"old\", \"old\", \"old\", \"old\", \"old\", \"old\", \"old\", \"olivia\", \"order\", \"order\", \"order\", \"order\", \"order\", \"order\", \"order\", \"organ\", \"pad\", \"pain\", \"pain\", \"pain\", \"pain\", \"pain\", \"pain\", \"parent\", \"parent\", \"parent\", \"parent\", \"parent\", \"parent\", \"parent\", \"parent\", \"park\", \"park\", \"park\", \"park\", \"park\", \"park\", \"park\", \"park\", \"parking\", \"parking\", \"party\", \"party\", \"party\", \"party\", \"party\", \"party\", \"pasta\", \"pay\", \"pay\", \"pay\", \"pay\", \"pay\", \"pay\", \"pay\", \"pay_bill\", \"paycheck\", \"paying_rent\", \"payment\", \"payment\", \"pearl\", \"pediatrician\", \"people\", \"people\", \"people\", \"people\", \"people\", \"people\", \"people\", \"people\", \"pepper\", \"performer\", \"pet\", \"phone\", \"phone\", \"phone\", \"phone\", \"phone\", \"phone\", \"phone\", \"phone\", \"photo\", \"photo\", \"photo\", \"photo\", \"photographer\", \"piercing\", \"pink\", \"pink\", \"pizza\", \"place\", \"place\", \"place\", \"place\", \"place\", \"place\", \"place\", \"place\", \"plan\", \"plan\", \"plan\", \"plan\", \"plan\", \"plan\", \"plan\", \"plan\", \"planning\", \"planning\", \"planning\", \"planning\", \"planning\", \"planning\", \"planning\", \"planning\", \"plate\", \"plate\", \"point\", \"point\", \"point\", \"point\", \"point\", \"point\", \"point\", \"point\", \"politic\", \"politic\", \"poop\", \"porch\", \"post\", \"post\", \"post\", \"post\", \"post\", \"post\", \"post\", \"post\", \"potato\", \"pregnancy\", \"pregnant\", \"pregnant\", \"pregnant\", \"presentation\", \"previous_marriage\", \"principal\", \"prison\", \"prison\", \"problem\", \"problem\", \"problem\", \"problem\", \"problem\", \"problem\", \"problem\", \"problem\", \"procedure\", \"procedure\", \"procedure\", \"professor\", \"progressive\", \"project\", \"project\", \"project\", \"project\", \"project\", \"project\", \"project\", \"pronounce\", \"property\", \"property\", \"property\", \"proposal\", \"propose\", \"ps5\", \"puppy\", \"pursue\", \"rabbit\", \"racist\", \"racist\", \"racist\", \"racist\", \"racist\", \"reason\", \"reason\", \"reason\", \"reason\", \"reason\", \"reason\", \"reason\", \"reason\", \"reception\", \"recipe\", \"reconcile\", \"registry\", \"relationship\", \"relationship\", \"relationship\", \"relationship\", \"relationship\", \"relationship\", \"relationship\", \"religion\", \"religion\", \"religious\", \"religious\", \"religious\", \"religious\", \"religious\", \"renovation\", \"rent\", \"rent\", \"rental\", \"rental\", \"restaurant\", \"restaurant\", \"restaurant\", \"restaurant\", \"reunion\", \"reunion\", \"rice\", \"right\", \"right\", \"right\", \"right\", \"right\", \"right\", \"right\", \"right\", \"ring\", \"ring\", \"ring\", \"room\", \"room\", \"room\", \"room\", \"room\", \"room\", \"room\", \"room\", \"roommate\", \"roommate\", \"roommate\", \"roommate\", \"russian\", \"salad\", \"salary\", \"salary\", \"salary\", \"sandwich\", \"sauce\", \"saving\", \"saving\", \"scar\", \"school\", \"school\", \"school\", \"school\", \"school\", \"school\", \"school\", \"school\", \"seat\", \"seat\", \"seat\", \"seat\", \"seizure\", \"selling\", \"selling\", \"semester\", \"semester\", \"setting_boundarie\", \"settlement\", \"sex\", \"sex\", \"sex\", \"sex\", \"sex\", \"shave\", \"shaving\", \"shift\", \"shift\", \"shift\", \"shift\", \"shirt\", \"short\", \"short\", \"short\", \"short\", \"short\", \"short\", \"short\", \"short\", \"shower\", \"shower\", \"shower\", \"shower\", \"shower\", \"shower\", \"sibling\", \"sibling\", \"sil\", \"sil\", \"sil\", \"sil\", \"sis\", \"sister\", \"sister\", \"sister\", \"sister\", \"sister\", \"sister\", \"sister\", \"skin\", \"skin\", \"skin\", \"skin\", \"skin\", \"skirt\", \"sleep\", \"sleep\", \"sleep\", \"sleep\", \"sleep\", \"sleep\", \"small\", \"small\", \"small\", \"small\", \"small\", \"small\", \"small\", \"small\", \"snack\", \"snack\", \"snake\", \"son\", \"son\", \"son\", \"son\", \"son\", \"son\", \"song\", \"song\", \"soup\", \"space\", \"space\", \"space\", \"space\", \"space\", \"space\", \"space\", \"spanish\", \"spoon\", \"stair\", \"stair\", \"stair\", \"stair\", \"steak\", \"step\", \"step\", \"step\", \"step\", \"step\", \"step\", \"step\", \"step\", \"stepbrother\", \"stepdaughter\", \"stepdaughter\", \"stepkid\", \"stepmother\", \"stepsister\", \"stepsister\", \"stepson\", \"store\", \"store\", \"store\", \"store\", \"store\", \"store\", \"store\", \"stripper\", \"student\", \"study\", \"study\", \"study\", \"study\", \"stuff\", \"stuff\", \"stuff\", \"stuff\", \"stuff\", \"stuff\", \"stuff\", \"stuff\", \"substitute\", \"surgery\", \"surgery\", \"surgery\", \"surgery\", \"surgery\", \"sweater\", \"syndrome\", \"table\", \"table\", \"table\", \"table\", \"table\", \"table\", \"table\", \"talk\", \"talk\", \"talk\", \"talk\", \"talk\", \"talk\", \"talk\", \"talk\", \"tampon\", \"taxis\", \"tea\", \"tea\", \"teacher\", \"team\", \"team\", \"team\", \"test\", \"test\", \"test\", \"test\", \"test\", \"test\", \"therapy\", \"therapy\", \"therapy\", \"therapy\", \"therapy\", \"therapy\", \"tiktok\", \"tip\", \"today\", \"today\", \"today\", \"today\", \"today\", \"today\", \"today\", \"today\", \"toddler\", \"toddler\", \"toddler\", \"toddler\", \"toilet\", \"toilet\", \"toilet\", \"tomato\", \"towel\", \"towel\", \"tree\", \"tree\", \"tree\", \"tree\", \"trim\", \"trip\", \"trip\", \"trip\", \"trip\", \"trip\", \"trip\", \"trip\", \"trip\", \"triplet\", \"tyler\", \"ultrasound\", \"unappreciated\", \"uncomfortable\", \"uncomfortable\", \"uncomfortable\", \"uncomfortable\", \"uncomfortable\", \"uncomfortable\", \"uncomfortable\", \"uncomfortable\", \"university\", \"university\", \"university\", \"university\", \"upbringing\", \"upset\", \"upset\", \"upset\", \"upset\", \"upset\", \"upset\", \"upset\", \"upset\", \"use\", \"use\", \"use\", \"use\", \"use\", \"use\", \"use\", \"use\", \"vacation\", \"vacation\", \"vacation\", \"vacation\", \"vacation\", \"vacation\", \"vacation\", \"vegan\", \"vegan\", \"vegetable\", \"venue\", \"vet\", \"villain\", \"virtual\", \"volunteer\", \"volunteer\", \"waitress\", \"water\", \"water\", \"water\", \"water\", \"water\", \"way\", \"way\", \"way\", \"way\", \"way\", \"way\", \"way\", \"way\", \"wear\", \"wear\", \"wedding\", \"wedding\", \"week\", \"week\", \"week\", \"week\", \"week\", \"week\", \"week\", \"week\", \"weekend\", \"weekend\", \"weekend\", \"weekend\", \"weekend\", \"weekend\", \"weekend\", \"weekend\", \"weight\", \"weight\", \"weight\", \"weight\", \"weight\", \"weight\", \"weight\", \"weird\", \"weird\", \"weird\", \"weird\", \"weird\", \"weird\", \"weird\", \"weird\", \"white\", \"white\", \"white\", \"white\", \"wife\", \"wife\", \"wife\", \"wife\", \"wife\", \"wife\", \"wife\", \"wifi\", \"window\", \"window\", \"window\", \"wipe\", \"wipe\", \"woman\", \"woman\", \"woman\", \"woman\", \"woman\", \"woman\", \"woman\", \"woman\", \"work\", \"work\", \"work\", \"work\", \"work\", \"work\", \"work\", \"work\", \"wrong\", \"wrong\", \"wrong\", \"wrong\", \"wrong\", \"wrong\", \"wrong\", \"wrong\", \"yard\", \"young\", \"young\", \"young\", \"young\", \"young\", \"young\", \"young\", \"young\"]}, \"R\": 30, \"lambda.step\": 0.01, \"plot.opts\": {\"xlab\": \"PC1\", \"ylab\": \"PC2\"}, \"topic.order\": [3, 7, 6, 8, 2, 1, 5, 4]};\n",
       "\n",
       "function LDAvis_load_lib(url, callback){\n",
       "  var s = document.createElement('script');\n",
       "  s.src = url;\n",
       "  s.async = true;\n",
       "  s.onreadystatechange = s.onload = callback;\n",
       "  s.onerror = function(){console.warn(\"failed to load library \" + url);};\n",
       "  document.getElementsByTagName(\"head\")[0].appendChild(s);\n",
       "}\n",
       "\n",
       "if(typeof(LDAvis) !== \"undefined\"){\n",
       "   // already loaded: just create the visualization\n",
       "   !function(LDAvis){\n",
       "       new LDAvis(\"#\" + \"ldavis_el24566142456256649174307983\", ldavis_el24566142456256649174307983_data);\n",
       "   }(LDAvis);\n",
       "}else if(typeof define === \"function\" && define.amd){\n",
       "   // require.js is available: use it to load d3/LDAvis\n",
       "   require.config({paths: {d3: \"https://d3js.org/d3.v5\"}});\n",
       "   require([\"d3\"], function(d3){\n",
       "      window.d3 = d3;\n",
       "      LDAvis_load_lib(\"https://cdn.jsdelivr.net/gh/bmabey/pyLDAvis@3.4.0/pyLDAvis/js/ldavis.v3.0.0.js\", function(){\n",
       "        new LDAvis(\"#\" + \"ldavis_el24566142456256649174307983\", ldavis_el24566142456256649174307983_data);\n",
       "      });\n",
       "    });\n",
       "}else{\n",
       "    // require.js not available: dynamically load d3 & LDAvis\n",
       "    LDAvis_load_lib(\"https://d3js.org/d3.v5.js\", function(){\n",
       "         LDAvis_load_lib(\"https://cdn.jsdelivr.net/gh/bmabey/pyLDAvis@3.4.0/pyLDAvis/js/ldavis.v3.0.0.js\", function(){\n",
       "                 new LDAvis(\"#\" + \"ldavis_el24566142456256649174307983\", ldavis_el24566142456256649174307983_data);\n",
       "            })\n",
       "         });\n",
       "}\n",
       "</script>"
      ],
      "text/plain": [
       "PreparedData(topic_coordinates=              x         y  topics  cluster       Freq\n",
       "topic                                                \n",
       "2      0.032301 -0.159021       1        1  20.847555\n",
       "6     -0.020441  0.101675       2        1  19.401479\n",
       "5     -0.062505 -0.104056       3        1  16.620760\n",
       "7      0.105025  0.035773       4        1  11.353856\n",
       "1      0.088748  0.005259       5        1   9.771749\n",
       "0     -0.227741  0.138601       6        1   8.294377\n",
       "4     -0.075965 -0.130969       7        1   7.393400\n",
       "3      0.160579  0.112737       8        1   6.316824, topic_info=           Term          Freq         Total Category  logprob  loglift\n",
       "533     husband   8911.000000   8911.000000  Default  30.0000  30.0000\n",
       "479        baby   5813.000000   5813.000000  Default  29.0000  29.0000\n",
       "153        wife  12067.000000  12067.000000  Default  28.0000  28.0000\n",
       "24     daughter   9486.000000   9486.000000  Default  27.0000  27.0000\n",
       "1144    wedding   5624.000000   5624.000000  Default  26.0000  26.0000\n",
       "...         ...           ...           ...      ...      ...      ...\n",
       "647   different    389.322792   2825.535836   Topic8  -5.3048   0.7799\n",
       "567         new    415.300284   4489.711703   Topic8  -5.2402   0.3814\n",
       "247         bad    355.625250   5698.458239   Topic8  -5.3953  -0.0121\n",
       "103         way    349.335310   6211.555361   Topic8  -5.4132  -0.1162\n",
       "126        hour    314.662671   4254.215540   Topic8  -5.5177   0.1578\n",
       "\n",
       "[614 rows x 6 columns], token_table=      Topic      Freq   Term\n",
       "term                        \n",
       "2195      3  0.993012    10k\n",
       "5560      3  0.983141    15f\n",
       "6565      1  0.976229    39f\n",
       "4684      1  0.985000    45f\n",
       "602       1  0.145759   able\n",
       "...     ...       ...    ...\n",
       "155       4  0.048892  young\n",
       "155       5  0.013969  young\n",
       "155       6  0.009925  young\n",
       "155       7  0.028673  young\n",
       "155       8  0.024262  young\n",
       "\n",
       "[1676 rows x 3 columns], R=30, lambda_step=0.01, plot_opts={'xlab': 'PC1', 'ylab': 'PC2'}, topic_order=[3, 7, 6, 8, 2, 1, 5, 4])"
      ]
     },
     "execution_count": 49,
     "metadata": {},
     "output_type": "execute_result"
    }
   ],
   "source": [
    "import pyLDAvis\n",
    "import pyLDAvis.gensim_models as gensimvis\n",
    "pyLDAvis.enable_notebook()\n",
    "\n",
    "# feed the LDA model into the pyLDAvis instance\n",
    "lda_viz = gensimvis.prepare(optimal_lda_model, pos_corpus, pos_dictionary)\n",
    "lda_viz"
   ]
  },
  {
   "cell_type": "markdown",
   "metadata": {},
   "source": [
    "In case you want to load these models from disk again:"
   ]
  },
  {
   "cell_type": "code",
   "execution_count": 46,
   "metadata": {},
   "outputs": [
    {
     "name": "stderr",
     "output_type": "stream",
     "text": [
      "100%|██████████████████████████████████| 16309/16309 [00:00<00:00, 31914.84it/s]\n"
     ]
    }
   ],
   "source": [
    "# LOAD MODEL\n",
    "optimal_lda_model = LdaModel.load('../../data/aita_pos_lda_optimal.model')\n",
    "\n",
    "# LOAD DICT\n",
    "pos_dictionary = corpora.Dictionary.load('../../data/aita_pos_lda.dict')\n",
    "\n",
    "# LOAD CORPUS\n",
    "pos_corpus = [pos_dictionary.doc2bow(text) for text in tqdm(pos_lemmas_split)]"
   ]
  },
  {
   "cell_type": "markdown",
   "metadata": {},
   "source": [
    "## Naming our topics\n",
    "\n",
    "The next thing we should do is name our topics. This is the most important interpretative step in the process: after all, our model has no semantic knowledge of the data. We will print out the top words of each topic, then go over all of them and give them names."
   ]
  },
  {
   "cell_type": "code",
   "execution_count": 50,
   "metadata": {
    "colab": {
     "base_uri": "https://localhost:8080/"
    },
    "executionInfo": {
     "elapsed": 325,
     "status": "ok",
     "timestamp": 1639940904382,
     "user": {
      "displayName": "Tom van Nuenen",
      "photoUrl": "https://lh3.googleusercontent.com/a-/AOh14GhuBmxDvW5I_LJfZtwlPqMFD8QGLVPP3skvpkTnuQ=s64",
      "userId": "10012302451096885058"
     },
     "user_tz": -60
    },
    "id": "h3IDZcmfZW1A",
    "outputId": "9eff0a15-579a-4d68-afb7-e29d7f3d6bb8"
   },
   "outputs": [
    {
     "name": "stdout",
     "output_type": "stream",
     "text": [
      "[(0,\n",
      "  '0.034*\"dog\" + 0.027*\"room\" + 0.019*\"home\" + 0.019*\"cat\" + 0.018*\"house\" + '\n",
      "  '0.013*\"bathroom\" + 0.013*\"door\" + 0.012*\"bed\" + 0.010*\"car\" + '\n",
      "  '0.010*\"neighbor\" + 0.010*\"apartment\" + 0.009*\"bedroom\" + 0.008*\"clean\" + '\n",
      "  '0.008*\"roommate\" + 0.006*\"work\" + 0.006*\"issue\" + 0.006*\"use\" + '\n",
      "  '0.005*\"place\" + 0.005*\"hour\" + 0.005*\"sleep\"'),\n",
      " (1,\n",
      "  '0.061*\"friend\" + 0.046*\"wedding\" + 0.015*\"birthday\" + 0.015*\"party\" + '\n",
      "  '0.015*\"dress\" + 0.014*\"people\" + 0.013*\"family\" + 0.011*\"boyfriend\" + '\n",
      "  '0.009*\"date\" + 0.008*\"sister\" + 0.007*\"trip\" + 0.007*\"night\" + 0.007*\"good\" '\n",
      "  '+ 0.007*\"bf\" + 0.006*\"close\" + 0.006*\"group\" + 0.006*\"plan\" + '\n",
      "  '0.006*\"couple\" + 0.006*\"fiance\" + 0.006*\"event\"'),\n",
      " (2,\n",
      "  '0.043*\"wife\" + 0.036*\"daughter\" + 0.031*\"family\" + 0.026*\"son\" + '\n",
      "  '0.020*\"brother\" + 0.018*\"mother\" + 0.016*\"mom\" + 0.015*\"child\" + '\n",
      "  '0.014*\"kid\" + 0.014*\"life\" + 0.013*\"parent\" + 0.011*\"dad\" + '\n",
      "  '0.010*\"relationship\" + 0.008*\"good\" + 0.008*\"old\" + 0.007*\"lot\" + '\n",
      "  '0.007*\"father\" + 0.006*\"young\" + 0.006*\"way\" + 0.006*\"husband\"'),\n",
      " (3,\n",
      "  '0.042*\"school\" + 0.021*\"class\" + 0.018*\"teacher\" + 0.013*\"student\" + '\n",
      "  '0.012*\"people\" + 0.011*\"work\" + 0.010*\"friend\" + 0.009*\"job\" + '\n",
      "  '0.008*\"grade\" + 0.008*\"college\" + 0.007*\"lot\" + 0.007*\"email\" + '\n",
      "  '0.007*\"office\" + 0.007*\"week\" + 0.007*\"good\" + 0.006*\"team\" + '\n",
      "  '0.006*\"company\" + 0.006*\"book\" + 0.006*\"weight\" + 0.005*\"test\"'),\n",
      " (4,\n",
      "  '0.069*\"husband\" + 0.063*\"baby\" + 0.031*\"child\" + 0.021*\"pregnant\" + '\n",
      "  '0.018*\"mil\" + 0.016*\"kid\" + 0.013*\"week\" + 0.012*\"month\" + 0.010*\"sil\" + '\n",
      "  '0.010*\"sleep\" + 0.010*\"doctor\" + 0.009*\"work\" + 0.009*\"pregnancy\" + '\n",
      "  '0.008*\"hour\" + 0.007*\"home\" + 0.007*\"help\" + 0.007*\"hospital\" + '\n",
      "  '0.007*\"care\" + 0.006*\"night\" + 0.006*\"bad\"'),\n",
      " (5,\n",
      "  '0.039*\"sister\" + 0.036*\"money\" + 0.035*\"parent\" + 0.034*\"kid\" + 0.032*\"mom\" '\n",
      "  '+ 0.019*\"dad\" + 0.016*\"family\" + 0.016*\"job\" + 0.013*\"month\" + '\n",
      "  '0.011*\"brother\" + 0.011*\"home\" + 0.011*\"house\" + 0.010*\"pay\" + 0.010*\"work\" '\n",
      "  '+ 0.009*\"car\" + 0.009*\"week\" + 0.007*\"help\" + 0.006*\"old\" + 0.006*\"rent\" + '\n",
      "  '0.006*\"college\"'),\n",
      " (6,\n",
      "  '0.020*\"food\" + 0.018*\"work\" + 0.012*\"dinner\" + 0.011*\"people\" + '\n",
      "  '0.010*\"night\" + 0.010*\"home\" + 0.009*\"friend\" + 0.009*\"phone\" + 0.007*\"way\" '\n",
      "  '+ 0.006*\"guy\" + 0.006*\"meal\" + 0.006*\"week\" + 0.006*\"good\" + 0.006*\"hour\" + '\n",
      "  '0.006*\"bad\" + 0.006*\"job\" + 0.005*\"asshole\" + 0.005*\"lot\" + 0.005*\"minute\" '\n",
      "  '+ 0.005*\"point\"'),\n",
      " (7,\n",
      "  '0.015*\"people\" + 0.015*\"hair\" + 0.014*\"girl\" + 0.012*\"gift\" + 0.012*\"woman\" '\n",
      "  '+ 0.009*\"comment\" + 0.008*\"friend\" + 0.008*\"ring\" + 0.008*\"lot\" + '\n",
      "  '0.007*\"man\" + 0.007*\"little\" + 0.007*\"guy\" + 0.006*\"way\" + 0.006*\"clothe\" + '\n",
      "  '0.006*\"joke\" + 0.006*\"good\" + 0.005*\"wrong\" + 0.005*\"uncomfortable\" + '\n",
      "  '0.005*\"bad\" + 0.005*\"asshole\"')]\n"
     ]
    }
   ],
   "source": [
    "from pprint import pprint\n",
    "\n",
    "# Select the ideal model and print the topics\n",
    "model_topics = optimal_lda_model.show_topics(formatted=False)\n",
    "pprint(optimal_lda_model.print_topics(num_words=20))"
   ]
  },
  {
   "cell_type": "markdown",
   "metadata": {},
   "source": [
    "**Important**: If you are using your own data, make sure to replace the following names with those of your own!"
   ]
  },
  {
   "cell_type": "code",
   "execution_count": 62,
   "metadata": {
    "id": "VWep2BUPAc97"
   },
   "outputs": [],
   "source": [
    "# giving names to our topics\n",
    "topic_names = {0: 'home, everyday life', \n",
    "               1: 'celebration, dating',\n",
    "               2: 'family',\n",
    "               3: 'school, work',\n",
    "               4: 'having kids',\n",
    "               5: 'expenses',\n",
    "               6: 'dating',\n",
    "               7: 'appropriateness'\n",
    "              }"
   ]
  },
  {
   "cell_type": "markdown",
   "metadata": {},
   "source": [
    "Naming topics is a heavily iterative process, based on looking closer at particular posts (see below).\n",
    "\n",
    "For instance, I had initially named topic 2 \"weddings\", but after reading some posts with this dominant topic, I renamed it to \"celebration, dating\"."
   ]
  },
  {
   "cell_type": "markdown",
   "metadata": {
    "id": "9fK6uo1EZW1M"
   },
   "source": [
    "<a id='use'></a>\n",
    "\n",
    "# Using Topic Models\n",
    "\n",
    "Topic modeling has several practical applications. One of them is to determine what topic a Reddit post is about. To figure this out, we find the topic number that has the highest percentage contribution to that thread. We'll write a `dominant_topic()` function that aggregates this information in a DataFrame."
   ]
  },
  {
   "cell_type": "code",
   "execution_count": 63,
   "metadata": {
    "colab": {
     "base_uri": "https://localhost:8080/",
     "height": 467
    },
    "executionInfo": {
     "elapsed": 118204,
     "status": "ok",
     "timestamp": 1639923042784,
     "user": {
      "displayName": "Tom van Nuenen",
      "photoUrl": "https://lh3.googleusercontent.com/a-/AOh14GhuBmxDvW5I_LJfZtwlPqMFD8QGLVPP3skvpkTnuQ=s64",
      "userId": "10012302451096885058"
     },
     "user_tz": -60
    },
    "id": "iz_TBN_dZW1Q",
    "outputId": "49fef3dd-409f-444e-dc75-fd443d24ca0f",
    "scrolled": true
   },
   "outputs": [
    {
     "data": {
      "text/html": [
       "<div>\n",
       "<style scoped>\n",
       "    .dataframe tbody tr th:only-of-type {\n",
       "        vertical-align: middle;\n",
       "    }\n",
       "\n",
       "    .dataframe tbody tr th {\n",
       "        vertical-align: top;\n",
       "    }\n",
       "\n",
       "    .dataframe thead th {\n",
       "        text-align: right;\n",
       "    }\n",
       "</style>\n",
       "<table border=\"1\" class=\"dataframe\">\n",
       "  <thead>\n",
       "    <tr style=\"text-align: right;\">\n",
       "      <th></th>\n",
       "      <th>Dominant_Topic</th>\n",
       "      <th>Dominant_Topic_Name</th>\n",
       "      <th>Topic_Perc_Contrib</th>\n",
       "      <th>Keywords</th>\n",
       "      <th>Text</th>\n",
       "    </tr>\n",
       "  </thead>\n",
       "  <tbody>\n",
       "    <tr>\n",
       "      <th>0</th>\n",
       "      <td>7</td>\n",
       "      <td>appropriateness</td>\n",
       "      <td>0.4003</td>\n",
       "      <td>people, hair, girl, gift, woman, comment, frie...</td>\n",
       "      <td>My girlfriend recently went to the beach with ...</td>\n",
       "    </tr>\n",
       "    <tr>\n",
       "      <th>1</th>\n",
       "      <td>2</td>\n",
       "      <td>family</td>\n",
       "      <td>0.3616</td>\n",
       "      <td>wife, daughter, family, son, brother, mother, ...</td>\n",
       "      <td>My parents smoke like chimneys. I used to as w...</td>\n",
       "    </tr>\n",
       "    <tr>\n",
       "      <th>2</th>\n",
       "      <td>7</td>\n",
       "      <td>appropriateness</td>\n",
       "      <td>0.5073</td>\n",
       "      <td>people, hair, girl, gift, woman, comment, frie...</td>\n",
       "      <td>Hi guys. Throwaway for obv reasons.\\n\\nI'm a f...</td>\n",
       "    </tr>\n",
       "    <tr>\n",
       "      <th>3</th>\n",
       "      <td>6</td>\n",
       "      <td>dating</td>\n",
       "      <td>0.9108</td>\n",
       "      <td>food, work, dinner, people, night, home, frien...</td>\n",
       "      <td>Yesterday night, me and my GF decided to go ou...</td>\n",
       "    </tr>\n",
       "    <tr>\n",
       "      <th>4</th>\n",
       "      <td>6</td>\n",
       "      <td>dating</td>\n",
       "      <td>0.3751</td>\n",
       "      <td>food, work, dinner, people, night, home, frien...</td>\n",
       "      <td>My wife and I are vegetarians, much to my in-l...</td>\n",
       "    </tr>\n",
       "    <tr>\n",
       "      <th>...</th>\n",
       "      <td>...</td>\n",
       "      <td>...</td>\n",
       "      <td>...</td>\n",
       "      <td>...</td>\n",
       "      <td>...</td>\n",
       "    </tr>\n",
       "    <tr>\n",
       "      <th>16304</th>\n",
       "      <td>5</td>\n",
       "      <td>finance</td>\n",
       "      <td>0.8962</td>\n",
       "      <td>sister, money, parent, kid, mom, dad, family, ...</td>\n",
       "      <td>My (29m) good friend (26f) is currently house ...</td>\n",
       "    </tr>\n",
       "    <tr>\n",
       "      <th>16305</th>\n",
       "      <td>1</td>\n",
       "      <td>celebration, dating</td>\n",
       "      <td>0.6128</td>\n",
       "      <td>friend, wedding, birthday, party, dress, peopl...</td>\n",
       "      <td>So I have a Degree in Fashion which some peopl...</td>\n",
       "    </tr>\n",
       "    <tr>\n",
       "      <th>16306</th>\n",
       "      <td>2</td>\n",
       "      <td>family</td>\n",
       "      <td>0.3987</td>\n",
       "      <td>wife, daughter, family, son, brother, mother, ...</td>\n",
       "      <td>My husband and I have been friends since middl...</td>\n",
       "    </tr>\n",
       "    <tr>\n",
       "      <th>16307</th>\n",
       "      <td>4</td>\n",
       "      <td>having kids</td>\n",
       "      <td>0.2990</td>\n",
       "      <td>husband, baby, child, pregnant, mil, kid, week...</td>\n",
       "      <td>I (30F) and my husband (30M) recently moved in...</td>\n",
       "    </tr>\n",
       "    <tr>\n",
       "      <th>16308</th>\n",
       "      <td>1</td>\n",
       "      <td>celebration, dating</td>\n",
       "      <td>0.9386</td>\n",
       "      <td>friend, wedding, birthday, party, dress, peopl...</td>\n",
       "      <td>I'm getting married in 7 months and one week a...</td>\n",
       "    </tr>\n",
       "  </tbody>\n",
       "</table>\n",
       "<p>16309 rows × 5 columns</p>\n",
       "</div>"
      ],
      "text/plain": [
       "       Dominant_Topic  Dominant_Topic_Name  Topic_Perc_Contrib  \\\n",
       "0                   7      appropriateness              0.4003   \n",
       "1                   2               family              0.3616   \n",
       "2                   7      appropriateness              0.5073   \n",
       "3                   6               dating              0.9108   \n",
       "4                   6               dating              0.3751   \n",
       "...               ...                  ...                 ...   \n",
       "16304               5              finance              0.8962   \n",
       "16305               1  celebration, dating              0.6128   \n",
       "16306               2               family              0.3987   \n",
       "16307               4          having kids              0.2990   \n",
       "16308               1  celebration, dating              0.9386   \n",
       "\n",
       "                                                Keywords  \\\n",
       "0      people, hair, girl, gift, woman, comment, frie...   \n",
       "1      wife, daughter, family, son, brother, mother, ...   \n",
       "2      people, hair, girl, gift, woman, comment, frie...   \n",
       "3      food, work, dinner, people, night, home, frien...   \n",
       "4      food, work, dinner, people, night, home, frien...   \n",
       "...                                                  ...   \n",
       "16304  sister, money, parent, kid, mom, dad, family, ...   \n",
       "16305  friend, wedding, birthday, party, dress, peopl...   \n",
       "16306  wife, daughter, family, son, brother, mother, ...   \n",
       "16307  husband, baby, child, pregnant, mil, kid, week...   \n",
       "16308  friend, wedding, birthday, party, dress, peopl...   \n",
       "\n",
       "                                                    Text  \n",
       "0      My girlfriend recently went to the beach with ...  \n",
       "1      My parents smoke like chimneys. I used to as w...  \n",
       "2      Hi guys. Throwaway for obv reasons.\\n\\nI'm a f...  \n",
       "3      Yesterday night, me and my GF decided to go ou...  \n",
       "4      My wife and I are vegetarians, much to my in-l...  \n",
       "...                                                  ...  \n",
       "16304  My (29m) good friend (26f) is currently house ...  \n",
       "16305  So I have a Degree in Fashion which some peopl...  \n",
       "16306  My husband and I have been friends since middl...  \n",
       "16307  I (30F) and my husband (30M) recently moved in...  \n",
       "16308  I'm getting married in 7 months and one week a...  \n",
       "\n",
       "[16309 rows x 5 columns]"
      ]
     },
     "execution_count": 63,
     "metadata": {},
     "output_type": "execute_result"
    }
   ],
   "source": [
    "def dominant_topic(ldamodel=optimal_lda_model, corpus=corpus, texts=df['selftext']):\n",
    "    # Create DF\n",
    "    topics_df = pd.DataFrame()\n",
    "\n",
    "    # Get main topic in each document\n",
    "    for i, row in enumerate(ldamodel[corpus]):\n",
    "        row = sorted(row, key=lambda x: (x[1]), reverse=True)\n",
    "        # Get the Dominant topic, Perc Contribution and Keywords for each thread\n",
    "        for j, (topic_num, prop_topic) in enumerate(row):\n",
    "            if j == 0:  # => dominant topic\n",
    "                wp = ldamodel.show_topic(topic_num)\n",
    "                # get value of topic_names dict based on key\n",
    "                topic_name = topic_names[topic_num]\n",
    "                topic_keywords = \", \".join([word for word, prop in wp])\n",
    "                new_row = pd.DataFrame([[int(topic_num), topic_name, round(prop_topic,4), topic_keywords]])\n",
    "                topics_df = pd.concat([topics_df, new_row], ignore_index=True)\n",
    "\n",
    "            else:\n",
    "                break\n",
    "    topics_df.columns = ['Dominant_Topic', 'Dominant_Topic_Name', 'Perc_Contribution', 'Topic_Keywords']\n",
    "\n",
    "    # Add original text to the end of the output\n",
    "    contents = pd.Series(texts)\n",
    "    topics_df = pd.concat([topics_df, contents], axis=1)\n",
    "    return topics_df \n",
    "\n",
    "# Run function\n",
    "df_topic_keywords = dominant_topic(ldamodel=optimal_lda_model, corpus=pos_corpus, texts=df['selftext'])\n",
    "\n",
    "# Format\n",
    "df_dominant_topic = df_topic_keywords.reset_index(drop=True)\n",
    "df_dominant_topic.columns = ['Dominant_Topic', 'Dominant_Topic_Name', 'Topic_Perc_Contrib', 'Keywords', 'Text']\n",
    "\n",
    "# Show\n",
    "df_dominant_topic"
   ]
  },
  {
   "cell_type": "markdown",
   "metadata": {
    "id": "v_OLtA9Wtq2F"
   },
   "source": [
    "We can now find the posts with a dominant topic using `.loc`"
   ]
  },
  {
   "cell_type": "code",
   "execution_count": 67,
   "metadata": {
    "colab": {
     "base_uri": "https://localhost:8080/",
     "height": 467
    },
    "executionInfo": {
     "elapsed": 9,
     "status": "ok",
     "timestamp": 1639923059054,
     "user": {
      "displayName": "Tom van Nuenen",
      "photoUrl": "https://lh3.googleusercontent.com/a-/AOh14GhuBmxDvW5I_LJfZtwlPqMFD8QGLVPP3skvpkTnuQ=s64",
      "userId": "10012302451096885058"
     },
     "user_tz": -60
    },
    "id": "bQBSqG5QtSud",
    "outputId": "ed2a055a-ca20-4e9d-9717-7a13000ab208"
   },
   "outputs": [
    {
     "data": {
      "text/plain": [
       "6        He has no money until he’s paid at the end of ...\n",
       "46       About 6 months ago my trusty 2001 Corolla was ...\n",
       "74       This past Halloween my family was going to go ...\n",
       "86       My boyfriend and I exchanged presents early be...\n",
       "92       I live with my best friend (let’s call her Ste...\n",
       "                               ...                        \n",
       "16291    This happened before campus closed but we usua...\n",
       "16293    For context, my (19) bf (20) makes about 2000$...\n",
       "16299    I (24M) am dating a woman (26F) who we'll refe...\n",
       "16301    So I, 23F, haven’t spoken to my mom, 45F, sinc...\n",
       "16304    My (29m) good friend (26f) is currently house ...\n",
       "Name: Text, Length: 2651, dtype: object"
      ]
     },
     "execution_count": 67,
     "metadata": {},
     "output_type": "execute_result"
    }
   ],
   "source": [
    "df_dominant_topic.loc[df_dominant_topic['Dominant_Topic_Name'] == 'expenses']['Text']"
   ]
  },
  {
   "cell_type": "markdown",
   "metadata": {},
   "source": [
    "Look at the first post:"
   ]
  },
  {
   "cell_type": "code",
   "execution_count": 68,
   "metadata": {},
   "outputs": [
    {
     "data": {
      "text/plain": [
       "'He has no money until he’s paid at the end of the month and he told me I wouldn’t get a present until then and I’m completely fine with that but I didn’t even receive a card. I don’t expect expensive gifts but I’d of liked a card. Even when I’ve got no money I either borrow it until I get paid or I at least get him a card and explain I’ll get him something when I’m paid. I thought he’d do the same. But no. Today I woke up with nothing at all. I didn’t say anything and acted like I’m fine and he’s currently at work but still. We’re trying to save money because We’re expecting our first kid in a few months but I just feel like he doesn’t care at all. Even last year he waited till the night before to go get something and only because I said it was my 18th and I felt like nobody cared since no one mentioned it or took notice when it came up in conversation.\\n\\nI haven’t spoken to him since he left this morning, even ignoring his texts and calls. Am I the asshole in this situation?? '"
      ]
     },
     "execution_count": 68,
     "metadata": {},
     "output_type": "execute_result"
    }
   ],
   "source": [
    "df_dominant_topic.loc[df_dominant_topic['Dominant_Topic_Name'] == 'expenses']['Text'][6]"
   ]
  },
  {
   "cell_type": "markdown",
   "metadata": {},
   "source": [
    "That does look to be about expenses."
   ]
  },
  {
   "cell_type": "markdown",
   "metadata": {},
   "source": [
    "## Adding topics to original DF\n",
    "\n",
    "Once we are happy with your topic names, we can add the dominant topic names to our original DataFrame and save it."
   ]
  },
  {
   "cell_type": "code",
   "execution_count": 69,
   "metadata": {},
   "outputs": [],
   "source": [
    "df['dom_topic'] = df_dominant_topic['Dominant_Topic_Name']\n",
    "df['dom_topic_num'] = df_dominant_topic['Dominant_Topic']\n",
    "\n",
    "df.to_csv('../../data/aita_lda.csv', index=False)"
   ]
  },
  {
   "cell_type": "code",
   "execution_count": 70,
   "metadata": {},
   "outputs": [
    {
     "data": {
      "text/html": [
       "<div>\n",
       "<style scoped>\n",
       "    .dataframe tbody tr th:only-of-type {\n",
       "        vertical-align: middle;\n",
       "    }\n",
       "\n",
       "    .dataframe tbody tr th {\n",
       "        vertical-align: top;\n",
       "    }\n",
       "\n",
       "    .dataframe thead th {\n",
       "        text-align: right;\n",
       "    }\n",
       "</style>\n",
       "<table border=\"1\" class=\"dataframe\">\n",
       "  <thead>\n",
       "    <tr style=\"text-align: right;\">\n",
       "      <th></th>\n",
       "      <th>idint</th>\n",
       "      <th>idstr</th>\n",
       "      <th>created</th>\n",
       "      <th>self</th>\n",
       "      <th>nsfw</th>\n",
       "      <th>author</th>\n",
       "      <th>title</th>\n",
       "      <th>url</th>\n",
       "      <th>selftext</th>\n",
       "      <th>score</th>\n",
       "      <th>...</th>\n",
       "      <th>distinguish</th>\n",
       "      <th>textlen</th>\n",
       "      <th>num_comments</th>\n",
       "      <th>flair_text</th>\n",
       "      <th>flair_css_class</th>\n",
       "      <th>augmented_at</th>\n",
       "      <th>augmented_count</th>\n",
       "      <th>pp_text</th>\n",
       "      <th>dom_topic</th>\n",
       "      <th>dom_topic_num</th>\n",
       "    </tr>\n",
       "  </thead>\n",
       "  <tbody>\n",
       "    <tr>\n",
       "      <th>0</th>\n",
       "      <td>427576402</td>\n",
       "      <td>t3_72kg2a</td>\n",
       "      <td>1506433689</td>\n",
       "      <td>1.0</td>\n",
       "      <td>0.0</td>\n",
       "      <td>Ritsku</td>\n",
       "      <td>AITA for breaking up with my girlfriend becaus...</td>\n",
       "      <td>NaN</td>\n",
       "      <td>My girlfriend recently went to the beach with ...</td>\n",
       "      <td>679.0</td>\n",
       "      <td>...</td>\n",
       "      <td>NaN</td>\n",
       "      <td>4917.0</td>\n",
       "      <td>434.0</td>\n",
       "      <td>no a--holes here</td>\n",
       "      <td>NaN</td>\n",
       "      <td>NaN</td>\n",
       "      <td>NaN</td>\n",
       "      <td>girlfriend recently went beach friends tiny bi...</td>\n",
       "      <td>appropriateness</td>\n",
       "      <td>7</td>\n",
       "    </tr>\n",
       "    <tr>\n",
       "      <th>1</th>\n",
       "      <td>551887974</td>\n",
       "      <td>t3_94kvhi</td>\n",
       "      <td>1533404095</td>\n",
       "      <td>1.0</td>\n",
       "      <td>0.0</td>\n",
       "      <td>hhhhhhffff678</td>\n",
       "      <td>AITA for banning smoking in my house and telli...</td>\n",
       "      <td>NaN</td>\n",
       "      <td>My parents smoke like chimneys. I used to as w...</td>\n",
       "      <td>832.0</td>\n",
       "      <td>...</td>\n",
       "      <td>NaN</td>\n",
       "      <td>2076.0</td>\n",
       "      <td>357.0</td>\n",
       "      <td>asshole</td>\n",
       "      <td>ass</td>\n",
       "      <td>NaN</td>\n",
       "      <td>NaN</td>\n",
       "      <td>parents smoke like chimneys quit wife got youn...</td>\n",
       "      <td>family</td>\n",
       "      <td>2</td>\n",
       "    </tr>\n",
       "    <tr>\n",
       "      <th>2</th>\n",
       "      <td>552654542</td>\n",
       "      <td>t3_951az2</td>\n",
       "      <td>1533562299</td>\n",
       "      <td>1.0</td>\n",
       "      <td>0.0</td>\n",
       "      <td>creepatthepool</td>\n",
       "      <td>AITA? Creep wears skimpy bathing suit to pool</td>\n",
       "      <td>NaN</td>\n",
       "      <td>Hi guys. Throwaway for obv reasons.\\n\\nI'm a f...</td>\n",
       "      <td>23.0</td>\n",
       "      <td>...</td>\n",
       "      <td>NaN</td>\n",
       "      <td>1741.0</td>\n",
       "      <td>335.0</td>\n",
       "      <td>Shitpost</td>\n",
       "      <td>NaN</td>\n",
       "      <td>NaN</td>\n",
       "      <td>NaN</td>\n",
       "      <td>hi guys throwaway obv reasons i'm female child...</td>\n",
       "      <td>appropriateness</td>\n",
       "      <td>7</td>\n",
       "    </tr>\n",
       "  </tbody>\n",
       "</table>\n",
       "<p>3 rows × 21 columns</p>\n",
       "</div>"
      ],
      "text/plain": [
       "       idint      idstr     created  self  nsfw          author  \\\n",
       "0  427576402  t3_72kg2a  1506433689   1.0   0.0          Ritsku   \n",
       "1  551887974  t3_94kvhi  1533404095   1.0   0.0   hhhhhhffff678   \n",
       "2  552654542  t3_951az2  1533562299   1.0   0.0  creepatthepool   \n",
       "\n",
       "                                               title  url  \\\n",
       "0  AITA for breaking up with my girlfriend becaus...  NaN   \n",
       "1  AITA for banning smoking in my house and telli...  NaN   \n",
       "2      AITA? Creep wears skimpy bathing suit to pool  NaN   \n",
       "\n",
       "                                            selftext  score  ... distinguish  \\\n",
       "0  My girlfriend recently went to the beach with ...  679.0  ...         NaN   \n",
       "1  My parents smoke like chimneys. I used to as w...  832.0  ...         NaN   \n",
       "2  Hi guys. Throwaway for obv reasons.\\n\\nI'm a f...   23.0  ...         NaN   \n",
       "\n",
       "  textlen  num_comments        flair_text flair_css_class augmented_at  \\\n",
       "0  4917.0         434.0  no a--holes here             NaN          NaN   \n",
       "1  2076.0         357.0           asshole             ass          NaN   \n",
       "2  1741.0         335.0          Shitpost             NaN          NaN   \n",
       "\n",
       "   augmented_count                                            pp_text  \\\n",
       "0              NaN  girlfriend recently went beach friends tiny bi...   \n",
       "1              NaN  parents smoke like chimneys quit wife got youn...   \n",
       "2              NaN  hi guys throwaway obv reasons i'm female child...   \n",
       "\n",
       "         dom_topic dom_topic_num  \n",
       "0  appropriateness             7  \n",
       "1           family             2  \n",
       "2  appropriateness             7  \n",
       "\n",
       "[3 rows x 21 columns]"
      ]
     },
     "execution_count": 70,
     "metadata": {},
     "output_type": "execute_result"
    }
   ],
   "source": [
    "df.head(3)"
   ]
  },
  {
   "cell_type": "markdown",
   "metadata": {},
   "source": [
    "# Topic Co-occurrence\n",
    "\n",
    "We only added the \"dominant topic\" (i.e., the topic with the highest probability) to our DataFrame, but we should remember that topic models assign probabilities for all topics across all documents. \n",
    "\n",
    "This means we could also create a network graph that displays co-occurring topics. For each document, we check the topics This is especially helpful if you have named your topics, as it allows you to see which of the themes frequently seem to occur together."
   ]
  },
  {
   "cell_type": "code",
   "execution_count": 71,
   "metadata": {
    "tags": []
   },
   "outputs": [
    {
     "name": "stderr",
     "output_type": "stream",
     "text": [
      "Processing documents: 100%|█████████████| 16309/16309 [00:03<00:00, 5359.14it/s]\n"
     ]
    }
   ],
   "source": [
    "# Number of topics\n",
    "num_topics = optimal_lda_model.num_topics\n",
    "\n",
    "# Initialize the overlap matrix\n",
    "overlap_matrix = np.zeros((num_topics, num_topics))\n",
    "\n",
    "# Iterate through documents and get topic probabilities\n",
    "for document in tqdm(pos_corpus, desc=\"Processing documents\"):\n",
    "    document_topics = optimal_lda_model.get_document_topics(document, minimum_probability=0)\n",
    "    # Create a full topic distribution for the document\n",
    "    full_topic_distribution = [0] * num_topics\n",
    "    for topic_num, prob in document_topics:\n",
    "        full_topic_distribution[topic_num] = prob\n",
    "\n",
    "    # Iterate through pairs of topics and add probabilities to the overlap matrix\n",
    "    for i in range(num_topics):\n",
    "        for j in range(num_topics):\n",
    "            overlap_matrix[i, j] += full_topic_distribution[i] * full_topic_distribution[j]\n",
    "\n",
    "# Normalize the overlap matrix by dividing by the number of documents\n",
    "overlap_matrix /= len(pos_corpus)\n",
    "\n",
    "# Assuming overlap_matrix is your overlap matrix\n",
    "np.fill_diagonal(overlap_matrix, 0)\n",
    "\n",
    "# Now apply the threshold\n",
    "co_occurrence_matrix = np.where(overlap_matrix > 0.01, overlap_matrix, 0)\n"
   ]
  },
  {
   "cell_type": "code",
   "execution_count": 73,
   "metadata": {
    "tags": []
   },
   "outputs": [
    {
     "data": {
      "image/png": "[encoded data removed]",
      "text/plain": [
       "<Figure size 864x864 with 1 Axes>"
      ]
     },
     "metadata": {},
     "output_type": "display_data"
    }
   ],
   "source": [
    "import networkx as nx\n",
    "\n",
    "# Create a graph from the co-occurrence matrix\n",
    "G = nx.Graph()\n",
    "for i in range(co_occurrence_matrix.shape[0]):\n",
    "    for j in range(co_occurrence_matrix.shape[1]):\n",
    "        if co_occurrence_matrix[i, j] > 0:\n",
    "            G.add_edge(i, j, weight=co_occurrence_matrix[i, j])\n",
    "\n",
    "# Define node colors based on the number of links remaining after removal\n",
    "node_colors = [len(list(G.neighbors(n))) for n in G.nodes()]\n",
    "\n",
    "# Define edge colors based on co-occurrence strength\n",
    "edge_colors = [d['weight'] for _, _, d in G.edges(data=True)]\n",
    "\n",
    "plt.figure(figsize=(12, 12))\n",
    "pos = nx.spring_layout(G)  # Can use other layouts as well\n",
    "\n",
    "# Define an offset for the labels\n",
    "label_offset = 0.05\n",
    "\n",
    "# Create a new dictionary for the label positions\n",
    "label_pos = {node: (coordinates[0], coordinates[1] + label_offset) for node, coordinates in pos.items()}\n",
    "\n",
    "nx.draw_networkx_nodes(G, pos, node_color=node_colors, cmap=plt.cm.Reds)\n",
    "nx.draw_networkx_edges(G, pos, edge_color=edge_colors, edge_cmap=plt.cm.Blues)\n",
    "nx.draw_networkx_labels(G, label_pos, labels=topic_names)\n",
    "\n",
    "plt.show()\n"
   ]
  },
  {
   "cell_type": "markdown",
   "metadata": {
    "id": "5t8WVkZ2134h"
   },
   "source": [
    "# 💭 Reflection: The hermeneutics of topic modeling \n",
    "\n",
    "One thought to end with: for most topic models you will create, it will be hard to apply a meaningful interpretation to each topic. Not every topic will have some meaningful insight \"fall out of it\" upon first inspection. This is a typical issue in machine learning, which can pick up on patterns that might not make sense to humans.\n",
    "\n",
    "It is an open question to which extent you should let yourself be surprised by particular combinations of words in a topic, or if topic models primarily should follow the intuitions you already have as a researcher. What makes for a \"good\" topic model probably straddles the boundaries of surprise and expectation."
   ]
  },
  {
   "cell_type": "markdown",
   "metadata": {
    "jp-MarkdownHeadingCollapsed": true,
    "tags": []
   },
   "source": [
    "<div class=\"alert alert-success\">\n",
    "\n",
    "## ❗ Key Points\n",
    "\n",
    "* Topic modeling can help us find themes and topics in textual data.\n",
    "* Topic models can be evaluated and improved based on coherence metrics; however, using your eyes to see whether topics make intuitive sense is just as important.\n",
    "* Topic models yield information that can be used to do different things, such as finding submissions with particular topics, or classifying texts.\n",
    "    \n",
    "</div>"
   ]
  }
 ],
 "metadata": {
  "colab": {
   "collapsed_sections": [],
   "name": "Week 3-1 Topic Modeling.ipynb",
   "provenance": []
  },
  "kernelspec": {
   "display_name": "dlab",
   "language": "python",
   "name": "dlab"
  },
  "language_info": {
   "codemirror_mode": {
    "name": "ipython",
    "version": 3
   },
   "file_extension": ".py",
   "mimetype": "text/x-python",
   "name": "python",
   "nbconvert_exporter": "python",
   "pygments_lexer": "ipython3",
   "version": "3.10.13"
  }
 },
 "nbformat": 4,
 "nbformat_minor": 4
}
