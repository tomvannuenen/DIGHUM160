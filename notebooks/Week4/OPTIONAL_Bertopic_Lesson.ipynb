{
 "cells": [
  {
   "cell_type": "markdown",
   "id": "0c6fcb1a-7bb6-47f6-af4b-3a3e94a7c91e",
   "metadata": {
    "id": "WClw_VPOmwXd"
   },
   "source": [
    "<img src=\"../../img/backdrop-wh.png\" alt=\"Drawing\" style=\"width: 300px;\"/>\n",
    "\n",
    "# Topic Modeling With BERTopic\n",
    "\n",
    "* * * \n",
    "\n",
    "<div class=\"alert alert-success\">  \n",
    "    \n",
    "### Learning Objectives \n",
    "    \n",
    "* Use BERTopic to group r/AmItheAsshole submissions by the issues people write about.\n",
    "* Interpret and visualize the topics found by the model.\n",
    "* Try out ways to improve or simplify the model when topics overlap too much or don’t make sense.\n",
    "* Practice naming and describing topics, and using them to organize or classify new text.\n",
    "</div>\n",
    "\n",
    "### Icons Used in This Notebook\n",
    "💡 **Tip**: How to do something a bit more efficiently or effectively.<br>\n",
    "⚠️ **Warning:** Heads-up about tricky stuff or common mistakes.<br>\n",
    "\n",
    "### Sections\n",
    "1. [Topic Modeling with BERTopic](#topic)\n",
    "2. [Explore Selected Topics](#explore)\n",
    "3. [Reducing Overlap](#reduce)\n",
    "4. [Finding Representative Posts](#repr)\n"
   ]
  },
  {
   "cell_type": "markdown",
   "id": "a5284942",
   "metadata": {},
   "source": [
    "<a id='topic'></a>\n",
    "\n",
    "# Topic Modeling with BERTopic\n",
    "\n",
    "In this optional notebook, we explore **BERTopic**, a topic modeling tool that leverages BERT embeddings and [c-TF-IDF](https://maartengr.github.io/BERTopic/api/ctfidf.html), to extract topics. It is a more \"modern\" topic modeling approach than the one we explore in our other notebook, and it can be interesting to compare topic model outputs between the approaches!\n",
    "\n",
    "## About BERT Embeddings\n",
    "BERT embeddings are vector representations of text created by the BERT model, which is a large transformer-based neural network trained to understand language context. Unlike traditional word embeddings (like word2vec), BERT creates contextual embeddings. That means the same word will have different vector representations depending on its surrounding words. BERT processes entire sentences at once, using its attention mechanism to capture meaning and relationships between words.\n",
    "\n",
    "BERTopic works as follows:\n",
    "\n",
    "- **Understands text using BERT:**  \n",
    "Instead of just counting words, BERTopic uses a language model (BERT or similar) to turn each document into a “vector”—a list of numbers that captures its meaning and context. This makes it better at grouping together texts that talk about similar things, even if they use different words.\n",
    "\n",
    "- **Clusters similar documents:**  \n",
    "BERTopic then looks for clusters (groups) of documents that are close to each other in this vector space. It uses an algorithm called **HDBSCAN** that decides, based on the data, how many clusters (topics) make sense. This means you don’t have to guess the number of topics in advance.\n",
    "\n",
    "- **Finds key words for each topic:**  \n",
    "For every cluster it finds, BERTopic looks for the most important words that make this group unique compared to the rest of your data. These words help you quickly understand what each topic is about.\n",
    "\n",
    "- **Visualizes topics and documents:**  \n",
    "BERTopic comes with interactive tools to show you how your topics relate to each other, how common each topic is, and where your documents fit in."
   ]
  },
  {
   "cell_type": "markdown",
   "id": "9627a32f-e19d-4142-ba09-7ed81a4fe2ce",
   "metadata": {},
   "source": [
    "### Note on package installation\n",
    "This cell makes sure all the Python packages needed for this lesson are installed.\n",
    "If you’re working on Datahub, you might not have everything yet.\n",
    "Running this cell will check for each package and install it if it’s missing, so your notebook runs smoothly.\n",
    "\n",
    "- If you are running this notebook on **DataHub**, you may need to **uncomment and run** the `%pip install ...` line below if you get an error about a missing package. Restart your kernel after running this cell!\n",
    "- If you are working **locally** (on your own computer), you should already have all required packages installed via your Conda environment (see the ***\"Local Python and Jupyter Setup\"*** page on bCourses). Only use the `pip install` line if you see an ImportError and know what you’re doing."
   ]
  },
  {
   "cell_type": "code",
   "execution_count": 1,
   "id": "0c2f05b1-a24a-4674-8ae5-643f134b68c6",
   "metadata": {
    "scrolled": true
   },
   "outputs": [
    {
     "name": "stdout",
     "output_type": "stream",
     "text": [
      "Collecting bertopic\n",
      "  Downloading bertopic-0.17.0-py3-none-any.whl.metadata (23 kB)\n",
      "Collecting hdbscan>=0.8.29 (from bertopic)\n",
      "  Downloading hdbscan-0.8.40.tar.gz (6.9 MB)\n",
      "\u001b[2K     \u001b[38;2;114;156;31m━━━━━━━━━━━━━━━━━━━━━━━━━━━━━━━━━━━━━━━━\u001b[0m \u001b[32m6.9/6.9 MB\u001b[0m \u001b[31m25.7 MB/s\u001b[0m eta \u001b[36m0:00:00\u001b[0mm eta \u001b[36m0:00:01\u001b[0m0:01\u001b[0m:01\u001b[0m\n",
      "\u001b[?25h  Installing build dependencies ... \u001b[?25ldone\n",
      "\u001b[?25h  Getting requirements to build wheel ... \u001b[?25ldone\n",
      "\u001b[?25h  Preparing metadata (pyproject.toml) ... \u001b[?25ldone\n",
      "\u001b[?25hRequirement already satisfied: numpy>=1.20.0 in /Users/tomvannuenen/anaconda3/envs/dlab/lib/python3.10/site-packages (from bertopic) (1.26.4)\n",
      "Requirement already satisfied: pandas>=1.1.5 in /Users/tomvannuenen/anaconda3/envs/dlab/lib/python3.10/site-packages (from bertopic) (2.2.2)\n",
      "Collecting plotly>=4.7.0 (from bertopic)\n",
      "  Downloading plotly-6.1.2-py3-none-any.whl.metadata (6.9 kB)\n",
      "Requirement already satisfied: scikit-learn>=1.0 in /Users/tomvannuenen/anaconda3/envs/dlab/lib/python3.10/site-packages (from bertopic) (1.4.2)\n",
      "Collecting sentence-transformers>=0.4.1 (from bertopic)\n",
      "  Downloading sentence_transformers-4.1.0-py3-none-any.whl.metadata (13 kB)\n",
      "Requirement already satisfied: tqdm>=4.41.1 in /Users/tomvannuenen/anaconda3/envs/dlab/lib/python3.10/site-packages (from bertopic) (4.66.4)\n",
      "Collecting umap-learn>=0.5.0 (from bertopic)\n",
      "  Downloading umap_learn-0.5.7-py3-none-any.whl.metadata (21 kB)\n",
      "Requirement already satisfied: scipy>=1.0 in /Users/tomvannuenen/anaconda3/envs/dlab/lib/python3.10/site-packages (from hdbscan>=0.8.29->bertopic) (1.12.0)\n",
      "Requirement already satisfied: joblib>=1.0 in /Users/tomvannuenen/anaconda3/envs/dlab/lib/python3.10/site-packages (from hdbscan>=0.8.29->bertopic) (1.4.0)\n",
      "Requirement already satisfied: python-dateutil>=2.8.2 in /Users/tomvannuenen/anaconda3/envs/dlab/lib/python3.10/site-packages (from pandas>=1.1.5->bertopic) (2.9.0.post0)\n",
      "Requirement already satisfied: pytz>=2020.1 in /Users/tomvannuenen/anaconda3/envs/dlab/lib/python3.10/site-packages (from pandas>=1.1.5->bertopic) (2024.1)\n",
      "Requirement already satisfied: tzdata>=2022.7 in /Users/tomvannuenen/anaconda3/envs/dlab/lib/python3.10/site-packages (from pandas>=1.1.5->bertopic) (2024.1)\n",
      "Collecting narwhals>=1.15.1 (from plotly>=4.7.0->bertopic)\n",
      "  Downloading narwhals-1.41.0-py3-none-any.whl.metadata (11 kB)\n",
      "Requirement already satisfied: packaging in /Users/tomvannuenen/anaconda3/envs/dlab/lib/python3.10/site-packages (from plotly>=4.7.0->bertopic) (24.0)\n",
      "Requirement already satisfied: threadpoolctl>=2.0.0 in /Users/tomvannuenen/anaconda3/envs/dlab/lib/python3.10/site-packages (from scikit-learn>=1.0->bertopic) (3.4.0)\n",
      "Requirement already satisfied: transformers<5.0.0,>=4.41.0 in /Users/tomvannuenen/anaconda3/envs/dlab/lib/python3.10/site-packages (from sentence-transformers>=0.4.1->bertopic) (4.42.3)\n",
      "Requirement already satisfied: torch>=1.11.0 in /Users/tomvannuenen/anaconda3/envs/dlab/lib/python3.10/site-packages (from sentence-transformers>=0.4.1->bertopic) (2.3.1)\n",
      "Requirement already satisfied: huggingface-hub>=0.20.0 in /Users/tomvannuenen/anaconda3/envs/dlab/lib/python3.10/site-packages (from sentence-transformers>=0.4.1->bertopic) (0.23.4)\n",
      "Requirement already satisfied: Pillow in /Users/tomvannuenen/anaconda3/envs/dlab/lib/python3.10/site-packages (from sentence-transformers>=0.4.1->bertopic) (10.3.0)\n",
      "Requirement already satisfied: typing_extensions>=4.5.0 in /Users/tomvannuenen/anaconda3/envs/dlab/lib/python3.10/site-packages (from sentence-transformers>=0.4.1->bertopic) (4.10.0)\n",
      "Collecting numba>=0.51.2 (from umap-learn>=0.5.0->bertopic)\n",
      "  Downloading numba-0.61.2-cp310-cp310-macosx_11_0_arm64.whl.metadata (2.8 kB)\n",
      "Collecting pynndescent>=0.5 (from umap-learn>=0.5.0->bertopic)\n",
      "  Downloading pynndescent-0.5.13-py3-none-any.whl.metadata (6.8 kB)\n",
      "Requirement already satisfied: filelock in /Users/tomvannuenen/anaconda3/envs/dlab/lib/python3.10/site-packages (from huggingface-hub>=0.20.0->sentence-transformers>=0.4.1->bertopic) (3.15.4)\n",
      "Requirement already satisfied: fsspec>=2023.5.0 in /Users/tomvannuenen/anaconda3/envs/dlab/lib/python3.10/site-packages (from huggingface-hub>=0.20.0->sentence-transformers>=0.4.1->bertopic) (2024.6.1)\n",
      "Requirement already satisfied: pyyaml>=5.1 in /Users/tomvannuenen/anaconda3/envs/dlab/lib/python3.10/site-packages (from huggingface-hub>=0.20.0->sentence-transformers>=0.4.1->bertopic) (6.0.1)\n",
      "Requirement already satisfied: requests in /Users/tomvannuenen/anaconda3/envs/dlab/lib/python3.10/site-packages (from huggingface-hub>=0.20.0->sentence-transformers>=0.4.1->bertopic) (2.31.0)\n",
      "Collecting llvmlite<0.45,>=0.44.0dev0 (from numba>=0.51.2->umap-learn>=0.5.0->bertopic)\n",
      "  Downloading llvmlite-0.44.0-cp310-cp310-macosx_11_0_arm64.whl.metadata (4.8 kB)\n",
      "Requirement already satisfied: six>=1.5 in /Users/tomvannuenen/anaconda3/envs/dlab/lib/python3.10/site-packages (from python-dateutil>=2.8.2->pandas>=1.1.5->bertopic) (1.16.0)\n",
      "Requirement already satisfied: sympy in /Users/tomvannuenen/anaconda3/envs/dlab/lib/python3.10/site-packages (from torch>=1.11.0->sentence-transformers>=0.4.1->bertopic) (1.13.0)\n",
      "Requirement already satisfied: networkx in /Users/tomvannuenen/anaconda3/envs/dlab/lib/python3.10/site-packages (from torch>=1.11.0->sentence-transformers>=0.4.1->bertopic) (3.3)\n",
      "Requirement already satisfied: jinja2 in /Users/tomvannuenen/anaconda3/envs/dlab/lib/python3.10/site-packages (from torch>=1.11.0->sentence-transformers>=0.4.1->bertopic) (3.1.3)\n",
      "Requirement already satisfied: regex!=2019.12.17 in /Users/tomvannuenen/anaconda3/envs/dlab/lib/python3.10/site-packages (from transformers<5.0.0,>=4.41.0->sentence-transformers>=0.4.1->bertopic) (2024.5.15)\n",
      "Requirement already satisfied: safetensors>=0.4.1 in /Users/tomvannuenen/anaconda3/envs/dlab/lib/python3.10/site-packages (from transformers<5.0.0,>=4.41.0->sentence-transformers>=0.4.1->bertopic) (0.4.3)\n",
      "Requirement already satisfied: tokenizers<0.20,>=0.19 in /Users/tomvannuenen/anaconda3/envs/dlab/lib/python3.10/site-packages (from transformers<5.0.0,>=4.41.0->sentence-transformers>=0.4.1->bertopic) (0.19.1)\n",
      "Requirement already satisfied: MarkupSafe>=2.0 in /Users/tomvannuenen/anaconda3/envs/dlab/lib/python3.10/site-packages (from jinja2->torch>=1.11.0->sentence-transformers>=0.4.1->bertopic) (2.1.5)\n",
      "Requirement already satisfied: charset-normalizer<4,>=2 in /Users/tomvannuenen/anaconda3/envs/dlab/lib/python3.10/site-packages (from requests->huggingface-hub>=0.20.0->sentence-transformers>=0.4.1->bertopic) (3.3.2)\n",
      "Requirement already satisfied: idna<4,>=2.5 in /Users/tomvannuenen/anaconda3/envs/dlab/lib/python3.10/site-packages (from requests->huggingface-hub>=0.20.0->sentence-transformers>=0.4.1->bertopic) (3.6)\n",
      "Requirement already satisfied: urllib3<3,>=1.21.1 in /Users/tomvannuenen/anaconda3/envs/dlab/lib/python3.10/site-packages (from requests->huggingface-hub>=0.20.0->sentence-transformers>=0.4.1->bertopic) (2.2.1)\n",
      "Requirement already satisfied: certifi>=2017.4.17 in /Users/tomvannuenen/anaconda3/envs/dlab/lib/python3.10/site-packages (from requests->huggingface-hub>=0.20.0->sentence-transformers>=0.4.1->bertopic) (2024.2.2)\n",
      "Requirement already satisfied: mpmath<1.4,>=1.1.0 in /Users/tomvannuenen/anaconda3/envs/dlab/lib/python3.10/site-packages (from sympy->torch>=1.11.0->sentence-transformers>=0.4.1->bertopic) (1.3.0)\n",
      "Downloading bertopic-0.17.0-py3-none-any.whl (150 kB)\n",
      "\u001b[2K   \u001b[38;2;114;156;31m━━━━━━━━━━━━━━━━━━━━━━━━━━━━━━━━━━━━━━━━\u001b[0m \u001b[32m150.6/150.6 kB\u001b[0m \u001b[31m15.2 MB/s\u001b[0m eta \u001b[36m0:00:00\u001b[0m\n",
      "\u001b[?25hDownloading plotly-6.1.2-py3-none-any.whl (16.3 MB)\n",
      "\u001b[2K   \u001b[38;2;114;156;31m━━━━━━━━━━━━━━━━━━━━━━━━━━━━━━━━━━━━━━━━\u001b[0m \u001b[32m16.3/16.3 MB\u001b[0m \u001b[31m4.8 MB/s\u001b[0m eta \u001b[36m0:00:00\u001b[0mm eta \u001b[36m0:00:01\u001b[0m0:01\u001b[0m:01\u001b[0mm\n",
      "\u001b[?25hDownloading sentence_transformers-4.1.0-py3-none-any.whl (345 kB)\n",
      "\u001b[2K   \u001b[38;2;114;156;31m━━━━━━━━━━━━━━━━━━━━━━━━━━━━━━━━━━━━━━━━\u001b[0m \u001b[32m345.7/345.7 kB\u001b[0m \u001b[31m7.2 MB/s\u001b[0m eta \u001b[36m0:00:00\u001b[0m\u001b[36m0:00:01\u001b[0m\n",
      "\u001b[?25hDownloading umap_learn-0.5.7-py3-none-any.whl (88 kB)\n",
      "\u001b[2K   \u001b[38;2;114;156;31m━━━━━━━━━━━━━━━━━━━━━━━━━━━━━━━━━━━━━━━━\u001b[0m \u001b[32m88.8/88.8 kB\u001b[0m \u001b[31m5.2 MB/s\u001b[0m eta \u001b[36m0:00:00\u001b[0m\n",
      "\u001b[?25hDownloading narwhals-1.41.0-py3-none-any.whl (357 kB)\n",
      "\u001b[2K   \u001b[38;2;114;156;31m━━━━━━━━━━━━━━━━━━━━━━━━━━━━━━━━━━━━━━━━\u001b[0m \u001b[32m358.0/358.0 kB\u001b[0m \u001b[31m2.5 MB/s\u001b[0m eta \u001b[36m0:00:00\u001b[0m[31m1.9 MB/s\u001b[0m eta \u001b[36m0:00:01\u001b[0mm\n",
      "\u001b[?25hDownloading numba-0.61.2-cp310-cp310-macosx_11_0_arm64.whl (2.8 MB)\n",
      "\u001b[2K   \u001b[38;2;114;156;31m━━━━━━━━━━━━━━━━━━━━━━━━━━━━━━━━━━━━━━━━\u001b[0m \u001b[32m2.8/2.8 MB\u001b[0m \u001b[31m6.9 MB/s\u001b[0m eta \u001b[36m0:00:00\u001b[0m MB/s\u001b[0m eta \u001b[36m0:00:01\u001b[0m:01\u001b[0m\n",
      "\u001b[?25hDownloading pynndescent-0.5.13-py3-none-any.whl (56 kB)\n",
      "\u001b[2K   \u001b[38;2;114;156;31m━━━━━━━━━━━━━━━━━━━━━━━━━━━━━━━━━━━━━━━━\u001b[0m \u001b[32m56.9/56.9 kB\u001b[0m \u001b[31m4.6 MB/s\u001b[0m eta \u001b[36m0:00:00\u001b[0m\n",
      "\u001b[?25hDownloading llvmlite-0.44.0-cp310-cp310-macosx_11_0_arm64.whl (26.2 MB)\n",
      "\u001b[2K   \u001b[38;2;114;156;31m━━━━━━━━━━━━━━━━━━━━━━━━━━━━━━━━━━━━━━━━\u001b[0m \u001b[32m26.2/26.2 MB\u001b[0m \u001b[31m4.7 MB/s\u001b[0m eta \u001b[36m0:00:00\u001b[0mm eta \u001b[36m0:00:01\u001b[0m[36m0:00:01\u001b[0mm\n",
      "\u001b[?25hBuilding wheels for collected packages: hdbscan\n",
      "  Building wheel for hdbscan (pyproject.toml) ... \u001b[?25ldone\n",
      "\u001b[?25h  Created wheel for hdbscan: filename=hdbscan-0.8.40-cp310-cp310-macosx_11_0_arm64.whl size=688371 sha256=4d82f0e9a5efe383c41ade5ba8b1493e18dbd90700ddbc92e78adb27ba190ee1\n",
      "  Stored in directory: /Users/tomvannuenen/Library/Caches/pip/wheels/54/ba/75/e1883bf767fda8494225c99b81fbf5e977e23459d35e93b301\n",
      "Successfully built hdbscan\n",
      "Installing collected packages: narwhals, llvmlite, plotly, numba, pynndescent, hdbscan, umap-learn, sentence-transformers, bertopic\n",
      "Successfully installed bertopic-0.17.0 hdbscan-0.8.40 llvmlite-0.44.0 narwhals-1.41.0 numba-0.61.2 plotly-6.1.2 pynndescent-0.5.13 sentence-transformers-4.1.0 umap-learn-0.5.7\n",
      "Note: you may need to restart the kernel to use updated packages.\n"
     ]
    }
   ],
   "source": [
    "# restart kernel after running\n",
    "#%pip install bertopic "
   ]
  },
  {
   "cell_type": "markdown",
   "id": "e594d769-c506-4e88-8894-82d4884ebd0c",
   "metadata": {},
   "source": [
    "**Note: this notebook might not work on your local machine depending on your system architecture. It does work on DataHub, however.**"
   ]
  },
  {
   "cell_type": "markdown",
   "id": "dc10a312",
   "metadata": {},
   "source": [
    "## Loading the Data"
   ]
  },
  {
   "cell_type": "code",
   "execution_count": 1,
   "id": "c6e75bdf-438f-495a-8329-10bc7582a95f",
   "metadata": {},
   "outputs": [
    {
     "name": "stderr",
     "output_type": "stream",
     "text": [
      "Downloading...\n",
      "From: https://drive.google.com/uc?id=1Glac4spXraWRcC_loxu1Cu4Bw-szS2ou\n",
      "To: /Users/tomvannuenen/Library/CloudStorage/Dropbox/GitHub/DEV/DIGHUM160/data/aita_pp.csv\n",
      "100%|██████████████████████████████████████| 56.6M/56.6M [00:01<00:00, 30.2MB/s]\n"
     ]
    },
    {
     "data": {
      "text/plain": [
       "'../../data/aita_pp.csv'"
      ]
     },
     "execution_count": 1,
     "metadata": {},
     "output_type": "execute_result"
    }
   ],
   "source": [
    "import gdown\n",
    "\n",
    "gdown.download(\"https://drive.google.com/uc?id=1Glac4spXraWRcC_loxu1Cu4Bw-szS2ou\", \"../../data/aita_pp.csv\", quiet=False)"
   ]
  },
  {
   "cell_type": "code",
   "execution_count": 2,
   "id": "494edbd5",
   "metadata": {},
   "outputs": [],
   "source": [
    "import pandas as pd\n",
    "\n",
    "# Load your preprocessed AITA CSV (change the filename if needed)\n",
    "df = pd.read_csv('../../data/aita_pp.csv')"
   ]
  },
  {
   "cell_type": "code",
   "execution_count": 3,
   "id": "3c562512-be72-480f-9545-6d5f50541bc4",
   "metadata": {},
   "outputs": [],
   "source": [
    "docs = df['pp_text'].tolist()"
   ]
  },
  {
   "cell_type": "markdown",
   "id": "75adbfd2",
   "metadata": {},
   "source": [
    "## Build and Fit BERTopic Model\n",
    "We'll use default settings first. This may take a few minutes."
   ]
  },
  {
   "cell_type": "code",
   "execution_count": 8,
   "id": "b57314f0",
   "metadata": {},
   "outputs": [
    {
     "name": "stderr",
     "output_type": "stream",
     "text": [
      "2025-06-01 15:34:46,931 - BERTopic - Embedding - Transforming documents to embeddings.\n"
     ]
    },
    {
     "data": {
      "application/vnd.jupyter.widget-view+json": {
       "model_id": "7b06fb7a7a80414b865f94cf6ac2ddb8",
       "version_major": 2,
       "version_minor": 0
      },
      "text/plain": [
       "Batches:   0%|          | 0/32 [00:00<?, ?it/s]"
      ]
     },
     "metadata": {},
     "output_type": "display_data"
    },
    {
     "name": "stderr",
     "output_type": "stream",
     "text": [
      "2025-06-01 15:34:54,055 - BERTopic - Embedding - Completed ✓\n",
      "2025-06-01 15:34:54,055 - BERTopic - Dimensionality - Fitting the dimensionality reduction algorithm\n",
      "2025-06-01 15:34:55,409 - BERTopic - Dimensionality - Completed ✓\n",
      "2025-06-01 15:34:55,410 - BERTopic - Cluster - Start clustering the reduced embeddings\n",
      "2025-06-01 15:34:55,434 - BERTopic - Cluster - Completed ✓\n",
      "2025-06-01 15:34:55,436 - BERTopic - Representation - Fine-tuning topics using representation models.\n",
      "2025-06-01 15:34:55,531 - BERTopic - Representation - Completed ✓\n"
     ]
    }
   ],
   "source": [
    "from bertopic import BERTopic\n",
    "\n",
    "# Use only a subset for demo to avoid memory errors\n",
    "docs_sample = docs[:1000]\n",
    "\n",
    "topic_model = BERTopic(verbose=True)\n",
    "topics, probabilities = topic_model.fit_transform(docs_sample)"
   ]
  },
  {
   "cell_type": "markdown",
   "id": "ee180901",
   "metadata": {},
   "source": [
    "<a id='explore'></a>\n",
    "\n",
    "# Explore Extracted Topics\n",
    "View topic frequencies and the top words per topic."
   ]
  },
  {
   "cell_type": "code",
   "execution_count": 9,
   "id": "1399477e",
   "metadata": {},
   "outputs": [
    {
     "data": {
      "text/html": [
       "<div>\n",
       "<style scoped>\n",
       "    .dataframe tbody tr th:only-of-type {\n",
       "        vertical-align: middle;\n",
       "    }\n",
       "\n",
       "    .dataframe tbody tr th {\n",
       "        vertical-align: top;\n",
       "    }\n",
       "\n",
       "    .dataframe thead th {\n",
       "        text-align: right;\n",
       "    }\n",
       "</style>\n",
       "<table border=\"1\" class=\"dataframe\">\n",
       "  <thead>\n",
       "    <tr style=\"text-align: right;\">\n",
       "      <th></th>\n",
       "      <th>Topic</th>\n",
       "      <th>Count</th>\n",
       "      <th>Name</th>\n",
       "      <th>Representation</th>\n",
       "      <th>Representative_Docs</th>\n",
       "    </tr>\n",
       "  </thead>\n",
       "  <tbody>\n",
       "    <tr>\n",
       "      <th>0</th>\n",
       "      <td>-1</td>\n",
       "      <td>457</td>\n",
       "      <td>-1_told_like_said_time</td>\n",
       "      <td>[told, like, said, time, want, got, know, goin...</td>\n",
       "      <td>[throwaway_account ask question following stor...</td>\n",
       "    </tr>\n",
       "    <tr>\n",
       "      <th>1</th>\n",
       "      <td>0</td>\n",
       "      <td>133</td>\n",
       "      <td>0_like_told_friends_said</td>\n",
       "      <td>[like, told, friends, said, sex, girlfriend, g...</td>\n",
       "      <td>[start freaking want fully support women men a...</td>\n",
       "    </tr>\n",
       "    <tr>\n",
       "      <th>2</th>\n",
       "      <td>1</td>\n",
       "      <td>57</td>\n",
       "      <td>1_family_brother_mom_sister</td>\n",
       "      <td>[family, brother, mom, sister, told, dad, moth...</td>\n",
       "      <td>[hello r aita throwaway hope obvious_reasons p...</td>\n",
       "    </tr>\n",
       "    <tr>\n",
       "      <th>3</th>\n",
       "      <td>2</td>\n",
       "      <td>40</td>\n",
       "      <td>2_pay_money_son_kids</td>\n",
       "      <td>[pay, money, son, kids, daughter, paying, coll...</td>\n",
       "      <td>[daughter turning weeks starting college fall ...</td>\n",
       "    </tr>\n",
       "    <tr>\n",
       "      <th>4</th>\n",
       "      <td>3</td>\n",
       "      <td>38</td>\n",
       "      <td>3_pregnant_pregnancy_baby_abortion</td>\n",
       "      <td>[pregnant, pregnancy, baby, abortion, want, ch...</td>\n",
       "      <td>[start know sounds bad try explain 21(m girlfr...</td>\n",
       "    </tr>\n",
       "    <tr>\n",
       "      <th>5</th>\n",
       "      <td>4</td>\n",
       "      <td>35</td>\n",
       "      <td>4_seat_people_like_asshole</td>\n",
       "      <td>[seat, people, like, asshole, seats, said, car...</td>\n",
       "      <td>[happened hours ago thinking today important t...</td>\n",
       "    </tr>\n",
       "    <tr>\n",
       "      <th>6</th>\n",
       "      <td>5</td>\n",
       "      <td>33</td>\n",
       "      <td>5_daughter_wife_ex_life</td>\n",
       "      <td>[daughter, wife, ex, life, kids, divorce, year...</td>\n",
       "      <td>[recently won fuck money wo exactly millions m...</td>\n",
       "    </tr>\n",
       "    <tr>\n",
       "      <th>7</th>\n",
       "      <td>6</td>\n",
       "      <td>30</td>\n",
       "      <td>6_tip_card_pay_money</td>\n",
       "      <td>[tip, card, pay, money, manager, bill, said, c...</td>\n",
       "      <td>[months_ago trusty corolla totaled accident th...</td>\n",
       "    </tr>\n",
       "    <tr>\n",
       "      <th>8</th>\n",
       "      <td>7</td>\n",
       "      <td>24</td>\n",
       "      <td>7_teacher_class_students_school</td>\n",
       "      <td>[teacher, class, students, school, told, kids,...</td>\n",
       "      <td>[teach private school affiliated religion allo...</td>\n",
       "    </tr>\n",
       "    <tr>\n",
       "      <th>9</th>\n",
       "      <td>8</td>\n",
       "      <td>21</td>\n",
       "      <td>8_vegan_meat_food_vegetarian</td>\n",
       "      <td>[vegan, meat, food, vegetarian, eat, cook, eat...</td>\n",
       "      <td>[year_old mom year_old daughter vegan years si...</td>\n",
       "    </tr>\n",
       "  </tbody>\n",
       "</table>\n",
       "</div>"
      ],
      "text/plain": [
       "   Topic  Count                                Name  \\\n",
       "0     -1    457              -1_told_like_said_time   \n",
       "1      0    133            0_like_told_friends_said   \n",
       "2      1     57         1_family_brother_mom_sister   \n",
       "3      2     40                2_pay_money_son_kids   \n",
       "4      3     38  3_pregnant_pregnancy_baby_abortion   \n",
       "5      4     35          4_seat_people_like_asshole   \n",
       "6      5     33             5_daughter_wife_ex_life   \n",
       "7      6     30                6_tip_card_pay_money   \n",
       "8      7     24     7_teacher_class_students_school   \n",
       "9      8     21        8_vegan_meat_food_vegetarian   \n",
       "\n",
       "                                      Representation  \\\n",
       "0  [told, like, said, time, want, got, know, goin...   \n",
       "1  [like, told, friends, said, sex, girlfriend, g...   \n",
       "2  [family, brother, mom, sister, told, dad, moth...   \n",
       "3  [pay, money, son, kids, daughter, paying, coll...   \n",
       "4  [pregnant, pregnancy, baby, abortion, want, ch...   \n",
       "5  [seat, people, like, asshole, seats, said, car...   \n",
       "6  [daughter, wife, ex, life, kids, divorce, year...   \n",
       "7  [tip, card, pay, money, manager, bill, said, c...   \n",
       "8  [teacher, class, students, school, told, kids,...   \n",
       "9  [vegan, meat, food, vegetarian, eat, cook, eat...   \n",
       "\n",
       "                                 Representative_Docs  \n",
       "0  [throwaway_account ask question following stor...  \n",
       "1  [start freaking want fully support women men a...  \n",
       "2  [hello r aita throwaway hope obvious_reasons p...  \n",
       "3  [daughter turning weeks starting college fall ...  \n",
       "4  [start know sounds bad try explain 21(m girlfr...  \n",
       "5  [happened hours ago thinking today important t...  \n",
       "6  [recently won fuck money wo exactly millions m...  \n",
       "7  [months_ago trusty corolla totaled accident th...  \n",
       "8  [teach private school affiliated religion allo...  \n",
       "9  [year_old mom year_old daughter vegan years si...  "
      ]
     },
     "execution_count": 9,
     "metadata": {},
     "output_type": "execute_result"
    }
   ],
   "source": [
    "topic_info = topic_model.get_topic_info()\n",
    "topic_info.head(10)"
   ]
  },
  {
   "cell_type": "markdown",
   "id": "bf5039ee-9391-41d3-bca6-34856275921e",
   "metadata": {},
   "source": [
    "💡 **Tip**: Topic -1 in BERTopic is a “catch-all” for documents that don’t fit into any meaningful cluster.\n",
    "\n",
    "This works as follows:\n",
    "- HDBSCAN (the clustering algorithm) automatically labels “noise” or “outlier” documents with -1.\n",
    "- These are typically posts that are too unique, too generic, or just don’t belong to any clear topic group.\n",
    "- Including topic -1 in your list of topics will show a “topic” that’s not really coherent, and the top words for -1 are usually either very generic or meaningless.\n",
    "- Most users ignore topic -1 when reviewing topics and top words, focusing only on the numbered topics (0, 1, 2, …)."
   ]
  },
  {
   "cell_type": "code",
   "execution_count": 12,
   "id": "d99db09d-fb47-458e-bd6a-fadd00bbbb20",
   "metadata": {},
   "outputs": [
    {
     "data": {
      "text/plain": [
       "(19, 5)"
      ]
     },
     "execution_count": 12,
     "metadata": {},
     "output_type": "execute_result"
    }
   ],
   "source": [
    "# How many topics do we have?\n",
    "topic_info.shape"
   ]
  },
  {
   "cell_type": "code",
   "execution_count": 13,
   "id": "6a1eacdb",
   "metadata": {},
   "outputs": [
    {
     "data": {
      "text/plain": [
       "[('like', 0.02507704221384434),\n",
       " ('told', 0.02399830284838897),\n",
       " ('friends', 0.023790884325017782),\n",
       " ('said', 0.023728767658156673),\n",
       " ('sex', 0.019643105658573815),\n",
       " ('girlfriend', 0.01945963175664632),\n",
       " ('guy', 0.017785438928531877),\n",
       " ('relationship', 0.01772901522714186),\n",
       " ('feel', 0.017230118155244993),\n",
       " ('asked', 0.016719639061031785)]"
      ]
     },
     "execution_count": 13,
     "metadata": {},
     "output_type": "execute_result"
    }
   ],
   "source": [
    "# Show top words for topic 0\n",
    "topic_model.get_topic(0)"
   ]
  },
  {
   "cell_type": "markdown",
   "id": "d5caa942",
   "metadata": {},
   "source": [
    "## Intertopic Distance Map\n",
    "The `visualize_topics` function visualizes topics and their similarity in an interactive plot. We're also saving it to disk so it can be embedded on a website."
   ]
  },
  {
   "cell_type": "code",
   "execution_count": 22,
   "id": "272de809",
   "metadata": {},
   "outputs": [
    {
     "data": {
      "application/vnd.plotly.v1+json": {
       "config": {
        "plotlyServerURL": "https://plot.ly"
       },
       "data": [
        {
         "customdata": [
          [
           0,
           "like | told | friends | said | sex",
           133
          ],
          [
           1,
           "family | brother | mom | sister | told",
           57
          ],
          [
           2,
           "pay | money | son | kids | daughter",
           40
          ],
          [
           3,
           "pregnant | pregnancy | baby | abortion | want",
           38
          ],
          [
           4,
           "seat | people | like | asshole | seats",
           35
          ],
          [
           5,
           "daughter | wife | ex | life | kids",
           33
          ],
          [
           6,
           "tip | card | pay | money | manager",
           30
          ],
          [
           7,
           "teacher | class | students | school | told",
           24
          ],
          [
           8,
           "vegan | meat | food | vegetarian | eat",
           21
          ],
          [
           9,
           "gay | friends | straight | group | like",
           19
          ],
          [
           10,
           "food | eat | plate | eating | like",
           18
          ],
          [
           11,
           "sister | parents | brother | told | kids",
           16
          ],
          [
           12,
           "baby | wife | nurse | breastfeeding | husband",
           15
          ],
          [
           13,
           "travel | mike | kids | holiday | wife",
           14
          ],
          [
           14,
           "dog | dogs | park | walking | said",
           14
          ],
          [
           15,
           "wedding | fiance | ring | josh | felt",
           13
          ],
          [
           16,
           "john | friend | jane | said | moh",
           13
          ],
          [
           17,
           "waitress | restaurant | mug | table | date",
           10
          ]
         ],
         "hovertemplate": "<b>Topic %{customdata[0]}</b><br>%{customdata[1]}<br>Size: %{customdata[2]}",
         "legendgroup": "",
         "marker": {
          "color": [
           "#B0BEC5",
           "#B0BEC5",
           "#B0BEC5",
           "#B0BEC5",
           "#B0BEC5",
           "#B0BEC5",
           "#B0BEC5",
           "#B0BEC5",
           "#B0BEC5",
           "red",
           "#B0BEC5",
           "#B0BEC5",
           "#B0BEC5",
           "#B0BEC5",
           "#B0BEC5",
           "#B0BEC5",
           "#B0BEC5",
           "#B0BEC5"
          ],
          "line": {
           "color": "DarkSlateGrey",
           "width": 2
          },
          "size": {
           "bdata": "hQA5ACgAJgAjACEAHgAYABUAEwASABAADwAOAA4ADQANAAoA",
           "dtype": "i2"
          },
          "sizemode": "area",
          "sizeref": 0.083125,
          "symbol": "circle"
         },
         "mode": "markers",
         "name": "",
         "orientation": "v",
         "showlegend": false,
         "type": "scatter",
         "x": {
          "bdata": "RWpJQXYtUsCton3AvnSRQAoUl8D8a4PABfSfwDRCmMAhSdpAsahFQSiE30B483LAXFSOQMHchcCC5EvAJzSSwBZGTkGMtlFB",
          "dtype": "f4"
         },
         "xaxis": "x",
         "y": {
          "bdata": "7W+MvbJ3Sr8vAGQ/5FluQeAe7kDf1Sc/B/X2QJtL70Bn8glBntIpPu9UB0EZns++CclsQXLeE70eqGO/60UJvRCGvr4gTRa/",
          "dtype": "f4"
         },
         "yaxis": "y"
        }
       ],
       "layout": {
        "annotations": [
         {
          "showarrow": false,
          "text": "D1",
          "x": -5.748318171501159,
          "y": 8.054405614733696,
          "yshift": 10
         },
         {
          "showarrow": false,
          "text": "D2",
          "x": 4.662404501438141,
          "xshift": 10,
          "y": 17.13148784637451
         }
        ],
        "height": 650,
        "hoverlabel": {
         "bgcolor": "white",
         "font": {
          "family": "Rockwell",
          "size": 16
         }
        },
        "legend": {
         "itemsizing": "constant",
         "tracegroupgap": 0
        },
        "margin": {
         "t": 60
        },
        "shapes": [
         {
          "line": {
           "color": "#CFD8DC",
           "width": 2
          },
          "type": "line",
          "x0": 4.662404501438141,
          "x1": 4.662404501438141,
          "y0": -1.0226766169071198,
          "y1": 17.13148784637451
         },
         {
          "line": {
           "color": "#9E9E9E",
           "width": 2
          },
          "type": "line",
          "x0": -5.748318171501159,
          "x1": 15.073127174377442,
          "y0": 8.054405614733696,
          "y1": 8.054405614733696
         }
        ],
        "sliders": [
         {
          "active": 9,
          "pad": {
           "t": 50
          },
          "steps": [
           {
            "args": [
             {
              "marker.color": [
               [
                "red",
                "#B0BEC5",
                "#B0BEC5",
                "#B0BEC5",
                "#B0BEC5",
                "#B0BEC5",
                "#B0BEC5",
                "#B0BEC5",
                "#B0BEC5",
                "#B0BEC5",
                "#B0BEC5",
                "#B0BEC5",
                "#B0BEC5",
                "#B0BEC5",
                "#B0BEC5",
                "#B0BEC5",
                "#B0BEC5",
                "#B0BEC5"
               ]
              ]
             }
            ],
            "label": "Topic 0",
            "method": "update"
           },
           {
            "args": [
             {
              "marker.color": [
               [
                "#B0BEC5",
                "red",
                "#B0BEC5",
                "#B0BEC5",
                "#B0BEC5",
                "#B0BEC5",
                "#B0BEC5",
                "#B0BEC5",
                "#B0BEC5",
                "#B0BEC5",
                "#B0BEC5",
                "#B0BEC5",
                "#B0BEC5",
                "#B0BEC5",
                "#B0BEC5",
                "#B0BEC5",
                "#B0BEC5",
                "#B0BEC5"
               ]
              ]
             }
            ],
            "label": "Topic 1",
            "method": "update"
           },
           {
            "args": [
             {
              "marker.color": [
               [
                "#B0BEC5",
                "#B0BEC5",
                "red",
                "#B0BEC5",
                "#B0BEC5",
                "#B0BEC5",
                "#B0BEC5",
                "#B0BEC5",
                "#B0BEC5",
                "#B0BEC5",
                "#B0BEC5",
                "#B0BEC5",
                "#B0BEC5",
                "#B0BEC5",
                "#B0BEC5",
                "#B0BEC5",
                "#B0BEC5",
                "#B0BEC5"
               ]
              ]
             }
            ],
            "label": "Topic 2",
            "method": "update"
           },
           {
            "args": [
             {
              "marker.color": [
               [
                "#B0BEC5",
                "#B0BEC5",
                "#B0BEC5",
                "red",
                "#B0BEC5",
                "#B0BEC5",
                "#B0BEC5",
                "#B0BEC5",
                "#B0BEC5",
                "#B0BEC5",
                "#B0BEC5",
                "#B0BEC5",
                "#B0BEC5",
                "#B0BEC5",
                "#B0BEC5",
                "#B0BEC5",
                "#B0BEC5",
                "#B0BEC5"
               ]
              ]
             }
            ],
            "label": "Topic 3",
            "method": "update"
           },
           {
            "args": [
             {
              "marker.color": [
               [
                "#B0BEC5",
                "#B0BEC5",
                "#B0BEC5",
                "#B0BEC5",
                "red",
                "#B0BEC5",
                "#B0BEC5",
                "#B0BEC5",
                "#B0BEC5",
                "#B0BEC5",
                "#B0BEC5",
                "#B0BEC5",
                "#B0BEC5",
                "#B0BEC5",
                "#B0BEC5",
                "#B0BEC5",
                "#B0BEC5",
                "#B0BEC5"
               ]
              ]
             }
            ],
            "label": "Topic 4",
            "method": "update"
           },
           {
            "args": [
             {
              "marker.color": [
               [
                "#B0BEC5",
                "#B0BEC5",
                "#B0BEC5",
                "#B0BEC5",
                "#B0BEC5",
                "red",
                "#B0BEC5",
                "#B0BEC5",
                "#B0BEC5",
                "#B0BEC5",
                "#B0BEC5",
                "#B0BEC5",
                "#B0BEC5",
                "#B0BEC5",
                "#B0BEC5",
                "#B0BEC5",
                "#B0BEC5",
                "#B0BEC5"
               ]
              ]
             }
            ],
            "label": "Topic 5",
            "method": "update"
           },
           {
            "args": [
             {
              "marker.color": [
               [
                "#B0BEC5",
                "#B0BEC5",
                "#B0BEC5",
                "#B0BEC5",
                "#B0BEC5",
                "#B0BEC5",
                "red",
                "#B0BEC5",
                "#B0BEC5",
                "#B0BEC5",
                "#B0BEC5",
                "#B0BEC5",
                "#B0BEC5",
                "#B0BEC5",
                "#B0BEC5",
                "#B0BEC5",
                "#B0BEC5",
                "#B0BEC5"
               ]
              ]
             }
            ],
            "label": "Topic 6",
            "method": "update"
           },
           {
            "args": [
             {
              "marker.color": [
               [
                "#B0BEC5",
                "#B0BEC5",
                "#B0BEC5",
                "#B0BEC5",
                "#B0BEC5",
                "#B0BEC5",
                "#B0BEC5",
                "red",
                "#B0BEC5",
                "#B0BEC5",
                "#B0BEC5",
                "#B0BEC5",
                "#B0BEC5",
                "#B0BEC5",
                "#B0BEC5",
                "#B0BEC5",
                "#B0BEC5",
                "#B0BEC5"
               ]
              ]
             }
            ],
            "label": "Topic 7",
            "method": "update"
           },
           {
            "args": [
             {
              "marker.color": [
               [
                "#B0BEC5",
                "#B0BEC5",
                "#B0BEC5",
                "#B0BEC5",
                "#B0BEC5",
                "#B0BEC5",
                "#B0BEC5",
                "#B0BEC5",
                "red",
                "#B0BEC5",
                "#B0BEC5",
                "#B0BEC5",
                "#B0BEC5",
                "#B0BEC5",
                "#B0BEC5",
                "#B0BEC5",
                "#B0BEC5",
                "#B0BEC5"
               ]
              ]
             }
            ],
            "label": "Topic 8",
            "method": "update"
           },
           {
            "args": [
             {
              "marker.color": [
               [
                "#B0BEC5",
                "#B0BEC5",
                "#B0BEC5",
                "#B0BEC5",
                "#B0BEC5",
                "#B0BEC5",
                "#B0BEC5",
                "#B0BEC5",
                "#B0BEC5",
                "red",
                "#B0BEC5",
                "#B0BEC5",
                "#B0BEC5",
                "#B0BEC5",
                "#B0BEC5",
                "#B0BEC5",
                "#B0BEC5",
                "#B0BEC5"
               ]
              ]
             }
            ],
            "label": "Topic 9",
            "method": "update"
           },
           {
            "args": [
             {
              "marker.color": [
               [
                "#B0BEC5",
                "#B0BEC5",
                "#B0BEC5",
                "#B0BEC5",
                "#B0BEC5",
                "#B0BEC5",
                "#B0BEC5",
                "#B0BEC5",
                "#B0BEC5",
                "#B0BEC5",
                "red",
                "#B0BEC5",
                "#B0BEC5",
                "#B0BEC5",
                "#B0BEC5",
                "#B0BEC5",
                "#B0BEC5",
                "#B0BEC5"
               ]
              ]
             }
            ],
            "label": "Topic 10",
            "method": "update"
           },
           {
            "args": [
             {
              "marker.color": [
               [
                "#B0BEC5",
                "#B0BEC5",
                "#B0BEC5",
                "#B0BEC5",
                "#B0BEC5",
                "#B0BEC5",
                "#B0BEC5",
                "#B0BEC5",
                "#B0BEC5",
                "#B0BEC5",
                "#B0BEC5",
                "red",
                "#B0BEC5",
                "#B0BEC5",
                "#B0BEC5",
                "#B0BEC5",
                "#B0BEC5",
                "#B0BEC5"
               ]
              ]
             }
            ],
            "label": "Topic 11",
            "method": "update"
           },
           {
            "args": [
             {
              "marker.color": [
               [
                "#B0BEC5",
                "#B0BEC5",
                "#B0BEC5",
                "#B0BEC5",
                "#B0BEC5",
                "#B0BEC5",
                "#B0BEC5",
                "#B0BEC5",
                "#B0BEC5",
                "#B0BEC5",
                "#B0BEC5",
                "#B0BEC5",
                "red",
                "#B0BEC5",
                "#B0BEC5",
                "#B0BEC5",
                "#B0BEC5",
                "#B0BEC5"
               ]
              ]
             }
            ],
            "label": "Topic 12",
            "method": "update"
           },
           {
            "args": [
             {
              "marker.color": [
               [
                "#B0BEC5",
                "#B0BEC5",
                "#B0BEC5",
                "#B0BEC5",
                "#B0BEC5",
                "#B0BEC5",
                "#B0BEC5",
                "#B0BEC5",
                "#B0BEC5",
                "#B0BEC5",
                "#B0BEC5",
                "#B0BEC5",
                "#B0BEC5",
                "red",
                "#B0BEC5",
                "#B0BEC5",
                "#B0BEC5",
                "#B0BEC5"
               ]
              ]
             }
            ],
            "label": "Topic 13",
            "method": "update"
           },
           {
            "args": [
             {
              "marker.color": [
               [
                "#B0BEC5",
                "#B0BEC5",
                "#B0BEC5",
                "#B0BEC5",
                "#B0BEC5",
                "#B0BEC5",
                "#B0BEC5",
                "#B0BEC5",
                "#B0BEC5",
                "#B0BEC5",
                "#B0BEC5",
                "#B0BEC5",
                "#B0BEC5",
                "#B0BEC5",
                "red",
                "#B0BEC5",
                "#B0BEC5",
                "#B0BEC5"
               ]
              ]
             }
            ],
            "label": "Topic 14",
            "method": "update"
           },
           {
            "args": [
             {
              "marker.color": [
               [
                "#B0BEC5",
                "#B0BEC5",
                "#B0BEC5",
                "#B0BEC5",
                "#B0BEC5",
                "#B0BEC5",
                "#B0BEC5",
                "#B0BEC5",
                "#B0BEC5",
                "#B0BEC5",
                "#B0BEC5",
                "#B0BEC5",
                "#B0BEC5",
                "#B0BEC5",
                "#B0BEC5",
                "red",
                "#B0BEC5",
                "#B0BEC5"
               ]
              ]
             }
            ],
            "label": "Topic 15",
            "method": "update"
           },
           {
            "args": [
             {
              "marker.color": [
               [
                "#B0BEC5",
                "#B0BEC5",
                "#B0BEC5",
                "#B0BEC5",
                "#B0BEC5",
                "#B0BEC5",
                "#B0BEC5",
                "#B0BEC5",
                "#B0BEC5",
                "#B0BEC5",
                "#B0BEC5",
                "#B0BEC5",
                "#B0BEC5",
                "#B0BEC5",
                "#B0BEC5",
                "#B0BEC5",
                "red",
                "#B0BEC5"
               ]
              ]
             }
            ],
            "label": "Topic 16",
            "method": "update"
           },
           {
            "args": [
             {
              "marker.color": [
               [
                "#B0BEC5",
                "#B0BEC5",
                "#B0BEC5",
                "#B0BEC5",
                "#B0BEC5",
                "#B0BEC5",
                "#B0BEC5",
                "#B0BEC5",
                "#B0BEC5",
                "#B0BEC5",
                "#B0BEC5",
                "#B0BEC5",
                "#B0BEC5",
                "#B0BEC5",
                "#B0BEC5",
                "#B0BEC5",
                "#B0BEC5",
                "red"
               ]
              ]
             }
            ],
            "label": "Topic 17",
            "method": "update"
           }
          ]
         }
        ],
        "template": {
         "data": {
          "bar": [
           {
            "error_x": {
             "color": "rgb(36,36,36)"
            },
            "error_y": {
             "color": "rgb(36,36,36)"
            },
            "marker": {
             "line": {
              "color": "white",
              "width": 0.5
             },
             "pattern": {
              "fillmode": "overlay",
              "size": 10,
              "solidity": 0.2
             }
            },
            "type": "bar"
           }
          ],
          "barpolar": [
           {
            "marker": {
             "line": {
              "color": "white",
              "width": 0.5
             },
             "pattern": {
              "fillmode": "overlay",
              "size": 10,
              "solidity": 0.2
             }
            },
            "type": "barpolar"
           }
          ],
          "carpet": [
           {
            "aaxis": {
             "endlinecolor": "rgb(36,36,36)",
             "gridcolor": "white",
             "linecolor": "white",
             "minorgridcolor": "white",
             "startlinecolor": "rgb(36,36,36)"
            },
            "baxis": {
             "endlinecolor": "rgb(36,36,36)",
             "gridcolor": "white",
             "linecolor": "white",
             "minorgridcolor": "white",
             "startlinecolor": "rgb(36,36,36)"
            },
            "type": "carpet"
           }
          ],
          "choropleth": [
           {
            "colorbar": {
             "outlinewidth": 1,
             "tickcolor": "rgb(36,36,36)",
             "ticks": "outside"
            },
            "type": "choropleth"
           }
          ],
          "contour": [
           {
            "colorbar": {
             "outlinewidth": 1,
             "tickcolor": "rgb(36,36,36)",
             "ticks": "outside"
            },
            "colorscale": [
             [
              0,
              "#440154"
             ],
             [
              0.1111111111111111,
              "#482878"
             ],
             [
              0.2222222222222222,
              "#3e4989"
             ],
             [
              0.3333333333333333,
              "#31688e"
             ],
             [
              0.4444444444444444,
              "#26828e"
             ],
             [
              0.5555555555555556,
              "#1f9e89"
             ],
             [
              0.6666666666666666,
              "#35b779"
             ],
             [
              0.7777777777777778,
              "#6ece58"
             ],
             [
              0.8888888888888888,
              "#b5de2b"
             ],
             [
              1,
              "#fde725"
             ]
            ],
            "type": "contour"
           }
          ],
          "contourcarpet": [
           {
            "colorbar": {
             "outlinewidth": 1,
             "tickcolor": "rgb(36,36,36)",
             "ticks": "outside"
            },
            "type": "contourcarpet"
           }
          ],
          "heatmap": [
           {
            "colorbar": {
             "outlinewidth": 1,
             "tickcolor": "rgb(36,36,36)",
             "ticks": "outside"
            },
            "colorscale": [
             [
              0,
              "#440154"
             ],
             [
              0.1111111111111111,
              "#482878"
             ],
             [
              0.2222222222222222,
              "#3e4989"
             ],
             [
              0.3333333333333333,
              "#31688e"
             ],
             [
              0.4444444444444444,
              "#26828e"
             ],
             [
              0.5555555555555556,
              "#1f9e89"
             ],
             [
              0.6666666666666666,
              "#35b779"
             ],
             [
              0.7777777777777778,
              "#6ece58"
             ],
             [
              0.8888888888888888,
              "#b5de2b"
             ],
             [
              1,
              "#fde725"
             ]
            ],
            "type": "heatmap"
           }
          ],
          "histogram": [
           {
            "marker": {
             "line": {
              "color": "white",
              "width": 0.6
             }
            },
            "type": "histogram"
           }
          ],
          "histogram2d": [
           {
            "colorbar": {
             "outlinewidth": 1,
             "tickcolor": "rgb(36,36,36)",
             "ticks": "outside"
            },
            "colorscale": [
             [
              0,
              "#440154"
             ],
             [
              0.1111111111111111,
              "#482878"
             ],
             [
              0.2222222222222222,
              "#3e4989"
             ],
             [
              0.3333333333333333,
              "#31688e"
             ],
             [
              0.4444444444444444,
              "#26828e"
             ],
             [
              0.5555555555555556,
              "#1f9e89"
             ],
             [
              0.6666666666666666,
              "#35b779"
             ],
             [
              0.7777777777777778,
              "#6ece58"
             ],
             [
              0.8888888888888888,
              "#b5de2b"
             ],
             [
              1,
              "#fde725"
             ]
            ],
            "type": "histogram2d"
           }
          ],
          "histogram2dcontour": [
           {
            "colorbar": {
             "outlinewidth": 1,
             "tickcolor": "rgb(36,36,36)",
             "ticks": "outside"
            },
            "colorscale": [
             [
              0,
              "#440154"
             ],
             [
              0.1111111111111111,
              "#482878"
             ],
             [
              0.2222222222222222,
              "#3e4989"
             ],
             [
              0.3333333333333333,
              "#31688e"
             ],
             [
              0.4444444444444444,
              "#26828e"
             ],
             [
              0.5555555555555556,
              "#1f9e89"
             ],
             [
              0.6666666666666666,
              "#35b779"
             ],
             [
              0.7777777777777778,
              "#6ece58"
             ],
             [
              0.8888888888888888,
              "#b5de2b"
             ],
             [
              1,
              "#fde725"
             ]
            ],
            "type": "histogram2dcontour"
           }
          ],
          "mesh3d": [
           {
            "colorbar": {
             "outlinewidth": 1,
             "tickcolor": "rgb(36,36,36)",
             "ticks": "outside"
            },
            "type": "mesh3d"
           }
          ],
          "parcoords": [
           {
            "line": {
             "colorbar": {
              "outlinewidth": 1,
              "tickcolor": "rgb(36,36,36)",
              "ticks": "outside"
             }
            },
            "type": "parcoords"
           }
          ],
          "pie": [
           {
            "automargin": true,
            "type": "pie"
           }
          ],
          "scatter": [
           {
            "fillpattern": {
             "fillmode": "overlay",
             "size": 10,
             "solidity": 0.2
            },
            "type": "scatter"
           }
          ],
          "scatter3d": [
           {
            "line": {
             "colorbar": {
              "outlinewidth": 1,
              "tickcolor": "rgb(36,36,36)",
              "ticks": "outside"
             }
            },
            "marker": {
             "colorbar": {
              "outlinewidth": 1,
              "tickcolor": "rgb(36,36,36)",
              "ticks": "outside"
             }
            },
            "type": "scatter3d"
           }
          ],
          "scattercarpet": [
           {
            "marker": {
             "colorbar": {
              "outlinewidth": 1,
              "tickcolor": "rgb(36,36,36)",
              "ticks": "outside"
             }
            },
            "type": "scattercarpet"
           }
          ],
          "scattergeo": [
           {
            "marker": {
             "colorbar": {
              "outlinewidth": 1,
              "tickcolor": "rgb(36,36,36)",
              "ticks": "outside"
             }
            },
            "type": "scattergeo"
           }
          ],
          "scattergl": [
           {
            "marker": {
             "colorbar": {
              "outlinewidth": 1,
              "tickcolor": "rgb(36,36,36)",
              "ticks": "outside"
             }
            },
            "type": "scattergl"
           }
          ],
          "scattermap": [
           {
            "marker": {
             "colorbar": {
              "outlinewidth": 1,
              "tickcolor": "rgb(36,36,36)",
              "ticks": "outside"
             }
            },
            "type": "scattermap"
           }
          ],
          "scattermapbox": [
           {
            "marker": {
             "colorbar": {
              "outlinewidth": 1,
              "tickcolor": "rgb(36,36,36)",
              "ticks": "outside"
             }
            },
            "type": "scattermapbox"
           }
          ],
          "scatterpolar": [
           {
            "marker": {
             "colorbar": {
              "outlinewidth": 1,
              "tickcolor": "rgb(36,36,36)",
              "ticks": "outside"
             }
            },
            "type": "scatterpolar"
           }
          ],
          "scatterpolargl": [
           {
            "marker": {
             "colorbar": {
              "outlinewidth": 1,
              "tickcolor": "rgb(36,36,36)",
              "ticks": "outside"
             }
            },
            "type": "scatterpolargl"
           }
          ],
          "scatterternary": [
           {
            "marker": {
             "colorbar": {
              "outlinewidth": 1,
              "tickcolor": "rgb(36,36,36)",
              "ticks": "outside"
             }
            },
            "type": "scatterternary"
           }
          ],
          "surface": [
           {
            "colorbar": {
             "outlinewidth": 1,
             "tickcolor": "rgb(36,36,36)",
             "ticks": "outside"
            },
            "colorscale": [
             [
              0,
              "#440154"
             ],
             [
              0.1111111111111111,
              "#482878"
             ],
             [
              0.2222222222222222,
              "#3e4989"
             ],
             [
              0.3333333333333333,
              "#31688e"
             ],
             [
              0.4444444444444444,
              "#26828e"
             ],
             [
              0.5555555555555556,
              "#1f9e89"
             ],
             [
              0.6666666666666666,
              "#35b779"
             ],
             [
              0.7777777777777778,
              "#6ece58"
             ],
             [
              0.8888888888888888,
              "#b5de2b"
             ],
             [
              1,
              "#fde725"
             ]
            ],
            "type": "surface"
           }
          ],
          "table": [
           {
            "cells": {
             "fill": {
              "color": "rgb(237,237,237)"
             },
             "line": {
              "color": "white"
             }
            },
            "header": {
             "fill": {
              "color": "rgb(217,217,217)"
             },
             "line": {
              "color": "white"
             }
            },
            "type": "table"
           }
          ]
         },
         "layout": {
          "annotationdefaults": {
           "arrowhead": 0,
           "arrowwidth": 1
          },
          "autotypenumbers": "strict",
          "coloraxis": {
           "colorbar": {
            "outlinewidth": 1,
            "tickcolor": "rgb(36,36,36)",
            "ticks": "outside"
           }
          },
          "colorscale": {
           "diverging": [
            [
             0,
             "rgb(103,0,31)"
            ],
            [
             0.1,
             "rgb(178,24,43)"
            ],
            [
             0.2,
             "rgb(214,96,77)"
            ],
            [
             0.3,
             "rgb(244,165,130)"
            ],
            [
             0.4,
             "rgb(253,219,199)"
            ],
            [
             0.5,
             "rgb(247,247,247)"
            ],
            [
             0.6,
             "rgb(209,229,240)"
            ],
            [
             0.7,
             "rgb(146,197,222)"
            ],
            [
             0.8,
             "rgb(67,147,195)"
            ],
            [
             0.9,
             "rgb(33,102,172)"
            ],
            [
             1,
             "rgb(5,48,97)"
            ]
           ],
           "sequential": [
            [
             0,
             "#440154"
            ],
            [
             0.1111111111111111,
             "#482878"
            ],
            [
             0.2222222222222222,
             "#3e4989"
            ],
            [
             0.3333333333333333,
             "#31688e"
            ],
            [
             0.4444444444444444,
             "#26828e"
            ],
            [
             0.5555555555555556,
             "#1f9e89"
            ],
            [
             0.6666666666666666,
             "#35b779"
            ],
            [
             0.7777777777777778,
             "#6ece58"
            ],
            [
             0.8888888888888888,
             "#b5de2b"
            ],
            [
             1,
             "#fde725"
            ]
           ],
           "sequentialminus": [
            [
             0,
             "#440154"
            ],
            [
             0.1111111111111111,
             "#482878"
            ],
            [
             0.2222222222222222,
             "#3e4989"
            ],
            [
             0.3333333333333333,
             "#31688e"
            ],
            [
             0.4444444444444444,
             "#26828e"
            ],
            [
             0.5555555555555556,
             "#1f9e89"
            ],
            [
             0.6666666666666666,
             "#35b779"
            ],
            [
             0.7777777777777778,
             "#6ece58"
            ],
            [
             0.8888888888888888,
             "#b5de2b"
            ],
            [
             1,
             "#fde725"
            ]
           ]
          },
          "colorway": [
           "#1F77B4",
           "#FF7F0E",
           "#2CA02C",
           "#D62728",
           "#9467BD",
           "#8C564B",
           "#E377C2",
           "#7F7F7F",
           "#BCBD22",
           "#17BECF"
          ],
          "font": {
           "color": "rgb(36,36,36)"
          },
          "geo": {
           "bgcolor": "white",
           "lakecolor": "white",
           "landcolor": "white",
           "showlakes": true,
           "showland": true,
           "subunitcolor": "white"
          },
          "hoverlabel": {
           "align": "left"
          },
          "hovermode": "closest",
          "mapbox": {
           "style": "light"
          },
          "paper_bgcolor": "white",
          "plot_bgcolor": "white",
          "polar": {
           "angularaxis": {
            "gridcolor": "rgb(232,232,232)",
            "linecolor": "rgb(36,36,36)",
            "showgrid": false,
            "showline": true,
            "ticks": "outside"
           },
           "bgcolor": "white",
           "radialaxis": {
            "gridcolor": "rgb(232,232,232)",
            "linecolor": "rgb(36,36,36)",
            "showgrid": false,
            "showline": true,
            "ticks": "outside"
           }
          },
          "scene": {
           "xaxis": {
            "backgroundcolor": "white",
            "gridcolor": "rgb(232,232,232)",
            "gridwidth": 2,
            "linecolor": "rgb(36,36,36)",
            "showbackground": true,
            "showgrid": false,
            "showline": true,
            "ticks": "outside",
            "zeroline": false,
            "zerolinecolor": "rgb(36,36,36)"
           },
           "yaxis": {
            "backgroundcolor": "white",
            "gridcolor": "rgb(232,232,232)",
            "gridwidth": 2,
            "linecolor": "rgb(36,36,36)",
            "showbackground": true,
            "showgrid": false,
            "showline": true,
            "ticks": "outside",
            "zeroline": false,
            "zerolinecolor": "rgb(36,36,36)"
           },
           "zaxis": {
            "backgroundcolor": "white",
            "gridcolor": "rgb(232,232,232)",
            "gridwidth": 2,
            "linecolor": "rgb(36,36,36)",
            "showbackground": true,
            "showgrid": false,
            "showline": true,
            "ticks": "outside",
            "zeroline": false,
            "zerolinecolor": "rgb(36,36,36)"
           }
          },
          "shapedefaults": {
           "fillcolor": "black",
           "line": {
            "width": 0
           },
           "opacity": 0.3
          },
          "ternary": {
           "aaxis": {
            "gridcolor": "rgb(232,232,232)",
            "linecolor": "rgb(36,36,36)",
            "showgrid": false,
            "showline": true,
            "ticks": "outside"
           },
           "baxis": {
            "gridcolor": "rgb(232,232,232)",
            "linecolor": "rgb(36,36,36)",
            "showgrid": false,
            "showline": true,
            "ticks": "outside"
           },
           "bgcolor": "white",
           "caxis": {
            "gridcolor": "rgb(232,232,232)",
            "linecolor": "rgb(36,36,36)",
            "showgrid": false,
            "showline": true,
            "ticks": "outside"
           }
          },
          "title": {
           "x": 0.05
          },
          "xaxis": {
           "automargin": true,
           "gridcolor": "rgb(232,232,232)",
           "linecolor": "rgb(36,36,36)",
           "showgrid": false,
           "showline": true,
           "ticks": "outside",
           "title": {
            "standoff": 15
           },
           "zeroline": false,
           "zerolinecolor": "rgb(36,36,36)"
          },
          "yaxis": {
           "automargin": true,
           "gridcolor": "rgb(232,232,232)",
           "linecolor": "rgb(36,36,36)",
           "showgrid": false,
           "showline": true,
           "ticks": "outside",
           "title": {
            "standoff": 15
           },
           "zeroline": false,
           "zerolinecolor": "rgb(36,36,36)"
          }
         }
        },
        "title": {
         "font": {
          "color": "Black",
          "size": 22
         },
         "text": "<b>Intertopic Distance Map</b>",
         "x": 0.5,
         "xanchor": "center",
         "y": 0.95,
         "yanchor": "top"
        },
        "width": 650,
        "xaxis": {
         "anchor": "y",
         "domain": [
          0,
          1
         ],
         "range": [
          -5.748318171501159,
          15.073127174377442
         ],
         "title": {
          "text": ""
         },
         "visible": false
        },
        "yaxis": {
         "anchor": "x",
         "domain": [
          0,
          1
         ],
         "range": [
          -1.0226766169071198,
          17.13148784637451
         ],
         "title": {
          "text": ""
         },
         "visible": false
        }
       }
      },
      "image/png": "[encoded data removed]"
     },
     "metadata": {},
     "output_type": "display_data"
    }
   ],
   "source": [
    "fig = topic_model.visualize_topics()\n",
    "fig.write_html(\"bertopic_topics.html\") \n",
    "fig.show()"
   ]
  },
  {
   "cell_type": "markdown",
   "id": "06410bc6-96b1-4fbd-a7b2-e65b9da665f5",
   "metadata": {},
   "source": [
    "<a id='reduce'></a>\n",
    "\n",
    "# Reducing Overlap\n",
    "\n",
    "If your intertopic distance map shows lots of overlapping bubbles, your model may have produced **too many fine-grained topics**. This is common with large or complex datasets! Similar documents can get split into clusters that aren't really distinct.\n",
    "\n",
    "To make your topics broader and reduce overlap, you can **merge similar topics** using the `.reduce_topics()` method in BERTopic.\n",
    "\n",
    "### How to Reduce the Number of Topics\n",
    "\n",
    "Use the following code to merge topics until only your desired number remain (e.g., 15):"
   ]
  },
  {
   "cell_type": "code",
   "execution_count": 19,
   "id": "a16fe717-69a9-4eaa-bb71-071f469be1e7",
   "metadata": {},
   "outputs": [
    {
     "ename": "ValueError",
     "evalue": "All arrays must be of the same length",
     "output_type": "error",
     "traceback": [
      "\u001b[0;31m---------------------------------------------------------------------------\u001b[0m",
      "\u001b[0;31mValueError\u001b[0m                                Traceback (most recent call last)",
      "Cell \u001b[0;32mIn[19], line 3\u001b[0m\n\u001b[1;32m      1\u001b[0m \u001b[38;5;66;03m# Reduce the number of topics (set to the number you want)\u001b[39;00m\n\u001b[1;32m      2\u001b[0m target_num_topics \u001b[38;5;241m=\u001b[39m \u001b[38;5;241m10\u001b[39m  \u001b[38;5;66;03m# change this as needed\u001b[39;00m\n\u001b[0;32m----> 3\u001b[0m \u001b[43mtopic_model\u001b[49m\u001b[38;5;241;43m.\u001b[39;49m\u001b[43mreduce_topics\u001b[49m\u001b[43m(\u001b[49m\u001b[43mdocs\u001b[49m\u001b[43m,\u001b[49m\u001b[43m \u001b[49m\u001b[43mnr_topics\u001b[49m\u001b[38;5;241;43m=\u001b[39;49m\u001b[43mtarget_num_topics\u001b[49m\u001b[43m)\u001b[49m\n\u001b[1;32m      5\u001b[0m \u001b[38;5;66;03m# Re-visualize the intertopic distance map\u001b[39;00m\n\u001b[1;32m      6\u001b[0m fig \u001b[38;5;241m=\u001b[39m topic_model\u001b[38;5;241m.\u001b[39mvisualize_topics()\n",
      "File \u001b[0;32m~/anaconda3/envs/dlab/lib/python3.10/site-packages/bertopic/_bertopic.py:2221\u001b[0m, in \u001b[0;36mBERTopic.reduce_topics\u001b[0;34m(self, docs, nr_topics, images, use_ctfidf)\u001b[0m\n\u001b[1;32m   2218\u001b[0m check_documents_type(docs)\n\u001b[1;32m   2220\u001b[0m \u001b[38;5;28mself\u001b[39m\u001b[38;5;241m.\u001b[39mnr_topics \u001b[38;5;241m=\u001b[39m nr_topics\n\u001b[0;32m-> 2221\u001b[0m documents \u001b[38;5;241m=\u001b[39m \u001b[43mpd\u001b[49m\u001b[38;5;241;43m.\u001b[39;49m\u001b[43mDataFrame\u001b[49m\u001b[43m(\u001b[49m\n\u001b[1;32m   2222\u001b[0m \u001b[43m    \u001b[49m\u001b[43m{\u001b[49m\n\u001b[1;32m   2223\u001b[0m \u001b[43m        \u001b[49m\u001b[38;5;124;43m\"\u001b[39;49m\u001b[38;5;124;43mDocument\u001b[39;49m\u001b[38;5;124;43m\"\u001b[39;49m\u001b[43m:\u001b[49m\u001b[43m \u001b[49m\u001b[43mdocs\u001b[49m\u001b[43m,\u001b[49m\n\u001b[1;32m   2224\u001b[0m \u001b[43m        \u001b[49m\u001b[38;5;124;43m\"\u001b[39;49m\u001b[38;5;124;43mTopic\u001b[39;49m\u001b[38;5;124;43m\"\u001b[39;49m\u001b[43m:\u001b[49m\u001b[43m \u001b[49m\u001b[38;5;28;43mself\u001b[39;49m\u001b[38;5;241;43m.\u001b[39;49m\u001b[43mtopics_\u001b[49m\u001b[43m,\u001b[49m\n\u001b[1;32m   2225\u001b[0m \u001b[43m        \u001b[49m\u001b[38;5;124;43m\"\u001b[39;49m\u001b[38;5;124;43mImage\u001b[39;49m\u001b[38;5;124;43m\"\u001b[39;49m\u001b[43m:\u001b[49m\u001b[43m \u001b[49m\u001b[43mimages\u001b[49m\u001b[43m,\u001b[49m\n\u001b[1;32m   2226\u001b[0m \u001b[43m        \u001b[49m\u001b[38;5;124;43m\"\u001b[39;49m\u001b[38;5;124;43mID\u001b[39;49m\u001b[38;5;124;43m\"\u001b[39;49m\u001b[43m:\u001b[49m\u001b[43m \u001b[49m\u001b[38;5;28;43mrange\u001b[39;49m\u001b[43m(\u001b[49m\u001b[38;5;28;43mlen\u001b[39;49m\u001b[43m(\u001b[49m\u001b[43mdocs\u001b[49m\u001b[43m)\u001b[49m\u001b[43m)\u001b[49m\u001b[43m,\u001b[49m\n\u001b[1;32m   2227\u001b[0m \u001b[43m    \u001b[49m\u001b[43m}\u001b[49m\n\u001b[1;32m   2228\u001b[0m \u001b[43m\u001b[49m\u001b[43m)\u001b[49m\n\u001b[1;32m   2230\u001b[0m \u001b[38;5;66;03m# Reduce number of topics\u001b[39;00m\n\u001b[1;32m   2231\u001b[0m documents \u001b[38;5;241m=\u001b[39m \u001b[38;5;28mself\u001b[39m\u001b[38;5;241m.\u001b[39m_reduce_topics(documents, use_ctfidf)\n",
      "File \u001b[0;32m~/anaconda3/envs/dlab/lib/python3.10/site-packages/pandas/core/frame.py:778\u001b[0m, in \u001b[0;36mDataFrame.__init__\u001b[0;34m(self, data, index, columns, dtype, copy)\u001b[0m\n\u001b[1;32m    772\u001b[0m     mgr \u001b[38;5;241m=\u001b[39m \u001b[38;5;28mself\u001b[39m\u001b[38;5;241m.\u001b[39m_init_mgr(\n\u001b[1;32m    773\u001b[0m         data, axes\u001b[38;5;241m=\u001b[39m{\u001b[38;5;124m\"\u001b[39m\u001b[38;5;124mindex\u001b[39m\u001b[38;5;124m\"\u001b[39m: index, \u001b[38;5;124m\"\u001b[39m\u001b[38;5;124mcolumns\u001b[39m\u001b[38;5;124m\"\u001b[39m: columns}, dtype\u001b[38;5;241m=\u001b[39mdtype, copy\u001b[38;5;241m=\u001b[39mcopy\n\u001b[1;32m    774\u001b[0m     )\n\u001b[1;32m    776\u001b[0m \u001b[38;5;28;01melif\u001b[39;00m \u001b[38;5;28misinstance\u001b[39m(data, \u001b[38;5;28mdict\u001b[39m):\n\u001b[1;32m    777\u001b[0m     \u001b[38;5;66;03m# GH#38939 de facto copy defaults to False only in non-dict cases\u001b[39;00m\n\u001b[0;32m--> 778\u001b[0m     mgr \u001b[38;5;241m=\u001b[39m \u001b[43mdict_to_mgr\u001b[49m\u001b[43m(\u001b[49m\u001b[43mdata\u001b[49m\u001b[43m,\u001b[49m\u001b[43m \u001b[49m\u001b[43mindex\u001b[49m\u001b[43m,\u001b[49m\u001b[43m \u001b[49m\u001b[43mcolumns\u001b[49m\u001b[43m,\u001b[49m\u001b[43m \u001b[49m\u001b[43mdtype\u001b[49m\u001b[38;5;241;43m=\u001b[39;49m\u001b[43mdtype\u001b[49m\u001b[43m,\u001b[49m\u001b[43m \u001b[49m\u001b[43mcopy\u001b[49m\u001b[38;5;241;43m=\u001b[39;49m\u001b[43mcopy\u001b[49m\u001b[43m,\u001b[49m\u001b[43m \u001b[49m\u001b[43mtyp\u001b[49m\u001b[38;5;241;43m=\u001b[39;49m\u001b[43mmanager\u001b[49m\u001b[43m)\u001b[49m\n\u001b[1;32m    779\u001b[0m \u001b[38;5;28;01melif\u001b[39;00m \u001b[38;5;28misinstance\u001b[39m(data, ma\u001b[38;5;241m.\u001b[39mMaskedArray):\n\u001b[1;32m    780\u001b[0m     \u001b[38;5;28;01mfrom\u001b[39;00m \u001b[38;5;21;01mnumpy\u001b[39;00m\u001b[38;5;21;01m.\u001b[39;00m\u001b[38;5;21;01mma\u001b[39;00m \u001b[38;5;28;01mimport\u001b[39;00m mrecords\n",
      "File \u001b[0;32m~/anaconda3/envs/dlab/lib/python3.10/site-packages/pandas/core/internals/construction.py:503\u001b[0m, in \u001b[0;36mdict_to_mgr\u001b[0;34m(data, index, columns, dtype, typ, copy)\u001b[0m\n\u001b[1;32m    499\u001b[0m     \u001b[38;5;28;01melse\u001b[39;00m:\n\u001b[1;32m    500\u001b[0m         \u001b[38;5;66;03m# dtype check to exclude e.g. range objects, scalars\u001b[39;00m\n\u001b[1;32m    501\u001b[0m         arrays \u001b[38;5;241m=\u001b[39m [x\u001b[38;5;241m.\u001b[39mcopy() \u001b[38;5;28;01mif\u001b[39;00m \u001b[38;5;28mhasattr\u001b[39m(x, \u001b[38;5;124m\"\u001b[39m\u001b[38;5;124mdtype\u001b[39m\u001b[38;5;124m\"\u001b[39m) \u001b[38;5;28;01melse\u001b[39;00m x \u001b[38;5;28;01mfor\u001b[39;00m x \u001b[38;5;129;01min\u001b[39;00m arrays]\n\u001b[0;32m--> 503\u001b[0m \u001b[38;5;28;01mreturn\u001b[39;00m \u001b[43marrays_to_mgr\u001b[49m\u001b[43m(\u001b[49m\u001b[43marrays\u001b[49m\u001b[43m,\u001b[49m\u001b[43m \u001b[49m\u001b[43mcolumns\u001b[49m\u001b[43m,\u001b[49m\u001b[43m \u001b[49m\u001b[43mindex\u001b[49m\u001b[43m,\u001b[49m\u001b[43m \u001b[49m\u001b[43mdtype\u001b[49m\u001b[38;5;241;43m=\u001b[39;49m\u001b[43mdtype\u001b[49m\u001b[43m,\u001b[49m\u001b[43m \u001b[49m\u001b[43mtyp\u001b[49m\u001b[38;5;241;43m=\u001b[39;49m\u001b[43mtyp\u001b[49m\u001b[43m,\u001b[49m\u001b[43m \u001b[49m\u001b[43mconsolidate\u001b[49m\u001b[38;5;241;43m=\u001b[39;49m\u001b[43mcopy\u001b[49m\u001b[43m)\u001b[49m\n",
      "File \u001b[0;32m~/anaconda3/envs/dlab/lib/python3.10/site-packages/pandas/core/internals/construction.py:114\u001b[0m, in \u001b[0;36marrays_to_mgr\u001b[0;34m(arrays, columns, index, dtype, verify_integrity, typ, consolidate)\u001b[0m\n\u001b[1;32m    111\u001b[0m \u001b[38;5;28;01mif\u001b[39;00m verify_integrity:\n\u001b[1;32m    112\u001b[0m     \u001b[38;5;66;03m# figure out the index, if necessary\u001b[39;00m\n\u001b[1;32m    113\u001b[0m     \u001b[38;5;28;01mif\u001b[39;00m index \u001b[38;5;129;01mis\u001b[39;00m \u001b[38;5;28;01mNone\u001b[39;00m:\n\u001b[0;32m--> 114\u001b[0m         index \u001b[38;5;241m=\u001b[39m \u001b[43m_extract_index\u001b[49m\u001b[43m(\u001b[49m\u001b[43marrays\u001b[49m\u001b[43m)\u001b[49m\n\u001b[1;32m    115\u001b[0m     \u001b[38;5;28;01melse\u001b[39;00m:\n\u001b[1;32m    116\u001b[0m         index \u001b[38;5;241m=\u001b[39m ensure_index(index)\n",
      "File \u001b[0;32m~/anaconda3/envs/dlab/lib/python3.10/site-packages/pandas/core/internals/construction.py:677\u001b[0m, in \u001b[0;36m_extract_index\u001b[0;34m(data)\u001b[0m\n\u001b[1;32m    675\u001b[0m lengths \u001b[38;5;241m=\u001b[39m \u001b[38;5;28mlist\u001b[39m(\u001b[38;5;28mset\u001b[39m(raw_lengths))\n\u001b[1;32m    676\u001b[0m \u001b[38;5;28;01mif\u001b[39;00m \u001b[38;5;28mlen\u001b[39m(lengths) \u001b[38;5;241m>\u001b[39m \u001b[38;5;241m1\u001b[39m:\n\u001b[0;32m--> 677\u001b[0m     \u001b[38;5;28;01mraise\u001b[39;00m \u001b[38;5;167;01mValueError\u001b[39;00m(\u001b[38;5;124m\"\u001b[39m\u001b[38;5;124mAll arrays must be of the same length\u001b[39m\u001b[38;5;124m\"\u001b[39m)\n\u001b[1;32m    679\u001b[0m \u001b[38;5;28;01mif\u001b[39;00m have_dicts:\n\u001b[1;32m    680\u001b[0m     \u001b[38;5;28;01mraise\u001b[39;00m \u001b[38;5;167;01mValueError\u001b[39;00m(\n\u001b[1;32m    681\u001b[0m         \u001b[38;5;124m\"\u001b[39m\u001b[38;5;124mMixing dicts with non-Series may lead to ambiguous ordering.\u001b[39m\u001b[38;5;124m\"\u001b[39m\n\u001b[1;32m    682\u001b[0m     )\n",
      "\u001b[0;31mValueError\u001b[0m: All arrays must be of the same length"
     ]
    }
   ],
   "source": [
    "# Reduce the number of topics (set to the number you want)\n",
    "target_num_topics = 10  # change this as needed\n",
    "topic_model.reduce_topics(docs, nr_topics=target_num_topics)\n",
    "\n",
    "# Re-visualize the intertopic distance map\n",
    "fig = topic_model.visualize_topics()\n",
    "\n",
    "fig.write_html(f\"outputs_lesson/bertopic_topics_{target_num_topics}.html\")\n",
    "fig.show()"
   ]
  },
  {
   "cell_type": "markdown",
   "id": "5864d65a-91b5-49de-a94f-4b671f9a8d57",
   "metadata": {},
   "source": [
    "As you can tell, we no longer have so many overlapping topics. That's good!"
   ]
  },
  {
   "cell_type": "markdown",
   "id": "678c5c27-a56a-4248-b3a9-01e4cf2e2909",
   "metadata": {},
   "source": [
    "## Visualizing Topic Frequencies\n",
    "Let's create a bar chart of most common topics (excluding outliers)."
   ]
  },
  {
   "cell_type": "code",
   "execution_count": 33,
   "id": "4c66e66b",
   "metadata": {
    "scrolled": true
   },
   "outputs": [
    {
     "name": "stdout",
     "output_type": "stream",
     "text": [
      "    Topic  Count                              Name\n",
      "1       0   3112       0_wedding_told_said_brother\n",
      "2       1    658             1_money_work_pay_home\n",
      "3       2    646           2_dog_cat_dogs_roommate\n",
      "4       3    607             3_food_eat_vegan_meat\n",
      "5       4    509         4_work_office_manager_job\n",
      "6       5    409        5_friends_friend_said_like\n",
      "7       6    193             6_hair_cut_long_shave\n",
      "8       7    173  7_class_teacher_students_student\n",
      "9       8    166    8_white_language_asian_culture\n",
      "10      9    134   9_gifts_gift_birthday_christmas\n"
     ]
    },
    {
     "data": {
      "image/png": "[encoded data removed]",
      "text/plain": [
       "<Figure size 800x500 with 1 Axes>"
      ]
     },
     "metadata": {},
     "output_type": "display_data"
    }
   ],
   "source": [
    "import matplotlib.pyplot as plt\n",
    "\n",
    "freq_df = topic_model.get_topic_info()\n",
    "freq_df = freq_df[freq_df.Topic != -1]   # remove outlier topic -1\n",
    "freq_df = freq_df.sort_values('Count', ascending=False)\n",
    "top_n = 10\n",
    "freq_top_n = freq_df.head(top_n)\n",
    "print(freq_top_n[['Topic', 'Count', 'Name']])\n",
    "\n",
    "plt.figure(figsize=(8,5))\n",
    "plt.bar(range(len(freq_top_n)), freq_top_n['Count'], color='skyblue')\n",
    "plt.xticks(range(len(freq_top_n)), [str(t) for t in freq_top_n['Topic']], rotation=45)\n",
    "plt.title(f'Top {top_n} Topic Frequencies')\n",
    "plt.xlabel('Topic')\n",
    "plt.ylabel('Number of Posts')\n",
    "plt.savefig(f\"outputs_lesson/top_{top_n}_topic_frequencies.png\", dpi=300)\n",
    "plt.show()"
   ]
  },
  {
   "cell_type": "markdown",
   "id": "2e3d84b6",
   "metadata": {},
   "source": [
    "<a id='repr'></a>\n",
    "\n",
    "# Finding Representative Posts\n",
    "\n",
    "We can use BERTopic to find representative posts for a topic. So if you're interested in exploring posts from a particular topic, this is how you do that.\n",
    "\n",
    "Let's first look at the top words for each topic:"
   ]
  },
  {
   "cell_type": "code",
   "execution_count": 34,
   "id": "33b2689c-07ac-4c46-9b7c-df5fb32134ed",
   "metadata": {},
   "outputs": [
    {
     "name": "stdout",
     "output_type": "stream",
     "text": [
      "Topic 0: wedding, told, said, brother, family, mom, sister, dad, want, got\n",
      "Topic 1: money, work, pay, home, house, time, kids, daughter, husband, wife\n",
      "Topic 2: dog, cat, dogs, roommate, like, house, said, home, cats, told\n",
      "Topic 3: food, eat, vegan, meat, weight, eating, like, said, cook, told\n",
      "Topic 4: work, office, manager, job, said, company, boss, people, told, like\n",
      "Topic 5: friends, friend, said, like, told, guy, gay, girlfriend, people, know\n",
      "Topic 6: hair, cut, long, shave, like, daughter, said, look, haircut, told\n",
      "Topic 7: class, teacher, students, student, school, professor, grade, said, told, teachers\n",
      "Topic 8: white, language, asian, culture, irish, english, racist, speak, accent, japanese\n",
      "Topic 9: gifts, gift, birthday, christmas, year, got, like, said, family, presents\n",
      "Topic 10: son, said, school, wife, kids, kid, told, like, home, got\n",
      "Topic 11: clothes, wear, wearing, bra, bras, like, dress, size, boobs, shirt\n",
      "Topic 12: boyfriend, time, like, said, work, bf, cook, job, home, told\n",
      "Topic 13: laptop, car, money, pay, said, account, told, got, drive, pc\n",
      "Topic 14: seat, seats, flight, plane, bus, sit, flightattendant, windowseat, sitting, row\n",
      "Topic 15: church, religion, religious, christian, god, faith, beliefs, atheist, family, want\n",
      "Topic 16: car, parking, spot, parked, park, street, driveway, towed, driving, drive\n",
      "Topic 17: pads, tampons, period, bathroom, sister, tampon, use, pad, shower, underwear\n",
      "Topic 18: gym, women, workout, girl, like, said, changing, people, area, pretty\n",
      "Topic 19: weed, smoke, smoking, house, drugs, marijuana, son, home, outside, smokeweed\n",
      "Topic 20: drinking, drink, alcohol, beer, drinks, bourbon, bottle, alcoholic, drunk, liquor\n",
      "Topic 21: posts, rule, mod, post, validation, sub, thread, comment, award, consensus\n",
      "Topic 22: tattoo, tattoos, artist, tattooed, getting, like, body, told, want, got\n",
      "Topic 23: adoption, adopted, adoptive, parents, adopt, child, bio, family, biological, adopting\n",
      "Topic 24: ps5, games, switch, money, console, play, ps4, playstation, controllers, nintendoswitch\n",
      "Topic 25: deaf, hearing, school, signlanguage, interpreter, asl, hoh, sign, said, public\n",
      "Topic 26: piercings, piercing, earspierced, earrings, pierced, ear, daughter, ears, hair, saline\n",
      "Topic 27: height, heels, taller, shorter, tall, wearing, short, lidia, said, date\n",
      "Topic 28: names, family, middle, hyphenated, surname, wife, want, hyphenate, naming, married\n"
     ]
    }
   ],
   "source": [
    "for topic_num in topic_model.get_topic_info().Topic:\n",
    "    if topic_num == -1:\n",
    "        continue  # skip the outlier topic if you want\n",
    "    top_words = [word for word, _ in topic_model.get_topic(topic_num)]\n",
    "    print(f\"Topic {topic_num}: {', '.join(top_words)}\")"
   ]
  },
  {
   "cell_type": "markdown",
   "id": "7145fd04-f979-44da-b2bc-7866d754cf8a",
   "metadata": {},
   "source": [
    "Let's say I'm interested in topic 6, which (in my case) seems to be about haircuts.\n",
    "\n",
    "**⚠️ Warning:** If you run this code again your topics might look different due to the probabilistic nature of UMAP. "
   ]
  },
  {
   "cell_type": "code",
   "execution_count": 36,
   "id": "c2eae87c-596b-4a0d-913b-5b16f89d3cc0",
   "metadata": {},
   "outputs": [
    {
     "name": "stdout",
     "output_type": "stream",
     "text": [
      "Example 1 for topic 6:\n",
      " m gf f. waist length brown hair looks great takes care hair lot look way complains frequently hair hard way heavy starting headaches hard brush etc tell bun times way past week started talking lot getting trim rid dry ends problem hair needs trimmed anyways days_ago work work came home look bathroom knocked_door said come surprisei walk bathroom hair completely butchered relevant cosmetology knowledge hair cutting know little shorter bob length tried type layers think botched karen hair cut uneven inch half bangs tried choppy literally poking eye uneven parts hair longer help stand cringe looked bad told straight salon fixed pay going lie told looks horrible genuinely happy new hair cut disbelief got upset like long hair told case completely botched hair mad saying hair looks horrible idk aita \n",
      "\n",
      "Example 2 for topic 6:\n",
      " yesterday haircut time forever obvious_reasons hair long thick getting tangled constantly trim needed went salon stylist agreed length wanted chest length hair reaching rib cage anyways washed hair hair little bit tangled expected wanted small haircut know length hair nt tangled decided hair needed shorter tangled cut right shoulder_length devastating seeing hair cut like started idea cutting short late bc hate confrontation flaw know leave bad yelp review got home saw mirror bursted tears seeing short hair having stressful time life haircut tipping point broke know hair grow took years grow hair medical_condition kid hair short wanted long hair like friends school able long ish hair past couple years frustrated bf saw crying told big_deal self_centered thing cry haircut obviously worse things going world idk aita crying hair definitely problem \n",
      "\n",
      "Example 3 for topic 6:\n",
      " obviously today came wondering wrong year_old grandson hair grows insanely fast hair past shoulders got haircut months old daughter super picky hair pretty refuses try new hairstylists necessary finds likes wo hair starting pretty long messy haircut said money moment cut anytime mentioned asked cut said use stylist kids place tip haircuts nearly $ said want spend year_olds hair place usually refused let dropped bit later watched sick prescription asked grab figured pass time waiting medicine haircut took stylist charge like $ kids cutting childrens hair hard time cutting moving ended best horrible fairly choppy uneven way going able fix kept pulling away trying push scissors away anyways took home freaked second saw asking hell child hair told took hair cut said exactly said place sons hair screwed cut short able properly fixed shaving nearly tears told simply trying help hair getting long messy want hear time saw talked comment awful poor hair looked sure hoped hurried grew cut properly cut later haircut telling stylist listen time let screw hair told know getting hair cut wait month baby thought big_deal mad husband actually upset wife got mad hairstylist laughed said yeah grandpa lost privileges haircuts screw talking ta \n",
      "\n"
     ]
    }
   ],
   "source": [
    "topic_num = 6  # pick any topic number you see in topic_info\n",
    "examples = topic_model.get_representative_docs(topic_num)\n",
    "for i, doc in enumerate(examples[:3]):  # show up to 3 examples\n",
    "    print(f\"Example {i+1} for topic {topic_num}:\\n\", doc, \"\\n\")"
   ]
  },
  {
   "cell_type": "code",
   "execution_count": null,
   "id": "e493f606-cf85-4a01-b68d-78fb48cf2e56",
   "metadata": {},
   "outputs": [],
   "source": []
  }
 ],
 "metadata": {
  "kernelspec": {
   "display_name": "dlab",
   "language": "python",
   "name": "dlab"
  },
  "language_info": {
   "codemirror_mode": {
    "name": "ipython",
    "version": 3
   },
   "file_extension": ".py",
   "mimetype": "text/x-python",
   "name": "python",
   "nbconvert_exporter": "python",
   "pygments_lexer": "ipython3",
   "version": "3.10.14"
  }
 },
 "nbformat": 4,
 "nbformat_minor": 5
}
