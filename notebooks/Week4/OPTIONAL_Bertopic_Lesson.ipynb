{
 "cells": [
  {
   "cell_type": "markdown",
   "id": "0c6fcb1a-7bb6-47f6-af4b-3a3e94a7c91e",
   "metadata": {
    "id": "WClw_VPOmwXd"
   },
   "source": [
    "<img src=\"../../img/backdrop-wh.png\" alt=\"Drawing\" style=\"width: 300px;\"/>\n",
    "\n",
    "# Topic Modeling With BERTopic\n",
    "\n",
    "* * * \n",
    "\n",
    "<div class=\"alert alert-success\">  \n",
    "    \n",
    "### Learning Objectives \n",
    "    \n",
    "* Use BERTopic to group r/AmItheAsshole submissions by the issues people write about.\n",
    "* Interpret and visualize the topics found by the model.\n",
    "* Try out ways to improve or simplify the model when topics overlap too much or don’t make sense.\n",
    "* Practice naming and describing topics, and using them to organize or classify new text.\n",
    "</div>\n",
    "\n",
    "### Icons Used in This Notebook\n",
    "💡 **Tip**: How to do something a bit more efficiently or effectively.<br>\n",
    "⚠️ **Warning:** Heads-up about tricky stuff or common mistakes.<br>\n",
    "💭 **Reflection**: Reflecting on ethical implications, biases, and social impact in data science.<br>\n",
    "\n",
    "### Sections\n",
    "1. [Topic Modeling with BERTopic](#topic)\n",
    "2. [Explore Selected Topics](#explore)\n",
    "3. [Reducing Overlap](#reduce)\n",
    "4. [Finding Representative Posts](#repr)\n"
   ]
  },
  {
   "cell_type": "markdown",
   "id": "a5284942",
   "metadata": {},
   "source": [
    "<a id='topic'></a>\n",
    "\n",
    "# Topic Modeling with BERTopic\n",
    "\n",
    "In this optional notebook, we explore **BERTopic**, a topic modeling tool that leverages BERT embeddings and [c-TF-IDF](https://maartengr.github.io/BERTopic/api/ctfidf.html), to extract topics. It is a more \"modern\" topic modeling approach than the one we explore in our other notebook, and it can be interesting to compare topic model outputs between the approaches!\n",
    "\n",
    "## About BERT Embeddings\n",
    "BERT embeddings are vector representations of text created by the BERT model, which is a large transformer-based neural network trained to understand language context. Unlike traditional word embeddings (like word2vec), BERT creates contextual embeddings. That means the same word will have different vector representations depending on its surrounding words. BERT processes entire sentences at once, using its attention mechanism to capture meaning and relationships between words.\n",
    "\n",
    "BERTopic works as follows:\n",
    "\n",
    "- **Understands text using BERT:**  \n",
    "Instead of just counting words, BERTopic uses a language model (BERT or similar) to turn each document into a “vector”—a list of numbers that captures its meaning and context. This makes it better at grouping together texts that talk about similar things, even if they use different words.\n",
    "\n",
    "- **Clusters similar documents:**  \n",
    "BERTopic then looks for clusters (groups) of documents that are close to each other in this vector space. It uses an algorithm called **HDBSCAN** that decides, based on the data, how many clusters (topics) make sense. This means you don’t have to guess the number of topics in advance.\n",
    "\n",
    "- **Finds key words for each topic:**  \n",
    "For every cluster it finds, BERTopic looks for the most important words that make this group unique compared to the rest of your data. These words help you quickly understand what each topic is about.\n",
    "\n",
    "- **Visualizes topics and documents:**  \n",
    "BERTopic comes with interactive tools to show you how your topics relate to each other, how common each topic is, and where your documents fit in."
   ]
  },
  {
   "cell_type": "markdown",
   "id": "9627a32f-e19d-4142-ba09-7ed81a4fe2ce",
   "metadata": {},
   "source": [
    "### Note on package installation\n",
    "This cell makes sure all the Python packages needed for this lesson are installed.\n",
    "If you’re working on Datahub, you might not have everything yet.\n",
    "Running this cell will check for each package and install it if it’s missing, so your notebook runs smoothly.\n",
    "\n",
    "- If you are running this notebook on **DataHub**, you may need to **uncomment and run** the `%pip install ...` line below if you get an error about a missing package. Restart your kernel after running this cell!\n",
    "- If you are working **locally** (on your own computer), you should already have all required packages installed via your Conda environment (see the ***\"Local Python and Jupyter Setup\"*** page on bCourses). Only use the `pip install` line if you see an ImportError and know what you’re doing."
   ]
  },
  {
   "cell_type": "code",
   "execution_count": 5,
   "id": "0c2f05b1-a24a-4674-8ae5-643f134b68c6",
   "metadata": {
    "scrolled": true
   },
   "outputs": [
    {
     "name": "stdout",
     "output_type": "stream",
     "text": [
      "Collecting bertopic\n",
      "  Using cached bertopic-0.17.0-py3-none-any.whl.metadata (23 kB)\n",
      "Collecting hdbscan>=0.8.29 (from bertopic)\n",
      "  Using cached hdbscan-0.8.40-cp310-cp310-macosx_11_0_arm64.whl\n",
      "Requirement already satisfied: numpy>=1.20.0 in /Users/tomvannuenen/anaconda3/envs/dlab/lib/python3.10/site-packages (from bertopic) (1.26.4)\n",
      "Requirement already satisfied: pandas>=1.1.5 in /Users/tomvannuenen/anaconda3/envs/dlab/lib/python3.10/site-packages (from bertopic) (2.2.3)\n",
      "Requirement already satisfied: plotly>=4.7.0 in /Users/tomvannuenen/anaconda3/envs/dlab/lib/python3.10/site-packages (from bertopic) (6.1.2)\n",
      "Requirement already satisfied: scikit-learn>=1.0 in /Users/tomvannuenen/anaconda3/envs/dlab/lib/python3.10/site-packages (from bertopic) (1.6.1)\n",
      "Requirement already satisfied: sentence-transformers>=0.4.1 in /Users/tomvannuenen/anaconda3/envs/dlab/lib/python3.10/site-packages (from bertopic) (4.1.0)\n",
      "Requirement already satisfied: tqdm>=4.41.1 in /Users/tomvannuenen/anaconda3/envs/dlab/lib/python3.10/site-packages (from bertopic) (4.65.0)\n",
      "Requirement already satisfied: umap-learn>=0.5.0 in /Users/tomvannuenen/anaconda3/envs/dlab/lib/python3.10/site-packages (from bertopic) (0.5.7)\n",
      "Requirement already satisfied: scipy>=1.0 in /Users/tomvannuenen/anaconda3/envs/dlab/lib/python3.10/site-packages (from hdbscan>=0.8.29->bertopic) (1.15.2)\n",
      "Requirement already satisfied: joblib>=1.0 in /Users/tomvannuenen/anaconda3/envs/dlab/lib/python3.10/site-packages (from hdbscan>=0.8.29->bertopic) (1.3.1)\n",
      "Requirement already satisfied: python-dateutil>=2.8.2 in /Users/tomvannuenen/anaconda3/envs/dlab/lib/python3.10/site-packages (from pandas>=1.1.5->bertopic) (2.8.2)\n",
      "Requirement already satisfied: pytz>=2020.1 in /Users/tomvannuenen/anaconda3/envs/dlab/lib/python3.10/site-packages (from pandas>=1.1.5->bertopic) (2022.7)\n",
      "Requirement already satisfied: tzdata>=2022.7 in /Users/tomvannuenen/anaconda3/envs/dlab/lib/python3.10/site-packages (from pandas>=1.1.5->bertopic) (2023.3)\n",
      "Requirement already satisfied: narwhals>=1.15.1 in /Users/tomvannuenen/anaconda3/envs/dlab/lib/python3.10/site-packages (from plotly>=4.7.0->bertopic) (1.41.0)\n",
      "Requirement already satisfied: packaging in /Users/tomvannuenen/anaconda3/envs/dlab/lib/python3.10/site-packages (from plotly>=4.7.0->bertopic) (25.0)\n",
      "Requirement already satisfied: six>=1.5 in /Users/tomvannuenen/anaconda3/envs/dlab/lib/python3.10/site-packages (from python-dateutil>=2.8.2->pandas>=1.1.5->bertopic) (1.16.0)\n",
      "Requirement already satisfied: threadpoolctl>=3.1.0 in /Users/tomvannuenen/anaconda3/envs/dlab/lib/python3.10/site-packages (from scikit-learn>=1.0->bertopic) (3.2.0)\n",
      "Requirement already satisfied: transformers<5.0.0,>=4.41.0 in /Users/tomvannuenen/anaconda3/envs/dlab/lib/python3.10/site-packages (from sentence-transformers>=0.4.1->bertopic) (4.51.3)\n",
      "Requirement already satisfied: torch>=1.11.0 in /Users/tomvannuenen/anaconda3/envs/dlab/lib/python3.10/site-packages (from sentence-transformers>=0.4.1->bertopic) (2.1.1)\n",
      "Requirement already satisfied: huggingface-hub>=0.20.0 in /Users/tomvannuenen/anaconda3/envs/dlab/lib/python3.10/site-packages (from sentence-transformers>=0.4.1->bertopic) (0.31.2)\n",
      "Requirement already satisfied: Pillow in /Users/tomvannuenen/anaconda3/envs/dlab/lib/python3.10/site-packages (from sentence-transformers>=0.4.1->bertopic) (10.0.0)\n",
      "Requirement already satisfied: typing_extensions>=4.5.0 in /Users/tomvannuenen/anaconda3/envs/dlab/lib/python3.10/site-packages (from sentence-transformers>=0.4.1->bertopic) (4.13.2)\n",
      "Requirement already satisfied: filelock in /Users/tomvannuenen/anaconda3/envs/dlab/lib/python3.10/site-packages (from transformers<5.0.0,>=4.41.0->sentence-transformers>=0.4.1->bertopic) (3.13.1)\n",
      "Requirement already satisfied: pyyaml>=5.1 in /Users/tomvannuenen/anaconda3/envs/dlab/lib/python3.10/site-packages (from transformers<5.0.0,>=4.41.0->sentence-transformers>=0.4.1->bertopic) (6.0.1)\n",
      "Requirement already satisfied: regex!=2019.12.17 in /Users/tomvannuenen/anaconda3/envs/dlab/lib/python3.10/site-packages (from transformers<5.0.0,>=4.41.0->sentence-transformers>=0.4.1->bertopic) (2023.6.3)\n",
      "Requirement already satisfied: requests in /Users/tomvannuenen/anaconda3/envs/dlab/lib/python3.10/site-packages (from transformers<5.0.0,>=4.41.0->sentence-transformers>=0.4.1->bertopic) (2.32.3)\n",
      "Requirement already satisfied: tokenizers<0.22,>=0.21 in /Users/tomvannuenen/anaconda3/envs/dlab/lib/python3.10/site-packages (from transformers<5.0.0,>=4.41.0->sentence-transformers>=0.4.1->bertopic) (0.21.1)\n",
      "Requirement already satisfied: safetensors>=0.4.3 in /Users/tomvannuenen/anaconda3/envs/dlab/lib/python3.10/site-packages (from transformers<5.0.0,>=4.41.0->sentence-transformers>=0.4.1->bertopic) (0.5.3)\n",
      "Requirement already satisfied: fsspec>=2023.5.0 in /Users/tomvannuenen/anaconda3/envs/dlab/lib/python3.10/site-packages (from huggingface-hub>=0.20.0->sentence-transformers>=0.4.1->bertopic) (2023.12.1)\n",
      "Requirement already satisfied: sympy in /Users/tomvannuenen/anaconda3/envs/dlab/lib/python3.10/site-packages (from torch>=1.11.0->sentence-transformers>=0.4.1->bertopic) (1.12)\n",
      "Requirement already satisfied: networkx in /Users/tomvannuenen/anaconda3/envs/dlab/lib/python3.10/site-packages (from torch>=1.11.0->sentence-transformers>=0.4.1->bertopic) (3.4.2)\n",
      "Requirement already satisfied: jinja2 in /Users/tomvannuenen/anaconda3/envs/dlab/lib/python3.10/site-packages (from torch>=1.11.0->sentence-transformers>=0.4.1->bertopic) (3.1.2)\n",
      "Requirement already satisfied: numba>=0.51.2 in /Users/tomvannuenen/anaconda3/envs/dlab/lib/python3.10/site-packages (from umap-learn>=0.5.0->bertopic) (0.61.2)\n",
      "Requirement already satisfied: pynndescent>=0.5 in /Users/tomvannuenen/anaconda3/envs/dlab/lib/python3.10/site-packages (from umap-learn>=0.5.0->bertopic) (0.5.13)\n",
      "Requirement already satisfied: llvmlite<0.45,>=0.44.0dev0 in /Users/tomvannuenen/anaconda3/envs/dlab/lib/python3.10/site-packages (from numba>=0.51.2->umap-learn>=0.5.0->bertopic) (0.44.0)\n",
      "Requirement already satisfied: MarkupSafe>=2.0 in /Users/tomvannuenen/anaconda3/envs/dlab/lib/python3.10/site-packages (from jinja2->torch>=1.11.0->sentence-transformers>=0.4.1->bertopic) (2.1.3)\n",
      "Requirement already satisfied: charset-normalizer<4,>=2 in /Users/tomvannuenen/anaconda3/envs/dlab/lib/python3.10/site-packages (from requests->transformers<5.0.0,>=4.41.0->sentence-transformers>=0.4.1->bertopic) (3.2.0)\n",
      "Requirement already satisfied: idna<4,>=2.5 in /Users/tomvannuenen/anaconda3/envs/dlab/lib/python3.10/site-packages (from requests->transformers<5.0.0,>=4.41.0->sentence-transformers>=0.4.1->bertopic) (3.4)\n",
      "Requirement already satisfied: urllib3<3,>=1.21.1 in /Users/tomvannuenen/anaconda3/envs/dlab/lib/python3.10/site-packages (from requests->transformers<5.0.0,>=4.41.0->sentence-transformers>=0.4.1->bertopic) (2.4.0)\n",
      "Requirement already satisfied: certifi>=2017.4.17 in /Users/tomvannuenen/anaconda3/envs/dlab/lib/python3.10/site-packages (from requests->transformers<5.0.0,>=4.41.0->sentence-transformers>=0.4.1->bertopic) (2023.7.22)\n",
      "Requirement already satisfied: mpmath>=0.19 in /Users/tomvannuenen/anaconda3/envs/dlab/lib/python3.10/site-packages (from sympy->torch>=1.11.0->sentence-transformers>=0.4.1->bertopic) (1.3.0)\n",
      "Using cached bertopic-0.17.0-py3-none-any.whl (150 kB)\n",
      "Installing collected packages: hdbscan, bertopic\n",
      "\u001b[2K   \u001b[38;2;114;156;31m━━━━━━━━━━━━━━━━━━━━━━━━━━━━━━━━━━━━━━━━\u001b[0m \u001b[32m2/2\u001b[0m [bertopic]\n",
      "\u001b[1A\u001b[2KSuccessfully installed bertopic-0.17.0 hdbscan-0.8.40\n",
      "Note: you may need to restart the kernel to use updated packages.\n"
     ]
    }
   ],
   "source": [
    "# restart kernel after running\n",
    "#%pip install bertopic "
   ]
  },
  {
   "cell_type": "markdown",
   "id": "e594d769-c506-4e88-8894-82d4884ebd0c",
   "metadata": {},
   "source": [
    "**Note: this notebook might not work on your local machine depending on your system architecture. It does work on DataHub, however.**"
   ]
  },
  {
   "cell_type": "markdown",
   "id": "dc10a312",
   "metadata": {},
   "source": [
    "## Loading the Data"
   ]
  },
  {
   "cell_type": "code",
   "execution_count": 36,
   "id": "c6e75bdf-438f-495a-8329-10bc7582a95f",
   "metadata": {},
   "outputs": [
    {
     "name": "stderr",
     "output_type": "stream",
     "text": [
      "Downloading...\n",
      "From: https://drive.google.com/uc?id=1Glac4spXraWRcC_loxu1Cu4Bw-szS2ou\n",
      "To: /Users/tomvannuenen/Library/CloudStorage/Dropbox/GitHub/DEV/DIGHUM160/data/aita_pp.csv\n",
      "100%|███████████████████████████████████████| 56.6M/56.6M [00:00<00:00, 115MB/s]\n"
     ]
    },
    {
     "data": {
      "text/plain": [
       "'../../data/aita_pp.csv'"
      ]
     },
     "execution_count": 36,
     "metadata": {},
     "output_type": "execute_result"
    }
   ],
   "source": [
    "import gdown\n",
    "\n",
    "gdown.download(\"https://drive.google.com/uc?id=1Glac4spXraWRcC_loxu1Cu4Bw-szS2ou\", \"../../data/aita_pp.csv\", quiet=False)"
   ]
  },
  {
   "cell_type": "code",
   "execution_count": 62,
   "id": "494edbd5",
   "metadata": {},
   "outputs": [],
   "source": [
    "import pandas as pd\n",
    "\n",
    "# Load your preprocessed AITA CSV (change the filename if needed)\n",
    "df = pd.read_csv('../../data/aita_pp.csv')"
   ]
  },
  {
   "cell_type": "code",
   "execution_count": 63,
   "id": "3c562512-be72-480f-9545-6d5f50541bc4",
   "metadata": {},
   "outputs": [],
   "source": [
    "# quick preprocessing\n",
    "docs = df['pp_text'].tolist()"
   ]
  },
  {
   "cell_type": "markdown",
   "id": "75adbfd2",
   "metadata": {},
   "source": [
    "## Build and Fit BERTopic Model\n",
    "We'll use default settings first. This may take a few minutes."
   ]
  },
  {
   "cell_type": "code",
   "execution_count": 64,
   "id": "b57314f0",
   "metadata": {},
   "outputs": [
    {
     "name": "stderr",
     "output_type": "stream",
     "text": [
      "2025-06-03 17:19:56,659 - BERTopic - Embedding - Transforming documents to embeddings.\n"
     ]
    },
    {
     "data": {
      "application/vnd.jupyter.widget-view+json": {
       "model_id": "11cd6fc55537405b96e84764d79332e5",
       "version_major": 2,
       "version_minor": 0
      },
      "text/plain": [
       "Batches:   0%|          | 0/32 [00:00<?, ?it/s]"
      ]
     },
     "metadata": {},
     "output_type": "display_data"
    },
    {
     "name": "stderr",
     "output_type": "stream",
     "text": [
      "2025-06-03 17:20:10,733 - BERTopic - Embedding - Completed ✓\n",
      "2025-06-03 17:20:10,736 - BERTopic - Dimensionality - Fitting the dimensionality reduction algorithm\n",
      "2025-06-03 17:20:13,581 - BERTopic - Dimensionality - Completed ✓\n",
      "2025-06-03 17:20:13,585 - BERTopic - Cluster - Start clustering the reduced embeddings\n",
      "2025-06-03 17:20:13,642 - BERTopic - Cluster - Completed ✓\n",
      "2025-06-03 17:20:13,653 - BERTopic - Representation - Fine-tuning topics using representation models.\n",
      "2025-06-03 17:20:13,977 - BERTopic - Representation - Completed ✓\n"
     ]
    }
   ],
   "source": [
    "from bertopic import BERTopic\n",
    "\n",
    "# Use only a subset for demo to avoid memory errors\n",
    "docs_sample = docs[:1000]\n",
    "\n",
    "topic_model = BERTopic(verbose=True)\n",
    "topics, probabilities = topic_model.fit_transform(docs_sample)"
   ]
  },
  {
   "cell_type": "markdown",
   "id": "ee180901",
   "metadata": {},
   "source": [
    "<a id='explore'></a>\n",
    "\n",
    "# Explore Extracted Topics\n",
    "View topic frequencies and the top words per topic."
   ]
  },
  {
   "cell_type": "code",
   "execution_count": 65,
   "id": "1399477e",
   "metadata": {},
   "outputs": [
    {
     "data": {
      "text/html": [
       "<div>\n",
       "<style scoped>\n",
       "    .dataframe tbody tr th:only-of-type {\n",
       "        vertical-align: middle;\n",
       "    }\n",
       "\n",
       "    .dataframe tbody tr th {\n",
       "        vertical-align: top;\n",
       "    }\n",
       "\n",
       "    .dataframe thead th {\n",
       "        text-align: right;\n",
       "    }\n",
       "</style>\n",
       "<table border=\"1\" class=\"dataframe\">\n",
       "  <thead>\n",
       "    <tr style=\"text-align: right;\">\n",
       "      <th></th>\n",
       "      <th>Topic</th>\n",
       "      <th>Count</th>\n",
       "      <th>Name</th>\n",
       "      <th>Representation</th>\n",
       "      <th>Representative_Docs</th>\n",
       "    </tr>\n",
       "  </thead>\n",
       "  <tbody>\n",
       "    <tr>\n",
       "      <th>0</th>\n",
       "      <td>-1</td>\n",
       "      <td>457</td>\n",
       "      <td>-1_like_said_told_time</td>\n",
       "      <td>[like, said, told, time, know, got, want, thin...</td>\n",
       "      <td>[hi throw_away account obvious_reasons typing ...</td>\n",
       "    </tr>\n",
       "    <tr>\n",
       "      <th>1</th>\n",
       "      <td>0</td>\n",
       "      <td>143</td>\n",
       "      <td>0_said_told_like_friends</td>\n",
       "      <td>[said, told, like, friends, night, sex, asked,...</td>\n",
       "      <td>[ex girlfriend anna dating months relationship...</td>\n",
       "    </tr>\n",
       "    <tr>\n",
       "      <th>2</th>\n",
       "      <td>1</td>\n",
       "      <td>59</td>\n",
       "      <td>1_wife_daughter_kids_son</td>\n",
       "      <td>[wife, daughter, kids, son, mother, told, life...</td>\n",
       "      <td>[brother family close got married years_ago ye...</td>\n",
       "    </tr>\n",
       "    <tr>\n",
       "      <th>3</th>\n",
       "      <td>2</td>\n",
       "      <td>50</td>\n",
       "      <td>2_family_brother_sister_mother</td>\n",
       "      <td>[family, brother, sister, mother, mom, told, d...</td>\n",
       "      <td>[like said original_post](https://www.reddit.c...</td>\n",
       "    </tr>\n",
       "    <tr>\n",
       "      <th>4</th>\n",
       "      <td>3</td>\n",
       "      <td>43</td>\n",
       "      <td>3_pay_money_kids_wife</td>\n",
       "      <td>[pay, money, kids, wife, work, home, school, s...</td>\n",
       "      <td>[suspicion current karmic disposition affair l...</td>\n",
       "    </tr>\n",
       "    <tr>\n",
       "      <th>5</th>\n",
       "      <td>4</td>\n",
       "      <td>39</td>\n",
       "      <td>4_pregnant_baby_pregnancy_abortion</td>\n",
       "      <td>[pregnant, baby, pregnancy, abortion, want, ch...</td>\n",
       "      <td>[start know sounds bad try explain 21(m girlfr...</td>\n",
       "    </tr>\n",
       "    <tr>\n",
       "      <th>6</th>\n",
       "      <td>5</td>\n",
       "      <td>33</td>\n",
       "      <td>5_card_tip_pay_money</td>\n",
       "      <td>[card, tip, pay, money, manager, said, left, b...</td>\n",
       "      <td>[dining upscale restaurant bill came $ 49.82 p...</td>\n",
       "    </tr>\n",
       "    <tr>\n",
       "      <th>7</th>\n",
       "      <td>6</td>\n",
       "      <td>32</td>\n",
       "      <td>6_seat_seats_people_like</td>\n",
       "      <td>[seat, seats, people, like, flight, said, wait...</td>\n",
       "      <td>[earlier week went library finish papers worki...</td>\n",
       "    </tr>\n",
       "    <tr>\n",
       "      <th>8</th>\n",
       "      <td>7</td>\n",
       "      <td>28</td>\n",
       "      <td>7_teacher_class_students_school</td>\n",
       "      <td>[teacher, class, students, school, told, kids,...</td>\n",
       "      <td>[teach private school affiliated religion allo...</td>\n",
       "    </tr>\n",
       "    <tr>\n",
       "      <th>9</th>\n",
       "      <td>8</td>\n",
       "      <td>20</td>\n",
       "      <td>8_food_eating_eat_plate</td>\n",
       "      <td>[food, eating, eat, plate, like, eats, boyfrie...</td>\n",
       "      <td>[broken ex boyfriend(22 pickiest eater mean ab...</td>\n",
       "    </tr>\n",
       "  </tbody>\n",
       "</table>\n",
       "</div>"
      ],
      "text/plain": [
       "   Topic  Count                                Name  \\\n",
       "0     -1    457              -1_like_said_told_time   \n",
       "1      0    143            0_said_told_like_friends   \n",
       "2      1     59            1_wife_daughter_kids_son   \n",
       "3      2     50      2_family_brother_sister_mother   \n",
       "4      3     43               3_pay_money_kids_wife   \n",
       "5      4     39  4_pregnant_baby_pregnancy_abortion   \n",
       "6      5     33                5_card_tip_pay_money   \n",
       "7      6     32            6_seat_seats_people_like   \n",
       "8      7     28     7_teacher_class_students_school   \n",
       "9      8     20             8_food_eating_eat_plate   \n",
       "\n",
       "                                      Representation  \\\n",
       "0  [like, said, told, time, know, got, want, thin...   \n",
       "1  [said, told, like, friends, night, sex, asked,...   \n",
       "2  [wife, daughter, kids, son, mother, told, life...   \n",
       "3  [family, brother, sister, mother, mom, told, d...   \n",
       "4  [pay, money, kids, wife, work, home, school, s...   \n",
       "5  [pregnant, baby, pregnancy, abortion, want, ch...   \n",
       "6  [card, tip, pay, money, manager, said, left, b...   \n",
       "7  [seat, seats, people, like, flight, said, wait...   \n",
       "8  [teacher, class, students, school, told, kids,...   \n",
       "9  [food, eating, eat, plate, like, eats, boyfrie...   \n",
       "\n",
       "                                 Representative_Docs  \n",
       "0  [hi throw_away account obvious_reasons typing ...  \n",
       "1  [ex girlfriend anna dating months relationship...  \n",
       "2  [brother family close got married years_ago ye...  \n",
       "3  [like said original_post](https://www.reddit.c...  \n",
       "4  [suspicion current karmic disposition affair l...  \n",
       "5  [start know sounds bad try explain 21(m girlfr...  \n",
       "6  [dining upscale restaurant bill came $ 49.82 p...  \n",
       "7  [earlier week went library finish papers worki...  \n",
       "8  [teach private school affiliated religion allo...  \n",
       "9  [broken ex boyfriend(22 pickiest eater mean ab...  "
      ]
     },
     "execution_count": 65,
     "metadata": {},
     "output_type": "execute_result"
    }
   ],
   "source": [
    "topic_info = topic_model.get_topic_info()\n",
    "topic_info.head(10)"
   ]
  },
  {
   "cell_type": "markdown",
   "id": "bf5039ee-9391-41d3-bca6-34856275921e",
   "metadata": {},
   "source": [
    "💡 **Tip**: Topic -1 in BERTopic is a “catch-all” for documents that don’t fit into any meaningful cluster.\n",
    "\n",
    "This works as follows:\n",
    "- HDBSCAN (the clustering algorithm) automatically labels “noise” or “outlier” documents with -1.\n",
    "- These are typically posts that are too unique, too generic, or just don’t belong to any clear topic group.\n",
    "- Including topic -1 in your list of topics will show a “topic” that’s not really coherent, and the top words for -1 are usually either very generic or meaningless.\n",
    "- Most users ignore topic -1 when reviewing topics and top words, focusing only on the numbered topics (0, 1, 2, …)."
   ]
  },
  {
   "cell_type": "code",
   "execution_count": 66,
   "id": "d99db09d-fb47-458e-bd6a-fadd00bbbb20",
   "metadata": {},
   "outputs": [
    {
     "data": {
      "text/plain": [
       "(16, 5)"
      ]
     },
     "execution_count": 66,
     "metadata": {},
     "output_type": "execute_result"
    }
   ],
   "source": [
    "# How many topics do we have?\n",
    "topic_info.shape"
   ]
  },
  {
   "cell_type": "code",
   "execution_count": 67,
   "id": "6a1eacdb",
   "metadata": {},
   "outputs": [
    {
     "data": {
      "text/plain": [
       "[('said', 0.02659525132995789),\n",
       " ('told', 0.025904404696707732),\n",
       " ('like', 0.0253026324200215),\n",
       " ('friends', 0.02283089603724534),\n",
       " ('night', 0.019084676288042533),\n",
       " ('sex', 0.01885220048284822),\n",
       " ('asked', 0.018232663735160484),\n",
       " ('relationship', 0.017590021208154085),\n",
       " ('guy', 0.01746002423606322),\n",
       " ('know', 0.017203406830453263)]"
      ]
     },
     "execution_count": 67,
     "metadata": {},
     "output_type": "execute_result"
    }
   ],
   "source": [
    "# Show top words for topic 0\n",
    "topic_model.get_topic(0)"
   ]
  },
  {
   "cell_type": "markdown",
   "id": "d5caa942",
   "metadata": {},
   "source": [
    "## Intertopic Distance Map\n",
    "The `visualize_topics` function visualizes topics and their similarity in an interactive plot. We're also saving it to disk so it can be embedded on a website."
   ]
  },
  {
   "cell_type": "code",
   "execution_count": 68,
   "id": "272de809",
   "metadata": {},
   "outputs": [
    {
     "data": {
      "application/vnd.plotly.v1+json": {
       "config": {
        "plotlyServerURL": "https://plot.ly"
       },
       "data": [
        {
         "customdata": [
          [
           0,
           "said | told | like | friends | night",
           143
          ],
          [
           1,
           "wife | daughter | kids | son | mother",
           59
          ],
          [
           2,
           "family | brother | sister | mother | mom",
           50
          ],
          [
           3,
           "pay | money | kids | wife | work",
           43
          ],
          [
           4,
           "pregnant | baby | pregnancy | abortion | want",
           39
          ],
          [
           5,
           "card | tip | pay | money | manager",
           33
          ],
          [
           6,
           "seat | seats | people | like | flight",
           32
          ],
          [
           7,
           "teacher | class | students | school | told",
           28
          ],
          [
           8,
           "food | eating | eat | plate | like",
           20
          ],
          [
           9,
           "vegan | meat | food | vegetarian | eat",
           19
          ],
          [
           10,
           "gay | friends | straight | like | group",
           19
          ],
          [
           11,
           "baby | wife | husband | nurse | birth",
           17
          ],
          [
           12,
           "dog | dogs | park | day | said",
           15
          ],
          [
           13,
           "sister | parents | brother | told | room",
           14
          ],
          [
           14,
           "wedding | fiance | ring | fianc | husband",
           12
          ]
         ],
         "hovertemplate": "<b>Topic %{customdata[0]}</b><br>%{customdata[1]}<br>Size: %{customdata[2]}",
         "legendgroup": "",
         "marker": {
          "color": "#B0BEC5",
          "line": {
           "color": "DarkSlateGrey",
           "width": 2
          },
          "size": {
           "_inputArray": {
            "0": 143,
            "1": 59,
            "10": 19,
            "11": 17,
            "12": 15,
            "13": 14,
            "14": 12,
            "2": 50,
            "3": 43,
            "4": 39,
            "5": 33,
            "6": 32,
            "7": 28,
            "8": 20,
            "9": 19,
            "bdata": "jwA7ADIAKwAnACEAIAAcABQAEwATABEADwAOAAwA",
            "dtype": "i2",
            "shape": "15"
           },
           "bdata": "jwA7ADIAKwAnACEAIAAcABQAEwATABEADwAOAAwA",
           "dtype": "i2"
          },
          "sizemode": "area",
          "sizeref": 0.089375,
          "symbol": "circle"
         },
         "mode": "markers",
         "name": "",
         "orientation": "v",
         "showlegend": false,
         "type": "scatter",
         "x": {
          "_inputArray": {
           "0": 11.977567672729492,
           "1": 11.15928840637207,
           "10": 12.368608474731445,
           "11": 12.710190773010254,
           "12": 11.159111976623535,
           "13": 11.44116497039795,
           "14": 10.729060173034668,
           "2": 11.185193061828613,
           "3": 12.60594654083252,
           "4": 12.879063606262207,
           "5": -3.4491240978240967,
           "6": -3.3021867275238037,
           "7": 11.145998001098633,
           "8": -5.3793487548828125,
           "9": -5.152673721313477,
           "bdata": "HqQ/QXKMMkGN9jJB9bFJQaUQTkFzvlzAB1dTwAJWMkGgI6zAtOKkwNLlRUHxXEtBuYsyQQMPN0E7qitB",
           "dtype": "f4",
           "shape": "15"
          },
          "bdata": "HqQ/QXKMMkGN9jJB9bFJQaUQTkFzvlzAB1dTwAJWMkGgI6zAtOKkwNLlRUHxXEtBuYsyQQMPN0E7qitB",
          "dtype": "f4"
         },
         "xaxis": "x",
         "y": {
          "_inputArray": {
           "0": 12.124985694885254,
           "1": 12.199982643127441,
           "10": 11.899667739868164,
           "11": 9.33014965057373,
           "12": 9.003806114196777,
           "13": 11.208853721618652,
           "14": 11.64799690246582,
           "2": 9.412393569946289,
           "3": 10.896553993225098,
           "4": 9.081189155578613,
           "5": 21.94574546813965,
           "6": 21.798839569091797,
           "7": 11.742785453796387,
           "8": 13.75104808807373,
           "9": 13.977801322937012,
           "bdata": "8f9BQSEzQ0EqmRZBSVguQY1MEUHjkK9BBmSuQXPiO0FLBFxBE6VfQQplPkFLSBVBlw8QQXdXM0EyXjpB",
           "dtype": "f4",
           "shape": "15"
          },
          "bdata": "8f9BQSEzQ0EqmRZBSVguQY1MEUHjkK9BBmSuQXPiO0FLBFxBE6VfQQplPkFLSBVBlw8QQXdXM0EyXjpB",
          "dtype": "f4"
         },
         "yaxis": "y"
        }
       ],
       "layout": {
        "annotations": [
         {
          "showarrow": false,
          "text": "D1",
          "x": -6.186251068115235,
          "y": 16.445421242713927,
          "yshift": 10
         },
         {
          "showarrow": false,
          "text": "D2",
          "x": 4.312336039543152,
          "xshift": 10,
          "y": 25.237607288360596
         }
        ],
        "height": 650,
        "hoverlabel": {
         "bgcolor": "white",
         "font": {
          "family": "Rockwell",
          "size": 16
         }
        },
        "legend": {
         "itemsizing": "constant",
         "tracegroupgap": 0
        },
        "margin": {
         "t": 60
        },
        "shapes": [
         {
          "line": {
           "color": "#CFD8DC",
           "width": 2
          },
          "type": "line",
          "x0": 4.312336039543152,
          "x1": 4.312336039543152,
          "y0": 7.653235197067261,
          "y1": 25.237607288360596
         },
         {
          "line": {
           "color": "#9E9E9E",
           "width": 2
          },
          "type": "line",
          "x0": -6.186251068115235,
          "x1": 14.810923147201539,
          "y0": 16.445421242713927,
          "y1": 16.445421242713927
         }
        ],
        "sliders": [
         {
          "active": 0,
          "pad": {
           "t": 50
          },
          "steps": [
           {
            "args": [
             {
              "marker.color": [
               [
                "red",
                "#B0BEC5",
                "#B0BEC5",
                "#B0BEC5",
                "#B0BEC5",
                "#B0BEC5",
                "#B0BEC5",
                "#B0BEC5",
                "#B0BEC5",
                "#B0BEC5",
                "#B0BEC5",
                "#B0BEC5",
                "#B0BEC5",
                "#B0BEC5",
                "#B0BEC5"
               ]
              ]
             }
            ],
            "label": "Topic 0",
            "method": "update"
           },
           {
            "args": [
             {
              "marker.color": [
               [
                "#B0BEC5",
                "red",
                "#B0BEC5",
                "#B0BEC5",
                "#B0BEC5",
                "#B0BEC5",
                "#B0BEC5",
                "#B0BEC5",
                "#B0BEC5",
                "#B0BEC5",
                "#B0BEC5",
                "#B0BEC5",
                "#B0BEC5",
                "#B0BEC5",
                "#B0BEC5"
               ]
              ]
             }
            ],
            "label": "Topic 1",
            "method": "update"
           },
           {
            "args": [
             {
              "marker.color": [
               [
                "#B0BEC5",
                "#B0BEC5",
                "red",
                "#B0BEC5",
                "#B0BEC5",
                "#B0BEC5",
                "#B0BEC5",
                "#B0BEC5",
                "#B0BEC5",
                "#B0BEC5",
                "#B0BEC5",
                "#B0BEC5",
                "#B0BEC5",
                "#B0BEC5",
                "#B0BEC5"
               ]
              ]
             }
            ],
            "label": "Topic 2",
            "method": "update"
           },
           {
            "args": [
             {
              "marker.color": [
               [
                "#B0BEC5",
                "#B0BEC5",
                "#B0BEC5",
                "red",
                "#B0BEC5",
                "#B0BEC5",
                "#B0BEC5",
                "#B0BEC5",
                "#B0BEC5",
                "#B0BEC5",
                "#B0BEC5",
                "#B0BEC5",
                "#B0BEC5",
                "#B0BEC5",
                "#B0BEC5"
               ]
              ]
             }
            ],
            "label": "Topic 3",
            "method": "update"
           },
           {
            "args": [
             {
              "marker.color": [
               [
                "#B0BEC5",
                "#B0BEC5",
                "#B0BEC5",
                "#B0BEC5",
                "red",
                "#B0BEC5",
                "#B0BEC5",
                "#B0BEC5",
                "#B0BEC5",
                "#B0BEC5",
                "#B0BEC5",
                "#B0BEC5",
                "#B0BEC5",
                "#B0BEC5",
                "#B0BEC5"
               ]
              ]
             }
            ],
            "label": "Topic 4",
            "method": "update"
           },
           {
            "args": [
             {
              "marker.color": [
               [
                "#B0BEC5",
                "#B0BEC5",
                "#B0BEC5",
                "#B0BEC5",
                "#B0BEC5",
                "red",
                "#B0BEC5",
                "#B0BEC5",
                "#B0BEC5",
                "#B0BEC5",
                "#B0BEC5",
                "#B0BEC5",
                "#B0BEC5",
                "#B0BEC5",
                "#B0BEC5"
               ]
              ]
             }
            ],
            "label": "Topic 5",
            "method": "update"
           },
           {
            "args": [
             {
              "marker.color": [
               [
                "#B0BEC5",
                "#B0BEC5",
                "#B0BEC5",
                "#B0BEC5",
                "#B0BEC5",
                "#B0BEC5",
                "red",
                "#B0BEC5",
                "#B0BEC5",
                "#B0BEC5",
                "#B0BEC5",
                "#B0BEC5",
                "#B0BEC5",
                "#B0BEC5",
                "#B0BEC5"
               ]
              ]
             }
            ],
            "label": "Topic 6",
            "method": "update"
           },
           {
            "args": [
             {
              "marker.color": [
               [
                "#B0BEC5",
                "#B0BEC5",
                "#B0BEC5",
                "#B0BEC5",
                "#B0BEC5",
                "#B0BEC5",
                "#B0BEC5",
                "red",
                "#B0BEC5",
                "#B0BEC5",
                "#B0BEC5",
                "#B0BEC5",
                "#B0BEC5",
                "#B0BEC5",
                "#B0BEC5"
               ]
              ]
             }
            ],
            "label": "Topic 7",
            "method": "update"
           },
           {
            "args": [
             {
              "marker.color": [
               [
                "#B0BEC5",
                "#B0BEC5",
                "#B0BEC5",
                "#B0BEC5",
                "#B0BEC5",
                "#B0BEC5",
                "#B0BEC5",
                "#B0BEC5",
                "red",
                "#B0BEC5",
                "#B0BEC5",
                "#B0BEC5",
                "#B0BEC5",
                "#B0BEC5",
                "#B0BEC5"
               ]
              ]
             }
            ],
            "label": "Topic 8",
            "method": "update"
           },
           {
            "args": [
             {
              "marker.color": [
               [
                "#B0BEC5",
                "#B0BEC5",
                "#B0BEC5",
                "#B0BEC5",
                "#B0BEC5",
                "#B0BEC5",
                "#B0BEC5",
                "#B0BEC5",
                "#B0BEC5",
                "red",
                "#B0BEC5",
                "#B0BEC5",
                "#B0BEC5",
                "#B0BEC5",
                "#B0BEC5"
               ]
              ]
             }
            ],
            "label": "Topic 9",
            "method": "update"
           },
           {
            "args": [
             {
              "marker.color": [
               [
                "#B0BEC5",
                "#B0BEC5",
                "#B0BEC5",
                "#B0BEC5",
                "#B0BEC5",
                "#B0BEC5",
                "#B0BEC5",
                "#B0BEC5",
                "#B0BEC5",
                "#B0BEC5",
                "red",
                "#B0BEC5",
                "#B0BEC5",
                "#B0BEC5",
                "#B0BEC5"
               ]
              ]
             }
            ],
            "label": "Topic 10",
            "method": "update"
           },
           {
            "args": [
             {
              "marker.color": [
               [
                "#B0BEC5",
                "#B0BEC5",
                "#B0BEC5",
                "#B0BEC5",
                "#B0BEC5",
                "#B0BEC5",
                "#B0BEC5",
                "#B0BEC5",
                "#B0BEC5",
                "#B0BEC5",
                "#B0BEC5",
                "red",
                "#B0BEC5",
                "#B0BEC5",
                "#B0BEC5"
               ]
              ]
             }
            ],
            "label": "Topic 11",
            "method": "update"
           },
           {
            "args": [
             {
              "marker.color": [
               [
                "#B0BEC5",
                "#B0BEC5",
                "#B0BEC5",
                "#B0BEC5",
                "#B0BEC5",
                "#B0BEC5",
                "#B0BEC5",
                "#B0BEC5",
                "#B0BEC5",
                "#B0BEC5",
                "#B0BEC5",
                "#B0BEC5",
                "red",
                "#B0BEC5",
                "#B0BEC5"
               ]
              ]
             }
            ],
            "label": "Topic 12",
            "method": "update"
           },
           {
            "args": [
             {
              "marker.color": [
               [
                "#B0BEC5",
                "#B0BEC5",
                "#B0BEC5",
                "#B0BEC5",
                "#B0BEC5",
                "#B0BEC5",
                "#B0BEC5",
                "#B0BEC5",
                "#B0BEC5",
                "#B0BEC5",
                "#B0BEC5",
                "#B0BEC5",
                "#B0BEC5",
                "red",
                "#B0BEC5"
               ]
              ]
             }
            ],
            "label": "Topic 13",
            "method": "update"
           },
           {
            "args": [
             {
              "marker.color": [
               [
                "#B0BEC5",
                "#B0BEC5",
                "#B0BEC5",
                "#B0BEC5",
                "#B0BEC5",
                "#B0BEC5",
                "#B0BEC5",
                "#B0BEC5",
                "#B0BEC5",
                "#B0BEC5",
                "#B0BEC5",
                "#B0BEC5",
                "#B0BEC5",
                "#B0BEC5",
                "red"
               ]
              ]
             }
            ],
            "label": "Topic 14",
            "method": "update"
           }
          ]
         }
        ],
        "template": {
         "data": {
          "bar": [
           {
            "error_x": {
             "color": "rgb(36,36,36)"
            },
            "error_y": {
             "color": "rgb(36,36,36)"
            },
            "marker": {
             "line": {
              "color": "white",
              "width": 0.5
             },
             "pattern": {
              "fillmode": "overlay",
              "size": 10,
              "solidity": 0.2
             }
            },
            "type": "bar"
           }
          ],
          "barpolar": [
           {
            "marker": {
             "line": {
              "color": "white",
              "width": 0.5
             },
             "pattern": {
              "fillmode": "overlay",
              "size": 10,
              "solidity": 0.2
             }
            },
            "type": "barpolar"
           }
          ],
          "carpet": [
           {
            "aaxis": {
             "endlinecolor": "rgb(36,36,36)",
             "gridcolor": "white",
             "linecolor": "white",
             "minorgridcolor": "white",
             "startlinecolor": "rgb(36,36,36)"
            },
            "baxis": {
             "endlinecolor": "rgb(36,36,36)",
             "gridcolor": "white",
             "linecolor": "white",
             "minorgridcolor": "white",
             "startlinecolor": "rgb(36,36,36)"
            },
            "type": "carpet"
           }
          ],
          "choropleth": [
           {
            "colorbar": {
             "outlinewidth": 1,
             "tickcolor": "rgb(36,36,36)",
             "ticks": "outside"
            },
            "type": "choropleth"
           }
          ],
          "contour": [
           {
            "colorbar": {
             "outlinewidth": 1,
             "tickcolor": "rgb(36,36,36)",
             "ticks": "outside"
            },
            "colorscale": [
             [
              0,
              "#440154"
             ],
             [
              0.1111111111111111,
              "#482878"
             ],
             [
              0.2222222222222222,
              "#3e4989"
             ],
             [
              0.3333333333333333,
              "#31688e"
             ],
             [
              0.4444444444444444,
              "#26828e"
             ],
             [
              0.5555555555555556,
              "#1f9e89"
             ],
             [
              0.6666666666666666,
              "#35b779"
             ],
             [
              0.7777777777777778,
              "#6ece58"
             ],
             [
              0.8888888888888888,
              "#b5de2b"
             ],
             [
              1,
              "#fde725"
             ]
            ],
            "type": "contour"
           }
          ],
          "contourcarpet": [
           {
            "colorbar": {
             "outlinewidth": 1,
             "tickcolor": "rgb(36,36,36)",
             "ticks": "outside"
            },
            "type": "contourcarpet"
           }
          ],
          "heatmap": [
           {
            "colorbar": {
             "outlinewidth": 1,
             "tickcolor": "rgb(36,36,36)",
             "ticks": "outside"
            },
            "colorscale": [
             [
              0,
              "#440154"
             ],
             [
              0.1111111111111111,
              "#482878"
             ],
             [
              0.2222222222222222,
              "#3e4989"
             ],
             [
              0.3333333333333333,
              "#31688e"
             ],
             [
              0.4444444444444444,
              "#26828e"
             ],
             [
              0.5555555555555556,
              "#1f9e89"
             ],
             [
              0.6666666666666666,
              "#35b779"
             ],
             [
              0.7777777777777778,
              "#6ece58"
             ],
             [
              0.8888888888888888,
              "#b5de2b"
             ],
             [
              1,
              "#fde725"
             ]
            ],
            "type": "heatmap"
           }
          ],
          "histogram": [
           {
            "marker": {
             "line": {
              "color": "white",
              "width": 0.6
             }
            },
            "type": "histogram"
           }
          ],
          "histogram2d": [
           {
            "colorbar": {
             "outlinewidth": 1,
             "tickcolor": "rgb(36,36,36)",
             "ticks": "outside"
            },
            "colorscale": [
             [
              0,
              "#440154"
             ],
             [
              0.1111111111111111,
              "#482878"
             ],
             [
              0.2222222222222222,
              "#3e4989"
             ],
             [
              0.3333333333333333,
              "#31688e"
             ],
             [
              0.4444444444444444,
              "#26828e"
             ],
             [
              0.5555555555555556,
              "#1f9e89"
             ],
             [
              0.6666666666666666,
              "#35b779"
             ],
             [
              0.7777777777777778,
              "#6ece58"
             ],
             [
              0.8888888888888888,
              "#b5de2b"
             ],
             [
              1,
              "#fde725"
             ]
            ],
            "type": "histogram2d"
           }
          ],
          "histogram2dcontour": [
           {
            "colorbar": {
             "outlinewidth": 1,
             "tickcolor": "rgb(36,36,36)",
             "ticks": "outside"
            },
            "colorscale": [
             [
              0,
              "#440154"
             ],
             [
              0.1111111111111111,
              "#482878"
             ],
             [
              0.2222222222222222,
              "#3e4989"
             ],
             [
              0.3333333333333333,
              "#31688e"
             ],
             [
              0.4444444444444444,
              "#26828e"
             ],
             [
              0.5555555555555556,
              "#1f9e89"
             ],
             [
              0.6666666666666666,
              "#35b779"
             ],
             [
              0.7777777777777778,
              "#6ece58"
             ],
             [
              0.8888888888888888,
              "#b5de2b"
             ],
             [
              1,
              "#fde725"
             ]
            ],
            "type": "histogram2dcontour"
           }
          ],
          "mesh3d": [
           {
            "colorbar": {
             "outlinewidth": 1,
             "tickcolor": "rgb(36,36,36)",
             "ticks": "outside"
            },
            "type": "mesh3d"
           }
          ],
          "parcoords": [
           {
            "line": {
             "colorbar": {
              "outlinewidth": 1,
              "tickcolor": "rgb(36,36,36)",
              "ticks": "outside"
             }
            },
            "type": "parcoords"
           }
          ],
          "pie": [
           {
            "automargin": true,
            "type": "pie"
           }
          ],
          "scatter": [
           {
            "fillpattern": {
             "fillmode": "overlay",
             "size": 10,
             "solidity": 0.2
            },
            "type": "scatter"
           }
          ],
          "scatter3d": [
           {
            "line": {
             "colorbar": {
              "outlinewidth": 1,
              "tickcolor": "rgb(36,36,36)",
              "ticks": "outside"
             }
            },
            "marker": {
             "colorbar": {
              "outlinewidth": 1,
              "tickcolor": "rgb(36,36,36)",
              "ticks": "outside"
             }
            },
            "type": "scatter3d"
           }
          ],
          "scattercarpet": [
           {
            "marker": {
             "colorbar": {
              "outlinewidth": 1,
              "tickcolor": "rgb(36,36,36)",
              "ticks": "outside"
             }
            },
            "type": "scattercarpet"
           }
          ],
          "scattergeo": [
           {
            "marker": {
             "colorbar": {
              "outlinewidth": 1,
              "tickcolor": "rgb(36,36,36)",
              "ticks": "outside"
             }
            },
            "type": "scattergeo"
           }
          ],
          "scattergl": [
           {
            "marker": {
             "colorbar": {
              "outlinewidth": 1,
              "tickcolor": "rgb(36,36,36)",
              "ticks": "outside"
             }
            },
            "type": "scattergl"
           }
          ],
          "scattermap": [
           {
            "marker": {
             "colorbar": {
              "outlinewidth": 1,
              "tickcolor": "rgb(36,36,36)",
              "ticks": "outside"
             }
            },
            "type": "scattermap"
           }
          ],
          "scattermapbox": [
           {
            "marker": {
             "colorbar": {
              "outlinewidth": 1,
              "tickcolor": "rgb(36,36,36)",
              "ticks": "outside"
             }
            },
            "type": "scattermapbox"
           }
          ],
          "scatterpolar": [
           {
            "marker": {
             "colorbar": {
              "outlinewidth": 1,
              "tickcolor": "rgb(36,36,36)",
              "ticks": "outside"
             }
            },
            "type": "scatterpolar"
           }
          ],
          "scatterpolargl": [
           {
            "marker": {
             "colorbar": {
              "outlinewidth": 1,
              "tickcolor": "rgb(36,36,36)",
              "ticks": "outside"
             }
            },
            "type": "scatterpolargl"
           }
          ],
          "scatterternary": [
           {
            "marker": {
             "colorbar": {
              "outlinewidth": 1,
              "tickcolor": "rgb(36,36,36)",
              "ticks": "outside"
             }
            },
            "type": "scatterternary"
           }
          ],
          "surface": [
           {
            "colorbar": {
             "outlinewidth": 1,
             "tickcolor": "rgb(36,36,36)",
             "ticks": "outside"
            },
            "colorscale": [
             [
              0,
              "#440154"
             ],
             [
              0.1111111111111111,
              "#482878"
             ],
             [
              0.2222222222222222,
              "#3e4989"
             ],
             [
              0.3333333333333333,
              "#31688e"
             ],
             [
              0.4444444444444444,
              "#26828e"
             ],
             [
              0.5555555555555556,
              "#1f9e89"
             ],
             [
              0.6666666666666666,
              "#35b779"
             ],
             [
              0.7777777777777778,
              "#6ece58"
             ],
             [
              0.8888888888888888,
              "#b5de2b"
             ],
             [
              1,
              "#fde725"
             ]
            ],
            "type": "surface"
           }
          ],
          "table": [
           {
            "cells": {
             "fill": {
              "color": "rgb(237,237,237)"
             },
             "line": {
              "color": "white"
             }
            },
            "header": {
             "fill": {
              "color": "rgb(217,217,217)"
             },
             "line": {
              "color": "white"
             }
            },
            "type": "table"
           }
          ]
         },
         "layout": {
          "annotationdefaults": {
           "arrowhead": 0,
           "arrowwidth": 1
          },
          "autotypenumbers": "strict",
          "coloraxis": {
           "colorbar": {
            "outlinewidth": 1,
            "tickcolor": "rgb(36,36,36)",
            "ticks": "outside"
           }
          },
          "colorscale": {
           "diverging": [
            [
             0,
             "rgb(103,0,31)"
            ],
            [
             0.1,
             "rgb(178,24,43)"
            ],
            [
             0.2,
             "rgb(214,96,77)"
            ],
            [
             0.3,
             "rgb(244,165,130)"
            ],
            [
             0.4,
             "rgb(253,219,199)"
            ],
            [
             0.5,
             "rgb(247,247,247)"
            ],
            [
             0.6,
             "rgb(209,229,240)"
            ],
            [
             0.7,
             "rgb(146,197,222)"
            ],
            [
             0.8,
             "rgb(67,147,195)"
            ],
            [
             0.9,
             "rgb(33,102,172)"
            ],
            [
             1,
             "rgb(5,48,97)"
            ]
           ],
           "sequential": [
            [
             0,
             "#440154"
            ],
            [
             0.1111111111111111,
             "#482878"
            ],
            [
             0.2222222222222222,
             "#3e4989"
            ],
            [
             0.3333333333333333,
             "#31688e"
            ],
            [
             0.4444444444444444,
             "#26828e"
            ],
            [
             0.5555555555555556,
             "#1f9e89"
            ],
            [
             0.6666666666666666,
             "#35b779"
            ],
            [
             0.7777777777777778,
             "#6ece58"
            ],
            [
             0.8888888888888888,
             "#b5de2b"
            ],
            [
             1,
             "#fde725"
            ]
           ],
           "sequentialminus": [
            [
             0,
             "#440154"
            ],
            [
             0.1111111111111111,
             "#482878"
            ],
            [
             0.2222222222222222,
             "#3e4989"
            ],
            [
             0.3333333333333333,
             "#31688e"
            ],
            [
             0.4444444444444444,
             "#26828e"
            ],
            [
             0.5555555555555556,
             "#1f9e89"
            ],
            [
             0.6666666666666666,
             "#35b779"
            ],
            [
             0.7777777777777778,
             "#6ece58"
            ],
            [
             0.8888888888888888,
             "#b5de2b"
            ],
            [
             1,
             "#fde725"
            ]
           ]
          },
          "colorway": [
           "#1F77B4",
           "#FF7F0E",
           "#2CA02C",
           "#D62728",
           "#9467BD",
           "#8C564B",
           "#E377C2",
           "#7F7F7F",
           "#BCBD22",
           "#17BECF"
          ],
          "font": {
           "color": "rgb(36,36,36)"
          },
          "geo": {
           "bgcolor": "white",
           "lakecolor": "white",
           "landcolor": "white",
           "showlakes": true,
           "showland": true,
           "subunitcolor": "white"
          },
          "hoverlabel": {
           "align": "left"
          },
          "hovermode": "closest",
          "mapbox": {
           "style": "light"
          },
          "paper_bgcolor": "white",
          "plot_bgcolor": "white",
          "polar": {
           "angularaxis": {
            "gridcolor": "rgb(232,232,232)",
            "linecolor": "rgb(36,36,36)",
            "showgrid": false,
            "showline": true,
            "ticks": "outside"
           },
           "bgcolor": "white",
           "radialaxis": {
            "gridcolor": "rgb(232,232,232)",
            "linecolor": "rgb(36,36,36)",
            "showgrid": false,
            "showline": true,
            "ticks": "outside"
           }
          },
          "scene": {
           "xaxis": {
            "backgroundcolor": "white",
            "gridcolor": "rgb(232,232,232)",
            "gridwidth": 2,
            "linecolor": "rgb(36,36,36)",
            "showbackground": true,
            "showgrid": false,
            "showline": true,
            "ticks": "outside",
            "zeroline": false,
            "zerolinecolor": "rgb(36,36,36)"
           },
           "yaxis": {
            "backgroundcolor": "white",
            "gridcolor": "rgb(232,232,232)",
            "gridwidth": 2,
            "linecolor": "rgb(36,36,36)",
            "showbackground": true,
            "showgrid": false,
            "showline": true,
            "ticks": "outside",
            "zeroline": false,
            "zerolinecolor": "rgb(36,36,36)"
           },
           "zaxis": {
            "backgroundcolor": "white",
            "gridcolor": "rgb(232,232,232)",
            "gridwidth": 2,
            "linecolor": "rgb(36,36,36)",
            "showbackground": true,
            "showgrid": false,
            "showline": true,
            "ticks": "outside",
            "zeroline": false,
            "zerolinecolor": "rgb(36,36,36)"
           }
          },
          "shapedefaults": {
           "fillcolor": "black",
           "line": {
            "width": 0
           },
           "opacity": 0.3
          },
          "ternary": {
           "aaxis": {
            "gridcolor": "rgb(232,232,232)",
            "linecolor": "rgb(36,36,36)",
            "showgrid": false,
            "showline": true,
            "ticks": "outside"
           },
           "baxis": {
            "gridcolor": "rgb(232,232,232)",
            "linecolor": "rgb(36,36,36)",
            "showgrid": false,
            "showline": true,
            "ticks": "outside"
           },
           "bgcolor": "white",
           "caxis": {
            "gridcolor": "rgb(232,232,232)",
            "linecolor": "rgb(36,36,36)",
            "showgrid": false,
            "showline": true,
            "ticks": "outside"
           }
          },
          "title": {
           "x": 0.05
          },
          "xaxis": {
           "automargin": true,
           "gridcolor": "rgb(232,232,232)",
           "linecolor": "rgb(36,36,36)",
           "showgrid": false,
           "showline": true,
           "ticks": "outside",
           "title": {
            "standoff": 15
           },
           "zeroline": false,
           "zerolinecolor": "rgb(36,36,36)"
          },
          "yaxis": {
           "automargin": true,
           "gridcolor": "rgb(232,232,232)",
           "linecolor": "rgb(36,36,36)",
           "showgrid": false,
           "showline": true,
           "ticks": "outside",
           "title": {
            "standoff": 15
           },
           "zeroline": false,
           "zerolinecolor": "rgb(36,36,36)"
          }
         }
        },
        "title": {
         "font": {
          "color": "Black",
          "size": 22
         },
         "text": "<b>Intertopic Distance Map</b>",
         "x": 0.5,
         "xanchor": "center",
         "y": 0.95,
         "yanchor": "top"
        },
        "width": 650,
        "xaxis": {
         "anchor": "y",
         "domain": [
          0,
          1
         ],
         "range": [
          -6.186251068115235,
          14.810923147201539
         ],
         "title": {
          "text": ""
         },
         "type": "linear",
         "visible": false
        },
        "yaxis": {
         "anchor": "x",
         "domain": [
          0,
          1
         ],
         "range": [
          7.653235197067261,
          25.237607288360596
         ],
         "title": {
          "text": ""
         },
         "type": "linear",
         "visible": false
        }
       }
      }
     },
     "metadata": {},
     "output_type": "display_data"
    }
   ],
   "source": [
    "fig = topic_model.visualize_topics()\n",
    "fig.write_html(\"outputs_lesson/bertopic_topics.html\") \n",
    "fig.show()"
   ]
  },
  {
   "cell_type": "markdown",
   "id": "06410bc6-96b1-4fbd-a7b2-e65b9da665f5",
   "metadata": {},
   "source": [
    "<a id='reduce'></a>\n",
    "\n",
    "# Reducing Overlap\n",
    "\n",
    "If your intertopic distance map shows lots of overlapping bubbles, your model may have produced **too many fine-grained topics**. This is common with large or complex datasets! Similar documents can get split into clusters that aren't really distinct.\n",
    "\n",
    "To make your topics broader and reduce overlap, you can **merge similar topics** using the `.reduce_topics()` method in BERTopic.\n",
    "\n",
    "### How to Reduce the Number of Topics\n",
    "\n",
    "Use the following code to merge topics until only your desired number remain (e.g., 15):"
   ]
  },
  {
   "cell_type": "code",
   "execution_count": 69,
   "id": "a16fe717-69a9-4eaa-bb71-071f469be1e7",
   "metadata": {},
   "outputs": [
    {
     "name": "stderr",
     "output_type": "stream",
     "text": [
      "2025-06-03 17:20:15,330 - BERTopic - Topic reduction - Reducing number of topics\n",
      "2025-06-03 17:20:15,339 - BERTopic - Representation - Fine-tuning topics using representation models.\n",
      "2025-06-03 17:20:15,459 - BERTopic - Representation - Completed ✓\n",
      "2025-06-03 17:20:15,462 - BERTopic - Topic reduction - Reduced number of topics from 16 to 10\n"
     ]
    },
    {
     "data": {
      "application/vnd.plotly.v1+json": {
       "config": {
        "plotlyServerURL": "https://plot.ly"
       },
       "data": [
        {
         "customdata": [
          [
           0,
           "wife | family | told | kids | sister",
           166
          ],
          [
           1,
           "said | like | told | friends | night",
           162
          ],
          [
           2,
           "seat | said | like | people | waitress",
           65
          ],
          [
           3,
           "baby | pregnant | want | pregnancy | child",
           56
          ],
          [
           4,
           "teacher | class | students | school | told",
           28
          ],
          [
           5,
           "food | eating | eat | plate | like",
           20
          ],
          [
           6,
           "vegan | meat | food | vegetarian | eat",
           19
          ],
          [
           7,
           "dog | dogs | park | said | like",
           15
          ],
          [
           8,
           "wedding | fiance | ring | fianc | husband",
           12
          ]
         ],
         "hovertemplate": "<b>Topic %{customdata[0]}</b><br>%{customdata[1]}<br>Size: %{customdata[2]}",
         "legendgroup": "",
         "marker": {
          "color": "#B0BEC5",
          "line": {
           "color": "DarkSlateGrey",
           "width": 2
          },
          "size": {
           "_inputArray": {
            "0": 166,
            "1": 162,
            "2": 65,
            "3": 56,
            "4": 28,
            "5": 20,
            "6": 19,
            "7": 15,
            "8": 12,
            "bdata": "pgCiAEEAOAAcABQAEwAPAAwA",
            "dtype": "i2",
            "shape": "9"
           },
           "bdata": "pgCiAEEAOAAcABQAEwAPAAwA",
           "dtype": "i2"
          },
          "sizemode": "area",
          "sizeref": 0.10375,
          "symbol": "circle"
         },
         "mode": "markers",
         "name": "",
         "orientation": "v",
         "showlegend": false,
         "type": "scatter",
         "x": {
          "_inputArray": {
           "0": 10.030435562133789,
           "1": 10.818187713623047,
           "2": 11.167374610900879,
           "3": 10.061686515808105,
           "4": 10.912710189819336,
           "5": 11.842620849609375,
           "6": 12.228787422180176,
           "7": 10.114622116088867,
           "8": 9.336210250854492,
           "bdata": "qnwgQUwXLUGRrTJBq/wgQXaaLkFgez1BHalDQX7VIUEeYRVB",
           "dtype": "f4",
           "shape": "9"
          },
          "bdata": "qnwgQUwXLUGRrTJBq/wgQXaaLkFgez1BHalDQX7VIUEeYRVB",
          "dtype": "f4"
         },
         "xaxis": "x",
         "y": {
          "_inputArray": {
           "0": 6.028970718383789,
           "1": 6.731734275817871,
           "2": 7.253149032592773,
           "3": 4.481210231781006,
           "4": 5.192538738250732,
           "5": 7.460496425628662,
           "6": 7.179330825805664,
           "7": 5.46417760848999,
           "8": 5.42326021194458,
           "bdata": "VO3AQF5q10DMGehAE2aPQEcppkBjvO5AFL3lQIvarkBZi61A",
           "dtype": "f4",
           "shape": "9"
          },
          "bdata": "VO3AQF5q10DMGehAE2aPQEcppkBjvO5AFL3lQIvarkBZi61A",
          "dtype": "f4"
         },
         "yaxis": "y"
        }
       ],
       "layout": {
        "annotations": [
         {
          "showarrow": false,
          "text": "D1",
          "x": 7.935778713226318,
          "y": 6.194299793243408,
          "yshift": 10
         },
         {
          "showarrow": false,
          "text": "D2",
          "x": 10.999442124366759,
          "xshift": 10,
          "y": 8.579570889472961
         }
        ],
        "height": 650,
        "hoverlabel": {
         "bgcolor": "white",
         "font": {
          "family": "Rockwell",
          "size": 16
         }
        },
        "legend": {
         "itemsizing": "constant",
         "tracegroupgap": 0
        },
        "margin": {
         "t": 60
        },
        "shapes": [
         {
          "line": {
           "color": "#CFD8DC",
           "width": 2
          },
          "type": "line",
          "x0": 10.999442124366759,
          "x1": 10.999442124366759,
          "y0": 3.809028697013855,
          "y1": 8.579570889472961
         },
         {
          "line": {
           "color": "#9E9E9E",
           "width": 2
          },
          "type": "line",
          "x0": 7.935778713226318,
          "x1": 14.063105535507201,
          "y0": 6.194299793243408,
          "y1": 6.194299793243408
         }
        ],
        "sliders": [
         {
          "active": 0,
          "pad": {
           "t": 50
          },
          "steps": [
           {
            "args": [
             {
              "marker.color": [
               [
                "red",
                "#B0BEC5",
                "#B0BEC5",
                "#B0BEC5",
                "#B0BEC5",
                "#B0BEC5",
                "#B0BEC5",
                "#B0BEC5",
                "#B0BEC5"
               ]
              ]
             }
            ],
            "label": "Topic 0",
            "method": "update"
           },
           {
            "args": [
             {
              "marker.color": [
               [
                "#B0BEC5",
                "red",
                "#B0BEC5",
                "#B0BEC5",
                "#B0BEC5",
                "#B0BEC5",
                "#B0BEC5",
                "#B0BEC5",
                "#B0BEC5"
               ]
              ]
             }
            ],
            "label": "Topic 1",
            "method": "update"
           },
           {
            "args": [
             {
              "marker.color": [
               [
                "#B0BEC5",
                "#B0BEC5",
                "red",
                "#B0BEC5",
                "#B0BEC5",
                "#B0BEC5",
                "#B0BEC5",
                "#B0BEC5",
                "#B0BEC5"
               ]
              ]
             }
            ],
            "label": "Topic 2",
            "method": "update"
           },
           {
            "args": [
             {
              "marker.color": [
               [
                "#B0BEC5",
                "#B0BEC5",
                "#B0BEC5",
                "red",
                "#B0BEC5",
                "#B0BEC5",
                "#B0BEC5",
                "#B0BEC5",
                "#B0BEC5"
               ]
              ]
             }
            ],
            "label": "Topic 3",
            "method": "update"
           },
           {
            "args": [
             {
              "marker.color": [
               [
                "#B0BEC5",
                "#B0BEC5",
                "#B0BEC5",
                "#B0BEC5",
                "red",
                "#B0BEC5",
                "#B0BEC5",
                "#B0BEC5",
                "#B0BEC5"
               ]
              ]
             }
            ],
            "label": "Topic 4",
            "method": "update"
           },
           {
            "args": [
             {
              "marker.color": [
               [
                "#B0BEC5",
                "#B0BEC5",
                "#B0BEC5",
                "#B0BEC5",
                "#B0BEC5",
                "red",
                "#B0BEC5",
                "#B0BEC5",
                "#B0BEC5"
               ]
              ]
             }
            ],
            "label": "Topic 5",
            "method": "update"
           },
           {
            "args": [
             {
              "marker.color": [
               [
                "#B0BEC5",
                "#B0BEC5",
                "#B0BEC5",
                "#B0BEC5",
                "#B0BEC5",
                "#B0BEC5",
                "red",
                "#B0BEC5",
                "#B0BEC5"
               ]
              ]
             }
            ],
            "label": "Topic 6",
            "method": "update"
           },
           {
            "args": [
             {
              "marker.color": [
               [
                "#B0BEC5",
                "#B0BEC5",
                "#B0BEC5",
                "#B0BEC5",
                "#B0BEC5",
                "#B0BEC5",
                "#B0BEC5",
                "red",
                "#B0BEC5"
               ]
              ]
             }
            ],
            "label": "Topic 7",
            "method": "update"
           },
           {
            "args": [
             {
              "marker.color": [
               [
                "#B0BEC5",
                "#B0BEC5",
                "#B0BEC5",
                "#B0BEC5",
                "#B0BEC5",
                "#B0BEC5",
                "#B0BEC5",
                "#B0BEC5",
                "red"
               ]
              ]
             }
            ],
            "label": "Topic 8",
            "method": "update"
           }
          ]
         }
        ],
        "template": {
         "data": {
          "bar": [
           {
            "error_x": {
             "color": "rgb(36,36,36)"
            },
            "error_y": {
             "color": "rgb(36,36,36)"
            },
            "marker": {
             "line": {
              "color": "white",
              "width": 0.5
             },
             "pattern": {
              "fillmode": "overlay",
              "size": 10,
              "solidity": 0.2
             }
            },
            "type": "bar"
           }
          ],
          "barpolar": [
           {
            "marker": {
             "line": {
              "color": "white",
              "width": 0.5
             },
             "pattern": {
              "fillmode": "overlay",
              "size": 10,
              "solidity": 0.2
             }
            },
            "type": "barpolar"
           }
          ],
          "carpet": [
           {
            "aaxis": {
             "endlinecolor": "rgb(36,36,36)",
             "gridcolor": "white",
             "linecolor": "white",
             "minorgridcolor": "white",
             "startlinecolor": "rgb(36,36,36)"
            },
            "baxis": {
             "endlinecolor": "rgb(36,36,36)",
             "gridcolor": "white",
             "linecolor": "white",
             "minorgridcolor": "white",
             "startlinecolor": "rgb(36,36,36)"
            },
            "type": "carpet"
           }
          ],
          "choropleth": [
           {
            "colorbar": {
             "outlinewidth": 1,
             "tickcolor": "rgb(36,36,36)",
             "ticks": "outside"
            },
            "type": "choropleth"
           }
          ],
          "contour": [
           {
            "colorbar": {
             "outlinewidth": 1,
             "tickcolor": "rgb(36,36,36)",
             "ticks": "outside"
            },
            "colorscale": [
             [
              0,
              "#440154"
             ],
             [
              0.1111111111111111,
              "#482878"
             ],
             [
              0.2222222222222222,
              "#3e4989"
             ],
             [
              0.3333333333333333,
              "#31688e"
             ],
             [
              0.4444444444444444,
              "#26828e"
             ],
             [
              0.5555555555555556,
              "#1f9e89"
             ],
             [
              0.6666666666666666,
              "#35b779"
             ],
             [
              0.7777777777777778,
              "#6ece58"
             ],
             [
              0.8888888888888888,
              "#b5de2b"
             ],
             [
              1,
              "#fde725"
             ]
            ],
            "type": "contour"
           }
          ],
          "contourcarpet": [
           {
            "colorbar": {
             "outlinewidth": 1,
             "tickcolor": "rgb(36,36,36)",
             "ticks": "outside"
            },
            "type": "contourcarpet"
           }
          ],
          "heatmap": [
           {
            "colorbar": {
             "outlinewidth": 1,
             "tickcolor": "rgb(36,36,36)",
             "ticks": "outside"
            },
            "colorscale": [
             [
              0,
              "#440154"
             ],
             [
              0.1111111111111111,
              "#482878"
             ],
             [
              0.2222222222222222,
              "#3e4989"
             ],
             [
              0.3333333333333333,
              "#31688e"
             ],
             [
              0.4444444444444444,
              "#26828e"
             ],
             [
              0.5555555555555556,
              "#1f9e89"
             ],
             [
              0.6666666666666666,
              "#35b779"
             ],
             [
              0.7777777777777778,
              "#6ece58"
             ],
             [
              0.8888888888888888,
              "#b5de2b"
             ],
             [
              1,
              "#fde725"
             ]
            ],
            "type": "heatmap"
           }
          ],
          "histogram": [
           {
            "marker": {
             "line": {
              "color": "white",
              "width": 0.6
             }
            },
            "type": "histogram"
           }
          ],
          "histogram2d": [
           {
            "colorbar": {
             "outlinewidth": 1,
             "tickcolor": "rgb(36,36,36)",
             "ticks": "outside"
            },
            "colorscale": [
             [
              0,
              "#440154"
             ],
             [
              0.1111111111111111,
              "#482878"
             ],
             [
              0.2222222222222222,
              "#3e4989"
             ],
             [
              0.3333333333333333,
              "#31688e"
             ],
             [
              0.4444444444444444,
              "#26828e"
             ],
             [
              0.5555555555555556,
              "#1f9e89"
             ],
             [
              0.6666666666666666,
              "#35b779"
             ],
             [
              0.7777777777777778,
              "#6ece58"
             ],
             [
              0.8888888888888888,
              "#b5de2b"
             ],
             [
              1,
              "#fde725"
             ]
            ],
            "type": "histogram2d"
           }
          ],
          "histogram2dcontour": [
           {
            "colorbar": {
             "outlinewidth": 1,
             "tickcolor": "rgb(36,36,36)",
             "ticks": "outside"
            },
            "colorscale": [
             [
              0,
              "#440154"
             ],
             [
              0.1111111111111111,
              "#482878"
             ],
             [
              0.2222222222222222,
              "#3e4989"
             ],
             [
              0.3333333333333333,
              "#31688e"
             ],
             [
              0.4444444444444444,
              "#26828e"
             ],
             [
              0.5555555555555556,
              "#1f9e89"
             ],
             [
              0.6666666666666666,
              "#35b779"
             ],
             [
              0.7777777777777778,
              "#6ece58"
             ],
             [
              0.8888888888888888,
              "#b5de2b"
             ],
             [
              1,
              "#fde725"
             ]
            ],
            "type": "histogram2dcontour"
           }
          ],
          "mesh3d": [
           {
            "colorbar": {
             "outlinewidth": 1,
             "tickcolor": "rgb(36,36,36)",
             "ticks": "outside"
            },
            "type": "mesh3d"
           }
          ],
          "parcoords": [
           {
            "line": {
             "colorbar": {
              "outlinewidth": 1,
              "tickcolor": "rgb(36,36,36)",
              "ticks": "outside"
             }
            },
            "type": "parcoords"
           }
          ],
          "pie": [
           {
            "automargin": true,
            "type": "pie"
           }
          ],
          "scatter": [
           {
            "fillpattern": {
             "fillmode": "overlay",
             "size": 10,
             "solidity": 0.2
            },
            "type": "scatter"
           }
          ],
          "scatter3d": [
           {
            "line": {
             "colorbar": {
              "outlinewidth": 1,
              "tickcolor": "rgb(36,36,36)",
              "ticks": "outside"
             }
            },
            "marker": {
             "colorbar": {
              "outlinewidth": 1,
              "tickcolor": "rgb(36,36,36)",
              "ticks": "outside"
             }
            },
            "type": "scatter3d"
           }
          ],
          "scattercarpet": [
           {
            "marker": {
             "colorbar": {
              "outlinewidth": 1,
              "tickcolor": "rgb(36,36,36)",
              "ticks": "outside"
             }
            },
            "type": "scattercarpet"
           }
          ],
          "scattergeo": [
           {
            "marker": {
             "colorbar": {
              "outlinewidth": 1,
              "tickcolor": "rgb(36,36,36)",
              "ticks": "outside"
             }
            },
            "type": "scattergeo"
           }
          ],
          "scattergl": [
           {
            "marker": {
             "colorbar": {
              "outlinewidth": 1,
              "tickcolor": "rgb(36,36,36)",
              "ticks": "outside"
             }
            },
            "type": "scattergl"
           }
          ],
          "scattermap": [
           {
            "marker": {
             "colorbar": {
              "outlinewidth": 1,
              "tickcolor": "rgb(36,36,36)",
              "ticks": "outside"
             }
            },
            "type": "scattermap"
           }
          ],
          "scattermapbox": [
           {
            "marker": {
             "colorbar": {
              "outlinewidth": 1,
              "tickcolor": "rgb(36,36,36)",
              "ticks": "outside"
             }
            },
            "type": "scattermapbox"
           }
          ],
          "scatterpolar": [
           {
            "marker": {
             "colorbar": {
              "outlinewidth": 1,
              "tickcolor": "rgb(36,36,36)",
              "ticks": "outside"
             }
            },
            "type": "scatterpolar"
           }
          ],
          "scatterpolargl": [
           {
            "marker": {
             "colorbar": {
              "outlinewidth": 1,
              "tickcolor": "rgb(36,36,36)",
              "ticks": "outside"
             }
            },
            "type": "scatterpolargl"
           }
          ],
          "scatterternary": [
           {
            "marker": {
             "colorbar": {
              "outlinewidth": 1,
              "tickcolor": "rgb(36,36,36)",
              "ticks": "outside"
             }
            },
            "type": "scatterternary"
           }
          ],
          "surface": [
           {
            "colorbar": {
             "outlinewidth": 1,
             "tickcolor": "rgb(36,36,36)",
             "ticks": "outside"
            },
            "colorscale": [
             [
              0,
              "#440154"
             ],
             [
              0.1111111111111111,
              "#482878"
             ],
             [
              0.2222222222222222,
              "#3e4989"
             ],
             [
              0.3333333333333333,
              "#31688e"
             ],
             [
              0.4444444444444444,
              "#26828e"
             ],
             [
              0.5555555555555556,
              "#1f9e89"
             ],
             [
              0.6666666666666666,
              "#35b779"
             ],
             [
              0.7777777777777778,
              "#6ece58"
             ],
             [
              0.8888888888888888,
              "#b5de2b"
             ],
             [
              1,
              "#fde725"
             ]
            ],
            "type": "surface"
           }
          ],
          "table": [
           {
            "cells": {
             "fill": {
              "color": "rgb(237,237,237)"
             },
             "line": {
              "color": "white"
             }
            },
            "header": {
             "fill": {
              "color": "rgb(217,217,217)"
             },
             "line": {
              "color": "white"
             }
            },
            "type": "table"
           }
          ]
         },
         "layout": {
          "annotationdefaults": {
           "arrowhead": 0,
           "arrowwidth": 1
          },
          "autotypenumbers": "strict",
          "coloraxis": {
           "colorbar": {
            "outlinewidth": 1,
            "tickcolor": "rgb(36,36,36)",
            "ticks": "outside"
           }
          },
          "colorscale": {
           "diverging": [
            [
             0,
             "rgb(103,0,31)"
            ],
            [
             0.1,
             "rgb(178,24,43)"
            ],
            [
             0.2,
             "rgb(214,96,77)"
            ],
            [
             0.3,
             "rgb(244,165,130)"
            ],
            [
             0.4,
             "rgb(253,219,199)"
            ],
            [
             0.5,
             "rgb(247,247,247)"
            ],
            [
             0.6,
             "rgb(209,229,240)"
            ],
            [
             0.7,
             "rgb(146,197,222)"
            ],
            [
             0.8,
             "rgb(67,147,195)"
            ],
            [
             0.9,
             "rgb(33,102,172)"
            ],
            [
             1,
             "rgb(5,48,97)"
            ]
           ],
           "sequential": [
            [
             0,
             "#440154"
            ],
            [
             0.1111111111111111,
             "#482878"
            ],
            [
             0.2222222222222222,
             "#3e4989"
            ],
            [
             0.3333333333333333,
             "#31688e"
            ],
            [
             0.4444444444444444,
             "#26828e"
            ],
            [
             0.5555555555555556,
             "#1f9e89"
            ],
            [
             0.6666666666666666,
             "#35b779"
            ],
            [
             0.7777777777777778,
             "#6ece58"
            ],
            [
             0.8888888888888888,
             "#b5de2b"
            ],
            [
             1,
             "#fde725"
            ]
           ],
           "sequentialminus": [
            [
             0,
             "#440154"
            ],
            [
             0.1111111111111111,
             "#482878"
            ],
            [
             0.2222222222222222,
             "#3e4989"
            ],
            [
             0.3333333333333333,
             "#31688e"
            ],
            [
             0.4444444444444444,
             "#26828e"
            ],
            [
             0.5555555555555556,
             "#1f9e89"
            ],
            [
             0.6666666666666666,
             "#35b779"
            ],
            [
             0.7777777777777778,
             "#6ece58"
            ],
            [
             0.8888888888888888,
             "#b5de2b"
            ],
            [
             1,
             "#fde725"
            ]
           ]
          },
          "colorway": [
           "#1F77B4",
           "#FF7F0E",
           "#2CA02C",
           "#D62728",
           "#9467BD",
           "#8C564B",
           "#E377C2",
           "#7F7F7F",
           "#BCBD22",
           "#17BECF"
          ],
          "font": {
           "color": "rgb(36,36,36)"
          },
          "geo": {
           "bgcolor": "white",
           "lakecolor": "white",
           "landcolor": "white",
           "showlakes": true,
           "showland": true,
           "subunitcolor": "white"
          },
          "hoverlabel": {
           "align": "left"
          },
          "hovermode": "closest",
          "mapbox": {
           "style": "light"
          },
          "paper_bgcolor": "white",
          "plot_bgcolor": "white",
          "polar": {
           "angularaxis": {
            "gridcolor": "rgb(232,232,232)",
            "linecolor": "rgb(36,36,36)",
            "showgrid": false,
            "showline": true,
            "ticks": "outside"
           },
           "bgcolor": "white",
           "radialaxis": {
            "gridcolor": "rgb(232,232,232)",
            "linecolor": "rgb(36,36,36)",
            "showgrid": false,
            "showline": true,
            "ticks": "outside"
           }
          },
          "scene": {
           "xaxis": {
            "backgroundcolor": "white",
            "gridcolor": "rgb(232,232,232)",
            "gridwidth": 2,
            "linecolor": "rgb(36,36,36)",
            "showbackground": true,
            "showgrid": false,
            "showline": true,
            "ticks": "outside",
            "zeroline": false,
            "zerolinecolor": "rgb(36,36,36)"
           },
           "yaxis": {
            "backgroundcolor": "white",
            "gridcolor": "rgb(232,232,232)",
            "gridwidth": 2,
            "linecolor": "rgb(36,36,36)",
            "showbackground": true,
            "showgrid": false,
            "showline": true,
            "ticks": "outside",
            "zeroline": false,
            "zerolinecolor": "rgb(36,36,36)"
           },
           "zaxis": {
            "backgroundcolor": "white",
            "gridcolor": "rgb(232,232,232)",
            "gridwidth": 2,
            "linecolor": "rgb(36,36,36)",
            "showbackground": true,
            "showgrid": false,
            "showline": true,
            "ticks": "outside",
            "zeroline": false,
            "zerolinecolor": "rgb(36,36,36)"
           }
          },
          "shapedefaults": {
           "fillcolor": "black",
           "line": {
            "width": 0
           },
           "opacity": 0.3
          },
          "ternary": {
           "aaxis": {
            "gridcolor": "rgb(232,232,232)",
            "linecolor": "rgb(36,36,36)",
            "showgrid": false,
            "showline": true,
            "ticks": "outside"
           },
           "baxis": {
            "gridcolor": "rgb(232,232,232)",
            "linecolor": "rgb(36,36,36)",
            "showgrid": false,
            "showline": true,
            "ticks": "outside"
           },
           "bgcolor": "white",
           "caxis": {
            "gridcolor": "rgb(232,232,232)",
            "linecolor": "rgb(36,36,36)",
            "showgrid": false,
            "showline": true,
            "ticks": "outside"
           }
          },
          "title": {
           "x": 0.05
          },
          "xaxis": {
           "automargin": true,
           "gridcolor": "rgb(232,232,232)",
           "linecolor": "rgb(36,36,36)",
           "showgrid": false,
           "showline": true,
           "ticks": "outside",
           "title": {
            "standoff": 15
           },
           "zeroline": false,
           "zerolinecolor": "rgb(36,36,36)"
          },
          "yaxis": {
           "automargin": true,
           "gridcolor": "rgb(232,232,232)",
           "linecolor": "rgb(36,36,36)",
           "showgrid": false,
           "showline": true,
           "ticks": "outside",
           "title": {
            "standoff": 15
           },
           "zeroline": false,
           "zerolinecolor": "rgb(36,36,36)"
          }
         }
        },
        "title": {
         "font": {
          "color": "Black",
          "size": 22
         },
         "text": "<b>Intertopic Distance Map</b>",
         "x": 0.5,
         "xanchor": "center",
         "y": 0.95,
         "yanchor": "top"
        },
        "width": 650,
        "xaxis": {
         "anchor": "y",
         "domain": [
          0,
          1
         ],
         "range": [
          7.935778713226318,
          14.063105535507201
         ],
         "title": {
          "text": ""
         },
         "type": "linear",
         "visible": false
        },
        "yaxis": {
         "anchor": "x",
         "domain": [
          0,
          1
         ],
         "range": [
          3.809028697013855,
          8.579570889472961
         ],
         "title": {
          "text": ""
         },
         "type": "linear",
         "visible": false
        }
       }
      }
     },
     "metadata": {},
     "output_type": "display_data"
    }
   ],
   "source": [
    "# Reduce the number of topics (set to the number you want)\n",
    "target_num_topics = 10  # change this as needed\n",
    "topic_model.reduce_topics(docs_sample, nr_topics=target_num_topics)\n",
    "topic_model.get_document_info(df['selftext'][:1000])  # instead of df['processed']\n",
    "\n",
    "# Re-visualize the intertopic distance map\n",
    "fig = topic_model.visualize_topics()\n",
    "\n",
    "fig.write_html(f\"outputs_lesson/bertopic_topics_{target_num_topics}.html\")\n",
    "fig.show()"
   ]
  },
  {
   "cell_type": "markdown",
   "id": "5864d65a-91b5-49de-a94f-4b671f9a8d57",
   "metadata": {},
   "source": [
    "As you can tell, we no longer have so many overlapping topics. That's good!"
   ]
  },
  {
   "cell_type": "markdown",
   "id": "2e3d84b6",
   "metadata": {},
   "source": [
    "<a id='repr'></a>\n",
    "\n",
    "# Finding Representative Posts\n",
    "\n",
    "We can use BERTopic to find representative posts for a topic. So if you're interested in exploring posts from a particular topic, this is how you do that.\n",
    "\n",
    "Let's first look at the top words for each topic:"
   ]
  },
  {
   "cell_type": "code",
   "execution_count": 47,
   "id": "33b2689c-07ac-4c46-9b7c-df5fb32134ed",
   "metadata": {},
   "outputs": [
    {
     "name": "stdout",
     "output_type": "stream",
     "text": [
      "Topic 0: said, told, like, friends, know, got, feel, asked, want, going\n",
      "Topic 1: family, kids, wife, told, sister, daughter, like, parents, want, brother\n",
      "Topic 2: baby, pregnant, want, pregnancy, child, said, abortion, wife, told, think\n",
      "Topic 3: like, food, people, eat, said, seat, eating, asked, guy, waitress\n",
      "Topic 4: teacher, kids, class, students, school, told, said, daughter, got, yard\n",
      "Topic 5: tip, pay, card, money, manager, said, bill, left, shop, creditcard\n",
      "Topic 6: vegan, meat, food, vegetarian, eat, daughter, said, eatmeat, dishes, diet\n",
      "Topic 7: gay, friends, like, straight, people, group, claire, word, bisexual, said\n",
      "Topic 8: dog, dogs, park, said, walking, like, told, people, swimming, leave\n"
     ]
    }
   ],
   "source": [
    "for topic_num in topic_model.get_topic_info().Topic:\n",
    "    if topic_num == -1:\n",
    "        continue  # skip the outlier topic if you want\n",
    "    top_words = [word for word, _ in topic_model.get_topic(topic_num)]\n",
    "    print(f\"Topic {topic_num}: {', '.join(top_words)}\")"
   ]
  },
  {
   "cell_type": "markdown",
   "id": "7145fd04-f979-44da-b2bc-7866d754cf8a",
   "metadata": {},
   "source": [
    "Let's say I'm interested in topic 2.\n",
    "\n",
    "**⚠️ Warning:** If you run this code again your topics might look different due to the probabilistic nature of UMAP. "
   ]
  },
  {
   "cell_type": "code",
   "execution_count": 54,
   "id": "c2eae87c-596b-4a0d-913b-5b16f89d3cc0",
   "metadata": {},
   "outputs": [
    {
     "name": "stdout",
     "output_type": "stream",
     "text": [
      "Example 39 for topic 2:\n",
      " Me and my girlfriend have been in a sexually active relationship for the past year and half, about 2 months ago she promised me that if I stopped using a condom, she would go on the pill, and if she does conceive by accident, she would 100% abort as soon as possible, however this morning she revealed to me that she's a bit over a month pregnant, and long story short she doesn't to abort.\n",
      "\n",
      "&#x200B;\n",
      "\n",
      "Obviously I was extremeeeely pissed off, as I trusted her to abort, that's the only reason I stopped using a condom, and I really do not want a child right now, it'll really fuck me over, so I gave her an ultimatum, either have an abortion this week or I'll leave and neither she, her family or the kid (if she keeps it) will ever see me again. Am I the asshole or is she? \n",
      "\n",
      "Example 40 for topic 2:\n",
      " My long time girlfriend told me recently that she is interested in being the surrogate for a child for a friend of hers who is gay and wants a child of his own.\n",
      "\n",
      "I respect her desire to help and I told her: “This is your body, and I don’t think I have a say in what you can or can’t do with it. That being said, if you want to be the surrogate for him, I don’t think I would want to continue this relationship any further.” \n",
      "\n",
      "Example 54 for topic 2:\n",
      " Why do we take people at their word for the largest decision in our life, to raise a child? My GF never gave one iota of suspicion about her fidelity. That being said, I always told her I wanted a paternity test for any of my children. I believe paternity test should be included in the prenatal care package and everyone at least given the option to find for 100% if the child is of their lineage. \n",
      "\n",
      "During the prenatal screening they discuss possible health issues based on the parents family health. But they do this counseling without any scientific proof you are the father. Why should only the woman know 100% the baby is hers? Because society deems me an asshole for wanting that certainty? \n",
      "\n"
     ]
    }
   ],
   "source": [
    "topic_num = 2  # or whatever topic you're interested in\n",
    "\n",
    "# Get indices of documents in that topic\n",
    "indices = [i for i, t in enumerate(topics) if t == topic_num]\n",
    "\n",
    "# Show original texts from df\n",
    "for i in indices[:3]:  # show up to 3 examples\n",
    "    print(f\"Example {i+1} for topic {topic_num}:\\n\", df['selftext'].iloc[i], \"\\n\")"
   ]
  },
  {
   "cell_type": "markdown",
   "id": "b397b32f-76fe-43f0-b3cb-eab43631104b",
   "metadata": {},
   "source": [
    "## Grab all posts from a certain topic (for further processing)\n",
    "\n",
    "Once you’ve trained a BERTopic model, each document is assigned a dominant topic. You can use this assignment to extract all posts that belong to a specific topic for closer analysis, visualization, or downstream tasks.\n",
    "\n",
    "For instance, let's create a new dataframe with all posts that have topic 2 as the dominant topic."
   ]
  },
  {
   "cell_type": "code",
   "execution_count": 58,
   "id": "5c6b1acf-65f1-4401-87dc-6c7d7f9ebb2a",
   "metadata": {},
   "outputs": [],
   "source": [
    "# Get indices of posts with topic 2\n",
    "topic_num = 2\n",
    "topic_2_indices = [i for i, t in enumerate(topics) if t == topic_num]\n",
    "\n",
    "df_topic_2 = df.iloc[topic_2_indices].copy()\n",
    "df_topic_2['dominant_topic'] = topic_num"
   ]
  },
  {
   "cell_type": "code",
   "execution_count": 60,
   "id": "94c3e471-76de-4612-a41a-98f898582f3b",
   "metadata": {},
   "outputs": [
    {
     "data": {
      "text/html": [
       "<div>\n",
       "<style scoped>\n",
       "    .dataframe tbody tr th:only-of-type {\n",
       "        vertical-align: middle;\n",
       "    }\n",
       "\n",
       "    .dataframe tbody tr th {\n",
       "        vertical-align: top;\n",
       "    }\n",
       "\n",
       "    .dataframe thead th {\n",
       "        text-align: right;\n",
       "    }\n",
       "</style>\n",
       "<table border=\"1\" class=\"dataframe\">\n",
       "  <thead>\n",
       "    <tr style=\"text-align: right;\">\n",
       "      <th></th>\n",
       "      <th>idint</th>\n",
       "      <th>idstr</th>\n",
       "      <th>created</th>\n",
       "      <th>self</th>\n",
       "      <th>nsfw</th>\n",
       "      <th>author</th>\n",
       "      <th>title</th>\n",
       "      <th>url</th>\n",
       "      <th>selftext</th>\n",
       "      <th>score</th>\n",
       "      <th>subreddit</th>\n",
       "      <th>distinguish</th>\n",
       "      <th>textlen</th>\n",
       "      <th>num_comments</th>\n",
       "      <th>flair_text</th>\n",
       "      <th>flair_css_class</th>\n",
       "      <th>augmented_at</th>\n",
       "      <th>augmented_count</th>\n",
       "      <th>pp_text</th>\n",
       "      <th>dominant_topic</th>\n",
       "    </tr>\n",
       "  </thead>\n",
       "  <tbody>\n",
       "    <tr>\n",
       "      <th>38</th>\n",
       "      <td>595325362</td>\n",
       "      <td>t3_9ufvzm</td>\n",
       "      <td>1541441116</td>\n",
       "      <td>1.0</td>\n",
       "      <td>0.0</td>\n",
       "      <td>Bumbarass2001</td>\n",
       "      <td>AITA For telling my girlfriend to get an abort...</td>\n",
       "      <td>NaN</td>\n",
       "      <td>Me and my girlfriend have been in a sexually a...</td>\n",
       "      <td>671.0</td>\n",
       "      <td>AmItheAsshole</td>\n",
       "      <td>NaN</td>\n",
       "      <td>774.0</td>\n",
       "      <td>705.0</td>\n",
       "      <td>Everyone Sucks</td>\n",
       "      <td>ass</td>\n",
       "      <td>NaN</td>\n",
       "      <td>NaN</td>\n",
       "      <td>girlfriend sexually_active relationship past y...</td>\n",
       "      <td>2</td>\n",
       "    </tr>\n",
       "    <tr>\n",
       "      <th>39</th>\n",
       "      <td>595912032</td>\n",
       "      <td>t3_9usgo0</td>\n",
       "      <td>1541538722</td>\n",
       "      <td>1.0</td>\n",
       "      <td>0.0</td>\n",
       "      <td>MrTaylor11</td>\n",
       "      <td>AITA for telling my girlfriend that if she wan...</td>\n",
       "      <td>NaN</td>\n",
       "      <td>My long time girlfriend told me recently that ...</td>\n",
       "      <td>17247.0</td>\n",
       "      <td>AmItheAsshole</td>\n",
       "      <td>NaN</td>\n",
       "      <td>423.0</td>\n",
       "      <td>2355.0</td>\n",
       "      <td>Not the A-hole</td>\n",
       "      <td>not</td>\n",
       "      <td>NaN</td>\n",
       "      <td>NaN</td>\n",
       "      <td>long time girlfriend told recently interested ...</td>\n",
       "      <td>2</td>\n",
       "    </tr>\n",
       "    <tr>\n",
       "      <th>53</th>\n",
       "      <td>601928856</td>\n",
       "      <td>t3_9ydfa0</td>\n",
       "      <td>1542602086</td>\n",
       "      <td>1.0</td>\n",
       "      <td>0.0</td>\n",
       "      <td>Thinkcali</td>\n",
       "      <td>AITA for asking my faithful girlfriend for a p...</td>\n",
       "      <td>NaN</td>\n",
       "      <td>Why do we take people at their word for the la...</td>\n",
       "      <td>201.0</td>\n",
       "      <td>AmItheAsshole</td>\n",
       "      <td>NaN</td>\n",
       "      <td>697.0</td>\n",
       "      <td>386.0</td>\n",
       "      <td>NaN</td>\n",
       "      <td>NaN</td>\n",
       "      <td>NaN</td>\n",
       "      <td>NaN</td>\n",
       "      <td>people word largest decision life raise child ...</td>\n",
       "      <td>2</td>\n",
       "    </tr>\n",
       "    <tr>\n",
       "      <th>65</th>\n",
       "      <td>606566007</td>\n",
       "      <td>t3_a14tbr</td>\n",
       "      <td>1543398570</td>\n",
       "      <td>1.0</td>\n",
       "      <td>0.0</td>\n",
       "      <td>Outlashed</td>\n",
       "      <td>AITA for telling my GF to get an abort?</td>\n",
       "      <td>NaN</td>\n",
       "      <td>Reference: I'm 22, she's 23. - Europe.\\n\\nWe s...</td>\n",
       "      <td>6961.0</td>\n",
       "      <td>AmItheAsshole</td>\n",
       "      <td>NaN</td>\n",
       "      <td>2888.0</td>\n",
       "      <td>2491.0</td>\n",
       "      <td>Not the A-hole</td>\n",
       "      <td>not</td>\n",
       "      <td>NaN</td>\n",
       "      <td>NaN</td>\n",
       "      <td>reference europe started dating mid august tol...</td>\n",
       "      <td>2</td>\n",
       "    </tr>\n",
       "    <tr>\n",
       "      <th>66</th>\n",
       "      <td>607003408</td>\n",
       "      <td>t3_a1e6ts</td>\n",
       "      <td>1543466883</td>\n",
       "      <td>1.0</td>\n",
       "      <td>0.0</td>\n",
       "      <td>waterglass1986</td>\n",
       "      <td>AITA for abandoning my pregnant girlfriend</td>\n",
       "      <td>NaN</td>\n",
       "      <td>My girlfriend of two years got pregnant a few ...</td>\n",
       "      <td>11760.0</td>\n",
       "      <td>AmItheAsshole</td>\n",
       "      <td>NaN</td>\n",
       "      <td>794.0</td>\n",
       "      <td>2203.0</td>\n",
       "      <td>Not the A-hole</td>\n",
       "      <td>not</td>\n",
       "      <td>NaN</td>\n",
       "      <td>NaN</td>\n",
       "      <td>girlfriend years got pregnant months_ago condo...</td>\n",
       "      <td>2</td>\n",
       "    </tr>\n",
       "  </tbody>\n",
       "</table>\n",
       "</div>"
      ],
      "text/plain": [
       "        idint      idstr     created  self  nsfw          author  \\\n",
       "38  595325362  t3_9ufvzm  1541441116   1.0   0.0   Bumbarass2001   \n",
       "39  595912032  t3_9usgo0  1541538722   1.0   0.0      MrTaylor11   \n",
       "53  601928856  t3_9ydfa0  1542602086   1.0   0.0       Thinkcali   \n",
       "65  606566007  t3_a14tbr  1543398570   1.0   0.0       Outlashed   \n",
       "66  607003408  t3_a1e6ts  1543466883   1.0   0.0  waterglass1986   \n",
       "\n",
       "                                                title  url  \\\n",
       "38  AITA For telling my girlfriend to get an abort...  NaN   \n",
       "39  AITA for telling my girlfriend that if she wan...  NaN   \n",
       "53  AITA for asking my faithful girlfriend for a p...  NaN   \n",
       "65            AITA for telling my GF to get an abort?  NaN   \n",
       "66         AITA for abandoning my pregnant girlfriend  NaN   \n",
       "\n",
       "                                             selftext    score      subreddit  \\\n",
       "38  Me and my girlfriend have been in a sexually a...    671.0  AmItheAsshole   \n",
       "39  My long time girlfriend told me recently that ...  17247.0  AmItheAsshole   \n",
       "53  Why do we take people at their word for the la...    201.0  AmItheAsshole   \n",
       "65  Reference: I'm 22, she's 23. - Europe.\\n\\nWe s...   6961.0  AmItheAsshole   \n",
       "66  My girlfriend of two years got pregnant a few ...  11760.0  AmItheAsshole   \n",
       "\n",
       "   distinguish  textlen  num_comments      flair_text flair_css_class  \\\n",
       "38         NaN    774.0         705.0  Everyone Sucks             ass   \n",
       "39         NaN    423.0        2355.0  Not the A-hole             not   \n",
       "53         NaN    697.0         386.0             NaN             NaN   \n",
       "65         NaN   2888.0        2491.0  Not the A-hole             not   \n",
       "66         NaN    794.0        2203.0  Not the A-hole             not   \n",
       "\n",
       "    augmented_at  augmented_count  \\\n",
       "38           NaN              NaN   \n",
       "39           NaN              NaN   \n",
       "53           NaN              NaN   \n",
       "65           NaN              NaN   \n",
       "66           NaN              NaN   \n",
       "\n",
       "                                              pp_text  dominant_topic  \n",
       "38  girlfriend sexually_active relationship past y...               2  \n",
       "39  long time girlfriend told recently interested ...               2  \n",
       "53  people word largest decision life raise child ...               2  \n",
       "65  reference europe started dating mid august tol...               2  \n",
       "66  girlfriend years got pregnant months_ago condo...               2  "
      ]
     },
     "execution_count": 60,
     "metadata": {},
     "output_type": "execute_result"
    }
   ],
   "source": [
    "df_topic_2[:5]"
   ]
  },
  {
   "cell_type": "markdown",
   "id": "02071cf1-4f96-49ec-86e5-fb8b69ee2cb1",
   "metadata": {},
   "source": [
    "## 💭 Reflection: Why Extracting Topic-Specific Posts Matters\n",
    "\n",
    "You can now output this DF as a CSV file and do any of the analyses we are considering on this dataframe, to get a better insight into this specific topic. Some things to consider:\n",
    "\n",
    "- **Do close reading at scale:** Instead of reading all posts blindly, you can target a subset organized around a common discourse or theme like family conflict, workplace dynamics, or gendered expectations.\n",
    "- **Investigate interpretive boundaries:** Some posts may straddle multiple themes or fall into unexpected clusters—these are good entry points for discussing ambiguity, interpretive friction, and the limits of topic modeling.\n"
   ]
  }
 ],
 "metadata": {
  "kernelspec": {
   "display_name": "dlab",
   "language": "python",
   "name": "dlab"
  },
  "language_info": {
   "codemirror_mode": {
    "name": "ipython",
    "version": 3
   },
   "file_extension": ".py",
   "mimetype": "text/x-python",
   "name": "python",
   "nbconvert_exporter": "python",
   "pygments_lexer": "ipython3",
   "version": "3.10.13"
  }
 },
 "nbformat": 4,
 "nbformat_minor": 5
}
