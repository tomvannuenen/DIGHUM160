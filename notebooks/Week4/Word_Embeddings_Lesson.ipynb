{
 "cells": [
  {
   "cell_type": "markdown",
   "metadata": {
    "id": "WClw_VPOmwXd"
   },
   "source": [
    "<img src=\"../../img/backdrop-wh.png\" alt=\"Drawing\" style=\"width: 300px;\"/>  \n",
    "\n",
    "# Word Embeddings\n",
    "\n",
    "* * * "
   ]
  },
  {
   "cell_type": "markdown",
   "metadata": {
    "id": "WClw_VPOmwXd",
    "jp-MarkdownHeadingCollapsed": true,
    "tags": []
   },
   "source": [
    "<div class=\"alert alert-success\">  \n",
    "    \n",
    "### Learning Objectives \n",
    "    \n",
    "* Understand word embeddings, and how they are used in information retrieval.\n",
    "* Use `gensim`'s `word2vec` method to create word vectors for a corpus.\n",
    "* Use word embeddings to calculate word similarity.\n",
    "* Use word embeddings to reflect on implicit biases in your data.\n",
    "</div>\n",
    "\n",
    "### Icons Used in This Notebook\n",
    "🔔 **Question**: A quick question to help you understand what's going on.<br>\n",
    "💡 **Tip**: How to do something a bit more efficiently or effectively.<br>\n",
    "⚠️ **Warning:** Heads-up about tricky stuff or common mistakes.<br>\n",
    "💭 **Reflection**: Reflecting on ethical implications, biases, and social impact in data science.<br>\n",
    "\n",
    "### Sections\n",
    "1. [Word Embeddings](#we)\n",
    "2. [Using Comments Data](#comments)\n",
    "3. [Constructing a Word2Vec Model](#w2v)\n",
    "4. [Word Similarity](#sim)\n",
    "5. [Exploring Language Biases With Word Embeddings](#bias)\n"
   ]
  },
  {
   "cell_type": "markdown",
   "metadata": {
    "id": "MfjNP33MZOoi"
   },
   "source": [
    "<a id='we'></a>\n",
    "\n",
    "# Word Embeddings\n",
    "\n",
    "The goal of word embedding models is to learn **numerical representations** of text corpora. Like with TF-IDF, it's all about how we construct that numerical representation.\n",
    "\n",
    "When using word embeddings, we look for a **vector** of numbers to represent each term. The actual numbers themselves won't be meaningful to us as humans. However, if successful, the vectors for each term should encode information about the meaning or concept the term represents, as well as the relationship between it and other terms in the vocabulary.\n",
    "\n",
    "In this notebook, we'll work with word embeddings using Word2Vec.\n",
    "\n",
    "## Word2Vec\n",
    "\n",
    "**Word2Vec** is one example of a word embeddings model. It learns by taking words and their contexts (e.g. sentences) into account, and can then try to predict other words. Given enough data, usage and contexts, Word2Vec can make accurate guesses about a word’s meaning based on its appearances. Those guesses can be used to establish a word’s association with other words (e.g. \"Paris\" is to \"France\" as “Berlin” is to “Germany”), or cluster documents and classify them by topic.\n",
    "\n",
    "<img src=\"../../img/we.png\" alt=\"Word Embeddings\" width=\"600\"/>\n",
    "\n",
    "Word vector models such as Word2Vec are fully **unsupervised**: they learn all of these meanings and relationships without any advance knowledge. Unsupervised learning requires the specification of a right task. We won't go into detail in this lesson, but you can roughly think of the task as predicting nearby words, given a specific word. Read [this post](https://tomvannuenen.medium.com/analyzing-reddit-communities-with-python-part-6-word-embeddings-f92bba876d60) if you want a deeper introduction."
   ]
  },
  {
   "cell_type": "markdown",
   "metadata": {},
   "source": [
    "### Note on package installation\n",
    "The below cell makes sure all the Python packages needed for this lesson are installed.\n",
    "If you’re working on Datahub, you might not have everything yet.\n",
    "Running this cell will check for each package and install it if it’s missing, so your notebook runs smoothly.\n",
    "\n",
    "- If you are running this notebook on **DataHub**, you may need to **uncomment and run** the `%pip install ...` line below if you get an error about a missing package. Restart your kernel after running this cell!\n",
    "- If you are working **locally** (on your own computer), you should already have all required packages installed via your Conda environment (see the ***\"Local Python and Jupyter Setup\"*** page on bCourses). Only use the `pip install` line if you see an ImportError and know what you’re doing."
   ]
  },
  {
   "cell_type": "code",
   "execution_count": 1,
   "metadata": {
    "scrolled": true
   },
   "outputs": [],
   "source": [
    "# Package install - restart your kernel after running this!\n",
    "#%pip install bokeh nltk inflect"
   ]
  },
  {
   "cell_type": "code",
   "execution_count": 2,
   "metadata": {
    "scrolled": true
   },
   "outputs": [],
   "source": [
    "# Package imports\n",
    "import os\n",
    "import pandas as pd\n",
    "import numpy as np\n",
    "import gdown\n",
    "\n",
    "import pickle\n",
    "from gensim.models import Word2Vec\n",
    "import multiprocessing\n",
    "\n",
    "import matplotlib.pyplot as plt\n",
    "from sklearn.manifold import TSNE"
   ]
  },
  {
   "cell_type": "markdown",
   "metadata": {},
   "source": [
    "<a id='comments'></a>\n",
    "\n",
    "# Using Comments Data\n",
    "\n",
    "As we will be considering the language biases in this notebook, we will use the **comments** of the r/amitheasshole subreddit this time. The thinking behind this is that this data will be derived from more people, and include more evaluative statements. After all, comments on r/amitheasshole generally evaluate the original posts.\n",
    "\n",
    "💭 **Reflection**: Whether you want to be using submissions or comments for your own data depends on the question you are asking of that data! Make sure to think about this.\n",
    "\n",
    "To save us some time, we have done the preprocessing for you and saved the trigrams (a list of lists) in a pickle file."
   ]
  },
  {
   "cell_type": "code",
   "execution_count": 3,
   "metadata": {},
   "outputs": [
    {
     "name": "stderr",
     "output_type": "stream",
     "text": [
      "Downloading...\n",
      "From: https://drive.google.com/uc?id=1lgRrBxrNzK61S-VsYCIlF9hgZaLztOVY\n",
      "To: /Users/tomvannuenen/Library/CloudStorage/Dropbox/GitHub/DEV/DIGHUM160/data/aita_comment_trigrams.pickle\n",
      "100%|██████████████████████████████████████| 38.7M/38.7M [00:01<00:00, 32.9MB/s]\n"
     ]
    },
    {
     "data": {
      "text/plain": [
       "'../../data/aita_comment_trigrams.pickle'"
      ]
     },
     "execution_count": 3,
     "metadata": {},
     "output_type": "execute_result"
    }
   ],
   "source": [
    "gdown.download(\"https://drive.google.com/uc?id=1lgRrBxrNzK61S-VsYCIlF9hgZaLztOVY\", \"../../data/aita_comment_trigrams.pickle\", quiet=False)"
   ]
  },
  {
   "cell_type": "code",
   "execution_count": 4,
   "metadata": {},
   "outputs": [],
   "source": [
    "with open('../../data/aita_comment_trigrams.pickle', 'rb') as f:\n",
    "    # Load the object from the file\n",
    "    comments = pickle.load(f)"
   ]
  },
  {
   "cell_type": "code",
   "execution_count": 5,
   "metadata": {},
   "outputs": [
    {
     "data": {
      "text/plain": [
       "['like',\n",
       " 'genuine',\n",
       " 'reason',\n",
       " 'upset',\n",
       " 'question',\n",
       " 'sound',\n",
       " 'people',\n",
       " 'ask',\n",
       " 'curious',\n",
       " 'direct',\n",
       " 'question',\n",
       " 'superior']"
      ]
     },
     "execution_count": 5,
     "metadata": {},
     "output_type": "execute_result"
    }
   ],
   "source": [
    "# Split into lists of words for Word2Vec\n",
    "comment_list = [comment.split() for comment in comments]\n",
    "comment_list[0]"
   ]
  },
  {
   "cell_type": "markdown",
   "metadata": {},
   "source": [
    "**Use the `Preprocessing_Project.ipynb` notebook if you want to preprocess your own comment data.**\n",
    "\n",
    "**Use the `Word_Embeddings_Project.ipynb` notebook to run the Word2Vec operations explained in this notebook on your own data.**"
   ]
  },
  {
   "cell_type": "markdown",
   "metadata": {
    "id": "Wk2mxX1HZOpk"
   },
   "source": [
    "<a id='w2v'></a>\n",
    "\n",
    "# Constructing a Word2Vec Model\n",
    "\n",
    "Let's create our word embeddings model. The input to this model is our corpus split up into words. The model's output is a set of \"vectors\" (one for each word) in $N$ dimensions (we choose $N$ before creating the model). Think of these vectors as \"features\", capturing latent meaning.\n",
    "\n",
    "This model allows us to group the vectors of similar words together in vector space. We can then reduce the dimensionality to visualize the results in a way humans can understand (such as in a 2-dimensional space), or to perform linear algebra operations in order to find out to what extent words are related.\n",
    "\n",
    "We now instantiate and train our Word2Vec model, using the parameters below."
   ]
  },
  {
   "cell_type": "code",
   "execution_count": 6,
   "metadata": {
    "id": "sQq117-pZOpl"
   },
   "outputs": [],
   "source": [
    "import multiprocessing\n",
    "cores = min(4, multiprocessing.cpu_count())\n",
    "\n",
    "n_features = 300     # Word vector dimensionality (how many features each word will be given)\n",
    "min_word_count = 10  # Minimum word count to be taken into account\n",
    "n_workers = cores    # Number of threads to run in parallel (equal to your amount of cores)\n",
    "window = 5           # Context window size\n",
    "downsampling = 1e-2  # Downsample setting for frequent words\n",
    "seed = 1             # Seed for the random number generator (to create reproducible results)\n",
    "sg = 1               # Skip-gram = 1, CBOW = 0\n",
    "epochs = 20          # Number of iterations over the corpus\n",
    "\n",
    "model = Word2Vec(\n",
    "    sentences=comment_list,\n",
    "    workers=n_workers,\n",
    "    vector_size=n_features,\n",
    "    min_count=min_word_count,\n",
    "    window=window,\n",
    "    sample=downsampling,\n",
    "    seed=seed,\n",
    "    sg=sg)"
   ]
  },
  {
   "cell_type": "markdown",
   "metadata": {
    "id": "xrNV3eYeZOpo"
   },
   "source": [
    "That was it! We have a Word Embeddings model now. Let's save it so that we don't have to train it again. Then, we can reload the embeddings so that we don't have to train it every single time:"
   ]
  },
  {
   "cell_type": "code",
   "execution_count": 7,
   "metadata": {
    "id": "JRX-lzwSzFI5"
   },
   "outputs": [],
   "source": [
    "model.save('../../data/aita_comments.emb')"
   ]
  },
  {
   "cell_type": "code",
   "execution_count": 8,
   "metadata": {
    "id": "SZMDwWBuGTn7"
   },
   "outputs": [],
   "source": [
    "model = Word2Vec.load('../../data/aita_comments.emb')"
   ]
  },
  {
   "cell_type": "markdown",
   "metadata": {
    "id": "wWQC4S9IZOpu"
   },
   "source": [
    "How many terms are in our vocabulary? Whenever interacting with the word vector dictionary, we use the `wv` attribute:"
   ]
  },
  {
   "cell_type": "code",
   "execution_count": 9,
   "metadata": {},
   "outputs": [
    {
     "data": {
      "text/plain": [
       "14732"
      ]
     },
     "execution_count": 9,
     "metadata": {},
     "output_type": "execute_result"
    }
   ],
   "source": [
    "len(model.wv)"
   ]
  },
  {
   "cell_type": "markdown",
   "metadata": {
    "id": "WVdNakwKfm3H"
   },
   "source": [
    "Let's take a peek at the word vectors our model has learned. We can take a look at the individual words using the `index_to_key` attribute, and the word vectors themselves can be accessed with the `vectors` attribute:"
   ]
  },
  {
   "cell_type": "code",
   "execution_count": 10,
   "metadata": {
    "colab": {
     "base_uri": "https://localhost:8080/",
     "height": 487
    },
    "executionInfo": {
     "elapsed": 1224,
     "status": "ok",
     "timestamp": 1640016826009,
     "user": {
      "displayName": "Tom van Nuenen",
      "photoUrl": "https://lh3.googleusercontent.com/a-/AOh14GhuBmxDvW5I_LJfZtwlPqMFD8QGLVPP3skvpkTnuQ=s64",
      "userId": "10012302451096885058"
     },
     "user_tz": -60
    },
    "id": "R6A19I38fjTT",
    "outputId": "e6d18f9d-cd53-4ae6-d17e-7cf353618735"
   },
   "outputs": [
    {
     "data": {
      "text/plain": [
       "'like'"
      ]
     },
     "execution_count": 10,
     "metadata": {},
     "output_type": "execute_result"
    }
   ],
   "source": [
    "model.wv.index_to_key[0]"
   ]
  },
  {
   "cell_type": "code",
   "execution_count": 11,
   "metadata": {},
   "outputs": [
    {
     "data": {
      "text/plain": [
       "array([-0.01291725, -0.14628199, -0.16287501,  0.20516129, -0.08516674,\n",
       "       -0.06686383, -0.09467802,  0.08903366, -0.02479691, -0.00989272,\n",
       "       -0.05429182, -0.17069453, -0.16520688,  0.01102412, -0.14861892,\n",
       "       -0.02276451,  0.07164333,  0.11323328, -0.00593079, -0.09024642,\n",
       "       -0.092025  ,  0.07415698,  0.18604882,  0.10795598,  0.11133849,\n",
       "        0.03900561, -0.06857847,  0.11591092,  0.00066382, -0.01166545,\n",
       "       -0.08929076,  0.09341549,  0.09239021,  0.146482  ,  0.00935456,\n",
       "        0.10211301,  0.03645796, -0.31290436, -0.05741337,  0.21246943,\n",
       "       -0.07573974,  0.09415843, -0.1017077 , -0.16625354, -0.10173586,\n",
       "        0.05985333, -0.11576268, -0.0865282 , -0.0116871 , -0.04687705,\n",
       "       -0.17611486, -0.07802854, -0.01319208,  0.04710244,  0.27753153,\n",
       "        0.16108567,  0.17645742, -0.11211121,  0.0783837 ,  0.10518453,\n",
       "       -0.04763439, -0.03424399, -0.15800072,  0.02141627,  0.0550593 ,\n",
       "        0.0610644 ,  0.02268777,  0.09264158, -0.26632464,  0.07545078,\n",
       "       -0.02391604, -0.05153536, -0.04466007, -0.09716185, -0.07295068,\n",
       "        0.07433269,  0.08692966, -0.01186244, -0.04656843, -0.02762191,\n",
       "       -0.19498639, -0.10075641,  0.10996264,  0.15197064, -0.15945174,\n",
       "       -0.03880519, -0.08004695, -0.19381282, -0.11280211, -0.06650029,\n",
       "        0.17834099, -0.01446974,  0.17049867, -0.11776431, -0.01905015,\n",
       "        0.00154801,  0.09363832, -0.03479008, -0.06711826,  0.07540826,\n",
       "       -0.20501095,  0.07078654,  0.05466525,  0.10335279,  0.07881386,\n",
       "        0.13178179,  0.02329294,  0.31809714, -0.07565495,  0.06801828,\n",
       "        0.01359218,  0.13965419, -0.14832093,  0.2069789 ,  0.04217236,\n",
       "        0.13808598,  0.03109676,  0.01688761,  0.06549717, -0.09573435,\n",
       "        0.3679572 ,  0.030085  , -0.03049021, -0.00188789,  0.09116936,\n",
       "        0.11131144,  0.13302514,  0.02021093, -0.02095421,  0.11832976,\n",
       "        0.04487869,  0.04758896, -0.01606349, -0.11858186,  0.00638889,\n",
       "        0.02804934,  0.13798203,  0.09822242, -0.01531549, -0.09672981,\n",
       "        0.12466054, -0.09311137, -0.12433304,  0.04542471,  0.12075225,\n",
       "       -0.02991625, -0.04720337, -0.11948043,  0.12216514, -0.2801921 ,\n",
       "       -0.05625728, -0.04178681, -0.05642134,  0.02356328,  0.04178791,\n",
       "        0.13086845, -0.15240124, -0.00316792, -0.09666409, -0.05724003,\n",
       "        0.13104708,  0.12446908, -0.10605106,  0.05548305, -0.07687141,\n",
       "        0.08218049,  0.00490241,  0.06934414,  0.17290662,  0.0619234 ,\n",
       "       -0.0105064 ,  0.04853677,  0.1090565 ,  0.04620618,  0.21264826,\n",
       "       -0.10982183, -0.07914934, -0.21297139, -0.06741692,  0.04249684,\n",
       "       -0.14044599, -0.15268481, -0.24940853,  0.13775215, -0.05646116,\n",
       "       -0.00816424,  0.03357859, -0.05143222, -0.15270784,  0.03311627,\n",
       "        0.01039942,  0.04719431, -0.07516971,  0.00423683,  0.08658993,\n",
       "        0.00348031,  0.14525668,  0.02018302, -0.13781936,  0.08349324,\n",
       "       -0.06014183,  0.12407515,  0.06600899, -0.13355935,  0.14742579,\n",
       "       -0.16346774,  0.09659638, -0.01945237, -0.03582004,  0.04750013,\n",
       "        0.05402939, -0.11035592, -0.06779076,  0.00634516,  0.15151899,\n",
       "       -0.06680506, -0.06898019,  0.00364438, -0.06276865, -0.11250102,\n",
       "       -0.0831449 , -0.03685179, -0.21905914, -0.14796324, -0.00344392,\n",
       "       -0.12356745,  0.14881064,  0.0409606 , -0.08773834,  0.04976835,\n",
       "       -0.02090323,  0.03572145, -0.18950112, -0.0146032 , -0.15538554,\n",
       "       -0.00244326,  0.07624103,  0.00322881,  0.00992714, -0.12290414,\n",
       "        0.07978134, -0.36256036,  0.0217023 ,  0.11076238,  0.12212265,\n",
       "       -0.06755451, -0.02587892,  0.0399154 , -0.21816401,  0.01835626,\n",
       "       -0.12333659,  0.11137835, -0.037928  , -0.17866683, -0.09344951,\n",
       "       -0.05777706,  0.09839314, -0.03699377, -0.07773295, -0.1538073 ,\n",
       "        0.07191402, -0.08383697, -0.0266576 ,  0.17899925, -0.14353432,\n",
       "        0.05924262,  0.22366096,  0.06923019,  0.02515165,  0.04210138,\n",
       "       -0.09041823, -0.04614089, -0.07927245, -0.0290082 ,  0.16513233,\n",
       "       -0.05031363,  0.12706491,  0.04556084,  0.1559352 , -0.06058406,\n",
       "        0.12927142,  0.04905747, -0.07446419,  0.07004005,  0.02919846,\n",
       "       -0.15619455, -0.17953207, -0.14690511,  0.19706137,  0.31155592,\n",
       "        0.12601781,  0.25372145,  0.17019922, -0.09541249,  0.29464048,\n",
       "        0.20951435, -0.10644905,  0.1319875 ,  0.43316036, -0.21796352],\n",
       "      dtype=float32)"
      ]
     },
     "execution_count": 11,
     "metadata": {},
     "output_type": "execute_result"
    }
   ],
   "source": [
    "model.wv.vectors[0]"
   ]
  },
  {
   "cell_type": "markdown",
   "metadata": {},
   "source": [
    "Looking at it won't make a whole lot of sense to us! It's just a bunch of numbers. However, we can do semantic operations on these vectors, such as getting related terms."
   ]
  },
  {
   "cell_type": "markdown",
   "metadata": {
    "id": "xw4th__0ZOp0"
   },
   "source": [
    "<a id='sim'></a>\n",
    "\n",
    "# Word Similarity\n",
    "\n",
    "With the information in our word embeddings model, we can try to find similarities between words that interest us (i.e. words that have a similar vector). Let's create a function that retrieves related terms to some input. We're going to use the `most_similar()` function in `gensim` as part of this helper function."
   ]
  },
  {
   "cell_type": "code",
   "execution_count": 12,
   "metadata": {
    "id": "v1HVouFqZOp0"
   },
   "outputs": [],
   "source": [
    "def get_most_similar_terms(model, token, topn=20):\n",
    "    \"\"\"Look up the top N most similar terms to the token.\"\"\"\n",
    "    for word, similarity in model.wv.most_similar(positive=[token], topn=topn):\n",
    "        print(f\"{word}: {round(similarity, 3)}\")"
   ]
  },
  {
   "cell_type": "code",
   "execution_count": 13,
   "metadata": {
    "colab": {
     "base_uri": "https://localhost:8080/"
    },
    "executionInfo": {
     "elapsed": 304,
     "status": "ok",
     "timestamp": 1639950052918,
     "user": {
      "displayName": "Tom van Nuenen",
      "photoUrl": "https://lh3.googleusercontent.com/a-/AOh14GhuBmxDvW5I_LJfZtwlPqMFD8QGLVPP3skvpkTnuQ=s64",
      "userId": "10012302451096885058"
     },
     "user_tz": -60
    },
    "id": "CDyV-ntGZOp3",
    "outputId": "d72277e1-e4e1-451d-e706-70b7fb7ebb02"
   },
   "outputs": [
    {
     "name": "stdout",
     "output_type": "stream",
     "text": [
      "asshole-: 0.621\n",
      "redflag: 0.611\n",
      "esh.i: 0.61\n",
      "resounding: 0.608\n",
      "infact: 0.604\n",
      "assholeishness: 0.604\n",
      "veer: 0.602\n",
      "forcing: 0.599\n",
      "ordinarily: 0.596\n",
      "this:>i: 0.595\n",
      "tah: 0.595\n",
      "esh.your: 0.595\n",
      "assholey: 0.594\n",
      "eshi: 0.59\n",
      "nahyou’re: 0.59\n",
      "yata: 0.588\n",
      "ja: 0.586\n",
      "arsehole: 0.586\n",
      "yta.you're: 0.586\n",
      "ytabut: 0.585\n"
     ]
    }
   ],
   "source": [
    "get_most_similar_terms(model, 'asshole')"
   ]
  },
  {
   "cell_type": "markdown",
   "metadata": {},
   "source": [
    "Here are some other terms. What else interests you?"
   ]
  },
  {
   "cell_type": "code",
   "execution_count": 14,
   "metadata": {},
   "outputs": [
    {
     "name": "stdout",
     "output_type": "stream",
     "text": [
      "compassion: 0.692\n",
      "rationality: 0.613\n",
      "humility: 0.575\n",
      "self_awareness: 0.564\n",
      "modicum: 0.551\n",
      "patience: 0.549\n",
      "lacking: 0.545\n",
      "lack_empathy: 0.541\n",
      "empathize: 0.54\n",
      "empathetic: 0.535\n",
      "self_reflection: 0.529\n",
      "tact: 0.522\n",
      "devoid: 0.516\n",
      "coping_skill: 0.512\n",
      "doesn‘t: 0.51\n",
      "dignity: 0.508\n",
      "inferiority: 0.504\n",
      "uncare: 0.502\n",
      "empathise: 0.502\n",
      "bluntness: 0.498\n"
     ]
    }
   ],
   "source": [
    "get_most_similar_terms(model, 'empathy')"
   ]
  },
  {
   "cell_type": "code",
   "execution_count": 15,
   "metadata": {},
   "outputs": [
    {
     "name": "stdout",
     "output_type": "stream",
     "text": [
      "irrevocably: 0.606\n",
      "amicably: 0.598\n",
      "relationships: 0.595\n",
      "polyamory: 0.583\n",
      "exclusivity: 0.581\n",
      "coparent: 0.578\n",
      "friendship: 0.576\n",
      "marriage: 0.572\n",
      "fidelity: 0.571\n",
      "polyamorous: 0.567\n",
      "transparency: 0.565\n",
      "sexually_compatible: 0.56\n",
      "committed: 0.553\n",
      "reestablish: 0.553\n",
      "rough_patch: 0.552\n",
      "loveless: 0.552\n",
      "sexual_compatibility: 0.551\n",
      "amicable: 0.549\n",
      "proposing: 0.549\n",
      "rekindle: 0.549\n"
     ]
    }
   ],
   "source": [
    "get_most_similar_terms(model, 'relationship')"
   ]
  },
  {
   "cell_type": "code",
   "execution_count": 16,
   "metadata": {},
   "outputs": [
    {
     "name": "stdout",
     "output_type": "stream",
     "text": [
      "differential: 0.457\n",
      "wield: 0.43\n",
      "flex: 0.416\n",
      "intimidation: 0.416\n",
      "power_imbalance: 0.412\n",
      "institutional: 0.396\n",
      "hardball: 0.394\n",
      "tripping: 0.394\n",
      "authority: 0.393\n",
      "ideological: 0.386\n",
      "inequity: 0.385\n",
      "dominance: 0.382\n",
      "perverse: 0.376\n",
      "benevolent: 0.376\n",
      "fodder: 0.374\n",
      "madden: 0.37\n",
      "chivalry: 0.369\n",
      "naïve: 0.369\n",
      "smarter: 0.369\n",
      "blinder: 0.368\n"
     ]
    }
   ],
   "source": [
    "get_most_similar_terms(model, 'power')"
   ]
  },
  {
   "cell_type": "code",
   "execution_count": 17,
   "metadata": {},
   "outputs": [
    {
     "name": "stdout",
     "output_type": "stream",
     "text": [
      "woman: 0.644\n",
      "men: 0.571\n",
      "femme: 0.543\n",
      "subservient: 0.539\n",
      "het: 0.536\n",
      "shouldn't: 0.533\n",
      "ogle: 0.532\n",
      "butch: 0.53\n",
      "transman: 0.525\n",
      "masculine: 0.522\n",
      "hes: 0.521\n",
      "misandrist: 0.52\n",
      "cisgender: 0.517\n",
      "androgynous: 0.513\n",
      "dude: 0.511\n",
      "mans: 0.51\n",
      "patriarchy: 0.506\n",
      "macho: 0.504\n",
      "bearded: 0.503\n",
      "ntabee: 0.502\n"
     ]
    }
   ],
   "source": [
    "get_most_similar_terms(model, 'man')"
   ]
  },
  {
   "cell_type": "code",
   "execution_count": 18,
   "metadata": {},
   "outputs": [
    {
     "name": "stdout",
     "output_type": "stream",
     "text": [
      "man: 0.644\n",
      "transman: 0.587\n",
      "men: 0.584\n",
      "women: 0.581\n",
      "androgynous: 0.578\n",
      "transwoman: 0.57\n",
      "butch: 0.552\n",
      "womanhood: 0.551\n",
      "femme: 0.549\n",
      "het: 0.538\n",
      "ogle: 0.534\n",
      "generalise: 0.533\n",
      "implying: 0.531\n",
      "ntabee: 0.531\n",
      "supermodel: 0.528\n",
      "cisgender: 0.526\n",
      "mansplain: 0.523\n",
      "shouldn't: 0.521\n",
      "oggle: 0.52\n",
      "childbeare: 0.518\n"
     ]
    }
   ],
   "source": [
    "get_most_similar_terms(model, 'woman')"
   ]
  },
  {
   "cell_type": "markdown",
   "metadata": {},
   "source": [
    "# Visualizing High Dimensional Spaces with $t$-SNE\n",
    "\n",
    "The word embeddings we created are what's called a **high-dimensional representation** of the text. That is, we take a word in the corpus, and represent it using, in this case, 300 numbers. We can plot 3 numbers at a time - that's in 3 dimensions - but there's no way for humans to visualize something in a 300-dimensional space. \n",
    "\n",
    "So, **dimensionality reduction** is a big part of machine learning. How can we take vectors that are 300-dimensional, and visualize them in 2-dimensions, while keeping the structure between vectors the same? How can we reduce the dimensionality?\n",
    "\n",
    "One of the most popular methods for dimensionality reduction is called $t$-SNE ($t$-Distributed Stochastic Neighbor Embedding). If you want to read more about this algorithm, [here](https://lvdmaaten.github.io/tsne/) is a good starting point. \n",
    "\n",
    "Roughly, $t$-SNE tries to keep the relative distances between points as closely as possible in both high-dimensional and low-dimensional space. We can thus visualize our embeddings, which may reveal semantic and syntactic trends in the data.\n",
    "\n",
    "One thing we can do is to look for relationships between particular word pairs. "
   ]
  },
  {
   "cell_type": "code",
   "execution_count": 19,
   "metadata": {},
   "outputs": [],
   "source": [
    "words = ['asshole', 'jerk', 'rude', 'inconsiderate',\n",
    "         'angry', 'upset', 'sad', 'happy', 'frustrated',\n",
    "         'friend', 'family', 'partner', 'coworker', 'neighbor',\n",
    "         'apologize', 'forgive', 'ignore', 'confront', 'compromise',\n",
    "         'right', 'wrong', 'justified', 'unjustified', 'fair', 'unfair',\n",
    "         'honesty', 'loyalty', 'respect', 'kindness', 'empathy']\n",
    "\n",
    "# Extract the word vectors\n",
    "word_vectors = np.array([model.wv[word] for word in words])"
   ]
  },
  {
   "cell_type": "code",
   "execution_count": 20,
   "metadata": {},
   "outputs": [],
   "source": [
    "# Reduce dimensionality using t-SNE\n",
    "tsne = TSNE(n_components=2, random_state=2, perplexity=2)\n",
    "reduced_vectors = tsne.fit_transform(word_vectors)"
   ]
  },
  {
   "cell_type": "code",
   "execution_count": 21,
   "metadata": {},
   "outputs": [],
   "source": [
    "# Store the t-SNE vectors\n",
    "words_df = pd.DataFrame(reduced_vectors,\n",
    "                            index=pd.Index([word for word in words]),\n",
    "                            columns=['x', 'y'])"
   ]
  },
  {
   "cell_type": "markdown",
   "metadata": {},
   "source": [
    "We're going to visualize the 2-dimensional space using a package called `bokeh`. This package allows for some degree of interactivity: we can go over each point and dynamically get information about the word denoting that vector."
   ]
  },
  {
   "cell_type": "code",
   "execution_count": 22,
   "metadata": {},
   "outputs": [
    {
     "data": {
      "text/html": [
       "    <style>\n",
       "        .bk-notebook-logo {\n",
       "            display: block;\n",
       "            width: 20px;\n",
       "            height: 20px;\n",
       "            background-image: url(data:image/png;base64,iVBORw0KGgoAAAANSUhEUgAAABQAAAAUCAYAAACNiR0NAAAABHNCSVQICAgIfAhkiAAAAAlwSFlzAAALEgAACxIB0t1+/AAAABx0RVh0U29mdHdhcmUAQWRvYmUgRmlyZXdvcmtzIENTNui8sowAAAOkSURBVDiNjZRtaJVlGMd/1/08zzln5zjP1LWcU9N0NkN8m2CYjpgQYQXqSs0I84OLIC0hkEKoPtiH3gmKoiJDU7QpLgoLjLIQCpEsNJ1vqUOdO7ppbuec5+V+rj4ctwzd8IIbbi6u+8f1539dt3A78eXC7QizUF7gyV1fD1Yqg4JWz84yffhm0qkFqBogB9rM8tZdtwVsPUhWhGcFJngGeWrPzHm5oaMmkfEg1usvLFyc8jLRqDOMru7AyC8saQr7GG7f5fvDeH7Ej8CM66nIF+8yngt6HWaKh7k49Soy9nXurCi1o3qUbS3zWfrYeQDTB/Qj6kX6Ybhw4B+bOYoLKCC9H3Nu/leUTZ1JdRWkkn2ldcCamzrcf47KKXdAJllSlxAOkRgyHsGC/zRday5Qld9DyoM4/q/rUoy/CXh3jzOu3bHUVZeU+DEn8FInkPBFlu3+nW3Nw0mk6vCDiWg8CeJaxEwuHS3+z5RgY+YBR6V1Z1nxSOfoaPa4LASWxxdNp+VWTk7+4vzaou8v8PN+xo+KY2xsw6une2frhw05CTYOmQvsEhjhWjn0bmXPjpE1+kplmmkP3suftwTubK9Vq22qKmrBhpY4jvd5afdRA3wGjFAgcnTK2s4hY0/GPNIb0nErGMCRxWOOX64Z8RAC4oCXdklmEvcL8o0BfkNK4lUg9HTl+oPlQxdNo3Mg4Nv175e/1LDGzZen30MEjRUtmXSfiTVu1kK8W4txyV6BMKlbgk3lMwYCiusNy9fVfvvwMxv8Ynl6vxoByANLTWplvuj/nF9m2+PDtt1eiHPBr1oIfhCChQMBw6Aw0UulqTKZdfVvfG7VcfIqLG9bcldL/+pdWTLxLUy8Qq38heUIjh4XlzZxzQm19lLFlr8vdQ97rjZVOLf8nclzckbcD4wxXMidpX30sFd37Fv/GtwwhzhxGVAprjbg0gCAEeIgwCZyTV2Z1REEW8O4py0wsjeloKoMr6iCY6dP92H6Vw/oTyICIthibxjm/DfN9lVz8IqtqKYLUXfoKVMVQVVJOElGjrnnUt9T9wbgp8AyYKaGlqingHZU/uG2NTZSVqwHQTWkx9hxjkpWDaCg6Ckj5qebgBVbT3V3NNXMSiWSDdGV3hrtzla7J+duwPOToIg42ChPQOQjspnSlp1V+Gjdged7+8UN5CRAV7a5EdFNwCjEaBR27b3W890TE7g24NAP/mMDXRWrGoFPQI9ls/MWO2dWFAar/xcOIImbbpA3zgAAAABJRU5ErkJggg==);\n",
       "        }\n",
       "    </style>\n",
       "    <div>\n",
       "        <a href=\"https://bokeh.org\" target=\"_blank\" class=\"bk-notebook-logo\"></a>\n",
       "        <span id=\"a49618a2-ace2-4459-bd1f-50fd5b88c37f\">Loading BokehJS ...</span>\n",
       "    </div>\n"
      ]
     },
     "metadata": {},
     "output_type": "display_data"
    },
    {
     "data": {
      "application/javascript": [
       "'use strict';\n",
       "(function(root) {\n",
       "  function now() {\n",
       "    return new Date();\n",
       "  }\n",
       "\n",
       "  const force = true;\n",
       "\n",
       "  if (typeof root._bokeh_onload_callbacks === \"undefined\" || force === true) {\n",
       "    root._bokeh_onload_callbacks = [];\n",
       "    root._bokeh_is_loading = undefined;\n",
       "  }\n",
       "\n",
       "const JS_MIME_TYPE = 'application/javascript';\n",
       "  const HTML_MIME_TYPE = 'text/html';\n",
       "  const EXEC_MIME_TYPE = 'application/vnd.bokehjs_exec.v0+json';\n",
       "  const CLASS_NAME = 'output_bokeh rendered_html';\n",
       "\n",
       "  /**\n",
       "   * Render data to the DOM node\n",
       "   */\n",
       "  function render(props, node) {\n",
       "    const script = document.createElement(\"script\");\n",
       "    node.appendChild(script);\n",
       "  }\n",
       "\n",
       "  /**\n",
       "   * Handle when an output is cleared or removed\n",
       "   */\n",
       "  function handleClearOutput(event, handle) {\n",
       "    function drop(id) {\n",
       "      const view = Bokeh.index.get_by_id(id)\n",
       "      if (view != null) {\n",
       "        view.model.document.clear()\n",
       "        Bokeh.index.delete(view)\n",
       "      }\n",
       "    }\n",
       "\n",
       "    const cell = handle.cell;\n",
       "\n",
       "    const id = cell.output_area._bokeh_element_id;\n",
       "    const server_id = cell.output_area._bokeh_server_id;\n",
       "\n",
       "    // Clean up Bokeh references\n",
       "    if (id != null) {\n",
       "      drop(id)\n",
       "    }\n",
       "\n",
       "    if (server_id !== undefined) {\n",
       "      // Clean up Bokeh references\n",
       "      const cmd_clean = \"from bokeh.io.state import curstate; print(curstate().uuid_to_server['\" + server_id + \"'].get_sessions()[0].document.roots[0]._id)\";\n",
       "      cell.notebook.kernel.execute(cmd_clean, {\n",
       "        iopub: {\n",
       "          output: function(msg) {\n",
       "            const id = msg.content.text.trim()\n",
       "            drop(id)\n",
       "          }\n",
       "        }\n",
       "      });\n",
       "      // Destroy server and session\n",
       "      const cmd_destroy = \"import bokeh.io.notebook as ion; ion.destroy_server('\" + server_id + \"')\";\n",
       "      cell.notebook.kernel.execute(cmd_destroy);\n",
       "    }\n",
       "  }\n",
       "\n",
       "  /**\n",
       "   * Handle when a new output is added\n",
       "   */\n",
       "  function handleAddOutput(event, handle) {\n",
       "    const output_area = handle.output_area;\n",
       "    const output = handle.output;\n",
       "\n",
       "    // limit handleAddOutput to display_data with EXEC_MIME_TYPE content only\n",
       "    if ((output.output_type != \"display_data\") || (!Object.prototype.hasOwnProperty.call(output.data, EXEC_MIME_TYPE))) {\n",
       "      return\n",
       "    }\n",
       "\n",
       "    const toinsert = output_area.element.find(\".\" + CLASS_NAME.split(' ')[0]);\n",
       "\n",
       "    if (output.metadata[EXEC_MIME_TYPE][\"id\"] !== undefined) {\n",
       "      toinsert[toinsert.length - 1].firstChild.textContent = output.data[JS_MIME_TYPE];\n",
       "      // store reference to embed id on output_area\n",
       "      output_area._bokeh_element_id = output.metadata[EXEC_MIME_TYPE][\"id\"];\n",
       "    }\n",
       "    if (output.metadata[EXEC_MIME_TYPE][\"server_id\"] !== undefined) {\n",
       "      const bk_div = document.createElement(\"div\");\n",
       "      bk_div.innerHTML = output.data[HTML_MIME_TYPE];\n",
       "      const script_attrs = bk_div.children[0].attributes;\n",
       "      for (let i = 0; i < script_attrs.length; i++) {\n",
       "        toinsert[toinsert.length - 1].firstChild.setAttribute(script_attrs[i].name, script_attrs[i].value);\n",
       "        toinsert[toinsert.length - 1].firstChild.textContent = bk_div.children[0].textContent\n",
       "      }\n",
       "      // store reference to server id on output_area\n",
       "      output_area._bokeh_server_id = output.metadata[EXEC_MIME_TYPE][\"server_id\"];\n",
       "    }\n",
       "  }\n",
       "\n",
       "  function register_renderer(events, OutputArea) {\n",
       "\n",
       "    function append_mime(data, metadata, element) {\n",
       "      // create a DOM node to render to\n",
       "      const toinsert = this.create_output_subarea(\n",
       "        metadata,\n",
       "        CLASS_NAME,\n",
       "        EXEC_MIME_TYPE\n",
       "      );\n",
       "      this.keyboard_manager.register_events(toinsert);\n",
       "      // Render to node\n",
       "      const props = {data: data, metadata: metadata[EXEC_MIME_TYPE]};\n",
       "      render(props, toinsert[toinsert.length - 1]);\n",
       "      element.append(toinsert);\n",
       "      return toinsert\n",
       "    }\n",
       "\n",
       "    /* Handle when an output is cleared or removed */\n",
       "    events.on('clear_output.CodeCell', handleClearOutput);\n",
       "    events.on('delete.Cell', handleClearOutput);\n",
       "\n",
       "    /* Handle when a new output is added */\n",
       "    events.on('output_added.OutputArea', handleAddOutput);\n",
       "\n",
       "    /**\n",
       "     * Register the mime type and append_mime function with output_area\n",
       "     */\n",
       "    OutputArea.prototype.register_mime_type(EXEC_MIME_TYPE, append_mime, {\n",
       "      /* Is output safe? */\n",
       "      safe: true,\n",
       "      /* Index of renderer in `output_area.display_order` */\n",
       "      index: 0\n",
       "    });\n",
       "  }\n",
       "\n",
       "  // register the mime type if in Jupyter Notebook environment and previously unregistered\n",
       "  if (root.Jupyter !== undefined) {\n",
       "    const events = require('base/js/events');\n",
       "    const OutputArea = require('notebook/js/outputarea').OutputArea;\n",
       "\n",
       "    if (OutputArea.prototype.mime_types().indexOf(EXEC_MIME_TYPE) == -1) {\n",
       "      register_renderer(events, OutputArea);\n",
       "    }\n",
       "  }\n",
       "  if (typeof (root._bokeh_timeout) === \"undefined\" || force === true) {\n",
       "    root._bokeh_timeout = Date.now() + 5000;\n",
       "    root._bokeh_failed_load = false;\n",
       "  }\n",
       "\n",
       "  const NB_LOAD_WARNING = {'data': {'text/html':\n",
       "     \"<div style='background-color: #fdd'>\\n\"+\n",
       "     \"<p>\\n\"+\n",
       "     \"BokehJS does not appear to have successfully loaded. If loading BokehJS from CDN, this \\n\"+\n",
       "     \"may be due to a slow or bad network connection. Possible fixes:\\n\"+\n",
       "     \"</p>\\n\"+\n",
       "     \"<ul>\\n\"+\n",
       "     \"<li>re-rerun `output_notebook()` to attempt to load from CDN again, or</li>\\n\"+\n",
       "     \"<li>use INLINE resources instead, as so:</li>\\n\"+\n",
       "     \"</ul>\\n\"+\n",
       "     \"<code>\\n\"+\n",
       "     \"from bokeh.resources import INLINE\\n\"+\n",
       "     \"output_notebook(resources=INLINE)\\n\"+\n",
       "     \"</code>\\n\"+\n",
       "     \"</div>\"}};\n",
       "\n",
       "  function display_loaded(error = null) {\n",
       "    const el = document.getElementById(\"a49618a2-ace2-4459-bd1f-50fd5b88c37f\");\n",
       "    if (el != null) {\n",
       "      const html = (() => {\n",
       "        if (typeof root.Bokeh === \"undefined\") {\n",
       "          if (error == null) {\n",
       "            return \"BokehJS is loading ...\";\n",
       "          } else {\n",
       "            return \"BokehJS failed to load.\";\n",
       "          }\n",
       "        } else {\n",
       "          const prefix = `BokehJS ${root.Bokeh.version}`;\n",
       "          if (error == null) {\n",
       "            return `${prefix} successfully loaded.`;\n",
       "          } else {\n",
       "            return `${prefix} <b>encountered errors</b> while loading and may not function as expected.`;\n",
       "          }\n",
       "        }\n",
       "      })();\n",
       "      el.innerHTML = html;\n",
       "\n",
       "      if (error != null) {\n",
       "        const wrapper = document.createElement(\"div\");\n",
       "        wrapper.style.overflow = \"auto\";\n",
       "        wrapper.style.height = \"5em\";\n",
       "        wrapper.style.resize = \"vertical\";\n",
       "        const content = document.createElement(\"div\");\n",
       "        content.style.fontFamily = \"monospace\";\n",
       "        content.style.whiteSpace = \"pre-wrap\";\n",
       "        content.style.backgroundColor = \"rgb(255, 221, 221)\";\n",
       "        content.textContent = error.stack ?? error.toString();\n",
       "        wrapper.append(content);\n",
       "        el.append(wrapper);\n",
       "      }\n",
       "    } else if (Date.now() < root._bokeh_timeout) {\n",
       "      setTimeout(() => display_loaded(error), 100);\n",
       "    }\n",
       "  }\n",
       "\n",
       "  function run_callbacks() {\n",
       "    try {\n",
       "      root._bokeh_onload_callbacks.forEach(function(callback) {\n",
       "        if (callback != null)\n",
       "          callback();\n",
       "      });\n",
       "    } finally {\n",
       "      delete root._bokeh_onload_callbacks\n",
       "    }\n",
       "    console.debug(\"Bokeh: all callbacks have finished\");\n",
       "  }\n",
       "\n",
       "  function load_libs(css_urls, js_urls, callback) {\n",
       "    if (css_urls == null) css_urls = [];\n",
       "    if (js_urls == null) js_urls = [];\n",
       "\n",
       "    root._bokeh_onload_callbacks.push(callback);\n",
       "    if (root._bokeh_is_loading > 0) {\n",
       "      console.debug(\"Bokeh: BokehJS is being loaded, scheduling callback at\", now());\n",
       "      return null;\n",
       "    }\n",
       "    if (js_urls == null || js_urls.length === 0) {\n",
       "      run_callbacks();\n",
       "      return null;\n",
       "    }\n",
       "    console.debug(\"Bokeh: BokehJS not loaded, scheduling load and callback at\", now());\n",
       "    root._bokeh_is_loading = css_urls.length + js_urls.length;\n",
       "\n",
       "    function on_load() {\n",
       "      root._bokeh_is_loading--;\n",
       "      if (root._bokeh_is_loading === 0) {\n",
       "        console.debug(\"Bokeh: all BokehJS libraries/stylesheets loaded\");\n",
       "        run_callbacks()\n",
       "      }\n",
       "    }\n",
       "\n",
       "    function on_error(url) {\n",
       "      console.error(\"failed to load \" + url);\n",
       "    }\n",
       "\n",
       "    for (let i = 0; i < css_urls.length; i++) {\n",
       "      const url = css_urls[i];\n",
       "      const element = document.createElement(\"link\");\n",
       "      element.onload = on_load;\n",
       "      element.onerror = on_error.bind(null, url);\n",
       "      element.rel = \"stylesheet\";\n",
       "      element.type = \"text/css\";\n",
       "      element.href = url;\n",
       "      console.debug(\"Bokeh: injecting link tag for BokehJS stylesheet: \", url);\n",
       "      document.body.appendChild(element);\n",
       "    }\n",
       "\n",
       "    for (let i = 0; i < js_urls.length; i++) {\n",
       "      const url = js_urls[i];\n",
       "      const element = document.createElement('script');\n",
       "      element.onload = on_load;\n",
       "      element.onerror = on_error.bind(null, url);\n",
       "      element.async = false;\n",
       "      element.src = url;\n",
       "      console.debug(\"Bokeh: injecting script tag for BokehJS library: \", url);\n",
       "      document.head.appendChild(element);\n",
       "    }\n",
       "  };\n",
       "\n",
       "  function inject_raw_css(css) {\n",
       "    const element = document.createElement(\"style\");\n",
       "    element.appendChild(document.createTextNode(css));\n",
       "    document.body.appendChild(element);\n",
       "  }\n",
       "\n",
       "  const js_urls = [\"https://cdn.bokeh.org/bokeh/release/bokeh-3.5.0.min.js\", \"https://cdn.bokeh.org/bokeh/release/bokeh-gl-3.5.0.min.js\", \"https://cdn.bokeh.org/bokeh/release/bokeh-widgets-3.5.0.min.js\", \"https://cdn.bokeh.org/bokeh/release/bokeh-tables-3.5.0.min.js\", \"https://cdn.bokeh.org/bokeh/release/bokeh-mathjax-3.5.0.min.js\"];\n",
       "  const css_urls = [];\n",
       "\n",
       "  const inline_js = [    function(Bokeh) {\n",
       "      Bokeh.set_log_level(\"info\");\n",
       "    },\n",
       "function(Bokeh) {\n",
       "    }\n",
       "  ];\n",
       "\n",
       "  function run_inline_js() {\n",
       "    if (root.Bokeh !== undefined || force === true) {\n",
       "      try {\n",
       "            for (let i = 0; i < inline_js.length; i++) {\n",
       "      inline_js[i].call(root, root.Bokeh);\n",
       "    }\n",
       "\n",
       "      } catch (error) {display_loaded(error);throw error;\n",
       "      }if (force === true) {\n",
       "        display_loaded();\n",
       "      }} else if (Date.now() < root._bokeh_timeout) {\n",
       "      setTimeout(run_inline_js, 100);\n",
       "    } else if (!root._bokeh_failed_load) {\n",
       "      console.log(\"Bokeh: BokehJS failed to load within specified timeout.\");\n",
       "      root._bokeh_failed_load = true;\n",
       "    } else if (force !== true) {\n",
       "      const cell = $(document.getElementById(\"a49618a2-ace2-4459-bd1f-50fd5b88c37f\")).parents('.cell').data().cell;\n",
       "      cell.output_area.append_execute_result(NB_LOAD_WARNING)\n",
       "    }\n",
       "  }\n",
       "\n",
       "  if (root._bokeh_is_loading === 0) {\n",
       "    console.debug(\"Bokeh: BokehJS loaded, going straight to plotting\");\n",
       "    run_inline_js();\n",
       "  } else {\n",
       "    load_libs(css_urls, js_urls, function() {\n",
       "      console.debug(\"Bokeh: BokehJS plotting callback run at\", now());\n",
       "      run_inline_js();\n",
       "    });\n",
       "  }\n",
       "}(window));"
      ],
      "application/vnd.bokehjs_load.v0+json": "'use strict';\n(function(root) {\n  function now() {\n    return new Date();\n  }\n\n  const force = true;\n\n  if (typeof root._bokeh_onload_callbacks === \"undefined\" || force === true) {\n    root._bokeh_onload_callbacks = [];\n    root._bokeh_is_loading = undefined;\n  }\n\n\n  if (typeof (root._bokeh_timeout) === \"undefined\" || force === true) {\n    root._bokeh_timeout = Date.now() + 5000;\n    root._bokeh_failed_load = false;\n  }\n\n  const NB_LOAD_WARNING = {'data': {'text/html':\n     \"<div style='background-color: #fdd'>\\n\"+\n     \"<p>\\n\"+\n     \"BokehJS does not appear to have successfully loaded. If loading BokehJS from CDN, this \\n\"+\n     \"may be due to a slow or bad network connection. Possible fixes:\\n\"+\n     \"</p>\\n\"+\n     \"<ul>\\n\"+\n     \"<li>re-rerun `output_notebook()` to attempt to load from CDN again, or</li>\\n\"+\n     \"<li>use INLINE resources instead, as so:</li>\\n\"+\n     \"</ul>\\n\"+\n     \"<code>\\n\"+\n     \"from bokeh.resources import INLINE\\n\"+\n     \"output_notebook(resources=INLINE)\\n\"+\n     \"</code>\\n\"+\n     \"</div>\"}};\n\n  function display_loaded(error = null) {\n    const el = document.getElementById(\"a49618a2-ace2-4459-bd1f-50fd5b88c37f\");\n    if (el != null) {\n      const html = (() => {\n        if (typeof root.Bokeh === \"undefined\") {\n          if (error == null) {\n            return \"BokehJS is loading ...\";\n          } else {\n            return \"BokehJS failed to load.\";\n          }\n        } else {\n          const prefix = `BokehJS ${root.Bokeh.version}`;\n          if (error == null) {\n            return `${prefix} successfully loaded.`;\n          } else {\n            return `${prefix} <b>encountered errors</b> while loading and may not function as expected.`;\n          }\n        }\n      })();\n      el.innerHTML = html;\n\n      if (error != null) {\n        const wrapper = document.createElement(\"div\");\n        wrapper.style.overflow = \"auto\";\n        wrapper.style.height = \"5em\";\n        wrapper.style.resize = \"vertical\";\n        const content = document.createElement(\"div\");\n        content.style.fontFamily = \"monospace\";\n        content.style.whiteSpace = \"pre-wrap\";\n        content.style.backgroundColor = \"rgb(255, 221, 221)\";\n        content.textContent = error.stack ?? error.toString();\n        wrapper.append(content);\n        el.append(wrapper);\n      }\n    } else if (Date.now() < root._bokeh_timeout) {\n      setTimeout(() => display_loaded(error), 100);\n    }\n  }\n\n  function run_callbacks() {\n    try {\n      root._bokeh_onload_callbacks.forEach(function(callback) {\n        if (callback != null)\n          callback();\n      });\n    } finally {\n      delete root._bokeh_onload_callbacks\n    }\n    console.debug(\"Bokeh: all callbacks have finished\");\n  }\n\n  function load_libs(css_urls, js_urls, callback) {\n    if (css_urls == null) css_urls = [];\n    if (js_urls == null) js_urls = [];\n\n    root._bokeh_onload_callbacks.push(callback);\n    if (root._bokeh_is_loading > 0) {\n      console.debug(\"Bokeh: BokehJS is being loaded, scheduling callback at\", now());\n      return null;\n    }\n    if (js_urls == null || js_urls.length === 0) {\n      run_callbacks();\n      return null;\n    }\n    console.debug(\"Bokeh: BokehJS not loaded, scheduling load and callback at\", now());\n    root._bokeh_is_loading = css_urls.length + js_urls.length;\n\n    function on_load() {\n      root._bokeh_is_loading--;\n      if (root._bokeh_is_loading === 0) {\n        console.debug(\"Bokeh: all BokehJS libraries/stylesheets loaded\");\n        run_callbacks()\n      }\n    }\n\n    function on_error(url) {\n      console.error(\"failed to load \" + url);\n    }\n\n    for (let i = 0; i < css_urls.length; i++) {\n      const url = css_urls[i];\n      const element = document.createElement(\"link\");\n      element.onload = on_load;\n      element.onerror = on_error.bind(null, url);\n      element.rel = \"stylesheet\";\n      element.type = \"text/css\";\n      element.href = url;\n      console.debug(\"Bokeh: injecting link tag for BokehJS stylesheet: \", url);\n      document.body.appendChild(element);\n    }\n\n    for (let i = 0; i < js_urls.length; i++) {\n      const url = js_urls[i];\n      const element = document.createElement('script');\n      element.onload = on_load;\n      element.onerror = on_error.bind(null, url);\n      element.async = false;\n      element.src = url;\n      console.debug(\"Bokeh: injecting script tag for BokehJS library: \", url);\n      document.head.appendChild(element);\n    }\n  };\n\n  function inject_raw_css(css) {\n    const element = document.createElement(\"style\");\n    element.appendChild(document.createTextNode(css));\n    document.body.appendChild(element);\n  }\n\n  const js_urls = [\"https://cdn.bokeh.org/bokeh/release/bokeh-3.5.0.min.js\", \"https://cdn.bokeh.org/bokeh/release/bokeh-gl-3.5.0.min.js\", \"https://cdn.bokeh.org/bokeh/release/bokeh-widgets-3.5.0.min.js\", \"https://cdn.bokeh.org/bokeh/release/bokeh-tables-3.5.0.min.js\", \"https://cdn.bokeh.org/bokeh/release/bokeh-mathjax-3.5.0.min.js\"];\n  const css_urls = [];\n\n  const inline_js = [    function(Bokeh) {\n      Bokeh.set_log_level(\"info\");\n    },\nfunction(Bokeh) {\n    }\n  ];\n\n  function run_inline_js() {\n    if (root.Bokeh !== undefined || force === true) {\n      try {\n            for (let i = 0; i < inline_js.length; i++) {\n      inline_js[i].call(root, root.Bokeh);\n    }\n\n      } catch (error) {display_loaded(error);throw error;\n      }if (force === true) {\n        display_loaded();\n      }} else if (Date.now() < root._bokeh_timeout) {\n      setTimeout(run_inline_js, 100);\n    } else if (!root._bokeh_failed_load) {\n      console.log(\"Bokeh: BokehJS failed to load within specified timeout.\");\n      root._bokeh_failed_load = true;\n    } else if (force !== true) {\n      const cell = $(document.getElementById(\"a49618a2-ace2-4459-bd1f-50fd5b88c37f\")).parents('.cell').data().cell;\n      cell.output_area.append_execute_result(NB_LOAD_WARNING)\n    }\n  }\n\n  if (root._bokeh_is_loading === 0) {\n    console.debug(\"Bokeh: BokehJS loaded, going straight to plotting\");\n    run_inline_js();\n  } else {\n    load_libs(css_urls, js_urls, function() {\n      console.debug(\"Bokeh: BokehJS plotting callback run at\", now());\n      run_inline_js();\n    });\n  }\n}(window));"
     },
     "metadata": {},
     "output_type": "display_data"
    },
    {
     "data": {
      "text/html": [
       "    <style>\n",
       "        .bk-notebook-logo {\n",
       "            display: block;\n",
       "            width: 20px;\n",
       "            height: 20px;\n",
       "            background-image: url(data:image/png;base64,iVBORw0KGgoAAAANSUhEUgAAABQAAAAUCAYAAACNiR0NAAAABHNCSVQICAgIfAhkiAAAAAlwSFlzAAALEgAACxIB0t1+/AAAABx0RVh0U29mdHdhcmUAQWRvYmUgRmlyZXdvcmtzIENTNui8sowAAAOkSURBVDiNjZRtaJVlGMd/1/08zzln5zjP1LWcU9N0NkN8m2CYjpgQYQXqSs0I84OLIC0hkEKoPtiH3gmKoiJDU7QpLgoLjLIQCpEsNJ1vqUOdO7ppbuec5+V+rj4ctwzd8IIbbi6u+8f1539dt3A78eXC7QizUF7gyV1fD1Yqg4JWz84yffhm0qkFqBogB9rM8tZdtwVsPUhWhGcFJngGeWrPzHm5oaMmkfEg1usvLFyc8jLRqDOMru7AyC8saQr7GG7f5fvDeH7Ej8CM66nIF+8yngt6HWaKh7k49Soy9nXurCi1o3qUbS3zWfrYeQDTB/Qj6kX6Ybhw4B+bOYoLKCC9H3Nu/leUTZ1JdRWkkn2ldcCamzrcf47KKXdAJllSlxAOkRgyHsGC/zRday5Qld9DyoM4/q/rUoy/CXh3jzOu3bHUVZeU+DEn8FInkPBFlu3+nW3Nw0mk6vCDiWg8CeJaxEwuHS3+z5RgY+YBR6V1Z1nxSOfoaPa4LASWxxdNp+VWTk7+4vzaou8v8PN+xo+KY2xsw6une2frhw05CTYOmQvsEhjhWjn0bmXPjpE1+kplmmkP3suftwTubK9Vq22qKmrBhpY4jvd5afdRA3wGjFAgcnTK2s4hY0/GPNIb0nErGMCRxWOOX64Z8RAC4oCXdklmEvcL8o0BfkNK4lUg9HTl+oPlQxdNo3Mg4Nv175e/1LDGzZen30MEjRUtmXSfiTVu1kK8W4txyV6BMKlbgk3lMwYCiusNy9fVfvvwMxv8Ynl6vxoByANLTWplvuj/nF9m2+PDtt1eiHPBr1oIfhCChQMBw6Aw0UulqTKZdfVvfG7VcfIqLG9bcldL/+pdWTLxLUy8Qq38heUIjh4XlzZxzQm19lLFlr8vdQ97rjZVOLf8nclzckbcD4wxXMidpX30sFd37Fv/GtwwhzhxGVAprjbg0gCAEeIgwCZyTV2Z1REEW8O4py0wsjeloKoMr6iCY6dP92H6Vw/oTyICIthibxjm/DfN9lVz8IqtqKYLUXfoKVMVQVVJOElGjrnnUt9T9wbgp8AyYKaGlqingHZU/uG2NTZSVqwHQTWkx9hxjkpWDaCg6Ckj5qebgBVbT3V3NNXMSiWSDdGV3hrtzla7J+duwPOToIg42ChPQOQjspnSlp1V+Gjdged7+8UN5CRAV7a5EdFNwCjEaBR27b3W890TE7g24NAP/mMDXRWrGoFPQI9ls/MWO2dWFAar/xcOIImbbpA3zgAAAABJRU5ErkJggg==);\n",
       "        }\n",
       "    </style>\n",
       "    <div>\n",
       "        <a href=\"https://bokeh.org\" target=\"_blank\" class=\"bk-notebook-logo\"></a>\n",
       "        <span id=\"f459c64a-c424-47a6-9c8c-b2b7a97ae783\">Loading BokehJS ...</span>\n",
       "    </div>\n"
      ]
     },
     "metadata": {},
     "output_type": "display_data"
    },
    {
     "data": {
      "application/javascript": [
       "'use strict';\n",
       "(function(root) {\n",
       "  function now() {\n",
       "    return new Date();\n",
       "  }\n",
       "\n",
       "  const force = true;\n",
       "\n",
       "  if (typeof root._bokeh_onload_callbacks === \"undefined\" || force === true) {\n",
       "    root._bokeh_onload_callbacks = [];\n",
       "    root._bokeh_is_loading = undefined;\n",
       "  }\n",
       "\n",
       "const JS_MIME_TYPE = 'application/javascript';\n",
       "  const HTML_MIME_TYPE = 'text/html';\n",
       "  const EXEC_MIME_TYPE = 'application/vnd.bokehjs_exec.v0+json';\n",
       "  const CLASS_NAME = 'output_bokeh rendered_html';\n",
       "\n",
       "  /**\n",
       "   * Render data to the DOM node\n",
       "   */\n",
       "  function render(props, node) {\n",
       "    const script = document.createElement(\"script\");\n",
       "    node.appendChild(script);\n",
       "  }\n",
       "\n",
       "  /**\n",
       "   * Handle when an output is cleared or removed\n",
       "   */\n",
       "  function handleClearOutput(event, handle) {\n",
       "    function drop(id) {\n",
       "      const view = Bokeh.index.get_by_id(id)\n",
       "      if (view != null) {\n",
       "        view.model.document.clear()\n",
       "        Bokeh.index.delete(view)\n",
       "      }\n",
       "    }\n",
       "\n",
       "    const cell = handle.cell;\n",
       "\n",
       "    const id = cell.output_area._bokeh_element_id;\n",
       "    const server_id = cell.output_area._bokeh_server_id;\n",
       "\n",
       "    // Clean up Bokeh references\n",
       "    if (id != null) {\n",
       "      drop(id)\n",
       "    }\n",
       "\n",
       "    if (server_id !== undefined) {\n",
       "      // Clean up Bokeh references\n",
       "      const cmd_clean = \"from bokeh.io.state import curstate; print(curstate().uuid_to_server['\" + server_id + \"'].get_sessions()[0].document.roots[0]._id)\";\n",
       "      cell.notebook.kernel.execute(cmd_clean, {\n",
       "        iopub: {\n",
       "          output: function(msg) {\n",
       "            const id = msg.content.text.trim()\n",
       "            drop(id)\n",
       "          }\n",
       "        }\n",
       "      });\n",
       "      // Destroy server and session\n",
       "      const cmd_destroy = \"import bokeh.io.notebook as ion; ion.destroy_server('\" + server_id + \"')\";\n",
       "      cell.notebook.kernel.execute(cmd_destroy);\n",
       "    }\n",
       "  }\n",
       "\n",
       "  /**\n",
       "   * Handle when a new output is added\n",
       "   */\n",
       "  function handleAddOutput(event, handle) {\n",
       "    const output_area = handle.output_area;\n",
       "    const output = handle.output;\n",
       "\n",
       "    // limit handleAddOutput to display_data with EXEC_MIME_TYPE content only\n",
       "    if ((output.output_type != \"display_data\") || (!Object.prototype.hasOwnProperty.call(output.data, EXEC_MIME_TYPE))) {\n",
       "      return\n",
       "    }\n",
       "\n",
       "    const toinsert = output_area.element.find(\".\" + CLASS_NAME.split(' ')[0]);\n",
       "\n",
       "    if (output.metadata[EXEC_MIME_TYPE][\"id\"] !== undefined) {\n",
       "      toinsert[toinsert.length - 1].firstChild.textContent = output.data[JS_MIME_TYPE];\n",
       "      // store reference to embed id on output_area\n",
       "      output_area._bokeh_element_id = output.metadata[EXEC_MIME_TYPE][\"id\"];\n",
       "    }\n",
       "    if (output.metadata[EXEC_MIME_TYPE][\"server_id\"] !== undefined) {\n",
       "      const bk_div = document.createElement(\"div\");\n",
       "      bk_div.innerHTML = output.data[HTML_MIME_TYPE];\n",
       "      const script_attrs = bk_div.children[0].attributes;\n",
       "      for (let i = 0; i < script_attrs.length; i++) {\n",
       "        toinsert[toinsert.length - 1].firstChild.setAttribute(script_attrs[i].name, script_attrs[i].value);\n",
       "        toinsert[toinsert.length - 1].firstChild.textContent = bk_div.children[0].textContent\n",
       "      }\n",
       "      // store reference to server id on output_area\n",
       "      output_area._bokeh_server_id = output.metadata[EXEC_MIME_TYPE][\"server_id\"];\n",
       "    }\n",
       "  }\n",
       "\n",
       "  function register_renderer(events, OutputArea) {\n",
       "\n",
       "    function append_mime(data, metadata, element) {\n",
       "      // create a DOM node to render to\n",
       "      const toinsert = this.create_output_subarea(\n",
       "        metadata,\n",
       "        CLASS_NAME,\n",
       "        EXEC_MIME_TYPE\n",
       "      );\n",
       "      this.keyboard_manager.register_events(toinsert);\n",
       "      // Render to node\n",
       "      const props = {data: data, metadata: metadata[EXEC_MIME_TYPE]};\n",
       "      render(props, toinsert[toinsert.length - 1]);\n",
       "      element.append(toinsert);\n",
       "      return toinsert\n",
       "    }\n",
       "\n",
       "    /* Handle when an output is cleared or removed */\n",
       "    events.on('clear_output.CodeCell', handleClearOutput);\n",
       "    events.on('delete.Cell', handleClearOutput);\n",
       "\n",
       "    /* Handle when a new output is added */\n",
       "    events.on('output_added.OutputArea', handleAddOutput);\n",
       "\n",
       "    /**\n",
       "     * Register the mime type and append_mime function with output_area\n",
       "     */\n",
       "    OutputArea.prototype.register_mime_type(EXEC_MIME_TYPE, append_mime, {\n",
       "      /* Is output safe? */\n",
       "      safe: true,\n",
       "      /* Index of renderer in `output_area.display_order` */\n",
       "      index: 0\n",
       "    });\n",
       "  }\n",
       "\n",
       "  // register the mime type if in Jupyter Notebook environment and previously unregistered\n",
       "  if (root.Jupyter !== undefined) {\n",
       "    const events = require('base/js/events');\n",
       "    const OutputArea = require('notebook/js/outputarea').OutputArea;\n",
       "\n",
       "    if (OutputArea.prototype.mime_types().indexOf(EXEC_MIME_TYPE) == -1) {\n",
       "      register_renderer(events, OutputArea);\n",
       "    }\n",
       "  }\n",
       "  if (typeof (root._bokeh_timeout) === \"undefined\" || force === true) {\n",
       "    root._bokeh_timeout = Date.now() + 5000;\n",
       "    root._bokeh_failed_load = false;\n",
       "  }\n",
       "\n",
       "  const NB_LOAD_WARNING = {'data': {'text/html':\n",
       "     \"<div style='background-color: #fdd'>\\n\"+\n",
       "     \"<p>\\n\"+\n",
       "     \"BokehJS does not appear to have successfully loaded. If loading BokehJS from CDN, this \\n\"+\n",
       "     \"may be due to a slow or bad network connection. Possible fixes:\\n\"+\n",
       "     \"</p>\\n\"+\n",
       "     \"<ul>\\n\"+\n",
       "     \"<li>re-rerun `output_notebook()` to attempt to load from CDN again, or</li>\\n\"+\n",
       "     \"<li>use INLINE resources instead, as so:</li>\\n\"+\n",
       "     \"</ul>\\n\"+\n",
       "     \"<code>\\n\"+\n",
       "     \"from bokeh.resources import INLINE\\n\"+\n",
       "     \"output_notebook(resources=INLINE)\\n\"+\n",
       "     \"</code>\\n\"+\n",
       "     \"</div>\"}};\n",
       "\n",
       "  function display_loaded(error = null) {\n",
       "    const el = document.getElementById(\"f459c64a-c424-47a6-9c8c-b2b7a97ae783\");\n",
       "    if (el != null) {\n",
       "      const html = (() => {\n",
       "        if (typeof root.Bokeh === \"undefined\") {\n",
       "          if (error == null) {\n",
       "            return \"BokehJS is loading ...\";\n",
       "          } else {\n",
       "            return \"BokehJS failed to load.\";\n",
       "          }\n",
       "        } else {\n",
       "          const prefix = `BokehJS ${root.Bokeh.version}`;\n",
       "          if (error == null) {\n",
       "            return `${prefix} successfully loaded.`;\n",
       "          } else {\n",
       "            return `${prefix} <b>encountered errors</b> while loading and may not function as expected.`;\n",
       "          }\n",
       "        }\n",
       "      })();\n",
       "      el.innerHTML = html;\n",
       "\n",
       "      if (error != null) {\n",
       "        const wrapper = document.createElement(\"div\");\n",
       "        wrapper.style.overflow = \"auto\";\n",
       "        wrapper.style.height = \"5em\";\n",
       "        wrapper.style.resize = \"vertical\";\n",
       "        const content = document.createElement(\"div\");\n",
       "        content.style.fontFamily = \"monospace\";\n",
       "        content.style.whiteSpace = \"pre-wrap\";\n",
       "        content.style.backgroundColor = \"rgb(255, 221, 221)\";\n",
       "        content.textContent = error.stack ?? error.toString();\n",
       "        wrapper.append(content);\n",
       "        el.append(wrapper);\n",
       "      }\n",
       "    } else if (Date.now() < root._bokeh_timeout) {\n",
       "      setTimeout(() => display_loaded(error), 100);\n",
       "    }\n",
       "  }\n",
       "\n",
       "  function run_callbacks() {\n",
       "    try {\n",
       "      root._bokeh_onload_callbacks.forEach(function(callback) {\n",
       "        if (callback != null)\n",
       "          callback();\n",
       "      });\n",
       "    } finally {\n",
       "      delete root._bokeh_onload_callbacks\n",
       "    }\n",
       "    console.debug(\"Bokeh: all callbacks have finished\");\n",
       "  }\n",
       "\n",
       "  function load_libs(css_urls, js_urls, callback) {\n",
       "    if (css_urls == null) css_urls = [];\n",
       "    if (js_urls == null) js_urls = [];\n",
       "\n",
       "    root._bokeh_onload_callbacks.push(callback);\n",
       "    if (root._bokeh_is_loading > 0) {\n",
       "      console.debug(\"Bokeh: BokehJS is being loaded, scheduling callback at\", now());\n",
       "      return null;\n",
       "    }\n",
       "    if (js_urls == null || js_urls.length === 0) {\n",
       "      run_callbacks();\n",
       "      return null;\n",
       "    }\n",
       "    console.debug(\"Bokeh: BokehJS not loaded, scheduling load and callback at\", now());\n",
       "    root._bokeh_is_loading = css_urls.length + js_urls.length;\n",
       "\n",
       "    function on_load() {\n",
       "      root._bokeh_is_loading--;\n",
       "      if (root._bokeh_is_loading === 0) {\n",
       "        console.debug(\"Bokeh: all BokehJS libraries/stylesheets loaded\");\n",
       "        run_callbacks()\n",
       "      }\n",
       "    }\n",
       "\n",
       "    function on_error(url) {\n",
       "      console.error(\"failed to load \" + url);\n",
       "    }\n",
       "\n",
       "    for (let i = 0; i < css_urls.length; i++) {\n",
       "      const url = css_urls[i];\n",
       "      const element = document.createElement(\"link\");\n",
       "      element.onload = on_load;\n",
       "      element.onerror = on_error.bind(null, url);\n",
       "      element.rel = \"stylesheet\";\n",
       "      element.type = \"text/css\";\n",
       "      element.href = url;\n",
       "      console.debug(\"Bokeh: injecting link tag for BokehJS stylesheet: \", url);\n",
       "      document.body.appendChild(element);\n",
       "    }\n",
       "\n",
       "    for (let i = 0; i < js_urls.length; i++) {\n",
       "      const url = js_urls[i];\n",
       "      const element = document.createElement('script');\n",
       "      element.onload = on_load;\n",
       "      element.onerror = on_error.bind(null, url);\n",
       "      element.async = false;\n",
       "      element.src = url;\n",
       "      console.debug(\"Bokeh: injecting script tag for BokehJS library: \", url);\n",
       "      document.head.appendChild(element);\n",
       "    }\n",
       "  };\n",
       "\n",
       "  function inject_raw_css(css) {\n",
       "    const element = document.createElement(\"style\");\n",
       "    element.appendChild(document.createTextNode(css));\n",
       "    document.body.appendChild(element);\n",
       "  }\n",
       "\n",
       "  const js_urls = [\"https://cdn.bokeh.org/bokeh/release/bokeh-3.5.0.min.js\", \"https://cdn.bokeh.org/bokeh/release/bokeh-gl-3.5.0.min.js\", \"https://cdn.bokeh.org/bokeh/release/bokeh-widgets-3.5.0.min.js\", \"https://cdn.bokeh.org/bokeh/release/bokeh-tables-3.5.0.min.js\", \"https://cdn.bokeh.org/bokeh/release/bokeh-mathjax-3.5.0.min.js\"];\n",
       "  const css_urls = [];\n",
       "\n",
       "  const inline_js = [    function(Bokeh) {\n",
       "      Bokeh.set_log_level(\"info\");\n",
       "    },\n",
       "function(Bokeh) {\n",
       "    }\n",
       "  ];\n",
       "\n",
       "  function run_inline_js() {\n",
       "    if (root.Bokeh !== undefined || force === true) {\n",
       "      try {\n",
       "            for (let i = 0; i < inline_js.length; i++) {\n",
       "      inline_js[i].call(root, root.Bokeh);\n",
       "    }\n",
       "\n",
       "      } catch (error) {display_loaded(error);throw error;\n",
       "      }if (force === true) {\n",
       "        display_loaded();\n",
       "      }} else if (Date.now() < root._bokeh_timeout) {\n",
       "      setTimeout(run_inline_js, 100);\n",
       "    } else if (!root._bokeh_failed_load) {\n",
       "      console.log(\"Bokeh: BokehJS failed to load within specified timeout.\");\n",
       "      root._bokeh_failed_load = true;\n",
       "    } else if (force !== true) {\n",
       "      const cell = $(document.getElementById(\"f459c64a-c424-47a6-9c8c-b2b7a97ae783\")).parents('.cell').data().cell;\n",
       "      cell.output_area.append_execute_result(NB_LOAD_WARNING)\n",
       "    }\n",
       "  }\n",
       "\n",
       "  if (root._bokeh_is_loading === 0) {\n",
       "    console.debug(\"Bokeh: BokehJS loaded, going straight to plotting\");\n",
       "    run_inline_js();\n",
       "  } else {\n",
       "    load_libs(css_urls, js_urls, function() {\n",
       "      console.debug(\"Bokeh: BokehJS plotting callback run at\", now());\n",
       "      run_inline_js();\n",
       "    });\n",
       "  }\n",
       "}(window));"
      ],
      "application/vnd.bokehjs_load.v0+json": "'use strict';\n(function(root) {\n  function now() {\n    return new Date();\n  }\n\n  const force = true;\n\n  if (typeof root._bokeh_onload_callbacks === \"undefined\" || force === true) {\n    root._bokeh_onload_callbacks = [];\n    root._bokeh_is_loading = undefined;\n  }\n\n\n  if (typeof (root._bokeh_timeout) === \"undefined\" || force === true) {\n    root._bokeh_timeout = Date.now() + 5000;\n    root._bokeh_failed_load = false;\n  }\n\n  const NB_LOAD_WARNING = {'data': {'text/html':\n     \"<div style='background-color: #fdd'>\\n\"+\n     \"<p>\\n\"+\n     \"BokehJS does not appear to have successfully loaded. If loading BokehJS from CDN, this \\n\"+\n     \"may be due to a slow or bad network connection. Possible fixes:\\n\"+\n     \"</p>\\n\"+\n     \"<ul>\\n\"+\n     \"<li>re-rerun `output_notebook()` to attempt to load from CDN again, or</li>\\n\"+\n     \"<li>use INLINE resources instead, as so:</li>\\n\"+\n     \"</ul>\\n\"+\n     \"<code>\\n\"+\n     \"from bokeh.resources import INLINE\\n\"+\n     \"output_notebook(resources=INLINE)\\n\"+\n     \"</code>\\n\"+\n     \"</div>\"}};\n\n  function display_loaded(error = null) {\n    const el = document.getElementById(\"f459c64a-c424-47a6-9c8c-b2b7a97ae783\");\n    if (el != null) {\n      const html = (() => {\n        if (typeof root.Bokeh === \"undefined\") {\n          if (error == null) {\n            return \"BokehJS is loading ...\";\n          } else {\n            return \"BokehJS failed to load.\";\n          }\n        } else {\n          const prefix = `BokehJS ${root.Bokeh.version}`;\n          if (error == null) {\n            return `${prefix} successfully loaded.`;\n          } else {\n            return `${prefix} <b>encountered errors</b> while loading and may not function as expected.`;\n          }\n        }\n      })();\n      el.innerHTML = html;\n\n      if (error != null) {\n        const wrapper = document.createElement(\"div\");\n        wrapper.style.overflow = \"auto\";\n        wrapper.style.height = \"5em\";\n        wrapper.style.resize = \"vertical\";\n        const content = document.createElement(\"div\");\n        content.style.fontFamily = \"monospace\";\n        content.style.whiteSpace = \"pre-wrap\";\n        content.style.backgroundColor = \"rgb(255, 221, 221)\";\n        content.textContent = error.stack ?? error.toString();\n        wrapper.append(content);\n        el.append(wrapper);\n      }\n    } else if (Date.now() < root._bokeh_timeout) {\n      setTimeout(() => display_loaded(error), 100);\n    }\n  }\n\n  function run_callbacks() {\n    try {\n      root._bokeh_onload_callbacks.forEach(function(callback) {\n        if (callback != null)\n          callback();\n      });\n    } finally {\n      delete root._bokeh_onload_callbacks\n    }\n    console.debug(\"Bokeh: all callbacks have finished\");\n  }\n\n  function load_libs(css_urls, js_urls, callback) {\n    if (css_urls == null) css_urls = [];\n    if (js_urls == null) js_urls = [];\n\n    root._bokeh_onload_callbacks.push(callback);\n    if (root._bokeh_is_loading > 0) {\n      console.debug(\"Bokeh: BokehJS is being loaded, scheduling callback at\", now());\n      return null;\n    }\n    if (js_urls == null || js_urls.length === 0) {\n      run_callbacks();\n      return null;\n    }\n    console.debug(\"Bokeh: BokehJS not loaded, scheduling load and callback at\", now());\n    root._bokeh_is_loading = css_urls.length + js_urls.length;\n\n    function on_load() {\n      root._bokeh_is_loading--;\n      if (root._bokeh_is_loading === 0) {\n        console.debug(\"Bokeh: all BokehJS libraries/stylesheets loaded\");\n        run_callbacks()\n      }\n    }\n\n    function on_error(url) {\n      console.error(\"failed to load \" + url);\n    }\n\n    for (let i = 0; i < css_urls.length; i++) {\n      const url = css_urls[i];\n      const element = document.createElement(\"link\");\n      element.onload = on_load;\n      element.onerror = on_error.bind(null, url);\n      element.rel = \"stylesheet\";\n      element.type = \"text/css\";\n      element.href = url;\n      console.debug(\"Bokeh: injecting link tag for BokehJS stylesheet: \", url);\n      document.body.appendChild(element);\n    }\n\n    for (let i = 0; i < js_urls.length; i++) {\n      const url = js_urls[i];\n      const element = document.createElement('script');\n      element.onload = on_load;\n      element.onerror = on_error.bind(null, url);\n      element.async = false;\n      element.src = url;\n      console.debug(\"Bokeh: injecting script tag for BokehJS library: \", url);\n      document.head.appendChild(element);\n    }\n  };\n\n  function inject_raw_css(css) {\n    const element = document.createElement(\"style\");\n    element.appendChild(document.createTextNode(css));\n    document.body.appendChild(element);\n  }\n\n  const js_urls = [\"https://cdn.bokeh.org/bokeh/release/bokeh-3.5.0.min.js\", \"https://cdn.bokeh.org/bokeh/release/bokeh-gl-3.5.0.min.js\", \"https://cdn.bokeh.org/bokeh/release/bokeh-widgets-3.5.0.min.js\", \"https://cdn.bokeh.org/bokeh/release/bokeh-tables-3.5.0.min.js\", \"https://cdn.bokeh.org/bokeh/release/bokeh-mathjax-3.5.0.min.js\"];\n  const css_urls = [];\n\n  const inline_js = [    function(Bokeh) {\n      Bokeh.set_log_level(\"info\");\n    },\nfunction(Bokeh) {\n    }\n  ];\n\n  function run_inline_js() {\n    if (root.Bokeh !== undefined || force === true) {\n      try {\n            for (let i = 0; i < inline_js.length; i++) {\n      inline_js[i].call(root, root.Bokeh);\n    }\n\n      } catch (error) {display_loaded(error);throw error;\n      }if (force === true) {\n        display_loaded();\n      }} else if (Date.now() < root._bokeh_timeout) {\n      setTimeout(run_inline_js, 100);\n    } else if (!root._bokeh_failed_load) {\n      console.log(\"Bokeh: BokehJS failed to load within specified timeout.\");\n      root._bokeh_failed_load = true;\n    } else if (force !== true) {\n      const cell = $(document.getElementById(\"f459c64a-c424-47a6-9c8c-b2b7a97ae783\")).parents('.cell').data().cell;\n      cell.output_area.append_execute_result(NB_LOAD_WARNING)\n    }\n  }\n\n  if (root._bokeh_is_loading === 0) {\n    console.debug(\"Bokeh: BokehJS loaded, going straight to plotting\");\n    run_inline_js();\n  } else {\n    load_libs(css_urls, js_urls, function() {\n      console.debug(\"Bokeh: BokehJS plotting callback run at\", now());\n      run_inline_js();\n    });\n  }\n}(window));"
     },
     "metadata": {},
     "output_type": "display_data"
    }
   ],
   "source": [
    "import bokeh\n",
    "from bokeh.plotting import figure, show, output_notebook\n",
    "from bokeh.models import HoverTool, ColumnDataSource, LabelSet\n",
    "\n",
    "output_notebook()\n",
    "bokeh.io.output_notebook()"
   ]
  },
  {
   "cell_type": "code",
   "execution_count": 23,
   "metadata": {},
   "outputs": [
    {
     "data": {
      "text/html": [
       "\n",
       "  <div id=\"cf8109ea-5638-4ef7-aa5b-a9f2f3453c20\" data-root-id=\"p1004\" style=\"display: contents;\"></div>\n"
      ]
     },
     "metadata": {},
     "output_type": "display_data"
    },
    {
     "data": {
      "application/javascript": [
       "(function(root) {\n",
       "  function embed_document(root) {\n",
       "  const docs_json = {\"4b98650a-9845-4ba7-b17d-09de8b99f29b\":{\"version\":\"3.5.0\",\"title\":\"Bokeh Application\",\"roots\":[{\"type\":\"object\",\"name\":\"Figure\",\"id\":\"p1004\",\"attributes\":{\"x_range\":{\"type\":\"object\",\"name\":\"DataRange1d\",\"id\":\"p1005\"},\"y_range\":{\"type\":\"object\",\"name\":\"DataRange1d\",\"id\":\"p1006\"},\"x_scale\":{\"type\":\"object\",\"name\":\"LinearScale\",\"id\":\"p1014\"},\"y_scale\":{\"type\":\"object\",\"name\":\"LinearScale\",\"id\":\"p1015\"},\"title\":{\"type\":\"object\",\"name\":\"Title\",\"id\":\"p1007\",\"attributes\":{\"text\":\"t-SNE Word Embeddings\"}},\"renderers\":[{\"type\":\"object\",\"name\":\"GlyphRenderer\",\"id\":\"p1047\",\"attributes\":{\"data_source\":{\"type\":\"object\",\"name\":\"ColumnDataSource\",\"id\":\"p1001\",\"attributes\":{\"selected\":{\"type\":\"object\",\"name\":\"Selection\",\"id\":\"p1002\",\"attributes\":{\"indices\":[],\"line_indices\":[]}},\"selection_policy\":{\"type\":\"object\",\"name\":\"UnionRenderers\",\"id\":\"p1003\"},\"data\":{\"type\":\"map\",\"entries\":[[\"index\",{\"type\":\"ndarray\",\"array\":[\"asshole\",\"jerk\",\"rude\",\"inconsiderate\",\"angry\",\"upset\",\"sad\",\"happy\",\"frustrated\",\"friend\",\"family\",\"partner\",\"coworker\",\"neighbor\",\"apologize\",\"forgive\",\"ignore\",\"confront\",\"compromise\",\"right\",\"wrong\",\"justified\",\"unjustified\",\"fair\",\"unfair\",\"honesty\",\"loyalty\",\"respect\",\"kindness\",\"empathy\"],\"shape\":[30],\"dtype\":\"object\",\"order\":\"little\"}],[\"x\",{\"type\":\"ndarray\",\"array\":{\"type\":\"bytes\",\"data\":\"w1OFQuDT5UIL6CBDvWI8Q4+sJ8MMwBLD0WhmwkT2GsNrzj7D/P27wi5SCUJayQXDS+KNw5ukGkKOYgnD2x0pwzuV00JNFb9BipqGQ0GPC8K6Q0HBAtCOwU+G40FCXArEX3rmQzSQJEPJS0hD+PMtQh+X3ELBZOPB\"},\"shape\":[30],\"dtype\":\"float32\",\"order\":\"little\"}],[\"y\",{\"type\":\"ndarray\",\"array\":{\"type\":\"bytes\",\"data\":\"txY4QhdfmEHX0yDDY/g/w5BL9MJcjBfDL7Qbw3FfS8Mw+KXCJC6AQUCXg0Px341CvmkqwhD8kMGTvDpDpnRiQ/K9ecKdRsjCyqG2QkyQuEI9cmVCJmoxQypN9kE+KxtEj0kew2m0I0NdI5TAmw3tQhRvrkL+yq/B\"},\"shape\":[30],\"dtype\":\"float32\",\"order\":\"little\"}]]}}},\"view\":{\"type\":\"object\",\"name\":\"CDSView\",\"id\":\"p1048\",\"attributes\":{\"filter\":{\"type\":\"object\",\"name\":\"AllIndices\",\"id\":\"p1049\"}}},\"glyph\":{\"type\":\"object\",\"name\":\"Scatter\",\"id\":\"p1043\",\"attributes\":{\"x\":{\"type\":\"field\",\"field\":\"x\"},\"y\":{\"type\":\"field\",\"field\":\"y\"},\"size\":{\"type\":\"value\",\"value\":10},\"line_color\":{\"type\":\"value\",\"value\":\"blue\"},\"fill_color\":{\"type\":\"value\",\"value\":\"blue\"},\"hatch_color\":{\"type\":\"value\",\"value\":\"blue\"}}},\"nonselection_glyph\":{\"type\":\"object\",\"name\":\"Scatter\",\"id\":\"p1044\",\"attributes\":{\"x\":{\"type\":\"field\",\"field\":\"x\"},\"y\":{\"type\":\"field\",\"field\":\"y\"},\"size\":{\"type\":\"value\",\"value\":10},\"line_color\":{\"type\":\"value\",\"value\":\"blue\"},\"line_alpha\":{\"type\":\"value\",\"value\":0.1},\"fill_color\":{\"type\":\"value\",\"value\":\"blue\"},\"fill_alpha\":{\"type\":\"value\",\"value\":0.1},\"hatch_color\":{\"type\":\"value\",\"value\":\"blue\"},\"hatch_alpha\":{\"type\":\"value\",\"value\":0.1}}},\"hover_glyph\":{\"type\":\"object\",\"name\":\"Scatter\",\"id\":\"p1045\",\"attributes\":{\"x\":{\"type\":\"field\",\"field\":\"x\"},\"y\":{\"type\":\"field\",\"field\":\"y\"},\"size\":{\"type\":\"value\",\"value\":10},\"fill_color\":{\"type\":\"value\",\"value\":\"blue\"},\"hatch_color\":{\"type\":\"value\",\"value\":\"blue\"}}},\"muted_glyph\":{\"type\":\"object\",\"name\":\"Scatter\",\"id\":\"p1046\",\"attributes\":{\"x\":{\"type\":\"field\",\"field\":\"x\"},\"y\":{\"type\":\"field\",\"field\":\"y\"},\"size\":{\"type\":\"value\",\"value\":10},\"line_color\":{\"type\":\"value\",\"value\":\"blue\"},\"line_alpha\":{\"type\":\"value\",\"value\":0.2},\"fill_color\":{\"type\":\"value\",\"value\":\"blue\"},\"fill_alpha\":{\"type\":\"value\",\"value\":0.2},\"hatch_color\":{\"type\":\"value\",\"value\":\"blue\"},\"hatch_alpha\":{\"type\":\"value\",\"value\":0.2}}}}}],\"toolbar\":{\"type\":\"object\",\"name\":\"Toolbar\",\"id\":\"p1013\",\"attributes\":{\"tools\":[{\"type\":\"object\",\"name\":\"PanTool\",\"id\":\"p1026\"},{\"type\":\"object\",\"name\":\"WheelZoomTool\",\"id\":\"p1027\",\"attributes\":{\"renderers\":\"auto\"}},{\"type\":\"object\",\"name\":\"BoxZoomTool\",\"id\":\"p1028\",\"attributes\":{\"overlay\":{\"type\":\"object\",\"name\":\"BoxAnnotation\",\"id\":\"p1029\",\"attributes\":{\"syncable\":false,\"line_color\":\"black\",\"line_alpha\":1.0,\"line_width\":2,\"line_dash\":[4,4],\"fill_color\":\"lightgrey\",\"fill_alpha\":0.5,\"level\":\"overlay\",\"visible\":false,\"left\":{\"type\":\"number\",\"value\":\"nan\"},\"right\":{\"type\":\"number\",\"value\":\"nan\"},\"top\":{\"type\":\"number\",\"value\":\"nan\"},\"bottom\":{\"type\":\"number\",\"value\":\"nan\"},\"left_units\":\"canvas\",\"right_units\":\"canvas\",\"top_units\":\"canvas\",\"bottom_units\":\"canvas\",\"handles\":{\"type\":\"object\",\"name\":\"BoxInteractionHandles\",\"id\":\"p1035\",\"attributes\":{\"all\":{\"type\":\"object\",\"name\":\"AreaVisuals\",\"id\":\"p1034\",\"attributes\":{\"fill_color\":\"white\",\"hover_fill_color\":\"lightgray\"}}}}}}}},{\"type\":\"object\",\"name\":\"SaveTool\",\"id\":\"p1036\"},{\"type\":\"object\",\"name\":\"ResetTool\",\"id\":\"p1037\"},{\"type\":\"object\",\"name\":\"HelpTool\",\"id\":\"p1038\"},{\"type\":\"object\",\"name\":\"HoverTool\",\"id\":\"p1039\",\"attributes\":{\"renderers\":\"auto\",\"tooltips\":\"@index\"}}]}},\"left\":[{\"type\":\"object\",\"name\":\"LinearAxis\",\"id\":\"p1021\",\"attributes\":{\"ticker\":{\"type\":\"object\",\"name\":\"BasicTicker\",\"id\":\"p1022\",\"attributes\":{\"mantissas\":[1,2,5]}},\"formatter\":{\"type\":\"object\",\"name\":\"BasicTickFormatter\",\"id\":\"p1023\"},\"major_label_policy\":{\"type\":\"object\",\"name\":\"AllLabels\",\"id\":\"p1024\"}}}],\"below\":[{\"type\":\"object\",\"name\":\"LinearAxis\",\"id\":\"p1016\",\"attributes\":{\"ticker\":{\"type\":\"object\",\"name\":\"BasicTicker\",\"id\":\"p1017\",\"attributes\":{\"mantissas\":[1,2,5]}},\"formatter\":{\"type\":\"object\",\"name\":\"BasicTickFormatter\",\"id\":\"p1018\"},\"major_label_policy\":{\"type\":\"object\",\"name\":\"AllLabels\",\"id\":\"p1019\"}}}],\"center\":[{\"type\":\"object\",\"name\":\"Grid\",\"id\":\"p1020\",\"attributes\":{\"axis\":{\"id\":\"p1016\"}}},{\"type\":\"object\",\"name\":\"Grid\",\"id\":\"p1025\",\"attributes\":{\"dimension\":1,\"axis\":{\"id\":\"p1021\"}}},{\"type\":\"object\",\"name\":\"LabelSet\",\"id\":\"p1050\",\"attributes\":{\"level\":\"glyph\",\"source\":{\"id\":\"p1001\"},\"x\":{\"type\":\"field\",\"field\":\"x\"},\"y\":{\"type\":\"field\",\"field\":\"y\"},\"text\":{\"type\":\"field\",\"field\":\"index\"},\"x_offset\":{\"type\":\"value\",\"value\":5},\"y_offset\":{\"type\":\"value\",\"value\":5}}}]}}]}};\n",
       "  const render_items = [{\"docid\":\"4b98650a-9845-4ba7-b17d-09de8b99f29b\",\"roots\":{\"p1004\":\"cf8109ea-5638-4ef7-aa5b-a9f2f3453c20\"},\"root_ids\":[\"p1004\"]}];\n",
       "  void root.Bokeh.embed.embed_items_notebook(docs_json, render_items);\n",
       "  }\n",
       "  if (root.Bokeh !== undefined) {\n",
       "    embed_document(root);\n",
       "  } else {\n",
       "    let attempts = 0;\n",
       "    const timer = setInterval(function(root) {\n",
       "      if (root.Bokeh !== undefined) {\n",
       "        clearInterval(timer);\n",
       "        embed_document(root);\n",
       "      } else {\n",
       "        attempts++;\n",
       "        if (attempts > 100) {\n",
       "          clearInterval(timer);\n",
       "          console.log(\"Bokeh: ERROR: Unable to run BokehJS code because BokehJS library is missing\");\n",
       "        }\n",
       "      }\n",
       "    }, 10, root)\n",
       "  }\n",
       "})(window);"
      ],
      "application/vnd.bokehjs_exec.v0+json": ""
     },
     "metadata": {
      "application/vnd.bokehjs_exec.v0+json": {
       "id": "p1004"
      }
     },
     "output_type": "display_data"
    }
   ],
   "source": [
    "# Add our DataFrame as a ColumnDataSource for Bokeh\n",
    "plot_data = ColumnDataSource(words_df)\n",
    "# Create the plot and configure the title, dimensions, and tools\n",
    "tsne_plot = figure(title='t-SNE Word Embeddings')\n",
    "# Add a hover tool to display words on roll-over\n",
    "tsne_plot.add_tools(HoverTool(tooltips='@index'))\n",
    "# Use scatter()\n",
    "tsne_plot.scatter('x', 'y',\n",
    "                  source=plot_data,\n",
    "                  color='blue',\n",
    "                  size=10,\n",
    "                  hover_line_color='black')\n",
    "# Add labels to the points\n",
    "labels = LabelSet(x='x', y='y', text='index', level='glyph',\n",
    "                  x_offset=5, y_offset=5, source=plot_data)\n",
    "tsne_plot.add_layout(labels)\n",
    "# Engage!\n",
    "show(tsne_plot)"
   ]
  },
  {
   "cell_type": "code",
   "execution_count": 25,
   "metadata": {},
   "outputs": [
    {
     "data": {
      "text/plain": [
       "'/Users/tomvannuenen/Library/CloudStorage/Dropbox/GitHub/DEV/DIGHUM160/notebooks/Week4/selected_word_embeddings_tsne.html'"
      ]
     },
     "execution_count": 25,
     "metadata": {},
     "output_type": "execute_result"
    }
   ],
   "source": [
    "from bokeh.plotting import output_file, save\n",
    "\n",
    "output_file(\"selected_word_embeddings_tsne.html\")\n",
    "save(tsne_plot)"
   ]
  },
  {
   "cell_type": "markdown",
   "metadata": {
    "id": "9EF6bB0rVReh"
   },
   "source": [
    "Now let's use $t$-SNE to take **all** the word vectors.\n",
    "\n",
    "**⚠️ Warning:** This might take a while."
   ]
  },
  {
   "cell_type": "code",
   "execution_count": 26,
   "metadata": {},
   "outputs": [],
   "source": [
    "tsne = TSNE(init='pca', learning_rate='auto')\n",
    "X_tsne = tsne.fit_transform(model.wv.vectors)"
   ]
  },
  {
   "cell_type": "markdown",
   "metadata": {},
   "source": [
    "We have our low dimensional representation. Now, let's store the 2 dimensions in a dataframe, with the word as the index:"
   ]
  },
  {
   "cell_type": "code",
   "execution_count": 27,
   "metadata": {},
   "outputs": [],
   "source": [
    "# Store the t-SNE vectors\n",
    "tsne_df = pd.DataFrame(X_tsne,\n",
    "                       index=pd.Index(model.wv.index_to_key),\n",
    "                       columns=['x', 'y'])"
   ]
  },
  {
   "cell_type": "code",
   "execution_count": 28,
   "metadata": {
    "id": "jd60bqFxe9z1"
   },
   "outputs": [],
   "source": [
    "# Create some filepaths to save our model\n",
    "tsne_path = '../../data/tsne_model'\n",
    "tsne_df_path = '../../data/tsne_df.pkl'"
   ]
  },
  {
   "cell_type": "code",
   "execution_count": 29,
   "metadata": {
    "id": "QBe7lNE3e7oQ"
   },
   "outputs": [],
   "source": [
    "# Save to disk\n",
    "with open(tsne_path, 'wb') as f:\n",
    "    pickle.dump(X_tsne, f)\n",
    "\n",
    "tsne_df.to_pickle(tsne_df_path)"
   ]
  },
  {
   "cell_type": "markdown",
   "metadata": {},
   "source": [
    "Here's a convenient code block to load this data, to start from this point:"
   ]
  },
  {
   "cell_type": "code",
   "execution_count": 30,
   "metadata": {},
   "outputs": [],
   "source": [
    "with open(tsne_path, 'rb') as f:\n",
    "    X_tsne = pickle.load(f)\n",
    "    \n",
    "tsne_df = pd.read_pickle(tsne_df_path)"
   ]
  },
  {
   "cell_type": "code",
   "execution_count": 45,
   "metadata": {
    "colab": {
     "base_uri": "https://localhost:8080/",
     "height": 817
    },
    "executionInfo": {
     "elapsed": 747,
     "status": "ok",
     "timestamp": 1640017607454,
     "user": {
      "displayName": "Tom van Nuenen",
      "photoUrl": "https://lh3.googleusercontent.com/a-/AOh14GhuBmxDvW5I_LJfZtwlPqMFD8QGLVPP3skvpkTnuQ=s64",
      "userId": "10012302451096885058"
     },
     "user_tz": -60
    },
    "id": "myJtActVdjn4",
    "outputId": "5f283a90-c0f4-4c31-88ea-5f7bfa6917ee",
    "tags": []
   },
   "outputs": [
    {
     "data": {
      "text/html": [
       "\n",
       "  <div id=\"d6e06621-cd16-4cfb-8269-264aa9d11d74\" data-root-id=\"p1264\" style=\"display: contents;\"></div>\n"
      ]
     },
     "metadata": {},
     "output_type": "display_data"
    },
    {
     "data": {
      "application/javascript": [
       "(function(root) {\n",
       "  function embed_document(root) {\n",
       "  const docs_json = {\"fe5e7358-eb7c-4c28-96f1-621a471c17a7\":{\"version\":\"3.5.0\",\"title\":\"Bokeh Application\",\"roots\":[{\"type\":\"object\",\"name\":\"Figure\",\"id\":\"p1264\",\"attributes\":{\"x_range\":{\"type\":\"object\",\"name\":\"DataRange1d\",\"id\":\"p1265\"},\"y_range\":{\"type\":\"object\",\"name\":\"DataRange1d\",\"id\":\"p1266\"},\"x_scale\":{\"type\":\"object\",\"name\":\"LinearScale\",\"id\":\"p1274\"},\"y_scale\":{\"type\":\"object\",\"name\":\"LinearScale\",\"id\":\"p1275\"},\"title\":{\"type\":\"object\",\"name\":\"Title\",\"id\":\"p1267\",\"attributes\":{\"text\":\"t-SNE Word Embeddings\"}},\"renderers\":[{\"type\":\"object\",\"name\":\"GlyphRenderer\",\"id\":\"p1307\",\"attributes\":{\"data_source\":{\"type\":\"object\",\"name\":\"ColumnDataSource\",\"id\":\"p1261\",\"attributes\":{\"selected\":{\"type\":\"object\",\"name\":\"Selection\",\"id\":\"p1262\",\"attributes\":{\"indices\":[],\"line_indices\":[]}},\"selection_policy\":{\"type\":\"object\",\"name\":\"UnionRenderers\",\"id\":\"p1263\"},\"data\":{\"type\":\"map\",\"entries\":[[\"index\",{\"type\":\"ndarray\",\"array\":[\"like\",\"want\",\"think\",\"people\",\"know\",\"asshole\",\"nta\",\"time\",\"op\",\"thing\",\"yta\",\"need\",\"kid\",\"tell\",\"way\",\"feel\",\"good\",\"child\",\"friend\",\"try\",\"right\",\"work\",\"ask\",\"parent\",\"come\",\"sound\",\"year\",\"relationship\",\"mean\",\"life\",\"family\",\"person\",\"woman\",\"use\",\"bad\",\"guy\",\"talk\",\"help\",\"let\",\"look\",\"situation\",\"day\",\"pay\",\"probably\",\"wife\",\">\",\"maybe\",\"fuck\",\"find\",\"leave\",\"man\",\"sure\",\"lot\",\"care\",\"old\",\"shit\",\"money\",\"wrong\",\"post\",\"reason\",\"understand\",\"love\",\"point\",\"girl\",\"agree\",\"actually\",\"mom\",\"issue\",\"happen\",\"long\",\"sex\",\"change\",\"home\",\"live\",\"husband\",\"comment\",\"stop\",\"kind\",\"pretty\",\"yeah\",\"daughter\",\"start\",\"big\",\"problem\",\"little\",\"job\",\"date\",\"baby\",\"place\",\"break\",\"dog\",\"hard\",\"definitely\",\"end\",\"mother\",\"fact\",\"away\",\"sister\",\"expect\",\"different\",\"eat\",\"dad\",\"yes\",\"house\",\"deal\",\"especially\",\"school\",\"nah\",\"act\",\"food\",\"partner\",\"read\",\"girlfriend\",\"matter\",\"instead\",\"support\",\"dude\",\"adult\",\"bring\",\"consider\",\"feeling\",\"bit\",\"month\",\"hurt\",\"stay\",\"new\",\"learn\",\"spend\",\"hope\",\"decide\",\"honestly\",\"sorry\",\"boyfriend\",\"wedding\",\"believe\",\"brother\",\"absolutely\",\"literally\",\"ex\",\"father\",\"week\",\"son\",\"case\",\"real\",\"behavior\",\"plan\",\"clearly\",\"able\",\"choice\",\"buy\",\"hour\",\"idea\",\"respect\",\"allow\",\"choose\",\"completely\",\"lie\",\"important\",\"decision\",\"stuff\",\"cause\",\"assume\",\"esh\",\"okay\",\"treat\",\"exactly\",\"trust\",\"lose\",\"play\",\"upset\",\"turn\",\"hear\",\"mind\",\"grow\",\"fucking\",\"suck\",\"word\",\"nice\",\"control\",\"great\",\"fine\",\"sleep\",\"young\",\"$\",\"likely\",\"experience\",\"edit\",\"body\",\"question\",\"obviously\",\"thank\",\"deserve\",\"opinion\",\"cheat\",\"high\",\"story\",\"share\",\"shitty\",\"far\",\"happy\",\"hate\",\"night\",\"weird\",\"clear\",\"realize\",\"car\",\"age\",\"seriously\",\"room\",\"rule\",\"mention\",\"etc\",\"force\",\"totally\",\"party\",\"handle\",\"gf\",\"free\",\"ass\",\"accept\",\"wait\",\"normal\",\"explain\",\"ok\",\"marry\",\"set\",\"speak\",\"close\",\"hand\",\"sit\",\"cut\",\"conversation\",\"easy\",\"joke\",\"future\",\"action\",\"watch\",\"gift\",\"responsibility\",\"hell\",\"couple\",\"wear\",\"guess\",\"world\",\"oh\",\"s\",\"fair\",\"walk\",\"imagine\",\"pregnant\",\"run\",\"rude\",\"excuse\",\"line\",\"second\",\"raise\",\"stand\",\"lol\",\"dick\",\"throw\",\"business\",\"uncomfortable\",\"chance\",\"offer\",\"face\",\"meet\",\"huge\",\"pick\",\"base\",\"marriage\",\"state\",\"course\",\"answer\",\"possible\",\"fault\",\"response\",\"head\",\"abuse\",\"basically\",\"open\",\"sense\",\"small\",\"step\",\"clean\",\"super\",\"fun\",\"hold\",\"drive\",\"cat\",\"send\",\"law\",\"healthy\",\"die\",\"enjoy\",\"wish\",\"personal\",\"teach\",\"phone\",\"refuse\",\"continue\",\"willing\",\"single\",\"term\",\"stupid\",\"later\",\"reasonable\",\"true\",\"blame\",\"straight\",\"check\",\"sort\",\"type\",\"boundary\",\"hair\",\"ignore\",\"human\",\"order\",\"worth\",\"group\",\"suggest\",\"past\",\"include\",\"honest\",\"apologize\",\"add\",\"involve\",\"option\",\"poor\",\"usually\",\"mad\",\"college\",\"trip\",\"info\",\"invite\",\"concern\",\"reaction\",\"save\",\"remember\",\"selfish\",\"pregnancy\",\"sub\",\"level\",\"view\",\"difference\",\"figure\",\"minute\",\"entitle\",\"half\",\"damn\",\"gay\",\"game\",\"write\",\"suppose\",\"entire\",\"sexual\",\"birthday\",\"comfortable\",\"advice\",\"miss\",\"drink\",\"boy\",\"listen\",\"cook\",\"divorce\",\"push\",\"kick\",\"cool\",\"seat\",\"risk\",\"safe\",\"rest\",\"ruin\",\"thought\",\"personally\",\"common\",\"pass\",\"class\",\"emotional\",\"bed\",\"bother\",\"follow\",\"bf\",\"regardless\",\"cost\",\"event\",\"anymore\",\"wonder\",\"extremely\",\"fight\",\"early\",\"hang\",\"tip\",\"stick\",\"public\",\"owe\",\"actual\",\"god\",\"moment\",\"ago\",\"sign\",\"abusive\",\"argument\",\"black\",\"dinner\",\"pull\",\"attention\",\"discuss\",\"simply\",\"hit\",\"mistake\",\"contact\",\"ta\",\"picture\",\"space\",\"steal\",\"value\",\"weight\",\"kinda\",\"white\",\"judge\",\"responsible\",\"extra\",\"avoid\",\"angry\",\"touch\",\"therapy\",\"self\",\"kill\",\"terrible\",\"crazy\",\"provide\",\"similar\",\"effort\",\"soon\",\"teacher\",\"worry\",\"reddit\",\"meal\",\"pain\",\"difficult\",\"roommate\",\"forget\",\"incredibly\",\"doctor\",\"health\",\"outside\",\"non\",\"claim\",\"position\",\"thread\",\"lead\",\"animal\",\"example\",\"drop\",\"ready\",\"gender\",\"certain\",\"service\",\"disagree\",\"consequence\",\"late\",\"ridiculous\",\"stranger\",\"racist\",\"legal\",\"cry\",\"female\",\"plus\",\"hide\",\"luck\",\"doubt\",\"hey\",\"bullshit\",\"rent\",\"judgement\",\"fix\",\"mess\",\"lack\",\"affect\",\"depend\",\"require\",\"information\",\"birth\",\"notice\",\"perfectly\",\"student\",\"bitch\",\"petty\",\"afford\",\"react\",\"justify\",\"argue\",\"demand\",\"certainly\",\"report\",\"eye\",\"bear\",\"compromise\",\"rape\",\"private\",\"correct\",\"period\",\"male\",\"sick\",\"laugh\",\"imo\",\"immediately\",\"number\",\"awful\",\"respond\",\"special\",\"married\",\"complain\",\"admit\",\"account\",\"movie\",\"communicate\",\"funny\",\"door\",\"country\",\"consent\",\"sibling\",\"low\",\"social\",\"short\",\"bill\",\"friendship\",\"major\",\"cover\",\"perspective\",\"possibly\",\"insult\",\"text\",\"appreciate\",\"easily\",\"interest\",\"interested\",\"member\",\"struggle\",\"restaurant\",\"damage\",\"protect\",\"pet\",\"horrible\",\"sad\",\"truth\",\"physical\",\"company\",\"professional\",\"message\",\"history\",\"fire\",\"behaviour\",\"book\",\"vegan\",\"attitude\",\"aware\",\"piece\",\"property\",\"meat\",\"obvious\",\"create\",\"general\",\"win\",\"truly\",\"medical\",\"shame\",\"bathroom\",\"culture\",\"discussion\",\"blow\",\"expensive\",\"wow\",\"fit\",\"present\",\"multiple\",\"request\",\"describe\",\"catch\",\"test\",\"opportunity\",\"gross\",\"dumb\",\"victim\",\"appropriate\",\"specifically\",\"bet\",\"middle\",\"fat\",\"drunk\",\"police\",\"plenty\",\"stress\",\"emotionally\",\"exist\",\"area\",\"dump\",\"waste\",\"simple\",\"reply\",\"abortion\",\"intention\",\"financial\",\"carry\",\"strong\",\"process\",\"entirely\",\"heart\",\"specific\",\"feed\",\"surprised\",\"fake\",\"immature\",\"fail\",\"guest\",\"trouble\",\"fall\",\"large\",\"express\",\"apparently\",\"context\",\"dress\",\"creepy\",\"pressure\",\"valid\",\"fully\",\"generally\",\"boss\",\"visit\",\"internet\",\"language\",\"ground\",\"approach\",\"scenario\",\"teenager\",\"result\",\"sell\",\"obligation\",\"advantage\",\"defend\",\"hopefully\",\"piss\",\"glad\",\"condom\",\"wtf\",\"employee\",\"vacation\",\"bully\",\"therapist\",\"cousin\",\"attract\",\"religion\",\"lady\",\"dead\",\"attempt\",\"scream\",\"tough\",\"yell\",\"weekend\",\"note\",\"split\",\"charge\",\"table\",\"complete\",\"form\",\"shower\",\"trans\",\"expectation\",\"remove\",\"suffer\",\"physically\",\"detail\",\"constantly\",\"death\",\"harm\",\"unreasonable\",\"prove\",\"benefit\",\"belief\",\"threaten\",\"wake\",\"effect\",\"worried\",\"manipulative\",\"owner\",\"coworker\",\"eventually\",\"pretend\",\"toxic\",\"insecure\",\"address\",\"perfect\",\"communication\",\"reality\",\"solution\",\"list\",\"r\",\"dish\",\"punish\",\"focus\",\"spouse\",\"manager\",\"red_flag\",\"genuinely\",\"career\",\"light\",\"card\",\"court\",\"safety\",\"attack\",\"spot\",\"fear\",\"shp\",\"store\",\"build\",\"mature\",\"adopt\",\"behave\",\"dangerous\",\"preference\",\"reach\",\"separate\",\"system\",\"shut\",\"regard\",\"sake\",\"return\",\"necessarily\",\"random\",\"clothe\",\"despite\",\"manage\",\"fast\",\"somebody\",\"water\",\"finally\",\"jerk\",\"encourage\",\"imply\",\"team\",\"offend\",\"favor\",\"lesson\",\"exact\",\"ring\",\"understandable\",\"seek\",\"idiot\",\"porn\",\"foot\",\"smell\",\"photo\",\"emotion\",\"total\",\"diet\",\"near\",\"current\",\"attend\",\"power\",\"apartment\",\"circumstance\",\"holy\",\"remind\",\"depression\",\"tattoo\",\"basic\",\"grade\",\"disrespectful\",\"standard\",\"mental_health\",\"bar\",\"promise\",\"tbh\",\"surprise\",\"apply\",\"inappropriate\",\"condition\",\"loss\",\"potential\",\"directly\",\"contribute\",\"apology\",\"annoy\",\"pissed\",\"cheap\",\"study\",\"degree\",\"agreement\",\"prefer\",\"bunch\",\"zero\",\"destroy\",\"anger\",\"drug\",\"differently\",\"annoying\",\"community\",\"begin\",\"potentially\",\"ahead\",\"decent\",\"anxiety\",\"massive\",\"acceptable\",\"legally\",\"receive\",\"suddenly\",\"lawyer\",\"unfair\",\"limit\",\"train\",\"forward\",\"religious\",\"understanding\",\"earn\",\"compare\",\"mental\",\"jump\",\"customer\",\"smart\",\"toy\",\"negative\",\"quit\",\"idk\",\"hot\",\"mum\",\"office\",\"concerned\",\"loud\",\"insist\",\"assumption\",\"serve\",\"unfortunately\",\"aside\",\"topic\",\"equal\",\"ability\",\"permission\",\"count\",\"size\",\"manipulate\",\"deep\",\"blood\",\"amazing\",\"+\",\"secret\",\"neighbor\",\"ton\",\"gym\",\"schedule\",\"essentially\",\"punishment\",\"jesus\",\"debt\",\"aita\",\"sexist\",\"tend\",\"disgusting\",\"insecurity\",\"society\",\"impact\",\"ride\",\"awkward\",\"desire\",\"afraid\",\"wanna\",\"ticket\",\"bc\",\"travel\",\"jealous\",\"lock\",\"price\",\"prevent\",\"attractive\",\"activity\",\"insane\",\"shoe\",\"teen\",\"gun\",\"relate\",\"online\",\"original\",\"positive\",\"brain\",\"block\",\"drama\",\"twice\",\"today\",\"purpose\",\"forever\",\"chore\",\"actively\",\"financially\",\"disability\",\"switch\",\"cheating\",\"judgment\",\"troll\",\"income\",\"cop\",\"skill\",\"guarantee\",\"freak\",\"trash\",\"necessary\",\"lay\",\"recommend\",\"frankly\",\"hospital\",\"validation\",\"obligate\",\"inside\",\"quick\",\"illegal\",\"wash\",\"aunt\",\"polite\",\"birth_control\",\"item\",\"minor\",\"role\",\"park\",\"grandparent\",\"lmao\",\"childish\",\"guilty\",\"prepare\",\"beat\",\"nta-\",\"education\",\"screw\",\"comfort\",\"disorder\",\"statement\",\"celebrate\",\"odd\",\"key\",\"hole\",\"extreme\",\"access\",\"develop\",\"recognize\",\"lucky\",\"road\",\"practice\",\"hire\",\"priority\",\"acknowledge\",\"smoke\",\"supportive\",\"tired\",\"race\",\"downvote\",\"kiss\",\"tv\",\"lunch\",\"i'm\",\"sexuality\",\"living\",\"ultimately\",\"dream\",\"sensitive\",\"title\",\"logic\",\"finish\",\"harsh\",\"refer\",\"hormone\",\"bag\",\"cruel\",\"custody\",\"grab\",\"engage\",\"double\",\"morning\",\"guilt\",\"convince\",\"privacy\",\"intend\",\"parenting\",\"reject\",\"cancer\",\"calm\",\"household\",\"fiance\",\"record\",\"memory\",\"accident\",\"subject\",\"source\",\"bro\",\"environment\",\"moral\",\"video\",\"properly\",\"grown\",\"significant\",\"particular\",\"assault\",\"holiday\",\"b\",\"character\",\"deny\",\"disrespect\",\"quickly\",\"project\",\"capable\",\"welcome\",\"lazy\",\"host\",\"trauma\",\"church\",\"emergency\",\"cash\",\"vote\",\"regular\",\"treatment\",\"grandma\",\"badly\",\"replace\",\"mil\",\"regret\",\"mouth\",\"empathy\",\"abandon\",\"individual\",\"overreact\",\"sweet\",\"barely\",\"forgive\",\"manner\",\"evidence\",\"expense\",\"opposite\",\"biological\",\"explanation\",\"kitchen\",\"hobby\",\"currently\",\"u\",\"gain\",\"confront\",\"join\",\"phrase\",\"x\",\"resent\",\"egg\",\"yep\",\"absolute\",\"=\",\"awesome\",\"draw\",\"crap\",\"normally\",\"intentionally\",\"finance\",\"average\",\"romantic\",\"street\",\"proper\",\"english\",\"cold\",\"possibility\",\"research\",\"quality\",\"proud\",\"accuse\",\"tie\",\"solve\",\"recently\",\"toddler\",\"shitpost\",\"dance\",\"christmas\",\"available\",\"alcohol\",\"sentence\",\"nope\",\"tear\",\"bus\",\"you're\",\"cooking\",\"buddy\",\"knock\",\"cross\",\"vegetarian\",\"sacrifice\",\"knowledge\",\"cake\",\"btw\",\"penis\",\"bi\",\"natural\",\"delete\",\"local\",\"hook\",\"habit\",\"unhealthy\",\"embarrassed\",\"city\",\"burden\",\"realise\",\"policy\",\"respectful\",\"busy\",\"careful\",\"noise\",\"painful\",\"taste\",\"technically\",\"disabled\",\"maintain\",\"server\",\"creep\",\"suspect\",\"ban\",\"silly\",\"particularly\",\"quiet\",\"commit\",\"fairly\",\"bedroom\",\"strange\",\"friendly\",\"confirm\",\"inform\",\"inconsiderate\",\"equally\",\"main\",\"factor\",\"voice\",\"town\",\"dollar\",\"helpful\",\"ultimatum\",\"loan\",\"slightly\",\"curious\",\"cancel\",\"personality\",\"and/or\",\"favorite\",\"exclude\",\"color\",\"haha\",\"childhood\",\"anyways\",\"interaction\",\"ball\",\"threat\",\"murder\",\"escalate\",\"resentment\",\"previous\",\"innocent\",\"american\",\"reasoning\",\"fly\",\"ghost\",\"everybody\",\"rate\",\"lifestyle\",\"counseling\",\"identity\",\"autistic\",\"scare\",\"shift\",\"scene\",\"news\",\"ignorant\",\"danger\",\"thinking\",\"crime\",\"confused\",\"bride\",\"distance\",\"compliment\",\"hurtful\",\"fianc\\u00e9\",\"direct\",\"fill\",\"pizza\",\"mate\",\"donate\",\"nearly\",\"grief\",\"goal\",\"bite\",\"labor\",\"music\",\"subreddit\",\"floor\",\"d\",\"uncle\",\"insurance\",\"shot\",\"conflict\",\"relative\",\"match\",\"aggressive\",\"bond\",\"burn\",\"style\",\"coffee\",\"upvote\",\"poorly\",\"improve\",\"entitled\",\"fund\",\"majority\",\"shirt\",\"social_medium\",\"dislike\",\"military\",\"patient\",\"pill\",\"staff\",\"cute\",\"funeral\",\"arrangement\",\"advance\",\"box\",\"identify\",\"relevant\",\"proof\",\"email\",\"driver\",\"function\",\"credit\",\"window\",\"hotel\",\"lean\",\"board\",\"dynamic\",\"yta-\",\"better\",\"surgery\",\"yea\",\"rid\",\"ah\",\"update\",\"severe\",\"naked\",\"niece\",\"grieve\",\"homophobic\",\"flight\",\"belong\",\"folk\",\"shop\",\"remain\",\"skin\",\"offensive\",\"prank\",\"lease\",\"couch\",\"enter\",\"interact\",\"flip\",\"passive_aggressive\",\"link\",\"definition\",\"autism\",\"accord\",\"commitment\",\"interesting\",\"crush\",\"violate\",\"warn\",\"facebook\",\"repeat\",\"regularly\",\"impossible\",\"explicitly\",\"field\",\"prior\",\"expose\",\"warning\",\"allergy\",\"beautiful\",\"payment\",\"aspect\",\"nasty\",\"worker\",\"resource\",\"grandmother\",\"million\",\"apologise\",\"leg\",\"letter\",\"harass\",\"peace\",\"path\",\"beginning\",\"arm\",\"shock\",\"decade\",\"miserable\",\"repeatedly\",\"university\",\"accommodate\",\"appear\",\"connection\",\"mentally\",\"tiny\",\"dark\",\"debate\",\"adoption\",\"delivery\",\"dare\",\"participate\",\"authority\",\"chat\",\"homeless\",\"revenge\",\"drag\",\"sport\",\"track\",\"deeply\",\"violence\",\"suggestion\",\"irrelevant\",\"instance\",\"earth\",\"sexually\",\"blind\",\"pursue\",\"legitimate\",\"wall\",\"budget\",\"image\",\"twin\",\"trigger\",\"enable\",\"racism\",\"flat\",\"cheater\",\"rough\",\"establish\",\"unnecessary\",\"newborn\",\"purchase\",\"cunt\",\"shoot\",\"ya\",\"tone\",\"ugly\",\"automatically\",\"dictate\",\"clarify\",\"tho\",\"alternative\",\"highly\",\"red\",\"politely\",\"art\",\"presumably\",\"anybody\",\"strongly\",\"paint\",\"scared\",\"stressful\",\"incident\",\"defensive\",\"concept\",\"roll\",\"energy\",\"meeting\",\"contract\",\"scary\",\"pack\",\"happiness\",\"punch\",\"bs\",\"paper\",\"unable\",\"neglect\",\"associate\",\"google\",\"apart\",\"mood\",\"irresponsible\",\"consideration\",\"chill\",\"disease\",\"slight\",\"faith\",\"appearance\",\"garbage\",\"excited\",\"yup\",\"page\",\"abuser\",\"occur\",\"foster\",\"teenage\",\"club\",\"daily\",\"pant\",\"genuine\",\"computer\",\"pee\",\"grateful\",\"dirty\",\"justified\",\"/r\",\"propose\",\"medication\",\"app\",\"hug\",\"program\",\"commenter\",\"grandchild\",\"frustration\",\"sue\",\"vagina\",\"duty\",\"skip\",\"mental_illness\",\"plate\",\"overall\",\"trick\",\"somewhat\",\"breast\",\"ensure\",\"indicate\",\"suit\",\"product\",\"intimate\",\"ill\",\"rich\",\"nature\",\"inconvenience\",\"insensitive\",\"depressed\",\"invest\",\"version\",\"nurse\",\"med\",\"heavy\",\"sympathy\",\"accidentally\",\"bio\",\"flirt\",\"stage\",\"typically\",\"grant\",\"video_game\",\"task\",\"material\",\"snap\",\"deliberately\",\"mutual\",\"load\",\"rare\",\"spread\",\"pop\",\"violent\",\"giant\",\"vs\",\"mile\",\"lesbian\",\"decline\",\"hint\",\"rely\",\"false\",\"texte\",\"tinder\",\"asap\",\"weed\",\"makeup\",\"got\",\"training\",\"ashamed\",\"jesus_christ\",\"sil\",\"overweight\",\"nephew\",\"rub\",\"exercise\",\"method\",\"file\",\"speech\",\"surely\",\"finger\",\"wonderful\",\"fantasy\",\"hr\",\"ytayou\",\"bisexual\",\"determine\",\"pre\",\"cps\",\"disregard\",\"impression\",\"ops\",\"hilarious\",\"relax\",\"attraction\",\"intent\",\"boob\",\"wise\",\"pro\",\"spoil\",\"blue\",\"honor\",\"milk\",\"graduate\",\"laundry\",\"honesty\",\"successful\",\"air\",\"embarrass\",\"beg\",\"af\",\"effective\",\"tradition\",\"bridesmaid\",\"till\",\"bias\",\"frame\",\"increase\",\"dismiss\",\"target\",\"transphobic\",\"trap\",\"object\",\"security\",\"parking\",\"enforce\",\"discipline\",\"final\",\"omg\",\"shoulder\",\"territory\",\"slow\",\"theirs\",\"affair\",\"rock\",\"rational\",\"grocery\",\"addiction\",\"bottle\",\"outcome\",\"educate\",\"christian\",\"unacceptable\",\"nude\",\"spite\",\"toilet\",\"rip\",\"fish\",\"management\",\"snack\",\"diaper\",\"symptom\",\"complaint\",\"resolve\",\"challenge\",\"rarely\",\"reveal\",\"offense\",\"privilege\",\"recover\",\"butt\",\"tran\",\"bank\",\"slip\",\"survive\",\"alive\",\"snoop\",\"nose\",\"confidence\",\"breastfeed\",\"quote\",\"casual\",\"shelter\",\"ditch\",\"influence\",\"evening\",\"hungry\",\"sexual_assault\",\"co_worker\",\"reflect\",\"don't\",\"settle\",\"vulnerable\",\"pride\",\"unhappy\",\"shave\",\"reference\",\"openly\",\"america\",\"breakup\",\"summer\",\"candy\",\"routine\",\"puppy\",\"poster\",\"bang\",\"waitress\",\"publicly\",\"thousand\",\"smile\",\"suspicious\",\"firm\",\"sober\",\"traumatic\",\"pound\",\"gesture\",\"fan\",\"mix\",\"betray\",\"tolerate\",\"douche\",\"rapist\",\"constant\",\"asian\",\"considerate\",\"uber\",\"illness\",\"political\",\"label\",\"clothing\",\"mindset\",\"tool\",\"extent\",\"tall\",\"equivalent\",\"chinese\",\"pic\",\"prepared\",\"ideal\",\"design\",\"failure\",\"exchange\",\"dramatic\",\"naive\",\"dry\",\"client\",\"mod\",\"introduce\",\"unlikely\",\"reward\",\"description\",\"/s\",\"freedom\",\"solid\",\"eh\",\"wrap\",\"ice_cream\",\"landlord\",\"frequently\",\"stare\",\"masturbate\",\"rage\",\"anti\",\"swear\",\"gold\",\"prioritize\",\"vet\",\"parental\",\"civil\",\"stereotype\",\"hero\",\"legit\",\"discomfort\",\"setting\",\"infant\",\"mark\",\"y\",\"connect\",\"professor\",\"saving\",\"neighborhood\",\"chicken\",\"generous\",\"diagnose\",\"portion\",\"fee\",\"consult\",\"evil\",\"chick\",\"employer\",\"pronoun\",\"display\",\"whatsoever\",\"shallow\",\"counselor\",\"compatible\",\"skinny\",\"comparison\",\"protection\",\"hardly\",\"genetic\",\"babysitter\",\"outright\",\"john\",\"ntayou\",\"lash\",\"thin\",\"correctly\",\"criminal\",\"dig\",\"cleaning\",\"fancy\",\"model\",\"define\",\"jail\",\"solely\",\"status\",\"brand\",\"proceed\",\"perceive\",\"perform\",\"cultural\",\"adjust\",\"generation\",\"frustrating\",\"longer\",\"addict\",\"prick\",\"previously\",\"grandfather\",\"literal\",\"plane\",\"controlling\",\"ywbta\",\"dealbreaker\",\"deal_breaker\",\"typical\",\"immediate\",\"complex\",\"building\",\"absurd\",\"shove\",\"drinking\",\"shape\",\"occasionally\",\"compassion\",\"height\",\"direction\",\"workplace\",\"adhd\",\"cope\",\"morally\",\"interview\",\"french\",\"search\",\"abort\",\"upfront\",\"nanny\",\"volunteer\",\"location\",\"planning\",\"humiliate\",\"input\",\"lift\",\"embarrassing\",\"vibe\",\"background\",\"content\",\"pattern\",\"initial\",\"clue\",\"active\",\"unfortunate\",\"sexy\",\"minimum\",\"film\",\"warrant\",\"atheist\",\"ugh\",\"deliver\",\"everyday\",\"allergic\",\"self_esteem\",\"popular\",\"pleasure\",\"arsehole\",\"land\",\"goddamn\",\"ego\",\"cheese\",\"manipulation\",\"pathetic\",\"range\",\"weigh\",\"additional\",\"independent\",\"karma\",\"nonsense\",\"battle\",\"buck\",\"miscarriage\",\"pocket\",\"valuable\",\"requirement\",\"song\",\"lifetime\",\"approve\",\"brush\",\"leash\",\"round\",\"weak\",\"advise\",\"affection\",\"monster\",\"maturity\",\"kindness\",\"player\",\"hypocrite\",\"discover\",\"naturally\",\"nightmare\",\"basis\",\"conclusion\",\"confuse\",\"ntai\",\"meaning\",\"daddy\",\"stretch\",\"balance\",\"mommy\",\"bra\",\"double_standard\",\"charity\",\"inherently\",\"beer\",\"groom\",\"profile\",\"appointment\",\"center\",\"waiter\",\"accurate\",\"heal\",\"attach\",\"wild\",\"malicious\",\"diamond\",\"oppose\",\"behalf\",\"artist\",\"exception\",\"logical\",\"oral\",\"bitter\",\"stance\",\"yo\",\"encounter\",\"honey\",\"useless\",\"overly\",\"permanent\",\"uniform\",\"suicide\",\"disgust\",\"borderline\",\"glass\",\"mentality\",\"crappy\",\"sink\",\"brat\",\"chip\",\"pair\",\"uh\",\"bail\",\"defense\",\"assholish\",\"heavily\",\"addition\",\"witness\",\"feedback\",\"headphone\",\"obnoxious\",\"calmly\",\"laptop\",\"paragraph\",\"entitlement\",\"confident\",\"credit_card\",\"slap\",\"incel\",\"ignorance\",\"harmful\",\"disclose\",\"mock\",\"measure\",\"50/50\",\"justification\",\"legitimately\",\"hormonal\",\"childcare\",\"wage\",\"advocate\",\"alright\",\"route\",\"reduce\",\"invitation\",\"motivation\",\"involved\",\"narcissistic\",\"gas\",\"loose\",\"peer\",\"article\",\"daycare\",\"relatively\",\"strict\",\"traditional\",\"\\ud83d\\ude02\",\"initially\",\"war\",\"unwanted\",\"diagnosis\",\"gut\",\"jealousy\",\"housework\",\"scale\",\"fellow\",\"hypothetical\",\"joint\",\"hypocritical\",\"ear\",\"effectively\",\"x200b\",\"tax\",\"vent\",\"sandwich\",\"spare\",\"originally\",\"tight\",\"salary\",\"irrational\",\"injury\",\"complicated\",\"strike\",\"user\",\"engagement\",\"sudden\",\"agency\",\"competition\",\"favour\",\"ffs\",\"primary\",\"flag\",\"purely\",\"breed\",\"occasion\",\"uk\",\"tenant\",\"sadly\",\"fool\",\"pump\",\"trump\",\"reconsider\",\"root\",\"muslim\",\"whore\",\"warm\",\"std\",\"disappoint\",\"moron\",\"feminist\",\"proposal\",\"tree\",\"explore\",\"reasonably\",\"validate\",\"k\",\"unique\",\"paternity_test\",\"instagram\",\"inch\",\"shopping\",\"transition\",\"shake\",\"score\",\"industry\",\"smoking\",\"machine\",\"classic\",\"y'\",\"arrive\",\"remotely\",\"spectrum\",\"stomach\",\"useful\",\"borrow\",\"jack\",\"lecture\",\"bone\",\"cross_line\",\"lgbt\",\"nicely\",\"government\",\"review\",\"nut\",\"cookie\",\"verbal\",\"screen\",\"cashier\",\"gaslighte\",\"document\",\"episode\",\"a.m.\",\"copy\",\"reverse\",\"harassment\",\"dodge_bullet\",\"package\",\"ceremony\",\"site\",\"fence\",\"vaccine\",\"sneak\",\"fresh\",\"success\",\"bigot\",\"narcissist\",\"alcoholic\",\"liar\",\"vasectomy\",\"cup\",\"orgasm\",\"heck\",\"trade\",\"chair\",\"i.e.\",\"minority\",\"username\",\"min\",\"pool\",\"unwilling\",\"significantly\",\"whilst\",\"tomorrow\",\"nap\",\"code\",\"loser\",\"kink\",\"bleed\",\"repair\",\"genital\",\"scar\",\"condescending\",\"yard\",\"dependent\",\"brag\",\"hygiene\",\"resort\",\"pure\",\"recent\",\"underwear\",\"decency\",\"f\",\"disappointed\",\"whine\",\"arrest\",\"discount\",\"bil\",\"frustrate\",\"intimacy\",\"demonstrate\",\"consume\",\"committed\",\"cycle\",\"breakfast\",\"reputation\",\"spring\",\"rush\",\"length\",\"attorney\",\"theft\",\"interpret\",\"cuz\",\"achieve\",\"prize\",\"criticize\",\"stone\",\"verbally\",\"corner\",\"formal\",\"closet\",\"plain\",\"norm\",\"self_center\",\"cuddle\",\"christ\",\"unprofessional\",\"chef\",\"distract\",\"virgin\",\"string\",\"lord\",\"dunno\",\"presence\",\"frustrated\",\"dumbass\",\"sexism\",\"co\",\"wallet\",\"accomplish\",\"poop\",\"circle\",\"huge_red_flag\",\"fuckin\",\"gently\",\"ish\",\"worthy\",\"lovely\",\"tooth\",\"c\",\"development\",\"desperate\",\"slowly\",\"importantly\",\"undermine\",\"entertain\",\"exhaust\",\"stable\",\"limited\",\"grandpa\",\"insulting\",\"hi\",\"harmless\",\"science\",\"session\",\"sale\",\"joy\",\"classmate\",\"shout\",\"sugar\",\"grandkid\",\"misunderstanding\",\"knowingly\",\"license\",\"severely\",\"extend\",\"housing\",\"announce\",\"crash\",\"ungrateful\",\"unsafe\",\"blatantly\",\"congrat\",\"surround\",\"injure\",\"purposely\",\"procedure\",\"heat\",\"disturb\",\"phase\",\"population\",\"weapon\",\"press\",\"grand\",\"nerve\",\"boot\",\"i\\u2019m\",\"syndrome\",\"broken\",\"cringe\",\"homework\",\"evaluate\",\"thoughtful\",\"reception\",\"section\",\"seemingly\",\"sincerely\",\"til\",\"cater\",\"alex\",\"vaccinate\",\"arrange\",\"secure\",\"medicine\",\"privately\",\"strain\",\"implication\",\"surrogate\",\"pity\",\"ed\",\"recipe\",\"sentiment\",\"spell\",\"ntayour\",\"trashy\",\"panic\",\"magically\",\"24/7\",\"reminder\",\"catholic\",\"counter\",\"escape\",\"organ\",\"progress\",\"bizarre\",\"shocked\",\"berate\",\"rejection\",\"instinct\",\"pot\",\"wording\",\"exam\",\"password\",\"dismissive\",\"ownership\",\"belittle\",\"tag\",\"yesterday\",\"beach\",\"nail\",\"celebration\",\"oil\",\"terrify\",\"planet\",\"goodbye\",\"concert\",\"crack\",\"excellent\",\"audience\",\"vehicle\",\"mid\",\"babysit\",\"shared\",\"complication\",\"cis\",\"camera\",\"psychological\",\"ptsd\",\"principle\",\"compete\",\"bug\",\"secretly\",\"confrontation\",\"sperm\",\"uncommon\",\"wig\",\"writing\",\"south\",\"alter\",\"obsess\",\"math\",\"colleague\",\"plant\",\"productive\",\"toss\",\"reinforce\",\"supply\",\"flower\",\"yike\",\"shady\",\"department\",\"americans\",\"produce\",\"wet\",\"best\",\"band\",\"homophobia\",\"withhold\",\"tactic\",\"ethic\",\"delusional\",\"awhile\",\"incapable\",\"minimum_wage\",\"menu\",\"anytime\",\"socially\",\"stripper\",\"fiancee\",\"realistic\",\"thanks\",\"rob\",\"guilt_trip\",\"default\",\"i'd\",\"qualified\",\"familiar\",\"blanket\",\"vibrator\",\"related\",\"expert\",\"obese\",\"formula\",\"criticism\",\"congratulation\",\"neighbour\",\"camp\",\"medical_condition\",\"rat\",\"excessive\",\"permanently\",\"rant\",\"theory\",\"benefit_doubt\",\"grain\",\"def\",\"politic\",\"lock_door\",\"existence\",\"investment\",\"cent\",\"assure\",\"extended\",\"conservative\",\"stem\",\"combine\",\"retirement\",\"slave\",\"airline\",\"puberty\",\"convenient\",\"unusual\",\"prison\",\"roof\",\"maid\",\"lane\",\"tact\",\"crowd\",\"kidney\",\"nervous\",\"fyi\",\"bike\",\"traumatize\",\"empathize\",\"fridge\",\"happily\",\"instantly\",\"patience\",\"indian\",\"hat\",\"error\",\"psycho\",\"superior\",\"lonely\",\"boil\",\"bud\",\"market\",\"randomly\",\"edge\",\"button\",\"intense\",\"trait\",\"betrayal\",\"assignment\",\"left\",\"stepdaughter\",\"respectfully\",\"slut\",\"indication\",\"silence\",\"tantrum\",\"wipe\",\"annoyed\",\"loving\",\"hostile\",\"rightfully\",\"pile\",\"accusation\",\"wind\",\"practically\",\"profit\",\"resentful\",\"scam\",\"insert\",\"violation\",\"bonus\",\"sight\",\"slide\",\"mainly\",\"horribly\",\"recovery\",\"starve\",\"blunt\",\"oblivious\",\"praise\",\"messy\",\"invalidate\",\"anniversary\",\"scout\",\"award\",\"sexually_assault\",\"traffic\",\"difficulty\",\"represent\",\"objectively\",\"possession\",\"tonight\",\"y\\u2019\",\"gentle\",\"loudly\",\"mild\",\"pitch\",\"interrupt\",\"haircut\",\"specify\",\"stepmom\",\"sheet\",\"coach\",\"overnight\",\"anxious\",\"release\",\"etiquette\",\"collect\",\"fianc\\u00e9e\",\"disagreement\",\"secondly\",\"nazi\",\"pos\",\"percent\",\"courtesy\",\"slur\",\"bait\",\"overcome\",\"wreck\",\"meaningful\",\"dozen\",\"discrimination\",\"willingly\",\"sole\",\"supposedly\",\"fetish\",\"nuclear\",\"scratch\",\"drain\",\"friday\",\"consistently\",\"sauce\",\"bowl\",\"disney\",\"master\",\"overreaction\",\"stink\",\"reserve\",\"thick\",\"click\",\"m\",\"bullying\",\"gtfo\",\"sum\",\"ingredient\",\"equate\",\"jewish\",\"prom\",\"fil\",\"sabotage\",\"tit\",\"dense\",\"casually\",\"bind\",\"unit\",\"ntaif\",\"qualify\",\"storm\",\"insight\",\"aka\",\"paranoid\",\"quietly\",\"soft\",\"judgmental\",\"movement\",\"incredible\",\"importance\",\"signal\",\"biased\",\"chocolate\",\"speed\",\"neutral\",\"denial\",\"clueless\",\"stalk\",\"strip_club\",\"assign\",\"analogy\",\"pedophile\",\"usual\",\"purposefully\",\"vomit\",\"minimize\",\"baggage\",\"donation\",\"performance\",\"sunday\",\"medium\",\"horse\",\"\\u00a3\",\"justice\",\"contribution\",\"delay\",\"huh\",\"chain\",\"insanely\",\"anal\",\"calorie\",\"bright\",\"impose\",\"forth\",\"website\",\"confusing\",\"teaching\",\"furthermore\",\"row\",\"massively\",\"caretaker\",\"childbirth\",\"disappointment\",\"urge\",\"fantastic\",\"torture\",\"conscious\",\"sis\",\"r_amitheasshole\",\"remark\",\"3rd\",\"assistance\",\"additionally\",\"saint\",\"20\",\"restrict\",\"tease\",\"misunderstand\",\"eta\",\"dna\",\"slack\",\"organization\",\"chunk\",\"unrelated\",\"t\",\"thankfully\",\"ytai\",\"assholery\",\"grasp\",\"lend\",\"means\",\"firmly\",\"speaker\",\"ease\",\"partnership\",\"tuition\",\"initiate\",\"w\",\"utterly\",\"self_conscious\",\"adulthood\",\"pasta\",\"monogamous\",\"dishonest\",\"rise\",\"percentage\",\"grocery_store\",\"inheritance\",\"pussy\",\"strength\",\"throw_tantrum\",\"asset\",\"suspicion\",\"unattractive\",\"interfere\",\"terribly\",\"chest\",\"alarm\",\"chase\",\"unaware\",\"throat\",\"brown\",\"douchebag\",\"flaw\",\"angle\",\"/u\",\"soul\",\"safely\",\"pray\",\"lasagna\",\"bird\",\"guide\",\"critical\",\"endanger\",\"twist\",\"predator\",\"ntait\",\"incorrect\",\"unlike\",\"library\",\"transfer\",\"wide\",\"semester\",\"repercussion\",\"freeze\",\"capacity\",\"seven\",\"vacuum\",\"exhausting\",\"underage\",\"principal\",\"burger\",\"register\",\"sketchy\",\"poison\",\"temporary\",\"blast\",\"spending\",\"taxis\",\"practical\",\"feature\",\"obligated\",\"worse\",\"sahm\",\"rescue\",\"academic\",\"scholarship\",\"device\",\"mail\",\"asleep\",\"utility\",\"vary\",\"upsetting\",\"distress\",\"precious\",\"contest\",\"ppl\",\"thief\",\"clock\",\"picky\",\"official\",\"apple\",\"autonomy\",\"strategy\",\"ntashe\",\"biologically\",\"translate\",\"spoiled\",\"spill\",\"humor\",\"alienate\",\"promote\",\"knife\",\"spanish\",\"suffering\",\"flu\",\"outfit\",\"wave\",\"p.m.\",\"perception\",\"estate\",\"stepdad\",\"desk\",\"em\",\"fulfil\",\"carefully\",\"damaging\",\"broke\",\"breathe\",\"lover\",\"disappear\",\"luckily\",\"tf\",\"reading\",\"ethical\",\"boring\",\"europe\",\"masturbation\",\"forum\",\"chew\",\"theater\",\"incompatible\",\"leftover\",\"massage\",\"freaking\",\"succeed\",\"fetus\",\"heritage\",\"variety\",\"knee\",\"partially\",\"dating\",\"vegetable\",\"fry\",\"vague\",\"passion\",\"unpleasant\",\"embarrassment\",\"hateful\",\"canada\",\"accommodation\",\"you\\u2019re\",\"desperately\",\"border\",\"tire\",\"reciprocate\",\"2nd\",\"timing\",\"explicit\",\"intervention\",\"gap\",\"mixed\",\"relation\",\"ur\",\"soap\",\"star\",\"bump\",\"steak\",\"lack_empathy\",\"wildly\",\"replacement\",\"cum\",\"fruit\",\"viewpoint\",\"elaborate\",\"dear\",\"appropriately\",\"forbid\",\"alert\",\"passenger\",\"bloody\",\"infection\",\"smash\",\"acne\",\"nickname\",\"amend\",\"penny\",\"isolate\",\"bean\",\"belly\",\"fart\",\"verdict\",\"fuss\",\"furious\",\"um\",\"sexual_harassment\",\"tampon\",\"venue\",\"ally\",\"admission\",\"fashion\",\"curiosity\",\"thankful\",\"ridiculously\",\"breath\",\"blatant\",\"bust\",\"sexualize\",\"truck\",\"monitor\",\"modern\",\"exit\",\"impulse\",\"unnecessarily\",\"hill\",\"sitter\",\"straw\",\"valentine\",\"grieving\",\"tank\",\"childfree\",\"exclusive\",\"ice\",\"green\",\"alot\",\"enjoyment\",\"furniture\",\"elderly\",\"solo\",\"dorm\",\"cast\",\"nuts\",\"tendency\",\"gathering\",\"sin\",\"mortgage\",\"senior\",\"navigate\",\"silver\",\"misogynistic\",\"fall_asleep\",\"equipment\",\"approval\",\"guitar\",\"ie\",\"experiment\",\"grace\",\"pointless\",\"thousand_dollar\",\"mildly\",\"wine\",\"learning\",\"gossip\",\"lower\",\"sympathetic\",\"sane\",\"core\",\"sing\",\"divide\",\"candidate\",\"silent\",\"rethink\",\"deposit\",\"graduation\",\"golden\",\"restroom\",\"hypocrisy\",\"worthless\",\"textbook\",\"bare_minimum\",\"scroll\",\"liberal\",\"infuriate\",\"unexpected\",\"sock\",\"audacity\",\"blackmail\",\"vindictive\",\"deceased\",\"lame\",\"campus\",\"spin\",\"unprotected_sex\",\"operate\",\"gene\",\"sweat\",\"bread\",\"profession\",\"overwhelming\",\"<\",\"narrative\",\"highly_doubt\",\"asexual\",\"pronounce\",\"temper\",\"luxury\",\"retaliate\",\"sociopath\",\"retail\",\"shy\",\"belonging\",\"lying\",\"deem\",\"consensual\",\"e.g.\",\"spoiler\",\"employment\",\"necessity\",\"motive\",\"australia\",\"cigarette\",\"neck\",\"maintenance\",\"fraud\",\"bomb\",\"smack\",\"reek\",\"bullet\",\"understandably\",\"intelligence\",\"protective\",\"spit\",\"pissy\",\"liability\",\"pushy\",\"wellbeing\",\"kindly\",\"stain\",\"trivial\",\"grammar\",\"bible\",\"universe\",\"notion\",\"native\",\"timeline\",\"exhausted\",\"redditor\",\"apparent\",\"transgender\",\"print\",\"problematic\",\"dna_test\",\"acceptance\",\"pm\",\"hubby\",\"comparable\",\"satisfy\",\"invasive\",\"series\",\"bath\",\"gold_digger\",\"snapchat\",\"baffle\",\"suicidal\",\"fragile\",\"empathetic\",\"opt\",\"attachment\",\"swap\",\"hatred\",\"smoker\",\"bigotry\",\"restriction\",\"exclusively\",\"whim\",\"iud\",\"merely\",\"similarly\",\"vast_majority\",\"queer\",\"greedy\",\"e\",\"unsolicited\",\"n_word\",\"instruction\",\"occasional\",\"prejudice\",\"german\",\"subtle\",\"labour\",\"parenthood\",\"outburst\",\"upbringing\",\"negatively\",\"donor\",\"muscle\",\"youtube\",\"bikini\",\"stake\",\"risky\",\"salad\",\"contain\",\"inability\",\"weather\",\"yta.you\",\"acquaintance\",\"terminate\",\"evict\",\"caregiver\",\"monday\",\"devastate\",\"dodge\",\"strip\",\"strictly\",\"stubborn\",\"n\",\"extension\",\"veggie\",\"pleasant\",\"destructive\",\"conceive\",\"airport\",\"student_loan\",\"jane\",\"horror\",\"feminism\",\"deceive\",\"remorse\",\"compensate\",\"carrot\",\"cow\",\"consistent\",\"presume\",\"lately\",\"endure\",\"convo\",\"bury\",\"absolve\",\"reevaluate\",\"id\",\"hahaha\",\"fertility\",\"intentional\",\"italian\",\"testing\",\"boat\",\"a.\",\"poll\",\"inclined\",\"salt\",\"god_forbid\",\"jean\",\"highschool\",\"growth\",\"beef\",\"platonic\",\"paycheck\",\"phobia\",\"socialize\",\"healthcare\",\"frequent\",\"tipping\",\"grip\",\"transaction\",\"feminine\",\"tricky\",\"visitation\",\"handicap\",\"forgiveness\",\"bridezilla\",\"discriminate\",\"spider\",\"pat\",\"livid\",\"psychologist\",\"doll\",\"deadbeat\",\"driving\",\"mirror\",\"pin\",\"confide\",\"ship\",\"sympathize\",\"guilte\",\"wheelchair\",\"mandatory\",\"awake\",\"youth\",\"anime\",\"structure\",\"coerce\",\"counsel\",\"reassure\",\"category\",\"zone\",\"aid\",\"judgemental\",\"blowjob\",\"pour\",\"jewelry\",\"pork\",\"saturday\",\"controversial\",\"gear\",\"breastfeeding\",\"hassle\",\"tea\",\"pose\",\"arrogant\",\"closure\",\"organize\",\"bank_account\",\"biology\",\"stock\",\"homophobe\",\"mentally_ill\",\"engineer\",\"shell\",\"prayer\",\"condescend\",\"lap\",\"overwhelmed\",\"gather\",\"prop\",\"netflix\",\"playing\",\"western\",\"pan\",\"nipple\",\"dickhead\",\"cave\",\"flow\",\"imho\",\"resume\",\"surprising\",\"roast\",\"crisis\",\"accordingly\",\"coward\",\"awareness\",\"working\",\"delicious\",\"aim\",\"someday\",\"mode\",\"customer_service\",\"mexican\",\"wound\",\"karen\",\"misread\",\"semi\",\"overlook\",\"aisle\",\"convenience\",\"versus\",\"statistic\",\"bot\",\"frank\",\"realistically\",\"wiki\",\"rice\",\"rank\",\"independence\",\"tacky\",\"fb\",\"common_courtesy\",\"hunt\",\"toll\",\"distant\",\"tech\",\"junk\",\"bride_groom\",\"cramp\",\"receipt\",\"sarah\",\"yikes\",\"mug\",\"examine\",\"callous\",\"hearing\",\"relief\",\"picky_eater\",\"unrealistic\",\"babysitte\",\"exaggerate\",\"objective\",\"essential\",\"junk_food\",\"wealthy\",\"national\",\"functional\",\"convey\",\"complicate\",\"withdraw\",\"loyalty\",\"ytaif\",\"poly\",\"lab\",\"stall\",\"wheel\",\"selfishness\",\"passive\",\"disruptive\",\"saying\",\"i've\",\"disrupt\",\"opening\",\"surface\",\"cheer\",\"self_awareness\",\"satisfied\",\"clarification\",\"dime\",\"shrug\",\"dose\",\"30\",\"recline\",\"\\ud83d\\ude44\",\"refund\",\"pause\",\"equality\",\"broad\",\"discourage\",\"jeez\",\"anonymous\",\"tension\",\"separately\",\"toe\",\"bored\",\"virginity\",\"negotiate\",\"crying\",\"network\",\"declare\",\"army\",\"nta.i\",\"grope\",\"halfway\",\"stepmother\",\"mourn\",\"fathom\",\"quarter\",\"blessing\",\"symbol\",\"pillow\",\"visible\",\"sti\",\"unstable\",\"jackass\",\"numerous\",\"creative\",\"albeit\",\"poke\",\"facility\",\"weekly\",\"murderer\",\"offender\",\"element\",\"pig\",\"substance\",\"high_horse\",\"magic\",\"shocking\",\"creature\",\"counselling\",\"appreciation\",\"nowadays\",\"stupid_prize\",\"ntahe\",\"tactful\",\"ytait\",\"hello\",\"datum\",\"abnormal\",\"sir\",\"irish\",\"focused\",\"admittedly\",\"tow\",\"annoyance\",\"ps\",\"vow\",\"raw\",\"exposure\",\"confess\",\"nursing\",\"verify\",\"curb\",\"lawsuit\",\"snow\",\"dil\",\"colour\",\"cough\",\"permit\",\"refusal\",\"bat\",\"nah-\",\"stigma\",\"monthly\",\"abide\",\"yr_old\",\"assert\",\"favourite\",\"sized\",\"expand\",\"intelligent\",\"channel\",\"lightly\",\"downplay\",\"disturbing\",\"upper\",\"winner\",\"mask\",\"erase\",\"horny\",\"sufficient\",\"highlight\",\"ought\",\"doormat\",\"nta.you\",\"combination\",\"questionable\",\"gain_weight\",\"uni\",\"revenge_porn\",\"football\",\"exhibit\",\"assessment\",\"bark\",\"inevitably\",\"racial\",\"stitch\",\"passionate\",\"collection\",\"g\",\"easter\",\"transgend\",\"mislead\",\"deed\",\"inconvenient\",\"j\",\"infidelity\",\"ad\",\"athlete\",\"hmm\",\"prostitute\",\"sleepover\",\"beard\",\"send_nude\",\"courage\",\"deprive\",\"brutal\",\"motivate\",\"headache\",\"don\\u2019t\",\"reflection\",\"sexual_orientation\",\"downright\",\"fed\",\"unpopular_opinion\",\"allowance\",\"twat\",\"romantically\",\"handful\",\"differ\",\"role_reverse\",\"irritate\",\"disaster\",\"japanese\",\"honeymoon\",\"irl\",\"aggression\",\"entertainment\",\"usa\",\"er\",\"guardian\",\"constructive\",\"paperwork\",\"vs.\",\"pov\",\"accomplishment\",\"retire\",\"impress\",\"tempt\",\"comply\",\"t_shirt\",\"meme\",\"dress_code\",\"liable\",\"stir\",\"conduct\",\"outsider\",\"spelling\",\"vice_versa\",\"dairy\",\"wifi\",\"slice\",\"1st\",\"binge\",\"citizen\",\"kitten\",\"r_legaladvice\",\"oblige\",\"coke\",\"equip\",\"amazon\",\"journey\",\"o\",\"degrade\",\"hardship\",\"supervision\",\"misogyny\",\"foreign\",\"rain\",\"atm\",\"nearby\",\"bubble\",\"theme\",\"rabbit\",\"stuck\",\"hugely\",\"precaution\",\"reservation\",\"camping\",\"fundamental\",\"fundamentally\",\"phrasing\",\"foundation\",\"uncalled\",\"actor\",\"nuance\",\"adapt\",\"edgy\",\"mistreat\",\"prime\",\"explode\",\"guard\",\"leap\",\"competitive\",\"deaf\",\"immaturity\",\"toothbrush\",\"notify\",\"pad\",\"poverty\",\"roll_eye\",\"fuel\",\"bum\",\"instant\",\"sanity\",\"escort\",\"nag\",\"festival\",\"tune\",\"humanity\",\"plain_simple\",\"painting\",\"emphasize\",\"retaliation\",\"confusion\",\"touching\",\"swing\",\"oof\",\"furry\",\"ethnicity\",\"utter\",\"princess\",\"application\",\"bonding\",\"puke\",\"potato\",\"alimony\",\"interpretation\",\"leverage\",\"chuck\",\"expression\",\"steve\",\"role_model\",\"fucked\",\"amy\",\"bodily_autonomy\",\"humiliating\",\"salty\",\"shed\",\"snitch\",\"custom\",\"trend\",\"distinction\",\"infertile\",\"flight_attendant\",\"carrier\",\"workout\",\"swim\",\"marital\",\"separation\",\"pawn\",\"drill\",\"embrace\",\"ideally\",\"threesome\",\"grind\",\"hookup\",\"condone\",\"stressed\",\"commit_crime\",\"lifelong\",\"dispute\",\"heterosexual\",\"leak\",\"classroom\",\"dietary\",\"sarcastic\",\"kudo\",\"cure\",\"arse\",\"subjective\",\"eshyou\",\"volume\",\"negate\",\"spirit\",\"heartless\",\"presentation\",\"molest\",\"eachother\",\"informed\",\"behavioral\",\"\\\"i\",\"tongue\",\"thrill\",\"ha\",\"rental\",\"compensation\",\"dick_pic\",\"afternoon\",\"jfc\",\"making\",\"stab\",\"jeff\",\"overstep\",\"malice\",\"panic_attack\",\"unsure\",\"deadline\",\"lb\",\"supervisor\",\"shaming\",\"enemy\",\"talent\",\"dm\",\"comprehend\",\"bless\",\"pressured\",\"gate\",\"germany\",\"international\",\"abused\",\"stability\",\"miscommunication\",\"technique\",\"pester\",\"eating\",\"appease\",\"proportion\",\"morality\",\"sexually_active\",\"farm\",\"employ\",\"scumbag\",\"bake\",\"climb\",\"taxi\",\"clinic\",\"weirdo\",\"immigrant\",\"secretary\",\"leader\",\"sensible\",\"essay\",\"hitler\",\"season\",\"slim\",\"hold_grudge\",\"greatly\",\"despise\",\"crawl\",\"moh\",\"prospect\",\"swallow\",\"salvage\",\"backwards\",\"assist\",\"pub\",\"promotion\",\"largely\",\"depth\",\"arbitrary\",\"recognise\",\"relieve\",\"caring\",\"blank\",\"indicator\",\"powerful\",\"anna\",\"joe\",\"outta\",\"stomp\",\"enjoyable\",\"preserve\",\"everytime\",\"tl;dr\",\"bye\",\"intervene\",\"supervise\",\"spiteful\",\"fluid\",\"irritated\",\"ongoing\",\"rating\",\"vile\",\"fwiw\",\"uterus\",\"2.5\",\"breakdown\",\"prenup\",\"telling\",\"log\",\"mortify\",\"christians\",\"spoon\",\"worst\",\"beneficial\",\"beauty\",\"forgot\",\"curse\",\"appeal\",\"grave\",\"troop\",\"backfire\",\"arise\",\"underestimate\",\"singe\",\"meh\",\"whiny\",\"soda\",\"altogether\",\"nahi\",\"mcdonald\",\"minimal\",\"protein\",\"reread\",\"station\",\"unilaterally\",\"roughly\",\"ntathis\",\"rationally\",\"insufferable\",\"wing\",\"perpetuate\",\"partly\",\"jump_conclusion\",\"fold\",\"dirt\",\"sincere\",\"smoke_weed\",\"seizure\",\"snake\",\"prerogative\",\"internal\",\"micropenis\",\"shelf\",\"bounce\",\"satisfaction\",\"l\",\"tab\",\"flash\",\"intimidate\",\"officer\",\"monkey\",\"fwb\",\"cock\",\"pit\",\"reimburse\",\"bend\",\"helpless\",\"gaming\",\"photographer\",\"bridge\",\"abandonment\",\"possessive\",\"olive_garden\",\"devastating\",\"coddle\",\"tap\",\"prep\",\"bitchy\",\"substitute\",\"chemical\",\"merit\",\"unknown\",\"observe\",\"r_justnomil\",\"irony\",\"insinuate\",\"inappropriately\",\"coin\",\"cautious\",\"se\",\"association\",\"indoor\",\"whip\",\"asperger\",\"universal\",\"mobile\",\"delicate\",\"accidental\",\"dedicate\",\"king\",\"overboard\",\"cell\",\"lbs\",\"ytashe\",\"psychology\",\"consensus\",\"justifiable\",\"mouth_shut\",\"towel\",\"alternate\",\"bartender\",\"plastic\",\"thanksgiving\",\"babe\",\"walmart\",\"smooth\",\"sperm_donor\",\"burst\",\"gang\",\"survivor\",\"can't\",\"mama\",\"flush\",\"walk_aisle\",\"convert\",\"ytayour\",\"peanut\",\"mary\",\"dignity\",\"stalker\",\"superficial\",\"popcorn\",\"conscience\",\"islam\",\"misery\",\"invade_privacy\",\"slam\",\"thirty\",\"honour\",\"estimate\",\"california\",\"align\",\"kitty\",\"breaking\",\"bigote\",\"bin\",\"simultaneously\",\"eviction\",\"b.\",\"minded\",\"revolve\",\"console\",\"spray\",\"horrific\",\"confrontational\",\"litter\",\"sickness\",\"underlying\",\"dancing\",\"rationalize\",\"chemo\",\"cruelty\",\"mass\",\"plot\",\"assistant\",\"repay\",\"square\",\"bastard\",\"loyal\",\"snarky\",\"bow\",\"disown\",\"cheek\",\"reliable\",\"idiotic\",\"hella\",\"reiterate\",\"soup\",\"closed\",\"heirloom\",\"paternity\",\"masculine\",\"guideline\",\"fulfill\",\"precedent\",\"slap_face\",\"hop\",\"screenshot\",\"wash_dish\",\"devil_advocate\",\"upgrade\",\"cos\",\"kids\",\"european\",\"professionally\",\"internalize\",\"seek_validation\",\"primarily\",\"filter\",\"investigate\",\"inevitable\",\"lap_dance\",\"schooling\",\"nahyou\",\"bruh\",\"invade\",\"unethical\",\"self_absorb\",\"hs\",\"veganism\",\"fallout\",\"garage\",\"submit\",\"shatter\",\"guidance\",\"reschedule\",\"societal\",\"identical\",\"backup\",\"engagement_ring\",\"smh\",\"stupidity\",\"provoke\",\"unbelievably\",\"craving\",\"regular_basis\",\"absence\",\"adore\",\"lick\",\"hill_die\",\"precisely\",\"outing\",\"lmfao\",\"misogynist\",\"fairness\",\"agenda\",\"hold_accountable\",\"nutrition\",\"special_treatment\",\"countless\",\"convinced\",\"genius\",\"toilet_paper\",\"absent\",\"jews\",\"sentimental\",\"china\",\"aunt_uncle\",\"prey\",\"upvoted\",\"compassionate\",\"butthurt\",\"eld\",\"usage\",\"necklace\",\"entry\",\"corporate\",\"league\",\"british\",\"maiden\",\"tolerance\",\"clap\",\"layer\",\"bare\",\"gaslighting\",\"predatory\",\"y'all\",\"iron\",\"barrier\",\"ew\",\"pen\",\"wood\",\"un\",\"preach\",\"mike\",\"de\",\"meaningless\",\"ocd\",\"dildo\",\"max\",\"exploit\",\"needlessly\",\"bpd\",\"attendance\",\"weirdly\",\"gender_identity\",\"metal\",\"hike\",\"belt\",\"gag\",\"scan\",\"x200b;i\",\"medically\",\"communal\",\"trial\",\"conveniently\",\"ppd\",\"sooo\",\"dessert\",\"mountain\",\"herpe\",\"likelihood\",\"laziness\",\"occupy\",\"canadian\",\"mutually\",\"aggressively\",\"disingenuous\",\"drastic\",\"tragedy\",\"inherit\",\"fall_apart\",\"convict\",\"amazed\",\"jacket\",\"entail\",\"parade\",\"welfare\",\"lingerie\",\"veteran\",\"meltdown\",\"deception\",\"agent\",\"establishment\",\"angel\",\"fighting\",\"cue\",\"billion\",\"protest\",\"villain\",\"provider\",\"designate\",\"abroad\",\"dr\",\"lip\",\"libido\",\"xbox\",\"sore\",\"india\",\"pcos\",\"wealth\",\"ultimate\",\"acronym\",\"cage\",\"reprimand\",\"overbearing\",\"hall\",\"ntabut\",\"drown\",\"japan\",\"confirmation\",\"automatic\",\"sushi\",\"tissue\",\"constitute\",\"eg\",\"union\",\"stat\",\"attribute\",\"command\",\"pie\",\"bj\",\"sharing\",\"limb\",\"incentive\",\"overtime\",\"katie\",\"niece_nephew\",\"kiddo\",\"inflict\",\"basement\",\"booze\",\"unemployed\",\"junior\",\"fucker\",\"jar\",\"depress\",\"adamant\",\"perfume\",\"brave\",\"taboo\",\"special_occasion\",\"sack\",\"caution\",\"contraception\",\"thoroughly\",\"measle\",\"firstly\",\"sun\",\"pretentious\",\"groomsman\",\"scold\",\"starbucks\",\"midnight\",\"geez\",\"vocal\",\"majorly\",\"obesity\",\"ntathe\",\"privileged\",\"nazis\",\"rando\",\"age_gap\",\"psychopath\",\"immoral\",\"yta.i\",\"standpoint\",\"introvert\",\"recipient\",\"adequate\",\"involvement\",\"onion\",\"breach\",\"heartbroken\",\"homosexuality\",\"hip\",\"sided\",\"predict\",\"recommendation\",\"censor\",\"disgusted\",\"hesitate\",\"throwaway\",\"pc\",\"old_fashioned\",\"inspire\",\"standing\",\"hindsight\",\"costume\",\"theatre\",\"texture\",\"thoughtless\",\"assess\",\"sheer\",\"diminish\",\"typo\",\"lucy\",\"wander\",\"crave\",\"flavor\",\"la\",\"definite\",\"lgbt_community\",\"bacon\",\"stroller\",\"viable\",\"household_chore\",\"self_defense\",\"visitor\",\"squeeze\",\"sadness\",\"duck\",\"fourth\",\"xyz\",\"inferior\",\"electronic\",\"sorta\",\"continually\",\"bearing\",\"silent_treatment\",\"loop\",\"reconcile\",\"bucket\",\"chemistry\",\"wary\",\"gigantic\",\"obsession\",\"misinterpret\",\"reproductive\",\"tumblr\",\"demean\",\"century\",\"stunt\",\"fitness\",\"faithful\",\"i.\",\"scent\",\"museum\",\"conform\",\"feeding\",\"logically\",\"outrageous\",\"skirt\",\"doom\",\"assholeish\",\"soooo\",\"engineering\",\"temporarily\",\"pedo\",\"underlie\",\"mitigate\",\"improvement\",\"c_section\",\"swipe\",\"winter\",\"commute\",\"president\",\"presumptuous\",\"scientific\",\"maliciously\",\"magical\",\"officially\",\"halloween\",\"willingness\",\"scum\",\"studio\",\"dip\",\"cell_phone\",\"hesitant\",\"freely\",\"lost\",\"bladder\",\"stair\",\"clarity\",\"shortly\",\"integrity\",\"christianity\",\"bore\",\"achievement\",\"ironic\",\"spark\",\"evolve\",\"sidewalk\",\"surname\",\"cite\",\"drastically\",\"criterion\",\"leech\",\"intercourse\",\"gaslight\",\"trainer\",\"housemate\",\"adorable\",\"freshman\",\"seating\",\"instructor\",\"flair\",\"terrified\",\"anticipate\",\"accent\",\"fishy\",\"accessible\",\"upstairs\",\"gentleman\",\"announcement\",\"crucial\",\"running\",\"psych\",\"negativity\",\"glove\",\"sleeping\",\"undo\",\"disposable\",\"bday\",\"lgbtq\",\"depression_anxiety\",\"sticker\",\"exciting\",\"stepson\",\"experienced\",\"glance\",\"lump\",\"meantime\",\"basket\",\"1/2\",\"enormous\",\"gratitude\",\"unbelievable\",\"unintentionally\",\"pace\",\"flexible\",\"bridal_party\",\"backpack\",\"medical_procedure\",\"tragic\",\"select\",\"bmi\",\"gloss\",\"driveway\",\"gpa\",\"flawed\",\"cringey\",\"favoritism\",\"rehome\",\"generosity\",\"vastly\",\"detrimental\",\"brilliant\",\"secondary\",\"germ\",\"recall\",\"resident\",\"medal\",\"major_red_flag\",\"indulge\",\"closely\",\"equation\",\"asshat\",\"director\",\"bdsm\",\"statistically\",\"lie_omission\",\"portray\",\"reckless\",\"distraction\",\"worship\",\"doc\",\"holy_crap\",\"sensitivity\",\"tape\",\"queen\",\"cap\",\"press_charge\",\"clever\",\"doesn't\",\"shape_form\",\"culturally\",\"premise\",\"romance\",\"nonetheless\",\"poc\",\"chris\",\"weirde\",\"offence\",\"trophy\",\"mooch\",\"elementary_school\",\"occurrence\",\"rack\",\"santa\",\"cloud\",\"bash\",\"admire\",\"lung\",\"woah\",\"heroin\",\"flirty\",\"patron\",\"emphasis\",\"outlet\",\"tick\",\"garden\",\"script\",\"rumor\",\"cab\",\"overseas\",\"stroke\",\"blonde\",\"whoa\",\"whomever\",\"edit_spelling\",\"contrary\",\"rebuild\",\"strap\",\"arguably\",\"pink\",\"rightly\",\"highway\",\"dont\",\"maternal\",\"outrage\",\"beggar\",\"giggle\",\"prescription\",\"transphobia\",\"social_cue\",\"par\",\"slavery\",\"disneyland\",\"deliberate\",\"moan\",\"humiliation\",\"commonly\",\"abby\",\"production\",\"induce\",\"drug_addict\",\"generic\",\"shine\",\"lil\",\"heel\",\"killer\",\"babysitting\",\"suitable\",\"doubly\",\"coat\",\"r_raisedbynarcissist\",\"soccer\",\"heat_moment\",\"mere\",\"obtuse\",\"distrust\",\"continuously\",\"limitation\",\"hostage\",\"sample\",\"beneath\",\"grocery_shopping\",\"tour\",\"con\",\"hpv\",\"campaign\",\"shameful\",\"vegas\",\"undergrad\",\"derogatory\",\"crotch\",\"thank_silver\",\"needy\",\"excite\",\"dysfunctional\",\"federal\",\"rift\",\"technology\",\"humble\",\"trustworthy\",\"vital\",\"ntathat\",\"scrub\",\"stamp\",\"budge\",\"ytayou're\",\"bull\",\"butter\",\"mattress\",\"hammer\",\"supplement\",\"impressed\",\"rope\",\"careless\",\"march\",\"enabler\",\"shade\",\"peer_pressure\",\"restrain_order\",\"platform\",\"condemn\",\"sofa\",\"battery\",\"splitting\",\"ideology\",\"talking\",\"prompt\",\"strand\",\"fam\",\"grumpy\",\"100k\",\"indicative\",\"blog\",\"\\ud83d\\udc4f\",\"moderate\",\"jim\",\"optional\",\"steam\",\"apologetic\",\"spine\",\"yoga\",\"accurately\",\"intern\",\"high_schooler\",\"comedy\",\"incompatibility\",\"persist\",\"realtor\",\"unconscious\",\"turkey\",\"gamble\",\"duh\",\"craft\",\"honk\",\"flake\",\"boo\",\"dementia\",\"molester\",\"vaccination\",\"playful\",\"obsessive\",\"slut_shaming\",\"backyard\",\"self_righteous\",\"joint_account\",\"threatening\",\"unpaid\",\"consciously\",\"widow\",\"lube\",\"maternity\",\"goodness\",\"unborn\",\"semantic\",\"transportation\",\"dickish\",\"virtue\",\"region\",\"familial\",\"anonymously\",\"refrain\",\"engaged\",\"evenly\",\"bff\",\"applaud\",\"homosexual\",\"psychologically\",\"firearm\",\"contradict\",\"stepfather\",\"legacy\",\"surgeon\",\"handicapped\",\"fling\",\"shun\",\"gal\",\"sour\",\"stoop_level\",\"incest\",\"juice\",\"functioning\",\"retain\",\"didn't\",\"shampoo\",\"gamer\",\"developmental\",\"fork\",\"breadwinner\",\"successfully\",\"format\",\"athletic\",\"misguided\",\"objection\",\"trail\",\"h\",\"economic\",\"curve\",\"diabetic\",\"dialogue\",\"spiral\",\"onus\",\"florida\",\"reassurance\",\"specialist\",\"famous\",\"passport\",\"cartoon\",\"sarcasm\",\"nta.it\",\"pettiness\",\"pal\",\"cart\",\"trimester\",\"lasting\",\"douchey\",\"dishwasher\",\"hispanic\",\"pick_slack\",\"dust\",\"chop\",\"dave\",\"obtain\",\"ofc\",\"auto\",\"sneaky\",\"trim\",\"diabetes\",\"appalling\",\"cuss\",\"offended\",\"outweigh\",\"ivf\",\"pushover\",\"resist\",\"straightforward\",\"mindful\",\"uninvite\",\"self_reflection\",\"african\",\"housekeeper\",\"traditionally\",\"historically\",\"dye\",\"legality\",\"downstairs\",\"ethnic\",\"stray\",\"excitement\",\"gatekeepe\",\"origin\",\"tail\",\"invalid\",\"tad\",\"sweep\",\"stereotypical\",\"scheme\",\"vision\",\"braid\",\"despicable\",\"ytathis\",\"historical\",\"chubby\",\"learning_experience\",\"1.5\",\"narcissism\",\"truthful\",\"boost\",\"b_c\",\"couple_counsel\",\"yelling\",\"misrepresent\",\"iphone\",\"dietary_restriction\",\"social_norm\",\"y\\u2019all\",\"comfortably\",\"hamster\",\"postpartum\",\"inherent\",\"advertise\",\"implant\",\"survival\",\"paul\",\"calculate\",\"v\",\"drunken\",\"gender_neutral\",\"penetration\",\"smelly\",\"combat\",\"bob\",\"fade\",\"bruise\",\"nyc\",\"mini\",\"domestic\",\"anti_vaxxer\",\"analysis\",\"convention\",\"specially\",\"ambition\",\"ridicule\",\"steven\",\"whatnot\",\"deadly\",\"characteristic\",\"chime\",\"generalize\",\"healing\",\"philosophy\",\"correction\",\"ironically\",\"receptive\",\"bathe\",\"phd\",\"rug\",\"gauge\",\"rash\",\"flaunt\",\"shred\",\"masculinity\",\"afterward\",\"esp\",\"affectionate\",\"surrogacy\",\"normalize\",\"daniel\",\"mental_gymnastic\",\"admin\",\"domestic_violence\",\"grad_school\",\"choke\",\"river\",\"giver\",\"tray\",\"monetary\",\"milestone\",\"maid_honor\",\"tone_deaf\",\"inexperienced\",\"scummy\",\"untrue\",\"psychotic\",\"stfu\",\"queue\",\"invent\",\"adhere\",\"balanced\",\"gracious\",\"lawn\",\"rudely\",\"articulate\",\"admirable\",\"tuesday\",\"demographic\",\"moon\",\"tomato\",\"calling\",\"backlash\",\"juvenile\",\"slut_shame\",\":d\",\"tutor\",\"initiative\",\":p\",\"virtually\",\"sea\",\"hyphenate\",\"outdoor\",\"economy\",\"cherry\",\"lighten\",\"alcoholism\",\"servant\",\"assholey\",\"caveat\",\"cherish\",\"foreplay\",\"educational\",\"internship\",\"grill\",\"conclude\",\"brush_tooth\",\"sexually_harass\",\"cult\",\"bratty\",\"prob\",\"crowded\",\"easement\",\"banana\",\"mind_reader\",\"impressive\",\"keeper\",\"bell\",\"celebrity\",\"voluntarily\",\"kidnap\",\"pervert\",\"redeem\",\"tammy\",\"shithead\",\"tldr\",\"neglectful\",\"dryer\",\"grandson\",\"temper_tantrum\",\"mr.\",\"shield\",\"\\\"you\",\"bottle_wine\",\"writer\",\"disconnect\",\"wolf\",\"prone\",\"disservice\",\"acting\",\"omit\",\"bunny\",\"brief\",\"crutch\",\"thrive\",\"\\ud83e\\udd14\",\"seal\",\"uninvited\",\"outlook\",\"clinical\",\"destination\",\"nta.your\",\"jeopardize\",\"ending\",\"snuggle\",\"5k\",\"concrete\",\"selfless\",\"uncool\",\"virus\",\"prenatal\",\"undergo\",\"stumble\",\"inner\",\"atleast\",\"unannounced\",\"coupon\",\"skin_color\",\"animal_product\",\"swimming\",\"brownie\",\"grass\",\"browse\",\"moody\",\"feasible\",\"edible\",\"muslims\",\"disappointing\",\"heaven\",\"james\",\"lastly\",\"impulsive\",\"frozen\",\"dentist\",\"isn't\",\"fortunate\",\"wire\",\"gosh\",\"storage\",\"override\",\"ect\",\"straighten\",\"priest\",\"subconsciously\",\"dread\",\"competent\",\"exact_opposite\",\"facial\",\"division\",\"hit_nail\",\"heated\",\"ordeal\",\"blindside\",\"bold\",\"bachelorette_party\",\"rn\",\"tier\",\"remarry\",\"smug\",\"immensely\",\"boner\",\"diverse\",\"social_circle\",\"blindly\",\"hardcore\",\"decrease\",\"pitbull\",\"purple\",\"mistaken\",\"wholly\",\"pastor\",\"tourist\",\"movie_theater\",\"incorrectly\",\"united_states\",\"humour\",\"myth\",\"gig\",\"suspend\",\"contempt\",\"motion\",\"span\",\"racial_slur\",\"trope\",\"sleep_deprive\",\"responsibly\",\"dining\",\"bush\",\"unexpectedly\",\"preschool\",\"spoiled_brat\",\"pediatrician\",\"edit_typo\",\"ahole\",\"plug\",\"tom\",\"kosher\",\"courteous\",\"waiting\",\"flame\",\"advanced\",\"4th\",\"themself\",\"tbf\",\"purse\",\"endgame\",\"pepper\",\"compel\",\"adjustment\",\"sob\",\"millennial\",\"net\",\"wisdom\",\"eliminate\",\"progressive\",\"peg\",\"facilitate\",\"marijuana\",\"bass\",\"conditional\",\"radio\",\"psychiatrist\",\"unpopular\",\"mechanic\",\"devil\",\"coffee_shop\",\"foreign_country\",\"sjw\",\"cruise\",\"bound\",\"deflect\",\"politeness\",\"adoptive\",\"harshly\",\"meat_eater\",\"observation\",\"revoke\",\"drama_queen\",\"council\",\"county\",\"korean\",\"sense_humor\",\"seed\",\"lotion\",\"dedicated\",\"pantie\",\"vaginal\",\"misleading\",\"silently\",\"projection\",\"disable\",\"daily_basis\",\"open_minded\",\"circumcision\",\"certainty\",\"intrusive\",\"felony\",\"hangout\",\"pout\",\"conviction\",\"pole\",\"breach_trust\",\"torment\",\"stream\",\"comic\",\"seriousness\",\"prescribe\",\"hyper\",\"certificate\",\"crew\",\"=_/=\",\"steer\",\"washing\",\"r_niceguys\",\"undoubtedly\",\"gfs\",\"triple\",\"unpack\",\"southern\",\"clingy\",\"scamme\",\"skeptical\",\"severity\",\"laughable\",\"pup\",\"calendar\",\"grad\",\"infertility\",\"specie\",\"restrain\",\"representation\",\"attractiveness\",\"defence\",\"tale\",\"resolution\",\"remote\",\"wibta\",\"bipolar\",\"doctor_appointment\",\"bend_backwards\",\"ra\",\"noodle\",\"plausible\",\"greet\",\"vanilla\",\"ethically\",\"bluff\",\"orientation\",\"mlm\",\"gendered\",\"world_revolve\",\"housewife\",\"tickle\",\"foolish\",\"variation\",\"catfishe\",\"district\",\"cream\",\"manifest\",\"men\",\"hurry\",\"cinema\",\"gape\",\"bulk\",\"lgbt+\",\"beloved\",\"keto\",\"selfishly\",\"scope\",\"banter\",\"foremost\",\"amitheasshole_question\",\"s_o\",\"rationale\",\"unclear\",\"setup\",\"rinse\",\"unfairly\",\"entirety\",\"gluten\",\"podcast\",\"relationship_advice\",\"unvaccinated\",\"applicant\",\"believable\",\"invisible\",\"bot_action\",\"misbehave\",\"monogamy\",\"anecdote\",\"early_20\",\"obey\",\"innocuous\",\"kindergarten\",\"mandarin\",\"sentimental_value\",\"mexico\",\"dumpster\",\"complicit\",\"connotation\",\"fiction\",\"unkind\",\"factory\",\"birth_certificate\",\"latch\",\"scrape\",\"positively\",\"yta.if\",\"walk_eggshell\",\"unfaithful\",\"linger\",\"hazard\",\"fixate\",\"perform_automatically_contact_moderator\",\"branch\",\"disadvantage\",\"manly\",\"eff\",\"tackle\",\"happening\",\"sulk\",\"sigh\",\"starter\",\"ds\",\"collar\",\"genitalia\",\"cease\",\"fester\",\"organise\",\"playground\",\"chronic\",\"texas\",\"subreddit](/message_compose/?to=/r\",\"icky\",\"white_knight\",\"demeaning\",\"tablet\",\"devalue\",\"socially_acceptable\",\"keen\",\"container\",\"dial\",\"u.s.\",\"cafe\",\"drawer\",\"mushroom\",\"north\",\"visa\",\"delusion\",\"\\ufe0f\",\"generalization\",\"sucky\",\"pale\",\"negligence\",\"likewise\",\"1/3\",\"destruction\",\"leeway\",\"shadow\",\"cleaner\",\"institution\",\"nutrient\",\"touchy\",\"dramatically\",\"gas_station\",\"candle\",\"twisted\",\"participant\",\"unconditional\",\"maturely\",\"negatively_affect\",\"diversity\",\"migraine\",\"grudge\",\"bitching\",\"crop\",\"modify\",\"jurisdiction\",\"intellectual\",\"accountable\",\"veto\",\"bacteria\",\"suffice\",\"upside\",\"grossly\",\"anatomy\",\"guilt_tripping\",\"info-\",\"earning\",\"troubling\",\"violently\",\"baseball\",\"alternatively\",\"outline\",\"regulation\",\"cupcake\",\"taint\",\"worthwhile\",\"follow_abbreviation\",\"rot\",\"tactless\",\"iirc\",\"helicopter\",\"membership\",\"breeder\",\"gasp\",\"nod\",\"maximum\",\"akin\",\"threshold\",\"rose\",\"edit-\",\"messed\",\"spa\",\"soak\",\"envy\",\"freezer\",\"heartbeat\",\"hetero\",\"misgendere\",\"bea\",\"thumb\",\"void\",\"riddance\",\"boom\",\"enthusiastic\",\"drawing\",\"nta.if\",\"coincidence\",\"newly\",\"sleeve\",\"bisexuality\",\"incompetent\",\"wether\",\"\\u2764_\\ufe0f\",\"miscarry\",\"unfamiliar\",\"rule_thumb\",\"weakness\",\"bachelor\",\"esh-\",\"willfully\",\"joking\",\"ruling\",\"comfort_zone\",\"flex\",\"adolescent\",\"administration\",\"amicable\",\"barge\",\"nevermind\",\"casserole\",\"indirectly\",\"heartbreaking\",\"recognition\",\"ramification\",\"carpet\",\"tame\",\"reproduce\",\"reunion\",\"independently\",\"illegally\",\"backstory\",\"thi\",\"era\",\"maddie\",\"rural\",\"gender_reverse\",\"december\",\"encouragement\",\"plead\",\"mansplaining\",\"i\\u2019d\",\"hoe\",\"commend\",\"verge\",\"y_o\",\"slander\",\"breastfe\",\"paranoia\",\"burn_bridge\",\"inadvertently\",\"funding\",\"mute\",\"horrify\",\"sensory\",\"regulate\",\"classy\",\"aversion\",\"fever\",\"1,000\",\"congratulate\",\"multi\",\"dominate\",\"texting\",\"patch\",\"justifiably\",\"objectify\",\"expel\",\"grey\",\"routinely\",\"ntayou're\",\"component\",\"rudeness\",\"motherhood\",\"impregnate\",\"chalk\",\"alarming\",\"implement\",\"toxicity\",\"fortunately\",\"eager\",\"appal\",\"gracefully\",\"recline_seat\",\"uhh\",\"tit_tat\",\"stew\",\"dealer\",\"specialize\",\"bargain\",\"brainwash\",\"vicious\",\"fatty\",\"titty\",\"+1\",\"detriment\",\"blah_blah_blah\",\"proactive\",\"petulant\",\"ordinary\",\"treasure\",\"download\",\"mutually_exclusive\",\"construction\",\"distribute\",\"nudity\",\"shooting\",\"inclusive\",\"soldier\",\"gall\",\"unlock\",\"substantial\",\"dan\",\"attire\",\"keyboard\",\"genetically\",\"jokingly\",\"sugar_daddy\",\"unintentional\",\"highly_recommend\",\"solo_trip\",\"demanding\",\"physician\",\"kissing\",\"insistent\",\"posting\",\"speculate\",\"england\",\"aesthetic\",\"itt\",\"urgent\",\"civilian\",\"affordable\",\"ntai'm\",\"detailed\",\"france\",\"body_positivity\",\"navy\",\"vet_bill\",\"poope\",\"atmosphere\",\"ytahe\",\"clerk\",\"chuckle\",\"quirk\",\"consumption\",\"internally\",\"oven\",\"worrying\",\"qualification\",\"restrictive\",\"preferably\",\"wax\",\"savage\",\"intake\",\"hoa\",\"rib\",\"discretion\",\"appreciative\",\"mend\",\"nest\",\"errand\",\"sucker\",\"10/10\",\"sheesh\",\"ytanot\",\"ben\",\"unspoken\",\"tense\",\"hourly\",\"5th\",\"novel\",\"snowflake\",\"untrustworthy\",\"break_camel\",\"cereal\",\"pipe\",\"snapping\",\"visual\",\"personality_disorder\",\"wholeheartedly\",\"womb\",\"persistent\",\"spicy\",\"nahit\",\"mega\",\"grand_scheme\",\"ostracize\",\"gorgeous\",\"sway\",\"heartbreak\",\"cranky\",\"^\",\"float\",\"imagination\",\"haul\",\"gee\",\"ludicrous\",\"fate\",\"realm\",\"vape\",\"arouse\",\"peeing\",\"known\",\"accompany\",\"offspring\",\"evaluation\",\"shall\",\"briefly\",\"nuisance\",\"dispose\",\"compound\",\"dang\",\"pit_bull\",\"registry\",\"narrow\",\"meth\",\"spout\",\"subway\",\"electric\",\"hinder\",\"graphic\",\"nation\",\"fend\",\"forgiving\",\"noble\",\"alleviate\",\"post_partum\",\"prioritise\",\"soy\",\"exempt\",\"coercion\",\"seperate\",\"hijack\",\"native_american\",\"charlie\",\"immense\",\"supreme\",\"companion\",\"belladonna\",\"whisper\",\"selfie\",\"irrationally\",\"instill\",\"tidy\",\"whoop\",\"cmon\",\"fur\",\"invitation_debate_subject\",\"livelihood\",\"blend\",\"bigoted\",\"exotic\",\"residence\",\"surprisingly\",\"hangup\",\"alien\",\"drunk_driving\",\"zoo\",\"piano\",\"wholesome\",\"nerd\",\"conceal\",\"imbalance\",\"pinch\",\"tofu\",\"instal\",\"hissy_fit\",\"screaming\",\"unheard\",\"pony\",\"rail\",\"sticky\",\"cord\",\"basketball\",\"horrifying\",\"fist\",\"screening\",\"avenue\",\"alt\",\"ted\",\"moot\",\"parking_spot\",\"hog\",\"unload\",\"ireland\",\"charitable\",\"invasion_privacy\",\"rad\",\"tolerant\",\"spotlight\",\"brick\",\"restraint\",\"police_officer\",\"accountability\",\"yta.it\",\"pornography\",\"<3\",\"horrified\",\"preparation\",\"chart\",\"they're\",\"motherfucker\",\"individually\",\"i\\u2019ve\",\"yay\",\"fare\",\"\\ud83d\\ude02_\\ud83d\\ude02\",\"sacred\",\"curfew\",\"microwave\",\"childless\",\"jaw\",\"colossal\",\"haunt\",\"frat\",\"exceptionally\",\"negligent\",\"horn\",\"manipulator\",\"whichever\",\"escalation\",\"peak\",\"visibly\",\"blackout_drunk\",\"readily\",\"cowardly\",\"painfully\",\"stack\",\"blow_proportion\",\"rocky\",\"dancer\",\"living_expense\",\"homemade\",\"bodily_function\",\"conception\",\"miracle\",\"oppress\",\"coast\",\"isolated\",\"awkwardness\",\"negatively_impact\",\"destination_wedding\",\"spew\",\"bedtime\",\"polish\",\"remedy\",\"respectable\",\"err\",\"speak_volume\",\"knit\",\"persuade\",\"looking\",\"stash\",\"jab\",\"unicorn\",\"leadership\",\"asinine\",\"ipad\",\"rehab\",\"unattende\",\"public_transport\",\"west\",\"comeback\",\"cloth\",\"iq\",\"comprehension\",\"subscribe\",\"underweight\",\"offering\",\"serial_killer\",\"sooooo\",\"token\",\"cosmetic\",\"nip_bud\",\"public_transportation\",\"pun\",\"peanut_butter\",\"terminal\",\"notification\",\"anorexia\",\"brace\",\"distinct\",\"needless\",\"sam\",\"skewed\",\"believer\",\"obgyn\",\"rachel\",\"flesh\",\"bbq\",\"new_york\",\"defect\",\"overly_sensitive\",\"sible\",\"insignificant\",\"relaxed\",\"termination\",\"imaginary\",\"publish\",\"lunatic\",\"scapegoat\",\"curly_hair\",\"translation\",\"nepotism\",\"organizer\",\"central\",\"piercing\",\"indefinitely\",\"increasingly\",\"conference\",\"cliche\",\"noisy\",\"nta.she\",\"skew\",\"paper_towel\",\"bachelor_party\",\"non_binary\",\"sharp\",\"clown\",\"inadequate\",\"40\",\"excess\",\"unconditionally\",\"devote\",\"teammate\",\"elevator\",\"capability\",\"hmmm\",\"chastise\",\"united\",\"embryo\",\"minus\",\"bro_code\",\"delude\",\"cling\",\"cracker\",\"dr.\",\"install\",\"slob\",\"elephant\",\"roam\",\"worm\",\"stds\",\"premium\",\"transplant\",\"flatmate\",\"crate\",\"dressed\",\"reader\",\"airplane\",\"yrs\",\"neat\",\"steady\",\"ample\",\"africa\",\"hub\",\"r_entitledparent\",\"partial\",\"legal_guardian\",\"bystander\",\"unsupportive\",\"venture\",\"vaccinated\",\"mandate\",\"bleeding\",\"absorb\",\"mow_lawn\",\"elder\",\"wednesday\",\"said\",\"san\",\"whistle\",\"slippery_slope\",\"scouts\",\"upcoming\",\"rhetoric\",\"robot\",\"bode\",\"incubator\",\"software\",\"valuable_lesson\",\"recourse\",\"april\",\"demonize\",\"operation\",\"yogurt\",\"elope\",\"adventure\",\"roomie\",\"repulse\",\"unsupervise\",\"tent\",\"goodwill\",\"vain\",\"pedantic\",\"egregious\",\"motivated\",\"yellow\",\"terrifying\",\"deserved\",\"bout\",\"residency\",\"victimize\",\"harbor\",\"bald\",\"identical_twin\",\"gender_dysphoria\",\"misplace\",\"curl\",\"orange\",\"spice\",\"jessica\",\"universally\",\"inlaw\",\"women\",\"bitterness\",\"disguise\",\"beast\",\"conspiracy\",\"badass\",\"satisfying\",\"dominance\",\"uti\",\"martyr\",\"grain_salt\",\"prof\",\"exaggeration\",\"desert\",\"penalty\",\"guise\",\"insanity\",\"needle\",\"generate\",\"bleach\",\"australian\",\"kinky\",\"spaghetti\",\"efficient\",\"shitti\",\"salon\",\"ouch\",\"\\\"if\",\"fundraiser\",\"musical\",\"concede\",\"instigate\",\"troubled\",\"contraceptive\",\"realization\",\"retarded\",\"sobriety\",\"partake\",\"stepsister\",\"testosterone\",\"glare\",\"loaded\",\"nta.this\",\"hood\",\"dilemma\",\"hairstyle\",\"pleased\",\"empower\",\"mo\",\"asthma\",\"execute\",\"louder\",\"executive\",\"assertive\",\"moreso\",\"maker\",\"frown\",\"vegans\",\"commission\",\"sweetie\",\"speculation\",\"confine\",\"ft\",\"planner\",\"solidify\",\"shiny\",\"ounce\",\"overstep_boundary\",\"service_industry\",\"golf\",\"compatibility\",\"forehead\",\"accusatory\",\"melt\",\"befriend\",\"postpartum_depression\",\"gum\",\"debilitate\",\"fantasize\",\"vitamin\",\"y'know\",\"taco\",\"retard\",\"nurture\",\"psychiatric\",\"astounding\",\"dash\",\"talented\",\"higher\",\"breathing\",\"sociopathic\",\"morbidly_obese\",\"cognitive\",\"tube\",\"cope_mechanism\",\"dishonesty\",\"knee_jerk_reaction\",\"epic\",\"badger\",\"misuse\",\"dangerously\",\"construct\",\"spank\",\"ratio\",\"atheism\",\"january\",\"ace\",\"tattle\",\"centre\",\"exacerbate\",\"repulsive\",\"hiking\",\"jam\",\"preferred\",\"disclaimer\",\"rainbow\",\"meter\",\"obsessed\",\"armpit\",\"wildlife\",\"electricity\",\"trolling\",\"annual\",\"resemble\",\"defamation\",\"mystery\",\"disproportionate\",\"extended_period\",\"pantry\",\"evidently\",\"morning_sickness\",\"challenging\",\"wardrobe\",\"rectify\",\"determined\",\"hockey\",\"marathon\",\"apt\",\"patronize\",\"tremendous\",\"bulimia\",\"massive_red_flag\",\"ytathe\",\"publicly_humiliate\",\"apologizing\",\"flood\",\"curtain\",\"revisit\",\"bent\",\"mentor\",\"prohibit\",\"aswell\",\"locker_room\",\"approximately\",\"liver\",\"worldview\",\"unwelcome\",\"climate\",\"mall\",\"follower\",\"uphold\",\"hrs\",\"certify\",\"penetrative\",\"asd\",\"intolerant\",\"hack\",\"sew\",\"i.e\",\"unpredictable\",\"unbiased\",\"stupidly\",\"gladly\",\"technical\",\"furrie\",\"critique\",\"snore\",\"toxic_masculinity\",\"burrito\",\"granddaughter\",\"considering\",\"urine\",\"perpetrator\",\"photograph\",\"reluctant\",\"poo\",\"unfit\",\"downside\",\"unwind\",\"gymnastic\",\"ankle\",\"reconnect\",\"sweetheart\",\"sand\",\"gratification\",\"execution\",\"cement\",\"draft\",\"apartment_complex\",\"unsolicited_advice\",\"newsflash\",\"low_self_esteem\",\"reduction\",\"redirect\",\"balloon\",\"wank\",\"disapprove\",\"commit_suicide\",\"pronunciation\",\"hallway\",\"nosy\",\"disdain\",\"elitist\",\"yank\",\"nip\",\"notch\",\"bluntly\",\"diploma\",\"lgbtq+\",\"laughter\",\"flirting\",\"immune\",\"taste_medicine\",\"technicality\",\"stepparent\",\"snob\",\"fleshlight\",\"subsidize\",\"supermarket\",\"cc\",\"hostility\",\"external\",\"washer\",\"fraction\",\"abstinence\",\"voluntary\",\"mundane\",\"expire\",\"mechanism\",\"going\",\"yah\",\"children\",\"wrestle\",\"transport\",\"discharge\",\"hearted\",\"ritual\",\"bee\",\"turd\",\"butthole\",\"ham\",\"earplug\",\"dnd\",\"postpone\",\"eligible\",\"you've\",\"anger_management\",\"flippant\",\"outdated\",\"terrorist\",\"lyft\",\"awfully\",\"proceeding\",\"jersey\",\"pickle\",\"mrs.\",\"explore_sexuality\",\"conflate\",\"locate\",\"heartbreake\",\"materialistic\",\"puzzle\",\"hiding\",\"clip\",\"temperature\",\"grader\",\"wit\",\"representative\",\"contemplate\",\"confession\",\"politely_decline\",\"ultrasound\",\"overwhelmingly\",\"deceptive\",\"transwoman\",\"30k\",\"latino\",\"infringe\",\"ho\",\"peaceful\",\"dui\",\"p.s.\",\"angrily\",\"temple\",\"intolerance\",\"applicable\",\"able_bodied\",\"dragon\",\"needs\",\"mat\",\"\\\"it\",\"mission\",\"author\",\"gravity\",\"mtf\",\"analyze\",\"eshyour\",\"attention_seeking\",\"carer\",\"probability\",\"sword\",\"superiority\",\"esa\",\"bragging\",\"horrid\",\"stimulation\",\"allergen\",\"ff\",\"dive\",\"contagious\",\"coconut\",\"immune_system\",\"ski\",\"designer\",\"snide\",\"\\ud83e\\udd37_\\ud83c\\udffb\\u200d_\\u2640_\\ufe0f\",\"gotcha\",\"umm\",\"mormon\",\"mighty\",\"egotistical\",\"eshshe\",\"insulin\",\"removal\",\"neurotypical\",\"flee\",\"august\",\"custodial\",\"marvel\",\"subconscious\",\"chili\",\"terminology\",\"1k\",\"marine\",\"endless\",\"50\",\"unlocked\",\"preferable\",\"intoxicate\",\"diary\",\"regain\",\"pedophilia\",\"smoothly\",\"shooter\",\"ob\",\"mcdonalds\",\"wed\",\"passing\",\"factual\",\"piggy\",\"chapter\",\"jeremy\",\"cringy\",\"rotten\",\"tournament\",\"information_misunderstand\",\"adequately\",\"noticeable\",\"asking\",\"oppression\",\"motorcycle\",\"hive\",\"/r_legaladvice\",\"knowledgeable\",\"cultural_appropriation\",\"wager\",\"butts\",\"bodily\",\"overhear\",\"mentally_disabled\",\"killing\",\"breast_milk\",\"girly\",\"ntaand\",\"infinitely\",\"xd\",\"cs\",\"wrist\",\"\\ud83e\\udd23\",\"delivery_driver\",\"classify\",\"stretch_mark\",\"fitting\",\"walking\",\"smith\",\"misconception\",\"vocabulary\",\"infer\",\"illogical\",\"transparent\",\"condolence\",\"passive_aggressively\",\"snatch\",\"glue\",\"manchild\",\"flattering\",\"cornell\",\"mouse\",\"relapse\",\"plane_ticket\",\"reset\",\"you-\",\"momma\",\"recieve\",\"en\",\"correlate\",\"italy\",\"whack\",\"radical\",\"quitting\",\"sausage\",\"disclosure\",\"nauseous\",\"rebel\",\"humility\",\"alongside\",\"negotiation\",\"ada\",\"memorial\",\"10,000\",\"suitcase\",\"tub\",\"stern\",\"fatigue\",\"glorify\",\"p\",\"lessen\",\"\\ud83d\\ude0a\",\"faggot\",\"dearly\",\"concentrate\",\"nationality\",\"sustainable\",\"sleep_deprivation\",\"meta\",\"thrust\",\"modest\",\"hysterical\",\"aa\",\"correlation\",\"trespass\",\"tasty\",\"wildly_inappropriate\",\"donate_kidney\",\"voting\",\"liquor\",\"distribution\",\"hypothetically\",\"bikinis\",\"literature\",\"potty\",\"proportional\",\"launch\",\"jew\",\"hunting\",\"unfounded\",\"witch\",\"grey_area\",\"rear\",\"advisor\",\"hesitation\",\"mold\",\"bingo\",\"consumer\",\"vast\",\"2/3\",\"swimsuit\",\"it-\",\"forgetful\",\"menstrual\",\"demon\",\"plainly\",\"trivialize\",\"buyer\",\"armchair\",\"ms\",\"ig\",\"inexcusable\",\"ryan\",\"prevention\",\"wrongly\",\"repayment\",\"animosity\",\"musician\",\"dirty_laundry\",\"drip\",\"listener\",\"scientist\",\"impair\",\"vomiting\",\"annie\",\"clause\",\"selection\",\"inaccurate\",\"naughty\",\"google_search\",\"pubis\",\"captain\",\"gradually\",\"hiring\",\"autocorrect\",\"respective\",\"consist\",\"promptly\",\"degrading\",\"showing\",\"elbow\",\"lid\",\"supporter\",\"participation\",\"3x\",\"smear\",\"partum_depression\",\"dine\",\"defeat\",\"embarasse\",\"dibs\",\"exhaustion\",\"carb\",\"apologize_profusely\",\"blast_music\",\"short_sighted\",\"detach\",\"sting\",\"reflex\",\"uninformed\",\"entity\",\"spineless\",\"fetch\",\"educator\",\"shrink\",\"hunger\",\"domme\",\"journal\",\"entrance\",\"amber_alert\",\"white_supremacist\",\"moral_compass\",\"marketing\",\"sneeze\",\"donut\",\"village\",\"truthfully\",\"unwarranted\",\"native_language\",\"1/4\",\"antagonize\",\"fifth\",\"sob_story\",\"acquire\",\"sahp\",\"digital\",\"ytathere\",\"holocaust\",\"bfs\",\"cleanliness\",\"spawn\",\"predictable\",\"buying\",\"suppress\",\"addictive\",\"rearrange\",\"loathe\",\"earring\",\"pedestrian\",\"duration\",\"lemon\",\"ancient\",\"precedence\",\"conversion\",\"dealership\",\"impressionable\",\"illustrate\",\"fabric\",\"mr\",\"wrongdoing\",\"widower\",\"unreliable\",\"citizenship\",\"dj\",\"commercial\",\"bam\",\"filthy\",\"opposed\",\"bat_eye\",\"cocktail\",\"hospitality\",\"vibrate\",\"waist\",\"kennel\",\"aftermath\",\"socially_awkward\",\"ogle\",\"dot\",\"patronizing\",\"assholes\",\"east\",\"kit\",\"stinky\",\"im\",\"consistency\",\"sustain\",\"solidarity\",\"infect\",\"dental\",\"teasing\",\"deceitful\",\"disparity\",\"fetishize\",\"rough_patch\",\"appetite\",\"prevalent\",\"exaggerated\",\"perk\",\"frequency\",\"refill\",\"grownup\",\"misinform\",\"unknowingly\",\"credit_score\",\"extracurricular\",\"niceguy\",\"combo\",\"uneducated\",\"2x\",\"ahh\",\"mob\",\"tiffany\",\"vaguely\",\"transactional\",\"i'll\",\"backbone\",\"quantity\",\"\\\"that\",\"distasteful\",\"malicious_intent\",\"differentiate\",\"thigh\",\"ita\",\"\\u20ac\",\"racially\",\"suspension\",\"abhorrent\",\"dipshit\",\"uneasy\",\"ache\",\"mercy\",\"empathise\",\"upscale\",\"mill\",\"ytawhat\",\"derail\",\"breast_feeding\",\"unimportant\",\"rifle\",\"alabama\",\"grounding\",\"iffy\",\"pikachu\",\"skilled\",\"weekday\",\"fond\",\"inconsequential\",\"prosecute\",\"granny\",\"intended\",\"mgtow\",\"xmas\",\"sky\",\"paw\",\"dysphoria\",\"pry\",\"mans\",\"strive\",\"razor\",\"heap\",\"garlic\",\"worsen\",\"violate_privacy\",\"cosplay\",\"incline\",\"cooking_cleaning\",\"impolite\",\"discard\",\"ftm\",\"dye_hair\",\"sever\",\"freeloader\",\"umbrella\",\"unforgivable\",\"earner\",\"forgo\",\"rep\",\"janitor\",\"desirable\",\"serving\",\"trunk\",\"developmentally\",\"television\",\"handsome\",\"insta\",\"\\ud83e\\udd26\",\"connected\",\"hype\",\"christ_sake\",\"thong\",\"15k\",\"extravagant\",\"domestic_abuse\",\"amusing\",\"gendere\",\"shoulda\",\"reptile\",\"excessively\",\"leisure\",\"deserving\",\"accessory\",\"unbearable\",\"medicate\",\"diarrhea\",\"hash\",\"fume\",\"pet_peeve\",\"russian\",\"liquid\",\"charming\",\"homeschoole\",\"dummy\",\"phenomenon\",\"documentation\",\"introspection\",\"mommy_daddy\",\"pto\",\"cabin\",\"earbud\",\"hound\",\"prostitution\",\"dehumanizing\",\"unilateral_decision\",\"ooh\",\"spirited\",\"ceo\",\"muster\",\"takeout\",\"commentary\",\"brake\",\"mediocre\",\"preface\",\"propaganda\",\"dutch\",\"barista\",\"'em\",\"ot\",\"polyamorous\",\"catering\",\"pilot\",\"overprotective\",\"dwell\",\"melissa\",\"forcibly\",\"moderation\",\"psa\",\"bribe\",\"discriminatory\",\"psyche\",\"creeper\",\"combative\",\"argumentative\",\"fuzzy\",\"comfy\",\"emu\",\"subsequent\",\"suited\",\"childs\",\"cabinet\",\"documentary\",\"instruct\",\"shitshow\",\"credibility\",\"fictional\",\"insistence\",\"pedestal\",\"understatement\",\"rigid\",\"dd\",\"2k\",\"decoration\",\"immigration\",\"workload\",\"\\ud83c\\udffb\",\"awkwardly\",\"psychosis\",\"harvard\",\"happily_married\",\"coverage\",\"brigade\",\"bruce\",\"mic\",\"beating\",\"sally\",\"yearly\",\"nausea\",\"trafficking\",\"album\",\"civilized\",\"handy\",\"\\u2800\",\"concession\",\"horrendous\",\"donate_sperm\",\"hostess\",\"implicit\",\"homie\",\"proxy\",\"crux\",\"arrogance\",\"ikr\",\"sweater\",\"distinguish\",\"hawaii\",\"warped\",\"interject\",\"coping_mechanism\",\"glass_wine\",\"environmental\",\"hidden\",\"90\",\"overlap\",\"tear_apart\",\"soothe\",\"micro_penis\",\"discreet\",\"nahbut\",\"quiz\",\"tat\",\"fat_shaming\",\"ward\",\"disbelief\",\"ghosting\",\"preppe\",\"incorporate\",\"rap\",\"sniff\",\"feral_cat\",\"co_parenting\",\"stove\",\"crystal\",\"hairy\",\"diligence\",\"x200b;you\",\"asians\",\"ulterior_motive\",\"unlimited\",\"drive_wedge\",\"toast\",\"baseline\",\"clog\",\"overtly\",\"doubtful\",\"bonker\",\"asia\",\"swoop\",\"counsellor\",\"missing\",\"broccoli\",\"rag\",\"oversight\",\"formatting\",\"knowing\",\"unavailable\",\"aggravate\",\"validity\",\"breastmilk\",\"hiv\",\"punctuation\",\"recording\",\"heartfelt\",\"smartphone\",\"paternal\",\"dig_heel\",\"anorexic\",\"clickbait\",\"rapidly\",\"kicker\",\"broadcast\",\"raman\",\"workforce\",\"yuck\",\"creation\",\"ultra\",\"planned\",\"uptight\",\"complete_utter\",\"darn\",\"tenancy\",\"popularity\",\"debatable\",\"utilize\",\"singular\",\"envision\",\"deck\",\"barrel\",\"piv\",\"reprehensible\",\"edgelord\",\"flexibility\",\"stimulate\",\"10k\",\"unreasonably\",\"bathing_suit\",\"abbreviation\",\"magnitude\",\"surrounding\",\"monetary_value\",\"grieving_process\",\"accomodate\",\"\\ud83d\\udc4d\",\"courthouse\",\"ancestor\",\"false_pretense\",\"hoarder\",\"tack\",\"dedication\",\"mac\",\"overkill\",\"neuter\",\"corn\",\"porch\",\"agnostic\",\"curriculum\",\"pokemon\",\"obstacle\",\"hm\",\"\\\"this\",\"rapey\",\"20k\",\"premature\",\"chin\",\"whooping_cough\",\"april_fool\",\"untrained\",\"sixteen\",\"multitude\",\"ambitious\",\"obscure\",\"rsvp\",\"expressly\",\"ytathat\",\"rowdy\",\"ynta\",\"omnivore\",\"referral\",\"exclusion\",\"twitter\",\"ancestry\",\"professionalism\",\"string_attach\",\"disobey\",\"hometown\",\"saddle\",\"divorced\",\"x200b;&#x200b\",\"fallacy\",\"blurt\",\"doable\",\"holy_thou\",\"outlier\",\"leaving\",\"michael\",\"spiritual\",\"snub\",\"poisoning\",\"antibiotic\",\"inexpensive\",\"chaos\",\"80\",\"possess\",\"implicitly\",\"loophole\",\"failing\",\"heartache\",\"politically\",\"atrocious\",\"mansplaine\",\"homeowner\",\"colored\",\"judgy\",\"forfeit\",\"skim\",\"defer\",\"taunt\",\"snip\",\"orgy\",\"viral\",\"widely\",\"sanitary\",\"attendant\",\"justnomil\",\"clash\",\"deficiency\",\"lenient\",\"eating_habit\",\"eve\",\"unresolved\",\"eater\",\"pun_intend\",\"cuck\",\"shovel\",\"ineffective\",\"resistance\",\"manufacture\",\"chaotic\",\"micro\",\"million_dollar\",\"formally\",\"dressing\",\"obligatory\",\"proclaim\",\"petition\",\"misunderstood\",\"tracking\",\"ghetto\",\"entree\",\"significance\",\"financial_aid\",\"abstain\",\"insure\",\"nta.he\",\"dodgy\",\"closeness\",\"aw\",\"lousy\",\"june\",\"oops\",\"theoretically\",\"discredit\",\"soften\",\"sole_purpose\",\"middle_aged\",\"moms\",\"corporation\",\"roomate\",\"deodorant\",\"tactfully\",\"shorten\",\"placate\",\"island\",\"ytawhy\",\"poland\",\"assholeness\",\"d&d\",\"acknowledgement\",\"collective\",\"enrage\",\"diabete\",\"spontaneous\",\"dowry\",\"alarm_bell\",\"ntawhat\",\"lack_thereof\",\"polyamory\",\"uber_driver\",\"alpha\",\"investigation\",\"chicken_nugget\",\"left_lane\",\"non_existent\",\"allegedly\",\"temp\",\"stylist\",\"\\u2800_\\u2800_\\u2800_\\u2800\",\"penetrate\",\"cup_tea\",\"underrated\",\"hoop\",\"unemployment\",\"injustice\",\"rebound\",\"highly_unlikely\",\"tailor\",\"ny\",\"rephrase\",\"heinous\",\"strained\",\"throwaway_account\",\"preteen\",\"epitome\",\"variable\",\"yelp\",\"trample\",\"recipe_disaster\",\"$_10k\",\"juicy\",\"merge\",\"decorate\",\"lion\",\"waaaay\",\"nicu\",\"sidebar\",\"inconsistent\",\"continent\",\"agreed\",\"parallel\",\"clutch\",\"ambiguous\",\"metaphor\",\"vulnerability\",\"idc\",\"mrs\",\"discord\",\"nc\",\"secular\",\"uhhh\",\"unsettling\",\"catch_guard\",\"pickup\",\"unhinged\",\"advertising\",\"cocaine\",\"behold\",\"wee\",\"lounge\",\"bestie\",\"measurement\",\"map\",\"cynical\",\"kidnapping\",\"ohh\",\"gatekeeping\",\"rewarding\",\"fatherhood\",\"amen\",\"bowling\",\"impatient\",\"sexual_compatibility\",\"overthinke\",\"fishing\",\"sitcom\",\"passage\",\"dangle\",\"recruit\",\"watch?v_=\",\"faux_pas\",\"notoriously\",\"security_camera\",\"nuke\",\"boomer\",\"civility\",\"pharmacy\",\"controller\",\"hahahaha\",\"vein\",\"handed\",\"eshi\",\"magazine\",\"reap\",\"manual\",\"frugal\",\"qualm\",\"intensive\",\"ivy_league\",\"photography\",\"bankrupt\",\"encouraging\",\"harp\",\"south_america\",\"london\",\"interpersonal\",\"na\",\"criticise\",\"winning\",\"alike\",\"definetly\",\"hysterectomy\",\"indoctrination\",\"predicament\",\"george\",\"subtly\",\"belligerent\",\"dominant\",\"benign\",\"inject\",\"psychic\",\"sweaty\",\"feral\",\"semblance\",\"sunshine\",\"skinned\",\"fetal\",\"gullible\",\"ambulance\",\"hen\",\"gel\",\"40k\",\"5,000\",\"prolong\",\"righteous\",\"echo\",\"urban\",\"suite\",\"instrument\",\"indoctrinate\",\"rally\",\"karaoke\",\"capitalism\",\"juggle\",\"fascist\",\"distraught\",\"inflate\",\"stoop\",\"retract\",\"elite\",\"capital\",\"amuse\",\"squat\",\"enthusiasm\",\"strengthen\",\"unwell\",\"confederate_flag\",\"shotgun\",\"declaw\",\"charm\",\"budgeting\",\"rampant\",\"decently\",\"reputable\",\"graciously\",\"x.\",\"grievance\",\"terror\",\"controversy\",\"neckbeard\",\"summary\",\"fluent\",\"timely\",\"nitpick\",\"compulsive\",\"pa\",\"pseudo\",\"ummm\",\"healthily\",\"stipulation\",\"mud\",\"cold_shoulder\",\"lottery\",\"weave\",\"frivolous\",\"parameter\",\"scoop\",\"lapse\",\"enlighten\",\"fortune\",\"contractor\",\"kin\",\"times\",\"diffuse\",\"jeopardy\",\"unanimous\",\"oxygen\",\"boggle\",\"run_errand\",\"doesn\\u2019t\",\"fat_acceptance\",\"van\",\"zombie\",\"november\",\"suburb\",\"road_rage\",\"al\",\"exert\",\"undertone\",\"converse\",\"liking\",\"wisely\",\"touchy_subject\",\"misinformation\",\"transgression\",\"gaslit\",\"ross\",\"kat\",\"3/4\",\"preventable\",\"penalize\",\"deployment\",\"armed\",\"dependency\",\"gallon\",\"peek\",\"porn_star\",\"luggage\",\"render\",\"morale\",\"determination\",\"collapse\",\"condo\",\"chromosome\",\"vest\",\"unhelpful\",\"hater\",\"handler\",\"craigslist\",\"hoo\",\"euthanize\",\"definitive\",\"intentione\",\"chief\",\"odor\",\"goof\",\"welp\",\"upload\",\"fuckup\",\"cane\",\"gatekeep\",\"damned\",\"elementary\",\"unequal\",\"w/\",\"orient\",\"yeesh\",\"spade\",\"lust\",\"doggo\",\"guidance_counselor\",\"100,000\",\"companionship\",\"performer\",\"unsanitary\",\"recharge\",\"nta.but\",\"artificial\",\"miniature\",\"logistic\",\"scrap\",\"sperm_bank\",\"peacefully\",\"mobility\",\"shaving\",\"uproot\",\"streak\",\"amd\",\"brainer\",\"indifferent\",\"punk\",\"factually\",\"disparage\",\"yta.your\",\"dictionary\",\"equitable\",\"speaking\",\"tux\",\"ponytail\",\"\\ud83e\\udd37_\\u200d_\\u2640_\\ufe0f\",\"security_guard\",\"profusely\",\"arguing\",\"agony\",\"\\u28ff\",\"mop\",\"can\\u2019t\",\"unleash\",\"comedian\",\"fortnite\",\"revelation\",\"extortion\",\"revealing\",\"sleeper\",\"teachable_moment\",\"orphan\",\"laughing\",\"beta\",\"satan\",\"amazingly\",\"untreated\",\"tuck\",\"swimmer\",\"hallmark\",\"washing_machine\",\"bodily_fluid\",\"boxer\",\"cultivate\",\"tangible\",\"modification\",\"ntathey\",\"taking\",\"eyed\",\"overwhelm\",\"vicariously\",\"coordinate\",\"mood_swing\",\"skull\",\"scooter\",\"outbreak\",\"macho\",\"oddly\",\"extensive\",\"suprise\",\"involuntary\",\"interruption\",\"stalking\",\"concussion\",\"meal_prep\",\"|_abbreviation--\",\"kiddos\",\"reimbursement\",\"curry\",\"relocate\",\"crass\",\"endorse\",\"counterproductive\",\"ovary\",\"rescind\",\"david\",\"knot\",\"prospective\",\"corpse\",\"nursery\",\"checking\",\"line_sand\",\"cotton\",\"incur\",\"solicit\",\"reactive\",\"youre\",\"stingy\",\"3k\",\"adverse\",\"backseat\",\"won't\",\"abbreviation_bot_ignore\",\"reckon\",\"dope\",\"echo_chamber\",\"gift_giving\",\"parasite\",\"loved\",\"expertise\",\"essence\",\"crib\",\"eventual\",\"fox\",\"lyric\",\"batch\",\"farther\",\"mind_boggle\",\"foul\",\"nbd\",\"slang\",\"helper\",\"secrecy\",\"splurge\",\"spoilt\",\"sloppy\",\"following\",\"considerably\",\"pertinent\",\"insulted\",\"spreadsheet\",\"blink\",\"plague\",\"forest\",\"anecdotal\",\"sup\",\"addicted\",\"hopeless\",\"handout\",\"september\",\"fall_category\",\"mesh\",\"boarding\",\"radar\",\"timer\",\"drift\",\"sheep\",\"depressing\",\"doorstep\",\"manageable\",\"bracelet\",\"da\",\"moronic\",\"proximity\",\"jug\",\"motel\",\"cam\",\"disinvite\",\"ivy\",\"heh\",\"reliant\",\"irk\",\"sooner_later\",\"mourning\",\"discourse\",\"x_y_z\",\"x200b;if\",\"nutritional\",\"bolt\",\"wth\",\"squirrel\",\"intensely\",\"stiffe\",\"erect\",\"margin\",\"innocence\",\"c.\",\"circumcise\",\"receptionist\",\"keeping\",\"lest\",\"sip\",\"elect\",\"accommodating\",\"pumping\",\"relieved\",\"relive\",\"autism_spectrum\",\"anti_vax\",\"whatsapp\",\"medieval\",\"napkin\",\"avoidable\",\"drinker\",\"slam_door\",\"lactose\",\"intact\",\"bombard\",\"ness\",\"crayon\",\"spay\",\"champ\",\"tremendously\",\"memorialize\",\"speed_limit\",\"dependant\",\"mimic\",\"self_centre\",\"noon\",\"collectively\",\"slutty\",\"fatal\",\"transmit\",\"chose\",\"brunt\",\"sexually_compatible\",\"surrender\",\"survey\",\"vulgar\",\"fairy\",\"pro_con\",\"victory\",\"sheltered\",\"fabricate\",\"litter_box\",\"collateral\",\"militant\",\"thirsty\",\"hooker\",\"ifs\",\"humane\",\"tutorial\",\"arnt\",\"unlucky\",\"submissive\",\"dam\",\"neighbourhood\",\"wicked\",\"also-\",\"credential\",\"deteriorate\",\"picnic\",\"sophomore\",\"gravy\",\"placement\",\"unwillingness\",\"fearful\",\"stealing\",\"closing\",\"faulty\",\"arrival\",\"rile\",\"brunch\",\"squash\",\"shat\",\"irs\",\"february\",\"evident\",\"flatter\",\"overestimate\",\"actress\",\"acid\",\"artistic\",\"wouldn't\",\"reserved\",\"greed\",\"antiquated\",\"fidelity\",\"financially_stable\",\"veto_power\",\"bouncer\",\"surgical\",\"3.5\",\"60\",\"oop\",\"lobby\",\"catalyst\",\"jobless\",\"convincing\",\"barber\",\"promiscuous\",\"sterilize\",\"incapacitate\",\"bench\",\"abstract\",\"scarf\",\"kidding\",\"wrapper\",\"baking\",\"unfollow\",\"blindness\",\"hamburger\",\"blah_blah\",\"partying\",\"rearing\",\"driver_license\",\"midwife\",\"ye\",\"hyperbole\",\"sicken\",\"yta.she\",\"consenting\",\"friggin\",\"footage\",\"definitively\",\"hindu\",\"muffin\",\"masse\",\"detention\",\"outlandish\",\"ntaas\",\"seatbelt\",\"ste\",\"circus\",\"lego\",\"eternity\",\"muscle_mass\",\"r_amitheasshole_wiki\",\"facetime\",\"goddamne\",\"probable\",\"twitch\",\"trailer\",\"narrator\",\"misconstrue\",\"hentai\",\"retrospect\",\"sport_bra\",\"outwardly\",\"pearl\",\"savior\",\"bridal_shower\",\"blood_boil\",\"bun\",\"gem\",\"computer_science\",\"lurk\",\"potluck\",\"safety_net\",\"guac\",\"fece\",\"\\u201di\",\"activist\",\"news_flash\",\"nope_nope\",\"allocate\",\"ceiling\",\"resign\",\"innocently\",\"fred\",\"nicole\",\"hun\",\"drug_dealer\",\"proposition\",\"dull\",\"rider\",\"andy\",\"fiber\",\"unironically\",\"remorseful\",\"allude\",\"bummer\",\"malnourish\",\"passively\",\"networking\",\"isolation\",\"raise_eyebrow\",\"agressive\",\"tender\",\"non_confrontational\",\"checkout\",\"faculty\",\"chad\",\"brutally\",\"paper_trail\",\"peep\",\"impede\",\"overstep_bound\",\"royally\",\"submission\",\"upkeep\",\"abundantly_clear\",\"scramble\",\"ella\",\"tread\",\"utensil\",\"underneath\",\"tennis\",\"woe\",\"proudly\",\"law_enforcement\",\"lad\",\"dean\",\"skin_colour\",\"pander\",\"\\ud83d\\ude02_\\ud83d\\ude02_\\ud83d\\ude02\",\"zip\",\"feign\",\"birthing\",\"constructive_criticism\",\"hospitalize\",\"relay\",\"r_justnofamily\",\"personality_trait\",\"someplace\",\"booty\",\"ehhh\",\"moderator\",\"batshit\",\"verse\",\"nonsensical\",\"marines\",\"irregular\",\"itch\",\"unprepared\",\"waaaaay\",\"game_thrones\",\"climax\",\"appliance\",\"seeker\",\"steamroll\",\"unappreciated\",\"vanity\",\"divulge\",\"currency\",\"july\",\"nonstop\",\"km\",\"her-\",\"jones\",\"nugget\",\"blur\",\"chicago\",\"packet\",\"ladder\",\"bay\",\"gen\",\"loosen\",\"|\",\"misguide\",\"wink\",\"primary_caregiver\",\"headline\",\"annulment\",\"spam\",\"impartial\",\"imma\",\"metabolism\",\"procreate\",\"sugar_coat\",\"administrator\",\"endometriosis\",\"recover_alcoholic\",\"pierce\",\"detect\",\"tribe\",\"downvote_oblivion\",\"nicer\",\"gunna\",\"wikipedia\",\"$_500k\",\"cable\",\"dire\",\"rumour\",\"politician\",\"ergo\",\"carbs\",\"spousal\",\"handling\",\"printer\",\"fr\",\"lovingly\",\"vaginas\",\"korea\",\"volatile\",\"remainder\",\"formative\",\"exceed\",\"pricey\",\"wrench\",\"manipulation_tactic\",\"concentration\",\"lo\",\"genocide\",\"reconciliation\",\"moose\",\"stoner\",\"assuage\",\"castle\",\"sincere_apology\",\"optimistic\",\"dawn\",\"found\",\"dh\",\"financial_stability\",\"sketch\",\"derive\",\"clit\",\"election\",\"earshot\",\"damaged\",\"defensiveness\",\"reclaim\",\"self_preservation\",\"unreal\",\"diner\",\"afterthought\",\"typos\",\"runner\",\"alley\",\"aloud\",\"seafood\",\"restore\",\"cram\",\"x200b;it\",\"sexte\",\"rural_area\",\"mixed_race\",\"waitstaff\",\"dent\",\"aww\",\"appealing\",\"nigger\",\"dong\",\"piggyback\",\"gray_area\",\"friction\",\"eyebrow\",\"excusable\",\"portfolio\",\"eugenic\",\"discreetly\",\"antisocial\",\"thursday\",\"scalp\",\"prude\",\"pride_parade\",\"aids\",\"transitioning\",\"doggy\",\"status_quo\",\"respected\",\"wrestling\",\"antique\",\"chlamydia\",\"contexts\",\"pubic_hair\",\"electric_toothbrush\",\"forceful\",\"enlist\",\"russia\",\"adjective\",\"finding\",\"archaic\",\"50k\",\"cripple\",\"male_dominate\",\"rehearsal\",\"takeaway\",\"religiously\",\"sympathise\",\"tango\",\"st\",\"swallow_pride\",\"half_asse\",\"attacker\",\"luna\",\"extremist\",\"unloved\",\"mistrust\",\"jury\",\"beater\",\"inclusion\",\"madam\",\"tamper\",\"tally\",\"thot\",\"cuisine\",\"ingest\",\"phobic\",\"beautifully\",\"nta.the\",\"diplomatic\",\"micromanage\",\"reporter\",\"fafsa\",\"airbnb\",\"afaik\",\"mount\",\"ytaand\",\"ehh\",\"cooked\",\"knew\",\"depressive\",\"jet\",\"lobster\",\"devolve\",\"wedge\",\"discovery\",\"\\ud83e\\udd37\",\"sinner\",\"temptation\",\"judge_harshly\",\"bumper\",\"turmoil\",\"singer\",\"lemme\",\"displeasure\",\"oneself\",\"chronic_illness\",\"memento\",\"renter\",\"inspiration\",\"shark\",\"6th\",\"fella\",\"implied\",\"residential\",\"nappy\",\"anne\",\"accepting\",\"tan\",\"ovarian_cyst\",\"ocean\",\"r_thathappene\",\"pound_sand\",\"ethnically\",\"cooler\",\"tp\",\"melodramatic\",\"detective\",\"green_card\",\"foreigner\",\"allegation\",\"batshit_crazy\",\"adamantly\",\"pr\",\"becuase\",\"creator\",\"bargaining\",\"deploy\",\"rave\",\"wasteful\",\"voicemail\",\"profoundly\",\"cutting\",\"sincerity\",\"butterfly\",\"cutter\",\"dim\",\"aussie\",\"pencil\",\"scheduling\",\"bothered\",\"bumble\",\"visibility\",\"sephora\",\"patriarchy\",\"cant\",\"false_accusation\",\"interference\",\"housekeeping\",\"firsthand\",\"spur_moment\",\"schoolwork\",\"hunch\",\"desensitize\",\"brutally_honest\",\"generational\",\"loneliness\",\"crank\",\"sprinkle\",\"undeniably\",\"renew\",\"credible\",\"erection\",\"comp\",\"comb\",\"forgivable\",\"faux\",\"shush\",\"exceptional\",\"dom\",\"hah\",\"retreat\",\"spy\",\"lake\",\"seller\",\"strawberry\",\"foreskin\",\"shirtless\",\"8th_grade\",\"borderline_personality\",\"boast\",\"unjustified\",\"latina\",\"narc\",\"atlanta\",\"contrast\",\"oooh\",\"plot_twist\",\"amateur\",\"wallow\",\"betrayed\",\"irritation\",\"estrange\",\"prestigious\",\"reciprocation\",\"niche\",\"similarity\",\"breed_resentment\",\"md\",\"gripe\",\"assertion\",\"sd\",\"meetup\",\"trace\",\"reflect_poorly\",\"vehemently\",\"otoh\",\"jess\",\"witcher\",\"artwork\",\"unhygienic\",\"dysfunction\",\"critically\",\"sat\",\"faced\",\"\\ud83d\\ude05\",\"awe\",\"\\ud83d\\ude2d\",\"outraged\",\"horseshit\",\"pardon\",\"vigilant\",\"eshhe\",\"global\",\"caller\",\"frightening\",\"payout\",\"established\",\"northern\",\"r_pettyrevenge\",\"tread_carefully\",\"amusement\",\"sensation\",\"chronic_pain\",\"absurdly\",\"catcall\",\"asexuality\",\"\\\"the\",\"a+\",\"stiff\",\"unrealistic_expectation\",\"ldr\",\"cm\",\"locally\",\"feather\",\"germaphobe\",\"ss\",\"commendable\",\"footing\",\"mistress\",\"contraction\",\"uncertain\",\"x200b;also\",\"kkk\",\"data\",\"retroactively\",\"ntathere\",\"pave\",\"sinister\",\"ashe\",\"uncertain_term\",\"active_duty\",\"flour\",\"stellar\",\"social_media\",\"unequivocally\",\"attentive\",\"stir_pot\",\"ya'll\",\"laxative\",\"badmouth\",\"lethal\",\"latex\",\"shudder\",\"fag\",\"pls\",\"washroom\",\"grill_cheese\",\"corrupt\",\"academy\",\"jerry\",\"shenanigan\",\"introduction\",\"metric\",\"vocalize\",\"incite\",\"lowkey\",\"infront\",\"noun\",\"10x\",\"uninvolved\",\"kyle\",\"herd_immunity\",\"coma\",\"gram\",\"crippling\",\"hefty\",\"shortage\",\"rubber\",\"meddle\",\"construe\",\"hoard\",\"venmo\",\"biphobic\",\"forthcoming\",\"wbta\",\"audition\",\"harry_potter\",\"intrude\",\"seeing\",\"gm\",\"startle\",\"mac_cheese\",\"router\",\"shipping\",\"gestational\",\"catholic_church\",\"deep_breath\",\"hinge\",\"delight\",\"18th_birthday\",\"baseless\",\"underpaid\",\"vag\",\"thunder\",\"roomba\",\"positivity\",\"tap_shoulder\",\"'\",\"dice\",\"larry\",\"equity\",\"copy_paste\",\"farming\",\"selective\",\"prince\",\"gfm\",\"entrust\",\"baptize\",\"strawman\",\"/r_raisedbynarcissist\",\"natal\",\"timeframe\",\"/r_justnomil\",\"badge\",\"integrate\",\"soul_search\",\"temperament\",\"endeavor\",\"relevance\",\"betty\",\"buzz\",\"coherent\",\"unwritten\",\"amplify\",\"yta.this\",\"don\\u2018t\",\"yta.you're\",\"wwii\",\"tumor\",\"fascinating\",\"passover\",\"sufficiently\",\"fulfilling\",\"insightful\",\"messenger\",\"rock_boat\",\"hoodie\",\"uncontrollable\",\"tic\",\"reproduction\",\"repetitive\",\"aspire\",\"ytajust\",\"specialized\",\"tower\",\"withdrawal\",\"mandy\",\"spike\",\"carve\",\"holy_cow\",\"binary\",\"military_uniform\",\"pest\",\"behaved\",\"buckle\",\"lax\",\"hunter\",\"grovel\",\"refreshing\",\"inconvenienced\",\"attendee\",\"mainstream\",\"goat\",\"informal\",\"division_labor\",\"sleazy\",\"processing\",\"ntapeople\",\"willful\",\"file_complaint\",\"envious\",\"firefighter\",\"amicably\",\"ntanot\",\"probation\",\"vicinity\",\"avoidance\",\"mummy\",\"sos\",\"declaw_cat\",\"reel\",\"continued\",\"cellphone\",\"heater\",\"glory\",\"ntamy\",\"inflammatory\",\"jan\",\"millenial\",\"lieu\",\"offset\",\"snowball\",\"subscription\",\"verbatim\",\"caption\",\"nyu\",\"trained\",\"sexless\",\"negligible\",\"disruption\",\"ejaculate\",\"deceit\",\"mmm\",\"folder\",\"uninterrupted\",\"inequality\",\"grin\",\"limp\",\"prejudiced\",\"shockingly\",\"appetizer\",\"olympics\",\"facet\",\"instability\",\"screech\",\"1/10\",\"plantation\",\"free_reign\",\"territorial\",\"judge_judy\",\"dammit\",\"\\ud83d\\udea9\",\"harness\",\"scammer\",\"ac\",\"doctorate\",\"peed\",\"apathy\",\"narrow_minded\",\"iv\",\"cognitive_dissonance\",\"r_choosingbeggars\",\"nefarious\",\"envelope\",\"statutory_rape\",\"cafeteria\",\"unplanned_pregnancy\",\"videogame\",\"waiver\",\"middle_east\",\"urinal\",\"thirdly\",\"coping\",\"notebook\",\"downhill\",\"\\\"and\",\"essential_oil\",\"overpower\",\"gild\",\"marginalize\",\"locker\",\"taco_bell\",\"english_speaker\",\"turtle\",\"ammo\",\"compliance\",\"tiptoe\",\"mentally_unstable\",\"hollywood\",\"bundle\",\"relaxing\",\"nutritionist\",\"clumsy\",\"masturbating\",\"mosque\",\"confidential\",\"ding_ding_ding\",\"cold_sore\",\"affirm\",\"paste\",\"seduce\",\"academically\",\"nahif\",\"cucumber\",\"statute\",\"cordial\",\"amitheasshole\",\"conversely\",\"myriad\",\"burner\",\"starting\",\"4yo\",\"yall\",\"cognizant\",\"unsatisfied\",\"grate\",\"rewrite\",\"enrol\",\"hotline\",\"sweep_rug\",\"october\",\"reproductive_coercion\",\"halal\",\"streamer\",\"caffeine\",\"paris\",\"yr\",\"relinquish\",\"easier\",\"butcher\",\"monumental\",\"preclude\",\"seconded\",\"intersection\",\"attracted\",\"youtube_video\",\"ap\",\"misfortune\",\"republican\",\"regional\",\"bandwagon\",\"cervix\",\"rocket_science\",\"irresponsibility\",\"baker\",\"unflattering\",\"garner\",\"infantilize\",\"singing\",\"heed\",\"affirmation\",\"blocker\",\"drunkenly\",\"deficit\",\"evolution\",\"nee\",\"crusade\",\"misgender\",\"web\",\"susceptible\",\"horizon\",\"safeword\",\"microaggression\",\"pixie_cut\",\"ehs\",\"cultural_norm\",\"cluster\",\"dissolve\",\"vengeance\",\"clusterfuck\",\"nudge\",\"firing\",\"guacamole\",\"madison\",\"paycheck_paycheck\",\"thailand\",\"consciousness\",\"drum\",\"olive\",\"willy_nilly\",\"gregory\",\"innate\",\"lining\",\"vice\",\"snippy\",\"block_social_medium\",\"overwork\",\"this-\",\"boobs\",\"obv\",\"flush_tampon\",\"tread_lightly\",\"intellectually\",\"usher\",\"dote\",\"itchy\",\"ibs\",\"wean\",\"plural\",\"batman\",\"fertile\",\"middle_schooler\",\"biphobia\",\"distressed\",\"vigilante\",\"seize\",\"bracket\",\"disciplinary\",\"patrol\",\"thyroid\",\"capitalize\",\"7th\",\"agreeable\",\"rebellion\",\"blameless\",\"treatable\",\"vulva\",\"weasel\",\"secretive\",\"illusion\",\"100x\",\"protocol\",\"ink\",\"greek\",\"heating\",\"paraphrase\",\"deviate\",\"cyber\",\"bloke\",\"bravo\",\"eastern\",\"ntasound\",\"nta.you're\",\"amaze\",\"shouting\",\"massager\",\"claw\",\"veg\",\"ray\",\"\\\"i'm\",\"symbolic\",\"amusement_park\",\"afloat\",\"biracial\",\"signature\",\"specialty\",\"win_lottery\",\"density\",\"trendy\",\"bagel\",\"inexperience\",\"settlement\",\"unsympathetic\",\"martial_art\",\"tim\",\"sham\",\"unfold\",\"unprovoked\",\"continuous\",\"equivalence\",\"skeleton\",\"boston\",\"creative_writing\",\"certification\",\"strife\",\"marital_asset\",\"anti_vaxx\",\"youngest\",\"fixable\",\"e_mail\",\"stipulate\",\"indignant\",\"lisa\",\"unappreciative\",\"extra_curricular\",\"filipino\",\"olympic\",\"menstruation\",\"cyst\",\"r_relationshipadvice\",\"bakery\",\"conditioner\",\"shitbag\",\"vandalism\",\">_sub_submitter\",\"tipsy\",\"nonverbal\",\"molestation\",\"renovation\",\"growl\",\"witty\",\"transphobe\",\"invasion\",\"ma\",\"squish\",\"dresser\",\"defy\",\"waive\",\"sponsor\",\"plastic_surgery\",\"nagging\",\"erin\",\"false_equivalency\",\"hrt\",\"months\",\"waffle\",\"aback\",\"pamper\",\"patriarchal\",\"hose\",\"fluffy\",\"salt_wound\",\"reaffirm\",\"sitting\",\"public_transit\",\"anus\",\"lucrative\",\"pelvic\",\"socialise\",\"billy\",\"abruptly\",\"lace\",\"minecraft\",\"legend\",\"costly\",\"choosing\",\"engine\",\"repress\",\"rabbit_hole\",\"noticeably\",\"gym_membership\",\"condescension\",\"degenerate\",\"reassess\",\"flick\",\"pudding\",\"naw\",\"lipstick\",\"character_flaw\",\"overheard\",\"hipaa\",\"contention\",\"coal\",\"punching_bag\",\"cheesecake\",\"complexity\",\"inventory\",\"soo\",\"ytaso\",\"weirdness\",\"organ_donation\",\"detract\",\"fourteen\",\"dumpster_diving\",\"respectively\",\"advancement\",\"accustomed\",\"shoplift\",\"fiddle\",\"chaperone\",\"ammunition\",\"originate\",\"placenta\",\"wack\",\"trespassing\",\"arguement\",\"hamper\",\"undesirable\",\"opposition\",\"shitload\",\"purge\",\"complement\",\"observer\",\"banking\",\"daylight\",\"resistant\",\"nsfw\",\"statistical\",\"nutritionally\",\"nah.you\",\"trey\",\"yta.the\",\"palette\",\"avocado\",\"antagonistic\",\"unworthy\",\"productivity\",\"native_americans\",\"robbery\",\"willfully_ignorant\",\"shirk\",\"forge\",\"stepkid\",\"availability\",\"vodka\",\"vengeful\",\"dear_lord\",\"topping\",\"cupboard\",\"powder\",\"philosophical\",\"spina_bifida\",\"flare\",\"resonate\",\"crucify\",\"metoo\",\"r_choosingbeggar\",\"mediation\",\"eagle\",\"arousal\",\"fad\",\"squabble\",\"flying\",\"girls\",\"retribution\",\"hurl\",\"slot\",\"babysat\",\"falsely_accuse\",\"scripture\",\"cleanup\",\"jog\",\"entertaining\",\"antic\",\"devoted\",\"egg_hunt\",\"fussy\",\"hideous\",\"flesh_blood\",\"misophonia\",\"packed\",\"conflicting\",\"ole\",\"toiletry\",\"bipolar_disorder\",\"withholding\",\"ytahow\",\"payback\",\"9th\",\"progression\",\"lotta\",\"9:30\",\"greasy\",\"prevail\",\"gas_lighting\",\"swell\",\"editing\",\"heavy_lifting\",\"peanut_allergy\",\"preferential_treatment\",\"nta.i'm\",\"esh.you\",\"inquire\",\"grandad\",\"amp\",\"nah.i\",\"flashback\",\"audiobook\",\"blackface\",\"mope\",\"tourette\",\"profound\",\"fond_memory\",\"enthusiast\",\"gameboy\",\"domain\",\"vilify\",\"coping_skill\",\"vendor\",\"emily\",\"inspect\",\"ps4\",\"thick_skin\",\"warp\",\"ytafor\",\"considerable\",\"downtime\",\"lighting\",\"que\",\"preachy\",\"gatekeeper\",\"xx\",\"tempting\",\"hatch\",\"hairdresser\",\"eavesdrop\",\"ntawhy\",\"greeting\",\"prod\",\"rattle\",\"commentor\",\"tee\",\"overreacted\",\"catfish\",\"estrogen\",\"explosive\",\"taker\",\"royal\",\"\\ud83d\\ude01\",\"pleasurable\",\"subsequently\",\"funniest\",\"lineage\",\"nahyou're\",\"subset\",\"ford\",\"cheesy\",\"defeat_purpose\",\"pompous\",\"strangely\",\"polar\",\"outgoing\",\"guardianship\",\"persona\",\"aren't\",\"drift_apart\",\"jelly\",\"exponentially\",\"modicum\",\"peach\",\"glimpse\",\"discrepancy\",\"figuratively\",\"seethe\",\"remarried\",\"switzerland\",\"blackout\",\"efficiently\",\"excel\",\"normalized\",\"bypass\",\"deport\",\"foresight\",\"deli\",\"shrimp\",\"oreos\",\"shitstorm\",\"fried\",\"spanking\",\"outward\",\"desperation\",\"thrift_store\",\"positive_reinforcement\",\"tmi\",\"procrastinate\",\"slimy\",\"preemptively\",\"enact\",\"evangelical\",\"spread_rumor\",\"frog\",\"fundamentalist\",\"revert\",\"indirect\",\"midst\",\"commit_fraud\",\"jade\",\"worrisome\",\"rubbish\",\"idgaf\",\"lamb\",\"bland\",\"programmer\",\"z\",\"sucks\",\"ingrained\",\"air_mattress\",\"listening\",\"mistakenly\",\"spending_habit\",\"alienated\",\"tweet\",\"attest\",\"sign_birth_certificate\",\"it\\u2018s\",\"outgrow\",\"smother\",\"il\",\"wheat\",\"minimise\",\"yeast_infection\",\"precise\",\"claws\",\"\\\"so\",\"michael_scott\",\"port\",\"greece\",\"premarital\",\"disproportionately\",\"profanity\",\"chauffeur\",\"constant_reminder\",\"swollen\",\"realm_possibility\",\"homo\",\"biggie\",\"busybody\",\"ytaa\",\"clitoris\",\"codependent\",\"whale\",\"scoff\",\"inkling\",\"accepted\",\"notorious\",\"dying\",\"tutoring\",\"reap_sow\",\"glorious\",\"isis\",\"calculator\",\"quirky\",\"wayyy\",\"situational\",\"bowel\",\"revolt\",\"gimme\",\"dumpster_fire\",\"incase\",\"disturbance\",\"payday_loan\",\"mph\",\"oppressive\",\"hurting\",\"hawk\",\"dehumanize\",\"shite\",\"widespread\",\"critical_thinking\",\"lengthy\",\"snooping\",\"marrying\",\"visceral\",\"staying\",\"superhero\",\"kate\",\"ensue\",\"lactation\",\"tummy\",\"stole\",\"cuckold\",\"eric\",\"airsoft\",\"disposal\",\"publicity\",\"ytayou\\u2019re\",\"nahthis\",\"mediate\",\"tug\",\"stepchild\",\"responder\",\"ohhh\",\"gush\",\"singapore\",\"sadden\",\"circlejerk\",\"1000x\",\"characterize\",\"helping\",\"blowjobs\",\"\\\"she\",\"consultation\",\"anguish\",\"filth\",\"10th\",\"helmet\",\"foodie\",\"goblin\",\"troublesome\",\"sickly\",\"effectiveness\",\"final_straw\",\"substantially\",\"predominantly\",\"motherly\",\"pajama\",\"reflective\",\"harm_foul\",\"rehabilitate\",\"managerial\",\"estranged\",\"swift\",\"rhetorical\",\"concur\",\"auntie\",\"henry\",\"gambling\",\"organized\",\"unavoidable\",\"immaturely\",\"vapid\",\"platinum\",\"painfully_obvious\",\"ditto\",\"shaky\",\"whiskey\",\"\\\"but\",\"yield\",\"spain\",\"undue\",\"begrudge\",\"motivator\",\"ntaa\",\"slag\",\"interracial\",\"smoking_drinking\",\"latin\",\"ecstatic\",\"species\",\"apathetic\",\"dandy\",\"urinate\",\"overshadow\",\"liz\",\"rightful\",\"lactose_intolerant\",\"nahyour\",\"ship_sail\",\"him-\",\"terrorize\",\"\\ud83d\\udc4c\",\"chump\",\"thats\",\"unnatural\",\"swearing\",\"dysmorphia\",\"unconsciously\",\"unsupervised\",\"serial_cheater\",\"quieter\",\"brad\",\"pagan\",\"stepchildren\",\"showering\",\"digest\",\"mra\",\"defuse\",\"secondhand\",\"enthusiastically\",\"warrior\",\"homemaker\",\"flimsy\",\"skype\",\"undiagnose\",\"honorable\",\"nuanced\",\"nonbinary\",\"adjacent\",\"downgrade\",\"adolescence\",\"extraordinarily\",\"memo\",\"judaism\",\"sugarcoat\",\"ianal\",\"nosey\",\"stre\",\"ytadon't\",\"illegal_eviction\",\"70\",\"marker\",\"grease\",\"automod\",\"mistreatment\",\"didn\\u2019t\",\"sufferer\",\"ytabut\",\"lied\",\"negative_connotation\",\"onset\",\"loli\",\"mexicans\",\"3d\",\"mutilation\",\"prostate\",\"outdoors\",\"reframe\",\"personnel\",\"white_knighting\",\"exploration\",\"victoria\",\"affirmative\",\"sec\",\"haired\",\"compelling\",\"eighteen\",\"disqualify\",\"thirteen\",\"irreparably\",\"reporting\",\"stride\",\"nb\",\"activate\",\"brew\",\"\\u28e4\",\"hugging\",\"competitor\",\"communicative\",\"bent_shape\",\"\\u28c0\",\"lens\",\"cold_hearted\",\"forcefully\",\"masseuse\",\"kg\",\"^|\",\"recreational\",\"epilepsy\",\"classist\",\"shouldn't\",\"pepperoni_pizza\",\"accumulate\",\"painkiller\",\"liner\",\"cushion\",\"superiority_complex\",\"\\\"hey\",\"rebellious\",\"outdate\",\"trump_supporter\",\"bathtub\",\"yata\",\"isle\",\"services\",\"spectacle\",\"laser\",\"grape\",\"ramble\",\"serial\",\"integral\",\"ytadude\",\"emoji\",\"splash\",\"boo_hoo\",\"\\u281b\",\"poke_hole\",\"intensity\",\"selectively\",\"pp\",\"99.9\",\"foreseeable_future\",\"bullet_dodge\",\"bite_tongue\",\"emasculate\",\"felon\",\"pancake\",\"friendzone\",\"fighter\",\"incomplete\",\"punchline\",\"keychain\",\"cocky\",\"schizophrenia\",\"jizz\",\"tirade\",\"immunity\",\"concerning\",\"affluent\",\"prisoner\",\"capture\",\"curly\",\"rein\",\"femininity\",\"smirk\",\"freeload\",\"raising\",\"unclean\",\"mow\",\"swastika\",\"giving\",\"zero_tolerance\",\"patiently\",\"mediator\",\"tenth\",\"grooming\",\"jk\",\"parrot\",\"ing\",\"quotation\",\"flack\",\"sadistic\",\"pda\",\"numb\",\"ahhh\",\"goodness_sake\",\"rotate\",\"potty_train\",\"freakin\",\"solidly\",\"hustle\",\"abrasive\",\"beverage\",\"diss\",\"sorrow\",\"fulfillment\",\"ngl\",\"idiocy\",\"crumble\",\"cyclist\",\"compulsion\",\"euthanasia\",\"nerdy\",\"embellish\",\"nicotine\",\"pertain\",\"voucher\",\"carbon\",\"knuckle\",\"roller_coaster\",\"elevate\",\"maul\",\"programming\",\"costco\",\"ear_plug\",\"viewing\",\"sweden\",\"assholishness\",\"optimal\",\"intimately\",\"sayin\",\"jointly\",\"collector\",\"knob\",\"harvest\",\"simplify\",\"justnoso\",\"conflicted\",\"watermelon\",\"openness\",\"ostensibly\",\"compose\",\"nerf_gun\",\"assurance\",\"sidenote\",\"jackie\",\"jake\",\"digestive\",\"memorable\",\"gallery\",\"vaginismus\",\"unmarried\",\"opera\",\"accountant\",\"transmission\",\"casino\",\"hardworking\",\"endlessly\",\"semen\",\"tote\",\"coparent\",\"existing\",\"disinterest\",\"behavioural\",\"here-\",\"testicle\",\"hyperbolic\",\"flush_toilet\",\"crude\",\"sweeping\",\"vitriol\",\"supremely\",\"subordinate\",\"crab\",\"friends\",\"devout\",\"overdramatic\",\"playstation\",\"lgbtq_community\",\"catty\",\"contradictory\",\"morbid\",\"barking\",\"picking\",\"contaminate\",\"affront\",\"hurdle\",\"goer\",\"heaven_forbid\",\"roleplay\",\"licensed\",\"vietnam\",\"organic\",\"bandaid\",\"menopause\",\"renege\",\"sanctimonious\",\"poisonous\",\"educated\",\"tube_tie\",\"pervasive\",\"toothpaste\",\"ranking\",\"hopeful\",\"25k\",\"gummie\",\"oz\",\"satire\",\"proposing\",\"swimwear\",\"daft\",\"recycling\",\"compromising\",\"cremate\",\"disgustingly\",\"sow\",\"circumvent\",\"blare\",\"infinite\",\"rude_awakening\",\"chronically\",\"here**|**esh****no_hole\",\"portrait\",\"facade\",\"logo\",\"skate\",\"influencer\",\"nintendo\",\"revenue\",\"uncertainty\",\"impaired\",\"novelty\",\"metro\",\"sideline\",\"nahshe\",\"conflict_resolution\",\"fraught\",\"omfg\",\"simulate\",\"complaining\",\"constitution\",\"nickel\",\"laura\",\"motor\",\"inflexible\",\"josh\",\"detector\",\"x200b;the\",\"almond\",\"noooo\",\"|_--:**you're\",\"goad\",\"waltz\",\"treadmill\",\"scissor\",\"dept\",\"unprotecte\",\"kevin\",\"sling\",\"chronically_ill\",\"mustache\",\"incompetence\",\"gray\",\"audio_book\",\"power_imbalance\",\"uneven\",\"uninterested\",\"staple\",\"devotion\",\"consolation\",\"homelessness\",\"topless\",\"raid\",\"altercation\",\"karate\",\"mole\",\"afro\",\"habitually\",\"obscene\",\"tuna\",\"60k\",\"pirate\",\"party_|**nta****everyone_sucks\",\"gloat\",\"greg\",\"dough\",\"|**yta**|you're_hole\",\"\\ud83e\\udd37_\\u200d_\\u2642_\\ufe0f\",\"couldn't\",\"spoiler_alert\",\"pursuit\",\"opiate\",\"ponder\",\"customary\",\"emulate\",\"forgave\",\"exes\",\"ytafirst\",\"cervical_cancer\",\"blowback\",\"frickin\",\"publically\",\"unhappiness\",\"guinea_pig\",\"21st\",\"shrine\",\"infoi\",\"esh.your\",\"nephews\",\"practitioner\",\"cooperate\",\"plumbing\",\"veer\",\"respite\",\"idle\",\"ram\",\"sub_submitter\",\"zipper\",\"testament\",\"wiggle\",\"morally_superior\",\"relentlessly\",\"dawg\",\"extort\",\"counterpoint\",\"surveillance\",\"cremation\",\"breeding\",\"alice\",\"bulimic\",\"digit\",\"insensitivity\",\"toughen\",\"dubious\",\"nye\",\"handmade\",\"lifelong_commitment\",\"urgency\",\"prominent\",\"ableist\",\"tracker\",\"rounded\",\"dupe\",\"quest\",\"decidedly\",\"beth\",\"teeny\",\"fame\",\"generously\",\"tailgate\",\"homeschool\",\"lee\",\"extrapolate\",\"blacklist\",\"intolerable\",\"purity\",\"imperative\",\"bloodline\",\"vanish\",\"cliff\",\"infancy\",\"cus\",\"platter\",\"unpopularopinion\",\"finite\",\"lighthearted\",\"years\",\"hours\",\"waaay\",\"mileage\",\"jeweler\",\"super_duper\",\"repost\",\"merry\",\"angst\",\"outstanding\",\"taylor\",\"pre_nup\",\"ranch\",\"cheeseburger\",\"completly\",\"hail\",\"cf\",\"backpacking\",\"jenny\",\"imagery\",\"douchy\",\"emt\",\"conversational\",\"sunscreen\",\"unwise\",\"reinforcement\",\"explosion\",\"peeve\",\"dole\",\"perfection\",\"privy\",\"irreparable_damage\",\"uncare\",\"jeep\",\"powerless\",\"\\u2764\",\"blue_collar\",\"weaponize\",\"unfriend\",\"cig\",\"roman\",\"labia\",\"carte_blanche\",\"bachelorette\",\"priceless\",\"midwest\",\"mia\",\"that-\",\"cold_turkey\",\"broach\",\"wart\",\"newfound\",\"lapdance\",\"coexist\",\"balcony\",\"blown\",\"washer_dryer\",\"getaway\",\"eternal\",\"paramount\",\"thc\",\"monopoly\",\"socialization\",\"absentee\",\"parole\",\"drool\",\"shaft\",\"erode\",\"halt\",\"bo\",\"romeo_juliet\",\"poker\",\"fairy_tale\",\"foresee\",\"veil\",\"deathbed\",\"underhanded\",\"distinctly\",\"vandalize\",\"futon\",\"sooner\",\"boycott\",\"retort\",\"choir\",\"proverbial\",\"bmw\",\"\\\\^\",\"wrinkle\",\"segregate\",\"salesman\",\"tarantula\",\"feud\",\"hindsight_20/20\",\"ant\",\"denigrate\",\"liberty\",\"plaster\",\"constitute_emergency\",\"venting\",\"barbie\",\"champagne\",\"robin\",\"hover\",\"yta.not\",\"therefor\",\"fandom\",\"harrassment\",\"disprove\",\"iceberg\",\"ordinance\",\"axe\",\"decompress\",\"soapbox\",\"ego_boost\",\"descriptor\",\"summon\",\"woulda\",\"\\u2800_\\u2800\",\"x200b;that\",\"pushing\",\"ninja\",\"micro_aggression\",\"monitoring\",\"remarkably\",\"upward\",\"boredom\",\"peel\",\"weeks\",\"broach_subject\",\"lavish\",\"redundant\",\"sperm_donation\",\"tide\",\"anonymity\",\"zealand\",\"states\",\"neurotic\",\"whew\",\"dialysis\",\"squarely\",\"humblebrag\",\"aryan\",\"acre\",\"hangover\",\"fo\",\"opponent\",\"miserably\",\"infraction\",\"autoimmune\",\"faq](https://www.reddit.com_r_amitheasshole\",\"relaxation\",\"manic\",\"questioning\",\"soulmate\",\"celibate\",\"evil_stepmother\",\"peddle\",\"contentious\",\"invite_julia\",\"rapid\",\"purity_ball\",\"soooooo\",\"\\\"you're\",\"libel\",\"doxxe\",\"sugary\",\"dms\",\"et\",\"reluctantly\",\"interestingly\",\"therapeutic\",\"startup\",\"accounting\",\"macbook\",\"leather\",\"fabulous\",\"hahah\",\"unplanned\",\"miff\",\"thorough\",\"perishable\",\"tifu\",\"moral_dilemma\",\"delegate\",\"homeschooling\",\"synthetic\",\"consolation_prize\",\"\\u2122\",\"android\",\"ha_ha\",\"ofcourse\",\"gofundme\",\"ash\",\"cheque\",\"ons\",\"loom\",\"heroic\",\"scorched_earth\",\"chick_fil\",\"spoken\",\"\\u2836\",\"mockery\",\"banner\",\"unprotected\",\"playfully\",\"ytaalso\",\"percentile\",\"salvation\",\"adrenaline\",\"govern\",\"shepherd\",\"timmy\",\"hilariously\",\"receiver\",\"celiac\",\"\\u2800_\\u2800_\\u2800\",\"\\u28ff_\\u28ff\",\"buisness\",\"stepbrother\",\"rekindle\",\"enclose\",\"mini_fridge\",\"reversible\",\"snappy\",\"imbecile\",\"flea\",\"jay\",\"debit_card\",\"prorevenge\",\"ambush\",\"dvd\",\"comma\",\"transparency\",\"outcast\",\"ploy\",\"sarcastically\",\"pete\",\"monthly_payment\",\"4.0\",\"homewrecker\",\"testify\",\"lizard\",\"bankruptcy\",\"calculation\",\"presumption\",\"grabby\",\"tiresome\",\"pepper_spray\",\"r_iamverybadass\",\"\\ud83d\\udc4f_\\ud83d\\udc4f\",\"dv\",\"murderedbyword\",\"pathway\",\"preposterous\",\"reconnecte\",\"symbolize\",\"mysterious\",\"shitposte\",\"antidepressant\",\"mannered\",\"shuffle\",\"executor\",\"surcharge\",\"segregation\",\"indians\",\"nana\",\"french_fry\",\"suffocate\",\"caterer\",\"buff\",\"formality\",\"yt\",\"non_negotiable\",\"gyno\",\"pornhub\",\"instinctively\",\"minefield\",\"womens\",\"audio\",\"snobby\",\"attached\",\"hanging\",\"cannabis\",\"charger\",\"reversal\",\"flirtatious\",\"pixie\",\"petite\",\"hump\",\"8-year\",\"threatened\",\"decor\",\"overblown\",\"index\",\"blogger\",\"concise\",\"louisiana\",\"^^^^automod_copy\",\"denomination\",\"extensively\",\"nail_coffin\",\"faint\",\"stoic\",\"shocker\",\"punitive\",\"protector\",\"favouritism\",\"spectator\",\"sentient\",\"21st_century\",\"profess\",\"aspergers\",\"altruistic\",\"cavalier\",\"rake\",\"crumb\",\"le\",\"lone\",\"impending\",\"dyslexia\",\"freshly\",\"turner\",\"visually\",\"ob_gyn\",\"categorically\",\"pledge\",\"\\u00b0\",\"gd\",\"unempathetic\",\"informative\",\"interviewer\",\"socially_inept\",\"wayyyy\",\"expecting\",\"music_festival\",\"teddy_bear\",\"downer\",\"cutoff\",\"refrigerator\",\"linda\",\"particle\",\"catholicism\",\"neurological\",\"confidently\",\"title_misleading\",\"overrule\",\"mit\",\"steel\",\"askreddit\",\"repressed\",\"patronising\",\"crunch\",\"actuality\",\"organisation\",\"rocket\",\"usd\",\"bedside\",\"crossing\",\"beck\",\"recur\",\"luke\",\"reluctance\",\"backtrack\",\"criminally\",\"dislikes\",\"perv\",\"portuguese\",\"den\",\"handwritten\",\"spotless\",\"shortcoming\",\"premeditate\",\"implore\",\"duplicate\",\"\\\"he\",\"inhumane\",\"middle_eastern\",\"stroke_ego\",\"maga\",\"platonically\",\"encroach\",\"reform\",\"suburban\",\"brit\",\"smarter\",\"businessman\",\"seated\",\"preferred_pronoun\",\"critic\",\"apologist\",\"quack\",\"hyperemesis\",\"unintended\",\"burial\",\"spontaneously\",\"jeans\",\"godmother\",\"oversensitive\",\"inspector\",\"stanford\",\"gran\",\"cbd\",\"r_iamverysmart\",\"scammed\",\"frightened\",\"mortality_rate\",\"mis\",\"physiological\",\"ftfy\",\"overeat\",\"photo_album\",\"madness\",\"rationality\",\"barn\",\"baffling\",\"beg_forgiveness\",\"scrapbook\",\"backward\",\"monopolize\",\"stifle\",\"multiply\",\"16-year\",\"glitter\",\"here**|**nah****not\",\"mma\",\"inferiority\",\"hollow\",\"sleepy\",\"spooning\",\"pis\",\"blab\",\"npd\",\"los\",\"absurdity\",\"nta.as\",\"maximize\",\"mint\",\"african_american\",\"booking\",\"preventative\",\"photoshop\",\"recreate\",\"200k\",\"metaphorically\",\"3.0\",\"stunning\",\"thai\",\"transform\",\"valentines\",\"constructively\",\"boxing\",\"flip_flop\",\"20-year\",\"reign\",\"ohio\",\"conventional\",\"lotto\",\"squatter\",\"creativity\",\"torn\",\"unapologetic\",\"memorize\",\"plea\",\"undie\",\"shortsighted\",\"obvs\",\"sixth\",\"knows\",\"signify\",\"muh\",\"deplorable\",\"robe\",\"quota\",\"to\",\"mono\",\"diagnosed\",\"exs\",\"30th\",\"authentic\",\"overpriced\",\"autonomous\",\"digress\",\"caricature\",\"1:1\",\"subtract\",\"redo\",\"holder\",\"fulltime\",\"sprint\",\"intuition\",\"irritable\",\"strangle\",\"italians\",\"ntaso\",\"judging\",\"tarnish\",\"enforceable\",\"single_handedly\",\"fog\",\"pms\",\"nta.that\",\"insomnia\",\"posture\",\"wasn't\",\"affiliation\",\"ring_doorbell\",\"purposeful\",\"inclination\",\"uphill\",\"gp\",\"arbitrarily\",\"dual\",\"nonexistent\",\"catastrophic\",\"ketchup\",\"slipper\",\"steep\",\"arthritis\",\"ron\",\"flaccid\",\"moving\",\"amber\",\"tasteless\",\"societal_norm\",\"matching\",\"minuscule\",\"hungover\",\"profitable\",\"arbiter\",\"biscuit\",\"precede\",\"euphemism\",\"firework\",\"biting\",\"systemic\",\"\\ud83c\\udffc\",\"od\",\"de_facto\",\"adam\",\"intimidation\",\"panel\",\"\\ud83d\\ude2c\",\"undergraduate\",\"iota\",\"civic\",\"duress\",\"fedora\",\"seep\",\"apple_orange\",\"\\u201dthat\",\"deathly\",\"innocent_bystander\",\"momentary\",\"pathological\",\"way-\",\"buffet\",\"isolated_incident\",\"recoup\",\"plethora\",\"goalpost\",\"inaction\",\"googling\",\"overt\",\"nigerian\",\"parental_alienation\",\"\\ud83d\\ude09\",\"pimp\",\"charade\",\"comforting\",\"ohhhh\",\"rollercoaster\",\"judgey\",\"sliver\",\"roofie\",\"whiney\",\"pint\",\"poem\",\"simplistic\",\"ww2\",\"copper_iud\",\"eyesight\",\"wishy_washy\",\"gynecologist\",\"slew\",\"nta.and\",\"infowhy\",\"seeking\",\"microphone\",\"idolize\",\"licence\",\"fondly\",\"starvation\",\"gist\",\"proactively\",\"canoe\",\"unicef\",\"20,000\",\"avail\",\"suspiciously\",\"speeding\",\"sara\",\"justno\",\"expend\",\"disallow\",\"\\u201dit\",\"modesty\",\"brexit\",\"impairment\",\"reside\",\"messaging\",\"vegetarianism\",\"politics\",\"aggressor\",\"blond\",\"divert\",\"sponge\",\"lulu\",\"ultra_conservative\",\"almond_milk\",\"scandalous\",\"15-year\",\"jumping\",\"footstep\",\"wacky\",\"bicycle\",\"fluff\",\"palm\",\"deductible\",\"\\ud83e\\udd37_\\ud83c\\udffb\\u200d\",\"trans-\",\"discern\",\"coincide\",\"4x\",\"rupture\",\"usb\",\"appoint\",\"rationalization\",\"merchandise\",\"clutter\",\"hoarding\",\"overload\",\"await\",\"farmer\",\"fess\",\"repugnant\",\"islamic\",\"rigorous\",\"coz\",\"sweatpant\",\"detergent\",\"recycle\",\"provision\",\"dyslexic\",\"perpetually\",\"brock\",\"woodwork\",\"aforementioned\",\"almanac\",\"amendment\",\"joey\",\"colorado\",\"craze\",\"defenseless\",\"advocacy\",\"tolerable\",\"radically\",\"muscular\",\"negge\",\"verbalize\",\"cooker\",\"stale\",\"don\",\"dependence\",\"cheeky\",\"cheapskate\",\"gutte\",\"leer\",\"confidentiality\",\"outer\",\"genre\",\"bouquet\",\"shriek\",\"flaky\",\"fairytale\",\"interrogate\",\"obama\",\"ingrown\",\"exec\",\"bliss\",\"smth\",\"faq\",\"abnormality\",\"yta.first\",\"t.\",\"ballistic\",\"wreak_havoc\",\"virtue_signal\",\"puff\",\"mothers\",\"adjusted\",\"iata\",\"tryna\",\"contingent\",\"relentless\",\"scatter\",\"trusted\",\"severance\",\"quid\",\"bummed\",\"doorknob\",\"memorabilia\",\"knee_jerk\",\"robyn_f.\",\"cinderella\",\"ntadon't\",\"obnoxiously\",\"2,000\",\"vacuum_cleaner\",\"conditioning\",\"inhibition\",\"iced\",\"misbehaving\",\"selling\",\"burnout\",\"manually\",\"coordinator\",\"throne\",\"deter\",\"reminisce\",\"cancellation\",\"easter_egg_hunt\",\"longtime\",\"star_wars\",\"deduct\",\"buzzword\",\"5'10\",\"mutation\",\"panicked\",\"overdue\",\"farting\",\"tunnel\",\"unusually\",\"ahold\",\"recoil\",\"statue\",\"ntafirst\",\"disrespectfully\",\"nah.it\",\"robert\",\"pam\",\"pragmatic\",\"tshirt\",\"band_aid\",\"flavour\",\"blood_clot\",\"renee\",\"opener\",\"bobby\",\"functionally\",\"mailbox\",\"magnet\",\"checkup\",\"contingency\",\"contrary_popular\",\"fracture\",\"disagreeing\",\"glaring\",\"bulb\",\"bogus\",\"dishearten\",\"leniency\",\"bid\",\"snotty\",\"snot\",\"nightly\",\"outset\",\"invoice\",\"booster\",\"traumatise\",\"6-year\",\"pine\",\"formal_attire\",\"thay\",\"thrilled\",\"descend\",\"insufficient\",\"painless\",\"cringeworthy\",\"dc\",\"inpatient\",\"dismissal\",\"disloyal\",\"inspection\",\"sterilization\",\"waking\",\"ow\",\"lure\",\"moderately\",\"rookie\",\"habitual\",\"surefire\",\"og\",\"8th\",\"i\\u2018m\",\"bonnie\",\"share&utm_medium\",\"owl\",\"supper\",\"fh\",\"smartass\",\"pretense\",\"rick\",\"nutshell\",\"lookout\",\"claire\",\"pendant\",\"scotland\",\"soil\",\"pitchfork\",\"exclusionary\",\"harmony\",\"rom_com\",\"disapproval\",\"sac\",\"gymnast\",\"sparkle\",\"excruciating\",\"trusting\",\"clone\",\"squad\",\"prolly\",\"nta.my\",\"humble_brag\",\"stereotypically\",\"muzzle\",\"ingrain\",\"arizona\",\"optic\",\"tighten\",\"tl_dr\",\"breeze\",\"refugee\",\"refusing\",\"illegitimate\",\"filing\",\"welcoming\",\"mismatch\",\"caucasian\",\"transgenderism\",\"complexion\",\"daytime\",\"goth\",\"empowerment\",\"warranty\",\"icing\",\"beware\",\"gossipy\",\"indigenous\",\"70/30\",\"broom\",\"stunted\",\"diving\",\"staggering\",\"icy\",\"recount\",\"3yo\",\"expected\",\"youtuber\",\"misbehavior\",\"declaration\",\"vibration\",\"transpire\",\"thinly\",\"sterile\",\"butch\",\"f*ck\",\"eshthe\",\"plop\",\"april_fools\",\"belittling\",\"bi_erasure\",\"investigator\",\"plow\",\"o.o\",\"xenophobic\",\"totesmessenger\",\"paying\",\"traction\",\"flashy\",\"pea\",\"whining\",\"stoke\",\"disintereste\",\"irreversible\",\"victim_blaming\",\"p.s\",\"ime\",\"eshit\",\"incoming\",\"scratching\",\"humorous\",\"depending\",\"snide_remark\",\"aye\",\"dietician\",\"alas\",\"compliant\",\"fragile_masculinity\",\"baked\",\"irreplaceable\",\"ymmv\",\"swedish\",\"pt\",\"infowhat\",\"shag\",\"uncomfortably\",\"objectifying\",\"stomping\",\"ntaalso\",\"replicate\",\"heartedly\",\"waddle\",\"gourmet\",\"solace\",\"diagnostic\",\"depict\",\"insertion\",\"saggy\",\"mixture\",\"swinge\",\"testicular\",\"olive_branch\",\"stag\",\"despair\",\"18-year\",\"druggie\",\"tubal_ligation\",\"stereo\",\"trader\",\"maniac\",\"catholics\",\"hg\",\"pricing\",\"incidentally\",\"utero\",\"park_ranger\",\"ntatell\",\"alzheimer\",\"omission\",\"jest\",\"b12\",\"cosign\",\"nightclub\",\"dicke\",\"hierarchy\",\"plz\",\"reliably\",\"stealthing\",\"sunny\",\"wrapping\",\"jewellery\",\"mercedes\",\"tentatively\",\"affected\",\"60/40\",\"deficient\",\"projecting\",\"uppity\",\"mellow\",\"unbalanced\",\"seventeen\",\"teamwork\",\"neo_nazi\",\"accuracy\",\"bawl\",\"tonne\",\"justifie\",\"cheste\",\"nick\",\"huff\",\"\\ud83e\\udd37_\\ud83c\\udffc\\u200d_\\u2640_\\ufe0f\",\"categorize\",\"replaceable\",\"trading\",\"y.\",\"anon\",\"teller\",\"descent\",\"carelessness\",\"longterm\",\"jazz\",\"pb&j\",\"ytaedit\",\"abc\",\"syllabus\",\"developer\",\"extenuate_circumstance\",\"constraint\",\"stabilize\",\"marginalized\",\"flunk\",\"op-\",\"speedo\",\"13k\",\"apnea\",\"dogs\",\"stimulus\",\"w_e\",\"naming\",\"grapple\",\"tupperware\",\"cookware\",\"anecdotal_evidence\",\"vinegar\",\"cleavage\",\"clump\",\"opioid\",\"imaginable\",\"vivid\",\"6yo\",\"mixer\",\"it.&#x200b\",\"authorize\",\"uniquely\",\"downtown\",\"spotify\",\"fortnight\",\"bunk\",\"sternly\",\"swat\",\"instigator\",\"sol\",\"tobacco\",\"outrageously\",\"indifference\",\"jolly\",\"cheerleader\",\"deadbedroom\",\"compe\",\"confederacy\",\"champion\",\"nta.also\",\"misspell\",\"smoothie\",\"impediment\",\"inanimate\",\"/r_niceguys\",\"column\",\"justice_boner\",\"restraining\",\"nonchalant\",\"valley\",\"wail\",\"skimpy\",\"artificially\",\"aspiration\",\"scientology\",\"radius\",\"samaritan\",\"headlight\",\"kettle\",\"tabletop\",\"chap\",\"9/10\",\"tedious\",\"gif\",\"eshyou're\",\"dirtbag\",\"asymptomatic\",\"relent\",\"restart\",\"architect\",\"epiphany\",\"flak\",\"medicaid\",\"susan\",\"willpower\",\"protip\",\"ntahonestly\",\"fianc\\u00e9s\",\"coercive\",\"cardio\",\"revel\",\"5yo\",\"disengage\",\"adventurous\",\"wagon\",\"centric\",\"irritating\",\"enhance\",\"bone_marrow\",\"spamme\",\"dildos\",\"pushback\",\"wal_mart\",\"favorable\",\"institute\",\"encompass\",\"dissuade\",\"squirt\",\"skank\",\"teethe\",\"reactionary\",\"mustard\",\"infest\",\"terminally_ill\",\"overflow\",\"wannabe\",\"slaughter\",\"idealistic\",\"lynch\",\"speechless\",\"emojis\",\"salmon\",\"millionaire\",\"amirite\",\"papa\",\"pissing\",\"doe\",\"punching\",\"insidious\",\"tribute\",\"whoring\",\"mash_potato\",\"abduct\",\"tasteful\",\"misconduct\",\"misandrist\",\"synonymous\",\"reusable\",\"eww\",\"overtake\",\"donald\",\"ripe\",\"ntajust\",\"sexualise\",\"undercut\",\"sender\",\"franklin\",\"blender\",\"tangent\",\"ltr\",\"persecute\",\"skeeve\",\"jerky\",\"lowly\",\"meatless\",\"correctness\",\"3-year\",\"kim\",\"interchangeable\",\"throwing\",\"glow\",\"practicality\",\"dissent\",\"uncover\",\"crock\",\"deer\",\"13yo\",\"cemetery\",\"tipper\",\"blouse\",\"backpedal\",\"biker\",\"ytaas\",\"barbecue\",\"broth\",\"walker\",\"meow\",\"stonewall\",\"rp\",\"copyright\",\"hone\",\"demonstrably\",\"stated\",\"lpt\",\"clearance\",\"culprit\",\"y.o\",\"peasant\",\"imperfect\",\"unleashed\",\"wellness\",\"impulsively\",\"hardware\",\"darling\",\"sideways\",\"shpthis\",\"transgendere\",\"finalize\",\"jason\",\"extract\",\"patently\",\"acquiesce\",\"becky\",\"snort\",\"gps\",\"gi\",\"provocation\",\"climbing\",\"chiropractor\",\"crown\",\"nightstand\",\"lice\",\"delicately\",\"latte\",\"impractical\",\"ntaop\",\"fbi\",\"chooser\",\"overpay\",\"husky\",\"persecution\",\"4-year\",\"sporting\",\"mario\",\"workday\",\"dtmfa\",\"slime\",\"snoring\",\"newspaper\",\"researcher\",\"raffle\",\"ytai'm\",\"wierd\",\"foist\",\"zealot\",\"magnify\",\"typing\",\"injection\",\"heir\",\"convos\",\"savvy\",\"ranger\",\"wakeup\",\"kingdom\",\"baptism\",\"simmer\",\"tilt\",\"aide\",\"metaphorical\",\"inadequacy\",\"freelance\",\"capitalist\",\"garnish\",\"plagiarism\",\"kid(s\",\"tiger\",\"crusty\",\"keepsake\",\"volition\",\"socioeconomic\",\"facial_expression\",\"sociopathy\",\"physics\",\"definately\",\"cd\",\"expiration\",\"prematurely\",\"finished\",\"miraculously\",\"sandy\",\"pinpoint\",\"mein\",\"goodnight\",\"urn\",\"martin\",\"ontario\",\"falsely\",\"anchor\",\"reopen\",\"unrequited\",\"granted\",\"consequently\",\"panty\",\"clubbing\",\"disgrace\",\"anthony\",\"frighten\",\"comedic\",\"drs\",\"animate\",\"prudent\",\"chow\",\"denmark\",\"franchise\",\"endangerment\",\"conventionally\",\"bla\",\"vid\",\"boundrie\",\"fuckery\",\"o-\",\"darkness\",\"inhibit\",\"biohazard\",\"redemption\",\"hippie\",\"badwomensanatomy\",\"communicator\",\"\\u200d_\\u2640_\\ufe0f\",\"tract\",\"redhead\",\"outback\",\"fleeting\",\"aged\",\"pok\\u00e9mon\",\"adults\",\"hbo\",\"squander\",\"balk\",\"beneficiary\",\"windshield\",\"tah\",\"\\ud83e\\udd23_\\ud83e\\udd23\",\"tidbit\",\"la_jolla\",\"balding\",\"timeout\",\"crochet\",\"playoff\",\"th\",\"infinity\",\"dispense\",\"goose\",\"timid\",\"snail\",\"anecdotally\",\"salvageable\",\"fgm\",\"avert\",\"hairbrush\",\"handshake\",\"angsty\",\"snag\",\"ramp\",\"puddle\",\"unblock\",\"puppet\",\"icu\",\"avid\",\"x1000\",\"momentarily\",\"baptist\",\"developed\",\"feat\",\"^^|\",\"indebted\",\"weaken\",\"shithole\",\"cattle\",\"\\ud83d\\ude06\",\"lactation_consultant\",\"creepiness\",\"tardiness\",\"bsa\",\"pension\",\"veterinarian\",\"flabbergast\",\"begrudgingly\",\"grenade\",\"you?if\",\"decorum\",\"rodent\",\"righteousness\",\"neo\",\"adversity\",\"gutter\",\"rebuff\",\"cursing\",\"hannah\",\"septum\",\"provocative\",\"seinfeld\",\"8:30\",\"summarize\",\"paleo\",\"industrial\",\"cv\",\"conjunction\",\"slighted\",\"stigmatize\",\"wanker\",\"unimaginable\",\"julia\",\"yta.>i\",\"you'd\",\"wand\",\"lense\",\"breaker\",\"hospice\",\"beginner\",\"accordance\",\"vacate\",\"malpractice\",\"astonishing\",\"adulte\",\"stark\",\"gratuity\",\"explanatory\",\"yta1\",\"lets\",\"recap\",\"impactful\",\"nit\",\"bridal\",\"sah\",\"devoid\",\"electrical\",\"thug\",\"eyeball\",\"imminent\",\"offload\",\"qualifier\",\"things:1\",\"yada_yada\",\"exploitative\",\"hahahahaha\",\"handwriting\",\"nz\",\"pineapple\",\"mutilate\",\"tomboy\",\"steakhouse\",\"endearment\",\"unproductive\",\"normalcy\",\"losing\",\"plausible_deniability\",\"buddhist\",\"unfairness\",\"you\\u2019ve\",\"casket\",\"demeanor\",\"lactose_intolerance\",\"alleged\",\"hee\",\"evade\",\"\\ud83c\\udfc5\",\"advertisement\",\"arab\",\"dichotomy\",\"veterinary\",\"overshare\",\"infohow\",\"calculated\",\"hellish\",\"weep\",\"pitiful\",\"oscar\",\"ascribe\",\"energetic\",\"hawaiian\",\"galaxy\",\"plumber\",\"wooden\",\"hereditary\",\"mechanical\",\"booth\",\"belive\",\"mansplain\",\"remodel\",\"trough\",\"dimension\",\"descendant\",\"npc\",\"inconsistency\",\"burp\",\"terry\",\"academia\",\"honking\",\"brewery\",\"wool\",\"sahd\",\"molehill\",\"prerequisite\",\"enroll\",\"telephone\",\"obsessively\",\"ntano\",\"presentable\",\"toronto\",\"unravel\",\"helplessness\",\"cone\",\"won\\u2019t\",\"os\",\"hectic\",\"\\u2640_\\ufe0f\",\"20th_century\",\"stroll\",\"wrangle\",\"abdicate\",\"mayo\",\"monumentally\",\"injured\",\"accrue\",\"upend\",\"unsecured\",\"avengers\",\"cuddling\",\"e.\",\"francisco\",\"refute\",\"e.g\",\"knight\",\"ntayou\\u2019re\",\"accomodation\",\"photoshoppe\",\"lamp\",\"bolster\",\"gospel\",\"stressor\",\"mocking\",\"lupus\",\"tripping\",\"handgun\",\"thermostat\",\"antivaxxer\",\"vendetta\",\"appt\",\"exasperate\",\"undiagnosed\",\"games\",\"cannon\",\"hangry\",\"comprise\",\"sanctuary\",\"leaf\",\"13-year\",\"brian\",\"ikea\",\"overdo\",\"sa\",\"they\\u2019re\",\"genderfluid\",\"chatty\",\"personalize\",\"5x\",\"peter\",\"vase\",\"astonish\",\"shutdown\",\"biodad\",\"nvm\",\"5-year\",\"licensing\",\"hiccup\",\"cockroach\",\"preview\",\"gummy\",\"x200b;this\",\"feast\",\"regrettable\",\"trickle\",\"ribbing\",\"dietitian\",\"didnt\",\"fundraising\",\"acute\",\"bugger\",\"flamboyant\",\"authoritarian\",\"that's\",\"revise\",\"equipped\",\"trampoline\",\"tween\",\"renegotiate\",\"bluetooth\",\"tdap\",\"homeboy\",\"pronounced\",\"graffiti\",\"uncaring\",\"spiel\",\"defensible\",\"erratic\",\"shittiness\",\"themed\",\"passcode\",\"crow\",\"scandal\",\"changed\",\"infodid\",\"flatly\",\"darvo\",\"scientifically\",\"diagram\",\"\\\"edit\",\"theoretical\",\"punishable\",\"ewww\",\"toaster\",\"complacent\",\"esh.i\",\"framework\",\"iraq\",\"recognizable\",\"wifey\",\"barbaric\",\"thoughtfulness\",\"promiscuity\",\"signaling\",\"curable\",\"yta.he\",\"culpable\",\"turnoff\",\"defiantly\",\"cramping\",\"jock\",\"eshthis\",\"byproduct\",\"\\u2880\",\"incessantly\",\"elicit\",\"4chan\",\"marginally\",\"3ds\",\"granola\",\"bundy\",\"gabby\",\"shoo\",\"grower\",\"disconnected\",\"abdominal\",\"misjudge\",\"pigeon\",\"nicety\",\"stubbornness\",\"ebay\",\"abs\",\"rig\",\"dosent\",\"grit\",\"blowup\",\"heath\",\"straws\",\"cruelly\",\"discrete\",\"booby\",\"transit\",\"gaze\",\"hysterically\",\"nei\",\"astounded\",\"consultant\",\"pervy\",\"palate\",\"reccomend\",\"payroll\",\"mishandle\",\"cray\",\"exceedingly\",\"jr\",\"unlearn\",\"tightly\",\"\\ud83d\\udcaf\",\"subtext\",\"asshole-\",\"peruse\",\"convoluted\",\"mythology\",\"thst\",\"unmotivated\",\"deterrent\",\"\\\"your\",\"vampire\",\"weary\",\"colic\",\"rulebook](https://www.reddit.com\",\"ti\",\"mantra\",\"mysteriously\",\"commentator\",\"elf\",\"europeans\",\"mon\",\"pg\",\"dealing\",\"pansexual\",\"allege\",\"gyn\",\"albert\",\"we're\",\"pornstar\",\"greyhound\",\"economically\",\"hsv\",\"rec\",\"harry\",\"objectionable\",\"evasion\",\"alexa\",\"actionable\",\"foam\",\"thr\",\"cantonese\",\"heckle\",\"portrayal\",\"brow\",\"dehydrate\",\"richard\",\"spat\",\"irrespective\",\"nibble\",\"introverted\",\"untill\",\"rhyme\",\"confiscate\",\"fickle\",\"ytawhen\",\"incriminate\",\"extrovert\",\"roach\",\"woo\",\"madden\",\"muddy\",\"bollock\",\"reasons:1\",\"distaste\",\"broadly\",\"dale\",\"yta.also\",\"^this\",\"intuitive\",\"flyer\",\"hush\",\"twilight\",\"nastiness\",\"ntahow\",\"impart\",\"recruiter\",\"wouldn\\u2019t\",\"lettuce\",\"beam\",\"comical\",\"steroid\",\"unthinkable\",\"dieting\",\"headspace\",\"manufacturer\",\"mortality\",\"worldly\",\"counterpart\",\"analogous\",\"fuckboy\",\"pleasing\",\"orthodox\",\"candid\",\"goddam\",\"custodian\",\"torch\",\"stunned\",\"accomplished\",\"wizard\",\"null\",\"forewarn\",\"measly\",\"unsustainable\",\"paradox\",\"systematically\",\"25th\",\"spree\",\"undertake\",\"unto\",\"windfall\",\"x200b;she\",\"wonderfully\",\"emotionless\",\"wut\",\"firstborn\",\"individuality\",\"coming\",\"atrocity\",\"\\u2640\",\"fluster\",\"eggshell\",\"sedentary\",\"aunty\",\"hygienic\",\"ruse\",\"thou\",\"sci\",\"wrath\",\"nutty\",\"boohoo\",\"grumble\",\"hijab\",\"upstage\",\"administrative\",\"wendy\",\"propagate\",\"collision\",\"accessibility\",\"ntai\\u2019m\",\"retrieve\",\"playdate\",\"fostering\",\"renovate\",\"rationalise\",\"dissatisfaction\",\"overstate\",\"bedding\",\"sail\",\"defensively\",\"\\\"op\",\"utmost\",\"granddad\",\"registration\",\"vietnamese\",\"horrendously\",\"uncontrollably\",\"dinosaur\",\"barf\",\"valor\",\"woefully\",\"deprecate\",\"rut\",\"playlist\",\"denny\",\"craziness\",\"rhythm\",\"cvs\",\"latent\",\"pope\",\"manslaughter\",\"mumble\",\"estonian\",\"distracted\",\"euro\",\"17-year\",\"fluctuate\",\"mastectomy\",\"rod\",\"contextual\",\"amnio\",\"polo\",\"humanly\",\"seldom\",\"lightbulb\",\"conscientious\",\"forethought\",\"untouchable\",\"fuckton\",\"possessiveness\",\"9/11\",\"cdc\",\"worldwide\",\"immerse\",\"censorship\",\"unofficial\",\"skiing\",\"misgendering\",\"conceivable\",\"backhand\",\"pepperoni\",\"junkie\",\"terrier\",\"delve\",\"massacre\",\"depiction\",\"arabic\",\"offhand\",\"linguistic\",\"extraordinary\",\"yeh\",\"sermon\",\"5'8\",\"nighttime\",\"missionary\",\"sync\",\"norway\",\"bilingual\",\"shopper\",\"nibling\",\"lockdown\",\"overreacting\",\"srsly\",\"nutritious\",\"identifie\",\"citation\",\"crohn\",\"wrestler\",\"communicating\",\"underaged\",\"endear\",\"wield\",\"rights\",\"pamphlet\",\"ovulation\",\"barefoot\",\"ordinarily\",\"cheapen\",\"unprompted\",\"tiring\",\"redpill\",\"isn\\u2019t\",\"ruthless\",\"dismantle\",\"casualty\",\"deduce\",\"scorn\",\"cathartic\",\"ambiguity\",\"intestine\",\"rabid\",\"canal\",\"implying\",\"organically\",\"stun\",\"tracer\",\"voted\",\"compose?to=/r\",\"observant\",\"honda\",\"breastfee\",\"mm\",\"appletarian\",\"raccoon\",\"https://www.ncbi.nlm.nih.gov\",\"shoplifting\",\"refresh\",\"altered\",\"clinically\",\"crackhead\",\"fascism\",\"cubicle\",\"info**|**info**#[click\",\"thee\",\"violin\",\"washington\",\"index)#[click\",\"communist\",\"astound\",\"emerge\",\"\\ud83d\\ude43\",\"faq)*i\",\"barrage\",\"carton\",\"switching\",\"megan\",\"warehouse\",\"anthem\",\"deviation\",\"\\u201dyou\",\"surf\",\"dosage\",\"anesthesia\",\"hitch\",\"perpetrate\",\"jill\",\"ntaat\",\"vocally\",\"remarkable\",\"esque\",\"proportionate\",\"sorority\",\"ab\",\"nominate\",\"broaden\",\"definitly\",\"afterall\",\"snooze\",\"fa\",\"notwithstanding\",\"dissect\",\"bootstrap\",\"\\u2642_\\ufe0f\",\"appropriateness\",\"brink\",\"goofy\",\"confederate\",\"diligent\",\"ytaare\",\"panther\",\"kylee\",\"snicker\",\"assaulter\",\"voter\",\"reuse\",\"generator\",\"conducive\",\"doesn\\u2018t\",\"backing\",\"\\u00af\\\\\\\\\\\\_(\\u30c4)_/\\u00af\",\"lauren\",\"patent\",\"tenure\",\"hon\",\"nonconsensual\",\"infatuation\",\"esh.she\",\"festivity\",\"crummy\",\"neice\",\"palatable\",\"covert\",\"impersonate\",\"ultron\",\"sasha\",\"st.\",\"life-\",\"wad\",\"neediness\",\"jasmine\",\"fi\",\"quityourbullshit\",\"creek\",\"etsy\",\"fertilize\",\"distrustful\",\"dunk\",\"cardboard\",\"einstein\",\"paramedic\",\"cisgender\",\"loaf\",\"sticking\",\"contractual\",\"persue\",\"\\u0361\",\"carwash\",\"damnit\",\"ideation\",\"manipulating\",\"enforcement\",\"disc\",\"ribbon\",\"required\",\"here.](https://redd.it/9zgc4m)*i\",\"misdirect\",\"huntsman\",\"kinder\",\"bossy\",\"you\\u2018re\",\"drone\",\"stealthe\",\"holding\",\"yta.1\",\"province\",\"immigrate\",\"5'4\",\"sinful\",\"infodo\",\"nutter\",\"orphanage\",\"pb\",\"gentrification\",\"fanatic\",\"4.5\",\"agitate\",\"menace\",\"maneuver\",\"succinct\",\"variant\",\"reposte\",\"displace\",\"magnanimous\",\"\\u2809\",\"stipend\",\"trashcan\",\"teeter\",\"objectification\",\"contradiction\",\"fixation\",\"vip\",\"50,000\",\"reversed\",\"lactate\",\"loveless\",\"committee\",\"aquarium\",\"unsurprisingly\",\"defraud\",\"checker\",\"postnatal\",\"micropeen\",\"homicide\",\"viewer\",\"legroom\",\"decree\",\"abrupt\",\"omelette\",\"fuckwit\",\"tearing\",\"downs\",\"smarten\",\"sb\",\"^/\",\"logistical\",\"deviant\",\"perpetual\",\"drunkenness\",\"na\\u00efve\",\"database\",\"putting\",\"recital\",\"oatmeal\",\"grandmas\",\"5\\u20198\",\"varied\",\"gland\",\"5'5\",\"wanting\",\"fodder\",\"onboard\",\"\\ud83c\\uddf9\",\"hasty\",\"distracting\",\"tos\",\"fav\",\"recklessly\",\"specification\",\"castration\",\"\\ud83c\\udffd\\u200d\",\"whammy\",\"you'll\",\"mindlessly\",\"sucking\",\"doughnut\",\"buffer\",\"harpy\",\"norwegian\",\"responsive\",\"empire\",\"chug\",\"strategic\",\"younger\",\"allot\",\"burning\",\"egregiously\",\"cholesterol\",\"scrutiny\",\"satisfactory\",\"dialect\",\"pariah\",\"layout\",\"epidemic\",\"indiana\",\"georgia\",\"predate\",\"antivax\",\"dumping\",\"johnny\",\"adultery\",\"assigned\",\"unspecified\",\"pox\",\"snapshot\",\"congregation\",\"declawing\",\"mindless\",\"jealously\",\"cackle\",\"alienation\",\"erm\",\"1,500\",\"differing\",\"artifact\",\"infected\",\"browser\",\"enrich\",\"personalfinance\",\"supersede\",\"israel\",\"risque\",\"streaming\",\"limo\",\"loosely\",\"romanticize\",\"ummmm\",\"sensibility\",\"biologist\",\"8k\",\"10-year\",\"ballpark\",\"workable\",\"arsenal\",\"clamp\",\"livable\",\"tangle\",\"pleasantly\",\"notable\",\"annually\",\"sanctity\",\"thankyou\",\"scandinavian\",\"realism\",\"predicate\",\"earphone\",\"spacious\",\"\\ud83c\\udffb\\u200d_\\u2640\",\"menial\",\"recess\",\"ransom\",\"childishly\",\"madonna\",\"biodegradable\",\"delightful\",\"livestock\",\"roger\",\"screams\",\"torpedo\",\"sap\",\"occupation\",\"flags\",\"jumper\",\"cutesy\",\"choosy\",\"hulu\",\"emma\",\"pupper\",\"herring\",\"banshee\",\"southwest\",\"cookbook\",\"foolproof\",\"drank\",\"gateway\",\"overstay\",\"\\ud83d\\ude0e\",\"assimilate\",\"assisted\",\"chastity\",\"unilateral\",\"xxx\",\"babble\",\"mash\",\"invoke\",\"401k\",\"willed\",\"flap\",\"subpar\",\"fiscal\",\"handcuff\",\"\\ud83e\\udd2e\",\"4:30\",\"evolutionary\",\"ecosystem\",\"obliterate\",\"bicker\",\"undertaking\",\"characterization\",\"landing\",\"freakout\",\"hedge\",\"ashley\",\"phil\",\"acquaint\",\"jimmy\",\"mvp\",\"workshop\",\"prolonged\",\"sprain\",\"comprehensive\",\"squirm\",\"fridays\",\"60,000\",\"gta\",\"skeevy\",\"tu\",\"averse\",\"x200b;i'm\",\"immersion\",\"boys\",\"jive\",\"midterm\",\"unhealthily\",\"liken\",\"codependency\",\"organiser\",\"corporal\",\"amniocentesis\",\"eu\",\"jokey\",\"pouty\",\"alphabet\",\"unchecked\",\"verification\",\"supremacy\",\"patronise\",\"danny\",\"subscriber\",\"adopted\",\"\\\"also\",\"incidental\",\"opinionated\",\"miffed\",\"nta1\",\"lubrication\",\"gestate\",\"epidural\",\"yta.but\",\"mantle\",\"souvenir\",\"ytahonestly\",\"instinctual\",\"dimensional\",\"poopy\",\"frantically\",\"conjecture\",\"aba\",\"alllll\",\"eval\",\"contamination\",\"tint\",\"plasma\",\"accidently\",\"unquestionably\",\"fursuit\",\"cucke\",\"circulate\",\"\\\"oh\",\"banker\",\"lament\",\"dickwad\",\"masters\",\"blemish\",\"hyphen\",\"emus\",\"\\\"yeah\",\"pj\",\"goody\",\"tasting\",\"laughably\",\"classless\",\"har\",\"300k\",\"congrats\",\"infoare\",\"outpatient\",\"lewd\",\"discretionary\",\"mosquito\",\"kids-\",\"phenomenal\",\"dame\",\"dock\",\"detachment\",\"handbook\",\"separated\",\"nooo\",\"trainwreck\",\"draconian\",\"periodically\",\"condescendingly\",\"fireplace\",\"litterally\",\"feline\",\"urethra\",\"bamboozle\",\"renewal\",\"nah.if\",\"melon\",\"school-\",\"nta.they\",\"germans\",\"moocher\",\"infamous\",\"cabbage\",\"dcf\",\"unfunny\",\"forego\",\"publication\",\"ytalet\",\"vacay\",\"depo\",\"fortitude\",\"statutory\",\"purr\",\"taxpayer\",\"mishap\",\"defiant\",\"catfishing\",\"attain\",\"edit2\",\"irredeemable\",\"vessel\",\"2yo\",\"earnest\",\"hiss\",\"me-\",\"fatherly\",\"thoughtfully\",\"motto\",\"abduction\",\"pickiness\",\"labradoodle\",\"speakerphone\",\"bailey\",\"parcel\",\"cpr\",\"bert\",\"loon\",\"retriever\",\"marie\",\"thy\",\"icecream\",\"doesnt\",\"discolor\",\"yous\",\"rpg\",\"overhead\",\"obliged\",\"historic\",\"resilient\",\".5\",\"skanky\",\"doctrine\",\"coparente\",\"crosspost\",\"carnivore\",\"caloric\",\"pointer\",\"pdf\",\"\\\"\\\"i\",\"replay\",\"tether\",\"x200b;and\",\"sly\",\"them-\",\"audibly\",\"slumber\",\"imitate\",\"kansas\",\"paid\",\"ovarian\",\"hominem\",\"angela\",\"allowed\",\"notably\",\"prophecy\",\"relatable\",\"assailant\",\"19th\",\"testimony\",\"75,000\",\"coulda\",\"blissfully\",\"\\ud83c\\udfb6\",\"rummage\",\"freaky\",\"coloring\",\"improvise\",\"\\u201dthis\",\"fatphobic\",\"uncivil\",\"las\",\"tons\",\"johnson\",\"nostalgia\",\"rebuttal\",\"amniotic\",\"vintage\",\"destine\",\"12yo\",\"stalkerish\",\"infact\",\"cancelling\",\"evasive\",\"maria\",\"capitulate\",\"audible\",\"influx\",\"undeserve\",\"yknow\",\"time-\",\"solitary\",\"sect\",\"midget\",\"giveaway\",\"it?i\",\"sp\",\"resell\",\"blissful\",\"clot\",\"libtard\",\"stump\",\"abundance\",\"lit\",\"stub\",\"intertwine\",\"yadda_yadda\",\"manicure\",\"intentioned\",\"functionality\",\"psychopathic\",\"civilization\",\"personhood\",\"ehhhh\",\"yta.you\\u2019re\",\"ann\",\"versa\",\"ntai've\",\"bankroll\",\"curate\",\"fountain\",\"all-\",\"enslave\",\"flipping\",\"ms.\",\"arrow\",\"opportunistic\",\"fiscally\",\"unused\",\"fanfiction\",\"roundabout\",\"1950\",\"^^^what\",\"meditation\",\"normalise\",\"disfigure\",\"au\",\"necessitate\",\"doo\",\"arfid\",\"tweak\",\"daydream\",\"incredulous\",\"refundable\",\"demoralize\",\"ream\",\"shes\",\"admiration\",\"suggestive\",\"traveling\",\"^^\",\"imposition\",\"\\\"no\",\"sequence\",\"gown\",\"hes\",\"fret\",\"misstep\",\"improperly\",\"jen\",\"affiliate\",\"domino\",\"inbox\",\"mister\",\"puncture\",\"cube\",\"reword\",\"fragrance\",\"^^^this?](https://pastebin.com\",\"lateness\",\"annoyingly\",\"sulking\",\"carelessly\",\"^^^is\",\"asse\",\"littering\",\"daunt\",\"philippines\",\"systematic\",\"staring\",\"huffy\",\"porno\",\"te\",\"changer\",\"dickbag\",\"democracy\",\"unneeded\",\"5'2\",\"eloquently\",\"douchebaggery\",\"amanda\",\"slate\",\"trp\",\"ginger\",\"commodity\",\"unite\",\"weeb\",\"bookstore\",\"fixated\",\"buuuut\",\"paypal\",\"goldfish\",\"brood\",\"unruly\",\"gung\",\"siren\",\"camper\",\"desktop\",\"i\\u2019ll\",\"barbershop\",\"ostracise\",\"flop\",\"deduction\",\"parents\",\"treater\",\"signalling\",\"regimen\",\"showcase\",\"disturbed\",\"idealize\",\"sector\",\"quarantine\",\"guarentee\",\"mlk\",\"invariably\",\"hooking\",\"condemnation\",\"rotation\",\"stacy\",\"tin\",\"bothersome\",\"virtual\",\"undervalue\",\"inflation\",\"wont\",\"springer\",\"clitoral\",\"startling\",\"uterine\",\"roulette\",\"pleaser\",\"examination\",\"efficiency\",\"contributing\",\"nebulous\",\"uhm\",\"thanksgive\",\"gawk\",\"3.accept\",\"starbuck\",\"unfeeling\",\"itinerary\",\"imprison\",\"17yo\",\"query\",\"m8\",\"5'3\",\"ipod\",\"incestuous\",\"malleable\",\"physique\",\"placard\",\"relish\",\"almighty\",\"perverted\",\"bourbon\",\"civilly\",\"stench\",\"meaningfully\",\"ntahave\",\"emphasise\",\"isnt\",\"blinded\",\"enormously\",\"h.\",\"puerto\",\"2.50\",\"30,000\",\"forced\",\"chivalry\",\"werewolf\",\"nonchalantly\",\"intellect\",\"kpop\",\"recessive\",\"ttc\",\"blip\",\"culinary\",\"covenant\",\"creepily\",\"intrinsic\",\"terrorism\",\"preconceived\",\"coldly\",\"nahhe\",\"chaser\",\"grunt\",\"pharmacist\",\"saturdays\",\"blaze\",\"culminate\",\"up-\",\"ntaedit\",\"ntafuck\",\"ytapeople\",\"packing\",\"ginormous\",\"biking\",\"rolling\",\"downfall\",\"atypical\",\"pita\",\"gl\",\"godparent\",\"exclusivity\",\"percieve\",\"freezing\",\"technician\",\"doorway\",\"egypt\",\"funk\",\"bandage\",\"pediatric\",\"coursework\",\"keg\",\"unsaid\",\"vaping\",\"dopamine\",\"spinal\",\"urgently\",\"railroad\",\"ferret\",\"camo\",\"linen\",\"cleanse\",\"quo\",\"patio\",\"chipotle\",\"preggo\",\"unsuitable\",\"clientele\",\"scented\",\"phony\",\"rampage\",\"culpability\",\"ballgame\",\"abt\",\"erupt\",\"paragon\",\"overcompensate\",\"spectacular\",\"graceful\",\"merch\",\"scarce\",\"puritanical\",\"breastfed\",\"reliance\",\"bombshell\",\"builder\",\"pact\",\"invaluable\",\"anomaly\",\"niceguys\",\"demonstration\",\"crosswalk\",\"malfunction\",\"racing\",\"eyeroll\",\"overdose\",\"siblings\",\"ba\",\"3,000\",\"pothead\",\"\\\"what\",\"14-year\",\"is-\",\"rite\",\"sod\",\"archive\",\"cootie\",\"aha\",\"leaning\",\"bta\",\"overjoyed\",\"jungle\",\"jennifer\",\"proportionally\",\"op.edit\",\"impasse\",\"blowout\",\"kentucky\",\"salute\",\"implode\",\"it.2\",\"sodium\",\"overzealous\",\"forcing\",\"turf\",\"po\",\"shack\",\"gonna\",\"decaf\",\"designation\",\"keyword\",\"joyful\",\"\\ud83c\\udffd\",\"asshole|**yta**|not\",\"sapphire\",\"harrasse\",\"auction\",\"frantic\",\"16yo\",\"sext\",\"nemo\",\"whiff\",\"pi\",\"ihavesex\",\"ytabecause\",\"pneumonia\",\"illiterate\",\"rejoice\",\"tucson\",\"modeling\",\"hotdog\",\"jordan\",\"dunce\",\"defender\",\"clam\",\"edition\",\"sucks|**esh**no\",\"quebec\",\"hole|**nta**everyone\",\"graduating\",\"grim\",\"bouncy\",\"patrick\",\"tacitly\",\"folic\",\"cal\",\"automate\",\"callousness\",\"prepubescent\",\"fkn\",\"binding\",\"--:you're\",\"destitute\",\"cheerleading\",\"quilt\",\"reasons.1\",\"nth\",\"fetishist\",\"you?i\",\"hipster\",\"cody\",\"me\\\"\",\"mannerism\",\"precarious\",\"aspca\",\"shameless\",\"pudgy\",\"composure\",\"egocentric\",\"hairless\",\"mba\",\"rebuke\",\"commonplace\",\"bedridden\",\"ro\",\"fatness\",\"interim\",\"schmuck\",\"sunk\",\"stillborn\",\"compile\",\"pta\",\"restricted\",\"scottish\",\"fudge\",\"blocking\",\"kelly\",\"nother\",\"pe\",\"monetarily\",\"triplet\",\"fluctuation\",\"paternalistic\",\"alteration\",\"thrift\",\"loner\",\"eternally\",\"overprice\",\"here|**nah**shitpost|**shp**|not\",\"practise\",\"foreseeable\",\"latinx\",\"barb\",\"parent(s\",\"dogshit\",\"tiff\",\"newlywed\",\"usable\",\"intricacy\",\"airpod\",\"meatball\",\"reassignment\",\"meanie\",\"apprehensive\",\"regretful\",\"peck\",\"ante\",\"ooooh\",\"chess\",\"rocker\",\"y\\u2019know\",\"loathing\",\"gayness\",\"disastrous\",\"anglo\",\"4k\",\"moissanite\",\"domesticate\",\"captive\",\"tout\",\"skittish\",\"guys\",\"soggy\",\"contestant\",\"guild\",\"surgically\",\"sociology\",\"hut\",\"irate\",\"cuff\",\"stephanie\",\"kipp\",\"safeguard\",\"stead\",\"skyrocket\",\"\\u28f6\",\"munch\",\"bacterial\",\"coincidentally\",\"womanhood\",\"fiasco\",\"hooters\",\"transcript\",\"hoverboard\",\"inept\",\"noose\",\"administer\",\"synagogue\",\"warmth\",\"bizarrely\",\"unisex\",\"info|**info**[read\",\"dawkins\",\"microscope\",\"rapper\",\"smuggle\",\"harasser\",\"trajectory\",\"unconventional\",\"danielle\",\"dictator\",\"cbt\",\"twit\",\"midway\",\"demote\",\"ntadude\",\"pfft\",\"proponent\",\"botch\",\"yta.there\",\"neatly\",\"pimple\",\"snippet\",\"dat\",\"leaky\",\"leftist\",\"entice\",\"probe\",\"armrest\",\"maim\",\"digging\",\"mi\",\"karmic\",\"3am\",\"caveman\",\"cystic\",\"yta.dude\",\"workaholic\",\"thing-\",\"unfulfilled\",\"intensify\",\"negotiable\",\"7:30\",\"shitter\",\"detox\",\"coax\",\"nail_head\",\"appropriation\",\"surplus\",\"~\",\"violated\",\"angrier\",\"ntado\",\"derange\",\"heighten\",\"hp\",\"internalise\",\"diff\",\"pluck\",\"ph\",\"downward\",\"collage\",\"blade\",\"banish\",\"woke\",\"reciprocity\",\"zen\",\"trench\",\"nonprofit\",\"ordering\",\"nta.there\",\"bestfriend\",\"pinky\",\"angeles\",\"shellfish\",\"sweetener\",\"fmla\",\"chihuahua\",\"reduced\",\"redneck\",\"placebo\",\"tiredness\",\"ate\",\"geek\",\"oversee\",\"prescribed\",\"estimation\",\"replica\",\"flail\",\"peculiar\",\"debacle\",\"illustration\",\"erotic\",\"incurable\",\"dumbfound\",\"\\u201dshe\",\"fingerprint\",\"paedophile\",\"insincere\",\"denominator\",\"patriotism\",\"wade\",\"brotherly\",\"walnut\",\"consecutive\",\"misgiving\",\"insofar\",\"nauseate\",\"ding_ding\",\"payoff\",\"netherlands\",\"silk\",\"pollution\",\"outsource\",\"dungeon\",\"yer\",\"scott\",\"\\u270c\",\"masterpiece\",\"chit\",\"unrepentant\",\"plight\",\"unanimously\",\"mammal\",\"scanner\",\"nullify\",\"prudish\",\"forthright\",\"devour\",\"predispose\",\"wah\",\"neon\",\"you?you\",\"morph\",\"\\ud83d\\udc95\",\"antihistamine\",\"\\u201dhe\",\"yta.that\",\"ytathey\",\"resemblance\",\"exorbitant\",\"justnofamily\",\"sunlight\",\"cowardice\",\"15yo\",\"dissertation\",\"pumpkin\",\"internationally\",\"stank\",\"not-\",\"applause\",\"assembly\",\"mansion\",\"calculus\",\"sweatshirt\",\"ntas\",\"ii\",\"shitting\",\"lots\",\"blooded\",\"existed\",\"frontal\",\"\\ud83d\\ude14\",\"bueno\",\"child(ren\",\"fetlife\",\"implicate\",\"rival\",\"cheated\",\"ytayou've\",\"whereabouts\",\"yta\\\"i\",\"comic_strip\",\"misrepresentation\",\"meek\",\"squeamish\",\"billing\",\"zack\",\"pillar\",\"x200b;op\",\"fluently\",\"imperial\",\"bong\",\"silicon\",\"nancy\",\"mingle\",\"eyeliner\",\"icon\",\"feely\",\"adderall\",\"fringe\",\"dispenser\",\"subvert\",\"ja\",\"infrequently\",\"otherkin\",\"curvy\",\"inane\",\"trek\",\"flock\",\"oxford\",\"yoghurt\",\"mineral\",\"cna\",\"caliber\",\"yeet\",\"environmentally\",\"lifting\",\"verb\",\"contend\",\"kneejerk\",\"pavement\",\"18th\",\"bm\",\"plummet\",\"meditate\",\"poetic\",\"anchovy\",\"aroused\",\"mutter\",\"manga\",\"conjure\",\"focusse\",\"familiarity\",\"bravery\",\"ik\",\"blossom\",\"fentanyl\",\"fecal\",\"spook\",\"devastated\",\"2-year\",\"recruiting\",\"triumph\",\"truely\",\"treating\",\"ntaher\",\"involuntarily\",\"footprint\",\"upright\",\"parting\",\"shitless\",\"misdeed\",\"investor\",\"varie\",\"aptitude\",\"pertussis\",\"nta---\",\"fury\",\"sf\",\"socializing\",\"do-\",\"too-\",\"perinatal\",\"subsidise\",\"gonewild\",\"x200b;my\",\"apache\",\"grandbabie\",\"transfusion\",\"freind\",\"tragically\",\"j.\",\"yta.i'm\",\"ntawtf\",\"policing\",\"quibble\",\"editor\",\"media\",\"incubate\",\"12-year\",\"x200b;yta\",\"auschwitz\",\"dmv\",\"bluntness\",\"dwarf\",\"x200b;nta\",\"yta.what\",\"5'7\",\"copious\",\"riot\",\"identifiable\",\"scantily\",\"puss\",\"colon\",\"canvas\",\"eradicate\",\"crunchy\",\"diplomacy\",\"distort\",\"underdeveloped\",\"assuredly\",\"sassy\",\"bodybuilder\",\"cryptic\",\"fro\",\"ornament\",\"negging\",\"persistence\",\"lard\",\"reciprocal\",\"het\",\"alternately\",\"\\ud83d\\ude12\",\"org\",\"tetris\",\"kimono\",\"fellowship\",\"staunchly\",\"crust\",\"lawful\",\"crisp\",\"huuuuge\",\"cajun\",\"legaladvice\",\"ufc\",\"banjo\",\"notre\",\"unfollowe\",\"gentlemanly\",\"sm\",\"bertamo\",\"carefree\",\"encouraged\",\"silicone\",\"parks\",\"cbp\",\"manhandle\",\"walter\",\"bullcrap\",\"helium\",\"corrective\",\"25,000\",\"seniority\",\"it'd\",\"translator\",\"managing\",\"diva\",\"brunei\",\"flirtation\",\"haven\",\"though-\",\"litigation\",\"circuit\",\"aggressiveness\",\"excitedly\",\"orchestrate\",\"misandry\",\"platitude\",\"identification\",\"infestation\",\"finder\",\"combined\",\"curtail\",\"aren\\u2019t\",\"supermodel\",\"deescalate\",\"freebie\",\"horrifically\",\"z.\",\"furth\",\"bralette\",\"damsel\",\"crybaby\",\"softly\",\"outlaw\",\"bub\",\"ideological\",\"\\u280b\",\"spurt\",\"likeable\",\"fixing\",\"harms\",\"houseguest\",\"eaten\",\"preschooler\",\"handbag\",\"publicize\",\"kindest\",\"cp\",\"vacuuming\",\"residue\",\"grandbaby\",\"elective\",\"geographic\",\"anemic\",\"ak-47\",\"\\u201dif\",\"tb\",\"forwards\",\"pooch\",\"buttercup\",\"mb\",\"tokyo\",\"sheriff\",\"refrie\",\"chilli\",\"manifestation\",\"thathappene\",\"bp\",\"gravidarum\",\"retake\",\"colostomy\",\"ipa\",\"godsend\",\"reg\",\"blindfold\",\"freshener\",\"ytayes\",\"brazilian\",\"regime\",\"pewdiepie\",\"x200b;but\",\"phallic\",\"flipside\",\"lede\",\"cycling\",\"wii\",\"sq\",\"oot\",\"pressing\",\"peril\",\"\\u2801\",\"respiratory\",\"nigeria\",\"stamina\",\"gestation\",\"nutella\",\"indignation\",\"wavy\",\"malcolm\",\"snark\",\"quip\",\"gargoyle\",\"agonize\",\"seasonal\",\"dizzy\",\"agriculture\",\"blessed\",\"5.5\",\"murky\",\"asmr\",\"sensor\",\"diy\",\"250k\",\"karla\",\"conundrum\",\"ashtray\",\"louis\",\"dander\",\"prestige\",\"brazil\",\"mashed\",\"semitic\",\"historian\",\"nahi'm\",\"legoland\",\"5\\u20194\",\"dane\",\"milder\",\"mispronounce\",\"skipping\",\"\\\"or\",\"maori\",\"cheerlead\",\"sundae\",\"pageant\",\"obscenity\",\"mockingbird\",\"ntain\",\"liza\",\">i\",\"chafe\",\"hmmmm\",\"veiled\",\"showboate\",\"prediction\",\"inward\",\"offline\",\"boi\",\"ulta\",\"ballet\",\"haggle\",\"costumer\",\"mince\",\"b*tch\",\"subhuman\",\"funsie\",\"untenable\",\"retelling\",\"\\\"we\",\"fuse\",\"discretely\",\"stutter\",\"s.\",\"formulate\",\"stool\",\"cuddly\",\"undivided\",\"mower\",\"debit\",\"inflated\",\"unmedicated\",\"peppermint\",\"obstruct\",\"pmdd\",\"dicey\",\"adversely\",\"susie\",\"glucose\",\"empathic\",\"incentivize\",\"bigtime\",\"germanic\",\"moldy\",\"correspondence\",\"negro\",\"standoffish\",\"hulk\",\"hallucination\",\"yta.and\",\"perverse\",\"blackness\",\"right-\",\"spec\",\"wherewithal\",\"her?i\",\"eshif\",\"hardball\",\"goddess\",\"laws\",\"floss\",\"nahthe\",\"ejaculation\",\"pettyrevenge\",\"collectible\",\"maple\",\"fidget\",\"tenet\",\"flinch\",\"riding\",\"upcharge\",\"incessant\",\"decay\",\"ntafor\",\"uninforme\",\"unqualified\",\"predisposition\",\"yu\",\"obliviousness\",\"menstruate\",\"glamorous\",\"pleasantry\",\"pescatarian\",\"idiom\",\"lutely\",\"hobbie\",\"pence\",\"quantify\",\"consensually\",\"carolina\",\"exile\",\"^^^\",\"enrichment\",\"remake\",\"grub\",\"predetermine\",\"athi\",\"checklist\",\"teaspoon\",\"x200b;there\",\"cheerful\",\"communion\",\"africans\",\"leach\",\"choosingbeggars\",\"preplanne\",\"swamp\",\"unwrap\",\"smidge\",\"flushable\",\"9-year\",\"mindedness\",\"manliness\",\"wimp\",\"steward\",\"probate\",\"simpson\",\"shunt\",\"burdensome\",\"rehearse\",\"scowl\",\"charismatic\",\"ywnbta\",\"waaaaaay\",\"canine\",\"orgasme\",\"groin\",\"nta.what\",\"yta.edit\",\"disbelieve\",\"x200b;so\",\"compose?to\",\"pedal\",\"loledit\",\"democratic\",\"apron\",\"accost\",\"asked\",\"150k\",\"ntamaybe\",\"breather\",\"turkish\",\"posh\",\"harden\",\"anaphylactic\",\"insurmountable\",\"spacey\",\"flourish\",\"lifespan\",\"segment\",\"cumming\",\"shorter\",\"bedbug\",\"turnover\",\"unloaded\",\"leading\",\"swelling\",\"dgaf\",\"inebriate\",\"mull\",\"allegiance\",\"fawn\",\"ntaholy\",\"fda\",\"nudist\",\"vp\",\"else-\",\"enraged\",\"vouch\",\"gory\",\"pond\",\"d.\",\"glee\",\"expectant\",\"figurative\",\"dun\",\"immunize\",\"restate\",\"arabia\",\"charter\",\"spectacularly\",\"pap\",\"outlive\",\"herd\",\"grindr\",\"esl\",\"generalise\",\"dilute\",\"nutjob\",\"shifty\",\"insect\",\"nah.you're\",\"ninety\",\"calcium\",\"pod\",\"charlotte\",\"forgetfulness\",\"\\u261d\",\"8/10\",\"sus\",\"yta.just\",\"osha\",\"6k\",\"mf\",\"bask\",\"\\ud83d\\udc46\",\"retrain\",\"unfriendly\",\"n64\",\"scarring\",\"unhinge\",\"groan\",\"symbolism\",\"totem\",\"ytalook\",\"urinary\",\"pronto\",\"bygone\",\"nothingeverhappen\",\"matthew\",\"rooted\",\"cesspool\",\"disgraceful\",\"parentage\",\"exgf\",\"bac\",\"whiner\",\"desist\",\"intro\",\"\\ud83d\\ude00\",\"dreadful\",\"fumble\",\"denounce\",\"foetus\",\"lolol\",\"deformity\",\"hermit\",\"13th\",\"alamo\",\"diver\",\"differential\",\"valedictorian\",\"suv\",\"ick\",\"exemption\",\"okcupid\",\"lunge\",\"ytaher\",\"obedience\",\"utah\",\"symptomatic\",\"monument\",\"introspective\",\"persistently\",\"retell\",\"unasked\",\"vr\",\"mythical\",\"hardass\",\"unfriende\",\"funnel\",\"cancerous\",\"espouse\",\"sublet\",\"shitposter\",\"ans\",\"coarse\",\"lucke\",\"du\",\"stillbirth\",\"updoot\",\"demolish\",\"detain\",\"x2\",\"ridden\",\"subtlety\",\"40,000\",\"catcalling\",\"nta.edit\",\"riddled\",\"duct\",\"rosy\",\"\\\"then\",\"fierce\",\"nurturing\",\"shakespeare\",\"feminazi\",\"departure\",\"decorative\",\"spooky\",\"fingertip\",\"gras\",\"sailor\",\"savings\",\"bloop\",\"manhood\",\"bleep\",\"fiend\",\"confetti\",\"oblivion\",\"startled\",\"plaything\",\"permeate\",\"succumb\",\"\\\"not\",\"anthropology\",\"dennis\",\"fort\",\"esh.he\",\"sexting\",\"emperor\",\"miniscule\",\"restrained\",\"remission\",\"estrangement\",\"composition\",\"malnutrition\",\"librarian\",\"inb4\",\"phantom\",\"bulge\",\"diplomatically\",\"pua\",\"mississippi\",\"that\\u2018s\",\"confronting\",\"staffing\",\"endearing\",\"naivety\",\"zoom\",\"pushup\",\"expenditure\",\"gaslighter\",\"merchant\",\"outspoken\",\"invention\",\"screenshotte\",\"perplex\",\"undress\",\"canadians\",\"k.\",\"catastrophe\",\"broadway\",\"scrawny\",\"blurry\",\"victorian\",\"narcs\",\"mandated\",\"spidey\",\"asf\",\"slash\",\"tot\",\"incidence\",\"animation\",\"yta.why\",\"willy\",\"forefront\",\"evaporate\",\"feasibly\",\"\\u201dthe\",\"uhhhh\",\"migrate\",\"intruder\",\"councilor\",\"nub\",\"causation\",\"vested\",\"here](https://www.reddit.com\",\"intrinsically\",\"swiss\",\"madly\",\"sherlock\",\"iamverysmart\",\"headset\",\"armor\",\"pende\",\"bahamas\",\"ytaunless\",\"abolish\",\"vindication\",\"mugging\",\"dehydration\",\"lunchtime\",\"indenture\",\"rapport\",\"si\",\"monk\",\"idol\",\"predictor\",\"durr\",\"cheerfully\",\"unsuccessful\",\"reflexively\",\"bathing\",\"speciman\",\"hugger\",\"daunting\",\"doorbell\",\"electrician\",\"cumme\",\"ytano\",\"externally\",\"readjust\",\"inference\",\"hyphenation\",\"5'6\",\"pistol\",\"modestly\",\"infoyou\",\"hooter\",\"\\u201dedit\",\"founder\",\"assult\",\"youthful\",\"robotic\",\"irresponsibly\",\"bassinet\",\"airfare\",\"conceptualize\",\"brainstorm\",\".i\",\"helluva\",\"attic\",\"causal\",\"sorted\",\"coddling\",\"stadium\",\"playbook\",\"betterment\",\"noah\",\"mushy\",\"awww\",\"stricken\",\"limbo\",\"classification\",\"dis\",\"befall\",\"resound\",\"giddy\",\"brunette\",\"upbringe\",\"straddle\",\"heteronormative\",\"ding\",\"polished\",\"abso\",\"derek\",\"snuck\",\"molly\",\"reparation\",\"sandbox\",\"browsing\",\"rome\",\"worn\",\"blush\",\"accomplice\",\"ntahowever\",\"funnily\",\"armr\",\"salsa\",\"bedsheet\",\"op.i\",\"fatlogic\",\"implausible\",\"optimally\",\"adoptee\",\"emphatically\",\"\\u2665\",\"underground\",\"ntai'd\",\"constipate\",\"cusp\",\"coil\",\"enclosure\",\"sexualized\",\"heartburn\",\"gotta\",\"gettin\",\"amish\",\"slavic\",\"lily\",\"monologue\",\"degradation\",\"corroborate\",\"clickbaity\",\"saver\",\"zumba\",\"thingy\",\"rainy\",\"sparkly\",\"experimental\",\"cali\",\"itemize\",\"holly\",\"ender\",\"maine\",\"scorpion\",\"did-\",\"slope\",\"foil\",\"forearm\",\"somone\",\"repression\",\"idaho\",\"lighthearte\",\"shorthand\",\"infantile\",\"iphones\",\"judgment**>>this\",\"fucken\",\"happenpic_happenpic_happenpic_happenpic\",\"slippery\",\"applied\",\"shana\",\"aboriginal\",\"wayyyyy\",\"genetics\",\"sizing\",\"silverware\",\"pornographic\",\"bane\",\"bookshelf\",\"onesie\",\"flagrantly\",\"immaterial\",\"mailman\",\"signage\",\"squeaky\",\"catalog\",\"resourceful\",\"mankind\",\"chromosomal\",\"westboro\",\"baggy\",\"situation-\",\"bandwidth\",\"handjob\",\"waver\",\"lacking\",\"audit\",\"flashlight\",\"overbear\",\"conspire\",\"ytain\",\"peen\",\"kiwi\",\"decompose\",\"motivational\",\"primal\",\"skimp\",\"sneakily\",\"it.&#x200b;edit\",\"\\u26a0_\\ufe0f_\\u26a0_\\ufe0f\",\"denominational\",\"retinal\",\"schizophrenic\",\"matt\",\"gander\",\"cozy\",\"sophie\",\"structural\",\"\\u2803\",\"futile\",\"unkempt\",\"note-\",\"wearer\",\"reoccurre\",\"cambridge\",\"prosthetic\",\"unprofessionally\",\"thankless\",\"williams\",\"aaa\",\"mmr\",\"wanted\",\"conquer\",\"unbearably\",\"brandnewsentence\",\"abcde\",\"infectious\",\"decimate\",\"unmitigated\",\"adress\",\"brokerage\",\"fraternal\",\"quasi\",\"legwork\",\"wikitextbot\",\"kool\",\"s.o.\",\"behaving\",\"mascara\",\"misdemeanor\",\"sexualization\",\"frugally\",\"kilt\",\"thump\",\"conquest\",\"unwillingly\",\"sneaker\",\"overture\",\"sturdy\",\"infatuate\",\"denote\",\"hydrated\",\"eerily\",\"bearable\",\"cavity\",\"interrupting\",\"suuuuper\",\"playboy\",\"ringer\",\"pesky\",\"natured\",\"emancipate\",\"bylaw\",\"colony\",\"leukemia\",\"proficient\",\"doodle\",\"pakistan\",\"\\\"well\",\"13,000\",\"aspie\",\"presently\",\"supervised\",\"deflection\",\"seasoning\",\"\\\"yta\",\"vindicated\",\"funky\",\"that.2\",\"payer\",\"subjectively\",\"counting\",\"chord\",\"cigar\",\"wilfully\",\"bead\",\"verbiage\",\"dickhole\",\"ignoring\",\"appraise\",\"unusable\",\"cushy\",\"unpunished\",\"nd\",\"it\\\"\",\"fiery\",\"hurr\",\"wrongfully\",\"ytastop\",\"cooperation\",\"doggie\",\"childbeare\",\"dabble\",\"~~i\",\"confer\",\"placeholder\",\"laundromat\",\"fluke\",\"headscarf\",\"britain\",\"\\u00af\\\\\\\\\\\\_(\\u30c4)\\\\_/\\u00af\",\"royalty\",\"foods\",\"unfathomable\",\"prosecution\",\"womanly\",\"jugular\",\"reductive\",\"again-\",\"legitimacy\",\"interior\",\"profiling\",\"import\",\"shore\",\"8yo\",\"unjust\",\"hurricane\",\"cohabitation\",\"u.s\",\"cologne\",\"fraternity\",\"\\\"her\",\"vector\",\"shitstain\",\"infrastructure\",\"elizabeth\",\"packaging\",\"columbia\",\"adversarial\",\"font\",\"fetched\",\"reliability\",\"arcade\",\"rabie\",\"barter\",\"impoverished\",\"churn\",\"longevity\",\"maryland\",\"thesis\",\"unsuspecting\",\"defective\",\"flawless\",\"scot\",\"pooper\",\"ruckus\",\"nta.1\",\"x200b;your\",\"murderous\",\"ment\",\"dignified\",\"thier\",\"\\ud83d\\ude29\",\"dart\",\"distinctive\",\"choosingbeggar\",\"directive\",\"traumatizing\",\"sprout\",\"23-year\",\"regulated\",\"hahahah\",\"amenable\",\"johns\",\"kfc\",\"phew\",\"scab\",\"locked\",\"microscopic\",\"nta.sounds\",\"coo\",\"confidant\",\"stockholm\",\"absolution\",\"mutt\",\"irrevocably\",\"spermicide\",\"sergeant\",\"promising\",\"unnoticed\",\"oddball\",\"correspond\",\"urologist\",\"restitution\",\"retaliatory\",\":o\",\"howl\",\"buuut\",\"illicit\",\"ooze\",\"monstrous\",\"roi\",\"ungodly\",\"colorful\",\"realisation\",\"volcano\",\"hehe\",\"cardiac\",\"login\",\"6'4\",\"faucet\",\"nigga\",\"repel\",\"haste\",\"vividly\",\"populate\",\"accustom\",\"fledge\",\"blah\",\"unaddressed\",\"saudi\",\"liberate\",\"amok\",\"commemorate\",\"mars\",\"legging\",\"vindicate\",\"orbit\",\"retention\",\"histrionic\",\"tantamount\",\"murderedbywords\",\"approximate\",\"predictably\",\"inquiry\",\"buzzkill\",\"\\u201dand\",\"lecturer\",\"existential\",\"bagger\",\"flannel\",\"spinach\",\"x100\",\"gritty\",\"pointedly\",\"lender\",\"residual\",\"shtick\",\"^exclude\",\"fashionable\",\"celibacy\",\"innately\",\"20th\",\"chant\",\"followup\",\"gouge\",\"raunchy\",\"2am\",\"apprenticeship\",\"underwater\",\"solvable\",\"rang\",\"unplug\",\"f.\",\"schrodinger\",\"trooper\",\"pouting\",\"\\ud83d\\ude4c\",\"trot\",\"frazzle\",\"kneel\",\"furnace\",\"pubic\",\"demisexual\",\"fingernail\",\"opportunist\",\"roastme\",\"classical\",\"loo\",\"eloquent\",\"ott\",\"unforeseen\",\"surpass\",\"subculture\",\"journalism\",\"rehash\",\"smugly\",\"apologising\",\"swab\",\"abrahamic\",\"wince\",\"squishy\",\"rivalry\",\"skating\",\"begone\",\"untrusting\",\"adolf\",\"strait\",\"you\\u2019ll\",\"analyse\",\"alica\",\"pejorative\",\"persevere\",\"llama\",\"banal\",\"divine\",\"shingle\",\"experimentation\",\"shittily\",\"expendable\",\"cowboy\",\"heavens\",\"masterbate\",\"crippled\",\"teddy\",\"inequity\",\"disadvantaged\",\"flaming\",\"yip\",\"pullout\",\"preterm\",\"conserne\",\"tetanus\",\"seminar\",\"impotent\",\"quran\",\"presumptive\",\"douchecanoe\",\"pitty\",\"ged\",\"jeopardise\",\"yta.a\",\"depreciate\",\"collaborate\",\"sooooooo\",\"rambling\",\"wp\",\"1950s\",\"changing\",\"nexplanon\",\"weeknight\",\"peachy\",\"freeloading\",\"minister\",\"staunch\",\"opposing\",\"donkey\",\"uninsured\",\"wayside\",\"monolith\",\"sids\",\"psychopathy\",\"abomination\",\"bereavement\",\"i\\u2018d\",\"hitting\",\"angie\",\"coincidental\",\"approachable\",\"breech\",\"abstinent\",\"\\u201dso\",\"aloof\",\"marshmallow\",\"ewwww\",\"studying\",\"behoove\",\"skeezy\",\"ruffle\",\"16th\",\"constitutional\",\"victimless\",\"epileptic\",\"reestablish\",\"faithfulness\",\"geeze\",\"nun\",\"snipe\",\"prosper\",\"parenthesis\",\"pong\",\"dakota\",\"fasting\",\"lsd\",\"duke\",\"overrate\",\"naha\",\"nuh\",\"filler\",\"blas\\u00e9\",\"skateboard\",\"petrol\",\"chide\",\"hijacking\",\"lob\",\"kissy\",\"kiddy\",\"wat\",\"domineering\",\"mover\",\"childishness\",\"exploitation\",\"forsake\",\"lived\",\"indecent\",\"oopsie\",\"arguable\",\"adviser\",\"shamelessly\",\"doofus\",\"virginia\",\"ahem\",\"dispel\",\"prankster\",\"janice\",\"walkway\",\"indistinguishable\",\"generalisation\",\"iamatotalpieceofshit\",\"sphincter\",\"salesperson\",\"repetition\",\"rust\",\"ip\",\"physiologically\",\"hobo\",\"oc\",\"options:1\",\"tony\",\"mardi\",\"alibi\",\"procure\",\"smiley\",\"75k\",\"roasted\",\"saddening\",\"shortcut\",\"swastikas\",\"finely\",\"amiright\",\"mff\",\"cauliflower\",\"harming\",\"now-\",\"whopping\",\"jarring\",\"transparently\",\"parody\",\"contrarian\",\"downvoted\",\"momentum\",\"17th\",\"ypu\",\"assemble\",\"rl\",\"sonic\",\"sth\",\"toyota\",\"measured\",\"simpsons\",\"camgirl\",\"whitewash\",\"supplier\",\"inhale\",\"machinery\",\"relationships\",\"sleepless\",\"xs\",\"blinder\",\"guessing\",\"raging\",\"refined\",\"brothers\",\"awaken\",\"michelin\",\"getgo\",\"pew\",\"slapping\",\"ytalike\",\"jessie\",\"ratty\",\"superpower\",\"intermittent\",\"objectified\",\"theif\",\"para\",\"tar\",\"ata\",\"carpool\",\"alaska\",\"ntaoh\",\"warfare\",\"esteem\",\"vis\",\"culmination\",\"v.\",\"nsa\",\"edited\",\"ballsy\",\"extravagance\",\"15,000\",\"upbeat\",\"othere\",\"poppy\",\"precursor\",\"consuming\",\"trisomy\",\"asl\",\"sunglass\",\"unwashed\",\"disciplinarian\",\"jnmil\",\"doula\",\"scrooge\",\"isolating\",\"les\",\"upheaval\",\"2.0\",\"scotch\",\"improved\",\"brits\",\"unsexy\",\"airlines\",\"encyclopedia\",\"brazen\",\"populated\",\"damp\",\"pd\",\"\\u285f\",\"comeuppance\",\"landscape\",\"sanitize\",\"^[contact](/message\",\"rehabilitation\",\"median\",\"^\\\\([info](/r\",\"\\u28c4\",\"reddit:-\",\"situate\",\"inexplicably\",\"innapropriate\",\"drape\",\"keyed\",\"stan\",\"insemination\",\"deflate\",\"ref\",\"shin\",\"ntawow\",\"progressively\",\"avoidant\",\"shrew\",\"burglary\",\"withstand\",\"operator\",\"intrusion\",\"foh\",\"\\u00af\\\\_(\\u30c4)_/\\u00af\",\"11th\",\"garment\",\"unfiltered\",\"fragility\",\"yuppie\",\"isla\",\"governor\",\"ups\",\"passionately\",\"bureau\",\"thoughtlessly\",\"fireman\",\"gifted\",\"nta--\",\"permissible\",\"wtaf\",\"pubescent\",\"recite\",\"someome\",\"turning\",\"signing\",\"carol\",\"sphere\",\"preservation\",\"mould\",\"tentative\",\"rediculous\",\"tingle\",\"friend(s\",\"asswipe\",\"clara\",\"\\ud83d\\udc08_\\ud83d\\udc08_\\ud83d\\udc08_\\ud83d\\udc08\",\"messianic\",\"troublemaker\",\"upwards\",\"descriptive\",\"stud\",\"drexel\",\"yth\",\"ve\",\"unlawful\",\"proselytize\",\"soundly\",\"tropical\",\"compartmentalize\",\"proverb\",\"overuse\",\"stunningly\",\"nta.a\",\"nat\",\"continual\",\"sith\",\"mogai\",\"proofread\",\"globe\",\"subservient\",\"11.30\",\"carcass\",\"ping\",\"elaboration\",\"portable\",\"marketable\",\"nba\",\"circumstantial\",\"pupil\",\"lobe\",\"arc\",\"grammatically\",\"crumple\",\"met\",\"transperson\",\"socket\",\"ceremonial\",\"monica\",\"pseudoscience\",\"damper\",\"prosecutor\",\"deservedly\",\"ytadon\\u2019t\",\"mater\",\"ware\",\"yummy\",\"wi\",\"insinuation\",\"migrant\",\"ambivalent\",\"fsm\",\"fave\",\"100s\",\"nonissue\",\"healthier\",\"algebra\",\"peice\",\"mite\",\"excluded\",\"jeeze\",\"expired\",\"stagger\",\"horde\",\"hepatitis\",\"slick\",\"postcard\",\"prognosis\",\"procrastinator\",\"choreographer\",\"stint\",\"mouthwash\",\"viking\",\"drawback\",\"curtesy\",\"aghast\",\"2-\",\"ytawtf\",\"messiness\",\"elevated\",\"accelerate\",\"5'11\",\"initiation\",\"enviroment\",\"marble\",\"addendum\",\"fu\",\"fricken\",\"here:1\",\"sibs\",\"procession\",\"pedicure\",\"thinker\",\"peasy\",\"holler\",\"kay\",\"sag\",\"ntaeven\",\"adage\",\"5'1\",\"tyson\",\"astute\",\"beleive\",\"nta.why\",\"entitledparent\",\"cornerstone\",\"financing\",\"teehee\",\"woth\",\"500k\",\"ytasound\",\"cetera\",\"bitchiness\",\"\\\"my\",\"humongous\",\"damning\",\"pram\",\"unvaccinate\",\"refurbish\",\"eclampsia\",\"coughing\",\"matriarch\",\"succinctly\",\"oink\",\"7/10\",\"tubal\",\"uncooperative\",\"leroy\",\"superman\",\"embarrase\",\"squid\",\"discontinue\",\"gnarly\",\"ooo\",\"\\ud83d\\ude0d\",\"cherokee\",\"controllable\",\"garb\",\"pristine\",\"fri\",\"humanist\",\"pyramid\",\"serena\",\"rosa\",\"odour\",\"brah\",\"mmf\",\"housekeep\",\"corruption\",\"cognitively\",\"hazardous\",\"brighten\",\"abdoman\",\"x200b;as\",\"excruciate\",\"bewilder\",\"godfather\",\"hastily\",\"intoxicated\",\"literary\",\"rover\",\"sounding\",\"ralph\",\"unsupported\",\"wrt\",\"competence\",\"framing\",\"ybta\",\"earmark\",\"ty\",\"bearer\",\"iranian\",\"dissonance\",\"bono\",\"fatass\",\"reexamine\",\"sanction\",\"nta.honestly\",\"justin\",\"smoother\",\"12yr\",\"hay\",\"adresse\",\"chaste\",\"kart\",\"mid-20\",\"geo\",\"chemotherapy\",\"faker\",\"condense\",\"undecided\",\"groove\",\"hydrate\",\"tonya\",\"cohesive\",\"ai\",\"concentrated\",\"don\\u00b4t\",\"nacho\",\"skid\",\"dudley\",\"aura\",\"vacant\",\"200,000\",\"preoccupy\",\"mods\",\"receiving\",\"lawnmower\",\"scouting\",\"\\ud83d\\ude48_\\ud83d\\ude48\",\"snooty\",\"preferential\",\"sketchbook\",\"ntaits\",\"voodoo\",\"antagonist\",\"ytamy\",\"rutgers\",\"kong\",\"interchangeably\",\"androgynous\",\"wifes\",\"wildfire\",\"airpods\",\"fetishise\",\"versed\",\"diligently\",\"mamas\",\"jello\",\"moscow\",\"well-\",\"purport\",\"gma\",\"\\\"as\",\"detest\",\"heathen\",\"because:1\",\"dagger\",\"hottie\",\"marked\",\"unauthorized\",\"aaaaaand\",\"bickering\",\"plushie\",\"commandment\",\"gotten\",\"boutique\",\"legendary\",\"slideshow\",\"esha\",\"reverend\",\"jumpy\",\"photographic\",\"conceited\",\"static\",\"10:30\",\"@op\",\"cul\",\"floppy\",\"criminalize\",\"salami\",\"michelle\",\"cricket\",\"va\",\"purebre\",\"hotness\",\"likes\",\"accuser\",\"stigmatized\",\"missy\",\"stickie\",\"niceness\",\"ntalet\",\"ntawhen\",\"mortal\",\"subsidized\",\"stealth\",\"money-\",\"waxing\",\"cactus\",\"allll\",\"fizzle\",\"shill\",\"mothering\",\"silliness\",\"parish\",\"viscerally\",\"demise\",\"hamilton\",\"wasn\\u2019t\",\"oftentime\",\"executioner\",\"ee\",\"saliva\",\"crosse\",\"pulse\",\"litterbox\",\"noteworthy\",\"surreal\",\"mercury\",\"endow\",\"newcomer\",\"recreation\",\"smelling\",\"risqu\\u00e9\",\"unionize\",\"roadblock\",\"absolutly\",\"repent\",\"irregardless\",\"immunocompromise\",\"pesto\",\"hindus\",\"inactive\",\"burglar\",\"boggling\",\"luxurious\",\"ytaget\",\"moore\",\"segue\",\"tacit\",\"hairstylist\",\"deff\",\"chilling\",\"nitpicky\",\"redflag\",\"thor\",\"remaining\",\"ontop\",\"fap\",\"traumatized\",\"secluded\",\"python\",\"righteously\",\"nazism\",\"you\\\"\",\"intimidating\",\"hearte\",\"corny\",\"iamverybadass\",\"incision\",\"80k\",\"19-year\",\"hostel\",\"shiver\",\"hackle\",\"completion\",\"ytajesus\",\"miserly\",\"syrup\",\"q\",\"roasting\",\"teensy\",\"invites\",\"andrew\",\"ytaeveryone\",\"pricy\",\"manor\",\"prophet\",\"pinche\",\"nahyou\\u2019re\",\"yta.no\",\"sleeveless\",\"repeated\",\"ytayeah\",\"zit\",\"assualt\",\"ems\",\"spirituality\",\"lifer\",\"levy\",\"mulan\",\"perky\",\"lunacy\",\"given\",\"outreach\",\"1mil\",\"extremly\",\"bearded\",\"elegant\",\"beget\",\"infuriating\",\"farth\",\"erectile\",\"ntabee\",\"connive\",\"antifa\",\"divorcee\",\"remembrance\",\"earther\",\"3:>**accept\",\"comparatively\",\"gumption\",\"rogers\",\"literate\",\"hum\",\"barbara\",\"oinking\",\"asylum\",\"pathogen\",\"pivotal\",\"inviting\",\"trustworthiness\",\"choreograph\",\"seattle\",\"coerced\",\"point-\",\"accutane\",\"eighth\",\"1,200\",\"ist\",\"posit\",\"rooftop\",\"pretzel\",\"sammy\",\"skunk\",\"applebee\",\"20ish\",\"suitor\",\"14/15\",\"overreach\",\"invitee\",\"fascinate\",\"x200b;he\",\"ytaholy\",\"personable\",\"fir\",\"thx\",\"jackfruit\",\"sic\",\"microchip\",\"busser\",\"dwelling\",\"saturate\",\"stubbornly\",\"unsubbe\",\"ableism\",\"u.k.\",\"sims\",\"onwards\",\"viciously\",\"resounding\",\"ntawho\",\"13/14\",\"slum\",\"rambunctious\",\"commander\",\"premade\",\"stickler\",\"molestor\",\"grammatical\",\"westerner\",\"20-something\",\"ahhhh\",\"disgruntle\",\"gurl\",\"lurker\",\"exposed\",\"sewer\",\"compute\",\"comically\",\"mitigating\",\"fetishization\",\"copay\",\"unannounce\",\"nta.some\",\"bjs\",\"medic\",\"apocalypse\",\"batter\",\"disturbingly\",\"extraneous\",\"tangentially\",\"autist\",\"adept\",\"facetious\",\"friendliness\",\"4,000\",\"apprehension\",\"colloquially\",\"it.edit\",\"6.50\",\"lentil\",\"unoriginal\",\"out-\",\"thieving\",\"hallucinate\",\"bondage\",\"nah.she\",\"wonky\",\"acutely\",\"hemorrhoid\",\"amputate\",\"esh.the\",\"ended\",\"complimentary\",\"appreciated\",\"instinctive\",\"overrun\",\"weren't\",\"burritos\",\"concious\",\"solicitor\",\"ruder\",\"compromised\",\"fraudulent\",\"relegate\",\"hanger\",\"terrific\",\"benevolent\",\"arthur\",\"polio\",\"juul\",\"qualifie\",\"metropolitan\",\"scrolling\",\"ntawhile\",\"eggplant\",\"assholeishness\",\"portugal\",\"vocation\",\"unwittingly\",\"-and\",\"concoct\",\"binder\",\"needed\",\"bombing\",\"klan\",\"partaking\",\"toenail\",\"billionaire\",\"preacher\",\"6'2\",\"rly\",\"\\ud83d\\ude10\",\"harmlessly\",\"\\ufe0f.\",\"grandstand\",\"mmmm\",\"exhibition\",\"mondays\",\"playmate\",\"decider\",\"shopkeeper\",\"furiously\",\"quitter\",\"nj\",\"defo\",\"oversimplify\",\"\\\"do\",\"coitus\",\"reconstruction\",\"landfill\",\"indulgent\",\"padlock\",\"but-\",\"ex-\",\"sickening\",\"parter\",\"superintendent\",\"wreak\",\"bender\",\"vaxxers\",\"councillor\",\"preemie\",\"recollection\",\"paddle\",\"oftentimes\",\"intermediary\",\"slink\",\"huntington\",\"70k\",\"homer\",\"collectable\",\"\\\"how\",\"erasure\",\"https://www.reddit.com\",\"crossfire\",\"inclusivity\",\"febreeze\",\"abound\",\"obstinate\",\"thicken\",\"downsize\",\"listing\",\"socialist\",\"stave\",\"goofball\",\"jackson\",\"trying\",\"cottage\",\"cornered\",\"embarass\",\"embodiment\",\"somthe\",\"timetable\",\"cub\",\"depressant\",\"tj\",\"privledge\",\"esh.you're\",\"lunchbox\",\"quad\",\"solitude\",\"altar\",\"hunny\",\"1/3rd\",\"robust\",\"huuuge\",\"transcend\",\"beep\",\"abysmal\",\"2h\",\"nta.first\",\"cindy\",\"whinge\",\"\\\"like\",\"surge\",\"tel\",\"taken\",\"petting\",\"headed\",\"brash\",\"rules\",\"reboot\",\"fuckface\",\"transman\",\"swarm\",\"hellion\",\"laze\",\"laborer\",\"eyelash\",\"lime\",\"she'll\",\"shuttle\",\"cohabitate\",\"dearest\",\"scenery\",\"unambiguously\",\"shoehorn\",\"imitation\",\"adulting\",\"infallible\",\"moby\",\"femme\",\"persuasion\",\"ruler\",\"kinship\",\"relocation\",\"solar\",\"lysol\",\"tourism\",\"depart\",\"nationalist\",\"healthful\",\"wrongful\",\"restructure\",\"redefine\",\"painter\",\"trouser\",\"famously\",\"satiate\",\"settler\",\"pmc\",\"gamestop\",\"seventh\",\"snuff\",\"blizzard\",\"juju\",\"widen\",\"economical\",\"validated\",\"whelp\",\"disperse\",\"browbeat\",\"cradle\",\"mam\",\"identifier\",\"riddle\",\"popping\",\"asktrp\",\"harassed\",\"transpeople\",\"wireless\",\"underappreciated\",\"acclimate\",\"output\",\"pessimistic\",\"logan\",\"amenity\",\"coaching\",\"umbilical\",\"germaphobia\",\"45k\",\"libidos\",\"oooooh\",\"candidly\",\"dormant\",\"regressive\",\"constipation\",\"windows\",\"buss\",\"slobber\",\"grotesque\",\"midlife\",\"outloud\",\"crabby\",\"cape\",\"\\\"don't\",\"aging\",\"l.\",\"busboy\",\"vibrant\",\"heifer\",\"pounce\",\"eshwhy\",\"dilation\",\"yta.as\",\"conditionally\",\"subaru\",\"reload\",\"untouched\",\"itedit\",\"callously\",\"gobble\",\"ntajesus\",\"operating\",\"\\u2728\",\"hoot\",\"tickling\",\"mistype\",\"someway\",\"yadda\",\"unsavory\",\"knitting\",\"producer\",\"stephen\",\"farce\",\"ration\",\"betting\",\"gg\",\"suzie\",\"appologize\",\"senseless\",\"dissapointe\",\"ministry\",\"fl\",\"handsy\",\"dialog\",\"ytais\",\"nooooo\",\"inmate\",\"steadily\",\"prowess\",\"this:>i\",\"meaty\",\"defining\",\"vie\",\"blee\",\"gs\",\"lopsided\",\"pallet\",\"it.&#x200b;i\",\"slay\",\"ay\",\"annul\",\"ether\",\"endorsement\",\"drugstore\",\"mediterranean\",\"breadstick\",\"arborist\",\"16/17\",\"publishing\",\"1/5\",\"retina\",\"habitat\",\"gardasil\",\"ailment\",\"thickness\",\"acquisition\",\"romans\",\"harangue\",\"warren\",\"freckle\",\"undressed\",\"dolly\",\"cellular\",\"daugther\",\"bonafide\",\"hacker\",\"\\u2840\",\"sie\",\"welsh\",\"indo\",\"indulgence\",\"mush\",\"saw\",\"ooof\",\"corps\",\"bristle\",\"to-\",\"anticipation\",\"eyeshadow\",\"bribery\",\"parse\",\"\\u035c\\u0296\",\"glaringly\",\"hearsay\",\"isaac\",\"girth\",\"pepsi\",\"taper\",\"waaaaaaay\",\"fallon\",\"dogma\",\"thrash\",\"trapped\",\"stuffy\",\"we\\u2019re\",\"couldnt\",\"amethyst\",\"dusty\",\"pinnacle\",\"unenforceable\",\"hopping\",\"11-year\",\"childrearing\",\"^^^^automod\",\"thomas\",\"cfa\",\"bumpy\",\"nokia\",\"nextdoor\",\"dom(me\",\"collected\",\"groundwork\",\"guthrie\",\"didn\\u2018t\",\"gratify\",\"kicking\",\"dietetic\",\"saintly\",\"15th\",\"\\u28a0\",\"`\",\"lmaooo\",\"dropping\",\"laden\",\"thoughtlessness\",\"harrasment\",\"ascertain\",\"mowing\",\"workaround\",\"gravitate\",\"compulsory\",\"michigan\",\"quartz\",\"stbx\",\"journalist\",\"works\",\"likeness\",\"afar\",\"chiropractic\",\"m'lady\",\"template\",\"chiro\",\"unnerving\",\"dtf\",\"selflessly\",\"cw\",\"symmetrical\",\"bleak\",\"\\\\*not\\\\\",\"divisive\",\"squeak\",\"delighted\",\"theatric\",\"consolidate\",\"dyscalculia\",\"gah\",\"gloria\",\"eulogy\",\"cortex\",\"schtick\",\"titanic\",\"zinc\",\"people-\",\"eject\",\"legitimize\",\"dos\",\"thanos\",\"stained\",\"institutional\",\"penniless\",\"patty\",\"unappeale\",\"millisecond\",\"ntaare\",\"goddamnit\",\"expressive\",\"ibuprofen\",\"shitfaced\",\"js\",\"novice\",\"fuckhead\",\"docile\",\"behaviorist\",\"mocha\",\"contrived\",\"wedlock\",\"habe\",\"bu\",\"swerve\",\"imposter\",\"zealous\",\"yale\",\"covered\",\"fondle\",\"demo\",\"-she\",\"fiercely\",\"audi\",\"7k\",\"khaled\",\"letting\",\"viability\",\"trolley\",\"gop\",\"antimlm\",\"dingus\",\"baiting\",\"pisser\",\"vulgarity\",\"fore\",\"grump\",\"sass\",\"revolving\",\"gloomy\",\"ytawhile\",\"neanderthal\",\"bulldog\",\"malignant\",\"post](https://www.reddit.com\",\"mealtime\",\"glowing\",\"paygrade\",\"cajole\",\"sjws\",\"iceland\",\"activism\",\"crook\",\"standby\",\"amphetamine\",\"evoke\",\"x200b;just\",\"canned\",\"trivia\",\"esh.it\",\"romcom\",\"bandmate\",\"fingering\",\"artistry\",\"bloated\",\"one-\",\"indefinite\",\"\\ud83d\\ude15\",\"50th\",\"hearty\",\"fabrication\",\"lodge\",\"slit\",\"speedy\",\"crafty\",\"u.\",\"ww1\",\"sta\",\"esh.if\",\"cumbersome\",\"senator\",\"nta.when\",\"oi\",\"paintball\",\"blindsided\",\"mercilessly\",\"intensifie\",\"motherfucking\",\"nervousness\",\"unselfish\",\"abundant\",\"sift\",\"1-on-1\",\"commandeer\",\"darken\",\"hung\",\"sulky\",\"thriving\",\"plagiarize\",\"congenital\",\"sundays\",\"encapsulate\",\"extinguish\",\"cynic\",\"iran\",\"veal\",\"refuge\",\"that\\u2019\",\"scandalize\",\"uncut\",\"pairing\",\"legaladviceuk\",\"braindead\",\"associated\",\"obstruction\",\"republicans\",\"compassionately\",\"resize\",\"deffo\",\"assumed\",\"dsm\",\"turnaround\",\"lookin\",\"contributor\",\"apparel\",\"manhattan\",\"fatherless\",\"ostracism\",\"berth\",\"bestow\",\"overthink\",\"impersonal\",\"crocodile\",\"emancipation\",\"certified\",\"hsv-1\",\"ntaplease\",\"slacker\",\"remade\",\"waifu\",\"creeped\",\"golddigger\",\"fesse\",\"\\\"maybe\",\"unscented\",\"configuration\",\"willis\",\"chivalrous\",\"suckere\",\"aaaand\",\"30-year\",\"stagnate\",\"experiance\",\"10pm\",\"dictatorship\",\"rougher\",\"2-way\",\"crotchety\",\"thirde\",\"ytahave\",\"lowlife\",\"doctoral\",\"maliciouscompliance\",\"embassy\",\"~20\",\"fanfic\",\"setback\",\"lotr\",\"fireable\",\"kiddie\",\"flippantly\",\"prioritization\",\"dwight\",\"enabling\",\"cosmo\",\"gorge\",\"masquerade\",\"implantation\",\"torrent\",\"catheter\",\"nta.people\",\"mos\",\"goop\",\"sydney\",\"easiest\",\"governmental\",\"linear\",\"fuckwad\",\"temperamental\",\"expulsion\",\"unseen\",\"debauchery\",\"berry\",\"reeeeeally\",\"nationwide\",\"anemia\",\"bon\",\"sneer\",\"overburden\",\"orderly\",\"feefee\",\"cz\",\"treasured\",\"y'alls\",\"doozy\",\"weakling\",\"monty\",\"ta.you\",\"pulp\",\"strut\",\"brutality\",\"prohibition\",\"paralyzed\",\"synonym\",\"insulate\",\"heterosexuality\",\"tou\",\"immediatly\",\"reassuring\",\"crazier\",\"sensual\",\"schooler\",\"imgur\",\"paralegal\",\"radiation\",\"5:30\",\"ticketed\",\"vc\",\"lint\",\"doug\",\"strew\",\"she\\u2018s\",\"entrepreneur\",\"commonality\",\"volleyball\",\"ymbta\",\"motorbike\",\"embarrassingly\",\"loooove\",\"oppressed\",\"deadbolt\",\"\\ud83e\\udd37_\\u200d\",\"disassociate\",\"argumentation\",\"perch\",\"9yo\",\"forensic\",\"ytai\\u2019m\",\"plaque\",\"joseph\",\"impossibly\",\"greeks\",\"ism\",\"jr.\",\"vindictively\",\"clergy\",\"pacifier\",\"allllll\",\"mums\",\"spur\",\"\\ud83d\\udc9c\",\"glutton\",\"child-\",\"entangle\",\"dumbfuck\",\"harley\",\"repurpose\",\"achievable\",\"dug\",\"eclipse\",\"architecture\",\"curveball\",\"rsvp'd\",\"shoplifter\",\"greener\",\"sandal\",\"ntaeveryone\",\"preempt\",\"jot\",\"literacy\",\"hillary\",\"99.99\",\"whataboutism\",\"pointing\",\"ambient\",\"skit\",\"wrongness\",\"satanic\",\"indefensible\",\"reapply\",\"~~the\",\"preform\",\"shp-\",\"yes-\",\"buuuuut\",\"overgrown\",\"competency\",\"baller\",\"trivialise\",\"stuffed\",\"unsubscribe\",\"\\\"a\",\"dae\",\"pandora\",\"pivot\",\"erotica\",\"destruct\",\"gmail\",\"diabolical\",\"minutia\",\"neutrality\",\"oggle\",\"morgue\",\"poof\",\"dads\",\"nta.in\",\"defile\",\"chickene\",\"consentual\",\"nta.so\",\"bnb\",\"unjustly\",\"credence\",\"deity\",\"gong\",\"~10\",\"daisy\",\"kavanaugh\",\"obedient\",\"carrie\",\"strapped\",\"midday\",\"negotiating\",\"aitah\",\"nah.this\",\"hormonally\",\"roller\",\"jobs\",\"lite\",\"superfat\",\"ne\",\"xl\",\"occupant\",\"overtone\",\"hospitalization\",\"agonizing\",\"substitution\",\"lineup\",\"trumpet\",\"diaphragm\",\"preconceive\",\"\\ud83e\\udd22\",\"ar\",\"kaylee\",\"bart\",\"immaculate\",\"it's\",\"ridiculousness\",\"wanda\",\"infrequent\",\"responsability\",\"prideful\",\"loony\",\"\\ud83d\\ude24\",\"nhs\",\"interstate\",\"tithe\",\"panda\",\"unintelligent\",\"skyrim\",\"preemptive\"],\"shape\":[14732],\"dtype\":\"object\",\"order\":\"little\"}],[\"x\",{\"type\":\"ndarray\",\"array\":{\"type\":\"bytes\",\"data\":\"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\"},\"shape\":[14732],\"dtype\":\"float32\",\"order\":\"little\"}],[\"y\",{\"type\":\"ndarray\",\"array\":{\"type\":\"bytes\",\"data\":\"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\"},\"shape\":[14732],\"dtype\":\"float32\",\"order\":\"little\"}]]}}},\"view\":{\"type\":\"object\",\"name\":\"CDSView\",\"id\":\"p1308\",\"attributes\":{\"filter\":{\"type\":\"object\",\"name\":\"AllIndices\",\"id\":\"p1309\"}}},\"glyph\":{\"type\":\"object\",\"name\":\"Scatter\",\"id\":\"p1303\",\"attributes\":{\"x\":{\"type\":\"field\",\"field\":\"x\"},\"y\":{\"type\":\"field\",\"field\":\"y\"},\"size\":{\"type\":\"value\",\"value\":10},\"line_color\":{\"type\":\"value\",\"value\":\"blue\"},\"line_alpha\":{\"type\":\"value\",\"value\":0.2},\"fill_color\":{\"type\":\"value\",\"value\":\"blue\"},\"fill_alpha\":{\"type\":\"value\",\"value\":0.1},\"hatch_color\":{\"type\":\"value\",\"value\":\"blue\"}}},\"nonselection_glyph\":{\"type\":\"object\",\"name\":\"Scatter\",\"id\":\"p1304\",\"attributes\":{\"x\":{\"type\":\"field\",\"field\":\"x\"},\"y\":{\"type\":\"field\",\"field\":\"y\"},\"size\":{\"type\":\"value\",\"value\":10},\"line_color\":{\"type\":\"value\",\"value\":\"blue\"},\"line_alpha\":{\"type\":\"value\",\"value\":0.1},\"fill_color\":{\"type\":\"value\",\"value\":\"blue\"},\"fill_alpha\":{\"type\":\"value\",\"value\":0.1},\"hatch_color\":{\"type\":\"value\",\"value\":\"blue\"},\"hatch_alpha\":{\"type\":\"value\",\"value\":0.1}}},\"hover_glyph\":{\"type\":\"object\",\"name\":\"Scatter\",\"id\":\"p1305\",\"attributes\":{\"x\":{\"type\":\"field\",\"field\":\"x\"},\"y\":{\"type\":\"field\",\"field\":\"y\"},\"size\":{\"type\":\"value\",\"value\":10},\"line_alpha\":{\"type\":\"value\",\"value\":0.2},\"fill_color\":{\"type\":\"value\",\"value\":\"blue\"},\"fill_alpha\":{\"type\":\"value\",\"value\":0.1},\"hatch_color\":{\"type\":\"value\",\"value\":\"blue\"}}},\"muted_glyph\":{\"type\":\"object\",\"name\":\"Scatter\",\"id\":\"p1306\",\"attributes\":{\"x\":{\"type\":\"field\",\"field\":\"x\"},\"y\":{\"type\":\"field\",\"field\":\"y\"},\"size\":{\"type\":\"value\",\"value\":10},\"line_color\":{\"type\":\"value\",\"value\":\"blue\"},\"line_alpha\":{\"type\":\"value\",\"value\":0.2},\"fill_color\":{\"type\":\"value\",\"value\":\"blue\"},\"fill_alpha\":{\"type\":\"value\",\"value\":0.2},\"hatch_color\":{\"type\":\"value\",\"value\":\"blue\"},\"hatch_alpha\":{\"type\":\"value\",\"value\":0.2}}}}}],\"toolbar\":{\"type\":\"object\",\"name\":\"Toolbar\",\"id\":\"p1273\",\"attributes\":{\"tools\":[{\"type\":\"object\",\"name\":\"PanTool\",\"id\":\"p1286\"},{\"type\":\"object\",\"name\":\"WheelZoomTool\",\"id\":\"p1287\",\"attributes\":{\"renderers\":\"auto\"}},{\"type\":\"object\",\"name\":\"BoxZoomTool\",\"id\":\"p1288\",\"attributes\":{\"overlay\":{\"type\":\"object\",\"name\":\"BoxAnnotation\",\"id\":\"p1289\",\"attributes\":{\"syncable\":false,\"line_color\":\"black\",\"line_alpha\":1.0,\"line_width\":2,\"line_dash\":[4,4],\"fill_color\":\"lightgrey\",\"fill_alpha\":0.5,\"level\":\"overlay\",\"visible\":false,\"left\":{\"type\":\"number\",\"value\":\"nan\"},\"right\":{\"type\":\"number\",\"value\":\"nan\"},\"top\":{\"type\":\"number\",\"value\":\"nan\"},\"bottom\":{\"type\":\"number\",\"value\":\"nan\"},\"left_units\":\"canvas\",\"right_units\":\"canvas\",\"top_units\":\"canvas\",\"bottom_units\":\"canvas\",\"handles\":{\"type\":\"object\",\"name\":\"BoxInteractionHandles\",\"id\":\"p1295\",\"attributes\":{\"all\":{\"type\":\"object\",\"name\":\"AreaVisuals\",\"id\":\"p1294\",\"attributes\":{\"fill_color\":\"white\",\"hover_fill_color\":\"lightgray\"}}}}}}}},{\"type\":\"object\",\"name\":\"SaveTool\",\"id\":\"p1296\"},{\"type\":\"object\",\"name\":\"ResetTool\",\"id\":\"p1297\"},{\"type\":\"object\",\"name\":\"HelpTool\",\"id\":\"p1298\"},{\"type\":\"object\",\"name\":\"HoverTool\",\"id\":\"p1299\",\"attributes\":{\"renderers\":\"auto\",\"tooltips\":\"@index\"}}]}},\"left\":[{\"type\":\"object\",\"name\":\"LinearAxis\",\"id\":\"p1281\",\"attributes\":{\"ticker\":{\"type\":\"object\",\"name\":\"BasicTicker\",\"id\":\"p1282\",\"attributes\":{\"mantissas\":[1,2,5]}},\"formatter\":{\"type\":\"object\",\"name\":\"BasicTickFormatter\",\"id\":\"p1283\"},\"major_label_policy\":{\"type\":\"object\",\"name\":\"AllLabels\",\"id\":\"p1284\"}}}],\"below\":[{\"type\":\"object\",\"name\":\"LinearAxis\",\"id\":\"p1276\",\"attributes\":{\"ticker\":{\"type\":\"object\",\"name\":\"BasicTicker\",\"id\":\"p1277\",\"attributes\":{\"mantissas\":[1,2,5]}},\"formatter\":{\"type\":\"object\",\"name\":\"BasicTickFormatter\",\"id\":\"p1278\"},\"major_label_policy\":{\"type\":\"object\",\"name\":\"AllLabels\",\"id\":\"p1279\"}}}],\"center\":[{\"type\":\"object\",\"name\":\"Grid\",\"id\":\"p1280\",\"attributes\":{\"axis\":{\"id\":\"p1276\"}}},{\"type\":\"object\",\"name\":\"Grid\",\"id\":\"p1285\",\"attributes\":{\"dimension\":1,\"axis\":{\"id\":\"p1281\"}}}]}}]}};\n",
       "  const render_items = [{\"docid\":\"fe5e7358-eb7c-4c28-96f1-621a471c17a7\",\"roots\":{\"p1264\":\"d6e06621-cd16-4cfb-8269-264aa9d11d74\"},\"root_ids\":[\"p1264\"]}];\n",
       "  void root.Bokeh.embed.embed_items_notebook(docs_json, render_items);\n",
       "  }\n",
       "  if (root.Bokeh !== undefined) {\n",
       "    embed_document(root);\n",
       "  } else {\n",
       "    let attempts = 0;\n",
       "    const timer = setInterval(function(root) {\n",
       "      if (root.Bokeh !== undefined) {\n",
       "        clearInterval(timer);\n",
       "        embed_document(root);\n",
       "      } else {\n",
       "        attempts++;\n",
       "        if (attempts > 100) {\n",
       "          clearInterval(timer);\n",
       "          console.log(\"Bokeh: ERROR: Unable to run BokehJS code because BokehJS library is missing\");\n",
       "        }\n",
       "      }\n",
       "    }, 10, root)\n",
       "  }\n",
       "})(window);"
      ],
      "application/vnd.bokehjs_exec.v0+json": ""
     },
     "metadata": {
      "application/vnd.bokehjs_exec.v0+json": {
       "id": "p1264"
      }
     },
     "output_type": "display_data"
    }
   ],
   "source": [
    "# Add our DataFrame as a ColumnDataSource for Bokeh\n",
    "plot_data = ColumnDataSource(tsne_df)\n",
    "\n",
    "# Create the plot and configure the title, dimensions, and tools\n",
    "tsne_plot = figure(title='t-SNE Word Embeddings')\n",
    "\n",
    "# Add a hover tool to display words on roll-over\n",
    "tsne_plot.add_tools(HoverTool(tooltips='@index') )\n",
    "\n",
    "# Draw the words as scatterplot\n",
    "tsne_plot.scatter('x', 'y',\n",
    "                 source=plot_data,\n",
    "                 color='blue',\n",
    "                 line_alpha=0.2,\n",
    "                 fill_alpha=0.1,\n",
    "                 size=10,\n",
    "                 hover_line_color='black')\n",
    "\n",
    "# Engage!\n",
    "show(tsne_plot)"
   ]
  },
  {
   "cell_type": "code",
   "execution_count": 32,
   "metadata": {},
   "outputs": [
    {
     "data": {
      "text/plain": [
       "'/Users/tomvannuenen/Library/CloudStorage/Dropbox/GitHub/DEV/DIGHUM160/notebooks/Week4/selected_word_embeddings_tsne.html'"
      ]
     },
     "execution_count": 32,
     "metadata": {},
     "output_type": "execute_result"
    }
   ],
   "source": [
    "output_file(\"full_word_embeddings_tsne.html\")\n",
    "save(tsne_plot)"
   ]
  },
  {
   "cell_type": "markdown",
   "metadata": {
    "id": "TtIBMFnNrQlL"
   },
   "source": [
    "<a id='bias'></a>\n",
    "\n",
    "# Discovering Language Bias With Word Embeddings\n",
    "\n",
    "The vector representations of word Embeddings can be used for all kinds of tasks. One such task is discovering **language bias**: language that is normatively oriented towards certain people, ideas, or things. \n",
    "\n",
    "In order to do this, we first need to postulate **concepts** that we suspect a bias towards. For example, people often associate words with masculinity or femininity (think of \"fireman\" vs \"nurse\"). This reflects both a normative construction of a gender binary, as well as stereotypes *within* that binary. We can attempt to quantify this directly using notions of distance with word embeddings.\n",
    "\n",
    "We first define **target concepts** for the terms we aim to identify biases towards (e.g., \"male\" and \"female\"). Then, we can then compute relative similarities of other word vectors – particularly, words that act as evaluative attributes such as \"strong\" and \"sensitive\". These words can be categorised through clustering algorithms and labeled through a semantic analysis system into more general (conceptual) biases, yielding a broad picture of the biases present in a discourse community.\n",
    "\n",
    "At the bottom of this notebook you'll find some [existing target sets](#target) that have been used in the literature on language biases."
   ]
  },
  {
   "cell_type": "markdown",
   "metadata": {
    "id": "FSbUVbC-rQlY"
   },
   "source": [
    "## Obtaining Biases Towards Target Concepts\n",
    "\n",
    "We will run our method of finding biased words towards our target sets. We will be using functions in an external file - `utils.py` - which you are free to look through if you're interested. Otherwise, feel free to use the functions as desired.\n",
    "\n",
    "Given a vocabulary and two sets of target words (such as, in this case, those for *women* and *men*), we rank the words from least to most biased. As such, we obtain two ordered lists of the most biased words towards each target set, obtaining an overall view of the bias distribution in that particular community with respect to those two target sets. \n",
    "\n",
    "The approach is as follows:\n",
    "- We calculate the centroid of a target set by averaging the embedding vectors in our target set (e.g. the vectors for `he, son, his, him, father, male` for our target concept `male`);\n",
    "- We calculate the cosine similarity between the vectors for all words in our vocabulary as compared to our two centroids (we also apply POS-filtering to only work with parts of speech we expect to be relevant);\n",
    "- We use a threshold based on standard deviation to determine how severe a bias needs to be before we include it;\n",
    "- We rank the words in the vocabulary of our word embeddings model based on their bias towards either target concept.\n",
    "\n",
    "The implicit hypothesis here is that word vectors closer to the centroid of a target concept are used more similarly with respect that concept. This, in effect, is an effort to quantify the bias of words in the discourse of a community."
   ]
  },
  {
   "cell_type": "code",
   "execution_count": 33,
   "metadata": {},
   "outputs": [
    {
     "name": "stderr",
     "output_type": "stream",
     "text": [
      "[nltk_data] Downloading package averaged_perceptron_tagger_eng to\n",
      "[nltk_data]     /Users/tomvannuenen/nltk_data...\n",
      "[nltk_data]   Unzipping taggers/averaged_perceptron_tagger_eng.zip.\n",
      "[nltk_data] Downloading package vader_lexicon to\n",
      "[nltk_data]     /Users/tomvannuenen/nltk_data...\n",
      "[nltk_data]   Package vader_lexicon is already up-to-date!\n",
      "[nltk_data] Downloading package averaged_perceptron_tagger_eng to\n",
      "[nltk_data]     /Users/tomvannuenen/nltk_data...\n",
      "[nltk_data]   Package averaged_perceptron_tagger_eng is already up-to-\n",
      "[nltk_data]       date!\n"
     ]
    },
    {
     "data": {
      "text/plain": [
       "True"
      ]
     },
     "execution_count": 33,
     "metadata": {},
     "output_type": "execute_result"
    }
   ],
   "source": [
    "# Import function to calculate biased words\n",
    "from utils import calculate_biased_words\n",
    "import nltk\n",
    "nltk.download('averaged_perceptron_tagger_eng')"
   ]
  },
  {
   "cell_type": "markdown",
   "metadata": {},
   "source": [
    "Here are our target concept vectors. This is a critical choice: the centroid of these represents the concept at hand. What happens if you change the words included?"
   ]
  },
  {
   "cell_type": "code",
   "execution_count": 34,
   "metadata": {},
   "outputs": [],
   "source": [
    "target1 = ['sister' , 'female' , 'woman' , 'girl' , 'daughter' , 'she' , 'hers' , 'her']\n",
    "target2 = ['brother' , 'male' , 'man' , 'boy' , 'son' , 'he' , 'his' , 'him'] "
   ]
  },
  {
   "cell_type": "code",
   "execution_count": 35,
   "metadata": {},
   "outputs": [],
   "source": [
    "model = Word2Vec.load('../../data/aita_comments.emb')"
   ]
  },
  {
   "cell_type": "code",
   "execution_count": 36,
   "metadata": {
    "executionInfo": {
     "elapsed": 11526,
     "status": "ok",
     "timestamp": 1647303428120,
     "user": {
      "displayName": "Tom van Nuenen",
      "photoUrl": "https://lh3.googleusercontent.com/a-/AOh14GhuBmxDvW5I_LJfZtwlPqMFD8QGLVPP3skvpkTnuQ=s64",
      "userId": "10012302451096885058"
     },
     "user_tz": 300
    },
    "id": "SIzdtQV5rQlh",
    "scrolled": true
   },
   "outputs": [],
   "source": [
    "[b1, b2] = calculate_biased_words(model, target1, target2, 4)"
   ]
  },
  {
   "cell_type": "markdown",
   "metadata": {
    "id": "LJpg5BDydlYT"
   },
   "source": [
    "Let's print some biases. Here you see the most-biased words towards our target concepts (1 being *women*, 2 being *men*)."
   ]
  },
  {
   "cell_type": "code",
   "execution_count": 37,
   "metadata": {
    "colab": {
     "base_uri": "https://localhost:8080/"
    },
    "executionInfo": {
     "elapsed": 191,
     "status": "ok",
     "timestamp": 1647303438347,
     "user": {
      "displayName": "Tom van Nuenen",
      "photoUrl": "https://lh3.googleusercontent.com/a-/AOh14GhuBmxDvW5I_LJfZtwlPqMFD8QGLVPP3skvpkTnuQ=s64",
      "userId": "10012302451096885058"
     },
     "user_tz": 300
    },
    "id": "qc-9g8BErQll",
    "outputId": "93aa1d97-e9ad-4f17-9ce3-bef7d4079209"
   },
   "outputs": [
    {
     "name": "stdout",
     "output_type": "stream",
     "text": [
      "Biased words towards target set 1\n",
      "['lot', 'business', 'type', 'terrible', 'doubt', 'medical', 'shame', 'fat', 'detail', 'threaten', 'photo', 'attractive', 'purpose', 'privacy', 'trauma', 'gain', 'painful', 'threat', 'hurtful', 'social_medium', 'tone', 'intimate', 'nature', 'bridesmaid', 'spite', 'chick', 'shallow', 'skinny', 'ntayou', 'abort', 'sexy', 'confident', 'cross_line', 'dodge_bullet', 'unsafe', 'wig', 'sabotage', 'childbirth', 'self_conscious', 'unattractive', 'invasive', 'send_nude', 'workout', 'shaming', 'anna', 'stalker', 'overbearing', 'straighten']\n"
     ]
    }
   ],
   "source": [
    "print('Biased words towards target set 1')\n",
    "print([word for word in b1.keys()])"
   ]
  },
  {
   "cell_type": "code",
   "execution_count": 38,
   "metadata": {},
   "outputs": [
    {
     "name": "stdout",
     "output_type": "stream",
     "text": [
      "Biased words towards target set 2\n",
      "['deal', 'pass', 'forget', 'argue', 'win', 'split', 'pretend', 'separate', 'bar', 'promise', 'earn', 'bro', 'buddy', 'cake', 'btw', 'video_game', 'vs', 'pride', 'candy', 'reward', 'grandfather', 'daddy', 'balance', 'chip', '😂', 'bonus', 'tonight', 'usual', 'throw_tantrum', 'coin']\n"
     ]
    }
   ],
   "source": [
    "print('Biased words towards target set 2')\n",
    "print([word for word in b2.keys()] )"
   ]
  },
  {
   "cell_type": "markdown",
   "metadata": {
    "id": "Zpk0lx2xplMf"
   },
   "source": [
    "## Visualizing Biases using $t$-SNE\n",
    "\n",
    "We now return to our dimensionality reduction technique, $t$-SNE, to try and visualize these biased words in a 2D space using Bokeh."
   ]
  },
  {
   "cell_type": "code",
   "execution_count": 39,
   "metadata": {},
   "outputs": [],
   "source": [
    "import matplotlib.pyplot as plt\n",
    "import numpy as np\n",
    "\n",
    "from sklearn.manifold import TSNE\n",
    "%matplotlib inline"
   ]
  },
  {
   "cell_type": "code",
   "execution_count": 40,
   "metadata": {},
   "outputs": [],
   "source": [
    "with open(tsne_path, 'rb') as f:\n",
    "    X_tsne = pickle.load(f)\n",
    "    \n",
    "tsne_df = pd.read_pickle(tsne_df_path)"
   ]
  },
  {
   "cell_type": "code",
   "execution_count": 41,
   "metadata": {},
   "outputs": [],
   "source": [
    "# Convert biased term keys to arrays\n",
    "target1_idx = np.array([model.wv.key_to_index[key] for key in b1.keys()])\n",
    "target2_idx = np.array([model.wv.key_to_index[key] for key in b2.keys()])"
   ]
  },
  {
   "cell_type": "code",
   "execution_count": 42,
   "metadata": {},
   "outputs": [],
   "source": [
    "# Find t-sne values for the biased sets\n",
    "X_target1 = X_tsne[target1_idx]\n",
    "X_target2 = X_tsne[target2_idx]"
   ]
  },
  {
   "cell_type": "code",
   "execution_count": 46,
   "metadata": {},
   "outputs": [
    {
     "data": {
      "text/html": [
       "    <style>\n",
       "        .bk-notebook-logo {\n",
       "            display: block;\n",
       "            width: 20px;\n",
       "            height: 20px;\n",
       "            background-image: url(data:image/png;base64,iVBORw0KGgoAAAANSUhEUgAAABQAAAAUCAYAAACNiR0NAAAABHNCSVQICAgIfAhkiAAAAAlwSFlzAAALEgAACxIB0t1+/AAAABx0RVh0U29mdHdhcmUAQWRvYmUgRmlyZXdvcmtzIENTNui8sowAAAOkSURBVDiNjZRtaJVlGMd/1/08zzln5zjP1LWcU9N0NkN8m2CYjpgQYQXqSs0I84OLIC0hkEKoPtiH3gmKoiJDU7QpLgoLjLIQCpEsNJ1vqUOdO7ppbuec5+V+rj4ctwzd8IIbbi6u+8f1539dt3A78eXC7QizUF7gyV1fD1Yqg4JWz84yffhm0qkFqBogB9rM8tZdtwVsPUhWhGcFJngGeWrPzHm5oaMmkfEg1usvLFyc8jLRqDOMru7AyC8saQr7GG7f5fvDeH7Ej8CM66nIF+8yngt6HWaKh7k49Soy9nXurCi1o3qUbS3zWfrYeQDTB/Qj6kX6Ybhw4B+bOYoLKCC9H3Nu/leUTZ1JdRWkkn2ldcCamzrcf47KKXdAJllSlxAOkRgyHsGC/zRday5Qld9DyoM4/q/rUoy/CXh3jzOu3bHUVZeU+DEn8FInkPBFlu3+nW3Nw0mk6vCDiWg8CeJaxEwuHS3+z5RgY+YBR6V1Z1nxSOfoaPa4LASWxxdNp+VWTk7+4vzaou8v8PN+xo+KY2xsw6une2frhw05CTYOmQvsEhjhWjn0bmXPjpE1+kplmmkP3suftwTubK9Vq22qKmrBhpY4jvd5afdRA3wGjFAgcnTK2s4hY0/GPNIb0nErGMCRxWOOX64Z8RAC4oCXdklmEvcL8o0BfkNK4lUg9HTl+oPlQxdNo3Mg4Nv175e/1LDGzZen30MEjRUtmXSfiTVu1kK8W4txyV6BMKlbgk3lMwYCiusNy9fVfvvwMxv8Ynl6vxoByANLTWplvuj/nF9m2+PDtt1eiHPBr1oIfhCChQMBw6Aw0UulqTKZdfVvfG7VcfIqLG9bcldL/+pdWTLxLUy8Qq38heUIjh4XlzZxzQm19lLFlr8vdQ97rjZVOLf8nclzckbcD4wxXMidpX30sFd37Fv/GtwwhzhxGVAprjbg0gCAEeIgwCZyTV2Z1REEW8O4py0wsjeloKoMr6iCY6dP92H6Vw/oTyICIthibxjm/DfN9lVz8IqtqKYLUXfoKVMVQVVJOElGjrnnUt9T9wbgp8AyYKaGlqingHZU/uG2NTZSVqwHQTWkx9hxjkpWDaCg6Ckj5qebgBVbT3V3NNXMSiWSDdGV3hrtzla7J+duwPOToIg42ChPQOQjspnSlp1V+Gjdged7+8UN5CRAV7a5EdFNwCjEaBR27b3W890TE7g24NAP/mMDXRWrGoFPQI9ls/MWO2dWFAar/xcOIImbbpA3zgAAAABJRU5ErkJggg==);\n",
       "        }\n",
       "    </style>\n",
       "    <div>\n",
       "        <a href=\"https://bokeh.org\" target=\"_blank\" class=\"bk-notebook-logo\"></a>\n",
       "        <span id=\"ed6bdc4c-4d67-45c4-ba7c-5b1085d10faf\">Loading BokehJS ...</span>\n",
       "    </div>\n"
      ]
     },
     "metadata": {},
     "output_type": "display_data"
    },
    {
     "data": {
      "application/javascript": [
       "'use strict';\n",
       "(function(root) {\n",
       "  function now() {\n",
       "    return new Date();\n",
       "  }\n",
       "\n",
       "  const force = true;\n",
       "\n",
       "  if (typeof root._bokeh_onload_callbacks === \"undefined\" || force === true) {\n",
       "    root._bokeh_onload_callbacks = [];\n",
       "    root._bokeh_is_loading = undefined;\n",
       "  }\n",
       "\n",
       "const JS_MIME_TYPE = 'application/javascript';\n",
       "  const HTML_MIME_TYPE = 'text/html';\n",
       "  const EXEC_MIME_TYPE = 'application/vnd.bokehjs_exec.v0+json';\n",
       "  const CLASS_NAME = 'output_bokeh rendered_html';\n",
       "\n",
       "  /**\n",
       "   * Render data to the DOM node\n",
       "   */\n",
       "  function render(props, node) {\n",
       "    const script = document.createElement(\"script\");\n",
       "    node.appendChild(script);\n",
       "  }\n",
       "\n",
       "  /**\n",
       "   * Handle when an output is cleared or removed\n",
       "   */\n",
       "  function handleClearOutput(event, handle) {\n",
       "    function drop(id) {\n",
       "      const view = Bokeh.index.get_by_id(id)\n",
       "      if (view != null) {\n",
       "        view.model.document.clear()\n",
       "        Bokeh.index.delete(view)\n",
       "      }\n",
       "    }\n",
       "\n",
       "    const cell = handle.cell;\n",
       "\n",
       "    const id = cell.output_area._bokeh_element_id;\n",
       "    const server_id = cell.output_area._bokeh_server_id;\n",
       "\n",
       "    // Clean up Bokeh references\n",
       "    if (id != null) {\n",
       "      drop(id)\n",
       "    }\n",
       "\n",
       "    if (server_id !== undefined) {\n",
       "      // Clean up Bokeh references\n",
       "      const cmd_clean = \"from bokeh.io.state import curstate; print(curstate().uuid_to_server['\" + server_id + \"'].get_sessions()[0].document.roots[0]._id)\";\n",
       "      cell.notebook.kernel.execute(cmd_clean, {\n",
       "        iopub: {\n",
       "          output: function(msg) {\n",
       "            const id = msg.content.text.trim()\n",
       "            drop(id)\n",
       "          }\n",
       "        }\n",
       "      });\n",
       "      // Destroy server and session\n",
       "      const cmd_destroy = \"import bokeh.io.notebook as ion; ion.destroy_server('\" + server_id + \"')\";\n",
       "      cell.notebook.kernel.execute(cmd_destroy);\n",
       "    }\n",
       "  }\n",
       "\n",
       "  /**\n",
       "   * Handle when a new output is added\n",
       "   */\n",
       "  function handleAddOutput(event, handle) {\n",
       "    const output_area = handle.output_area;\n",
       "    const output = handle.output;\n",
       "\n",
       "    // limit handleAddOutput to display_data with EXEC_MIME_TYPE content only\n",
       "    if ((output.output_type != \"display_data\") || (!Object.prototype.hasOwnProperty.call(output.data, EXEC_MIME_TYPE))) {\n",
       "      return\n",
       "    }\n",
       "\n",
       "    const toinsert = output_area.element.find(\".\" + CLASS_NAME.split(' ')[0]);\n",
       "\n",
       "    if (output.metadata[EXEC_MIME_TYPE][\"id\"] !== undefined) {\n",
       "      toinsert[toinsert.length - 1].firstChild.textContent = output.data[JS_MIME_TYPE];\n",
       "      // store reference to embed id on output_area\n",
       "      output_area._bokeh_element_id = output.metadata[EXEC_MIME_TYPE][\"id\"];\n",
       "    }\n",
       "    if (output.metadata[EXEC_MIME_TYPE][\"server_id\"] !== undefined) {\n",
       "      const bk_div = document.createElement(\"div\");\n",
       "      bk_div.innerHTML = output.data[HTML_MIME_TYPE];\n",
       "      const script_attrs = bk_div.children[0].attributes;\n",
       "      for (let i = 0; i < script_attrs.length; i++) {\n",
       "        toinsert[toinsert.length - 1].firstChild.setAttribute(script_attrs[i].name, script_attrs[i].value);\n",
       "        toinsert[toinsert.length - 1].firstChild.textContent = bk_div.children[0].textContent\n",
       "      }\n",
       "      // store reference to server id on output_area\n",
       "      output_area._bokeh_server_id = output.metadata[EXEC_MIME_TYPE][\"server_id\"];\n",
       "    }\n",
       "  }\n",
       "\n",
       "  function register_renderer(events, OutputArea) {\n",
       "\n",
       "    function append_mime(data, metadata, element) {\n",
       "      // create a DOM node to render to\n",
       "      const toinsert = this.create_output_subarea(\n",
       "        metadata,\n",
       "        CLASS_NAME,\n",
       "        EXEC_MIME_TYPE\n",
       "      );\n",
       "      this.keyboard_manager.register_events(toinsert);\n",
       "      // Render to node\n",
       "      const props = {data: data, metadata: metadata[EXEC_MIME_TYPE]};\n",
       "      render(props, toinsert[toinsert.length - 1]);\n",
       "      element.append(toinsert);\n",
       "      return toinsert\n",
       "    }\n",
       "\n",
       "    /* Handle when an output is cleared or removed */\n",
       "    events.on('clear_output.CodeCell', handleClearOutput);\n",
       "    events.on('delete.Cell', handleClearOutput);\n",
       "\n",
       "    /* Handle when a new output is added */\n",
       "    events.on('output_added.OutputArea', handleAddOutput);\n",
       "\n",
       "    /**\n",
       "     * Register the mime type and append_mime function with output_area\n",
       "     */\n",
       "    OutputArea.prototype.register_mime_type(EXEC_MIME_TYPE, append_mime, {\n",
       "      /* Is output safe? */\n",
       "      safe: true,\n",
       "      /* Index of renderer in `output_area.display_order` */\n",
       "      index: 0\n",
       "    });\n",
       "  }\n",
       "\n",
       "  // register the mime type if in Jupyter Notebook environment and previously unregistered\n",
       "  if (root.Jupyter !== undefined) {\n",
       "    const events = require('base/js/events');\n",
       "    const OutputArea = require('notebook/js/outputarea').OutputArea;\n",
       "\n",
       "    if (OutputArea.prototype.mime_types().indexOf(EXEC_MIME_TYPE) == -1) {\n",
       "      register_renderer(events, OutputArea);\n",
       "    }\n",
       "  }\n",
       "  if (typeof (root._bokeh_timeout) === \"undefined\" || force === true) {\n",
       "    root._bokeh_timeout = Date.now() + 5000;\n",
       "    root._bokeh_failed_load = false;\n",
       "  }\n",
       "\n",
       "  const NB_LOAD_WARNING = {'data': {'text/html':\n",
       "     \"<div style='background-color: #fdd'>\\n\"+\n",
       "     \"<p>\\n\"+\n",
       "     \"BokehJS does not appear to have successfully loaded. If loading BokehJS from CDN, this \\n\"+\n",
       "     \"may be due to a slow or bad network connection. Possible fixes:\\n\"+\n",
       "     \"</p>\\n\"+\n",
       "     \"<ul>\\n\"+\n",
       "     \"<li>re-rerun `output_notebook()` to attempt to load from CDN again, or</li>\\n\"+\n",
       "     \"<li>use INLINE resources instead, as so:</li>\\n\"+\n",
       "     \"</ul>\\n\"+\n",
       "     \"<code>\\n\"+\n",
       "     \"from bokeh.resources import INLINE\\n\"+\n",
       "     \"output_notebook(resources=INLINE)\\n\"+\n",
       "     \"</code>\\n\"+\n",
       "     \"</div>\"}};\n",
       "\n",
       "  function display_loaded(error = null) {\n",
       "    const el = document.getElementById(\"ed6bdc4c-4d67-45c4-ba7c-5b1085d10faf\");\n",
       "    if (el != null) {\n",
       "      const html = (() => {\n",
       "        if (typeof root.Bokeh === \"undefined\") {\n",
       "          if (error == null) {\n",
       "            return \"BokehJS is loading ...\";\n",
       "          } else {\n",
       "            return \"BokehJS failed to load.\";\n",
       "          }\n",
       "        } else {\n",
       "          const prefix = `BokehJS ${root.Bokeh.version}`;\n",
       "          if (error == null) {\n",
       "            return `${prefix} successfully loaded.`;\n",
       "          } else {\n",
       "            return `${prefix} <b>encountered errors</b> while loading and may not function as expected.`;\n",
       "          }\n",
       "        }\n",
       "      })();\n",
       "      el.innerHTML = html;\n",
       "\n",
       "      if (error != null) {\n",
       "        const wrapper = document.createElement(\"div\");\n",
       "        wrapper.style.overflow = \"auto\";\n",
       "        wrapper.style.height = \"5em\";\n",
       "        wrapper.style.resize = \"vertical\";\n",
       "        const content = document.createElement(\"div\");\n",
       "        content.style.fontFamily = \"monospace\";\n",
       "        content.style.whiteSpace = \"pre-wrap\";\n",
       "        content.style.backgroundColor = \"rgb(255, 221, 221)\";\n",
       "        content.textContent = error.stack ?? error.toString();\n",
       "        wrapper.append(content);\n",
       "        el.append(wrapper);\n",
       "      }\n",
       "    } else if (Date.now() < root._bokeh_timeout) {\n",
       "      setTimeout(() => display_loaded(error), 100);\n",
       "    }\n",
       "  }\n",
       "\n",
       "  function run_callbacks() {\n",
       "    try {\n",
       "      root._bokeh_onload_callbacks.forEach(function(callback) {\n",
       "        if (callback != null)\n",
       "          callback();\n",
       "      });\n",
       "    } finally {\n",
       "      delete root._bokeh_onload_callbacks\n",
       "    }\n",
       "    console.debug(\"Bokeh: all callbacks have finished\");\n",
       "  }\n",
       "\n",
       "  function load_libs(css_urls, js_urls, callback) {\n",
       "    if (css_urls == null) css_urls = [];\n",
       "    if (js_urls == null) js_urls = [];\n",
       "\n",
       "    root._bokeh_onload_callbacks.push(callback);\n",
       "    if (root._bokeh_is_loading > 0) {\n",
       "      console.debug(\"Bokeh: BokehJS is being loaded, scheduling callback at\", now());\n",
       "      return null;\n",
       "    }\n",
       "    if (js_urls == null || js_urls.length === 0) {\n",
       "      run_callbacks();\n",
       "      return null;\n",
       "    }\n",
       "    console.debug(\"Bokeh: BokehJS not loaded, scheduling load and callback at\", now());\n",
       "    root._bokeh_is_loading = css_urls.length + js_urls.length;\n",
       "\n",
       "    function on_load() {\n",
       "      root._bokeh_is_loading--;\n",
       "      if (root._bokeh_is_loading === 0) {\n",
       "        console.debug(\"Bokeh: all BokehJS libraries/stylesheets loaded\");\n",
       "        run_callbacks()\n",
       "      }\n",
       "    }\n",
       "\n",
       "    function on_error(url) {\n",
       "      console.error(\"failed to load \" + url);\n",
       "    }\n",
       "\n",
       "    for (let i = 0; i < css_urls.length; i++) {\n",
       "      const url = css_urls[i];\n",
       "      const element = document.createElement(\"link\");\n",
       "      element.onload = on_load;\n",
       "      element.onerror = on_error.bind(null, url);\n",
       "      element.rel = \"stylesheet\";\n",
       "      element.type = \"text/css\";\n",
       "      element.href = url;\n",
       "      console.debug(\"Bokeh: injecting link tag for BokehJS stylesheet: \", url);\n",
       "      document.body.appendChild(element);\n",
       "    }\n",
       "\n",
       "    for (let i = 0; i < js_urls.length; i++) {\n",
       "      const url = js_urls[i];\n",
       "      const element = document.createElement('script');\n",
       "      element.onload = on_load;\n",
       "      element.onerror = on_error.bind(null, url);\n",
       "      element.async = false;\n",
       "      element.src = url;\n",
       "      console.debug(\"Bokeh: injecting script tag for BokehJS library: \", url);\n",
       "      document.head.appendChild(element);\n",
       "    }\n",
       "  };\n",
       "\n",
       "  function inject_raw_css(css) {\n",
       "    const element = document.createElement(\"style\");\n",
       "    element.appendChild(document.createTextNode(css));\n",
       "    document.body.appendChild(element);\n",
       "  }\n",
       "\n",
       "  const js_urls = [\"https://cdn.bokeh.org/bokeh/release/bokeh-3.5.0.min.js\", \"https://cdn.bokeh.org/bokeh/release/bokeh-gl-3.5.0.min.js\", \"https://cdn.bokeh.org/bokeh/release/bokeh-widgets-3.5.0.min.js\", \"https://cdn.bokeh.org/bokeh/release/bokeh-tables-3.5.0.min.js\", \"https://cdn.bokeh.org/bokeh/release/bokeh-mathjax-3.5.0.min.js\"];\n",
       "  const css_urls = [];\n",
       "\n",
       "  const inline_js = [    function(Bokeh) {\n",
       "      Bokeh.set_log_level(\"info\");\n",
       "    },\n",
       "function(Bokeh) {\n",
       "    }\n",
       "  ];\n",
       "\n",
       "  function run_inline_js() {\n",
       "    if (root.Bokeh !== undefined || force === true) {\n",
       "      try {\n",
       "            for (let i = 0; i < inline_js.length; i++) {\n",
       "      inline_js[i].call(root, root.Bokeh);\n",
       "    }\n",
       "\n",
       "      } catch (error) {display_loaded(error);throw error;\n",
       "      }if (force === true) {\n",
       "        display_loaded();\n",
       "      }} else if (Date.now() < root._bokeh_timeout) {\n",
       "      setTimeout(run_inline_js, 100);\n",
       "    } else if (!root._bokeh_failed_load) {\n",
       "      console.log(\"Bokeh: BokehJS failed to load within specified timeout.\");\n",
       "      root._bokeh_failed_load = true;\n",
       "    } else if (force !== true) {\n",
       "      const cell = $(document.getElementById(\"ed6bdc4c-4d67-45c4-ba7c-5b1085d10faf\")).parents('.cell').data().cell;\n",
       "      cell.output_area.append_execute_result(NB_LOAD_WARNING)\n",
       "    }\n",
       "  }\n",
       "\n",
       "  if (root._bokeh_is_loading === 0) {\n",
       "    console.debug(\"Bokeh: BokehJS loaded, going straight to plotting\");\n",
       "    run_inline_js();\n",
       "  } else {\n",
       "    load_libs(css_urls, js_urls, function() {\n",
       "      console.debug(\"Bokeh: BokehJS plotting callback run at\", now());\n",
       "      run_inline_js();\n",
       "    });\n",
       "  }\n",
       "}(window));"
      ],
      "application/vnd.bokehjs_load.v0+json": "'use strict';\n(function(root) {\n  function now() {\n    return new Date();\n  }\n\n  const force = true;\n\n  if (typeof root._bokeh_onload_callbacks === \"undefined\" || force === true) {\n    root._bokeh_onload_callbacks = [];\n    root._bokeh_is_loading = undefined;\n  }\n\n\n  if (typeof (root._bokeh_timeout) === \"undefined\" || force === true) {\n    root._bokeh_timeout = Date.now() + 5000;\n    root._bokeh_failed_load = false;\n  }\n\n  const NB_LOAD_WARNING = {'data': {'text/html':\n     \"<div style='background-color: #fdd'>\\n\"+\n     \"<p>\\n\"+\n     \"BokehJS does not appear to have successfully loaded. If loading BokehJS from CDN, this \\n\"+\n     \"may be due to a slow or bad network connection. Possible fixes:\\n\"+\n     \"</p>\\n\"+\n     \"<ul>\\n\"+\n     \"<li>re-rerun `output_notebook()` to attempt to load from CDN again, or</li>\\n\"+\n     \"<li>use INLINE resources instead, as so:</li>\\n\"+\n     \"</ul>\\n\"+\n     \"<code>\\n\"+\n     \"from bokeh.resources import INLINE\\n\"+\n     \"output_notebook(resources=INLINE)\\n\"+\n     \"</code>\\n\"+\n     \"</div>\"}};\n\n  function display_loaded(error = null) {\n    const el = document.getElementById(\"ed6bdc4c-4d67-45c4-ba7c-5b1085d10faf\");\n    if (el != null) {\n      const html = (() => {\n        if (typeof root.Bokeh === \"undefined\") {\n          if (error == null) {\n            return \"BokehJS is loading ...\";\n          } else {\n            return \"BokehJS failed to load.\";\n          }\n        } else {\n          const prefix = `BokehJS ${root.Bokeh.version}`;\n          if (error == null) {\n            return `${prefix} successfully loaded.`;\n          } else {\n            return `${prefix} <b>encountered errors</b> while loading and may not function as expected.`;\n          }\n        }\n      })();\n      el.innerHTML = html;\n\n      if (error != null) {\n        const wrapper = document.createElement(\"div\");\n        wrapper.style.overflow = \"auto\";\n        wrapper.style.height = \"5em\";\n        wrapper.style.resize = \"vertical\";\n        const content = document.createElement(\"div\");\n        content.style.fontFamily = \"monospace\";\n        content.style.whiteSpace = \"pre-wrap\";\n        content.style.backgroundColor = \"rgb(255, 221, 221)\";\n        content.textContent = error.stack ?? error.toString();\n        wrapper.append(content);\n        el.append(wrapper);\n      }\n    } else if (Date.now() < root._bokeh_timeout) {\n      setTimeout(() => display_loaded(error), 100);\n    }\n  }\n\n  function run_callbacks() {\n    try {\n      root._bokeh_onload_callbacks.forEach(function(callback) {\n        if (callback != null)\n          callback();\n      });\n    } finally {\n      delete root._bokeh_onload_callbacks\n    }\n    console.debug(\"Bokeh: all callbacks have finished\");\n  }\n\n  function load_libs(css_urls, js_urls, callback) {\n    if (css_urls == null) css_urls = [];\n    if (js_urls == null) js_urls = [];\n\n    root._bokeh_onload_callbacks.push(callback);\n    if (root._bokeh_is_loading > 0) {\n      console.debug(\"Bokeh: BokehJS is being loaded, scheduling callback at\", now());\n      return null;\n    }\n    if (js_urls == null || js_urls.length === 0) {\n      run_callbacks();\n      return null;\n    }\n    console.debug(\"Bokeh: BokehJS not loaded, scheduling load and callback at\", now());\n    root._bokeh_is_loading = css_urls.length + js_urls.length;\n\n    function on_load() {\n      root._bokeh_is_loading--;\n      if (root._bokeh_is_loading === 0) {\n        console.debug(\"Bokeh: all BokehJS libraries/stylesheets loaded\");\n        run_callbacks()\n      }\n    }\n\n    function on_error(url) {\n      console.error(\"failed to load \" + url);\n    }\n\n    for (let i = 0; i < css_urls.length; i++) {\n      const url = css_urls[i];\n      const element = document.createElement(\"link\");\n      element.onload = on_load;\n      element.onerror = on_error.bind(null, url);\n      element.rel = \"stylesheet\";\n      element.type = \"text/css\";\n      element.href = url;\n      console.debug(\"Bokeh: injecting link tag for BokehJS stylesheet: \", url);\n      document.body.appendChild(element);\n    }\n\n    for (let i = 0; i < js_urls.length; i++) {\n      const url = js_urls[i];\n      const element = document.createElement('script');\n      element.onload = on_load;\n      element.onerror = on_error.bind(null, url);\n      element.async = false;\n      element.src = url;\n      console.debug(\"Bokeh: injecting script tag for BokehJS library: \", url);\n      document.head.appendChild(element);\n    }\n  };\n\n  function inject_raw_css(css) {\n    const element = document.createElement(\"style\");\n    element.appendChild(document.createTextNode(css));\n    document.body.appendChild(element);\n  }\n\n  const js_urls = [\"https://cdn.bokeh.org/bokeh/release/bokeh-3.5.0.min.js\", \"https://cdn.bokeh.org/bokeh/release/bokeh-gl-3.5.0.min.js\", \"https://cdn.bokeh.org/bokeh/release/bokeh-widgets-3.5.0.min.js\", \"https://cdn.bokeh.org/bokeh/release/bokeh-tables-3.5.0.min.js\", \"https://cdn.bokeh.org/bokeh/release/bokeh-mathjax-3.5.0.min.js\"];\n  const css_urls = [];\n\n  const inline_js = [    function(Bokeh) {\n      Bokeh.set_log_level(\"info\");\n    },\nfunction(Bokeh) {\n    }\n  ];\n\n  function run_inline_js() {\n    if (root.Bokeh !== undefined || force === true) {\n      try {\n            for (let i = 0; i < inline_js.length; i++) {\n      inline_js[i].call(root, root.Bokeh);\n    }\n\n      } catch (error) {display_loaded(error);throw error;\n      }if (force === true) {\n        display_loaded();\n      }} else if (Date.now() < root._bokeh_timeout) {\n      setTimeout(run_inline_js, 100);\n    } else if (!root._bokeh_failed_load) {\n      console.log(\"Bokeh: BokehJS failed to load within specified timeout.\");\n      root._bokeh_failed_load = true;\n    } else if (force !== true) {\n      const cell = $(document.getElementById(\"ed6bdc4c-4d67-45c4-ba7c-5b1085d10faf\")).parents('.cell').data().cell;\n      cell.output_area.append_execute_result(NB_LOAD_WARNING)\n    }\n  }\n\n  if (root._bokeh_is_loading === 0) {\n    console.debug(\"Bokeh: BokehJS loaded, going straight to plotting\");\n    run_inline_js();\n  } else {\n    load_libs(css_urls, js_urls, function() {\n      console.debug(\"Bokeh: BokehJS plotting callback run at\", now());\n      run_inline_js();\n    });\n  }\n}(window));"
     },
     "metadata": {},
     "output_type": "display_data"
    },
    {
     "data": {
      "text/html": [
       "\n",
       "  <div id=\"e1c3535a-b8fb-4018-a709-d41649793b7d\" data-root-id=\"p1314\" style=\"display: contents;\"></div>\n"
      ]
     },
     "metadata": {},
     "output_type": "display_data"
    },
    {
     "data": {
      "application/javascript": [
       "(function(root) {\n",
       "  function embed_document(root) {\n",
       "  const docs_json = {\"c463ed10-e51f-4f82-81a8-1640825a524f\":{\"version\":\"3.5.0\",\"title\":\"Bokeh Application\",\"roots\":[{\"type\":\"object\",\"name\":\"Figure\",\"id\":\"p1314\",\"attributes\":{\"x_range\":{\"type\":\"object\",\"name\":\"DataRange1d\",\"id\":\"p1315\"},\"y_range\":{\"type\":\"object\",\"name\":\"DataRange1d\",\"id\":\"p1316\"},\"x_scale\":{\"type\":\"object\",\"name\":\"LinearScale\",\"id\":\"p1323\"},\"y_scale\":{\"type\":\"object\",\"name\":\"LinearScale\",\"id\":\"p1324\"},\"title\":{\"type\":\"object\",\"name\":\"Title\",\"id\":\"p1321\"},\"renderers\":[{\"type\":\"object\",\"name\":\"GlyphRenderer\",\"id\":\"p1360\",\"attributes\":{\"data_source\":{\"type\":\"object\",\"name\":\"ColumnDataSource\",\"id\":\"p1348\",\"attributes\":{\"selected\":{\"type\":\"object\",\"name\":\"Selection\",\"id\":\"p1349\",\"attributes\":{\"indices\":[],\"line_indices\":[]}},\"selection_policy\":{\"type\":\"object\",\"name\":\"UnionRenderers\",\"id\":\"p1350\"},\"data\":{\"type\":\"map\",\"entries\":[[\"x\",{\"type\":\"ndarray\",\"array\":{\"type\":\"bytes\",\"data\":\"twA4wYFNlsGbiqtBeN4nwayYOsHR3xLCSPanwUVFMULxasZAdgEgwSHXFELGOutBT2XxwNkJJEInzDXCk8lKQp2QR8IZQx7Czsi1wJHXEkKu0r1AQSEIwssB+8GSicm/xU8JwXu22kBUjSNAVEYwQrhYesH9kS/C6I8mQrZWzMHUBlZAgCDvvzL+vsER8xxCj7kIwjxYPMLH3PFBKw/rQQtzX8KMCRlC8Aotv6QBRUFtgIjAQGwDQhmkML8qrRlC\"},\"shape\":[48],\"dtype\":\"float32\",\"order\":\"little\"}],[\"y\",{\"type\":\"ndarray\",\"array\":{\"type\":\"bytes\",\"data\":\"UCdbwXUay8Ei8LtADSG+Qb2ZhEEvaazBjxwUQkUUD8IPwbtBDpSZQSMLmkGYBkxBq+6rQbylukGDMzVB+NHNwcYXvMGreilBOjc1QvZcrkH6Uk1CAn0aQiq0JEI3FWPBwUGvQX3OKUG9LVRCX+INwlVjIsGkCWDBwD+zwSy+JkK4LRJCQ0AiQhfTIUKcAN/BixxVQfAIZcGhijVBwWpLQWrdkcEJB6FBgeURwkP3PELpTjJBvykuQmN0R0Jn49nB\"},\"shape\":[48],\"dtype\":\"float32\",\"order\":\"little\"}],[\"label\",[\"lot\",\"business\",\"type\",\"terrible\",\"doubt\",\"medical\",\"shame\",\"fat\",\"detail\",\"threaten\",\"photo\",\"attractive\",\"purpose\",\"privacy\",\"trauma\",\"gain\",\"painful\",\"threat\",\"hurtful\",\"social_medium\",\"tone\",\"intimate\",\"nature\",\"bridesmaid\",\"spite\",\"chick\",\"shallow\",\"skinny\",\"ntayou\",\"abort\",\"sexy\",\"confident\",\"cross_line\",\"dodge_bullet\",\"unsafe\",\"wig\",\"sabotage\",\"childbirth\",\"self_conscious\",\"unattractive\",\"invasive\",\"send_nude\",\"workout\",\"shaming\",\"anna\",\"stalker\",\"overbearing\",\"straighten\"]]]}}},\"view\":{\"type\":\"object\",\"name\":\"CDSView\",\"id\":\"p1361\",\"attributes\":{\"filter\":{\"type\":\"object\",\"name\":\"AllIndices\",\"id\":\"p1362\"}}},\"glyph\":{\"type\":\"object\",\"name\":\"Scatter\",\"id\":\"p1357\",\"attributes\":{\"x\":{\"type\":\"field\",\"field\":\"x\"},\"y\":{\"type\":\"field\",\"field\":\"y\"},\"size\":{\"type\":\"value\",\"value\":8},\"line_color\":{\"type\":\"value\",\"value\":\"blue\"},\"fill_color\":{\"type\":\"value\",\"value\":\"blue\"},\"hatch_color\":{\"type\":\"value\",\"value\":\"blue\"}}},\"nonselection_glyph\":{\"type\":\"object\",\"name\":\"Scatter\",\"id\":\"p1358\",\"attributes\":{\"x\":{\"type\":\"field\",\"field\":\"x\"},\"y\":{\"type\":\"field\",\"field\":\"y\"},\"size\":{\"type\":\"value\",\"value\":8},\"line_color\":{\"type\":\"value\",\"value\":\"blue\"},\"line_alpha\":{\"type\":\"value\",\"value\":0.1},\"fill_color\":{\"type\":\"value\",\"value\":\"blue\"},\"fill_alpha\":{\"type\":\"value\",\"value\":0.1},\"hatch_color\":{\"type\":\"value\",\"value\":\"blue\"},\"hatch_alpha\":{\"type\":\"value\",\"value\":0.1}}},\"muted_glyph\":{\"type\":\"object\",\"name\":\"Scatter\",\"id\":\"p1359\",\"attributes\":{\"x\":{\"type\":\"field\",\"field\":\"x\"},\"y\":{\"type\":\"field\",\"field\":\"y\"},\"size\":{\"type\":\"value\",\"value\":8},\"line_color\":{\"type\":\"value\",\"value\":\"blue\"},\"line_alpha\":{\"type\":\"value\",\"value\":0.2},\"fill_color\":{\"type\":\"value\",\"value\":\"blue\"},\"fill_alpha\":{\"type\":\"value\",\"value\":0.2},\"hatch_color\":{\"type\":\"value\",\"value\":\"blue\"},\"hatch_alpha\":{\"type\":\"value\",\"value\":0.2}}}}},{\"type\":\"object\",\"name\":\"GlyphRenderer\",\"id\":\"p1369\",\"attributes\":{\"data_source\":{\"type\":\"object\",\"name\":\"ColumnDataSource\",\"id\":\"p1351\",\"attributes\":{\"selected\":{\"type\":\"object\",\"name\":\"Selection\",\"id\":\"p1352\",\"attributes\":{\"indices\":[],\"line_indices\":[]}},\"selection_policy\":{\"type\":\"object\",\"name\":\"UnionRenderers\",\"id\":\"p1353\"},\"data\":{\"type\":\"map\",\"entries\":[[\"x\",{\"type\":\"ndarray\",\"array\":{\"type\":\"bytes\",\"data\":\"m8iKwXa5hcBJj7dB2UNbQbkYBkIHB9jBfPVdwUUDi8EhjQ9BSL5bwRvRsMGSfkJBfjxAQdquAEBemexAyiIDQhLDSsFW565BHkwZQdIGjMGdoRxCrZPKQCtMfcHGVD9AGGHuQVVbe8EokNpAj39EwLb7N8CzuONB\"},\"shape\":[30],\"dtype\":\"float32\",\"order\":\"little\"}],[\"y\",{\"type\":\"ndarray\",\"array\":{\"type\":\"bytes\",\"data\":\"FLZUQUuSD0B2yc5BpEjxQV7mMsEAzx3CbPp+QbNdk8C3MYDB5+ehwPtZF8JGl41Bx7soQTufVsI0225BOtokwUk+X8Frq1FCq/NQwlM2jcHdUZ6+cxTAwLJv/8GnlVXCrcSAQK1YEMIgXyPC2SCiwOZcokC0KUXB\"},\"shape\":[30],\"dtype\":\"float32\",\"order\":\"little\"}],[\"label\",[\"deal\",\"pass\",\"forget\",\"argue\",\"win\",\"split\",\"pretend\",\"separate\",\"bar\",\"promise\",\"earn\",\"bro\",\"buddy\",\"cake\",\"btw\",\"video_game\",\"vs\",\"pride\",\"candy\",\"reward\",\"grandfather\",\"daddy\",\"balance\",\"chip\",\"\\ud83d\\ude02\",\"bonus\",\"tonight\",\"usual\",\"throw_tantrum\",\"coin\"]]]}}},\"view\":{\"type\":\"object\",\"name\":\"CDSView\",\"id\":\"p1370\",\"attributes\":{\"filter\":{\"type\":\"object\",\"name\":\"AllIndices\",\"id\":\"p1371\"}}},\"glyph\":{\"type\":\"object\",\"name\":\"Scatter\",\"id\":\"p1366\",\"attributes\":{\"x\":{\"type\":\"field\",\"field\":\"x\"},\"y\":{\"type\":\"field\",\"field\":\"y\"},\"size\":{\"type\":\"value\",\"value\":8},\"line_color\":{\"type\":\"value\",\"value\":\"red\"},\"fill_color\":{\"type\":\"value\",\"value\":\"red\"},\"hatch_color\":{\"type\":\"value\",\"value\":\"red\"}}},\"nonselection_glyph\":{\"type\":\"object\",\"name\":\"Scatter\",\"id\":\"p1367\",\"attributes\":{\"x\":{\"type\":\"field\",\"field\":\"x\"},\"y\":{\"type\":\"field\",\"field\":\"y\"},\"size\":{\"type\":\"value\",\"value\":8},\"line_color\":{\"type\":\"value\",\"value\":\"red\"},\"line_alpha\":{\"type\":\"value\",\"value\":0.1},\"fill_color\":{\"type\":\"value\",\"value\":\"red\"},\"fill_alpha\":{\"type\":\"value\",\"value\":0.1},\"hatch_color\":{\"type\":\"value\",\"value\":\"red\"},\"hatch_alpha\":{\"type\":\"value\",\"value\":0.1}}},\"muted_glyph\":{\"type\":\"object\",\"name\":\"Scatter\",\"id\":\"p1368\",\"attributes\":{\"x\":{\"type\":\"field\",\"field\":\"x\"},\"y\":{\"type\":\"field\",\"field\":\"y\"},\"size\":{\"type\":\"value\",\"value\":8},\"line_color\":{\"type\":\"value\",\"value\":\"red\"},\"line_alpha\":{\"type\":\"value\",\"value\":0.2},\"fill_color\":{\"type\":\"value\",\"value\":\"red\"},\"fill_alpha\":{\"type\":\"value\",\"value\":0.2},\"hatch_color\":{\"type\":\"value\",\"value\":\"red\"},\"hatch_alpha\":{\"type\":\"value\",\"value\":0.2}}}}}],\"toolbar\":{\"type\":\"object\",\"name\":\"Toolbar\",\"id\":\"p1322\",\"attributes\":{\"tools\":[{\"type\":\"object\",\"name\":\"PanTool\",\"id\":\"p1335\"},{\"type\":\"object\",\"name\":\"WheelZoomTool\",\"id\":\"p1336\",\"attributes\":{\"renderers\":\"auto\"}},{\"type\":\"object\",\"name\":\"BoxZoomTool\",\"id\":\"p1337\",\"attributes\":{\"overlay\":{\"type\":\"object\",\"name\":\"BoxAnnotation\",\"id\":\"p1338\",\"attributes\":{\"syncable\":false,\"line_color\":\"black\",\"line_alpha\":1.0,\"line_width\":2,\"line_dash\":[4,4],\"fill_color\":\"lightgrey\",\"fill_alpha\":0.5,\"level\":\"overlay\",\"visible\":false,\"left\":{\"type\":\"number\",\"value\":\"nan\"},\"right\":{\"type\":\"number\",\"value\":\"nan\"},\"top\":{\"type\":\"number\",\"value\":\"nan\"},\"bottom\":{\"type\":\"number\",\"value\":\"nan\"},\"left_units\":\"canvas\",\"right_units\":\"canvas\",\"top_units\":\"canvas\",\"bottom_units\":\"canvas\",\"handles\":{\"type\":\"object\",\"name\":\"BoxInteractionHandles\",\"id\":\"p1344\",\"attributes\":{\"all\":{\"type\":\"object\",\"name\":\"AreaVisuals\",\"id\":\"p1343\",\"attributes\":{\"fill_color\":\"white\",\"hover_fill_color\":\"lightgray\"}}}}}}}},{\"type\":\"object\",\"name\":\"SaveTool\",\"id\":\"p1345\"},{\"type\":\"object\",\"name\":\"ResetTool\",\"id\":\"p1346\"},{\"type\":\"object\",\"name\":\"HelpTool\",\"id\":\"p1347\"}]}},\"left\":[{\"type\":\"object\",\"name\":\"LinearAxis\",\"id\":\"p1330\",\"attributes\":{\"ticker\":{\"type\":\"object\",\"name\":\"BasicTicker\",\"id\":\"p1331\",\"attributes\":{\"mantissas\":[1,2,5]}},\"formatter\":{\"type\":\"object\",\"name\":\"BasicTickFormatter\",\"id\":\"p1332\"},\"major_label_policy\":{\"type\":\"object\",\"name\":\"AllLabels\",\"id\":\"p1333\"}}}],\"below\":[{\"type\":\"object\",\"name\":\"LinearAxis\",\"id\":\"p1325\",\"attributes\":{\"ticker\":{\"type\":\"object\",\"name\":\"BasicTicker\",\"id\":\"p1326\",\"attributes\":{\"mantissas\":[1,2,5]}},\"formatter\":{\"type\":\"object\",\"name\":\"BasicTickFormatter\",\"id\":\"p1327\"},\"major_label_policy\":{\"type\":\"object\",\"name\":\"AllLabels\",\"id\":\"p1328\"}}}],\"center\":[{\"type\":\"object\",\"name\":\"Grid\",\"id\":\"p1329\",\"attributes\":{\"axis\":{\"id\":\"p1325\"}}},{\"type\":\"object\",\"name\":\"Grid\",\"id\":\"p1334\",\"attributes\":{\"dimension\":1,\"axis\":{\"id\":\"p1330\"}}},{\"type\":\"object\",\"name\":\"LabelSet\",\"id\":\"p1372\",\"attributes\":{\"source\":{\"id\":\"p1348\"},\"x\":{\"type\":\"field\",\"field\":\"x\"},\"y\":{\"type\":\"field\",\"field\":\"y\"},\"text\":{\"type\":\"field\",\"field\":\"label\"},\"x_offset\":{\"type\":\"value\",\"value\":6},\"y_offset\":{\"type\":\"value\",\"value\":3}}},{\"type\":\"object\",\"name\":\"LabelSet\",\"id\":\"p1376\",\"attributes\":{\"source\":{\"id\":\"p1351\"},\"x\":{\"type\":\"field\",\"field\":\"x\"},\"y\":{\"type\":\"field\",\"field\":\"y\"},\"text\":{\"type\":\"field\",\"field\":\"label\"},\"x_offset\":{\"type\":\"value\",\"value\":6},\"y_offset\":{\"type\":\"value\",\"value\":3}}}]}}]}};\n",
       "  const render_items = [{\"docid\":\"c463ed10-e51f-4f82-81a8-1640825a524f\",\"roots\":{\"p1314\":\"e1c3535a-b8fb-4018-a709-d41649793b7d\"},\"root_ids\":[\"p1314\"]}];\n",
       "  void root.Bokeh.embed.embed_items_notebook(docs_json, render_items);\n",
       "  }\n",
       "  if (root.Bokeh !== undefined) {\n",
       "    embed_document(root);\n",
       "  } else {\n",
       "    let attempts = 0;\n",
       "    const timer = setInterval(function(root) {\n",
       "      if (root.Bokeh !== undefined) {\n",
       "        clearInterval(timer);\n",
       "        embed_document(root);\n",
       "      } else {\n",
       "        attempts++;\n",
       "        if (attempts > 100) {\n",
       "          clearInterval(timer);\n",
       "          console.log(\"Bokeh: ERROR: Unable to run BokehJS code because BokehJS library is missing\");\n",
       "        }\n",
       "      }\n",
       "    }, 10, root)\n",
       "  }\n",
       "})(window);"
      ],
      "application/vnd.bokehjs_exec.v0+json": ""
     },
     "metadata": {
      "application/vnd.bokehjs_exec.v0+json": {
       "id": "p1314"
      }
     },
     "output_type": "display_data"
    }
   ],
   "source": [
    "from bokeh.io import show, output_notebook, output_file\n",
    "from bokeh.plotting import figure\n",
    "from bokeh.models import ColumnDataSource, LabelSet\n",
    "\n",
    "# Save as HTML\n",
    "output_file(\"biases_plot.html\")  \n",
    "\n",
    "# Set up the Bokeh plot\n",
    "output_notebook()\n",
    "\n",
    "p = figure()\n",
    "\n",
    "# Create ColumnDataSource for X_target1 (blue)\n",
    "source1 = ColumnDataSource(data=dict(x=X_target1[:, 0], y=X_target1[:, 1], label=[model.wv.index_to_key[idx] for idx in target1_idx]))\n",
    "\n",
    "# Create ColumnDataSource for X_target2 (red)\n",
    "source2 = ColumnDataSource(data=dict(x=X_target2[:, 0], y=X_target2[:, 1], label=[model.wv.index_to_key[idx] for idx in target2_idx]))\n",
    "\n",
    "# Add scatter plot for X_target1 (blue)\n",
    "p.scatter(x='x', y='y', color='blue', size=8, source=source1)\n",
    "\n",
    "# Add scatter plot for X_target2 (red)\n",
    "p.scatter(x='x', y='y', color='red', size=8, source=source2)\n",
    "\n",
    "# Add labels for X_target1\n",
    "labels1 = LabelSet(x='x', y='y', text='label', x_offset=6, y_offset=3, source=source1)\n",
    "p.add_layout(labels1)\n",
    "\n",
    "# Add labels for X_target2\n",
    "labels2 = LabelSet(x='x', y='y', text='label', x_offset=6, y_offset=3, source=source2)\n",
    "p.add_layout(labels2)\n",
    "\n",
    "# Show the plot\n",
    "show(p)"
   ]
  },
  {
   "cell_type": "markdown",
   "metadata": {},
   "source": [
    "## 💭 Reflection\n",
    "\n",
    "Note that these binary target concepts are often a product of ideology and normativity in society: the gender binary is a good example. When checking for biases towards certain concepts, make sure you consider the fact that you are the one creating / reproducing these concepts, and that you may be reinforcing a constructed binary!\n",
    "\n",
    "Also note that determining your own target concepts and biases is a **iterative** process. Try changing some of the words in the target concepts to see how the biased words and plot change, and discuss with your classmates what you think makes for a coherent and robust target set."
   ]
  },
  {
   "cell_type": "markdown",
   "metadata": {
    "id": "riINX9wVyFRJ",
    "tags": []
   },
   "source": [
    "<a id='target'></a>\n",
    "# Existing Target Sets\n",
    "\n",
    "Here are some other target sets that have been previously used in the literature:\n",
    "\n",
    "* *Gender target sets taken from Nosek, Banaji, and Greenwald 2002.*\n",
    "    - Female: `sister, female, woman, girl, daughter, she, hers, her`.\n",
    "    - Male: `brother, male, man, boy, son, he, his, him`.\n",
    "* *Religion target sets taken from Garg et al. 2018.*\n",
    "    - Islam: `allah, ramadan, turban, emir, salaam, sunni, koran, imam, sultan, prophet, veil, ayatollah, shiite, mosque, islam, sheik, muslim, muhammad`.\n",
    "    - Christianity: `baptism, messiah, catholicism, resurrection, christianity, salva-tion, protestant, gospel, trinity, jesus, christ, christian, cross,catholic, church`.\n",
    "* *Racial target sets taken from Garg et al. 2017*\n",
    "    - White last names: `harris, nelson, robinson, thompson, moore, wright, anderson, clark, jackson, taylor, scott, davis, allen, adams, lewis, williams, jones, wilson, martin, johnson`.\n",
    "    - Hispanic last names: `ruiz, alvarez, vargas, castillo, gomez, soto,gonzalez, sanchez, rivera, mendoza, martinez, torres, ro-driguez, perez, lopez, medina, diaz, garcia, castro, cruz`.\n",
    "    - Asian last names: `cho, wong, tang, huang, chu, chung, ng,wu, liu, chen, lin, yang, kim, chang, shah, wang, li, khan,singh, hong`.\n",
    "    - Russian last names: `gurin, minsky, sokolov, markov, maslow, novikoff, mishkin, smirnov, orloff, ivanov, sokoloff, davidoff, savin, romanoff, babinski, sorokin, levin, pavlov, rodin, agin`.\n",
    "* *Career/family target sets taken from Garg et al. 2018.*\n",
    "    - Career: `executive, management, professional, corporation, salary, office, business, career`.\n",
    "    - Family: `home, parents, children, family, cousins, marriage, wedding, relatives.Math: math, algebra, geometry, calculus, equations, computation, numbers, addition`.\n",
    "* *Arts/Science target sets taken from Garg et al. 2018.*\n",
    "    - Arts: `poetry, art, sculpture, dance, literature, novel, symphony, drama`.\n",
    "    - Science: `science, technology, physics, chemistry, Einstein, NASA, experiment, astronomy`."
   ]
  },
  {
   "cell_type": "markdown",
   "metadata": {
    "id": "aHCHMAPYTCVX"
   },
   "source": [
    "### Sources\n",
    "\n",
    "Nosek, B. A., Banaji, M. R., & Greenwald, A. G. (2002). Harvesting implicit group attitudes and beliefs from a demonstration web site. Group Dynamics, 6(1), 101–115. https://doi.org/10.1037/1089-2699.6.1.101\n",
    "\n",
    "Garg, N., Schiebinger, L., Jurafsky, D., & Zou, J. (2017). Word Embeddings Quantify 100 Years of Gender and Ethnic Stereotypes, 1–33."
   ]
  }
 ],
 "metadata": {
  "colab": {
   "collapsed_sections": [],
   "name": "Week 4-1 Word Embeddings.ipynb",
   "provenance": []
  },
  "kernelspec": {
   "display_name": "dlab",
   "language": "python",
   "name": "dlab"
  },
  "language_info": {
   "codemirror_mode": {
    "name": "ipython",
    "version": 3
   },
   "file_extension": ".py",
   "mimetype": "text/x-python",
   "name": "python",
   "nbconvert_exporter": "python",
   "pygments_lexer": "ipython3",
   "version": "3.10.14"
  }
 },
 "nbformat": 4,
 "nbformat_minor": 4
}
