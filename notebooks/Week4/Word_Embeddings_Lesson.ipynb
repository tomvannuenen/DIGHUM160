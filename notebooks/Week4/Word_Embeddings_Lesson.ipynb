{
 "cells": [
  {
   "cell_type": "markdown",
   "metadata": {
    "id": "WClw_VPOmwXd"
   },
   "source": [
    "<img src=\"../../Img/backdrop-wh.png\" alt=\"Drawing\" style=\"width: 300px;\"/>  \n",
    "\n",
    "# Word Embeddings\n",
    "\n",
    "* * * "
   ]
  },
  {
   "cell_type": "markdown",
   "metadata": {
    "id": "WClw_VPOmwXd",
    "jp-MarkdownHeadingCollapsed": true,
    "tags": []
   },
   "source": [
    "<div class=\"alert alert-success\">  \n",
    "    \n",
    "### Learning Objectives \n",
    "    \n",
    "* Understand word embeddings, and how they are used in information retrieval.\n",
    "* Use `gensim`'s `word2vec` method to create word vectors for a corpus.\n",
    "* Use word embeddings to calculate word similarity.\n",
    "* Use word embeddings to reflect on implicit biases in your data.\n",
    "</div>\n",
    "\n",
    "### Icons Used in This Notebook\n",
    "🔔 **Question**: A quick question to help you understand what's going on.<br>\n",
    "💡 **Tip**: How to do something a bit more efficiently or effectively.<br>\n",
    "⚠️ **Warning:** Heads-up about tricky stuff or common mistakes.<br>\n",
    "💭 **Reflection**: Reflecting on ethical implications, biases, and social impact in data science.<br>\n",
    "\n",
    "### Sections\n",
    "1. [Word Embeddings](#we)\n",
    "2. [Using Comments Data](#comments)\n",
    "3. [Constructing a Word2Vec Model](#w2v)\n",
    "4. [Word Similarity](#sim)\n",
    "5. [Exploring Language Biases With Word Embeddings](#bias)\n"
   ]
  },
  {
   "cell_type": "markdown",
   "metadata": {
    "id": "MfjNP33MZOoi"
   },
   "source": [
    "<a id='we'></a>\n",
    "\n",
    "# Word Embeddings\n",
    "\n",
    "The goal of word embedding models is to learn **numerical representations** of text corpora. Like with TF-IDF, it's all about how we construct that numerical representation.\n",
    "\n",
    "When using word embeddings, we look for a **vector** of numbers to represent each term. The actual numbers themselves won't be meaningful to us as humans. However, if successful, the vectors for each term should encode information about the meaning or concept the term represents, as well as the relationship between it and other terms in the vocabulary.\n",
    "\n",
    "In this notebook, we'll work with word embeddings using Word2Vec.\n",
    "\n",
    "## Word2Vec\n",
    "\n",
    "**Word2Vec** is one example of a word embeddings model. It learns by taking words and their contexts (e.g. sentences) into account, and can then try to predict other words. Given enough data, usage and contexts, Word2Vec can make accurate guesses about a word’s meaning based on its appearances. Those guesses can be used to establish a word’s association with other words (e.g. \"Paris\" is to \"France\" as “Berlin” is to “Germany”), or cluster documents and classify them by topic.\n",
    "\n",
    "<img src=\"../../img/we.png\" alt=\"Word Embeddings\" width=\"600\"/>\n",
    "\n",
    "Word vector models such as Word2Vec are fully **unsupervised**: they learn all of these meanings and relationships without any advance knowledge. Unsupervised learning requires the specification of a right task. We won't go into detail in this lesson, but you can roughly think of the task as predicting nearby words, given a specific word. Read [this post](https://tomvannuenen.medium.com/analyzing-reddit-communities-with-python-part-6-word-embeddings-f92bba876d60) if you want a deeper introduction.\n",
    "\n",
    "We will be using the `gensim` package, which offers Word2Vec."
   ]
  },
  {
   "cell_type": "code",
   "execution_count": 1,
   "metadata": {},
   "outputs": [],
   "source": [
    "# Package imports\n",
    "import os\n",
    "import pandas as pd\n",
    "import numpy as np\n",
    "\n",
    "import pickle\n",
    "from gensim.models import Word2Vec\n",
    "import multiprocessing\n",
    "\n",
    "import matplotlib.pyplot as plt\n",
    "from sklearn.manifold import TSNE"
   ]
  },
  {
   "cell_type": "markdown",
   "metadata": {},
   "source": [
    "<a id='comments'></a>\n",
    "\n",
    "# Using Comments Data\n",
    "\n",
    "As we will be considering the language biases in the next notebook, we will use the **comments** of the r/amitheasshole subreddit this time. The thinking behind this is that this data will be derived from more people, and include more evaluative statements. After all, comments on r/amitheasshole generally evaluate the original posts.\n",
    "\n",
    "💭 **Reflection**: Whether you want to be using submissions or comments for your own data depends on the question you are asking of that data! Make sure to think about this and discuss it with teammates.\n",
    "\n",
    "To save us some time, we have done the preprocessing for you and saved the trigrams (a list of lists) in a pickle file."
   ]
  },
  {
   "cell_type": "code",
   "execution_count": 2,
   "metadata": {},
   "outputs": [],
   "source": [
    "# Ensure data files are downloaded\n",
    "!git lfs pull --include=\"data/*.pickle\""
   ]
  },
  {
   "cell_type": "code",
   "execution_count": 3,
   "metadata": {},
   "outputs": [],
   "source": [
    "with open('../../data/aita_comment_trigrams.pickle', 'rb') as f:\n",
    "    # Load the object from the file\n",
    "    comments = pickle.load(f)"
   ]
  },
  {
   "cell_type": "code",
   "execution_count": 4,
   "metadata": {},
   "outputs": [
    {
     "data": {
      "text/plain": [
       "['like',\n",
       " 'genuine',\n",
       " 'reason',\n",
       " 'upset',\n",
       " 'question',\n",
       " 'sound',\n",
       " 'people',\n",
       " 'ask',\n",
       " 'curious',\n",
       " 'direct',\n",
       " 'question',\n",
       " 'superior']"
      ]
     },
     "execution_count": 4,
     "metadata": {},
     "output_type": "execute_result"
    }
   ],
   "source": [
    "# Split into lists of words for Word2Vec\n",
    "comment_list = [comment.split() for comment in comments]\n",
    "comment_list[0]"
   ]
  },
  {
   "cell_type": "markdown",
   "metadata": {},
   "source": [
    "**Use the `3_Preprocessing_Project.ipynb` notebook if you want to preprocess your own comment data.**\n",
    "\n",
    "**Use the `6_Word_Embeddings_Project.ipynb` notebook to run the Word2Vec operations explained in this notebook on your own data.**"
   ]
  },
  {
   "cell_type": "markdown",
   "metadata": {
    "id": "Wk2mxX1HZOpk"
   },
   "source": [
    "<a id='w2v'></a>\n",
    "\n",
    "# Constructing a Word2Vec Model\n",
    "\n",
    "Let's create our word embeddings model. The input to this model is our corpus split up into words. The model's output is a set of \"vectors\" (one for each word) in $N$ dimensions (we choose $N$ before creating the model). Think of these vectors as \"features\", capturing latent meaning.\n",
    "\n",
    "This model allows us to group the vectors of similar words together in vector space. We can then reduce the dimensionality to visualize the results in a way humans can understand (such as in a 2-dimensional space), or to perform linear algebra operations in order to find out to what extent words are related.\n",
    "\n",
    "We now instantiate and train our Word2Vec model, using the parameters below."
   ]
  },
  {
   "cell_type": "code",
   "execution_count": 6,
   "metadata": {
    "id": "sQq117-pZOpl"
   },
   "outputs": [],
   "source": [
    "cores = multiprocessing.cpu_count() # Number of cores at your disposal\n",
    "\n",
    "n_features = 300     # Word vector dimensionality (how many features each word will be given)\n",
    "min_word_count = 10  # Minimum word count to be taken into account\n",
    "n_workers = cores    # Number of threads to run in parallel (equal to your amount of cores)\n",
    "window = 5           # Context window size\n",
    "downsampling = 1e-2  # Downsample setting for frequent words\n",
    "seed = 1             # Seed for the random number generator (to create reproducible results)\n",
    "sg = 1               # Skip-gram = 1, CBOW = 0\n",
    "epochs = 20          # Number of iterations over the corpus\n",
    "\n",
    "model = Word2Vec(\n",
    "    sentences=comment_list,\n",
    "    workers=n_workers,\n",
    "    vector_size=n_features,\n",
    "    min_count=min_word_count,\n",
    "    window=window,\n",
    "    sample=downsampling,\n",
    "    seed=seed,\n",
    "    sg=sg)"
   ]
  },
  {
   "cell_type": "markdown",
   "metadata": {
    "id": "xrNV3eYeZOpo"
   },
   "source": [
    "That was it! We have a Word Embeddings model now. Let's save it so that we don't have to train it again. Then, we can reload the embeddings so that we don't have to train it every single time:"
   ]
  },
  {
   "cell_type": "code",
   "execution_count": 7,
   "metadata": {
    "id": "JRX-lzwSzFI5"
   },
   "outputs": [],
   "source": [
    "model.save('../../data/aita_comments.emb')"
   ]
  },
  {
   "cell_type": "code",
   "execution_count": 8,
   "metadata": {
    "id": "SZMDwWBuGTn7"
   },
   "outputs": [],
   "source": [
    "model = Word2Vec.load('../../data/aita_comments.emb')"
   ]
  },
  {
   "cell_type": "markdown",
   "metadata": {
    "id": "wWQC4S9IZOpu"
   },
   "source": [
    "How many terms are in our vocabulary? Whenever interacting with the word vector dictionary, we use the `wv` attribute:"
   ]
  },
  {
   "cell_type": "code",
   "execution_count": 9,
   "metadata": {},
   "outputs": [
    {
     "data": {
      "text/plain": [
       "14732"
      ]
     },
     "execution_count": 9,
     "metadata": {},
     "output_type": "execute_result"
    }
   ],
   "source": [
    "len(model.wv)"
   ]
  },
  {
   "cell_type": "markdown",
   "metadata": {
    "id": "WVdNakwKfm3H"
   },
   "source": [
    "Let's take a peek at the word vectors our model has learned. We can take a look at the individual words using the `index_to_key` attribute, and the word vectors themselves can be accessed with the `vectors` attribute:"
   ]
  },
  {
   "cell_type": "code",
   "execution_count": 10,
   "metadata": {
    "colab": {
     "base_uri": "https://localhost:8080/",
     "height": 487
    },
    "executionInfo": {
     "elapsed": 1224,
     "status": "ok",
     "timestamp": 1640016826009,
     "user": {
      "displayName": "Tom van Nuenen",
      "photoUrl": "https://lh3.googleusercontent.com/a-/AOh14GhuBmxDvW5I_LJfZtwlPqMFD8QGLVPP3skvpkTnuQ=s64",
      "userId": "10012302451096885058"
     },
     "user_tz": -60
    },
    "id": "R6A19I38fjTT",
    "outputId": "e6d18f9d-cd53-4ae6-d17e-7cf353618735"
   },
   "outputs": [
    {
     "data": {
      "text/plain": [
       "'like'"
      ]
     },
     "execution_count": 10,
     "metadata": {},
     "output_type": "execute_result"
    }
   ],
   "source": [
    "model.wv.index_to_key[0]"
   ]
  },
  {
   "cell_type": "code",
   "execution_count": 11,
   "metadata": {},
   "outputs": [
    {
     "data": {
      "text/plain": [
       "array([ 0.06972896,  0.04831633, -0.03532837,  0.11322905, -0.13132215,\n",
       "       -0.07211444,  0.01718011,  0.25822455, -0.24687158, -0.08261455,\n",
       "        0.12933466, -0.19865948,  0.02441347, -0.07258688, -0.06310633,\n",
       "       -0.080525  , -0.03006225,  0.11735125, -0.02430726,  0.00393944,\n",
       "        0.01813346,  0.02058853,  0.06824586,  0.07632922, -0.02995771,\n",
       "        0.11779196, -0.23738071, -0.11303835, -0.10558673, -0.06256676,\n",
       "       -0.2163336 , -0.05085296,  0.13127297,  0.15179332,  0.16157547,\n",
       "        0.03317627,  0.09070746, -0.03085214, -0.00076077,  0.07771728,\n",
       "       -0.00369934,  0.01883927, -0.14185299, -0.01557552, -0.04484212,\n",
       "        0.05995487,  0.06924436, -0.0103171 , -0.2127502 ,  0.27500436,\n",
       "       -0.05562322,  0.0641532 , -0.05268604,  0.07073952,  0.23444669,\n",
       "        0.11393041,  0.04565021, -0.147338  ,  0.1466311 , -0.04711615,\n",
       "        0.02928305, -0.01234193, -0.0381604 ,  0.01441028,  0.06990473,\n",
       "       -0.01231115,  0.02855572, -0.09838304, -0.15947893,  0.05405422,\n",
       "        0.13137046,  0.19470914,  0.12733582,  0.01824575,  0.04398378,\n",
       "        0.19137879,  0.04891404,  0.13961226,  0.03181271,  0.00258553,\n",
       "       -0.05782497, -0.05939348,  0.06273335,  0.26730362, -0.07750706,\n",
       "        0.11114921, -0.01172744, -0.20249166, -0.10399335,  0.1122653 ,\n",
       "       -0.03576495,  0.00095977,  0.05428548, -0.084015  ,  0.01558359,\n",
       "        0.0204505 ,  0.10632527, -0.0295452 , -0.120603  ,  0.16514833,\n",
       "       -0.10231609, -0.00337102, -0.02544182,  0.06439074,  0.00556679,\n",
       "        0.0641294 , -0.13080597,  0.08253254, -0.03383883,  0.05813088,\n",
       "       -0.04488746, -0.02221683, -0.34001395,  0.11280115,  0.02244426,\n",
       "        0.06728279,  0.15112871,  0.10344055, -0.07804188,  0.04657172,\n",
       "        0.15185003,  0.17118894,  0.03581804,  0.13333572,  0.04679523,\n",
       "       -0.02478975,  0.07472927, -0.18692422, -0.01784412,  0.17018099,\n",
       "        0.14263152,  0.08486056,  0.189011  , -0.08913093,  0.04366898,\n",
       "       -0.13710718, -0.02326449, -0.10686854,  0.09092064, -0.18229789,\n",
       "        0.1338698 , -0.10324919, -0.12226593,  0.04301924,  0.2092683 ,\n",
       "       -0.13936996, -0.02385573,  0.01586488,  0.2803572 , -0.1300999 ,\n",
       "        0.04314219, -0.0247167 ,  0.05359926,  0.06757168,  0.08980858,\n",
       "        0.09768511, -0.08123951, -0.02773778,  0.04024557,  0.05349227,\n",
       "       -0.00781179,  0.23911524, -0.00378804,  0.1932426 , -0.01792984,\n",
       "       -0.10631607, -0.10837325,  0.10069308,  0.16936459,  0.23585181,\n",
       "        0.1204999 ,  0.00587316,  0.10781255,  0.02787988,  0.13066769,\n",
       "       -0.07798188, -0.02561701, -0.14631057, -0.06842983, -0.13449529,\n",
       "       -0.28762254, -0.19557467, -0.10314042, -0.13117683, -0.06744516,\n",
       "       -0.01814193, -0.10745368, -0.1365575 ,  0.08672556,  0.07844242,\n",
       "        0.05476734,  0.07528639,  0.05417397, -0.07094816, -0.07235119,\n",
       "        0.07144608, -0.09822802, -0.15982045, -0.07376467,  0.07070344,\n",
       "       -0.14018497,  0.07347917,  0.07687006, -0.08068652,  0.26380226,\n",
       "       -0.0007846 ,  0.16294457, -0.13454767, -0.1596258 , -0.04930457,\n",
       "       -0.17218558, -0.05077429, -0.06125629, -0.02921711,  0.20592217,\n",
       "       -0.10449939, -0.09295119, -0.24913773,  0.02469114, -0.2208681 ,\n",
       "        0.17163737, -0.03725341, -0.2121243 , -0.22537793, -0.02859981,\n",
       "       -0.13936427, -0.02355383,  0.08015279,  0.01323629,  0.01605961,\n",
       "        0.08136332,  0.01043537, -0.08833097, -0.05362969, -0.1345361 ,\n",
       "       -0.08580825, -0.06068165,  0.16116428, -0.05103737,  0.00394964,\n",
       "        0.02857147, -0.03080006, -0.02079612,  0.12230988,  0.07425825,\n",
       "       -0.11877253,  0.01387128,  0.05718359, -0.1033196 ,  0.1558307 ,\n",
       "       -0.00321037,  0.18341736, -0.07681801,  0.00864147, -0.09789328,\n",
       "       -0.11998409,  0.14830126,  0.19071935, -0.20827273, -0.09915246,\n",
       "       -0.02505091,  0.01503347, -0.06833737,  0.04105566, -0.06721511,\n",
       "        0.15081559,  0.16149278, -0.10113255,  0.15955797,  0.09540869,\n",
       "       -0.00232568,  0.09897308,  0.1636315 ,  0.23405187,  0.00742068,\n",
       "        0.05571673,  0.16357878,  0.10203598,  0.10991655,  0.09329707,\n",
       "        0.19895598,  0.03401742,  0.01787085, -0.16641416,  0.12277445,\n",
       "       -0.16285121, -0.27851713, -0.065437  , -0.04176481,  0.10850512,\n",
       "        0.07303055,  0.16373137,  0.14992541, -0.2380728 ,  0.36283526,\n",
       "        0.13918705,  0.02451139, -0.01274513,  0.18586905, -0.06570581],\n",
       "      dtype=float32)"
      ]
     },
     "execution_count": 11,
     "metadata": {},
     "output_type": "execute_result"
    }
   ],
   "source": [
    "model.wv.vectors[0]"
   ]
  },
  {
   "cell_type": "markdown",
   "metadata": {},
   "source": [
    "Looking at it won't make a whole lot of sense to us! It's just a bunch of numbers. However, we can do semantic operations on these vectors, such as getting related terms."
   ]
  },
  {
   "cell_type": "markdown",
   "metadata": {
    "id": "xw4th__0ZOp0"
   },
   "source": [
    "<a id='sim'></a>\n",
    "\n",
    "# Word Similarity\n",
    "\n",
    "With the information in our word embeddings model, we can try to find similarities between words that interest us (i.e. words that have a similar vector). Let's create a function that retrieves related terms to some input. We're going to use the `most_similar()` function in `gensim` as part of this helper function."
   ]
  },
  {
   "cell_type": "code",
   "execution_count": 12,
   "metadata": {
    "id": "v1HVouFqZOp0"
   },
   "outputs": [],
   "source": [
    "def get_most_similar_terms(model, token, topn=20):\n",
    "    \"\"\"Look up the top N most similar terms to the token.\"\"\"\n",
    "    for word, similarity in model.wv.most_similar(positive=[token], topn=topn):\n",
    "        print(f\"{word}: {round(similarity, 3)}\")"
   ]
  },
  {
   "cell_type": "code",
   "execution_count": 13,
   "metadata": {
    "colab": {
     "base_uri": "https://localhost:8080/"
    },
    "executionInfo": {
     "elapsed": 304,
     "status": "ok",
     "timestamp": 1639950052918,
     "user": {
      "displayName": "Tom van Nuenen",
      "photoUrl": "https://lh3.googleusercontent.com/a-/AOh14GhuBmxDvW5I_LJfZtwlPqMFD8QGLVPP3skvpkTnuQ=s64",
      "userId": "10012302451096885058"
     },
     "user_tz": -60
    },
    "id": "CDyV-ntGZOp3",
    "outputId": "d72277e1-e4e1-451d-e706-70b7fb7ebb02"
   },
   "outputs": [
    {
     "name": "stdout",
     "output_type": "stream",
     "text": [
      "nahyou’re: 0.624\n",
      "esh.i: 0.618\n",
      "asshole-: 0.615\n",
      "wbta: 0.615\n",
      "redflag: 0.614\n",
      "dickwad: 0.613\n",
      "infact: 0.612\n",
      "veer: 0.612\n",
      "yata: 0.603\n",
      "resounding: 0.6\n",
      "tah: 0.599\n",
      "justice_boner: 0.599\n",
      "esh.your: 0.594\n",
      "assholeishness: 0.594\n",
      "ytabut: 0.591\n",
      "eshshe: 0.59\n",
      "fuckwad: 0.589\n",
      "eshi: 0.589\n",
      "arsehole: 0.588\n",
      "assholeness: 0.587\n"
     ]
    }
   ],
   "source": [
    "get_most_similar_terms(model, 'asshole')"
   ]
  },
  {
   "cell_type": "markdown",
   "metadata": {},
   "source": [
    "Here are some other terms. What else interests you?"
   ]
  },
  {
   "cell_type": "code",
   "execution_count": 14,
   "metadata": {},
   "outputs": [
    {
     "name": "stdout",
     "output_type": "stream",
     "text": [
      "compassion: 0.665\n",
      "lack_empathy: 0.582\n",
      "lacking: 0.575\n",
      "rationality: 0.572\n",
      "patience: 0.571\n",
      "self_awareness: 0.553\n",
      "empathize: 0.551\n",
      "modicum: 0.548\n",
      "cold_hearted: 0.535\n",
      "empathetic: 0.531\n",
      "compassionate: 0.523\n",
      "humility: 0.523\n",
      "plight: 0.515\n",
      "vindicated: 0.506\n",
      "empathise: 0.506\n",
      "doesn‘t: 0.501\n",
      "empathic: 0.499\n",
      "tact: 0.498\n",
      "loneliness: 0.498\n",
      "sympathy: 0.496\n"
     ]
    }
   ],
   "source": [
    "get_most_similar_terms(model, 'empathy')"
   ]
  },
  {
   "cell_type": "code",
   "execution_count": 15,
   "metadata": {},
   "outputs": [
    {
     "name": "stdout",
     "output_type": "stream",
     "text": [
      "exclusivity: 0.615\n",
      "amicably: 0.609\n",
      "transparency: 0.591\n",
      "relationships: 0.589\n",
      "marriage: 0.584\n",
      "polyamory: 0.583\n",
      "coparent: 0.57\n",
      "fidelity: 0.568\n",
      "reestablish: 0.567\n",
      "irrevocably: 0.566\n",
      "polyamorous: 0.563\n",
      "friendship: 0.559\n",
      "salvageable: 0.559\n",
      "ltr: 0.557\n",
      "sexually_compatible: 0.554\n",
      "sexual_compatibility: 0.553\n",
      "reciprocal: 0.552\n",
      "loveless: 0.55\n",
      "mono: 0.55\n",
      "reconciliation: 0.549\n"
     ]
    }
   ],
   "source": [
    "get_most_similar_terms(model, 'relationship')"
   ]
  },
  {
   "cell_type": "code",
   "execution_count": 16,
   "metadata": {},
   "outputs": [
    {
     "name": "stdout",
     "output_type": "stream",
     "text": [
      "tripping: 0.443\n",
      "wield: 0.423\n",
      "flex: 0.415\n",
      "dominance: 0.414\n",
      "intimidation: 0.414\n",
      "power_imbalance: 0.41\n",
      "differential: 0.39\n",
      "ideological: 0.388\n",
      "institutional: 0.382\n",
      "benevolent: 0.376\n",
      "chivalry: 0.371\n",
      "domineering: 0.371\n",
      "authority: 0.368\n",
      "exploit: 0.367\n",
      "dynamic: 0.367\n",
      "betterment: 0.367\n",
      "overreach: 0.366\n",
      "hardball: 0.365\n",
      "perpetual: 0.364\n",
      "dictatorship: 0.362\n"
     ]
    }
   ],
   "source": [
    "get_most_similar_terms(model, 'power')"
   ]
  },
  {
   "cell_type": "code",
   "execution_count": 17,
   "metadata": {},
   "outputs": [
    {
     "name": "stdout",
     "output_type": "stream",
     "text": [
      "woman: 0.664\n",
      "men: 0.588\n",
      "het: 0.552\n",
      "subservient: 0.541\n",
      "transman: 0.541\n",
      "butch: 0.539\n",
      "macho: 0.53\n",
      "shouldn't: 0.527\n",
      "misandry: 0.527\n",
      "ogle: 0.524\n",
      "misandrist: 0.522\n",
      "cisgender: 0.52\n",
      "willed: 0.517\n",
      "bearded: 0.516\n",
      "monolith: 0.514\n",
      "femme: 0.512\n",
      "mans: 0.511\n",
      "patriarchy: 0.509\n",
      "prepubescent: 0.506\n",
      "women: 0.504\n"
     ]
    }
   ],
   "source": [
    "get_most_similar_terms(model, 'man')"
   ]
  },
  {
   "cell_type": "code",
   "execution_count": 18,
   "metadata": {},
   "outputs": [
    {
     "name": "stdout",
     "output_type": "stream",
     "text": [
      "man: 0.664\n",
      "women: 0.606\n",
      "transman: 0.586\n",
      "men: 0.584\n",
      "transwoman: 0.58\n",
      "ogle: 0.575\n",
      "het: 0.563\n",
      "androgynous: 0.561\n",
      "womanhood: 0.546\n",
      "cisgender: 0.544\n",
      "ntabee: 0.542\n",
      "misandry: 0.54\n",
      "monolith: 0.537\n",
      "prepubescent: 0.537\n",
      "conventionally: 0.535\n",
      "shouldn't: 0.528\n",
      "implying: 0.526\n",
      "petite: 0.524\n",
      "transpeople: 0.524\n",
      "oggle: 0.522\n"
     ]
    }
   ],
   "source": [
    "get_most_similar_terms(model, 'woman')"
   ]
  },
  {
   "cell_type": "markdown",
   "metadata": {},
   "source": [
    "# Visualizing High Dimensional Spaces with $t$-SNE\n",
    "\n",
    "The word embeddings we created are what's called a **high-dimensional representation** of the text. That is, we take a word in the corpus, and represent it using, in this case, 300 numbers. We can plot 3 numbers at a time - that's in 3 dimensions - but there's no way for humans to visualize something in a 300-dimensional space. \n",
    "\n",
    "So, **dimensionality reduction** is a big part of machine learning. How can we take vectors that are 300-dimensional, and visualize them in 2-dimensions, while keeping the structure between vectors the same? How can we reduce the dimensionality?\n",
    "\n",
    "One of the most popular methods for dimensionality reduction is called $t$-SNE ($t$-Distributed Stochastic Neighbor Embedding). If you want to read more about this algorithm, [here](https://lvdmaaten.github.io/tsne/) is a good starting point. \n",
    "\n",
    "Roughly, $t$-SNE tries to keep the relative distances between points as closely as possible in both high-dimensional and low-dimensional space. We can thus visualize our embeddings, which may reveal semantic and syntactic trends in the data.\n",
    "\n",
    "One thing we can do is to look for relationships between particular word pairs. "
   ]
  },
  {
   "cell_type": "code",
   "execution_count": 19,
   "metadata": {},
   "outputs": [],
   "source": [
    "words = ['asshole', 'jerk', 'rude', 'inconsiderate',\n",
    "         'angry', 'upset', 'sad', 'happy', 'frustrated',\n",
    "         'friend', 'family', 'partner', 'coworker', 'neighbor',\n",
    "         'apologize', 'forgive', 'ignore', 'confront', 'compromise',\n",
    "         'right', 'wrong', 'justified', 'unjustified', 'fair', 'unfair',\n",
    "         'honesty', 'loyalty', 'respect', 'kindness', 'empathy']\n",
    "\n",
    "# Extract the word vectors\n",
    "word_vectors = np.array([model.wv[word] for word in words])"
   ]
  },
  {
   "cell_type": "code",
   "execution_count": 20,
   "metadata": {},
   "outputs": [],
   "source": [
    "# If you get an ImportError in the line tsne=TSNE(), you might need to install scikit-learn:\n",
    "# %pip install -U scikit-learn "
   ]
  },
  {
   "cell_type": "code",
   "execution_count": 21,
   "metadata": {},
   "outputs": [],
   "source": [
    "# Reduce dimensionality using t-SNE\n",
    "tsne = TSNE(n_components=2, random_state=2, perplexity=2)\n",
    "reduced_vectors = tsne.fit_transform(word_vectors)"
   ]
  },
  {
   "cell_type": "code",
   "execution_count": 22,
   "metadata": {},
   "outputs": [],
   "source": [
    "# Store the t-SNE vectors\n",
    "words_df = pd.DataFrame(reduced_vectors,\n",
    "                            index=pd.Index([word for word in words]),\n",
    "                            columns=['x', 'y'])"
   ]
  },
  {
   "cell_type": "markdown",
   "metadata": {},
   "source": [
    "We're going to visualize the 2-dimensional space using a package called `bokeh`. This package allows for some degree of interactivity: we can go over each point and dynamically get information about the word denoting that vector."
   ]
  },
  {
   "cell_type": "code",
   "execution_count": null,
   "metadata": {},
   "outputs": [],
   "source": [
    "# You may need to install bokeh if the following cell does not run\n",
    "#%conda install bokeh"
   ]
  },
  {
   "cell_type": "code",
   "execution_count": 23,
   "metadata": {},
   "outputs": [
    {
     "data": {
      "text/html": [
       "    <style>\n",
       "        .bk-notebook-logo {\n",
       "            display: block;\n",
       "            width: 20px;\n",
       "            height: 20px;\n",
       "            background-image: url(data:image/png;base64,iVBORw0KGgoAAAANSUhEUgAAABQAAAAUCAYAAACNiR0NAAAABHNCSVQICAgIfAhkiAAAAAlwSFlzAAALEgAACxIB0t1+/AAAABx0RVh0U29mdHdhcmUAQWRvYmUgRmlyZXdvcmtzIENTNui8sowAAAOkSURBVDiNjZRtaJVlGMd/1/08zzln5zjP1LWcU9N0NkN8m2CYjpgQYQXqSs0I84OLIC0hkEKoPtiH3gmKoiJDU7QpLgoLjLIQCpEsNJ1vqUOdO7ppbuec5+V+rj4ctwzd8IIbbi6u+8f1539dt3A78eXC7QizUF7gyV1fD1Yqg4JWz84yffhm0qkFqBogB9rM8tZdtwVsPUhWhGcFJngGeWrPzHm5oaMmkfEg1usvLFyc8jLRqDOMru7AyC8saQr7GG7f5fvDeH7Ej8CM66nIF+8yngt6HWaKh7k49Soy9nXurCi1o3qUbS3zWfrYeQDTB/Qj6kX6Ybhw4B+bOYoLKCC9H3Nu/leUTZ1JdRWkkn2ldcCamzrcf47KKXdAJllSlxAOkRgyHsGC/zRday5Qld9DyoM4/q/rUoy/CXh3jzOu3bHUVZeU+DEn8FInkPBFlu3+nW3Nw0mk6vCDiWg8CeJaxEwuHS3+z5RgY+YBR6V1Z1nxSOfoaPa4LASWxxdNp+VWTk7+4vzaou8v8PN+xo+KY2xsw6une2frhw05CTYOmQvsEhjhWjn0bmXPjpE1+kplmmkP3suftwTubK9Vq22qKmrBhpY4jvd5afdRA3wGjFAgcnTK2s4hY0/GPNIb0nErGMCRxWOOX64Z8RAC4oCXdklmEvcL8o0BfkNK4lUg9HTl+oPlQxdNo3Mg4Nv175e/1LDGzZen30MEjRUtmXSfiTVu1kK8W4txyV6BMKlbgk3lMwYCiusNy9fVfvvwMxv8Ynl6vxoByANLTWplvuj/nF9m2+PDtt1eiHPBr1oIfhCChQMBw6Aw0UulqTKZdfVvfG7VcfIqLG9bcldL/+pdWTLxLUy8Qq38heUIjh4XlzZxzQm19lLFlr8vdQ97rjZVOLf8nclzckbcD4wxXMidpX30sFd37Fv/GtwwhzhxGVAprjbg0gCAEeIgwCZyTV2Z1REEW8O4py0wsjeloKoMr6iCY6dP92H6Vw/oTyICIthibxjm/DfN9lVz8IqtqKYLUXfoKVMVQVVJOElGjrnnUt9T9wbgp8AyYKaGlqingHZU/uG2NTZSVqwHQTWkx9hxjkpWDaCg6Ckj5qebgBVbT3V3NNXMSiWSDdGV3hrtzla7J+duwPOToIg42ChPQOQjspnSlp1V+Gjdged7+8UN5CRAV7a5EdFNwCjEaBR27b3W890TE7g24NAP/mMDXRWrGoFPQI9ls/MWO2dWFAar/xcOIImbbpA3zgAAAABJRU5ErkJggg==);\n",
       "        }\n",
       "    </style>\n",
       "    <div>\n",
       "        <a href=\"https://bokeh.org\" target=\"_blank\" class=\"bk-notebook-logo\"></a>\n",
       "        <span id=\"db73b990-71ca-45d8-83a0-e5de445f212b\">Loading BokehJS ...</span>\n",
       "    </div>\n"
      ]
     },
     "metadata": {},
     "output_type": "display_data"
    },
    {
     "data": {
      "application/javascript": [
       "'use strict';\n",
       "(function(root) {\n",
       "  function now() {\n",
       "    return new Date();\n",
       "  }\n",
       "\n",
       "  const force = true;\n",
       "\n",
       "  if (typeof root._bokeh_onload_callbacks === \"undefined\" || force === true) {\n",
       "    root._bokeh_onload_callbacks = [];\n",
       "    root._bokeh_is_loading = undefined;\n",
       "  }\n",
       "\n",
       "const JS_MIME_TYPE = 'application/javascript';\n",
       "  const HTML_MIME_TYPE = 'text/html';\n",
       "  const EXEC_MIME_TYPE = 'application/vnd.bokehjs_exec.v0+json';\n",
       "  const CLASS_NAME = 'output_bokeh rendered_html';\n",
       "\n",
       "  /**\n",
       "   * Render data to the DOM node\n",
       "   */\n",
       "  function render(props, node) {\n",
       "    const script = document.createElement(\"script\");\n",
       "    node.appendChild(script);\n",
       "  }\n",
       "\n",
       "  /**\n",
       "   * Handle when an output is cleared or removed\n",
       "   */\n",
       "  function handleClearOutput(event, handle) {\n",
       "    function drop(id) {\n",
       "      const view = Bokeh.index.get_by_id(id)\n",
       "      if (view != null) {\n",
       "        view.model.document.clear()\n",
       "        Bokeh.index.delete(view)\n",
       "      }\n",
       "    }\n",
       "\n",
       "    const cell = handle.cell;\n",
       "\n",
       "    const id = cell.output_area._bokeh_element_id;\n",
       "    const server_id = cell.output_area._bokeh_server_id;\n",
       "\n",
       "    // Clean up Bokeh references\n",
       "    if (id != null) {\n",
       "      drop(id)\n",
       "    }\n",
       "\n",
       "    if (server_id !== undefined) {\n",
       "      // Clean up Bokeh references\n",
       "      const cmd_clean = \"from bokeh.io.state import curstate; print(curstate().uuid_to_server['\" + server_id + \"'].get_sessions()[0].document.roots[0]._id)\";\n",
       "      cell.notebook.kernel.execute(cmd_clean, {\n",
       "        iopub: {\n",
       "          output: function(msg) {\n",
       "            const id = msg.content.text.trim()\n",
       "            drop(id)\n",
       "          }\n",
       "        }\n",
       "      });\n",
       "      // Destroy server and session\n",
       "      const cmd_destroy = \"import bokeh.io.notebook as ion; ion.destroy_server('\" + server_id + \"')\";\n",
       "      cell.notebook.kernel.execute(cmd_destroy);\n",
       "    }\n",
       "  }\n",
       "\n",
       "  /**\n",
       "   * Handle when a new output is added\n",
       "   */\n",
       "  function handleAddOutput(event, handle) {\n",
       "    const output_area = handle.output_area;\n",
       "    const output = handle.output;\n",
       "\n",
       "    // limit handleAddOutput to display_data with EXEC_MIME_TYPE content only\n",
       "    if ((output.output_type != \"display_data\") || (!Object.prototype.hasOwnProperty.call(output.data, EXEC_MIME_TYPE))) {\n",
       "      return\n",
       "    }\n",
       "\n",
       "    const toinsert = output_area.element.find(\".\" + CLASS_NAME.split(' ')[0]);\n",
       "\n",
       "    if (output.metadata[EXEC_MIME_TYPE][\"id\"] !== undefined) {\n",
       "      toinsert[toinsert.length - 1].firstChild.textContent = output.data[JS_MIME_TYPE];\n",
       "      // store reference to embed id on output_area\n",
       "      output_area._bokeh_element_id = output.metadata[EXEC_MIME_TYPE][\"id\"];\n",
       "    }\n",
       "    if (output.metadata[EXEC_MIME_TYPE][\"server_id\"] !== undefined) {\n",
       "      const bk_div = document.createElement(\"div\");\n",
       "      bk_div.innerHTML = output.data[HTML_MIME_TYPE];\n",
       "      const script_attrs = bk_div.children[0].attributes;\n",
       "      for (let i = 0; i < script_attrs.length; i++) {\n",
       "        toinsert[toinsert.length - 1].firstChild.setAttribute(script_attrs[i].name, script_attrs[i].value);\n",
       "        toinsert[toinsert.length - 1].firstChild.textContent = bk_div.children[0].textContent\n",
       "      }\n",
       "      // store reference to server id on output_area\n",
       "      output_area._bokeh_server_id = output.metadata[EXEC_MIME_TYPE][\"server_id\"];\n",
       "    }\n",
       "  }\n",
       "\n",
       "  function register_renderer(events, OutputArea) {\n",
       "\n",
       "    function append_mime(data, metadata, element) {\n",
       "      // create a DOM node to render to\n",
       "      const toinsert = this.create_output_subarea(\n",
       "        metadata,\n",
       "        CLASS_NAME,\n",
       "        EXEC_MIME_TYPE\n",
       "      );\n",
       "      this.keyboard_manager.register_events(toinsert);\n",
       "      // Render to node\n",
       "      const props = {data: data, metadata: metadata[EXEC_MIME_TYPE]};\n",
       "      render(props, toinsert[toinsert.length - 1]);\n",
       "      element.append(toinsert);\n",
       "      return toinsert\n",
       "    }\n",
       "\n",
       "    /* Handle when an output is cleared or removed */\n",
       "    events.on('clear_output.CodeCell', handleClearOutput);\n",
       "    events.on('delete.Cell', handleClearOutput);\n",
       "\n",
       "    /* Handle when a new output is added */\n",
       "    events.on('output_added.OutputArea', handleAddOutput);\n",
       "\n",
       "    /**\n",
       "     * Register the mime type and append_mime function with output_area\n",
       "     */\n",
       "    OutputArea.prototype.register_mime_type(EXEC_MIME_TYPE, append_mime, {\n",
       "      /* Is output safe? */\n",
       "      safe: true,\n",
       "      /* Index of renderer in `output_area.display_order` */\n",
       "      index: 0\n",
       "    });\n",
       "  }\n",
       "\n",
       "  // register the mime type if in Jupyter Notebook environment and previously unregistered\n",
       "  if (root.Jupyter !== undefined) {\n",
       "    const events = require('base/js/events');\n",
       "    const OutputArea = require('notebook/js/outputarea').OutputArea;\n",
       "\n",
       "    if (OutputArea.prototype.mime_types().indexOf(EXEC_MIME_TYPE) == -1) {\n",
       "      register_renderer(events, OutputArea);\n",
       "    }\n",
       "  }\n",
       "  if (typeof (root._bokeh_timeout) === \"undefined\" || force === true) {\n",
       "    root._bokeh_timeout = Date.now() + 5000;\n",
       "    root._bokeh_failed_load = false;\n",
       "  }\n",
       "\n",
       "  const NB_LOAD_WARNING = {'data': {'text/html':\n",
       "     \"<div style='background-color: #fdd'>\\n\"+\n",
       "     \"<p>\\n\"+\n",
       "     \"BokehJS does not appear to have successfully loaded. If loading BokehJS from CDN, this \\n\"+\n",
       "     \"may be due to a slow or bad network connection. Possible fixes:\\n\"+\n",
       "     \"</p>\\n\"+\n",
       "     \"<ul>\\n\"+\n",
       "     \"<li>re-rerun `output_notebook()` to attempt to load from CDN again, or</li>\\n\"+\n",
       "     \"<li>use INLINE resources instead, as so:</li>\\n\"+\n",
       "     \"</ul>\\n\"+\n",
       "     \"<code>\\n\"+\n",
       "     \"from bokeh.resources import INLINE\\n\"+\n",
       "     \"output_notebook(resources=INLINE)\\n\"+\n",
       "     \"</code>\\n\"+\n",
       "     \"</div>\"}};\n",
       "\n",
       "  function display_loaded(error = null) {\n",
       "    const el = document.getElementById(\"db73b990-71ca-45d8-83a0-e5de445f212b\");\n",
       "    if (el != null) {\n",
       "      const html = (() => {\n",
       "        if (typeof root.Bokeh === \"undefined\") {\n",
       "          if (error == null) {\n",
       "            return \"BokehJS is loading ...\";\n",
       "          } else {\n",
       "            return \"BokehJS failed to load.\";\n",
       "          }\n",
       "        } else {\n",
       "          const prefix = `BokehJS ${root.Bokeh.version}`;\n",
       "          if (error == null) {\n",
       "            return `${prefix} successfully loaded.`;\n",
       "          } else {\n",
       "            return `${prefix} <b>encountered errors</b> while loading and may not function as expected.`;\n",
       "          }\n",
       "        }\n",
       "      })();\n",
       "      el.innerHTML = html;\n",
       "\n",
       "      if (error != null) {\n",
       "        const wrapper = document.createElement(\"div\");\n",
       "        wrapper.style.overflow = \"auto\";\n",
       "        wrapper.style.height = \"5em\";\n",
       "        wrapper.style.resize = \"vertical\";\n",
       "        const content = document.createElement(\"div\");\n",
       "        content.style.fontFamily = \"monospace\";\n",
       "        content.style.whiteSpace = \"pre-wrap\";\n",
       "        content.style.backgroundColor = \"rgb(255, 221, 221)\";\n",
       "        content.textContent = error.stack ?? error.toString();\n",
       "        wrapper.append(content);\n",
       "        el.append(wrapper);\n",
       "      }\n",
       "    } else if (Date.now() < root._bokeh_timeout) {\n",
       "      setTimeout(() => display_loaded(error), 100);\n",
       "    }\n",
       "  }\n",
       "\n",
       "  function run_callbacks() {\n",
       "    try {\n",
       "      root._bokeh_onload_callbacks.forEach(function(callback) {\n",
       "        if (callback != null)\n",
       "          callback();\n",
       "      });\n",
       "    } finally {\n",
       "      delete root._bokeh_onload_callbacks\n",
       "    }\n",
       "    console.debug(\"Bokeh: all callbacks have finished\");\n",
       "  }\n",
       "\n",
       "  function load_libs(css_urls, js_urls, callback) {\n",
       "    if (css_urls == null) css_urls = [];\n",
       "    if (js_urls == null) js_urls = [];\n",
       "\n",
       "    root._bokeh_onload_callbacks.push(callback);\n",
       "    if (root._bokeh_is_loading > 0) {\n",
       "      console.debug(\"Bokeh: BokehJS is being loaded, scheduling callback at\", now());\n",
       "      return null;\n",
       "    }\n",
       "    if (js_urls == null || js_urls.length === 0) {\n",
       "      run_callbacks();\n",
       "      return null;\n",
       "    }\n",
       "    console.debug(\"Bokeh: BokehJS not loaded, scheduling load and callback at\", now());\n",
       "    root._bokeh_is_loading = css_urls.length + js_urls.length;\n",
       "\n",
       "    function on_load() {\n",
       "      root._bokeh_is_loading--;\n",
       "      if (root._bokeh_is_loading === 0) {\n",
       "        console.debug(\"Bokeh: all BokehJS libraries/stylesheets loaded\");\n",
       "        run_callbacks()\n",
       "      }\n",
       "    }\n",
       "\n",
       "    function on_error(url) {\n",
       "      console.error(\"failed to load \" + url);\n",
       "    }\n",
       "\n",
       "    for (let i = 0; i < css_urls.length; i++) {\n",
       "      const url = css_urls[i];\n",
       "      const element = document.createElement(\"link\");\n",
       "      element.onload = on_load;\n",
       "      element.onerror = on_error.bind(null, url);\n",
       "      element.rel = \"stylesheet\";\n",
       "      element.type = \"text/css\";\n",
       "      element.href = url;\n",
       "      console.debug(\"Bokeh: injecting link tag for BokehJS stylesheet: \", url);\n",
       "      document.body.appendChild(element);\n",
       "    }\n",
       "\n",
       "    for (let i = 0; i < js_urls.length; i++) {\n",
       "      const url = js_urls[i];\n",
       "      const element = document.createElement('script');\n",
       "      element.onload = on_load;\n",
       "      element.onerror = on_error.bind(null, url);\n",
       "      element.async = false;\n",
       "      element.src = url;\n",
       "      console.debug(\"Bokeh: injecting script tag for BokehJS library: \", url);\n",
       "      document.head.appendChild(element);\n",
       "    }\n",
       "  };\n",
       "\n",
       "  function inject_raw_css(css) {\n",
       "    const element = document.createElement(\"style\");\n",
       "    element.appendChild(document.createTextNode(css));\n",
       "    document.body.appendChild(element);\n",
       "  }\n",
       "\n",
       "  const js_urls = [\"https://cdn.bokeh.org/bokeh/release/bokeh-3.6.2.min.js\", \"https://cdn.bokeh.org/bokeh/release/bokeh-gl-3.6.2.min.js\", \"https://cdn.bokeh.org/bokeh/release/bokeh-widgets-3.6.2.min.js\", \"https://cdn.bokeh.org/bokeh/release/bokeh-tables-3.6.2.min.js\", \"https://cdn.bokeh.org/bokeh/release/bokeh-mathjax-3.6.2.min.js\"];\n",
       "  const css_urls = [];\n",
       "\n",
       "  const inline_js = [    function(Bokeh) {\n",
       "      Bokeh.set_log_level(\"info\");\n",
       "    },\n",
       "function(Bokeh) {\n",
       "    }\n",
       "  ];\n",
       "\n",
       "  function run_inline_js() {\n",
       "    if (root.Bokeh !== undefined || force === true) {\n",
       "      try {\n",
       "            for (let i = 0; i < inline_js.length; i++) {\n",
       "      inline_js[i].call(root, root.Bokeh);\n",
       "    }\n",
       "\n",
       "      } catch (error) {display_loaded(error);throw error;\n",
       "      }if (force === true) {\n",
       "        display_loaded();\n",
       "      }} else if (Date.now() < root._bokeh_timeout) {\n",
       "      setTimeout(run_inline_js, 100);\n",
       "    } else if (!root._bokeh_failed_load) {\n",
       "      console.log(\"Bokeh: BokehJS failed to load within specified timeout.\");\n",
       "      root._bokeh_failed_load = true;\n",
       "    } else if (force !== true) {\n",
       "      const cell = $(document.getElementById(\"db73b990-71ca-45d8-83a0-e5de445f212b\")).parents('.cell').data().cell;\n",
       "      cell.output_area.append_execute_result(NB_LOAD_WARNING)\n",
       "    }\n",
       "  }\n",
       "\n",
       "  if (root._bokeh_is_loading === 0) {\n",
       "    console.debug(\"Bokeh: BokehJS loaded, going straight to plotting\");\n",
       "    run_inline_js();\n",
       "  } else {\n",
       "    load_libs(css_urls, js_urls, function() {\n",
       "      console.debug(\"Bokeh: BokehJS plotting callback run at\", now());\n",
       "      run_inline_js();\n",
       "    });\n",
       "  }\n",
       "}(window));"
      ],
      "application/vnd.bokehjs_load.v0+json": "'use strict';\n(function(root) {\n  function now() {\n    return new Date();\n  }\n\n  const force = true;\n\n  if (typeof root._bokeh_onload_callbacks === \"undefined\" || force === true) {\n    root._bokeh_onload_callbacks = [];\n    root._bokeh_is_loading = undefined;\n  }\n\n\n  if (typeof (root._bokeh_timeout) === \"undefined\" || force === true) {\n    root._bokeh_timeout = Date.now() + 5000;\n    root._bokeh_failed_load = false;\n  }\n\n  const NB_LOAD_WARNING = {'data': {'text/html':\n     \"<div style='background-color: #fdd'>\\n\"+\n     \"<p>\\n\"+\n     \"BokehJS does not appear to have successfully loaded. If loading BokehJS from CDN, this \\n\"+\n     \"may be due to a slow or bad network connection. Possible fixes:\\n\"+\n     \"</p>\\n\"+\n     \"<ul>\\n\"+\n     \"<li>re-rerun `output_notebook()` to attempt to load from CDN again, or</li>\\n\"+\n     \"<li>use INLINE resources instead, as so:</li>\\n\"+\n     \"</ul>\\n\"+\n     \"<code>\\n\"+\n     \"from bokeh.resources import INLINE\\n\"+\n     \"output_notebook(resources=INLINE)\\n\"+\n     \"</code>\\n\"+\n     \"</div>\"}};\n\n  function display_loaded(error = null) {\n    const el = document.getElementById(\"db73b990-71ca-45d8-83a0-e5de445f212b\");\n    if (el != null) {\n      const html = (() => {\n        if (typeof root.Bokeh === \"undefined\") {\n          if (error == null) {\n            return \"BokehJS is loading ...\";\n          } else {\n            return \"BokehJS failed to load.\";\n          }\n        } else {\n          const prefix = `BokehJS ${root.Bokeh.version}`;\n          if (error == null) {\n            return `${prefix} successfully loaded.`;\n          } else {\n            return `${prefix} <b>encountered errors</b> while loading and may not function as expected.`;\n          }\n        }\n      })();\n      el.innerHTML = html;\n\n      if (error != null) {\n        const wrapper = document.createElement(\"div\");\n        wrapper.style.overflow = \"auto\";\n        wrapper.style.height = \"5em\";\n        wrapper.style.resize = \"vertical\";\n        const content = document.createElement(\"div\");\n        content.style.fontFamily = \"monospace\";\n        content.style.whiteSpace = \"pre-wrap\";\n        content.style.backgroundColor = \"rgb(255, 221, 221)\";\n        content.textContent = error.stack ?? error.toString();\n        wrapper.append(content);\n        el.append(wrapper);\n      }\n    } else if (Date.now() < root._bokeh_timeout) {\n      setTimeout(() => display_loaded(error), 100);\n    }\n  }\n\n  function run_callbacks() {\n    try {\n      root._bokeh_onload_callbacks.forEach(function(callback) {\n        if (callback != null)\n          callback();\n      });\n    } finally {\n      delete root._bokeh_onload_callbacks\n    }\n    console.debug(\"Bokeh: all callbacks have finished\");\n  }\n\n  function load_libs(css_urls, js_urls, callback) {\n    if (css_urls == null) css_urls = [];\n    if (js_urls == null) js_urls = [];\n\n    root._bokeh_onload_callbacks.push(callback);\n    if (root._bokeh_is_loading > 0) {\n      console.debug(\"Bokeh: BokehJS is being loaded, scheduling callback at\", now());\n      return null;\n    }\n    if (js_urls == null || js_urls.length === 0) {\n      run_callbacks();\n      return null;\n    }\n    console.debug(\"Bokeh: BokehJS not loaded, scheduling load and callback at\", now());\n    root._bokeh_is_loading = css_urls.length + js_urls.length;\n\n    function on_load() {\n      root._bokeh_is_loading--;\n      if (root._bokeh_is_loading === 0) {\n        console.debug(\"Bokeh: all BokehJS libraries/stylesheets loaded\");\n        run_callbacks()\n      }\n    }\n\n    function on_error(url) {\n      console.error(\"failed to load \" + url);\n    }\n\n    for (let i = 0; i < css_urls.length; i++) {\n      const url = css_urls[i];\n      const element = document.createElement(\"link\");\n      element.onload = on_load;\n      element.onerror = on_error.bind(null, url);\n      element.rel = \"stylesheet\";\n      element.type = \"text/css\";\n      element.href = url;\n      console.debug(\"Bokeh: injecting link tag for BokehJS stylesheet: \", url);\n      document.body.appendChild(element);\n    }\n\n    for (let i = 0; i < js_urls.length; i++) {\n      const url = js_urls[i];\n      const element = document.createElement('script');\n      element.onload = on_load;\n      element.onerror = on_error.bind(null, url);\n      element.async = false;\n      element.src = url;\n      console.debug(\"Bokeh: injecting script tag for BokehJS library: \", url);\n      document.head.appendChild(element);\n    }\n  };\n\n  function inject_raw_css(css) {\n    const element = document.createElement(\"style\");\n    element.appendChild(document.createTextNode(css));\n    document.body.appendChild(element);\n  }\n\n  const js_urls = [\"https://cdn.bokeh.org/bokeh/release/bokeh-3.6.2.min.js\", \"https://cdn.bokeh.org/bokeh/release/bokeh-gl-3.6.2.min.js\", \"https://cdn.bokeh.org/bokeh/release/bokeh-widgets-3.6.2.min.js\", \"https://cdn.bokeh.org/bokeh/release/bokeh-tables-3.6.2.min.js\", \"https://cdn.bokeh.org/bokeh/release/bokeh-mathjax-3.6.2.min.js\"];\n  const css_urls = [];\n\n  const inline_js = [    function(Bokeh) {\n      Bokeh.set_log_level(\"info\");\n    },\nfunction(Bokeh) {\n    }\n  ];\n\n  function run_inline_js() {\n    if (root.Bokeh !== undefined || force === true) {\n      try {\n            for (let i = 0; i < inline_js.length; i++) {\n      inline_js[i].call(root, root.Bokeh);\n    }\n\n      } catch (error) {display_loaded(error);throw error;\n      }if (force === true) {\n        display_loaded();\n      }} else if (Date.now() < root._bokeh_timeout) {\n      setTimeout(run_inline_js, 100);\n    } else if (!root._bokeh_failed_load) {\n      console.log(\"Bokeh: BokehJS failed to load within specified timeout.\");\n      root._bokeh_failed_load = true;\n    } else if (force !== true) {\n      const cell = $(document.getElementById(\"db73b990-71ca-45d8-83a0-e5de445f212b\")).parents('.cell').data().cell;\n      cell.output_area.append_execute_result(NB_LOAD_WARNING)\n    }\n  }\n\n  if (root._bokeh_is_loading === 0) {\n    console.debug(\"Bokeh: BokehJS loaded, going straight to plotting\");\n    run_inline_js();\n  } else {\n    load_libs(css_urls, js_urls, function() {\n      console.debug(\"Bokeh: BokehJS plotting callback run at\", now());\n      run_inline_js();\n    });\n  }\n}(window));"
     },
     "metadata": {},
     "output_type": "display_data"
    },
    {
     "data": {
      "text/html": [
       "    <style>\n",
       "        .bk-notebook-logo {\n",
       "            display: block;\n",
       "            width: 20px;\n",
       "            height: 20px;\n",
       "            background-image: url(data:image/png;base64,iVBORw0KGgoAAAANSUhEUgAAABQAAAAUCAYAAACNiR0NAAAABHNCSVQICAgIfAhkiAAAAAlwSFlzAAALEgAACxIB0t1+/AAAABx0RVh0U29mdHdhcmUAQWRvYmUgRmlyZXdvcmtzIENTNui8sowAAAOkSURBVDiNjZRtaJVlGMd/1/08zzln5zjP1LWcU9N0NkN8m2CYjpgQYQXqSs0I84OLIC0hkEKoPtiH3gmKoiJDU7QpLgoLjLIQCpEsNJ1vqUOdO7ppbuec5+V+rj4ctwzd8IIbbi6u+8f1539dt3A78eXC7QizUF7gyV1fD1Yqg4JWz84yffhm0qkFqBogB9rM8tZdtwVsPUhWhGcFJngGeWrPzHm5oaMmkfEg1usvLFyc8jLRqDOMru7AyC8saQr7GG7f5fvDeH7Ej8CM66nIF+8yngt6HWaKh7k49Soy9nXurCi1o3qUbS3zWfrYeQDTB/Qj6kX6Ybhw4B+bOYoLKCC9H3Nu/leUTZ1JdRWkkn2ldcCamzrcf47KKXdAJllSlxAOkRgyHsGC/zRday5Qld9DyoM4/q/rUoy/CXh3jzOu3bHUVZeU+DEn8FInkPBFlu3+nW3Nw0mk6vCDiWg8CeJaxEwuHS3+z5RgY+YBR6V1Z1nxSOfoaPa4LASWxxdNp+VWTk7+4vzaou8v8PN+xo+KY2xsw6une2frhw05CTYOmQvsEhjhWjn0bmXPjpE1+kplmmkP3suftwTubK9Vq22qKmrBhpY4jvd5afdRA3wGjFAgcnTK2s4hY0/GPNIb0nErGMCRxWOOX64Z8RAC4oCXdklmEvcL8o0BfkNK4lUg9HTl+oPlQxdNo3Mg4Nv175e/1LDGzZen30MEjRUtmXSfiTVu1kK8W4txyV6BMKlbgk3lMwYCiusNy9fVfvvwMxv8Ynl6vxoByANLTWplvuj/nF9m2+PDtt1eiHPBr1oIfhCChQMBw6Aw0UulqTKZdfVvfG7VcfIqLG9bcldL/+pdWTLxLUy8Qq38heUIjh4XlzZxzQm19lLFlr8vdQ97rjZVOLf8nclzckbcD4wxXMidpX30sFd37Fv/GtwwhzhxGVAprjbg0gCAEeIgwCZyTV2Z1REEW8O4py0wsjeloKoMr6iCY6dP92H6Vw/oTyICIthibxjm/DfN9lVz8IqtqKYLUXfoKVMVQVVJOElGjrnnUt9T9wbgp8AyYKaGlqingHZU/uG2NTZSVqwHQTWkx9hxjkpWDaCg6Ckj5qebgBVbT3V3NNXMSiWSDdGV3hrtzla7J+duwPOToIg42ChPQOQjspnSlp1V+Gjdged7+8UN5CRAV7a5EdFNwCjEaBR27b3W890TE7g24NAP/mMDXRWrGoFPQI9ls/MWO2dWFAar/xcOIImbbpA3zgAAAABJRU5ErkJggg==);\n",
       "        }\n",
       "    </style>\n",
       "    <div>\n",
       "        <a href=\"https://bokeh.org\" target=\"_blank\" class=\"bk-notebook-logo\"></a>\n",
       "        <span id=\"ed8f2735-d9f1-48c6-a9aa-d021a0434132\">Loading BokehJS ...</span>\n",
       "    </div>\n"
      ]
     },
     "metadata": {},
     "output_type": "display_data"
    },
    {
     "data": {
      "application/javascript": [
       "'use strict';\n",
       "(function(root) {\n",
       "  function now() {\n",
       "    return new Date();\n",
       "  }\n",
       "\n",
       "  const force = true;\n",
       "\n",
       "  if (typeof root._bokeh_onload_callbacks === \"undefined\" || force === true) {\n",
       "    root._bokeh_onload_callbacks = [];\n",
       "    root._bokeh_is_loading = undefined;\n",
       "  }\n",
       "\n",
       "const JS_MIME_TYPE = 'application/javascript';\n",
       "  const HTML_MIME_TYPE = 'text/html';\n",
       "  const EXEC_MIME_TYPE = 'application/vnd.bokehjs_exec.v0+json';\n",
       "  const CLASS_NAME = 'output_bokeh rendered_html';\n",
       "\n",
       "  /**\n",
       "   * Render data to the DOM node\n",
       "   */\n",
       "  function render(props, node) {\n",
       "    const script = document.createElement(\"script\");\n",
       "    node.appendChild(script);\n",
       "  }\n",
       "\n",
       "  /**\n",
       "   * Handle when an output is cleared or removed\n",
       "   */\n",
       "  function handleClearOutput(event, handle) {\n",
       "    function drop(id) {\n",
       "      const view = Bokeh.index.get_by_id(id)\n",
       "      if (view != null) {\n",
       "        view.model.document.clear()\n",
       "        Bokeh.index.delete(view)\n",
       "      }\n",
       "    }\n",
       "\n",
       "    const cell = handle.cell;\n",
       "\n",
       "    const id = cell.output_area._bokeh_element_id;\n",
       "    const server_id = cell.output_area._bokeh_server_id;\n",
       "\n",
       "    // Clean up Bokeh references\n",
       "    if (id != null) {\n",
       "      drop(id)\n",
       "    }\n",
       "\n",
       "    if (server_id !== undefined) {\n",
       "      // Clean up Bokeh references\n",
       "      const cmd_clean = \"from bokeh.io.state import curstate; print(curstate().uuid_to_server['\" + server_id + \"'].get_sessions()[0].document.roots[0]._id)\";\n",
       "      cell.notebook.kernel.execute(cmd_clean, {\n",
       "        iopub: {\n",
       "          output: function(msg) {\n",
       "            const id = msg.content.text.trim()\n",
       "            drop(id)\n",
       "          }\n",
       "        }\n",
       "      });\n",
       "      // Destroy server and session\n",
       "      const cmd_destroy = \"import bokeh.io.notebook as ion; ion.destroy_server('\" + server_id + \"')\";\n",
       "      cell.notebook.kernel.execute(cmd_destroy);\n",
       "    }\n",
       "  }\n",
       "\n",
       "  /**\n",
       "   * Handle when a new output is added\n",
       "   */\n",
       "  function handleAddOutput(event, handle) {\n",
       "    const output_area = handle.output_area;\n",
       "    const output = handle.output;\n",
       "\n",
       "    // limit handleAddOutput to display_data with EXEC_MIME_TYPE content only\n",
       "    if ((output.output_type != \"display_data\") || (!Object.prototype.hasOwnProperty.call(output.data, EXEC_MIME_TYPE))) {\n",
       "      return\n",
       "    }\n",
       "\n",
       "    const toinsert = output_area.element.find(\".\" + CLASS_NAME.split(' ')[0]);\n",
       "\n",
       "    if (output.metadata[EXEC_MIME_TYPE][\"id\"] !== undefined) {\n",
       "      toinsert[toinsert.length - 1].firstChild.textContent = output.data[JS_MIME_TYPE];\n",
       "      // store reference to embed id on output_area\n",
       "      output_area._bokeh_element_id = output.metadata[EXEC_MIME_TYPE][\"id\"];\n",
       "    }\n",
       "    if (output.metadata[EXEC_MIME_TYPE][\"server_id\"] !== undefined) {\n",
       "      const bk_div = document.createElement(\"div\");\n",
       "      bk_div.innerHTML = output.data[HTML_MIME_TYPE];\n",
       "      const script_attrs = bk_div.children[0].attributes;\n",
       "      for (let i = 0; i < script_attrs.length; i++) {\n",
       "        toinsert[toinsert.length - 1].firstChild.setAttribute(script_attrs[i].name, script_attrs[i].value);\n",
       "        toinsert[toinsert.length - 1].firstChild.textContent = bk_div.children[0].textContent\n",
       "      }\n",
       "      // store reference to server id on output_area\n",
       "      output_area._bokeh_server_id = output.metadata[EXEC_MIME_TYPE][\"server_id\"];\n",
       "    }\n",
       "  }\n",
       "\n",
       "  function register_renderer(events, OutputArea) {\n",
       "\n",
       "    function append_mime(data, metadata, element) {\n",
       "      // create a DOM node to render to\n",
       "      const toinsert = this.create_output_subarea(\n",
       "        metadata,\n",
       "        CLASS_NAME,\n",
       "        EXEC_MIME_TYPE\n",
       "      );\n",
       "      this.keyboard_manager.register_events(toinsert);\n",
       "      // Render to node\n",
       "      const props = {data: data, metadata: metadata[EXEC_MIME_TYPE]};\n",
       "      render(props, toinsert[toinsert.length - 1]);\n",
       "      element.append(toinsert);\n",
       "      return toinsert\n",
       "    }\n",
       "\n",
       "    /* Handle when an output is cleared or removed */\n",
       "    events.on('clear_output.CodeCell', handleClearOutput);\n",
       "    events.on('delete.Cell', handleClearOutput);\n",
       "\n",
       "    /* Handle when a new output is added */\n",
       "    events.on('output_added.OutputArea', handleAddOutput);\n",
       "\n",
       "    /**\n",
       "     * Register the mime type and append_mime function with output_area\n",
       "     */\n",
       "    OutputArea.prototype.register_mime_type(EXEC_MIME_TYPE, append_mime, {\n",
       "      /* Is output safe? */\n",
       "      safe: true,\n",
       "      /* Index of renderer in `output_area.display_order` */\n",
       "      index: 0\n",
       "    });\n",
       "  }\n",
       "\n",
       "  // register the mime type if in Jupyter Notebook environment and previously unregistered\n",
       "  if (root.Jupyter !== undefined) {\n",
       "    const events = require('base/js/events');\n",
       "    const OutputArea = require('notebook/js/outputarea').OutputArea;\n",
       "\n",
       "    if (OutputArea.prototype.mime_types().indexOf(EXEC_MIME_TYPE) == -1) {\n",
       "      register_renderer(events, OutputArea);\n",
       "    }\n",
       "  }\n",
       "  if (typeof (root._bokeh_timeout) === \"undefined\" || force === true) {\n",
       "    root._bokeh_timeout = Date.now() + 5000;\n",
       "    root._bokeh_failed_load = false;\n",
       "  }\n",
       "\n",
       "  const NB_LOAD_WARNING = {'data': {'text/html':\n",
       "     \"<div style='background-color: #fdd'>\\n\"+\n",
       "     \"<p>\\n\"+\n",
       "     \"BokehJS does not appear to have successfully loaded. If loading BokehJS from CDN, this \\n\"+\n",
       "     \"may be due to a slow or bad network connection. Possible fixes:\\n\"+\n",
       "     \"</p>\\n\"+\n",
       "     \"<ul>\\n\"+\n",
       "     \"<li>re-rerun `output_notebook()` to attempt to load from CDN again, or</li>\\n\"+\n",
       "     \"<li>use INLINE resources instead, as so:</li>\\n\"+\n",
       "     \"</ul>\\n\"+\n",
       "     \"<code>\\n\"+\n",
       "     \"from bokeh.resources import INLINE\\n\"+\n",
       "     \"output_notebook(resources=INLINE)\\n\"+\n",
       "     \"</code>\\n\"+\n",
       "     \"</div>\"}};\n",
       "\n",
       "  function display_loaded(error = null) {\n",
       "    const el = document.getElementById(\"ed8f2735-d9f1-48c6-a9aa-d021a0434132\");\n",
       "    if (el != null) {\n",
       "      const html = (() => {\n",
       "        if (typeof root.Bokeh === \"undefined\") {\n",
       "          if (error == null) {\n",
       "            return \"BokehJS is loading ...\";\n",
       "          } else {\n",
       "            return \"BokehJS failed to load.\";\n",
       "          }\n",
       "        } else {\n",
       "          const prefix = `BokehJS ${root.Bokeh.version}`;\n",
       "          if (error == null) {\n",
       "            return `${prefix} successfully loaded.`;\n",
       "          } else {\n",
       "            return `${prefix} <b>encountered errors</b> while loading and may not function as expected.`;\n",
       "          }\n",
       "        }\n",
       "      })();\n",
       "      el.innerHTML = html;\n",
       "\n",
       "      if (error != null) {\n",
       "        const wrapper = document.createElement(\"div\");\n",
       "        wrapper.style.overflow = \"auto\";\n",
       "        wrapper.style.height = \"5em\";\n",
       "        wrapper.style.resize = \"vertical\";\n",
       "        const content = document.createElement(\"div\");\n",
       "        content.style.fontFamily = \"monospace\";\n",
       "        content.style.whiteSpace = \"pre-wrap\";\n",
       "        content.style.backgroundColor = \"rgb(255, 221, 221)\";\n",
       "        content.textContent = error.stack ?? error.toString();\n",
       "        wrapper.append(content);\n",
       "        el.append(wrapper);\n",
       "      }\n",
       "    } else if (Date.now() < root._bokeh_timeout) {\n",
       "      setTimeout(() => display_loaded(error), 100);\n",
       "    }\n",
       "  }\n",
       "\n",
       "  function run_callbacks() {\n",
       "    try {\n",
       "      root._bokeh_onload_callbacks.forEach(function(callback) {\n",
       "        if (callback != null)\n",
       "          callback();\n",
       "      });\n",
       "    } finally {\n",
       "      delete root._bokeh_onload_callbacks\n",
       "    }\n",
       "    console.debug(\"Bokeh: all callbacks have finished\");\n",
       "  }\n",
       "\n",
       "  function load_libs(css_urls, js_urls, callback) {\n",
       "    if (css_urls == null) css_urls = [];\n",
       "    if (js_urls == null) js_urls = [];\n",
       "\n",
       "    root._bokeh_onload_callbacks.push(callback);\n",
       "    if (root._bokeh_is_loading > 0) {\n",
       "      console.debug(\"Bokeh: BokehJS is being loaded, scheduling callback at\", now());\n",
       "      return null;\n",
       "    }\n",
       "    if (js_urls == null || js_urls.length === 0) {\n",
       "      run_callbacks();\n",
       "      return null;\n",
       "    }\n",
       "    console.debug(\"Bokeh: BokehJS not loaded, scheduling load and callback at\", now());\n",
       "    root._bokeh_is_loading = css_urls.length + js_urls.length;\n",
       "\n",
       "    function on_load() {\n",
       "      root._bokeh_is_loading--;\n",
       "      if (root._bokeh_is_loading === 0) {\n",
       "        console.debug(\"Bokeh: all BokehJS libraries/stylesheets loaded\");\n",
       "        run_callbacks()\n",
       "      }\n",
       "    }\n",
       "\n",
       "    function on_error(url) {\n",
       "      console.error(\"failed to load \" + url);\n",
       "    }\n",
       "\n",
       "    for (let i = 0; i < css_urls.length; i++) {\n",
       "      const url = css_urls[i];\n",
       "      const element = document.createElement(\"link\");\n",
       "      element.onload = on_load;\n",
       "      element.onerror = on_error.bind(null, url);\n",
       "      element.rel = \"stylesheet\";\n",
       "      element.type = \"text/css\";\n",
       "      element.href = url;\n",
       "      console.debug(\"Bokeh: injecting link tag for BokehJS stylesheet: \", url);\n",
       "      document.body.appendChild(element);\n",
       "    }\n",
       "\n",
       "    for (let i = 0; i < js_urls.length; i++) {\n",
       "      const url = js_urls[i];\n",
       "      const element = document.createElement('script');\n",
       "      element.onload = on_load;\n",
       "      element.onerror = on_error.bind(null, url);\n",
       "      element.async = false;\n",
       "      element.src = url;\n",
       "      console.debug(\"Bokeh: injecting script tag for BokehJS library: \", url);\n",
       "      document.head.appendChild(element);\n",
       "    }\n",
       "  };\n",
       "\n",
       "  function inject_raw_css(css) {\n",
       "    const element = document.createElement(\"style\");\n",
       "    element.appendChild(document.createTextNode(css));\n",
       "    document.body.appendChild(element);\n",
       "  }\n",
       "\n",
       "  const js_urls = [\"https://cdn.bokeh.org/bokeh/release/bokeh-3.6.2.min.js\", \"https://cdn.bokeh.org/bokeh/release/bokeh-gl-3.6.2.min.js\", \"https://cdn.bokeh.org/bokeh/release/bokeh-widgets-3.6.2.min.js\", \"https://cdn.bokeh.org/bokeh/release/bokeh-tables-3.6.2.min.js\", \"https://cdn.bokeh.org/bokeh/release/bokeh-mathjax-3.6.2.min.js\"];\n",
       "  const css_urls = [];\n",
       "\n",
       "  const inline_js = [    function(Bokeh) {\n",
       "      Bokeh.set_log_level(\"info\");\n",
       "    },\n",
       "function(Bokeh) {\n",
       "    }\n",
       "  ];\n",
       "\n",
       "  function run_inline_js() {\n",
       "    if (root.Bokeh !== undefined || force === true) {\n",
       "      try {\n",
       "            for (let i = 0; i < inline_js.length; i++) {\n",
       "      inline_js[i].call(root, root.Bokeh);\n",
       "    }\n",
       "\n",
       "      } catch (error) {display_loaded(error);throw error;\n",
       "      }if (force === true) {\n",
       "        display_loaded();\n",
       "      }} else if (Date.now() < root._bokeh_timeout) {\n",
       "      setTimeout(run_inline_js, 100);\n",
       "    } else if (!root._bokeh_failed_load) {\n",
       "      console.log(\"Bokeh: BokehJS failed to load within specified timeout.\");\n",
       "      root._bokeh_failed_load = true;\n",
       "    } else if (force !== true) {\n",
       "      const cell = $(document.getElementById(\"ed8f2735-d9f1-48c6-a9aa-d021a0434132\")).parents('.cell').data().cell;\n",
       "      cell.output_area.append_execute_result(NB_LOAD_WARNING)\n",
       "    }\n",
       "  }\n",
       "\n",
       "  if (root._bokeh_is_loading === 0) {\n",
       "    console.debug(\"Bokeh: BokehJS loaded, going straight to plotting\");\n",
       "    run_inline_js();\n",
       "  } else {\n",
       "    load_libs(css_urls, js_urls, function() {\n",
       "      console.debug(\"Bokeh: BokehJS plotting callback run at\", now());\n",
       "      run_inline_js();\n",
       "    });\n",
       "  }\n",
       "}(window));"
      ],
      "application/vnd.bokehjs_load.v0+json": "'use strict';\n(function(root) {\n  function now() {\n    return new Date();\n  }\n\n  const force = true;\n\n  if (typeof root._bokeh_onload_callbacks === \"undefined\" || force === true) {\n    root._bokeh_onload_callbacks = [];\n    root._bokeh_is_loading = undefined;\n  }\n\n\n  if (typeof (root._bokeh_timeout) === \"undefined\" || force === true) {\n    root._bokeh_timeout = Date.now() + 5000;\n    root._bokeh_failed_load = false;\n  }\n\n  const NB_LOAD_WARNING = {'data': {'text/html':\n     \"<div style='background-color: #fdd'>\\n\"+\n     \"<p>\\n\"+\n     \"BokehJS does not appear to have successfully loaded. If loading BokehJS from CDN, this \\n\"+\n     \"may be due to a slow or bad network connection. Possible fixes:\\n\"+\n     \"</p>\\n\"+\n     \"<ul>\\n\"+\n     \"<li>re-rerun `output_notebook()` to attempt to load from CDN again, or</li>\\n\"+\n     \"<li>use INLINE resources instead, as so:</li>\\n\"+\n     \"</ul>\\n\"+\n     \"<code>\\n\"+\n     \"from bokeh.resources import INLINE\\n\"+\n     \"output_notebook(resources=INLINE)\\n\"+\n     \"</code>\\n\"+\n     \"</div>\"}};\n\n  function display_loaded(error = null) {\n    const el = document.getElementById(\"ed8f2735-d9f1-48c6-a9aa-d021a0434132\");\n    if (el != null) {\n      const html = (() => {\n        if (typeof root.Bokeh === \"undefined\") {\n          if (error == null) {\n            return \"BokehJS is loading ...\";\n          } else {\n            return \"BokehJS failed to load.\";\n          }\n        } else {\n          const prefix = `BokehJS ${root.Bokeh.version}`;\n          if (error == null) {\n            return `${prefix} successfully loaded.`;\n          } else {\n            return `${prefix} <b>encountered errors</b> while loading and may not function as expected.`;\n          }\n        }\n      })();\n      el.innerHTML = html;\n\n      if (error != null) {\n        const wrapper = document.createElement(\"div\");\n        wrapper.style.overflow = \"auto\";\n        wrapper.style.height = \"5em\";\n        wrapper.style.resize = \"vertical\";\n        const content = document.createElement(\"div\");\n        content.style.fontFamily = \"monospace\";\n        content.style.whiteSpace = \"pre-wrap\";\n        content.style.backgroundColor = \"rgb(255, 221, 221)\";\n        content.textContent = error.stack ?? error.toString();\n        wrapper.append(content);\n        el.append(wrapper);\n      }\n    } else if (Date.now() < root._bokeh_timeout) {\n      setTimeout(() => display_loaded(error), 100);\n    }\n  }\n\n  function run_callbacks() {\n    try {\n      root._bokeh_onload_callbacks.forEach(function(callback) {\n        if (callback != null)\n          callback();\n      });\n    } finally {\n      delete root._bokeh_onload_callbacks\n    }\n    console.debug(\"Bokeh: all callbacks have finished\");\n  }\n\n  function load_libs(css_urls, js_urls, callback) {\n    if (css_urls == null) css_urls = [];\n    if (js_urls == null) js_urls = [];\n\n    root._bokeh_onload_callbacks.push(callback);\n    if (root._bokeh_is_loading > 0) {\n      console.debug(\"Bokeh: BokehJS is being loaded, scheduling callback at\", now());\n      return null;\n    }\n    if (js_urls == null || js_urls.length === 0) {\n      run_callbacks();\n      return null;\n    }\n    console.debug(\"Bokeh: BokehJS not loaded, scheduling load and callback at\", now());\n    root._bokeh_is_loading = css_urls.length + js_urls.length;\n\n    function on_load() {\n      root._bokeh_is_loading--;\n      if (root._bokeh_is_loading === 0) {\n        console.debug(\"Bokeh: all BokehJS libraries/stylesheets loaded\");\n        run_callbacks()\n      }\n    }\n\n    function on_error(url) {\n      console.error(\"failed to load \" + url);\n    }\n\n    for (let i = 0; i < css_urls.length; i++) {\n      const url = css_urls[i];\n      const element = document.createElement(\"link\");\n      element.onload = on_load;\n      element.onerror = on_error.bind(null, url);\n      element.rel = \"stylesheet\";\n      element.type = \"text/css\";\n      element.href = url;\n      console.debug(\"Bokeh: injecting link tag for BokehJS stylesheet: \", url);\n      document.body.appendChild(element);\n    }\n\n    for (let i = 0; i < js_urls.length; i++) {\n      const url = js_urls[i];\n      const element = document.createElement('script');\n      element.onload = on_load;\n      element.onerror = on_error.bind(null, url);\n      element.async = false;\n      element.src = url;\n      console.debug(\"Bokeh: injecting script tag for BokehJS library: \", url);\n      document.head.appendChild(element);\n    }\n  };\n\n  function inject_raw_css(css) {\n    const element = document.createElement(\"style\");\n    element.appendChild(document.createTextNode(css));\n    document.body.appendChild(element);\n  }\n\n  const js_urls = [\"https://cdn.bokeh.org/bokeh/release/bokeh-3.6.2.min.js\", \"https://cdn.bokeh.org/bokeh/release/bokeh-gl-3.6.2.min.js\", \"https://cdn.bokeh.org/bokeh/release/bokeh-widgets-3.6.2.min.js\", \"https://cdn.bokeh.org/bokeh/release/bokeh-tables-3.6.2.min.js\", \"https://cdn.bokeh.org/bokeh/release/bokeh-mathjax-3.6.2.min.js\"];\n  const css_urls = [];\n\n  const inline_js = [    function(Bokeh) {\n      Bokeh.set_log_level(\"info\");\n    },\nfunction(Bokeh) {\n    }\n  ];\n\n  function run_inline_js() {\n    if (root.Bokeh !== undefined || force === true) {\n      try {\n            for (let i = 0; i < inline_js.length; i++) {\n      inline_js[i].call(root, root.Bokeh);\n    }\n\n      } catch (error) {display_loaded(error);throw error;\n      }if (force === true) {\n        display_loaded();\n      }} else if (Date.now() < root._bokeh_timeout) {\n      setTimeout(run_inline_js, 100);\n    } else if (!root._bokeh_failed_load) {\n      console.log(\"Bokeh: BokehJS failed to load within specified timeout.\");\n      root._bokeh_failed_load = true;\n    } else if (force !== true) {\n      const cell = $(document.getElementById(\"ed8f2735-d9f1-48c6-a9aa-d021a0434132\")).parents('.cell').data().cell;\n      cell.output_area.append_execute_result(NB_LOAD_WARNING)\n    }\n  }\n\n  if (root._bokeh_is_loading === 0) {\n    console.debug(\"Bokeh: BokehJS loaded, going straight to plotting\");\n    run_inline_js();\n  } else {\n    load_libs(css_urls, js_urls, function() {\n      console.debug(\"Bokeh: BokehJS plotting callback run at\", now());\n      run_inline_js();\n    });\n  }\n}(window));"
     },
     "metadata": {},
     "output_type": "display_data"
    }
   ],
   "source": [
    "import bokeh\n",
    "from bokeh.plotting import figure, show, output_notebook\n",
    "from bokeh.models import HoverTool, ColumnDataSource, LabelSet\n",
    "\n",
    "output_notebook()\n",
    "bokeh.io.output_notebook()"
   ]
  },
  {
   "cell_type": "code",
   "execution_count": 25,
   "metadata": {},
   "outputs": [
    {
     "data": {
      "text/html": [
       "\n",
       "  <div id=\"a18940a1-f2d9-45fe-b499-41811cc4679b\" data-root-id=\"p1004\" style=\"display: contents;\"></div>\n"
      ]
     },
     "metadata": {},
     "output_type": "display_data"
    },
    {
     "data": {
      "application/javascript": [
       "(function(root) {\n",
       "  function embed_document(root) {\n",
       "  const docs_json = {\"c2e7a71e-14a5-4bf6-889a-a2994d60c74e\":{\"version\":\"3.6.2\",\"title\":\"Bokeh Application\",\"roots\":[{\"type\":\"object\",\"name\":\"Figure\",\"id\":\"p1004\",\"attributes\":{\"x_range\":{\"type\":\"object\",\"name\":\"DataRange1d\",\"id\":\"p1005\"},\"y_range\":{\"type\":\"object\",\"name\":\"DataRange1d\",\"id\":\"p1006\"},\"x_scale\":{\"type\":\"object\",\"name\":\"LinearScale\",\"id\":\"p1014\"},\"y_scale\":{\"type\":\"object\",\"name\":\"LinearScale\",\"id\":\"p1015\"},\"title\":{\"type\":\"object\",\"name\":\"Title\",\"id\":\"p1007\",\"attributes\":{\"text\":\"t-SNE Word Embeddings\"}},\"renderers\":[{\"type\":\"object\",\"name\":\"GlyphRenderer\",\"id\":\"p1047\",\"attributes\":{\"data_source\":{\"type\":\"object\",\"name\":\"ColumnDataSource\",\"id\":\"p1001\",\"attributes\":{\"selected\":{\"type\":\"object\",\"name\":\"Selection\",\"id\":\"p1002\",\"attributes\":{\"indices\":[],\"line_indices\":[]}},\"selection_policy\":{\"type\":\"object\",\"name\":\"UnionRenderers\",\"id\":\"p1003\"},\"data\":{\"type\":\"map\",\"entries\":[[\"index\",{\"type\":\"ndarray\",\"array\":[\"asshole\",\"jerk\",\"rude\",\"inconsiderate\",\"angry\",\"upset\",\"sad\",\"happy\",\"frustrated\",\"friend\",\"family\",\"partner\",\"coworker\",\"neighbor\",\"apologize\",\"forgive\",\"ignore\",\"confront\",\"compromise\",\"right\",\"wrong\",\"justified\",\"unjustified\",\"fair\",\"unfair\",\"honesty\",\"loyalty\",\"respect\",\"kindness\",\"empathy\"],\"shape\":[30],\"dtype\":\"object\",\"order\":\"little\"}],[\"x\",{\"type\":\"ndarray\",\"array\":{\"type\":\"bytes\",\"data\":\"0sRkQrPPtEJ/0S/Fb1gfRSAocMOIiGTDUB0aQvhVUcOkEpDD54crQ1ogVEOkQZHCNzITw5UX1sFVYCJDJG+RwjIQekM37x1DU1e+wqRaZ8G1ZZ3AAZu8Qej0F0K9h85C89DzQsNYJML2N6ZCvL2kwmVCsUINtgpC\"},\"shape\":[30],\"dtype\":\"float32\",\"order\":\"little\"}],[\"y\",{\"type\":\"ndarray\",\"array\":{\"type\":\"bytes\",\"data\":\"oRfCQcJzdULLT1jCl5Thw9HyU0Aa4yJCrk0+w3xbrkKUbf5BhNhIQnQNkkLIjUHDkDzIwqfNu8IyEBzD/k2cQh0FX8JtAzTCgdNrw3JXIsFZRRFC5yDUQkM4bcDeBylDVKpXQ/bKMUPGCtrCtXqWwXDY58GpDVzC\"},\"shape\":[30],\"dtype\":\"float32\",\"order\":\"little\"}]]}}},\"view\":{\"type\":\"object\",\"name\":\"CDSView\",\"id\":\"p1048\",\"attributes\":{\"filter\":{\"type\":\"object\",\"name\":\"AllIndices\",\"id\":\"p1049\"}}},\"glyph\":{\"type\":\"object\",\"name\":\"Scatter\",\"id\":\"p1043\",\"attributes\":{\"x\":{\"type\":\"field\",\"field\":\"x\"},\"y\":{\"type\":\"field\",\"field\":\"y\"},\"size\":{\"type\":\"value\",\"value\":10},\"line_color\":{\"type\":\"value\",\"value\":\"blue\"},\"fill_color\":{\"type\":\"value\",\"value\":\"blue\"},\"hatch_color\":{\"type\":\"value\",\"value\":\"blue\"}}},\"nonselection_glyph\":{\"type\":\"object\",\"name\":\"Scatter\",\"id\":\"p1044\",\"attributes\":{\"x\":{\"type\":\"field\",\"field\":\"x\"},\"y\":{\"type\":\"field\",\"field\":\"y\"},\"size\":{\"type\":\"value\",\"value\":10},\"line_color\":{\"type\":\"value\",\"value\":\"blue\"},\"line_alpha\":{\"type\":\"value\",\"value\":0.1},\"fill_color\":{\"type\":\"value\",\"value\":\"blue\"},\"fill_alpha\":{\"type\":\"value\",\"value\":0.1},\"hatch_color\":{\"type\":\"value\",\"value\":\"blue\"},\"hatch_alpha\":{\"type\":\"value\",\"value\":0.1}}},\"hover_glyph\":{\"type\":\"object\",\"name\":\"Scatter\",\"id\":\"p1045\",\"attributes\":{\"x\":{\"type\":\"field\",\"field\":\"x\"},\"y\":{\"type\":\"field\",\"field\":\"y\"},\"size\":{\"type\":\"value\",\"value\":10},\"fill_color\":{\"type\":\"value\",\"value\":\"blue\"},\"hatch_color\":{\"type\":\"value\",\"value\":\"blue\"}}},\"muted_glyph\":{\"type\":\"object\",\"name\":\"Scatter\",\"id\":\"p1046\",\"attributes\":{\"x\":{\"type\":\"field\",\"field\":\"x\"},\"y\":{\"type\":\"field\",\"field\":\"y\"},\"size\":{\"type\":\"value\",\"value\":10},\"line_color\":{\"type\":\"value\",\"value\":\"blue\"},\"line_alpha\":{\"type\":\"value\",\"value\":0.2},\"fill_color\":{\"type\":\"value\",\"value\":\"blue\"},\"fill_alpha\":{\"type\":\"value\",\"value\":0.2},\"hatch_color\":{\"type\":\"value\",\"value\":\"blue\"},\"hatch_alpha\":{\"type\":\"value\",\"value\":0.2}}}}}],\"toolbar\":{\"type\":\"object\",\"name\":\"Toolbar\",\"id\":\"p1013\",\"attributes\":{\"tools\":[{\"type\":\"object\",\"name\":\"PanTool\",\"id\":\"p1026\"},{\"type\":\"object\",\"name\":\"WheelZoomTool\",\"id\":\"p1027\",\"attributes\":{\"renderers\":\"auto\"}},{\"type\":\"object\",\"name\":\"BoxZoomTool\",\"id\":\"p1028\",\"attributes\":{\"overlay\":{\"type\":\"object\",\"name\":\"BoxAnnotation\",\"id\":\"p1029\",\"attributes\":{\"syncable\":false,\"line_color\":\"black\",\"line_alpha\":1.0,\"line_width\":2,\"line_dash\":[4,4],\"fill_color\":\"lightgrey\",\"fill_alpha\":0.5,\"level\":\"overlay\",\"visible\":false,\"left\":{\"type\":\"number\",\"value\":\"nan\"},\"right\":{\"type\":\"number\",\"value\":\"nan\"},\"top\":{\"type\":\"number\",\"value\":\"nan\"},\"bottom\":{\"type\":\"number\",\"value\":\"nan\"},\"left_units\":\"canvas\",\"right_units\":\"canvas\",\"top_units\":\"canvas\",\"bottom_units\":\"canvas\",\"handles\":{\"type\":\"object\",\"name\":\"BoxInteractionHandles\",\"id\":\"p1035\",\"attributes\":{\"all\":{\"type\":\"object\",\"name\":\"AreaVisuals\",\"id\":\"p1034\",\"attributes\":{\"fill_color\":\"white\",\"hover_fill_color\":\"lightgray\"}}}}}}}},{\"type\":\"object\",\"name\":\"SaveTool\",\"id\":\"p1036\"},{\"type\":\"object\",\"name\":\"ResetTool\",\"id\":\"p1037\"},{\"type\":\"object\",\"name\":\"HelpTool\",\"id\":\"p1038\"},{\"type\":\"object\",\"name\":\"HoverTool\",\"id\":\"p1039\",\"attributes\":{\"renderers\":\"auto\",\"tooltips\":\"@index\"}}]}},\"left\":[{\"type\":\"object\",\"name\":\"LinearAxis\",\"id\":\"p1021\",\"attributes\":{\"ticker\":{\"type\":\"object\",\"name\":\"BasicTicker\",\"id\":\"p1022\",\"attributes\":{\"mantissas\":[1,2,5]}},\"formatter\":{\"type\":\"object\",\"name\":\"BasicTickFormatter\",\"id\":\"p1023\"},\"major_label_policy\":{\"type\":\"object\",\"name\":\"AllLabels\",\"id\":\"p1024\"}}}],\"below\":[{\"type\":\"object\",\"name\":\"LinearAxis\",\"id\":\"p1016\",\"attributes\":{\"ticker\":{\"type\":\"object\",\"name\":\"BasicTicker\",\"id\":\"p1017\",\"attributes\":{\"mantissas\":[1,2,5]}},\"formatter\":{\"type\":\"object\",\"name\":\"BasicTickFormatter\",\"id\":\"p1018\"},\"major_label_policy\":{\"type\":\"object\",\"name\":\"AllLabels\",\"id\":\"p1019\"}}}],\"center\":[{\"type\":\"object\",\"name\":\"Grid\",\"id\":\"p1020\",\"attributes\":{\"axis\":{\"id\":\"p1016\"}}},{\"type\":\"object\",\"name\":\"Grid\",\"id\":\"p1025\",\"attributes\":{\"dimension\":1,\"axis\":{\"id\":\"p1021\"}}},{\"type\":\"object\",\"name\":\"LabelSet\",\"id\":\"p1050\",\"attributes\":{\"level\":\"glyph\",\"source\":{\"id\":\"p1001\"},\"x\":{\"type\":\"field\",\"field\":\"x\"},\"y\":{\"type\":\"field\",\"field\":\"y\"},\"text\":{\"type\":\"field\",\"field\":\"index\"},\"x_offset\":{\"type\":\"value\",\"value\":5},\"y_offset\":{\"type\":\"value\",\"value\":5}}}]}}]}};\n",
       "  const render_items = [{\"docid\":\"c2e7a71e-14a5-4bf6-889a-a2994d60c74e\",\"roots\":{\"p1004\":\"a18940a1-f2d9-45fe-b499-41811cc4679b\"},\"root_ids\":[\"p1004\"]}];\n",
       "  void root.Bokeh.embed.embed_items_notebook(docs_json, render_items);\n",
       "  }\n",
       "  if (root.Bokeh !== undefined) {\n",
       "    embed_document(root);\n",
       "  } else {\n",
       "    let attempts = 0;\n",
       "    const timer = setInterval(function(root) {\n",
       "      if (root.Bokeh !== undefined) {\n",
       "        clearInterval(timer);\n",
       "        embed_document(root);\n",
       "      } else {\n",
       "        attempts++;\n",
       "        if (attempts > 100) {\n",
       "          clearInterval(timer);\n",
       "          console.log(\"Bokeh: ERROR: Unable to run BokehJS code because BokehJS library is missing\");\n",
       "        }\n",
       "      }\n",
       "    }, 10, root)\n",
       "  }\n",
       "})(window);"
      ],
      "application/vnd.bokehjs_exec.v0+json": ""
     },
     "metadata": {
      "application/vnd.bokehjs_exec.v0+json": {
       "id": "p1004"
      }
     },
     "output_type": "display_data"
    }
   ],
   "source": [
    "# Add our DataFrame as a ColumnDataSource for Bokeh\n",
    "plot_data = ColumnDataSource(words_df)\n",
    "# Create the plot and configure the title, dimensions, and tools\n",
    "tsne_plot = figure(title='t-SNE Word Embeddings')\n",
    "# Add a hover tool to display words on roll-over\n",
    "tsne_plot.add_tools(HoverTool(tooltips='@index'))\n",
    "# Use scatter() instead of circle() - updated syntax\n",
    "tsne_plot.scatter('x', 'y',\n",
    "                  source=plot_data,\n",
    "                  color='blue',\n",
    "                  size=10,\n",
    "                  hover_line_color='black')\n",
    "# Add labels to the points\n",
    "labels = LabelSet(x='x', y='y', text='index', level='glyph',\n",
    "                  x_offset=5, y_offset=5, source=plot_data)\n",
    "tsne_plot.add_layout(labels)\n",
    "# Engage!\n",
    "show(tsne_plot)"
   ]
  },
  {
   "cell_type": "markdown",
   "metadata": {
    "id": "9EF6bB0rVReh"
   },
   "source": [
    "Now let's use $t$-SNE to take **all** the word vectors."
   ]
  },
  {
   "cell_type": "code",
   "execution_count": 26,
   "metadata": {},
   "outputs": [],
   "source": [
    "tsne = TSNE(init='pca', learning_rate='auto')\n",
    "X_tsne = tsne.fit_transform(model.wv.vectors)"
   ]
  },
  {
   "cell_type": "markdown",
   "metadata": {},
   "source": [
    "We have our low dimensional representation. Now, let's store the 2 dimensions in a dataframe, with the word as the index:"
   ]
  },
  {
   "cell_type": "code",
   "execution_count": 27,
   "metadata": {},
   "outputs": [],
   "source": [
    "# Store the t-SNE vectors\n",
    "tsne_df = pd.DataFrame(X_tsne,\n",
    "                       index=pd.Index(model.wv.index_to_key),\n",
    "                       columns=['x', 'y'])"
   ]
  },
  {
   "cell_type": "code",
   "execution_count": 28,
   "metadata": {
    "id": "jd60bqFxe9z1"
   },
   "outputs": [],
   "source": [
    "# Create some filepaths to save our model\n",
    "tsne_path = '../../data/tsne_model'\n",
    "tsne_df_path = '../../data/tsne_df.pkl'"
   ]
  },
  {
   "cell_type": "code",
   "execution_count": 29,
   "metadata": {
    "id": "QBe7lNE3e7oQ"
   },
   "outputs": [],
   "source": [
    "# Save to disk\n",
    "with open(tsne_path, 'wb') as f:\n",
    "    pickle.dump(X_tsne, f)\n",
    "\n",
    "tsne_df.to_pickle(tsne_df_path)"
   ]
  },
  {
   "cell_type": "markdown",
   "metadata": {},
   "source": [
    "Here's a convenient code block to load this data, to start from this point:"
   ]
  },
  {
   "cell_type": "code",
   "execution_count": 30,
   "metadata": {},
   "outputs": [],
   "source": [
    "with open(tsne_path, 'rb') as f:\n",
    "    X_tsne = pickle.load(f)\n",
    "    \n",
    "tsne_df = pd.read_pickle(tsne_df_path)"
   ]
  },
  {
   "cell_type": "code",
   "execution_count": 31,
   "metadata": {
    "colab": {
     "base_uri": "https://localhost:8080/",
     "height": 817
    },
    "executionInfo": {
     "elapsed": 747,
     "status": "ok",
     "timestamp": 1640017607454,
     "user": {
      "displayName": "Tom van Nuenen",
      "photoUrl": "https://lh3.googleusercontent.com/a-/AOh14GhuBmxDvW5I_LJfZtwlPqMFD8QGLVPP3skvpkTnuQ=s64",
      "userId": "10012302451096885058"
     },
     "user_tz": -60
    },
    "id": "myJtActVdjn4",
    "outputId": "5f283a90-c0f4-4c31-88ea-5f7bfa6917ee",
    "tags": []
   },
   "outputs": [
    {
     "name": "stderr",
     "output_type": "stream",
     "text": [
      "BokehDeprecationWarning: 'circle() method with size value' was deprecated in Bokeh 3.4.0 and will be removed, use 'scatter(size=...) instead' instead.\n"
     ]
    },
    {
     "data": {
      "text/html": [
       "\n",
       "  <div id=\"b6331b19-21c8-488d-bba3-f0f126b3a7a5\" data-root-id=\"p1059\" style=\"display: contents;\"></div>\n"
      ]
     },
     "metadata": {},
     "output_type": "display_data"
    },
    {
     "data": {
      "application/javascript": [
       "(function(root) {\n",
       "  function embed_document(root) {\n",
       "  const docs_json = {\"84f3a1ef-a08d-46fc-b781-db573a94b6cb\":{\"version\":\"3.6.2\",\"title\":\"Bokeh Application\",\"roots\":[{\"type\":\"object\",\"name\":\"Figure\",\"id\":\"p1059\",\"attributes\":{\"x_range\":{\"type\":\"object\",\"name\":\"DataRange1d\",\"id\":\"p1060\"},\"y_range\":{\"type\":\"object\",\"name\":\"DataRange1d\",\"id\":\"p1061\"},\"x_scale\":{\"type\":\"object\",\"name\":\"LinearScale\",\"id\":\"p1069\"},\"y_scale\":{\"type\":\"object\",\"name\":\"LinearScale\",\"id\":\"p1070\"},\"title\":{\"type\":\"object\",\"name\":\"Title\",\"id\":\"p1062\",\"attributes\":{\"text\":\"t-SNE Word Embeddings\"}},\"renderers\":[{\"type\":\"object\",\"name\":\"GlyphRenderer\",\"id\":\"p1102\",\"attributes\":{\"data_source\":{\"type\":\"object\",\"name\":\"ColumnDataSource\",\"id\":\"p1056\",\"attributes\":{\"selected\":{\"type\":\"object\",\"name\":\"Selection\",\"id\":\"p1057\",\"attributes\":{\"indices\":[],\"line_indices\":[]}},\"selection_policy\":{\"type\":\"object\",\"name\":\"UnionRenderers\",\"id\":\"p1058\"},\"data\":{\"type\":\"map\",\"entries\":[[\"index\",{\"type\":\"ndarray\",\"array\":[\"like\",\"want\",\"think\",\"people\",\"know\",\"asshole\",\"nta\",\"time\",\"op\",\"thing\",\"yta\",\"need\",\"kid\",\"tell\",\"way\",\"feel\",\"good\",\"child\",\"friend\",\"try\",\"right\",\"work\",\"ask\",\"parent\",\"come\",\"sound\",\"year\",\"relationship\",\"mean\",\"life\",\"family\",\"person\",\"woman\",\"use\",\"bad\",\"guy\",\"talk\",\"help\",\"let\",\"look\",\"situation\",\"day\",\"pay\",\"probably\",\"wife\",\">\",\"maybe\",\"fuck\",\"find\",\"leave\",\"man\",\"sure\",\"lot\",\"care\",\"old\",\"shit\",\"money\",\"wrong\",\"post\",\"reason\",\"understand\",\"love\",\"point\",\"girl\",\"agree\",\"actually\",\"mom\",\"issue\",\"happen\",\"long\",\"sex\",\"change\",\"home\",\"live\",\"husband\",\"comment\",\"stop\",\"kind\",\"pretty\",\"yeah\",\"daughter\",\"start\",\"big\",\"problem\",\"little\",\"job\",\"date\",\"baby\",\"place\",\"break\",\"dog\",\"hard\",\"definitely\",\"end\",\"mother\",\"fact\",\"away\",\"sister\",\"expect\",\"different\",\"eat\",\"dad\",\"yes\",\"house\",\"deal\",\"especially\",\"school\",\"nah\",\"act\",\"food\",\"partner\",\"read\",\"girlfriend\",\"matter\",\"instead\",\"support\",\"dude\",\"adult\",\"bring\",\"consider\",\"feeling\",\"bit\",\"month\",\"hurt\",\"stay\",\"new\",\"learn\",\"spend\",\"hope\",\"decide\",\"honestly\",\"sorry\",\"boyfriend\",\"wedding\",\"believe\",\"brother\",\"absolutely\",\"literally\",\"ex\",\"father\",\"week\",\"son\",\"case\",\"real\",\"behavior\",\"plan\",\"clearly\",\"able\",\"choice\",\"buy\",\"hour\",\"idea\",\"respect\",\"allow\",\"choose\",\"completely\",\"lie\",\"important\",\"decision\",\"stuff\",\"cause\",\"assume\",\"esh\",\"okay\",\"treat\",\"exactly\",\"trust\",\"lose\",\"play\",\"upset\",\"turn\",\"hear\",\"mind\",\"grow\",\"fucking\",\"suck\",\"word\",\"nice\",\"control\",\"great\",\"fine\",\"sleep\",\"young\",\"$\",\"likely\",\"experience\",\"edit\",\"body\",\"question\",\"obviously\",\"thank\",\"deserve\",\"opinion\",\"cheat\",\"high\",\"story\",\"share\",\"shitty\",\"far\",\"happy\",\"hate\",\"night\",\"weird\",\"clear\",\"realize\",\"car\",\"age\",\"seriously\",\"room\",\"rule\",\"mention\",\"etc\",\"force\",\"totally\",\"party\",\"handle\",\"gf\",\"free\",\"ass\",\"accept\",\"wait\",\"normal\",\"explain\",\"ok\",\"marry\",\"set\",\"speak\",\"close\",\"hand\",\"sit\",\"cut\",\"conversation\",\"easy\",\"joke\",\"future\",\"action\",\"watch\",\"gift\",\"responsibility\",\"hell\",\"couple\",\"wear\",\"guess\",\"world\",\"oh\",\"s\",\"fair\",\"walk\",\"imagine\",\"pregnant\",\"run\",\"rude\",\"excuse\",\"line\",\"second\",\"raise\",\"stand\",\"lol\",\"dick\",\"throw\",\"business\",\"uncomfortable\",\"chance\",\"offer\",\"face\",\"meet\",\"huge\",\"pick\",\"base\",\"marriage\",\"state\",\"course\",\"answer\",\"possible\",\"fault\",\"response\",\"head\",\"abuse\",\"basically\",\"open\",\"sense\",\"small\",\"step\",\"clean\",\"super\",\"fun\",\"hold\",\"drive\",\"cat\",\"send\",\"law\",\"healthy\",\"die\",\"enjoy\",\"wish\",\"personal\",\"teach\",\"phone\",\"refuse\",\"continue\",\"willing\",\"single\",\"term\",\"stupid\",\"later\",\"reasonable\",\"true\",\"blame\",\"straight\",\"check\",\"sort\",\"type\",\"boundary\",\"hair\",\"ignore\",\"human\",\"order\",\"worth\",\"group\",\"suggest\",\"past\",\"include\",\"honest\",\"apologize\",\"add\",\"involve\",\"option\",\"poor\",\"usually\",\"mad\",\"college\",\"trip\",\"info\",\"invite\",\"concern\",\"reaction\",\"save\",\"remember\",\"selfish\",\"pregnancy\",\"sub\",\"level\",\"view\",\"difference\",\"figure\",\"minute\",\"entitle\",\"half\",\"damn\",\"gay\",\"game\",\"write\",\"suppose\",\"entire\",\"sexual\",\"birthday\",\"comfortable\",\"advice\",\"miss\",\"drink\",\"boy\",\"listen\",\"cook\",\"divorce\",\"push\",\"kick\",\"cool\",\"seat\",\"risk\",\"safe\",\"rest\",\"ruin\",\"thought\",\"personally\",\"common\",\"pass\",\"class\",\"emotional\",\"bed\",\"bother\",\"follow\",\"bf\",\"regardless\",\"cost\",\"event\",\"anymore\",\"wonder\",\"extremely\",\"fight\",\"early\",\"hang\",\"tip\",\"stick\",\"public\",\"owe\",\"actual\",\"god\",\"moment\",\"ago\",\"sign\",\"abusive\",\"argument\",\"black\",\"dinner\",\"pull\",\"attention\",\"discuss\",\"simply\",\"hit\",\"mistake\",\"contact\",\"ta\",\"picture\",\"space\",\"steal\",\"value\",\"weight\",\"kinda\",\"white\",\"judge\",\"responsible\",\"extra\",\"avoid\",\"angry\",\"touch\",\"therapy\",\"self\",\"kill\",\"terrible\",\"crazy\",\"provide\",\"similar\",\"effort\",\"soon\",\"teacher\",\"worry\",\"reddit\",\"meal\",\"pain\",\"difficult\",\"roommate\",\"forget\",\"incredibly\",\"doctor\",\"health\",\"outside\",\"non\",\"claim\",\"position\",\"thread\",\"lead\",\"animal\",\"example\",\"drop\",\"ready\",\"gender\",\"certain\",\"service\",\"disagree\",\"consequence\",\"late\",\"ridiculous\",\"stranger\",\"racist\",\"legal\",\"cry\",\"female\",\"plus\",\"hide\",\"luck\",\"doubt\",\"hey\",\"bullshit\",\"rent\",\"judgement\",\"fix\",\"mess\",\"lack\",\"affect\",\"depend\",\"require\",\"information\",\"birth\",\"notice\",\"perfectly\",\"student\",\"bitch\",\"petty\",\"afford\",\"react\",\"justify\",\"argue\",\"demand\",\"certainly\",\"report\",\"eye\",\"bear\",\"compromise\",\"rape\",\"private\",\"correct\",\"period\",\"male\",\"sick\",\"laugh\",\"imo\",\"immediately\",\"number\",\"awful\",\"respond\",\"special\",\"married\",\"complain\",\"admit\",\"account\",\"movie\",\"communicate\",\"funny\",\"door\",\"country\",\"consent\",\"sibling\",\"low\",\"social\",\"short\",\"bill\",\"friendship\",\"major\",\"cover\",\"perspective\",\"possibly\",\"insult\",\"text\",\"appreciate\",\"easily\",\"interest\",\"interested\",\"member\",\"struggle\",\"restaurant\",\"damage\",\"protect\",\"pet\",\"horrible\",\"sad\",\"truth\",\"physical\",\"company\",\"professional\",\"message\",\"history\",\"fire\",\"behaviour\",\"book\",\"vegan\",\"attitude\",\"aware\",\"piece\",\"property\",\"meat\",\"obvious\",\"create\",\"general\",\"win\",\"truly\",\"medical\",\"shame\",\"bathroom\",\"culture\",\"discussion\",\"blow\",\"expensive\",\"wow\",\"fit\",\"present\",\"multiple\",\"request\",\"describe\",\"catch\",\"test\",\"opportunity\",\"gross\",\"dumb\",\"victim\",\"appropriate\",\"specifically\",\"bet\",\"middle\",\"fat\",\"drunk\",\"police\",\"plenty\",\"stress\",\"emotionally\",\"exist\",\"area\",\"dump\",\"waste\",\"simple\",\"reply\",\"abortion\",\"intention\",\"financial\",\"carry\",\"strong\",\"process\",\"entirely\",\"heart\",\"specific\",\"feed\",\"surprised\",\"fake\",\"immature\",\"fail\",\"guest\",\"trouble\",\"fall\",\"large\",\"express\",\"apparently\",\"context\",\"dress\",\"creepy\",\"pressure\",\"valid\",\"fully\",\"generally\",\"boss\",\"visit\",\"internet\",\"language\",\"ground\",\"approach\",\"scenario\",\"teenager\",\"result\",\"sell\",\"obligation\",\"advantage\",\"defend\",\"hopefully\",\"piss\",\"glad\",\"condom\",\"wtf\",\"employee\",\"vacation\",\"bully\",\"therapist\",\"cousin\",\"attract\",\"religion\",\"lady\",\"dead\",\"attempt\",\"scream\",\"tough\",\"yell\",\"weekend\",\"note\",\"split\",\"charge\",\"table\",\"complete\",\"form\",\"shower\",\"trans\",\"expectation\",\"remove\",\"suffer\",\"physically\",\"detail\",\"constantly\",\"death\",\"harm\",\"unreasonable\",\"prove\",\"benefit\",\"belief\",\"threaten\",\"wake\",\"effect\",\"worried\",\"manipulative\",\"owner\",\"coworker\",\"eventually\",\"pretend\",\"toxic\",\"insecure\",\"address\",\"perfect\",\"communication\",\"reality\",\"solution\",\"list\",\"r\",\"dish\",\"punish\",\"focus\",\"spouse\",\"manager\",\"red_flag\",\"genuinely\",\"career\",\"light\",\"card\",\"court\",\"safety\",\"attack\",\"spot\",\"fear\",\"shp\",\"store\",\"build\",\"mature\",\"adopt\",\"behave\",\"dangerous\",\"preference\",\"reach\",\"separate\",\"system\",\"shut\",\"regard\",\"sake\",\"return\",\"necessarily\",\"random\",\"clothe\",\"despite\",\"manage\",\"fast\",\"somebody\",\"water\",\"finally\",\"jerk\",\"encourage\",\"imply\",\"team\",\"offend\",\"favor\",\"lesson\",\"exact\",\"ring\",\"understandable\",\"seek\",\"idiot\",\"porn\",\"foot\",\"smell\",\"photo\",\"emotion\",\"total\",\"diet\",\"near\",\"current\",\"attend\",\"power\",\"apartment\",\"circumstance\",\"holy\",\"remind\",\"depression\",\"tattoo\",\"basic\",\"grade\",\"disrespectful\",\"standard\",\"mental_health\",\"bar\",\"promise\",\"tbh\",\"surprise\",\"apply\",\"inappropriate\",\"condition\",\"loss\",\"potential\",\"directly\",\"contribute\",\"apology\",\"annoy\",\"pissed\",\"cheap\",\"study\",\"degree\",\"agreement\",\"prefer\",\"bunch\",\"zero\",\"destroy\",\"anger\",\"drug\",\"differently\",\"annoying\",\"community\",\"begin\",\"potentially\",\"ahead\",\"decent\",\"anxiety\",\"massive\",\"acceptable\",\"legally\",\"receive\",\"suddenly\",\"lawyer\",\"unfair\",\"limit\",\"train\",\"forward\",\"religious\",\"understanding\",\"earn\",\"compare\",\"mental\",\"jump\",\"customer\",\"smart\",\"toy\",\"negative\",\"quit\",\"idk\",\"hot\",\"mum\",\"office\",\"concerned\",\"loud\",\"insist\",\"assumption\",\"serve\",\"unfortunately\",\"aside\",\"topic\",\"equal\",\"ability\",\"permission\",\"count\",\"size\",\"manipulate\",\"deep\",\"blood\",\"amazing\",\"+\",\"secret\",\"neighbor\",\"ton\",\"gym\",\"schedule\",\"essentially\",\"punishment\",\"jesus\",\"debt\",\"aita\",\"sexist\",\"tend\",\"disgusting\",\"insecurity\",\"society\",\"impact\",\"ride\",\"awkward\",\"desire\",\"afraid\",\"wanna\",\"ticket\",\"bc\",\"travel\",\"jealous\",\"lock\",\"price\",\"prevent\",\"attractive\",\"activity\",\"insane\",\"shoe\",\"teen\",\"gun\",\"relate\",\"online\",\"original\",\"positive\",\"brain\",\"block\",\"drama\",\"twice\",\"today\",\"purpose\",\"forever\",\"chore\",\"actively\",\"financially\",\"disability\",\"switch\",\"cheating\",\"judgment\",\"troll\",\"income\",\"cop\",\"skill\",\"guarantee\",\"freak\",\"trash\",\"necessary\",\"lay\",\"recommend\",\"frankly\",\"hospital\",\"validation\",\"obligate\",\"inside\",\"quick\",\"illegal\",\"wash\",\"aunt\",\"polite\",\"birth_control\",\"item\",\"minor\",\"role\",\"park\",\"grandparent\",\"lmao\",\"childish\",\"guilty\",\"prepare\",\"beat\",\"nta-\",\"education\",\"screw\",\"comfort\",\"disorder\",\"statement\",\"celebrate\",\"odd\",\"key\",\"hole\",\"extreme\",\"access\",\"develop\",\"recognize\",\"lucky\",\"road\",\"practice\",\"hire\",\"priority\",\"acknowledge\",\"smoke\",\"supportive\",\"tired\",\"race\",\"downvote\",\"kiss\",\"tv\",\"lunch\",\"i'm\",\"sexuality\",\"living\",\"ultimately\",\"dream\",\"sensitive\",\"title\",\"logic\",\"finish\",\"harsh\",\"refer\",\"hormone\",\"bag\",\"cruel\",\"custody\",\"grab\",\"engage\",\"double\",\"morning\",\"guilt\",\"convince\",\"privacy\",\"intend\",\"parenting\",\"reject\",\"cancer\",\"calm\",\"household\",\"fiance\",\"record\",\"memory\",\"accident\",\"subject\",\"source\",\"bro\",\"environment\",\"moral\",\"video\",\"properly\",\"grown\",\"significant\",\"particular\",\"assault\",\"holiday\",\"b\",\"character\",\"deny\",\"disrespect\",\"quickly\",\"project\",\"capable\",\"welcome\",\"lazy\",\"host\",\"trauma\",\"church\",\"emergency\",\"cash\",\"vote\",\"regular\",\"treatment\",\"grandma\",\"badly\",\"replace\",\"mil\",\"regret\",\"mouth\",\"empathy\",\"abandon\",\"individual\",\"overreact\",\"sweet\",\"barely\",\"forgive\",\"manner\",\"evidence\",\"expense\",\"opposite\",\"biological\",\"explanation\",\"kitchen\",\"hobby\",\"currently\",\"u\",\"gain\",\"confront\",\"join\",\"phrase\",\"x\",\"resent\",\"egg\",\"yep\",\"absolute\",\"=\",\"awesome\",\"draw\",\"crap\",\"normally\",\"intentionally\",\"finance\",\"average\",\"romantic\",\"street\",\"proper\",\"english\",\"cold\",\"possibility\",\"research\",\"quality\",\"proud\",\"accuse\",\"tie\",\"solve\",\"recently\",\"toddler\",\"shitpost\",\"dance\",\"christmas\",\"available\",\"alcohol\",\"sentence\",\"nope\",\"tear\",\"bus\",\"you're\",\"cooking\",\"buddy\",\"knock\",\"cross\",\"vegetarian\",\"sacrifice\",\"knowledge\",\"cake\",\"btw\",\"penis\",\"bi\",\"natural\",\"delete\",\"local\",\"hook\",\"habit\",\"unhealthy\",\"embarrassed\",\"city\",\"burden\",\"realise\",\"policy\",\"respectful\",\"busy\",\"careful\",\"noise\",\"painful\",\"taste\",\"technically\",\"disabled\",\"maintain\",\"server\",\"creep\",\"suspect\",\"ban\",\"silly\",\"particularly\",\"quiet\",\"commit\",\"fairly\",\"bedroom\",\"strange\",\"friendly\",\"confirm\",\"inform\",\"inconsiderate\",\"equally\",\"main\",\"factor\",\"voice\",\"town\",\"dollar\",\"helpful\",\"ultimatum\",\"loan\",\"slightly\",\"curious\",\"cancel\",\"personality\",\"and/or\",\"favorite\",\"exclude\",\"color\",\"haha\",\"childhood\",\"anyways\",\"interaction\",\"ball\",\"threat\",\"murder\",\"escalate\",\"resentment\",\"previous\",\"innocent\",\"american\",\"reasoning\",\"fly\",\"ghost\",\"everybody\",\"rate\",\"lifestyle\",\"counseling\",\"identity\",\"autistic\",\"scare\",\"shift\",\"scene\",\"news\",\"ignorant\",\"danger\",\"thinking\",\"crime\",\"confused\",\"bride\",\"distance\",\"compliment\",\"hurtful\",\"fianc\\u00e9\",\"direct\",\"fill\",\"pizza\",\"mate\",\"donate\",\"nearly\",\"grief\",\"goal\",\"bite\",\"labor\",\"music\",\"subreddit\",\"floor\",\"d\",\"uncle\",\"insurance\",\"shot\",\"conflict\",\"relative\",\"match\",\"aggressive\",\"bond\",\"burn\",\"style\",\"coffee\",\"upvote\",\"poorly\",\"improve\",\"entitled\",\"fund\",\"majority\",\"shirt\",\"social_medium\",\"dislike\",\"military\",\"patient\",\"pill\",\"staff\",\"cute\",\"funeral\",\"arrangement\",\"advance\",\"box\",\"identify\",\"relevant\",\"proof\",\"email\",\"driver\",\"function\",\"credit\",\"window\",\"hotel\",\"lean\",\"board\",\"dynamic\",\"yta-\",\"better\",\"surgery\",\"yea\",\"rid\",\"ah\",\"update\",\"severe\",\"naked\",\"niece\",\"grieve\",\"homophobic\",\"flight\",\"belong\",\"folk\",\"shop\",\"remain\",\"skin\",\"offensive\",\"prank\",\"lease\",\"couch\",\"enter\",\"interact\",\"flip\",\"passive_aggressive\",\"link\",\"definition\",\"autism\",\"accord\",\"commitment\",\"interesting\",\"crush\",\"violate\",\"warn\",\"facebook\",\"repeat\",\"regularly\",\"impossible\",\"explicitly\",\"field\",\"prior\",\"expose\",\"warning\",\"allergy\",\"beautiful\",\"payment\",\"aspect\",\"nasty\",\"worker\",\"resource\",\"grandmother\",\"million\",\"apologise\",\"leg\",\"letter\",\"harass\",\"peace\",\"path\",\"beginning\",\"arm\",\"shock\",\"decade\",\"miserable\",\"repeatedly\",\"university\",\"accommodate\",\"appear\",\"connection\",\"mentally\",\"tiny\",\"dark\",\"debate\",\"adoption\",\"delivery\",\"dare\",\"participate\",\"authority\",\"chat\",\"homeless\",\"revenge\",\"drag\",\"sport\",\"track\",\"deeply\",\"violence\",\"suggestion\",\"irrelevant\",\"instance\",\"earth\",\"sexually\",\"blind\",\"pursue\",\"legitimate\",\"wall\",\"budget\",\"image\",\"twin\",\"trigger\",\"enable\",\"racism\",\"flat\",\"cheater\",\"rough\",\"establish\",\"unnecessary\",\"newborn\",\"purchase\",\"cunt\",\"shoot\",\"ya\",\"tone\",\"ugly\",\"automatically\",\"dictate\",\"clarify\",\"tho\",\"alternative\",\"highly\",\"red\",\"politely\",\"art\",\"presumably\",\"anybody\",\"strongly\",\"paint\",\"scared\",\"stressful\",\"incident\",\"defensive\",\"concept\",\"roll\",\"energy\",\"meeting\",\"contract\",\"scary\",\"pack\",\"happiness\",\"punch\",\"bs\",\"paper\",\"unable\",\"neglect\",\"associate\",\"google\",\"apart\",\"mood\",\"irresponsible\",\"consideration\",\"chill\",\"disease\",\"slight\",\"faith\",\"appearance\",\"garbage\",\"excited\",\"yup\",\"page\",\"abuser\",\"occur\",\"foster\",\"teenage\",\"club\",\"daily\",\"pant\",\"genuine\",\"computer\",\"pee\",\"grateful\",\"dirty\",\"justified\",\"/r\",\"propose\",\"medication\",\"app\",\"hug\",\"program\",\"commenter\",\"grandchild\",\"frustration\",\"sue\",\"vagina\",\"duty\",\"skip\",\"mental_illness\",\"plate\",\"overall\",\"trick\",\"somewhat\",\"breast\",\"ensure\",\"indicate\",\"suit\",\"product\",\"intimate\",\"ill\",\"rich\",\"nature\",\"inconvenience\",\"insensitive\",\"depressed\",\"invest\",\"version\",\"nurse\",\"med\",\"heavy\",\"sympathy\",\"accidentally\",\"bio\",\"flirt\",\"stage\",\"typically\",\"grant\",\"video_game\",\"task\",\"material\",\"snap\",\"deliberately\",\"mutual\",\"load\",\"rare\",\"spread\",\"pop\",\"violent\",\"giant\",\"vs\",\"mile\",\"lesbian\",\"decline\",\"hint\",\"rely\",\"false\",\"texte\",\"tinder\",\"asap\",\"weed\",\"makeup\",\"got\",\"training\",\"ashamed\",\"jesus_christ\",\"sil\",\"overweight\",\"nephew\",\"rub\",\"exercise\",\"method\",\"file\",\"speech\",\"surely\",\"finger\",\"wonderful\",\"fantasy\",\"hr\",\"ytayou\",\"bisexual\",\"determine\",\"pre\",\"cps\",\"disregard\",\"impression\",\"ops\",\"hilarious\",\"relax\",\"attraction\",\"intent\",\"boob\",\"wise\",\"pro\",\"spoil\",\"blue\",\"honor\",\"milk\",\"graduate\",\"laundry\",\"honesty\",\"successful\",\"air\",\"embarrass\",\"beg\",\"af\",\"effective\",\"tradition\",\"bridesmaid\",\"till\",\"bias\",\"frame\",\"increase\",\"dismiss\",\"target\",\"transphobic\",\"trap\",\"object\",\"security\",\"parking\",\"enforce\",\"discipline\",\"final\",\"omg\",\"shoulder\",\"territory\",\"slow\",\"theirs\",\"affair\",\"rock\",\"rational\",\"grocery\",\"addiction\",\"bottle\",\"outcome\",\"educate\",\"christian\",\"unacceptable\",\"nude\",\"spite\",\"toilet\",\"rip\",\"fish\",\"management\",\"snack\",\"diaper\",\"symptom\",\"complaint\",\"resolve\",\"challenge\",\"rarely\",\"reveal\",\"offense\",\"privilege\",\"recover\",\"butt\",\"tran\",\"bank\",\"slip\",\"survive\",\"alive\",\"snoop\",\"nose\",\"confidence\",\"breastfeed\",\"quote\",\"casual\",\"shelter\",\"ditch\",\"influence\",\"evening\",\"hungry\",\"sexual_assault\",\"co_worker\",\"reflect\",\"don't\",\"settle\",\"vulnerable\",\"pride\",\"unhappy\",\"shave\",\"reference\",\"openly\",\"america\",\"breakup\",\"summer\",\"candy\",\"routine\",\"puppy\",\"poster\",\"bang\",\"waitress\",\"publicly\",\"thousand\",\"smile\",\"suspicious\",\"firm\",\"sober\",\"traumatic\",\"pound\",\"gesture\",\"fan\",\"mix\",\"betray\",\"tolerate\",\"douche\",\"rapist\",\"constant\",\"asian\",\"considerate\",\"uber\",\"illness\",\"political\",\"label\",\"clothing\",\"mindset\",\"tool\",\"extent\",\"tall\",\"equivalent\",\"chinese\",\"pic\",\"prepared\",\"ideal\",\"design\",\"failure\",\"exchange\",\"dramatic\",\"naive\",\"dry\",\"client\",\"mod\",\"introduce\",\"unlikely\",\"reward\",\"description\",\"/s\",\"freedom\",\"solid\",\"eh\",\"wrap\",\"ice_cream\",\"landlord\",\"frequently\",\"stare\",\"masturbate\",\"rage\",\"anti\",\"swear\",\"gold\",\"prioritize\",\"vet\",\"parental\",\"civil\",\"stereotype\",\"hero\",\"legit\",\"discomfort\",\"setting\",\"infant\",\"mark\",\"y\",\"connect\",\"professor\",\"saving\",\"neighborhood\",\"chicken\",\"generous\",\"diagnose\",\"portion\",\"fee\",\"consult\",\"evil\",\"chick\",\"employer\",\"pronoun\",\"display\",\"whatsoever\",\"shallow\",\"counselor\",\"compatible\",\"skinny\",\"comparison\",\"protection\",\"hardly\",\"genetic\",\"babysitter\",\"outright\",\"john\",\"ntayou\",\"lash\",\"thin\",\"correctly\",\"criminal\",\"dig\",\"cleaning\",\"fancy\",\"model\",\"define\",\"jail\",\"solely\",\"status\",\"brand\",\"proceed\",\"perceive\",\"perform\",\"cultural\",\"adjust\",\"generation\",\"frustrating\",\"longer\",\"addict\",\"prick\",\"previously\",\"grandfather\",\"literal\",\"plane\",\"controlling\",\"ywbta\",\"dealbreaker\",\"deal_breaker\",\"typical\",\"immediate\",\"complex\",\"building\",\"absurd\",\"shove\",\"drinking\",\"shape\",\"occasionally\",\"compassion\",\"height\",\"direction\",\"workplace\",\"adhd\",\"cope\",\"morally\",\"interview\",\"french\",\"search\",\"abort\",\"upfront\",\"nanny\",\"volunteer\",\"location\",\"planning\",\"humiliate\",\"input\",\"lift\",\"embarrassing\",\"vibe\",\"background\",\"content\",\"pattern\",\"initial\",\"clue\",\"active\",\"unfortunate\",\"sexy\",\"minimum\",\"film\",\"warrant\",\"atheist\",\"ugh\",\"deliver\",\"everyday\",\"allergic\",\"self_esteem\",\"popular\",\"pleasure\",\"arsehole\",\"land\",\"goddamn\",\"ego\",\"cheese\",\"manipulation\",\"pathetic\",\"range\",\"weigh\",\"additional\",\"independent\",\"karma\",\"nonsense\",\"battle\",\"buck\",\"miscarriage\",\"pocket\",\"valuable\",\"requirement\",\"song\",\"lifetime\",\"approve\",\"brush\",\"leash\",\"round\",\"weak\",\"advise\",\"affection\",\"monster\",\"maturity\",\"kindness\",\"player\",\"hypocrite\",\"discover\",\"naturally\",\"nightmare\",\"basis\",\"conclusion\",\"confuse\",\"ntai\",\"meaning\",\"daddy\",\"stretch\",\"balance\",\"mommy\",\"bra\",\"double_standard\",\"charity\",\"inherently\",\"beer\",\"groom\",\"profile\",\"appointment\",\"center\",\"waiter\",\"accurate\",\"heal\",\"attach\",\"wild\",\"malicious\",\"diamond\",\"oppose\",\"behalf\",\"artist\",\"exception\",\"logical\",\"oral\",\"bitter\",\"stance\",\"yo\",\"encounter\",\"honey\",\"useless\",\"overly\",\"permanent\",\"uniform\",\"suicide\",\"disgust\",\"borderline\",\"glass\",\"mentality\",\"crappy\",\"sink\",\"brat\",\"chip\",\"pair\",\"uh\",\"bail\",\"defense\",\"assholish\",\"heavily\",\"addition\",\"witness\",\"feedback\",\"headphone\",\"obnoxious\",\"calmly\",\"laptop\",\"paragraph\",\"entitlement\",\"confident\",\"credit_card\",\"slap\",\"incel\",\"ignorance\",\"harmful\",\"disclose\",\"mock\",\"measure\",\"50/50\",\"justification\",\"legitimately\",\"hormonal\",\"childcare\",\"wage\",\"advocate\",\"alright\",\"route\",\"reduce\",\"invitation\",\"motivation\",\"involved\",\"narcissistic\",\"gas\",\"loose\",\"peer\",\"article\",\"daycare\",\"relatively\",\"strict\",\"traditional\",\"\\ud83d\\ude02\",\"initially\",\"war\",\"unwanted\",\"diagnosis\",\"gut\",\"jealousy\",\"housework\",\"scale\",\"fellow\",\"hypothetical\",\"joint\",\"hypocritical\",\"ear\",\"effectively\",\"x200b\",\"tax\",\"vent\",\"sandwich\",\"spare\",\"originally\",\"tight\",\"salary\",\"irrational\",\"injury\",\"complicated\",\"strike\",\"user\",\"engagement\",\"sudden\",\"agency\",\"competition\",\"favour\",\"ffs\",\"primary\",\"flag\",\"purely\",\"breed\",\"occasion\",\"uk\",\"tenant\",\"sadly\",\"fool\",\"pump\",\"trump\",\"reconsider\",\"root\",\"muslim\",\"whore\",\"warm\",\"std\",\"disappoint\",\"moron\",\"feminist\",\"proposal\",\"tree\",\"explore\",\"reasonably\",\"validate\",\"k\",\"unique\",\"paternity_test\",\"instagram\",\"inch\",\"shopping\",\"transition\",\"shake\",\"score\",\"industry\",\"smoking\",\"machine\",\"classic\",\"y'\",\"arrive\",\"remotely\",\"spectrum\",\"stomach\",\"useful\",\"borrow\",\"jack\",\"lecture\",\"bone\",\"cross_line\",\"lgbt\",\"nicely\",\"government\",\"review\",\"nut\",\"cookie\",\"verbal\",\"screen\",\"cashier\",\"gaslighte\",\"document\",\"episode\",\"a.m.\",\"copy\",\"reverse\",\"harassment\",\"dodge_bullet\",\"package\",\"ceremony\",\"site\",\"fence\",\"vaccine\",\"sneak\",\"fresh\",\"success\",\"bigot\",\"narcissist\",\"alcoholic\",\"liar\",\"vasectomy\",\"cup\",\"orgasm\",\"heck\",\"trade\",\"chair\",\"i.e.\",\"minority\",\"username\",\"min\",\"pool\",\"unwilling\",\"significantly\",\"whilst\",\"tomorrow\",\"nap\",\"code\",\"loser\",\"kink\",\"bleed\",\"repair\",\"genital\",\"scar\",\"condescending\",\"yard\",\"dependent\",\"brag\",\"hygiene\",\"resort\",\"pure\",\"recent\",\"underwear\",\"decency\",\"f\",\"disappointed\",\"whine\",\"arrest\",\"discount\",\"bil\",\"frustrate\",\"intimacy\",\"demonstrate\",\"consume\",\"committed\",\"cycle\",\"breakfast\",\"reputation\",\"spring\",\"rush\",\"length\",\"attorney\",\"theft\",\"interpret\",\"cuz\",\"achieve\",\"prize\",\"criticize\",\"stone\",\"verbally\",\"corner\",\"formal\",\"closet\",\"plain\",\"norm\",\"self_center\",\"cuddle\",\"christ\",\"unprofessional\",\"chef\",\"distract\",\"virgin\",\"string\",\"lord\",\"dunno\",\"presence\",\"frustrated\",\"dumbass\",\"sexism\",\"co\",\"wallet\",\"accomplish\",\"poop\",\"circle\",\"huge_red_flag\",\"fuckin\",\"gently\",\"ish\",\"worthy\",\"lovely\",\"tooth\",\"c\",\"development\",\"desperate\",\"slowly\",\"importantly\",\"undermine\",\"entertain\",\"exhaust\",\"stable\",\"limited\",\"grandpa\",\"insulting\",\"hi\",\"harmless\",\"science\",\"session\",\"sale\",\"joy\",\"classmate\",\"shout\",\"sugar\",\"grandkid\",\"misunderstanding\",\"knowingly\",\"license\",\"severely\",\"extend\",\"housing\",\"announce\",\"crash\",\"ungrateful\",\"unsafe\",\"blatantly\",\"congrat\",\"surround\",\"injure\",\"purposely\",\"procedure\",\"heat\",\"disturb\",\"phase\",\"population\",\"weapon\",\"press\",\"grand\",\"nerve\",\"boot\",\"i\\u2019m\",\"syndrome\",\"broken\",\"cringe\",\"homework\",\"evaluate\",\"thoughtful\",\"reception\",\"section\",\"seemingly\",\"sincerely\",\"til\",\"cater\",\"alex\",\"vaccinate\",\"arrange\",\"secure\",\"medicine\",\"privately\",\"strain\",\"implication\",\"surrogate\",\"pity\",\"ed\",\"recipe\",\"sentiment\",\"spell\",\"ntayour\",\"trashy\",\"panic\",\"magically\",\"24/7\",\"reminder\",\"catholic\",\"counter\",\"escape\",\"organ\",\"progress\",\"bizarre\",\"shocked\",\"berate\",\"rejection\",\"instinct\",\"pot\",\"wording\",\"exam\",\"password\",\"dismissive\",\"ownership\",\"belittle\",\"tag\",\"yesterday\",\"beach\",\"nail\",\"celebration\",\"oil\",\"terrify\",\"planet\",\"goodbye\",\"concert\",\"crack\",\"excellent\",\"audience\",\"vehicle\",\"mid\",\"babysit\",\"shared\",\"complication\",\"cis\",\"camera\",\"psychological\",\"ptsd\",\"principle\",\"compete\",\"bug\",\"secretly\",\"confrontation\",\"sperm\",\"uncommon\",\"wig\",\"writing\",\"south\",\"alter\",\"obsess\",\"math\",\"colleague\",\"plant\",\"productive\",\"toss\",\"reinforce\",\"supply\",\"flower\",\"yike\",\"shady\",\"department\",\"americans\",\"produce\",\"wet\",\"best\",\"band\",\"homophobia\",\"withhold\",\"tactic\",\"ethic\",\"delusional\",\"awhile\",\"incapable\",\"minimum_wage\",\"menu\",\"anytime\",\"socially\",\"stripper\",\"fiancee\",\"realistic\",\"thanks\",\"rob\",\"guilt_trip\",\"default\",\"i'd\",\"qualified\",\"familiar\",\"blanket\",\"vibrator\",\"related\",\"expert\",\"obese\",\"formula\",\"criticism\",\"congratulation\",\"neighbour\",\"camp\",\"medical_condition\",\"rat\",\"excessive\",\"permanently\",\"rant\",\"theory\",\"benefit_doubt\",\"grain\",\"def\",\"politic\",\"lock_door\",\"existence\",\"investment\",\"cent\",\"assure\",\"extended\",\"conservative\",\"stem\",\"combine\",\"retirement\",\"slave\",\"airline\",\"puberty\",\"convenient\",\"unusual\",\"prison\",\"roof\",\"maid\",\"lane\",\"tact\",\"crowd\",\"kidney\",\"nervous\",\"fyi\",\"bike\",\"traumatize\",\"empathize\",\"fridge\",\"happily\",\"instantly\",\"patience\",\"indian\",\"hat\",\"error\",\"psycho\",\"superior\",\"lonely\",\"boil\",\"bud\",\"market\",\"randomly\",\"edge\",\"button\",\"intense\",\"trait\",\"betrayal\",\"assignment\",\"left\",\"stepdaughter\",\"respectfully\",\"slut\",\"indication\",\"silence\",\"tantrum\",\"wipe\",\"annoyed\",\"loving\",\"hostile\",\"rightfully\",\"pile\",\"accusation\",\"wind\",\"practically\",\"profit\",\"resentful\",\"scam\",\"insert\",\"violation\",\"bonus\",\"sight\",\"slide\",\"mainly\",\"horribly\",\"recovery\",\"starve\",\"blunt\",\"oblivious\",\"praise\",\"messy\",\"invalidate\",\"anniversary\",\"scout\",\"award\",\"sexually_assault\",\"traffic\",\"difficulty\",\"represent\",\"objectively\",\"possession\",\"tonight\",\"y\\u2019\",\"gentle\",\"loudly\",\"mild\",\"pitch\",\"interrupt\",\"haircut\",\"specify\",\"stepmom\",\"sheet\",\"coach\",\"overnight\",\"anxious\",\"release\",\"etiquette\",\"collect\",\"fianc\\u00e9e\",\"disagreement\",\"secondly\",\"nazi\",\"pos\",\"percent\",\"courtesy\",\"slur\",\"bait\",\"overcome\",\"wreck\",\"meaningful\",\"dozen\",\"discrimination\",\"willingly\",\"sole\",\"supposedly\",\"fetish\",\"nuclear\",\"scratch\",\"drain\",\"friday\",\"consistently\",\"sauce\",\"bowl\",\"disney\",\"master\",\"overreaction\",\"stink\",\"reserve\",\"thick\",\"click\",\"m\",\"bullying\",\"gtfo\",\"sum\",\"ingredient\",\"equate\",\"jewish\",\"prom\",\"fil\",\"sabotage\",\"tit\",\"dense\",\"casually\",\"bind\",\"unit\",\"ntaif\",\"qualify\",\"storm\",\"insight\",\"aka\",\"paranoid\",\"quietly\",\"soft\",\"judgmental\",\"movement\",\"incredible\",\"importance\",\"signal\",\"biased\",\"chocolate\",\"speed\",\"neutral\",\"denial\",\"clueless\",\"stalk\",\"strip_club\",\"assign\",\"analogy\",\"pedophile\",\"usual\",\"purposefully\",\"vomit\",\"minimize\",\"baggage\",\"donation\",\"performance\",\"sunday\",\"medium\",\"horse\",\"\\u00a3\",\"justice\",\"contribution\",\"delay\",\"huh\",\"chain\",\"insanely\",\"anal\",\"calorie\",\"bright\",\"impose\",\"forth\",\"website\",\"confusing\",\"teaching\",\"furthermore\",\"row\",\"massively\",\"caretaker\",\"childbirth\",\"disappointment\",\"urge\",\"fantastic\",\"torture\",\"conscious\",\"sis\",\"r_amitheasshole\",\"remark\",\"3rd\",\"assistance\",\"additionally\",\"saint\",\"20\",\"restrict\",\"tease\",\"misunderstand\",\"eta\",\"dna\",\"slack\",\"organization\",\"chunk\",\"unrelated\",\"t\",\"thankfully\",\"ytai\",\"assholery\",\"grasp\",\"lend\",\"means\",\"firmly\",\"speaker\",\"ease\",\"partnership\",\"tuition\",\"initiate\",\"w\",\"utterly\",\"self_conscious\",\"adulthood\",\"pasta\",\"monogamous\",\"dishonest\",\"rise\",\"percentage\",\"grocery_store\",\"inheritance\",\"pussy\",\"strength\",\"throw_tantrum\",\"asset\",\"suspicion\",\"unattractive\",\"interfere\",\"terribly\",\"chest\",\"alarm\",\"chase\",\"unaware\",\"throat\",\"brown\",\"douchebag\",\"flaw\",\"angle\",\"/u\",\"soul\",\"safely\",\"pray\",\"lasagna\",\"bird\",\"guide\",\"critical\",\"endanger\",\"twist\",\"predator\",\"ntait\",\"incorrect\",\"unlike\",\"library\",\"transfer\",\"wide\",\"semester\",\"repercussion\",\"freeze\",\"capacity\",\"seven\",\"vacuum\",\"exhausting\",\"underage\",\"principal\",\"burger\",\"register\",\"sketchy\",\"poison\",\"temporary\",\"blast\",\"spending\",\"taxis\",\"practical\",\"feature\",\"obligated\",\"worse\",\"sahm\",\"rescue\",\"academic\",\"scholarship\",\"device\",\"mail\",\"asleep\",\"utility\",\"vary\",\"upsetting\",\"distress\",\"precious\",\"contest\",\"ppl\",\"thief\",\"clock\",\"picky\",\"official\",\"apple\",\"autonomy\",\"strategy\",\"ntashe\",\"biologically\",\"translate\",\"spoiled\",\"spill\",\"humor\",\"alienate\",\"promote\",\"knife\",\"spanish\",\"suffering\",\"flu\",\"outfit\",\"wave\",\"p.m.\",\"perception\",\"estate\",\"stepdad\",\"desk\",\"em\",\"fulfil\",\"carefully\",\"damaging\",\"broke\",\"breathe\",\"lover\",\"disappear\",\"luckily\",\"tf\",\"reading\",\"ethical\",\"boring\",\"europe\",\"masturbation\",\"forum\",\"chew\",\"theater\",\"incompatible\",\"leftover\",\"massage\",\"freaking\",\"succeed\",\"fetus\",\"heritage\",\"variety\",\"knee\",\"partially\",\"dating\",\"vegetable\",\"fry\",\"vague\",\"passion\",\"unpleasant\",\"embarrassment\",\"hateful\",\"canada\",\"accommodation\",\"you\\u2019re\",\"desperately\",\"border\",\"tire\",\"reciprocate\",\"2nd\",\"timing\",\"explicit\",\"intervention\",\"gap\",\"mixed\",\"relation\",\"ur\",\"soap\",\"star\",\"bump\",\"steak\",\"lack_empathy\",\"wildly\",\"replacement\",\"cum\",\"fruit\",\"viewpoint\",\"elaborate\",\"dear\",\"appropriately\",\"forbid\",\"alert\",\"passenger\",\"bloody\",\"infection\",\"smash\",\"acne\",\"nickname\",\"amend\",\"penny\",\"isolate\",\"bean\",\"belly\",\"fart\",\"verdict\",\"fuss\",\"furious\",\"um\",\"sexual_harassment\",\"tampon\",\"venue\",\"ally\",\"admission\",\"fashion\",\"curiosity\",\"thankful\",\"ridiculously\",\"breath\",\"blatant\",\"bust\",\"sexualize\",\"truck\",\"monitor\",\"modern\",\"exit\",\"impulse\",\"unnecessarily\",\"hill\",\"sitter\",\"straw\",\"valentine\",\"grieving\",\"tank\",\"childfree\",\"exclusive\",\"ice\",\"green\",\"alot\",\"enjoyment\",\"furniture\",\"elderly\",\"solo\",\"dorm\",\"cast\",\"nuts\",\"tendency\",\"gathering\",\"sin\",\"mortgage\",\"senior\",\"navigate\",\"silver\",\"misogynistic\",\"fall_asleep\",\"equipment\",\"approval\",\"guitar\",\"ie\",\"experiment\",\"grace\",\"pointless\",\"thousand_dollar\",\"mildly\",\"wine\",\"learning\",\"gossip\",\"lower\",\"sympathetic\",\"sane\",\"core\",\"sing\",\"divide\",\"candidate\",\"silent\",\"rethink\",\"deposit\",\"graduation\",\"golden\",\"restroom\",\"hypocrisy\",\"worthless\",\"textbook\",\"bare_minimum\",\"scroll\",\"liberal\",\"infuriate\",\"unexpected\",\"sock\",\"audacity\",\"blackmail\",\"vindictive\",\"deceased\",\"lame\",\"campus\",\"spin\",\"unprotected_sex\",\"operate\",\"gene\",\"sweat\",\"bread\",\"profession\",\"overwhelming\",\"<\",\"narrative\",\"highly_doubt\",\"asexual\",\"pronounce\",\"temper\",\"luxury\",\"retaliate\",\"sociopath\",\"retail\",\"shy\",\"belonging\",\"lying\",\"deem\",\"consensual\",\"e.g.\",\"spoiler\",\"employment\",\"necessity\",\"motive\",\"australia\",\"cigarette\",\"neck\",\"maintenance\",\"fraud\",\"bomb\",\"smack\",\"reek\",\"bullet\",\"understandably\",\"intelligence\",\"protective\",\"spit\",\"pissy\",\"liability\",\"pushy\",\"wellbeing\",\"kindly\",\"stain\",\"trivial\",\"grammar\",\"bible\",\"universe\",\"notion\",\"native\",\"timeline\",\"exhausted\",\"redditor\",\"apparent\",\"transgender\",\"print\",\"problematic\",\"dna_test\",\"acceptance\",\"pm\",\"hubby\",\"comparable\",\"satisfy\",\"invasive\",\"series\",\"bath\",\"gold_digger\",\"snapchat\",\"baffle\",\"suicidal\",\"fragile\",\"empathetic\",\"opt\",\"attachment\",\"swap\",\"hatred\",\"smoker\",\"bigotry\",\"restriction\",\"exclusively\",\"whim\",\"iud\",\"merely\",\"similarly\",\"vast_majority\",\"queer\",\"greedy\",\"e\",\"unsolicited\",\"n_word\",\"instruction\",\"occasional\",\"prejudice\",\"german\",\"subtle\",\"labour\",\"parenthood\",\"outburst\",\"upbringing\",\"negatively\",\"donor\",\"muscle\",\"youtube\",\"bikini\",\"stake\",\"risky\",\"salad\",\"contain\",\"inability\",\"weather\",\"yta.you\",\"acquaintance\",\"terminate\",\"evict\",\"caregiver\",\"monday\",\"devastate\",\"dodge\",\"strip\",\"strictly\",\"stubborn\",\"n\",\"extension\",\"veggie\",\"pleasant\",\"destructive\",\"conceive\",\"airport\",\"student_loan\",\"jane\",\"horror\",\"feminism\",\"deceive\",\"remorse\",\"compensate\",\"carrot\",\"cow\",\"consistent\",\"presume\",\"lately\",\"endure\",\"convo\",\"bury\",\"absolve\",\"reevaluate\",\"id\",\"hahaha\",\"fertility\",\"intentional\",\"italian\",\"testing\",\"boat\",\"a.\",\"poll\",\"inclined\",\"salt\",\"god_forbid\",\"jean\",\"highschool\",\"growth\",\"beef\",\"platonic\",\"paycheck\",\"phobia\",\"socialize\",\"healthcare\",\"frequent\",\"tipping\",\"grip\",\"transaction\",\"feminine\",\"tricky\",\"visitation\",\"handicap\",\"forgiveness\",\"bridezilla\",\"discriminate\",\"spider\",\"pat\",\"livid\",\"psychologist\",\"doll\",\"deadbeat\",\"driving\",\"mirror\",\"pin\",\"confide\",\"ship\",\"sympathize\",\"guilte\",\"wheelchair\",\"mandatory\",\"awake\",\"youth\",\"anime\",\"structure\",\"coerce\",\"counsel\",\"reassure\",\"category\",\"zone\",\"aid\",\"judgemental\",\"blowjob\",\"pour\",\"jewelry\",\"pork\",\"saturday\",\"controversial\",\"gear\",\"breastfeeding\",\"hassle\",\"tea\",\"pose\",\"arrogant\",\"closure\",\"organize\",\"bank_account\",\"biology\",\"stock\",\"homophobe\",\"mentally_ill\",\"engineer\",\"shell\",\"prayer\",\"condescend\",\"lap\",\"overwhelmed\",\"gather\",\"prop\",\"netflix\",\"playing\",\"western\",\"pan\",\"nipple\",\"dickhead\",\"cave\",\"flow\",\"imho\",\"resume\",\"surprising\",\"roast\",\"crisis\",\"accordingly\",\"coward\",\"awareness\",\"working\",\"delicious\",\"aim\",\"someday\",\"mode\",\"customer_service\",\"mexican\",\"wound\",\"karen\",\"misread\",\"semi\",\"overlook\",\"aisle\",\"convenience\",\"versus\",\"statistic\",\"bot\",\"frank\",\"realistically\",\"wiki\",\"rice\",\"rank\",\"independence\",\"tacky\",\"fb\",\"common_courtesy\",\"hunt\",\"toll\",\"distant\",\"tech\",\"junk\",\"bride_groom\",\"cramp\",\"receipt\",\"sarah\",\"yikes\",\"mug\",\"examine\",\"callous\",\"hearing\",\"relief\",\"picky_eater\",\"unrealistic\",\"babysitte\",\"exaggerate\",\"objective\",\"essential\",\"junk_food\",\"wealthy\",\"national\",\"functional\",\"convey\",\"complicate\",\"withdraw\",\"loyalty\",\"ytaif\",\"poly\",\"lab\",\"stall\",\"wheel\",\"selfishness\",\"passive\",\"disruptive\",\"saying\",\"i've\",\"disrupt\",\"opening\",\"surface\",\"cheer\",\"self_awareness\",\"satisfied\",\"clarification\",\"dime\",\"shrug\",\"dose\",\"30\",\"recline\",\"\\ud83d\\ude44\",\"refund\",\"pause\",\"equality\",\"broad\",\"discourage\",\"jeez\",\"anonymous\",\"tension\",\"separately\",\"toe\",\"bored\",\"virginity\",\"negotiate\",\"crying\",\"network\",\"declare\",\"army\",\"nta.i\",\"grope\",\"halfway\",\"stepmother\",\"mourn\",\"fathom\",\"quarter\",\"blessing\",\"symbol\",\"pillow\",\"visible\",\"sti\",\"unstable\",\"jackass\",\"numerous\",\"creative\",\"albeit\",\"poke\",\"facility\",\"weekly\",\"murderer\",\"offender\",\"element\",\"pig\",\"substance\",\"high_horse\",\"magic\",\"shocking\",\"creature\",\"counselling\",\"appreciation\",\"nowadays\",\"stupid_prize\",\"ntahe\",\"tactful\",\"ytait\",\"hello\",\"datum\",\"abnormal\",\"sir\",\"irish\",\"focused\",\"admittedly\",\"tow\",\"annoyance\",\"ps\",\"vow\",\"raw\",\"exposure\",\"confess\",\"nursing\",\"verify\",\"curb\",\"lawsuit\",\"snow\",\"dil\",\"colour\",\"cough\",\"permit\",\"refusal\",\"bat\",\"nah-\",\"stigma\",\"monthly\",\"abide\",\"yr_old\",\"assert\",\"favourite\",\"sized\",\"expand\",\"intelligent\",\"channel\",\"lightly\",\"downplay\",\"disturbing\",\"upper\",\"winner\",\"mask\",\"erase\",\"horny\",\"sufficient\",\"highlight\",\"ought\",\"doormat\",\"nta.you\",\"combination\",\"questionable\",\"gain_weight\",\"uni\",\"revenge_porn\",\"football\",\"exhibit\",\"assessment\",\"bark\",\"inevitably\",\"racial\",\"stitch\",\"passionate\",\"collection\",\"g\",\"easter\",\"transgend\",\"mislead\",\"deed\",\"inconvenient\",\"j\",\"infidelity\",\"ad\",\"athlete\",\"hmm\",\"prostitute\",\"sleepover\",\"beard\",\"send_nude\",\"courage\",\"deprive\",\"brutal\",\"motivate\",\"headache\",\"don\\u2019t\",\"reflection\",\"sexual_orientation\",\"downright\",\"fed\",\"unpopular_opinion\",\"allowance\",\"twat\",\"romantically\",\"handful\",\"differ\",\"role_reverse\",\"irritate\",\"disaster\",\"japanese\",\"honeymoon\",\"irl\",\"aggression\",\"entertainment\",\"usa\",\"er\",\"guardian\",\"constructive\",\"paperwork\",\"vs.\",\"pov\",\"accomplishment\",\"retire\",\"impress\",\"tempt\",\"comply\",\"t_shirt\",\"meme\",\"dress_code\",\"liable\",\"stir\",\"conduct\",\"outsider\",\"spelling\",\"vice_versa\",\"dairy\",\"wifi\",\"slice\",\"1st\",\"binge\",\"citizen\",\"kitten\",\"r_legaladvice\",\"oblige\",\"coke\",\"equip\",\"amazon\",\"journey\",\"o\",\"degrade\",\"hardship\",\"supervision\",\"misogyny\",\"foreign\",\"rain\",\"atm\",\"nearby\",\"bubble\",\"theme\",\"rabbit\",\"stuck\",\"hugely\",\"precaution\",\"reservation\",\"camping\",\"fundamental\",\"fundamentally\",\"phrasing\",\"foundation\",\"uncalled\",\"actor\",\"nuance\",\"adapt\",\"edgy\",\"mistreat\",\"prime\",\"explode\",\"guard\",\"leap\",\"competitive\",\"deaf\",\"immaturity\",\"toothbrush\",\"notify\",\"pad\",\"poverty\",\"roll_eye\",\"fuel\",\"bum\",\"instant\",\"sanity\",\"escort\",\"nag\",\"festival\",\"tune\",\"humanity\",\"plain_simple\",\"painting\",\"emphasize\",\"retaliation\",\"confusion\",\"touching\",\"swing\",\"oof\",\"furry\",\"ethnicity\",\"utter\",\"princess\",\"application\",\"bonding\",\"puke\",\"potato\",\"alimony\",\"interpretation\",\"leverage\",\"chuck\",\"expression\",\"steve\",\"role_model\",\"fucked\",\"amy\",\"bodily_autonomy\",\"humiliating\",\"salty\",\"shed\",\"snitch\",\"custom\",\"trend\",\"distinction\",\"infertile\",\"flight_attendant\",\"carrier\",\"workout\",\"swim\",\"marital\",\"separation\",\"pawn\",\"drill\",\"embrace\",\"ideally\",\"threesome\",\"grind\",\"hookup\",\"condone\",\"stressed\",\"commit_crime\",\"lifelong\",\"dispute\",\"heterosexual\",\"leak\",\"classroom\",\"dietary\",\"sarcastic\",\"kudo\",\"cure\",\"arse\",\"subjective\",\"eshyou\",\"volume\",\"negate\",\"spirit\",\"heartless\",\"presentation\",\"molest\",\"eachother\",\"informed\",\"behavioral\",\"\\\"i\",\"tongue\",\"thrill\",\"ha\",\"rental\",\"compensation\",\"dick_pic\",\"afternoon\",\"jfc\",\"making\",\"stab\",\"jeff\",\"overstep\",\"malice\",\"panic_attack\",\"unsure\",\"deadline\",\"lb\",\"supervisor\",\"shaming\",\"enemy\",\"talent\",\"dm\",\"comprehend\",\"bless\",\"pressured\",\"gate\",\"germany\",\"international\",\"abused\",\"stability\",\"miscommunication\",\"technique\",\"pester\",\"eating\",\"appease\",\"proportion\",\"morality\",\"sexually_active\",\"farm\",\"employ\",\"scumbag\",\"bake\",\"climb\",\"taxi\",\"clinic\",\"weirdo\",\"immigrant\",\"secretary\",\"leader\",\"sensible\",\"essay\",\"hitler\",\"season\",\"slim\",\"hold_grudge\",\"greatly\",\"despise\",\"crawl\",\"moh\",\"prospect\",\"swallow\",\"salvage\",\"backwards\",\"assist\",\"pub\",\"promotion\",\"largely\",\"depth\",\"arbitrary\",\"recognise\",\"relieve\",\"caring\",\"blank\",\"indicator\",\"powerful\",\"anna\",\"joe\",\"outta\",\"stomp\",\"enjoyable\",\"preserve\",\"everytime\",\"tl;dr\",\"bye\",\"intervene\",\"supervise\",\"spiteful\",\"fluid\",\"irritated\",\"ongoing\",\"rating\",\"vile\",\"fwiw\",\"uterus\",\"2.5\",\"breakdown\",\"prenup\",\"telling\",\"log\",\"mortify\",\"christians\",\"spoon\",\"worst\",\"beneficial\",\"beauty\",\"forgot\",\"curse\",\"appeal\",\"grave\",\"troop\",\"backfire\",\"arise\",\"underestimate\",\"singe\",\"meh\",\"whiny\",\"soda\",\"altogether\",\"nahi\",\"mcdonald\",\"minimal\",\"protein\",\"reread\",\"station\",\"unilaterally\",\"roughly\",\"ntathis\",\"rationally\",\"insufferable\",\"wing\",\"perpetuate\",\"partly\",\"jump_conclusion\",\"fold\",\"dirt\",\"sincere\",\"smoke_weed\",\"seizure\",\"snake\",\"prerogative\",\"internal\",\"micropenis\",\"shelf\",\"bounce\",\"satisfaction\",\"l\",\"tab\",\"flash\",\"intimidate\",\"officer\",\"monkey\",\"fwb\",\"cock\",\"pit\",\"reimburse\",\"bend\",\"helpless\",\"gaming\",\"photographer\",\"bridge\",\"abandonment\",\"possessive\",\"olive_garden\",\"devastating\",\"coddle\",\"tap\",\"prep\",\"bitchy\",\"substitute\",\"chemical\",\"merit\",\"unknown\",\"observe\",\"r_justnomil\",\"irony\",\"insinuate\",\"inappropriately\",\"coin\",\"cautious\",\"se\",\"association\",\"indoor\",\"whip\",\"asperger\",\"universal\",\"mobile\",\"delicate\",\"accidental\",\"dedicate\",\"king\",\"overboard\",\"cell\",\"lbs\",\"ytashe\",\"psychology\",\"consensus\",\"justifiable\",\"mouth_shut\",\"towel\",\"alternate\",\"bartender\",\"plastic\",\"thanksgiving\",\"babe\",\"walmart\",\"smooth\",\"sperm_donor\",\"burst\",\"gang\",\"survivor\",\"can't\",\"mama\",\"flush\",\"walk_aisle\",\"convert\",\"ytayour\",\"peanut\",\"mary\",\"dignity\",\"stalker\",\"superficial\",\"popcorn\",\"conscience\",\"islam\",\"misery\",\"invade_privacy\",\"slam\",\"thirty\",\"honour\",\"estimate\",\"california\",\"align\",\"kitty\",\"breaking\",\"bigote\",\"bin\",\"simultaneously\",\"eviction\",\"b.\",\"minded\",\"revolve\",\"console\",\"spray\",\"horrific\",\"confrontational\",\"litter\",\"sickness\",\"underlying\",\"dancing\",\"rationalize\",\"chemo\",\"cruelty\",\"mass\",\"plot\",\"assistant\",\"repay\",\"square\",\"bastard\",\"loyal\",\"snarky\",\"bow\",\"disown\",\"cheek\",\"reliable\",\"idiotic\",\"hella\",\"reiterate\",\"soup\",\"closed\",\"heirloom\",\"paternity\",\"masculine\",\"guideline\",\"fulfill\",\"precedent\",\"slap_face\",\"hop\",\"screenshot\",\"wash_dish\",\"devil_advocate\",\"upgrade\",\"cos\",\"kids\",\"european\",\"professionally\",\"internalize\",\"seek_validation\",\"primarily\",\"filter\",\"investigate\",\"inevitable\",\"lap_dance\",\"schooling\",\"nahyou\",\"bruh\",\"invade\",\"unethical\",\"self_absorb\",\"hs\",\"veganism\",\"fallout\",\"garage\",\"submit\",\"shatter\",\"guidance\",\"reschedule\",\"societal\",\"identical\",\"backup\",\"engagement_ring\",\"smh\",\"stupidity\",\"provoke\",\"unbelievably\",\"craving\",\"regular_basis\",\"absence\",\"adore\",\"lick\",\"hill_die\",\"precisely\",\"outing\",\"lmfao\",\"misogynist\",\"fairness\",\"agenda\",\"hold_accountable\",\"nutrition\",\"special_treatment\",\"countless\",\"convinced\",\"genius\",\"toilet_paper\",\"absent\",\"jews\",\"sentimental\",\"china\",\"aunt_uncle\",\"prey\",\"upvoted\",\"compassionate\",\"butthurt\",\"eld\",\"usage\",\"necklace\",\"entry\",\"corporate\",\"league\",\"british\",\"maiden\",\"tolerance\",\"clap\",\"layer\",\"bare\",\"gaslighting\",\"predatory\",\"y'all\",\"iron\",\"barrier\",\"ew\",\"pen\",\"wood\",\"un\",\"preach\",\"mike\",\"de\",\"meaningless\",\"ocd\",\"dildo\",\"max\",\"exploit\",\"needlessly\",\"bpd\",\"attendance\",\"weirdly\",\"gender_identity\",\"metal\",\"hike\",\"belt\",\"gag\",\"scan\",\"x200b;i\",\"medically\",\"communal\",\"trial\",\"conveniently\",\"ppd\",\"sooo\",\"dessert\",\"mountain\",\"herpe\",\"likelihood\",\"laziness\",\"occupy\",\"canadian\",\"mutually\",\"aggressively\",\"disingenuous\",\"drastic\",\"tragedy\",\"inherit\",\"fall_apart\",\"convict\",\"amazed\",\"jacket\",\"entail\",\"parade\",\"welfare\",\"lingerie\",\"veteran\",\"meltdown\",\"deception\",\"agent\",\"establishment\",\"angel\",\"fighting\",\"cue\",\"billion\",\"protest\",\"villain\",\"provider\",\"designate\",\"abroad\",\"dr\",\"lip\",\"libido\",\"xbox\",\"sore\",\"india\",\"pcos\",\"wealth\",\"ultimate\",\"acronym\",\"cage\",\"reprimand\",\"overbearing\",\"hall\",\"ntabut\",\"drown\",\"japan\",\"confirmation\",\"automatic\",\"sushi\",\"tissue\",\"constitute\",\"eg\",\"union\",\"stat\",\"attribute\",\"command\",\"pie\",\"bj\",\"sharing\",\"limb\",\"incentive\",\"overtime\",\"katie\",\"niece_nephew\",\"kiddo\",\"inflict\",\"basement\",\"booze\",\"unemployed\",\"junior\",\"fucker\",\"jar\",\"depress\",\"adamant\",\"perfume\",\"brave\",\"taboo\",\"special_occasion\",\"sack\",\"caution\",\"contraception\",\"thoroughly\",\"measle\",\"firstly\",\"sun\",\"pretentious\",\"groomsman\",\"scold\",\"starbucks\",\"midnight\",\"geez\",\"vocal\",\"majorly\",\"obesity\",\"ntathe\",\"privileged\",\"nazis\",\"rando\",\"age_gap\",\"psychopath\",\"immoral\",\"yta.i\",\"standpoint\",\"introvert\",\"recipient\",\"adequate\",\"involvement\",\"onion\",\"breach\",\"heartbroken\",\"homosexuality\",\"hip\",\"sided\",\"predict\",\"recommendation\",\"censor\",\"disgusted\",\"hesitate\",\"throwaway\",\"pc\",\"old_fashioned\",\"inspire\",\"standing\",\"hindsight\",\"costume\",\"theatre\",\"texture\",\"thoughtless\",\"assess\",\"sheer\",\"diminish\",\"typo\",\"lucy\",\"wander\",\"crave\",\"flavor\",\"la\",\"definite\",\"lgbt_community\",\"bacon\",\"stroller\",\"viable\",\"household_chore\",\"self_defense\",\"visitor\",\"squeeze\",\"sadness\",\"duck\",\"fourth\",\"xyz\",\"inferior\",\"electronic\",\"sorta\",\"continually\",\"bearing\",\"silent_treatment\",\"loop\",\"reconcile\",\"bucket\",\"chemistry\",\"wary\",\"gigantic\",\"obsession\",\"misinterpret\",\"reproductive\",\"tumblr\",\"demean\",\"century\",\"stunt\",\"fitness\",\"faithful\",\"i.\",\"scent\",\"museum\",\"conform\",\"feeding\",\"logically\",\"outrageous\",\"skirt\",\"doom\",\"assholeish\",\"soooo\",\"engineering\",\"temporarily\",\"pedo\",\"underlie\",\"mitigate\",\"improvement\",\"c_section\",\"swipe\",\"winter\",\"commute\",\"president\",\"presumptuous\",\"scientific\",\"maliciously\",\"magical\",\"officially\",\"halloween\",\"willingness\",\"scum\",\"studio\",\"dip\",\"cell_phone\",\"hesitant\",\"freely\",\"lost\",\"bladder\",\"stair\",\"clarity\",\"shortly\",\"integrity\",\"christianity\",\"bore\",\"achievement\",\"ironic\",\"spark\",\"evolve\",\"sidewalk\",\"surname\",\"cite\",\"drastically\",\"criterion\",\"leech\",\"intercourse\",\"gaslight\",\"trainer\",\"housemate\",\"adorable\",\"freshman\",\"seating\",\"instructor\",\"flair\",\"terrified\",\"anticipate\",\"accent\",\"fishy\",\"accessible\",\"upstairs\",\"gentleman\",\"announcement\",\"crucial\",\"running\",\"psych\",\"negativity\",\"glove\",\"sleeping\",\"undo\",\"disposable\",\"bday\",\"lgbtq\",\"depression_anxiety\",\"sticker\",\"exciting\",\"stepson\",\"experienced\",\"glance\",\"lump\",\"meantime\",\"basket\",\"1/2\",\"enormous\",\"gratitude\",\"unbelievable\",\"unintentionally\",\"pace\",\"flexible\",\"bridal_party\",\"backpack\",\"medical_procedure\",\"tragic\",\"select\",\"bmi\",\"gloss\",\"driveway\",\"gpa\",\"flawed\",\"cringey\",\"favoritism\",\"rehome\",\"generosity\",\"vastly\",\"detrimental\",\"brilliant\",\"secondary\",\"germ\",\"recall\",\"resident\",\"medal\",\"major_red_flag\",\"indulge\",\"closely\",\"equation\",\"asshat\",\"director\",\"bdsm\",\"statistically\",\"lie_omission\",\"portray\",\"reckless\",\"distraction\",\"worship\",\"doc\",\"holy_crap\",\"sensitivity\",\"tape\",\"queen\",\"cap\",\"press_charge\",\"clever\",\"doesn't\",\"shape_form\",\"culturally\",\"premise\",\"romance\",\"nonetheless\",\"poc\",\"chris\",\"weirde\",\"offence\",\"trophy\",\"mooch\",\"elementary_school\",\"occurrence\",\"rack\",\"santa\",\"cloud\",\"bash\",\"admire\",\"lung\",\"woah\",\"heroin\",\"flirty\",\"patron\",\"emphasis\",\"outlet\",\"tick\",\"garden\",\"script\",\"rumor\",\"cab\",\"overseas\",\"stroke\",\"blonde\",\"whoa\",\"whomever\",\"edit_spelling\",\"contrary\",\"rebuild\",\"strap\",\"arguably\",\"pink\",\"rightly\",\"highway\",\"dont\",\"maternal\",\"outrage\",\"beggar\",\"giggle\",\"prescription\",\"transphobia\",\"social_cue\",\"par\",\"slavery\",\"disneyland\",\"deliberate\",\"moan\",\"humiliation\",\"commonly\",\"abby\",\"production\",\"induce\",\"drug_addict\",\"generic\",\"shine\",\"lil\",\"heel\",\"killer\",\"babysitting\",\"suitable\",\"doubly\",\"coat\",\"r_raisedbynarcissist\",\"soccer\",\"heat_moment\",\"mere\",\"obtuse\",\"distrust\",\"continuously\",\"limitation\",\"hostage\",\"sample\",\"beneath\",\"grocery_shopping\",\"tour\",\"con\",\"hpv\",\"campaign\",\"shameful\",\"vegas\",\"undergrad\",\"derogatory\",\"crotch\",\"thank_silver\",\"needy\",\"excite\",\"dysfunctional\",\"federal\",\"rift\",\"technology\",\"humble\",\"trustworthy\",\"vital\",\"ntathat\",\"scrub\",\"stamp\",\"budge\",\"ytayou're\",\"bull\",\"butter\",\"mattress\",\"hammer\",\"supplement\",\"impressed\",\"rope\",\"careless\",\"march\",\"enabler\",\"shade\",\"peer_pressure\",\"restrain_order\",\"platform\",\"condemn\",\"sofa\",\"battery\",\"splitting\",\"ideology\",\"talking\",\"prompt\",\"strand\",\"fam\",\"grumpy\",\"100k\",\"indicative\",\"blog\",\"\\ud83d\\udc4f\",\"moderate\",\"jim\",\"optional\",\"steam\",\"apologetic\",\"spine\",\"yoga\",\"accurately\",\"intern\",\"high_schooler\",\"comedy\",\"incompatibility\",\"persist\",\"realtor\",\"unconscious\",\"turkey\",\"gamble\",\"duh\",\"craft\",\"honk\",\"flake\",\"boo\",\"dementia\",\"molester\",\"vaccination\",\"playful\",\"obsessive\",\"slut_shaming\",\"backyard\",\"self_righteous\",\"joint_account\",\"threatening\",\"unpaid\",\"consciously\",\"widow\",\"lube\",\"maternity\",\"goodness\",\"unborn\",\"semantic\",\"transportation\",\"dickish\",\"virtue\",\"region\",\"familial\",\"anonymously\",\"refrain\",\"engaged\",\"evenly\",\"bff\",\"applaud\",\"homosexual\",\"psychologically\",\"firearm\",\"contradict\",\"stepfather\",\"legacy\",\"surgeon\",\"handicapped\",\"fling\",\"shun\",\"gal\",\"sour\",\"stoop_level\",\"incest\",\"juice\",\"functioning\",\"retain\",\"didn't\",\"shampoo\",\"gamer\",\"developmental\",\"fork\",\"breadwinner\",\"successfully\",\"format\",\"athletic\",\"misguided\",\"objection\",\"trail\",\"h\",\"economic\",\"curve\",\"diabetic\",\"dialogue\",\"spiral\",\"onus\",\"florida\",\"reassurance\",\"specialist\",\"famous\",\"passport\",\"cartoon\",\"sarcasm\",\"nta.it\",\"pettiness\",\"pal\",\"cart\",\"trimester\",\"lasting\",\"douchey\",\"dishwasher\",\"hispanic\",\"pick_slack\",\"dust\",\"chop\",\"dave\",\"obtain\",\"ofc\",\"auto\",\"sneaky\",\"trim\",\"diabetes\",\"appalling\",\"cuss\",\"offended\",\"outweigh\",\"ivf\",\"pushover\",\"resist\",\"straightforward\",\"mindful\",\"uninvite\",\"self_reflection\",\"african\",\"housekeeper\",\"traditionally\",\"historically\",\"dye\",\"legality\",\"downstairs\",\"ethnic\",\"stray\",\"excitement\",\"gatekeepe\",\"origin\",\"tail\",\"invalid\",\"tad\",\"sweep\",\"stereotypical\",\"scheme\",\"vision\",\"braid\",\"despicable\",\"ytathis\",\"historical\",\"chubby\",\"learning_experience\",\"1.5\",\"narcissism\",\"truthful\",\"boost\",\"b_c\",\"couple_counsel\",\"yelling\",\"misrepresent\",\"iphone\",\"dietary_restriction\",\"social_norm\",\"y\\u2019all\",\"comfortably\",\"hamster\",\"postpartum\",\"inherent\",\"advertise\",\"implant\",\"survival\",\"paul\",\"calculate\",\"v\",\"drunken\",\"gender_neutral\",\"penetration\",\"smelly\",\"combat\",\"bob\",\"fade\",\"bruise\",\"nyc\",\"mini\",\"domestic\",\"anti_vaxxer\",\"analysis\",\"convention\",\"specially\",\"ambition\",\"ridicule\",\"steven\",\"whatnot\",\"deadly\",\"characteristic\",\"chime\",\"generalize\",\"healing\",\"philosophy\",\"correction\",\"ironically\",\"receptive\",\"bathe\",\"phd\",\"rug\",\"gauge\",\"rash\",\"flaunt\",\"shred\",\"masculinity\",\"afterward\",\"esp\",\"affectionate\",\"surrogacy\",\"normalize\",\"daniel\",\"mental_gymnastic\",\"admin\",\"domestic_violence\",\"grad_school\",\"choke\",\"river\",\"giver\",\"tray\",\"monetary\",\"milestone\",\"maid_honor\",\"tone_deaf\",\"inexperienced\",\"scummy\",\"untrue\",\"psychotic\",\"stfu\",\"queue\",\"invent\",\"adhere\",\"balanced\",\"gracious\",\"lawn\",\"rudely\",\"articulate\",\"admirable\",\"tuesday\",\"demographic\",\"moon\",\"tomato\",\"calling\",\"backlash\",\"juvenile\",\"slut_shame\",\":d\",\"tutor\",\"initiative\",\":p\",\"virtually\",\"sea\",\"hyphenate\",\"outdoor\",\"economy\",\"cherry\",\"lighten\",\"alcoholism\",\"servant\",\"assholey\",\"caveat\",\"cherish\",\"foreplay\",\"educational\",\"internship\",\"grill\",\"conclude\",\"brush_tooth\",\"sexually_harass\",\"cult\",\"bratty\",\"prob\",\"crowded\",\"easement\",\"banana\",\"mind_reader\",\"impressive\",\"keeper\",\"bell\",\"celebrity\",\"voluntarily\",\"kidnap\",\"pervert\",\"redeem\",\"tammy\",\"shithead\",\"tldr\",\"neglectful\",\"dryer\",\"grandson\",\"temper_tantrum\",\"mr.\",\"shield\",\"\\\"you\",\"bottle_wine\",\"writer\",\"disconnect\",\"wolf\",\"prone\",\"disservice\",\"acting\",\"omit\",\"bunny\",\"brief\",\"crutch\",\"thrive\",\"\\ud83e\\udd14\",\"seal\",\"uninvited\",\"outlook\",\"clinical\",\"destination\",\"nta.your\",\"jeopardize\",\"ending\",\"snuggle\",\"5k\",\"concrete\",\"selfless\",\"uncool\",\"virus\",\"prenatal\",\"undergo\",\"stumble\",\"inner\",\"atleast\",\"unannounced\",\"coupon\",\"skin_color\",\"animal_product\",\"swimming\",\"brownie\",\"grass\",\"browse\",\"moody\",\"feasible\",\"edible\",\"muslims\",\"disappointing\",\"heaven\",\"james\",\"lastly\",\"impulsive\",\"frozen\",\"dentist\",\"isn't\",\"fortunate\",\"wire\",\"gosh\",\"storage\",\"override\",\"ect\",\"straighten\",\"priest\",\"subconsciously\",\"dread\",\"competent\",\"exact_opposite\",\"facial\",\"division\",\"hit_nail\",\"heated\",\"ordeal\",\"blindside\",\"bold\",\"bachelorette_party\",\"rn\",\"tier\",\"remarry\",\"smug\",\"immensely\",\"boner\",\"diverse\",\"social_circle\",\"blindly\",\"hardcore\",\"decrease\",\"pitbull\",\"purple\",\"mistaken\",\"wholly\",\"pastor\",\"tourist\",\"movie_theater\",\"incorrectly\",\"united_states\",\"humour\",\"myth\",\"gig\",\"suspend\",\"contempt\",\"motion\",\"span\",\"racial_slur\",\"trope\",\"sleep_deprive\",\"responsibly\",\"dining\",\"bush\",\"unexpectedly\",\"preschool\",\"spoiled_brat\",\"pediatrician\",\"edit_typo\",\"ahole\",\"plug\",\"tom\",\"kosher\",\"courteous\",\"waiting\",\"flame\",\"advanced\",\"4th\",\"themself\",\"tbf\",\"purse\",\"endgame\",\"pepper\",\"compel\",\"adjustment\",\"sob\",\"millennial\",\"net\",\"wisdom\",\"eliminate\",\"progressive\",\"peg\",\"facilitate\",\"marijuana\",\"bass\",\"conditional\",\"radio\",\"psychiatrist\",\"unpopular\",\"mechanic\",\"devil\",\"coffee_shop\",\"foreign_country\",\"sjw\",\"cruise\",\"bound\",\"deflect\",\"politeness\",\"adoptive\",\"harshly\",\"meat_eater\",\"observation\",\"revoke\",\"drama_queen\",\"council\",\"county\",\"korean\",\"sense_humor\",\"seed\",\"lotion\",\"dedicated\",\"pantie\",\"vaginal\",\"misleading\",\"silently\",\"projection\",\"disable\",\"daily_basis\",\"open_minded\",\"circumcision\",\"certainty\",\"intrusive\",\"felony\",\"hangout\",\"pout\",\"conviction\",\"pole\",\"breach_trust\",\"torment\",\"stream\",\"comic\",\"seriousness\",\"prescribe\",\"hyper\",\"certificate\",\"crew\",\"=_/=\",\"steer\",\"washing\",\"r_niceguys\",\"undoubtedly\",\"gfs\",\"triple\",\"unpack\",\"southern\",\"clingy\",\"scamme\",\"skeptical\",\"severity\",\"laughable\",\"pup\",\"calendar\",\"grad\",\"infertility\",\"specie\",\"restrain\",\"representation\",\"attractiveness\",\"defence\",\"tale\",\"resolution\",\"remote\",\"wibta\",\"bipolar\",\"doctor_appointment\",\"bend_backwards\",\"ra\",\"noodle\",\"plausible\",\"greet\",\"vanilla\",\"ethically\",\"bluff\",\"orientation\",\"mlm\",\"gendered\",\"world_revolve\",\"housewife\",\"tickle\",\"foolish\",\"variation\",\"catfishe\",\"district\",\"cream\",\"manifest\",\"men\",\"hurry\",\"cinema\",\"gape\",\"bulk\",\"lgbt+\",\"beloved\",\"keto\",\"selfishly\",\"scope\",\"banter\",\"foremost\",\"amitheasshole_question\",\"s_o\",\"rationale\",\"unclear\",\"setup\",\"rinse\",\"unfairly\",\"entirety\",\"gluten\",\"podcast\",\"relationship_advice\",\"unvaccinated\",\"applicant\",\"believable\",\"invisible\",\"bot_action\",\"misbehave\",\"monogamy\",\"anecdote\",\"early_20\",\"obey\",\"innocuous\",\"kindergarten\",\"mandarin\",\"sentimental_value\",\"mexico\",\"dumpster\",\"complicit\",\"connotation\",\"fiction\",\"unkind\",\"factory\",\"birth_certificate\",\"latch\",\"scrape\",\"positively\",\"yta.if\",\"walk_eggshell\",\"unfaithful\",\"linger\",\"hazard\",\"fixate\",\"perform_automatically_contact_moderator\",\"branch\",\"disadvantage\",\"manly\",\"eff\",\"tackle\",\"happening\",\"sulk\",\"sigh\",\"starter\",\"ds\",\"collar\",\"genitalia\",\"cease\",\"fester\",\"organise\",\"playground\",\"chronic\",\"texas\",\"subreddit](/message_compose/?to=/r\",\"icky\",\"white_knight\",\"demeaning\",\"tablet\",\"devalue\",\"socially_acceptable\",\"keen\",\"container\",\"dial\",\"u.s.\",\"cafe\",\"drawer\",\"mushroom\",\"north\",\"visa\",\"delusion\",\"\\ufe0f\",\"generalization\",\"sucky\",\"pale\",\"negligence\",\"likewise\",\"1/3\",\"destruction\",\"leeway\",\"shadow\",\"cleaner\",\"institution\",\"nutrient\",\"touchy\",\"dramatically\",\"gas_station\",\"candle\",\"twisted\",\"participant\",\"unconditional\",\"maturely\",\"negatively_affect\",\"diversity\",\"migraine\",\"grudge\",\"bitching\",\"crop\",\"modify\",\"jurisdiction\",\"intellectual\",\"accountable\",\"veto\",\"bacteria\",\"suffice\",\"upside\",\"grossly\",\"anatomy\",\"guilt_tripping\",\"info-\",\"earning\",\"troubling\",\"violently\",\"baseball\",\"alternatively\",\"outline\",\"regulation\",\"cupcake\",\"taint\",\"worthwhile\",\"follow_abbreviation\",\"rot\",\"tactless\",\"iirc\",\"helicopter\",\"membership\",\"breeder\",\"gasp\",\"nod\",\"maximum\",\"akin\",\"threshold\",\"rose\",\"edit-\",\"messed\",\"spa\",\"soak\",\"envy\",\"freezer\",\"heartbeat\",\"hetero\",\"misgendere\",\"bea\",\"thumb\",\"void\",\"riddance\",\"boom\",\"enthusiastic\",\"drawing\",\"nta.if\",\"coincidence\",\"newly\",\"sleeve\",\"bisexuality\",\"incompetent\",\"wether\",\"\\u2764_\\ufe0f\",\"miscarry\",\"unfamiliar\",\"rule_thumb\",\"weakness\",\"bachelor\",\"esh-\",\"willfully\",\"joking\",\"ruling\",\"comfort_zone\",\"flex\",\"adolescent\",\"administration\",\"amicable\",\"barge\",\"nevermind\",\"casserole\",\"indirectly\",\"heartbreaking\",\"recognition\",\"ramification\",\"carpet\",\"tame\",\"reproduce\",\"reunion\",\"independently\",\"illegally\",\"backstory\",\"thi\",\"era\",\"maddie\",\"rural\",\"gender_reverse\",\"december\",\"encouragement\",\"plead\",\"mansplaining\",\"i\\u2019d\",\"hoe\",\"commend\",\"verge\",\"y_o\",\"slander\",\"breastfe\",\"paranoia\",\"burn_bridge\",\"inadvertently\",\"funding\",\"mute\",\"horrify\",\"sensory\",\"regulate\",\"classy\",\"aversion\",\"fever\",\"1,000\",\"congratulate\",\"multi\",\"dominate\",\"texting\",\"patch\",\"justifiably\",\"objectify\",\"expel\",\"grey\",\"routinely\",\"ntayou're\",\"component\",\"rudeness\",\"motherhood\",\"impregnate\",\"chalk\",\"alarming\",\"implement\",\"toxicity\",\"fortunately\",\"eager\",\"appal\",\"gracefully\",\"recline_seat\",\"uhh\",\"tit_tat\",\"stew\",\"dealer\",\"specialize\",\"bargain\",\"brainwash\",\"vicious\",\"fatty\",\"titty\",\"+1\",\"detriment\",\"blah_blah_blah\",\"proactive\",\"petulant\",\"ordinary\",\"treasure\",\"download\",\"mutually_exclusive\",\"construction\",\"distribute\",\"nudity\",\"shooting\",\"inclusive\",\"soldier\",\"gall\",\"unlock\",\"substantial\",\"dan\",\"attire\",\"keyboard\",\"genetically\",\"jokingly\",\"sugar_daddy\",\"unintentional\",\"highly_recommend\",\"solo_trip\",\"demanding\",\"physician\",\"kissing\",\"insistent\",\"posting\",\"speculate\",\"england\",\"aesthetic\",\"itt\",\"urgent\",\"civilian\",\"affordable\",\"ntai'm\",\"detailed\",\"france\",\"body_positivity\",\"navy\",\"vet_bill\",\"poope\",\"atmosphere\",\"ytahe\",\"clerk\",\"chuckle\",\"quirk\",\"consumption\",\"internally\",\"oven\",\"worrying\",\"qualification\",\"restrictive\",\"preferably\",\"wax\",\"savage\",\"intake\",\"hoa\",\"rib\",\"discretion\",\"appreciative\",\"mend\",\"nest\",\"errand\",\"sucker\",\"10/10\",\"sheesh\",\"ytanot\",\"ben\",\"unspoken\",\"tense\",\"hourly\",\"5th\",\"novel\",\"snowflake\",\"untrustworthy\",\"break_camel\",\"cereal\",\"pipe\",\"snapping\",\"visual\",\"personality_disorder\",\"wholeheartedly\",\"womb\",\"persistent\",\"spicy\",\"nahit\",\"mega\",\"grand_scheme\",\"ostracize\",\"gorgeous\",\"sway\",\"heartbreak\",\"cranky\",\"^\",\"float\",\"imagination\",\"haul\",\"gee\",\"ludicrous\",\"fate\",\"realm\",\"vape\",\"arouse\",\"peeing\",\"known\",\"accompany\",\"offspring\",\"evaluation\",\"shall\",\"briefly\",\"nuisance\",\"dispose\",\"compound\",\"dang\",\"pit_bull\",\"registry\",\"narrow\",\"meth\",\"spout\",\"subway\",\"electric\",\"hinder\",\"graphic\",\"nation\",\"fend\",\"forgiving\",\"noble\",\"alleviate\",\"post_partum\",\"prioritise\",\"soy\",\"exempt\",\"coercion\",\"seperate\",\"hijack\",\"native_american\",\"charlie\",\"immense\",\"supreme\",\"companion\",\"belladonna\",\"whisper\",\"selfie\",\"irrationally\",\"instill\",\"tidy\",\"whoop\",\"cmon\",\"fur\",\"invitation_debate_subject\",\"livelihood\",\"blend\",\"bigoted\",\"exotic\",\"residence\",\"surprisingly\",\"hangup\",\"alien\",\"drunk_driving\",\"zoo\",\"piano\",\"wholesome\",\"nerd\",\"conceal\",\"imbalance\",\"pinch\",\"tofu\",\"instal\",\"hissy_fit\",\"screaming\",\"unheard\",\"pony\",\"rail\",\"sticky\",\"cord\",\"basketball\",\"horrifying\",\"fist\",\"screening\",\"avenue\",\"alt\",\"ted\",\"moot\",\"parking_spot\",\"hog\",\"unload\",\"ireland\",\"charitable\",\"invasion_privacy\",\"rad\",\"tolerant\",\"spotlight\",\"brick\",\"restraint\",\"police_officer\",\"accountability\",\"yta.it\",\"pornography\",\"<3\",\"horrified\",\"preparation\",\"chart\",\"they're\",\"motherfucker\",\"individually\",\"i\\u2019ve\",\"yay\",\"fare\",\"\\ud83d\\ude02_\\ud83d\\ude02\",\"sacred\",\"curfew\",\"microwave\",\"childless\",\"jaw\",\"colossal\",\"haunt\",\"frat\",\"exceptionally\",\"negligent\",\"horn\",\"manipulator\",\"whichever\",\"escalation\",\"peak\",\"visibly\",\"blackout_drunk\",\"readily\",\"cowardly\",\"painfully\",\"stack\",\"blow_proportion\",\"rocky\",\"dancer\",\"living_expense\",\"homemade\",\"bodily_function\",\"conception\",\"miracle\",\"oppress\",\"coast\",\"isolated\",\"awkwardness\",\"negatively_impact\",\"destination_wedding\",\"spew\",\"bedtime\",\"polish\",\"remedy\",\"respectable\",\"err\",\"speak_volume\",\"knit\",\"persuade\",\"looking\",\"stash\",\"jab\",\"unicorn\",\"leadership\",\"asinine\",\"ipad\",\"rehab\",\"unattende\",\"public_transport\",\"west\",\"comeback\",\"cloth\",\"iq\",\"comprehension\",\"subscribe\",\"underweight\",\"offering\",\"serial_killer\",\"sooooo\",\"token\",\"cosmetic\",\"nip_bud\",\"public_transportation\",\"pun\",\"peanut_butter\",\"terminal\",\"notification\",\"anorexia\",\"brace\",\"distinct\",\"needless\",\"sam\",\"skewed\",\"believer\",\"obgyn\",\"rachel\",\"flesh\",\"bbq\",\"new_york\",\"defect\",\"overly_sensitive\",\"sible\",\"insignificant\",\"relaxed\",\"termination\",\"imaginary\",\"publish\",\"lunatic\",\"scapegoat\",\"curly_hair\",\"translation\",\"nepotism\",\"organizer\",\"central\",\"piercing\",\"indefinitely\",\"increasingly\",\"conference\",\"cliche\",\"noisy\",\"nta.she\",\"skew\",\"paper_towel\",\"bachelor_party\",\"non_binary\",\"sharp\",\"clown\",\"inadequate\",\"40\",\"excess\",\"unconditionally\",\"devote\",\"teammate\",\"elevator\",\"capability\",\"hmmm\",\"chastise\",\"united\",\"embryo\",\"minus\",\"bro_code\",\"delude\",\"cling\",\"cracker\",\"dr.\",\"install\",\"slob\",\"elephant\",\"roam\",\"worm\",\"stds\",\"premium\",\"transplant\",\"flatmate\",\"crate\",\"dressed\",\"reader\",\"airplane\",\"yrs\",\"neat\",\"steady\",\"ample\",\"africa\",\"hub\",\"r_entitledparent\",\"partial\",\"legal_guardian\",\"bystander\",\"unsupportive\",\"venture\",\"vaccinated\",\"mandate\",\"bleeding\",\"absorb\",\"mow_lawn\",\"elder\",\"wednesday\",\"said\",\"san\",\"whistle\",\"slippery_slope\",\"scouts\",\"upcoming\",\"rhetoric\",\"robot\",\"bode\",\"incubator\",\"software\",\"valuable_lesson\",\"recourse\",\"april\",\"demonize\",\"operation\",\"yogurt\",\"elope\",\"adventure\",\"roomie\",\"repulse\",\"unsupervise\",\"tent\",\"goodwill\",\"vain\",\"pedantic\",\"egregious\",\"motivated\",\"yellow\",\"terrifying\",\"deserved\",\"bout\",\"residency\",\"victimize\",\"harbor\",\"bald\",\"identical_twin\",\"gender_dysphoria\",\"misplace\",\"curl\",\"orange\",\"spice\",\"jessica\",\"universally\",\"inlaw\",\"women\",\"bitterness\",\"disguise\",\"beast\",\"conspiracy\",\"badass\",\"satisfying\",\"dominance\",\"uti\",\"martyr\",\"grain_salt\",\"prof\",\"exaggeration\",\"desert\",\"penalty\",\"guise\",\"insanity\",\"needle\",\"generate\",\"bleach\",\"australian\",\"kinky\",\"spaghetti\",\"efficient\",\"shitti\",\"salon\",\"ouch\",\"\\\"if\",\"fundraiser\",\"musical\",\"concede\",\"instigate\",\"troubled\",\"contraceptive\",\"realization\",\"retarded\",\"sobriety\",\"partake\",\"stepsister\",\"testosterone\",\"glare\",\"loaded\",\"nta.this\",\"hood\",\"dilemma\",\"hairstyle\",\"pleased\",\"empower\",\"mo\",\"asthma\",\"execute\",\"louder\",\"executive\",\"assertive\",\"moreso\",\"maker\",\"frown\",\"vegans\",\"commission\",\"sweetie\",\"speculation\",\"confine\",\"ft\",\"planner\",\"solidify\",\"shiny\",\"ounce\",\"overstep_boundary\",\"service_industry\",\"golf\",\"compatibility\",\"forehead\",\"accusatory\",\"melt\",\"befriend\",\"postpartum_depression\",\"gum\",\"debilitate\",\"fantasize\",\"vitamin\",\"y'know\",\"taco\",\"retard\",\"nurture\",\"psychiatric\",\"astounding\",\"dash\",\"talented\",\"higher\",\"breathing\",\"sociopathic\",\"morbidly_obese\",\"cognitive\",\"tube\",\"cope_mechanism\",\"dishonesty\",\"knee_jerk_reaction\",\"epic\",\"badger\",\"misuse\",\"dangerously\",\"construct\",\"spank\",\"ratio\",\"atheism\",\"january\",\"ace\",\"tattle\",\"centre\",\"exacerbate\",\"repulsive\",\"hiking\",\"jam\",\"preferred\",\"disclaimer\",\"rainbow\",\"meter\",\"obsessed\",\"armpit\",\"wildlife\",\"electricity\",\"trolling\",\"annual\",\"resemble\",\"defamation\",\"mystery\",\"disproportionate\",\"extended_period\",\"pantry\",\"evidently\",\"morning_sickness\",\"challenging\",\"wardrobe\",\"rectify\",\"determined\",\"hockey\",\"marathon\",\"apt\",\"patronize\",\"tremendous\",\"bulimia\",\"massive_red_flag\",\"ytathe\",\"publicly_humiliate\",\"apologizing\",\"flood\",\"curtain\",\"revisit\",\"bent\",\"mentor\",\"prohibit\",\"aswell\",\"locker_room\",\"approximately\",\"liver\",\"worldview\",\"unwelcome\",\"climate\",\"mall\",\"follower\",\"uphold\",\"hrs\",\"certify\",\"penetrative\",\"asd\",\"intolerant\",\"hack\",\"sew\",\"i.e\",\"unpredictable\",\"unbiased\",\"stupidly\",\"gladly\",\"technical\",\"furrie\",\"critique\",\"snore\",\"toxic_masculinity\",\"burrito\",\"granddaughter\",\"considering\",\"urine\",\"perpetrator\",\"photograph\",\"reluctant\",\"poo\",\"unfit\",\"downside\",\"unwind\",\"gymnastic\",\"ankle\",\"reconnect\",\"sweetheart\",\"sand\",\"gratification\",\"execution\",\"cement\",\"draft\",\"apartment_complex\",\"unsolicited_advice\",\"newsflash\",\"low_self_esteem\",\"reduction\",\"redirect\",\"balloon\",\"wank\",\"disapprove\",\"commit_suicide\",\"pronunciation\",\"hallway\",\"nosy\",\"disdain\",\"elitist\",\"yank\",\"nip\",\"notch\",\"bluntly\",\"diploma\",\"lgbtq+\",\"laughter\",\"flirting\",\"immune\",\"taste_medicine\",\"technicality\",\"stepparent\",\"snob\",\"fleshlight\",\"subsidize\",\"supermarket\",\"cc\",\"hostility\",\"external\",\"washer\",\"fraction\",\"abstinence\",\"voluntary\",\"mundane\",\"expire\",\"mechanism\",\"going\",\"yah\",\"children\",\"wrestle\",\"transport\",\"discharge\",\"hearted\",\"ritual\",\"bee\",\"turd\",\"butthole\",\"ham\",\"earplug\",\"dnd\",\"postpone\",\"eligible\",\"you've\",\"anger_management\",\"flippant\",\"outdated\",\"terrorist\",\"lyft\",\"awfully\",\"proceeding\",\"jersey\",\"pickle\",\"mrs.\",\"explore_sexuality\",\"conflate\",\"locate\",\"heartbreake\",\"materialistic\",\"puzzle\",\"hiding\",\"clip\",\"temperature\",\"grader\",\"wit\",\"representative\",\"contemplate\",\"confession\",\"politely_decline\",\"ultrasound\",\"overwhelmingly\",\"deceptive\",\"transwoman\",\"30k\",\"latino\",\"infringe\",\"ho\",\"peaceful\",\"dui\",\"p.s.\",\"angrily\",\"temple\",\"intolerance\",\"applicable\",\"able_bodied\",\"dragon\",\"needs\",\"mat\",\"\\\"it\",\"mission\",\"author\",\"gravity\",\"mtf\",\"analyze\",\"eshyour\",\"attention_seeking\",\"carer\",\"probability\",\"sword\",\"superiority\",\"esa\",\"bragging\",\"horrid\",\"stimulation\",\"allergen\",\"ff\",\"dive\",\"contagious\",\"coconut\",\"immune_system\",\"ski\",\"designer\",\"snide\",\"\\ud83e\\udd37_\\ud83c\\udffb\\u200d_\\u2640_\\ufe0f\",\"gotcha\",\"umm\",\"mormon\",\"mighty\",\"egotistical\",\"eshshe\",\"insulin\",\"removal\",\"neurotypical\",\"flee\",\"august\",\"custodial\",\"marvel\",\"subconscious\",\"chili\",\"terminology\",\"1k\",\"marine\",\"endless\",\"50\",\"unlocked\",\"preferable\",\"intoxicate\",\"diary\",\"regain\",\"pedophilia\",\"smoothly\",\"shooter\",\"ob\",\"mcdonalds\",\"wed\",\"passing\",\"factual\",\"piggy\",\"chapter\",\"jeremy\",\"cringy\",\"rotten\",\"tournament\",\"information_misunderstand\",\"adequately\",\"noticeable\",\"asking\",\"oppression\",\"motorcycle\",\"hive\",\"/r_legaladvice\",\"knowledgeable\",\"cultural_appropriation\",\"wager\",\"butts\",\"bodily\",\"overhear\",\"mentally_disabled\",\"killing\",\"breast_milk\",\"girly\",\"ntaand\",\"infinitely\",\"xd\",\"cs\",\"wrist\",\"\\ud83e\\udd23\",\"delivery_driver\",\"classify\",\"stretch_mark\",\"fitting\",\"walking\",\"smith\",\"misconception\",\"vocabulary\",\"infer\",\"illogical\",\"transparent\",\"condolence\",\"passive_aggressively\",\"snatch\",\"glue\",\"manchild\",\"flattering\",\"cornell\",\"mouse\",\"relapse\",\"plane_ticket\",\"reset\",\"you-\",\"momma\",\"recieve\",\"en\",\"correlate\",\"italy\",\"whack\",\"radical\",\"quitting\",\"sausage\",\"disclosure\",\"nauseous\",\"rebel\",\"humility\",\"alongside\",\"negotiation\",\"ada\",\"memorial\",\"10,000\",\"suitcase\",\"tub\",\"stern\",\"fatigue\",\"glorify\",\"p\",\"lessen\",\"\\ud83d\\ude0a\",\"faggot\",\"dearly\",\"concentrate\",\"nationality\",\"sustainable\",\"sleep_deprivation\",\"meta\",\"thrust\",\"modest\",\"hysterical\",\"aa\",\"correlation\",\"trespass\",\"tasty\",\"wildly_inappropriate\",\"donate_kidney\",\"voting\",\"liquor\",\"distribution\",\"hypothetically\",\"bikinis\",\"literature\",\"potty\",\"proportional\",\"launch\",\"jew\",\"hunting\",\"unfounded\",\"witch\",\"grey_area\",\"rear\",\"advisor\",\"hesitation\",\"mold\",\"bingo\",\"consumer\",\"vast\",\"2/3\",\"swimsuit\",\"it-\",\"forgetful\",\"menstrual\",\"demon\",\"plainly\",\"trivialize\",\"buyer\",\"armchair\",\"ms\",\"ig\",\"inexcusable\",\"ryan\",\"prevention\",\"wrongly\",\"repayment\",\"animosity\",\"musician\",\"dirty_laundry\",\"drip\",\"listener\",\"scientist\",\"impair\",\"vomiting\",\"annie\",\"clause\",\"selection\",\"inaccurate\",\"naughty\",\"google_search\",\"pubis\",\"captain\",\"gradually\",\"hiring\",\"autocorrect\",\"respective\",\"consist\",\"promptly\",\"degrading\",\"showing\",\"elbow\",\"lid\",\"supporter\",\"participation\",\"3x\",\"smear\",\"partum_depression\",\"dine\",\"defeat\",\"embarasse\",\"dibs\",\"exhaustion\",\"carb\",\"apologize_profusely\",\"blast_music\",\"short_sighted\",\"detach\",\"sting\",\"reflex\",\"uninformed\",\"entity\",\"spineless\",\"fetch\",\"educator\",\"shrink\",\"hunger\",\"domme\",\"journal\",\"entrance\",\"amber_alert\",\"white_supremacist\",\"moral_compass\",\"marketing\",\"sneeze\",\"donut\",\"village\",\"truthfully\",\"unwarranted\",\"native_language\",\"1/4\",\"antagonize\",\"fifth\",\"sob_story\",\"acquire\",\"sahp\",\"digital\",\"ytathere\",\"holocaust\",\"bfs\",\"cleanliness\",\"spawn\",\"predictable\",\"buying\",\"suppress\",\"addictive\",\"rearrange\",\"loathe\",\"earring\",\"pedestrian\",\"duration\",\"lemon\",\"ancient\",\"precedence\",\"conversion\",\"dealership\",\"impressionable\",\"illustrate\",\"fabric\",\"mr\",\"wrongdoing\",\"widower\",\"unreliable\",\"citizenship\",\"dj\",\"commercial\",\"bam\",\"filthy\",\"opposed\",\"bat_eye\",\"cocktail\",\"hospitality\",\"vibrate\",\"waist\",\"kennel\",\"aftermath\",\"socially_awkward\",\"ogle\",\"dot\",\"patronizing\",\"assholes\",\"east\",\"kit\",\"stinky\",\"im\",\"consistency\",\"sustain\",\"solidarity\",\"infect\",\"dental\",\"teasing\",\"deceitful\",\"disparity\",\"fetishize\",\"rough_patch\",\"appetite\",\"prevalent\",\"exaggerated\",\"perk\",\"frequency\",\"refill\",\"grownup\",\"misinform\",\"unknowingly\",\"credit_score\",\"extracurricular\",\"niceguy\",\"combo\",\"uneducated\",\"2x\",\"ahh\",\"mob\",\"tiffany\",\"vaguely\",\"transactional\",\"i'll\",\"backbone\",\"quantity\",\"\\\"that\",\"distasteful\",\"malicious_intent\",\"differentiate\",\"thigh\",\"ita\",\"\\u20ac\",\"racially\",\"suspension\",\"abhorrent\",\"dipshit\",\"uneasy\",\"ache\",\"mercy\",\"empathise\",\"upscale\",\"mill\",\"ytawhat\",\"derail\",\"breast_feeding\",\"unimportant\",\"rifle\",\"alabama\",\"grounding\",\"iffy\",\"pikachu\",\"skilled\",\"weekday\",\"fond\",\"inconsequential\",\"prosecute\",\"granny\",\"intended\",\"mgtow\",\"xmas\",\"sky\",\"paw\",\"dysphoria\",\"pry\",\"mans\",\"strive\",\"razor\",\"heap\",\"garlic\",\"worsen\",\"violate_privacy\",\"cosplay\",\"incline\",\"cooking_cleaning\",\"impolite\",\"discard\",\"ftm\",\"dye_hair\",\"sever\",\"freeloader\",\"umbrella\",\"unforgivable\",\"earner\",\"forgo\",\"rep\",\"janitor\",\"desirable\",\"serving\",\"trunk\",\"developmentally\",\"television\",\"handsome\",\"insta\",\"\\ud83e\\udd26\",\"connected\",\"hype\",\"christ_sake\",\"thong\",\"15k\",\"extravagant\",\"domestic_abuse\",\"amusing\",\"gendere\",\"shoulda\",\"reptile\",\"excessively\",\"leisure\",\"deserving\",\"accessory\",\"unbearable\",\"medicate\",\"diarrhea\",\"hash\",\"fume\",\"pet_peeve\",\"russian\",\"liquid\",\"charming\",\"homeschoole\",\"dummy\",\"phenomenon\",\"documentation\",\"introspection\",\"mommy_daddy\",\"pto\",\"cabin\",\"earbud\",\"hound\",\"prostitution\",\"dehumanizing\",\"unilateral_decision\",\"ooh\",\"spirited\",\"ceo\",\"muster\",\"takeout\",\"commentary\",\"brake\",\"mediocre\",\"preface\",\"propaganda\",\"dutch\",\"barista\",\"'em\",\"ot\",\"polyamorous\",\"catering\",\"pilot\",\"overprotective\",\"dwell\",\"melissa\",\"forcibly\",\"moderation\",\"psa\",\"bribe\",\"discriminatory\",\"psyche\",\"creeper\",\"combative\",\"argumentative\",\"fuzzy\",\"comfy\",\"emu\",\"subsequent\",\"suited\",\"childs\",\"cabinet\",\"documentary\",\"instruct\",\"shitshow\",\"credibility\",\"fictional\",\"insistence\",\"pedestal\",\"understatement\",\"rigid\",\"dd\",\"2k\",\"decoration\",\"immigration\",\"workload\",\"\\ud83c\\udffb\",\"awkwardly\",\"psychosis\",\"harvard\",\"happily_married\",\"coverage\",\"brigade\",\"bruce\",\"mic\",\"beating\",\"sally\",\"yearly\",\"nausea\",\"trafficking\",\"album\",\"civilized\",\"handy\",\"\\u2800\",\"concession\",\"horrendous\",\"donate_sperm\",\"hostess\",\"implicit\",\"homie\",\"proxy\",\"crux\",\"arrogance\",\"ikr\",\"sweater\",\"distinguish\",\"hawaii\",\"warped\",\"interject\",\"coping_mechanism\",\"glass_wine\",\"environmental\",\"hidden\",\"90\",\"overlap\",\"tear_apart\",\"soothe\",\"micro_penis\",\"discreet\",\"nahbut\",\"quiz\",\"tat\",\"fat_shaming\",\"ward\",\"disbelief\",\"ghosting\",\"preppe\",\"incorporate\",\"rap\",\"sniff\",\"feral_cat\",\"co_parenting\",\"stove\",\"crystal\",\"hairy\",\"diligence\",\"x200b;you\",\"asians\",\"ulterior_motive\",\"unlimited\",\"drive_wedge\",\"toast\",\"baseline\",\"clog\",\"overtly\",\"doubtful\",\"bonker\",\"asia\",\"swoop\",\"counsellor\",\"missing\",\"broccoli\",\"rag\",\"oversight\",\"formatting\",\"knowing\",\"unavailable\",\"aggravate\",\"validity\",\"breastmilk\",\"hiv\",\"punctuation\",\"recording\",\"heartfelt\",\"smartphone\",\"paternal\",\"dig_heel\",\"anorexic\",\"clickbait\",\"rapidly\",\"kicker\",\"broadcast\",\"raman\",\"workforce\",\"yuck\",\"creation\",\"ultra\",\"planned\",\"uptight\",\"complete_utter\",\"darn\",\"tenancy\",\"popularity\",\"debatable\",\"utilize\",\"singular\",\"envision\",\"deck\",\"barrel\",\"piv\",\"reprehensible\",\"edgelord\",\"flexibility\",\"stimulate\",\"10k\",\"unreasonably\",\"bathing_suit\",\"abbreviation\",\"magnitude\",\"surrounding\",\"monetary_value\",\"grieving_process\",\"accomodate\",\"\\ud83d\\udc4d\",\"courthouse\",\"ancestor\",\"false_pretense\",\"hoarder\",\"tack\",\"dedication\",\"mac\",\"overkill\",\"neuter\",\"corn\",\"porch\",\"agnostic\",\"curriculum\",\"pokemon\",\"obstacle\",\"hm\",\"\\\"this\",\"rapey\",\"20k\",\"premature\",\"chin\",\"whooping_cough\",\"april_fool\",\"untrained\",\"sixteen\",\"multitude\",\"ambitious\",\"obscure\",\"rsvp\",\"expressly\",\"ytathat\",\"rowdy\",\"ynta\",\"omnivore\",\"referral\",\"exclusion\",\"twitter\",\"ancestry\",\"professionalism\",\"string_attach\",\"disobey\",\"hometown\",\"saddle\",\"divorced\",\"x200b;&#x200b\",\"fallacy\",\"blurt\",\"doable\",\"holy_thou\",\"outlier\",\"leaving\",\"michael\",\"spiritual\",\"snub\",\"poisoning\",\"antibiotic\",\"inexpensive\",\"chaos\",\"80\",\"possess\",\"implicitly\",\"loophole\",\"failing\",\"heartache\",\"politically\",\"atrocious\",\"mansplaine\",\"homeowner\",\"colored\",\"judgy\",\"forfeit\",\"skim\",\"defer\",\"taunt\",\"snip\",\"orgy\",\"viral\",\"widely\",\"sanitary\",\"attendant\",\"justnomil\",\"clash\",\"deficiency\",\"lenient\",\"eating_habit\",\"eve\",\"unresolved\",\"eater\",\"pun_intend\",\"cuck\",\"shovel\",\"ineffective\",\"resistance\",\"manufacture\",\"chaotic\",\"micro\",\"million_dollar\",\"formally\",\"dressing\",\"obligatory\",\"proclaim\",\"petition\",\"misunderstood\",\"tracking\",\"ghetto\",\"entree\",\"significance\",\"financial_aid\",\"abstain\",\"insure\",\"nta.he\",\"dodgy\",\"closeness\",\"aw\",\"lousy\",\"june\",\"oops\",\"theoretically\",\"discredit\",\"soften\",\"sole_purpose\",\"middle_aged\",\"moms\",\"corporation\",\"roomate\",\"deodorant\",\"tactfully\",\"shorten\",\"placate\",\"island\",\"ytawhy\",\"poland\",\"assholeness\",\"d&d\",\"acknowledgement\",\"collective\",\"enrage\",\"diabete\",\"spontaneous\",\"dowry\",\"alarm_bell\",\"ntawhat\",\"lack_thereof\",\"polyamory\",\"uber_driver\",\"alpha\",\"investigation\",\"chicken_nugget\",\"left_lane\",\"non_existent\",\"allegedly\",\"temp\",\"stylist\",\"\\u2800_\\u2800_\\u2800_\\u2800\",\"penetrate\",\"cup_tea\",\"underrated\",\"hoop\",\"unemployment\",\"injustice\",\"rebound\",\"highly_unlikely\",\"tailor\",\"ny\",\"rephrase\",\"heinous\",\"strained\",\"throwaway_account\",\"preteen\",\"epitome\",\"variable\",\"yelp\",\"trample\",\"recipe_disaster\",\"$_10k\",\"juicy\",\"merge\",\"decorate\",\"lion\",\"waaaay\",\"nicu\",\"sidebar\",\"inconsistent\",\"continent\",\"agreed\",\"parallel\",\"clutch\",\"ambiguous\",\"metaphor\",\"vulnerability\",\"idc\",\"mrs\",\"discord\",\"nc\",\"secular\",\"uhhh\",\"unsettling\",\"catch_guard\",\"pickup\",\"unhinged\",\"advertising\",\"cocaine\",\"behold\",\"wee\",\"lounge\",\"bestie\",\"measurement\",\"map\",\"cynical\",\"kidnapping\",\"ohh\",\"gatekeeping\",\"rewarding\",\"fatherhood\",\"amen\",\"bowling\",\"impatient\",\"sexual_compatibility\",\"overthinke\",\"fishing\",\"sitcom\",\"passage\",\"dangle\",\"recruit\",\"watch?v_=\",\"faux_pas\",\"notoriously\",\"security_camera\",\"nuke\",\"boomer\",\"civility\",\"pharmacy\",\"controller\",\"hahahaha\",\"vein\",\"handed\",\"eshi\",\"magazine\",\"reap\",\"manual\",\"frugal\",\"qualm\",\"intensive\",\"ivy_league\",\"photography\",\"bankrupt\",\"encouraging\",\"harp\",\"south_america\",\"london\",\"interpersonal\",\"na\",\"criticise\",\"winning\",\"alike\",\"definetly\",\"hysterectomy\",\"indoctrination\",\"predicament\",\"george\",\"subtly\",\"belligerent\",\"dominant\",\"benign\",\"inject\",\"psychic\",\"sweaty\",\"feral\",\"semblance\",\"sunshine\",\"skinned\",\"fetal\",\"gullible\",\"ambulance\",\"hen\",\"gel\",\"40k\",\"5,000\",\"prolong\",\"righteous\",\"echo\",\"urban\",\"suite\",\"instrument\",\"indoctrinate\",\"rally\",\"karaoke\",\"capitalism\",\"juggle\",\"fascist\",\"distraught\",\"inflate\",\"stoop\",\"retract\",\"elite\",\"capital\",\"amuse\",\"squat\",\"enthusiasm\",\"strengthen\",\"unwell\",\"confederate_flag\",\"shotgun\",\"declaw\",\"charm\",\"budgeting\",\"rampant\",\"decently\",\"reputable\",\"graciously\",\"x.\",\"grievance\",\"terror\",\"controversy\",\"neckbeard\",\"summary\",\"fluent\",\"timely\",\"nitpick\",\"compulsive\",\"pa\",\"pseudo\",\"ummm\",\"healthily\",\"stipulation\",\"mud\",\"cold_shoulder\",\"lottery\",\"weave\",\"frivolous\",\"parameter\",\"scoop\",\"lapse\",\"enlighten\",\"fortune\",\"contractor\",\"kin\",\"times\",\"diffuse\",\"jeopardy\",\"unanimous\",\"oxygen\",\"boggle\",\"run_errand\",\"doesn\\u2019t\",\"fat_acceptance\",\"van\",\"zombie\",\"november\",\"suburb\",\"road_rage\",\"al\",\"exert\",\"undertone\",\"converse\",\"liking\",\"wisely\",\"touchy_subject\",\"misinformation\",\"transgression\",\"gaslit\",\"ross\",\"kat\",\"3/4\",\"preventable\",\"penalize\",\"deployment\",\"armed\",\"dependency\",\"gallon\",\"peek\",\"porn_star\",\"luggage\",\"render\",\"morale\",\"determination\",\"collapse\",\"condo\",\"chromosome\",\"vest\",\"unhelpful\",\"hater\",\"handler\",\"craigslist\",\"hoo\",\"euthanize\",\"definitive\",\"intentione\",\"chief\",\"odor\",\"goof\",\"welp\",\"upload\",\"fuckup\",\"cane\",\"gatekeep\",\"damned\",\"elementary\",\"unequal\",\"w/\",\"orient\",\"yeesh\",\"spade\",\"lust\",\"doggo\",\"guidance_counselor\",\"100,000\",\"companionship\",\"performer\",\"unsanitary\",\"recharge\",\"nta.but\",\"artificial\",\"miniature\",\"logistic\",\"scrap\",\"sperm_bank\",\"peacefully\",\"mobility\",\"shaving\",\"uproot\",\"streak\",\"amd\",\"brainer\",\"indifferent\",\"punk\",\"factually\",\"disparage\",\"yta.your\",\"dictionary\",\"equitable\",\"speaking\",\"tux\",\"ponytail\",\"\\ud83e\\udd37_\\u200d_\\u2640_\\ufe0f\",\"security_guard\",\"profusely\",\"arguing\",\"agony\",\"\\u28ff\",\"mop\",\"can\\u2019t\",\"unleash\",\"comedian\",\"fortnite\",\"revelation\",\"extortion\",\"revealing\",\"sleeper\",\"teachable_moment\",\"orphan\",\"laughing\",\"beta\",\"satan\",\"amazingly\",\"untreated\",\"tuck\",\"swimmer\",\"hallmark\",\"washing_machine\",\"bodily_fluid\",\"boxer\",\"cultivate\",\"tangible\",\"modification\",\"ntathey\",\"taking\",\"eyed\",\"overwhelm\",\"vicariously\",\"coordinate\",\"mood_swing\",\"skull\",\"scooter\",\"outbreak\",\"macho\",\"oddly\",\"extensive\",\"suprise\",\"involuntary\",\"interruption\",\"stalking\",\"concussion\",\"meal_prep\",\"|_abbreviation--\",\"kiddos\",\"reimbursement\",\"curry\",\"relocate\",\"crass\",\"endorse\",\"counterproductive\",\"ovary\",\"rescind\",\"david\",\"knot\",\"prospective\",\"corpse\",\"nursery\",\"checking\",\"line_sand\",\"cotton\",\"incur\",\"solicit\",\"reactive\",\"youre\",\"stingy\",\"3k\",\"adverse\",\"backseat\",\"won't\",\"abbreviation_bot_ignore\",\"reckon\",\"dope\",\"echo_chamber\",\"gift_giving\",\"parasite\",\"loved\",\"expertise\",\"essence\",\"crib\",\"eventual\",\"fox\",\"lyric\",\"batch\",\"farther\",\"mind_boggle\",\"foul\",\"nbd\",\"slang\",\"helper\",\"secrecy\",\"splurge\",\"spoilt\",\"sloppy\",\"following\",\"considerably\",\"pertinent\",\"insulted\",\"spreadsheet\",\"blink\",\"plague\",\"forest\",\"anecdotal\",\"sup\",\"addicted\",\"hopeless\",\"handout\",\"september\",\"fall_category\",\"mesh\",\"boarding\",\"radar\",\"timer\",\"drift\",\"sheep\",\"depressing\",\"doorstep\",\"manageable\",\"bracelet\",\"da\",\"moronic\",\"proximity\",\"jug\",\"motel\",\"cam\",\"disinvite\",\"ivy\",\"heh\",\"reliant\",\"irk\",\"sooner_later\",\"mourning\",\"discourse\",\"x_y_z\",\"x200b;if\",\"nutritional\",\"bolt\",\"wth\",\"squirrel\",\"intensely\",\"stiffe\",\"erect\",\"margin\",\"innocence\",\"c.\",\"circumcise\",\"receptionist\",\"keeping\",\"lest\",\"sip\",\"elect\",\"accommodating\",\"pumping\",\"relieved\",\"relive\",\"autism_spectrum\",\"anti_vax\",\"whatsapp\",\"medieval\",\"napkin\",\"avoidable\",\"drinker\",\"slam_door\",\"lactose\",\"intact\",\"bombard\",\"ness\",\"crayon\",\"spay\",\"champ\",\"tremendously\",\"memorialize\",\"speed_limit\",\"dependant\",\"mimic\",\"self_centre\",\"noon\",\"collectively\",\"slutty\",\"fatal\",\"transmit\",\"chose\",\"brunt\",\"sexually_compatible\",\"surrender\",\"survey\",\"vulgar\",\"fairy\",\"pro_con\",\"victory\",\"sheltered\",\"fabricate\",\"litter_box\",\"collateral\",\"militant\",\"thirsty\",\"hooker\",\"ifs\",\"humane\",\"tutorial\",\"arnt\",\"unlucky\",\"submissive\",\"dam\",\"neighbourhood\",\"wicked\",\"also-\",\"credential\",\"deteriorate\",\"picnic\",\"sophomore\",\"gravy\",\"placement\",\"unwillingness\",\"fearful\",\"stealing\",\"closing\",\"faulty\",\"arrival\",\"rile\",\"brunch\",\"squash\",\"shat\",\"irs\",\"february\",\"evident\",\"flatter\",\"overestimate\",\"actress\",\"acid\",\"artistic\",\"wouldn't\",\"reserved\",\"greed\",\"antiquated\",\"fidelity\",\"financially_stable\",\"veto_power\",\"bouncer\",\"surgical\",\"3.5\",\"60\",\"oop\",\"lobby\",\"catalyst\",\"jobless\",\"convincing\",\"barber\",\"promiscuous\",\"sterilize\",\"incapacitate\",\"bench\",\"abstract\",\"scarf\",\"kidding\",\"wrapper\",\"baking\",\"unfollow\",\"blindness\",\"hamburger\",\"blah_blah\",\"partying\",\"rearing\",\"driver_license\",\"midwife\",\"ye\",\"hyperbole\",\"sicken\",\"yta.she\",\"consenting\",\"friggin\",\"footage\",\"definitively\",\"hindu\",\"muffin\",\"masse\",\"detention\",\"outlandish\",\"ntaas\",\"seatbelt\",\"ste\",\"circus\",\"lego\",\"eternity\",\"muscle_mass\",\"r_amitheasshole_wiki\",\"facetime\",\"goddamne\",\"probable\",\"twitch\",\"trailer\",\"narrator\",\"misconstrue\",\"hentai\",\"retrospect\",\"sport_bra\",\"outwardly\",\"pearl\",\"savior\",\"bridal_shower\",\"blood_boil\",\"bun\",\"gem\",\"computer_science\",\"lurk\",\"potluck\",\"safety_net\",\"guac\",\"fece\",\"\\u201di\",\"activist\",\"news_flash\",\"nope_nope\",\"allocate\",\"ceiling\",\"resign\",\"innocently\",\"fred\",\"nicole\",\"hun\",\"drug_dealer\",\"proposition\",\"dull\",\"rider\",\"andy\",\"fiber\",\"unironically\",\"remorseful\",\"allude\",\"bummer\",\"malnourish\",\"passively\",\"networking\",\"isolation\",\"raise_eyebrow\",\"agressive\",\"tender\",\"non_confrontational\",\"checkout\",\"faculty\",\"chad\",\"brutally\",\"paper_trail\",\"peep\",\"impede\",\"overstep_bound\",\"royally\",\"submission\",\"upkeep\",\"abundantly_clear\",\"scramble\",\"ella\",\"tread\",\"utensil\",\"underneath\",\"tennis\",\"woe\",\"proudly\",\"law_enforcement\",\"lad\",\"dean\",\"skin_colour\",\"pander\",\"\\ud83d\\ude02_\\ud83d\\ude02_\\ud83d\\ude02\",\"zip\",\"feign\",\"birthing\",\"constructive_criticism\",\"hospitalize\",\"relay\",\"r_justnofamily\",\"personality_trait\",\"someplace\",\"booty\",\"ehhh\",\"moderator\",\"batshit\",\"verse\",\"nonsensical\",\"marines\",\"irregular\",\"itch\",\"unprepared\",\"waaaaay\",\"game_thrones\",\"climax\",\"appliance\",\"seeker\",\"steamroll\",\"unappreciated\",\"vanity\",\"divulge\",\"currency\",\"july\",\"nonstop\",\"km\",\"her-\",\"jones\",\"nugget\",\"blur\",\"chicago\",\"packet\",\"ladder\",\"bay\",\"gen\",\"loosen\",\"|\",\"misguide\",\"wink\",\"primary_caregiver\",\"headline\",\"annulment\",\"spam\",\"impartial\",\"imma\",\"metabolism\",\"procreate\",\"sugar_coat\",\"administrator\",\"endometriosis\",\"recover_alcoholic\",\"pierce\",\"detect\",\"tribe\",\"downvote_oblivion\",\"nicer\",\"gunna\",\"wikipedia\",\"$_500k\",\"cable\",\"dire\",\"rumour\",\"politician\",\"ergo\",\"carbs\",\"spousal\",\"handling\",\"printer\",\"fr\",\"lovingly\",\"vaginas\",\"korea\",\"volatile\",\"remainder\",\"formative\",\"exceed\",\"pricey\",\"wrench\",\"manipulation_tactic\",\"concentration\",\"lo\",\"genocide\",\"reconciliation\",\"moose\",\"stoner\",\"assuage\",\"castle\",\"sincere_apology\",\"optimistic\",\"dawn\",\"found\",\"dh\",\"financial_stability\",\"sketch\",\"derive\",\"clit\",\"election\",\"earshot\",\"damaged\",\"defensiveness\",\"reclaim\",\"self_preservation\",\"unreal\",\"diner\",\"afterthought\",\"typos\",\"runner\",\"alley\",\"aloud\",\"seafood\",\"restore\",\"cram\",\"x200b;it\",\"sexte\",\"rural_area\",\"mixed_race\",\"waitstaff\",\"dent\",\"aww\",\"appealing\",\"nigger\",\"dong\",\"piggyback\",\"gray_area\",\"friction\",\"eyebrow\",\"excusable\",\"portfolio\",\"eugenic\",\"discreetly\",\"antisocial\",\"thursday\",\"scalp\",\"prude\",\"pride_parade\",\"aids\",\"transitioning\",\"doggy\",\"status_quo\",\"respected\",\"wrestling\",\"antique\",\"chlamydia\",\"contexts\",\"pubic_hair\",\"electric_toothbrush\",\"forceful\",\"enlist\",\"russia\",\"adjective\",\"finding\",\"archaic\",\"50k\",\"cripple\",\"male_dominate\",\"rehearsal\",\"takeaway\",\"religiously\",\"sympathise\",\"tango\",\"st\",\"swallow_pride\",\"half_asse\",\"attacker\",\"luna\",\"extremist\",\"unloved\",\"mistrust\",\"jury\",\"beater\",\"inclusion\",\"madam\",\"tamper\",\"tally\",\"thot\",\"cuisine\",\"ingest\",\"phobic\",\"beautifully\",\"nta.the\",\"diplomatic\",\"micromanage\",\"reporter\",\"fafsa\",\"airbnb\",\"afaik\",\"mount\",\"ytaand\",\"ehh\",\"cooked\",\"knew\",\"depressive\",\"jet\",\"lobster\",\"devolve\",\"wedge\",\"discovery\",\"\\ud83e\\udd37\",\"sinner\",\"temptation\",\"judge_harshly\",\"bumper\",\"turmoil\",\"singer\",\"lemme\",\"displeasure\",\"oneself\",\"chronic_illness\",\"memento\",\"renter\",\"inspiration\",\"shark\",\"6th\",\"fella\",\"implied\",\"residential\",\"nappy\",\"anne\",\"accepting\",\"tan\",\"ovarian_cyst\",\"ocean\",\"r_thathappene\",\"pound_sand\",\"ethnically\",\"cooler\",\"tp\",\"melodramatic\",\"detective\",\"green_card\",\"foreigner\",\"allegation\",\"batshit_crazy\",\"adamantly\",\"pr\",\"becuase\",\"creator\",\"bargaining\",\"deploy\",\"rave\",\"wasteful\",\"voicemail\",\"profoundly\",\"cutting\",\"sincerity\",\"butterfly\",\"cutter\",\"dim\",\"aussie\",\"pencil\",\"scheduling\",\"bothered\",\"bumble\",\"visibility\",\"sephora\",\"patriarchy\",\"cant\",\"false_accusation\",\"interference\",\"housekeeping\",\"firsthand\",\"spur_moment\",\"schoolwork\",\"hunch\",\"desensitize\",\"brutally_honest\",\"generational\",\"loneliness\",\"crank\",\"sprinkle\",\"undeniably\",\"renew\",\"credible\",\"erection\",\"comp\",\"comb\",\"forgivable\",\"faux\",\"shush\",\"exceptional\",\"dom\",\"hah\",\"retreat\",\"spy\",\"lake\",\"seller\",\"strawberry\",\"foreskin\",\"shirtless\",\"8th_grade\",\"borderline_personality\",\"boast\",\"unjustified\",\"latina\",\"narc\",\"atlanta\",\"contrast\",\"oooh\",\"plot_twist\",\"amateur\",\"wallow\",\"betrayed\",\"irritation\",\"estrange\",\"prestigious\",\"reciprocation\",\"niche\",\"similarity\",\"breed_resentment\",\"md\",\"gripe\",\"assertion\",\"sd\",\"meetup\",\"trace\",\"reflect_poorly\",\"vehemently\",\"otoh\",\"jess\",\"witcher\",\"artwork\",\"unhygienic\",\"dysfunction\",\"critically\",\"sat\",\"faced\",\"\\ud83d\\ude05\",\"awe\",\"\\ud83d\\ude2d\",\"outraged\",\"horseshit\",\"pardon\",\"vigilant\",\"eshhe\",\"global\",\"caller\",\"frightening\",\"payout\",\"established\",\"northern\",\"r_pettyrevenge\",\"tread_carefully\",\"amusement\",\"sensation\",\"chronic_pain\",\"absurdly\",\"catcall\",\"asexuality\",\"\\\"the\",\"a+\",\"stiff\",\"unrealistic_expectation\",\"ldr\",\"cm\",\"locally\",\"feather\",\"germaphobe\",\"ss\",\"commendable\",\"footing\",\"mistress\",\"contraction\",\"uncertain\",\"x200b;also\",\"kkk\",\"data\",\"retroactively\",\"ntathere\",\"pave\",\"sinister\",\"ashe\",\"uncertain_term\",\"active_duty\",\"flour\",\"stellar\",\"social_media\",\"unequivocally\",\"attentive\",\"stir_pot\",\"ya'll\",\"laxative\",\"badmouth\",\"lethal\",\"latex\",\"shudder\",\"fag\",\"pls\",\"washroom\",\"grill_cheese\",\"corrupt\",\"academy\",\"jerry\",\"shenanigan\",\"introduction\",\"metric\",\"vocalize\",\"incite\",\"lowkey\",\"infront\",\"noun\",\"10x\",\"uninvolved\",\"kyle\",\"herd_immunity\",\"coma\",\"gram\",\"crippling\",\"hefty\",\"shortage\",\"rubber\",\"meddle\",\"construe\",\"hoard\",\"venmo\",\"biphobic\",\"forthcoming\",\"wbta\",\"audition\",\"harry_potter\",\"intrude\",\"seeing\",\"gm\",\"startle\",\"mac_cheese\",\"router\",\"shipping\",\"gestational\",\"catholic_church\",\"deep_breath\",\"hinge\",\"delight\",\"18th_birthday\",\"baseless\",\"underpaid\",\"vag\",\"thunder\",\"roomba\",\"positivity\",\"tap_shoulder\",\"'\",\"dice\",\"larry\",\"equity\",\"copy_paste\",\"farming\",\"selective\",\"prince\",\"gfm\",\"entrust\",\"baptize\",\"strawman\",\"/r_raisedbynarcissist\",\"natal\",\"timeframe\",\"/r_justnomil\",\"badge\",\"integrate\",\"soul_search\",\"temperament\",\"endeavor\",\"relevance\",\"betty\",\"buzz\",\"coherent\",\"unwritten\",\"amplify\",\"yta.this\",\"don\\u2018t\",\"yta.you're\",\"wwii\",\"tumor\",\"fascinating\",\"passover\",\"sufficiently\",\"fulfilling\",\"insightful\",\"messenger\",\"rock_boat\",\"hoodie\",\"uncontrollable\",\"tic\",\"reproduction\",\"repetitive\",\"aspire\",\"ytajust\",\"specialized\",\"tower\",\"withdrawal\",\"mandy\",\"spike\",\"carve\",\"holy_cow\",\"binary\",\"military_uniform\",\"pest\",\"behaved\",\"buckle\",\"lax\",\"hunter\",\"grovel\",\"refreshing\",\"inconvenienced\",\"attendee\",\"mainstream\",\"goat\",\"informal\",\"division_labor\",\"sleazy\",\"processing\",\"ntapeople\",\"willful\",\"file_complaint\",\"envious\",\"firefighter\",\"amicably\",\"ntanot\",\"probation\",\"vicinity\",\"avoidance\",\"mummy\",\"sos\",\"declaw_cat\",\"reel\",\"continued\",\"cellphone\",\"heater\",\"glory\",\"ntamy\",\"inflammatory\",\"jan\",\"millenial\",\"lieu\",\"offset\",\"snowball\",\"subscription\",\"verbatim\",\"caption\",\"nyu\",\"trained\",\"sexless\",\"negligible\",\"disruption\",\"ejaculate\",\"deceit\",\"mmm\",\"folder\",\"uninterrupted\",\"inequality\",\"grin\",\"limp\",\"prejudiced\",\"shockingly\",\"appetizer\",\"olympics\",\"facet\",\"instability\",\"screech\",\"1/10\",\"plantation\",\"free_reign\",\"territorial\",\"judge_judy\",\"dammit\",\"\\ud83d\\udea9\",\"harness\",\"scammer\",\"ac\",\"doctorate\",\"peed\",\"apathy\",\"narrow_minded\",\"iv\",\"cognitive_dissonance\",\"r_choosingbeggars\",\"nefarious\",\"envelope\",\"statutory_rape\",\"cafeteria\",\"unplanned_pregnancy\",\"videogame\",\"waiver\",\"middle_east\",\"urinal\",\"thirdly\",\"coping\",\"notebook\",\"downhill\",\"\\\"and\",\"essential_oil\",\"overpower\",\"gild\",\"marginalize\",\"locker\",\"taco_bell\",\"english_speaker\",\"turtle\",\"ammo\",\"compliance\",\"tiptoe\",\"mentally_unstable\",\"hollywood\",\"bundle\",\"relaxing\",\"nutritionist\",\"clumsy\",\"masturbating\",\"mosque\",\"confidential\",\"ding_ding_ding\",\"cold_sore\",\"affirm\",\"paste\",\"seduce\",\"academically\",\"nahif\",\"cucumber\",\"statute\",\"cordial\",\"amitheasshole\",\"conversely\",\"myriad\",\"burner\",\"starting\",\"4yo\",\"yall\",\"cognizant\",\"unsatisfied\",\"grate\",\"rewrite\",\"enrol\",\"hotline\",\"sweep_rug\",\"october\",\"reproductive_coercion\",\"halal\",\"streamer\",\"caffeine\",\"paris\",\"yr\",\"relinquish\",\"easier\",\"butcher\",\"monumental\",\"preclude\",\"seconded\",\"intersection\",\"attracted\",\"youtube_video\",\"ap\",\"misfortune\",\"republican\",\"regional\",\"bandwagon\",\"cervix\",\"rocket_science\",\"irresponsibility\",\"baker\",\"unflattering\",\"garner\",\"infantilize\",\"singing\",\"heed\",\"affirmation\",\"blocker\",\"drunkenly\",\"deficit\",\"evolution\",\"nee\",\"crusade\",\"misgender\",\"web\",\"susceptible\",\"horizon\",\"safeword\",\"microaggression\",\"pixie_cut\",\"ehs\",\"cultural_norm\",\"cluster\",\"dissolve\",\"vengeance\",\"clusterfuck\",\"nudge\",\"firing\",\"guacamole\",\"madison\",\"paycheck_paycheck\",\"thailand\",\"consciousness\",\"drum\",\"olive\",\"willy_nilly\",\"gregory\",\"innate\",\"lining\",\"vice\",\"snippy\",\"block_social_medium\",\"overwork\",\"this-\",\"boobs\",\"obv\",\"flush_tampon\",\"tread_lightly\",\"intellectually\",\"usher\",\"dote\",\"itchy\",\"ibs\",\"wean\",\"plural\",\"batman\",\"fertile\",\"middle_schooler\",\"biphobia\",\"distressed\",\"vigilante\",\"seize\",\"bracket\",\"disciplinary\",\"patrol\",\"thyroid\",\"capitalize\",\"7th\",\"agreeable\",\"rebellion\",\"blameless\",\"treatable\",\"vulva\",\"weasel\",\"secretive\",\"illusion\",\"100x\",\"protocol\",\"ink\",\"greek\",\"heating\",\"paraphrase\",\"deviate\",\"cyber\",\"bloke\",\"bravo\",\"eastern\",\"ntasound\",\"nta.you're\",\"amaze\",\"shouting\",\"massager\",\"claw\",\"veg\",\"ray\",\"\\\"i'm\",\"symbolic\",\"amusement_park\",\"afloat\",\"biracial\",\"signature\",\"specialty\",\"win_lottery\",\"density\",\"trendy\",\"bagel\",\"inexperience\",\"settlement\",\"unsympathetic\",\"martial_art\",\"tim\",\"sham\",\"unfold\",\"unprovoked\",\"continuous\",\"equivalence\",\"skeleton\",\"boston\",\"creative_writing\",\"certification\",\"strife\",\"marital_asset\",\"anti_vaxx\",\"youngest\",\"fixable\",\"e_mail\",\"stipulate\",\"indignant\",\"lisa\",\"unappreciative\",\"extra_curricular\",\"filipino\",\"olympic\",\"menstruation\",\"cyst\",\"r_relationshipadvice\",\"bakery\",\"conditioner\",\"shitbag\",\"vandalism\",\">_sub_submitter\",\"tipsy\",\"nonverbal\",\"molestation\",\"renovation\",\"growl\",\"witty\",\"transphobe\",\"invasion\",\"ma\",\"squish\",\"dresser\",\"defy\",\"waive\",\"sponsor\",\"plastic_surgery\",\"nagging\",\"erin\",\"false_equivalency\",\"hrt\",\"months\",\"waffle\",\"aback\",\"pamper\",\"patriarchal\",\"hose\",\"fluffy\",\"salt_wound\",\"reaffirm\",\"sitting\",\"public_transit\",\"anus\",\"lucrative\",\"pelvic\",\"socialise\",\"billy\",\"abruptly\",\"lace\",\"minecraft\",\"legend\",\"costly\",\"choosing\",\"engine\",\"repress\",\"rabbit_hole\",\"noticeably\",\"gym_membership\",\"condescension\",\"degenerate\",\"reassess\",\"flick\",\"pudding\",\"naw\",\"lipstick\",\"character_flaw\",\"overheard\",\"hipaa\",\"contention\",\"coal\",\"punching_bag\",\"cheesecake\",\"complexity\",\"inventory\",\"soo\",\"ytaso\",\"weirdness\",\"organ_donation\",\"detract\",\"fourteen\",\"dumpster_diving\",\"respectively\",\"advancement\",\"accustomed\",\"shoplift\",\"fiddle\",\"chaperone\",\"ammunition\",\"originate\",\"placenta\",\"wack\",\"trespassing\",\"arguement\",\"hamper\",\"undesirable\",\"opposition\",\"shitload\",\"purge\",\"complement\",\"observer\",\"banking\",\"daylight\",\"resistant\",\"nsfw\",\"statistical\",\"nutritionally\",\"nah.you\",\"trey\",\"yta.the\",\"palette\",\"avocado\",\"antagonistic\",\"unworthy\",\"productivity\",\"native_americans\",\"robbery\",\"willfully_ignorant\",\"shirk\",\"forge\",\"stepkid\",\"availability\",\"vodka\",\"vengeful\",\"dear_lord\",\"topping\",\"cupboard\",\"powder\",\"philosophical\",\"spina_bifida\",\"flare\",\"resonate\",\"crucify\",\"metoo\",\"r_choosingbeggar\",\"mediation\",\"eagle\",\"arousal\",\"fad\",\"squabble\",\"flying\",\"girls\",\"retribution\",\"hurl\",\"slot\",\"babysat\",\"falsely_accuse\",\"scripture\",\"cleanup\",\"jog\",\"entertaining\",\"antic\",\"devoted\",\"egg_hunt\",\"fussy\",\"hideous\",\"flesh_blood\",\"misophonia\",\"packed\",\"conflicting\",\"ole\",\"toiletry\",\"bipolar_disorder\",\"withholding\",\"ytahow\",\"payback\",\"9th\",\"progression\",\"lotta\",\"9:30\",\"greasy\",\"prevail\",\"gas_lighting\",\"swell\",\"editing\",\"heavy_lifting\",\"peanut_allergy\",\"preferential_treatment\",\"nta.i'm\",\"esh.you\",\"inquire\",\"grandad\",\"amp\",\"nah.i\",\"flashback\",\"audiobook\",\"blackface\",\"mope\",\"tourette\",\"profound\",\"fond_memory\",\"enthusiast\",\"gameboy\",\"domain\",\"vilify\",\"coping_skill\",\"vendor\",\"emily\",\"inspect\",\"ps4\",\"thick_skin\",\"warp\",\"ytafor\",\"considerable\",\"downtime\",\"lighting\",\"que\",\"preachy\",\"gatekeeper\",\"xx\",\"tempting\",\"hatch\",\"hairdresser\",\"eavesdrop\",\"ntawhy\",\"greeting\",\"prod\",\"rattle\",\"commentor\",\"tee\",\"overreacted\",\"catfish\",\"estrogen\",\"explosive\",\"taker\",\"royal\",\"\\ud83d\\ude01\",\"pleasurable\",\"subsequently\",\"funniest\",\"lineage\",\"nahyou're\",\"subset\",\"ford\",\"cheesy\",\"defeat_purpose\",\"pompous\",\"strangely\",\"polar\",\"outgoing\",\"guardianship\",\"persona\",\"aren't\",\"drift_apart\",\"jelly\",\"exponentially\",\"modicum\",\"peach\",\"glimpse\",\"discrepancy\",\"figuratively\",\"seethe\",\"remarried\",\"switzerland\",\"blackout\",\"efficiently\",\"excel\",\"normalized\",\"bypass\",\"deport\",\"foresight\",\"deli\",\"shrimp\",\"oreos\",\"shitstorm\",\"fried\",\"spanking\",\"outward\",\"desperation\",\"thrift_store\",\"positive_reinforcement\",\"tmi\",\"procrastinate\",\"slimy\",\"preemptively\",\"enact\",\"evangelical\",\"spread_rumor\",\"frog\",\"fundamentalist\",\"revert\",\"indirect\",\"midst\",\"commit_fraud\",\"jade\",\"worrisome\",\"rubbish\",\"idgaf\",\"lamb\",\"bland\",\"programmer\",\"z\",\"sucks\",\"ingrained\",\"air_mattress\",\"listening\",\"mistakenly\",\"spending_habit\",\"alienated\",\"tweet\",\"attest\",\"sign_birth_certificate\",\"it\\u2018s\",\"outgrow\",\"smother\",\"il\",\"wheat\",\"minimise\",\"yeast_infection\",\"precise\",\"claws\",\"\\\"so\",\"michael_scott\",\"port\",\"greece\",\"premarital\",\"disproportionately\",\"profanity\",\"chauffeur\",\"constant_reminder\",\"swollen\",\"realm_possibility\",\"homo\",\"biggie\",\"busybody\",\"ytaa\",\"clitoris\",\"codependent\",\"whale\",\"scoff\",\"inkling\",\"accepted\",\"notorious\",\"dying\",\"tutoring\",\"reap_sow\",\"glorious\",\"isis\",\"calculator\",\"quirky\",\"wayyy\",\"situational\",\"bowel\",\"revolt\",\"gimme\",\"dumpster_fire\",\"incase\",\"disturbance\",\"payday_loan\",\"mph\",\"oppressive\",\"hurting\",\"hawk\",\"dehumanize\",\"shite\",\"widespread\",\"critical_thinking\",\"lengthy\",\"snooping\",\"marrying\",\"visceral\",\"staying\",\"superhero\",\"kate\",\"ensue\",\"lactation\",\"tummy\",\"stole\",\"cuckold\",\"eric\",\"airsoft\",\"disposal\",\"publicity\",\"ytayou\\u2019re\",\"nahthis\",\"mediate\",\"tug\",\"stepchild\",\"responder\",\"ohhh\",\"gush\",\"singapore\",\"sadden\",\"circlejerk\",\"1000x\",\"characterize\",\"helping\",\"blowjobs\",\"\\\"she\",\"consultation\",\"anguish\",\"filth\",\"10th\",\"helmet\",\"foodie\",\"goblin\",\"troublesome\",\"sickly\",\"effectiveness\",\"final_straw\",\"substantially\",\"predominantly\",\"motherly\",\"pajama\",\"reflective\",\"harm_foul\",\"rehabilitate\",\"managerial\",\"estranged\",\"swift\",\"rhetorical\",\"concur\",\"auntie\",\"henry\",\"gambling\",\"organized\",\"unavoidable\",\"immaturely\",\"vapid\",\"platinum\",\"painfully_obvious\",\"ditto\",\"shaky\",\"whiskey\",\"\\\"but\",\"yield\",\"spain\",\"undue\",\"begrudge\",\"motivator\",\"ntaa\",\"slag\",\"interracial\",\"smoking_drinking\",\"latin\",\"ecstatic\",\"species\",\"apathetic\",\"dandy\",\"urinate\",\"overshadow\",\"liz\",\"rightful\",\"lactose_intolerant\",\"nahyour\",\"ship_sail\",\"him-\",\"terrorize\",\"\\ud83d\\udc4c\",\"chump\",\"thats\",\"unnatural\",\"swearing\",\"dysmorphia\",\"unconsciously\",\"unsupervised\",\"serial_cheater\",\"quieter\",\"brad\",\"pagan\",\"stepchildren\",\"showering\",\"digest\",\"mra\",\"defuse\",\"secondhand\",\"enthusiastically\",\"warrior\",\"homemaker\",\"flimsy\",\"skype\",\"undiagnose\",\"honorable\",\"nuanced\",\"nonbinary\",\"adjacent\",\"downgrade\",\"adolescence\",\"extraordinarily\",\"memo\",\"judaism\",\"sugarcoat\",\"ianal\",\"nosey\",\"stre\",\"ytadon't\",\"illegal_eviction\",\"70\",\"marker\",\"grease\",\"automod\",\"mistreatment\",\"didn\\u2019t\",\"sufferer\",\"ytabut\",\"lied\",\"negative_connotation\",\"onset\",\"loli\",\"mexicans\",\"3d\",\"mutilation\",\"prostate\",\"outdoors\",\"reframe\",\"personnel\",\"white_knighting\",\"exploration\",\"victoria\",\"affirmative\",\"sec\",\"haired\",\"compelling\",\"eighteen\",\"disqualify\",\"thirteen\",\"irreparably\",\"reporting\",\"stride\",\"nb\",\"activate\",\"brew\",\"\\u28e4\",\"hugging\",\"competitor\",\"communicative\",\"bent_shape\",\"\\u28c0\",\"lens\",\"cold_hearted\",\"forcefully\",\"masseuse\",\"kg\",\"^|\",\"recreational\",\"epilepsy\",\"classist\",\"shouldn't\",\"pepperoni_pizza\",\"accumulate\",\"painkiller\",\"liner\",\"cushion\",\"superiority_complex\",\"\\\"hey\",\"rebellious\",\"outdate\",\"trump_supporter\",\"bathtub\",\"yata\",\"isle\",\"services\",\"spectacle\",\"laser\",\"grape\",\"ramble\",\"serial\",\"integral\",\"ytadude\",\"emoji\",\"splash\",\"boo_hoo\",\"\\u281b\",\"poke_hole\",\"intensity\",\"selectively\",\"pp\",\"99.9\",\"foreseeable_future\",\"bullet_dodge\",\"bite_tongue\",\"emasculate\",\"felon\",\"pancake\",\"friendzone\",\"fighter\",\"incomplete\",\"punchline\",\"keychain\",\"cocky\",\"schizophrenia\",\"jizz\",\"tirade\",\"immunity\",\"concerning\",\"affluent\",\"prisoner\",\"capture\",\"curly\",\"rein\",\"femininity\",\"smirk\",\"freeload\",\"raising\",\"unclean\",\"mow\",\"swastika\",\"giving\",\"zero_tolerance\",\"patiently\",\"mediator\",\"tenth\",\"grooming\",\"jk\",\"parrot\",\"ing\",\"quotation\",\"flack\",\"sadistic\",\"pda\",\"numb\",\"ahhh\",\"goodness_sake\",\"rotate\",\"potty_train\",\"freakin\",\"solidly\",\"hustle\",\"abrasive\",\"beverage\",\"diss\",\"sorrow\",\"fulfillment\",\"ngl\",\"idiocy\",\"crumble\",\"cyclist\",\"compulsion\",\"euthanasia\",\"nerdy\",\"embellish\",\"nicotine\",\"pertain\",\"voucher\",\"carbon\",\"knuckle\",\"roller_coaster\",\"elevate\",\"maul\",\"programming\",\"costco\",\"ear_plug\",\"viewing\",\"sweden\",\"assholishness\",\"optimal\",\"intimately\",\"sayin\",\"jointly\",\"collector\",\"knob\",\"harvest\",\"simplify\",\"justnoso\",\"conflicted\",\"watermelon\",\"openness\",\"ostensibly\",\"compose\",\"nerf_gun\",\"assurance\",\"sidenote\",\"jackie\",\"jake\",\"digestive\",\"memorable\",\"gallery\",\"vaginismus\",\"unmarried\",\"opera\",\"accountant\",\"transmission\",\"casino\",\"hardworking\",\"endlessly\",\"semen\",\"tote\",\"coparent\",\"existing\",\"disinterest\",\"behavioural\",\"here-\",\"testicle\",\"hyperbolic\",\"flush_toilet\",\"crude\",\"sweeping\",\"vitriol\",\"supremely\",\"subordinate\",\"crab\",\"friends\",\"devout\",\"overdramatic\",\"playstation\",\"lgbtq_community\",\"catty\",\"contradictory\",\"morbid\",\"barking\",\"picking\",\"contaminate\",\"affront\",\"hurdle\",\"goer\",\"heaven_forbid\",\"roleplay\",\"licensed\",\"vietnam\",\"organic\",\"bandaid\",\"menopause\",\"renege\",\"sanctimonious\",\"poisonous\",\"educated\",\"tube_tie\",\"pervasive\",\"toothpaste\",\"ranking\",\"hopeful\",\"25k\",\"gummie\",\"oz\",\"satire\",\"proposing\",\"swimwear\",\"daft\",\"recycling\",\"compromising\",\"cremate\",\"disgustingly\",\"sow\",\"circumvent\",\"blare\",\"infinite\",\"rude_awakening\",\"chronically\",\"here**|**esh****no_hole\",\"portrait\",\"facade\",\"logo\",\"skate\",\"influencer\",\"nintendo\",\"revenue\",\"uncertainty\",\"impaired\",\"novelty\",\"metro\",\"sideline\",\"nahshe\",\"conflict_resolution\",\"fraught\",\"omfg\",\"simulate\",\"complaining\",\"constitution\",\"nickel\",\"laura\",\"motor\",\"inflexible\",\"josh\",\"detector\",\"x200b;the\",\"almond\",\"noooo\",\"|_--:**you're\",\"goad\",\"waltz\",\"treadmill\",\"scissor\",\"dept\",\"unprotecte\",\"kevin\",\"sling\",\"chronically_ill\",\"mustache\",\"incompetence\",\"gray\",\"audio_book\",\"power_imbalance\",\"uneven\",\"uninterested\",\"staple\",\"devotion\",\"consolation\",\"homelessness\",\"topless\",\"raid\",\"altercation\",\"karate\",\"mole\",\"afro\",\"habitually\",\"obscene\",\"tuna\",\"60k\",\"pirate\",\"party_|**nta****everyone_sucks\",\"gloat\",\"greg\",\"dough\",\"|**yta**|you're_hole\",\"\\ud83e\\udd37_\\u200d_\\u2642_\\ufe0f\",\"couldn't\",\"spoiler_alert\",\"pursuit\",\"opiate\",\"ponder\",\"customary\",\"emulate\",\"forgave\",\"exes\",\"ytafirst\",\"cervical_cancer\",\"blowback\",\"frickin\",\"publically\",\"unhappiness\",\"guinea_pig\",\"21st\",\"shrine\",\"infoi\",\"esh.your\",\"nephews\",\"practitioner\",\"cooperate\",\"plumbing\",\"veer\",\"respite\",\"idle\",\"ram\",\"sub_submitter\",\"zipper\",\"testament\",\"wiggle\",\"morally_superior\",\"relentlessly\",\"dawg\",\"extort\",\"counterpoint\",\"surveillance\",\"cremation\",\"breeding\",\"alice\",\"bulimic\",\"digit\",\"insensitivity\",\"toughen\",\"dubious\",\"nye\",\"handmade\",\"lifelong_commitment\",\"urgency\",\"prominent\",\"ableist\",\"tracker\",\"rounded\",\"dupe\",\"quest\",\"decidedly\",\"beth\",\"teeny\",\"fame\",\"generously\",\"tailgate\",\"homeschool\",\"lee\",\"extrapolate\",\"blacklist\",\"intolerable\",\"purity\",\"imperative\",\"bloodline\",\"vanish\",\"cliff\",\"infancy\",\"cus\",\"platter\",\"unpopularopinion\",\"finite\",\"lighthearted\",\"years\",\"hours\",\"waaay\",\"mileage\",\"jeweler\",\"super_duper\",\"repost\",\"merry\",\"angst\",\"outstanding\",\"taylor\",\"pre_nup\",\"ranch\",\"cheeseburger\",\"completly\",\"hail\",\"cf\",\"backpacking\",\"jenny\",\"imagery\",\"douchy\",\"emt\",\"conversational\",\"sunscreen\",\"unwise\",\"reinforcement\",\"explosion\",\"peeve\",\"dole\",\"perfection\",\"privy\",\"irreparable_damage\",\"uncare\",\"jeep\",\"powerless\",\"\\u2764\",\"blue_collar\",\"weaponize\",\"unfriend\",\"cig\",\"roman\",\"labia\",\"carte_blanche\",\"bachelorette\",\"priceless\",\"midwest\",\"mia\",\"that-\",\"cold_turkey\",\"broach\",\"wart\",\"newfound\",\"lapdance\",\"coexist\",\"balcony\",\"blown\",\"washer_dryer\",\"getaway\",\"eternal\",\"paramount\",\"thc\",\"monopoly\",\"socialization\",\"absentee\",\"parole\",\"drool\",\"shaft\",\"erode\",\"halt\",\"bo\",\"romeo_juliet\",\"poker\",\"fairy_tale\",\"foresee\",\"veil\",\"deathbed\",\"underhanded\",\"distinctly\",\"vandalize\",\"futon\",\"sooner\",\"boycott\",\"retort\",\"choir\",\"proverbial\",\"bmw\",\"\\\\^\",\"wrinkle\",\"segregate\",\"salesman\",\"tarantula\",\"feud\",\"hindsight_20/20\",\"ant\",\"denigrate\",\"liberty\",\"plaster\",\"constitute_emergency\",\"venting\",\"barbie\",\"champagne\",\"robin\",\"hover\",\"yta.not\",\"therefor\",\"fandom\",\"harrassment\",\"disprove\",\"iceberg\",\"ordinance\",\"axe\",\"decompress\",\"soapbox\",\"ego_boost\",\"descriptor\",\"summon\",\"woulda\",\"\\u2800_\\u2800\",\"x200b;that\",\"pushing\",\"ninja\",\"micro_aggression\",\"monitoring\",\"remarkably\",\"upward\",\"boredom\",\"peel\",\"weeks\",\"broach_subject\",\"lavish\",\"redundant\",\"sperm_donation\",\"tide\",\"anonymity\",\"zealand\",\"states\",\"neurotic\",\"whew\",\"dialysis\",\"squarely\",\"humblebrag\",\"aryan\",\"acre\",\"hangover\",\"fo\",\"opponent\",\"miserably\",\"infraction\",\"autoimmune\",\"faq](https://www.reddit.com_r_amitheasshole\",\"relaxation\",\"manic\",\"questioning\",\"soulmate\",\"celibate\",\"evil_stepmother\",\"peddle\",\"contentious\",\"invite_julia\",\"rapid\",\"purity_ball\",\"soooooo\",\"\\\"you're\",\"libel\",\"doxxe\",\"sugary\",\"dms\",\"et\",\"reluctantly\",\"interestingly\",\"therapeutic\",\"startup\",\"accounting\",\"macbook\",\"leather\",\"fabulous\",\"hahah\",\"unplanned\",\"miff\",\"thorough\",\"perishable\",\"tifu\",\"moral_dilemma\",\"delegate\",\"homeschooling\",\"synthetic\",\"consolation_prize\",\"\\u2122\",\"android\",\"ha_ha\",\"ofcourse\",\"gofundme\",\"ash\",\"cheque\",\"ons\",\"loom\",\"heroic\",\"scorched_earth\",\"chick_fil\",\"spoken\",\"\\u2836\",\"mockery\",\"banner\",\"unprotected\",\"playfully\",\"ytaalso\",\"percentile\",\"salvation\",\"adrenaline\",\"govern\",\"shepherd\",\"timmy\",\"hilariously\",\"receiver\",\"celiac\",\"\\u2800_\\u2800_\\u2800\",\"\\u28ff_\\u28ff\",\"buisness\",\"stepbrother\",\"rekindle\",\"enclose\",\"mini_fridge\",\"reversible\",\"snappy\",\"imbecile\",\"flea\",\"jay\",\"debit_card\",\"prorevenge\",\"ambush\",\"dvd\",\"comma\",\"transparency\",\"outcast\",\"ploy\",\"sarcastically\",\"pete\",\"monthly_payment\",\"4.0\",\"homewrecker\",\"testify\",\"lizard\",\"bankruptcy\",\"calculation\",\"presumption\",\"grabby\",\"tiresome\",\"pepper_spray\",\"r_iamverybadass\",\"\\ud83d\\udc4f_\\ud83d\\udc4f\",\"dv\",\"murderedbyword\",\"pathway\",\"preposterous\",\"reconnecte\",\"symbolize\",\"mysterious\",\"shitposte\",\"antidepressant\",\"mannered\",\"shuffle\",\"executor\",\"surcharge\",\"segregation\",\"indians\",\"nana\",\"french_fry\",\"suffocate\",\"caterer\",\"buff\",\"formality\",\"yt\",\"non_negotiable\",\"gyno\",\"pornhub\",\"instinctively\",\"minefield\",\"womens\",\"audio\",\"snobby\",\"attached\",\"hanging\",\"cannabis\",\"charger\",\"reversal\",\"flirtatious\",\"pixie\",\"petite\",\"hump\",\"8-year\",\"threatened\",\"decor\",\"overblown\",\"index\",\"blogger\",\"concise\",\"louisiana\",\"^^^^automod_copy\",\"denomination\",\"extensively\",\"nail_coffin\",\"faint\",\"stoic\",\"shocker\",\"punitive\",\"protector\",\"favouritism\",\"spectator\",\"sentient\",\"21st_century\",\"profess\",\"aspergers\",\"altruistic\",\"cavalier\",\"rake\",\"crumb\",\"le\",\"lone\",\"impending\",\"dyslexia\",\"freshly\",\"turner\",\"visually\",\"ob_gyn\",\"categorically\",\"pledge\",\"\\u00b0\",\"gd\",\"unempathetic\",\"informative\",\"interviewer\",\"socially_inept\",\"wayyyy\",\"expecting\",\"music_festival\",\"teddy_bear\",\"downer\",\"cutoff\",\"refrigerator\",\"linda\",\"particle\",\"catholicism\",\"neurological\",\"confidently\",\"title_misleading\",\"overrule\",\"mit\",\"steel\",\"askreddit\",\"repressed\",\"patronising\",\"crunch\",\"actuality\",\"organisation\",\"rocket\",\"usd\",\"bedside\",\"crossing\",\"beck\",\"recur\",\"luke\",\"reluctance\",\"backtrack\",\"criminally\",\"dislikes\",\"perv\",\"portuguese\",\"den\",\"handwritten\",\"spotless\",\"shortcoming\",\"premeditate\",\"implore\",\"duplicate\",\"\\\"he\",\"inhumane\",\"middle_eastern\",\"stroke_ego\",\"maga\",\"platonically\",\"encroach\",\"reform\",\"suburban\",\"brit\",\"smarter\",\"businessman\",\"seated\",\"preferred_pronoun\",\"critic\",\"apologist\",\"quack\",\"hyperemesis\",\"unintended\",\"burial\",\"spontaneously\",\"jeans\",\"godmother\",\"oversensitive\",\"inspector\",\"stanford\",\"gran\",\"cbd\",\"r_iamverysmart\",\"scammed\",\"frightened\",\"mortality_rate\",\"mis\",\"physiological\",\"ftfy\",\"overeat\",\"photo_album\",\"madness\",\"rationality\",\"barn\",\"baffling\",\"beg_forgiveness\",\"scrapbook\",\"backward\",\"monopolize\",\"stifle\",\"multiply\",\"16-year\",\"glitter\",\"here**|**nah****not\",\"mma\",\"inferiority\",\"hollow\",\"sleepy\",\"spooning\",\"pis\",\"blab\",\"npd\",\"los\",\"absurdity\",\"nta.as\",\"maximize\",\"mint\",\"african_american\",\"booking\",\"preventative\",\"photoshop\",\"recreate\",\"200k\",\"metaphorically\",\"3.0\",\"stunning\",\"thai\",\"transform\",\"valentines\",\"constructively\",\"boxing\",\"flip_flop\",\"20-year\",\"reign\",\"ohio\",\"conventional\",\"lotto\",\"squatter\",\"creativity\",\"torn\",\"unapologetic\",\"memorize\",\"plea\",\"undie\",\"shortsighted\",\"obvs\",\"sixth\",\"knows\",\"signify\",\"muh\",\"deplorable\",\"robe\",\"quota\",\"to\",\"mono\",\"diagnosed\",\"exs\",\"30th\",\"authentic\",\"overpriced\",\"autonomous\",\"digress\",\"caricature\",\"1:1\",\"subtract\",\"redo\",\"holder\",\"fulltime\",\"sprint\",\"intuition\",\"irritable\",\"strangle\",\"italians\",\"ntaso\",\"judging\",\"tarnish\",\"enforceable\",\"single_handedly\",\"fog\",\"pms\",\"nta.that\",\"insomnia\",\"posture\",\"wasn't\",\"affiliation\",\"ring_doorbell\",\"purposeful\",\"inclination\",\"uphill\",\"gp\",\"arbitrarily\",\"dual\",\"nonexistent\",\"catastrophic\",\"ketchup\",\"slipper\",\"steep\",\"arthritis\",\"ron\",\"flaccid\",\"moving\",\"amber\",\"tasteless\",\"societal_norm\",\"matching\",\"minuscule\",\"hungover\",\"profitable\",\"arbiter\",\"biscuit\",\"precede\",\"euphemism\",\"firework\",\"biting\",\"systemic\",\"\\ud83c\\udffc\",\"od\",\"de_facto\",\"adam\",\"intimidation\",\"panel\",\"\\ud83d\\ude2c\",\"undergraduate\",\"iota\",\"civic\",\"duress\",\"fedora\",\"seep\",\"apple_orange\",\"\\u201dthat\",\"deathly\",\"innocent_bystander\",\"momentary\",\"pathological\",\"way-\",\"buffet\",\"isolated_incident\",\"recoup\",\"plethora\",\"goalpost\",\"inaction\",\"googling\",\"overt\",\"nigerian\",\"parental_alienation\",\"\\ud83d\\ude09\",\"pimp\",\"charade\",\"comforting\",\"ohhhh\",\"rollercoaster\",\"judgey\",\"sliver\",\"roofie\",\"whiney\",\"pint\",\"poem\",\"simplistic\",\"ww2\",\"copper_iud\",\"eyesight\",\"wishy_washy\",\"gynecologist\",\"slew\",\"nta.and\",\"infowhy\",\"seeking\",\"microphone\",\"idolize\",\"licence\",\"fondly\",\"starvation\",\"gist\",\"proactively\",\"canoe\",\"unicef\",\"20,000\",\"avail\",\"suspiciously\",\"speeding\",\"sara\",\"justno\",\"expend\",\"disallow\",\"\\u201dit\",\"modesty\",\"brexit\",\"impairment\",\"reside\",\"messaging\",\"vegetarianism\",\"politics\",\"aggressor\",\"blond\",\"divert\",\"sponge\",\"lulu\",\"ultra_conservative\",\"almond_milk\",\"scandalous\",\"15-year\",\"jumping\",\"footstep\",\"wacky\",\"bicycle\",\"fluff\",\"palm\",\"deductible\",\"\\ud83e\\udd37_\\ud83c\\udffb\\u200d\",\"trans-\",\"discern\",\"coincide\",\"4x\",\"rupture\",\"usb\",\"appoint\",\"rationalization\",\"merchandise\",\"clutter\",\"hoarding\",\"overload\",\"await\",\"farmer\",\"fess\",\"repugnant\",\"islamic\",\"rigorous\",\"coz\",\"sweatpant\",\"detergent\",\"recycle\",\"provision\",\"dyslexic\",\"perpetually\",\"brock\",\"woodwork\",\"aforementioned\",\"almanac\",\"amendment\",\"joey\",\"colorado\",\"craze\",\"defenseless\",\"advocacy\",\"tolerable\",\"radically\",\"muscular\",\"negge\",\"verbalize\",\"cooker\",\"stale\",\"don\",\"dependence\",\"cheeky\",\"cheapskate\",\"gutte\",\"leer\",\"confidentiality\",\"outer\",\"genre\",\"bouquet\",\"shriek\",\"flaky\",\"fairytale\",\"interrogate\",\"obama\",\"ingrown\",\"exec\",\"bliss\",\"smth\",\"faq\",\"abnormality\",\"yta.first\",\"t.\",\"ballistic\",\"wreak_havoc\",\"virtue_signal\",\"puff\",\"mothers\",\"adjusted\",\"iata\",\"tryna\",\"contingent\",\"relentless\",\"scatter\",\"trusted\",\"severance\",\"quid\",\"bummed\",\"doorknob\",\"memorabilia\",\"knee_jerk\",\"robyn_f.\",\"cinderella\",\"ntadon't\",\"obnoxiously\",\"2,000\",\"vacuum_cleaner\",\"conditioning\",\"inhibition\",\"iced\",\"misbehaving\",\"selling\",\"burnout\",\"manually\",\"coordinator\",\"throne\",\"deter\",\"reminisce\",\"cancellation\",\"easter_egg_hunt\",\"longtime\",\"star_wars\",\"deduct\",\"buzzword\",\"5'10\",\"mutation\",\"panicked\",\"overdue\",\"farting\",\"tunnel\",\"unusually\",\"ahold\",\"recoil\",\"statue\",\"ntafirst\",\"disrespectfully\",\"nah.it\",\"robert\",\"pam\",\"pragmatic\",\"tshirt\",\"band_aid\",\"flavour\",\"blood_clot\",\"renee\",\"opener\",\"bobby\",\"functionally\",\"mailbox\",\"magnet\",\"checkup\",\"contingency\",\"contrary_popular\",\"fracture\",\"disagreeing\",\"glaring\",\"bulb\",\"bogus\",\"dishearten\",\"leniency\",\"bid\",\"snotty\",\"snot\",\"nightly\",\"outset\",\"invoice\",\"booster\",\"traumatise\",\"6-year\",\"pine\",\"formal_attire\",\"thay\",\"thrilled\",\"descend\",\"insufficient\",\"painless\",\"cringeworthy\",\"dc\",\"inpatient\",\"dismissal\",\"disloyal\",\"inspection\",\"sterilization\",\"waking\",\"ow\",\"lure\",\"moderately\",\"rookie\",\"habitual\",\"surefire\",\"og\",\"8th\",\"i\\u2018m\",\"bonnie\",\"share&utm_medium\",\"owl\",\"supper\",\"fh\",\"smartass\",\"pretense\",\"rick\",\"nutshell\",\"lookout\",\"claire\",\"pendant\",\"scotland\",\"soil\",\"pitchfork\",\"exclusionary\",\"harmony\",\"rom_com\",\"disapproval\",\"sac\",\"gymnast\",\"sparkle\",\"excruciating\",\"trusting\",\"clone\",\"squad\",\"prolly\",\"nta.my\",\"humble_brag\",\"stereotypically\",\"muzzle\",\"ingrain\",\"arizona\",\"optic\",\"tighten\",\"tl_dr\",\"breeze\",\"refugee\",\"refusing\",\"illegitimate\",\"filing\",\"welcoming\",\"mismatch\",\"caucasian\",\"transgenderism\",\"complexion\",\"daytime\",\"goth\",\"empowerment\",\"warranty\",\"icing\",\"beware\",\"gossipy\",\"indigenous\",\"70/30\",\"broom\",\"stunted\",\"diving\",\"staggering\",\"icy\",\"recount\",\"3yo\",\"expected\",\"youtuber\",\"misbehavior\",\"declaration\",\"vibration\",\"transpire\",\"thinly\",\"sterile\",\"butch\",\"f*ck\",\"eshthe\",\"plop\",\"april_fools\",\"belittling\",\"bi_erasure\",\"investigator\",\"plow\",\"o.o\",\"xenophobic\",\"totesmessenger\",\"paying\",\"traction\",\"flashy\",\"pea\",\"whining\",\"stoke\",\"disintereste\",\"irreversible\",\"victim_blaming\",\"p.s\",\"ime\",\"eshit\",\"incoming\",\"scratching\",\"humorous\",\"depending\",\"snide_remark\",\"aye\",\"dietician\",\"alas\",\"compliant\",\"fragile_masculinity\",\"baked\",\"irreplaceable\",\"ymmv\",\"swedish\",\"pt\",\"infowhat\",\"shag\",\"uncomfortably\",\"objectifying\",\"stomping\",\"ntaalso\",\"replicate\",\"heartedly\",\"waddle\",\"gourmet\",\"solace\",\"diagnostic\",\"depict\",\"insertion\",\"saggy\",\"mixture\",\"swinge\",\"testicular\",\"olive_branch\",\"stag\",\"despair\",\"18-year\",\"druggie\",\"tubal_ligation\",\"stereo\",\"trader\",\"maniac\",\"catholics\",\"hg\",\"pricing\",\"incidentally\",\"utero\",\"park_ranger\",\"ntatell\",\"alzheimer\",\"omission\",\"jest\",\"b12\",\"cosign\",\"nightclub\",\"dicke\",\"hierarchy\",\"plz\",\"reliably\",\"stealthing\",\"sunny\",\"wrapping\",\"jewellery\",\"mercedes\",\"tentatively\",\"affected\",\"60/40\",\"deficient\",\"projecting\",\"uppity\",\"mellow\",\"unbalanced\",\"seventeen\",\"teamwork\",\"neo_nazi\",\"accuracy\",\"bawl\",\"tonne\",\"justifie\",\"cheste\",\"nick\",\"huff\",\"\\ud83e\\udd37_\\ud83c\\udffc\\u200d_\\u2640_\\ufe0f\",\"categorize\",\"replaceable\",\"trading\",\"y.\",\"anon\",\"teller\",\"descent\",\"carelessness\",\"longterm\",\"jazz\",\"pb&j\",\"ytaedit\",\"abc\",\"syllabus\",\"developer\",\"extenuate_circumstance\",\"constraint\",\"stabilize\",\"marginalized\",\"flunk\",\"op-\",\"speedo\",\"13k\",\"apnea\",\"dogs\",\"stimulus\",\"w_e\",\"naming\",\"grapple\",\"tupperware\",\"cookware\",\"anecdotal_evidence\",\"vinegar\",\"cleavage\",\"clump\",\"opioid\",\"imaginable\",\"vivid\",\"6yo\",\"mixer\",\"it.&#x200b\",\"authorize\",\"uniquely\",\"downtown\",\"spotify\",\"fortnight\",\"bunk\",\"sternly\",\"swat\",\"instigator\",\"sol\",\"tobacco\",\"outrageously\",\"indifference\",\"jolly\",\"cheerleader\",\"deadbedroom\",\"compe\",\"confederacy\",\"champion\",\"nta.also\",\"misspell\",\"smoothie\",\"impediment\",\"inanimate\",\"/r_niceguys\",\"column\",\"justice_boner\",\"restraining\",\"nonchalant\",\"valley\",\"wail\",\"skimpy\",\"artificially\",\"aspiration\",\"scientology\",\"radius\",\"samaritan\",\"headlight\",\"kettle\",\"tabletop\",\"chap\",\"9/10\",\"tedious\",\"gif\",\"eshyou're\",\"dirtbag\",\"asymptomatic\",\"relent\",\"restart\",\"architect\",\"epiphany\",\"flak\",\"medicaid\",\"susan\",\"willpower\",\"protip\",\"ntahonestly\",\"fianc\\u00e9s\",\"coercive\",\"cardio\",\"revel\",\"5yo\",\"disengage\",\"adventurous\",\"wagon\",\"centric\",\"irritating\",\"enhance\",\"bone_marrow\",\"spamme\",\"dildos\",\"pushback\",\"wal_mart\",\"favorable\",\"institute\",\"encompass\",\"dissuade\",\"squirt\",\"skank\",\"teethe\",\"reactionary\",\"mustard\",\"infest\",\"terminally_ill\",\"overflow\",\"wannabe\",\"slaughter\",\"idealistic\",\"lynch\",\"speechless\",\"emojis\",\"salmon\",\"millionaire\",\"amirite\",\"papa\",\"pissing\",\"doe\",\"punching\",\"insidious\",\"tribute\",\"whoring\",\"mash_potato\",\"abduct\",\"tasteful\",\"misconduct\",\"misandrist\",\"synonymous\",\"reusable\",\"eww\",\"overtake\",\"donald\",\"ripe\",\"ntajust\",\"sexualise\",\"undercut\",\"sender\",\"franklin\",\"blender\",\"tangent\",\"ltr\",\"persecute\",\"skeeve\",\"jerky\",\"lowly\",\"meatless\",\"correctness\",\"3-year\",\"kim\",\"interchangeable\",\"throwing\",\"glow\",\"practicality\",\"dissent\",\"uncover\",\"crock\",\"deer\",\"13yo\",\"cemetery\",\"tipper\",\"blouse\",\"backpedal\",\"biker\",\"ytaas\",\"barbecue\",\"broth\",\"walker\",\"meow\",\"stonewall\",\"rp\",\"copyright\",\"hone\",\"demonstrably\",\"stated\",\"lpt\",\"clearance\",\"culprit\",\"y.o\",\"peasant\",\"imperfect\",\"unleashed\",\"wellness\",\"impulsively\",\"hardware\",\"darling\",\"sideways\",\"shpthis\",\"transgendere\",\"finalize\",\"jason\",\"extract\",\"patently\",\"acquiesce\",\"becky\",\"snort\",\"gps\",\"gi\",\"provocation\",\"climbing\",\"chiropractor\",\"crown\",\"nightstand\",\"lice\",\"delicately\",\"latte\",\"impractical\",\"ntaop\",\"fbi\",\"chooser\",\"overpay\",\"husky\",\"persecution\",\"4-year\",\"sporting\",\"mario\",\"workday\",\"dtmfa\",\"slime\",\"snoring\",\"newspaper\",\"researcher\",\"raffle\",\"ytai'm\",\"wierd\",\"foist\",\"zealot\",\"magnify\",\"typing\",\"injection\",\"heir\",\"convos\",\"savvy\",\"ranger\",\"wakeup\",\"kingdom\",\"baptism\",\"simmer\",\"tilt\",\"aide\",\"metaphorical\",\"inadequacy\",\"freelance\",\"capitalist\",\"garnish\",\"plagiarism\",\"kid(s\",\"tiger\",\"crusty\",\"keepsake\",\"volition\",\"socioeconomic\",\"facial_expression\",\"sociopathy\",\"physics\",\"definately\",\"cd\",\"expiration\",\"prematurely\",\"finished\",\"miraculously\",\"sandy\",\"pinpoint\",\"mein\",\"goodnight\",\"urn\",\"martin\",\"ontario\",\"falsely\",\"anchor\",\"reopen\",\"unrequited\",\"granted\",\"consequently\",\"panty\",\"clubbing\",\"disgrace\",\"anthony\",\"frighten\",\"comedic\",\"drs\",\"animate\",\"prudent\",\"chow\",\"denmark\",\"franchise\",\"endangerment\",\"conventionally\",\"bla\",\"vid\",\"boundrie\",\"fuckery\",\"o-\",\"darkness\",\"inhibit\",\"biohazard\",\"redemption\",\"hippie\",\"badwomensanatomy\",\"communicator\",\"\\u200d_\\u2640_\\ufe0f\",\"tract\",\"redhead\",\"outback\",\"fleeting\",\"aged\",\"pok\\u00e9mon\",\"adults\",\"hbo\",\"squander\",\"balk\",\"beneficiary\",\"windshield\",\"tah\",\"\\ud83e\\udd23_\\ud83e\\udd23\",\"tidbit\",\"la_jolla\",\"balding\",\"timeout\",\"crochet\",\"playoff\",\"th\",\"infinity\",\"dispense\",\"goose\",\"timid\",\"snail\",\"anecdotally\",\"salvageable\",\"fgm\",\"avert\",\"hairbrush\",\"handshake\",\"angsty\",\"snag\",\"ramp\",\"puddle\",\"unblock\",\"puppet\",\"icu\",\"avid\",\"x1000\",\"momentarily\",\"baptist\",\"developed\",\"feat\",\"^^|\",\"indebted\",\"weaken\",\"shithole\",\"cattle\",\"\\ud83d\\ude06\",\"lactation_consultant\",\"creepiness\",\"tardiness\",\"bsa\",\"pension\",\"veterinarian\",\"flabbergast\",\"begrudgingly\",\"grenade\",\"you?if\",\"decorum\",\"rodent\",\"righteousness\",\"neo\",\"adversity\",\"gutter\",\"rebuff\",\"cursing\",\"hannah\",\"septum\",\"provocative\",\"seinfeld\",\"8:30\",\"summarize\",\"paleo\",\"industrial\",\"cv\",\"conjunction\",\"slighted\",\"stigmatize\",\"wanker\",\"unimaginable\",\"julia\",\"yta.>i\",\"you'd\",\"wand\",\"lense\",\"breaker\",\"hospice\",\"beginner\",\"accordance\",\"vacate\",\"malpractice\",\"astonishing\",\"adulte\",\"stark\",\"gratuity\",\"explanatory\",\"yta1\",\"lets\",\"recap\",\"impactful\",\"nit\",\"bridal\",\"sah\",\"devoid\",\"electrical\",\"thug\",\"eyeball\",\"imminent\",\"offload\",\"qualifier\",\"things:1\",\"yada_yada\",\"exploitative\",\"hahahahaha\",\"handwriting\",\"nz\",\"pineapple\",\"mutilate\",\"tomboy\",\"steakhouse\",\"endearment\",\"unproductive\",\"normalcy\",\"losing\",\"plausible_deniability\",\"buddhist\",\"unfairness\",\"you\\u2019ve\",\"casket\",\"demeanor\",\"lactose_intolerance\",\"alleged\",\"hee\",\"evade\",\"\\ud83c\\udfc5\",\"advertisement\",\"arab\",\"dichotomy\",\"veterinary\",\"overshare\",\"infohow\",\"calculated\",\"hellish\",\"weep\",\"pitiful\",\"oscar\",\"ascribe\",\"energetic\",\"hawaiian\",\"galaxy\",\"plumber\",\"wooden\",\"hereditary\",\"mechanical\",\"booth\",\"belive\",\"mansplain\",\"remodel\",\"trough\",\"dimension\",\"descendant\",\"npc\",\"inconsistency\",\"burp\",\"terry\",\"academia\",\"honking\",\"brewery\",\"wool\",\"sahd\",\"molehill\",\"prerequisite\",\"enroll\",\"telephone\",\"obsessively\",\"ntano\",\"presentable\",\"toronto\",\"unravel\",\"helplessness\",\"cone\",\"won\\u2019t\",\"os\",\"hectic\",\"\\u2640_\\ufe0f\",\"20th_century\",\"stroll\",\"wrangle\",\"abdicate\",\"mayo\",\"monumentally\",\"injured\",\"accrue\",\"upend\",\"unsecured\",\"avengers\",\"cuddling\",\"e.\",\"francisco\",\"refute\",\"e.g\",\"knight\",\"ntayou\\u2019re\",\"accomodation\",\"photoshoppe\",\"lamp\",\"bolster\",\"gospel\",\"stressor\",\"mocking\",\"lupus\",\"tripping\",\"handgun\",\"thermostat\",\"antivaxxer\",\"vendetta\",\"appt\",\"exasperate\",\"undiagnosed\",\"games\",\"cannon\",\"hangry\",\"comprise\",\"sanctuary\",\"leaf\",\"13-year\",\"brian\",\"ikea\",\"overdo\",\"sa\",\"they\\u2019re\",\"genderfluid\",\"chatty\",\"personalize\",\"5x\",\"peter\",\"vase\",\"astonish\",\"shutdown\",\"biodad\",\"nvm\",\"5-year\",\"licensing\",\"hiccup\",\"cockroach\",\"preview\",\"gummy\",\"x200b;this\",\"feast\",\"regrettable\",\"trickle\",\"ribbing\",\"dietitian\",\"didnt\",\"fundraising\",\"acute\",\"bugger\",\"flamboyant\",\"authoritarian\",\"that's\",\"revise\",\"equipped\",\"trampoline\",\"tween\",\"renegotiate\",\"bluetooth\",\"tdap\",\"homeboy\",\"pronounced\",\"graffiti\",\"uncaring\",\"spiel\",\"defensible\",\"erratic\",\"shittiness\",\"themed\",\"passcode\",\"crow\",\"scandal\",\"changed\",\"infodid\",\"flatly\",\"darvo\",\"scientifically\",\"diagram\",\"\\\"edit\",\"theoretical\",\"punishable\",\"ewww\",\"toaster\",\"complacent\",\"esh.i\",\"framework\",\"iraq\",\"recognizable\",\"wifey\",\"barbaric\",\"thoughtfulness\",\"promiscuity\",\"signaling\",\"curable\",\"yta.he\",\"culpable\",\"turnoff\",\"defiantly\",\"cramping\",\"jock\",\"eshthis\",\"byproduct\",\"\\u2880\",\"incessantly\",\"elicit\",\"4chan\",\"marginally\",\"3ds\",\"granola\",\"bundy\",\"gabby\",\"shoo\",\"grower\",\"disconnected\",\"abdominal\",\"misjudge\",\"pigeon\",\"nicety\",\"stubbornness\",\"ebay\",\"abs\",\"rig\",\"dosent\",\"grit\",\"blowup\",\"heath\",\"straws\",\"cruelly\",\"discrete\",\"booby\",\"transit\",\"gaze\",\"hysterically\",\"nei\",\"astounded\",\"consultant\",\"pervy\",\"palate\",\"reccomend\",\"payroll\",\"mishandle\",\"cray\",\"exceedingly\",\"jr\",\"unlearn\",\"tightly\",\"\\ud83d\\udcaf\",\"subtext\",\"asshole-\",\"peruse\",\"convoluted\",\"mythology\",\"thst\",\"unmotivated\",\"deterrent\",\"\\\"your\",\"vampire\",\"weary\",\"colic\",\"rulebook](https://www.reddit.com\",\"ti\",\"mantra\",\"mysteriously\",\"commentator\",\"elf\",\"europeans\",\"mon\",\"pg\",\"dealing\",\"pansexual\",\"allege\",\"gyn\",\"albert\",\"we're\",\"pornstar\",\"greyhound\",\"economically\",\"hsv\",\"rec\",\"harry\",\"objectionable\",\"evasion\",\"alexa\",\"actionable\",\"foam\",\"thr\",\"cantonese\",\"heckle\",\"portrayal\",\"brow\",\"dehydrate\",\"richard\",\"spat\",\"irrespective\",\"nibble\",\"introverted\",\"untill\",\"rhyme\",\"confiscate\",\"fickle\",\"ytawhen\",\"incriminate\",\"extrovert\",\"roach\",\"woo\",\"madden\",\"muddy\",\"bollock\",\"reasons:1\",\"distaste\",\"broadly\",\"dale\",\"yta.also\",\"^this\",\"intuitive\",\"flyer\",\"hush\",\"twilight\",\"nastiness\",\"ntahow\",\"impart\",\"recruiter\",\"wouldn\\u2019t\",\"lettuce\",\"beam\",\"comical\",\"steroid\",\"unthinkable\",\"dieting\",\"headspace\",\"manufacturer\",\"mortality\",\"worldly\",\"counterpart\",\"analogous\",\"fuckboy\",\"pleasing\",\"orthodox\",\"candid\",\"goddam\",\"custodian\",\"torch\",\"stunned\",\"accomplished\",\"wizard\",\"null\",\"forewarn\",\"measly\",\"unsustainable\",\"paradox\",\"systematically\",\"25th\",\"spree\",\"undertake\",\"unto\",\"windfall\",\"x200b;she\",\"wonderfully\",\"emotionless\",\"wut\",\"firstborn\",\"individuality\",\"coming\",\"atrocity\",\"\\u2640\",\"fluster\",\"eggshell\",\"sedentary\",\"aunty\",\"hygienic\",\"ruse\",\"thou\",\"sci\",\"wrath\",\"nutty\",\"boohoo\",\"grumble\",\"hijab\",\"upstage\",\"administrative\",\"wendy\",\"propagate\",\"collision\",\"accessibility\",\"ntai\\u2019m\",\"retrieve\",\"playdate\",\"fostering\",\"renovate\",\"rationalise\",\"dissatisfaction\",\"overstate\",\"bedding\",\"sail\",\"defensively\",\"\\\"op\",\"utmost\",\"granddad\",\"registration\",\"vietnamese\",\"horrendously\",\"uncontrollably\",\"dinosaur\",\"barf\",\"valor\",\"woefully\",\"deprecate\",\"rut\",\"playlist\",\"denny\",\"craziness\",\"rhythm\",\"cvs\",\"latent\",\"pope\",\"manslaughter\",\"mumble\",\"estonian\",\"distracted\",\"euro\",\"17-year\",\"fluctuate\",\"mastectomy\",\"rod\",\"contextual\",\"amnio\",\"polo\",\"humanly\",\"seldom\",\"lightbulb\",\"conscientious\",\"forethought\",\"untouchable\",\"fuckton\",\"possessiveness\",\"9/11\",\"cdc\",\"worldwide\",\"immerse\",\"censorship\",\"unofficial\",\"skiing\",\"misgendering\",\"conceivable\",\"backhand\",\"pepperoni\",\"junkie\",\"terrier\",\"delve\",\"massacre\",\"depiction\",\"arabic\",\"offhand\",\"linguistic\",\"extraordinary\",\"yeh\",\"sermon\",\"5'8\",\"nighttime\",\"missionary\",\"sync\",\"norway\",\"bilingual\",\"shopper\",\"nibling\",\"lockdown\",\"overreacting\",\"srsly\",\"nutritious\",\"identifie\",\"citation\",\"crohn\",\"wrestler\",\"communicating\",\"underaged\",\"endear\",\"wield\",\"rights\",\"pamphlet\",\"ovulation\",\"barefoot\",\"ordinarily\",\"cheapen\",\"unprompted\",\"tiring\",\"redpill\",\"isn\\u2019t\",\"ruthless\",\"dismantle\",\"casualty\",\"deduce\",\"scorn\",\"cathartic\",\"ambiguity\",\"intestine\",\"rabid\",\"canal\",\"implying\",\"organically\",\"stun\",\"tracer\",\"voted\",\"compose?to=/r\",\"observant\",\"honda\",\"breastfee\",\"mm\",\"appletarian\",\"raccoon\",\"https://www.ncbi.nlm.nih.gov\",\"shoplifting\",\"refresh\",\"altered\",\"clinically\",\"crackhead\",\"fascism\",\"cubicle\",\"info**|**info**#[click\",\"thee\",\"violin\",\"washington\",\"index)#[click\",\"communist\",\"astound\",\"emerge\",\"\\ud83d\\ude43\",\"faq)*i\",\"barrage\",\"carton\",\"switching\",\"megan\",\"warehouse\",\"anthem\",\"deviation\",\"\\u201dyou\",\"surf\",\"dosage\",\"anesthesia\",\"hitch\",\"perpetrate\",\"jill\",\"ntaat\",\"vocally\",\"remarkable\",\"esque\",\"proportionate\",\"sorority\",\"ab\",\"nominate\",\"broaden\",\"definitly\",\"afterall\",\"snooze\",\"fa\",\"notwithstanding\",\"dissect\",\"bootstrap\",\"\\u2642_\\ufe0f\",\"appropriateness\",\"brink\",\"goofy\",\"confederate\",\"diligent\",\"ytaare\",\"panther\",\"kylee\",\"snicker\",\"assaulter\",\"voter\",\"reuse\",\"generator\",\"conducive\",\"doesn\\u2018t\",\"backing\",\"\\u00af\\\\\\\\\\\\_(\\u30c4)_/\\u00af\",\"lauren\",\"patent\",\"tenure\",\"hon\",\"nonconsensual\",\"infatuation\",\"esh.she\",\"festivity\",\"crummy\",\"neice\",\"palatable\",\"covert\",\"impersonate\",\"ultron\",\"sasha\",\"st.\",\"life-\",\"wad\",\"neediness\",\"jasmine\",\"fi\",\"quityourbullshit\",\"creek\",\"etsy\",\"fertilize\",\"distrustful\",\"dunk\",\"cardboard\",\"einstein\",\"paramedic\",\"cisgender\",\"loaf\",\"sticking\",\"contractual\",\"persue\",\"\\u0361\",\"carwash\",\"damnit\",\"ideation\",\"manipulating\",\"enforcement\",\"disc\",\"ribbon\",\"required\",\"here.](https://redd.it/9zgc4m)*i\",\"misdirect\",\"huntsman\",\"kinder\",\"bossy\",\"you\\u2018re\",\"drone\",\"stealthe\",\"holding\",\"yta.1\",\"province\",\"immigrate\",\"5'4\",\"sinful\",\"infodo\",\"nutter\",\"orphanage\",\"pb\",\"gentrification\",\"fanatic\",\"4.5\",\"agitate\",\"menace\",\"maneuver\",\"succinct\",\"variant\",\"reposte\",\"displace\",\"magnanimous\",\"\\u2809\",\"stipend\",\"trashcan\",\"teeter\",\"objectification\",\"contradiction\",\"fixation\",\"vip\",\"50,000\",\"reversed\",\"lactate\",\"loveless\",\"committee\",\"aquarium\",\"unsurprisingly\",\"defraud\",\"checker\",\"postnatal\",\"micropeen\",\"homicide\",\"viewer\",\"legroom\",\"decree\",\"abrupt\",\"omelette\",\"fuckwit\",\"tearing\",\"downs\",\"smarten\",\"sb\",\"^/\",\"logistical\",\"deviant\",\"perpetual\",\"drunkenness\",\"na\\u00efve\",\"database\",\"putting\",\"recital\",\"oatmeal\",\"grandmas\",\"5\\u20198\",\"varied\",\"gland\",\"5'5\",\"wanting\",\"fodder\",\"onboard\",\"\\ud83c\\uddf9\",\"hasty\",\"distracting\",\"tos\",\"fav\",\"recklessly\",\"specification\",\"castration\",\"\\ud83c\\udffd\\u200d\",\"whammy\",\"you'll\",\"mindlessly\",\"sucking\",\"doughnut\",\"buffer\",\"harpy\",\"norwegian\",\"responsive\",\"empire\",\"chug\",\"strategic\",\"younger\",\"allot\",\"burning\",\"egregiously\",\"cholesterol\",\"scrutiny\",\"satisfactory\",\"dialect\",\"pariah\",\"layout\",\"epidemic\",\"indiana\",\"georgia\",\"predate\",\"antivax\",\"dumping\",\"johnny\",\"adultery\",\"assigned\",\"unspecified\",\"pox\",\"snapshot\",\"congregation\",\"declawing\",\"mindless\",\"jealously\",\"cackle\",\"alienation\",\"erm\",\"1,500\",\"differing\",\"artifact\",\"infected\",\"browser\",\"enrich\",\"personalfinance\",\"supersede\",\"israel\",\"risque\",\"streaming\",\"limo\",\"loosely\",\"romanticize\",\"ummmm\",\"sensibility\",\"biologist\",\"8k\",\"10-year\",\"ballpark\",\"workable\",\"arsenal\",\"clamp\",\"livable\",\"tangle\",\"pleasantly\",\"notable\",\"annually\",\"sanctity\",\"thankyou\",\"scandinavian\",\"realism\",\"predicate\",\"earphone\",\"spacious\",\"\\ud83c\\udffb\\u200d_\\u2640\",\"menial\",\"recess\",\"ransom\",\"childishly\",\"madonna\",\"biodegradable\",\"delightful\",\"livestock\",\"roger\",\"screams\",\"torpedo\",\"sap\",\"occupation\",\"flags\",\"jumper\",\"cutesy\",\"choosy\",\"hulu\",\"emma\",\"pupper\",\"herring\",\"banshee\",\"southwest\",\"cookbook\",\"foolproof\",\"drank\",\"gateway\",\"overstay\",\"\\ud83d\\ude0e\",\"assimilate\",\"assisted\",\"chastity\",\"unilateral\",\"xxx\",\"babble\",\"mash\",\"invoke\",\"401k\",\"willed\",\"flap\",\"subpar\",\"fiscal\",\"handcuff\",\"\\ud83e\\udd2e\",\"4:30\",\"evolutionary\",\"ecosystem\",\"obliterate\",\"bicker\",\"undertaking\",\"characterization\",\"landing\",\"freakout\",\"hedge\",\"ashley\",\"phil\",\"acquaint\",\"jimmy\",\"mvp\",\"workshop\",\"prolonged\",\"sprain\",\"comprehensive\",\"squirm\",\"fridays\",\"60,000\",\"gta\",\"skeevy\",\"tu\",\"averse\",\"x200b;i'm\",\"immersion\",\"boys\",\"jive\",\"midterm\",\"unhealthily\",\"liken\",\"codependency\",\"organiser\",\"corporal\",\"amniocentesis\",\"eu\",\"jokey\",\"pouty\",\"alphabet\",\"unchecked\",\"verification\",\"supremacy\",\"patronise\",\"danny\",\"subscriber\",\"adopted\",\"\\\"also\",\"incidental\",\"opinionated\",\"miffed\",\"nta1\",\"lubrication\",\"gestate\",\"epidural\",\"yta.but\",\"mantle\",\"souvenir\",\"ytahonestly\",\"instinctual\",\"dimensional\",\"poopy\",\"frantically\",\"conjecture\",\"aba\",\"alllll\",\"eval\",\"contamination\",\"tint\",\"plasma\",\"accidently\",\"unquestionably\",\"fursuit\",\"cucke\",\"circulate\",\"\\\"oh\",\"banker\",\"lament\",\"dickwad\",\"masters\",\"blemish\",\"hyphen\",\"emus\",\"\\\"yeah\",\"pj\",\"goody\",\"tasting\",\"laughably\",\"classless\",\"har\",\"300k\",\"congrats\",\"infoare\",\"outpatient\",\"lewd\",\"discretionary\",\"mosquito\",\"kids-\",\"phenomenal\",\"dame\",\"dock\",\"detachment\",\"handbook\",\"separated\",\"nooo\",\"trainwreck\",\"draconian\",\"periodically\",\"condescendingly\",\"fireplace\",\"litterally\",\"feline\",\"urethra\",\"bamboozle\",\"renewal\",\"nah.if\",\"melon\",\"school-\",\"nta.they\",\"germans\",\"moocher\",\"infamous\",\"cabbage\",\"dcf\",\"unfunny\",\"forego\",\"publication\",\"ytalet\",\"vacay\",\"depo\",\"fortitude\",\"statutory\",\"purr\",\"taxpayer\",\"mishap\",\"defiant\",\"catfishing\",\"attain\",\"edit2\",\"irredeemable\",\"vessel\",\"2yo\",\"earnest\",\"hiss\",\"me-\",\"fatherly\",\"thoughtfully\",\"motto\",\"abduction\",\"pickiness\",\"labradoodle\",\"speakerphone\",\"bailey\",\"parcel\",\"cpr\",\"bert\",\"loon\",\"retriever\",\"marie\",\"thy\",\"icecream\",\"doesnt\",\"discolor\",\"yous\",\"rpg\",\"overhead\",\"obliged\",\"historic\",\"resilient\",\".5\",\"skanky\",\"doctrine\",\"coparente\",\"crosspost\",\"carnivore\",\"caloric\",\"pointer\",\"pdf\",\"\\\"\\\"i\",\"replay\",\"tether\",\"x200b;and\",\"sly\",\"them-\",\"audibly\",\"slumber\",\"imitate\",\"kansas\",\"paid\",\"ovarian\",\"hominem\",\"angela\",\"allowed\",\"notably\",\"prophecy\",\"relatable\",\"assailant\",\"19th\",\"testimony\",\"75,000\",\"coulda\",\"blissfully\",\"\\ud83c\\udfb6\",\"rummage\",\"freaky\",\"coloring\",\"improvise\",\"\\u201dthis\",\"fatphobic\",\"uncivil\",\"las\",\"tons\",\"johnson\",\"nostalgia\",\"rebuttal\",\"amniotic\",\"vintage\",\"destine\",\"12yo\",\"stalkerish\",\"infact\",\"cancelling\",\"evasive\",\"maria\",\"capitulate\",\"audible\",\"influx\",\"undeserve\",\"yknow\",\"time-\",\"solitary\",\"sect\",\"midget\",\"giveaway\",\"it?i\",\"sp\",\"resell\",\"blissful\",\"clot\",\"libtard\",\"stump\",\"abundance\",\"lit\",\"stub\",\"intertwine\",\"yadda_yadda\",\"manicure\",\"intentioned\",\"functionality\",\"psychopathic\",\"civilization\",\"personhood\",\"ehhhh\",\"yta.you\\u2019re\",\"ann\",\"versa\",\"ntai've\",\"bankroll\",\"curate\",\"fountain\",\"all-\",\"enslave\",\"flipping\",\"ms.\",\"arrow\",\"opportunistic\",\"fiscally\",\"unused\",\"fanfiction\",\"roundabout\",\"1950\",\"^^^what\",\"meditation\",\"normalise\",\"disfigure\",\"au\",\"necessitate\",\"doo\",\"arfid\",\"tweak\",\"daydream\",\"incredulous\",\"refundable\",\"demoralize\",\"ream\",\"shes\",\"admiration\",\"suggestive\",\"traveling\",\"^^\",\"imposition\",\"\\\"no\",\"sequence\",\"gown\",\"hes\",\"fret\",\"misstep\",\"improperly\",\"jen\",\"affiliate\",\"domino\",\"inbox\",\"mister\",\"puncture\",\"cube\",\"reword\",\"fragrance\",\"^^^this?](https://pastebin.com\",\"lateness\",\"annoyingly\",\"sulking\",\"carelessly\",\"^^^is\",\"asse\",\"littering\",\"daunt\",\"philippines\",\"systematic\",\"staring\",\"huffy\",\"porno\",\"te\",\"changer\",\"dickbag\",\"democracy\",\"unneeded\",\"5'2\",\"eloquently\",\"douchebaggery\",\"amanda\",\"slate\",\"trp\",\"ginger\",\"commodity\",\"unite\",\"weeb\",\"bookstore\",\"fixated\",\"buuuut\",\"paypal\",\"goldfish\",\"brood\",\"unruly\",\"gung\",\"siren\",\"camper\",\"desktop\",\"i\\u2019ll\",\"barbershop\",\"ostracise\",\"flop\",\"deduction\",\"parents\",\"treater\",\"signalling\",\"regimen\",\"showcase\",\"disturbed\",\"idealize\",\"sector\",\"quarantine\",\"guarentee\",\"mlk\",\"invariably\",\"hooking\",\"condemnation\",\"rotation\",\"stacy\",\"tin\",\"bothersome\",\"virtual\",\"undervalue\",\"inflation\",\"wont\",\"springer\",\"clitoral\",\"startling\",\"uterine\",\"roulette\",\"pleaser\",\"examination\",\"efficiency\",\"contributing\",\"nebulous\",\"uhm\",\"thanksgive\",\"gawk\",\"3.accept\",\"starbuck\",\"unfeeling\",\"itinerary\",\"imprison\",\"17yo\",\"query\",\"m8\",\"5'3\",\"ipod\",\"incestuous\",\"malleable\",\"physique\",\"placard\",\"relish\",\"almighty\",\"perverted\",\"bourbon\",\"civilly\",\"stench\",\"meaningfully\",\"ntahave\",\"emphasise\",\"isnt\",\"blinded\",\"enormously\",\"h.\",\"puerto\",\"2.50\",\"30,000\",\"forced\",\"chivalry\",\"werewolf\",\"nonchalantly\",\"intellect\",\"kpop\",\"recessive\",\"ttc\",\"blip\",\"culinary\",\"covenant\",\"creepily\",\"intrinsic\",\"terrorism\",\"preconceived\",\"coldly\",\"nahhe\",\"chaser\",\"grunt\",\"pharmacist\",\"saturdays\",\"blaze\",\"culminate\",\"up-\",\"ntaedit\",\"ntafuck\",\"ytapeople\",\"packing\",\"ginormous\",\"biking\",\"rolling\",\"downfall\",\"atypical\",\"pita\",\"gl\",\"godparent\",\"exclusivity\",\"percieve\",\"freezing\",\"technician\",\"doorway\",\"egypt\",\"funk\",\"bandage\",\"pediatric\",\"coursework\",\"keg\",\"unsaid\",\"vaping\",\"dopamine\",\"spinal\",\"urgently\",\"railroad\",\"ferret\",\"camo\",\"linen\",\"cleanse\",\"quo\",\"patio\",\"chipotle\",\"preggo\",\"unsuitable\",\"clientele\",\"scented\",\"phony\",\"rampage\",\"culpability\",\"ballgame\",\"abt\",\"erupt\",\"paragon\",\"overcompensate\",\"spectacular\",\"graceful\",\"merch\",\"scarce\",\"puritanical\",\"breastfed\",\"reliance\",\"bombshell\",\"builder\",\"pact\",\"invaluable\",\"anomaly\",\"niceguys\",\"demonstration\",\"crosswalk\",\"malfunction\",\"racing\",\"eyeroll\",\"overdose\",\"siblings\",\"ba\",\"3,000\",\"pothead\",\"\\\"what\",\"14-year\",\"is-\",\"rite\",\"sod\",\"archive\",\"cootie\",\"aha\",\"leaning\",\"bta\",\"overjoyed\",\"jungle\",\"jennifer\",\"proportionally\",\"op.edit\",\"impasse\",\"blowout\",\"kentucky\",\"salute\",\"implode\",\"it.2\",\"sodium\",\"overzealous\",\"forcing\",\"turf\",\"po\",\"shack\",\"gonna\",\"decaf\",\"designation\",\"keyword\",\"joyful\",\"\\ud83c\\udffd\",\"asshole|**yta**|not\",\"sapphire\",\"harrasse\",\"auction\",\"frantic\",\"16yo\",\"sext\",\"nemo\",\"whiff\",\"pi\",\"ihavesex\",\"ytabecause\",\"pneumonia\",\"illiterate\",\"rejoice\",\"tucson\",\"modeling\",\"hotdog\",\"jordan\",\"dunce\",\"defender\",\"clam\",\"edition\",\"sucks|**esh**no\",\"quebec\",\"hole|**nta**everyone\",\"graduating\",\"grim\",\"bouncy\",\"patrick\",\"tacitly\",\"folic\",\"cal\",\"automate\",\"callousness\",\"prepubescent\",\"fkn\",\"binding\",\"--:you're\",\"destitute\",\"cheerleading\",\"quilt\",\"reasons.1\",\"nth\",\"fetishist\",\"you?i\",\"hipster\",\"cody\",\"me\\\"\",\"mannerism\",\"precarious\",\"aspca\",\"shameless\",\"pudgy\",\"composure\",\"egocentric\",\"hairless\",\"mba\",\"rebuke\",\"commonplace\",\"bedridden\",\"ro\",\"fatness\",\"interim\",\"schmuck\",\"sunk\",\"stillborn\",\"compile\",\"pta\",\"restricted\",\"scottish\",\"fudge\",\"blocking\",\"kelly\",\"nother\",\"pe\",\"monetarily\",\"triplet\",\"fluctuation\",\"paternalistic\",\"alteration\",\"thrift\",\"loner\",\"eternally\",\"overprice\",\"here|**nah**shitpost|**shp**|not\",\"practise\",\"foreseeable\",\"latinx\",\"barb\",\"parent(s\",\"dogshit\",\"tiff\",\"newlywed\",\"usable\",\"intricacy\",\"airpod\",\"meatball\",\"reassignment\",\"meanie\",\"apprehensive\",\"regretful\",\"peck\",\"ante\",\"ooooh\",\"chess\",\"rocker\",\"y\\u2019know\",\"loathing\",\"gayness\",\"disastrous\",\"anglo\",\"4k\",\"moissanite\",\"domesticate\",\"captive\",\"tout\",\"skittish\",\"guys\",\"soggy\",\"contestant\",\"guild\",\"surgically\",\"sociology\",\"hut\",\"irate\",\"cuff\",\"stephanie\",\"kipp\",\"safeguard\",\"stead\",\"skyrocket\",\"\\u28f6\",\"munch\",\"bacterial\",\"coincidentally\",\"womanhood\",\"fiasco\",\"hooters\",\"transcript\",\"hoverboard\",\"inept\",\"noose\",\"administer\",\"synagogue\",\"warmth\",\"bizarrely\",\"unisex\",\"info|**info**[read\",\"dawkins\",\"microscope\",\"rapper\",\"smuggle\",\"harasser\",\"trajectory\",\"unconventional\",\"danielle\",\"dictator\",\"cbt\",\"twit\",\"midway\",\"demote\",\"ntadude\",\"pfft\",\"proponent\",\"botch\",\"yta.there\",\"neatly\",\"pimple\",\"snippet\",\"dat\",\"leaky\",\"leftist\",\"entice\",\"probe\",\"armrest\",\"maim\",\"digging\",\"mi\",\"karmic\",\"3am\",\"caveman\",\"cystic\",\"yta.dude\",\"workaholic\",\"thing-\",\"unfulfilled\",\"intensify\",\"negotiable\",\"7:30\",\"shitter\",\"detox\",\"coax\",\"nail_head\",\"appropriation\",\"surplus\",\"~\",\"violated\",\"angrier\",\"ntado\",\"derange\",\"heighten\",\"hp\",\"internalise\",\"diff\",\"pluck\",\"ph\",\"downward\",\"collage\",\"blade\",\"banish\",\"woke\",\"reciprocity\",\"zen\",\"trench\",\"nonprofit\",\"ordering\",\"nta.there\",\"bestfriend\",\"pinky\",\"angeles\",\"shellfish\",\"sweetener\",\"fmla\",\"chihuahua\",\"reduced\",\"redneck\",\"placebo\",\"tiredness\",\"ate\",\"geek\",\"oversee\",\"prescribed\",\"estimation\",\"replica\",\"flail\",\"peculiar\",\"debacle\",\"illustration\",\"erotic\",\"incurable\",\"dumbfound\",\"\\u201dshe\",\"fingerprint\",\"paedophile\",\"insincere\",\"denominator\",\"patriotism\",\"wade\",\"brotherly\",\"walnut\",\"consecutive\",\"misgiving\",\"insofar\",\"nauseate\",\"ding_ding\",\"payoff\",\"netherlands\",\"silk\",\"pollution\",\"outsource\",\"dungeon\",\"yer\",\"scott\",\"\\u270c\",\"masterpiece\",\"chit\",\"unrepentant\",\"plight\",\"unanimously\",\"mammal\",\"scanner\",\"nullify\",\"prudish\",\"forthright\",\"devour\",\"predispose\",\"wah\",\"neon\",\"you?you\",\"morph\",\"\\ud83d\\udc95\",\"antihistamine\",\"\\u201dhe\",\"yta.that\",\"ytathey\",\"resemblance\",\"exorbitant\",\"justnofamily\",\"sunlight\",\"cowardice\",\"15yo\",\"dissertation\",\"pumpkin\",\"internationally\",\"stank\",\"not-\",\"applause\",\"assembly\",\"mansion\",\"calculus\",\"sweatshirt\",\"ntas\",\"ii\",\"shitting\",\"lots\",\"blooded\",\"existed\",\"frontal\",\"\\ud83d\\ude14\",\"bueno\",\"child(ren\",\"fetlife\",\"implicate\",\"rival\",\"cheated\",\"ytayou've\",\"whereabouts\",\"yta\\\"i\",\"comic_strip\",\"misrepresentation\",\"meek\",\"squeamish\",\"billing\",\"zack\",\"pillar\",\"x200b;op\",\"fluently\",\"imperial\",\"bong\",\"silicon\",\"nancy\",\"mingle\",\"eyeliner\",\"icon\",\"feely\",\"adderall\",\"fringe\",\"dispenser\",\"subvert\",\"ja\",\"infrequently\",\"otherkin\",\"curvy\",\"inane\",\"trek\",\"flock\",\"oxford\",\"yoghurt\",\"mineral\",\"cna\",\"caliber\",\"yeet\",\"environmentally\",\"lifting\",\"verb\",\"contend\",\"kneejerk\",\"pavement\",\"18th\",\"bm\",\"plummet\",\"meditate\",\"poetic\",\"anchovy\",\"aroused\",\"mutter\",\"manga\",\"conjure\",\"focusse\",\"familiarity\",\"bravery\",\"ik\",\"blossom\",\"fentanyl\",\"fecal\",\"spook\",\"devastated\",\"2-year\",\"recruiting\",\"triumph\",\"truely\",\"treating\",\"ntaher\",\"involuntarily\",\"footprint\",\"upright\",\"parting\",\"shitless\",\"misdeed\",\"investor\",\"varie\",\"aptitude\",\"pertussis\",\"nta---\",\"fury\",\"sf\",\"socializing\",\"do-\",\"too-\",\"perinatal\",\"subsidise\",\"gonewild\",\"x200b;my\",\"apache\",\"grandbabie\",\"transfusion\",\"freind\",\"tragically\",\"j.\",\"yta.i'm\",\"ntawtf\",\"policing\",\"quibble\",\"editor\",\"media\",\"incubate\",\"12-year\",\"x200b;yta\",\"auschwitz\",\"dmv\",\"bluntness\",\"dwarf\",\"x200b;nta\",\"yta.what\",\"5'7\",\"copious\",\"riot\",\"identifiable\",\"scantily\",\"puss\",\"colon\",\"canvas\",\"eradicate\",\"crunchy\",\"diplomacy\",\"distort\",\"underdeveloped\",\"assuredly\",\"sassy\",\"bodybuilder\",\"cryptic\",\"fro\",\"ornament\",\"negging\",\"persistence\",\"lard\",\"reciprocal\",\"het\",\"alternately\",\"\\ud83d\\ude12\",\"org\",\"tetris\",\"kimono\",\"fellowship\",\"staunchly\",\"crust\",\"lawful\",\"crisp\",\"huuuuge\",\"cajun\",\"legaladvice\",\"ufc\",\"banjo\",\"notre\",\"unfollowe\",\"gentlemanly\",\"sm\",\"bertamo\",\"carefree\",\"encouraged\",\"silicone\",\"parks\",\"cbp\",\"manhandle\",\"walter\",\"bullcrap\",\"helium\",\"corrective\",\"25,000\",\"seniority\",\"it'd\",\"translator\",\"managing\",\"diva\",\"brunei\",\"flirtation\",\"haven\",\"though-\",\"litigation\",\"circuit\",\"aggressiveness\",\"excitedly\",\"orchestrate\",\"misandry\",\"platitude\",\"identification\",\"infestation\",\"finder\",\"combined\",\"curtail\",\"aren\\u2019t\",\"supermodel\",\"deescalate\",\"freebie\",\"horrifically\",\"z.\",\"furth\",\"bralette\",\"damsel\",\"crybaby\",\"softly\",\"outlaw\",\"bub\",\"ideological\",\"\\u280b\",\"spurt\",\"likeable\",\"fixing\",\"harms\",\"houseguest\",\"eaten\",\"preschooler\",\"handbag\",\"publicize\",\"kindest\",\"cp\",\"vacuuming\",\"residue\",\"grandbaby\",\"elective\",\"geographic\",\"anemic\",\"ak-47\",\"\\u201dif\",\"tb\",\"forwards\",\"pooch\",\"buttercup\",\"mb\",\"tokyo\",\"sheriff\",\"refrie\",\"chilli\",\"manifestation\",\"thathappene\",\"bp\",\"gravidarum\",\"retake\",\"colostomy\",\"ipa\",\"godsend\",\"reg\",\"blindfold\",\"freshener\",\"ytayes\",\"brazilian\",\"regime\",\"pewdiepie\",\"x200b;but\",\"phallic\",\"flipside\",\"lede\",\"cycling\",\"wii\",\"sq\",\"oot\",\"pressing\",\"peril\",\"\\u2801\",\"respiratory\",\"nigeria\",\"stamina\",\"gestation\",\"nutella\",\"indignation\",\"wavy\",\"malcolm\",\"snark\",\"quip\",\"gargoyle\",\"agonize\",\"seasonal\",\"dizzy\",\"agriculture\",\"blessed\",\"5.5\",\"murky\",\"asmr\",\"sensor\",\"diy\",\"250k\",\"karla\",\"conundrum\",\"ashtray\",\"louis\",\"dander\",\"prestige\",\"brazil\",\"mashed\",\"semitic\",\"historian\",\"nahi'm\",\"legoland\",\"5\\u20194\",\"dane\",\"milder\",\"mispronounce\",\"skipping\",\"\\\"or\",\"maori\",\"cheerlead\",\"sundae\",\"pageant\",\"obscenity\",\"mockingbird\",\"ntain\",\"liza\",\">i\",\"chafe\",\"hmmmm\",\"veiled\",\"showboate\",\"prediction\",\"inward\",\"offline\",\"boi\",\"ulta\",\"ballet\",\"haggle\",\"costumer\",\"mince\",\"b*tch\",\"subhuman\",\"funsie\",\"untenable\",\"retelling\",\"\\\"we\",\"fuse\",\"discretely\",\"stutter\",\"s.\",\"formulate\",\"stool\",\"cuddly\",\"undivided\",\"mower\",\"debit\",\"inflated\",\"unmedicated\",\"peppermint\",\"obstruct\",\"pmdd\",\"dicey\",\"adversely\",\"susie\",\"glucose\",\"empathic\",\"incentivize\",\"bigtime\",\"germanic\",\"moldy\",\"correspondence\",\"negro\",\"standoffish\",\"hulk\",\"hallucination\",\"yta.and\",\"perverse\",\"blackness\",\"right-\",\"spec\",\"wherewithal\",\"her?i\",\"eshif\",\"hardball\",\"goddess\",\"laws\",\"floss\",\"nahthe\",\"ejaculation\",\"pettyrevenge\",\"collectible\",\"maple\",\"fidget\",\"tenet\",\"flinch\",\"riding\",\"upcharge\",\"incessant\",\"decay\",\"ntafor\",\"uninforme\",\"unqualified\",\"predisposition\",\"yu\",\"obliviousness\",\"menstruate\",\"glamorous\",\"pleasantry\",\"pescatarian\",\"idiom\",\"lutely\",\"hobbie\",\"pence\",\"quantify\",\"consensually\",\"carolina\",\"exile\",\"^^^\",\"enrichment\",\"remake\",\"grub\",\"predetermine\",\"athi\",\"checklist\",\"teaspoon\",\"x200b;there\",\"cheerful\",\"communion\",\"africans\",\"leach\",\"choosingbeggars\",\"preplanne\",\"swamp\",\"unwrap\",\"smidge\",\"flushable\",\"9-year\",\"mindedness\",\"manliness\",\"wimp\",\"steward\",\"probate\",\"simpson\",\"shunt\",\"burdensome\",\"rehearse\",\"scowl\",\"charismatic\",\"ywnbta\",\"waaaaaay\",\"canine\",\"orgasme\",\"groin\",\"nta.what\",\"yta.edit\",\"disbelieve\",\"x200b;so\",\"compose?to\",\"pedal\",\"loledit\",\"democratic\",\"apron\",\"accost\",\"asked\",\"150k\",\"ntamaybe\",\"breather\",\"turkish\",\"posh\",\"harden\",\"anaphylactic\",\"insurmountable\",\"spacey\",\"flourish\",\"lifespan\",\"segment\",\"cumming\",\"shorter\",\"bedbug\",\"turnover\",\"unloaded\",\"leading\",\"swelling\",\"dgaf\",\"inebriate\",\"mull\",\"allegiance\",\"fawn\",\"ntaholy\",\"fda\",\"nudist\",\"vp\",\"else-\",\"enraged\",\"vouch\",\"gory\",\"pond\",\"d.\",\"glee\",\"expectant\",\"figurative\",\"dun\",\"immunize\",\"restate\",\"arabia\",\"charter\",\"spectacularly\",\"pap\",\"outlive\",\"herd\",\"grindr\",\"esl\",\"generalise\",\"dilute\",\"nutjob\",\"shifty\",\"insect\",\"nah.you're\",\"ninety\",\"calcium\",\"pod\",\"charlotte\",\"forgetfulness\",\"\\u261d\",\"8/10\",\"sus\",\"yta.just\",\"osha\",\"6k\",\"mf\",\"bask\",\"\\ud83d\\udc46\",\"retrain\",\"unfriendly\",\"n64\",\"scarring\",\"unhinge\",\"groan\",\"symbolism\",\"totem\",\"ytalook\",\"urinary\",\"pronto\",\"bygone\",\"nothingeverhappen\",\"matthew\",\"rooted\",\"cesspool\",\"disgraceful\",\"parentage\",\"exgf\",\"bac\",\"whiner\",\"desist\",\"intro\",\"\\ud83d\\ude00\",\"dreadful\",\"fumble\",\"denounce\",\"foetus\",\"lolol\",\"deformity\",\"hermit\",\"13th\",\"alamo\",\"diver\",\"differential\",\"valedictorian\",\"suv\",\"ick\",\"exemption\",\"okcupid\",\"lunge\",\"ytaher\",\"obedience\",\"utah\",\"symptomatic\",\"monument\",\"introspective\",\"persistently\",\"retell\",\"unasked\",\"vr\",\"mythical\",\"hardass\",\"unfriende\",\"funnel\",\"cancerous\",\"espouse\",\"sublet\",\"shitposter\",\"ans\",\"coarse\",\"lucke\",\"du\",\"stillbirth\",\"updoot\",\"demolish\",\"detain\",\"x2\",\"ridden\",\"subtlety\",\"40,000\",\"catcalling\",\"nta.edit\",\"riddled\",\"duct\",\"rosy\",\"\\\"then\",\"fierce\",\"nurturing\",\"shakespeare\",\"feminazi\",\"departure\",\"decorative\",\"spooky\",\"fingertip\",\"gras\",\"sailor\",\"savings\",\"bloop\",\"manhood\",\"bleep\",\"fiend\",\"confetti\",\"oblivion\",\"startled\",\"plaything\",\"permeate\",\"succumb\",\"\\\"not\",\"anthropology\",\"dennis\",\"fort\",\"esh.he\",\"sexting\",\"emperor\",\"miniscule\",\"restrained\",\"remission\",\"estrangement\",\"composition\",\"malnutrition\",\"librarian\",\"inb4\",\"phantom\",\"bulge\",\"diplomatically\",\"pua\",\"mississippi\",\"that\\u2018s\",\"confronting\",\"staffing\",\"endearing\",\"naivety\",\"zoom\",\"pushup\",\"expenditure\",\"gaslighter\",\"merchant\",\"outspoken\",\"invention\",\"screenshotte\",\"perplex\",\"undress\",\"canadians\",\"k.\",\"catastrophe\",\"broadway\",\"scrawny\",\"blurry\",\"victorian\",\"narcs\",\"mandated\",\"spidey\",\"asf\",\"slash\",\"tot\",\"incidence\",\"animation\",\"yta.why\",\"willy\",\"forefront\",\"evaporate\",\"feasibly\",\"\\u201dthe\",\"uhhhh\",\"migrate\",\"intruder\",\"councilor\",\"nub\",\"causation\",\"vested\",\"here](https://www.reddit.com\",\"intrinsically\",\"swiss\",\"madly\",\"sherlock\",\"iamverysmart\",\"headset\",\"armor\",\"pende\",\"bahamas\",\"ytaunless\",\"abolish\",\"vindication\",\"mugging\",\"dehydration\",\"lunchtime\",\"indenture\",\"rapport\",\"si\",\"monk\",\"idol\",\"predictor\",\"durr\",\"cheerfully\",\"unsuccessful\",\"reflexively\",\"bathing\",\"speciman\",\"hugger\",\"daunting\",\"doorbell\",\"electrician\",\"cumme\",\"ytano\",\"externally\",\"readjust\",\"inference\",\"hyphenation\",\"5'6\",\"pistol\",\"modestly\",\"infoyou\",\"hooter\",\"\\u201dedit\",\"founder\",\"assult\",\"youthful\",\"robotic\",\"irresponsibly\",\"bassinet\",\"airfare\",\"conceptualize\",\"brainstorm\",\".i\",\"helluva\",\"attic\",\"causal\",\"sorted\",\"coddling\",\"stadium\",\"playbook\",\"betterment\",\"noah\",\"mushy\",\"awww\",\"stricken\",\"limbo\",\"classification\",\"dis\",\"befall\",\"resound\",\"giddy\",\"brunette\",\"upbringe\",\"straddle\",\"heteronormative\",\"ding\",\"polished\",\"abso\",\"derek\",\"snuck\",\"molly\",\"reparation\",\"sandbox\",\"browsing\",\"rome\",\"worn\",\"blush\",\"accomplice\",\"ntahowever\",\"funnily\",\"armr\",\"salsa\",\"bedsheet\",\"op.i\",\"fatlogic\",\"implausible\",\"optimally\",\"adoptee\",\"emphatically\",\"\\u2665\",\"underground\",\"ntai'd\",\"constipate\",\"cusp\",\"coil\",\"enclosure\",\"sexualized\",\"heartburn\",\"gotta\",\"gettin\",\"amish\",\"slavic\",\"lily\",\"monologue\",\"degradation\",\"corroborate\",\"clickbaity\",\"saver\",\"zumba\",\"thingy\",\"rainy\",\"sparkly\",\"experimental\",\"cali\",\"itemize\",\"holly\",\"ender\",\"maine\",\"scorpion\",\"did-\",\"slope\",\"foil\",\"forearm\",\"somone\",\"repression\",\"idaho\",\"lighthearte\",\"shorthand\",\"infantile\",\"iphones\",\"judgment**>>this\",\"fucken\",\"happenpic_happenpic_happenpic_happenpic\",\"slippery\",\"applied\",\"shana\",\"aboriginal\",\"wayyyyy\",\"genetics\",\"sizing\",\"silverware\",\"pornographic\",\"bane\",\"bookshelf\",\"onesie\",\"flagrantly\",\"immaterial\",\"mailman\",\"signage\",\"squeaky\",\"catalog\",\"resourceful\",\"mankind\",\"chromosomal\",\"westboro\",\"baggy\",\"situation-\",\"bandwidth\",\"handjob\",\"waver\",\"lacking\",\"audit\",\"flashlight\",\"overbear\",\"conspire\",\"ytain\",\"peen\",\"kiwi\",\"decompose\",\"motivational\",\"primal\",\"skimp\",\"sneakily\",\"it.&#x200b;edit\",\"\\u26a0_\\ufe0f_\\u26a0_\\ufe0f\",\"denominational\",\"retinal\",\"schizophrenic\",\"matt\",\"gander\",\"cozy\",\"sophie\",\"structural\",\"\\u2803\",\"futile\",\"unkempt\",\"note-\",\"wearer\",\"reoccurre\",\"cambridge\",\"prosthetic\",\"unprofessionally\",\"thankless\",\"williams\",\"aaa\",\"mmr\",\"wanted\",\"conquer\",\"unbearably\",\"brandnewsentence\",\"abcde\",\"infectious\",\"decimate\",\"unmitigated\",\"adress\",\"brokerage\",\"fraternal\",\"quasi\",\"legwork\",\"wikitextbot\",\"kool\",\"s.o.\",\"behaving\",\"mascara\",\"misdemeanor\",\"sexualization\",\"frugally\",\"kilt\",\"thump\",\"conquest\",\"unwillingly\",\"sneaker\",\"overture\",\"sturdy\",\"infatuate\",\"denote\",\"hydrated\",\"eerily\",\"bearable\",\"cavity\",\"interrupting\",\"suuuuper\",\"playboy\",\"ringer\",\"pesky\",\"natured\",\"emancipate\",\"bylaw\",\"colony\",\"leukemia\",\"proficient\",\"doodle\",\"pakistan\",\"\\\"well\",\"13,000\",\"aspie\",\"presently\",\"supervised\",\"deflection\",\"seasoning\",\"\\\"yta\",\"vindicated\",\"funky\",\"that.2\",\"payer\",\"subjectively\",\"counting\",\"chord\",\"cigar\",\"wilfully\",\"bead\",\"verbiage\",\"dickhole\",\"ignoring\",\"appraise\",\"unusable\",\"cushy\",\"unpunished\",\"nd\",\"it\\\"\",\"fiery\",\"hurr\",\"wrongfully\",\"ytastop\",\"cooperation\",\"doggie\",\"childbeare\",\"dabble\",\"~~i\",\"confer\",\"placeholder\",\"laundromat\",\"fluke\",\"headscarf\",\"britain\",\"\\u00af\\\\\\\\\\\\_(\\u30c4)\\\\_/\\u00af\",\"royalty\",\"foods\",\"unfathomable\",\"prosecution\",\"womanly\",\"jugular\",\"reductive\",\"again-\",\"legitimacy\",\"interior\",\"profiling\",\"import\",\"shore\",\"8yo\",\"unjust\",\"hurricane\",\"cohabitation\",\"u.s\",\"cologne\",\"fraternity\",\"\\\"her\",\"vector\",\"shitstain\",\"infrastructure\",\"elizabeth\",\"packaging\",\"columbia\",\"adversarial\",\"font\",\"fetched\",\"reliability\",\"arcade\",\"rabie\",\"barter\",\"impoverished\",\"churn\",\"longevity\",\"maryland\",\"thesis\",\"unsuspecting\",\"defective\",\"flawless\",\"scot\",\"pooper\",\"ruckus\",\"nta.1\",\"x200b;your\",\"murderous\",\"ment\",\"dignified\",\"thier\",\"\\ud83d\\ude29\",\"dart\",\"distinctive\",\"choosingbeggar\",\"directive\",\"traumatizing\",\"sprout\",\"23-year\",\"regulated\",\"hahahah\",\"amenable\",\"johns\",\"kfc\",\"phew\",\"scab\",\"locked\",\"microscopic\",\"nta.sounds\",\"coo\",\"confidant\",\"stockholm\",\"absolution\",\"mutt\",\"irrevocably\",\"spermicide\",\"sergeant\",\"promising\",\"unnoticed\",\"oddball\",\"correspond\",\"urologist\",\"restitution\",\"retaliatory\",\":o\",\"howl\",\"buuut\",\"illicit\",\"ooze\",\"monstrous\",\"roi\",\"ungodly\",\"colorful\",\"realisation\",\"volcano\",\"hehe\",\"cardiac\",\"login\",\"6'4\",\"faucet\",\"nigga\",\"repel\",\"haste\",\"vividly\",\"populate\",\"accustom\",\"fledge\",\"blah\",\"unaddressed\",\"saudi\",\"liberate\",\"amok\",\"commemorate\",\"mars\",\"legging\",\"vindicate\",\"orbit\",\"retention\",\"histrionic\",\"tantamount\",\"murderedbywords\",\"approximate\",\"predictably\",\"inquiry\",\"buzzkill\",\"\\u201dand\",\"lecturer\",\"existential\",\"bagger\",\"flannel\",\"spinach\",\"x100\",\"gritty\",\"pointedly\",\"lender\",\"residual\",\"shtick\",\"^exclude\",\"fashionable\",\"celibacy\",\"innately\",\"20th\",\"chant\",\"followup\",\"gouge\",\"raunchy\",\"2am\",\"apprenticeship\",\"underwater\",\"solvable\",\"rang\",\"unplug\",\"f.\",\"schrodinger\",\"trooper\",\"pouting\",\"\\ud83d\\ude4c\",\"trot\",\"frazzle\",\"kneel\",\"furnace\",\"pubic\",\"demisexual\",\"fingernail\",\"opportunist\",\"roastme\",\"classical\",\"loo\",\"eloquent\",\"ott\",\"unforeseen\",\"surpass\",\"subculture\",\"journalism\",\"rehash\",\"smugly\",\"apologising\",\"swab\",\"abrahamic\",\"wince\",\"squishy\",\"rivalry\",\"skating\",\"begone\",\"untrusting\",\"adolf\",\"strait\",\"you\\u2019ll\",\"analyse\",\"alica\",\"pejorative\",\"persevere\",\"llama\",\"banal\",\"divine\",\"shingle\",\"experimentation\",\"shittily\",\"expendable\",\"cowboy\",\"heavens\",\"masterbate\",\"crippled\",\"teddy\",\"inequity\",\"disadvantaged\",\"flaming\",\"yip\",\"pullout\",\"preterm\",\"conserne\",\"tetanus\",\"seminar\",\"impotent\",\"quran\",\"presumptive\",\"douchecanoe\",\"pitty\",\"ged\",\"jeopardise\",\"yta.a\",\"depreciate\",\"collaborate\",\"sooooooo\",\"rambling\",\"wp\",\"1950s\",\"changing\",\"nexplanon\",\"weeknight\",\"peachy\",\"freeloading\",\"minister\",\"staunch\",\"opposing\",\"donkey\",\"uninsured\",\"wayside\",\"monolith\",\"sids\",\"psychopathy\",\"abomination\",\"bereavement\",\"i\\u2018d\",\"hitting\",\"angie\",\"coincidental\",\"approachable\",\"breech\",\"abstinent\",\"\\u201dso\",\"aloof\",\"marshmallow\",\"ewwww\",\"studying\",\"behoove\",\"skeezy\",\"ruffle\",\"16th\",\"constitutional\",\"victimless\",\"epileptic\",\"reestablish\",\"faithfulness\",\"geeze\",\"nun\",\"snipe\",\"prosper\",\"parenthesis\",\"pong\",\"dakota\",\"fasting\",\"lsd\",\"duke\",\"overrate\",\"naha\",\"nuh\",\"filler\",\"blas\\u00e9\",\"skateboard\",\"petrol\",\"chide\",\"hijacking\",\"lob\",\"kissy\",\"kiddy\",\"wat\",\"domineering\",\"mover\",\"childishness\",\"exploitation\",\"forsake\",\"lived\",\"indecent\",\"oopsie\",\"arguable\",\"adviser\",\"shamelessly\",\"doofus\",\"virginia\",\"ahem\",\"dispel\",\"prankster\",\"janice\",\"walkway\",\"indistinguishable\",\"generalisation\",\"iamatotalpieceofshit\",\"sphincter\",\"salesperson\",\"repetition\",\"rust\",\"ip\",\"physiologically\",\"hobo\",\"oc\",\"options:1\",\"tony\",\"mardi\",\"alibi\",\"procure\",\"smiley\",\"75k\",\"roasted\",\"saddening\",\"shortcut\",\"swastikas\",\"finely\",\"amiright\",\"mff\",\"cauliflower\",\"harming\",\"now-\",\"whopping\",\"jarring\",\"transparently\",\"parody\",\"contrarian\",\"downvoted\",\"momentum\",\"17th\",\"ypu\",\"assemble\",\"rl\",\"sonic\",\"sth\",\"toyota\",\"measured\",\"simpsons\",\"camgirl\",\"whitewash\",\"supplier\",\"inhale\",\"machinery\",\"relationships\",\"sleepless\",\"xs\",\"blinder\",\"guessing\",\"raging\",\"refined\",\"brothers\",\"awaken\",\"michelin\",\"getgo\",\"pew\",\"slapping\",\"ytalike\",\"jessie\",\"ratty\",\"superpower\",\"intermittent\",\"objectified\",\"theif\",\"para\",\"tar\",\"ata\",\"carpool\",\"alaska\",\"ntaoh\",\"warfare\",\"esteem\",\"vis\",\"culmination\",\"v.\",\"nsa\",\"edited\",\"ballsy\",\"extravagance\",\"15,000\",\"upbeat\",\"othere\",\"poppy\",\"precursor\",\"consuming\",\"trisomy\",\"asl\",\"sunglass\",\"unwashed\",\"disciplinarian\",\"jnmil\",\"doula\",\"scrooge\",\"isolating\",\"les\",\"upheaval\",\"2.0\",\"scotch\",\"improved\",\"brits\",\"unsexy\",\"airlines\",\"encyclopedia\",\"brazen\",\"populated\",\"damp\",\"pd\",\"\\u285f\",\"comeuppance\",\"landscape\",\"sanitize\",\"^[contact](/message\",\"rehabilitation\",\"median\",\"^\\\\([info](/r\",\"\\u28c4\",\"reddit:-\",\"situate\",\"inexplicably\",\"innapropriate\",\"drape\",\"keyed\",\"stan\",\"insemination\",\"deflate\",\"ref\",\"shin\",\"ntawow\",\"progressively\",\"avoidant\",\"shrew\",\"burglary\",\"withstand\",\"operator\",\"intrusion\",\"foh\",\"\\u00af\\\\_(\\u30c4)_/\\u00af\",\"11th\",\"garment\",\"unfiltered\",\"fragility\",\"yuppie\",\"isla\",\"governor\",\"ups\",\"passionately\",\"bureau\",\"thoughtlessly\",\"fireman\",\"gifted\",\"nta--\",\"permissible\",\"wtaf\",\"pubescent\",\"recite\",\"someome\",\"turning\",\"signing\",\"carol\",\"sphere\",\"preservation\",\"mould\",\"tentative\",\"rediculous\",\"tingle\",\"friend(s\",\"asswipe\",\"clara\",\"\\ud83d\\udc08_\\ud83d\\udc08_\\ud83d\\udc08_\\ud83d\\udc08\",\"messianic\",\"troublemaker\",\"upwards\",\"descriptive\",\"stud\",\"drexel\",\"yth\",\"ve\",\"unlawful\",\"proselytize\",\"soundly\",\"tropical\",\"compartmentalize\",\"proverb\",\"overuse\",\"stunningly\",\"nta.a\",\"nat\",\"continual\",\"sith\",\"mogai\",\"proofread\",\"globe\",\"subservient\",\"11.30\",\"carcass\",\"ping\",\"elaboration\",\"portable\",\"marketable\",\"nba\",\"circumstantial\",\"pupil\",\"lobe\",\"arc\",\"grammatically\",\"crumple\",\"met\",\"transperson\",\"socket\",\"ceremonial\",\"monica\",\"pseudoscience\",\"damper\",\"prosecutor\",\"deservedly\",\"ytadon\\u2019t\",\"mater\",\"ware\",\"yummy\",\"wi\",\"insinuation\",\"migrant\",\"ambivalent\",\"fsm\",\"fave\",\"100s\",\"nonissue\",\"healthier\",\"algebra\",\"peice\",\"mite\",\"excluded\",\"jeeze\",\"expired\",\"stagger\",\"horde\",\"hepatitis\",\"slick\",\"postcard\",\"prognosis\",\"procrastinator\",\"choreographer\",\"stint\",\"mouthwash\",\"viking\",\"drawback\",\"curtesy\",\"aghast\",\"2-\",\"ytawtf\",\"messiness\",\"elevated\",\"accelerate\",\"5'11\",\"initiation\",\"enviroment\",\"marble\",\"addendum\",\"fu\",\"fricken\",\"here:1\",\"sibs\",\"procession\",\"pedicure\",\"thinker\",\"peasy\",\"holler\",\"kay\",\"sag\",\"ntaeven\",\"adage\",\"5'1\",\"tyson\",\"astute\",\"beleive\",\"nta.why\",\"entitledparent\",\"cornerstone\",\"financing\",\"teehee\",\"woth\",\"500k\",\"ytasound\",\"cetera\",\"bitchiness\",\"\\\"my\",\"humongous\",\"damning\",\"pram\",\"unvaccinate\",\"refurbish\",\"eclampsia\",\"coughing\",\"matriarch\",\"succinctly\",\"oink\",\"7/10\",\"tubal\",\"uncooperative\",\"leroy\",\"superman\",\"embarrase\",\"squid\",\"discontinue\",\"gnarly\",\"ooo\",\"\\ud83d\\ude0d\",\"cherokee\",\"controllable\",\"garb\",\"pristine\",\"fri\",\"humanist\",\"pyramid\",\"serena\",\"rosa\",\"odour\",\"brah\",\"mmf\",\"housekeep\",\"corruption\",\"cognitively\",\"hazardous\",\"brighten\",\"abdoman\",\"x200b;as\",\"excruciate\",\"bewilder\",\"godfather\",\"hastily\",\"intoxicated\",\"literary\",\"rover\",\"sounding\",\"ralph\",\"unsupported\",\"wrt\",\"competence\",\"framing\",\"ybta\",\"earmark\",\"ty\",\"bearer\",\"iranian\",\"dissonance\",\"bono\",\"fatass\",\"reexamine\",\"sanction\",\"nta.honestly\",\"justin\",\"smoother\",\"12yr\",\"hay\",\"adresse\",\"chaste\",\"kart\",\"mid-20\",\"geo\",\"chemotherapy\",\"faker\",\"condense\",\"undecided\",\"groove\",\"hydrate\",\"tonya\",\"cohesive\",\"ai\",\"concentrated\",\"don\\u00b4t\",\"nacho\",\"skid\",\"dudley\",\"aura\",\"vacant\",\"200,000\",\"preoccupy\",\"mods\",\"receiving\",\"lawnmower\",\"scouting\",\"\\ud83d\\ude48_\\ud83d\\ude48\",\"snooty\",\"preferential\",\"sketchbook\",\"ntaits\",\"voodoo\",\"antagonist\",\"ytamy\",\"rutgers\",\"kong\",\"interchangeably\",\"androgynous\",\"wifes\",\"wildfire\",\"airpods\",\"fetishise\",\"versed\",\"diligently\",\"mamas\",\"jello\",\"moscow\",\"well-\",\"purport\",\"gma\",\"\\\"as\",\"detest\",\"heathen\",\"because:1\",\"dagger\",\"hottie\",\"marked\",\"unauthorized\",\"aaaaaand\",\"bickering\",\"plushie\",\"commandment\",\"gotten\",\"boutique\",\"legendary\",\"slideshow\",\"esha\",\"reverend\",\"jumpy\",\"photographic\",\"conceited\",\"static\",\"10:30\",\"@op\",\"cul\",\"floppy\",\"criminalize\",\"salami\",\"michelle\",\"cricket\",\"va\",\"purebre\",\"hotness\",\"likes\",\"accuser\",\"stigmatized\",\"missy\",\"stickie\",\"niceness\",\"ntalet\",\"ntawhen\",\"mortal\",\"subsidized\",\"stealth\",\"money-\",\"waxing\",\"cactus\",\"allll\",\"fizzle\",\"shill\",\"mothering\",\"silliness\",\"parish\",\"viscerally\",\"demise\",\"hamilton\",\"wasn\\u2019t\",\"oftentime\",\"executioner\",\"ee\",\"saliva\",\"crosse\",\"pulse\",\"litterbox\",\"noteworthy\",\"surreal\",\"mercury\",\"endow\",\"newcomer\",\"recreation\",\"smelling\",\"risqu\\u00e9\",\"unionize\",\"roadblock\",\"absolutly\",\"repent\",\"irregardless\",\"immunocompromise\",\"pesto\",\"hindus\",\"inactive\",\"burglar\",\"boggling\",\"luxurious\",\"ytaget\",\"moore\",\"segue\",\"tacit\",\"hairstylist\",\"deff\",\"chilling\",\"nitpicky\",\"redflag\",\"thor\",\"remaining\",\"ontop\",\"fap\",\"traumatized\",\"secluded\",\"python\",\"righteously\",\"nazism\",\"you\\\"\",\"intimidating\",\"hearte\",\"corny\",\"iamverybadass\",\"incision\",\"80k\",\"19-year\",\"hostel\",\"shiver\",\"hackle\",\"completion\",\"ytajesus\",\"miserly\",\"syrup\",\"q\",\"roasting\",\"teensy\",\"invites\",\"andrew\",\"ytaeveryone\",\"pricy\",\"manor\",\"prophet\",\"pinche\",\"nahyou\\u2019re\",\"yta.no\",\"sleeveless\",\"repeated\",\"ytayeah\",\"zit\",\"assualt\",\"ems\",\"spirituality\",\"lifer\",\"levy\",\"mulan\",\"perky\",\"lunacy\",\"given\",\"outreach\",\"1mil\",\"extremly\",\"bearded\",\"elegant\",\"beget\",\"infuriating\",\"farth\",\"erectile\",\"ntabee\",\"connive\",\"antifa\",\"divorcee\",\"remembrance\",\"earther\",\"3:>**accept\",\"comparatively\",\"gumption\",\"rogers\",\"literate\",\"hum\",\"barbara\",\"oinking\",\"asylum\",\"pathogen\",\"pivotal\",\"inviting\",\"trustworthiness\",\"choreograph\",\"seattle\",\"coerced\",\"point-\",\"accutane\",\"eighth\",\"1,200\",\"ist\",\"posit\",\"rooftop\",\"pretzel\",\"sammy\",\"skunk\",\"applebee\",\"20ish\",\"suitor\",\"14/15\",\"overreach\",\"invitee\",\"fascinate\",\"x200b;he\",\"ytaholy\",\"personable\",\"fir\",\"thx\",\"jackfruit\",\"sic\",\"microchip\",\"busser\",\"dwelling\",\"saturate\",\"stubbornly\",\"unsubbe\",\"ableism\",\"u.k.\",\"sims\",\"onwards\",\"viciously\",\"resounding\",\"ntawho\",\"13/14\",\"slum\",\"rambunctious\",\"commander\",\"premade\",\"stickler\",\"molestor\",\"grammatical\",\"westerner\",\"20-something\",\"ahhhh\",\"disgruntle\",\"gurl\",\"lurker\",\"exposed\",\"sewer\",\"compute\",\"comically\",\"mitigating\",\"fetishization\",\"copay\",\"unannounce\",\"nta.some\",\"bjs\",\"medic\",\"apocalypse\",\"batter\",\"disturbingly\",\"extraneous\",\"tangentially\",\"autist\",\"adept\",\"facetious\",\"friendliness\",\"4,000\",\"apprehension\",\"colloquially\",\"it.edit\",\"6.50\",\"lentil\",\"unoriginal\",\"out-\",\"thieving\",\"hallucinate\",\"bondage\",\"nah.she\",\"wonky\",\"acutely\",\"hemorrhoid\",\"amputate\",\"esh.the\",\"ended\",\"complimentary\",\"appreciated\",\"instinctive\",\"overrun\",\"weren't\",\"burritos\",\"concious\",\"solicitor\",\"ruder\",\"compromised\",\"fraudulent\",\"relegate\",\"hanger\",\"terrific\",\"benevolent\",\"arthur\",\"polio\",\"juul\",\"qualifie\",\"metropolitan\",\"scrolling\",\"ntawhile\",\"eggplant\",\"assholeishness\",\"portugal\",\"vocation\",\"unwittingly\",\"-and\",\"concoct\",\"binder\",\"needed\",\"bombing\",\"klan\",\"partaking\",\"toenail\",\"billionaire\",\"preacher\",\"6'2\",\"rly\",\"\\ud83d\\ude10\",\"harmlessly\",\"\\ufe0f.\",\"grandstand\",\"mmmm\",\"exhibition\",\"mondays\",\"playmate\",\"decider\",\"shopkeeper\",\"furiously\",\"quitter\",\"nj\",\"defo\",\"oversimplify\",\"\\\"do\",\"coitus\",\"reconstruction\",\"landfill\",\"indulgent\",\"padlock\",\"but-\",\"ex-\",\"sickening\",\"parter\",\"superintendent\",\"wreak\",\"bender\",\"vaxxers\",\"councillor\",\"preemie\",\"recollection\",\"paddle\",\"oftentimes\",\"intermediary\",\"slink\",\"huntington\",\"70k\",\"homer\",\"collectable\",\"\\\"how\",\"erasure\",\"https://www.reddit.com\",\"crossfire\",\"inclusivity\",\"febreeze\",\"abound\",\"obstinate\",\"thicken\",\"downsize\",\"listing\",\"socialist\",\"stave\",\"goofball\",\"jackson\",\"trying\",\"cottage\",\"cornered\",\"embarass\",\"embodiment\",\"somthe\",\"timetable\",\"cub\",\"depressant\",\"tj\",\"privledge\",\"esh.you're\",\"lunchbox\",\"quad\",\"solitude\",\"altar\",\"hunny\",\"1/3rd\",\"robust\",\"huuuge\",\"transcend\",\"beep\",\"abysmal\",\"2h\",\"nta.first\",\"cindy\",\"whinge\",\"\\\"like\",\"surge\",\"tel\",\"taken\",\"petting\",\"headed\",\"brash\",\"rules\",\"reboot\",\"fuckface\",\"transman\",\"swarm\",\"hellion\",\"laze\",\"laborer\",\"eyelash\",\"lime\",\"she'll\",\"shuttle\",\"cohabitate\",\"dearest\",\"scenery\",\"unambiguously\",\"shoehorn\",\"imitation\",\"adulting\",\"infallible\",\"moby\",\"femme\",\"persuasion\",\"ruler\",\"kinship\",\"relocation\",\"solar\",\"lysol\",\"tourism\",\"depart\",\"nationalist\",\"healthful\",\"wrongful\",\"restructure\",\"redefine\",\"painter\",\"trouser\",\"famously\",\"satiate\",\"settler\",\"pmc\",\"gamestop\",\"seventh\",\"snuff\",\"blizzard\",\"juju\",\"widen\",\"economical\",\"validated\",\"whelp\",\"disperse\",\"browbeat\",\"cradle\",\"mam\",\"identifier\",\"riddle\",\"popping\",\"asktrp\",\"harassed\",\"transpeople\",\"wireless\",\"underappreciated\",\"acclimate\",\"output\",\"pessimistic\",\"logan\",\"amenity\",\"coaching\",\"umbilical\",\"germaphobia\",\"45k\",\"libidos\",\"oooooh\",\"candidly\",\"dormant\",\"regressive\",\"constipation\",\"windows\",\"buss\",\"slobber\",\"grotesque\",\"midlife\",\"outloud\",\"crabby\",\"cape\",\"\\\"don't\",\"aging\",\"l.\",\"busboy\",\"vibrant\",\"heifer\",\"pounce\",\"eshwhy\",\"dilation\",\"yta.as\",\"conditionally\",\"subaru\",\"reload\",\"untouched\",\"itedit\",\"callously\",\"gobble\",\"ntajesus\",\"operating\",\"\\u2728\",\"hoot\",\"tickling\",\"mistype\",\"someway\",\"yadda\",\"unsavory\",\"knitting\",\"producer\",\"stephen\",\"farce\",\"ration\",\"betting\",\"gg\",\"suzie\",\"appologize\",\"senseless\",\"dissapointe\",\"ministry\",\"fl\",\"handsy\",\"dialog\",\"ytais\",\"nooooo\",\"inmate\",\"steadily\",\"prowess\",\"this:>i\",\"meaty\",\"defining\",\"vie\",\"blee\",\"gs\",\"lopsided\",\"pallet\",\"it.&#x200b;i\",\"slay\",\"ay\",\"annul\",\"ether\",\"endorsement\",\"drugstore\",\"mediterranean\",\"breadstick\",\"arborist\",\"16/17\",\"publishing\",\"1/5\",\"retina\",\"habitat\",\"gardasil\",\"ailment\",\"thickness\",\"acquisition\",\"romans\",\"harangue\",\"warren\",\"freckle\",\"undressed\",\"dolly\",\"cellular\",\"daugther\",\"bonafide\",\"hacker\",\"\\u2840\",\"sie\",\"welsh\",\"indo\",\"indulgence\",\"mush\",\"saw\",\"ooof\",\"corps\",\"bristle\",\"to-\",\"anticipation\",\"eyeshadow\",\"bribery\",\"parse\",\"\\u035c\\u0296\",\"glaringly\",\"hearsay\",\"isaac\",\"girth\",\"pepsi\",\"taper\",\"waaaaaaay\",\"fallon\",\"dogma\",\"thrash\",\"trapped\",\"stuffy\",\"we\\u2019re\",\"couldnt\",\"amethyst\",\"dusty\",\"pinnacle\",\"unenforceable\",\"hopping\",\"11-year\",\"childrearing\",\"^^^^automod\",\"thomas\",\"cfa\",\"bumpy\",\"nokia\",\"nextdoor\",\"dom(me\",\"collected\",\"groundwork\",\"guthrie\",\"didn\\u2018t\",\"gratify\",\"kicking\",\"dietetic\",\"saintly\",\"15th\",\"\\u28a0\",\"`\",\"lmaooo\",\"dropping\",\"laden\",\"thoughtlessness\",\"harrasment\",\"ascertain\",\"mowing\",\"workaround\",\"gravitate\",\"compulsory\",\"michigan\",\"quartz\",\"stbx\",\"journalist\",\"works\",\"likeness\",\"afar\",\"chiropractic\",\"m'lady\",\"template\",\"chiro\",\"unnerving\",\"dtf\",\"selflessly\",\"cw\",\"symmetrical\",\"bleak\",\"\\\\*not\\\\\",\"divisive\",\"squeak\",\"delighted\",\"theatric\",\"consolidate\",\"dyscalculia\",\"gah\",\"gloria\",\"eulogy\",\"cortex\",\"schtick\",\"titanic\",\"zinc\",\"people-\",\"eject\",\"legitimize\",\"dos\",\"thanos\",\"stained\",\"institutional\",\"penniless\",\"patty\",\"unappeale\",\"millisecond\",\"ntaare\",\"goddamnit\",\"expressive\",\"ibuprofen\",\"shitfaced\",\"js\",\"novice\",\"fuckhead\",\"docile\",\"behaviorist\",\"mocha\",\"contrived\",\"wedlock\",\"habe\",\"bu\",\"swerve\",\"imposter\",\"zealous\",\"yale\",\"covered\",\"fondle\",\"demo\",\"-she\",\"fiercely\",\"audi\",\"7k\",\"khaled\",\"letting\",\"viability\",\"trolley\",\"gop\",\"antimlm\",\"dingus\",\"baiting\",\"pisser\",\"vulgarity\",\"fore\",\"grump\",\"sass\",\"revolving\",\"gloomy\",\"ytawhile\",\"neanderthal\",\"bulldog\",\"malignant\",\"post](https://www.reddit.com\",\"mealtime\",\"glowing\",\"paygrade\",\"cajole\",\"sjws\",\"iceland\",\"activism\",\"crook\",\"standby\",\"amphetamine\",\"evoke\",\"x200b;just\",\"canned\",\"trivia\",\"esh.it\",\"romcom\",\"bandmate\",\"fingering\",\"artistry\",\"bloated\",\"one-\",\"indefinite\",\"\\ud83d\\ude15\",\"50th\",\"hearty\",\"fabrication\",\"lodge\",\"slit\",\"speedy\",\"crafty\",\"u.\",\"ww1\",\"sta\",\"esh.if\",\"cumbersome\",\"senator\",\"nta.when\",\"oi\",\"paintball\",\"blindsided\",\"mercilessly\",\"intensifie\",\"motherfucking\",\"nervousness\",\"unselfish\",\"abundant\",\"sift\",\"1-on-1\",\"commandeer\",\"darken\",\"hung\",\"sulky\",\"thriving\",\"plagiarize\",\"congenital\",\"sundays\",\"encapsulate\",\"extinguish\",\"cynic\",\"iran\",\"veal\",\"refuge\",\"that\\u2019\",\"scandalize\",\"uncut\",\"pairing\",\"legaladviceuk\",\"braindead\",\"associated\",\"obstruction\",\"republicans\",\"compassionately\",\"resize\",\"deffo\",\"assumed\",\"dsm\",\"turnaround\",\"lookin\",\"contributor\",\"apparel\",\"manhattan\",\"fatherless\",\"ostracism\",\"berth\",\"bestow\",\"overthink\",\"impersonal\",\"crocodile\",\"emancipation\",\"certified\",\"hsv-1\",\"ntaplease\",\"slacker\",\"remade\",\"waifu\",\"creeped\",\"golddigger\",\"fesse\",\"\\\"maybe\",\"unscented\",\"configuration\",\"willis\",\"chivalrous\",\"suckere\",\"aaaand\",\"30-year\",\"stagnate\",\"experiance\",\"10pm\",\"dictatorship\",\"rougher\",\"2-way\",\"crotchety\",\"thirde\",\"ytahave\",\"lowlife\",\"doctoral\",\"maliciouscompliance\",\"embassy\",\"~20\",\"fanfic\",\"setback\",\"lotr\",\"fireable\",\"kiddie\",\"flippantly\",\"prioritization\",\"dwight\",\"enabling\",\"cosmo\",\"gorge\",\"masquerade\",\"implantation\",\"torrent\",\"catheter\",\"nta.people\",\"mos\",\"goop\",\"sydney\",\"easiest\",\"governmental\",\"linear\",\"fuckwad\",\"temperamental\",\"expulsion\",\"unseen\",\"debauchery\",\"berry\",\"reeeeeally\",\"nationwide\",\"anemia\",\"bon\",\"sneer\",\"overburden\",\"orderly\",\"feefee\",\"cz\",\"treasured\",\"y'alls\",\"doozy\",\"weakling\",\"monty\",\"ta.you\",\"pulp\",\"strut\",\"brutality\",\"prohibition\",\"paralyzed\",\"synonym\",\"insulate\",\"heterosexuality\",\"tou\",\"immediatly\",\"reassuring\",\"crazier\",\"sensual\",\"schooler\",\"imgur\",\"paralegal\",\"radiation\",\"5:30\",\"ticketed\",\"vc\",\"lint\",\"doug\",\"strew\",\"she\\u2018s\",\"entrepreneur\",\"commonality\",\"volleyball\",\"ymbta\",\"motorbike\",\"embarrassingly\",\"loooove\",\"oppressed\",\"deadbolt\",\"\\ud83e\\udd37_\\u200d\",\"disassociate\",\"argumentation\",\"perch\",\"9yo\",\"forensic\",\"ytai\\u2019m\",\"plaque\",\"joseph\",\"impossibly\",\"greeks\",\"ism\",\"jr.\",\"vindictively\",\"clergy\",\"pacifier\",\"allllll\",\"mums\",\"spur\",\"\\ud83d\\udc9c\",\"glutton\",\"child-\",\"entangle\",\"dumbfuck\",\"harley\",\"repurpose\",\"achievable\",\"dug\",\"eclipse\",\"architecture\",\"curveball\",\"rsvp'd\",\"shoplifter\",\"greener\",\"sandal\",\"ntaeveryone\",\"preempt\",\"jot\",\"literacy\",\"hillary\",\"99.99\",\"whataboutism\",\"pointing\",\"ambient\",\"skit\",\"wrongness\",\"satanic\",\"indefensible\",\"reapply\",\"~~the\",\"preform\",\"shp-\",\"yes-\",\"buuuuut\",\"overgrown\",\"competency\",\"baller\",\"trivialise\",\"stuffed\",\"unsubscribe\",\"\\\"a\",\"dae\",\"pandora\",\"pivot\",\"erotica\",\"destruct\",\"gmail\",\"diabolical\",\"minutia\",\"neutrality\",\"oggle\",\"morgue\",\"poof\",\"dads\",\"nta.in\",\"defile\",\"chickene\",\"consentual\",\"nta.so\",\"bnb\",\"unjustly\",\"credence\",\"deity\",\"gong\",\"~10\",\"daisy\",\"kavanaugh\",\"obedient\",\"carrie\",\"strapped\",\"midday\",\"negotiating\",\"aitah\",\"nah.this\",\"hormonally\",\"roller\",\"jobs\",\"lite\",\"superfat\",\"ne\",\"xl\",\"occupant\",\"overtone\",\"hospitalization\",\"agonizing\",\"substitution\",\"lineup\",\"trumpet\",\"diaphragm\",\"preconceive\",\"\\ud83e\\udd22\",\"ar\",\"kaylee\",\"bart\",\"immaculate\",\"it's\",\"ridiculousness\",\"wanda\",\"infrequent\",\"responsability\",\"prideful\",\"loony\",\"\\ud83d\\ude24\",\"nhs\",\"interstate\",\"tithe\",\"panda\",\"unintelligent\",\"skyrim\",\"preemptive\"],\"shape\":[14732],\"dtype\":\"object\",\"order\":\"little\"}],[\"x\",{\"type\":\"ndarray\",\"array\":{\"type\":\"bytes\",\"data\":\"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\"},\"shape\":[14732],\"dtype\":\"float32\",\"order\":\"little\"}],[\"y\",{\"type\":\"ndarray\",\"array\":{\"type\":\"bytes\",\"data\":\"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\"},\"shape\":[14732],\"dtype\":\"float32\",\"order\":\"little\"}]]}}},\"view\":{\"type\":\"object\",\"name\":\"CDSView\",\"id\":\"p1103\",\"attributes\":{\"filter\":{\"type\":\"object\",\"name\":\"AllIndices\",\"id\":\"p1104\"}}},\"glyph\":{\"type\":\"object\",\"name\":\"Scatter\",\"id\":\"p1098\",\"attributes\":{\"x\":{\"type\":\"field\",\"field\":\"x\"},\"y\":{\"type\":\"field\",\"field\":\"y\"},\"size\":{\"type\":\"value\",\"value\":10},\"line_color\":{\"type\":\"value\",\"value\":\"blue\"},\"line_alpha\":{\"type\":\"value\",\"value\":0.2},\"fill_color\":{\"type\":\"value\",\"value\":\"blue\"},\"fill_alpha\":{\"type\":\"value\",\"value\":0.1},\"hatch_color\":{\"type\":\"value\",\"value\":\"blue\"}}},\"nonselection_glyph\":{\"type\":\"object\",\"name\":\"Scatter\",\"id\":\"p1099\",\"attributes\":{\"x\":{\"type\":\"field\",\"field\":\"x\"},\"y\":{\"type\":\"field\",\"field\":\"y\"},\"size\":{\"type\":\"value\",\"value\":10},\"line_color\":{\"type\":\"value\",\"value\":\"blue\"},\"line_alpha\":{\"type\":\"value\",\"value\":0.1},\"fill_color\":{\"type\":\"value\",\"value\":\"blue\"},\"fill_alpha\":{\"type\":\"value\",\"value\":0.1},\"hatch_color\":{\"type\":\"value\",\"value\":\"blue\"},\"hatch_alpha\":{\"type\":\"value\",\"value\":0.1}}},\"hover_glyph\":{\"type\":\"object\",\"name\":\"Scatter\",\"id\":\"p1100\",\"attributes\":{\"x\":{\"type\":\"field\",\"field\":\"x\"},\"y\":{\"type\":\"field\",\"field\":\"y\"},\"size\":{\"type\":\"value\",\"value\":10},\"line_alpha\":{\"type\":\"value\",\"value\":0.2},\"fill_color\":{\"type\":\"value\",\"value\":\"blue\"},\"fill_alpha\":{\"type\":\"value\",\"value\":0.1},\"hatch_color\":{\"type\":\"value\",\"value\":\"blue\"}}},\"muted_glyph\":{\"type\":\"object\",\"name\":\"Scatter\",\"id\":\"p1101\",\"attributes\":{\"x\":{\"type\":\"field\",\"field\":\"x\"},\"y\":{\"type\":\"field\",\"field\":\"y\"},\"size\":{\"type\":\"value\",\"value\":10},\"line_color\":{\"type\":\"value\",\"value\":\"blue\"},\"line_alpha\":{\"type\":\"value\",\"value\":0.2},\"fill_color\":{\"type\":\"value\",\"value\":\"blue\"},\"fill_alpha\":{\"type\":\"value\",\"value\":0.2},\"hatch_color\":{\"type\":\"value\",\"value\":\"blue\"},\"hatch_alpha\":{\"type\":\"value\",\"value\":0.2}}}}}],\"toolbar\":{\"type\":\"object\",\"name\":\"Toolbar\",\"id\":\"p1068\",\"attributes\":{\"tools\":[{\"type\":\"object\",\"name\":\"PanTool\",\"id\":\"p1081\"},{\"type\":\"object\",\"name\":\"WheelZoomTool\",\"id\":\"p1082\",\"attributes\":{\"renderers\":\"auto\"}},{\"type\":\"object\",\"name\":\"BoxZoomTool\",\"id\":\"p1083\",\"attributes\":{\"overlay\":{\"type\":\"object\",\"name\":\"BoxAnnotation\",\"id\":\"p1084\",\"attributes\":{\"syncable\":false,\"line_color\":\"black\",\"line_alpha\":1.0,\"line_width\":2,\"line_dash\":[4,4],\"fill_color\":\"lightgrey\",\"fill_alpha\":0.5,\"level\":\"overlay\",\"visible\":false,\"left\":{\"type\":\"number\",\"value\":\"nan\"},\"right\":{\"type\":\"number\",\"value\":\"nan\"},\"top\":{\"type\":\"number\",\"value\":\"nan\"},\"bottom\":{\"type\":\"number\",\"value\":\"nan\"},\"left_units\":\"canvas\",\"right_units\":\"canvas\",\"top_units\":\"canvas\",\"bottom_units\":\"canvas\",\"handles\":{\"type\":\"object\",\"name\":\"BoxInteractionHandles\",\"id\":\"p1090\",\"attributes\":{\"all\":{\"type\":\"object\",\"name\":\"AreaVisuals\",\"id\":\"p1089\",\"attributes\":{\"fill_color\":\"white\",\"hover_fill_color\":\"lightgray\"}}}}}}}},{\"type\":\"object\",\"name\":\"SaveTool\",\"id\":\"p1091\"},{\"type\":\"object\",\"name\":\"ResetTool\",\"id\":\"p1092\"},{\"type\":\"object\",\"name\":\"HelpTool\",\"id\":\"p1093\"},{\"type\":\"object\",\"name\":\"HoverTool\",\"id\":\"p1094\",\"attributes\":{\"renderers\":\"auto\",\"tooltips\":\"@index\"}}]}},\"left\":[{\"type\":\"object\",\"name\":\"LinearAxis\",\"id\":\"p1076\",\"attributes\":{\"ticker\":{\"type\":\"object\",\"name\":\"BasicTicker\",\"id\":\"p1077\",\"attributes\":{\"mantissas\":[1,2,5]}},\"formatter\":{\"type\":\"object\",\"name\":\"BasicTickFormatter\",\"id\":\"p1078\"},\"major_label_policy\":{\"type\":\"object\",\"name\":\"AllLabels\",\"id\":\"p1079\"}}}],\"below\":[{\"type\":\"object\",\"name\":\"LinearAxis\",\"id\":\"p1071\",\"attributes\":{\"ticker\":{\"type\":\"object\",\"name\":\"BasicTicker\",\"id\":\"p1072\",\"attributes\":{\"mantissas\":[1,2,5]}},\"formatter\":{\"type\":\"object\",\"name\":\"BasicTickFormatter\",\"id\":\"p1073\"},\"major_label_policy\":{\"type\":\"object\",\"name\":\"AllLabels\",\"id\":\"p1074\"}}}],\"center\":[{\"type\":\"object\",\"name\":\"Grid\",\"id\":\"p1075\",\"attributes\":{\"axis\":{\"id\":\"p1071\"}}},{\"type\":\"object\",\"name\":\"Grid\",\"id\":\"p1080\",\"attributes\":{\"dimension\":1,\"axis\":{\"id\":\"p1076\"}}}]}}]}};\n",
       "  const render_items = [{\"docid\":\"84f3a1ef-a08d-46fc-b781-db573a94b6cb\",\"roots\":{\"p1059\":\"b6331b19-21c8-488d-bba3-f0f126b3a7a5\"},\"root_ids\":[\"p1059\"]}];\n",
       "  void root.Bokeh.embed.embed_items_notebook(docs_json, render_items);\n",
       "  }\n",
       "  if (root.Bokeh !== undefined) {\n",
       "    embed_document(root);\n",
       "  } else {\n",
       "    let attempts = 0;\n",
       "    const timer = setInterval(function(root) {\n",
       "      if (root.Bokeh !== undefined) {\n",
       "        clearInterval(timer);\n",
       "        embed_document(root);\n",
       "      } else {\n",
       "        attempts++;\n",
       "        if (attempts > 100) {\n",
       "          clearInterval(timer);\n",
       "          console.log(\"Bokeh: ERROR: Unable to run BokehJS code because BokehJS library is missing\");\n",
       "        }\n",
       "      }\n",
       "    }, 10, root)\n",
       "  }\n",
       "})(window);"
      ],
      "application/vnd.bokehjs_exec.v0+json": ""
     },
     "metadata": {
      "application/vnd.bokehjs_exec.v0+json": {
       "id": "p1059"
      }
     },
     "output_type": "display_data"
    }
   ],
   "source": [
    "# Add our DataFrame as a ColumnDataSource for Bokeh\n",
    "plot_data = ColumnDataSource(tsne_df)\n",
    "\n",
    "# Create the plot and configure the title, dimensions, and tools\n",
    "tsne_plot = figure(title='t-SNE Word Embeddings')\n",
    "\n",
    "# Add a hover tool to display words on roll-over\n",
    "tsne_plot.add_tools(HoverTool(tooltips='@index') )\n",
    "\n",
    "# Draw the words as circles on the plot\n",
    "tsne_plot.circle('x', 'y',\n",
    "                 source=plot_data,\n",
    "                 color='blue',\n",
    "                 line_alpha=0.2,\n",
    "                 fill_alpha=0.1,\n",
    "                 size=10,\n",
    "                 hover_line_color='black')\n",
    "\n",
    "# Engage!\n",
    "show(tsne_plot)"
   ]
  },
  {
   "cell_type": "markdown",
   "metadata": {
    "id": "TtIBMFnNrQlL"
   },
   "source": [
    "<a id='bias'></a>\n",
    "\n",
    "# Discovering Language Bias With Word Embeddings\n",
    "\n",
    "The vector representations of word Embeddings can be used for all kinds of tasks. One such task is discovering **language bias**: language that is normatively oriented towards certain people, ideas, or things. \n",
    "\n",
    "In order to do this, we first need to postulate **concepts** that we suspect a bias towards. For example, people often associate words with masculinity or femininity (think of \"fireman\" vs \"nurse\"). This reflects both a normative construction of a gender binary, as well as stereotypes *within* that binary. We can attempt to quantify this directly using notions of distance with word embeddings.\n",
    "\n",
    "We first define **target concepts** for the terms we aim to identify biases towards (e.g., \"male\" and \"female\"). Then, we can then compute relative similarities of other word vectors – particularly, words that act as evaluative attributes such as \"strong\" and \"sensitive\". These words can be categorised through clustering algorithms and labeled through a semantic analysis system into more general (conceptual) biases, yielding a broad picture of the biases present in a discourse community.\n",
    "\n",
    "At the bottom of this notebook you'll find some [existing target sets](#target) that have been used in the literature on language biases."
   ]
  },
  {
   "cell_type": "markdown",
   "metadata": {
    "id": "FSbUVbC-rQlY"
   },
   "source": [
    "## Obtaining Biases Towards Target Concepts\n",
    "\n",
    "We will run our method of finding biased words towards our target sets. We will be using functions in an external file - `utils.py` - which you are free to look through if you're interested. Otherwise, feel free to use the functions as desired.\n",
    "\n",
    "Given a vocabulary and two sets of target words (such as, in this case, those for *women* and *men*), we rank the words from least to most biased. As such, we obtain two ordered lists of the most biased words towards each target set, obtaining an overall view of the bias distribution in that particular community with respect to those two target sets. \n",
    "\n",
    "The approach is as follows:\n",
    "- We calculate the centroid of a target set by averaging the embedding vectors in our target set (e.g. the vectors for `he, son, his, him, father, male` for our target concept `male`);\n",
    "- We calculate the cosine similarity between the vectors for all words in our vocabulary as compared to our two centroids (we also apply POS-filtering to only work with parts of speech we expect to be relevant);\n",
    "- We use a threshold based on standard deviation to determine how severe a bias needs to be before we include it;\n",
    "- We rank the words in the vocabulary of our word embeddings model based on their bias towards either target concept.\n",
    "\n",
    "The implicit hypothesis here is that word vectors closer to the centroid of a target concept are used more similarly with respect that concept. This, in effect, is an effort to quantify the bias of words in the discourse of a community."
   ]
  },
  {
   "cell_type": "code",
   "execution_count": 56,
   "metadata": {},
   "outputs": [
    {
     "name": "stderr",
     "output_type": "stream",
     "text": [
      "[nltk_data] Downloading package averaged_perceptron_tagger_eng to\n",
      "[nltk_data]     /Users/tomvannuenen/nltk_data...\n",
      "[nltk_data]   Package averaged_perceptron_tagger_eng is already up-to-\n",
      "[nltk_data]       date!\n"
     ]
    },
    {
     "data": {
      "text/plain": [
       "True"
      ]
     },
     "execution_count": 56,
     "metadata": {},
     "output_type": "execute_result"
    }
   ],
   "source": [
    "# Import function to calculate biased words\n",
    "from utils import calculate_biased_words\n",
    "import nltk\n",
    "nltk.download('averaged_perceptron_tagger_eng')"
   ]
  },
  {
   "cell_type": "markdown",
   "metadata": {},
   "source": [
    "Here are our target concept vectors. This is a critical choice: the centroid of these represents the concept at hand. What happens if you change the words included?"
   ]
  },
  {
   "cell_type": "code",
   "execution_count": 57,
   "metadata": {},
   "outputs": [],
   "source": [
    "target1 = ['sister' , 'female' , 'woman' , 'girl' , 'daughter' , 'she' , 'hers' , 'her']\n",
    "target2 = ['brother' , 'male' , 'man' , 'boy' , 'son' , 'he' , 'his' , 'him'] "
   ]
  },
  {
   "cell_type": "code",
   "execution_count": 58,
   "metadata": {},
   "outputs": [],
   "source": [
    "model = Word2Vec.load('../../data/aita_comments.emb')"
   ]
  },
  {
   "cell_type": "code",
   "execution_count": 59,
   "metadata": {
    "executionInfo": {
     "elapsed": 11526,
     "status": "ok",
     "timestamp": 1647303428120,
     "user": {
      "displayName": "Tom van Nuenen",
      "photoUrl": "https://lh3.googleusercontent.com/a-/AOh14GhuBmxDvW5I_LJfZtwlPqMFD8QGLVPP3skvpkTnuQ=s64",
      "userId": "10012302451096885058"
     },
     "user_tz": 300
    },
    "id": "SIzdtQV5rQlh",
    "scrolled": true
   },
   "outputs": [],
   "source": [
    "[b1, b2] = calculate_biased_words(model, target1, target2, 4)"
   ]
  },
  {
   "cell_type": "markdown",
   "metadata": {
    "id": "LJpg5BDydlYT"
   },
   "source": [
    "Let's print some biases. Here you see the most-biased words towards our target concepts (1 being *women*, 2 being *men*)."
   ]
  },
  {
   "cell_type": "code",
   "execution_count": 60,
   "metadata": {
    "colab": {
     "base_uri": "https://localhost:8080/"
    },
    "executionInfo": {
     "elapsed": 191,
     "status": "ok",
     "timestamp": 1647303438347,
     "user": {
      "displayName": "Tom van Nuenen",
      "photoUrl": "https://lh3.googleusercontent.com/a-/AOh14GhuBmxDvW5I_LJfZtwlPqMFD8QGLVPP3skvpkTnuQ=s64",
      "userId": "10012302451096885058"
     },
     "user_tz": 300
    },
    "id": "qc-9g8BErQll",
    "outputId": "93aa1d97-e9ad-4f17-9ce3-bef7d4079209"
   },
   "outputs": [
    {
     "name": "stdout",
     "output_type": "stream",
     "text": [
      "Biased words towards target set 1\n",
      "['body', 'business', 'involve', 'picture', 'terrible', 'short', 'major', 'describe', 'creepy', 'form', 'detail', 'threaten', 'communication', 'photo', 'attractive', 'shoe', 'trauma', 'painful', 'hurtful', 'social_medium', 'incident', 'intimate', 'method', 'intent', 'frame', 'nude', 'recover', 'vulnerable', 'chick', 'skinny', 'ntayou', 'sexy', 'loose', 'cross_line', 'childbirth', 'self_conscious', 'unattractive', 'fashion', 'invasive', 'acquaintance', 'unrealistic', 'downright', 'workout', 'shaming', 'superficial', 'athletic']\n"
     ]
    }
   ],
   "source": [
    "print('Biased words towards target set 1')\n",
    "print([word for word in b1.keys()])"
   ]
  },
  {
   "cell_type": "code",
   "execution_count": 61,
   "metadata": {},
   "outputs": [
    {
     "name": "stdout",
     "output_type": "stream",
     "text": [
      "Biased words towards target set 2\n",
      "['deal', 'okay', 'birthday', 'service', 'win', 'plenty', 'split', 'separate', 'secret', 'lock', 'trash', 'vote', 'x', 'buddy', 'btw', 'autistic', 'mate', 'uncle', 'vs', 'pride', 'reward', 'daddy', 'chip', 'prize', 'lord', 'pity', 'collect', 'usual', 'dear', 'upbringing', 'sir', 'heaven']\n"
     ]
    }
   ],
   "source": [
    "print('Biased words towards target set 2')\n",
    "print([word for word in b2.keys()] )"
   ]
  },
  {
   "cell_type": "markdown",
   "metadata": {
    "id": "Zpk0lx2xplMf"
   },
   "source": [
    "## Visualizing Biases using $t$-SNE\n",
    "\n",
    "We now return to our dimensionality reduction technique, $t$-SNE, to try and visualize these biased words in a 2D space using Bokeh."
   ]
  },
  {
   "cell_type": "code",
   "execution_count": 62,
   "metadata": {},
   "outputs": [],
   "source": [
    "import matplotlib.pyplot as plt\n",
    "import numpy as np\n",
    "\n",
    "from sklearn.manifold import TSNE\n",
    "%matplotlib inline"
   ]
  },
  {
   "cell_type": "code",
   "execution_count": 63,
   "metadata": {},
   "outputs": [],
   "source": [
    "with open(tsne_path, 'rb') as f:\n",
    "    X_tsne = pickle.load(f)\n",
    "    \n",
    "tsne_df = pd.read_pickle(tsne_df_path)"
   ]
  },
  {
   "cell_type": "code",
   "execution_count": 64,
   "metadata": {},
   "outputs": [],
   "source": [
    "# Convert biased term keys to arrays\n",
    "target1_idx = np.array([model.wv.key_to_index[key] for key in b1.keys()])\n",
    "target2_idx = np.array([model.wv.key_to_index[key] for key in b2.keys()])"
   ]
  },
  {
   "cell_type": "code",
   "execution_count": 65,
   "metadata": {},
   "outputs": [],
   "source": [
    "# Find t-sne values for the biased sets\n",
    "X_target1 = X_tsne[target1_idx]\n",
    "X_target2 = X_tsne[target2_idx]"
   ]
  },
  {
   "cell_type": "code",
   "execution_count": 66,
   "metadata": {},
   "outputs": [
    {
     "data": {
      "text/html": [
       "    <style>\n",
       "        .bk-notebook-logo {\n",
       "            display: block;\n",
       "            width: 20px;\n",
       "            height: 20px;\n",
       "            background-image: url(data:image/png;base64,iVBORw0KGgoAAAANSUhEUgAAABQAAAAUCAYAAACNiR0NAAAABHNCSVQICAgIfAhkiAAAAAlwSFlzAAALEgAACxIB0t1+/AAAABx0RVh0U29mdHdhcmUAQWRvYmUgRmlyZXdvcmtzIENTNui8sowAAAOkSURBVDiNjZRtaJVlGMd/1/08zzln5zjP1LWcU9N0NkN8m2CYjpgQYQXqSs0I84OLIC0hkEKoPtiH3gmKoiJDU7QpLgoLjLIQCpEsNJ1vqUOdO7ppbuec5+V+rj4ctwzd8IIbbi6u+8f1539dt3A78eXC7QizUF7gyV1fD1Yqg4JWz84yffhm0qkFqBogB9rM8tZdtwVsPUhWhGcFJngGeWrPzHm5oaMmkfEg1usvLFyc8jLRqDOMru7AyC8saQr7GG7f5fvDeH7Ej8CM66nIF+8yngt6HWaKh7k49Soy9nXurCi1o3qUbS3zWfrYeQDTB/Qj6kX6Ybhw4B+bOYoLKCC9H3Nu/leUTZ1JdRWkkn2ldcCamzrcf47KKXdAJllSlxAOkRgyHsGC/zRday5Qld9DyoM4/q/rUoy/CXh3jzOu3bHUVZeU+DEn8FInkPBFlu3+nW3Nw0mk6vCDiWg8CeJaxEwuHS3+z5RgY+YBR6V1Z1nxSOfoaPa4LASWxxdNp+VWTk7+4vzaou8v8PN+xo+KY2xsw6une2frhw05CTYOmQvsEhjhWjn0bmXPjpE1+kplmmkP3suftwTubK9Vq22qKmrBhpY4jvd5afdRA3wGjFAgcnTK2s4hY0/GPNIb0nErGMCRxWOOX64Z8RAC4oCXdklmEvcL8o0BfkNK4lUg9HTl+oPlQxdNo3Mg4Nv175e/1LDGzZen30MEjRUtmXSfiTVu1kK8W4txyV6BMKlbgk3lMwYCiusNy9fVfvvwMxv8Ynl6vxoByANLTWplvuj/nF9m2+PDtt1eiHPBr1oIfhCChQMBw6Aw0UulqTKZdfVvfG7VcfIqLG9bcldL/+pdWTLxLUy8Qq38heUIjh4XlzZxzQm19lLFlr8vdQ97rjZVOLf8nclzckbcD4wxXMidpX30sFd37Fv/GtwwhzhxGVAprjbg0gCAEeIgwCZyTV2Z1REEW8O4py0wsjeloKoMr6iCY6dP92H6Vw/oTyICIthibxjm/DfN9lVz8IqtqKYLUXfoKVMVQVVJOElGjrnnUt9T9wbgp8AyYKaGlqingHZU/uG2NTZSVqwHQTWkx9hxjkpWDaCg6Ckj5qebgBVbT3V3NNXMSiWSDdGV3hrtzla7J+duwPOToIg42ChPQOQjspnSlp1V+Gjdged7+8UN5CRAV7a5EdFNwCjEaBR27b3W890TE7g24NAP/mMDXRWrGoFPQI9ls/MWO2dWFAar/xcOIImbbpA3zgAAAABJRU5ErkJggg==);\n",
       "        }\n",
       "    </style>\n",
       "    <div>\n",
       "        <a href=\"https://bokeh.org\" target=\"_blank\" class=\"bk-notebook-logo\"></a>\n",
       "        <span id=\"a826e41e-758c-410d-9743-8eec76a09594\">Loading BokehJS ...</span>\n",
       "    </div>\n"
      ]
     },
     "metadata": {},
     "output_type": "display_data"
    },
    {
     "data": {
      "application/javascript": [
       "'use strict';\n",
       "(function(root) {\n",
       "  function now() {\n",
       "    return new Date();\n",
       "  }\n",
       "\n",
       "  const force = true;\n",
       "\n",
       "  if (typeof root._bokeh_onload_callbacks === \"undefined\" || force === true) {\n",
       "    root._bokeh_onload_callbacks = [];\n",
       "    root._bokeh_is_loading = undefined;\n",
       "  }\n",
       "\n",
       "const JS_MIME_TYPE = 'application/javascript';\n",
       "  const HTML_MIME_TYPE = 'text/html';\n",
       "  const EXEC_MIME_TYPE = 'application/vnd.bokehjs_exec.v0+json';\n",
       "  const CLASS_NAME = 'output_bokeh rendered_html';\n",
       "\n",
       "  /**\n",
       "   * Render data to the DOM node\n",
       "   */\n",
       "  function render(props, node) {\n",
       "    const script = document.createElement(\"script\");\n",
       "    node.appendChild(script);\n",
       "  }\n",
       "\n",
       "  /**\n",
       "   * Handle when an output is cleared or removed\n",
       "   */\n",
       "  function handleClearOutput(event, handle) {\n",
       "    function drop(id) {\n",
       "      const view = Bokeh.index.get_by_id(id)\n",
       "      if (view != null) {\n",
       "        view.model.document.clear()\n",
       "        Bokeh.index.delete(view)\n",
       "      }\n",
       "    }\n",
       "\n",
       "    const cell = handle.cell;\n",
       "\n",
       "    const id = cell.output_area._bokeh_element_id;\n",
       "    const server_id = cell.output_area._bokeh_server_id;\n",
       "\n",
       "    // Clean up Bokeh references\n",
       "    if (id != null) {\n",
       "      drop(id)\n",
       "    }\n",
       "\n",
       "    if (server_id !== undefined) {\n",
       "      // Clean up Bokeh references\n",
       "      const cmd_clean = \"from bokeh.io.state import curstate; print(curstate().uuid_to_server['\" + server_id + \"'].get_sessions()[0].document.roots[0]._id)\";\n",
       "      cell.notebook.kernel.execute(cmd_clean, {\n",
       "        iopub: {\n",
       "          output: function(msg) {\n",
       "            const id = msg.content.text.trim()\n",
       "            drop(id)\n",
       "          }\n",
       "        }\n",
       "      });\n",
       "      // Destroy server and session\n",
       "      const cmd_destroy = \"import bokeh.io.notebook as ion; ion.destroy_server('\" + server_id + \"')\";\n",
       "      cell.notebook.kernel.execute(cmd_destroy);\n",
       "    }\n",
       "  }\n",
       "\n",
       "  /**\n",
       "   * Handle when a new output is added\n",
       "   */\n",
       "  function handleAddOutput(event, handle) {\n",
       "    const output_area = handle.output_area;\n",
       "    const output = handle.output;\n",
       "\n",
       "    // limit handleAddOutput to display_data with EXEC_MIME_TYPE content only\n",
       "    if ((output.output_type != \"display_data\") || (!Object.prototype.hasOwnProperty.call(output.data, EXEC_MIME_TYPE))) {\n",
       "      return\n",
       "    }\n",
       "\n",
       "    const toinsert = output_area.element.find(\".\" + CLASS_NAME.split(' ')[0]);\n",
       "\n",
       "    if (output.metadata[EXEC_MIME_TYPE][\"id\"] !== undefined) {\n",
       "      toinsert[toinsert.length - 1].firstChild.textContent = output.data[JS_MIME_TYPE];\n",
       "      // store reference to embed id on output_area\n",
       "      output_area._bokeh_element_id = output.metadata[EXEC_MIME_TYPE][\"id\"];\n",
       "    }\n",
       "    if (output.metadata[EXEC_MIME_TYPE][\"server_id\"] !== undefined) {\n",
       "      const bk_div = document.createElement(\"div\");\n",
       "      bk_div.innerHTML = output.data[HTML_MIME_TYPE];\n",
       "      const script_attrs = bk_div.children[0].attributes;\n",
       "      for (let i = 0; i < script_attrs.length; i++) {\n",
       "        toinsert[toinsert.length - 1].firstChild.setAttribute(script_attrs[i].name, script_attrs[i].value);\n",
       "        toinsert[toinsert.length - 1].firstChild.textContent = bk_div.children[0].textContent\n",
       "      }\n",
       "      // store reference to server id on output_area\n",
       "      output_area._bokeh_server_id = output.metadata[EXEC_MIME_TYPE][\"server_id\"];\n",
       "    }\n",
       "  }\n",
       "\n",
       "  function register_renderer(events, OutputArea) {\n",
       "\n",
       "    function append_mime(data, metadata, element) {\n",
       "      // create a DOM node to render to\n",
       "      const toinsert = this.create_output_subarea(\n",
       "        metadata,\n",
       "        CLASS_NAME,\n",
       "        EXEC_MIME_TYPE\n",
       "      );\n",
       "      this.keyboard_manager.register_events(toinsert);\n",
       "      // Render to node\n",
       "      const props = {data: data, metadata: metadata[EXEC_MIME_TYPE]};\n",
       "      render(props, toinsert[toinsert.length - 1]);\n",
       "      element.append(toinsert);\n",
       "      return toinsert\n",
       "    }\n",
       "\n",
       "    /* Handle when an output is cleared or removed */\n",
       "    events.on('clear_output.CodeCell', handleClearOutput);\n",
       "    events.on('delete.Cell', handleClearOutput);\n",
       "\n",
       "    /* Handle when a new output is added */\n",
       "    events.on('output_added.OutputArea', handleAddOutput);\n",
       "\n",
       "    /**\n",
       "     * Register the mime type and append_mime function with output_area\n",
       "     */\n",
       "    OutputArea.prototype.register_mime_type(EXEC_MIME_TYPE, append_mime, {\n",
       "      /* Is output safe? */\n",
       "      safe: true,\n",
       "      /* Index of renderer in `output_area.display_order` */\n",
       "      index: 0\n",
       "    });\n",
       "  }\n",
       "\n",
       "  // register the mime type if in Jupyter Notebook environment and previously unregistered\n",
       "  if (root.Jupyter !== undefined) {\n",
       "    const events = require('base/js/events');\n",
       "    const OutputArea = require('notebook/js/outputarea').OutputArea;\n",
       "\n",
       "    if (OutputArea.prototype.mime_types().indexOf(EXEC_MIME_TYPE) == -1) {\n",
       "      register_renderer(events, OutputArea);\n",
       "    }\n",
       "  }\n",
       "  if (typeof (root._bokeh_timeout) === \"undefined\" || force === true) {\n",
       "    root._bokeh_timeout = Date.now() + 5000;\n",
       "    root._bokeh_failed_load = false;\n",
       "  }\n",
       "\n",
       "  const NB_LOAD_WARNING = {'data': {'text/html':\n",
       "     \"<div style='background-color: #fdd'>\\n\"+\n",
       "     \"<p>\\n\"+\n",
       "     \"BokehJS does not appear to have successfully loaded. If loading BokehJS from CDN, this \\n\"+\n",
       "     \"may be due to a slow or bad network connection. Possible fixes:\\n\"+\n",
       "     \"</p>\\n\"+\n",
       "     \"<ul>\\n\"+\n",
       "     \"<li>re-rerun `output_notebook()` to attempt to load from CDN again, or</li>\\n\"+\n",
       "     \"<li>use INLINE resources instead, as so:</li>\\n\"+\n",
       "     \"</ul>\\n\"+\n",
       "     \"<code>\\n\"+\n",
       "     \"from bokeh.resources import INLINE\\n\"+\n",
       "     \"output_notebook(resources=INLINE)\\n\"+\n",
       "     \"</code>\\n\"+\n",
       "     \"</div>\"}};\n",
       "\n",
       "  function display_loaded(error = null) {\n",
       "    const el = document.getElementById(\"a826e41e-758c-410d-9743-8eec76a09594\");\n",
       "    if (el != null) {\n",
       "      const html = (() => {\n",
       "        if (typeof root.Bokeh === \"undefined\") {\n",
       "          if (error == null) {\n",
       "            return \"BokehJS is loading ...\";\n",
       "          } else {\n",
       "            return \"BokehJS failed to load.\";\n",
       "          }\n",
       "        } else {\n",
       "          const prefix = `BokehJS ${root.Bokeh.version}`;\n",
       "          if (error == null) {\n",
       "            return `${prefix} successfully loaded.`;\n",
       "          } else {\n",
       "            return `${prefix} <b>encountered errors</b> while loading and may not function as expected.`;\n",
       "          }\n",
       "        }\n",
       "      })();\n",
       "      el.innerHTML = html;\n",
       "\n",
       "      if (error != null) {\n",
       "        const wrapper = document.createElement(\"div\");\n",
       "        wrapper.style.overflow = \"auto\";\n",
       "        wrapper.style.height = \"5em\";\n",
       "        wrapper.style.resize = \"vertical\";\n",
       "        const content = document.createElement(\"div\");\n",
       "        content.style.fontFamily = \"monospace\";\n",
       "        content.style.whiteSpace = \"pre-wrap\";\n",
       "        content.style.backgroundColor = \"rgb(255, 221, 221)\";\n",
       "        content.textContent = error.stack ?? error.toString();\n",
       "        wrapper.append(content);\n",
       "        el.append(wrapper);\n",
       "      }\n",
       "    } else if (Date.now() < root._bokeh_timeout) {\n",
       "      setTimeout(() => display_loaded(error), 100);\n",
       "    }\n",
       "  }\n",
       "\n",
       "  function run_callbacks() {\n",
       "    try {\n",
       "      root._bokeh_onload_callbacks.forEach(function(callback) {\n",
       "        if (callback != null)\n",
       "          callback();\n",
       "      });\n",
       "    } finally {\n",
       "      delete root._bokeh_onload_callbacks\n",
       "    }\n",
       "    console.debug(\"Bokeh: all callbacks have finished\");\n",
       "  }\n",
       "\n",
       "  function load_libs(css_urls, js_urls, callback) {\n",
       "    if (css_urls == null) css_urls = [];\n",
       "    if (js_urls == null) js_urls = [];\n",
       "\n",
       "    root._bokeh_onload_callbacks.push(callback);\n",
       "    if (root._bokeh_is_loading > 0) {\n",
       "      console.debug(\"Bokeh: BokehJS is being loaded, scheduling callback at\", now());\n",
       "      return null;\n",
       "    }\n",
       "    if (js_urls == null || js_urls.length === 0) {\n",
       "      run_callbacks();\n",
       "      return null;\n",
       "    }\n",
       "    console.debug(\"Bokeh: BokehJS not loaded, scheduling load and callback at\", now());\n",
       "    root._bokeh_is_loading = css_urls.length + js_urls.length;\n",
       "\n",
       "    function on_load() {\n",
       "      root._bokeh_is_loading--;\n",
       "      if (root._bokeh_is_loading === 0) {\n",
       "        console.debug(\"Bokeh: all BokehJS libraries/stylesheets loaded\");\n",
       "        run_callbacks()\n",
       "      }\n",
       "    }\n",
       "\n",
       "    function on_error(url) {\n",
       "      console.error(\"failed to load \" + url);\n",
       "    }\n",
       "\n",
       "    for (let i = 0; i < css_urls.length; i++) {\n",
       "      const url = css_urls[i];\n",
       "      const element = document.createElement(\"link\");\n",
       "      element.onload = on_load;\n",
       "      element.onerror = on_error.bind(null, url);\n",
       "      element.rel = \"stylesheet\";\n",
       "      element.type = \"text/css\";\n",
       "      element.href = url;\n",
       "      console.debug(\"Bokeh: injecting link tag for BokehJS stylesheet: \", url);\n",
       "      document.body.appendChild(element);\n",
       "    }\n",
       "\n",
       "    for (let i = 0; i < js_urls.length; i++) {\n",
       "      const url = js_urls[i];\n",
       "      const element = document.createElement('script');\n",
       "      element.onload = on_load;\n",
       "      element.onerror = on_error.bind(null, url);\n",
       "      element.async = false;\n",
       "      element.src = url;\n",
       "      console.debug(\"Bokeh: injecting script tag for BokehJS library: \", url);\n",
       "      document.head.appendChild(element);\n",
       "    }\n",
       "  };\n",
       "\n",
       "  function inject_raw_css(css) {\n",
       "    const element = document.createElement(\"style\");\n",
       "    element.appendChild(document.createTextNode(css));\n",
       "    document.body.appendChild(element);\n",
       "  }\n",
       "\n",
       "  const js_urls = [\"https://cdn.bokeh.org/bokeh/release/bokeh-3.6.2.min.js\", \"https://cdn.bokeh.org/bokeh/release/bokeh-gl-3.6.2.min.js\", \"https://cdn.bokeh.org/bokeh/release/bokeh-widgets-3.6.2.min.js\", \"https://cdn.bokeh.org/bokeh/release/bokeh-tables-3.6.2.min.js\", \"https://cdn.bokeh.org/bokeh/release/bokeh-mathjax-3.6.2.min.js\"];\n",
       "  const css_urls = [];\n",
       "\n",
       "  const inline_js = [    function(Bokeh) {\n",
       "      Bokeh.set_log_level(\"info\");\n",
       "    },\n",
       "function(Bokeh) {\n",
       "    }\n",
       "  ];\n",
       "\n",
       "  function run_inline_js() {\n",
       "    if (root.Bokeh !== undefined || force === true) {\n",
       "      try {\n",
       "            for (let i = 0; i < inline_js.length; i++) {\n",
       "      inline_js[i].call(root, root.Bokeh);\n",
       "    }\n",
       "\n",
       "      } catch (error) {display_loaded(error);throw error;\n",
       "      }if (force === true) {\n",
       "        display_loaded();\n",
       "      }} else if (Date.now() < root._bokeh_timeout) {\n",
       "      setTimeout(run_inline_js, 100);\n",
       "    } else if (!root._bokeh_failed_load) {\n",
       "      console.log(\"Bokeh: BokehJS failed to load within specified timeout.\");\n",
       "      root._bokeh_failed_load = true;\n",
       "    } else if (force !== true) {\n",
       "      const cell = $(document.getElementById(\"a826e41e-758c-410d-9743-8eec76a09594\")).parents('.cell').data().cell;\n",
       "      cell.output_area.append_execute_result(NB_LOAD_WARNING)\n",
       "    }\n",
       "  }\n",
       "\n",
       "  if (root._bokeh_is_loading === 0) {\n",
       "    console.debug(\"Bokeh: BokehJS loaded, going straight to plotting\");\n",
       "    run_inline_js();\n",
       "  } else {\n",
       "    load_libs(css_urls, js_urls, function() {\n",
       "      console.debug(\"Bokeh: BokehJS plotting callback run at\", now());\n",
       "      run_inline_js();\n",
       "    });\n",
       "  }\n",
       "}(window));"
      ],
      "application/vnd.bokehjs_load.v0+json": "'use strict';\n(function(root) {\n  function now() {\n    return new Date();\n  }\n\n  const force = true;\n\n  if (typeof root._bokeh_onload_callbacks === \"undefined\" || force === true) {\n    root._bokeh_onload_callbacks = [];\n    root._bokeh_is_loading = undefined;\n  }\n\n\n  if (typeof (root._bokeh_timeout) === \"undefined\" || force === true) {\n    root._bokeh_timeout = Date.now() + 5000;\n    root._bokeh_failed_load = false;\n  }\n\n  const NB_LOAD_WARNING = {'data': {'text/html':\n     \"<div style='background-color: #fdd'>\\n\"+\n     \"<p>\\n\"+\n     \"BokehJS does not appear to have successfully loaded. If loading BokehJS from CDN, this \\n\"+\n     \"may be due to a slow or bad network connection. Possible fixes:\\n\"+\n     \"</p>\\n\"+\n     \"<ul>\\n\"+\n     \"<li>re-rerun `output_notebook()` to attempt to load from CDN again, or</li>\\n\"+\n     \"<li>use INLINE resources instead, as so:</li>\\n\"+\n     \"</ul>\\n\"+\n     \"<code>\\n\"+\n     \"from bokeh.resources import INLINE\\n\"+\n     \"output_notebook(resources=INLINE)\\n\"+\n     \"</code>\\n\"+\n     \"</div>\"}};\n\n  function display_loaded(error = null) {\n    const el = document.getElementById(\"a826e41e-758c-410d-9743-8eec76a09594\");\n    if (el != null) {\n      const html = (() => {\n        if (typeof root.Bokeh === \"undefined\") {\n          if (error == null) {\n            return \"BokehJS is loading ...\";\n          } else {\n            return \"BokehJS failed to load.\";\n          }\n        } else {\n          const prefix = `BokehJS ${root.Bokeh.version}`;\n          if (error == null) {\n            return `${prefix} successfully loaded.`;\n          } else {\n            return `${prefix} <b>encountered errors</b> while loading and may not function as expected.`;\n          }\n        }\n      })();\n      el.innerHTML = html;\n\n      if (error != null) {\n        const wrapper = document.createElement(\"div\");\n        wrapper.style.overflow = \"auto\";\n        wrapper.style.height = \"5em\";\n        wrapper.style.resize = \"vertical\";\n        const content = document.createElement(\"div\");\n        content.style.fontFamily = \"monospace\";\n        content.style.whiteSpace = \"pre-wrap\";\n        content.style.backgroundColor = \"rgb(255, 221, 221)\";\n        content.textContent = error.stack ?? error.toString();\n        wrapper.append(content);\n        el.append(wrapper);\n      }\n    } else if (Date.now() < root._bokeh_timeout) {\n      setTimeout(() => display_loaded(error), 100);\n    }\n  }\n\n  function run_callbacks() {\n    try {\n      root._bokeh_onload_callbacks.forEach(function(callback) {\n        if (callback != null)\n          callback();\n      });\n    } finally {\n      delete root._bokeh_onload_callbacks\n    }\n    console.debug(\"Bokeh: all callbacks have finished\");\n  }\n\n  function load_libs(css_urls, js_urls, callback) {\n    if (css_urls == null) css_urls = [];\n    if (js_urls == null) js_urls = [];\n\n    root._bokeh_onload_callbacks.push(callback);\n    if (root._bokeh_is_loading > 0) {\n      console.debug(\"Bokeh: BokehJS is being loaded, scheduling callback at\", now());\n      return null;\n    }\n    if (js_urls == null || js_urls.length === 0) {\n      run_callbacks();\n      return null;\n    }\n    console.debug(\"Bokeh: BokehJS not loaded, scheduling load and callback at\", now());\n    root._bokeh_is_loading = css_urls.length + js_urls.length;\n\n    function on_load() {\n      root._bokeh_is_loading--;\n      if (root._bokeh_is_loading === 0) {\n        console.debug(\"Bokeh: all BokehJS libraries/stylesheets loaded\");\n        run_callbacks()\n      }\n    }\n\n    function on_error(url) {\n      console.error(\"failed to load \" + url);\n    }\n\n    for (let i = 0; i < css_urls.length; i++) {\n      const url = css_urls[i];\n      const element = document.createElement(\"link\");\n      element.onload = on_load;\n      element.onerror = on_error.bind(null, url);\n      element.rel = \"stylesheet\";\n      element.type = \"text/css\";\n      element.href = url;\n      console.debug(\"Bokeh: injecting link tag for BokehJS stylesheet: \", url);\n      document.body.appendChild(element);\n    }\n\n    for (let i = 0; i < js_urls.length; i++) {\n      const url = js_urls[i];\n      const element = document.createElement('script');\n      element.onload = on_load;\n      element.onerror = on_error.bind(null, url);\n      element.async = false;\n      element.src = url;\n      console.debug(\"Bokeh: injecting script tag for BokehJS library: \", url);\n      document.head.appendChild(element);\n    }\n  };\n\n  function inject_raw_css(css) {\n    const element = document.createElement(\"style\");\n    element.appendChild(document.createTextNode(css));\n    document.body.appendChild(element);\n  }\n\n  const js_urls = [\"https://cdn.bokeh.org/bokeh/release/bokeh-3.6.2.min.js\", \"https://cdn.bokeh.org/bokeh/release/bokeh-gl-3.6.2.min.js\", \"https://cdn.bokeh.org/bokeh/release/bokeh-widgets-3.6.2.min.js\", \"https://cdn.bokeh.org/bokeh/release/bokeh-tables-3.6.2.min.js\", \"https://cdn.bokeh.org/bokeh/release/bokeh-mathjax-3.6.2.min.js\"];\n  const css_urls = [];\n\n  const inline_js = [    function(Bokeh) {\n      Bokeh.set_log_level(\"info\");\n    },\nfunction(Bokeh) {\n    }\n  ];\n\n  function run_inline_js() {\n    if (root.Bokeh !== undefined || force === true) {\n      try {\n            for (let i = 0; i < inline_js.length; i++) {\n      inline_js[i].call(root, root.Bokeh);\n    }\n\n      } catch (error) {display_loaded(error);throw error;\n      }if (force === true) {\n        display_loaded();\n      }} else if (Date.now() < root._bokeh_timeout) {\n      setTimeout(run_inline_js, 100);\n    } else if (!root._bokeh_failed_load) {\n      console.log(\"Bokeh: BokehJS failed to load within specified timeout.\");\n      root._bokeh_failed_load = true;\n    } else if (force !== true) {\n      const cell = $(document.getElementById(\"a826e41e-758c-410d-9743-8eec76a09594\")).parents('.cell').data().cell;\n      cell.output_area.append_execute_result(NB_LOAD_WARNING)\n    }\n  }\n\n  if (root._bokeh_is_loading === 0) {\n    console.debug(\"Bokeh: BokehJS loaded, going straight to plotting\");\n    run_inline_js();\n  } else {\n    load_libs(css_urls, js_urls, function() {\n      console.debug(\"Bokeh: BokehJS plotting callback run at\", now());\n      run_inline_js();\n    });\n  }\n}(window));"
     },
     "metadata": {},
     "output_type": "display_data"
    },
    {
     "data": {
      "text/html": [
       "\n",
       "  <div id=\"af8966f2-79fb-4b48-b9f2-d85715b513cc\" data-root-id=\"p1177\" style=\"display: contents;\"></div>\n"
      ]
     },
     "metadata": {},
     "output_type": "display_data"
    },
    {
     "data": {
      "application/javascript": [
       "(function(root) {\n",
       "  function embed_document(root) {\n",
       "  const docs_json = {\"6633c0cf-f327-4b7a-86b7-3a342134c1e2\":{\"version\":\"3.6.2\",\"title\":\"Bokeh Application\",\"roots\":[{\"type\":\"object\",\"name\":\"Figure\",\"id\":\"p1177\",\"attributes\":{\"x_range\":{\"type\":\"object\",\"name\":\"DataRange1d\",\"id\":\"p1178\"},\"y_range\":{\"type\":\"object\",\"name\":\"DataRange1d\",\"id\":\"p1179\"},\"x_scale\":{\"type\":\"object\",\"name\":\"LinearScale\",\"id\":\"p1186\"},\"y_scale\":{\"type\":\"object\",\"name\":\"LinearScale\",\"id\":\"p1187\"},\"title\":{\"type\":\"object\",\"name\":\"Title\",\"id\":\"p1184\"},\"renderers\":[{\"type\":\"object\",\"name\":\"GlyphRenderer\",\"id\":\"p1223\",\"attributes\":{\"data_source\":{\"type\":\"object\",\"name\":\"ColumnDataSource\",\"id\":\"p1211\",\"attributes\":{\"selected\":{\"type\":\"object\",\"name\":\"Selection\",\"id\":\"p1212\",\"attributes\":{\"indices\":[],\"line_indices\":[]}},\"selection_policy\":{\"type\":\"object\",\"name\":\"UnionRenderers\",\"id\":\"p1213\"},\"data\":{\"type\":\"map\",\"entries\":[[\"x\",{\"type\":\"ndarray\",\"array\":{\"type\":\"bytes\",\"data\":\"rUkXwaraG8D4NLrBJBs7QT/eN8LanFJBEkUfwvq7sMEtaW7BQIm+wX0pncAV+qPBG2pDwvTpOkENvELChD5cQqhwMMLOHnLBcioJwpDiEEGgeEHC8aphwoW0ucFmBirCzgoYwhedUUEyh8HBF00wwhILj8CvIXRBjaCOwX7nPkILCeZAP8XAwViLycEF5z3CsZ5CwjIyL0J5ybjBCphdwQTRacFmUAjC/obSQcxevMEHUdnBEI7+QQ==\"},\"shape\":[46],\"dtype\":\"float32\",\"order\":\"little\"}],[\"y\",{\"type\":\"ndarray\",\"array\":{\"type\":\"bytes\",\"data\":\"ImVYwl06u8E+Ja5AiQQpQm0lyUGJ+E3C5O9hwT/ivkHELNhBc/8HwWMJCkJCN3NB9nc9Qf0WKUIbzg9BcKQdPvqKosGKA0zCK48SQo/UJUJY5tZBKH1hQBGyZMI6VgRC6ix1QX9rKUIFyh3CK7S4QT5fq0E6IVTCWeP/QPGlFkEkPG6/qhaKQTxyP8LoYaRBDZAPQQOHEkG3oVTCrfz/Plypr8CZVRdCW6fgwUSJOkI9gzBCIOBfQQ==\"},\"shape\":[46],\"dtype\":\"float32\",\"order\":\"little\"}],[\"label\",[\"body\",\"business\",\"involve\",\"picture\",\"terrible\",\"short\",\"major\",\"describe\",\"creepy\",\"form\",\"detail\",\"threaten\",\"communication\",\"photo\",\"attractive\",\"shoe\",\"trauma\",\"painful\",\"hurtful\",\"social_medium\",\"incident\",\"intimate\",\"method\",\"intent\",\"frame\",\"nude\",\"recover\",\"vulnerable\",\"chick\",\"skinny\",\"ntayou\",\"sexy\",\"loose\",\"cross_line\",\"childbirth\",\"self_conscious\",\"unattractive\",\"fashion\",\"invasive\",\"acquaintance\",\"unrealistic\",\"downright\",\"workout\",\"shaming\",\"superficial\",\"athletic\"]]]}}},\"view\":{\"type\":\"object\",\"name\":\"CDSView\",\"id\":\"p1224\",\"attributes\":{\"filter\":{\"type\":\"object\",\"name\":\"AllIndices\",\"id\":\"p1225\"}}},\"glyph\":{\"type\":\"object\",\"name\":\"Scatter\",\"id\":\"p1220\",\"attributes\":{\"x\":{\"type\":\"field\",\"field\":\"x\"},\"y\":{\"type\":\"field\",\"field\":\"y\"},\"size\":{\"type\":\"value\",\"value\":8},\"line_color\":{\"type\":\"value\",\"value\":\"blue\"},\"fill_color\":{\"type\":\"value\",\"value\":\"blue\"},\"hatch_color\":{\"type\":\"value\",\"value\":\"blue\"}}},\"nonselection_glyph\":{\"type\":\"object\",\"name\":\"Scatter\",\"id\":\"p1221\",\"attributes\":{\"x\":{\"type\":\"field\",\"field\":\"x\"},\"y\":{\"type\":\"field\",\"field\":\"y\"},\"size\":{\"type\":\"value\",\"value\":8},\"line_color\":{\"type\":\"value\",\"value\":\"blue\"},\"line_alpha\":{\"type\":\"value\",\"value\":0.1},\"fill_color\":{\"type\":\"value\",\"value\":\"blue\"},\"fill_alpha\":{\"type\":\"value\",\"value\":0.1},\"hatch_color\":{\"type\":\"value\",\"value\":\"blue\"},\"hatch_alpha\":{\"type\":\"value\",\"value\":0.1}}},\"muted_glyph\":{\"type\":\"object\",\"name\":\"Scatter\",\"id\":\"p1222\",\"attributes\":{\"x\":{\"type\":\"field\",\"field\":\"x\"},\"y\":{\"type\":\"field\",\"field\":\"y\"},\"size\":{\"type\":\"value\",\"value\":8},\"line_color\":{\"type\":\"value\",\"value\":\"blue\"},\"line_alpha\":{\"type\":\"value\",\"value\":0.2},\"fill_color\":{\"type\":\"value\",\"value\":\"blue\"},\"fill_alpha\":{\"type\":\"value\",\"value\":0.2},\"hatch_color\":{\"type\":\"value\",\"value\":\"blue\"},\"hatch_alpha\":{\"type\":\"value\",\"value\":0.2}}}}},{\"type\":\"object\",\"name\":\"GlyphRenderer\",\"id\":\"p1232\",\"attributes\":{\"data_source\":{\"type\":\"object\",\"name\":\"ColumnDataSource\",\"id\":\"p1214\",\"attributes\":{\"selected\":{\"type\":\"object\",\"name\":\"Selection\",\"id\":\"p1215\",\"attributes\":{\"indices\":[],\"line_indices\":[]}},\"selection_policy\":{\"type\":\"object\",\"name\":\"UnionRenderers\",\"id\":\"p1216\"},\"data\":{\"type\":\"map\",\"entries\":[[\"x\",{\"type\":\"ndarray\",\"array\":{\"type\":\"bytes\",\"data\":\"ktADwgDHg8HZgAdBMPE0QkPO70H3XPk/FVn1P1AFJ8Hku0jCN+YQQudBMEKVBIbAzv8HQmKBOb+glsU/c78Awv3+WMA3qzZAqnpzwdza+cDcIIi///S2wbvHBkKRL/VB13MjQciVK8JuHVZBh099wQ7bBUH6SiHCuUMGQff/50E=\"},\"shape\":[32],\"dtype\":\"float32\",\"order\":\"little\"}],[\"y\",{\"type\":\"ndarray\",\"array\":{\"type\":\"bytes\",\"data\":\"STHcQMED/UAPiirBA6YAwrhS7UB74FW/9DQlwpP9rsH3enlB1XGJwS6PecFSkSxCBJqTQTXll0HGAoVBmmYcwpgqkEFP3WDArNLawMjTVELhPdTBzMWpwYbkKMKi8elAMSDXQXnbmT7fzAbCqKUrwCY350EljpjAcmHYQS/R3kE=\"},\"shape\":[32],\"dtype\":\"float32\",\"order\":\"little\"}],[\"label\",[\"deal\",\"okay\",\"birthday\",\"service\",\"win\",\"plenty\",\"split\",\"separate\",\"secret\",\"lock\",\"trash\",\"vote\",\"x\",\"buddy\",\"btw\",\"autistic\",\"mate\",\"uncle\",\"vs\",\"pride\",\"reward\",\"daddy\",\"chip\",\"prize\",\"lord\",\"pity\",\"collect\",\"usual\",\"dear\",\"upbringing\",\"sir\",\"heaven\"]]]}}},\"view\":{\"type\":\"object\",\"name\":\"CDSView\",\"id\":\"p1233\",\"attributes\":{\"filter\":{\"type\":\"object\",\"name\":\"AllIndices\",\"id\":\"p1234\"}}},\"glyph\":{\"type\":\"object\",\"name\":\"Scatter\",\"id\":\"p1229\",\"attributes\":{\"x\":{\"type\":\"field\",\"field\":\"x\"},\"y\":{\"type\":\"field\",\"field\":\"y\"},\"size\":{\"type\":\"value\",\"value\":8},\"line_color\":{\"type\":\"value\",\"value\":\"red\"},\"fill_color\":{\"type\":\"value\",\"value\":\"red\"},\"hatch_color\":{\"type\":\"value\",\"value\":\"red\"}}},\"nonselection_glyph\":{\"type\":\"object\",\"name\":\"Scatter\",\"id\":\"p1230\",\"attributes\":{\"x\":{\"type\":\"field\",\"field\":\"x\"},\"y\":{\"type\":\"field\",\"field\":\"y\"},\"size\":{\"type\":\"value\",\"value\":8},\"line_color\":{\"type\":\"value\",\"value\":\"red\"},\"line_alpha\":{\"type\":\"value\",\"value\":0.1},\"fill_color\":{\"type\":\"value\",\"value\":\"red\"},\"fill_alpha\":{\"type\":\"value\",\"value\":0.1},\"hatch_color\":{\"type\":\"value\",\"value\":\"red\"},\"hatch_alpha\":{\"type\":\"value\",\"value\":0.1}}},\"muted_glyph\":{\"type\":\"object\",\"name\":\"Scatter\",\"id\":\"p1231\",\"attributes\":{\"x\":{\"type\":\"field\",\"field\":\"x\"},\"y\":{\"type\":\"field\",\"field\":\"y\"},\"size\":{\"type\":\"value\",\"value\":8},\"line_color\":{\"type\":\"value\",\"value\":\"red\"},\"line_alpha\":{\"type\":\"value\",\"value\":0.2},\"fill_color\":{\"type\":\"value\",\"value\":\"red\"},\"fill_alpha\":{\"type\":\"value\",\"value\":0.2},\"hatch_color\":{\"type\":\"value\",\"value\":\"red\"},\"hatch_alpha\":{\"type\":\"value\",\"value\":0.2}}}}}],\"toolbar\":{\"type\":\"object\",\"name\":\"Toolbar\",\"id\":\"p1185\",\"attributes\":{\"tools\":[{\"type\":\"object\",\"name\":\"PanTool\",\"id\":\"p1198\"},{\"type\":\"object\",\"name\":\"WheelZoomTool\",\"id\":\"p1199\",\"attributes\":{\"renderers\":\"auto\"}},{\"type\":\"object\",\"name\":\"BoxZoomTool\",\"id\":\"p1200\",\"attributes\":{\"overlay\":{\"type\":\"object\",\"name\":\"BoxAnnotation\",\"id\":\"p1201\",\"attributes\":{\"syncable\":false,\"line_color\":\"black\",\"line_alpha\":1.0,\"line_width\":2,\"line_dash\":[4,4],\"fill_color\":\"lightgrey\",\"fill_alpha\":0.5,\"level\":\"overlay\",\"visible\":false,\"left\":{\"type\":\"number\",\"value\":\"nan\"},\"right\":{\"type\":\"number\",\"value\":\"nan\"},\"top\":{\"type\":\"number\",\"value\":\"nan\"},\"bottom\":{\"type\":\"number\",\"value\":\"nan\"},\"left_units\":\"canvas\",\"right_units\":\"canvas\",\"top_units\":\"canvas\",\"bottom_units\":\"canvas\",\"handles\":{\"type\":\"object\",\"name\":\"BoxInteractionHandles\",\"id\":\"p1207\",\"attributes\":{\"all\":{\"type\":\"object\",\"name\":\"AreaVisuals\",\"id\":\"p1206\",\"attributes\":{\"fill_color\":\"white\",\"hover_fill_color\":\"lightgray\"}}}}}}}},{\"type\":\"object\",\"name\":\"SaveTool\",\"id\":\"p1208\"},{\"type\":\"object\",\"name\":\"ResetTool\",\"id\":\"p1209\"},{\"type\":\"object\",\"name\":\"HelpTool\",\"id\":\"p1210\"}]}},\"left\":[{\"type\":\"object\",\"name\":\"LinearAxis\",\"id\":\"p1193\",\"attributes\":{\"ticker\":{\"type\":\"object\",\"name\":\"BasicTicker\",\"id\":\"p1194\",\"attributes\":{\"mantissas\":[1,2,5]}},\"formatter\":{\"type\":\"object\",\"name\":\"BasicTickFormatter\",\"id\":\"p1195\"},\"major_label_policy\":{\"type\":\"object\",\"name\":\"AllLabels\",\"id\":\"p1196\"}}}],\"below\":[{\"type\":\"object\",\"name\":\"LinearAxis\",\"id\":\"p1188\",\"attributes\":{\"ticker\":{\"type\":\"object\",\"name\":\"BasicTicker\",\"id\":\"p1189\",\"attributes\":{\"mantissas\":[1,2,5]}},\"formatter\":{\"type\":\"object\",\"name\":\"BasicTickFormatter\",\"id\":\"p1190\"},\"major_label_policy\":{\"type\":\"object\",\"name\":\"AllLabels\",\"id\":\"p1191\"}}}],\"center\":[{\"type\":\"object\",\"name\":\"Grid\",\"id\":\"p1192\",\"attributes\":{\"axis\":{\"id\":\"p1188\"}}},{\"type\":\"object\",\"name\":\"Grid\",\"id\":\"p1197\",\"attributes\":{\"dimension\":1,\"axis\":{\"id\":\"p1193\"}}},{\"type\":\"object\",\"name\":\"LabelSet\",\"id\":\"p1235\",\"attributes\":{\"source\":{\"id\":\"p1211\"},\"x\":{\"type\":\"field\",\"field\":\"x\"},\"y\":{\"type\":\"field\",\"field\":\"y\"},\"text\":{\"type\":\"field\",\"field\":\"label\"},\"x_offset\":{\"type\":\"value\",\"value\":6},\"y_offset\":{\"type\":\"value\",\"value\":3}}},{\"type\":\"object\",\"name\":\"LabelSet\",\"id\":\"p1239\",\"attributes\":{\"source\":{\"id\":\"p1214\"},\"x\":{\"type\":\"field\",\"field\":\"x\"},\"y\":{\"type\":\"field\",\"field\":\"y\"},\"text\":{\"type\":\"field\",\"field\":\"label\"},\"x_offset\":{\"type\":\"value\",\"value\":6},\"y_offset\":{\"type\":\"value\",\"value\":3}}}]}}]}};\n",
       "  const render_items = [{\"docid\":\"6633c0cf-f327-4b7a-86b7-3a342134c1e2\",\"roots\":{\"p1177\":\"af8966f2-79fb-4b48-b9f2-d85715b513cc\"},\"root_ids\":[\"p1177\"]}];\n",
       "  void root.Bokeh.embed.embed_items_notebook(docs_json, render_items);\n",
       "  }\n",
       "  if (root.Bokeh !== undefined) {\n",
       "    embed_document(root);\n",
       "  } else {\n",
       "    let attempts = 0;\n",
       "    const timer = setInterval(function(root) {\n",
       "      if (root.Bokeh !== undefined) {\n",
       "        clearInterval(timer);\n",
       "        embed_document(root);\n",
       "      } else {\n",
       "        attempts++;\n",
       "        if (attempts > 100) {\n",
       "          clearInterval(timer);\n",
       "          console.log(\"Bokeh: ERROR: Unable to run BokehJS code because BokehJS library is missing\");\n",
       "        }\n",
       "      }\n",
       "    }, 10, root)\n",
       "  }\n",
       "})(window);"
      ],
      "application/vnd.bokehjs_exec.v0+json": ""
     },
     "metadata": {
      "application/vnd.bokehjs_exec.v0+json": {
       "id": "p1177"
      }
     },
     "output_type": "display_data"
    }
   ],
   "source": [
    "from bokeh.io import show, output_notebook, output_file\n",
    "from bokeh.plotting import figure\n",
    "from bokeh.models import ColumnDataSource, LabelSet\n",
    "\n",
    "# Set up the Bokeh plot\n",
    "output_notebook()\n",
    "\n",
    "p = figure()\n",
    "\n",
    "# Create ColumnDataSource for X_target1 (blue)\n",
    "source1 = ColumnDataSource(data=dict(x=X_target1[:, 0], y=X_target1[:, 1], label=[model.wv.index_to_key[idx] for idx in target1_idx]))\n",
    "\n",
    "# Create ColumnDataSource for X_target2 (red)\n",
    "source2 = ColumnDataSource(data=dict(x=X_target2[:, 0], y=X_target2[:, 1], label=[model.wv.index_to_key[idx] for idx in target2_idx]))\n",
    "\n",
    "# Add scatter plot for X_target1 (blue)\n",
    "p.scatter(x='x', y='y', color='blue', size=8, source=source1)\n",
    "\n",
    "# Add scatter plot for X_target2 (red)\n",
    "p.scatter(x='x', y='y', color='red', size=8, source=source2)\n",
    "\n",
    "# Add labels for X_target1\n",
    "labels1 = LabelSet(x='x', y='y', text='label', x_offset=6, y_offset=3, source=source1)\n",
    "p.add_layout(labels1)\n",
    "\n",
    "# Add labels for X_target2\n",
    "labels2 = LabelSet(x='x', y='y', text='label', x_offset=6, y_offset=3, source=source2)\n",
    "p.add_layout(labels2)\n",
    "\n",
    "# Show the plot\n",
    "show(p)"
   ]
  },
  {
   "cell_type": "markdown",
   "metadata": {},
   "source": [
    "## 💭 Reflection\n",
    "\n",
    "Note that these binary target concepts are often a product of ideology and normativity in society: the gender binary is a good example. When checking for biases towards certain concepts, make sure you consider the fact that you are the one creating / reproducing these concepts, and that you may be reinforcing a constructed binary!\n",
    "\n",
    "Also note that determining your own target concepts and biases is a **iterative** process. Try changing some of the words in the target concepts to see how the biased words and plot change, and discuss with your classmates what you think makes for a coherent and robust target set."
   ]
  },
  {
   "cell_type": "markdown",
   "metadata": {
    "id": "riINX9wVyFRJ",
    "tags": []
   },
   "source": [
    "<a id='target'></a>\n",
    "# Existing Target Sets\n",
    "\n",
    "Here are some other target sets that have been previously used in the literature:\n",
    "\n",
    "* *Gender target sets taken from Nosek, Banaji, and Greenwald 2002.*\n",
    "    - Female: `sister, female, woman, girl, daughter, she, hers, her`.\n",
    "    - Male: `brother, male, man, boy, son, he, his, him`.\n",
    "* *Religion target sets taken from Garg et al. 2018.*\n",
    "    - Islam: `allah, ramadan, turban, emir, salaam, sunni, koran, imam, sultan, prophet, veil, ayatollah, shiite, mosque, islam, sheik, muslim, muhammad`.\n",
    "    - Christianity: `baptism, messiah, catholicism, resurrection, christianity, salva-tion, protestant, gospel, trinity, jesus, christ, christian, cross,catholic, church`.\n",
    "* *Racial target sets taken from Garg et al. 2017*\n",
    "    - White last names: `harris, nelson, robinson, thompson, moore, wright, anderson, clark, jackson, taylor, scott, davis, allen, adams, lewis, williams, jones, wilson, martin, johnson`.\n",
    "    - Hispanic last names: `ruiz, alvarez, vargas, castillo, gomez, soto,gonzalez, sanchez, rivera, mendoza, martinez, torres, ro-driguez, perez, lopez, medina, diaz, garcia, castro, cruz`.\n",
    "    - Asian last names: `cho, wong, tang, huang, chu, chung, ng,wu, liu, chen, lin, yang, kim, chang, shah, wang, li, khan,singh, hong`.\n",
    "    - Russian last names: `gurin, minsky, sokolov, markov, maslow, novikoff, mishkin, smirnov, orloff, ivanov, sokoloff, davidoff, savin, romanoff, babinski, sorokin, levin, pavlov, rodin, agin`.\n",
    "* *Career/family target sets taken from Garg et al. 2018.*\n",
    "    - Career: `executive, management, professional, corporation, salary, office, business, career`.\n",
    "    - Family: `home, parents, children, family, cousins, marriage, wedding, relatives.Math: math, algebra, geometry, calculus, equations, computation, numbers, addition`.\n",
    "* *Arts/Science target sets taken from Garg et al. 2018.*\n",
    "    - Arts: `poetry, art, sculpture, dance, literature, novel, symphony, drama`.\n",
    "    - Science: `science, technology, physics, chemistry, Einstein, NASA, experiment, astronomy`."
   ]
  },
  {
   "cell_type": "markdown",
   "metadata": {
    "id": "aHCHMAPYTCVX"
   },
   "source": [
    "### Sources\n",
    "\n",
    "Nosek, B. A., Banaji, M. R., & Greenwald, A. G. (2002). Harvesting implicit group attitudes and beliefs from a demonstration web site. Group Dynamics, 6(1), 101–115. https://doi.org/10.1037/1089-2699.6.1.101\n",
    "\n",
    "Garg, N., Schiebinger, L., Jurafsky, D., & Zou, J. (2017). Word Embeddings Quantify 100 Years of Gender and Ethnic Stereotypes, 1–33."
   ]
  }
 ],
 "metadata": {
  "colab": {
   "collapsed_sections": [],
   "name": "Week 4-1 Word Embeddings.ipynb",
   "provenance": []
  },
  "kernelspec": {
   "display_name": "dighum",
   "language": "python",
   "name": "dighum"
  },
  "language_info": {
   "codemirror_mode": {
    "name": "ipython",
    "version": 3
   },
   "file_extension": ".py",
   "mimetype": "text/x-python",
   "name": "python",
   "nbconvert_exporter": "python",
   "pygments_lexer": "ipython3",
   "version": "3.10.17"
  }
 },
 "nbformat": 4,
 "nbformat_minor": 4
}
