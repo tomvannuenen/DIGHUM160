{
 "cells": [
  {
   "cell_type": "markdown",
   "metadata": {
    "id": "WClw_VPOmwXd"
   },
   "source": [
    "<img src=\"../../img/backdrop-wh.png\" alt=\"Drawing\" style=\"width: 300px;\"/>  \n",
    "\n",
    "# Word Embeddings\n",
    "\n",
    "* * * "
   ]
  },
  {
   "cell_type": "markdown",
   "metadata": {
    "id": "WClw_VPOmwXd",
    "jp-MarkdownHeadingCollapsed": true,
    "tags": []
   },
   "source": [
    "<div class=\"alert alert-success\">  \n",
    "    \n",
    "### Learning Objectives \n",
    "    \n",
    "* Understand word embeddings, and how they are used in information retrieval.\n",
    "* Use `gensim`'s `word2vec` method to create word vectors for a corpus.\n",
    "* Use word embeddings to calculate word similarity.\n",
    "* Use word embeddings to reflect on implicit biases in your data.\n",
    "</div>\n",
    "\n",
    "### Icons Used in This Notebook\n",
    "🔔 **Question**: A quick question to help you understand what's going on.<br>\n",
    "💡 **Tip**: How to do something a bit more efficiently or effectively.<br>\n",
    "⚠️ **Warning:** Heads-up about tricky stuff or common mistakes.<br>\n",
    "💭 **Reflection**: Reflecting on ethical implications, biases, and social impact in data science.<br>\n",
    "\n",
    "### Sections\n",
    "1. [Word Embeddings](#we)\n",
    "2. [Using Comments Data](#comments)\n",
    "3. [Constructing a Word2Vec Model](#w2v)\n",
    "4. [Word Similarity](#sim)\n",
    "5. [Exploring Language Biases With Word Embeddings](#bias)\n"
   ]
  },
  {
   "cell_type": "markdown",
   "metadata": {
    "id": "MfjNP33MZOoi"
   },
   "source": [
    "<a id='we'></a>\n",
    "\n",
    "# Word Embeddings\n",
    "\n",
    "The goal of word embedding models is to learn **numerical representations** of text corpora. Like with TF-IDF, it's all about how we construct that numerical representation.\n",
    "\n",
    "When using word embeddings, we look for a **vector** of numbers to represent each term. The actual numbers themselves won't be meaningful to us as humans. However, if successful, the vectors for each term should encode information about the meaning or concept the term represents, as well as the relationship between it and other terms in the vocabulary.\n",
    "\n",
    "In this notebook, we'll work with word embeddings using Word2Vec.\n",
    "\n",
    "## Word2Vec\n",
    "\n",
    "**Word2Vec** is one example of a word embeddings model. It learns by taking words and their contexts (e.g. sentences) into account, and can then try to predict other words. Given enough data, usage and contexts, Word2Vec can make accurate guesses about a word’s meaning based on its appearances. Those guesses can be used to establish a word’s association with other words (e.g. \"Paris\" is to \"France\" as “Berlin” is to “Germany”), or cluster documents and classify them by topic.\n",
    "\n",
    "<img src=\"../../img/we.png\" alt=\"Word Embeddings\" width=\"600\"/>\n",
    "\n",
    "Word vector models such as Word2Vec are fully **unsupervised**: they learn all of these meanings and relationships without any advance knowledge. Unsupervised learning requires the specification of a right task. We won't go into detail in this lesson, but you can roughly think of the task as predicting nearby words, given a specific word. Read [this post](https://tomvannuenen.medium.com/analyzing-reddit-communities-with-python-part-6-word-embeddings-f92bba876d60) if you want a deeper introduction.\n",
    "\n",
    "We will be using the `gensim` package, which offers Word2Vec."
   ]
  },
  {
   "cell_type": "code",
   "execution_count": 1,
   "metadata": {},
   "outputs": [],
   "source": [
    "# Package imports\n",
    "import os\n",
    "import pandas as pd\n",
    "import numpy as np\n",
    "\n",
    "import pickle\n",
    "from gensim.models import Word2Vec\n",
    "import multiprocessing\n",
    "\n",
    "import matplotlib.pyplot as plt\n",
    "from sklearn.manifold import TSNE"
   ]
  },
  {
   "cell_type": "markdown",
   "metadata": {},
   "source": [
    "<a id='comments'></a>\n",
    "\n",
    "# Using Comments Data\n",
    "\n",
    "As we will be considering the language biases in this notebook, we will use the **comments** of the r/amitheasshole subreddit this time. The thinking behind this is that this data will be derived from more people, and include more evaluative statements. After all, comments on r/amitheasshole generally evaluate the original posts.\n",
    "\n",
    "💭 **Reflection**: Whether you want to be using submissions or comments for your own data depends on the question you are asking of that data! Make sure to think about this.\n",
    "\n",
    "To save us some time, we have done the preprocessing for you and saved the trigrams (a list of lists) in a pickle file."
   ]
  },
  {
   "cell_type": "code",
   "execution_count": 2,
   "metadata": {},
   "outputs": [],
   "source": [
    "# Ensure data files are downloaded\n",
    "!git lfs pull --include=\"data/*.pickle\""
   ]
  },
  {
   "cell_type": "code",
   "execution_count": 3,
   "metadata": {},
   "outputs": [],
   "source": [
    "with open('../../data/aita_comment_trigrams.pickle', 'rb') as f:\n",
    "    # Load the object from the file\n",
    "    comments = pickle.load(f)"
   ]
  },
  {
   "cell_type": "code",
   "execution_count": 4,
   "metadata": {},
   "outputs": [
    {
     "data": {
      "text/plain": [
       "['like',\n",
       " 'genuine',\n",
       " 'reason',\n",
       " 'upset',\n",
       " 'question',\n",
       " 'sound',\n",
       " 'people',\n",
       " 'ask',\n",
       " 'curious',\n",
       " 'direct',\n",
       " 'question',\n",
       " 'superior']"
      ]
     },
     "execution_count": 4,
     "metadata": {},
     "output_type": "execute_result"
    }
   ],
   "source": [
    "# Split into lists of words for Word2Vec\n",
    "comment_list = [comment.split() for comment in comments]\n",
    "comment_list[0]"
   ]
  },
  {
   "cell_type": "markdown",
   "metadata": {},
   "source": [
    "**Use the `Preprocessing_Project.ipynb` notebook if you want to preprocess your own comment data.**\n",
    "\n",
    "**Use the `Word_Embeddings_Project.ipynb` notebook to run the Word2Vec operations explained in this notebook on your own data.**"
   ]
  },
  {
   "cell_type": "markdown",
   "metadata": {
    "id": "Wk2mxX1HZOpk"
   },
   "source": [
    "<a id='w2v'></a>\n",
    "\n",
    "# Constructing a Word2Vec Model\n",
    "\n",
    "Let's create our word embeddings model. The input to this model is our corpus split up into words. The model's output is a set of \"vectors\" (one for each word) in $N$ dimensions (we choose $N$ before creating the model). Think of these vectors as \"features\", capturing latent meaning.\n",
    "\n",
    "This model allows us to group the vectors of similar words together in vector space. We can then reduce the dimensionality to visualize the results in a way humans can understand (such as in a 2-dimensional space), or to perform linear algebra operations in order to find out to what extent words are related.\n",
    "\n",
    "We now instantiate and train our Word2Vec model, using the parameters below."
   ]
  },
  {
   "cell_type": "code",
   "execution_count": 6,
   "metadata": {
    "id": "sQq117-pZOpl"
   },
   "outputs": [],
   "source": [
    "cores = multiprocessing.cpu_count() # Number of cores at your disposal\n",
    "\n",
    "n_features = 300     # Word vector dimensionality (how many features each word will be given)\n",
    "min_word_count = 10  # Minimum word count to be taken into account\n",
    "n_workers = cores    # Number of threads to run in parallel (equal to your amount of cores)\n",
    "window = 5           # Context window size\n",
    "downsampling = 1e-2  # Downsample setting for frequent words\n",
    "seed = 1             # Seed for the random number generator (to create reproducible results)\n",
    "sg = 1               # Skip-gram = 1, CBOW = 0\n",
    "epochs = 20          # Number of iterations over the corpus\n",
    "\n",
    "model = Word2Vec(\n",
    "    sentences=comment_list,\n",
    "    workers=n_workers,\n",
    "    vector_size=n_features,\n",
    "    min_count=min_word_count,\n",
    "    window=window,\n",
    "    sample=downsampling,\n",
    "    seed=seed,\n",
    "    sg=sg)"
   ]
  },
  {
   "cell_type": "markdown",
   "metadata": {
    "id": "xrNV3eYeZOpo"
   },
   "source": [
    "That was it! We have a Word Embeddings model now. Let's save it so that we don't have to train it again. Then, we can reload the embeddings so that we don't have to train it every single time:"
   ]
  },
  {
   "cell_type": "code",
   "execution_count": 67,
   "metadata": {
    "id": "JRX-lzwSzFI5"
   },
   "outputs": [],
   "source": [
    "model.save('../../data/aita_comments.emb')"
   ]
  },
  {
   "cell_type": "code",
   "execution_count": 8,
   "metadata": {
    "id": "SZMDwWBuGTn7"
   },
   "outputs": [],
   "source": [
    "model = Word2Vec.load('../../data/aita_comments.emb')"
   ]
  },
  {
   "cell_type": "markdown",
   "metadata": {
    "id": "wWQC4S9IZOpu"
   },
   "source": [
    "How many terms are in our vocabulary? Whenever interacting with the word vector dictionary, we use the `wv` attribute:"
   ]
  },
  {
   "cell_type": "code",
   "execution_count": 9,
   "metadata": {},
   "outputs": [
    {
     "data": {
      "text/plain": [
       "14732"
      ]
     },
     "execution_count": 9,
     "metadata": {},
     "output_type": "execute_result"
    }
   ],
   "source": [
    "len(model.wv)"
   ]
  },
  {
   "cell_type": "markdown",
   "metadata": {
    "id": "WVdNakwKfm3H"
   },
   "source": [
    "Let's take a peek at the word vectors our model has learned. We can take a look at the individual words using the `index_to_key` attribute, and the word vectors themselves can be accessed with the `vectors` attribute:"
   ]
  },
  {
   "cell_type": "code",
   "execution_count": 69,
   "metadata": {
    "colab": {
     "base_uri": "https://localhost:8080/",
     "height": 487
    },
    "executionInfo": {
     "elapsed": 1224,
     "status": "ok",
     "timestamp": 1640016826009,
     "user": {
      "displayName": "Tom van Nuenen",
      "photoUrl": "https://lh3.googleusercontent.com/a-/AOh14GhuBmxDvW5I_LJfZtwlPqMFD8QGLVPP3skvpkTnuQ=s64",
      "userId": "10012302451096885058"
     },
     "user_tz": -60
    },
    "id": "R6A19I38fjTT",
    "outputId": "e6d18f9d-cd53-4ae6-d17e-7cf353618735"
   },
   "outputs": [
    {
     "data": {
      "text/plain": [
       "'like'"
      ]
     },
     "execution_count": 69,
     "metadata": {},
     "output_type": "execute_result"
    }
   ],
   "source": [
    "model.wv.index_to_key[0]"
   ]
  },
  {
   "cell_type": "code",
   "execution_count": 11,
   "metadata": {},
   "outputs": [
    {
     "data": {
      "text/plain": [
       "array([ 0.06972896,  0.04831633, -0.03532837,  0.11322905, -0.13132215,\n",
       "       -0.07211444,  0.01718011,  0.25822455, -0.24687158, -0.08261455,\n",
       "        0.12933466, -0.19865948,  0.02441347, -0.07258688, -0.06310633,\n",
       "       -0.080525  , -0.03006225,  0.11735125, -0.02430726,  0.00393944,\n",
       "        0.01813346,  0.02058853,  0.06824586,  0.07632922, -0.02995771,\n",
       "        0.11779196, -0.23738071, -0.11303835, -0.10558673, -0.06256676,\n",
       "       -0.2163336 , -0.05085296,  0.13127297,  0.15179332,  0.16157547,\n",
       "        0.03317627,  0.09070746, -0.03085214, -0.00076077,  0.07771728,\n",
       "       -0.00369934,  0.01883927, -0.14185299, -0.01557552, -0.04484212,\n",
       "        0.05995487,  0.06924436, -0.0103171 , -0.2127502 ,  0.27500436,\n",
       "       -0.05562322,  0.0641532 , -0.05268604,  0.07073952,  0.23444669,\n",
       "        0.11393041,  0.04565021, -0.147338  ,  0.1466311 , -0.04711615,\n",
       "        0.02928305, -0.01234193, -0.0381604 ,  0.01441028,  0.06990473,\n",
       "       -0.01231115,  0.02855572, -0.09838304, -0.15947893,  0.05405422,\n",
       "        0.13137046,  0.19470914,  0.12733582,  0.01824575,  0.04398378,\n",
       "        0.19137879,  0.04891404,  0.13961226,  0.03181271,  0.00258553,\n",
       "       -0.05782497, -0.05939348,  0.06273335,  0.26730362, -0.07750706,\n",
       "        0.11114921, -0.01172744, -0.20249166, -0.10399335,  0.1122653 ,\n",
       "       -0.03576495,  0.00095977,  0.05428548, -0.084015  ,  0.01558359,\n",
       "        0.0204505 ,  0.10632527, -0.0295452 , -0.120603  ,  0.16514833,\n",
       "       -0.10231609, -0.00337102, -0.02544182,  0.06439074,  0.00556679,\n",
       "        0.0641294 , -0.13080597,  0.08253254, -0.03383883,  0.05813088,\n",
       "       -0.04488746, -0.02221683, -0.34001395,  0.11280115,  0.02244426,\n",
       "        0.06728279,  0.15112871,  0.10344055, -0.07804188,  0.04657172,\n",
       "        0.15185003,  0.17118894,  0.03581804,  0.13333572,  0.04679523,\n",
       "       -0.02478975,  0.07472927, -0.18692422, -0.01784412,  0.17018099,\n",
       "        0.14263152,  0.08486056,  0.189011  , -0.08913093,  0.04366898,\n",
       "       -0.13710718, -0.02326449, -0.10686854,  0.09092064, -0.18229789,\n",
       "        0.1338698 , -0.10324919, -0.12226593,  0.04301924,  0.2092683 ,\n",
       "       -0.13936996, -0.02385573,  0.01586488,  0.2803572 , -0.1300999 ,\n",
       "        0.04314219, -0.0247167 ,  0.05359926,  0.06757168,  0.08980858,\n",
       "        0.09768511, -0.08123951, -0.02773778,  0.04024557,  0.05349227,\n",
       "       -0.00781179,  0.23911524, -0.00378804,  0.1932426 , -0.01792984,\n",
       "       -0.10631607, -0.10837325,  0.10069308,  0.16936459,  0.23585181,\n",
       "        0.1204999 ,  0.00587316,  0.10781255,  0.02787988,  0.13066769,\n",
       "       -0.07798188, -0.02561701, -0.14631057, -0.06842983, -0.13449529,\n",
       "       -0.28762254, -0.19557467, -0.10314042, -0.13117683, -0.06744516,\n",
       "       -0.01814193, -0.10745368, -0.1365575 ,  0.08672556,  0.07844242,\n",
       "        0.05476734,  0.07528639,  0.05417397, -0.07094816, -0.07235119,\n",
       "        0.07144608, -0.09822802, -0.15982045, -0.07376467,  0.07070344,\n",
       "       -0.14018497,  0.07347917,  0.07687006, -0.08068652,  0.26380226,\n",
       "       -0.0007846 ,  0.16294457, -0.13454767, -0.1596258 , -0.04930457,\n",
       "       -0.17218558, -0.05077429, -0.06125629, -0.02921711,  0.20592217,\n",
       "       -0.10449939, -0.09295119, -0.24913773,  0.02469114, -0.2208681 ,\n",
       "        0.17163737, -0.03725341, -0.2121243 , -0.22537793, -0.02859981,\n",
       "       -0.13936427, -0.02355383,  0.08015279,  0.01323629,  0.01605961,\n",
       "        0.08136332,  0.01043537, -0.08833097, -0.05362969, -0.1345361 ,\n",
       "       -0.08580825, -0.06068165,  0.16116428, -0.05103737,  0.00394964,\n",
       "        0.02857147, -0.03080006, -0.02079612,  0.12230988,  0.07425825,\n",
       "       -0.11877253,  0.01387128,  0.05718359, -0.1033196 ,  0.1558307 ,\n",
       "       -0.00321037,  0.18341736, -0.07681801,  0.00864147, -0.09789328,\n",
       "       -0.11998409,  0.14830126,  0.19071935, -0.20827273, -0.09915246,\n",
       "       -0.02505091,  0.01503347, -0.06833737,  0.04105566, -0.06721511,\n",
       "        0.15081559,  0.16149278, -0.10113255,  0.15955797,  0.09540869,\n",
       "       -0.00232568,  0.09897308,  0.1636315 ,  0.23405187,  0.00742068,\n",
       "        0.05571673,  0.16357878,  0.10203598,  0.10991655,  0.09329707,\n",
       "        0.19895598,  0.03401742,  0.01787085, -0.16641416,  0.12277445,\n",
       "       -0.16285121, -0.27851713, -0.065437  , -0.04176481,  0.10850512,\n",
       "        0.07303055,  0.16373137,  0.14992541, -0.2380728 ,  0.36283526,\n",
       "        0.13918705,  0.02451139, -0.01274513,  0.18586905, -0.06570581],\n",
       "      dtype=float32)"
      ]
     },
     "execution_count": 11,
     "metadata": {},
     "output_type": "execute_result"
    }
   ],
   "source": [
    "model.wv.vectors[0]"
   ]
  },
  {
   "cell_type": "markdown",
   "metadata": {},
   "source": [
    "Looking at it won't make a whole lot of sense to us! It's just a bunch of numbers. However, we can do semantic operations on these vectors, such as getting related terms."
   ]
  },
  {
   "cell_type": "markdown",
   "metadata": {
    "id": "xw4th__0ZOp0"
   },
   "source": [
    "<a id='sim'></a>\n",
    "\n",
    "# Word Similarity\n",
    "\n",
    "With the information in our word embeddings model, we can try to find similarities between words that interest us (i.e. words that have a similar vector). Let's create a function that retrieves related terms to some input. We're going to use the `most_similar()` function in `gensim` as part of this helper function."
   ]
  },
  {
   "cell_type": "code",
   "execution_count": 12,
   "metadata": {
    "id": "v1HVouFqZOp0"
   },
   "outputs": [],
   "source": [
    "def get_most_similar_terms(model, token, topn=20):\n",
    "    \"\"\"Look up the top N most similar terms to the token.\"\"\"\n",
    "    for word, similarity in model.wv.most_similar(positive=[token], topn=topn):\n",
    "        print(f\"{word}: {round(similarity, 3)}\")"
   ]
  },
  {
   "cell_type": "code",
   "execution_count": 13,
   "metadata": {
    "colab": {
     "base_uri": "https://localhost:8080/"
    },
    "executionInfo": {
     "elapsed": 304,
     "status": "ok",
     "timestamp": 1639950052918,
     "user": {
      "displayName": "Tom van Nuenen",
      "photoUrl": "https://lh3.googleusercontent.com/a-/AOh14GhuBmxDvW5I_LJfZtwlPqMFD8QGLVPP3skvpkTnuQ=s64",
      "userId": "10012302451096885058"
     },
     "user_tz": -60
    },
    "id": "CDyV-ntGZOp3",
    "outputId": "d72277e1-e4e1-451d-e706-70b7fb7ebb02"
   },
   "outputs": [
    {
     "name": "stdout",
     "output_type": "stream",
     "text": [
      "nahyou’re: 0.624\n",
      "esh.i: 0.618\n",
      "asshole-: 0.615\n",
      "wbta: 0.615\n",
      "redflag: 0.614\n",
      "dickwad: 0.613\n",
      "infact: 0.612\n",
      "veer: 0.612\n",
      "yata: 0.603\n",
      "resounding: 0.6\n",
      "tah: 0.599\n",
      "justice_boner: 0.599\n",
      "esh.your: 0.594\n",
      "assholeishness: 0.594\n",
      "ytabut: 0.591\n",
      "eshshe: 0.59\n",
      "fuckwad: 0.589\n",
      "eshi: 0.589\n",
      "arsehole: 0.588\n",
      "assholeness: 0.587\n"
     ]
    }
   ],
   "source": [
    "get_most_similar_terms(model, 'asshole')"
   ]
  },
  {
   "cell_type": "markdown",
   "metadata": {},
   "source": [
    "Here are some other terms. What else interests you?"
   ]
  },
  {
   "cell_type": "code",
   "execution_count": 14,
   "metadata": {},
   "outputs": [
    {
     "name": "stdout",
     "output_type": "stream",
     "text": [
      "compassion: 0.665\n",
      "lack_empathy: 0.582\n",
      "lacking: 0.575\n",
      "rationality: 0.572\n",
      "patience: 0.571\n",
      "self_awareness: 0.553\n",
      "empathize: 0.551\n",
      "modicum: 0.548\n",
      "cold_hearted: 0.535\n",
      "empathetic: 0.531\n",
      "compassionate: 0.523\n",
      "humility: 0.523\n",
      "plight: 0.515\n",
      "vindicated: 0.506\n",
      "empathise: 0.506\n",
      "doesn‘t: 0.501\n",
      "empathic: 0.499\n",
      "tact: 0.498\n",
      "loneliness: 0.498\n",
      "sympathy: 0.496\n"
     ]
    }
   ],
   "source": [
    "get_most_similar_terms(model, 'empathy')"
   ]
  },
  {
   "cell_type": "code",
   "execution_count": 15,
   "metadata": {},
   "outputs": [
    {
     "name": "stdout",
     "output_type": "stream",
     "text": [
      "exclusivity: 0.615\n",
      "amicably: 0.609\n",
      "transparency: 0.591\n",
      "relationships: 0.589\n",
      "marriage: 0.584\n",
      "polyamory: 0.583\n",
      "coparent: 0.57\n",
      "fidelity: 0.568\n",
      "reestablish: 0.567\n",
      "irrevocably: 0.566\n",
      "polyamorous: 0.563\n",
      "friendship: 0.559\n",
      "salvageable: 0.559\n",
      "ltr: 0.557\n",
      "sexually_compatible: 0.554\n",
      "sexual_compatibility: 0.553\n",
      "reciprocal: 0.552\n",
      "loveless: 0.55\n",
      "mono: 0.55\n",
      "reconciliation: 0.549\n"
     ]
    }
   ],
   "source": [
    "get_most_similar_terms(model, 'relationship')"
   ]
  },
  {
   "cell_type": "code",
   "execution_count": 16,
   "metadata": {},
   "outputs": [
    {
     "name": "stdout",
     "output_type": "stream",
     "text": [
      "tripping: 0.443\n",
      "wield: 0.423\n",
      "flex: 0.415\n",
      "dominance: 0.414\n",
      "intimidation: 0.414\n",
      "power_imbalance: 0.41\n",
      "differential: 0.39\n",
      "ideological: 0.388\n",
      "institutional: 0.382\n",
      "benevolent: 0.376\n",
      "chivalry: 0.371\n",
      "domineering: 0.371\n",
      "authority: 0.368\n",
      "exploit: 0.367\n",
      "dynamic: 0.367\n",
      "betterment: 0.367\n",
      "overreach: 0.366\n",
      "hardball: 0.365\n",
      "perpetual: 0.364\n",
      "dictatorship: 0.362\n"
     ]
    }
   ],
   "source": [
    "get_most_similar_terms(model, 'power')"
   ]
  },
  {
   "cell_type": "code",
   "execution_count": 17,
   "metadata": {},
   "outputs": [
    {
     "name": "stdout",
     "output_type": "stream",
     "text": [
      "woman: 0.664\n",
      "men: 0.588\n",
      "het: 0.552\n",
      "subservient: 0.541\n",
      "transman: 0.541\n",
      "butch: 0.539\n",
      "macho: 0.53\n",
      "shouldn't: 0.527\n",
      "misandry: 0.527\n",
      "ogle: 0.524\n",
      "misandrist: 0.522\n",
      "cisgender: 0.52\n",
      "willed: 0.517\n",
      "bearded: 0.516\n",
      "monolith: 0.514\n",
      "femme: 0.512\n",
      "mans: 0.511\n",
      "patriarchy: 0.509\n",
      "prepubescent: 0.506\n",
      "women: 0.504\n"
     ]
    }
   ],
   "source": [
    "get_most_similar_terms(model, 'man')"
   ]
  },
  {
   "cell_type": "code",
   "execution_count": 18,
   "metadata": {},
   "outputs": [
    {
     "name": "stdout",
     "output_type": "stream",
     "text": [
      "man: 0.664\n",
      "women: 0.606\n",
      "transman: 0.586\n",
      "men: 0.584\n",
      "transwoman: 0.58\n",
      "ogle: 0.575\n",
      "het: 0.563\n",
      "androgynous: 0.561\n",
      "womanhood: 0.546\n",
      "cisgender: 0.544\n",
      "ntabee: 0.542\n",
      "misandry: 0.54\n",
      "monolith: 0.537\n",
      "prepubescent: 0.537\n",
      "conventionally: 0.535\n",
      "shouldn't: 0.528\n",
      "implying: 0.526\n",
      "petite: 0.524\n",
      "transpeople: 0.524\n",
      "oggle: 0.522\n"
     ]
    }
   ],
   "source": [
    "get_most_similar_terms(model, 'woman')"
   ]
  },
  {
   "cell_type": "markdown",
   "metadata": {},
   "source": [
    "# Visualizing High Dimensional Spaces with $t$-SNE\n",
    "\n",
    "The word embeddings we created are what's called a **high-dimensional representation** of the text. That is, we take a word in the corpus, and represent it using, in this case, 300 numbers. We can plot 3 numbers at a time - that's in 3 dimensions - but there's no way for humans to visualize something in a 300-dimensional space. \n",
    "\n",
    "So, **dimensionality reduction** is a big part of machine learning. How can we take vectors that are 300-dimensional, and visualize them in 2-dimensions, while keeping the structure between vectors the same? How can we reduce the dimensionality?\n",
    "\n",
    "One of the most popular methods for dimensionality reduction is called $t$-SNE ($t$-Distributed Stochastic Neighbor Embedding). If you want to read more about this algorithm, [here](https://lvdmaaten.github.io/tsne/) is a good starting point. \n",
    "\n",
    "Roughly, $t$-SNE tries to keep the relative distances between points as closely as possible in both high-dimensional and low-dimensional space. We can thus visualize our embeddings, which may reveal semantic and syntactic trends in the data.\n",
    "\n",
    "One thing we can do is to look for relationships between particular word pairs. "
   ]
  },
  {
   "cell_type": "code",
   "execution_count": 70,
   "metadata": {},
   "outputs": [],
   "source": [
    "words = ['asshole', 'jerk', 'rude', 'inconsiderate',\n",
    "         'angry', 'upset', 'sad', 'happy', 'frustrated',\n",
    "         'friend', 'family', 'partner', 'coworker', 'neighbor',\n",
    "         'apologize', 'forgive', 'ignore', 'confront', 'compromise',\n",
    "         'right', 'wrong', 'justified', 'unjustified', 'fair', 'unfair',\n",
    "         'honesty', 'loyalty', 'respect', 'kindness', 'empathy']\n",
    "\n",
    "# Extract the word vectors\n",
    "word_vectors = np.array([model.wv[word] for word in words])"
   ]
  },
  {
   "cell_type": "code",
   "execution_count": 71,
   "metadata": {},
   "outputs": [],
   "source": [
    "# If you get an ImportError in the line tsne=TSNE(), you might need to install scikit-learn:\n",
    "# %pip install -U scikit-learn "
   ]
  },
  {
   "cell_type": "code",
   "execution_count": 72,
   "metadata": {},
   "outputs": [],
   "source": [
    "# Reduce dimensionality using t-SNE\n",
    "tsne = TSNE(n_components=2, random_state=2, perplexity=2)\n",
    "reduced_vectors = tsne.fit_transform(word_vectors)"
   ]
  },
  {
   "cell_type": "code",
   "execution_count": 73,
   "metadata": {},
   "outputs": [],
   "source": [
    "# Store the t-SNE vectors\n",
    "words_df = pd.DataFrame(reduced_vectors,\n",
    "                            index=pd.Index([word for word in words]),\n",
    "                            columns=['x', 'y'])"
   ]
  },
  {
   "cell_type": "markdown",
   "metadata": {},
   "source": [
    "We're going to visualize the 2-dimensional space using a package called `bokeh`. This package allows for some degree of interactivity: we can go over each point and dynamically get information about the word denoting that vector."
   ]
  },
  {
   "cell_type": "code",
   "execution_count": 74,
   "metadata": {},
   "outputs": [],
   "source": [
    "# You may need to install bokeh if the following cell does not run\n",
    "#%conda install bokeh"
   ]
  },
  {
   "cell_type": "code",
   "execution_count": 75,
   "metadata": {},
   "outputs": [
    {
     "data": {
      "text/html": [
       "    <style>\n",
       "        .bk-notebook-logo {\n",
       "            display: block;\n",
       "            width: 20px;\n",
       "            height: 20px;\n",
       "            background-image: url(data:image/png;base64,iVBORw0KGgoAAAANSUhEUgAAABQAAAAUCAYAAACNiR0NAAAABHNCSVQICAgIfAhkiAAAAAlwSFlzAAALEgAACxIB0t1+/AAAABx0RVh0U29mdHdhcmUAQWRvYmUgRmlyZXdvcmtzIENTNui8sowAAAOkSURBVDiNjZRtaJVlGMd/1/08zzln5zjP1LWcU9N0NkN8m2CYjpgQYQXqSs0I84OLIC0hkEKoPtiH3gmKoiJDU7QpLgoLjLIQCpEsNJ1vqUOdO7ppbuec5+V+rj4ctwzd8IIbbi6u+8f1539dt3A78eXC7QizUF7gyV1fD1Yqg4JWz84yffhm0qkFqBogB9rM8tZdtwVsPUhWhGcFJngGeWrPzHm5oaMmkfEg1usvLFyc8jLRqDOMru7AyC8saQr7GG7f5fvDeH7Ej8CM66nIF+8yngt6HWaKh7k49Soy9nXurCi1o3qUbS3zWfrYeQDTB/Qj6kX6Ybhw4B+bOYoLKCC9H3Nu/leUTZ1JdRWkkn2ldcCamzrcf47KKXdAJllSlxAOkRgyHsGC/zRday5Qld9DyoM4/q/rUoy/CXh3jzOu3bHUVZeU+DEn8FInkPBFlu3+nW3Nw0mk6vCDiWg8CeJaxEwuHS3+z5RgY+YBR6V1Z1nxSOfoaPa4LASWxxdNp+VWTk7+4vzaou8v8PN+xo+KY2xsw6une2frhw05CTYOmQvsEhjhWjn0bmXPjpE1+kplmmkP3suftwTubK9Vq22qKmrBhpY4jvd5afdRA3wGjFAgcnTK2s4hY0/GPNIb0nErGMCRxWOOX64Z8RAC4oCXdklmEvcL8o0BfkNK4lUg9HTl+oPlQxdNo3Mg4Nv175e/1LDGzZen30MEjRUtmXSfiTVu1kK8W4txyV6BMKlbgk3lMwYCiusNy9fVfvvwMxv8Ynl6vxoByANLTWplvuj/nF9m2+PDtt1eiHPBr1oIfhCChQMBw6Aw0UulqTKZdfVvfG7VcfIqLG9bcldL/+pdWTLxLUy8Qq38heUIjh4XlzZxzQm19lLFlr8vdQ97rjZVOLf8nclzckbcD4wxXMidpX30sFd37Fv/GtwwhzhxGVAprjbg0gCAEeIgwCZyTV2Z1REEW8O4py0wsjeloKoMr6iCY6dP92H6Vw/oTyICIthibxjm/DfN9lVz8IqtqKYLUXfoKVMVQVVJOElGjrnnUt9T9wbgp8AyYKaGlqingHZU/uG2NTZSVqwHQTWkx9hxjkpWDaCg6Ckj5qebgBVbT3V3NNXMSiWSDdGV3hrtzla7J+duwPOToIg42ChPQOQjspnSlp1V+Gjdged7+8UN5CRAV7a5EdFNwCjEaBR27b3W890TE7g24NAP/mMDXRWrGoFPQI9ls/MWO2dWFAar/xcOIImbbpA3zgAAAABJRU5ErkJggg==);\n",
       "        }\n",
       "    </style>\n",
       "    <div>\n",
       "        <a href=\"https://bokeh.org\" target=\"_blank\" class=\"bk-notebook-logo\"></a>\n",
       "        <span id=\"d4b0a9d8-0537-4f7b-9943-acf35e8ade60\">Loading BokehJS ...</span>\n",
       "    </div>\n"
      ]
     },
     "metadata": {},
     "output_type": "display_data"
    },
    {
     "data": {
      "application/javascript": [
       "'use strict';\n",
       "(function(root) {\n",
       "  function now() {\n",
       "    return new Date();\n",
       "  }\n",
       "\n",
       "  const force = true;\n",
       "\n",
       "  if (typeof root._bokeh_onload_callbacks === \"undefined\" || force === true) {\n",
       "    root._bokeh_onload_callbacks = [];\n",
       "    root._bokeh_is_loading = undefined;\n",
       "  }\n",
       "\n",
       "const JS_MIME_TYPE = 'application/javascript';\n",
       "  const HTML_MIME_TYPE = 'text/html';\n",
       "  const EXEC_MIME_TYPE = 'application/vnd.bokehjs_exec.v0+json';\n",
       "  const CLASS_NAME = 'output_bokeh rendered_html';\n",
       "\n",
       "  /**\n",
       "   * Render data to the DOM node\n",
       "   */\n",
       "  function render(props, node) {\n",
       "    const script = document.createElement(\"script\");\n",
       "    node.appendChild(script);\n",
       "  }\n",
       "\n",
       "  /**\n",
       "   * Handle when an output is cleared or removed\n",
       "   */\n",
       "  function handleClearOutput(event, handle) {\n",
       "    function drop(id) {\n",
       "      const view = Bokeh.index.get_by_id(id)\n",
       "      if (view != null) {\n",
       "        view.model.document.clear()\n",
       "        Bokeh.index.delete(view)\n",
       "      }\n",
       "    }\n",
       "\n",
       "    const cell = handle.cell;\n",
       "\n",
       "    const id = cell.output_area._bokeh_element_id;\n",
       "    const server_id = cell.output_area._bokeh_server_id;\n",
       "\n",
       "    // Clean up Bokeh references\n",
       "    if (id != null) {\n",
       "      drop(id)\n",
       "    }\n",
       "\n",
       "    if (server_id !== undefined) {\n",
       "      // Clean up Bokeh references\n",
       "      const cmd_clean = \"from bokeh.io.state import curstate; print(curstate().uuid_to_server['\" + server_id + \"'].get_sessions()[0].document.roots[0]._id)\";\n",
       "      cell.notebook.kernel.execute(cmd_clean, {\n",
       "        iopub: {\n",
       "          output: function(msg) {\n",
       "            const id = msg.content.text.trim()\n",
       "            drop(id)\n",
       "          }\n",
       "        }\n",
       "      });\n",
       "      // Destroy server and session\n",
       "      const cmd_destroy = \"import bokeh.io.notebook as ion; ion.destroy_server('\" + server_id + \"')\";\n",
       "      cell.notebook.kernel.execute(cmd_destroy);\n",
       "    }\n",
       "  }\n",
       "\n",
       "  /**\n",
       "   * Handle when a new output is added\n",
       "   */\n",
       "  function handleAddOutput(event, handle) {\n",
       "    const output_area = handle.output_area;\n",
       "    const output = handle.output;\n",
       "\n",
       "    // limit handleAddOutput to display_data with EXEC_MIME_TYPE content only\n",
       "    if ((output.output_type != \"display_data\") || (!Object.prototype.hasOwnProperty.call(output.data, EXEC_MIME_TYPE))) {\n",
       "      return\n",
       "    }\n",
       "\n",
       "    const toinsert = output_area.element.find(\".\" + CLASS_NAME.split(' ')[0]);\n",
       "\n",
       "    if (output.metadata[EXEC_MIME_TYPE][\"id\"] !== undefined) {\n",
       "      toinsert[toinsert.length - 1].firstChild.textContent = output.data[JS_MIME_TYPE];\n",
       "      // store reference to embed id on output_area\n",
       "      output_area._bokeh_element_id = output.metadata[EXEC_MIME_TYPE][\"id\"];\n",
       "    }\n",
       "    if (output.metadata[EXEC_MIME_TYPE][\"server_id\"] !== undefined) {\n",
       "      const bk_div = document.createElement(\"div\");\n",
       "      bk_div.innerHTML = output.data[HTML_MIME_TYPE];\n",
       "      const script_attrs = bk_div.children[0].attributes;\n",
       "      for (let i = 0; i < script_attrs.length; i++) {\n",
       "        toinsert[toinsert.length - 1].firstChild.setAttribute(script_attrs[i].name, script_attrs[i].value);\n",
       "        toinsert[toinsert.length - 1].firstChild.textContent = bk_div.children[0].textContent\n",
       "      }\n",
       "      // store reference to server id on output_area\n",
       "      output_area._bokeh_server_id = output.metadata[EXEC_MIME_TYPE][\"server_id\"];\n",
       "    }\n",
       "  }\n",
       "\n",
       "  function register_renderer(events, OutputArea) {\n",
       "\n",
       "    function append_mime(data, metadata, element) {\n",
       "      // create a DOM node to render to\n",
       "      const toinsert = this.create_output_subarea(\n",
       "        metadata,\n",
       "        CLASS_NAME,\n",
       "        EXEC_MIME_TYPE\n",
       "      );\n",
       "      this.keyboard_manager.register_events(toinsert);\n",
       "      // Render to node\n",
       "      const props = {data: data, metadata: metadata[EXEC_MIME_TYPE]};\n",
       "      render(props, toinsert[toinsert.length - 1]);\n",
       "      element.append(toinsert);\n",
       "      return toinsert\n",
       "    }\n",
       "\n",
       "    /* Handle when an output is cleared or removed */\n",
       "    events.on('clear_output.CodeCell', handleClearOutput);\n",
       "    events.on('delete.Cell', handleClearOutput);\n",
       "\n",
       "    /* Handle when a new output is added */\n",
       "    events.on('output_added.OutputArea', handleAddOutput);\n",
       "\n",
       "    /**\n",
       "     * Register the mime type and append_mime function with output_area\n",
       "     */\n",
       "    OutputArea.prototype.register_mime_type(EXEC_MIME_TYPE, append_mime, {\n",
       "      /* Is output safe? */\n",
       "      safe: true,\n",
       "      /* Index of renderer in `output_area.display_order` */\n",
       "      index: 0\n",
       "    });\n",
       "  }\n",
       "\n",
       "  // register the mime type if in Jupyter Notebook environment and previously unregistered\n",
       "  if (root.Jupyter !== undefined) {\n",
       "    const events = require('base/js/events');\n",
       "    const OutputArea = require('notebook/js/outputarea').OutputArea;\n",
       "\n",
       "    if (OutputArea.prototype.mime_types().indexOf(EXEC_MIME_TYPE) == -1) {\n",
       "      register_renderer(events, OutputArea);\n",
       "    }\n",
       "  }\n",
       "  if (typeof (root._bokeh_timeout) === \"undefined\" || force === true) {\n",
       "    root._bokeh_timeout = Date.now() + 5000;\n",
       "    root._bokeh_failed_load = false;\n",
       "  }\n",
       "\n",
       "  const NB_LOAD_WARNING = {'data': {'text/html':\n",
       "     \"<div style='background-color: #fdd'>\\n\"+\n",
       "     \"<p>\\n\"+\n",
       "     \"BokehJS does not appear to have successfully loaded. If loading BokehJS from CDN, this \\n\"+\n",
       "     \"may be due to a slow or bad network connection. Possible fixes:\\n\"+\n",
       "     \"</p>\\n\"+\n",
       "     \"<ul>\\n\"+\n",
       "     \"<li>re-rerun `output_notebook()` to attempt to load from CDN again, or</li>\\n\"+\n",
       "     \"<li>use INLINE resources instead, as so:</li>\\n\"+\n",
       "     \"</ul>\\n\"+\n",
       "     \"<code>\\n\"+\n",
       "     \"from bokeh.resources import INLINE\\n\"+\n",
       "     \"output_notebook(resources=INLINE)\\n\"+\n",
       "     \"</code>\\n\"+\n",
       "     \"</div>\"}};\n",
       "\n",
       "  function display_loaded(error = null) {\n",
       "    const el = document.getElementById(\"d4b0a9d8-0537-4f7b-9943-acf35e8ade60\");\n",
       "    if (el != null) {\n",
       "      const html = (() => {\n",
       "        if (typeof root.Bokeh === \"undefined\") {\n",
       "          if (error == null) {\n",
       "            return \"BokehJS is loading ...\";\n",
       "          } else {\n",
       "            return \"BokehJS failed to load.\";\n",
       "          }\n",
       "        } else {\n",
       "          const prefix = `BokehJS ${root.Bokeh.version}`;\n",
       "          if (error == null) {\n",
       "            return `${prefix} successfully loaded.`;\n",
       "          } else {\n",
       "            return `${prefix} <b>encountered errors</b> while loading and may not function as expected.`;\n",
       "          }\n",
       "        }\n",
       "      })();\n",
       "      el.innerHTML = html;\n",
       "\n",
       "      if (error != null) {\n",
       "        const wrapper = document.createElement(\"div\");\n",
       "        wrapper.style.overflow = \"auto\";\n",
       "        wrapper.style.height = \"5em\";\n",
       "        wrapper.style.resize = \"vertical\";\n",
       "        const content = document.createElement(\"div\");\n",
       "        content.style.fontFamily = \"monospace\";\n",
       "        content.style.whiteSpace = \"pre-wrap\";\n",
       "        content.style.backgroundColor = \"rgb(255, 221, 221)\";\n",
       "        content.textContent = error.stack ?? error.toString();\n",
       "        wrapper.append(content);\n",
       "        el.append(wrapper);\n",
       "      }\n",
       "    } else if (Date.now() < root._bokeh_timeout) {\n",
       "      setTimeout(() => display_loaded(error), 100);\n",
       "    }\n",
       "  }\n",
       "\n",
       "  function run_callbacks() {\n",
       "    try {\n",
       "      root._bokeh_onload_callbacks.forEach(function(callback) {\n",
       "        if (callback != null)\n",
       "          callback();\n",
       "      });\n",
       "    } finally {\n",
       "      delete root._bokeh_onload_callbacks\n",
       "    }\n",
       "    console.debug(\"Bokeh: all callbacks have finished\");\n",
       "  }\n",
       "\n",
       "  function load_libs(css_urls, js_urls, callback) {\n",
       "    if (css_urls == null) css_urls = [];\n",
       "    if (js_urls == null) js_urls = [];\n",
       "\n",
       "    root._bokeh_onload_callbacks.push(callback);\n",
       "    if (root._bokeh_is_loading > 0) {\n",
       "      console.debug(\"Bokeh: BokehJS is being loaded, scheduling callback at\", now());\n",
       "      return null;\n",
       "    }\n",
       "    if (js_urls == null || js_urls.length === 0) {\n",
       "      run_callbacks();\n",
       "      return null;\n",
       "    }\n",
       "    console.debug(\"Bokeh: BokehJS not loaded, scheduling load and callback at\", now());\n",
       "    root._bokeh_is_loading = css_urls.length + js_urls.length;\n",
       "\n",
       "    function on_load() {\n",
       "      root._bokeh_is_loading--;\n",
       "      if (root._bokeh_is_loading === 0) {\n",
       "        console.debug(\"Bokeh: all BokehJS libraries/stylesheets loaded\");\n",
       "        run_callbacks()\n",
       "      }\n",
       "    }\n",
       "\n",
       "    function on_error(url) {\n",
       "      console.error(\"failed to load \" + url);\n",
       "    }\n",
       "\n",
       "    for (let i = 0; i < css_urls.length; i++) {\n",
       "      const url = css_urls[i];\n",
       "      const element = document.createElement(\"link\");\n",
       "      element.onload = on_load;\n",
       "      element.onerror = on_error.bind(null, url);\n",
       "      element.rel = \"stylesheet\";\n",
       "      element.type = \"text/css\";\n",
       "      element.href = url;\n",
       "      console.debug(\"Bokeh: injecting link tag for BokehJS stylesheet: \", url);\n",
       "      document.body.appendChild(element);\n",
       "    }\n",
       "\n",
       "    for (let i = 0; i < js_urls.length; i++) {\n",
       "      const url = js_urls[i];\n",
       "      const element = document.createElement('script');\n",
       "      element.onload = on_load;\n",
       "      element.onerror = on_error.bind(null, url);\n",
       "      element.async = false;\n",
       "      element.src = url;\n",
       "      console.debug(\"Bokeh: injecting script tag for BokehJS library: \", url);\n",
       "      document.head.appendChild(element);\n",
       "    }\n",
       "  };\n",
       "\n",
       "  function inject_raw_css(css) {\n",
       "    const element = document.createElement(\"style\");\n",
       "    element.appendChild(document.createTextNode(css));\n",
       "    document.body.appendChild(element);\n",
       "  }\n",
       "\n",
       "  const js_urls = [\"https://cdn.bokeh.org/bokeh/release/bokeh-3.6.2.min.js\", \"https://cdn.bokeh.org/bokeh/release/bokeh-gl-3.6.2.min.js\", \"https://cdn.bokeh.org/bokeh/release/bokeh-widgets-3.6.2.min.js\", \"https://cdn.bokeh.org/bokeh/release/bokeh-tables-3.6.2.min.js\", \"https://cdn.bokeh.org/bokeh/release/bokeh-mathjax-3.6.2.min.js\"];\n",
       "  const css_urls = [];\n",
       "\n",
       "  const inline_js = [    function(Bokeh) {\n",
       "      Bokeh.set_log_level(\"info\");\n",
       "    },\n",
       "function(Bokeh) {\n",
       "    }\n",
       "  ];\n",
       "\n",
       "  function run_inline_js() {\n",
       "    if (root.Bokeh !== undefined || force === true) {\n",
       "      try {\n",
       "            for (let i = 0; i < inline_js.length; i++) {\n",
       "      inline_js[i].call(root, root.Bokeh);\n",
       "    }\n",
       "\n",
       "      } catch (error) {display_loaded(error);throw error;\n",
       "      }if (force === true) {\n",
       "        display_loaded();\n",
       "      }} else if (Date.now() < root._bokeh_timeout) {\n",
       "      setTimeout(run_inline_js, 100);\n",
       "    } else if (!root._bokeh_failed_load) {\n",
       "      console.log(\"Bokeh: BokehJS failed to load within specified timeout.\");\n",
       "      root._bokeh_failed_load = true;\n",
       "    } else if (force !== true) {\n",
       "      const cell = $(document.getElementById(\"d4b0a9d8-0537-4f7b-9943-acf35e8ade60\")).parents('.cell').data().cell;\n",
       "      cell.output_area.append_execute_result(NB_LOAD_WARNING)\n",
       "    }\n",
       "  }\n",
       "\n",
       "  if (root._bokeh_is_loading === 0) {\n",
       "    console.debug(\"Bokeh: BokehJS loaded, going straight to plotting\");\n",
       "    run_inline_js();\n",
       "  } else {\n",
       "    load_libs(css_urls, js_urls, function() {\n",
       "      console.debug(\"Bokeh: BokehJS plotting callback run at\", now());\n",
       "      run_inline_js();\n",
       "    });\n",
       "  }\n",
       "}(window));"
      ],
      "application/vnd.bokehjs_load.v0+json": "'use strict';\n(function(root) {\n  function now() {\n    return new Date();\n  }\n\n  const force = true;\n\n  if (typeof root._bokeh_onload_callbacks === \"undefined\" || force === true) {\n    root._bokeh_onload_callbacks = [];\n    root._bokeh_is_loading = undefined;\n  }\n\n\n  if (typeof (root._bokeh_timeout) === \"undefined\" || force === true) {\n    root._bokeh_timeout = Date.now() + 5000;\n    root._bokeh_failed_load = false;\n  }\n\n  const NB_LOAD_WARNING = {'data': {'text/html':\n     \"<div style='background-color: #fdd'>\\n\"+\n     \"<p>\\n\"+\n     \"BokehJS does not appear to have successfully loaded. If loading BokehJS from CDN, this \\n\"+\n     \"may be due to a slow or bad network connection. Possible fixes:\\n\"+\n     \"</p>\\n\"+\n     \"<ul>\\n\"+\n     \"<li>re-rerun `output_notebook()` to attempt to load from CDN again, or</li>\\n\"+\n     \"<li>use INLINE resources instead, as so:</li>\\n\"+\n     \"</ul>\\n\"+\n     \"<code>\\n\"+\n     \"from bokeh.resources import INLINE\\n\"+\n     \"output_notebook(resources=INLINE)\\n\"+\n     \"</code>\\n\"+\n     \"</div>\"}};\n\n  function display_loaded(error = null) {\n    const el = document.getElementById(\"d4b0a9d8-0537-4f7b-9943-acf35e8ade60\");\n    if (el != null) {\n      const html = (() => {\n        if (typeof root.Bokeh === \"undefined\") {\n          if (error == null) {\n            return \"BokehJS is loading ...\";\n          } else {\n            return \"BokehJS failed to load.\";\n          }\n        } else {\n          const prefix = `BokehJS ${root.Bokeh.version}`;\n          if (error == null) {\n            return `${prefix} successfully loaded.`;\n          } else {\n            return `${prefix} <b>encountered errors</b> while loading and may not function as expected.`;\n          }\n        }\n      })();\n      el.innerHTML = html;\n\n      if (error != null) {\n        const wrapper = document.createElement(\"div\");\n        wrapper.style.overflow = \"auto\";\n        wrapper.style.height = \"5em\";\n        wrapper.style.resize = \"vertical\";\n        const content = document.createElement(\"div\");\n        content.style.fontFamily = \"monospace\";\n        content.style.whiteSpace = \"pre-wrap\";\n        content.style.backgroundColor = \"rgb(255, 221, 221)\";\n        content.textContent = error.stack ?? error.toString();\n        wrapper.append(content);\n        el.append(wrapper);\n      }\n    } else if (Date.now() < root._bokeh_timeout) {\n      setTimeout(() => display_loaded(error), 100);\n    }\n  }\n\n  function run_callbacks() {\n    try {\n      root._bokeh_onload_callbacks.forEach(function(callback) {\n        if (callback != null)\n          callback();\n      });\n    } finally {\n      delete root._bokeh_onload_callbacks\n    }\n    console.debug(\"Bokeh: all callbacks have finished\");\n  }\n\n  function load_libs(css_urls, js_urls, callback) {\n    if (css_urls == null) css_urls = [];\n    if (js_urls == null) js_urls = [];\n\n    root._bokeh_onload_callbacks.push(callback);\n    if (root._bokeh_is_loading > 0) {\n      console.debug(\"Bokeh: BokehJS is being loaded, scheduling callback at\", now());\n      return null;\n    }\n    if (js_urls == null || js_urls.length === 0) {\n      run_callbacks();\n      return null;\n    }\n    console.debug(\"Bokeh: BokehJS not loaded, scheduling load and callback at\", now());\n    root._bokeh_is_loading = css_urls.length + js_urls.length;\n\n    function on_load() {\n      root._bokeh_is_loading--;\n      if (root._bokeh_is_loading === 0) {\n        console.debug(\"Bokeh: all BokehJS libraries/stylesheets loaded\");\n        run_callbacks()\n      }\n    }\n\n    function on_error(url) {\n      console.error(\"failed to load \" + url);\n    }\n\n    for (let i = 0; i < css_urls.length; i++) {\n      const url = css_urls[i];\n      const element = document.createElement(\"link\");\n      element.onload = on_load;\n      element.onerror = on_error.bind(null, url);\n      element.rel = \"stylesheet\";\n      element.type = \"text/css\";\n      element.href = url;\n      console.debug(\"Bokeh: injecting link tag for BokehJS stylesheet: \", url);\n      document.body.appendChild(element);\n    }\n\n    for (let i = 0; i < js_urls.length; i++) {\n      const url = js_urls[i];\n      const element = document.createElement('script');\n      element.onload = on_load;\n      element.onerror = on_error.bind(null, url);\n      element.async = false;\n      element.src = url;\n      console.debug(\"Bokeh: injecting script tag for BokehJS library: \", url);\n      document.head.appendChild(element);\n    }\n  };\n\n  function inject_raw_css(css) {\n    const element = document.createElement(\"style\");\n    element.appendChild(document.createTextNode(css));\n    document.body.appendChild(element);\n  }\n\n  const js_urls = [\"https://cdn.bokeh.org/bokeh/release/bokeh-3.6.2.min.js\", \"https://cdn.bokeh.org/bokeh/release/bokeh-gl-3.6.2.min.js\", \"https://cdn.bokeh.org/bokeh/release/bokeh-widgets-3.6.2.min.js\", \"https://cdn.bokeh.org/bokeh/release/bokeh-tables-3.6.2.min.js\", \"https://cdn.bokeh.org/bokeh/release/bokeh-mathjax-3.6.2.min.js\"];\n  const css_urls = [];\n\n  const inline_js = [    function(Bokeh) {\n      Bokeh.set_log_level(\"info\");\n    },\nfunction(Bokeh) {\n    }\n  ];\n\n  function run_inline_js() {\n    if (root.Bokeh !== undefined || force === true) {\n      try {\n            for (let i = 0; i < inline_js.length; i++) {\n      inline_js[i].call(root, root.Bokeh);\n    }\n\n      } catch (error) {display_loaded(error);throw error;\n      }if (force === true) {\n        display_loaded();\n      }} else if (Date.now() < root._bokeh_timeout) {\n      setTimeout(run_inline_js, 100);\n    } else if (!root._bokeh_failed_load) {\n      console.log(\"Bokeh: BokehJS failed to load within specified timeout.\");\n      root._bokeh_failed_load = true;\n    } else if (force !== true) {\n      const cell = $(document.getElementById(\"d4b0a9d8-0537-4f7b-9943-acf35e8ade60\")).parents('.cell').data().cell;\n      cell.output_area.append_execute_result(NB_LOAD_WARNING)\n    }\n  }\n\n  if (root._bokeh_is_loading === 0) {\n    console.debug(\"Bokeh: BokehJS loaded, going straight to plotting\");\n    run_inline_js();\n  } else {\n    load_libs(css_urls, js_urls, function() {\n      console.debug(\"Bokeh: BokehJS plotting callback run at\", now());\n      run_inline_js();\n    });\n  }\n}(window));"
     },
     "metadata": {},
     "output_type": "display_data"
    },
    {
     "data": {
      "text/html": [
       "    <style>\n",
       "        .bk-notebook-logo {\n",
       "            display: block;\n",
       "            width: 20px;\n",
       "            height: 20px;\n",
       "            background-image: url(data:image/png;base64,iVBORw0KGgoAAAANSUhEUgAAABQAAAAUCAYAAACNiR0NAAAABHNCSVQICAgIfAhkiAAAAAlwSFlzAAALEgAACxIB0t1+/AAAABx0RVh0U29mdHdhcmUAQWRvYmUgRmlyZXdvcmtzIENTNui8sowAAAOkSURBVDiNjZRtaJVlGMd/1/08zzln5zjP1LWcU9N0NkN8m2CYjpgQYQXqSs0I84OLIC0hkEKoPtiH3gmKoiJDU7QpLgoLjLIQCpEsNJ1vqUOdO7ppbuec5+V+rj4ctwzd8IIbbi6u+8f1539dt3A78eXC7QizUF7gyV1fD1Yqg4JWz84yffhm0qkFqBogB9rM8tZdtwVsPUhWhGcFJngGeWrPzHm5oaMmkfEg1usvLFyc8jLRqDOMru7AyC8saQr7GG7f5fvDeH7Ej8CM66nIF+8yngt6HWaKh7k49Soy9nXurCi1o3qUbS3zWfrYeQDTB/Qj6kX6Ybhw4B+bOYoLKCC9H3Nu/leUTZ1JdRWkkn2ldcCamzrcf47KKXdAJllSlxAOkRgyHsGC/zRday5Qld9DyoM4/q/rUoy/CXh3jzOu3bHUVZeU+DEn8FInkPBFlu3+nW3Nw0mk6vCDiWg8CeJaxEwuHS3+z5RgY+YBR6V1Z1nxSOfoaPa4LASWxxdNp+VWTk7+4vzaou8v8PN+xo+KY2xsw6une2frhw05CTYOmQvsEhjhWjn0bmXPjpE1+kplmmkP3suftwTubK9Vq22qKmrBhpY4jvd5afdRA3wGjFAgcnTK2s4hY0/GPNIb0nErGMCRxWOOX64Z8RAC4oCXdklmEvcL8o0BfkNK4lUg9HTl+oPlQxdNo3Mg4Nv175e/1LDGzZen30MEjRUtmXSfiTVu1kK8W4txyV6BMKlbgk3lMwYCiusNy9fVfvvwMxv8Ynl6vxoByANLTWplvuj/nF9m2+PDtt1eiHPBr1oIfhCChQMBw6Aw0UulqTKZdfVvfG7VcfIqLG9bcldL/+pdWTLxLUy8Qq38heUIjh4XlzZxzQm19lLFlr8vdQ97rjZVOLf8nclzckbcD4wxXMidpX30sFd37Fv/GtwwhzhxGVAprjbg0gCAEeIgwCZyTV2Z1REEW8O4py0wsjeloKoMr6iCY6dP92H6Vw/oTyICIthibxjm/DfN9lVz8IqtqKYLUXfoKVMVQVVJOElGjrnnUt9T9wbgp8AyYKaGlqingHZU/uG2NTZSVqwHQTWkx9hxjkpWDaCg6Ckj5qebgBVbT3V3NNXMSiWSDdGV3hrtzla7J+duwPOToIg42ChPQOQjspnSlp1V+Gjdged7+8UN5CRAV7a5EdFNwCjEaBR27b3W890TE7g24NAP/mMDXRWrGoFPQI9ls/MWO2dWFAar/xcOIImbbpA3zgAAAABJRU5ErkJggg==);\n",
       "        }\n",
       "    </style>\n",
       "    <div>\n",
       "        <a href=\"https://bokeh.org\" target=\"_blank\" class=\"bk-notebook-logo\"></a>\n",
       "        <span id=\"dfd14911-4a93-4152-8e3a-ae66cbcf94e2\">Loading BokehJS ...</span>\n",
       "    </div>\n"
      ]
     },
     "metadata": {},
     "output_type": "display_data"
    },
    {
     "data": {
      "application/javascript": [
       "'use strict';\n",
       "(function(root) {\n",
       "  function now() {\n",
       "    return new Date();\n",
       "  }\n",
       "\n",
       "  const force = true;\n",
       "\n",
       "  if (typeof root._bokeh_onload_callbacks === \"undefined\" || force === true) {\n",
       "    root._bokeh_onload_callbacks = [];\n",
       "    root._bokeh_is_loading = undefined;\n",
       "  }\n",
       "\n",
       "const JS_MIME_TYPE = 'application/javascript';\n",
       "  const HTML_MIME_TYPE = 'text/html';\n",
       "  const EXEC_MIME_TYPE = 'application/vnd.bokehjs_exec.v0+json';\n",
       "  const CLASS_NAME = 'output_bokeh rendered_html';\n",
       "\n",
       "  /**\n",
       "   * Render data to the DOM node\n",
       "   */\n",
       "  function render(props, node) {\n",
       "    const script = document.createElement(\"script\");\n",
       "    node.appendChild(script);\n",
       "  }\n",
       "\n",
       "  /**\n",
       "   * Handle when an output is cleared or removed\n",
       "   */\n",
       "  function handleClearOutput(event, handle) {\n",
       "    function drop(id) {\n",
       "      const view = Bokeh.index.get_by_id(id)\n",
       "      if (view != null) {\n",
       "        view.model.document.clear()\n",
       "        Bokeh.index.delete(view)\n",
       "      }\n",
       "    }\n",
       "\n",
       "    const cell = handle.cell;\n",
       "\n",
       "    const id = cell.output_area._bokeh_element_id;\n",
       "    const server_id = cell.output_area._bokeh_server_id;\n",
       "\n",
       "    // Clean up Bokeh references\n",
       "    if (id != null) {\n",
       "      drop(id)\n",
       "    }\n",
       "\n",
       "    if (server_id !== undefined) {\n",
       "      // Clean up Bokeh references\n",
       "      const cmd_clean = \"from bokeh.io.state import curstate; print(curstate().uuid_to_server['\" + server_id + \"'].get_sessions()[0].document.roots[0]._id)\";\n",
       "      cell.notebook.kernel.execute(cmd_clean, {\n",
       "        iopub: {\n",
       "          output: function(msg) {\n",
       "            const id = msg.content.text.trim()\n",
       "            drop(id)\n",
       "          }\n",
       "        }\n",
       "      });\n",
       "      // Destroy server and session\n",
       "      const cmd_destroy = \"import bokeh.io.notebook as ion; ion.destroy_server('\" + server_id + \"')\";\n",
       "      cell.notebook.kernel.execute(cmd_destroy);\n",
       "    }\n",
       "  }\n",
       "\n",
       "  /**\n",
       "   * Handle when a new output is added\n",
       "   */\n",
       "  function handleAddOutput(event, handle) {\n",
       "    const output_area = handle.output_area;\n",
       "    const output = handle.output;\n",
       "\n",
       "    // limit handleAddOutput to display_data with EXEC_MIME_TYPE content only\n",
       "    if ((output.output_type != \"display_data\") || (!Object.prototype.hasOwnProperty.call(output.data, EXEC_MIME_TYPE))) {\n",
       "      return\n",
       "    }\n",
       "\n",
       "    const toinsert = output_area.element.find(\".\" + CLASS_NAME.split(' ')[0]);\n",
       "\n",
       "    if (output.metadata[EXEC_MIME_TYPE][\"id\"] !== undefined) {\n",
       "      toinsert[toinsert.length - 1].firstChild.textContent = output.data[JS_MIME_TYPE];\n",
       "      // store reference to embed id on output_area\n",
       "      output_area._bokeh_element_id = output.metadata[EXEC_MIME_TYPE][\"id\"];\n",
       "    }\n",
       "    if (output.metadata[EXEC_MIME_TYPE][\"server_id\"] !== undefined) {\n",
       "      const bk_div = document.createElement(\"div\");\n",
       "      bk_div.innerHTML = output.data[HTML_MIME_TYPE];\n",
       "      const script_attrs = bk_div.children[0].attributes;\n",
       "      for (let i = 0; i < script_attrs.length; i++) {\n",
       "        toinsert[toinsert.length - 1].firstChild.setAttribute(script_attrs[i].name, script_attrs[i].value);\n",
       "        toinsert[toinsert.length - 1].firstChild.textContent = bk_div.children[0].textContent\n",
       "      }\n",
       "      // store reference to server id on output_area\n",
       "      output_area._bokeh_server_id = output.metadata[EXEC_MIME_TYPE][\"server_id\"];\n",
       "    }\n",
       "  }\n",
       "\n",
       "  function register_renderer(events, OutputArea) {\n",
       "\n",
       "    function append_mime(data, metadata, element) {\n",
       "      // create a DOM node to render to\n",
       "      const toinsert = this.create_output_subarea(\n",
       "        metadata,\n",
       "        CLASS_NAME,\n",
       "        EXEC_MIME_TYPE\n",
       "      );\n",
       "      this.keyboard_manager.register_events(toinsert);\n",
       "      // Render to node\n",
       "      const props = {data: data, metadata: metadata[EXEC_MIME_TYPE]};\n",
       "      render(props, toinsert[toinsert.length - 1]);\n",
       "      element.append(toinsert);\n",
       "      return toinsert\n",
       "    }\n",
       "\n",
       "    /* Handle when an output is cleared or removed */\n",
       "    events.on('clear_output.CodeCell', handleClearOutput);\n",
       "    events.on('delete.Cell', handleClearOutput);\n",
       "\n",
       "    /* Handle when a new output is added */\n",
       "    events.on('output_added.OutputArea', handleAddOutput);\n",
       "\n",
       "    /**\n",
       "     * Register the mime type and append_mime function with output_area\n",
       "     */\n",
       "    OutputArea.prototype.register_mime_type(EXEC_MIME_TYPE, append_mime, {\n",
       "      /* Is output safe? */\n",
       "      safe: true,\n",
       "      /* Index of renderer in `output_area.display_order` */\n",
       "      index: 0\n",
       "    });\n",
       "  }\n",
       "\n",
       "  // register the mime type if in Jupyter Notebook environment and previously unregistered\n",
       "  if (root.Jupyter !== undefined) {\n",
       "    const events = require('base/js/events');\n",
       "    const OutputArea = require('notebook/js/outputarea').OutputArea;\n",
       "\n",
       "    if (OutputArea.prototype.mime_types().indexOf(EXEC_MIME_TYPE) == -1) {\n",
       "      register_renderer(events, OutputArea);\n",
       "    }\n",
       "  }\n",
       "  if (typeof (root._bokeh_timeout) === \"undefined\" || force === true) {\n",
       "    root._bokeh_timeout = Date.now() + 5000;\n",
       "    root._bokeh_failed_load = false;\n",
       "  }\n",
       "\n",
       "  const NB_LOAD_WARNING = {'data': {'text/html':\n",
       "     \"<div style='background-color: #fdd'>\\n\"+\n",
       "     \"<p>\\n\"+\n",
       "     \"BokehJS does not appear to have successfully loaded. If loading BokehJS from CDN, this \\n\"+\n",
       "     \"may be due to a slow or bad network connection. Possible fixes:\\n\"+\n",
       "     \"</p>\\n\"+\n",
       "     \"<ul>\\n\"+\n",
       "     \"<li>re-rerun `output_notebook()` to attempt to load from CDN again, or</li>\\n\"+\n",
       "     \"<li>use INLINE resources instead, as so:</li>\\n\"+\n",
       "     \"</ul>\\n\"+\n",
       "     \"<code>\\n\"+\n",
       "     \"from bokeh.resources import INLINE\\n\"+\n",
       "     \"output_notebook(resources=INLINE)\\n\"+\n",
       "     \"</code>\\n\"+\n",
       "     \"</div>\"}};\n",
       "\n",
       "  function display_loaded(error = null) {\n",
       "    const el = document.getElementById(\"dfd14911-4a93-4152-8e3a-ae66cbcf94e2\");\n",
       "    if (el != null) {\n",
       "      const html = (() => {\n",
       "        if (typeof root.Bokeh === \"undefined\") {\n",
       "          if (error == null) {\n",
       "            return \"BokehJS is loading ...\";\n",
       "          } else {\n",
       "            return \"BokehJS failed to load.\";\n",
       "          }\n",
       "        } else {\n",
       "          const prefix = `BokehJS ${root.Bokeh.version}`;\n",
       "          if (error == null) {\n",
       "            return `${prefix} successfully loaded.`;\n",
       "          } else {\n",
       "            return `${prefix} <b>encountered errors</b> while loading and may not function as expected.`;\n",
       "          }\n",
       "        }\n",
       "      })();\n",
       "      el.innerHTML = html;\n",
       "\n",
       "      if (error != null) {\n",
       "        const wrapper = document.createElement(\"div\");\n",
       "        wrapper.style.overflow = \"auto\";\n",
       "        wrapper.style.height = \"5em\";\n",
       "        wrapper.style.resize = \"vertical\";\n",
       "        const content = document.createElement(\"div\");\n",
       "        content.style.fontFamily = \"monospace\";\n",
       "        content.style.whiteSpace = \"pre-wrap\";\n",
       "        content.style.backgroundColor = \"rgb(255, 221, 221)\";\n",
       "        content.textContent = error.stack ?? error.toString();\n",
       "        wrapper.append(content);\n",
       "        el.append(wrapper);\n",
       "      }\n",
       "    } else if (Date.now() < root._bokeh_timeout) {\n",
       "      setTimeout(() => display_loaded(error), 100);\n",
       "    }\n",
       "  }\n",
       "\n",
       "  function run_callbacks() {\n",
       "    try {\n",
       "      root._bokeh_onload_callbacks.forEach(function(callback) {\n",
       "        if (callback != null)\n",
       "          callback();\n",
       "      });\n",
       "    } finally {\n",
       "      delete root._bokeh_onload_callbacks\n",
       "    }\n",
       "    console.debug(\"Bokeh: all callbacks have finished\");\n",
       "  }\n",
       "\n",
       "  function load_libs(css_urls, js_urls, callback) {\n",
       "    if (css_urls == null) css_urls = [];\n",
       "    if (js_urls == null) js_urls = [];\n",
       "\n",
       "    root._bokeh_onload_callbacks.push(callback);\n",
       "    if (root._bokeh_is_loading > 0) {\n",
       "      console.debug(\"Bokeh: BokehJS is being loaded, scheduling callback at\", now());\n",
       "      return null;\n",
       "    }\n",
       "    if (js_urls == null || js_urls.length === 0) {\n",
       "      run_callbacks();\n",
       "      return null;\n",
       "    }\n",
       "    console.debug(\"Bokeh: BokehJS not loaded, scheduling load and callback at\", now());\n",
       "    root._bokeh_is_loading = css_urls.length + js_urls.length;\n",
       "\n",
       "    function on_load() {\n",
       "      root._bokeh_is_loading--;\n",
       "      if (root._bokeh_is_loading === 0) {\n",
       "        console.debug(\"Bokeh: all BokehJS libraries/stylesheets loaded\");\n",
       "        run_callbacks()\n",
       "      }\n",
       "    }\n",
       "\n",
       "    function on_error(url) {\n",
       "      console.error(\"failed to load \" + url);\n",
       "    }\n",
       "\n",
       "    for (let i = 0; i < css_urls.length; i++) {\n",
       "      const url = css_urls[i];\n",
       "      const element = document.createElement(\"link\");\n",
       "      element.onload = on_load;\n",
       "      element.onerror = on_error.bind(null, url);\n",
       "      element.rel = \"stylesheet\";\n",
       "      element.type = \"text/css\";\n",
       "      element.href = url;\n",
       "      console.debug(\"Bokeh: injecting link tag for BokehJS stylesheet: \", url);\n",
       "      document.body.appendChild(element);\n",
       "    }\n",
       "\n",
       "    for (let i = 0; i < js_urls.length; i++) {\n",
       "      const url = js_urls[i];\n",
       "      const element = document.createElement('script');\n",
       "      element.onload = on_load;\n",
       "      element.onerror = on_error.bind(null, url);\n",
       "      element.async = false;\n",
       "      element.src = url;\n",
       "      console.debug(\"Bokeh: injecting script tag for BokehJS library: \", url);\n",
       "      document.head.appendChild(element);\n",
       "    }\n",
       "  };\n",
       "\n",
       "  function inject_raw_css(css) {\n",
       "    const element = document.createElement(\"style\");\n",
       "    element.appendChild(document.createTextNode(css));\n",
       "    document.body.appendChild(element);\n",
       "  }\n",
       "\n",
       "  const js_urls = [\"https://cdn.bokeh.org/bokeh/release/bokeh-3.6.2.min.js\", \"https://cdn.bokeh.org/bokeh/release/bokeh-gl-3.6.2.min.js\", \"https://cdn.bokeh.org/bokeh/release/bokeh-widgets-3.6.2.min.js\", \"https://cdn.bokeh.org/bokeh/release/bokeh-tables-3.6.2.min.js\", \"https://cdn.bokeh.org/bokeh/release/bokeh-mathjax-3.6.2.min.js\"];\n",
       "  const css_urls = [];\n",
       "\n",
       "  const inline_js = [    function(Bokeh) {\n",
       "      Bokeh.set_log_level(\"info\");\n",
       "    },\n",
       "function(Bokeh) {\n",
       "    }\n",
       "  ];\n",
       "\n",
       "  function run_inline_js() {\n",
       "    if (root.Bokeh !== undefined || force === true) {\n",
       "      try {\n",
       "            for (let i = 0; i < inline_js.length; i++) {\n",
       "      inline_js[i].call(root, root.Bokeh);\n",
       "    }\n",
       "\n",
       "      } catch (error) {display_loaded(error);throw error;\n",
       "      }if (force === true) {\n",
       "        display_loaded();\n",
       "      }} else if (Date.now() < root._bokeh_timeout) {\n",
       "      setTimeout(run_inline_js, 100);\n",
       "    } else if (!root._bokeh_failed_load) {\n",
       "      console.log(\"Bokeh: BokehJS failed to load within specified timeout.\");\n",
       "      root._bokeh_failed_load = true;\n",
       "    } else if (force !== true) {\n",
       "      const cell = $(document.getElementById(\"dfd14911-4a93-4152-8e3a-ae66cbcf94e2\")).parents('.cell').data().cell;\n",
       "      cell.output_area.append_execute_result(NB_LOAD_WARNING)\n",
       "    }\n",
       "  }\n",
       "\n",
       "  if (root._bokeh_is_loading === 0) {\n",
       "    console.debug(\"Bokeh: BokehJS loaded, going straight to plotting\");\n",
       "    run_inline_js();\n",
       "  } else {\n",
       "    load_libs(css_urls, js_urls, function() {\n",
       "      console.debug(\"Bokeh: BokehJS plotting callback run at\", now());\n",
       "      run_inline_js();\n",
       "    });\n",
       "  }\n",
       "}(window));"
      ],
      "application/vnd.bokehjs_load.v0+json": "'use strict';\n(function(root) {\n  function now() {\n    return new Date();\n  }\n\n  const force = true;\n\n  if (typeof root._bokeh_onload_callbacks === \"undefined\" || force === true) {\n    root._bokeh_onload_callbacks = [];\n    root._bokeh_is_loading = undefined;\n  }\n\n\n  if (typeof (root._bokeh_timeout) === \"undefined\" || force === true) {\n    root._bokeh_timeout = Date.now() + 5000;\n    root._bokeh_failed_load = false;\n  }\n\n  const NB_LOAD_WARNING = {'data': {'text/html':\n     \"<div style='background-color: #fdd'>\\n\"+\n     \"<p>\\n\"+\n     \"BokehJS does not appear to have successfully loaded. If loading BokehJS from CDN, this \\n\"+\n     \"may be due to a slow or bad network connection. Possible fixes:\\n\"+\n     \"</p>\\n\"+\n     \"<ul>\\n\"+\n     \"<li>re-rerun `output_notebook()` to attempt to load from CDN again, or</li>\\n\"+\n     \"<li>use INLINE resources instead, as so:</li>\\n\"+\n     \"</ul>\\n\"+\n     \"<code>\\n\"+\n     \"from bokeh.resources import INLINE\\n\"+\n     \"output_notebook(resources=INLINE)\\n\"+\n     \"</code>\\n\"+\n     \"</div>\"}};\n\n  function display_loaded(error = null) {\n    const el = document.getElementById(\"dfd14911-4a93-4152-8e3a-ae66cbcf94e2\");\n    if (el != null) {\n      const html = (() => {\n        if (typeof root.Bokeh === \"undefined\") {\n          if (error == null) {\n            return \"BokehJS is loading ...\";\n          } else {\n            return \"BokehJS failed to load.\";\n          }\n        } else {\n          const prefix = `BokehJS ${root.Bokeh.version}`;\n          if (error == null) {\n            return `${prefix} successfully loaded.`;\n          } else {\n            return `${prefix} <b>encountered errors</b> while loading and may not function as expected.`;\n          }\n        }\n      })();\n      el.innerHTML = html;\n\n      if (error != null) {\n        const wrapper = document.createElement(\"div\");\n        wrapper.style.overflow = \"auto\";\n        wrapper.style.height = \"5em\";\n        wrapper.style.resize = \"vertical\";\n        const content = document.createElement(\"div\");\n        content.style.fontFamily = \"monospace\";\n        content.style.whiteSpace = \"pre-wrap\";\n        content.style.backgroundColor = \"rgb(255, 221, 221)\";\n        content.textContent = error.stack ?? error.toString();\n        wrapper.append(content);\n        el.append(wrapper);\n      }\n    } else if (Date.now() < root._bokeh_timeout) {\n      setTimeout(() => display_loaded(error), 100);\n    }\n  }\n\n  function run_callbacks() {\n    try {\n      root._bokeh_onload_callbacks.forEach(function(callback) {\n        if (callback != null)\n          callback();\n      });\n    } finally {\n      delete root._bokeh_onload_callbacks\n    }\n    console.debug(\"Bokeh: all callbacks have finished\");\n  }\n\n  function load_libs(css_urls, js_urls, callback) {\n    if (css_urls == null) css_urls = [];\n    if (js_urls == null) js_urls = [];\n\n    root._bokeh_onload_callbacks.push(callback);\n    if (root._bokeh_is_loading > 0) {\n      console.debug(\"Bokeh: BokehJS is being loaded, scheduling callback at\", now());\n      return null;\n    }\n    if (js_urls == null || js_urls.length === 0) {\n      run_callbacks();\n      return null;\n    }\n    console.debug(\"Bokeh: BokehJS not loaded, scheduling load and callback at\", now());\n    root._bokeh_is_loading = css_urls.length + js_urls.length;\n\n    function on_load() {\n      root._bokeh_is_loading--;\n      if (root._bokeh_is_loading === 0) {\n        console.debug(\"Bokeh: all BokehJS libraries/stylesheets loaded\");\n        run_callbacks()\n      }\n    }\n\n    function on_error(url) {\n      console.error(\"failed to load \" + url);\n    }\n\n    for (let i = 0; i < css_urls.length; i++) {\n      const url = css_urls[i];\n      const element = document.createElement(\"link\");\n      element.onload = on_load;\n      element.onerror = on_error.bind(null, url);\n      element.rel = \"stylesheet\";\n      element.type = \"text/css\";\n      element.href = url;\n      console.debug(\"Bokeh: injecting link tag for BokehJS stylesheet: \", url);\n      document.body.appendChild(element);\n    }\n\n    for (let i = 0; i < js_urls.length; i++) {\n      const url = js_urls[i];\n      const element = document.createElement('script');\n      element.onload = on_load;\n      element.onerror = on_error.bind(null, url);\n      element.async = false;\n      element.src = url;\n      console.debug(\"Bokeh: injecting script tag for BokehJS library: \", url);\n      document.head.appendChild(element);\n    }\n  };\n\n  function inject_raw_css(css) {\n    const element = document.createElement(\"style\");\n    element.appendChild(document.createTextNode(css));\n    document.body.appendChild(element);\n  }\n\n  const js_urls = [\"https://cdn.bokeh.org/bokeh/release/bokeh-3.6.2.min.js\", \"https://cdn.bokeh.org/bokeh/release/bokeh-gl-3.6.2.min.js\", \"https://cdn.bokeh.org/bokeh/release/bokeh-widgets-3.6.2.min.js\", \"https://cdn.bokeh.org/bokeh/release/bokeh-tables-3.6.2.min.js\", \"https://cdn.bokeh.org/bokeh/release/bokeh-mathjax-3.6.2.min.js\"];\n  const css_urls = [];\n\n  const inline_js = [    function(Bokeh) {\n      Bokeh.set_log_level(\"info\");\n    },\nfunction(Bokeh) {\n    }\n  ];\n\n  function run_inline_js() {\n    if (root.Bokeh !== undefined || force === true) {\n      try {\n            for (let i = 0; i < inline_js.length; i++) {\n      inline_js[i].call(root, root.Bokeh);\n    }\n\n      } catch (error) {display_loaded(error);throw error;\n      }if (force === true) {\n        display_loaded();\n      }} else if (Date.now() < root._bokeh_timeout) {\n      setTimeout(run_inline_js, 100);\n    } else if (!root._bokeh_failed_load) {\n      console.log(\"Bokeh: BokehJS failed to load within specified timeout.\");\n      root._bokeh_failed_load = true;\n    } else if (force !== true) {\n      const cell = $(document.getElementById(\"dfd14911-4a93-4152-8e3a-ae66cbcf94e2\")).parents('.cell').data().cell;\n      cell.output_area.append_execute_result(NB_LOAD_WARNING)\n    }\n  }\n\n  if (root._bokeh_is_loading === 0) {\n    console.debug(\"Bokeh: BokehJS loaded, going straight to plotting\");\n    run_inline_js();\n  } else {\n    load_libs(css_urls, js_urls, function() {\n      console.debug(\"Bokeh: BokehJS plotting callback run at\", now());\n      run_inline_js();\n    });\n  }\n}(window));"
     },
     "metadata": {},
     "output_type": "display_data"
    }
   ],
   "source": [
    "import bokeh\n",
    "from bokeh.plotting import figure, show, output_notebook\n",
    "from bokeh.models import HoverTool, ColumnDataSource, LabelSet\n",
    "\n",
    "output_notebook()\n",
    "bokeh.io.output_notebook()"
   ]
  },
  {
   "cell_type": "code",
   "execution_count": 76,
   "metadata": {},
   "outputs": [
    {
     "data": {
      "text/html": [
       "\n",
       "  <div id=\"b7df1bf5-2194-4a75-8a15-a295df4a393d\" data-root-id=\"p1250\" style=\"display: contents;\"></div>\n"
      ]
     },
     "metadata": {},
     "output_type": "display_data"
    },
    {
     "data": {
      "application/javascript": [
       "(function(root) {\n",
       "  function embed_document(root) {\n",
       "  const docs_json = {\"143fb5d4-e10b-42c7-a548-342925125180\":{\"version\":\"3.6.2\",\"title\":\"Bokeh Application\",\"roots\":[{\"type\":\"object\",\"name\":\"Figure\",\"id\":\"p1250\",\"attributes\":{\"x_range\":{\"type\":\"object\",\"name\":\"DataRange1d\",\"id\":\"p1251\"},\"y_range\":{\"type\":\"object\",\"name\":\"DataRange1d\",\"id\":\"p1252\"},\"x_scale\":{\"type\":\"object\",\"name\":\"LinearScale\",\"id\":\"p1260\"},\"y_scale\":{\"type\":\"object\",\"name\":\"LinearScale\",\"id\":\"p1261\"},\"title\":{\"type\":\"object\",\"name\":\"Title\",\"id\":\"p1253\",\"attributes\":{\"text\":\"t-SNE Word Embeddings\"}},\"renderers\":[{\"type\":\"object\",\"name\":\"GlyphRenderer\",\"id\":\"p1293\",\"attributes\":{\"data_source\":{\"type\":\"object\",\"name\":\"ColumnDataSource\",\"id\":\"p1247\",\"attributes\":{\"selected\":{\"type\":\"object\",\"name\":\"Selection\",\"id\":\"p1248\",\"attributes\":{\"indices\":[],\"line_indices\":[]}},\"selection_policy\":{\"type\":\"object\",\"name\":\"UnionRenderers\",\"id\":\"p1249\"},\"data\":{\"type\":\"map\",\"entries\":[[\"index\",{\"type\":\"ndarray\",\"array\":[\"asshole\",\"jerk\",\"rude\",\"inconsiderate\",\"angry\",\"upset\",\"sad\",\"happy\",\"frustrated\",\"friend\",\"family\",\"partner\",\"coworker\",\"neighbor\",\"apologize\",\"forgive\",\"ignore\",\"confront\",\"compromise\",\"right\",\"wrong\",\"justified\",\"unjustified\",\"fair\",\"unfair\",\"honesty\",\"loyalty\",\"respect\",\"kindness\",\"empathy\"],\"shape\":[30],\"dtype\":\"object\",\"order\":\"little\"}],[\"x\",{\"type\":\"ndarray\",\"array\":{\"type\":\"bytes\",\"data\":\"0sRkQrPPtEJ/0S/Fb1gfRSAocMOIiGTDUB0aQvhVUcOkEpDD54crQ1ogVEOkQZHCNzITw5UX1sFVYCJDJG+RwjIQekM37x1DU1e+wqRaZ8G1ZZ3AAZu8Qej0F0K9h85C89DzQsNYJML2N6ZCvL2kwmVCsUINtgpC\"},\"shape\":[30],\"dtype\":\"float32\",\"order\":\"little\"}],[\"y\",{\"type\":\"ndarray\",\"array\":{\"type\":\"bytes\",\"data\":\"oRfCQcJzdULLT1jCl5Thw9HyU0Aa4yJCrk0+w3xbrkKUbf5BhNhIQnQNkkLIjUHDkDzIwqfNu8IyEBzD/k2cQh0FX8JtAzTCgdNrw3JXIsFZRRFC5yDUQkM4bcDeBylDVKpXQ/bKMUPGCtrCtXqWwXDY58GpDVzC\"},\"shape\":[30],\"dtype\":\"float32\",\"order\":\"little\"}]]}}},\"view\":{\"type\":\"object\",\"name\":\"CDSView\",\"id\":\"p1294\",\"attributes\":{\"filter\":{\"type\":\"object\",\"name\":\"AllIndices\",\"id\":\"p1295\"}}},\"glyph\":{\"type\":\"object\",\"name\":\"Scatter\",\"id\":\"p1289\",\"attributes\":{\"x\":{\"type\":\"field\",\"field\":\"x\"},\"y\":{\"type\":\"field\",\"field\":\"y\"},\"size\":{\"type\":\"value\",\"value\":10},\"line_color\":{\"type\":\"value\",\"value\":\"blue\"},\"fill_color\":{\"type\":\"value\",\"value\":\"blue\"},\"hatch_color\":{\"type\":\"value\",\"value\":\"blue\"}}},\"nonselection_glyph\":{\"type\":\"object\",\"name\":\"Scatter\",\"id\":\"p1290\",\"attributes\":{\"x\":{\"type\":\"field\",\"field\":\"x\"},\"y\":{\"type\":\"field\",\"field\":\"y\"},\"size\":{\"type\":\"value\",\"value\":10},\"line_color\":{\"type\":\"value\",\"value\":\"blue\"},\"line_alpha\":{\"type\":\"value\",\"value\":0.1},\"fill_color\":{\"type\":\"value\",\"value\":\"blue\"},\"fill_alpha\":{\"type\":\"value\",\"value\":0.1},\"hatch_color\":{\"type\":\"value\",\"value\":\"blue\"},\"hatch_alpha\":{\"type\":\"value\",\"value\":0.1}}},\"hover_glyph\":{\"type\":\"object\",\"name\":\"Scatter\",\"id\":\"p1291\",\"attributes\":{\"x\":{\"type\":\"field\",\"field\":\"x\"},\"y\":{\"type\":\"field\",\"field\":\"y\"},\"size\":{\"type\":\"value\",\"value\":10},\"fill_color\":{\"type\":\"value\",\"value\":\"blue\"},\"hatch_color\":{\"type\":\"value\",\"value\":\"blue\"}}},\"muted_glyph\":{\"type\":\"object\",\"name\":\"Scatter\",\"id\":\"p1292\",\"attributes\":{\"x\":{\"type\":\"field\",\"field\":\"x\"},\"y\":{\"type\":\"field\",\"field\":\"y\"},\"size\":{\"type\":\"value\",\"value\":10},\"line_color\":{\"type\":\"value\",\"value\":\"blue\"},\"line_alpha\":{\"type\":\"value\",\"value\":0.2},\"fill_color\":{\"type\":\"value\",\"value\":\"blue\"},\"fill_alpha\":{\"type\":\"value\",\"value\":0.2},\"hatch_color\":{\"type\":\"value\",\"value\":\"blue\"},\"hatch_alpha\":{\"type\":\"value\",\"value\":0.2}}}}}],\"toolbar\":{\"type\":\"object\",\"name\":\"Toolbar\",\"id\":\"p1259\",\"attributes\":{\"tools\":[{\"type\":\"object\",\"name\":\"PanTool\",\"id\":\"p1272\"},{\"type\":\"object\",\"name\":\"WheelZoomTool\",\"id\":\"p1273\",\"attributes\":{\"renderers\":\"auto\"}},{\"type\":\"object\",\"name\":\"BoxZoomTool\",\"id\":\"p1274\",\"attributes\":{\"overlay\":{\"type\":\"object\",\"name\":\"BoxAnnotation\",\"id\":\"p1275\",\"attributes\":{\"syncable\":false,\"line_color\":\"black\",\"line_alpha\":1.0,\"line_width\":2,\"line_dash\":[4,4],\"fill_color\":\"lightgrey\",\"fill_alpha\":0.5,\"level\":\"overlay\",\"visible\":false,\"left\":{\"type\":\"number\",\"value\":\"nan\"},\"right\":{\"type\":\"number\",\"value\":\"nan\"},\"top\":{\"type\":\"number\",\"value\":\"nan\"},\"bottom\":{\"type\":\"number\",\"value\":\"nan\"},\"left_units\":\"canvas\",\"right_units\":\"canvas\",\"top_units\":\"canvas\",\"bottom_units\":\"canvas\",\"handles\":{\"type\":\"object\",\"name\":\"BoxInteractionHandles\",\"id\":\"p1281\",\"attributes\":{\"all\":{\"type\":\"object\",\"name\":\"AreaVisuals\",\"id\":\"p1280\",\"attributes\":{\"fill_color\":\"white\",\"hover_fill_color\":\"lightgray\"}}}}}}}},{\"type\":\"object\",\"name\":\"SaveTool\",\"id\":\"p1282\"},{\"type\":\"object\",\"name\":\"ResetTool\",\"id\":\"p1283\"},{\"type\":\"object\",\"name\":\"HelpTool\",\"id\":\"p1284\"},{\"type\":\"object\",\"name\":\"HoverTool\",\"id\":\"p1285\",\"attributes\":{\"renderers\":\"auto\",\"tooltips\":\"@index\"}}]}},\"left\":[{\"type\":\"object\",\"name\":\"LinearAxis\",\"id\":\"p1267\",\"attributes\":{\"ticker\":{\"type\":\"object\",\"name\":\"BasicTicker\",\"id\":\"p1268\",\"attributes\":{\"mantissas\":[1,2,5]}},\"formatter\":{\"type\":\"object\",\"name\":\"BasicTickFormatter\",\"id\":\"p1269\"},\"major_label_policy\":{\"type\":\"object\",\"name\":\"AllLabels\",\"id\":\"p1270\"}}}],\"below\":[{\"type\":\"object\",\"name\":\"LinearAxis\",\"id\":\"p1262\",\"attributes\":{\"ticker\":{\"type\":\"object\",\"name\":\"BasicTicker\",\"id\":\"p1263\",\"attributes\":{\"mantissas\":[1,2,5]}},\"formatter\":{\"type\":\"object\",\"name\":\"BasicTickFormatter\",\"id\":\"p1264\"},\"major_label_policy\":{\"type\":\"object\",\"name\":\"AllLabels\",\"id\":\"p1265\"}}}],\"center\":[{\"type\":\"object\",\"name\":\"Grid\",\"id\":\"p1266\",\"attributes\":{\"axis\":{\"id\":\"p1262\"}}},{\"type\":\"object\",\"name\":\"Grid\",\"id\":\"p1271\",\"attributes\":{\"dimension\":1,\"axis\":{\"id\":\"p1267\"}}},{\"type\":\"object\",\"name\":\"LabelSet\",\"id\":\"p1296\",\"attributes\":{\"level\":\"glyph\",\"source\":{\"id\":\"p1247\"},\"x\":{\"type\":\"field\",\"field\":\"x\"},\"y\":{\"type\":\"field\",\"field\":\"y\"},\"text\":{\"type\":\"field\",\"field\":\"index\"},\"x_offset\":{\"type\":\"value\",\"value\":5},\"y_offset\":{\"type\":\"value\",\"value\":5}}}]}}]}};\n",
       "  const render_items = [{\"docid\":\"143fb5d4-e10b-42c7-a548-342925125180\",\"roots\":{\"p1250\":\"b7df1bf5-2194-4a75-8a15-a295df4a393d\"},\"root_ids\":[\"p1250\"]}];\n",
       "  void root.Bokeh.embed.embed_items_notebook(docs_json, render_items);\n",
       "  }\n",
       "  if (root.Bokeh !== undefined) {\n",
       "    embed_document(root);\n",
       "  } else {\n",
       "    let attempts = 0;\n",
       "    const timer = setInterval(function(root) {\n",
       "      if (root.Bokeh !== undefined) {\n",
       "        clearInterval(timer);\n",
       "        embed_document(root);\n",
       "      } else {\n",
       "        attempts++;\n",
       "        if (attempts > 100) {\n",
       "          clearInterval(timer);\n",
       "          console.log(\"Bokeh: ERROR: Unable to run BokehJS code because BokehJS library is missing\");\n",
       "        }\n",
       "      }\n",
       "    }, 10, root)\n",
       "  }\n",
       "})(window);"
      ],
      "application/vnd.bokehjs_exec.v0+json": ""
     },
     "metadata": {
      "application/vnd.bokehjs_exec.v0+json": {
       "id": "p1250"
      }
     },
     "output_type": "display_data"
    }
   ],
   "source": [
    "# Add our DataFrame as a ColumnDataSource for Bokeh\n",
    "plot_data = ColumnDataSource(words_df)\n",
    "# Create the plot and configure the title, dimensions, and tools\n",
    "tsne_plot = figure(title='t-SNE Word Embeddings')\n",
    "# Add a hover tool to display words on roll-over\n",
    "tsne_plot.add_tools(HoverTool(tooltips='@index'))\n",
    "# Use scatter() instead of circle() - updated syntax\n",
    "tsne_plot.scatter('x', 'y',\n",
    "                  source=plot_data,\n",
    "                  color='blue',\n",
    "                  size=10,\n",
    "                  hover_line_color='black')\n",
    "# Add labels to the points\n",
    "labels = LabelSet(x='x', y='y', text='index', level='glyph',\n",
    "                  x_offset=5, y_offset=5, source=plot_data)\n",
    "tsne_plot.add_layout(labels)\n",
    "# Engage!\n",
    "show(tsne_plot)"
   ]
  },
  {
   "cell_type": "markdown",
   "metadata": {
    "id": "9EF6bB0rVReh"
   },
   "source": [
    "Now let's use $t$-SNE to take **all** the word vectors."
   ]
  },
  {
   "cell_type": "code",
   "execution_count": 77,
   "metadata": {},
   "outputs": [],
   "source": [
    "tsne = TSNE(init='pca', learning_rate='auto')\n",
    "X_tsne = tsne.fit_transform(model.wv.vectors)"
   ]
  },
  {
   "cell_type": "markdown",
   "metadata": {},
   "source": [
    "We have our low dimensional representation. Now, let's store the 2 dimensions in a dataframe, with the word as the index:"
   ]
  },
  {
   "cell_type": "code",
   "execution_count": 78,
   "metadata": {},
   "outputs": [],
   "source": [
    "# Store the t-SNE vectors\n",
    "tsne_df = pd.DataFrame(X_tsne,\n",
    "                       index=pd.Index(model.wv.index_to_key),\n",
    "                       columns=['x', 'y'])"
   ]
  },
  {
   "cell_type": "code",
   "execution_count": 79,
   "metadata": {
    "id": "jd60bqFxe9z1"
   },
   "outputs": [],
   "source": [
    "# Create some filepaths to save our model\n",
    "tsne_path = '../../data/tsne_model'\n",
    "tsne_df_path = '../../data/tsne_df.pkl'"
   ]
  },
  {
   "cell_type": "code",
   "execution_count": 80,
   "metadata": {
    "id": "QBe7lNE3e7oQ"
   },
   "outputs": [],
   "source": [
    "# Save to disk\n",
    "with open(tsne_path, 'wb') as f:\n",
    "    pickle.dump(X_tsne, f)\n",
    "\n",
    "tsne_df.to_pickle(tsne_df_path)"
   ]
  },
  {
   "cell_type": "markdown",
   "metadata": {},
   "source": [
    "Here's a convenient code block to load this data, to start from this point:"
   ]
  },
  {
   "cell_type": "code",
   "execution_count": 81,
   "metadata": {},
   "outputs": [],
   "source": [
    "with open(tsne_path, 'rb') as f:\n",
    "    X_tsne = pickle.load(f)\n",
    "    \n",
    "tsne_df = pd.read_pickle(tsne_df_path)"
   ]
  },
  {
   "cell_type": "code",
   "execution_count": 82,
   "metadata": {
    "colab": {
     "base_uri": "https://localhost:8080/",
     "height": 817
    },
    "executionInfo": {
     "elapsed": 747,
     "status": "ok",
     "timestamp": 1640017607454,
     "user": {
      "displayName": "Tom van Nuenen",
      "photoUrl": "https://lh3.googleusercontent.com/a-/AOh14GhuBmxDvW5I_LJfZtwlPqMFD8QGLVPP3skvpkTnuQ=s64",
      "userId": "10012302451096885058"
     },
     "user_tz": -60
    },
    "id": "myJtActVdjn4",
    "outputId": "5f283a90-c0f4-4c31-88ea-5f7bfa6917ee",
    "tags": []
   },
   "outputs": [
    {
     "name": "stderr",
     "output_type": "stream",
     "text": [
      "BokehDeprecationWarning: 'circle() method with size value' was deprecated in Bokeh 3.4.0 and will be removed, use 'scatter(size=...) instead' instead.\n"
     ]
    },
    {
     "data": {
      "text/html": [
       "\n",
       "  <div id=\"f68ca259-4011-4e53-afb2-20e8a31ce380\" data-root-id=\"p1305\" style=\"display: contents;\"></div>\n"
      ]
     },
     "metadata": {},
     "output_type": "display_data"
    },
    {
     "data": {
      "application/javascript": [
       "(function(root) {\n",
       "  function embed_document(root) {\n",
       "  const docs_json = {\"bde27a70-1ad1-49ff-b48d-bad73b0f14b9\":{\"version\":\"3.6.2\",\"title\":\"Bokeh Application\",\"roots\":[{\"type\":\"object\",\"name\":\"Figure\",\"id\":\"p1305\",\"attributes\":{\"x_range\":{\"type\":\"object\",\"name\":\"DataRange1d\",\"id\":\"p1306\"},\"y_range\":{\"type\":\"object\",\"name\":\"DataRange1d\",\"id\":\"p1307\"},\"x_scale\":{\"type\":\"object\",\"name\":\"LinearScale\",\"id\":\"p1315\"},\"y_scale\":{\"type\":\"object\",\"name\":\"LinearScale\",\"id\":\"p1316\"},\"title\":{\"type\":\"object\",\"name\":\"Title\",\"id\":\"p1308\",\"attributes\":{\"text\":\"t-SNE Word Embeddings\"}},\"renderers\":[{\"type\":\"object\",\"name\":\"GlyphRenderer\",\"id\":\"p1348\",\"attributes\":{\"data_source\":{\"type\":\"object\",\"name\":\"ColumnDataSource\",\"id\":\"p1302\",\"attributes\":{\"selected\":{\"type\":\"object\",\"name\":\"Selection\",\"id\":\"p1303\",\"attributes\":{\"indices\":[],\"line_indices\":[]}},\"selection_policy\":{\"type\":\"object\",\"name\":\"UnionRenderers\",\"id\":\"p1304\"},\"data\":{\"type\":\"map\",\"entries\":[[\"index\",{\"type\":\"ndarray\",\"array\":[\"like\",\"want\",\"think\",\"people\",\"know\",\"asshole\",\"nta\",\"time\",\"op\",\"thing\",\"yta\",\"need\",\"kid\",\"tell\",\"way\",\"feel\",\"good\",\"child\",\"friend\",\"try\",\"right\",\"work\",\"ask\",\"parent\",\"come\",\"sound\",\"year\",\"relationship\",\"mean\",\"life\",\"family\",\"person\",\"woman\",\"use\",\"bad\",\"guy\",\"talk\",\"help\",\"let\",\"look\",\"situation\",\"day\",\"pay\",\"probably\",\"wife\",\">\",\"maybe\",\"fuck\",\"find\",\"leave\",\"man\",\"sure\",\"lot\",\"care\",\"old\",\"shit\",\"money\",\"wrong\",\"post\",\"reason\",\"understand\",\"love\",\"point\",\"girl\",\"agree\",\"actually\",\"mom\",\"issue\",\"happen\",\"long\",\"sex\",\"change\",\"home\",\"live\",\"husband\",\"comment\",\"stop\",\"kind\",\"pretty\",\"yeah\",\"daughter\",\"start\",\"big\",\"problem\",\"little\",\"job\",\"date\",\"baby\",\"place\",\"break\",\"dog\",\"hard\",\"definitely\",\"end\",\"mother\",\"fact\",\"away\",\"sister\",\"expect\",\"different\",\"eat\",\"dad\",\"yes\",\"house\",\"deal\",\"especially\",\"school\",\"nah\",\"act\",\"food\",\"partner\",\"read\",\"girlfriend\",\"matter\",\"instead\",\"support\",\"dude\",\"adult\",\"bring\",\"consider\",\"feeling\",\"bit\",\"month\",\"hurt\",\"stay\",\"new\",\"learn\",\"spend\",\"hope\",\"decide\",\"honestly\",\"sorry\",\"boyfriend\",\"wedding\",\"believe\",\"brother\",\"absolutely\",\"literally\",\"ex\",\"father\",\"week\",\"son\",\"case\",\"real\",\"behavior\",\"plan\",\"clearly\",\"able\",\"choice\",\"buy\",\"hour\",\"idea\",\"respect\",\"allow\",\"choose\",\"completely\",\"lie\",\"important\",\"decision\",\"stuff\",\"cause\",\"assume\",\"esh\",\"okay\",\"treat\",\"exactly\",\"trust\",\"lose\",\"play\",\"upset\",\"turn\",\"hear\",\"mind\",\"grow\",\"fucking\",\"suck\",\"word\",\"nice\",\"control\",\"great\",\"fine\",\"sleep\",\"young\",\"$\",\"likely\",\"experience\",\"edit\",\"body\",\"question\",\"obviously\",\"thank\",\"deserve\",\"opinion\",\"cheat\",\"high\",\"story\",\"share\",\"shitty\",\"far\",\"happy\",\"hate\",\"night\",\"weird\",\"clear\",\"realize\",\"car\",\"age\",\"seriously\",\"room\",\"rule\",\"mention\",\"etc\",\"force\",\"totally\",\"party\",\"handle\",\"gf\",\"free\",\"ass\",\"accept\",\"wait\",\"normal\",\"explain\",\"ok\",\"marry\",\"set\",\"speak\",\"close\",\"hand\",\"sit\",\"cut\",\"conversation\",\"easy\",\"joke\",\"future\",\"action\",\"watch\",\"gift\",\"responsibility\",\"hell\",\"couple\",\"wear\",\"guess\",\"world\",\"oh\",\"s\",\"fair\",\"walk\",\"imagine\",\"pregnant\",\"run\",\"rude\",\"excuse\",\"line\",\"second\",\"raise\",\"stand\",\"lol\",\"dick\",\"throw\",\"business\",\"uncomfortable\",\"chance\",\"offer\",\"face\",\"meet\",\"huge\",\"pick\",\"base\",\"marriage\",\"state\",\"course\",\"answer\",\"possible\",\"fault\",\"response\",\"head\",\"abuse\",\"basically\",\"open\",\"sense\",\"small\",\"step\",\"clean\",\"super\",\"fun\",\"hold\",\"drive\",\"cat\",\"send\",\"law\",\"healthy\",\"die\",\"enjoy\",\"wish\",\"personal\",\"teach\",\"phone\",\"refuse\",\"continue\",\"willing\",\"single\",\"term\",\"stupid\",\"later\",\"reasonable\",\"true\",\"blame\",\"straight\",\"check\",\"sort\",\"type\",\"boundary\",\"hair\",\"ignore\",\"human\",\"order\",\"worth\",\"group\",\"suggest\",\"past\",\"include\",\"honest\",\"apologize\",\"add\",\"involve\",\"option\",\"poor\",\"usually\",\"mad\",\"college\",\"trip\",\"info\",\"invite\",\"concern\",\"reaction\",\"save\",\"remember\",\"selfish\",\"pregnancy\",\"sub\",\"level\",\"view\",\"difference\",\"figure\",\"minute\",\"entitle\",\"half\",\"damn\",\"gay\",\"game\",\"write\",\"suppose\",\"entire\",\"sexual\",\"birthday\",\"comfortable\",\"advice\",\"miss\",\"drink\",\"boy\",\"listen\",\"cook\",\"divorce\",\"push\",\"kick\",\"cool\",\"seat\",\"risk\",\"safe\",\"rest\",\"ruin\",\"thought\",\"personally\",\"common\",\"pass\",\"class\",\"emotional\",\"bed\",\"bother\",\"follow\",\"bf\",\"regardless\",\"cost\",\"event\",\"anymore\",\"wonder\",\"extremely\",\"fight\",\"early\",\"hang\",\"tip\",\"stick\",\"public\",\"owe\",\"actual\",\"god\",\"moment\",\"ago\",\"sign\",\"abusive\",\"argument\",\"black\",\"dinner\",\"pull\",\"attention\",\"discuss\",\"simply\",\"hit\",\"mistake\",\"contact\",\"ta\",\"picture\",\"space\",\"steal\",\"value\",\"weight\",\"kinda\",\"white\",\"judge\",\"responsible\",\"extra\",\"avoid\",\"angry\",\"touch\",\"therapy\",\"self\",\"kill\",\"terrible\",\"crazy\",\"provide\",\"similar\",\"effort\",\"soon\",\"teacher\",\"worry\",\"reddit\",\"meal\",\"pain\",\"difficult\",\"roommate\",\"forget\",\"incredibly\",\"doctor\",\"health\",\"outside\",\"non\",\"claim\",\"position\",\"thread\",\"lead\",\"animal\",\"example\",\"drop\",\"ready\",\"gender\",\"certain\",\"service\",\"disagree\",\"consequence\",\"late\",\"ridiculous\",\"stranger\",\"racist\",\"legal\",\"cry\",\"female\",\"plus\",\"hide\",\"luck\",\"doubt\",\"hey\",\"bullshit\",\"rent\",\"judgement\",\"fix\",\"mess\",\"lack\",\"affect\",\"depend\",\"require\",\"information\",\"birth\",\"notice\",\"perfectly\",\"student\",\"bitch\",\"petty\",\"afford\",\"react\",\"justify\",\"argue\",\"demand\",\"certainly\",\"report\",\"eye\",\"bear\",\"compromise\",\"rape\",\"private\",\"correct\",\"period\",\"male\",\"sick\",\"laugh\",\"imo\",\"immediately\",\"number\",\"awful\",\"respond\",\"special\",\"married\",\"complain\",\"admit\",\"account\",\"movie\",\"communicate\",\"funny\",\"door\",\"country\",\"consent\",\"sibling\",\"low\",\"social\",\"short\",\"bill\",\"friendship\",\"major\",\"cover\",\"perspective\",\"possibly\",\"insult\",\"text\",\"appreciate\",\"easily\",\"interest\",\"interested\",\"member\",\"struggle\",\"restaurant\",\"damage\",\"protect\",\"pet\",\"horrible\",\"sad\",\"truth\",\"physical\",\"company\",\"professional\",\"message\",\"history\",\"fire\",\"behaviour\",\"book\",\"vegan\",\"attitude\",\"aware\",\"piece\",\"property\",\"meat\",\"obvious\",\"create\",\"general\",\"win\",\"truly\",\"medical\",\"shame\",\"bathroom\",\"culture\",\"discussion\",\"blow\",\"expensive\",\"wow\",\"fit\",\"present\",\"multiple\",\"request\",\"describe\",\"catch\",\"test\",\"opportunity\",\"gross\",\"dumb\",\"victim\",\"appropriate\",\"specifically\",\"bet\",\"middle\",\"fat\",\"drunk\",\"police\",\"plenty\",\"stress\",\"emotionally\",\"exist\",\"area\",\"dump\",\"waste\",\"simple\",\"reply\",\"abortion\",\"intention\",\"financial\",\"carry\",\"strong\",\"process\",\"entirely\",\"heart\",\"specific\",\"feed\",\"surprised\",\"fake\",\"immature\",\"fail\",\"guest\",\"trouble\",\"fall\",\"large\",\"express\",\"apparently\",\"context\",\"dress\",\"creepy\",\"pressure\",\"valid\",\"fully\",\"generally\",\"boss\",\"visit\",\"internet\",\"language\",\"ground\",\"approach\",\"scenario\",\"teenager\",\"result\",\"sell\",\"obligation\",\"advantage\",\"defend\",\"hopefully\",\"piss\",\"glad\",\"condom\",\"wtf\",\"employee\",\"vacation\",\"bully\",\"therapist\",\"cousin\",\"attract\",\"religion\",\"lady\",\"dead\",\"attempt\",\"scream\",\"tough\",\"yell\",\"weekend\",\"note\",\"split\",\"charge\",\"table\",\"complete\",\"form\",\"shower\",\"trans\",\"expectation\",\"remove\",\"suffer\",\"physically\",\"detail\",\"constantly\",\"death\",\"harm\",\"unreasonable\",\"prove\",\"benefit\",\"belief\",\"threaten\",\"wake\",\"effect\",\"worried\",\"manipulative\",\"owner\",\"coworker\",\"eventually\",\"pretend\",\"toxic\",\"insecure\",\"address\",\"perfect\",\"communication\",\"reality\",\"solution\",\"list\",\"r\",\"dish\",\"punish\",\"focus\",\"spouse\",\"manager\",\"red_flag\",\"genuinely\",\"career\",\"light\",\"card\",\"court\",\"safety\",\"attack\",\"spot\",\"fear\",\"shp\",\"store\",\"build\",\"mature\",\"adopt\",\"behave\",\"dangerous\",\"preference\",\"reach\",\"separate\",\"system\",\"shut\",\"regard\",\"sake\",\"return\",\"necessarily\",\"random\",\"clothe\",\"despite\",\"manage\",\"fast\",\"somebody\",\"water\",\"finally\",\"jerk\",\"encourage\",\"imply\",\"team\",\"offend\",\"favor\",\"lesson\",\"exact\",\"ring\",\"understandable\",\"seek\",\"idiot\",\"porn\",\"foot\",\"smell\",\"photo\",\"emotion\",\"total\",\"diet\",\"near\",\"current\",\"attend\",\"power\",\"apartment\",\"circumstance\",\"holy\",\"remind\",\"depression\",\"tattoo\",\"basic\",\"grade\",\"disrespectful\",\"standard\",\"mental_health\",\"bar\",\"promise\",\"tbh\",\"surprise\",\"apply\",\"inappropriate\",\"condition\",\"loss\",\"potential\",\"directly\",\"contribute\",\"apology\",\"annoy\",\"pissed\",\"cheap\",\"study\",\"degree\",\"agreement\",\"prefer\",\"bunch\",\"zero\",\"destroy\",\"anger\",\"drug\",\"differently\",\"annoying\",\"community\",\"begin\",\"potentially\",\"ahead\",\"decent\",\"anxiety\",\"massive\",\"acceptable\",\"legally\",\"receive\",\"suddenly\",\"lawyer\",\"unfair\",\"limit\",\"train\",\"forward\",\"religious\",\"understanding\",\"earn\",\"compare\",\"mental\",\"jump\",\"customer\",\"smart\",\"toy\",\"negative\",\"quit\",\"idk\",\"hot\",\"mum\",\"office\",\"concerned\",\"loud\",\"insist\",\"assumption\",\"serve\",\"unfortunately\",\"aside\",\"topic\",\"equal\",\"ability\",\"permission\",\"count\",\"size\",\"manipulate\",\"deep\",\"blood\",\"amazing\",\"+\",\"secret\",\"neighbor\",\"ton\",\"gym\",\"schedule\",\"essentially\",\"punishment\",\"jesus\",\"debt\",\"aita\",\"sexist\",\"tend\",\"disgusting\",\"insecurity\",\"society\",\"impact\",\"ride\",\"awkward\",\"desire\",\"afraid\",\"wanna\",\"ticket\",\"bc\",\"travel\",\"jealous\",\"lock\",\"price\",\"prevent\",\"attractive\",\"activity\",\"insane\",\"shoe\",\"teen\",\"gun\",\"relate\",\"online\",\"original\",\"positive\",\"brain\",\"block\",\"drama\",\"twice\",\"today\",\"purpose\",\"forever\",\"chore\",\"actively\",\"financially\",\"disability\",\"switch\",\"cheating\",\"judgment\",\"troll\",\"income\",\"cop\",\"skill\",\"guarantee\",\"freak\",\"trash\",\"necessary\",\"lay\",\"recommend\",\"frankly\",\"hospital\",\"validation\",\"obligate\",\"inside\",\"quick\",\"illegal\",\"wash\",\"aunt\",\"polite\",\"birth_control\",\"item\",\"minor\",\"role\",\"park\",\"grandparent\",\"lmao\",\"childish\",\"guilty\",\"prepare\",\"beat\",\"nta-\",\"education\",\"screw\",\"comfort\",\"disorder\",\"statement\",\"celebrate\",\"odd\",\"key\",\"hole\",\"extreme\",\"access\",\"develop\",\"recognize\",\"lucky\",\"road\",\"practice\",\"hire\",\"priority\",\"acknowledge\",\"smoke\",\"supportive\",\"tired\",\"race\",\"downvote\",\"kiss\",\"tv\",\"lunch\",\"i'm\",\"sexuality\",\"living\",\"ultimately\",\"dream\",\"sensitive\",\"title\",\"logic\",\"finish\",\"harsh\",\"refer\",\"hormone\",\"bag\",\"cruel\",\"custody\",\"grab\",\"engage\",\"double\",\"morning\",\"guilt\",\"convince\",\"privacy\",\"intend\",\"parenting\",\"reject\",\"cancer\",\"calm\",\"household\",\"fiance\",\"record\",\"memory\",\"accident\",\"subject\",\"source\",\"bro\",\"environment\",\"moral\",\"video\",\"properly\",\"grown\",\"significant\",\"particular\",\"assault\",\"holiday\",\"b\",\"character\",\"deny\",\"disrespect\",\"quickly\",\"project\",\"capable\",\"welcome\",\"lazy\",\"host\",\"trauma\",\"church\",\"emergency\",\"cash\",\"vote\",\"regular\",\"treatment\",\"grandma\",\"badly\",\"replace\",\"mil\",\"regret\",\"mouth\",\"empathy\",\"abandon\",\"individual\",\"overreact\",\"sweet\",\"barely\",\"forgive\",\"manner\",\"evidence\",\"expense\",\"opposite\",\"biological\",\"explanation\",\"kitchen\",\"hobby\",\"currently\",\"u\",\"gain\",\"confront\",\"join\",\"phrase\",\"x\",\"resent\",\"egg\",\"yep\",\"absolute\",\"=\",\"awesome\",\"draw\",\"crap\",\"normally\",\"intentionally\",\"finance\",\"average\",\"romantic\",\"street\",\"proper\",\"english\",\"cold\",\"possibility\",\"research\",\"quality\",\"proud\",\"accuse\",\"tie\",\"solve\",\"recently\",\"toddler\",\"shitpost\",\"dance\",\"christmas\",\"available\",\"alcohol\",\"sentence\",\"nope\",\"tear\",\"bus\",\"you're\",\"cooking\",\"buddy\",\"knock\",\"cross\",\"vegetarian\",\"sacrifice\",\"knowledge\",\"cake\",\"btw\",\"penis\",\"bi\",\"natural\",\"delete\",\"local\",\"hook\",\"habit\",\"unhealthy\",\"embarrassed\",\"city\",\"burden\",\"realise\",\"policy\",\"respectful\",\"busy\",\"careful\",\"noise\",\"painful\",\"taste\",\"technically\",\"disabled\",\"maintain\",\"server\",\"creep\",\"suspect\",\"ban\",\"silly\",\"particularly\",\"quiet\",\"commit\",\"fairly\",\"bedroom\",\"strange\",\"friendly\",\"confirm\",\"inform\",\"inconsiderate\",\"equally\",\"main\",\"factor\",\"voice\",\"town\",\"dollar\",\"helpful\",\"ultimatum\",\"loan\",\"slightly\",\"curious\",\"cancel\",\"personality\",\"and/or\",\"favorite\",\"exclude\",\"color\",\"haha\",\"childhood\",\"anyways\",\"interaction\",\"ball\",\"threat\",\"murder\",\"escalate\",\"resentment\",\"previous\",\"innocent\",\"american\",\"reasoning\",\"fly\",\"ghost\",\"everybody\",\"rate\",\"lifestyle\",\"counseling\",\"identity\",\"autistic\",\"scare\",\"shift\",\"scene\",\"news\",\"ignorant\",\"danger\",\"thinking\",\"crime\",\"confused\",\"bride\",\"distance\",\"compliment\",\"hurtful\",\"fianc\\u00e9\",\"direct\",\"fill\",\"pizza\",\"mate\",\"donate\",\"nearly\",\"grief\",\"goal\",\"bite\",\"labor\",\"music\",\"subreddit\",\"floor\",\"d\",\"uncle\",\"insurance\",\"shot\",\"conflict\",\"relative\",\"match\",\"aggressive\",\"bond\",\"burn\",\"style\",\"coffee\",\"upvote\",\"poorly\",\"improve\",\"entitled\",\"fund\",\"majority\",\"shirt\",\"social_medium\",\"dislike\",\"military\",\"patient\",\"pill\",\"staff\",\"cute\",\"funeral\",\"arrangement\",\"advance\",\"box\",\"identify\",\"relevant\",\"proof\",\"email\",\"driver\",\"function\",\"credit\",\"window\",\"hotel\",\"lean\",\"board\",\"dynamic\",\"yta-\",\"better\",\"surgery\",\"yea\",\"rid\",\"ah\",\"update\",\"severe\",\"naked\",\"niece\",\"grieve\",\"homophobic\",\"flight\",\"belong\",\"folk\",\"shop\",\"remain\",\"skin\",\"offensive\",\"prank\",\"lease\",\"couch\",\"enter\",\"interact\",\"flip\",\"passive_aggressive\",\"link\",\"definition\",\"autism\",\"accord\",\"commitment\",\"interesting\",\"crush\",\"violate\",\"warn\",\"facebook\",\"repeat\",\"regularly\",\"impossible\",\"explicitly\",\"field\",\"prior\",\"expose\",\"warning\",\"allergy\",\"beautiful\",\"payment\",\"aspect\",\"nasty\",\"worker\",\"resource\",\"grandmother\",\"million\",\"apologise\",\"leg\",\"letter\",\"harass\",\"peace\",\"path\",\"beginning\",\"arm\",\"shock\",\"decade\",\"miserable\",\"repeatedly\",\"university\",\"accommodate\",\"appear\",\"connection\",\"mentally\",\"tiny\",\"dark\",\"debate\",\"adoption\",\"delivery\",\"dare\",\"participate\",\"authority\",\"chat\",\"homeless\",\"revenge\",\"drag\",\"sport\",\"track\",\"deeply\",\"violence\",\"suggestion\",\"irrelevant\",\"instance\",\"earth\",\"sexually\",\"blind\",\"pursue\",\"legitimate\",\"wall\",\"budget\",\"image\",\"twin\",\"trigger\",\"enable\",\"racism\",\"flat\",\"cheater\",\"rough\",\"establish\",\"unnecessary\",\"newborn\",\"purchase\",\"cunt\",\"shoot\",\"ya\",\"tone\",\"ugly\",\"automatically\",\"dictate\",\"clarify\",\"tho\",\"alternative\",\"highly\",\"red\",\"politely\",\"art\",\"presumably\",\"anybody\",\"strongly\",\"paint\",\"scared\",\"stressful\",\"incident\",\"defensive\",\"concept\",\"roll\",\"energy\",\"meeting\",\"contract\",\"scary\",\"pack\",\"happiness\",\"punch\",\"bs\",\"paper\",\"unable\",\"neglect\",\"associate\",\"google\",\"apart\",\"mood\",\"irresponsible\",\"consideration\",\"chill\",\"disease\",\"slight\",\"faith\",\"appearance\",\"garbage\",\"excited\",\"yup\",\"page\",\"abuser\",\"occur\",\"foster\",\"teenage\",\"club\",\"daily\",\"pant\",\"genuine\",\"computer\",\"pee\",\"grateful\",\"dirty\",\"justified\",\"/r\",\"propose\",\"medication\",\"app\",\"hug\",\"program\",\"commenter\",\"grandchild\",\"frustration\",\"sue\",\"vagina\",\"duty\",\"skip\",\"mental_illness\",\"plate\",\"overall\",\"trick\",\"somewhat\",\"breast\",\"ensure\",\"indicate\",\"suit\",\"product\",\"intimate\",\"ill\",\"rich\",\"nature\",\"inconvenience\",\"insensitive\",\"depressed\",\"invest\",\"version\",\"nurse\",\"med\",\"heavy\",\"sympathy\",\"accidentally\",\"bio\",\"flirt\",\"stage\",\"typically\",\"grant\",\"video_game\",\"task\",\"material\",\"snap\",\"deliberately\",\"mutual\",\"load\",\"rare\",\"spread\",\"pop\",\"violent\",\"giant\",\"vs\",\"mile\",\"lesbian\",\"decline\",\"hint\",\"rely\",\"false\",\"texte\",\"tinder\",\"asap\",\"weed\",\"makeup\",\"got\",\"training\",\"ashamed\",\"jesus_christ\",\"sil\",\"overweight\",\"nephew\",\"rub\",\"exercise\",\"method\",\"file\",\"speech\",\"surely\",\"finger\",\"wonderful\",\"fantasy\",\"hr\",\"ytayou\",\"bisexual\",\"determine\",\"pre\",\"cps\",\"disregard\",\"impression\",\"ops\",\"hilarious\",\"relax\",\"attraction\",\"intent\",\"boob\",\"wise\",\"pro\",\"spoil\",\"blue\",\"honor\",\"milk\",\"graduate\",\"laundry\",\"honesty\",\"successful\",\"air\",\"embarrass\",\"beg\",\"af\",\"effective\",\"tradition\",\"bridesmaid\",\"till\",\"bias\",\"frame\",\"increase\",\"dismiss\",\"target\",\"transphobic\",\"trap\",\"object\",\"security\",\"parking\",\"enforce\",\"discipline\",\"final\",\"omg\",\"shoulder\",\"territory\",\"slow\",\"theirs\",\"affair\",\"rock\",\"rational\",\"grocery\",\"addiction\",\"bottle\",\"outcome\",\"educate\",\"christian\",\"unacceptable\",\"nude\",\"spite\",\"toilet\",\"rip\",\"fish\",\"management\",\"snack\",\"diaper\",\"symptom\",\"complaint\",\"resolve\",\"challenge\",\"rarely\",\"reveal\",\"offense\",\"privilege\",\"recover\",\"butt\",\"tran\",\"bank\",\"slip\",\"survive\",\"alive\",\"snoop\",\"nose\",\"confidence\",\"breastfeed\",\"quote\",\"casual\",\"shelter\",\"ditch\",\"influence\",\"evening\",\"hungry\",\"sexual_assault\",\"co_worker\",\"reflect\",\"don't\",\"settle\",\"vulnerable\",\"pride\",\"unhappy\",\"shave\",\"reference\",\"openly\",\"america\",\"breakup\",\"summer\",\"candy\",\"routine\",\"puppy\",\"poster\",\"bang\",\"waitress\",\"publicly\",\"thousand\",\"smile\",\"suspicious\",\"firm\",\"sober\",\"traumatic\",\"pound\",\"gesture\",\"fan\",\"mix\",\"betray\",\"tolerate\",\"douche\",\"rapist\",\"constant\",\"asian\",\"considerate\",\"uber\",\"illness\",\"political\",\"label\",\"clothing\",\"mindset\",\"tool\",\"extent\",\"tall\",\"equivalent\",\"chinese\",\"pic\",\"prepared\",\"ideal\",\"design\",\"failure\",\"exchange\",\"dramatic\",\"naive\",\"dry\",\"client\",\"mod\",\"introduce\",\"unlikely\",\"reward\",\"description\",\"/s\",\"freedom\",\"solid\",\"eh\",\"wrap\",\"ice_cream\",\"landlord\",\"frequently\",\"stare\",\"masturbate\",\"rage\",\"anti\",\"swear\",\"gold\",\"prioritize\",\"vet\",\"parental\",\"civil\",\"stereotype\",\"hero\",\"legit\",\"discomfort\",\"setting\",\"infant\",\"mark\",\"y\",\"connect\",\"professor\",\"saving\",\"neighborhood\",\"chicken\",\"generous\",\"diagnose\",\"portion\",\"fee\",\"consult\",\"evil\",\"chick\",\"employer\",\"pronoun\",\"display\",\"whatsoever\",\"shallow\",\"counselor\",\"compatible\",\"skinny\",\"comparison\",\"protection\",\"hardly\",\"genetic\",\"babysitter\",\"outright\",\"john\",\"ntayou\",\"lash\",\"thin\",\"correctly\",\"criminal\",\"dig\",\"cleaning\",\"fancy\",\"model\",\"define\",\"jail\",\"solely\",\"status\",\"brand\",\"proceed\",\"perceive\",\"perform\",\"cultural\",\"adjust\",\"generation\",\"frustrating\",\"longer\",\"addict\",\"prick\",\"previously\",\"grandfather\",\"literal\",\"plane\",\"controlling\",\"ywbta\",\"dealbreaker\",\"deal_breaker\",\"typical\",\"immediate\",\"complex\",\"building\",\"absurd\",\"shove\",\"drinking\",\"shape\",\"occasionally\",\"compassion\",\"height\",\"direction\",\"workplace\",\"adhd\",\"cope\",\"morally\",\"interview\",\"french\",\"search\",\"abort\",\"upfront\",\"nanny\",\"volunteer\",\"location\",\"planning\",\"humiliate\",\"input\",\"lift\",\"embarrassing\",\"vibe\",\"background\",\"content\",\"pattern\",\"initial\",\"clue\",\"active\",\"unfortunate\",\"sexy\",\"minimum\",\"film\",\"warrant\",\"atheist\",\"ugh\",\"deliver\",\"everyday\",\"allergic\",\"self_esteem\",\"popular\",\"pleasure\",\"arsehole\",\"land\",\"goddamn\",\"ego\",\"cheese\",\"manipulation\",\"pathetic\",\"range\",\"weigh\",\"additional\",\"independent\",\"karma\",\"nonsense\",\"battle\",\"buck\",\"miscarriage\",\"pocket\",\"valuable\",\"requirement\",\"song\",\"lifetime\",\"approve\",\"brush\",\"leash\",\"round\",\"weak\",\"advise\",\"affection\",\"monster\",\"maturity\",\"kindness\",\"player\",\"hypocrite\",\"discover\",\"naturally\",\"nightmare\",\"basis\",\"conclusion\",\"confuse\",\"ntai\",\"meaning\",\"daddy\",\"stretch\",\"balance\",\"mommy\",\"bra\",\"double_standard\",\"charity\",\"inherently\",\"beer\",\"groom\",\"profile\",\"appointment\",\"center\",\"waiter\",\"accurate\",\"heal\",\"attach\",\"wild\",\"malicious\",\"diamond\",\"oppose\",\"behalf\",\"artist\",\"exception\",\"logical\",\"oral\",\"bitter\",\"stance\",\"yo\",\"encounter\",\"honey\",\"useless\",\"overly\",\"permanent\",\"uniform\",\"suicide\",\"disgust\",\"borderline\",\"glass\",\"mentality\",\"crappy\",\"sink\",\"brat\",\"chip\",\"pair\",\"uh\",\"bail\",\"defense\",\"assholish\",\"heavily\",\"addition\",\"witness\",\"feedback\",\"headphone\",\"obnoxious\",\"calmly\",\"laptop\",\"paragraph\",\"entitlement\",\"confident\",\"credit_card\",\"slap\",\"incel\",\"ignorance\",\"harmful\",\"disclose\",\"mock\",\"measure\",\"50/50\",\"justification\",\"legitimately\",\"hormonal\",\"childcare\",\"wage\",\"advocate\",\"alright\",\"route\",\"reduce\",\"invitation\",\"motivation\",\"involved\",\"narcissistic\",\"gas\",\"loose\",\"peer\",\"article\",\"daycare\",\"relatively\",\"strict\",\"traditional\",\"\\ud83d\\ude02\",\"initially\",\"war\",\"unwanted\",\"diagnosis\",\"gut\",\"jealousy\",\"housework\",\"scale\",\"fellow\",\"hypothetical\",\"joint\",\"hypocritical\",\"ear\",\"effectively\",\"x200b\",\"tax\",\"vent\",\"sandwich\",\"spare\",\"originally\",\"tight\",\"salary\",\"irrational\",\"injury\",\"complicated\",\"strike\",\"user\",\"engagement\",\"sudden\",\"agency\",\"competition\",\"favour\",\"ffs\",\"primary\",\"flag\",\"purely\",\"breed\",\"occasion\",\"uk\",\"tenant\",\"sadly\",\"fool\",\"pump\",\"trump\",\"reconsider\",\"root\",\"muslim\",\"whore\",\"warm\",\"std\",\"disappoint\",\"moron\",\"feminist\",\"proposal\",\"tree\",\"explore\",\"reasonably\",\"validate\",\"k\",\"unique\",\"paternity_test\",\"instagram\",\"inch\",\"shopping\",\"transition\",\"shake\",\"score\",\"industry\",\"smoking\",\"machine\",\"classic\",\"y'\",\"arrive\",\"remotely\",\"spectrum\",\"stomach\",\"useful\",\"borrow\",\"jack\",\"lecture\",\"bone\",\"cross_line\",\"lgbt\",\"nicely\",\"government\",\"review\",\"nut\",\"cookie\",\"verbal\",\"screen\",\"cashier\",\"gaslighte\",\"document\",\"episode\",\"a.m.\",\"copy\",\"reverse\",\"harassment\",\"dodge_bullet\",\"package\",\"ceremony\",\"site\",\"fence\",\"vaccine\",\"sneak\",\"fresh\",\"success\",\"bigot\",\"narcissist\",\"alcoholic\",\"liar\",\"vasectomy\",\"cup\",\"orgasm\",\"heck\",\"trade\",\"chair\",\"i.e.\",\"minority\",\"username\",\"min\",\"pool\",\"unwilling\",\"significantly\",\"whilst\",\"tomorrow\",\"nap\",\"code\",\"loser\",\"kink\",\"bleed\",\"repair\",\"genital\",\"scar\",\"condescending\",\"yard\",\"dependent\",\"brag\",\"hygiene\",\"resort\",\"pure\",\"recent\",\"underwear\",\"decency\",\"f\",\"disappointed\",\"whine\",\"arrest\",\"discount\",\"bil\",\"frustrate\",\"intimacy\",\"demonstrate\",\"consume\",\"committed\",\"cycle\",\"breakfast\",\"reputation\",\"spring\",\"rush\",\"length\",\"attorney\",\"theft\",\"interpret\",\"cuz\",\"achieve\",\"prize\",\"criticize\",\"stone\",\"verbally\",\"corner\",\"formal\",\"closet\",\"plain\",\"norm\",\"self_center\",\"cuddle\",\"christ\",\"unprofessional\",\"chef\",\"distract\",\"virgin\",\"string\",\"lord\",\"dunno\",\"presence\",\"frustrated\",\"dumbass\",\"sexism\",\"co\",\"wallet\",\"accomplish\",\"poop\",\"circle\",\"huge_red_flag\",\"fuckin\",\"gently\",\"ish\",\"worthy\",\"lovely\",\"tooth\",\"c\",\"development\",\"desperate\",\"slowly\",\"importantly\",\"undermine\",\"entertain\",\"exhaust\",\"stable\",\"limited\",\"grandpa\",\"insulting\",\"hi\",\"harmless\",\"science\",\"session\",\"sale\",\"joy\",\"classmate\",\"shout\",\"sugar\",\"grandkid\",\"misunderstanding\",\"knowingly\",\"license\",\"severely\",\"extend\",\"housing\",\"announce\",\"crash\",\"ungrateful\",\"unsafe\",\"blatantly\",\"congrat\",\"surround\",\"injure\",\"purposely\",\"procedure\",\"heat\",\"disturb\",\"phase\",\"population\",\"weapon\",\"press\",\"grand\",\"nerve\",\"boot\",\"i\\u2019m\",\"syndrome\",\"broken\",\"cringe\",\"homework\",\"evaluate\",\"thoughtful\",\"reception\",\"section\",\"seemingly\",\"sincerely\",\"til\",\"cater\",\"alex\",\"vaccinate\",\"arrange\",\"secure\",\"medicine\",\"privately\",\"strain\",\"implication\",\"surrogate\",\"pity\",\"ed\",\"recipe\",\"sentiment\",\"spell\",\"ntayour\",\"trashy\",\"panic\",\"magically\",\"24/7\",\"reminder\",\"catholic\",\"counter\",\"escape\",\"organ\",\"progress\",\"bizarre\",\"shocked\",\"berate\",\"rejection\",\"instinct\",\"pot\",\"wording\",\"exam\",\"password\",\"dismissive\",\"ownership\",\"belittle\",\"tag\",\"yesterday\",\"beach\",\"nail\",\"celebration\",\"oil\",\"terrify\",\"planet\",\"goodbye\",\"concert\",\"crack\",\"excellent\",\"audience\",\"vehicle\",\"mid\",\"babysit\",\"shared\",\"complication\",\"cis\",\"camera\",\"psychological\",\"ptsd\",\"principle\",\"compete\",\"bug\",\"secretly\",\"confrontation\",\"sperm\",\"uncommon\",\"wig\",\"writing\",\"south\",\"alter\",\"obsess\",\"math\",\"colleague\",\"plant\",\"productive\",\"toss\",\"reinforce\",\"supply\",\"flower\",\"yike\",\"shady\",\"department\",\"americans\",\"produce\",\"wet\",\"best\",\"band\",\"homophobia\",\"withhold\",\"tactic\",\"ethic\",\"delusional\",\"awhile\",\"incapable\",\"minimum_wage\",\"menu\",\"anytime\",\"socially\",\"stripper\",\"fiancee\",\"realistic\",\"thanks\",\"rob\",\"guilt_trip\",\"default\",\"i'd\",\"qualified\",\"familiar\",\"blanket\",\"vibrator\",\"related\",\"expert\",\"obese\",\"formula\",\"criticism\",\"congratulation\",\"neighbour\",\"camp\",\"medical_condition\",\"rat\",\"excessive\",\"permanently\",\"rant\",\"theory\",\"benefit_doubt\",\"grain\",\"def\",\"politic\",\"lock_door\",\"existence\",\"investment\",\"cent\",\"assure\",\"extended\",\"conservative\",\"stem\",\"combine\",\"retirement\",\"slave\",\"airline\",\"puberty\",\"convenient\",\"unusual\",\"prison\",\"roof\",\"maid\",\"lane\",\"tact\",\"crowd\",\"kidney\",\"nervous\",\"fyi\",\"bike\",\"traumatize\",\"empathize\",\"fridge\",\"happily\",\"instantly\",\"patience\",\"indian\",\"hat\",\"error\",\"psycho\",\"superior\",\"lonely\",\"boil\",\"bud\",\"market\",\"randomly\",\"edge\",\"button\",\"intense\",\"trait\",\"betrayal\",\"assignment\",\"left\",\"stepdaughter\",\"respectfully\",\"slut\",\"indication\",\"silence\",\"tantrum\",\"wipe\",\"annoyed\",\"loving\",\"hostile\",\"rightfully\",\"pile\",\"accusation\",\"wind\",\"practically\",\"profit\",\"resentful\",\"scam\",\"insert\",\"violation\",\"bonus\",\"sight\",\"slide\",\"mainly\",\"horribly\",\"recovery\",\"starve\",\"blunt\",\"oblivious\",\"praise\",\"messy\",\"invalidate\",\"anniversary\",\"scout\",\"award\",\"sexually_assault\",\"traffic\",\"difficulty\",\"represent\",\"objectively\",\"possession\",\"tonight\",\"y\\u2019\",\"gentle\",\"loudly\",\"mild\",\"pitch\",\"interrupt\",\"haircut\",\"specify\",\"stepmom\",\"sheet\",\"coach\",\"overnight\",\"anxious\",\"release\",\"etiquette\",\"collect\",\"fianc\\u00e9e\",\"disagreement\",\"secondly\",\"nazi\",\"pos\",\"percent\",\"courtesy\",\"slur\",\"bait\",\"overcome\",\"wreck\",\"meaningful\",\"dozen\",\"discrimination\",\"willingly\",\"sole\",\"supposedly\",\"fetish\",\"nuclear\",\"scratch\",\"drain\",\"friday\",\"consistently\",\"sauce\",\"bowl\",\"disney\",\"master\",\"overreaction\",\"stink\",\"reserve\",\"thick\",\"click\",\"m\",\"bullying\",\"gtfo\",\"sum\",\"ingredient\",\"equate\",\"jewish\",\"prom\",\"fil\",\"sabotage\",\"tit\",\"dense\",\"casually\",\"bind\",\"unit\",\"ntaif\",\"qualify\",\"storm\",\"insight\",\"aka\",\"paranoid\",\"quietly\",\"soft\",\"judgmental\",\"movement\",\"incredible\",\"importance\",\"signal\",\"biased\",\"chocolate\",\"speed\",\"neutral\",\"denial\",\"clueless\",\"stalk\",\"strip_club\",\"assign\",\"analogy\",\"pedophile\",\"usual\",\"purposefully\",\"vomit\",\"minimize\",\"baggage\",\"donation\",\"performance\",\"sunday\",\"medium\",\"horse\",\"\\u00a3\",\"justice\",\"contribution\",\"delay\",\"huh\",\"chain\",\"insanely\",\"anal\",\"calorie\",\"bright\",\"impose\",\"forth\",\"website\",\"confusing\",\"teaching\",\"furthermore\",\"row\",\"massively\",\"caretaker\",\"childbirth\",\"disappointment\",\"urge\",\"fantastic\",\"torture\",\"conscious\",\"sis\",\"r_amitheasshole\",\"remark\",\"3rd\",\"assistance\",\"additionally\",\"saint\",\"20\",\"restrict\",\"tease\",\"misunderstand\",\"eta\",\"dna\",\"slack\",\"organization\",\"chunk\",\"unrelated\",\"t\",\"thankfully\",\"ytai\",\"assholery\",\"grasp\",\"lend\",\"means\",\"firmly\",\"speaker\",\"ease\",\"partnership\",\"tuition\",\"initiate\",\"w\",\"utterly\",\"self_conscious\",\"adulthood\",\"pasta\",\"monogamous\",\"dishonest\",\"rise\",\"percentage\",\"grocery_store\",\"inheritance\",\"pussy\",\"strength\",\"throw_tantrum\",\"asset\",\"suspicion\",\"unattractive\",\"interfere\",\"terribly\",\"chest\",\"alarm\",\"chase\",\"unaware\",\"throat\",\"brown\",\"douchebag\",\"flaw\",\"angle\",\"/u\",\"soul\",\"safely\",\"pray\",\"lasagna\",\"bird\",\"guide\",\"critical\",\"endanger\",\"twist\",\"predator\",\"ntait\",\"incorrect\",\"unlike\",\"library\",\"transfer\",\"wide\",\"semester\",\"repercussion\",\"freeze\",\"capacity\",\"seven\",\"vacuum\",\"exhausting\",\"underage\",\"principal\",\"burger\",\"register\",\"sketchy\",\"poison\",\"temporary\",\"blast\",\"spending\",\"taxis\",\"practical\",\"feature\",\"obligated\",\"worse\",\"sahm\",\"rescue\",\"academic\",\"scholarship\",\"device\",\"mail\",\"asleep\",\"utility\",\"vary\",\"upsetting\",\"distress\",\"precious\",\"contest\",\"ppl\",\"thief\",\"clock\",\"picky\",\"official\",\"apple\",\"autonomy\",\"strategy\",\"ntashe\",\"biologically\",\"translate\",\"spoiled\",\"spill\",\"humor\",\"alienate\",\"promote\",\"knife\",\"spanish\",\"suffering\",\"flu\",\"outfit\",\"wave\",\"p.m.\",\"perception\",\"estate\",\"stepdad\",\"desk\",\"em\",\"fulfil\",\"carefully\",\"damaging\",\"broke\",\"breathe\",\"lover\",\"disappear\",\"luckily\",\"tf\",\"reading\",\"ethical\",\"boring\",\"europe\",\"masturbation\",\"forum\",\"chew\",\"theater\",\"incompatible\",\"leftover\",\"massage\",\"freaking\",\"succeed\",\"fetus\",\"heritage\",\"variety\",\"knee\",\"partially\",\"dating\",\"vegetable\",\"fry\",\"vague\",\"passion\",\"unpleasant\",\"embarrassment\",\"hateful\",\"canada\",\"accommodation\",\"you\\u2019re\",\"desperately\",\"border\",\"tire\",\"reciprocate\",\"2nd\",\"timing\",\"explicit\",\"intervention\",\"gap\",\"mixed\",\"relation\",\"ur\",\"soap\",\"star\",\"bump\",\"steak\",\"lack_empathy\",\"wildly\",\"replacement\",\"cum\",\"fruit\",\"viewpoint\",\"elaborate\",\"dear\",\"appropriately\",\"forbid\",\"alert\",\"passenger\",\"bloody\",\"infection\",\"smash\",\"acne\",\"nickname\",\"amend\",\"penny\",\"isolate\",\"bean\",\"belly\",\"fart\",\"verdict\",\"fuss\",\"furious\",\"um\",\"sexual_harassment\",\"tampon\",\"venue\",\"ally\",\"admission\",\"fashion\",\"curiosity\",\"thankful\",\"ridiculously\",\"breath\",\"blatant\",\"bust\",\"sexualize\",\"truck\",\"monitor\",\"modern\",\"exit\",\"impulse\",\"unnecessarily\",\"hill\",\"sitter\",\"straw\",\"valentine\",\"grieving\",\"tank\",\"childfree\",\"exclusive\",\"ice\",\"green\",\"alot\",\"enjoyment\",\"furniture\",\"elderly\",\"solo\",\"dorm\",\"cast\",\"nuts\",\"tendency\",\"gathering\",\"sin\",\"mortgage\",\"senior\",\"navigate\",\"silver\",\"misogynistic\",\"fall_asleep\",\"equipment\",\"approval\",\"guitar\",\"ie\",\"experiment\",\"grace\",\"pointless\",\"thousand_dollar\",\"mildly\",\"wine\",\"learning\",\"gossip\",\"lower\",\"sympathetic\",\"sane\",\"core\",\"sing\",\"divide\",\"candidate\",\"silent\",\"rethink\",\"deposit\",\"graduation\",\"golden\",\"restroom\",\"hypocrisy\",\"worthless\",\"textbook\",\"bare_minimum\",\"scroll\",\"liberal\",\"infuriate\",\"unexpected\",\"sock\",\"audacity\",\"blackmail\",\"vindictive\",\"deceased\",\"lame\",\"campus\",\"spin\",\"unprotected_sex\",\"operate\",\"gene\",\"sweat\",\"bread\",\"profession\",\"overwhelming\",\"<\",\"narrative\",\"highly_doubt\",\"asexual\",\"pronounce\",\"temper\",\"luxury\",\"retaliate\",\"sociopath\",\"retail\",\"shy\",\"belonging\",\"lying\",\"deem\",\"consensual\",\"e.g.\",\"spoiler\",\"employment\",\"necessity\",\"motive\",\"australia\",\"cigarette\",\"neck\",\"maintenance\",\"fraud\",\"bomb\",\"smack\",\"reek\",\"bullet\",\"understandably\",\"intelligence\",\"protective\",\"spit\",\"pissy\",\"liability\",\"pushy\",\"wellbeing\",\"kindly\",\"stain\",\"trivial\",\"grammar\",\"bible\",\"universe\",\"notion\",\"native\",\"timeline\",\"exhausted\",\"redditor\",\"apparent\",\"transgender\",\"print\",\"problematic\",\"dna_test\",\"acceptance\",\"pm\",\"hubby\",\"comparable\",\"satisfy\",\"invasive\",\"series\",\"bath\",\"gold_digger\",\"snapchat\",\"baffle\",\"suicidal\",\"fragile\",\"empathetic\",\"opt\",\"attachment\",\"swap\",\"hatred\",\"smoker\",\"bigotry\",\"restriction\",\"exclusively\",\"whim\",\"iud\",\"merely\",\"similarly\",\"vast_majority\",\"queer\",\"greedy\",\"e\",\"unsolicited\",\"n_word\",\"instruction\",\"occasional\",\"prejudice\",\"german\",\"subtle\",\"labour\",\"parenthood\",\"outburst\",\"upbringing\",\"negatively\",\"donor\",\"muscle\",\"youtube\",\"bikini\",\"stake\",\"risky\",\"salad\",\"contain\",\"inability\",\"weather\",\"yta.you\",\"acquaintance\",\"terminate\",\"evict\",\"caregiver\",\"monday\",\"devastate\",\"dodge\",\"strip\",\"strictly\",\"stubborn\",\"n\",\"extension\",\"veggie\",\"pleasant\",\"destructive\",\"conceive\",\"airport\",\"student_loan\",\"jane\",\"horror\",\"feminism\",\"deceive\",\"remorse\",\"compensate\",\"carrot\",\"cow\",\"consistent\",\"presume\",\"lately\",\"endure\",\"convo\",\"bury\",\"absolve\",\"reevaluate\",\"id\",\"hahaha\",\"fertility\",\"intentional\",\"italian\",\"testing\",\"boat\",\"a.\",\"poll\",\"inclined\",\"salt\",\"god_forbid\",\"jean\",\"highschool\",\"growth\",\"beef\",\"platonic\",\"paycheck\",\"phobia\",\"socialize\",\"healthcare\",\"frequent\",\"tipping\",\"grip\",\"transaction\",\"feminine\",\"tricky\",\"visitation\",\"handicap\",\"forgiveness\",\"bridezilla\",\"discriminate\",\"spider\",\"pat\",\"livid\",\"psychologist\",\"doll\",\"deadbeat\",\"driving\",\"mirror\",\"pin\",\"confide\",\"ship\",\"sympathize\",\"guilte\",\"wheelchair\",\"mandatory\",\"awake\",\"youth\",\"anime\",\"structure\",\"coerce\",\"counsel\",\"reassure\",\"category\",\"zone\",\"aid\",\"judgemental\",\"blowjob\",\"pour\",\"jewelry\",\"pork\",\"saturday\",\"controversial\",\"gear\",\"breastfeeding\",\"hassle\",\"tea\",\"pose\",\"arrogant\",\"closure\",\"organize\",\"bank_account\",\"biology\",\"stock\",\"homophobe\",\"mentally_ill\",\"engineer\",\"shell\",\"prayer\",\"condescend\",\"lap\",\"overwhelmed\",\"gather\",\"prop\",\"netflix\",\"playing\",\"western\",\"pan\",\"nipple\",\"dickhead\",\"cave\",\"flow\",\"imho\",\"resume\",\"surprising\",\"roast\",\"crisis\",\"accordingly\",\"coward\",\"awareness\",\"working\",\"delicious\",\"aim\",\"someday\",\"mode\",\"customer_service\",\"mexican\",\"wound\",\"karen\",\"misread\",\"semi\",\"overlook\",\"aisle\",\"convenience\",\"versus\",\"statistic\",\"bot\",\"frank\",\"realistically\",\"wiki\",\"rice\",\"rank\",\"independence\",\"tacky\",\"fb\",\"common_courtesy\",\"hunt\",\"toll\",\"distant\",\"tech\",\"junk\",\"bride_groom\",\"cramp\",\"receipt\",\"sarah\",\"yikes\",\"mug\",\"examine\",\"callous\",\"hearing\",\"relief\",\"picky_eater\",\"unrealistic\",\"babysitte\",\"exaggerate\",\"objective\",\"essential\",\"junk_food\",\"wealthy\",\"national\",\"functional\",\"convey\",\"complicate\",\"withdraw\",\"loyalty\",\"ytaif\",\"poly\",\"lab\",\"stall\",\"wheel\",\"selfishness\",\"passive\",\"disruptive\",\"saying\",\"i've\",\"disrupt\",\"opening\",\"surface\",\"cheer\",\"self_awareness\",\"satisfied\",\"clarification\",\"dime\",\"shrug\",\"dose\",\"30\",\"recline\",\"\\ud83d\\ude44\",\"refund\",\"pause\",\"equality\",\"broad\",\"discourage\",\"jeez\",\"anonymous\",\"tension\",\"separately\",\"toe\",\"bored\",\"virginity\",\"negotiate\",\"crying\",\"network\",\"declare\",\"army\",\"nta.i\",\"grope\",\"halfway\",\"stepmother\",\"mourn\",\"fathom\",\"quarter\",\"blessing\",\"symbol\",\"pillow\",\"visible\",\"sti\",\"unstable\",\"jackass\",\"numerous\",\"creative\",\"albeit\",\"poke\",\"facility\",\"weekly\",\"murderer\",\"offender\",\"element\",\"pig\",\"substance\",\"high_horse\",\"magic\",\"shocking\",\"creature\",\"counselling\",\"appreciation\",\"nowadays\",\"stupid_prize\",\"ntahe\",\"tactful\",\"ytait\",\"hello\",\"datum\",\"abnormal\",\"sir\",\"irish\",\"focused\",\"admittedly\",\"tow\",\"annoyance\",\"ps\",\"vow\",\"raw\",\"exposure\",\"confess\",\"nursing\",\"verify\",\"curb\",\"lawsuit\",\"snow\",\"dil\",\"colour\",\"cough\",\"permit\",\"refusal\",\"bat\",\"nah-\",\"stigma\",\"monthly\",\"abide\",\"yr_old\",\"assert\",\"favourite\",\"sized\",\"expand\",\"intelligent\",\"channel\",\"lightly\",\"downplay\",\"disturbing\",\"upper\",\"winner\",\"mask\",\"erase\",\"horny\",\"sufficient\",\"highlight\",\"ought\",\"doormat\",\"nta.you\",\"combination\",\"questionable\",\"gain_weight\",\"uni\",\"revenge_porn\",\"football\",\"exhibit\",\"assessment\",\"bark\",\"inevitably\",\"racial\",\"stitch\",\"passionate\",\"collection\",\"g\",\"easter\",\"transgend\",\"mislead\",\"deed\",\"inconvenient\",\"j\",\"infidelity\",\"ad\",\"athlete\",\"hmm\",\"prostitute\",\"sleepover\",\"beard\",\"send_nude\",\"courage\",\"deprive\",\"brutal\",\"motivate\",\"headache\",\"don\\u2019t\",\"reflection\",\"sexual_orientation\",\"downright\",\"fed\",\"unpopular_opinion\",\"allowance\",\"twat\",\"romantically\",\"handful\",\"differ\",\"role_reverse\",\"irritate\",\"disaster\",\"japanese\",\"honeymoon\",\"irl\",\"aggression\",\"entertainment\",\"usa\",\"er\",\"guardian\",\"constructive\",\"paperwork\",\"vs.\",\"pov\",\"accomplishment\",\"retire\",\"impress\",\"tempt\",\"comply\",\"t_shirt\",\"meme\",\"dress_code\",\"liable\",\"stir\",\"conduct\",\"outsider\",\"spelling\",\"vice_versa\",\"dairy\",\"wifi\",\"slice\",\"1st\",\"binge\",\"citizen\",\"kitten\",\"r_legaladvice\",\"oblige\",\"coke\",\"equip\",\"amazon\",\"journey\",\"o\",\"degrade\",\"hardship\",\"supervision\",\"misogyny\",\"foreign\",\"rain\",\"atm\",\"nearby\",\"bubble\",\"theme\",\"rabbit\",\"stuck\",\"hugely\",\"precaution\",\"reservation\",\"camping\",\"fundamental\",\"fundamentally\",\"phrasing\",\"foundation\",\"uncalled\",\"actor\",\"nuance\",\"adapt\",\"edgy\",\"mistreat\",\"prime\",\"explode\",\"guard\",\"leap\",\"competitive\",\"deaf\",\"immaturity\",\"toothbrush\",\"notify\",\"pad\",\"poverty\",\"roll_eye\",\"fuel\",\"bum\",\"instant\",\"sanity\",\"escort\",\"nag\",\"festival\",\"tune\",\"humanity\",\"plain_simple\",\"painting\",\"emphasize\",\"retaliation\",\"confusion\",\"touching\",\"swing\",\"oof\",\"furry\",\"ethnicity\",\"utter\",\"princess\",\"application\",\"bonding\",\"puke\",\"potato\",\"alimony\",\"interpretation\",\"leverage\",\"chuck\",\"expression\",\"steve\",\"role_model\",\"fucked\",\"amy\",\"bodily_autonomy\",\"humiliating\",\"salty\",\"shed\",\"snitch\",\"custom\",\"trend\",\"distinction\",\"infertile\",\"flight_attendant\",\"carrier\",\"workout\",\"swim\",\"marital\",\"separation\",\"pawn\",\"drill\",\"embrace\",\"ideally\",\"threesome\",\"grind\",\"hookup\",\"condone\",\"stressed\",\"commit_crime\",\"lifelong\",\"dispute\",\"heterosexual\",\"leak\",\"classroom\",\"dietary\",\"sarcastic\",\"kudo\",\"cure\",\"arse\",\"subjective\",\"eshyou\",\"volume\",\"negate\",\"spirit\",\"heartless\",\"presentation\",\"molest\",\"eachother\",\"informed\",\"behavioral\",\"\\\"i\",\"tongue\",\"thrill\",\"ha\",\"rental\",\"compensation\",\"dick_pic\",\"afternoon\",\"jfc\",\"making\",\"stab\",\"jeff\",\"overstep\",\"malice\",\"panic_attack\",\"unsure\",\"deadline\",\"lb\",\"supervisor\",\"shaming\",\"enemy\",\"talent\",\"dm\",\"comprehend\",\"bless\",\"pressured\",\"gate\",\"germany\",\"international\",\"abused\",\"stability\",\"miscommunication\",\"technique\",\"pester\",\"eating\",\"appease\",\"proportion\",\"morality\",\"sexually_active\",\"farm\",\"employ\",\"scumbag\",\"bake\",\"climb\",\"taxi\",\"clinic\",\"weirdo\",\"immigrant\",\"secretary\",\"leader\",\"sensible\",\"essay\",\"hitler\",\"season\",\"slim\",\"hold_grudge\",\"greatly\",\"despise\",\"crawl\",\"moh\",\"prospect\",\"swallow\",\"salvage\",\"backwards\",\"assist\",\"pub\",\"promotion\",\"largely\",\"depth\",\"arbitrary\",\"recognise\",\"relieve\",\"caring\",\"blank\",\"indicator\",\"powerful\",\"anna\",\"joe\",\"outta\",\"stomp\",\"enjoyable\",\"preserve\",\"everytime\",\"tl;dr\",\"bye\",\"intervene\",\"supervise\",\"spiteful\",\"fluid\",\"irritated\",\"ongoing\",\"rating\",\"vile\",\"fwiw\",\"uterus\",\"2.5\",\"breakdown\",\"prenup\",\"telling\",\"log\",\"mortify\",\"christians\",\"spoon\",\"worst\",\"beneficial\",\"beauty\",\"forgot\",\"curse\",\"appeal\",\"grave\",\"troop\",\"backfire\",\"arise\",\"underestimate\",\"singe\",\"meh\",\"whiny\",\"soda\",\"altogether\",\"nahi\",\"mcdonald\",\"minimal\",\"protein\",\"reread\",\"station\",\"unilaterally\",\"roughly\",\"ntathis\",\"rationally\",\"insufferable\",\"wing\",\"perpetuate\",\"partly\",\"jump_conclusion\",\"fold\",\"dirt\",\"sincere\",\"smoke_weed\",\"seizure\",\"snake\",\"prerogative\",\"internal\",\"micropenis\",\"shelf\",\"bounce\",\"satisfaction\",\"l\",\"tab\",\"flash\",\"intimidate\",\"officer\",\"monkey\",\"fwb\",\"cock\",\"pit\",\"reimburse\",\"bend\",\"helpless\",\"gaming\",\"photographer\",\"bridge\",\"abandonment\",\"possessive\",\"olive_garden\",\"devastating\",\"coddle\",\"tap\",\"prep\",\"bitchy\",\"substitute\",\"chemical\",\"merit\",\"unknown\",\"observe\",\"r_justnomil\",\"irony\",\"insinuate\",\"inappropriately\",\"coin\",\"cautious\",\"se\",\"association\",\"indoor\",\"whip\",\"asperger\",\"universal\",\"mobile\",\"delicate\",\"accidental\",\"dedicate\",\"king\",\"overboard\",\"cell\",\"lbs\",\"ytashe\",\"psychology\",\"consensus\",\"justifiable\",\"mouth_shut\",\"towel\",\"alternate\",\"bartender\",\"plastic\",\"thanksgiving\",\"babe\",\"walmart\",\"smooth\",\"sperm_donor\",\"burst\",\"gang\",\"survivor\",\"can't\",\"mama\",\"flush\",\"walk_aisle\",\"convert\",\"ytayour\",\"peanut\",\"mary\",\"dignity\",\"stalker\",\"superficial\",\"popcorn\",\"conscience\",\"islam\",\"misery\",\"invade_privacy\",\"slam\",\"thirty\",\"honour\",\"estimate\",\"california\",\"align\",\"kitty\",\"breaking\",\"bigote\",\"bin\",\"simultaneously\",\"eviction\",\"b.\",\"minded\",\"revolve\",\"console\",\"spray\",\"horrific\",\"confrontational\",\"litter\",\"sickness\",\"underlying\",\"dancing\",\"rationalize\",\"chemo\",\"cruelty\",\"mass\",\"plot\",\"assistant\",\"repay\",\"square\",\"bastard\",\"loyal\",\"snarky\",\"bow\",\"disown\",\"cheek\",\"reliable\",\"idiotic\",\"hella\",\"reiterate\",\"soup\",\"closed\",\"heirloom\",\"paternity\",\"masculine\",\"guideline\",\"fulfill\",\"precedent\",\"slap_face\",\"hop\",\"screenshot\",\"wash_dish\",\"devil_advocate\",\"upgrade\",\"cos\",\"kids\",\"european\",\"professionally\",\"internalize\",\"seek_validation\",\"primarily\",\"filter\",\"investigate\",\"inevitable\",\"lap_dance\",\"schooling\",\"nahyou\",\"bruh\",\"invade\",\"unethical\",\"self_absorb\",\"hs\",\"veganism\",\"fallout\",\"garage\",\"submit\",\"shatter\",\"guidance\",\"reschedule\",\"societal\",\"identical\",\"backup\",\"engagement_ring\",\"smh\",\"stupidity\",\"provoke\",\"unbelievably\",\"craving\",\"regular_basis\",\"absence\",\"adore\",\"lick\",\"hill_die\",\"precisely\",\"outing\",\"lmfao\",\"misogynist\",\"fairness\",\"agenda\",\"hold_accountable\",\"nutrition\",\"special_treatment\",\"countless\",\"convinced\",\"genius\",\"toilet_paper\",\"absent\",\"jews\",\"sentimental\",\"china\",\"aunt_uncle\",\"prey\",\"upvoted\",\"compassionate\",\"butthurt\",\"eld\",\"usage\",\"necklace\",\"entry\",\"corporate\",\"league\",\"british\",\"maiden\",\"tolerance\",\"clap\",\"layer\",\"bare\",\"gaslighting\",\"predatory\",\"y'all\",\"iron\",\"barrier\",\"ew\",\"pen\",\"wood\",\"un\",\"preach\",\"mike\",\"de\",\"meaningless\",\"ocd\",\"dildo\",\"max\",\"exploit\",\"needlessly\",\"bpd\",\"attendance\",\"weirdly\",\"gender_identity\",\"metal\",\"hike\",\"belt\",\"gag\",\"scan\",\"x200b;i\",\"medically\",\"communal\",\"trial\",\"conveniently\",\"ppd\",\"sooo\",\"dessert\",\"mountain\",\"herpe\",\"likelihood\",\"laziness\",\"occupy\",\"canadian\",\"mutually\",\"aggressively\",\"disingenuous\",\"drastic\",\"tragedy\",\"inherit\",\"fall_apart\",\"convict\",\"amazed\",\"jacket\",\"entail\",\"parade\",\"welfare\",\"lingerie\",\"veteran\",\"meltdown\",\"deception\",\"agent\",\"establishment\",\"angel\",\"fighting\",\"cue\",\"billion\",\"protest\",\"villain\",\"provider\",\"designate\",\"abroad\",\"dr\",\"lip\",\"libido\",\"xbox\",\"sore\",\"india\",\"pcos\",\"wealth\",\"ultimate\",\"acronym\",\"cage\",\"reprimand\",\"overbearing\",\"hall\",\"ntabut\",\"drown\",\"japan\",\"confirmation\",\"automatic\",\"sushi\",\"tissue\",\"constitute\",\"eg\",\"union\",\"stat\",\"attribute\",\"command\",\"pie\",\"bj\",\"sharing\",\"limb\",\"incentive\",\"overtime\",\"katie\",\"niece_nephew\",\"kiddo\",\"inflict\",\"basement\",\"booze\",\"unemployed\",\"junior\",\"fucker\",\"jar\",\"depress\",\"adamant\",\"perfume\",\"brave\",\"taboo\",\"special_occasion\",\"sack\",\"caution\",\"contraception\",\"thoroughly\",\"measle\",\"firstly\",\"sun\",\"pretentious\",\"groomsman\",\"scold\",\"starbucks\",\"midnight\",\"geez\",\"vocal\",\"majorly\",\"obesity\",\"ntathe\",\"privileged\",\"nazis\",\"rando\",\"age_gap\",\"psychopath\",\"immoral\",\"yta.i\",\"standpoint\",\"introvert\",\"recipient\",\"adequate\",\"involvement\",\"onion\",\"breach\",\"heartbroken\",\"homosexuality\",\"hip\",\"sided\",\"predict\",\"recommendation\",\"censor\",\"disgusted\",\"hesitate\",\"throwaway\",\"pc\",\"old_fashioned\",\"inspire\",\"standing\",\"hindsight\",\"costume\",\"theatre\",\"texture\",\"thoughtless\",\"assess\",\"sheer\",\"diminish\",\"typo\",\"lucy\",\"wander\",\"crave\",\"flavor\",\"la\",\"definite\",\"lgbt_community\",\"bacon\",\"stroller\",\"viable\",\"household_chore\",\"self_defense\",\"visitor\",\"squeeze\",\"sadness\",\"duck\",\"fourth\",\"xyz\",\"inferior\",\"electronic\",\"sorta\",\"continually\",\"bearing\",\"silent_treatment\",\"loop\",\"reconcile\",\"bucket\",\"chemistry\",\"wary\",\"gigantic\",\"obsession\",\"misinterpret\",\"reproductive\",\"tumblr\",\"demean\",\"century\",\"stunt\",\"fitness\",\"faithful\",\"i.\",\"scent\",\"museum\",\"conform\",\"feeding\",\"logically\",\"outrageous\",\"skirt\",\"doom\",\"assholeish\",\"soooo\",\"engineering\",\"temporarily\",\"pedo\",\"underlie\",\"mitigate\",\"improvement\",\"c_section\",\"swipe\",\"winter\",\"commute\",\"president\",\"presumptuous\",\"scientific\",\"maliciously\",\"magical\",\"officially\",\"halloween\",\"willingness\",\"scum\",\"studio\",\"dip\",\"cell_phone\",\"hesitant\",\"freely\",\"lost\",\"bladder\",\"stair\",\"clarity\",\"shortly\",\"integrity\",\"christianity\",\"bore\",\"achievement\",\"ironic\",\"spark\",\"evolve\",\"sidewalk\",\"surname\",\"cite\",\"drastically\",\"criterion\",\"leech\",\"intercourse\",\"gaslight\",\"trainer\",\"housemate\",\"adorable\",\"freshman\",\"seating\",\"instructor\",\"flair\",\"terrified\",\"anticipate\",\"accent\",\"fishy\",\"accessible\",\"upstairs\",\"gentleman\",\"announcement\",\"crucial\",\"running\",\"psych\",\"negativity\",\"glove\",\"sleeping\",\"undo\",\"disposable\",\"bday\",\"lgbtq\",\"depression_anxiety\",\"sticker\",\"exciting\",\"stepson\",\"experienced\",\"glance\",\"lump\",\"meantime\",\"basket\",\"1/2\",\"enormous\",\"gratitude\",\"unbelievable\",\"unintentionally\",\"pace\",\"flexible\",\"bridal_party\",\"backpack\",\"medical_procedure\",\"tragic\",\"select\",\"bmi\",\"gloss\",\"driveway\",\"gpa\",\"flawed\",\"cringey\",\"favoritism\",\"rehome\",\"generosity\",\"vastly\",\"detrimental\",\"brilliant\",\"secondary\",\"germ\",\"recall\",\"resident\",\"medal\",\"major_red_flag\",\"indulge\",\"closely\",\"equation\",\"asshat\",\"director\",\"bdsm\",\"statistically\",\"lie_omission\",\"portray\",\"reckless\",\"distraction\",\"worship\",\"doc\",\"holy_crap\",\"sensitivity\",\"tape\",\"queen\",\"cap\",\"press_charge\",\"clever\",\"doesn't\",\"shape_form\",\"culturally\",\"premise\",\"romance\",\"nonetheless\",\"poc\",\"chris\",\"weirde\",\"offence\",\"trophy\",\"mooch\",\"elementary_school\",\"occurrence\",\"rack\",\"santa\",\"cloud\",\"bash\",\"admire\",\"lung\",\"woah\",\"heroin\",\"flirty\",\"patron\",\"emphasis\",\"outlet\",\"tick\",\"garden\",\"script\",\"rumor\",\"cab\",\"overseas\",\"stroke\",\"blonde\",\"whoa\",\"whomever\",\"edit_spelling\",\"contrary\",\"rebuild\",\"strap\",\"arguably\",\"pink\",\"rightly\",\"highway\",\"dont\",\"maternal\",\"outrage\",\"beggar\",\"giggle\",\"prescription\",\"transphobia\",\"social_cue\",\"par\",\"slavery\",\"disneyland\",\"deliberate\",\"moan\",\"humiliation\",\"commonly\",\"abby\",\"production\",\"induce\",\"drug_addict\",\"generic\",\"shine\",\"lil\",\"heel\",\"killer\",\"babysitting\",\"suitable\",\"doubly\",\"coat\",\"r_raisedbynarcissist\",\"soccer\",\"heat_moment\",\"mere\",\"obtuse\",\"distrust\",\"continuously\",\"limitation\",\"hostage\",\"sample\",\"beneath\",\"grocery_shopping\",\"tour\",\"con\",\"hpv\",\"campaign\",\"shameful\",\"vegas\",\"undergrad\",\"derogatory\",\"crotch\",\"thank_silver\",\"needy\",\"excite\",\"dysfunctional\",\"federal\",\"rift\",\"technology\",\"humble\",\"trustworthy\",\"vital\",\"ntathat\",\"scrub\",\"stamp\",\"budge\",\"ytayou're\",\"bull\",\"butter\",\"mattress\",\"hammer\",\"supplement\",\"impressed\",\"rope\",\"careless\",\"march\",\"enabler\",\"shade\",\"peer_pressure\",\"restrain_order\",\"platform\",\"condemn\",\"sofa\",\"battery\",\"splitting\",\"ideology\",\"talking\",\"prompt\",\"strand\",\"fam\",\"grumpy\",\"100k\",\"indicative\",\"blog\",\"\\ud83d\\udc4f\",\"moderate\",\"jim\",\"optional\",\"steam\",\"apologetic\",\"spine\",\"yoga\",\"accurately\",\"intern\",\"high_schooler\",\"comedy\",\"incompatibility\",\"persist\",\"realtor\",\"unconscious\",\"turkey\",\"gamble\",\"duh\",\"craft\",\"honk\",\"flake\",\"boo\",\"dementia\",\"molester\",\"vaccination\",\"playful\",\"obsessive\",\"slut_shaming\",\"backyard\",\"self_righteous\",\"joint_account\",\"threatening\",\"unpaid\",\"consciously\",\"widow\",\"lube\",\"maternity\",\"goodness\",\"unborn\",\"semantic\",\"transportation\",\"dickish\",\"virtue\",\"region\",\"familial\",\"anonymously\",\"refrain\",\"engaged\",\"evenly\",\"bff\",\"applaud\",\"homosexual\",\"psychologically\",\"firearm\",\"contradict\",\"stepfather\",\"legacy\",\"surgeon\",\"handicapped\",\"fling\",\"shun\",\"gal\",\"sour\",\"stoop_level\",\"incest\",\"juice\",\"functioning\",\"retain\",\"didn't\",\"shampoo\",\"gamer\",\"developmental\",\"fork\",\"breadwinner\",\"successfully\",\"format\",\"athletic\",\"misguided\",\"objection\",\"trail\",\"h\",\"economic\",\"curve\",\"diabetic\",\"dialogue\",\"spiral\",\"onus\",\"florida\",\"reassurance\",\"specialist\",\"famous\",\"passport\",\"cartoon\",\"sarcasm\",\"nta.it\",\"pettiness\",\"pal\",\"cart\",\"trimester\",\"lasting\",\"douchey\",\"dishwasher\",\"hispanic\",\"pick_slack\",\"dust\",\"chop\",\"dave\",\"obtain\",\"ofc\",\"auto\",\"sneaky\",\"trim\",\"diabetes\",\"appalling\",\"cuss\",\"offended\",\"outweigh\",\"ivf\",\"pushover\",\"resist\",\"straightforward\",\"mindful\",\"uninvite\",\"self_reflection\",\"african\",\"housekeeper\",\"traditionally\",\"historically\",\"dye\",\"legality\",\"downstairs\",\"ethnic\",\"stray\",\"excitement\",\"gatekeepe\",\"origin\",\"tail\",\"invalid\",\"tad\",\"sweep\",\"stereotypical\",\"scheme\",\"vision\",\"braid\",\"despicable\",\"ytathis\",\"historical\",\"chubby\",\"learning_experience\",\"1.5\",\"narcissism\",\"truthful\",\"boost\",\"b_c\",\"couple_counsel\",\"yelling\",\"misrepresent\",\"iphone\",\"dietary_restriction\",\"social_norm\",\"y\\u2019all\",\"comfortably\",\"hamster\",\"postpartum\",\"inherent\",\"advertise\",\"implant\",\"survival\",\"paul\",\"calculate\",\"v\",\"drunken\",\"gender_neutral\",\"penetration\",\"smelly\",\"combat\",\"bob\",\"fade\",\"bruise\",\"nyc\",\"mini\",\"domestic\",\"anti_vaxxer\",\"analysis\",\"convention\",\"specially\",\"ambition\",\"ridicule\",\"steven\",\"whatnot\",\"deadly\",\"characteristic\",\"chime\",\"generalize\",\"healing\",\"philosophy\",\"correction\",\"ironically\",\"receptive\",\"bathe\",\"phd\",\"rug\",\"gauge\",\"rash\",\"flaunt\",\"shred\",\"masculinity\",\"afterward\",\"esp\",\"affectionate\",\"surrogacy\",\"normalize\",\"daniel\",\"mental_gymnastic\",\"admin\",\"domestic_violence\",\"grad_school\",\"choke\",\"river\",\"giver\",\"tray\",\"monetary\",\"milestone\",\"maid_honor\",\"tone_deaf\",\"inexperienced\",\"scummy\",\"untrue\",\"psychotic\",\"stfu\",\"queue\",\"invent\",\"adhere\",\"balanced\",\"gracious\",\"lawn\",\"rudely\",\"articulate\",\"admirable\",\"tuesday\",\"demographic\",\"moon\",\"tomato\",\"calling\",\"backlash\",\"juvenile\",\"slut_shame\",\":d\",\"tutor\",\"initiative\",\":p\",\"virtually\",\"sea\",\"hyphenate\",\"outdoor\",\"economy\",\"cherry\",\"lighten\",\"alcoholism\",\"servant\",\"assholey\",\"caveat\",\"cherish\",\"foreplay\",\"educational\",\"internship\",\"grill\",\"conclude\",\"brush_tooth\",\"sexually_harass\",\"cult\",\"bratty\",\"prob\",\"crowded\",\"easement\",\"banana\",\"mind_reader\",\"impressive\",\"keeper\",\"bell\",\"celebrity\",\"voluntarily\",\"kidnap\",\"pervert\",\"redeem\",\"tammy\",\"shithead\",\"tldr\",\"neglectful\",\"dryer\",\"grandson\",\"temper_tantrum\",\"mr.\",\"shield\",\"\\\"you\",\"bottle_wine\",\"writer\",\"disconnect\",\"wolf\",\"prone\",\"disservice\",\"acting\",\"omit\",\"bunny\",\"brief\",\"crutch\",\"thrive\",\"\\ud83e\\udd14\",\"seal\",\"uninvited\",\"outlook\",\"clinical\",\"destination\",\"nta.your\",\"jeopardize\",\"ending\",\"snuggle\",\"5k\",\"concrete\",\"selfless\",\"uncool\",\"virus\",\"prenatal\",\"undergo\",\"stumble\",\"inner\",\"atleast\",\"unannounced\",\"coupon\",\"skin_color\",\"animal_product\",\"swimming\",\"brownie\",\"grass\",\"browse\",\"moody\",\"feasible\",\"edible\",\"muslims\",\"disappointing\",\"heaven\",\"james\",\"lastly\",\"impulsive\",\"frozen\",\"dentist\",\"isn't\",\"fortunate\",\"wire\",\"gosh\",\"storage\",\"override\",\"ect\",\"straighten\",\"priest\",\"subconsciously\",\"dread\",\"competent\",\"exact_opposite\",\"facial\",\"division\",\"hit_nail\",\"heated\",\"ordeal\",\"blindside\",\"bold\",\"bachelorette_party\",\"rn\",\"tier\",\"remarry\",\"smug\",\"immensely\",\"boner\",\"diverse\",\"social_circle\",\"blindly\",\"hardcore\",\"decrease\",\"pitbull\",\"purple\",\"mistaken\",\"wholly\",\"pastor\",\"tourist\",\"movie_theater\",\"incorrectly\",\"united_states\",\"humour\",\"myth\",\"gig\",\"suspend\",\"contempt\",\"motion\",\"span\",\"racial_slur\",\"trope\",\"sleep_deprive\",\"responsibly\",\"dining\",\"bush\",\"unexpectedly\",\"preschool\",\"spoiled_brat\",\"pediatrician\",\"edit_typo\",\"ahole\",\"plug\",\"tom\",\"kosher\",\"courteous\",\"waiting\",\"flame\",\"advanced\",\"4th\",\"themself\",\"tbf\",\"purse\",\"endgame\",\"pepper\",\"compel\",\"adjustment\",\"sob\",\"millennial\",\"net\",\"wisdom\",\"eliminate\",\"progressive\",\"peg\",\"facilitate\",\"marijuana\",\"bass\",\"conditional\",\"radio\",\"psychiatrist\",\"unpopular\",\"mechanic\",\"devil\",\"coffee_shop\",\"foreign_country\",\"sjw\",\"cruise\",\"bound\",\"deflect\",\"politeness\",\"adoptive\",\"harshly\",\"meat_eater\",\"observation\",\"revoke\",\"drama_queen\",\"council\",\"county\",\"korean\",\"sense_humor\",\"seed\",\"lotion\",\"dedicated\",\"pantie\",\"vaginal\",\"misleading\",\"silently\",\"projection\",\"disable\",\"daily_basis\",\"open_minded\",\"circumcision\",\"certainty\",\"intrusive\",\"felony\",\"hangout\",\"pout\",\"conviction\",\"pole\",\"breach_trust\",\"torment\",\"stream\",\"comic\",\"seriousness\",\"prescribe\",\"hyper\",\"certificate\",\"crew\",\"=_/=\",\"steer\",\"washing\",\"r_niceguys\",\"undoubtedly\",\"gfs\",\"triple\",\"unpack\",\"southern\",\"clingy\",\"scamme\",\"skeptical\",\"severity\",\"laughable\",\"pup\",\"calendar\",\"grad\",\"infertility\",\"specie\",\"restrain\",\"representation\",\"attractiveness\",\"defence\",\"tale\",\"resolution\",\"remote\",\"wibta\",\"bipolar\",\"doctor_appointment\",\"bend_backwards\",\"ra\",\"noodle\",\"plausible\",\"greet\",\"vanilla\",\"ethically\",\"bluff\",\"orientation\",\"mlm\",\"gendered\",\"world_revolve\",\"housewife\",\"tickle\",\"foolish\",\"variation\",\"catfishe\",\"district\",\"cream\",\"manifest\",\"men\",\"hurry\",\"cinema\",\"gape\",\"bulk\",\"lgbt+\",\"beloved\",\"keto\",\"selfishly\",\"scope\",\"banter\",\"foremost\",\"amitheasshole_question\",\"s_o\",\"rationale\",\"unclear\",\"setup\",\"rinse\",\"unfairly\",\"entirety\",\"gluten\",\"podcast\",\"relationship_advice\",\"unvaccinated\",\"applicant\",\"believable\",\"invisible\",\"bot_action\",\"misbehave\",\"monogamy\",\"anecdote\",\"early_20\",\"obey\",\"innocuous\",\"kindergarten\",\"mandarin\",\"sentimental_value\",\"mexico\",\"dumpster\",\"complicit\",\"connotation\",\"fiction\",\"unkind\",\"factory\",\"birth_certificate\",\"latch\",\"scrape\",\"positively\",\"yta.if\",\"walk_eggshell\",\"unfaithful\",\"linger\",\"hazard\",\"fixate\",\"perform_automatically_contact_moderator\",\"branch\",\"disadvantage\",\"manly\",\"eff\",\"tackle\",\"happening\",\"sulk\",\"sigh\",\"starter\",\"ds\",\"collar\",\"genitalia\",\"cease\",\"fester\",\"organise\",\"playground\",\"chronic\",\"texas\",\"subreddit](/message_compose/?to=/r\",\"icky\",\"white_knight\",\"demeaning\",\"tablet\",\"devalue\",\"socially_acceptable\",\"keen\",\"container\",\"dial\",\"u.s.\",\"cafe\",\"drawer\",\"mushroom\",\"north\",\"visa\",\"delusion\",\"\\ufe0f\",\"generalization\",\"sucky\",\"pale\",\"negligence\",\"likewise\",\"1/3\",\"destruction\",\"leeway\",\"shadow\",\"cleaner\",\"institution\",\"nutrient\",\"touchy\",\"dramatically\",\"gas_station\",\"candle\",\"twisted\",\"participant\",\"unconditional\",\"maturely\",\"negatively_affect\",\"diversity\",\"migraine\",\"grudge\",\"bitching\",\"crop\",\"modify\",\"jurisdiction\",\"intellectual\",\"accountable\",\"veto\",\"bacteria\",\"suffice\",\"upside\",\"grossly\",\"anatomy\",\"guilt_tripping\",\"info-\",\"earning\",\"troubling\",\"violently\",\"baseball\",\"alternatively\",\"outline\",\"regulation\",\"cupcake\",\"taint\",\"worthwhile\",\"follow_abbreviation\",\"rot\",\"tactless\",\"iirc\",\"helicopter\",\"membership\",\"breeder\",\"gasp\",\"nod\",\"maximum\",\"akin\",\"threshold\",\"rose\",\"edit-\",\"messed\",\"spa\",\"soak\",\"envy\",\"freezer\",\"heartbeat\",\"hetero\",\"misgendere\",\"bea\",\"thumb\",\"void\",\"riddance\",\"boom\",\"enthusiastic\",\"drawing\",\"nta.if\",\"coincidence\",\"newly\",\"sleeve\",\"bisexuality\",\"incompetent\",\"wether\",\"\\u2764_\\ufe0f\",\"miscarry\",\"unfamiliar\",\"rule_thumb\",\"weakness\",\"bachelor\",\"esh-\",\"willfully\",\"joking\",\"ruling\",\"comfort_zone\",\"flex\",\"adolescent\",\"administration\",\"amicable\",\"barge\",\"nevermind\",\"casserole\",\"indirectly\",\"heartbreaking\",\"recognition\",\"ramification\",\"carpet\",\"tame\",\"reproduce\",\"reunion\",\"independently\",\"illegally\",\"backstory\",\"thi\",\"era\",\"maddie\",\"rural\",\"gender_reverse\",\"december\",\"encouragement\",\"plead\",\"mansplaining\",\"i\\u2019d\",\"hoe\",\"commend\",\"verge\",\"y_o\",\"slander\",\"breastfe\",\"paranoia\",\"burn_bridge\",\"inadvertently\",\"funding\",\"mute\",\"horrify\",\"sensory\",\"regulate\",\"classy\",\"aversion\",\"fever\",\"1,000\",\"congratulate\",\"multi\",\"dominate\",\"texting\",\"patch\",\"justifiably\",\"objectify\",\"expel\",\"grey\",\"routinely\",\"ntayou're\",\"component\",\"rudeness\",\"motherhood\",\"impregnate\",\"chalk\",\"alarming\",\"implement\",\"toxicity\",\"fortunately\",\"eager\",\"appal\",\"gracefully\",\"recline_seat\",\"uhh\",\"tit_tat\",\"stew\",\"dealer\",\"specialize\",\"bargain\",\"brainwash\",\"vicious\",\"fatty\",\"titty\",\"+1\",\"detriment\",\"blah_blah_blah\",\"proactive\",\"petulant\",\"ordinary\",\"treasure\",\"download\",\"mutually_exclusive\",\"construction\",\"distribute\",\"nudity\",\"shooting\",\"inclusive\",\"soldier\",\"gall\",\"unlock\",\"substantial\",\"dan\",\"attire\",\"keyboard\",\"genetically\",\"jokingly\",\"sugar_daddy\",\"unintentional\",\"highly_recommend\",\"solo_trip\",\"demanding\",\"physician\",\"kissing\",\"insistent\",\"posting\",\"speculate\",\"england\",\"aesthetic\",\"itt\",\"urgent\",\"civilian\",\"affordable\",\"ntai'm\",\"detailed\",\"france\",\"body_positivity\",\"navy\",\"vet_bill\",\"poope\",\"atmosphere\",\"ytahe\",\"clerk\",\"chuckle\",\"quirk\",\"consumption\",\"internally\",\"oven\",\"worrying\",\"qualification\",\"restrictive\",\"preferably\",\"wax\",\"savage\",\"intake\",\"hoa\",\"rib\",\"discretion\",\"appreciative\",\"mend\",\"nest\",\"errand\",\"sucker\",\"10/10\",\"sheesh\",\"ytanot\",\"ben\",\"unspoken\",\"tense\",\"hourly\",\"5th\",\"novel\",\"snowflake\",\"untrustworthy\",\"break_camel\",\"cereal\",\"pipe\",\"snapping\",\"visual\",\"personality_disorder\",\"wholeheartedly\",\"womb\",\"persistent\",\"spicy\",\"nahit\",\"mega\",\"grand_scheme\",\"ostracize\",\"gorgeous\",\"sway\",\"heartbreak\",\"cranky\",\"^\",\"float\",\"imagination\",\"haul\",\"gee\",\"ludicrous\",\"fate\",\"realm\",\"vape\",\"arouse\",\"peeing\",\"known\",\"accompany\",\"offspring\",\"evaluation\",\"shall\",\"briefly\",\"nuisance\",\"dispose\",\"compound\",\"dang\",\"pit_bull\",\"registry\",\"narrow\",\"meth\",\"spout\",\"subway\",\"electric\",\"hinder\",\"graphic\",\"nation\",\"fend\",\"forgiving\",\"noble\",\"alleviate\",\"post_partum\",\"prioritise\",\"soy\",\"exempt\",\"coercion\",\"seperate\",\"hijack\",\"native_american\",\"charlie\",\"immense\",\"supreme\",\"companion\",\"belladonna\",\"whisper\",\"selfie\",\"irrationally\",\"instill\",\"tidy\",\"whoop\",\"cmon\",\"fur\",\"invitation_debate_subject\",\"livelihood\",\"blend\",\"bigoted\",\"exotic\",\"residence\",\"surprisingly\",\"hangup\",\"alien\",\"drunk_driving\",\"zoo\",\"piano\",\"wholesome\",\"nerd\",\"conceal\",\"imbalance\",\"pinch\",\"tofu\",\"instal\",\"hissy_fit\",\"screaming\",\"unheard\",\"pony\",\"rail\",\"sticky\",\"cord\",\"basketball\",\"horrifying\",\"fist\",\"screening\",\"avenue\",\"alt\",\"ted\",\"moot\",\"parking_spot\",\"hog\",\"unload\",\"ireland\",\"charitable\",\"invasion_privacy\",\"rad\",\"tolerant\",\"spotlight\",\"brick\",\"restraint\",\"police_officer\",\"accountability\",\"yta.it\",\"pornography\",\"<3\",\"horrified\",\"preparation\",\"chart\",\"they're\",\"motherfucker\",\"individually\",\"i\\u2019ve\",\"yay\",\"fare\",\"\\ud83d\\ude02_\\ud83d\\ude02\",\"sacred\",\"curfew\",\"microwave\",\"childless\",\"jaw\",\"colossal\",\"haunt\",\"frat\",\"exceptionally\",\"negligent\",\"horn\",\"manipulator\",\"whichever\",\"escalation\",\"peak\",\"visibly\",\"blackout_drunk\",\"readily\",\"cowardly\",\"painfully\",\"stack\",\"blow_proportion\",\"rocky\",\"dancer\",\"living_expense\",\"homemade\",\"bodily_function\",\"conception\",\"miracle\",\"oppress\",\"coast\",\"isolated\",\"awkwardness\",\"negatively_impact\",\"destination_wedding\",\"spew\",\"bedtime\",\"polish\",\"remedy\",\"respectable\",\"err\",\"speak_volume\",\"knit\",\"persuade\",\"looking\",\"stash\",\"jab\",\"unicorn\",\"leadership\",\"asinine\",\"ipad\",\"rehab\",\"unattende\",\"public_transport\",\"west\",\"comeback\",\"cloth\",\"iq\",\"comprehension\",\"subscribe\",\"underweight\",\"offering\",\"serial_killer\",\"sooooo\",\"token\",\"cosmetic\",\"nip_bud\",\"public_transportation\",\"pun\",\"peanut_butter\",\"terminal\",\"notification\",\"anorexia\",\"brace\",\"distinct\",\"needless\",\"sam\",\"skewed\",\"believer\",\"obgyn\",\"rachel\",\"flesh\",\"bbq\",\"new_york\",\"defect\",\"overly_sensitive\",\"sible\",\"insignificant\",\"relaxed\",\"termination\",\"imaginary\",\"publish\",\"lunatic\",\"scapegoat\",\"curly_hair\",\"translation\",\"nepotism\",\"organizer\",\"central\",\"piercing\",\"indefinitely\",\"increasingly\",\"conference\",\"cliche\",\"noisy\",\"nta.she\",\"skew\",\"paper_towel\",\"bachelor_party\",\"non_binary\",\"sharp\",\"clown\",\"inadequate\",\"40\",\"excess\",\"unconditionally\",\"devote\",\"teammate\",\"elevator\",\"capability\",\"hmmm\",\"chastise\",\"united\",\"embryo\",\"minus\",\"bro_code\",\"delude\",\"cling\",\"cracker\",\"dr.\",\"install\",\"slob\",\"elephant\",\"roam\",\"worm\",\"stds\",\"premium\",\"transplant\",\"flatmate\",\"crate\",\"dressed\",\"reader\",\"airplane\",\"yrs\",\"neat\",\"steady\",\"ample\",\"africa\",\"hub\",\"r_entitledparent\",\"partial\",\"legal_guardian\",\"bystander\",\"unsupportive\",\"venture\",\"vaccinated\",\"mandate\",\"bleeding\",\"absorb\",\"mow_lawn\",\"elder\",\"wednesday\",\"said\",\"san\",\"whistle\",\"slippery_slope\",\"scouts\",\"upcoming\",\"rhetoric\",\"robot\",\"bode\",\"incubator\",\"software\",\"valuable_lesson\",\"recourse\",\"april\",\"demonize\",\"operation\",\"yogurt\",\"elope\",\"adventure\",\"roomie\",\"repulse\",\"unsupervise\",\"tent\",\"goodwill\",\"vain\",\"pedantic\",\"egregious\",\"motivated\",\"yellow\",\"terrifying\",\"deserved\",\"bout\",\"residency\",\"victimize\",\"harbor\",\"bald\",\"identical_twin\",\"gender_dysphoria\",\"misplace\",\"curl\",\"orange\",\"spice\",\"jessica\",\"universally\",\"inlaw\",\"women\",\"bitterness\",\"disguise\",\"beast\",\"conspiracy\",\"badass\",\"satisfying\",\"dominance\",\"uti\",\"martyr\",\"grain_salt\",\"prof\",\"exaggeration\",\"desert\",\"penalty\",\"guise\",\"insanity\",\"needle\",\"generate\",\"bleach\",\"australian\",\"kinky\",\"spaghetti\",\"efficient\",\"shitti\",\"salon\",\"ouch\",\"\\\"if\",\"fundraiser\",\"musical\",\"concede\",\"instigate\",\"troubled\",\"contraceptive\",\"realization\",\"retarded\",\"sobriety\",\"partake\",\"stepsister\",\"testosterone\",\"glare\",\"loaded\",\"nta.this\",\"hood\",\"dilemma\",\"hairstyle\",\"pleased\",\"empower\",\"mo\",\"asthma\",\"execute\",\"louder\",\"executive\",\"assertive\",\"moreso\",\"maker\",\"frown\",\"vegans\",\"commission\",\"sweetie\",\"speculation\",\"confine\",\"ft\",\"planner\",\"solidify\",\"shiny\",\"ounce\",\"overstep_boundary\",\"service_industry\",\"golf\",\"compatibility\",\"forehead\",\"accusatory\",\"melt\",\"befriend\",\"postpartum_depression\",\"gum\",\"debilitate\",\"fantasize\",\"vitamin\",\"y'know\",\"taco\",\"retard\",\"nurture\",\"psychiatric\",\"astounding\",\"dash\",\"talented\",\"higher\",\"breathing\",\"sociopathic\",\"morbidly_obese\",\"cognitive\",\"tube\",\"cope_mechanism\",\"dishonesty\",\"knee_jerk_reaction\",\"epic\",\"badger\",\"misuse\",\"dangerously\",\"construct\",\"spank\",\"ratio\",\"atheism\",\"january\",\"ace\",\"tattle\",\"centre\",\"exacerbate\",\"repulsive\",\"hiking\",\"jam\",\"preferred\",\"disclaimer\",\"rainbow\",\"meter\",\"obsessed\",\"armpit\",\"wildlife\",\"electricity\",\"trolling\",\"annual\",\"resemble\",\"defamation\",\"mystery\",\"disproportionate\",\"extended_period\",\"pantry\",\"evidently\",\"morning_sickness\",\"challenging\",\"wardrobe\",\"rectify\",\"determined\",\"hockey\",\"marathon\",\"apt\",\"patronize\",\"tremendous\",\"bulimia\",\"massive_red_flag\",\"ytathe\",\"publicly_humiliate\",\"apologizing\",\"flood\",\"curtain\",\"revisit\",\"bent\",\"mentor\",\"prohibit\",\"aswell\",\"locker_room\",\"approximately\",\"liver\",\"worldview\",\"unwelcome\",\"climate\",\"mall\",\"follower\",\"uphold\",\"hrs\",\"certify\",\"penetrative\",\"asd\",\"intolerant\",\"hack\",\"sew\",\"i.e\",\"unpredictable\",\"unbiased\",\"stupidly\",\"gladly\",\"technical\",\"furrie\",\"critique\",\"snore\",\"toxic_masculinity\",\"burrito\",\"granddaughter\",\"considering\",\"urine\",\"perpetrator\",\"photograph\",\"reluctant\",\"poo\",\"unfit\",\"downside\",\"unwind\",\"gymnastic\",\"ankle\",\"reconnect\",\"sweetheart\",\"sand\",\"gratification\",\"execution\",\"cement\",\"draft\",\"apartment_complex\",\"unsolicited_advice\",\"newsflash\",\"low_self_esteem\",\"reduction\",\"redirect\",\"balloon\",\"wank\",\"disapprove\",\"commit_suicide\",\"pronunciation\",\"hallway\",\"nosy\",\"disdain\",\"elitist\",\"yank\",\"nip\",\"notch\",\"bluntly\",\"diploma\",\"lgbtq+\",\"laughter\",\"flirting\",\"immune\",\"taste_medicine\",\"technicality\",\"stepparent\",\"snob\",\"fleshlight\",\"subsidize\",\"supermarket\",\"cc\",\"hostility\",\"external\",\"washer\",\"fraction\",\"abstinence\",\"voluntary\",\"mundane\",\"expire\",\"mechanism\",\"going\",\"yah\",\"children\",\"wrestle\",\"transport\",\"discharge\",\"hearted\",\"ritual\",\"bee\",\"turd\",\"butthole\",\"ham\",\"earplug\",\"dnd\",\"postpone\",\"eligible\",\"you've\",\"anger_management\",\"flippant\",\"outdated\",\"terrorist\",\"lyft\",\"awfully\",\"proceeding\",\"jersey\",\"pickle\",\"mrs.\",\"explore_sexuality\",\"conflate\",\"locate\",\"heartbreake\",\"materialistic\",\"puzzle\",\"hiding\",\"clip\",\"temperature\",\"grader\",\"wit\",\"representative\",\"contemplate\",\"confession\",\"politely_decline\",\"ultrasound\",\"overwhelmingly\",\"deceptive\",\"transwoman\",\"30k\",\"latino\",\"infringe\",\"ho\",\"peaceful\",\"dui\",\"p.s.\",\"angrily\",\"temple\",\"intolerance\",\"applicable\",\"able_bodied\",\"dragon\",\"needs\",\"mat\",\"\\\"it\",\"mission\",\"author\",\"gravity\",\"mtf\",\"analyze\",\"eshyour\",\"attention_seeking\",\"carer\",\"probability\",\"sword\",\"superiority\",\"esa\",\"bragging\",\"horrid\",\"stimulation\",\"allergen\",\"ff\",\"dive\",\"contagious\",\"coconut\",\"immune_system\",\"ski\",\"designer\",\"snide\",\"\\ud83e\\udd37_\\ud83c\\udffb\\u200d_\\u2640_\\ufe0f\",\"gotcha\",\"umm\",\"mormon\",\"mighty\",\"egotistical\",\"eshshe\",\"insulin\",\"removal\",\"neurotypical\",\"flee\",\"august\",\"custodial\",\"marvel\",\"subconscious\",\"chili\",\"terminology\",\"1k\",\"marine\",\"endless\",\"50\",\"unlocked\",\"preferable\",\"intoxicate\",\"diary\",\"regain\",\"pedophilia\",\"smoothly\",\"shooter\",\"ob\",\"mcdonalds\",\"wed\",\"passing\",\"factual\",\"piggy\",\"chapter\",\"jeremy\",\"cringy\",\"rotten\",\"tournament\",\"information_misunderstand\",\"adequately\",\"noticeable\",\"asking\",\"oppression\",\"motorcycle\",\"hive\",\"/r_legaladvice\",\"knowledgeable\",\"cultural_appropriation\",\"wager\",\"butts\",\"bodily\",\"overhear\",\"mentally_disabled\",\"killing\",\"breast_milk\",\"girly\",\"ntaand\",\"infinitely\",\"xd\",\"cs\",\"wrist\",\"\\ud83e\\udd23\",\"delivery_driver\",\"classify\",\"stretch_mark\",\"fitting\",\"walking\",\"smith\",\"misconception\",\"vocabulary\",\"infer\",\"illogical\",\"transparent\",\"condolence\",\"passive_aggressively\",\"snatch\",\"glue\",\"manchild\",\"flattering\",\"cornell\",\"mouse\",\"relapse\",\"plane_ticket\",\"reset\",\"you-\",\"momma\",\"recieve\",\"en\",\"correlate\",\"italy\",\"whack\",\"radical\",\"quitting\",\"sausage\",\"disclosure\",\"nauseous\",\"rebel\",\"humility\",\"alongside\",\"negotiation\",\"ada\",\"memorial\",\"10,000\",\"suitcase\",\"tub\",\"stern\",\"fatigue\",\"glorify\",\"p\",\"lessen\",\"\\ud83d\\ude0a\",\"faggot\",\"dearly\",\"concentrate\",\"nationality\",\"sustainable\",\"sleep_deprivation\",\"meta\",\"thrust\",\"modest\",\"hysterical\",\"aa\",\"correlation\",\"trespass\",\"tasty\",\"wildly_inappropriate\",\"donate_kidney\",\"voting\",\"liquor\",\"distribution\",\"hypothetically\",\"bikinis\",\"literature\",\"potty\",\"proportional\",\"launch\",\"jew\",\"hunting\",\"unfounded\",\"witch\",\"grey_area\",\"rear\",\"advisor\",\"hesitation\",\"mold\",\"bingo\",\"consumer\",\"vast\",\"2/3\",\"swimsuit\",\"it-\",\"forgetful\",\"menstrual\",\"demon\",\"plainly\",\"trivialize\",\"buyer\",\"armchair\",\"ms\",\"ig\",\"inexcusable\",\"ryan\",\"prevention\",\"wrongly\",\"repayment\",\"animosity\",\"musician\",\"dirty_laundry\",\"drip\",\"listener\",\"scientist\",\"impair\",\"vomiting\",\"annie\",\"clause\",\"selection\",\"inaccurate\",\"naughty\",\"google_search\",\"pubis\",\"captain\",\"gradually\",\"hiring\",\"autocorrect\",\"respective\",\"consist\",\"promptly\",\"degrading\",\"showing\",\"elbow\",\"lid\",\"supporter\",\"participation\",\"3x\",\"smear\",\"partum_depression\",\"dine\",\"defeat\",\"embarasse\",\"dibs\",\"exhaustion\",\"carb\",\"apologize_profusely\",\"blast_music\",\"short_sighted\",\"detach\",\"sting\",\"reflex\",\"uninformed\",\"entity\",\"spineless\",\"fetch\",\"educator\",\"shrink\",\"hunger\",\"domme\",\"journal\",\"entrance\",\"amber_alert\",\"white_supremacist\",\"moral_compass\",\"marketing\",\"sneeze\",\"donut\",\"village\",\"truthfully\",\"unwarranted\",\"native_language\",\"1/4\",\"antagonize\",\"fifth\",\"sob_story\",\"acquire\",\"sahp\",\"digital\",\"ytathere\",\"holocaust\",\"bfs\",\"cleanliness\",\"spawn\",\"predictable\",\"buying\",\"suppress\",\"addictive\",\"rearrange\",\"loathe\",\"earring\",\"pedestrian\",\"duration\",\"lemon\",\"ancient\",\"precedence\",\"conversion\",\"dealership\",\"impressionable\",\"illustrate\",\"fabric\",\"mr\",\"wrongdoing\",\"widower\",\"unreliable\",\"citizenship\",\"dj\",\"commercial\",\"bam\",\"filthy\",\"opposed\",\"bat_eye\",\"cocktail\",\"hospitality\",\"vibrate\",\"waist\",\"kennel\",\"aftermath\",\"socially_awkward\",\"ogle\",\"dot\",\"patronizing\",\"assholes\",\"east\",\"kit\",\"stinky\",\"im\",\"consistency\",\"sustain\",\"solidarity\",\"infect\",\"dental\",\"teasing\",\"deceitful\",\"disparity\",\"fetishize\",\"rough_patch\",\"appetite\",\"prevalent\",\"exaggerated\",\"perk\",\"frequency\",\"refill\",\"grownup\",\"misinform\",\"unknowingly\",\"credit_score\",\"extracurricular\",\"niceguy\",\"combo\",\"uneducated\",\"2x\",\"ahh\",\"mob\",\"tiffany\",\"vaguely\",\"transactional\",\"i'll\",\"backbone\",\"quantity\",\"\\\"that\",\"distasteful\",\"malicious_intent\",\"differentiate\",\"thigh\",\"ita\",\"\\u20ac\",\"racially\",\"suspension\",\"abhorrent\",\"dipshit\",\"uneasy\",\"ache\",\"mercy\",\"empathise\",\"upscale\",\"mill\",\"ytawhat\",\"derail\",\"breast_feeding\",\"unimportant\",\"rifle\",\"alabama\",\"grounding\",\"iffy\",\"pikachu\",\"skilled\",\"weekday\",\"fond\",\"inconsequential\",\"prosecute\",\"granny\",\"intended\",\"mgtow\",\"xmas\",\"sky\",\"paw\",\"dysphoria\",\"pry\",\"mans\",\"strive\",\"razor\",\"heap\",\"garlic\",\"worsen\",\"violate_privacy\",\"cosplay\",\"incline\",\"cooking_cleaning\",\"impolite\",\"discard\",\"ftm\",\"dye_hair\",\"sever\",\"freeloader\",\"umbrella\",\"unforgivable\",\"earner\",\"forgo\",\"rep\",\"janitor\",\"desirable\",\"serving\",\"trunk\",\"developmentally\",\"television\",\"handsome\",\"insta\",\"\\ud83e\\udd26\",\"connected\",\"hype\",\"christ_sake\",\"thong\",\"15k\",\"extravagant\",\"domestic_abuse\",\"amusing\",\"gendere\",\"shoulda\",\"reptile\",\"excessively\",\"leisure\",\"deserving\",\"accessory\",\"unbearable\",\"medicate\",\"diarrhea\",\"hash\",\"fume\",\"pet_peeve\",\"russian\",\"liquid\",\"charming\",\"homeschoole\",\"dummy\",\"phenomenon\",\"documentation\",\"introspection\",\"mommy_daddy\",\"pto\",\"cabin\",\"earbud\",\"hound\",\"prostitution\",\"dehumanizing\",\"unilateral_decision\",\"ooh\",\"spirited\",\"ceo\",\"muster\",\"takeout\",\"commentary\",\"brake\",\"mediocre\",\"preface\",\"propaganda\",\"dutch\",\"barista\",\"'em\",\"ot\",\"polyamorous\",\"catering\",\"pilot\",\"overprotective\",\"dwell\",\"melissa\",\"forcibly\",\"moderation\",\"psa\",\"bribe\",\"discriminatory\",\"psyche\",\"creeper\",\"combative\",\"argumentative\",\"fuzzy\",\"comfy\",\"emu\",\"subsequent\",\"suited\",\"childs\",\"cabinet\",\"documentary\",\"instruct\",\"shitshow\",\"credibility\",\"fictional\",\"insistence\",\"pedestal\",\"understatement\",\"rigid\",\"dd\",\"2k\",\"decoration\",\"immigration\",\"workload\",\"\\ud83c\\udffb\",\"awkwardly\",\"psychosis\",\"harvard\",\"happily_married\",\"coverage\",\"brigade\",\"bruce\",\"mic\",\"beating\",\"sally\",\"yearly\",\"nausea\",\"trafficking\",\"album\",\"civilized\",\"handy\",\"\\u2800\",\"concession\",\"horrendous\",\"donate_sperm\",\"hostess\",\"implicit\",\"homie\",\"proxy\",\"crux\",\"arrogance\",\"ikr\",\"sweater\",\"distinguish\",\"hawaii\",\"warped\",\"interject\",\"coping_mechanism\",\"glass_wine\",\"environmental\",\"hidden\",\"90\",\"overlap\",\"tear_apart\",\"soothe\",\"micro_penis\",\"discreet\",\"nahbut\",\"quiz\",\"tat\",\"fat_shaming\",\"ward\",\"disbelief\",\"ghosting\",\"preppe\",\"incorporate\",\"rap\",\"sniff\",\"feral_cat\",\"co_parenting\",\"stove\",\"crystal\",\"hairy\",\"diligence\",\"x200b;you\",\"asians\",\"ulterior_motive\",\"unlimited\",\"drive_wedge\",\"toast\",\"baseline\",\"clog\",\"overtly\",\"doubtful\",\"bonker\",\"asia\",\"swoop\",\"counsellor\",\"missing\",\"broccoli\",\"rag\",\"oversight\",\"formatting\",\"knowing\",\"unavailable\",\"aggravate\",\"validity\",\"breastmilk\",\"hiv\",\"punctuation\",\"recording\",\"heartfelt\",\"smartphone\",\"paternal\",\"dig_heel\",\"anorexic\",\"clickbait\",\"rapidly\",\"kicker\",\"broadcast\",\"raman\",\"workforce\",\"yuck\",\"creation\",\"ultra\",\"planned\",\"uptight\",\"complete_utter\",\"darn\",\"tenancy\",\"popularity\",\"debatable\",\"utilize\",\"singular\",\"envision\",\"deck\",\"barrel\",\"piv\",\"reprehensible\",\"edgelord\",\"flexibility\",\"stimulate\",\"10k\",\"unreasonably\",\"bathing_suit\",\"abbreviation\",\"magnitude\",\"surrounding\",\"monetary_value\",\"grieving_process\",\"accomodate\",\"\\ud83d\\udc4d\",\"courthouse\",\"ancestor\",\"false_pretense\",\"hoarder\",\"tack\",\"dedication\",\"mac\",\"overkill\",\"neuter\",\"corn\",\"porch\",\"agnostic\",\"curriculum\",\"pokemon\",\"obstacle\",\"hm\",\"\\\"this\",\"rapey\",\"20k\",\"premature\",\"chin\",\"whooping_cough\",\"april_fool\",\"untrained\",\"sixteen\",\"multitude\",\"ambitious\",\"obscure\",\"rsvp\",\"expressly\",\"ytathat\",\"rowdy\",\"ynta\",\"omnivore\",\"referral\",\"exclusion\",\"twitter\",\"ancestry\",\"professionalism\",\"string_attach\",\"disobey\",\"hometown\",\"saddle\",\"divorced\",\"x200b;&#x200b\",\"fallacy\",\"blurt\",\"doable\",\"holy_thou\",\"outlier\",\"leaving\",\"michael\",\"spiritual\",\"snub\",\"poisoning\",\"antibiotic\",\"inexpensive\",\"chaos\",\"80\",\"possess\",\"implicitly\",\"loophole\",\"failing\",\"heartache\",\"politically\",\"atrocious\",\"mansplaine\",\"homeowner\",\"colored\",\"judgy\",\"forfeit\",\"skim\",\"defer\",\"taunt\",\"snip\",\"orgy\",\"viral\",\"widely\",\"sanitary\",\"attendant\",\"justnomil\",\"clash\",\"deficiency\",\"lenient\",\"eating_habit\",\"eve\",\"unresolved\",\"eater\",\"pun_intend\",\"cuck\",\"shovel\",\"ineffective\",\"resistance\",\"manufacture\",\"chaotic\",\"micro\",\"million_dollar\",\"formally\",\"dressing\",\"obligatory\",\"proclaim\",\"petition\",\"misunderstood\",\"tracking\",\"ghetto\",\"entree\",\"significance\",\"financial_aid\",\"abstain\",\"insure\",\"nta.he\",\"dodgy\",\"closeness\",\"aw\",\"lousy\",\"june\",\"oops\",\"theoretically\",\"discredit\",\"soften\",\"sole_purpose\",\"middle_aged\",\"moms\",\"corporation\",\"roomate\",\"deodorant\",\"tactfully\",\"shorten\",\"placate\",\"island\",\"ytawhy\",\"poland\",\"assholeness\",\"d&d\",\"acknowledgement\",\"collective\",\"enrage\",\"diabete\",\"spontaneous\",\"dowry\",\"alarm_bell\",\"ntawhat\",\"lack_thereof\",\"polyamory\",\"uber_driver\",\"alpha\",\"investigation\",\"chicken_nugget\",\"left_lane\",\"non_existent\",\"allegedly\",\"temp\",\"stylist\",\"\\u2800_\\u2800_\\u2800_\\u2800\",\"penetrate\",\"cup_tea\",\"underrated\",\"hoop\",\"unemployment\",\"injustice\",\"rebound\",\"highly_unlikely\",\"tailor\",\"ny\",\"rephrase\",\"heinous\",\"strained\",\"throwaway_account\",\"preteen\",\"epitome\",\"variable\",\"yelp\",\"trample\",\"recipe_disaster\",\"$_10k\",\"juicy\",\"merge\",\"decorate\",\"lion\",\"waaaay\",\"nicu\",\"sidebar\",\"inconsistent\",\"continent\",\"agreed\",\"parallel\",\"clutch\",\"ambiguous\",\"metaphor\",\"vulnerability\",\"idc\",\"mrs\",\"discord\",\"nc\",\"secular\",\"uhhh\",\"unsettling\",\"catch_guard\",\"pickup\",\"unhinged\",\"advertising\",\"cocaine\",\"behold\",\"wee\",\"lounge\",\"bestie\",\"measurement\",\"map\",\"cynical\",\"kidnapping\",\"ohh\",\"gatekeeping\",\"rewarding\",\"fatherhood\",\"amen\",\"bowling\",\"impatient\",\"sexual_compatibility\",\"overthinke\",\"fishing\",\"sitcom\",\"passage\",\"dangle\",\"recruit\",\"watch?v_=\",\"faux_pas\",\"notoriously\",\"security_camera\",\"nuke\",\"boomer\",\"civility\",\"pharmacy\",\"controller\",\"hahahaha\",\"vein\",\"handed\",\"eshi\",\"magazine\",\"reap\",\"manual\",\"frugal\",\"qualm\",\"intensive\",\"ivy_league\",\"photography\",\"bankrupt\",\"encouraging\",\"harp\",\"south_america\",\"london\",\"interpersonal\",\"na\",\"criticise\",\"winning\",\"alike\",\"definetly\",\"hysterectomy\",\"indoctrination\",\"predicament\",\"george\",\"subtly\",\"belligerent\",\"dominant\",\"benign\",\"inject\",\"psychic\",\"sweaty\",\"feral\",\"semblance\",\"sunshine\",\"skinned\",\"fetal\",\"gullible\",\"ambulance\",\"hen\",\"gel\",\"40k\",\"5,000\",\"prolong\",\"righteous\",\"echo\",\"urban\",\"suite\",\"instrument\",\"indoctrinate\",\"rally\",\"karaoke\",\"capitalism\",\"juggle\",\"fascist\",\"distraught\",\"inflate\",\"stoop\",\"retract\",\"elite\",\"capital\",\"amuse\",\"squat\",\"enthusiasm\",\"strengthen\",\"unwell\",\"confederate_flag\",\"shotgun\",\"declaw\",\"charm\",\"budgeting\",\"rampant\",\"decently\",\"reputable\",\"graciously\",\"x.\",\"grievance\",\"terror\",\"controversy\",\"neckbeard\",\"summary\",\"fluent\",\"timely\",\"nitpick\",\"compulsive\",\"pa\",\"pseudo\",\"ummm\",\"healthily\",\"stipulation\",\"mud\",\"cold_shoulder\",\"lottery\",\"weave\",\"frivolous\",\"parameter\",\"scoop\",\"lapse\",\"enlighten\",\"fortune\",\"contractor\",\"kin\",\"times\",\"diffuse\",\"jeopardy\",\"unanimous\",\"oxygen\",\"boggle\",\"run_errand\",\"doesn\\u2019t\",\"fat_acceptance\",\"van\",\"zombie\",\"november\",\"suburb\",\"road_rage\",\"al\",\"exert\",\"undertone\",\"converse\",\"liking\",\"wisely\",\"touchy_subject\",\"misinformation\",\"transgression\",\"gaslit\",\"ross\",\"kat\",\"3/4\",\"preventable\",\"penalize\",\"deployment\",\"armed\",\"dependency\",\"gallon\",\"peek\",\"porn_star\",\"luggage\",\"render\",\"morale\",\"determination\",\"collapse\",\"condo\",\"chromosome\",\"vest\",\"unhelpful\",\"hater\",\"handler\",\"craigslist\",\"hoo\",\"euthanize\",\"definitive\",\"intentione\",\"chief\",\"odor\",\"goof\",\"welp\",\"upload\",\"fuckup\",\"cane\",\"gatekeep\",\"damned\",\"elementary\",\"unequal\",\"w/\",\"orient\",\"yeesh\",\"spade\",\"lust\",\"doggo\",\"guidance_counselor\",\"100,000\",\"companionship\",\"performer\",\"unsanitary\",\"recharge\",\"nta.but\",\"artificial\",\"miniature\",\"logistic\",\"scrap\",\"sperm_bank\",\"peacefully\",\"mobility\",\"shaving\",\"uproot\",\"streak\",\"amd\",\"brainer\",\"indifferent\",\"punk\",\"factually\",\"disparage\",\"yta.your\",\"dictionary\",\"equitable\",\"speaking\",\"tux\",\"ponytail\",\"\\ud83e\\udd37_\\u200d_\\u2640_\\ufe0f\",\"security_guard\",\"profusely\",\"arguing\",\"agony\",\"\\u28ff\",\"mop\",\"can\\u2019t\",\"unleash\",\"comedian\",\"fortnite\",\"revelation\",\"extortion\",\"revealing\",\"sleeper\",\"teachable_moment\",\"orphan\",\"laughing\",\"beta\",\"satan\",\"amazingly\",\"untreated\",\"tuck\",\"swimmer\",\"hallmark\",\"washing_machine\",\"bodily_fluid\",\"boxer\",\"cultivate\",\"tangible\",\"modification\",\"ntathey\",\"taking\",\"eyed\",\"overwhelm\",\"vicariously\",\"coordinate\",\"mood_swing\",\"skull\",\"scooter\",\"outbreak\",\"macho\",\"oddly\",\"extensive\",\"suprise\",\"involuntary\",\"interruption\",\"stalking\",\"concussion\",\"meal_prep\",\"|_abbreviation--\",\"kiddos\",\"reimbursement\",\"curry\",\"relocate\",\"crass\",\"endorse\",\"counterproductive\",\"ovary\",\"rescind\",\"david\",\"knot\",\"prospective\",\"corpse\",\"nursery\",\"checking\",\"line_sand\",\"cotton\",\"incur\",\"solicit\",\"reactive\",\"youre\",\"stingy\",\"3k\",\"adverse\",\"backseat\",\"won't\",\"abbreviation_bot_ignore\",\"reckon\",\"dope\",\"echo_chamber\",\"gift_giving\",\"parasite\",\"loved\",\"expertise\",\"essence\",\"crib\",\"eventual\",\"fox\",\"lyric\",\"batch\",\"farther\",\"mind_boggle\",\"foul\",\"nbd\",\"slang\",\"helper\",\"secrecy\",\"splurge\",\"spoilt\",\"sloppy\",\"following\",\"considerably\",\"pertinent\",\"insulted\",\"spreadsheet\",\"blink\",\"plague\",\"forest\",\"anecdotal\",\"sup\",\"addicted\",\"hopeless\",\"handout\",\"september\",\"fall_category\",\"mesh\",\"boarding\",\"radar\",\"timer\",\"drift\",\"sheep\",\"depressing\",\"doorstep\",\"manageable\",\"bracelet\",\"da\",\"moronic\",\"proximity\",\"jug\",\"motel\",\"cam\",\"disinvite\",\"ivy\",\"heh\",\"reliant\",\"irk\",\"sooner_later\",\"mourning\",\"discourse\",\"x_y_z\",\"x200b;if\",\"nutritional\",\"bolt\",\"wth\",\"squirrel\",\"intensely\",\"stiffe\",\"erect\",\"margin\",\"innocence\",\"c.\",\"circumcise\",\"receptionist\",\"keeping\",\"lest\",\"sip\",\"elect\",\"accommodating\",\"pumping\",\"relieved\",\"relive\",\"autism_spectrum\",\"anti_vax\",\"whatsapp\",\"medieval\",\"napkin\",\"avoidable\",\"drinker\",\"slam_door\",\"lactose\",\"intact\",\"bombard\",\"ness\",\"crayon\",\"spay\",\"champ\",\"tremendously\",\"memorialize\",\"speed_limit\",\"dependant\",\"mimic\",\"self_centre\",\"noon\",\"collectively\",\"slutty\",\"fatal\",\"transmit\",\"chose\",\"brunt\",\"sexually_compatible\",\"surrender\",\"survey\",\"vulgar\",\"fairy\",\"pro_con\",\"victory\",\"sheltered\",\"fabricate\",\"litter_box\",\"collateral\",\"militant\",\"thirsty\",\"hooker\",\"ifs\",\"humane\",\"tutorial\",\"arnt\",\"unlucky\",\"submissive\",\"dam\",\"neighbourhood\",\"wicked\",\"also-\",\"credential\",\"deteriorate\",\"picnic\",\"sophomore\",\"gravy\",\"placement\",\"unwillingness\",\"fearful\",\"stealing\",\"closing\",\"faulty\",\"arrival\",\"rile\",\"brunch\",\"squash\",\"shat\",\"irs\",\"february\",\"evident\",\"flatter\",\"overestimate\",\"actress\",\"acid\",\"artistic\",\"wouldn't\",\"reserved\",\"greed\",\"antiquated\",\"fidelity\",\"financially_stable\",\"veto_power\",\"bouncer\",\"surgical\",\"3.5\",\"60\",\"oop\",\"lobby\",\"catalyst\",\"jobless\",\"convincing\",\"barber\",\"promiscuous\",\"sterilize\",\"incapacitate\",\"bench\",\"abstract\",\"scarf\",\"kidding\",\"wrapper\",\"baking\",\"unfollow\",\"blindness\",\"hamburger\",\"blah_blah\",\"partying\",\"rearing\",\"driver_license\",\"midwife\",\"ye\",\"hyperbole\",\"sicken\",\"yta.she\",\"consenting\",\"friggin\",\"footage\",\"definitively\",\"hindu\",\"muffin\",\"masse\",\"detention\",\"outlandish\",\"ntaas\",\"seatbelt\",\"ste\",\"circus\",\"lego\",\"eternity\",\"muscle_mass\",\"r_amitheasshole_wiki\",\"facetime\",\"goddamne\",\"probable\",\"twitch\",\"trailer\",\"narrator\",\"misconstrue\",\"hentai\",\"retrospect\",\"sport_bra\",\"outwardly\",\"pearl\",\"savior\",\"bridal_shower\",\"blood_boil\",\"bun\",\"gem\",\"computer_science\",\"lurk\",\"potluck\",\"safety_net\",\"guac\",\"fece\",\"\\u201di\",\"activist\",\"news_flash\",\"nope_nope\",\"allocate\",\"ceiling\",\"resign\",\"innocently\",\"fred\",\"nicole\",\"hun\",\"drug_dealer\",\"proposition\",\"dull\",\"rider\",\"andy\",\"fiber\",\"unironically\",\"remorseful\",\"allude\",\"bummer\",\"malnourish\",\"passively\",\"networking\",\"isolation\",\"raise_eyebrow\",\"agressive\",\"tender\",\"non_confrontational\",\"checkout\",\"faculty\",\"chad\",\"brutally\",\"paper_trail\",\"peep\",\"impede\",\"overstep_bound\",\"royally\",\"submission\",\"upkeep\",\"abundantly_clear\",\"scramble\",\"ella\",\"tread\",\"utensil\",\"underneath\",\"tennis\",\"woe\",\"proudly\",\"law_enforcement\",\"lad\",\"dean\",\"skin_colour\",\"pander\",\"\\ud83d\\ude02_\\ud83d\\ude02_\\ud83d\\ude02\",\"zip\",\"feign\",\"birthing\",\"constructive_criticism\",\"hospitalize\",\"relay\",\"r_justnofamily\",\"personality_trait\",\"someplace\",\"booty\",\"ehhh\",\"moderator\",\"batshit\",\"verse\",\"nonsensical\",\"marines\",\"irregular\",\"itch\",\"unprepared\",\"waaaaay\",\"game_thrones\",\"climax\",\"appliance\",\"seeker\",\"steamroll\",\"unappreciated\",\"vanity\",\"divulge\",\"currency\",\"july\",\"nonstop\",\"km\",\"her-\",\"jones\",\"nugget\",\"blur\",\"chicago\",\"packet\",\"ladder\",\"bay\",\"gen\",\"loosen\",\"|\",\"misguide\",\"wink\",\"primary_caregiver\",\"headline\",\"annulment\",\"spam\",\"impartial\",\"imma\",\"metabolism\",\"procreate\",\"sugar_coat\",\"administrator\",\"endometriosis\",\"recover_alcoholic\",\"pierce\",\"detect\",\"tribe\",\"downvote_oblivion\",\"nicer\",\"gunna\",\"wikipedia\",\"$_500k\",\"cable\",\"dire\",\"rumour\",\"politician\",\"ergo\",\"carbs\",\"spousal\",\"handling\",\"printer\",\"fr\",\"lovingly\",\"vaginas\",\"korea\",\"volatile\",\"remainder\",\"formative\",\"exceed\",\"pricey\",\"wrench\",\"manipulation_tactic\",\"concentration\",\"lo\",\"genocide\",\"reconciliation\",\"moose\",\"stoner\",\"assuage\",\"castle\",\"sincere_apology\",\"optimistic\",\"dawn\",\"found\",\"dh\",\"financial_stability\",\"sketch\",\"derive\",\"clit\",\"election\",\"earshot\",\"damaged\",\"defensiveness\",\"reclaim\",\"self_preservation\",\"unreal\",\"diner\",\"afterthought\",\"typos\",\"runner\",\"alley\",\"aloud\",\"seafood\",\"restore\",\"cram\",\"x200b;it\",\"sexte\",\"rural_area\",\"mixed_race\",\"waitstaff\",\"dent\",\"aww\",\"appealing\",\"nigger\",\"dong\",\"piggyback\",\"gray_area\",\"friction\",\"eyebrow\",\"excusable\",\"portfolio\",\"eugenic\",\"discreetly\",\"antisocial\",\"thursday\",\"scalp\",\"prude\",\"pride_parade\",\"aids\",\"transitioning\",\"doggy\",\"status_quo\",\"respected\",\"wrestling\",\"antique\",\"chlamydia\",\"contexts\",\"pubic_hair\",\"electric_toothbrush\",\"forceful\",\"enlist\",\"russia\",\"adjective\",\"finding\",\"archaic\",\"50k\",\"cripple\",\"male_dominate\",\"rehearsal\",\"takeaway\",\"religiously\",\"sympathise\",\"tango\",\"st\",\"swallow_pride\",\"half_asse\",\"attacker\",\"luna\",\"extremist\",\"unloved\",\"mistrust\",\"jury\",\"beater\",\"inclusion\",\"madam\",\"tamper\",\"tally\",\"thot\",\"cuisine\",\"ingest\",\"phobic\",\"beautifully\",\"nta.the\",\"diplomatic\",\"micromanage\",\"reporter\",\"fafsa\",\"airbnb\",\"afaik\",\"mount\",\"ytaand\",\"ehh\",\"cooked\",\"knew\",\"depressive\",\"jet\",\"lobster\",\"devolve\",\"wedge\",\"discovery\",\"\\ud83e\\udd37\",\"sinner\",\"temptation\",\"judge_harshly\",\"bumper\",\"turmoil\",\"singer\",\"lemme\",\"displeasure\",\"oneself\",\"chronic_illness\",\"memento\",\"renter\",\"inspiration\",\"shark\",\"6th\",\"fella\",\"implied\",\"residential\",\"nappy\",\"anne\",\"accepting\",\"tan\",\"ovarian_cyst\",\"ocean\",\"r_thathappene\",\"pound_sand\",\"ethnically\",\"cooler\",\"tp\",\"melodramatic\",\"detective\",\"green_card\",\"foreigner\",\"allegation\",\"batshit_crazy\",\"adamantly\",\"pr\",\"becuase\",\"creator\",\"bargaining\",\"deploy\",\"rave\",\"wasteful\",\"voicemail\",\"profoundly\",\"cutting\",\"sincerity\",\"butterfly\",\"cutter\",\"dim\",\"aussie\",\"pencil\",\"scheduling\",\"bothered\",\"bumble\",\"visibility\",\"sephora\",\"patriarchy\",\"cant\",\"false_accusation\",\"interference\",\"housekeeping\",\"firsthand\",\"spur_moment\",\"schoolwork\",\"hunch\",\"desensitize\",\"brutally_honest\",\"generational\",\"loneliness\",\"crank\",\"sprinkle\",\"undeniably\",\"renew\",\"credible\",\"erection\",\"comp\",\"comb\",\"forgivable\",\"faux\",\"shush\",\"exceptional\",\"dom\",\"hah\",\"retreat\",\"spy\",\"lake\",\"seller\",\"strawberry\",\"foreskin\",\"shirtless\",\"8th_grade\",\"borderline_personality\",\"boast\",\"unjustified\",\"latina\",\"narc\",\"atlanta\",\"contrast\",\"oooh\",\"plot_twist\",\"amateur\",\"wallow\",\"betrayed\",\"irritation\",\"estrange\",\"prestigious\",\"reciprocation\",\"niche\",\"similarity\",\"breed_resentment\",\"md\",\"gripe\",\"assertion\",\"sd\",\"meetup\",\"trace\",\"reflect_poorly\",\"vehemently\",\"otoh\",\"jess\",\"witcher\",\"artwork\",\"unhygienic\",\"dysfunction\",\"critically\",\"sat\",\"faced\",\"\\ud83d\\ude05\",\"awe\",\"\\ud83d\\ude2d\",\"outraged\",\"horseshit\",\"pardon\",\"vigilant\",\"eshhe\",\"global\",\"caller\",\"frightening\",\"payout\",\"established\",\"northern\",\"r_pettyrevenge\",\"tread_carefully\",\"amusement\",\"sensation\",\"chronic_pain\",\"absurdly\",\"catcall\",\"asexuality\",\"\\\"the\",\"a+\",\"stiff\",\"unrealistic_expectation\",\"ldr\",\"cm\",\"locally\",\"feather\",\"germaphobe\",\"ss\",\"commendable\",\"footing\",\"mistress\",\"contraction\",\"uncertain\",\"x200b;also\",\"kkk\",\"data\",\"retroactively\",\"ntathere\",\"pave\",\"sinister\",\"ashe\",\"uncertain_term\",\"active_duty\",\"flour\",\"stellar\",\"social_media\",\"unequivocally\",\"attentive\",\"stir_pot\",\"ya'll\",\"laxative\",\"badmouth\",\"lethal\",\"latex\",\"shudder\",\"fag\",\"pls\",\"washroom\",\"grill_cheese\",\"corrupt\",\"academy\",\"jerry\",\"shenanigan\",\"introduction\",\"metric\",\"vocalize\",\"incite\",\"lowkey\",\"infront\",\"noun\",\"10x\",\"uninvolved\",\"kyle\",\"herd_immunity\",\"coma\",\"gram\",\"crippling\",\"hefty\",\"shortage\",\"rubber\",\"meddle\",\"construe\",\"hoard\",\"venmo\",\"biphobic\",\"forthcoming\",\"wbta\",\"audition\",\"harry_potter\",\"intrude\",\"seeing\",\"gm\",\"startle\",\"mac_cheese\",\"router\",\"shipping\",\"gestational\",\"catholic_church\",\"deep_breath\",\"hinge\",\"delight\",\"18th_birthday\",\"baseless\",\"underpaid\",\"vag\",\"thunder\",\"roomba\",\"positivity\",\"tap_shoulder\",\"'\",\"dice\",\"larry\",\"equity\",\"copy_paste\",\"farming\",\"selective\",\"prince\",\"gfm\",\"entrust\",\"baptize\",\"strawman\",\"/r_raisedbynarcissist\",\"natal\",\"timeframe\",\"/r_justnomil\",\"badge\",\"integrate\",\"soul_search\",\"temperament\",\"endeavor\",\"relevance\",\"betty\",\"buzz\",\"coherent\",\"unwritten\",\"amplify\",\"yta.this\",\"don\\u2018t\",\"yta.you're\",\"wwii\",\"tumor\",\"fascinating\",\"passover\",\"sufficiently\",\"fulfilling\",\"insightful\",\"messenger\",\"rock_boat\",\"hoodie\",\"uncontrollable\",\"tic\",\"reproduction\",\"repetitive\",\"aspire\",\"ytajust\",\"specialized\",\"tower\",\"withdrawal\",\"mandy\",\"spike\",\"carve\",\"holy_cow\",\"binary\",\"military_uniform\",\"pest\",\"behaved\",\"buckle\",\"lax\",\"hunter\",\"grovel\",\"refreshing\",\"inconvenienced\",\"attendee\",\"mainstream\",\"goat\",\"informal\",\"division_labor\",\"sleazy\",\"processing\",\"ntapeople\",\"willful\",\"file_complaint\",\"envious\",\"firefighter\",\"amicably\",\"ntanot\",\"probation\",\"vicinity\",\"avoidance\",\"mummy\",\"sos\",\"declaw_cat\",\"reel\",\"continued\",\"cellphone\",\"heater\",\"glory\",\"ntamy\",\"inflammatory\",\"jan\",\"millenial\",\"lieu\",\"offset\",\"snowball\",\"subscription\",\"verbatim\",\"caption\",\"nyu\",\"trained\",\"sexless\",\"negligible\",\"disruption\",\"ejaculate\",\"deceit\",\"mmm\",\"folder\",\"uninterrupted\",\"inequality\",\"grin\",\"limp\",\"prejudiced\",\"shockingly\",\"appetizer\",\"olympics\",\"facet\",\"instability\",\"screech\",\"1/10\",\"plantation\",\"free_reign\",\"territorial\",\"judge_judy\",\"dammit\",\"\\ud83d\\udea9\",\"harness\",\"scammer\",\"ac\",\"doctorate\",\"peed\",\"apathy\",\"narrow_minded\",\"iv\",\"cognitive_dissonance\",\"r_choosingbeggars\",\"nefarious\",\"envelope\",\"statutory_rape\",\"cafeteria\",\"unplanned_pregnancy\",\"videogame\",\"waiver\",\"middle_east\",\"urinal\",\"thirdly\",\"coping\",\"notebook\",\"downhill\",\"\\\"and\",\"essential_oil\",\"overpower\",\"gild\",\"marginalize\",\"locker\",\"taco_bell\",\"english_speaker\",\"turtle\",\"ammo\",\"compliance\",\"tiptoe\",\"mentally_unstable\",\"hollywood\",\"bundle\",\"relaxing\",\"nutritionist\",\"clumsy\",\"masturbating\",\"mosque\",\"confidential\",\"ding_ding_ding\",\"cold_sore\",\"affirm\",\"paste\",\"seduce\",\"academically\",\"nahif\",\"cucumber\",\"statute\",\"cordial\",\"amitheasshole\",\"conversely\",\"myriad\",\"burner\",\"starting\",\"4yo\",\"yall\",\"cognizant\",\"unsatisfied\",\"grate\",\"rewrite\",\"enrol\",\"hotline\",\"sweep_rug\",\"october\",\"reproductive_coercion\",\"halal\",\"streamer\",\"caffeine\",\"paris\",\"yr\",\"relinquish\",\"easier\",\"butcher\",\"monumental\",\"preclude\",\"seconded\",\"intersection\",\"attracted\",\"youtube_video\",\"ap\",\"misfortune\",\"republican\",\"regional\",\"bandwagon\",\"cervix\",\"rocket_science\",\"irresponsibility\",\"baker\",\"unflattering\",\"garner\",\"infantilize\",\"singing\",\"heed\",\"affirmation\",\"blocker\",\"drunkenly\",\"deficit\",\"evolution\",\"nee\",\"crusade\",\"misgender\",\"web\",\"susceptible\",\"horizon\",\"safeword\",\"microaggression\",\"pixie_cut\",\"ehs\",\"cultural_norm\",\"cluster\",\"dissolve\",\"vengeance\",\"clusterfuck\",\"nudge\",\"firing\",\"guacamole\",\"madison\",\"paycheck_paycheck\",\"thailand\",\"consciousness\",\"drum\",\"olive\",\"willy_nilly\",\"gregory\",\"innate\",\"lining\",\"vice\",\"snippy\",\"block_social_medium\",\"overwork\",\"this-\",\"boobs\",\"obv\",\"flush_tampon\",\"tread_lightly\",\"intellectually\",\"usher\",\"dote\",\"itchy\",\"ibs\",\"wean\",\"plural\",\"batman\",\"fertile\",\"middle_schooler\",\"biphobia\",\"distressed\",\"vigilante\",\"seize\",\"bracket\",\"disciplinary\",\"patrol\",\"thyroid\",\"capitalize\",\"7th\",\"agreeable\",\"rebellion\",\"blameless\",\"treatable\",\"vulva\",\"weasel\",\"secretive\",\"illusion\",\"100x\",\"protocol\",\"ink\",\"greek\",\"heating\",\"paraphrase\",\"deviate\",\"cyber\",\"bloke\",\"bravo\",\"eastern\",\"ntasound\",\"nta.you're\",\"amaze\",\"shouting\",\"massager\",\"claw\",\"veg\",\"ray\",\"\\\"i'm\",\"symbolic\",\"amusement_park\",\"afloat\",\"biracial\",\"signature\",\"specialty\",\"win_lottery\",\"density\",\"trendy\",\"bagel\",\"inexperience\",\"settlement\",\"unsympathetic\",\"martial_art\",\"tim\",\"sham\",\"unfold\",\"unprovoked\",\"continuous\",\"equivalence\",\"skeleton\",\"boston\",\"creative_writing\",\"certification\",\"strife\",\"marital_asset\",\"anti_vaxx\",\"youngest\",\"fixable\",\"e_mail\",\"stipulate\",\"indignant\",\"lisa\",\"unappreciative\",\"extra_curricular\",\"filipino\",\"olympic\",\"menstruation\",\"cyst\",\"r_relationshipadvice\",\"bakery\",\"conditioner\",\"shitbag\",\"vandalism\",\">_sub_submitter\",\"tipsy\",\"nonverbal\",\"molestation\",\"renovation\",\"growl\",\"witty\",\"transphobe\",\"invasion\",\"ma\",\"squish\",\"dresser\",\"defy\",\"waive\",\"sponsor\",\"plastic_surgery\",\"nagging\",\"erin\",\"false_equivalency\",\"hrt\",\"months\",\"waffle\",\"aback\",\"pamper\",\"patriarchal\",\"hose\",\"fluffy\",\"salt_wound\",\"reaffirm\",\"sitting\",\"public_transit\",\"anus\",\"lucrative\",\"pelvic\",\"socialise\",\"billy\",\"abruptly\",\"lace\",\"minecraft\",\"legend\",\"costly\",\"choosing\",\"engine\",\"repress\",\"rabbit_hole\",\"noticeably\",\"gym_membership\",\"condescension\",\"degenerate\",\"reassess\",\"flick\",\"pudding\",\"naw\",\"lipstick\",\"character_flaw\",\"overheard\",\"hipaa\",\"contention\",\"coal\",\"punching_bag\",\"cheesecake\",\"complexity\",\"inventory\",\"soo\",\"ytaso\",\"weirdness\",\"organ_donation\",\"detract\",\"fourteen\",\"dumpster_diving\",\"respectively\",\"advancement\",\"accustomed\",\"shoplift\",\"fiddle\",\"chaperone\",\"ammunition\",\"originate\",\"placenta\",\"wack\",\"trespassing\",\"arguement\",\"hamper\",\"undesirable\",\"opposition\",\"shitload\",\"purge\",\"complement\",\"observer\",\"banking\",\"daylight\",\"resistant\",\"nsfw\",\"statistical\",\"nutritionally\",\"nah.you\",\"trey\",\"yta.the\",\"palette\",\"avocado\",\"antagonistic\",\"unworthy\",\"productivity\",\"native_americans\",\"robbery\",\"willfully_ignorant\",\"shirk\",\"forge\",\"stepkid\",\"availability\",\"vodka\",\"vengeful\",\"dear_lord\",\"topping\",\"cupboard\",\"powder\",\"philosophical\",\"spina_bifida\",\"flare\",\"resonate\",\"crucify\",\"metoo\",\"r_choosingbeggar\",\"mediation\",\"eagle\",\"arousal\",\"fad\",\"squabble\",\"flying\",\"girls\",\"retribution\",\"hurl\",\"slot\",\"babysat\",\"falsely_accuse\",\"scripture\",\"cleanup\",\"jog\",\"entertaining\",\"antic\",\"devoted\",\"egg_hunt\",\"fussy\",\"hideous\",\"flesh_blood\",\"misophonia\",\"packed\",\"conflicting\",\"ole\",\"toiletry\",\"bipolar_disorder\",\"withholding\",\"ytahow\",\"payback\",\"9th\",\"progression\",\"lotta\",\"9:30\",\"greasy\",\"prevail\",\"gas_lighting\",\"swell\",\"editing\",\"heavy_lifting\",\"peanut_allergy\",\"preferential_treatment\",\"nta.i'm\",\"esh.you\",\"inquire\",\"grandad\",\"amp\",\"nah.i\",\"flashback\",\"audiobook\",\"blackface\",\"mope\",\"tourette\",\"profound\",\"fond_memory\",\"enthusiast\",\"gameboy\",\"domain\",\"vilify\",\"coping_skill\",\"vendor\",\"emily\",\"inspect\",\"ps4\",\"thick_skin\",\"warp\",\"ytafor\",\"considerable\",\"downtime\",\"lighting\",\"que\",\"preachy\",\"gatekeeper\",\"xx\",\"tempting\",\"hatch\",\"hairdresser\",\"eavesdrop\",\"ntawhy\",\"greeting\",\"prod\",\"rattle\",\"commentor\",\"tee\",\"overreacted\",\"catfish\",\"estrogen\",\"explosive\",\"taker\",\"royal\",\"\\ud83d\\ude01\",\"pleasurable\",\"subsequently\",\"funniest\",\"lineage\",\"nahyou're\",\"subset\",\"ford\",\"cheesy\",\"defeat_purpose\",\"pompous\",\"strangely\",\"polar\",\"outgoing\",\"guardianship\",\"persona\",\"aren't\",\"drift_apart\",\"jelly\",\"exponentially\",\"modicum\",\"peach\",\"glimpse\",\"discrepancy\",\"figuratively\",\"seethe\",\"remarried\",\"switzerland\",\"blackout\",\"efficiently\",\"excel\",\"normalized\",\"bypass\",\"deport\",\"foresight\",\"deli\",\"shrimp\",\"oreos\",\"shitstorm\",\"fried\",\"spanking\",\"outward\",\"desperation\",\"thrift_store\",\"positive_reinforcement\",\"tmi\",\"procrastinate\",\"slimy\",\"preemptively\",\"enact\",\"evangelical\",\"spread_rumor\",\"frog\",\"fundamentalist\",\"revert\",\"indirect\",\"midst\",\"commit_fraud\",\"jade\",\"worrisome\",\"rubbish\",\"idgaf\",\"lamb\",\"bland\",\"programmer\",\"z\",\"sucks\",\"ingrained\",\"air_mattress\",\"listening\",\"mistakenly\",\"spending_habit\",\"alienated\",\"tweet\",\"attest\",\"sign_birth_certificate\",\"it\\u2018s\",\"outgrow\",\"smother\",\"il\",\"wheat\",\"minimise\",\"yeast_infection\",\"precise\",\"claws\",\"\\\"so\",\"michael_scott\",\"port\",\"greece\",\"premarital\",\"disproportionately\",\"profanity\",\"chauffeur\",\"constant_reminder\",\"swollen\",\"realm_possibility\",\"homo\",\"biggie\",\"busybody\",\"ytaa\",\"clitoris\",\"codependent\",\"whale\",\"scoff\",\"inkling\",\"accepted\",\"notorious\",\"dying\",\"tutoring\",\"reap_sow\",\"glorious\",\"isis\",\"calculator\",\"quirky\",\"wayyy\",\"situational\",\"bowel\",\"revolt\",\"gimme\",\"dumpster_fire\",\"incase\",\"disturbance\",\"payday_loan\",\"mph\",\"oppressive\",\"hurting\",\"hawk\",\"dehumanize\",\"shite\",\"widespread\",\"critical_thinking\",\"lengthy\",\"snooping\",\"marrying\",\"visceral\",\"staying\",\"superhero\",\"kate\",\"ensue\",\"lactation\",\"tummy\",\"stole\",\"cuckold\",\"eric\",\"airsoft\",\"disposal\",\"publicity\",\"ytayou\\u2019re\",\"nahthis\",\"mediate\",\"tug\",\"stepchild\",\"responder\",\"ohhh\",\"gush\",\"singapore\",\"sadden\",\"circlejerk\",\"1000x\",\"characterize\",\"helping\",\"blowjobs\",\"\\\"she\",\"consultation\",\"anguish\",\"filth\",\"10th\",\"helmet\",\"foodie\",\"goblin\",\"troublesome\",\"sickly\",\"effectiveness\",\"final_straw\",\"substantially\",\"predominantly\",\"motherly\",\"pajama\",\"reflective\",\"harm_foul\",\"rehabilitate\",\"managerial\",\"estranged\",\"swift\",\"rhetorical\",\"concur\",\"auntie\",\"henry\",\"gambling\",\"organized\",\"unavoidable\",\"immaturely\",\"vapid\",\"platinum\",\"painfully_obvious\",\"ditto\",\"shaky\",\"whiskey\",\"\\\"but\",\"yield\",\"spain\",\"undue\",\"begrudge\",\"motivator\",\"ntaa\",\"slag\",\"interracial\",\"smoking_drinking\",\"latin\",\"ecstatic\",\"species\",\"apathetic\",\"dandy\",\"urinate\",\"overshadow\",\"liz\",\"rightful\",\"lactose_intolerant\",\"nahyour\",\"ship_sail\",\"him-\",\"terrorize\",\"\\ud83d\\udc4c\",\"chump\",\"thats\",\"unnatural\",\"swearing\",\"dysmorphia\",\"unconsciously\",\"unsupervised\",\"serial_cheater\",\"quieter\",\"brad\",\"pagan\",\"stepchildren\",\"showering\",\"digest\",\"mra\",\"defuse\",\"secondhand\",\"enthusiastically\",\"warrior\",\"homemaker\",\"flimsy\",\"skype\",\"undiagnose\",\"honorable\",\"nuanced\",\"nonbinary\",\"adjacent\",\"downgrade\",\"adolescence\",\"extraordinarily\",\"memo\",\"judaism\",\"sugarcoat\",\"ianal\",\"nosey\",\"stre\",\"ytadon't\",\"illegal_eviction\",\"70\",\"marker\",\"grease\",\"automod\",\"mistreatment\",\"didn\\u2019t\",\"sufferer\",\"ytabut\",\"lied\",\"negative_connotation\",\"onset\",\"loli\",\"mexicans\",\"3d\",\"mutilation\",\"prostate\",\"outdoors\",\"reframe\",\"personnel\",\"white_knighting\",\"exploration\",\"victoria\",\"affirmative\",\"sec\",\"haired\",\"compelling\",\"eighteen\",\"disqualify\",\"thirteen\",\"irreparably\",\"reporting\",\"stride\",\"nb\",\"activate\",\"brew\",\"\\u28e4\",\"hugging\",\"competitor\",\"communicative\",\"bent_shape\",\"\\u28c0\",\"lens\",\"cold_hearted\",\"forcefully\",\"masseuse\",\"kg\",\"^|\",\"recreational\",\"epilepsy\",\"classist\",\"shouldn't\",\"pepperoni_pizza\",\"accumulate\",\"painkiller\",\"liner\",\"cushion\",\"superiority_complex\",\"\\\"hey\",\"rebellious\",\"outdate\",\"trump_supporter\",\"bathtub\",\"yata\",\"isle\",\"services\",\"spectacle\",\"laser\",\"grape\",\"ramble\",\"serial\",\"integral\",\"ytadude\",\"emoji\",\"splash\",\"boo_hoo\",\"\\u281b\",\"poke_hole\",\"intensity\",\"selectively\",\"pp\",\"99.9\",\"foreseeable_future\",\"bullet_dodge\",\"bite_tongue\",\"emasculate\",\"felon\",\"pancake\",\"friendzone\",\"fighter\",\"incomplete\",\"punchline\",\"keychain\",\"cocky\",\"schizophrenia\",\"jizz\",\"tirade\",\"immunity\",\"concerning\",\"affluent\",\"prisoner\",\"capture\",\"curly\",\"rein\",\"femininity\",\"smirk\",\"freeload\",\"raising\",\"unclean\",\"mow\",\"swastika\",\"giving\",\"zero_tolerance\",\"patiently\",\"mediator\",\"tenth\",\"grooming\",\"jk\",\"parrot\",\"ing\",\"quotation\",\"flack\",\"sadistic\",\"pda\",\"numb\",\"ahhh\",\"goodness_sake\",\"rotate\",\"potty_train\",\"freakin\",\"solidly\",\"hustle\",\"abrasive\",\"beverage\",\"diss\",\"sorrow\",\"fulfillment\",\"ngl\",\"idiocy\",\"crumble\",\"cyclist\",\"compulsion\",\"euthanasia\",\"nerdy\",\"embellish\",\"nicotine\",\"pertain\",\"voucher\",\"carbon\",\"knuckle\",\"roller_coaster\",\"elevate\",\"maul\",\"programming\",\"costco\",\"ear_plug\",\"viewing\",\"sweden\",\"assholishness\",\"optimal\",\"intimately\",\"sayin\",\"jointly\",\"collector\",\"knob\",\"harvest\",\"simplify\",\"justnoso\",\"conflicted\",\"watermelon\",\"openness\",\"ostensibly\",\"compose\",\"nerf_gun\",\"assurance\",\"sidenote\",\"jackie\",\"jake\",\"digestive\",\"memorable\",\"gallery\",\"vaginismus\",\"unmarried\",\"opera\",\"accountant\",\"transmission\",\"casino\",\"hardworking\",\"endlessly\",\"semen\",\"tote\",\"coparent\",\"existing\",\"disinterest\",\"behavioural\",\"here-\",\"testicle\",\"hyperbolic\",\"flush_toilet\",\"crude\",\"sweeping\",\"vitriol\",\"supremely\",\"subordinate\",\"crab\",\"friends\",\"devout\",\"overdramatic\",\"playstation\",\"lgbtq_community\",\"catty\",\"contradictory\",\"morbid\",\"barking\",\"picking\",\"contaminate\",\"affront\",\"hurdle\",\"goer\",\"heaven_forbid\",\"roleplay\",\"licensed\",\"vietnam\",\"organic\",\"bandaid\",\"menopause\",\"renege\",\"sanctimonious\",\"poisonous\",\"educated\",\"tube_tie\",\"pervasive\",\"toothpaste\",\"ranking\",\"hopeful\",\"25k\",\"gummie\",\"oz\",\"satire\",\"proposing\",\"swimwear\",\"daft\",\"recycling\",\"compromising\",\"cremate\",\"disgustingly\",\"sow\",\"circumvent\",\"blare\",\"infinite\",\"rude_awakening\",\"chronically\",\"here**|**esh****no_hole\",\"portrait\",\"facade\",\"logo\",\"skate\",\"influencer\",\"nintendo\",\"revenue\",\"uncertainty\",\"impaired\",\"novelty\",\"metro\",\"sideline\",\"nahshe\",\"conflict_resolution\",\"fraught\",\"omfg\",\"simulate\",\"complaining\",\"constitution\",\"nickel\",\"laura\",\"motor\",\"inflexible\",\"josh\",\"detector\",\"x200b;the\",\"almond\",\"noooo\",\"|_--:**you're\",\"goad\",\"waltz\",\"treadmill\",\"scissor\",\"dept\",\"unprotecte\",\"kevin\",\"sling\",\"chronically_ill\",\"mustache\",\"incompetence\",\"gray\",\"audio_book\",\"power_imbalance\",\"uneven\",\"uninterested\",\"staple\",\"devotion\",\"consolation\",\"homelessness\",\"topless\",\"raid\",\"altercation\",\"karate\",\"mole\",\"afro\",\"habitually\",\"obscene\",\"tuna\",\"60k\",\"pirate\",\"party_|**nta****everyone_sucks\",\"gloat\",\"greg\",\"dough\",\"|**yta**|you're_hole\",\"\\ud83e\\udd37_\\u200d_\\u2642_\\ufe0f\",\"couldn't\",\"spoiler_alert\",\"pursuit\",\"opiate\",\"ponder\",\"customary\",\"emulate\",\"forgave\",\"exes\",\"ytafirst\",\"cervical_cancer\",\"blowback\",\"frickin\",\"publically\",\"unhappiness\",\"guinea_pig\",\"21st\",\"shrine\",\"infoi\",\"esh.your\",\"nephews\",\"practitioner\",\"cooperate\",\"plumbing\",\"veer\",\"respite\",\"idle\",\"ram\",\"sub_submitter\",\"zipper\",\"testament\",\"wiggle\",\"morally_superior\",\"relentlessly\",\"dawg\",\"extort\",\"counterpoint\",\"surveillance\",\"cremation\",\"breeding\",\"alice\",\"bulimic\",\"digit\",\"insensitivity\",\"toughen\",\"dubious\",\"nye\",\"handmade\",\"lifelong_commitment\",\"urgency\",\"prominent\",\"ableist\",\"tracker\",\"rounded\",\"dupe\",\"quest\",\"decidedly\",\"beth\",\"teeny\",\"fame\",\"generously\",\"tailgate\",\"homeschool\",\"lee\",\"extrapolate\",\"blacklist\",\"intolerable\",\"purity\",\"imperative\",\"bloodline\",\"vanish\",\"cliff\",\"infancy\",\"cus\",\"platter\",\"unpopularopinion\",\"finite\",\"lighthearted\",\"years\",\"hours\",\"waaay\",\"mileage\",\"jeweler\",\"super_duper\",\"repost\",\"merry\",\"angst\",\"outstanding\",\"taylor\",\"pre_nup\",\"ranch\",\"cheeseburger\",\"completly\",\"hail\",\"cf\",\"backpacking\",\"jenny\",\"imagery\",\"douchy\",\"emt\",\"conversational\",\"sunscreen\",\"unwise\",\"reinforcement\",\"explosion\",\"peeve\",\"dole\",\"perfection\",\"privy\",\"irreparable_damage\",\"uncare\",\"jeep\",\"powerless\",\"\\u2764\",\"blue_collar\",\"weaponize\",\"unfriend\",\"cig\",\"roman\",\"labia\",\"carte_blanche\",\"bachelorette\",\"priceless\",\"midwest\",\"mia\",\"that-\",\"cold_turkey\",\"broach\",\"wart\",\"newfound\",\"lapdance\",\"coexist\",\"balcony\",\"blown\",\"washer_dryer\",\"getaway\",\"eternal\",\"paramount\",\"thc\",\"monopoly\",\"socialization\",\"absentee\",\"parole\",\"drool\",\"shaft\",\"erode\",\"halt\",\"bo\",\"romeo_juliet\",\"poker\",\"fairy_tale\",\"foresee\",\"veil\",\"deathbed\",\"underhanded\",\"distinctly\",\"vandalize\",\"futon\",\"sooner\",\"boycott\",\"retort\",\"choir\",\"proverbial\",\"bmw\",\"\\\\^\",\"wrinkle\",\"segregate\",\"salesman\",\"tarantula\",\"feud\",\"hindsight_20/20\",\"ant\",\"denigrate\",\"liberty\",\"plaster\",\"constitute_emergency\",\"venting\",\"barbie\",\"champagne\",\"robin\",\"hover\",\"yta.not\",\"therefor\",\"fandom\",\"harrassment\",\"disprove\",\"iceberg\",\"ordinance\",\"axe\",\"decompress\",\"soapbox\",\"ego_boost\",\"descriptor\",\"summon\",\"woulda\",\"\\u2800_\\u2800\",\"x200b;that\",\"pushing\",\"ninja\",\"micro_aggression\",\"monitoring\",\"remarkably\",\"upward\",\"boredom\",\"peel\",\"weeks\",\"broach_subject\",\"lavish\",\"redundant\",\"sperm_donation\",\"tide\",\"anonymity\",\"zealand\",\"states\",\"neurotic\",\"whew\",\"dialysis\",\"squarely\",\"humblebrag\",\"aryan\",\"acre\",\"hangover\",\"fo\",\"opponent\",\"miserably\",\"infraction\",\"autoimmune\",\"faq](https://www.reddit.com_r_amitheasshole\",\"relaxation\",\"manic\",\"questioning\",\"soulmate\",\"celibate\",\"evil_stepmother\",\"peddle\",\"contentious\",\"invite_julia\",\"rapid\",\"purity_ball\",\"soooooo\",\"\\\"you're\",\"libel\",\"doxxe\",\"sugary\",\"dms\",\"et\",\"reluctantly\",\"interestingly\",\"therapeutic\",\"startup\",\"accounting\",\"macbook\",\"leather\",\"fabulous\",\"hahah\",\"unplanned\",\"miff\",\"thorough\",\"perishable\",\"tifu\",\"moral_dilemma\",\"delegate\",\"homeschooling\",\"synthetic\",\"consolation_prize\",\"\\u2122\",\"android\",\"ha_ha\",\"ofcourse\",\"gofundme\",\"ash\",\"cheque\",\"ons\",\"loom\",\"heroic\",\"scorched_earth\",\"chick_fil\",\"spoken\",\"\\u2836\",\"mockery\",\"banner\",\"unprotected\",\"playfully\",\"ytaalso\",\"percentile\",\"salvation\",\"adrenaline\",\"govern\",\"shepherd\",\"timmy\",\"hilariously\",\"receiver\",\"celiac\",\"\\u2800_\\u2800_\\u2800\",\"\\u28ff_\\u28ff\",\"buisness\",\"stepbrother\",\"rekindle\",\"enclose\",\"mini_fridge\",\"reversible\",\"snappy\",\"imbecile\",\"flea\",\"jay\",\"debit_card\",\"prorevenge\",\"ambush\",\"dvd\",\"comma\",\"transparency\",\"outcast\",\"ploy\",\"sarcastically\",\"pete\",\"monthly_payment\",\"4.0\",\"homewrecker\",\"testify\",\"lizard\",\"bankruptcy\",\"calculation\",\"presumption\",\"grabby\",\"tiresome\",\"pepper_spray\",\"r_iamverybadass\",\"\\ud83d\\udc4f_\\ud83d\\udc4f\",\"dv\",\"murderedbyword\",\"pathway\",\"preposterous\",\"reconnecte\",\"symbolize\",\"mysterious\",\"shitposte\",\"antidepressant\",\"mannered\",\"shuffle\",\"executor\",\"surcharge\",\"segregation\",\"indians\",\"nana\",\"french_fry\",\"suffocate\",\"caterer\",\"buff\",\"formality\",\"yt\",\"non_negotiable\",\"gyno\",\"pornhub\",\"instinctively\",\"minefield\",\"womens\",\"audio\",\"snobby\",\"attached\",\"hanging\",\"cannabis\",\"charger\",\"reversal\",\"flirtatious\",\"pixie\",\"petite\",\"hump\",\"8-year\",\"threatened\",\"decor\",\"overblown\",\"index\",\"blogger\",\"concise\",\"louisiana\",\"^^^^automod_copy\",\"denomination\",\"extensively\",\"nail_coffin\",\"faint\",\"stoic\",\"shocker\",\"punitive\",\"protector\",\"favouritism\",\"spectator\",\"sentient\",\"21st_century\",\"profess\",\"aspergers\",\"altruistic\",\"cavalier\",\"rake\",\"crumb\",\"le\",\"lone\",\"impending\",\"dyslexia\",\"freshly\",\"turner\",\"visually\",\"ob_gyn\",\"categorically\",\"pledge\",\"\\u00b0\",\"gd\",\"unempathetic\",\"informative\",\"interviewer\",\"socially_inept\",\"wayyyy\",\"expecting\",\"music_festival\",\"teddy_bear\",\"downer\",\"cutoff\",\"refrigerator\",\"linda\",\"particle\",\"catholicism\",\"neurological\",\"confidently\",\"title_misleading\",\"overrule\",\"mit\",\"steel\",\"askreddit\",\"repressed\",\"patronising\",\"crunch\",\"actuality\",\"organisation\",\"rocket\",\"usd\",\"bedside\",\"crossing\",\"beck\",\"recur\",\"luke\",\"reluctance\",\"backtrack\",\"criminally\",\"dislikes\",\"perv\",\"portuguese\",\"den\",\"handwritten\",\"spotless\",\"shortcoming\",\"premeditate\",\"implore\",\"duplicate\",\"\\\"he\",\"inhumane\",\"middle_eastern\",\"stroke_ego\",\"maga\",\"platonically\",\"encroach\",\"reform\",\"suburban\",\"brit\",\"smarter\",\"businessman\",\"seated\",\"preferred_pronoun\",\"critic\",\"apologist\",\"quack\",\"hyperemesis\",\"unintended\",\"burial\",\"spontaneously\",\"jeans\",\"godmother\",\"oversensitive\",\"inspector\",\"stanford\",\"gran\",\"cbd\",\"r_iamverysmart\",\"scammed\",\"frightened\",\"mortality_rate\",\"mis\",\"physiological\",\"ftfy\",\"overeat\",\"photo_album\",\"madness\",\"rationality\",\"barn\",\"baffling\",\"beg_forgiveness\",\"scrapbook\",\"backward\",\"monopolize\",\"stifle\",\"multiply\",\"16-year\",\"glitter\",\"here**|**nah****not\",\"mma\",\"inferiority\",\"hollow\",\"sleepy\",\"spooning\",\"pis\",\"blab\",\"npd\",\"los\",\"absurdity\",\"nta.as\",\"maximize\",\"mint\",\"african_american\",\"booking\",\"preventative\",\"photoshop\",\"recreate\",\"200k\",\"metaphorically\",\"3.0\",\"stunning\",\"thai\",\"transform\",\"valentines\",\"constructively\",\"boxing\",\"flip_flop\",\"20-year\",\"reign\",\"ohio\",\"conventional\",\"lotto\",\"squatter\",\"creativity\",\"torn\",\"unapologetic\",\"memorize\",\"plea\",\"undie\",\"shortsighted\",\"obvs\",\"sixth\",\"knows\",\"signify\",\"muh\",\"deplorable\",\"robe\",\"quota\",\"to\",\"mono\",\"diagnosed\",\"exs\",\"30th\",\"authentic\",\"overpriced\",\"autonomous\",\"digress\",\"caricature\",\"1:1\",\"subtract\",\"redo\",\"holder\",\"fulltime\",\"sprint\",\"intuition\",\"irritable\",\"strangle\",\"italians\",\"ntaso\",\"judging\",\"tarnish\",\"enforceable\",\"single_handedly\",\"fog\",\"pms\",\"nta.that\",\"insomnia\",\"posture\",\"wasn't\",\"affiliation\",\"ring_doorbell\",\"purposeful\",\"inclination\",\"uphill\",\"gp\",\"arbitrarily\",\"dual\",\"nonexistent\",\"catastrophic\",\"ketchup\",\"slipper\",\"steep\",\"arthritis\",\"ron\",\"flaccid\",\"moving\",\"amber\",\"tasteless\",\"societal_norm\",\"matching\",\"minuscule\",\"hungover\",\"profitable\",\"arbiter\",\"biscuit\",\"precede\",\"euphemism\",\"firework\",\"biting\",\"systemic\",\"\\ud83c\\udffc\",\"od\",\"de_facto\",\"adam\",\"intimidation\",\"panel\",\"\\ud83d\\ude2c\",\"undergraduate\",\"iota\",\"civic\",\"duress\",\"fedora\",\"seep\",\"apple_orange\",\"\\u201dthat\",\"deathly\",\"innocent_bystander\",\"momentary\",\"pathological\",\"way-\",\"buffet\",\"isolated_incident\",\"recoup\",\"plethora\",\"goalpost\",\"inaction\",\"googling\",\"overt\",\"nigerian\",\"parental_alienation\",\"\\ud83d\\ude09\",\"pimp\",\"charade\",\"comforting\",\"ohhhh\",\"rollercoaster\",\"judgey\",\"sliver\",\"roofie\",\"whiney\",\"pint\",\"poem\",\"simplistic\",\"ww2\",\"copper_iud\",\"eyesight\",\"wishy_washy\",\"gynecologist\",\"slew\",\"nta.and\",\"infowhy\",\"seeking\",\"microphone\",\"idolize\",\"licence\",\"fondly\",\"starvation\",\"gist\",\"proactively\",\"canoe\",\"unicef\",\"20,000\",\"avail\",\"suspiciously\",\"speeding\",\"sara\",\"justno\",\"expend\",\"disallow\",\"\\u201dit\",\"modesty\",\"brexit\",\"impairment\",\"reside\",\"messaging\",\"vegetarianism\",\"politics\",\"aggressor\",\"blond\",\"divert\",\"sponge\",\"lulu\",\"ultra_conservative\",\"almond_milk\",\"scandalous\",\"15-year\",\"jumping\",\"footstep\",\"wacky\",\"bicycle\",\"fluff\",\"palm\",\"deductible\",\"\\ud83e\\udd37_\\ud83c\\udffb\\u200d\",\"trans-\",\"discern\",\"coincide\",\"4x\",\"rupture\",\"usb\",\"appoint\",\"rationalization\",\"merchandise\",\"clutter\",\"hoarding\",\"overload\",\"await\",\"farmer\",\"fess\",\"repugnant\",\"islamic\",\"rigorous\",\"coz\",\"sweatpant\",\"detergent\",\"recycle\",\"provision\",\"dyslexic\",\"perpetually\",\"brock\",\"woodwork\",\"aforementioned\",\"almanac\",\"amendment\",\"joey\",\"colorado\",\"craze\",\"defenseless\",\"advocacy\",\"tolerable\",\"radically\",\"muscular\",\"negge\",\"verbalize\",\"cooker\",\"stale\",\"don\",\"dependence\",\"cheeky\",\"cheapskate\",\"gutte\",\"leer\",\"confidentiality\",\"outer\",\"genre\",\"bouquet\",\"shriek\",\"flaky\",\"fairytale\",\"interrogate\",\"obama\",\"ingrown\",\"exec\",\"bliss\",\"smth\",\"faq\",\"abnormality\",\"yta.first\",\"t.\",\"ballistic\",\"wreak_havoc\",\"virtue_signal\",\"puff\",\"mothers\",\"adjusted\",\"iata\",\"tryna\",\"contingent\",\"relentless\",\"scatter\",\"trusted\",\"severance\",\"quid\",\"bummed\",\"doorknob\",\"memorabilia\",\"knee_jerk\",\"robyn_f.\",\"cinderella\",\"ntadon't\",\"obnoxiously\",\"2,000\",\"vacuum_cleaner\",\"conditioning\",\"inhibition\",\"iced\",\"misbehaving\",\"selling\",\"burnout\",\"manually\",\"coordinator\",\"throne\",\"deter\",\"reminisce\",\"cancellation\",\"easter_egg_hunt\",\"longtime\",\"star_wars\",\"deduct\",\"buzzword\",\"5'10\",\"mutation\",\"panicked\",\"overdue\",\"farting\",\"tunnel\",\"unusually\",\"ahold\",\"recoil\",\"statue\",\"ntafirst\",\"disrespectfully\",\"nah.it\",\"robert\",\"pam\",\"pragmatic\",\"tshirt\",\"band_aid\",\"flavour\",\"blood_clot\",\"renee\",\"opener\",\"bobby\",\"functionally\",\"mailbox\",\"magnet\",\"checkup\",\"contingency\",\"contrary_popular\",\"fracture\",\"disagreeing\",\"glaring\",\"bulb\",\"bogus\",\"dishearten\",\"leniency\",\"bid\",\"snotty\",\"snot\",\"nightly\",\"outset\",\"invoice\",\"booster\",\"traumatise\",\"6-year\",\"pine\",\"formal_attire\",\"thay\",\"thrilled\",\"descend\",\"insufficient\",\"painless\",\"cringeworthy\",\"dc\",\"inpatient\",\"dismissal\",\"disloyal\",\"inspection\",\"sterilization\",\"waking\",\"ow\",\"lure\",\"moderately\",\"rookie\",\"habitual\",\"surefire\",\"og\",\"8th\",\"i\\u2018m\",\"bonnie\",\"share&utm_medium\",\"owl\",\"supper\",\"fh\",\"smartass\",\"pretense\",\"rick\",\"nutshell\",\"lookout\",\"claire\",\"pendant\",\"scotland\",\"soil\",\"pitchfork\",\"exclusionary\",\"harmony\",\"rom_com\",\"disapproval\",\"sac\",\"gymnast\",\"sparkle\",\"excruciating\",\"trusting\",\"clone\",\"squad\",\"prolly\",\"nta.my\",\"humble_brag\",\"stereotypically\",\"muzzle\",\"ingrain\",\"arizona\",\"optic\",\"tighten\",\"tl_dr\",\"breeze\",\"refugee\",\"refusing\",\"illegitimate\",\"filing\",\"welcoming\",\"mismatch\",\"caucasian\",\"transgenderism\",\"complexion\",\"daytime\",\"goth\",\"empowerment\",\"warranty\",\"icing\",\"beware\",\"gossipy\",\"indigenous\",\"70/30\",\"broom\",\"stunted\",\"diving\",\"staggering\",\"icy\",\"recount\",\"3yo\",\"expected\",\"youtuber\",\"misbehavior\",\"declaration\",\"vibration\",\"transpire\",\"thinly\",\"sterile\",\"butch\",\"f*ck\",\"eshthe\",\"plop\",\"april_fools\",\"belittling\",\"bi_erasure\",\"investigator\",\"plow\",\"o.o\",\"xenophobic\",\"totesmessenger\",\"paying\",\"traction\",\"flashy\",\"pea\",\"whining\",\"stoke\",\"disintereste\",\"irreversible\",\"victim_blaming\",\"p.s\",\"ime\",\"eshit\",\"incoming\",\"scratching\",\"humorous\",\"depending\",\"snide_remark\",\"aye\",\"dietician\",\"alas\",\"compliant\",\"fragile_masculinity\",\"baked\",\"irreplaceable\",\"ymmv\",\"swedish\",\"pt\",\"infowhat\",\"shag\",\"uncomfortably\",\"objectifying\",\"stomping\",\"ntaalso\",\"replicate\",\"heartedly\",\"waddle\",\"gourmet\",\"solace\",\"diagnostic\",\"depict\",\"insertion\",\"saggy\",\"mixture\",\"swinge\",\"testicular\",\"olive_branch\",\"stag\",\"despair\",\"18-year\",\"druggie\",\"tubal_ligation\",\"stereo\",\"trader\",\"maniac\",\"catholics\",\"hg\",\"pricing\",\"incidentally\",\"utero\",\"park_ranger\",\"ntatell\",\"alzheimer\",\"omission\",\"jest\",\"b12\",\"cosign\",\"nightclub\",\"dicke\",\"hierarchy\",\"plz\",\"reliably\",\"stealthing\",\"sunny\",\"wrapping\",\"jewellery\",\"mercedes\",\"tentatively\",\"affected\",\"60/40\",\"deficient\",\"projecting\",\"uppity\",\"mellow\",\"unbalanced\",\"seventeen\",\"teamwork\",\"neo_nazi\",\"accuracy\",\"bawl\",\"tonne\",\"justifie\",\"cheste\",\"nick\",\"huff\",\"\\ud83e\\udd37_\\ud83c\\udffc\\u200d_\\u2640_\\ufe0f\",\"categorize\",\"replaceable\",\"trading\",\"y.\",\"anon\",\"teller\",\"descent\",\"carelessness\",\"longterm\",\"jazz\",\"pb&j\",\"ytaedit\",\"abc\",\"syllabus\",\"developer\",\"extenuate_circumstance\",\"constraint\",\"stabilize\",\"marginalized\",\"flunk\",\"op-\",\"speedo\",\"13k\",\"apnea\",\"dogs\",\"stimulus\",\"w_e\",\"naming\",\"grapple\",\"tupperware\",\"cookware\",\"anecdotal_evidence\",\"vinegar\",\"cleavage\",\"clump\",\"opioid\",\"imaginable\",\"vivid\",\"6yo\",\"mixer\",\"it.&#x200b\",\"authorize\",\"uniquely\",\"downtown\",\"spotify\",\"fortnight\",\"bunk\",\"sternly\",\"swat\",\"instigator\",\"sol\",\"tobacco\",\"outrageously\",\"indifference\",\"jolly\",\"cheerleader\",\"deadbedroom\",\"compe\",\"confederacy\",\"champion\",\"nta.also\",\"misspell\",\"smoothie\",\"impediment\",\"inanimate\",\"/r_niceguys\",\"column\",\"justice_boner\",\"restraining\",\"nonchalant\",\"valley\",\"wail\",\"skimpy\",\"artificially\",\"aspiration\",\"scientology\",\"radius\",\"samaritan\",\"headlight\",\"kettle\",\"tabletop\",\"chap\",\"9/10\",\"tedious\",\"gif\",\"eshyou're\",\"dirtbag\",\"asymptomatic\",\"relent\",\"restart\",\"architect\",\"epiphany\",\"flak\",\"medicaid\",\"susan\",\"willpower\",\"protip\",\"ntahonestly\",\"fianc\\u00e9s\",\"coercive\",\"cardio\",\"revel\",\"5yo\",\"disengage\",\"adventurous\",\"wagon\",\"centric\",\"irritating\",\"enhance\",\"bone_marrow\",\"spamme\",\"dildos\",\"pushback\",\"wal_mart\",\"favorable\",\"institute\",\"encompass\",\"dissuade\",\"squirt\",\"skank\",\"teethe\",\"reactionary\",\"mustard\",\"infest\",\"terminally_ill\",\"overflow\",\"wannabe\",\"slaughter\",\"idealistic\",\"lynch\",\"speechless\",\"emojis\",\"salmon\",\"millionaire\",\"amirite\",\"papa\",\"pissing\",\"doe\",\"punching\",\"insidious\",\"tribute\",\"whoring\",\"mash_potato\",\"abduct\",\"tasteful\",\"misconduct\",\"misandrist\",\"synonymous\",\"reusable\",\"eww\",\"overtake\",\"donald\",\"ripe\",\"ntajust\",\"sexualise\",\"undercut\",\"sender\",\"franklin\",\"blender\",\"tangent\",\"ltr\",\"persecute\",\"skeeve\",\"jerky\",\"lowly\",\"meatless\",\"correctness\",\"3-year\",\"kim\",\"interchangeable\",\"throwing\",\"glow\",\"practicality\",\"dissent\",\"uncover\",\"crock\",\"deer\",\"13yo\",\"cemetery\",\"tipper\",\"blouse\",\"backpedal\",\"biker\",\"ytaas\",\"barbecue\",\"broth\",\"walker\",\"meow\",\"stonewall\",\"rp\",\"copyright\",\"hone\",\"demonstrably\",\"stated\",\"lpt\",\"clearance\",\"culprit\",\"y.o\",\"peasant\",\"imperfect\",\"unleashed\",\"wellness\",\"impulsively\",\"hardware\",\"darling\",\"sideways\",\"shpthis\",\"transgendere\",\"finalize\",\"jason\",\"extract\",\"patently\",\"acquiesce\",\"becky\",\"snort\",\"gps\",\"gi\",\"provocation\",\"climbing\",\"chiropractor\",\"crown\",\"nightstand\",\"lice\",\"delicately\",\"latte\",\"impractical\",\"ntaop\",\"fbi\",\"chooser\",\"overpay\",\"husky\",\"persecution\",\"4-year\",\"sporting\",\"mario\",\"workday\",\"dtmfa\",\"slime\",\"snoring\",\"newspaper\",\"researcher\",\"raffle\",\"ytai'm\",\"wierd\",\"foist\",\"zealot\",\"magnify\",\"typing\",\"injection\",\"heir\",\"convos\",\"savvy\",\"ranger\",\"wakeup\",\"kingdom\",\"baptism\",\"simmer\",\"tilt\",\"aide\",\"metaphorical\",\"inadequacy\",\"freelance\",\"capitalist\",\"garnish\",\"plagiarism\",\"kid(s\",\"tiger\",\"crusty\",\"keepsake\",\"volition\",\"socioeconomic\",\"facial_expression\",\"sociopathy\",\"physics\",\"definately\",\"cd\",\"expiration\",\"prematurely\",\"finished\",\"miraculously\",\"sandy\",\"pinpoint\",\"mein\",\"goodnight\",\"urn\",\"martin\",\"ontario\",\"falsely\",\"anchor\",\"reopen\",\"unrequited\",\"granted\",\"consequently\",\"panty\",\"clubbing\",\"disgrace\",\"anthony\",\"frighten\",\"comedic\",\"drs\",\"animate\",\"prudent\",\"chow\",\"denmark\",\"franchise\",\"endangerment\",\"conventionally\",\"bla\",\"vid\",\"boundrie\",\"fuckery\",\"o-\",\"darkness\",\"inhibit\",\"biohazard\",\"redemption\",\"hippie\",\"badwomensanatomy\",\"communicator\",\"\\u200d_\\u2640_\\ufe0f\",\"tract\",\"redhead\",\"outback\",\"fleeting\",\"aged\",\"pok\\u00e9mon\",\"adults\",\"hbo\",\"squander\",\"balk\",\"beneficiary\",\"windshield\",\"tah\",\"\\ud83e\\udd23_\\ud83e\\udd23\",\"tidbit\",\"la_jolla\",\"balding\",\"timeout\",\"crochet\",\"playoff\",\"th\",\"infinity\",\"dispense\",\"goose\",\"timid\",\"snail\",\"anecdotally\",\"salvageable\",\"fgm\",\"avert\",\"hairbrush\",\"handshake\",\"angsty\",\"snag\",\"ramp\",\"puddle\",\"unblock\",\"puppet\",\"icu\",\"avid\",\"x1000\",\"momentarily\",\"baptist\",\"developed\",\"feat\",\"^^|\",\"indebted\",\"weaken\",\"shithole\",\"cattle\",\"\\ud83d\\ude06\",\"lactation_consultant\",\"creepiness\",\"tardiness\",\"bsa\",\"pension\",\"veterinarian\",\"flabbergast\",\"begrudgingly\",\"grenade\",\"you?if\",\"decorum\",\"rodent\",\"righteousness\",\"neo\",\"adversity\",\"gutter\",\"rebuff\",\"cursing\",\"hannah\",\"septum\",\"provocative\",\"seinfeld\",\"8:30\",\"summarize\",\"paleo\",\"industrial\",\"cv\",\"conjunction\",\"slighted\",\"stigmatize\",\"wanker\",\"unimaginable\",\"julia\",\"yta.>i\",\"you'd\",\"wand\",\"lense\",\"breaker\",\"hospice\",\"beginner\",\"accordance\",\"vacate\",\"malpractice\",\"astonishing\",\"adulte\",\"stark\",\"gratuity\",\"explanatory\",\"yta1\",\"lets\",\"recap\",\"impactful\",\"nit\",\"bridal\",\"sah\",\"devoid\",\"electrical\",\"thug\",\"eyeball\",\"imminent\",\"offload\",\"qualifier\",\"things:1\",\"yada_yada\",\"exploitative\",\"hahahahaha\",\"handwriting\",\"nz\",\"pineapple\",\"mutilate\",\"tomboy\",\"steakhouse\",\"endearment\",\"unproductive\",\"normalcy\",\"losing\",\"plausible_deniability\",\"buddhist\",\"unfairness\",\"you\\u2019ve\",\"casket\",\"demeanor\",\"lactose_intolerance\",\"alleged\",\"hee\",\"evade\",\"\\ud83c\\udfc5\",\"advertisement\",\"arab\",\"dichotomy\",\"veterinary\",\"overshare\",\"infohow\",\"calculated\",\"hellish\",\"weep\",\"pitiful\",\"oscar\",\"ascribe\",\"energetic\",\"hawaiian\",\"galaxy\",\"plumber\",\"wooden\",\"hereditary\",\"mechanical\",\"booth\",\"belive\",\"mansplain\",\"remodel\",\"trough\",\"dimension\",\"descendant\",\"npc\",\"inconsistency\",\"burp\",\"terry\",\"academia\",\"honking\",\"brewery\",\"wool\",\"sahd\",\"molehill\",\"prerequisite\",\"enroll\",\"telephone\",\"obsessively\",\"ntano\",\"presentable\",\"toronto\",\"unravel\",\"helplessness\",\"cone\",\"won\\u2019t\",\"os\",\"hectic\",\"\\u2640_\\ufe0f\",\"20th_century\",\"stroll\",\"wrangle\",\"abdicate\",\"mayo\",\"monumentally\",\"injured\",\"accrue\",\"upend\",\"unsecured\",\"avengers\",\"cuddling\",\"e.\",\"francisco\",\"refute\",\"e.g\",\"knight\",\"ntayou\\u2019re\",\"accomodation\",\"photoshoppe\",\"lamp\",\"bolster\",\"gospel\",\"stressor\",\"mocking\",\"lupus\",\"tripping\",\"handgun\",\"thermostat\",\"antivaxxer\",\"vendetta\",\"appt\",\"exasperate\",\"undiagnosed\",\"games\",\"cannon\",\"hangry\",\"comprise\",\"sanctuary\",\"leaf\",\"13-year\",\"brian\",\"ikea\",\"overdo\",\"sa\",\"they\\u2019re\",\"genderfluid\",\"chatty\",\"personalize\",\"5x\",\"peter\",\"vase\",\"astonish\",\"shutdown\",\"biodad\",\"nvm\",\"5-year\",\"licensing\",\"hiccup\",\"cockroach\",\"preview\",\"gummy\",\"x200b;this\",\"feast\",\"regrettable\",\"trickle\",\"ribbing\",\"dietitian\",\"didnt\",\"fundraising\",\"acute\",\"bugger\",\"flamboyant\",\"authoritarian\",\"that's\",\"revise\",\"equipped\",\"trampoline\",\"tween\",\"renegotiate\",\"bluetooth\",\"tdap\",\"homeboy\",\"pronounced\",\"graffiti\",\"uncaring\",\"spiel\",\"defensible\",\"erratic\",\"shittiness\",\"themed\",\"passcode\",\"crow\",\"scandal\",\"changed\",\"infodid\",\"flatly\",\"darvo\",\"scientifically\",\"diagram\",\"\\\"edit\",\"theoretical\",\"punishable\",\"ewww\",\"toaster\",\"complacent\",\"esh.i\",\"framework\",\"iraq\",\"recognizable\",\"wifey\",\"barbaric\",\"thoughtfulness\",\"promiscuity\",\"signaling\",\"curable\",\"yta.he\",\"culpable\",\"turnoff\",\"defiantly\",\"cramping\",\"jock\",\"eshthis\",\"byproduct\",\"\\u2880\",\"incessantly\",\"elicit\",\"4chan\",\"marginally\",\"3ds\",\"granola\",\"bundy\",\"gabby\",\"shoo\",\"grower\",\"disconnected\",\"abdominal\",\"misjudge\",\"pigeon\",\"nicety\",\"stubbornness\",\"ebay\",\"abs\",\"rig\",\"dosent\",\"grit\",\"blowup\",\"heath\",\"straws\",\"cruelly\",\"discrete\",\"booby\",\"transit\",\"gaze\",\"hysterically\",\"nei\",\"astounded\",\"consultant\",\"pervy\",\"palate\",\"reccomend\",\"payroll\",\"mishandle\",\"cray\",\"exceedingly\",\"jr\",\"unlearn\",\"tightly\",\"\\ud83d\\udcaf\",\"subtext\",\"asshole-\",\"peruse\",\"convoluted\",\"mythology\",\"thst\",\"unmotivated\",\"deterrent\",\"\\\"your\",\"vampire\",\"weary\",\"colic\",\"rulebook](https://www.reddit.com\",\"ti\",\"mantra\",\"mysteriously\",\"commentator\",\"elf\",\"europeans\",\"mon\",\"pg\",\"dealing\",\"pansexual\",\"allege\",\"gyn\",\"albert\",\"we're\",\"pornstar\",\"greyhound\",\"economically\",\"hsv\",\"rec\",\"harry\",\"objectionable\",\"evasion\",\"alexa\",\"actionable\",\"foam\",\"thr\",\"cantonese\",\"heckle\",\"portrayal\",\"brow\",\"dehydrate\",\"richard\",\"spat\",\"irrespective\",\"nibble\",\"introverted\",\"untill\",\"rhyme\",\"confiscate\",\"fickle\",\"ytawhen\",\"incriminate\",\"extrovert\",\"roach\",\"woo\",\"madden\",\"muddy\",\"bollock\",\"reasons:1\",\"distaste\",\"broadly\",\"dale\",\"yta.also\",\"^this\",\"intuitive\",\"flyer\",\"hush\",\"twilight\",\"nastiness\",\"ntahow\",\"impart\",\"recruiter\",\"wouldn\\u2019t\",\"lettuce\",\"beam\",\"comical\",\"steroid\",\"unthinkable\",\"dieting\",\"headspace\",\"manufacturer\",\"mortality\",\"worldly\",\"counterpart\",\"analogous\",\"fuckboy\",\"pleasing\",\"orthodox\",\"candid\",\"goddam\",\"custodian\",\"torch\",\"stunned\",\"accomplished\",\"wizard\",\"null\",\"forewarn\",\"measly\",\"unsustainable\",\"paradox\",\"systematically\",\"25th\",\"spree\",\"undertake\",\"unto\",\"windfall\",\"x200b;she\",\"wonderfully\",\"emotionless\",\"wut\",\"firstborn\",\"individuality\",\"coming\",\"atrocity\",\"\\u2640\",\"fluster\",\"eggshell\",\"sedentary\",\"aunty\",\"hygienic\",\"ruse\",\"thou\",\"sci\",\"wrath\",\"nutty\",\"boohoo\",\"grumble\",\"hijab\",\"upstage\",\"administrative\",\"wendy\",\"propagate\",\"collision\",\"accessibility\",\"ntai\\u2019m\",\"retrieve\",\"playdate\",\"fostering\",\"renovate\",\"rationalise\",\"dissatisfaction\",\"overstate\",\"bedding\",\"sail\",\"defensively\",\"\\\"op\",\"utmost\",\"granddad\",\"registration\",\"vietnamese\",\"horrendously\",\"uncontrollably\",\"dinosaur\",\"barf\",\"valor\",\"woefully\",\"deprecate\",\"rut\",\"playlist\",\"denny\",\"craziness\",\"rhythm\",\"cvs\",\"latent\",\"pope\",\"manslaughter\",\"mumble\",\"estonian\",\"distracted\",\"euro\",\"17-year\",\"fluctuate\",\"mastectomy\",\"rod\",\"contextual\",\"amnio\",\"polo\",\"humanly\",\"seldom\",\"lightbulb\",\"conscientious\",\"forethought\",\"untouchable\",\"fuckton\",\"possessiveness\",\"9/11\",\"cdc\",\"worldwide\",\"immerse\",\"censorship\",\"unofficial\",\"skiing\",\"misgendering\",\"conceivable\",\"backhand\",\"pepperoni\",\"junkie\",\"terrier\",\"delve\",\"massacre\",\"depiction\",\"arabic\",\"offhand\",\"linguistic\",\"extraordinary\",\"yeh\",\"sermon\",\"5'8\",\"nighttime\",\"missionary\",\"sync\",\"norway\",\"bilingual\",\"shopper\",\"nibling\",\"lockdown\",\"overreacting\",\"srsly\",\"nutritious\",\"identifie\",\"citation\",\"crohn\",\"wrestler\",\"communicating\",\"underaged\",\"endear\",\"wield\",\"rights\",\"pamphlet\",\"ovulation\",\"barefoot\",\"ordinarily\",\"cheapen\",\"unprompted\",\"tiring\",\"redpill\",\"isn\\u2019t\",\"ruthless\",\"dismantle\",\"casualty\",\"deduce\",\"scorn\",\"cathartic\",\"ambiguity\",\"intestine\",\"rabid\",\"canal\",\"implying\",\"organically\",\"stun\",\"tracer\",\"voted\",\"compose?to=/r\",\"observant\",\"honda\",\"breastfee\",\"mm\",\"appletarian\",\"raccoon\",\"https://www.ncbi.nlm.nih.gov\",\"shoplifting\",\"refresh\",\"altered\",\"clinically\",\"crackhead\",\"fascism\",\"cubicle\",\"info**|**info**#[click\",\"thee\",\"violin\",\"washington\",\"index)#[click\",\"communist\",\"astound\",\"emerge\",\"\\ud83d\\ude43\",\"faq)*i\",\"barrage\",\"carton\",\"switching\",\"megan\",\"warehouse\",\"anthem\",\"deviation\",\"\\u201dyou\",\"surf\",\"dosage\",\"anesthesia\",\"hitch\",\"perpetrate\",\"jill\",\"ntaat\",\"vocally\",\"remarkable\",\"esque\",\"proportionate\",\"sorority\",\"ab\",\"nominate\",\"broaden\",\"definitly\",\"afterall\",\"snooze\",\"fa\",\"notwithstanding\",\"dissect\",\"bootstrap\",\"\\u2642_\\ufe0f\",\"appropriateness\",\"brink\",\"goofy\",\"confederate\",\"diligent\",\"ytaare\",\"panther\",\"kylee\",\"snicker\",\"assaulter\",\"voter\",\"reuse\",\"generator\",\"conducive\",\"doesn\\u2018t\",\"backing\",\"\\u00af\\\\\\\\\\\\_(\\u30c4)_/\\u00af\",\"lauren\",\"patent\",\"tenure\",\"hon\",\"nonconsensual\",\"infatuation\",\"esh.she\",\"festivity\",\"crummy\",\"neice\",\"palatable\",\"covert\",\"impersonate\",\"ultron\",\"sasha\",\"st.\",\"life-\",\"wad\",\"neediness\",\"jasmine\",\"fi\",\"quityourbullshit\",\"creek\",\"etsy\",\"fertilize\",\"distrustful\",\"dunk\",\"cardboard\",\"einstein\",\"paramedic\",\"cisgender\",\"loaf\",\"sticking\",\"contractual\",\"persue\",\"\\u0361\",\"carwash\",\"damnit\",\"ideation\",\"manipulating\",\"enforcement\",\"disc\",\"ribbon\",\"required\",\"here.](https://redd.it/9zgc4m)*i\",\"misdirect\",\"huntsman\",\"kinder\",\"bossy\",\"you\\u2018re\",\"drone\",\"stealthe\",\"holding\",\"yta.1\",\"province\",\"immigrate\",\"5'4\",\"sinful\",\"infodo\",\"nutter\",\"orphanage\",\"pb\",\"gentrification\",\"fanatic\",\"4.5\",\"agitate\",\"menace\",\"maneuver\",\"succinct\",\"variant\",\"reposte\",\"displace\",\"magnanimous\",\"\\u2809\",\"stipend\",\"trashcan\",\"teeter\",\"objectification\",\"contradiction\",\"fixation\",\"vip\",\"50,000\",\"reversed\",\"lactate\",\"loveless\",\"committee\",\"aquarium\",\"unsurprisingly\",\"defraud\",\"checker\",\"postnatal\",\"micropeen\",\"homicide\",\"viewer\",\"legroom\",\"decree\",\"abrupt\",\"omelette\",\"fuckwit\",\"tearing\",\"downs\",\"smarten\",\"sb\",\"^/\",\"logistical\",\"deviant\",\"perpetual\",\"drunkenness\",\"na\\u00efve\",\"database\",\"putting\",\"recital\",\"oatmeal\",\"grandmas\",\"5\\u20198\",\"varied\",\"gland\",\"5'5\",\"wanting\",\"fodder\",\"onboard\",\"\\ud83c\\uddf9\",\"hasty\",\"distracting\",\"tos\",\"fav\",\"recklessly\",\"specification\",\"castration\",\"\\ud83c\\udffd\\u200d\",\"whammy\",\"you'll\",\"mindlessly\",\"sucking\",\"doughnut\",\"buffer\",\"harpy\",\"norwegian\",\"responsive\",\"empire\",\"chug\",\"strategic\",\"younger\",\"allot\",\"burning\",\"egregiously\",\"cholesterol\",\"scrutiny\",\"satisfactory\",\"dialect\",\"pariah\",\"layout\",\"epidemic\",\"indiana\",\"georgia\",\"predate\",\"antivax\",\"dumping\",\"johnny\",\"adultery\",\"assigned\",\"unspecified\",\"pox\",\"snapshot\",\"congregation\",\"declawing\",\"mindless\",\"jealously\",\"cackle\",\"alienation\",\"erm\",\"1,500\",\"differing\",\"artifact\",\"infected\",\"browser\",\"enrich\",\"personalfinance\",\"supersede\",\"israel\",\"risque\",\"streaming\",\"limo\",\"loosely\",\"romanticize\",\"ummmm\",\"sensibility\",\"biologist\",\"8k\",\"10-year\",\"ballpark\",\"workable\",\"arsenal\",\"clamp\",\"livable\",\"tangle\",\"pleasantly\",\"notable\",\"annually\",\"sanctity\",\"thankyou\",\"scandinavian\",\"realism\",\"predicate\",\"earphone\",\"spacious\",\"\\ud83c\\udffb\\u200d_\\u2640\",\"menial\",\"recess\",\"ransom\",\"childishly\",\"madonna\",\"biodegradable\",\"delightful\",\"livestock\",\"roger\",\"screams\",\"torpedo\",\"sap\",\"occupation\",\"flags\",\"jumper\",\"cutesy\",\"choosy\",\"hulu\",\"emma\",\"pupper\",\"herring\",\"banshee\",\"southwest\",\"cookbook\",\"foolproof\",\"drank\",\"gateway\",\"overstay\",\"\\ud83d\\ude0e\",\"assimilate\",\"assisted\",\"chastity\",\"unilateral\",\"xxx\",\"babble\",\"mash\",\"invoke\",\"401k\",\"willed\",\"flap\",\"subpar\",\"fiscal\",\"handcuff\",\"\\ud83e\\udd2e\",\"4:30\",\"evolutionary\",\"ecosystem\",\"obliterate\",\"bicker\",\"undertaking\",\"characterization\",\"landing\",\"freakout\",\"hedge\",\"ashley\",\"phil\",\"acquaint\",\"jimmy\",\"mvp\",\"workshop\",\"prolonged\",\"sprain\",\"comprehensive\",\"squirm\",\"fridays\",\"60,000\",\"gta\",\"skeevy\",\"tu\",\"averse\",\"x200b;i'm\",\"immersion\",\"boys\",\"jive\",\"midterm\",\"unhealthily\",\"liken\",\"codependency\",\"organiser\",\"corporal\",\"amniocentesis\",\"eu\",\"jokey\",\"pouty\",\"alphabet\",\"unchecked\",\"verification\",\"supremacy\",\"patronise\",\"danny\",\"subscriber\",\"adopted\",\"\\\"also\",\"incidental\",\"opinionated\",\"miffed\",\"nta1\",\"lubrication\",\"gestate\",\"epidural\",\"yta.but\",\"mantle\",\"souvenir\",\"ytahonestly\",\"instinctual\",\"dimensional\",\"poopy\",\"frantically\",\"conjecture\",\"aba\",\"alllll\",\"eval\",\"contamination\",\"tint\",\"plasma\",\"accidently\",\"unquestionably\",\"fursuit\",\"cucke\",\"circulate\",\"\\\"oh\",\"banker\",\"lament\",\"dickwad\",\"masters\",\"blemish\",\"hyphen\",\"emus\",\"\\\"yeah\",\"pj\",\"goody\",\"tasting\",\"laughably\",\"classless\",\"har\",\"300k\",\"congrats\",\"infoare\",\"outpatient\",\"lewd\",\"discretionary\",\"mosquito\",\"kids-\",\"phenomenal\",\"dame\",\"dock\",\"detachment\",\"handbook\",\"separated\",\"nooo\",\"trainwreck\",\"draconian\",\"periodically\",\"condescendingly\",\"fireplace\",\"litterally\",\"feline\",\"urethra\",\"bamboozle\",\"renewal\",\"nah.if\",\"melon\",\"school-\",\"nta.they\",\"germans\",\"moocher\",\"infamous\",\"cabbage\",\"dcf\",\"unfunny\",\"forego\",\"publication\",\"ytalet\",\"vacay\",\"depo\",\"fortitude\",\"statutory\",\"purr\",\"taxpayer\",\"mishap\",\"defiant\",\"catfishing\",\"attain\",\"edit2\",\"irredeemable\",\"vessel\",\"2yo\",\"earnest\",\"hiss\",\"me-\",\"fatherly\",\"thoughtfully\",\"motto\",\"abduction\",\"pickiness\",\"labradoodle\",\"speakerphone\",\"bailey\",\"parcel\",\"cpr\",\"bert\",\"loon\",\"retriever\",\"marie\",\"thy\",\"icecream\",\"doesnt\",\"discolor\",\"yous\",\"rpg\",\"overhead\",\"obliged\",\"historic\",\"resilient\",\".5\",\"skanky\",\"doctrine\",\"coparente\",\"crosspost\",\"carnivore\",\"caloric\",\"pointer\",\"pdf\",\"\\\"\\\"i\",\"replay\",\"tether\",\"x200b;and\",\"sly\",\"them-\",\"audibly\",\"slumber\",\"imitate\",\"kansas\",\"paid\",\"ovarian\",\"hominem\",\"angela\",\"allowed\",\"notably\",\"prophecy\",\"relatable\",\"assailant\",\"19th\",\"testimony\",\"75,000\",\"coulda\",\"blissfully\",\"\\ud83c\\udfb6\",\"rummage\",\"freaky\",\"coloring\",\"improvise\",\"\\u201dthis\",\"fatphobic\",\"uncivil\",\"las\",\"tons\",\"johnson\",\"nostalgia\",\"rebuttal\",\"amniotic\",\"vintage\",\"destine\",\"12yo\",\"stalkerish\",\"infact\",\"cancelling\",\"evasive\",\"maria\",\"capitulate\",\"audible\",\"influx\",\"undeserve\",\"yknow\",\"time-\",\"solitary\",\"sect\",\"midget\",\"giveaway\",\"it?i\",\"sp\",\"resell\",\"blissful\",\"clot\",\"libtard\",\"stump\",\"abundance\",\"lit\",\"stub\",\"intertwine\",\"yadda_yadda\",\"manicure\",\"intentioned\",\"functionality\",\"psychopathic\",\"civilization\",\"personhood\",\"ehhhh\",\"yta.you\\u2019re\",\"ann\",\"versa\",\"ntai've\",\"bankroll\",\"curate\",\"fountain\",\"all-\",\"enslave\",\"flipping\",\"ms.\",\"arrow\",\"opportunistic\",\"fiscally\",\"unused\",\"fanfiction\",\"roundabout\",\"1950\",\"^^^what\",\"meditation\",\"normalise\",\"disfigure\",\"au\",\"necessitate\",\"doo\",\"arfid\",\"tweak\",\"daydream\",\"incredulous\",\"refundable\",\"demoralize\",\"ream\",\"shes\",\"admiration\",\"suggestive\",\"traveling\",\"^^\",\"imposition\",\"\\\"no\",\"sequence\",\"gown\",\"hes\",\"fret\",\"misstep\",\"improperly\",\"jen\",\"affiliate\",\"domino\",\"inbox\",\"mister\",\"puncture\",\"cube\",\"reword\",\"fragrance\",\"^^^this?](https://pastebin.com\",\"lateness\",\"annoyingly\",\"sulking\",\"carelessly\",\"^^^is\",\"asse\",\"littering\",\"daunt\",\"philippines\",\"systematic\",\"staring\",\"huffy\",\"porno\",\"te\",\"changer\",\"dickbag\",\"democracy\",\"unneeded\",\"5'2\",\"eloquently\",\"douchebaggery\",\"amanda\",\"slate\",\"trp\",\"ginger\",\"commodity\",\"unite\",\"weeb\",\"bookstore\",\"fixated\",\"buuuut\",\"paypal\",\"goldfish\",\"brood\",\"unruly\",\"gung\",\"siren\",\"camper\",\"desktop\",\"i\\u2019ll\",\"barbershop\",\"ostracise\",\"flop\",\"deduction\",\"parents\",\"treater\",\"signalling\",\"regimen\",\"showcase\",\"disturbed\",\"idealize\",\"sector\",\"quarantine\",\"guarentee\",\"mlk\",\"invariably\",\"hooking\",\"condemnation\",\"rotation\",\"stacy\",\"tin\",\"bothersome\",\"virtual\",\"undervalue\",\"inflation\",\"wont\",\"springer\",\"clitoral\",\"startling\",\"uterine\",\"roulette\",\"pleaser\",\"examination\",\"efficiency\",\"contributing\",\"nebulous\",\"uhm\",\"thanksgive\",\"gawk\",\"3.accept\",\"starbuck\",\"unfeeling\",\"itinerary\",\"imprison\",\"17yo\",\"query\",\"m8\",\"5'3\",\"ipod\",\"incestuous\",\"malleable\",\"physique\",\"placard\",\"relish\",\"almighty\",\"perverted\",\"bourbon\",\"civilly\",\"stench\",\"meaningfully\",\"ntahave\",\"emphasise\",\"isnt\",\"blinded\",\"enormously\",\"h.\",\"puerto\",\"2.50\",\"30,000\",\"forced\",\"chivalry\",\"werewolf\",\"nonchalantly\",\"intellect\",\"kpop\",\"recessive\",\"ttc\",\"blip\",\"culinary\",\"covenant\",\"creepily\",\"intrinsic\",\"terrorism\",\"preconceived\",\"coldly\",\"nahhe\",\"chaser\",\"grunt\",\"pharmacist\",\"saturdays\",\"blaze\",\"culminate\",\"up-\",\"ntaedit\",\"ntafuck\",\"ytapeople\",\"packing\",\"ginormous\",\"biking\",\"rolling\",\"downfall\",\"atypical\",\"pita\",\"gl\",\"godparent\",\"exclusivity\",\"percieve\",\"freezing\",\"technician\",\"doorway\",\"egypt\",\"funk\",\"bandage\",\"pediatric\",\"coursework\",\"keg\",\"unsaid\",\"vaping\",\"dopamine\",\"spinal\",\"urgently\",\"railroad\",\"ferret\",\"camo\",\"linen\",\"cleanse\",\"quo\",\"patio\",\"chipotle\",\"preggo\",\"unsuitable\",\"clientele\",\"scented\",\"phony\",\"rampage\",\"culpability\",\"ballgame\",\"abt\",\"erupt\",\"paragon\",\"overcompensate\",\"spectacular\",\"graceful\",\"merch\",\"scarce\",\"puritanical\",\"breastfed\",\"reliance\",\"bombshell\",\"builder\",\"pact\",\"invaluable\",\"anomaly\",\"niceguys\",\"demonstration\",\"crosswalk\",\"malfunction\",\"racing\",\"eyeroll\",\"overdose\",\"siblings\",\"ba\",\"3,000\",\"pothead\",\"\\\"what\",\"14-year\",\"is-\",\"rite\",\"sod\",\"archive\",\"cootie\",\"aha\",\"leaning\",\"bta\",\"overjoyed\",\"jungle\",\"jennifer\",\"proportionally\",\"op.edit\",\"impasse\",\"blowout\",\"kentucky\",\"salute\",\"implode\",\"it.2\",\"sodium\",\"overzealous\",\"forcing\",\"turf\",\"po\",\"shack\",\"gonna\",\"decaf\",\"designation\",\"keyword\",\"joyful\",\"\\ud83c\\udffd\",\"asshole|**yta**|not\",\"sapphire\",\"harrasse\",\"auction\",\"frantic\",\"16yo\",\"sext\",\"nemo\",\"whiff\",\"pi\",\"ihavesex\",\"ytabecause\",\"pneumonia\",\"illiterate\",\"rejoice\",\"tucson\",\"modeling\",\"hotdog\",\"jordan\",\"dunce\",\"defender\",\"clam\",\"edition\",\"sucks|**esh**no\",\"quebec\",\"hole|**nta**everyone\",\"graduating\",\"grim\",\"bouncy\",\"patrick\",\"tacitly\",\"folic\",\"cal\",\"automate\",\"callousness\",\"prepubescent\",\"fkn\",\"binding\",\"--:you're\",\"destitute\",\"cheerleading\",\"quilt\",\"reasons.1\",\"nth\",\"fetishist\",\"you?i\",\"hipster\",\"cody\",\"me\\\"\",\"mannerism\",\"precarious\",\"aspca\",\"shameless\",\"pudgy\",\"composure\",\"egocentric\",\"hairless\",\"mba\",\"rebuke\",\"commonplace\",\"bedridden\",\"ro\",\"fatness\",\"interim\",\"schmuck\",\"sunk\",\"stillborn\",\"compile\",\"pta\",\"restricted\",\"scottish\",\"fudge\",\"blocking\",\"kelly\",\"nother\",\"pe\",\"monetarily\",\"triplet\",\"fluctuation\",\"paternalistic\",\"alteration\",\"thrift\",\"loner\",\"eternally\",\"overprice\",\"here|**nah**shitpost|**shp**|not\",\"practise\",\"foreseeable\",\"latinx\",\"barb\",\"parent(s\",\"dogshit\",\"tiff\",\"newlywed\",\"usable\",\"intricacy\",\"airpod\",\"meatball\",\"reassignment\",\"meanie\",\"apprehensive\",\"regretful\",\"peck\",\"ante\",\"ooooh\",\"chess\",\"rocker\",\"y\\u2019know\",\"loathing\",\"gayness\",\"disastrous\",\"anglo\",\"4k\",\"moissanite\",\"domesticate\",\"captive\",\"tout\",\"skittish\",\"guys\",\"soggy\",\"contestant\",\"guild\",\"surgically\",\"sociology\",\"hut\",\"irate\",\"cuff\",\"stephanie\",\"kipp\",\"safeguard\",\"stead\",\"skyrocket\",\"\\u28f6\",\"munch\",\"bacterial\",\"coincidentally\",\"womanhood\",\"fiasco\",\"hooters\",\"transcript\",\"hoverboard\",\"inept\",\"noose\",\"administer\",\"synagogue\",\"warmth\",\"bizarrely\",\"unisex\",\"info|**info**[read\",\"dawkins\",\"microscope\",\"rapper\",\"smuggle\",\"harasser\",\"trajectory\",\"unconventional\",\"danielle\",\"dictator\",\"cbt\",\"twit\",\"midway\",\"demote\",\"ntadude\",\"pfft\",\"proponent\",\"botch\",\"yta.there\",\"neatly\",\"pimple\",\"snippet\",\"dat\",\"leaky\",\"leftist\",\"entice\",\"probe\",\"armrest\",\"maim\",\"digging\",\"mi\",\"karmic\",\"3am\",\"caveman\",\"cystic\",\"yta.dude\",\"workaholic\",\"thing-\",\"unfulfilled\",\"intensify\",\"negotiable\",\"7:30\",\"shitter\",\"detox\",\"coax\",\"nail_head\",\"appropriation\",\"surplus\",\"~\",\"violated\",\"angrier\",\"ntado\",\"derange\",\"heighten\",\"hp\",\"internalise\",\"diff\",\"pluck\",\"ph\",\"downward\",\"collage\",\"blade\",\"banish\",\"woke\",\"reciprocity\",\"zen\",\"trench\",\"nonprofit\",\"ordering\",\"nta.there\",\"bestfriend\",\"pinky\",\"angeles\",\"shellfish\",\"sweetener\",\"fmla\",\"chihuahua\",\"reduced\",\"redneck\",\"placebo\",\"tiredness\",\"ate\",\"geek\",\"oversee\",\"prescribed\",\"estimation\",\"replica\",\"flail\",\"peculiar\",\"debacle\",\"illustration\",\"erotic\",\"incurable\",\"dumbfound\",\"\\u201dshe\",\"fingerprint\",\"paedophile\",\"insincere\",\"denominator\",\"patriotism\",\"wade\",\"brotherly\",\"walnut\",\"consecutive\",\"misgiving\",\"insofar\",\"nauseate\",\"ding_ding\",\"payoff\",\"netherlands\",\"silk\",\"pollution\",\"outsource\",\"dungeon\",\"yer\",\"scott\",\"\\u270c\",\"masterpiece\",\"chit\",\"unrepentant\",\"plight\",\"unanimously\",\"mammal\",\"scanner\",\"nullify\",\"prudish\",\"forthright\",\"devour\",\"predispose\",\"wah\",\"neon\",\"you?you\",\"morph\",\"\\ud83d\\udc95\",\"antihistamine\",\"\\u201dhe\",\"yta.that\",\"ytathey\",\"resemblance\",\"exorbitant\",\"justnofamily\",\"sunlight\",\"cowardice\",\"15yo\",\"dissertation\",\"pumpkin\",\"internationally\",\"stank\",\"not-\",\"applause\",\"assembly\",\"mansion\",\"calculus\",\"sweatshirt\",\"ntas\",\"ii\",\"shitting\",\"lots\",\"blooded\",\"existed\",\"frontal\",\"\\ud83d\\ude14\",\"bueno\",\"child(ren\",\"fetlife\",\"implicate\",\"rival\",\"cheated\",\"ytayou've\",\"whereabouts\",\"yta\\\"i\",\"comic_strip\",\"misrepresentation\",\"meek\",\"squeamish\",\"billing\",\"zack\",\"pillar\",\"x200b;op\",\"fluently\",\"imperial\",\"bong\",\"silicon\",\"nancy\",\"mingle\",\"eyeliner\",\"icon\",\"feely\",\"adderall\",\"fringe\",\"dispenser\",\"subvert\",\"ja\",\"infrequently\",\"otherkin\",\"curvy\",\"inane\",\"trek\",\"flock\",\"oxford\",\"yoghurt\",\"mineral\",\"cna\",\"caliber\",\"yeet\",\"environmentally\",\"lifting\",\"verb\",\"contend\",\"kneejerk\",\"pavement\",\"18th\",\"bm\",\"plummet\",\"meditate\",\"poetic\",\"anchovy\",\"aroused\",\"mutter\",\"manga\",\"conjure\",\"focusse\",\"familiarity\",\"bravery\",\"ik\",\"blossom\",\"fentanyl\",\"fecal\",\"spook\",\"devastated\",\"2-year\",\"recruiting\",\"triumph\",\"truely\",\"treating\",\"ntaher\",\"involuntarily\",\"footprint\",\"upright\",\"parting\",\"shitless\",\"misdeed\",\"investor\",\"varie\",\"aptitude\",\"pertussis\",\"nta---\",\"fury\",\"sf\",\"socializing\",\"do-\",\"too-\",\"perinatal\",\"subsidise\",\"gonewild\",\"x200b;my\",\"apache\",\"grandbabie\",\"transfusion\",\"freind\",\"tragically\",\"j.\",\"yta.i'm\",\"ntawtf\",\"policing\",\"quibble\",\"editor\",\"media\",\"incubate\",\"12-year\",\"x200b;yta\",\"auschwitz\",\"dmv\",\"bluntness\",\"dwarf\",\"x200b;nta\",\"yta.what\",\"5'7\",\"copious\",\"riot\",\"identifiable\",\"scantily\",\"puss\",\"colon\",\"canvas\",\"eradicate\",\"crunchy\",\"diplomacy\",\"distort\",\"underdeveloped\",\"assuredly\",\"sassy\",\"bodybuilder\",\"cryptic\",\"fro\",\"ornament\",\"negging\",\"persistence\",\"lard\",\"reciprocal\",\"het\",\"alternately\",\"\\ud83d\\ude12\",\"org\",\"tetris\",\"kimono\",\"fellowship\",\"staunchly\",\"crust\",\"lawful\",\"crisp\",\"huuuuge\",\"cajun\",\"legaladvice\",\"ufc\",\"banjo\",\"notre\",\"unfollowe\",\"gentlemanly\",\"sm\",\"bertamo\",\"carefree\",\"encouraged\",\"silicone\",\"parks\",\"cbp\",\"manhandle\",\"walter\",\"bullcrap\",\"helium\",\"corrective\",\"25,000\",\"seniority\",\"it'd\",\"translator\",\"managing\",\"diva\",\"brunei\",\"flirtation\",\"haven\",\"though-\",\"litigation\",\"circuit\",\"aggressiveness\",\"excitedly\",\"orchestrate\",\"misandry\",\"platitude\",\"identification\",\"infestation\",\"finder\",\"combined\",\"curtail\",\"aren\\u2019t\",\"supermodel\",\"deescalate\",\"freebie\",\"horrifically\",\"z.\",\"furth\",\"bralette\",\"damsel\",\"crybaby\",\"softly\",\"outlaw\",\"bub\",\"ideological\",\"\\u280b\",\"spurt\",\"likeable\",\"fixing\",\"harms\",\"houseguest\",\"eaten\",\"preschooler\",\"handbag\",\"publicize\",\"kindest\",\"cp\",\"vacuuming\",\"residue\",\"grandbaby\",\"elective\",\"geographic\",\"anemic\",\"ak-47\",\"\\u201dif\",\"tb\",\"forwards\",\"pooch\",\"buttercup\",\"mb\",\"tokyo\",\"sheriff\",\"refrie\",\"chilli\",\"manifestation\",\"thathappene\",\"bp\",\"gravidarum\",\"retake\",\"colostomy\",\"ipa\",\"godsend\",\"reg\",\"blindfold\",\"freshener\",\"ytayes\",\"brazilian\",\"regime\",\"pewdiepie\",\"x200b;but\",\"phallic\",\"flipside\",\"lede\",\"cycling\",\"wii\",\"sq\",\"oot\",\"pressing\",\"peril\",\"\\u2801\",\"respiratory\",\"nigeria\",\"stamina\",\"gestation\",\"nutella\",\"indignation\",\"wavy\",\"malcolm\",\"snark\",\"quip\",\"gargoyle\",\"agonize\",\"seasonal\",\"dizzy\",\"agriculture\",\"blessed\",\"5.5\",\"murky\",\"asmr\",\"sensor\",\"diy\",\"250k\",\"karla\",\"conundrum\",\"ashtray\",\"louis\",\"dander\",\"prestige\",\"brazil\",\"mashed\",\"semitic\",\"historian\",\"nahi'm\",\"legoland\",\"5\\u20194\",\"dane\",\"milder\",\"mispronounce\",\"skipping\",\"\\\"or\",\"maori\",\"cheerlead\",\"sundae\",\"pageant\",\"obscenity\",\"mockingbird\",\"ntain\",\"liza\",\">i\",\"chafe\",\"hmmmm\",\"veiled\",\"showboate\",\"prediction\",\"inward\",\"offline\",\"boi\",\"ulta\",\"ballet\",\"haggle\",\"costumer\",\"mince\",\"b*tch\",\"subhuman\",\"funsie\",\"untenable\",\"retelling\",\"\\\"we\",\"fuse\",\"discretely\",\"stutter\",\"s.\",\"formulate\",\"stool\",\"cuddly\",\"undivided\",\"mower\",\"debit\",\"inflated\",\"unmedicated\",\"peppermint\",\"obstruct\",\"pmdd\",\"dicey\",\"adversely\",\"susie\",\"glucose\",\"empathic\",\"incentivize\",\"bigtime\",\"germanic\",\"moldy\",\"correspondence\",\"negro\",\"standoffish\",\"hulk\",\"hallucination\",\"yta.and\",\"perverse\",\"blackness\",\"right-\",\"spec\",\"wherewithal\",\"her?i\",\"eshif\",\"hardball\",\"goddess\",\"laws\",\"floss\",\"nahthe\",\"ejaculation\",\"pettyrevenge\",\"collectible\",\"maple\",\"fidget\",\"tenet\",\"flinch\",\"riding\",\"upcharge\",\"incessant\",\"decay\",\"ntafor\",\"uninforme\",\"unqualified\",\"predisposition\",\"yu\",\"obliviousness\",\"menstruate\",\"glamorous\",\"pleasantry\",\"pescatarian\",\"idiom\",\"lutely\",\"hobbie\",\"pence\",\"quantify\",\"consensually\",\"carolina\",\"exile\",\"^^^\",\"enrichment\",\"remake\",\"grub\",\"predetermine\",\"athi\",\"checklist\",\"teaspoon\",\"x200b;there\",\"cheerful\",\"communion\",\"africans\",\"leach\",\"choosingbeggars\",\"preplanne\",\"swamp\",\"unwrap\",\"smidge\",\"flushable\",\"9-year\",\"mindedness\",\"manliness\",\"wimp\",\"steward\",\"probate\",\"simpson\",\"shunt\",\"burdensome\",\"rehearse\",\"scowl\",\"charismatic\",\"ywnbta\",\"waaaaaay\",\"canine\",\"orgasme\",\"groin\",\"nta.what\",\"yta.edit\",\"disbelieve\",\"x200b;so\",\"compose?to\",\"pedal\",\"loledit\",\"democratic\",\"apron\",\"accost\",\"asked\",\"150k\",\"ntamaybe\",\"breather\",\"turkish\",\"posh\",\"harden\",\"anaphylactic\",\"insurmountable\",\"spacey\",\"flourish\",\"lifespan\",\"segment\",\"cumming\",\"shorter\",\"bedbug\",\"turnover\",\"unloaded\",\"leading\",\"swelling\",\"dgaf\",\"inebriate\",\"mull\",\"allegiance\",\"fawn\",\"ntaholy\",\"fda\",\"nudist\",\"vp\",\"else-\",\"enraged\",\"vouch\",\"gory\",\"pond\",\"d.\",\"glee\",\"expectant\",\"figurative\",\"dun\",\"immunize\",\"restate\",\"arabia\",\"charter\",\"spectacularly\",\"pap\",\"outlive\",\"herd\",\"grindr\",\"esl\",\"generalise\",\"dilute\",\"nutjob\",\"shifty\",\"insect\",\"nah.you're\",\"ninety\",\"calcium\",\"pod\",\"charlotte\",\"forgetfulness\",\"\\u261d\",\"8/10\",\"sus\",\"yta.just\",\"osha\",\"6k\",\"mf\",\"bask\",\"\\ud83d\\udc46\",\"retrain\",\"unfriendly\",\"n64\",\"scarring\",\"unhinge\",\"groan\",\"symbolism\",\"totem\",\"ytalook\",\"urinary\",\"pronto\",\"bygone\",\"nothingeverhappen\",\"matthew\",\"rooted\",\"cesspool\",\"disgraceful\",\"parentage\",\"exgf\",\"bac\",\"whiner\",\"desist\",\"intro\",\"\\ud83d\\ude00\",\"dreadful\",\"fumble\",\"denounce\",\"foetus\",\"lolol\",\"deformity\",\"hermit\",\"13th\",\"alamo\",\"diver\",\"differential\",\"valedictorian\",\"suv\",\"ick\",\"exemption\",\"okcupid\",\"lunge\",\"ytaher\",\"obedience\",\"utah\",\"symptomatic\",\"monument\",\"introspective\",\"persistently\",\"retell\",\"unasked\",\"vr\",\"mythical\",\"hardass\",\"unfriende\",\"funnel\",\"cancerous\",\"espouse\",\"sublet\",\"shitposter\",\"ans\",\"coarse\",\"lucke\",\"du\",\"stillbirth\",\"updoot\",\"demolish\",\"detain\",\"x2\",\"ridden\",\"subtlety\",\"40,000\",\"catcalling\",\"nta.edit\",\"riddled\",\"duct\",\"rosy\",\"\\\"then\",\"fierce\",\"nurturing\",\"shakespeare\",\"feminazi\",\"departure\",\"decorative\",\"spooky\",\"fingertip\",\"gras\",\"sailor\",\"savings\",\"bloop\",\"manhood\",\"bleep\",\"fiend\",\"confetti\",\"oblivion\",\"startled\",\"plaything\",\"permeate\",\"succumb\",\"\\\"not\",\"anthropology\",\"dennis\",\"fort\",\"esh.he\",\"sexting\",\"emperor\",\"miniscule\",\"restrained\",\"remission\",\"estrangement\",\"composition\",\"malnutrition\",\"librarian\",\"inb4\",\"phantom\",\"bulge\",\"diplomatically\",\"pua\",\"mississippi\",\"that\\u2018s\",\"confronting\",\"staffing\",\"endearing\",\"naivety\",\"zoom\",\"pushup\",\"expenditure\",\"gaslighter\",\"merchant\",\"outspoken\",\"invention\",\"screenshotte\",\"perplex\",\"undress\",\"canadians\",\"k.\",\"catastrophe\",\"broadway\",\"scrawny\",\"blurry\",\"victorian\",\"narcs\",\"mandated\",\"spidey\",\"asf\",\"slash\",\"tot\",\"incidence\",\"animation\",\"yta.why\",\"willy\",\"forefront\",\"evaporate\",\"feasibly\",\"\\u201dthe\",\"uhhhh\",\"migrate\",\"intruder\",\"councilor\",\"nub\",\"causation\",\"vested\",\"here](https://www.reddit.com\",\"intrinsically\",\"swiss\",\"madly\",\"sherlock\",\"iamverysmart\",\"headset\",\"armor\",\"pende\",\"bahamas\",\"ytaunless\",\"abolish\",\"vindication\",\"mugging\",\"dehydration\",\"lunchtime\",\"indenture\",\"rapport\",\"si\",\"monk\",\"idol\",\"predictor\",\"durr\",\"cheerfully\",\"unsuccessful\",\"reflexively\",\"bathing\",\"speciman\",\"hugger\",\"daunting\",\"doorbell\",\"electrician\",\"cumme\",\"ytano\",\"externally\",\"readjust\",\"inference\",\"hyphenation\",\"5'6\",\"pistol\",\"modestly\",\"infoyou\",\"hooter\",\"\\u201dedit\",\"founder\",\"assult\",\"youthful\",\"robotic\",\"irresponsibly\",\"bassinet\",\"airfare\",\"conceptualize\",\"brainstorm\",\".i\",\"helluva\",\"attic\",\"causal\",\"sorted\",\"coddling\",\"stadium\",\"playbook\",\"betterment\",\"noah\",\"mushy\",\"awww\",\"stricken\",\"limbo\",\"classification\",\"dis\",\"befall\",\"resound\",\"giddy\",\"brunette\",\"upbringe\",\"straddle\",\"heteronormative\",\"ding\",\"polished\",\"abso\",\"derek\",\"snuck\",\"molly\",\"reparation\",\"sandbox\",\"browsing\",\"rome\",\"worn\",\"blush\",\"accomplice\",\"ntahowever\",\"funnily\",\"armr\",\"salsa\",\"bedsheet\",\"op.i\",\"fatlogic\",\"implausible\",\"optimally\",\"adoptee\",\"emphatically\",\"\\u2665\",\"underground\",\"ntai'd\",\"constipate\",\"cusp\",\"coil\",\"enclosure\",\"sexualized\",\"heartburn\",\"gotta\",\"gettin\",\"amish\",\"slavic\",\"lily\",\"monologue\",\"degradation\",\"corroborate\",\"clickbaity\",\"saver\",\"zumba\",\"thingy\",\"rainy\",\"sparkly\",\"experimental\",\"cali\",\"itemize\",\"holly\",\"ender\",\"maine\",\"scorpion\",\"did-\",\"slope\",\"foil\",\"forearm\",\"somone\",\"repression\",\"idaho\",\"lighthearte\",\"shorthand\",\"infantile\",\"iphones\",\"judgment**>>this\",\"fucken\",\"happenpic_happenpic_happenpic_happenpic\",\"slippery\",\"applied\",\"shana\",\"aboriginal\",\"wayyyyy\",\"genetics\",\"sizing\",\"silverware\",\"pornographic\",\"bane\",\"bookshelf\",\"onesie\",\"flagrantly\",\"immaterial\",\"mailman\",\"signage\",\"squeaky\",\"catalog\",\"resourceful\",\"mankind\",\"chromosomal\",\"westboro\",\"baggy\",\"situation-\",\"bandwidth\",\"handjob\",\"waver\",\"lacking\",\"audit\",\"flashlight\",\"overbear\",\"conspire\",\"ytain\",\"peen\",\"kiwi\",\"decompose\",\"motivational\",\"primal\",\"skimp\",\"sneakily\",\"it.&#x200b;edit\",\"\\u26a0_\\ufe0f_\\u26a0_\\ufe0f\",\"denominational\",\"retinal\",\"schizophrenic\",\"matt\",\"gander\",\"cozy\",\"sophie\",\"structural\",\"\\u2803\",\"futile\",\"unkempt\",\"note-\",\"wearer\",\"reoccurre\",\"cambridge\",\"prosthetic\",\"unprofessionally\",\"thankless\",\"williams\",\"aaa\",\"mmr\",\"wanted\",\"conquer\",\"unbearably\",\"brandnewsentence\",\"abcde\",\"infectious\",\"decimate\",\"unmitigated\",\"adress\",\"brokerage\",\"fraternal\",\"quasi\",\"legwork\",\"wikitextbot\",\"kool\",\"s.o.\",\"behaving\",\"mascara\",\"misdemeanor\",\"sexualization\",\"frugally\",\"kilt\",\"thump\",\"conquest\",\"unwillingly\",\"sneaker\",\"overture\",\"sturdy\",\"infatuate\",\"denote\",\"hydrated\",\"eerily\",\"bearable\",\"cavity\",\"interrupting\",\"suuuuper\",\"playboy\",\"ringer\",\"pesky\",\"natured\",\"emancipate\",\"bylaw\",\"colony\",\"leukemia\",\"proficient\",\"doodle\",\"pakistan\",\"\\\"well\",\"13,000\",\"aspie\",\"presently\",\"supervised\",\"deflection\",\"seasoning\",\"\\\"yta\",\"vindicated\",\"funky\",\"that.2\",\"payer\",\"subjectively\",\"counting\",\"chord\",\"cigar\",\"wilfully\",\"bead\",\"verbiage\",\"dickhole\",\"ignoring\",\"appraise\",\"unusable\",\"cushy\",\"unpunished\",\"nd\",\"it\\\"\",\"fiery\",\"hurr\",\"wrongfully\",\"ytastop\",\"cooperation\",\"doggie\",\"childbeare\",\"dabble\",\"~~i\",\"confer\",\"placeholder\",\"laundromat\",\"fluke\",\"headscarf\",\"britain\",\"\\u00af\\\\\\\\\\\\_(\\u30c4)\\\\_/\\u00af\",\"royalty\",\"foods\",\"unfathomable\",\"prosecution\",\"womanly\",\"jugular\",\"reductive\",\"again-\",\"legitimacy\",\"interior\",\"profiling\",\"import\",\"shore\",\"8yo\",\"unjust\",\"hurricane\",\"cohabitation\",\"u.s\",\"cologne\",\"fraternity\",\"\\\"her\",\"vector\",\"shitstain\",\"infrastructure\",\"elizabeth\",\"packaging\",\"columbia\",\"adversarial\",\"font\",\"fetched\",\"reliability\",\"arcade\",\"rabie\",\"barter\",\"impoverished\",\"churn\",\"longevity\",\"maryland\",\"thesis\",\"unsuspecting\",\"defective\",\"flawless\",\"scot\",\"pooper\",\"ruckus\",\"nta.1\",\"x200b;your\",\"murderous\",\"ment\",\"dignified\",\"thier\",\"\\ud83d\\ude29\",\"dart\",\"distinctive\",\"choosingbeggar\",\"directive\",\"traumatizing\",\"sprout\",\"23-year\",\"regulated\",\"hahahah\",\"amenable\",\"johns\",\"kfc\",\"phew\",\"scab\",\"locked\",\"microscopic\",\"nta.sounds\",\"coo\",\"confidant\",\"stockholm\",\"absolution\",\"mutt\",\"irrevocably\",\"spermicide\",\"sergeant\",\"promising\",\"unnoticed\",\"oddball\",\"correspond\",\"urologist\",\"restitution\",\"retaliatory\",\":o\",\"howl\",\"buuut\",\"illicit\",\"ooze\",\"monstrous\",\"roi\",\"ungodly\",\"colorful\",\"realisation\",\"volcano\",\"hehe\",\"cardiac\",\"login\",\"6'4\",\"faucet\",\"nigga\",\"repel\",\"haste\",\"vividly\",\"populate\",\"accustom\",\"fledge\",\"blah\",\"unaddressed\",\"saudi\",\"liberate\",\"amok\",\"commemorate\",\"mars\",\"legging\",\"vindicate\",\"orbit\",\"retention\",\"histrionic\",\"tantamount\",\"murderedbywords\",\"approximate\",\"predictably\",\"inquiry\",\"buzzkill\",\"\\u201dand\",\"lecturer\",\"existential\",\"bagger\",\"flannel\",\"spinach\",\"x100\",\"gritty\",\"pointedly\",\"lender\",\"residual\",\"shtick\",\"^exclude\",\"fashionable\",\"celibacy\",\"innately\",\"20th\",\"chant\",\"followup\",\"gouge\",\"raunchy\",\"2am\",\"apprenticeship\",\"underwater\",\"solvable\",\"rang\",\"unplug\",\"f.\",\"schrodinger\",\"trooper\",\"pouting\",\"\\ud83d\\ude4c\",\"trot\",\"frazzle\",\"kneel\",\"furnace\",\"pubic\",\"demisexual\",\"fingernail\",\"opportunist\",\"roastme\",\"classical\",\"loo\",\"eloquent\",\"ott\",\"unforeseen\",\"surpass\",\"subculture\",\"journalism\",\"rehash\",\"smugly\",\"apologising\",\"swab\",\"abrahamic\",\"wince\",\"squishy\",\"rivalry\",\"skating\",\"begone\",\"untrusting\",\"adolf\",\"strait\",\"you\\u2019ll\",\"analyse\",\"alica\",\"pejorative\",\"persevere\",\"llama\",\"banal\",\"divine\",\"shingle\",\"experimentation\",\"shittily\",\"expendable\",\"cowboy\",\"heavens\",\"masterbate\",\"crippled\",\"teddy\",\"inequity\",\"disadvantaged\",\"flaming\",\"yip\",\"pullout\",\"preterm\",\"conserne\",\"tetanus\",\"seminar\",\"impotent\",\"quran\",\"presumptive\",\"douchecanoe\",\"pitty\",\"ged\",\"jeopardise\",\"yta.a\",\"depreciate\",\"collaborate\",\"sooooooo\",\"rambling\",\"wp\",\"1950s\",\"changing\",\"nexplanon\",\"weeknight\",\"peachy\",\"freeloading\",\"minister\",\"staunch\",\"opposing\",\"donkey\",\"uninsured\",\"wayside\",\"monolith\",\"sids\",\"psychopathy\",\"abomination\",\"bereavement\",\"i\\u2018d\",\"hitting\",\"angie\",\"coincidental\",\"approachable\",\"breech\",\"abstinent\",\"\\u201dso\",\"aloof\",\"marshmallow\",\"ewwww\",\"studying\",\"behoove\",\"skeezy\",\"ruffle\",\"16th\",\"constitutional\",\"victimless\",\"epileptic\",\"reestablish\",\"faithfulness\",\"geeze\",\"nun\",\"snipe\",\"prosper\",\"parenthesis\",\"pong\",\"dakota\",\"fasting\",\"lsd\",\"duke\",\"overrate\",\"naha\",\"nuh\",\"filler\",\"blas\\u00e9\",\"skateboard\",\"petrol\",\"chide\",\"hijacking\",\"lob\",\"kissy\",\"kiddy\",\"wat\",\"domineering\",\"mover\",\"childishness\",\"exploitation\",\"forsake\",\"lived\",\"indecent\",\"oopsie\",\"arguable\",\"adviser\",\"shamelessly\",\"doofus\",\"virginia\",\"ahem\",\"dispel\",\"prankster\",\"janice\",\"walkway\",\"indistinguishable\",\"generalisation\",\"iamatotalpieceofshit\",\"sphincter\",\"salesperson\",\"repetition\",\"rust\",\"ip\",\"physiologically\",\"hobo\",\"oc\",\"options:1\",\"tony\",\"mardi\",\"alibi\",\"procure\",\"smiley\",\"75k\",\"roasted\",\"saddening\",\"shortcut\",\"swastikas\",\"finely\",\"amiright\",\"mff\",\"cauliflower\",\"harming\",\"now-\",\"whopping\",\"jarring\",\"transparently\",\"parody\",\"contrarian\",\"downvoted\",\"momentum\",\"17th\",\"ypu\",\"assemble\",\"rl\",\"sonic\",\"sth\",\"toyota\",\"measured\",\"simpsons\",\"camgirl\",\"whitewash\",\"supplier\",\"inhale\",\"machinery\",\"relationships\",\"sleepless\",\"xs\",\"blinder\",\"guessing\",\"raging\",\"refined\",\"brothers\",\"awaken\",\"michelin\",\"getgo\",\"pew\",\"slapping\",\"ytalike\",\"jessie\",\"ratty\",\"superpower\",\"intermittent\",\"objectified\",\"theif\",\"para\",\"tar\",\"ata\",\"carpool\",\"alaska\",\"ntaoh\",\"warfare\",\"esteem\",\"vis\",\"culmination\",\"v.\",\"nsa\",\"edited\",\"ballsy\",\"extravagance\",\"15,000\",\"upbeat\",\"othere\",\"poppy\",\"precursor\",\"consuming\",\"trisomy\",\"asl\",\"sunglass\",\"unwashed\",\"disciplinarian\",\"jnmil\",\"doula\",\"scrooge\",\"isolating\",\"les\",\"upheaval\",\"2.0\",\"scotch\",\"improved\",\"brits\",\"unsexy\",\"airlines\",\"encyclopedia\",\"brazen\",\"populated\",\"damp\",\"pd\",\"\\u285f\",\"comeuppance\",\"landscape\",\"sanitize\",\"^[contact](/message\",\"rehabilitation\",\"median\",\"^\\\\([info](/r\",\"\\u28c4\",\"reddit:-\",\"situate\",\"inexplicably\",\"innapropriate\",\"drape\",\"keyed\",\"stan\",\"insemination\",\"deflate\",\"ref\",\"shin\",\"ntawow\",\"progressively\",\"avoidant\",\"shrew\",\"burglary\",\"withstand\",\"operator\",\"intrusion\",\"foh\",\"\\u00af\\\\_(\\u30c4)_/\\u00af\",\"11th\",\"garment\",\"unfiltered\",\"fragility\",\"yuppie\",\"isla\",\"governor\",\"ups\",\"passionately\",\"bureau\",\"thoughtlessly\",\"fireman\",\"gifted\",\"nta--\",\"permissible\",\"wtaf\",\"pubescent\",\"recite\",\"someome\",\"turning\",\"signing\",\"carol\",\"sphere\",\"preservation\",\"mould\",\"tentative\",\"rediculous\",\"tingle\",\"friend(s\",\"asswipe\",\"clara\",\"\\ud83d\\udc08_\\ud83d\\udc08_\\ud83d\\udc08_\\ud83d\\udc08\",\"messianic\",\"troublemaker\",\"upwards\",\"descriptive\",\"stud\",\"drexel\",\"yth\",\"ve\",\"unlawful\",\"proselytize\",\"soundly\",\"tropical\",\"compartmentalize\",\"proverb\",\"overuse\",\"stunningly\",\"nta.a\",\"nat\",\"continual\",\"sith\",\"mogai\",\"proofread\",\"globe\",\"subservient\",\"11.30\",\"carcass\",\"ping\",\"elaboration\",\"portable\",\"marketable\",\"nba\",\"circumstantial\",\"pupil\",\"lobe\",\"arc\",\"grammatically\",\"crumple\",\"met\",\"transperson\",\"socket\",\"ceremonial\",\"monica\",\"pseudoscience\",\"damper\",\"prosecutor\",\"deservedly\",\"ytadon\\u2019t\",\"mater\",\"ware\",\"yummy\",\"wi\",\"insinuation\",\"migrant\",\"ambivalent\",\"fsm\",\"fave\",\"100s\",\"nonissue\",\"healthier\",\"algebra\",\"peice\",\"mite\",\"excluded\",\"jeeze\",\"expired\",\"stagger\",\"horde\",\"hepatitis\",\"slick\",\"postcard\",\"prognosis\",\"procrastinator\",\"choreographer\",\"stint\",\"mouthwash\",\"viking\",\"drawback\",\"curtesy\",\"aghast\",\"2-\",\"ytawtf\",\"messiness\",\"elevated\",\"accelerate\",\"5'11\",\"initiation\",\"enviroment\",\"marble\",\"addendum\",\"fu\",\"fricken\",\"here:1\",\"sibs\",\"procession\",\"pedicure\",\"thinker\",\"peasy\",\"holler\",\"kay\",\"sag\",\"ntaeven\",\"adage\",\"5'1\",\"tyson\",\"astute\",\"beleive\",\"nta.why\",\"entitledparent\",\"cornerstone\",\"financing\",\"teehee\",\"woth\",\"500k\",\"ytasound\",\"cetera\",\"bitchiness\",\"\\\"my\",\"humongous\",\"damning\",\"pram\",\"unvaccinate\",\"refurbish\",\"eclampsia\",\"coughing\",\"matriarch\",\"succinctly\",\"oink\",\"7/10\",\"tubal\",\"uncooperative\",\"leroy\",\"superman\",\"embarrase\",\"squid\",\"discontinue\",\"gnarly\",\"ooo\",\"\\ud83d\\ude0d\",\"cherokee\",\"controllable\",\"garb\",\"pristine\",\"fri\",\"humanist\",\"pyramid\",\"serena\",\"rosa\",\"odour\",\"brah\",\"mmf\",\"housekeep\",\"corruption\",\"cognitively\",\"hazardous\",\"brighten\",\"abdoman\",\"x200b;as\",\"excruciate\",\"bewilder\",\"godfather\",\"hastily\",\"intoxicated\",\"literary\",\"rover\",\"sounding\",\"ralph\",\"unsupported\",\"wrt\",\"competence\",\"framing\",\"ybta\",\"earmark\",\"ty\",\"bearer\",\"iranian\",\"dissonance\",\"bono\",\"fatass\",\"reexamine\",\"sanction\",\"nta.honestly\",\"justin\",\"smoother\",\"12yr\",\"hay\",\"adresse\",\"chaste\",\"kart\",\"mid-20\",\"geo\",\"chemotherapy\",\"faker\",\"condense\",\"undecided\",\"groove\",\"hydrate\",\"tonya\",\"cohesive\",\"ai\",\"concentrated\",\"don\\u00b4t\",\"nacho\",\"skid\",\"dudley\",\"aura\",\"vacant\",\"200,000\",\"preoccupy\",\"mods\",\"receiving\",\"lawnmower\",\"scouting\",\"\\ud83d\\ude48_\\ud83d\\ude48\",\"snooty\",\"preferential\",\"sketchbook\",\"ntaits\",\"voodoo\",\"antagonist\",\"ytamy\",\"rutgers\",\"kong\",\"interchangeably\",\"androgynous\",\"wifes\",\"wildfire\",\"airpods\",\"fetishise\",\"versed\",\"diligently\",\"mamas\",\"jello\",\"moscow\",\"well-\",\"purport\",\"gma\",\"\\\"as\",\"detest\",\"heathen\",\"because:1\",\"dagger\",\"hottie\",\"marked\",\"unauthorized\",\"aaaaaand\",\"bickering\",\"plushie\",\"commandment\",\"gotten\",\"boutique\",\"legendary\",\"slideshow\",\"esha\",\"reverend\",\"jumpy\",\"photographic\",\"conceited\",\"static\",\"10:30\",\"@op\",\"cul\",\"floppy\",\"criminalize\",\"salami\",\"michelle\",\"cricket\",\"va\",\"purebre\",\"hotness\",\"likes\",\"accuser\",\"stigmatized\",\"missy\",\"stickie\",\"niceness\",\"ntalet\",\"ntawhen\",\"mortal\",\"subsidized\",\"stealth\",\"money-\",\"waxing\",\"cactus\",\"allll\",\"fizzle\",\"shill\",\"mothering\",\"silliness\",\"parish\",\"viscerally\",\"demise\",\"hamilton\",\"wasn\\u2019t\",\"oftentime\",\"executioner\",\"ee\",\"saliva\",\"crosse\",\"pulse\",\"litterbox\",\"noteworthy\",\"surreal\",\"mercury\",\"endow\",\"newcomer\",\"recreation\",\"smelling\",\"risqu\\u00e9\",\"unionize\",\"roadblock\",\"absolutly\",\"repent\",\"irregardless\",\"immunocompromise\",\"pesto\",\"hindus\",\"inactive\",\"burglar\",\"boggling\",\"luxurious\",\"ytaget\",\"moore\",\"segue\",\"tacit\",\"hairstylist\",\"deff\",\"chilling\",\"nitpicky\",\"redflag\",\"thor\",\"remaining\",\"ontop\",\"fap\",\"traumatized\",\"secluded\",\"python\",\"righteously\",\"nazism\",\"you\\\"\",\"intimidating\",\"hearte\",\"corny\",\"iamverybadass\",\"incision\",\"80k\",\"19-year\",\"hostel\",\"shiver\",\"hackle\",\"completion\",\"ytajesus\",\"miserly\",\"syrup\",\"q\",\"roasting\",\"teensy\",\"invites\",\"andrew\",\"ytaeveryone\",\"pricy\",\"manor\",\"prophet\",\"pinche\",\"nahyou\\u2019re\",\"yta.no\",\"sleeveless\",\"repeated\",\"ytayeah\",\"zit\",\"assualt\",\"ems\",\"spirituality\",\"lifer\",\"levy\",\"mulan\",\"perky\",\"lunacy\",\"given\",\"outreach\",\"1mil\",\"extremly\",\"bearded\",\"elegant\",\"beget\",\"infuriating\",\"farth\",\"erectile\",\"ntabee\",\"connive\",\"antifa\",\"divorcee\",\"remembrance\",\"earther\",\"3:>**accept\",\"comparatively\",\"gumption\",\"rogers\",\"literate\",\"hum\",\"barbara\",\"oinking\",\"asylum\",\"pathogen\",\"pivotal\",\"inviting\",\"trustworthiness\",\"choreograph\",\"seattle\",\"coerced\",\"point-\",\"accutane\",\"eighth\",\"1,200\",\"ist\",\"posit\",\"rooftop\",\"pretzel\",\"sammy\",\"skunk\",\"applebee\",\"20ish\",\"suitor\",\"14/15\",\"overreach\",\"invitee\",\"fascinate\",\"x200b;he\",\"ytaholy\",\"personable\",\"fir\",\"thx\",\"jackfruit\",\"sic\",\"microchip\",\"busser\",\"dwelling\",\"saturate\",\"stubbornly\",\"unsubbe\",\"ableism\",\"u.k.\",\"sims\",\"onwards\",\"viciously\",\"resounding\",\"ntawho\",\"13/14\",\"slum\",\"rambunctious\",\"commander\",\"premade\",\"stickler\",\"molestor\",\"grammatical\",\"westerner\",\"20-something\",\"ahhhh\",\"disgruntle\",\"gurl\",\"lurker\",\"exposed\",\"sewer\",\"compute\",\"comically\",\"mitigating\",\"fetishization\",\"copay\",\"unannounce\",\"nta.some\",\"bjs\",\"medic\",\"apocalypse\",\"batter\",\"disturbingly\",\"extraneous\",\"tangentially\",\"autist\",\"adept\",\"facetious\",\"friendliness\",\"4,000\",\"apprehension\",\"colloquially\",\"it.edit\",\"6.50\",\"lentil\",\"unoriginal\",\"out-\",\"thieving\",\"hallucinate\",\"bondage\",\"nah.she\",\"wonky\",\"acutely\",\"hemorrhoid\",\"amputate\",\"esh.the\",\"ended\",\"complimentary\",\"appreciated\",\"instinctive\",\"overrun\",\"weren't\",\"burritos\",\"concious\",\"solicitor\",\"ruder\",\"compromised\",\"fraudulent\",\"relegate\",\"hanger\",\"terrific\",\"benevolent\",\"arthur\",\"polio\",\"juul\",\"qualifie\",\"metropolitan\",\"scrolling\",\"ntawhile\",\"eggplant\",\"assholeishness\",\"portugal\",\"vocation\",\"unwittingly\",\"-and\",\"concoct\",\"binder\",\"needed\",\"bombing\",\"klan\",\"partaking\",\"toenail\",\"billionaire\",\"preacher\",\"6'2\",\"rly\",\"\\ud83d\\ude10\",\"harmlessly\",\"\\ufe0f.\",\"grandstand\",\"mmmm\",\"exhibition\",\"mondays\",\"playmate\",\"decider\",\"shopkeeper\",\"furiously\",\"quitter\",\"nj\",\"defo\",\"oversimplify\",\"\\\"do\",\"coitus\",\"reconstruction\",\"landfill\",\"indulgent\",\"padlock\",\"but-\",\"ex-\",\"sickening\",\"parter\",\"superintendent\",\"wreak\",\"bender\",\"vaxxers\",\"councillor\",\"preemie\",\"recollection\",\"paddle\",\"oftentimes\",\"intermediary\",\"slink\",\"huntington\",\"70k\",\"homer\",\"collectable\",\"\\\"how\",\"erasure\",\"https://www.reddit.com\",\"crossfire\",\"inclusivity\",\"febreeze\",\"abound\",\"obstinate\",\"thicken\",\"downsize\",\"listing\",\"socialist\",\"stave\",\"goofball\",\"jackson\",\"trying\",\"cottage\",\"cornered\",\"embarass\",\"embodiment\",\"somthe\",\"timetable\",\"cub\",\"depressant\",\"tj\",\"privledge\",\"esh.you're\",\"lunchbox\",\"quad\",\"solitude\",\"altar\",\"hunny\",\"1/3rd\",\"robust\",\"huuuge\",\"transcend\",\"beep\",\"abysmal\",\"2h\",\"nta.first\",\"cindy\",\"whinge\",\"\\\"like\",\"surge\",\"tel\",\"taken\",\"petting\",\"headed\",\"brash\",\"rules\",\"reboot\",\"fuckface\",\"transman\",\"swarm\",\"hellion\",\"laze\",\"laborer\",\"eyelash\",\"lime\",\"she'll\",\"shuttle\",\"cohabitate\",\"dearest\",\"scenery\",\"unambiguously\",\"shoehorn\",\"imitation\",\"adulting\",\"infallible\",\"moby\",\"femme\",\"persuasion\",\"ruler\",\"kinship\",\"relocation\",\"solar\",\"lysol\",\"tourism\",\"depart\",\"nationalist\",\"healthful\",\"wrongful\",\"restructure\",\"redefine\",\"painter\",\"trouser\",\"famously\",\"satiate\",\"settler\",\"pmc\",\"gamestop\",\"seventh\",\"snuff\",\"blizzard\",\"juju\",\"widen\",\"economical\",\"validated\",\"whelp\",\"disperse\",\"browbeat\",\"cradle\",\"mam\",\"identifier\",\"riddle\",\"popping\",\"asktrp\",\"harassed\",\"transpeople\",\"wireless\",\"underappreciated\",\"acclimate\",\"output\",\"pessimistic\",\"logan\",\"amenity\",\"coaching\",\"umbilical\",\"germaphobia\",\"45k\",\"libidos\",\"oooooh\",\"candidly\",\"dormant\",\"regressive\",\"constipation\",\"windows\",\"buss\",\"slobber\",\"grotesque\",\"midlife\",\"outloud\",\"crabby\",\"cape\",\"\\\"don't\",\"aging\",\"l.\",\"busboy\",\"vibrant\",\"heifer\",\"pounce\",\"eshwhy\",\"dilation\",\"yta.as\",\"conditionally\",\"subaru\",\"reload\",\"untouched\",\"itedit\",\"callously\",\"gobble\",\"ntajesus\",\"operating\",\"\\u2728\",\"hoot\",\"tickling\",\"mistype\",\"someway\",\"yadda\",\"unsavory\",\"knitting\",\"producer\",\"stephen\",\"farce\",\"ration\",\"betting\",\"gg\",\"suzie\",\"appologize\",\"senseless\",\"dissapointe\",\"ministry\",\"fl\",\"handsy\",\"dialog\",\"ytais\",\"nooooo\",\"inmate\",\"steadily\",\"prowess\",\"this:>i\",\"meaty\",\"defining\",\"vie\",\"blee\",\"gs\",\"lopsided\",\"pallet\",\"it.&#x200b;i\",\"slay\",\"ay\",\"annul\",\"ether\",\"endorsement\",\"drugstore\",\"mediterranean\",\"breadstick\",\"arborist\",\"16/17\",\"publishing\",\"1/5\",\"retina\",\"habitat\",\"gardasil\",\"ailment\",\"thickness\",\"acquisition\",\"romans\",\"harangue\",\"warren\",\"freckle\",\"undressed\",\"dolly\",\"cellular\",\"daugther\",\"bonafide\",\"hacker\",\"\\u2840\",\"sie\",\"welsh\",\"indo\",\"indulgence\",\"mush\",\"saw\",\"ooof\",\"corps\",\"bristle\",\"to-\",\"anticipation\",\"eyeshadow\",\"bribery\",\"parse\",\"\\u035c\\u0296\",\"glaringly\",\"hearsay\",\"isaac\",\"girth\",\"pepsi\",\"taper\",\"waaaaaaay\",\"fallon\",\"dogma\",\"thrash\",\"trapped\",\"stuffy\",\"we\\u2019re\",\"couldnt\",\"amethyst\",\"dusty\",\"pinnacle\",\"unenforceable\",\"hopping\",\"11-year\",\"childrearing\",\"^^^^automod\",\"thomas\",\"cfa\",\"bumpy\",\"nokia\",\"nextdoor\",\"dom(me\",\"collected\",\"groundwork\",\"guthrie\",\"didn\\u2018t\",\"gratify\",\"kicking\",\"dietetic\",\"saintly\",\"15th\",\"\\u28a0\",\"`\",\"lmaooo\",\"dropping\",\"laden\",\"thoughtlessness\",\"harrasment\",\"ascertain\",\"mowing\",\"workaround\",\"gravitate\",\"compulsory\",\"michigan\",\"quartz\",\"stbx\",\"journalist\",\"works\",\"likeness\",\"afar\",\"chiropractic\",\"m'lady\",\"template\",\"chiro\",\"unnerving\",\"dtf\",\"selflessly\",\"cw\",\"symmetrical\",\"bleak\",\"\\\\*not\\\\\",\"divisive\",\"squeak\",\"delighted\",\"theatric\",\"consolidate\",\"dyscalculia\",\"gah\",\"gloria\",\"eulogy\",\"cortex\",\"schtick\",\"titanic\",\"zinc\",\"people-\",\"eject\",\"legitimize\",\"dos\",\"thanos\",\"stained\",\"institutional\",\"penniless\",\"patty\",\"unappeale\",\"millisecond\",\"ntaare\",\"goddamnit\",\"expressive\",\"ibuprofen\",\"shitfaced\",\"js\",\"novice\",\"fuckhead\",\"docile\",\"behaviorist\",\"mocha\",\"contrived\",\"wedlock\",\"habe\",\"bu\",\"swerve\",\"imposter\",\"zealous\",\"yale\",\"covered\",\"fondle\",\"demo\",\"-she\",\"fiercely\",\"audi\",\"7k\",\"khaled\",\"letting\",\"viability\",\"trolley\",\"gop\",\"antimlm\",\"dingus\",\"baiting\",\"pisser\",\"vulgarity\",\"fore\",\"grump\",\"sass\",\"revolving\",\"gloomy\",\"ytawhile\",\"neanderthal\",\"bulldog\",\"malignant\",\"post](https://www.reddit.com\",\"mealtime\",\"glowing\",\"paygrade\",\"cajole\",\"sjws\",\"iceland\",\"activism\",\"crook\",\"standby\",\"amphetamine\",\"evoke\",\"x200b;just\",\"canned\",\"trivia\",\"esh.it\",\"romcom\",\"bandmate\",\"fingering\",\"artistry\",\"bloated\",\"one-\",\"indefinite\",\"\\ud83d\\ude15\",\"50th\",\"hearty\",\"fabrication\",\"lodge\",\"slit\",\"speedy\",\"crafty\",\"u.\",\"ww1\",\"sta\",\"esh.if\",\"cumbersome\",\"senator\",\"nta.when\",\"oi\",\"paintball\",\"blindsided\",\"mercilessly\",\"intensifie\",\"motherfucking\",\"nervousness\",\"unselfish\",\"abundant\",\"sift\",\"1-on-1\",\"commandeer\",\"darken\",\"hung\",\"sulky\",\"thriving\",\"plagiarize\",\"congenital\",\"sundays\",\"encapsulate\",\"extinguish\",\"cynic\",\"iran\",\"veal\",\"refuge\",\"that\\u2019\",\"scandalize\",\"uncut\",\"pairing\",\"legaladviceuk\",\"braindead\",\"associated\",\"obstruction\",\"republicans\",\"compassionately\",\"resize\",\"deffo\",\"assumed\",\"dsm\",\"turnaround\",\"lookin\",\"contributor\",\"apparel\",\"manhattan\",\"fatherless\",\"ostracism\",\"berth\",\"bestow\",\"overthink\",\"impersonal\",\"crocodile\",\"emancipation\",\"certified\",\"hsv-1\",\"ntaplease\",\"slacker\",\"remade\",\"waifu\",\"creeped\",\"golddigger\",\"fesse\",\"\\\"maybe\",\"unscented\",\"configuration\",\"willis\",\"chivalrous\",\"suckere\",\"aaaand\",\"30-year\",\"stagnate\",\"experiance\",\"10pm\",\"dictatorship\",\"rougher\",\"2-way\",\"crotchety\",\"thirde\",\"ytahave\",\"lowlife\",\"doctoral\",\"maliciouscompliance\",\"embassy\",\"~20\",\"fanfic\",\"setback\",\"lotr\",\"fireable\",\"kiddie\",\"flippantly\",\"prioritization\",\"dwight\",\"enabling\",\"cosmo\",\"gorge\",\"masquerade\",\"implantation\",\"torrent\",\"catheter\",\"nta.people\",\"mos\",\"goop\",\"sydney\",\"easiest\",\"governmental\",\"linear\",\"fuckwad\",\"temperamental\",\"expulsion\",\"unseen\",\"debauchery\",\"berry\",\"reeeeeally\",\"nationwide\",\"anemia\",\"bon\",\"sneer\",\"overburden\",\"orderly\",\"feefee\",\"cz\",\"treasured\",\"y'alls\",\"doozy\",\"weakling\",\"monty\",\"ta.you\",\"pulp\",\"strut\",\"brutality\",\"prohibition\",\"paralyzed\",\"synonym\",\"insulate\",\"heterosexuality\",\"tou\",\"immediatly\",\"reassuring\",\"crazier\",\"sensual\",\"schooler\",\"imgur\",\"paralegal\",\"radiation\",\"5:30\",\"ticketed\",\"vc\",\"lint\",\"doug\",\"strew\",\"she\\u2018s\",\"entrepreneur\",\"commonality\",\"volleyball\",\"ymbta\",\"motorbike\",\"embarrassingly\",\"loooove\",\"oppressed\",\"deadbolt\",\"\\ud83e\\udd37_\\u200d\",\"disassociate\",\"argumentation\",\"perch\",\"9yo\",\"forensic\",\"ytai\\u2019m\",\"plaque\",\"joseph\",\"impossibly\",\"greeks\",\"ism\",\"jr.\",\"vindictively\",\"clergy\",\"pacifier\",\"allllll\",\"mums\",\"spur\",\"\\ud83d\\udc9c\",\"glutton\",\"child-\",\"entangle\",\"dumbfuck\",\"harley\",\"repurpose\",\"achievable\",\"dug\",\"eclipse\",\"architecture\",\"curveball\",\"rsvp'd\",\"shoplifter\",\"greener\",\"sandal\",\"ntaeveryone\",\"preempt\",\"jot\",\"literacy\",\"hillary\",\"99.99\",\"whataboutism\",\"pointing\",\"ambient\",\"skit\",\"wrongness\",\"satanic\",\"indefensible\",\"reapply\",\"~~the\",\"preform\",\"shp-\",\"yes-\",\"buuuuut\",\"overgrown\",\"competency\",\"baller\",\"trivialise\",\"stuffed\",\"unsubscribe\",\"\\\"a\",\"dae\",\"pandora\",\"pivot\",\"erotica\",\"destruct\",\"gmail\",\"diabolical\",\"minutia\",\"neutrality\",\"oggle\",\"morgue\",\"poof\",\"dads\",\"nta.in\",\"defile\",\"chickene\",\"consentual\",\"nta.so\",\"bnb\",\"unjustly\",\"credence\",\"deity\",\"gong\",\"~10\",\"daisy\",\"kavanaugh\",\"obedient\",\"carrie\",\"strapped\",\"midday\",\"negotiating\",\"aitah\",\"nah.this\",\"hormonally\",\"roller\",\"jobs\",\"lite\",\"superfat\",\"ne\",\"xl\",\"occupant\",\"overtone\",\"hospitalization\",\"agonizing\",\"substitution\",\"lineup\",\"trumpet\",\"diaphragm\",\"preconceive\",\"\\ud83e\\udd22\",\"ar\",\"kaylee\",\"bart\",\"immaculate\",\"it's\",\"ridiculousness\",\"wanda\",\"infrequent\",\"responsability\",\"prideful\",\"loony\",\"\\ud83d\\ude24\",\"nhs\",\"interstate\",\"tithe\",\"panda\",\"unintelligent\",\"skyrim\",\"preemptive\"],\"shape\":[14732],\"dtype\":\"object\",\"order\":\"little\"}],[\"x\",{\"type\":\"ndarray\",\"array\":{\"type\":\"bytes\",\"data\":\"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\"},\"shape\":[14732],\"dtype\":\"float32\",\"order\":\"little\"}],[\"y\",{\"type\":\"ndarray\",\"array\":{\"type\":\"bytes\",\"data\":\"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\"},\"shape\":[14732],\"dtype\":\"float32\",\"order\":\"little\"}]]}}},\"view\":{\"type\":\"object\",\"name\":\"CDSView\",\"id\":\"p1349\",\"attributes\":{\"filter\":{\"type\":\"object\",\"name\":\"AllIndices\",\"id\":\"p1350\"}}},\"glyph\":{\"type\":\"object\",\"name\":\"Scatter\",\"id\":\"p1344\",\"attributes\":{\"x\":{\"type\":\"field\",\"field\":\"x\"},\"y\":{\"type\":\"field\",\"field\":\"y\"},\"size\":{\"type\":\"value\",\"value\":10},\"line_color\":{\"type\":\"value\",\"value\":\"blue\"},\"line_alpha\":{\"type\":\"value\",\"value\":0.2},\"fill_color\":{\"type\":\"value\",\"value\":\"blue\"},\"fill_alpha\":{\"type\":\"value\",\"value\":0.1},\"hatch_color\":{\"type\":\"value\",\"value\":\"blue\"}}},\"nonselection_glyph\":{\"type\":\"object\",\"name\":\"Scatter\",\"id\":\"p1345\",\"attributes\":{\"x\":{\"type\":\"field\",\"field\":\"x\"},\"y\":{\"type\":\"field\",\"field\":\"y\"},\"size\":{\"type\":\"value\",\"value\":10},\"line_color\":{\"type\":\"value\",\"value\":\"blue\"},\"line_alpha\":{\"type\":\"value\",\"value\":0.1},\"fill_color\":{\"type\":\"value\",\"value\":\"blue\"},\"fill_alpha\":{\"type\":\"value\",\"value\":0.1},\"hatch_color\":{\"type\":\"value\",\"value\":\"blue\"},\"hatch_alpha\":{\"type\":\"value\",\"value\":0.1}}},\"hover_glyph\":{\"type\":\"object\",\"name\":\"Scatter\",\"id\":\"p1346\",\"attributes\":{\"x\":{\"type\":\"field\",\"field\":\"x\"},\"y\":{\"type\":\"field\",\"field\":\"y\"},\"size\":{\"type\":\"value\",\"value\":10},\"line_alpha\":{\"type\":\"value\",\"value\":0.2},\"fill_color\":{\"type\":\"value\",\"value\":\"blue\"},\"fill_alpha\":{\"type\":\"value\",\"value\":0.1},\"hatch_color\":{\"type\":\"value\",\"value\":\"blue\"}}},\"muted_glyph\":{\"type\":\"object\",\"name\":\"Scatter\",\"id\":\"p1347\",\"attributes\":{\"x\":{\"type\":\"field\",\"field\":\"x\"},\"y\":{\"type\":\"field\",\"field\":\"y\"},\"size\":{\"type\":\"value\",\"value\":10},\"line_color\":{\"type\":\"value\",\"value\":\"blue\"},\"line_alpha\":{\"type\":\"value\",\"value\":0.2},\"fill_color\":{\"type\":\"value\",\"value\":\"blue\"},\"fill_alpha\":{\"type\":\"value\",\"value\":0.2},\"hatch_color\":{\"type\":\"value\",\"value\":\"blue\"},\"hatch_alpha\":{\"type\":\"value\",\"value\":0.2}}}}}],\"toolbar\":{\"type\":\"object\",\"name\":\"Toolbar\",\"id\":\"p1314\",\"attributes\":{\"tools\":[{\"type\":\"object\",\"name\":\"PanTool\",\"id\":\"p1327\"},{\"type\":\"object\",\"name\":\"WheelZoomTool\",\"id\":\"p1328\",\"attributes\":{\"renderers\":\"auto\"}},{\"type\":\"object\",\"name\":\"BoxZoomTool\",\"id\":\"p1329\",\"attributes\":{\"overlay\":{\"type\":\"object\",\"name\":\"BoxAnnotation\",\"id\":\"p1330\",\"attributes\":{\"syncable\":false,\"line_color\":\"black\",\"line_alpha\":1.0,\"line_width\":2,\"line_dash\":[4,4],\"fill_color\":\"lightgrey\",\"fill_alpha\":0.5,\"level\":\"overlay\",\"visible\":false,\"left\":{\"type\":\"number\",\"value\":\"nan\"},\"right\":{\"type\":\"number\",\"value\":\"nan\"},\"top\":{\"type\":\"number\",\"value\":\"nan\"},\"bottom\":{\"type\":\"number\",\"value\":\"nan\"},\"left_units\":\"canvas\",\"right_units\":\"canvas\",\"top_units\":\"canvas\",\"bottom_units\":\"canvas\",\"handles\":{\"type\":\"object\",\"name\":\"BoxInteractionHandles\",\"id\":\"p1336\",\"attributes\":{\"all\":{\"type\":\"object\",\"name\":\"AreaVisuals\",\"id\":\"p1335\",\"attributes\":{\"fill_color\":\"white\",\"hover_fill_color\":\"lightgray\"}}}}}}}},{\"type\":\"object\",\"name\":\"SaveTool\",\"id\":\"p1337\"},{\"type\":\"object\",\"name\":\"ResetTool\",\"id\":\"p1338\"},{\"type\":\"object\",\"name\":\"HelpTool\",\"id\":\"p1339\"},{\"type\":\"object\",\"name\":\"HoverTool\",\"id\":\"p1340\",\"attributes\":{\"renderers\":\"auto\",\"tooltips\":\"@index\"}}]}},\"left\":[{\"type\":\"object\",\"name\":\"LinearAxis\",\"id\":\"p1322\",\"attributes\":{\"ticker\":{\"type\":\"object\",\"name\":\"BasicTicker\",\"id\":\"p1323\",\"attributes\":{\"mantissas\":[1,2,5]}},\"formatter\":{\"type\":\"object\",\"name\":\"BasicTickFormatter\",\"id\":\"p1324\"},\"major_label_policy\":{\"type\":\"object\",\"name\":\"AllLabels\",\"id\":\"p1325\"}}}],\"below\":[{\"type\":\"object\",\"name\":\"LinearAxis\",\"id\":\"p1317\",\"attributes\":{\"ticker\":{\"type\":\"object\",\"name\":\"BasicTicker\",\"id\":\"p1318\",\"attributes\":{\"mantissas\":[1,2,5]}},\"formatter\":{\"type\":\"object\",\"name\":\"BasicTickFormatter\",\"id\":\"p1319\"},\"major_label_policy\":{\"type\":\"object\",\"name\":\"AllLabels\",\"id\":\"p1320\"}}}],\"center\":[{\"type\":\"object\",\"name\":\"Grid\",\"id\":\"p1321\",\"attributes\":{\"axis\":{\"id\":\"p1317\"}}},{\"type\":\"object\",\"name\":\"Grid\",\"id\":\"p1326\",\"attributes\":{\"dimension\":1,\"axis\":{\"id\":\"p1322\"}}}]}}]}};\n",
       "  const render_items = [{\"docid\":\"bde27a70-1ad1-49ff-b48d-bad73b0f14b9\",\"roots\":{\"p1305\":\"f68ca259-4011-4e53-afb2-20e8a31ce380\"},\"root_ids\":[\"p1305\"]}];\n",
       "  void root.Bokeh.embed.embed_items_notebook(docs_json, render_items);\n",
       "  }\n",
       "  if (root.Bokeh !== undefined) {\n",
       "    embed_document(root);\n",
       "  } else {\n",
       "    let attempts = 0;\n",
       "    const timer = setInterval(function(root) {\n",
       "      if (root.Bokeh !== undefined) {\n",
       "        clearInterval(timer);\n",
       "        embed_document(root);\n",
       "      } else {\n",
       "        attempts++;\n",
       "        if (attempts > 100) {\n",
       "          clearInterval(timer);\n",
       "          console.log(\"Bokeh: ERROR: Unable to run BokehJS code because BokehJS library is missing\");\n",
       "        }\n",
       "      }\n",
       "    }, 10, root)\n",
       "  }\n",
       "})(window);"
      ],
      "application/vnd.bokehjs_exec.v0+json": ""
     },
     "metadata": {
      "application/vnd.bokehjs_exec.v0+json": {
       "id": "p1305"
      }
     },
     "output_type": "display_data"
    }
   ],
   "source": [
    "# Add our DataFrame as a ColumnDataSource for Bokeh\n",
    "plot_data = ColumnDataSource(tsne_df)\n",
    "\n",
    "# Create the plot and configure the title, dimensions, and tools\n",
    "tsne_plot = figure(title='t-SNE Word Embeddings')\n",
    "\n",
    "# Add a hover tool to display words on roll-over\n",
    "tsne_plot.add_tools(HoverTool(tooltips='@index') )\n",
    "\n",
    "# Draw the words as circles on the plot\n",
    "tsne_plot.circle('x', 'y',\n",
    "                 source=plot_data,\n",
    "                 color='blue',\n",
    "                 line_alpha=0.2,\n",
    "                 fill_alpha=0.1,\n",
    "                 size=10,\n",
    "                 hover_line_color='black')\n",
    "\n",
    "# Engage!\n",
    "show(tsne_plot)"
   ]
  },
  {
   "cell_type": "markdown",
   "metadata": {
    "id": "TtIBMFnNrQlL"
   },
   "source": [
    "<a id='bias'></a>\n",
    "\n",
    "# Discovering Language Bias With Word Embeddings\n",
    "\n",
    "The vector representations of word Embeddings can be used for all kinds of tasks. One such task is discovering **language bias**: language that is normatively oriented towards certain people, ideas, or things. \n",
    "\n",
    "In order to do this, we first need to postulate **concepts** that we suspect a bias towards. For example, people often associate words with masculinity or femininity (think of \"fireman\" vs \"nurse\"). This reflects both a normative construction of a gender binary, as well as stereotypes *within* that binary. We can attempt to quantify this directly using notions of distance with word embeddings.\n",
    "\n",
    "We first define **target concepts** for the terms we aim to identify biases towards (e.g., \"male\" and \"female\"). Then, we can then compute relative similarities of other word vectors – particularly, words that act as evaluative attributes such as \"strong\" and \"sensitive\". These words can be categorised through clustering algorithms and labeled through a semantic analysis system into more general (conceptual) biases, yielding a broad picture of the biases present in a discourse community.\n",
    "\n",
    "At the bottom of this notebook you'll find some [existing target sets](#target) that have been used in the literature on language biases."
   ]
  },
  {
   "cell_type": "markdown",
   "metadata": {
    "id": "FSbUVbC-rQlY"
   },
   "source": [
    "## Obtaining Biases Towards Target Concepts\n",
    "\n",
    "We will run our method of finding biased words towards our target sets. We will be using functions in an external file - `utils.py` - which you are free to look through if you're interested. Otherwise, feel free to use the functions as desired.\n",
    "\n",
    "Given a vocabulary and two sets of target words (such as, in this case, those for *women* and *men*), we rank the words from least to most biased. As such, we obtain two ordered lists of the most biased words towards each target set, obtaining an overall view of the bias distribution in that particular community with respect to those two target sets. \n",
    "\n",
    "The approach is as follows:\n",
    "- We calculate the centroid of a target set by averaging the embedding vectors in our target set (e.g. the vectors for `he, son, his, him, father, male` for our target concept `male`);\n",
    "- We calculate the cosine similarity between the vectors for all words in our vocabulary as compared to our two centroids (we also apply POS-filtering to only work with parts of speech we expect to be relevant);\n",
    "- We use a threshold based on standard deviation to determine how severe a bias needs to be before we include it;\n",
    "- We rank the words in the vocabulary of our word embeddings model based on their bias towards either target concept.\n",
    "\n",
    "The implicit hypothesis here is that word vectors closer to the centroid of a target concept are used more similarly with respect that concept. This, in effect, is an effort to quantify the bias of words in the discourse of a community."
   ]
  },
  {
   "cell_type": "code",
   "execution_count": 56,
   "metadata": {},
   "outputs": [
    {
     "name": "stderr",
     "output_type": "stream",
     "text": [
      "[nltk_data] Downloading package averaged_perceptron_tagger_eng to\n",
      "[nltk_data]     /Users/tomvannuenen/nltk_data...\n",
      "[nltk_data]   Package averaged_perceptron_tagger_eng is already up-to-\n",
      "[nltk_data]       date!\n"
     ]
    },
    {
     "data": {
      "text/plain": [
       "True"
      ]
     },
     "execution_count": 56,
     "metadata": {},
     "output_type": "execute_result"
    }
   ],
   "source": [
    "# Import function to calculate biased words\n",
    "from utils import calculate_biased_words\n",
    "import nltk\n",
    "nltk.download('averaged_perceptron_tagger_eng')"
   ]
  },
  {
   "cell_type": "markdown",
   "metadata": {},
   "source": [
    "Here are our target concept vectors. This is a critical choice: the centroid of these represents the concept at hand. What happens if you change the words included?"
   ]
  },
  {
   "cell_type": "code",
   "execution_count": 57,
   "metadata": {},
   "outputs": [],
   "source": [
    "target1 = ['sister' , 'female' , 'woman' , 'girl' , 'daughter' , 'she' , 'hers' , 'her']\n",
    "target2 = ['brother' , 'male' , 'man' , 'boy' , 'son' , 'he' , 'his' , 'him'] "
   ]
  },
  {
   "cell_type": "code",
   "execution_count": 58,
   "metadata": {},
   "outputs": [],
   "source": [
    "model = Word2Vec.load('../../data/aita_comments.emb')"
   ]
  },
  {
   "cell_type": "code",
   "execution_count": 59,
   "metadata": {
    "executionInfo": {
     "elapsed": 11526,
     "status": "ok",
     "timestamp": 1647303428120,
     "user": {
      "displayName": "Tom van Nuenen",
      "photoUrl": "https://lh3.googleusercontent.com/a-/AOh14GhuBmxDvW5I_LJfZtwlPqMFD8QGLVPP3skvpkTnuQ=s64",
      "userId": "10012302451096885058"
     },
     "user_tz": 300
    },
    "id": "SIzdtQV5rQlh",
    "scrolled": true
   },
   "outputs": [],
   "source": [
    "[b1, b2] = calculate_biased_words(model, target1, target2, 4)"
   ]
  },
  {
   "cell_type": "markdown",
   "metadata": {
    "id": "LJpg5BDydlYT"
   },
   "source": [
    "Let's print some biases. Here you see the most-biased words towards our target concepts (1 being *women*, 2 being *men*)."
   ]
  },
  {
   "cell_type": "code",
   "execution_count": 60,
   "metadata": {
    "colab": {
     "base_uri": "https://localhost:8080/"
    },
    "executionInfo": {
     "elapsed": 191,
     "status": "ok",
     "timestamp": 1647303438347,
     "user": {
      "displayName": "Tom van Nuenen",
      "photoUrl": "https://lh3.googleusercontent.com/a-/AOh14GhuBmxDvW5I_LJfZtwlPqMFD8QGLVPP3skvpkTnuQ=s64",
      "userId": "10012302451096885058"
     },
     "user_tz": 300
    },
    "id": "qc-9g8BErQll",
    "outputId": "93aa1d97-e9ad-4f17-9ce3-bef7d4079209"
   },
   "outputs": [
    {
     "name": "stdout",
     "output_type": "stream",
     "text": [
      "Biased words towards target set 1\n",
      "['body', 'business', 'involve', 'picture', 'terrible', 'short', 'major', 'describe', 'creepy', 'form', 'detail', 'threaten', 'communication', 'photo', 'attractive', 'shoe', 'trauma', 'painful', 'hurtful', 'social_medium', 'incident', 'intimate', 'method', 'intent', 'frame', 'nude', 'recover', 'vulnerable', 'chick', 'skinny', 'ntayou', 'sexy', 'loose', 'cross_line', 'childbirth', 'self_conscious', 'unattractive', 'fashion', 'invasive', 'acquaintance', 'unrealistic', 'downright', 'workout', 'shaming', 'superficial', 'athletic']\n"
     ]
    }
   ],
   "source": [
    "print('Biased words towards target set 1')\n",
    "print([word for word in b1.keys()])"
   ]
  },
  {
   "cell_type": "code",
   "execution_count": 61,
   "metadata": {},
   "outputs": [
    {
     "name": "stdout",
     "output_type": "stream",
     "text": [
      "Biased words towards target set 2\n",
      "['deal', 'okay', 'birthday', 'service', 'win', 'plenty', 'split', 'separate', 'secret', 'lock', 'trash', 'vote', 'x', 'buddy', 'btw', 'autistic', 'mate', 'uncle', 'vs', 'pride', 'reward', 'daddy', 'chip', 'prize', 'lord', 'pity', 'collect', 'usual', 'dear', 'upbringing', 'sir', 'heaven']\n"
     ]
    }
   ],
   "source": [
    "print('Biased words towards target set 2')\n",
    "print([word for word in b2.keys()] )"
   ]
  },
  {
   "cell_type": "markdown",
   "metadata": {
    "id": "Zpk0lx2xplMf"
   },
   "source": [
    "## Visualizing Biases using $t$-SNE\n",
    "\n",
    "We now return to our dimensionality reduction technique, $t$-SNE, to try and visualize these biased words in a 2D space using Bokeh."
   ]
  },
  {
   "cell_type": "code",
   "execution_count": 83,
   "metadata": {},
   "outputs": [],
   "source": [
    "import matplotlib.pyplot as plt\n",
    "import numpy as np\n",
    "\n",
    "from sklearn.manifold import TSNE\n",
    "%matplotlib inline"
   ]
  },
  {
   "cell_type": "code",
   "execution_count": 84,
   "metadata": {},
   "outputs": [],
   "source": [
    "with open(tsne_path, 'rb') as f:\n",
    "    X_tsne = pickle.load(f)\n",
    "    \n",
    "tsne_df = pd.read_pickle(tsne_df_path)"
   ]
  },
  {
   "cell_type": "code",
   "execution_count": 85,
   "metadata": {},
   "outputs": [],
   "source": [
    "# Convert biased term keys to arrays\n",
    "target1_idx = np.array([model.wv.key_to_index[key] for key in b1.keys()])\n",
    "target2_idx = np.array([model.wv.key_to_index[key] for key in b2.keys()])"
   ]
  },
  {
   "cell_type": "code",
   "execution_count": 86,
   "metadata": {},
   "outputs": [],
   "source": [
    "# Find t-sne values for the biased sets\n",
    "X_target1 = X_tsne[target1_idx]\n",
    "X_target2 = X_tsne[target2_idx]"
   ]
  },
  {
   "cell_type": "code",
   "execution_count": 87,
   "metadata": {},
   "outputs": [
    {
     "data": {
      "text/html": [
       "    <style>\n",
       "        .bk-notebook-logo {\n",
       "            display: block;\n",
       "            width: 20px;\n",
       "            height: 20px;\n",
       "            background-image: url(data:image/png;base64,iVBORw0KGgoAAAANSUhEUgAAABQAAAAUCAYAAACNiR0NAAAABHNCSVQICAgIfAhkiAAAAAlwSFlzAAALEgAACxIB0t1+/AAAABx0RVh0U29mdHdhcmUAQWRvYmUgRmlyZXdvcmtzIENTNui8sowAAAOkSURBVDiNjZRtaJVlGMd/1/08zzln5zjP1LWcU9N0NkN8m2CYjpgQYQXqSs0I84OLIC0hkEKoPtiH3gmKoiJDU7QpLgoLjLIQCpEsNJ1vqUOdO7ppbuec5+V+rj4ctwzd8IIbbi6u+8f1539dt3A78eXC7QizUF7gyV1fD1Yqg4JWz84yffhm0qkFqBogB9rM8tZdtwVsPUhWhGcFJngGeWrPzHm5oaMmkfEg1usvLFyc8jLRqDOMru7AyC8saQr7GG7f5fvDeH7Ej8CM66nIF+8yngt6HWaKh7k49Soy9nXurCi1o3qUbS3zWfrYeQDTB/Qj6kX6Ybhw4B+bOYoLKCC9H3Nu/leUTZ1JdRWkkn2ldcCamzrcf47KKXdAJllSlxAOkRgyHsGC/zRday5Qld9DyoM4/q/rUoy/CXh3jzOu3bHUVZeU+DEn8FInkPBFlu3+nW3Nw0mk6vCDiWg8CeJaxEwuHS3+z5RgY+YBR6V1Z1nxSOfoaPa4LASWxxdNp+VWTk7+4vzaou8v8PN+xo+KY2xsw6une2frhw05CTYOmQvsEhjhWjn0bmXPjpE1+kplmmkP3suftwTubK9Vq22qKmrBhpY4jvd5afdRA3wGjFAgcnTK2s4hY0/GPNIb0nErGMCRxWOOX64Z8RAC4oCXdklmEvcL8o0BfkNK4lUg9HTl+oPlQxdNo3Mg4Nv175e/1LDGzZen30MEjRUtmXSfiTVu1kK8W4txyV6BMKlbgk3lMwYCiusNy9fVfvvwMxv8Ynl6vxoByANLTWplvuj/nF9m2+PDtt1eiHPBr1oIfhCChQMBw6Aw0UulqTKZdfVvfG7VcfIqLG9bcldL/+pdWTLxLUy8Qq38heUIjh4XlzZxzQm19lLFlr8vdQ97rjZVOLf8nclzckbcD4wxXMidpX30sFd37Fv/GtwwhzhxGVAprjbg0gCAEeIgwCZyTV2Z1REEW8O4py0wsjeloKoMr6iCY6dP92H6Vw/oTyICIthibxjm/DfN9lVz8IqtqKYLUXfoKVMVQVVJOElGjrnnUt9T9wbgp8AyYKaGlqingHZU/uG2NTZSVqwHQTWkx9hxjkpWDaCg6Ckj5qebgBVbT3V3NNXMSiWSDdGV3hrtzla7J+duwPOToIg42ChPQOQjspnSlp1V+Gjdged7+8UN5CRAV7a5EdFNwCjEaBR27b3W890TE7g24NAP/mMDXRWrGoFPQI9ls/MWO2dWFAar/xcOIImbbpA3zgAAAABJRU5ErkJggg==);\n",
       "        }\n",
       "    </style>\n",
       "    <div>\n",
       "        <a href=\"https://bokeh.org\" target=\"_blank\" class=\"bk-notebook-logo\"></a>\n",
       "        <span id=\"df265010-3c05-4f04-8a7c-ed6e2aa3276f\">Loading BokehJS ...</span>\n",
       "    </div>\n"
      ]
     },
     "metadata": {},
     "output_type": "display_data"
    },
    {
     "data": {
      "application/javascript": [
       "'use strict';\n",
       "(function(root) {\n",
       "  function now() {\n",
       "    return new Date();\n",
       "  }\n",
       "\n",
       "  const force = true;\n",
       "\n",
       "  if (typeof root._bokeh_onload_callbacks === \"undefined\" || force === true) {\n",
       "    root._bokeh_onload_callbacks = [];\n",
       "    root._bokeh_is_loading = undefined;\n",
       "  }\n",
       "\n",
       "const JS_MIME_TYPE = 'application/javascript';\n",
       "  const HTML_MIME_TYPE = 'text/html';\n",
       "  const EXEC_MIME_TYPE = 'application/vnd.bokehjs_exec.v0+json';\n",
       "  const CLASS_NAME = 'output_bokeh rendered_html';\n",
       "\n",
       "  /**\n",
       "   * Render data to the DOM node\n",
       "   */\n",
       "  function render(props, node) {\n",
       "    const script = document.createElement(\"script\");\n",
       "    node.appendChild(script);\n",
       "  }\n",
       "\n",
       "  /**\n",
       "   * Handle when an output is cleared or removed\n",
       "   */\n",
       "  function handleClearOutput(event, handle) {\n",
       "    function drop(id) {\n",
       "      const view = Bokeh.index.get_by_id(id)\n",
       "      if (view != null) {\n",
       "        view.model.document.clear()\n",
       "        Bokeh.index.delete(view)\n",
       "      }\n",
       "    }\n",
       "\n",
       "    const cell = handle.cell;\n",
       "\n",
       "    const id = cell.output_area._bokeh_element_id;\n",
       "    const server_id = cell.output_area._bokeh_server_id;\n",
       "\n",
       "    // Clean up Bokeh references\n",
       "    if (id != null) {\n",
       "      drop(id)\n",
       "    }\n",
       "\n",
       "    if (server_id !== undefined) {\n",
       "      // Clean up Bokeh references\n",
       "      const cmd_clean = \"from bokeh.io.state import curstate; print(curstate().uuid_to_server['\" + server_id + \"'].get_sessions()[0].document.roots[0]._id)\";\n",
       "      cell.notebook.kernel.execute(cmd_clean, {\n",
       "        iopub: {\n",
       "          output: function(msg) {\n",
       "            const id = msg.content.text.trim()\n",
       "            drop(id)\n",
       "          }\n",
       "        }\n",
       "      });\n",
       "      // Destroy server and session\n",
       "      const cmd_destroy = \"import bokeh.io.notebook as ion; ion.destroy_server('\" + server_id + \"')\";\n",
       "      cell.notebook.kernel.execute(cmd_destroy);\n",
       "    }\n",
       "  }\n",
       "\n",
       "  /**\n",
       "   * Handle when a new output is added\n",
       "   */\n",
       "  function handleAddOutput(event, handle) {\n",
       "    const output_area = handle.output_area;\n",
       "    const output = handle.output;\n",
       "\n",
       "    // limit handleAddOutput to display_data with EXEC_MIME_TYPE content only\n",
       "    if ((output.output_type != \"display_data\") || (!Object.prototype.hasOwnProperty.call(output.data, EXEC_MIME_TYPE))) {\n",
       "      return\n",
       "    }\n",
       "\n",
       "    const toinsert = output_area.element.find(\".\" + CLASS_NAME.split(' ')[0]);\n",
       "\n",
       "    if (output.metadata[EXEC_MIME_TYPE][\"id\"] !== undefined) {\n",
       "      toinsert[toinsert.length - 1].firstChild.textContent = output.data[JS_MIME_TYPE];\n",
       "      // store reference to embed id on output_area\n",
       "      output_area._bokeh_element_id = output.metadata[EXEC_MIME_TYPE][\"id\"];\n",
       "    }\n",
       "    if (output.metadata[EXEC_MIME_TYPE][\"server_id\"] !== undefined) {\n",
       "      const bk_div = document.createElement(\"div\");\n",
       "      bk_div.innerHTML = output.data[HTML_MIME_TYPE];\n",
       "      const script_attrs = bk_div.children[0].attributes;\n",
       "      for (let i = 0; i < script_attrs.length; i++) {\n",
       "        toinsert[toinsert.length - 1].firstChild.setAttribute(script_attrs[i].name, script_attrs[i].value);\n",
       "        toinsert[toinsert.length - 1].firstChild.textContent = bk_div.children[0].textContent\n",
       "      }\n",
       "      // store reference to server id on output_area\n",
       "      output_area._bokeh_server_id = output.metadata[EXEC_MIME_TYPE][\"server_id\"];\n",
       "    }\n",
       "  }\n",
       "\n",
       "  function register_renderer(events, OutputArea) {\n",
       "\n",
       "    function append_mime(data, metadata, element) {\n",
       "      // create a DOM node to render to\n",
       "      const toinsert = this.create_output_subarea(\n",
       "        metadata,\n",
       "        CLASS_NAME,\n",
       "        EXEC_MIME_TYPE\n",
       "      );\n",
       "      this.keyboard_manager.register_events(toinsert);\n",
       "      // Render to node\n",
       "      const props = {data: data, metadata: metadata[EXEC_MIME_TYPE]};\n",
       "      render(props, toinsert[toinsert.length - 1]);\n",
       "      element.append(toinsert);\n",
       "      return toinsert\n",
       "    }\n",
       "\n",
       "    /* Handle when an output is cleared or removed */\n",
       "    events.on('clear_output.CodeCell', handleClearOutput);\n",
       "    events.on('delete.Cell', handleClearOutput);\n",
       "\n",
       "    /* Handle when a new output is added */\n",
       "    events.on('output_added.OutputArea', handleAddOutput);\n",
       "\n",
       "    /**\n",
       "     * Register the mime type and append_mime function with output_area\n",
       "     */\n",
       "    OutputArea.prototype.register_mime_type(EXEC_MIME_TYPE, append_mime, {\n",
       "      /* Is output safe? */\n",
       "      safe: true,\n",
       "      /* Index of renderer in `output_area.display_order` */\n",
       "      index: 0\n",
       "    });\n",
       "  }\n",
       "\n",
       "  // register the mime type if in Jupyter Notebook environment and previously unregistered\n",
       "  if (root.Jupyter !== undefined) {\n",
       "    const events = require('base/js/events');\n",
       "    const OutputArea = require('notebook/js/outputarea').OutputArea;\n",
       "\n",
       "    if (OutputArea.prototype.mime_types().indexOf(EXEC_MIME_TYPE) == -1) {\n",
       "      register_renderer(events, OutputArea);\n",
       "    }\n",
       "  }\n",
       "  if (typeof (root._bokeh_timeout) === \"undefined\" || force === true) {\n",
       "    root._bokeh_timeout = Date.now() + 5000;\n",
       "    root._bokeh_failed_load = false;\n",
       "  }\n",
       "\n",
       "  const NB_LOAD_WARNING = {'data': {'text/html':\n",
       "     \"<div style='background-color: #fdd'>\\n\"+\n",
       "     \"<p>\\n\"+\n",
       "     \"BokehJS does not appear to have successfully loaded. If loading BokehJS from CDN, this \\n\"+\n",
       "     \"may be due to a slow or bad network connection. Possible fixes:\\n\"+\n",
       "     \"</p>\\n\"+\n",
       "     \"<ul>\\n\"+\n",
       "     \"<li>re-rerun `output_notebook()` to attempt to load from CDN again, or</li>\\n\"+\n",
       "     \"<li>use INLINE resources instead, as so:</li>\\n\"+\n",
       "     \"</ul>\\n\"+\n",
       "     \"<code>\\n\"+\n",
       "     \"from bokeh.resources import INLINE\\n\"+\n",
       "     \"output_notebook(resources=INLINE)\\n\"+\n",
       "     \"</code>\\n\"+\n",
       "     \"</div>\"}};\n",
       "\n",
       "  function display_loaded(error = null) {\n",
       "    const el = document.getElementById(\"df265010-3c05-4f04-8a7c-ed6e2aa3276f\");\n",
       "    if (el != null) {\n",
       "      const html = (() => {\n",
       "        if (typeof root.Bokeh === \"undefined\") {\n",
       "          if (error == null) {\n",
       "            return \"BokehJS is loading ...\";\n",
       "          } else {\n",
       "            return \"BokehJS failed to load.\";\n",
       "          }\n",
       "        } else {\n",
       "          const prefix = `BokehJS ${root.Bokeh.version}`;\n",
       "          if (error == null) {\n",
       "            return `${prefix} successfully loaded.`;\n",
       "          } else {\n",
       "            return `${prefix} <b>encountered errors</b> while loading and may not function as expected.`;\n",
       "          }\n",
       "        }\n",
       "      })();\n",
       "      el.innerHTML = html;\n",
       "\n",
       "      if (error != null) {\n",
       "        const wrapper = document.createElement(\"div\");\n",
       "        wrapper.style.overflow = \"auto\";\n",
       "        wrapper.style.height = \"5em\";\n",
       "        wrapper.style.resize = \"vertical\";\n",
       "        const content = document.createElement(\"div\");\n",
       "        content.style.fontFamily = \"monospace\";\n",
       "        content.style.whiteSpace = \"pre-wrap\";\n",
       "        content.style.backgroundColor = \"rgb(255, 221, 221)\";\n",
       "        content.textContent = error.stack ?? error.toString();\n",
       "        wrapper.append(content);\n",
       "        el.append(wrapper);\n",
       "      }\n",
       "    } else if (Date.now() < root._bokeh_timeout) {\n",
       "      setTimeout(() => display_loaded(error), 100);\n",
       "    }\n",
       "  }\n",
       "\n",
       "  function run_callbacks() {\n",
       "    try {\n",
       "      root._bokeh_onload_callbacks.forEach(function(callback) {\n",
       "        if (callback != null)\n",
       "          callback();\n",
       "      });\n",
       "    } finally {\n",
       "      delete root._bokeh_onload_callbacks\n",
       "    }\n",
       "    console.debug(\"Bokeh: all callbacks have finished\");\n",
       "  }\n",
       "\n",
       "  function load_libs(css_urls, js_urls, callback) {\n",
       "    if (css_urls == null) css_urls = [];\n",
       "    if (js_urls == null) js_urls = [];\n",
       "\n",
       "    root._bokeh_onload_callbacks.push(callback);\n",
       "    if (root._bokeh_is_loading > 0) {\n",
       "      console.debug(\"Bokeh: BokehJS is being loaded, scheduling callback at\", now());\n",
       "      return null;\n",
       "    }\n",
       "    if (js_urls == null || js_urls.length === 0) {\n",
       "      run_callbacks();\n",
       "      return null;\n",
       "    }\n",
       "    console.debug(\"Bokeh: BokehJS not loaded, scheduling load and callback at\", now());\n",
       "    root._bokeh_is_loading = css_urls.length + js_urls.length;\n",
       "\n",
       "    function on_load() {\n",
       "      root._bokeh_is_loading--;\n",
       "      if (root._bokeh_is_loading === 0) {\n",
       "        console.debug(\"Bokeh: all BokehJS libraries/stylesheets loaded\");\n",
       "        run_callbacks()\n",
       "      }\n",
       "    }\n",
       "\n",
       "    function on_error(url) {\n",
       "      console.error(\"failed to load \" + url);\n",
       "    }\n",
       "\n",
       "    for (let i = 0; i < css_urls.length; i++) {\n",
       "      const url = css_urls[i];\n",
       "      const element = document.createElement(\"link\");\n",
       "      element.onload = on_load;\n",
       "      element.onerror = on_error.bind(null, url);\n",
       "      element.rel = \"stylesheet\";\n",
       "      element.type = \"text/css\";\n",
       "      element.href = url;\n",
       "      console.debug(\"Bokeh: injecting link tag for BokehJS stylesheet: \", url);\n",
       "      document.body.appendChild(element);\n",
       "    }\n",
       "\n",
       "    for (let i = 0; i < js_urls.length; i++) {\n",
       "      const url = js_urls[i];\n",
       "      const element = document.createElement('script');\n",
       "      element.onload = on_load;\n",
       "      element.onerror = on_error.bind(null, url);\n",
       "      element.async = false;\n",
       "      element.src = url;\n",
       "      console.debug(\"Bokeh: injecting script tag for BokehJS library: \", url);\n",
       "      document.head.appendChild(element);\n",
       "    }\n",
       "  };\n",
       "\n",
       "  function inject_raw_css(css) {\n",
       "    const element = document.createElement(\"style\");\n",
       "    element.appendChild(document.createTextNode(css));\n",
       "    document.body.appendChild(element);\n",
       "  }\n",
       "\n",
       "  const js_urls = [\"https://cdn.bokeh.org/bokeh/release/bokeh-3.6.2.min.js\", \"https://cdn.bokeh.org/bokeh/release/bokeh-gl-3.6.2.min.js\", \"https://cdn.bokeh.org/bokeh/release/bokeh-widgets-3.6.2.min.js\", \"https://cdn.bokeh.org/bokeh/release/bokeh-tables-3.6.2.min.js\", \"https://cdn.bokeh.org/bokeh/release/bokeh-mathjax-3.6.2.min.js\"];\n",
       "  const css_urls = [];\n",
       "\n",
       "  const inline_js = [    function(Bokeh) {\n",
       "      Bokeh.set_log_level(\"info\");\n",
       "    },\n",
       "function(Bokeh) {\n",
       "    }\n",
       "  ];\n",
       "\n",
       "  function run_inline_js() {\n",
       "    if (root.Bokeh !== undefined || force === true) {\n",
       "      try {\n",
       "            for (let i = 0; i < inline_js.length; i++) {\n",
       "      inline_js[i].call(root, root.Bokeh);\n",
       "    }\n",
       "\n",
       "      } catch (error) {display_loaded(error);throw error;\n",
       "      }if (force === true) {\n",
       "        display_loaded();\n",
       "      }} else if (Date.now() < root._bokeh_timeout) {\n",
       "      setTimeout(run_inline_js, 100);\n",
       "    } else if (!root._bokeh_failed_load) {\n",
       "      console.log(\"Bokeh: BokehJS failed to load within specified timeout.\");\n",
       "      root._bokeh_failed_load = true;\n",
       "    } else if (force !== true) {\n",
       "      const cell = $(document.getElementById(\"df265010-3c05-4f04-8a7c-ed6e2aa3276f\")).parents('.cell').data().cell;\n",
       "      cell.output_area.append_execute_result(NB_LOAD_WARNING)\n",
       "    }\n",
       "  }\n",
       "\n",
       "  if (root._bokeh_is_loading === 0) {\n",
       "    console.debug(\"Bokeh: BokehJS loaded, going straight to plotting\");\n",
       "    run_inline_js();\n",
       "  } else {\n",
       "    load_libs(css_urls, js_urls, function() {\n",
       "      console.debug(\"Bokeh: BokehJS plotting callback run at\", now());\n",
       "      run_inline_js();\n",
       "    });\n",
       "  }\n",
       "}(window));"
      ],
      "application/vnd.bokehjs_load.v0+json": "'use strict';\n(function(root) {\n  function now() {\n    return new Date();\n  }\n\n  const force = true;\n\n  if (typeof root._bokeh_onload_callbacks === \"undefined\" || force === true) {\n    root._bokeh_onload_callbacks = [];\n    root._bokeh_is_loading = undefined;\n  }\n\n\n  if (typeof (root._bokeh_timeout) === \"undefined\" || force === true) {\n    root._bokeh_timeout = Date.now() + 5000;\n    root._bokeh_failed_load = false;\n  }\n\n  const NB_LOAD_WARNING = {'data': {'text/html':\n     \"<div style='background-color: #fdd'>\\n\"+\n     \"<p>\\n\"+\n     \"BokehJS does not appear to have successfully loaded. If loading BokehJS from CDN, this \\n\"+\n     \"may be due to a slow or bad network connection. Possible fixes:\\n\"+\n     \"</p>\\n\"+\n     \"<ul>\\n\"+\n     \"<li>re-rerun `output_notebook()` to attempt to load from CDN again, or</li>\\n\"+\n     \"<li>use INLINE resources instead, as so:</li>\\n\"+\n     \"</ul>\\n\"+\n     \"<code>\\n\"+\n     \"from bokeh.resources import INLINE\\n\"+\n     \"output_notebook(resources=INLINE)\\n\"+\n     \"</code>\\n\"+\n     \"</div>\"}};\n\n  function display_loaded(error = null) {\n    const el = document.getElementById(\"df265010-3c05-4f04-8a7c-ed6e2aa3276f\");\n    if (el != null) {\n      const html = (() => {\n        if (typeof root.Bokeh === \"undefined\") {\n          if (error == null) {\n            return \"BokehJS is loading ...\";\n          } else {\n            return \"BokehJS failed to load.\";\n          }\n        } else {\n          const prefix = `BokehJS ${root.Bokeh.version}`;\n          if (error == null) {\n            return `${prefix} successfully loaded.`;\n          } else {\n            return `${prefix} <b>encountered errors</b> while loading and may not function as expected.`;\n          }\n        }\n      })();\n      el.innerHTML = html;\n\n      if (error != null) {\n        const wrapper = document.createElement(\"div\");\n        wrapper.style.overflow = \"auto\";\n        wrapper.style.height = \"5em\";\n        wrapper.style.resize = \"vertical\";\n        const content = document.createElement(\"div\");\n        content.style.fontFamily = \"monospace\";\n        content.style.whiteSpace = \"pre-wrap\";\n        content.style.backgroundColor = \"rgb(255, 221, 221)\";\n        content.textContent = error.stack ?? error.toString();\n        wrapper.append(content);\n        el.append(wrapper);\n      }\n    } else if (Date.now() < root._bokeh_timeout) {\n      setTimeout(() => display_loaded(error), 100);\n    }\n  }\n\n  function run_callbacks() {\n    try {\n      root._bokeh_onload_callbacks.forEach(function(callback) {\n        if (callback != null)\n          callback();\n      });\n    } finally {\n      delete root._bokeh_onload_callbacks\n    }\n    console.debug(\"Bokeh: all callbacks have finished\");\n  }\n\n  function load_libs(css_urls, js_urls, callback) {\n    if (css_urls == null) css_urls = [];\n    if (js_urls == null) js_urls = [];\n\n    root._bokeh_onload_callbacks.push(callback);\n    if (root._bokeh_is_loading > 0) {\n      console.debug(\"Bokeh: BokehJS is being loaded, scheduling callback at\", now());\n      return null;\n    }\n    if (js_urls == null || js_urls.length === 0) {\n      run_callbacks();\n      return null;\n    }\n    console.debug(\"Bokeh: BokehJS not loaded, scheduling load and callback at\", now());\n    root._bokeh_is_loading = css_urls.length + js_urls.length;\n\n    function on_load() {\n      root._bokeh_is_loading--;\n      if (root._bokeh_is_loading === 0) {\n        console.debug(\"Bokeh: all BokehJS libraries/stylesheets loaded\");\n        run_callbacks()\n      }\n    }\n\n    function on_error(url) {\n      console.error(\"failed to load \" + url);\n    }\n\n    for (let i = 0; i < css_urls.length; i++) {\n      const url = css_urls[i];\n      const element = document.createElement(\"link\");\n      element.onload = on_load;\n      element.onerror = on_error.bind(null, url);\n      element.rel = \"stylesheet\";\n      element.type = \"text/css\";\n      element.href = url;\n      console.debug(\"Bokeh: injecting link tag for BokehJS stylesheet: \", url);\n      document.body.appendChild(element);\n    }\n\n    for (let i = 0; i < js_urls.length; i++) {\n      const url = js_urls[i];\n      const element = document.createElement('script');\n      element.onload = on_load;\n      element.onerror = on_error.bind(null, url);\n      element.async = false;\n      element.src = url;\n      console.debug(\"Bokeh: injecting script tag for BokehJS library: \", url);\n      document.head.appendChild(element);\n    }\n  };\n\n  function inject_raw_css(css) {\n    const element = document.createElement(\"style\");\n    element.appendChild(document.createTextNode(css));\n    document.body.appendChild(element);\n  }\n\n  const js_urls = [\"https://cdn.bokeh.org/bokeh/release/bokeh-3.6.2.min.js\", \"https://cdn.bokeh.org/bokeh/release/bokeh-gl-3.6.2.min.js\", \"https://cdn.bokeh.org/bokeh/release/bokeh-widgets-3.6.2.min.js\", \"https://cdn.bokeh.org/bokeh/release/bokeh-tables-3.6.2.min.js\", \"https://cdn.bokeh.org/bokeh/release/bokeh-mathjax-3.6.2.min.js\"];\n  const css_urls = [];\n\n  const inline_js = [    function(Bokeh) {\n      Bokeh.set_log_level(\"info\");\n    },\nfunction(Bokeh) {\n    }\n  ];\n\n  function run_inline_js() {\n    if (root.Bokeh !== undefined || force === true) {\n      try {\n            for (let i = 0; i < inline_js.length; i++) {\n      inline_js[i].call(root, root.Bokeh);\n    }\n\n      } catch (error) {display_loaded(error);throw error;\n      }if (force === true) {\n        display_loaded();\n      }} else if (Date.now() < root._bokeh_timeout) {\n      setTimeout(run_inline_js, 100);\n    } else if (!root._bokeh_failed_load) {\n      console.log(\"Bokeh: BokehJS failed to load within specified timeout.\");\n      root._bokeh_failed_load = true;\n    } else if (force !== true) {\n      const cell = $(document.getElementById(\"df265010-3c05-4f04-8a7c-ed6e2aa3276f\")).parents('.cell').data().cell;\n      cell.output_area.append_execute_result(NB_LOAD_WARNING)\n    }\n  }\n\n  if (root._bokeh_is_loading === 0) {\n    console.debug(\"Bokeh: BokehJS loaded, going straight to plotting\");\n    run_inline_js();\n  } else {\n    load_libs(css_urls, js_urls, function() {\n      console.debug(\"Bokeh: BokehJS plotting callback run at\", now());\n      run_inline_js();\n    });\n  }\n}(window));"
     },
     "metadata": {},
     "output_type": "display_data"
    },
    {
     "data": {
      "text/html": [
       "\n",
       "  <div id=\"cad5ed79-60e0-4cb0-864f-c5b82b7f0eba\" data-root-id=\"p1353\" style=\"display: contents;\"></div>\n"
      ]
     },
     "metadata": {},
     "output_type": "display_data"
    },
    {
     "data": {
      "application/javascript": [
       "(function(root) {\n",
       "  function embed_document(root) {\n",
       "  const docs_json = {\"b0605c18-c5ec-4b1c-9b14-600e0cb68e42\":{\"version\":\"3.6.2\",\"title\":\"Bokeh Application\",\"roots\":[{\"type\":\"object\",\"name\":\"Figure\",\"id\":\"p1353\",\"attributes\":{\"x_range\":{\"type\":\"object\",\"name\":\"DataRange1d\",\"id\":\"p1354\"},\"y_range\":{\"type\":\"object\",\"name\":\"DataRange1d\",\"id\":\"p1355\"},\"x_scale\":{\"type\":\"object\",\"name\":\"LinearScale\",\"id\":\"p1362\"},\"y_scale\":{\"type\":\"object\",\"name\":\"LinearScale\",\"id\":\"p1363\"},\"title\":{\"type\":\"object\",\"name\":\"Title\",\"id\":\"p1360\"},\"renderers\":[{\"type\":\"object\",\"name\":\"GlyphRenderer\",\"id\":\"p1399\",\"attributes\":{\"data_source\":{\"type\":\"object\",\"name\":\"ColumnDataSource\",\"id\":\"p1387\",\"attributes\":{\"selected\":{\"type\":\"object\",\"name\":\"Selection\",\"id\":\"p1388\",\"attributes\":{\"indices\":[],\"line_indices\":[]}},\"selection_policy\":{\"type\":\"object\",\"name\":\"UnionRenderers\",\"id\":\"p1389\"},\"data\":{\"type\":\"map\",\"entries\":[[\"x\",{\"type\":\"ndarray\",\"array\":{\"type\":\"bytes\",\"data\":\"66qNQKuLBj8Yh7zBa5/JP+OOKcLr2lBCwdDLwV6SIMGIfTHBMNs3wLPDxz/o3a7BQeU2wo4tyD+2mlZB7zZHQt2YOMILejjAps3ewf377j2Q/fbBdClgwis/YsH0KRDC0Ugewogbxb8WRBzBbp8Rwl6xLEDD+WBCy0qWwQGTOEJFVQ5CRAHHwWYVCMEktxzCSthVQZ/YJkJZU07BiKeLwZ0KkMCAEOHBPns5QUd1H8FRvZTBeqGlQQ==\"},\"shape\":[46],\"dtype\":\"float32\",\"order\":\"little\"}],[\"y\",{\"type\":\"ndarray\",\"array\":{\"type\":\"bytes\",\"data\":\"xNltwgV71cF62MlAT2l4Qh1JBELE8r7AgPWAwQ+pp0Fg6uxBpe/6QYSGA0E00YRBaHKoQSpoeELbdOtBBNeWwRPI98GgZV7CGA0qQvdwbkK4gc9B7ZmLQYX5f8IxthtCAo9CQR/wfEIk8EzC1gsBQk8IW0G5wOHAVTQoQXcmET+q6hLBSn6yQVtIWsKy+AVCPHTrQQaK6j6sHnTCbmXUPus3U0BxHTFCmB47wtnyXkJ/wDlCIC4fvw==\"},\"shape\":[46],\"dtype\":\"float32\",\"order\":\"little\"}],[\"label\",[\"body\",\"business\",\"involve\",\"picture\",\"terrible\",\"short\",\"major\",\"describe\",\"creepy\",\"form\",\"detail\",\"threaten\",\"communication\",\"photo\",\"attractive\",\"shoe\",\"trauma\",\"painful\",\"hurtful\",\"social_medium\",\"incident\",\"intimate\",\"method\",\"intent\",\"frame\",\"nude\",\"recover\",\"vulnerable\",\"chick\",\"skinny\",\"ntayou\",\"sexy\",\"loose\",\"cross_line\",\"childbirth\",\"self_conscious\",\"unattractive\",\"fashion\",\"invasive\",\"acquaintance\",\"unrealistic\",\"downright\",\"workout\",\"shaming\",\"superficial\",\"athletic\"]]]}}},\"view\":{\"type\":\"object\",\"name\":\"CDSView\",\"id\":\"p1400\",\"attributes\":{\"filter\":{\"type\":\"object\",\"name\":\"AllIndices\",\"id\":\"p1401\"}}},\"glyph\":{\"type\":\"object\",\"name\":\"Scatter\",\"id\":\"p1396\",\"attributes\":{\"x\":{\"type\":\"field\",\"field\":\"x\"},\"y\":{\"type\":\"field\",\"field\":\"y\"},\"size\":{\"type\":\"value\",\"value\":8},\"line_color\":{\"type\":\"value\",\"value\":\"blue\"},\"fill_color\":{\"type\":\"value\",\"value\":\"blue\"},\"hatch_color\":{\"type\":\"value\",\"value\":\"blue\"}}},\"nonselection_glyph\":{\"type\":\"object\",\"name\":\"Scatter\",\"id\":\"p1397\",\"attributes\":{\"x\":{\"type\":\"field\",\"field\":\"x\"},\"y\":{\"type\":\"field\",\"field\":\"y\"},\"size\":{\"type\":\"value\",\"value\":8},\"line_color\":{\"type\":\"value\",\"value\":\"blue\"},\"line_alpha\":{\"type\":\"value\",\"value\":0.1},\"fill_color\":{\"type\":\"value\",\"value\":\"blue\"},\"fill_alpha\":{\"type\":\"value\",\"value\":0.1},\"hatch_color\":{\"type\":\"value\",\"value\":\"blue\"},\"hatch_alpha\":{\"type\":\"value\",\"value\":0.1}}},\"muted_glyph\":{\"type\":\"object\",\"name\":\"Scatter\",\"id\":\"p1398\",\"attributes\":{\"x\":{\"type\":\"field\",\"field\":\"x\"},\"y\":{\"type\":\"field\",\"field\":\"y\"},\"size\":{\"type\":\"value\",\"value\":8},\"line_color\":{\"type\":\"value\",\"value\":\"blue\"},\"line_alpha\":{\"type\":\"value\",\"value\":0.2},\"fill_color\":{\"type\":\"value\",\"value\":\"blue\"},\"fill_alpha\":{\"type\":\"value\",\"value\":0.2},\"hatch_color\":{\"type\":\"value\",\"value\":\"blue\"},\"hatch_alpha\":{\"type\":\"value\",\"value\":0.2}}}}},{\"type\":\"object\",\"name\":\"GlyphRenderer\",\"id\":\"p1408\",\"attributes\":{\"data_source\":{\"type\":\"object\",\"name\":\"ColumnDataSource\",\"id\":\"p1390\",\"attributes\":{\"selected\":{\"type\":\"object\",\"name\":\"Selection\",\"id\":\"p1391\",\"attributes\":{\"indices\":[],\"line_indices\":[]}},\"selection_policy\":{\"type\":\"object\",\"name\":\"UnionRenderers\",\"id\":\"p1392\"},\"data\":{\"type\":\"map\",\"entries\":[[\"x\",{\"type\":\"ndarray\",\"array\":{\"type\":\"bytes\",\"data\":\"4jDywUcdjsHvEwrCaz6XQQnJG0H5K1y/veK8wLoNfMFMgjjCrwIEQjHNGUIWFmq/kmUDQgX290APJQhABsudwYyXg8AM2g3CIlUDQIOGnkHaBI2+h+EBwoGk0UE42BhBiCGQQdLuE8IgVdRAci5cwYXHY0E2OS3CZE92QUUBlUE=\"},\"shape\":[32],\"dtype\":\"float32\",\"order\":\"little\"}],[\"y\",{\"type\":\"ndarray\",\"array\":{\"type\":\"bytes\",\"data\":\"+sBBQZm3F0E/SQ/Cc+oPwkKjD8IyZYTABGgZwl5lm8GvNcxBJ7jmwUx3y8HJqURC28l+QcMQa0Fn4PZAfy5FwlmVNEEwHY/BaHcUwVSlF0J8BJbBLeCsweOxOcImGxDC93ScQcHNgUFWp/zBKmUcvxhXjkH9PglBjrSEQXjnlkE=\"},\"shape\":[32],\"dtype\":\"float32\",\"order\":\"little\"}],[\"label\",[\"deal\",\"okay\",\"birthday\",\"service\",\"win\",\"plenty\",\"split\",\"separate\",\"secret\",\"lock\",\"trash\",\"vote\",\"x\",\"buddy\",\"btw\",\"autistic\",\"mate\",\"uncle\",\"vs\",\"pride\",\"reward\",\"daddy\",\"chip\",\"prize\",\"lord\",\"pity\",\"collect\",\"usual\",\"dear\",\"upbringing\",\"sir\",\"heaven\"]]]}}},\"view\":{\"type\":\"object\",\"name\":\"CDSView\",\"id\":\"p1409\",\"attributes\":{\"filter\":{\"type\":\"object\",\"name\":\"AllIndices\",\"id\":\"p1410\"}}},\"glyph\":{\"type\":\"object\",\"name\":\"Scatter\",\"id\":\"p1405\",\"attributes\":{\"x\":{\"type\":\"field\",\"field\":\"x\"},\"y\":{\"type\":\"field\",\"field\":\"y\"},\"size\":{\"type\":\"value\",\"value\":8},\"line_color\":{\"type\":\"value\",\"value\":\"red\"},\"fill_color\":{\"type\":\"value\",\"value\":\"red\"},\"hatch_color\":{\"type\":\"value\",\"value\":\"red\"}}},\"nonselection_glyph\":{\"type\":\"object\",\"name\":\"Scatter\",\"id\":\"p1406\",\"attributes\":{\"x\":{\"type\":\"field\",\"field\":\"x\"},\"y\":{\"type\":\"field\",\"field\":\"y\"},\"size\":{\"type\":\"value\",\"value\":8},\"line_color\":{\"type\":\"value\",\"value\":\"red\"},\"line_alpha\":{\"type\":\"value\",\"value\":0.1},\"fill_color\":{\"type\":\"value\",\"value\":\"red\"},\"fill_alpha\":{\"type\":\"value\",\"value\":0.1},\"hatch_color\":{\"type\":\"value\",\"value\":\"red\"},\"hatch_alpha\":{\"type\":\"value\",\"value\":0.1}}},\"muted_glyph\":{\"type\":\"object\",\"name\":\"Scatter\",\"id\":\"p1407\",\"attributes\":{\"x\":{\"type\":\"field\",\"field\":\"x\"},\"y\":{\"type\":\"field\",\"field\":\"y\"},\"size\":{\"type\":\"value\",\"value\":8},\"line_color\":{\"type\":\"value\",\"value\":\"red\"},\"line_alpha\":{\"type\":\"value\",\"value\":0.2},\"fill_color\":{\"type\":\"value\",\"value\":\"red\"},\"fill_alpha\":{\"type\":\"value\",\"value\":0.2},\"hatch_color\":{\"type\":\"value\",\"value\":\"red\"},\"hatch_alpha\":{\"type\":\"value\",\"value\":0.2}}}}}],\"toolbar\":{\"type\":\"object\",\"name\":\"Toolbar\",\"id\":\"p1361\",\"attributes\":{\"tools\":[{\"type\":\"object\",\"name\":\"PanTool\",\"id\":\"p1374\"},{\"type\":\"object\",\"name\":\"WheelZoomTool\",\"id\":\"p1375\",\"attributes\":{\"renderers\":\"auto\"}},{\"type\":\"object\",\"name\":\"BoxZoomTool\",\"id\":\"p1376\",\"attributes\":{\"overlay\":{\"type\":\"object\",\"name\":\"BoxAnnotation\",\"id\":\"p1377\",\"attributes\":{\"syncable\":false,\"line_color\":\"black\",\"line_alpha\":1.0,\"line_width\":2,\"line_dash\":[4,4],\"fill_color\":\"lightgrey\",\"fill_alpha\":0.5,\"level\":\"overlay\",\"visible\":false,\"left\":{\"type\":\"number\",\"value\":\"nan\"},\"right\":{\"type\":\"number\",\"value\":\"nan\"},\"top\":{\"type\":\"number\",\"value\":\"nan\"},\"bottom\":{\"type\":\"number\",\"value\":\"nan\"},\"left_units\":\"canvas\",\"right_units\":\"canvas\",\"top_units\":\"canvas\",\"bottom_units\":\"canvas\",\"handles\":{\"type\":\"object\",\"name\":\"BoxInteractionHandles\",\"id\":\"p1383\",\"attributes\":{\"all\":{\"type\":\"object\",\"name\":\"AreaVisuals\",\"id\":\"p1382\",\"attributes\":{\"fill_color\":\"white\",\"hover_fill_color\":\"lightgray\"}}}}}}}},{\"type\":\"object\",\"name\":\"SaveTool\",\"id\":\"p1384\"},{\"type\":\"object\",\"name\":\"ResetTool\",\"id\":\"p1385\"},{\"type\":\"object\",\"name\":\"HelpTool\",\"id\":\"p1386\"}]}},\"left\":[{\"type\":\"object\",\"name\":\"LinearAxis\",\"id\":\"p1369\",\"attributes\":{\"ticker\":{\"type\":\"object\",\"name\":\"BasicTicker\",\"id\":\"p1370\",\"attributes\":{\"mantissas\":[1,2,5]}},\"formatter\":{\"type\":\"object\",\"name\":\"BasicTickFormatter\",\"id\":\"p1371\"},\"major_label_policy\":{\"type\":\"object\",\"name\":\"AllLabels\",\"id\":\"p1372\"}}}],\"below\":[{\"type\":\"object\",\"name\":\"LinearAxis\",\"id\":\"p1364\",\"attributes\":{\"ticker\":{\"type\":\"object\",\"name\":\"BasicTicker\",\"id\":\"p1365\",\"attributes\":{\"mantissas\":[1,2,5]}},\"formatter\":{\"type\":\"object\",\"name\":\"BasicTickFormatter\",\"id\":\"p1366\"},\"major_label_policy\":{\"type\":\"object\",\"name\":\"AllLabels\",\"id\":\"p1367\"}}}],\"center\":[{\"type\":\"object\",\"name\":\"Grid\",\"id\":\"p1368\",\"attributes\":{\"axis\":{\"id\":\"p1364\"}}},{\"type\":\"object\",\"name\":\"Grid\",\"id\":\"p1373\",\"attributes\":{\"dimension\":1,\"axis\":{\"id\":\"p1369\"}}},{\"type\":\"object\",\"name\":\"LabelSet\",\"id\":\"p1411\",\"attributes\":{\"source\":{\"id\":\"p1387\"},\"x\":{\"type\":\"field\",\"field\":\"x\"},\"y\":{\"type\":\"field\",\"field\":\"y\"},\"text\":{\"type\":\"field\",\"field\":\"label\"},\"x_offset\":{\"type\":\"value\",\"value\":6},\"y_offset\":{\"type\":\"value\",\"value\":3}}},{\"type\":\"object\",\"name\":\"LabelSet\",\"id\":\"p1415\",\"attributes\":{\"source\":{\"id\":\"p1390\"},\"x\":{\"type\":\"field\",\"field\":\"x\"},\"y\":{\"type\":\"field\",\"field\":\"y\"},\"text\":{\"type\":\"field\",\"field\":\"label\"},\"x_offset\":{\"type\":\"value\",\"value\":6},\"y_offset\":{\"type\":\"value\",\"value\":3}}}]}}]}};\n",
       "  const render_items = [{\"docid\":\"b0605c18-c5ec-4b1c-9b14-600e0cb68e42\",\"roots\":{\"p1353\":\"cad5ed79-60e0-4cb0-864f-c5b82b7f0eba\"},\"root_ids\":[\"p1353\"]}];\n",
       "  void root.Bokeh.embed.embed_items_notebook(docs_json, render_items);\n",
       "  }\n",
       "  if (root.Bokeh !== undefined) {\n",
       "    embed_document(root);\n",
       "  } else {\n",
       "    let attempts = 0;\n",
       "    const timer = setInterval(function(root) {\n",
       "      if (root.Bokeh !== undefined) {\n",
       "        clearInterval(timer);\n",
       "        embed_document(root);\n",
       "      } else {\n",
       "        attempts++;\n",
       "        if (attempts > 100) {\n",
       "          clearInterval(timer);\n",
       "          console.log(\"Bokeh: ERROR: Unable to run BokehJS code because BokehJS library is missing\");\n",
       "        }\n",
       "      }\n",
       "    }, 10, root)\n",
       "  }\n",
       "})(window);"
      ],
      "application/vnd.bokehjs_exec.v0+json": ""
     },
     "metadata": {
      "application/vnd.bokehjs_exec.v0+json": {
       "id": "p1353"
      }
     },
     "output_type": "display_data"
    }
   ],
   "source": [
    "from bokeh.io import show, output_notebook, output_file\n",
    "from bokeh.plotting import figure\n",
    "from bokeh.models import ColumnDataSource, LabelSet\n",
    "\n",
    "# Set up the Bokeh plot\n",
    "output_notebook()\n",
    "\n",
    "p = figure()\n",
    "\n",
    "# Create ColumnDataSource for X_target1 (blue)\n",
    "source1 = ColumnDataSource(data=dict(x=X_target1[:, 0], y=X_target1[:, 1], label=[model.wv.index_to_key[idx] for idx in target1_idx]))\n",
    "\n",
    "# Create ColumnDataSource for X_target2 (red)\n",
    "source2 = ColumnDataSource(data=dict(x=X_target2[:, 0], y=X_target2[:, 1], label=[model.wv.index_to_key[idx] for idx in target2_idx]))\n",
    "\n",
    "# Add scatter plot for X_target1 (blue)\n",
    "p.scatter(x='x', y='y', color='blue', size=8, source=source1)\n",
    "\n",
    "# Add scatter plot for X_target2 (red)\n",
    "p.scatter(x='x', y='y', color='red', size=8, source=source2)\n",
    "\n",
    "# Add labels for X_target1\n",
    "labels1 = LabelSet(x='x', y='y', text='label', x_offset=6, y_offset=3, source=source1)\n",
    "p.add_layout(labels1)\n",
    "\n",
    "# Add labels for X_target2\n",
    "labels2 = LabelSet(x='x', y='y', text='label', x_offset=6, y_offset=3, source=source2)\n",
    "p.add_layout(labels2)\n",
    "\n",
    "# Show the plot\n",
    "show(p)"
   ]
  },
  {
   "cell_type": "markdown",
   "metadata": {},
   "source": [
    "## 💭 Reflection\n",
    "\n",
    "Note that these binary target concepts are often a product of ideology and normativity in society: the gender binary is a good example. When checking for biases towards certain concepts, make sure you consider the fact that you are the one creating / reproducing these concepts, and that you may be reinforcing a constructed binary!\n",
    "\n",
    "Also note that determining your own target concepts and biases is a **iterative** process. Try changing some of the words in the target concepts to see how the biased words and plot change, and discuss with your classmates what you think makes for a coherent and robust target set."
   ]
  },
  {
   "cell_type": "markdown",
   "metadata": {
    "id": "riINX9wVyFRJ",
    "tags": []
   },
   "source": [
    "<a id='target'></a>\n",
    "# Existing Target Sets\n",
    "\n",
    "Here are some other target sets that have been previously used in the literature:\n",
    "\n",
    "* *Gender target sets taken from Nosek, Banaji, and Greenwald 2002.*\n",
    "    - Female: `sister, female, woman, girl, daughter, she, hers, her`.\n",
    "    - Male: `brother, male, man, boy, son, he, his, him`.\n",
    "* *Religion target sets taken from Garg et al. 2018.*\n",
    "    - Islam: `allah, ramadan, turban, emir, salaam, sunni, koran, imam, sultan, prophet, veil, ayatollah, shiite, mosque, islam, sheik, muslim, muhammad`.\n",
    "    - Christianity: `baptism, messiah, catholicism, resurrection, christianity, salva-tion, protestant, gospel, trinity, jesus, christ, christian, cross,catholic, church`.\n",
    "* *Racial target sets taken from Garg et al. 2017*\n",
    "    - White last names: `harris, nelson, robinson, thompson, moore, wright, anderson, clark, jackson, taylor, scott, davis, allen, adams, lewis, williams, jones, wilson, martin, johnson`.\n",
    "    - Hispanic last names: `ruiz, alvarez, vargas, castillo, gomez, soto,gonzalez, sanchez, rivera, mendoza, martinez, torres, ro-driguez, perez, lopez, medina, diaz, garcia, castro, cruz`.\n",
    "    - Asian last names: `cho, wong, tang, huang, chu, chung, ng,wu, liu, chen, lin, yang, kim, chang, shah, wang, li, khan,singh, hong`.\n",
    "    - Russian last names: `gurin, minsky, sokolov, markov, maslow, novikoff, mishkin, smirnov, orloff, ivanov, sokoloff, davidoff, savin, romanoff, babinski, sorokin, levin, pavlov, rodin, agin`.\n",
    "* *Career/family target sets taken from Garg et al. 2018.*\n",
    "    - Career: `executive, management, professional, corporation, salary, office, business, career`.\n",
    "    - Family: `home, parents, children, family, cousins, marriage, wedding, relatives.Math: math, algebra, geometry, calculus, equations, computation, numbers, addition`.\n",
    "* *Arts/Science target sets taken from Garg et al. 2018.*\n",
    "    - Arts: `poetry, art, sculpture, dance, literature, novel, symphony, drama`.\n",
    "    - Science: `science, technology, physics, chemistry, Einstein, NASA, experiment, astronomy`."
   ]
  },
  {
   "cell_type": "markdown",
   "metadata": {
    "id": "aHCHMAPYTCVX"
   },
   "source": [
    "### Sources\n",
    "\n",
    "Nosek, B. A., Banaji, M. R., & Greenwald, A. G. (2002). Harvesting implicit group attitudes and beliefs from a demonstration web site. Group Dynamics, 6(1), 101–115. https://doi.org/10.1037/1089-2699.6.1.101\n",
    "\n",
    "Garg, N., Schiebinger, L., Jurafsky, D., & Zou, J. (2017). Word Embeddings Quantify 100 Years of Gender and Ethnic Stereotypes, 1–33."
   ]
  }
 ],
 "metadata": {
  "colab": {
   "collapsed_sections": [],
   "name": "Week 4-1 Word Embeddings.ipynb",
   "provenance": []
  },
  "kernelspec": {
   "display_name": "dlab",
   "language": "python",
   "name": "dlab"
  },
  "language_info": {
   "codemirror_mode": {
    "name": "ipython",
    "version": 3
   },
   "file_extension": ".py",
   "mimetype": "text/x-python",
   "name": "python",
   "nbconvert_exporter": "python",
   "pygments_lexer": "ipython3",
   "version": "3.10.13"
  }
 },
 "nbformat": 4,
 "nbformat_minor": 4
}
